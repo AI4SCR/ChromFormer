{
 "cells": [
  {
   "cell_type": "code",
   "execution_count": 188,
   "id": "35d5a177",
   "metadata": {
    "ExecuteTime": {
     "end_time": "2021-09-08T10:18:32.047958Z",
     "start_time": "2021-09-08T10:18:31.301013Z"
    }
   },
   "outputs": [],
   "source": [
    "# File processing \n",
    "import os\n",
    "\n",
    "# Data processing \n",
    "import numpy as np\n",
    "from numpy import linalg as LAnumpy\n",
    "\n",
    "# Data display \n",
    "import matplotlib\n",
    "import matplotlib.pyplot as plt\n",
    "import plotly.graph_objects as go\n",
    "from plotly.subplots import make_subplots\n",
    "from matplotlib.legend_handler import HandlerLine2D"
   ]
  },
  {
   "cell_type": "markdown",
   "id": "9304ed09",
   "metadata": {},
   "source": [
    "# Constants"
   ]
  },
  {
   "cell_type": "code",
   "execution_count": 189,
   "id": "caabcc9f",
   "metadata": {
    "ExecuteTime": {
     "end_time": "2021-09-08T10:18:32.052440Z",
     "start_time": "2021-09-08T10:18:32.050218Z"
    }
   },
   "outputs": [],
   "source": [
    "EMBEDDING_SIZE = 3\n",
    "TRUSSART_STRUCTURES_PATH = '../../../data/trussart/structure_matrices/'"
   ]
  },
  {
   "cell_type": "markdown",
   "id": "3812c507",
   "metadata": {},
   "source": [
    "# Seeds"
   ]
  },
  {
   "cell_type": "code",
   "execution_count": null,
   "id": "2ca0e2e9",
   "metadata": {},
   "outputs": [],
   "source": []
  },
  {
   "cell_type": "markdown",
   "id": "24814ee2",
   "metadata": {},
   "source": [
    "# Structure analysis functions"
   ]
  },
  {
   "cell_type": "code",
   "execution_count": 12,
   "id": "30307ac3",
   "metadata": {
    "ExecuteTime": {
     "end_time": "2021-09-08T10:18:32.058561Z",
     "start_time": "2021-09-08T10:18:32.055779Z"
    }
   },
   "outputs": [],
   "source": [
    "def centralize_numpy(z):\n",
    "    return z - np.mean(z, axis=0)"
   ]
  },
  {
   "cell_type": "code",
   "execution_count": 13,
   "id": "6688fb4f",
   "metadata": {
    "ExecuteTime": {
     "end_time": "2021-09-08T10:18:32.063988Z",
     "start_time": "2021-09-08T10:18:32.060986Z"
    }
   },
   "outputs": [],
   "source": [
    "def normalize_numpy(z):\n",
    "    \n",
    "    norm = LAnumpy.norm(z, 2, axis=1)\n",
    "    max_norm = np.max(norm, axis=0)\n",
    "    if max_norm == 0:\n",
    "        max_norm = 1\n",
    "    \n",
    "    return z / max_norm"
   ]
  },
  {
   "cell_type": "code",
   "execution_count": 14,
   "id": "87f22cfe",
   "metadata": {
    "ExecuteTime": {
     "end_time": "2021-09-08T10:18:32.068248Z",
     "start_time": "2021-09-08T10:18:32.065988Z"
    }
   },
   "outputs": [],
   "source": [
    "def centralize_and_normalize_numpy(z):\n",
    "    \n",
    "    # Translate\n",
    "    z = centralize_numpy(z)\n",
    "    \n",
    "    # Scale\n",
    "    z = normalize_numpy(z)\n",
    "    \n",
    "    return z"
   ]
  },
  {
   "cell_type": "code",
   "execution_count": 15,
   "id": "e885c245",
   "metadata": {
    "ExecuteTime": {
     "end_time": "2021-09-08T10:18:32.074602Z",
     "start_time": "2021-09-08T10:18:32.070402Z"
    }
   },
   "outputs": [],
   "source": [
    "def kabsch_superimposition_numpy(pred_structure, true_structure):\n",
    "    \n",
    "    # Centralize and normalize to unit ball\n",
    "    pred_structure_unit_ball = centralize_and_normalize_numpy(pred_structure)\n",
    "    true_structure_unit_ball = centralize_and_normalize_numpy(true_structure)\n",
    "    \n",
    "    # Rotation (solution for the constrained orthogonal Procrustes problem, subject to det(R) = 1)\n",
    "    m = np.matmul(np.transpose(true_structure_unit_ball), pred_structure_unit_ball)\n",
    "    u, s, vh = np.linalg.svd(m)\n",
    "    \n",
    "    d = np.sign(np.linalg.det(np.matmul(u, vh)))\n",
    "    a = np.eye(EMBEDDING_SIZE)\n",
    "    a[-1,-1] = d\n",
    "    \n",
    "    r = np.matmul(np.matmul(u, a), vh)\n",
    "    \n",
    "    pred_structure_unit_ball = np.transpose(np.matmul(r, np.transpose(pred_structure_unit_ball)))\n",
    "    \n",
    "    return pred_structure_unit_ball, true_structure_unit_ball"
   ]
  },
  {
   "cell_type": "code",
   "execution_count": 135,
   "id": "18470850",
   "metadata": {
    "ExecuteTime": {
     "end_time": "2021-09-08T10:18:32.079097Z",
     "start_time": "2021-09-08T10:18:32.076608Z"
    }
   },
   "outputs": [],
   "source": [
    "def kabsch_distance_numpy(pred_structure, true_structure):\n",
    "    \n",
    "    pred_structure_unit_ball, true_structure_unit_ball = kabsch_superimposition_numpy(pred_structure, true_structure)\n",
    "    \n",
    "    # Structure comparison\n",
    "    #d = np.mean(np.sum(np.square(pred_structure_unit_ball - true_structure_unit_ball), axis=1))\n",
    "    d = np.mean(np.square(pred_structure_unit_ball - true_structure_unit_ball))\n",
    "\n",
    "    return d"
   ]
  },
  {
   "cell_type": "markdown",
   "id": "9818157a",
   "metadata": {},
   "source": [
    "# Load Trussart losse results"
   ]
  },
  {
   "cell_type": "markdown",
   "id": "b507f4c9",
   "metadata": {},
   "source": [
    "# Minimds"
   ]
  },
  {
   "cell_type": "code",
   "execution_count": 339,
   "id": "a1e6422d",
   "metadata": {
    "ExecuteTime": {
     "end_time": "2021-09-08T10:18:32.094737Z",
     "start_time": "2021-09-08T10:18:32.082167Z"
    }
   },
   "outputs": [],
   "source": [
    "minimds_structure_50 = np.loadtxt('../../previous_work/minimds/data/trussart/trussart_structure_formatted/trussart_structure_formatted_50.txt')\n",
    "minimds_structure_100 = np.loadtxt('../../previous_work/minimds/data/trussart/trussart_structure_formatted/trussart_structure_formatted_100.txt')\n",
    "minimds_structure_150 = np.loadtxt('../../previous_work/minimds/data/trussart/trussart_structure_formatted/trussart_structure_formatted_150.txt')\n",
    "minimds_structure_200 = np.loadtxt('../../previous_work/minimds/data/trussart/trussart_structure_formatted/trussart_structure_formatted_200.txt')"
   ]
  },
  {
   "cell_type": "markdown",
   "id": "ee0ab782",
   "metadata": {},
   "source": [
    "Trussart structure matrices (to compute the Minimds losses):"
   ]
  },
  {
   "cell_type": "code",
   "execution_count": 309,
   "id": "85bebb2a",
   "metadata": {
    "ExecuteTime": {
     "end_time": "2021-09-08T10:18:32.264325Z",
     "start_time": "2021-09-08T10:18:32.096818Z"
    }
   },
   "outputs": [],
   "source": [
    "trussart_structures = []\n",
    "\n",
    "file_list = os.listdir(TRUSSART_STRUCTURES_PATH)\n",
    "file_list = filter(lambda f: f.endswith('.xyz'), file_list)\n",
    "\n",
    "for file_name in file_list:\n",
    "    current_trussart_structure = np.loadtxt(TRUSSART_STRUCTURES_PATH + file_name, dtype='f', delimiter='\\t')\n",
    "    current_trussart_structure = current_trussart_structure[:,1:]\n",
    "    current_trussart_structure = centralize_and_normalize_numpy(current_trussart_structure)\n",
    "    trussart_structures.append(current_trussart_structure)\n",
    "    \n",
    "trussart_structures = np.asarray(trussart_structures)"
   ]
  },
  {
   "cell_type": "markdown",
   "id": "b0a8f8e0",
   "metadata": {},
   "source": [
    "Now compute the Minimds losses:"
   ]
  },
  {
   "cell_type": "code",
   "execution_count": 310,
   "id": "826bf417",
   "metadata": {
    "ExecuteTime": {
     "end_time": "2021-09-08T10:18:32.267813Z",
     "start_time": "2021-09-08T10:18:32.265602Z"
    }
   },
   "outputs": [],
   "source": [
    "def compute_trussart_loss(structure):\n",
    "    kabsch_distances = []\n",
    "    for true_structure in trussart_structures:\n",
    "        kabsch_distances.append(kabsch_distance_numpy(structure, true_structure))\n",
    "\n",
    "    return np.mean(kabsch_distances)"
   ]
  },
  {
   "cell_type": "code",
   "execution_count": 340,
   "id": "7a2e6c28",
   "metadata": {
    "ExecuteTime": {
     "end_time": "2021-09-08T10:18:32.343166Z",
     "start_time": "2021-09-08T10:18:32.269543Z"
    }
   },
   "outputs": [],
   "source": [
    "minimds_50 = compute_trussart_loss(minimds_structure_50)\n",
    "minimds_100 = compute_trussart_loss(minimds_structure_100)\n",
    "minimds_150 = compute_trussart_loss(minimds_structure_150)\n",
    "minimds_200 = compute_trussart_loss(minimds_structure_200)"
   ]
  },
  {
   "cell_type": "code",
   "execution_count": 341,
   "id": "b6f6870a",
   "metadata": {},
   "outputs": [
    {
     "name": "stdout",
     "output_type": "stream",
     "text": [
      "0.14338146542456057\n"
     ]
    }
   ],
   "source": [
    "print(minimds_150)"
   ]
  },
  {
   "cell_type": "markdown",
   "id": "18d8d179",
   "metadata": {},
   "source": [
    "# GEM"
   ]
  },
  {
   "cell_type": "code",
   "execution_count": 301,
   "id": "455994eb",
   "metadata": {
    "ExecuteTime": {
     "end_time": "2021-09-08T10:18:32.356970Z",
     "start_time": "2021-09-08T10:18:32.344827Z"
    }
   },
   "outputs": [],
   "source": [
    "gem_structure_50 = np.loadtxt('../../previous_work/gem/data/trussart/trussart_structure_formatted/trussart_structure_formatted_50.txt')\n",
    "gem_structure_100 = np.loadtxt('../../previous_work/gem/data/trussart/trussart_structure_formatted/trussart_structure_formatted_100.txt')\n",
    "gem_structure_150 = np.loadtxt('../../previous_work/gem/data/trussart/trussart_structure_formatted/trussart_structure_formatted_150.txt')\n",
    "gem_structure_200 = np.loadtxt('../../previous_work/gem/data/trussart/trussart_structure_formatted/trussart_structure_formatted_200.txt')"
   ]
  },
  {
   "cell_type": "markdown",
   "id": "3f47ac26",
   "metadata": {},
   "source": [
    "Compute the GEM losses:"
   ]
  },
  {
   "cell_type": "code",
   "execution_count": 302,
   "id": "f0b8d9b9",
   "metadata": {
    "ExecuteTime": {
     "end_time": "2021-09-08T10:18:32.428684Z",
     "start_time": "2021-09-08T10:18:32.358294Z"
    }
   },
   "outputs": [],
   "source": [
    "gem_50 = compute_trussart_loss(gem_structure_50)\n",
    "gem_100 = compute_trussart_loss(gem_structure_100)\n",
    "gem_150 = compute_trussart_loss(gem_structure_150)\n",
    "gem_200 = compute_trussart_loss(gem_structure_200)"
   ]
  },
  {
   "cell_type": "code",
   "execution_count": 303,
   "id": "96f3990e",
   "metadata": {},
   "outputs": [
    {
     "name": "stdout",
     "output_type": "stream",
     "text": [
      "0.13863260234965005\n"
     ]
    }
   ],
   "source": [
    "print(gem_100)"
   ]
  },
  {
   "cell_type": "markdown",
   "id": "981b8c1d",
   "metadata": {},
   "source": [
    "## REACH-3D"
   ]
  },
  {
   "cell_type": "code",
   "execution_count": 31,
   "id": "c9d1ca41",
   "metadata": {
    "ExecuteTime": {
     "end_time": "2021-09-08T10:18:32.447498Z",
     "start_time": "2021-09-08T10:18:32.430539Z"
    }
   },
   "outputs": [],
   "source": [
    "reach3d_50 = np.loadtxt('experiment_results/reach3d/reach3d_trussart_test_structure_losses_all_epochs_50.txt')\n",
    "reach3d_100 = np.loadtxt('experiment_results/reach3d/reach3d_trussart_test_structure_losses_all_epochs_100.txt')\n",
    "reach3d_150 = np.loadtxt('experiment_results/reach3d/reach3d_trussart_test_structure_losses_all_epochs_150.txt')\n",
    "reach3d_200 = np.loadtxt('experiment_results/reach3d/reach3d_trussart_test_structure_losses_all_epochs_200.txt')"
   ]
  },
  {
   "cell_type": "code",
   "execution_count": 36,
   "id": "e583058a",
   "metadata": {},
   "outputs": [
    {
     "name": "stdout",
     "output_type": "stream",
     "text": [
      "0.14265859225015803\n"
     ]
    }
   ],
   "source": [
    "print(np.min(reach3d_150))"
   ]
  },
  {
   "cell_type": "code",
   "execution_count": 98,
   "id": "920188e7",
   "metadata": {},
   "outputs": [],
   "source": [
    "reach_structure_50 = np.loadtxt('experiment_results/reach3d/reach3d_trussart_output_structure_50.txt')\n",
    "reach_structure_100 = np.loadtxt('experiment_results/reach3d/reach3d_trussart_output_structure_100.txt')\n",
    "reach_structure_150 = np.loadtxt('experiment_results/reach3d/reach3d_trussart_output_structure_150.txt')\n",
    "reach_structure_200 = np.loadtxt('experiment_results/reach3d/reach3d_trussart_output_structure_200.txt')"
   ]
  },
  {
   "cell_type": "markdown",
   "id": "00ae0124",
   "metadata": {},
   "source": [
    "## tREACH-3D"
   ]
  },
  {
   "cell_type": "markdown",
   "id": "848de04a",
   "metadata": {},
   "source": [
    "### Synthetic Random"
   ]
  },
  {
   "cell_type": "markdown",
   "id": "4405f6c5",
   "metadata": {},
   "source": [
    "#### Linear"
   ]
  },
  {
   "cell_type": "code",
   "execution_count": 37,
   "id": "05b648dd",
   "metadata": {
    "ExecuteTime": {
     "end_time": "2021-09-08T10:18:32.456062Z",
     "start_time": "2021-09-08T10:18:32.449434Z"
    }
   },
   "outputs": [],
   "source": [
    "linear_50 = np.loadtxt('experiment_results/linear/non_ae_synthetic_random_linear_trussart_test_kabsch_losses_all_epochs_50_0.1.txt')\n",
    "linear_100 = np.loadtxt('experiment_results/linear/non_ae_synthetic_random_linear_trussart_test_kabsch_losses_all_epochs_100_0.1.txt')\n",
    "linear_150 = np.loadtxt('experiment_results/linear/non_ae_synthetic_random_linear_trussart_test_kabsch_losses_all_epochs_150_0.1.txt')\n",
    "linear_200 = np.loadtxt('experiment_results/linear/non_ae_synthetic_random_linear_trussart_test_kabsch_losses_all_epochs_200_0.1.txt')"
   ]
  },
  {
   "cell_type": "code",
   "execution_count": 38,
   "id": "8402c67e",
   "metadata": {
    "ExecuteTime": {
     "end_time": "2021-09-08T10:18:32.468264Z",
     "start_time": "2021-09-08T10:18:32.457352Z"
    }
   },
   "outputs": [],
   "source": [
    "linear_structure_50 = np.loadtxt('experiment_results/linear/non_ae_synthetic_random_linear_trussart_test_structure_50_special.txt')\n",
    "linear_structure_100 = np.loadtxt('experiment_results/linear/non_ae_synthetic_random_linear_trussart_test_structure_100_special.txt')\n",
    "linear_structure_150 = np.loadtxt('experiment_results/linear/non_ae_synthetic_random_linear_trussart_test_structure_150_special.txt')\n",
    "linear_structure_200 = np.loadtxt('experiment_results/linear/non_ae_synthetic_random_linear_trussart_test_structure_200_special.txt')"
   ]
  },
  {
   "cell_type": "code",
   "execution_count": 99,
   "id": "1ac64219",
   "metadata": {},
   "outputs": [
    {
     "name": "stdout",
     "output_type": "stream",
     "text": [
      "0.06601090145596014\n"
     ]
    }
   ],
   "source": [
    "print(np.min(linear_150))"
   ]
  },
  {
   "cell_type": "markdown",
   "id": "64f44425",
   "metadata": {},
   "source": [
    "#### Bi-LSTM"
   ]
  },
  {
   "cell_type": "code",
   "execution_count": 17,
   "id": "74cb8084",
   "metadata": {
    "ExecuteTime": {
     "end_time": "2021-09-08T10:18:32.471558Z",
     "start_time": "2021-09-08T10:18:32.469849Z"
    }
   },
   "outputs": [],
   "source": [
    "# bi_lstm_50 = np.loadtxt('experiment_results/bi_lstm/non_ae_synthetic_random_bi_lstm_trussart_test_kabsch_losses_all_epochs_50_0.1.txt')\n",
    "# bi_lstm_100 = np.loadtxt('experiment_results/bi_lstm/non_ae_synthetic_random_bi_lstm_trussart_test_kabsch_losses_all_epochs_100_0.1.txt')\n",
    "# bi_lstm_150 = np.loadtxt('experiment_results/bi_lstm/non_ae_synthetic_random_bi_lstm_trussart_test_kabsch_losses_all_epochs_150_0.1.txt')\n",
    "# bi_lstm_200 = np.loadtxt('experiment_results/bi_lstm/non_ae_synthetic_random_bi_lstm_trussart_test_kabsch_losses_all_epochs_200_0.1.txt')"
   ]
  },
  {
   "cell_type": "markdown",
   "id": "cbf57183",
   "metadata": {},
   "source": [
    "# Display Structure"
   ]
  },
  {
   "cell_type": "code",
   "execution_count": 142,
   "id": "75950f63",
   "metadata": {
    "ExecuteTime": {
     "end_time": "2021-09-08T10:18:32.475429Z",
     "start_time": "2021-09-08T10:18:32.473061Z"
    }
   },
   "outputs": [],
   "source": [
    "perfect_structure = np.mean(trussart_structures, axis=0)"
   ]
  },
  {
   "cell_type": "code",
   "execution_count": 342,
   "id": "019bf39a",
   "metadata": {
    "ExecuteTime": {
     "end_time": "2021-09-08T10:18:32.479683Z",
     "start_time": "2021-09-08T10:18:32.477191Z"
    }
   },
   "outputs": [],
   "source": [
    "display_structure, _ = kabsch_superimposition_numpy(minimds_structure_200, perfect_structure)"
   ]
  },
  {
   "cell_type": "code",
   "execution_count": 343,
   "id": "12fe7664",
   "metadata": {
    "ExecuteTime": {
     "end_time": "2021-09-08T10:43:14.482907Z",
     "start_time": "2021-09-08T10:43:14.479897Z"
    }
   },
   "outputs": [],
   "source": [
    "#display_structure = trussart_structures[99]"
   ]
  },
  {
   "cell_type": "code",
   "execution_count": 344,
   "id": "32007799",
   "metadata": {
    "ExecuteTime": {
     "end_time": "2021-09-08T10:43:16.043345Z",
     "start_time": "2021-09-08T10:43:16.013312Z"
    }
   },
   "outputs": [
    {
     "data": {
      "application/vnd.plotly.v1+json": {
       "config": {
        "plotlyServerURL": "https://plot.ly"
       },
       "data": [
        {
         "line": {
          "color": "darkblue",
          "width": 2
         },
         "marker": {
          "color": [
           0,
           1,
           2,
           3,
           4,
           5,
           6,
           7,
           8,
           9,
           10,
           11,
           12,
           13,
           14,
           15,
           16,
           17,
           18,
           19,
           20,
           21,
           22,
           23,
           24,
           25,
           26,
           27,
           28,
           29,
           30,
           31,
           32,
           33,
           34,
           35,
           36,
           37,
           38,
           39,
           40,
           41,
           42,
           43,
           44,
           45,
           46,
           47,
           48,
           49,
           50,
           51,
           52,
           53,
           54,
           55,
           56,
           57,
           58,
           59,
           60,
           61,
           62,
           63,
           64,
           65,
           66,
           67,
           68,
           69,
           70,
           71,
           72,
           73,
           74,
           75,
           76,
           77,
           78,
           79,
           80,
           81,
           82,
           83,
           84,
           85,
           86,
           87,
           88,
           89,
           90,
           91,
           92,
           93,
           94,
           95,
           96,
           97,
           98,
           99,
           100,
           101,
           102,
           103,
           104,
           105,
           106,
           107,
           108,
           109,
           110,
           111,
           112,
           113,
           114,
           115,
           116,
           117,
           118,
           119,
           120,
           121,
           122,
           123,
           124,
           125,
           126,
           127,
           128,
           129,
           130,
           131,
           132,
           133,
           134,
           135,
           136,
           137,
           138,
           139,
           140,
           141,
           142,
           143,
           144,
           145,
           146,
           147,
           148,
           149,
           150,
           151,
           152,
           153,
           154,
           155,
           156,
           157,
           158,
           159,
           160,
           161,
           162,
           163,
           164,
           165,
           166,
           167,
           168,
           169,
           170,
           171,
           172,
           173,
           174,
           175,
           176,
           177,
           178,
           179,
           180,
           181,
           182,
           183,
           184,
           185,
           186,
           187,
           188,
           189,
           190,
           191,
           192,
           193,
           194,
           195,
           196,
           197,
           198,
           199,
           200,
           201
          ],
          "colorscale": [
           [
            0,
            "#440154"
           ],
           [
            0.1111111111111111,
            "#482878"
           ],
           [
            0.2222222222222222,
            "#3e4989"
           ],
           [
            0.3333333333333333,
            "#31688e"
           ],
           [
            0.4444444444444444,
            "#26828e"
           ],
           [
            0.5555555555555556,
            "#1f9e89"
           ],
           [
            0.6666666666666666,
            "#35b779"
           ],
           [
            0.7777777777777778,
            "#6ece58"
           ],
           [
            0.8888888888888888,
            "#b5de2b"
           ],
           [
            1,
            "#fde725"
           ]
          ],
          "line": {
           "width": 3
          },
          "size": 6
         },
         "opacity": 0.7,
         "scene": "scene",
         "type": "scatter3d",
         "x": [
          -0.223151331428791,
          -0.09894143882931201,
          0.022733018608815752,
          0.14606801579862377,
          0.2469146097319581,
          0.2936839892393071,
          0.30750838019318455,
          0.3500782173373797,
          0.3488454481856049,
          0.3131748434945544,
          0.22852277444778674,
          0.14994447584784276,
          0.08949066831318862,
          0.032961223686009324,
          -0.020926194577185843,
          -0.046007883595083704,
          -0.021298165197098932,
          0.07544159646125731,
          0.1435989135776376,
          0.19196048386078218,
          0.2711487481873206,
          0.34737119810949424,
          0.3488770109306559,
          0.3929820165358527,
          0.45380439806304307,
          0.5107163169763689,
          0.5642256424640285,
          0.6417282658944746,
          0.6981499360496031,
          0.752030679614219,
          0.7747713688175861,
          0.7268292915265253,
          0.64540972312132,
          0.5691248459546349,
          0.4803442488634924,
          0.4342387783746161,
          0.42109737080514703,
          0.4160154375650849,
          0.3609799351908926,
          0.24935262700324784,
          0.17295125737741696,
          0.05393567910412294,
          -0.019709730672014224,
          -0.0916248784178791,
          -0.10458869832221482,
          -0.10449623010120994,
          -0.15529613377478052,
          -0.22562276942266885,
          -0.31176435663189184,
          -0.4272176344792075,
          -0.5381968657200265,
          -0.6039377299256267,
          -0.5881953995121926,
          -0.5013709374579893,
          -0.47771708548234787,
          -0.47243261674321063,
          -0.48844704213778484,
          -0.4899017443119158,
          -0.5010849991262359,
          -0.5308731938954955,
          -0.5244934128528825,
          -0.5513917429158566,
          -0.6138400926560921,
          -0.6205948027075263,
          -0.6643438105883795,
          -0.7026528064643324,
          -0.7308999058495277,
          -0.7102085414657533,
          -0.6740903067639961,
          -0.6430421310502825,
          -0.5994421578520372,
          -0.5380882926925362,
          -0.46038260849610163,
          -0.36256793884974897,
          -0.2788821771222389,
          -0.21753923157835606,
          -0.24165428111520199,
          -0.24140444840950223,
          -0.30981862749091715,
          -0.384784344456292,
          -0.44998617283870135,
          -0.4756948581512834,
          -0.4426469707112303,
          -0.41512209913230935,
          -0.3707799445486174,
          -0.3548308002775599,
          -0.34282997149233635,
          -0.2965244156893445,
          -0.2138723292640635,
          -0.11020558142512428,
          0.0033359257195208114,
          0.1090854022877232,
          0.23374523488486984,
          0.3134996647752325,
          0.3260588098480102,
          0.42409521921506477,
          0.5430833318086722,
          0.5896952662605104,
          0.605685651963967,
          0.6129149218014552,
          0.5245562318199966,
          0.4173812852693708,
          0.2922684506804707,
          0.22954363229616676,
          0.18900267384830896,
          0.17357197930515264,
          0.19519303232547033,
          0.150963375340101,
          0.08195790431973746,
          -0.011831927787277777,
          -0.11473855412169554,
          -0.18548393148703893,
          -0.18611012070157595,
          -0.1232953989889313,
          -0.008486738565014156,
          0.13146317681199446,
          0.23656860052810583,
          0.37131293153637246,
          0.4272844117114007,
          0.5416292902425165,
          0.5576598878292538,
          0.6360379317330038,
          0.6876106329300118,
          0.6748851448513178,
          0.6290699797908598,
          0.5944767693136355,
          0.5563019100668359,
          0.4360994806274029,
          0.3315624048678189,
          0.1501946794911096,
          -0.004021729494670416,
          -0.08946147770472934,
          -0.10812811398309038,
          -0.034254056451815944,
          0.08214615816261213,
          0.15158623603930382,
          0.21283784493514488,
          0.32873885399016767,
          0.4125632890002911,
          0.4164055828947702,
          0.44696923292377094,
          0.38457727298718897,
          0.24942594482100613,
          0.25689533150656896,
          0.38721755067516495,
          0.3890363825284931,
          0.357539189380721,
          0.26570870579311967,
          0.1718155586534658,
          0.0731520856832275,
          0.010216393620209714,
          0.002117398218150242,
          0.08761338392171793,
          0.17007358428536593,
          0.3061779904618165,
          0.4043441860047824,
          0.4974941584978891,
          0.5688191771776643,
          0.5688571460010773,
          0.5190079524294338,
          0.43711147298864717,
          0.33308630927873284,
          0.2849217512755988,
          0.20923891143828593,
          0.12085381291909361,
          0.029520104214168123,
          -0.06425457926784835,
          -0.16967182386766072,
          -0.2576062595272592,
          -0.3342651247139625,
          -0.4062571413172132,
          -0.4623106643700556,
          -0.4688456034008736,
          -0.4091905167574114,
          -0.41640434336285126,
          -0.4112579952484859,
          -0.36668290408257903,
          -0.2802219175985517,
          -0.1876722442121237,
          -0.1394997650969637,
          -0.08900412958171885,
          -0.11925510458412003,
          -0.17752316974420562,
          -0.2963098778260771,
          -0.38051107712743987,
          -0.48995558822529617,
          -0.4618441338882496,
          -0.5767156311455105,
          -0.6033796350937677,
          -0.6732942271292812,
          -0.6069605132840996,
          -0.5260919348481321,
          -0.4370267126014526,
          -0.5138857977135595,
          -0.5522937167080408,
          -0.4815677968389269,
          -0.4299537236302378,
          -0.4726257846989255,
          -0.4697050493626361,
          -0.43838179104047287,
          -0.3976832302477239,
          -0.32153619202232026
         ],
         "y": [
          0.14730953006686875,
          0.10986004039522651,
          0.17101846009697128,
          0.2272792136020143,
          0.22435916275127987,
          0.18690505769724414,
          0.14167248606237434,
          0.06957621461229739,
          -0.011284053485382736,
          -0.1048693178511377,
          -0.21884110363566522,
          -0.3022624108603268,
          -0.3429856947702909,
          -0.38442305455958536,
          -0.3905684573550827,
          -0.43051640738666763,
          -0.4813367930513014,
          -0.5299505838648355,
          -0.5047480538134251,
          -0.4685776345336699,
          -0.46365819311230155,
          -0.44896938248671664,
          -0.4422546935812373,
          -0.31059658644642674,
          -0.1839136777468278,
          -0.07433798780053037,
          -0.0009768815480092582,
          -0.010935152924103301,
          -0.07751209523059893,
          -0.17620554988040207,
          -0.2643699496062686,
          -0.3951155990218222,
          -0.4320181407892346,
          -0.4479402443111958,
          -0.4309811476368281,
          -0.3548281388204925,
          -0.29894827016651887,
          -0.320330555193472,
          -0.41947192829649305,
          -0.46235703541172624,
          -0.5294350277829752,
          -0.5701321203046409,
          -0.5748233490472956,
          -0.5248608732580314,
          -0.41749520073716995,
          -0.3070332984826245,
          -0.23405504877905423,
          -0.18254987513423393,
          -0.18387962026477878,
          -0.23318701118899457,
          -0.25169544914735476,
          -0.24474961364632025,
          -0.1506884155764217,
          -0.1541362891915436,
          -0.27474346763863944,
          -0.37909404859471324,
          -0.468808293129508,
          -0.5566130361709737,
          -0.6050244733605634,
          -0.6203415159990927,
          -0.6049109842244041,
          -0.4883040089217752,
          -0.37533816054110325,
          -0.28429279695538257,
          -0.19216459888853196,
          -0.11542384156589008,
          -0.04732327834102376,
          0.06441335787772076,
          0.09839155070296154,
          0.09176597746528584,
          0.06513523980679194,
          0.09701325486549575,
          0.05834000533539603,
          -0.021097644574621877,
          -0.14584123512217842,
          -0.2289184156937252,
          -0.3217123868151877,
          -0.44025855132049935,
          -0.4722131215400146,
          -0.4680189161422551,
          -0.3775370178655873,
          -0.28586933992726266,
          -0.2231724818922335,
          -0.175038988791989,
          -0.19605531996928266,
          -0.12532782311906235,
          -0.03624272363922821,
          0.04975560822530386,
          0.09789822884779459,
          0.04163732914549088,
          -0.004081882760299261,
          -0.08586203164829373,
          -0.10231512893018632,
          -0.17820803651431472,
          -0.3776267800101344,
          -0.41666126250625435,
          -0.3704633730950789,
          -0.28121231729271984,
          -0.15098280488040947,
          -0.04594885470746025,
          -0.01157191282889367,
          -0.06242201393099884,
          -0.13780295884665775,
          -0.28981925304886574,
          -0.43335009103445943,
          -0.5282391709867212,
          -0.6187438748224198,
          -0.655200072521568,
          -0.6277705349351659,
          -0.5794246027772536,
          -0.5388947896918777,
          -0.4463108094073052,
          -0.3292936675540512,
          -0.2691751985331123,
          -0.2643869050306034,
          -0.3259591293568908,
          -0.4289283769701867,
          -0.3874116594860533,
          -0.46364798914608996,
          -0.41323473971276703,
          -0.48220249367142926,
          -0.4326336458352809,
          -0.3344081265359961,
          -0.2229747854950782,
          -0.16900894840987327,
          -0.07578346988415885,
          -0.004977942184352171,
          -0.018316404594013094,
          0.029252444452607506,
          0.06406728857735865,
          0.09454853047018963,
          0.22585050554408695,
          0.2999132505240951,
          0.33194375636961954,
          0.32311986603849363,
          0.2715952454058966,
          0.18723705177081804,
          0.16892709711656992,
          0.19734499654654852,
          0.23724626086760572,
          0.19933812576561,
          0.21173438218080468,
          0.2786320905334757,
          0.3458695352133298,
          0.3761159841513389,
          0.4563782983157769,
          0.5380976432662946,
          0.6122095252807238,
          0.6791196226916878,
          0.6980559001113261,
          0.6586722845017041,
          0.5979451752344285,
          0.5820066983927162,
          0.5483424103847876,
          0.5442774879925796,
          0.5241110523183248,
          0.47692497767798175,
          0.4216876708923878,
          0.3899632174338213,
          0.44360677605018656,
          0.49878063490356767,
          0.5274604528735685,
          0.5347017517921093,
          0.5523903463644574,
          0.542724425784907,
          0.5702209984281361,
          0.589580418062273,
          0.5990819563431391,
          0.6567606594262333,
          0.74030231776678,
          0.8002299184550904,
          0.7901015789456765,
          0.7846190141719332,
          0.818008003858117,
          0.7923600548573583,
          0.7008975049971025,
          0.6271878257234748,
          0.589058929580322,
          0.5598389387735054,
          0.5468328013238613,
          0.536733777599229,
          0.4751783945049663,
          0.4236280371415251,
          0.45824620193106685,
          0.5172686102782634,
          0.569368964650265,
          0.5245148641172278,
          0.46632602833850095,
          0.3835010034127407,
          0.3028318389548071,
          0.23711993601537754,
          0.17307521843571358,
          0.16759785686631584,
          0.18079409892895545,
          0.23484900095260547,
          0.2923872516910587,
          0.37397184432036207,
          0.4100790259142951,
          0.4151415268753013,
          0.37700609988347916,
          0.29860969914130203,
          0.2439147960273537
         ],
         "z": [
          -0.06604102614178355,
          0.1035375451221298,
          0.18266896452938206,
          0.22090225395799173,
          0.2424546756357419,
          0.3232506410216094,
          0.4029188554272641,
          0.43434905396930623,
          0.48379790335443645,
          0.5014619839799003,
          0.44692629949309937,
          0.37737445433697614,
          0.30541863464907876,
          0.22112429354134844,
          0.08982055242070595,
          -0.011809241137740812,
          -0.11612394951798315,
          -0.10021555955987585,
          -0.020098610561153907,
          0.06306590203352867,
          0.10901262267380123,
          0.15533890877084178,
          0.25281269386321464,
          0.32459060655982586,
          0.3819859365848238,
          0.4343917782797616,
          0.4318508696926469,
          0.3513017115309346,
          0.2721846256210812,
          0.2159616663223615,
          0.18733882475688268,
          0.18219449169457969,
          0.21388444547200366,
          0.27161398486367133,
          0.3239825407512491,
          0.42929833743294216,
          0.5450591779688405,
          0.6088760460530379,
          0.6456446812218907,
          0.6400733096198838,
          0.6190365456644273,
          0.5954236313526836,
          0.5572942801802782,
          0.5273507773004198,
          0.547401202092851,
          0.545418192642133,
          0.5688532889525081,
          0.6079236417911362,
          0.6323682747114131,
          0.6359352279920572,
          0.570106038953768,
          0.4658784744168121,
          0.44066379444374576,
          0.4336749231146602,
          0.3952198848690374,
          0.4195241747647183,
          0.3848508340677922,
          0.32028240741574887,
          0.2073167394701884,
          0.10550370391854161,
          0.01859402115251389,
          0.02593413228185952,
          0.040634239269877886,
          0.12786760033884745,
          0.21000129545142568,
          0.24176166620014483,
          0.16803172288892365,
          0.1442537423731706,
          0.04778659198250653,
          -0.053338400644561884,
          -0.14772560058848414,
          -0.19729617255577978,
          -0.2026096405029641,
          -0.18171412932279676,
          -0.14222748003171545,
          -0.03733911238626904,
          0.03873442549624464,
          0.10958092569861415,
          0.04541073357270197,
          -0.04220685238508067,
          -0.13862989760096917,
          -0.20863004478166522,
          -0.281675246538167,
          -0.37487859656045,
          -0.4864313279440665,
          -0.5652050756319019,
          -0.6227401701007771,
          -0.6771927287266982,
          -0.7145038511885583,
          -0.7452428927910814,
          -0.7880256268865706,
          -0.7960069233492854,
          -0.8123066250059544,
          -0.8058482847461591,
          -0.799412388617822,
          -0.6979504875535849,
          -0.6252595483065136,
          -0.6041691385447171,
          -0.5694252475712773,
          -0.5108612541186076,
          -0.46990041802007065,
          -0.5135827316224657,
          -0.562735215753913,
          -0.5176515488226742,
          -0.44846524499560253,
          -0.3955820908825379,
          -0.35253288482612466,
          -0.4174060397610577,
          -0.5281048126681127,
          -0.6029045975165049,
          -0.6103805988806662,
          -0.6434180662990217,
          -0.6968774696631862,
          -0.7219006419185725,
          -0.7123236471649843,
          -0.6850839134250591,
          -0.6287622302817344,
          -0.542427806521685,
          -0.4123482450432907,
          -0.3323407838986446,
          -0.2681046819282109,
          -0.25073521872795373,
          -0.2851845598094772,
          -0.25799351030049167,
          -0.2028577067654579,
          -0.15548389108043664,
          -0.08817046671149792,
          -0.08548331638626624,
          -0.16695379212238898,
          -0.29796503216726583,
          -0.34072586699750446,
          -0.3647717276378657,
          -0.42653794517135096,
          -0.508051745024917,
          -0.5504313915131631,
          -0.617500668099765,
          -0.6872093582003801,
          -0.6911163277051409,
          -0.6244335921942229,
          -0.5237280808716093,
          -0.3963464767806312,
          -0.31698325026520036,
          -0.2856057366722254,
          -0.18527795055457152,
          -0.10036133739153283,
          -0.049758477514266444,
          0.007385380494383065,
          0.013094855072894283,
          -0.022398142769071993,
          -0.0769838451846454,
          -0.15976088656693052,
          -0.2672143155197387,
          -0.32089040206039143,
          -0.37222366809192564,
          -0.34514394341849314,
          -0.26008827386288635,
          -0.16038637178892098,
          -0.04373482043804427,
          0.055347529288835066,
          0.13363124120670844,
          0.19630983802628615,
          0.23751832998099065,
          0.3550274658112306,
          0.4242292317522027,
          0.4828959118915485,
          0.5063546506244314,
          0.5362471141079216,
          0.5888872876039059,
          0.5952088986404049,
          0.531373848246978,
          0.44112040616834314,
          0.33324003539244007,
          0.2299618188346655,
          0.15186598743692176,
          0.03593163240367014,
          -0.047262262947722726,
          -0.10964512658842475,
          -0.13768478898932715,
          -0.06705425411215844,
          0.04834384660452048,
          0.16774424539231442,
          0.2959105973472409,
          0.40964595430620365,
          0.4304962715989969,
          0.4585926123048837,
          0.4538281103153672,
          0.5998250330505744,
          0.5635904712218324,
          0.5696380836196359,
          0.5527812333271892,
          0.6325335586812416,
          0.6537384828934829,
          0.6267232297340675,
          0.45815788849088596,
          0.31844358282557805,
          0.2818130565476726,
          0.19258688191737067,
          0.02784205716945341,
          -0.09530081792209248,
          -0.18941744697185847,
          -0.2427216321626391,
          -0.18939984050580536
         ]
        }
       ],
       "layout": {
        "height": 1000,
        "scene": {
         "domain": {
          "x": [
           0,
           1
          ],
          "y": [
           0,
           1
          ]
         }
        },
        "template": {
         "data": {
          "bar": [
           {
            "error_x": {
             "color": "#2a3f5f"
            },
            "error_y": {
             "color": "#2a3f5f"
            },
            "marker": {
             "line": {
              "color": "#E5ECF6",
              "width": 0.5
             }
            },
            "type": "bar"
           }
          ],
          "barpolar": [
           {
            "marker": {
             "line": {
              "color": "#E5ECF6",
              "width": 0.5
             }
            },
            "type": "barpolar"
           }
          ],
          "carpet": [
           {
            "aaxis": {
             "endlinecolor": "#2a3f5f",
             "gridcolor": "white",
             "linecolor": "white",
             "minorgridcolor": "white",
             "startlinecolor": "#2a3f5f"
            },
            "baxis": {
             "endlinecolor": "#2a3f5f",
             "gridcolor": "white",
             "linecolor": "white",
             "minorgridcolor": "white",
             "startlinecolor": "#2a3f5f"
            },
            "type": "carpet"
           }
          ],
          "choropleth": [
           {
            "colorbar": {
             "outlinewidth": 0,
             "ticks": ""
            },
            "type": "choropleth"
           }
          ],
          "contour": [
           {
            "colorbar": {
             "outlinewidth": 0,
             "ticks": ""
            },
            "colorscale": [
             [
              0,
              "#0d0887"
             ],
             [
              0.1111111111111111,
              "#46039f"
             ],
             [
              0.2222222222222222,
              "#7201a8"
             ],
             [
              0.3333333333333333,
              "#9c179e"
             ],
             [
              0.4444444444444444,
              "#bd3786"
             ],
             [
              0.5555555555555556,
              "#d8576b"
             ],
             [
              0.6666666666666666,
              "#ed7953"
             ],
             [
              0.7777777777777778,
              "#fb9f3a"
             ],
             [
              0.8888888888888888,
              "#fdca26"
             ],
             [
              1,
              "#f0f921"
             ]
            ],
            "type": "contour"
           }
          ],
          "contourcarpet": [
           {
            "colorbar": {
             "outlinewidth": 0,
             "ticks": ""
            },
            "type": "contourcarpet"
           }
          ],
          "heatmap": [
           {
            "colorbar": {
             "outlinewidth": 0,
             "ticks": ""
            },
            "colorscale": [
             [
              0,
              "#0d0887"
             ],
             [
              0.1111111111111111,
              "#46039f"
             ],
             [
              0.2222222222222222,
              "#7201a8"
             ],
             [
              0.3333333333333333,
              "#9c179e"
             ],
             [
              0.4444444444444444,
              "#bd3786"
             ],
             [
              0.5555555555555556,
              "#d8576b"
             ],
             [
              0.6666666666666666,
              "#ed7953"
             ],
             [
              0.7777777777777778,
              "#fb9f3a"
             ],
             [
              0.8888888888888888,
              "#fdca26"
             ],
             [
              1,
              "#f0f921"
             ]
            ],
            "type": "heatmap"
           }
          ],
          "heatmapgl": [
           {
            "colorbar": {
             "outlinewidth": 0,
             "ticks": ""
            },
            "colorscale": [
             [
              0,
              "#0d0887"
             ],
             [
              0.1111111111111111,
              "#46039f"
             ],
             [
              0.2222222222222222,
              "#7201a8"
             ],
             [
              0.3333333333333333,
              "#9c179e"
             ],
             [
              0.4444444444444444,
              "#bd3786"
             ],
             [
              0.5555555555555556,
              "#d8576b"
             ],
             [
              0.6666666666666666,
              "#ed7953"
             ],
             [
              0.7777777777777778,
              "#fb9f3a"
             ],
             [
              0.8888888888888888,
              "#fdca26"
             ],
             [
              1,
              "#f0f921"
             ]
            ],
            "type": "heatmapgl"
           }
          ],
          "histogram": [
           {
            "marker": {
             "colorbar": {
              "outlinewidth": 0,
              "ticks": ""
             }
            },
            "type": "histogram"
           }
          ],
          "histogram2d": [
           {
            "colorbar": {
             "outlinewidth": 0,
             "ticks": ""
            },
            "colorscale": [
             [
              0,
              "#0d0887"
             ],
             [
              0.1111111111111111,
              "#46039f"
             ],
             [
              0.2222222222222222,
              "#7201a8"
             ],
             [
              0.3333333333333333,
              "#9c179e"
             ],
             [
              0.4444444444444444,
              "#bd3786"
             ],
             [
              0.5555555555555556,
              "#d8576b"
             ],
             [
              0.6666666666666666,
              "#ed7953"
             ],
             [
              0.7777777777777778,
              "#fb9f3a"
             ],
             [
              0.8888888888888888,
              "#fdca26"
             ],
             [
              1,
              "#f0f921"
             ]
            ],
            "type": "histogram2d"
           }
          ],
          "histogram2dcontour": [
           {
            "colorbar": {
             "outlinewidth": 0,
             "ticks": ""
            },
            "colorscale": [
             [
              0,
              "#0d0887"
             ],
             [
              0.1111111111111111,
              "#46039f"
             ],
             [
              0.2222222222222222,
              "#7201a8"
             ],
             [
              0.3333333333333333,
              "#9c179e"
             ],
             [
              0.4444444444444444,
              "#bd3786"
             ],
             [
              0.5555555555555556,
              "#d8576b"
             ],
             [
              0.6666666666666666,
              "#ed7953"
             ],
             [
              0.7777777777777778,
              "#fb9f3a"
             ],
             [
              0.8888888888888888,
              "#fdca26"
             ],
             [
              1,
              "#f0f921"
             ]
            ],
            "type": "histogram2dcontour"
           }
          ],
          "mesh3d": [
           {
            "colorbar": {
             "outlinewidth": 0,
             "ticks": ""
            },
            "type": "mesh3d"
           }
          ],
          "parcoords": [
           {
            "line": {
             "colorbar": {
              "outlinewidth": 0,
              "ticks": ""
             }
            },
            "type": "parcoords"
           }
          ],
          "pie": [
           {
            "automargin": true,
            "type": "pie"
           }
          ],
          "scatter": [
           {
            "marker": {
             "colorbar": {
              "outlinewidth": 0,
              "ticks": ""
             }
            },
            "type": "scatter"
           }
          ],
          "scatter3d": [
           {
            "line": {
             "colorbar": {
              "outlinewidth": 0,
              "ticks": ""
             }
            },
            "marker": {
             "colorbar": {
              "outlinewidth": 0,
              "ticks": ""
             }
            },
            "type": "scatter3d"
           }
          ],
          "scattercarpet": [
           {
            "marker": {
             "colorbar": {
              "outlinewidth": 0,
              "ticks": ""
             }
            },
            "type": "scattercarpet"
           }
          ],
          "scattergeo": [
           {
            "marker": {
             "colorbar": {
              "outlinewidth": 0,
              "ticks": ""
             }
            },
            "type": "scattergeo"
           }
          ],
          "scattergl": [
           {
            "marker": {
             "colorbar": {
              "outlinewidth": 0,
              "ticks": ""
             }
            },
            "type": "scattergl"
           }
          ],
          "scattermapbox": [
           {
            "marker": {
             "colorbar": {
              "outlinewidth": 0,
              "ticks": ""
             }
            },
            "type": "scattermapbox"
           }
          ],
          "scatterpolar": [
           {
            "marker": {
             "colorbar": {
              "outlinewidth": 0,
              "ticks": ""
             }
            },
            "type": "scatterpolar"
           }
          ],
          "scatterpolargl": [
           {
            "marker": {
             "colorbar": {
              "outlinewidth": 0,
              "ticks": ""
             }
            },
            "type": "scatterpolargl"
           }
          ],
          "scatterternary": [
           {
            "marker": {
             "colorbar": {
              "outlinewidth": 0,
              "ticks": ""
             }
            },
            "type": "scatterternary"
           }
          ],
          "surface": [
           {
            "colorbar": {
             "outlinewidth": 0,
             "ticks": ""
            },
            "colorscale": [
             [
              0,
              "#0d0887"
             ],
             [
              0.1111111111111111,
              "#46039f"
             ],
             [
              0.2222222222222222,
              "#7201a8"
             ],
             [
              0.3333333333333333,
              "#9c179e"
             ],
             [
              0.4444444444444444,
              "#bd3786"
             ],
             [
              0.5555555555555556,
              "#d8576b"
             ],
             [
              0.6666666666666666,
              "#ed7953"
             ],
             [
              0.7777777777777778,
              "#fb9f3a"
             ],
             [
              0.8888888888888888,
              "#fdca26"
             ],
             [
              1,
              "#f0f921"
             ]
            ],
            "type": "surface"
           }
          ],
          "table": [
           {
            "cells": {
             "fill": {
              "color": "#EBF0F8"
             },
             "line": {
              "color": "white"
             }
            },
            "header": {
             "fill": {
              "color": "#C8D4E3"
             },
             "line": {
              "color": "white"
             }
            },
            "type": "table"
           }
          ]
         },
         "layout": {
          "annotationdefaults": {
           "arrowcolor": "#2a3f5f",
           "arrowhead": 0,
           "arrowwidth": 1
          },
          "autotypenumbers": "strict",
          "coloraxis": {
           "colorbar": {
            "outlinewidth": 0,
            "ticks": ""
           }
          },
          "colorscale": {
           "diverging": [
            [
             0,
             "#8e0152"
            ],
            [
             0.1,
             "#c51b7d"
            ],
            [
             0.2,
             "#de77ae"
            ],
            [
             0.3,
             "#f1b6da"
            ],
            [
             0.4,
             "#fde0ef"
            ],
            [
             0.5,
             "#f7f7f7"
            ],
            [
             0.6,
             "#e6f5d0"
            ],
            [
             0.7,
             "#b8e186"
            ],
            [
             0.8,
             "#7fbc41"
            ],
            [
             0.9,
             "#4d9221"
            ],
            [
             1,
             "#276419"
            ]
           ],
           "sequential": [
            [
             0,
             "#0d0887"
            ],
            [
             0.1111111111111111,
             "#46039f"
            ],
            [
             0.2222222222222222,
             "#7201a8"
            ],
            [
             0.3333333333333333,
             "#9c179e"
            ],
            [
             0.4444444444444444,
             "#bd3786"
            ],
            [
             0.5555555555555556,
             "#d8576b"
            ],
            [
             0.6666666666666666,
             "#ed7953"
            ],
            [
             0.7777777777777778,
             "#fb9f3a"
            ],
            [
             0.8888888888888888,
             "#fdca26"
            ],
            [
             1,
             "#f0f921"
            ]
           ],
           "sequentialminus": [
            [
             0,
             "#0d0887"
            ],
            [
             0.1111111111111111,
             "#46039f"
            ],
            [
             0.2222222222222222,
             "#7201a8"
            ],
            [
             0.3333333333333333,
             "#9c179e"
            ],
            [
             0.4444444444444444,
             "#bd3786"
            ],
            [
             0.5555555555555556,
             "#d8576b"
            ],
            [
             0.6666666666666666,
             "#ed7953"
            ],
            [
             0.7777777777777778,
             "#fb9f3a"
            ],
            [
             0.8888888888888888,
             "#fdca26"
            ],
            [
             1,
             "#f0f921"
            ]
           ]
          },
          "colorway": [
           "#636efa",
           "#EF553B",
           "#00cc96",
           "#ab63fa",
           "#FFA15A",
           "#19d3f3",
           "#FF6692",
           "#B6E880",
           "#FF97FF",
           "#FECB52"
          ],
          "font": {
           "color": "#2a3f5f"
          },
          "geo": {
           "bgcolor": "white",
           "lakecolor": "white",
           "landcolor": "#E5ECF6",
           "showlakes": true,
           "showland": true,
           "subunitcolor": "white"
          },
          "hoverlabel": {
           "align": "left"
          },
          "hovermode": "closest",
          "mapbox": {
           "style": "light"
          },
          "paper_bgcolor": "white",
          "plot_bgcolor": "#E5ECF6",
          "polar": {
           "angularaxis": {
            "gridcolor": "white",
            "linecolor": "white",
            "ticks": ""
           },
           "bgcolor": "#E5ECF6",
           "radialaxis": {
            "gridcolor": "white",
            "linecolor": "white",
            "ticks": ""
           }
          },
          "scene": {
           "xaxis": {
            "backgroundcolor": "#E5ECF6",
            "gridcolor": "white",
            "gridwidth": 2,
            "linecolor": "white",
            "showbackground": true,
            "ticks": "",
            "zerolinecolor": "white"
           },
           "yaxis": {
            "backgroundcolor": "#E5ECF6",
            "gridcolor": "white",
            "gridwidth": 2,
            "linecolor": "white",
            "showbackground": true,
            "ticks": "",
            "zerolinecolor": "white"
           },
           "zaxis": {
            "backgroundcolor": "#E5ECF6",
            "gridcolor": "white",
            "gridwidth": 2,
            "linecolor": "white",
            "showbackground": true,
            "ticks": "",
            "zerolinecolor": "white"
           }
          },
          "shapedefaults": {
           "line": {
            "color": "#2a3f5f"
           }
          },
          "ternary": {
           "aaxis": {
            "gridcolor": "white",
            "linecolor": "white",
            "ticks": ""
           },
           "baxis": {
            "gridcolor": "white",
            "linecolor": "white",
            "ticks": ""
           },
           "bgcolor": "#E5ECF6",
           "caxis": {
            "gridcolor": "white",
            "linecolor": "white",
            "ticks": ""
           }
          },
          "title": {
           "x": 0.05
          },
          "xaxis": {
           "automargin": true,
           "gridcolor": "white",
           "linecolor": "white",
           "ticks": "",
           "title": {
            "standoff": 15
           },
           "zerolinecolor": "white",
           "zerolinewidth": 2
          },
          "yaxis": {
           "automargin": true,
           "gridcolor": "white",
           "linecolor": "white",
           "ticks": "",
           "title": {
            "standoff": 15
           },
           "zerolinecolor": "white",
           "zerolinewidth": 2
          }
         }
        },
        "width": 1000
       }
      }
     },
     "metadata": {},
     "output_type": "display_data"
    }
   ],
   "source": [
    "# Initialize figure with 3D subplots\n",
    "fig = make_subplots(\n",
    "    rows=1, cols=1,\n",
    "    specs=[[{'type': 'scatter3d'}]])\n",
    "\n",
    "# adding surfaces to subplots.\n",
    "fig.add_trace(\n",
    "    go.Scatter3d(\n",
    "    x=display_structure[:,0], y=display_structure[:,1], z=display_structure[:,2], opacity=0.7,\n",
    "    marker=dict(\n",
    "        size=6,\n",
    "        color=np.asarray(range(len(display_structure[:,0]))),\n",
    "        colorscale='Viridis',\n",
    "        line=dict(width=3)\n",
    "    ),\n",
    "    line=dict(\n",
    "        color='darkblue',\n",
    "        width=2\n",
    "    )\n",
    "), row=1, col=1)\n",
    "\n",
    "fig.update_layout(\n",
    "    height=1000,\n",
    "    width=1000\n",
    ")\n",
    "\n",
    "fig.show()"
   ]
  },
  {
   "cell_type": "code",
   "execution_count": 345,
   "id": "db240160",
   "metadata": {},
   "outputs": [
    {
     "data": {
      "text/plain": [
       "0.0039571855347284544"
      ]
     },
     "execution_count": 345,
     "metadata": {},
     "output_type": "execute_result"
    }
   ],
   "source": [
    "kabsch_distance_numpy(display_structure, _)"
   ]
  },
  {
   "cell_type": "code",
   "execution_count": 91,
   "id": "66613076",
   "metadata": {},
   "outputs": [
    {
     "data": {
      "text/plain": [
       "0.4317"
      ]
     },
     "execution_count": 91,
     "metadata": {},
     "output_type": "execute_result"
    }
   ],
   "source": [
    "0.1439*3"
   ]
  },
  {
   "cell_type": "markdown",
   "id": "b8d97610",
   "metadata": {},
   "source": [
    "# Plot"
   ]
  },
  {
   "cell_type": "code",
   "execution_count": 45,
   "id": "3786cda0",
   "metadata": {
    "ExecuteTime": {
     "end_time": "2021-09-08T10:18:33.061179Z",
     "start_time": "2021-09-08T10:18:32.800999Z"
    }
   },
   "outputs": [
    {
     "data": {
      "image/png": "[encoded data removed]",
      "text/plain": [
       "<Figure size 3000x1000 with 1 Axes>"
      ]
     },
     "metadata": {},
     "output_type": "display_data"
    },
    {
     "data": {
      "image/png": "[encoded data removed]",
      "text/plain": [
       "<Figure size 1000x500 with 1 Axes>"
      ]
     },
     "metadata": {},
     "output_type": "display_data"
    }
   ],
   "source": [
    "fig, axs = plt.subplots(1, 1, figsize=(30, 10))\n",
    "\n",
    "axs.plot(linear_50, label='linear 50')\n",
    "axs.plot(linear_100, label='linear 100')\n",
    "axs.plot(linear_150, label='linear 150')\n",
    "axs.plot(linear_200, label='linear 200')\n",
    "axs.set_ylim(0, 0.30)\n",
    "axs.legend()\n",
    "\n",
    "plt.show()\n",
    "\n",
    "fig, axs = plt.subplots(1, 1, figsize=(10, 5))\n",
    "\n",
    "axs.plot(reach3d_50, label='reach3d 50')\n",
    "axs.plot(reach3d_100, label='reach3d 100')\n",
    "axs.plot(reach3d_150, label='reach3d 150')\n",
    "axs.plot(reach3d_200, label='reach3d 200')\n",
    "axs.set_ylim(0, 0.50)\n",
    "axs.legend()\n",
    "\n",
    "plt.show()"
   ]
  },
  {
   "cell_type": "code",
   "execution_count": 47,
   "id": "339abf9f",
   "metadata": {
    "ExecuteTime": {
     "end_time": "2021-09-08T10:18:33.065090Z",
     "start_time": "2021-09-08T10:18:33.062613Z"
    }
   },
   "outputs": [],
   "source": [
    "# minimds = [minimds_50, minimds_100, minimds_150, minimds_200]\n",
    "# gem = [gem_50, gem_100, gem_150, gem_200]\n",
    "reach3d = [np.min(reach3d_50), np.min(reach3d_100), np.min(reach3d_150), np.min(reach3d_200)]\n",
    "treach3d_linear = [np.min(linear_50), np.min(linear_100), np.min(linear_150), np.min(linear_200)]\n",
    "# treach3d_bi_lstm = [np.min(bi_lstm_50), np.min(bi_lstm_100), np.min(bi_lstm_150), np.min(bi_lstm_200)]"
   ]
  },
  {
   "cell_type": "code",
   "execution_count": 48,
   "id": "770cf65b",
   "metadata": {
    "ExecuteTime": {
     "end_time": "2021-09-08T10:18:33.558549Z",
     "start_time": "2021-09-08T10:18:33.071584Z"
    }
   },
   "outputs": [
    {
     "data": {
      "image/png": "[encoded data removed]",
      "text/plain": [
       "<Figure size 2000x1000 with 1 Axes>"
      ]
     },
     "metadata": {},
     "output_type": "display_data"
    }
   ],
   "source": [
    "fig, axs = plt.subplots(1, 1, figsize=(20,10))\n",
    "x_axis = [1/50, 1/100, 1/150, 1/200]\n",
    "\n",
    "axs.scatter(x_axis, reach3d, label='REACH-3D', s=100, color='purple')\n",
    "axs.plot(x_axis, reach3d, linestyle='dashed', color='purple')\n",
    "axs.scatter(x_axis, treach3d_linear, label='TECH-3D', s=100, color='blue')\n",
    "axs.plot(x_axis, treach3d_linear, linestyle='dashed', color='blue')\n",
    "\n",
    "axs.set_xticks([1/50, 1/100, 1/150, 1/200])\n",
    "axs.set_xticklabels([r'$\\frac{1}{50}$', r'$\\frac{1}{100}$', r'$\\frac{1}{150}$', r'$\\frac{1}{200}$'])\n",
    "\n",
    "axs.tick_params(axis='both', which='major', labelsize=30, width=4)\n",
    "\n",
    "axs.set_title('Mean Kabsch distance versus \\n the noise level of the input HiC matrix', size=40)\n",
    "axs.set_xlabel(r'$\\frac{1}{\\alpha}$ noise value', fontsize = 35)\n",
    "axs.set_ylabel('Mean Kabsch distance', fontsize = 35)\n",
    "\n",
    "plt.legend(fontsize=35, loc=(0.70, 0.65))\n",
    "\n",
    "plt.savefig('mean_kabsch_distance_versus_noise_level_trussart.png')\n",
    "plt.show()"
   ]
  },
  {
   "cell_type": "code",
   "execution_count": null,
   "id": "8dea7d8d",
   "metadata": {},
   "outputs": [],
   "source": []
  }
 ],
 "metadata": {
  "kernelspec": {
   "display_name": "Python 3.8.9 ('3dChromenv': venv)",
   "language": "python",
   "name": "python3"
  },
  "language_info": {
   "codemirror_mode": {
    "name": "ipython",
    "version": 3
   },
   "file_extension": ".py",
   "mimetype": "text/x-python",
   "name": "python",
   "nbconvert_exporter": "python",
   "pygments_lexer": "ipython3",
   "version": "3.8.9"
  },
  "vscode": {
   "interpreter": {
    "hash": "8e29b1289806ba3b1e0a7887101d89831cef42814f60b4617646c178e24bc9ec"
   }
  }
 },
 "nbformat": 4,
 "nbformat_minor": 5
}
