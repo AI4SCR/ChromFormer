{
 "cells": [
  {
   "cell_type": "code",
   "execution_count": 93,
   "metadata": {},
   "outputs": [],
   "source": [
    "# File processing\n",
    "import os\n",
    "\n",
    "# Data processing\n",
    "import numpy as np\n",
    "from sklearn.preprocessing import MinMaxScaler\n",
    "\n",
    "# Machine Learning\n",
    "import random\n",
    "import torch\n",
    "import torch.nn.functional as F\n",
    "from torch import linalg as LAtorch\n",
    "from numpy import linalg as LAnumpy\n",
    "from scipy.spatial import distance_matrix\n",
    "\n",
    "# Data display \n",
    "import matplotlib\n",
    "import matplotlib.pyplot as plt\n",
    "import plotly.graph_objects as go\n",
    "from plotly.subplots import make_subplots\n",
    "from matplotlib.legend_handler import HandlerLine2D\n",
    "\n",
    "# Set device type\n",
    "device = torch.device('cpu')"
   ]
  },
  {
   "cell_type": "code",
   "execution_count": 108,
   "metadata": {},
   "outputs": [],
   "source": [
    "# Models constants\n",
    "SEED = 0\n",
    "EMBEDDING_SIZE = 3 # Euclidean 3D space\n",
    "\n",
    "# Trussart test set constants\n",
    "NB_BINS = 202\n",
    "TRUSSART_HIC_PATH = '../../data/trussart/hic_matrices/150_TADlike_alpha_150_set0.mat'\n",
    "TRUSSART_STRUCTURES_PATH = '../../data/trussart/structure_matrices/'\n",
    "NB_TRUSSART_STRUCTURES = 100\n",
    "\n",
    "# TREACH3D \n",
    "TREACH3D_LINEAR_STRUCTURE_PATH = 'experiment_results/linear/non_ae_synthetic_random_linear_trussart_test_structure_150_0.1.txt'\n",
    "\n",
    "# REACH3D\n",
    "REACH3D_STRUCTURE_PATH = '../previous_work/reach3d/reach3d_trussart_output_structure_150.txt'\n",
    "\n",
    "# GEM \n",
    "GEM_STRUCTURE_PATH = '../previous_work/gem/data/trussart/trussart_structure_formatted/trussart_structure_formatted_150.txt'\n",
    "\n",
    "# miniMDS\n",
    "MINIMDS_STRUCTURE_PATH = '../previous_work/minimds/data/trussart/trussart_structure_formatted/trussart_structure_formatted_150.txt'"
   ]
  },
  {
   "cell_type": "code",
   "execution_count": 109,
   "metadata": {},
   "outputs": [],
   "source": [
    "torch.manual_seed(SEED)\n",
    "random.seed(SEED)\n",
    "np.random.seed(SEED)"
   ]
  },
  {
   "cell_type": "code",
   "execution_count": 110,
   "metadata": {},
   "outputs": [],
   "source": [
    "trussart_hic = np.loadtxt(TRUSSART_HIC_PATH, dtype='f', delimiter='\\t')\n",
    "scaler = MinMaxScaler()\n",
    "trussart_hic = scaler.fit_transform(trussart_hic)"
   ]
  },
  {
   "cell_type": "code",
   "execution_count": 111,
   "metadata": {},
   "outputs": [],
   "source": [
    "trussart_structures = []\n",
    "\n",
    "file_list = os.listdir(TRUSSART_STRUCTURES_PATH)\n",
    "file_list = filter(lambda f: f.endswith('.xyz'), file_list)\n",
    "\n",
    "for file_name in file_list:\n",
    "    current_trussart_structure = np.loadtxt(TRUSSART_STRUCTURES_PATH + file_name, dtype='f', delimiter='\\t')\n",
    "    current_trussart_structure = current_trussart_structure[:,1:]\n",
    "    trussart_structures.append(current_trussart_structure)"
   ]
  },
  {
   "cell_type": "code",
   "execution_count": 112,
   "metadata": {},
   "outputs": [],
   "source": [
    "def centralize_torch(z):\n",
    "    return z - torch.repeat_interleave(torch.reshape(torch.mean(z, axis=1), (-1,1,EMBEDDING_SIZE)), NB_BINS, dim=1)"
   ]
  },
  {
   "cell_type": "code",
   "execution_count": 113,
   "metadata": {},
   "outputs": [],
   "source": [
    "def normalize_torch(z):\n",
    "    \n",
    "    norms = LAtorch.norm(z, 2, dim=2)\n",
    "    max_norms, _ = torch.max(norms, axis=1)\n",
    "    max_norms = torch.reshape(max_norms, (BATCH_SIZE,1,1))\n",
    "    max_norms = torch.repeat_interleave(max_norms, NB_BINS, dim=1)\n",
    "    max_norms = torch.repeat_interleave(max_norms, EMBEDDING_SIZE, dim=2)\n",
    "    max_norms[max_norms == 0] = 1\n",
    "    \n",
    "    return z / max_norms"
   ]
  },
  {
   "cell_type": "code",
   "execution_count": 114,
   "metadata": {},
   "outputs": [],
   "source": [
    "def centralize_and_normalize_torch(z):\n",
    "    \n",
    "    # Translate\n",
    "    z = centralize_torch(z)\n",
    "    \n",
    "    # Scale\n",
    "    z = normalize_torch(z)\n",
    "    \n",
    "    return z"
   ]
  },
  {
   "cell_type": "code",
   "execution_count": 115,
   "metadata": {},
   "outputs": [],
   "source": [
    "def centralize_numpy(z):\n",
    "    return z - np.mean(z, axis=0)"
   ]
  },
  {
   "cell_type": "code",
   "execution_count": 116,
   "metadata": {},
   "outputs": [],
   "source": [
    "def normalize_numpy(z):\n",
    "    \n",
    "    norm = LAnumpy.norm(z, 2, axis=1)\n",
    "    max_norm = np.max(norm, axis=0)\n",
    "    if max_norm == 0:\n",
    "        max_norm = 1\n",
    "    \n",
    "    return z / max_norm"
   ]
  },
  {
   "cell_type": "code",
   "execution_count": 117,
   "metadata": {},
   "outputs": [],
   "source": [
    "def centralize_and_normalize_numpy(z):\n",
    "    \n",
    "    # Translate\n",
    "    z = centralize_numpy(z)\n",
    "    \n",
    "    # Scale\n",
    "    z = normalize_numpy(z)\n",
    "    \n",
    "    return z"
   ]
  },
  {
   "cell_type": "code",
   "execution_count": 118,
   "metadata": {},
   "outputs": [],
   "source": [
    "def kabsch_superimposition_numpy(pred_structure, true_structure):\n",
    "    \n",
    "    # Centralize and normalize to unit ball\n",
    "    pred_structure_unit_ball = centralize_and_normalize_numpy(pred_structure)\n",
    "    true_structure_unit_ball = centralize_and_normalize_numpy(true_structure)\n",
    "    \n",
    "    # Rotation (solution for the constrained orthogonal Procrustes problem, subject to det(R) = 1)\n",
    "    m = np.matmul(np.transpose(true_structure_unit_ball), pred_structure_unit_ball)\n",
    "    u, s, vh = np.linalg.svd(m)\n",
    "    \n",
    "    d = np.sign(np.linalg.det(np.matmul(u, vh)))\n",
    "    a = np.eye(EMBEDDING_SIZE)\n",
    "    a[-1,-1] = d\n",
    "    \n",
    "    r = np.matmul(np.matmul(u, a), vh)\n",
    "    \n",
    "    pred_structure_unit_ball = np.transpose(np.matmul(r, np.transpose(pred_structure_unit_ball)))\n",
    "    \n",
    "    return pred_structure_unit_ball, true_structure_unit_ball"
   ]
  },
  {
   "cell_type": "code",
   "execution_count": 119,
   "metadata": {},
   "outputs": [],
   "source": [
    "def kabsch_distance_numpy(pred_structure, true_structure):\n",
    "    \n",
    "    pred_structure_unit_ball, true_structure_unit_ball = kabsch_superimposition_numpy(pred_structure, true_structure)\n",
    "    \n",
    "    # Structure comparison\n",
    "    d = np.mean(np.sum(np.square(pred_structure_unit_ball - true_structure_unit_ball), axis=1))\n",
    "    \n",
    "    return d"
   ]
  },
  {
   "cell_type": "code",
   "execution_count": 120,
   "metadata": {},
   "outputs": [],
   "source": [
    "#reach3d_structure = np.loadtxt(REACH3D_STRUCTURE_PATH, dtype='f', delimiter='\\t')"
   ]
  },
  {
   "cell_type": "code",
   "execution_count": 121,
   "metadata": {},
   "outputs": [],
   "source": [
    "minimds_structure = np.loadtxt(MINIMDS_STRUCTURE_PATH, dtype='f', delimiter=' ')"
   ]
  },
  {
   "cell_type": "code",
   "execution_count": 122,
   "metadata": {},
   "outputs": [],
   "source": [
    "gem_structure = np.loadtxt(GEM_STRUCTURE_PATH, dtype='f', delimiter='\\t')"
   ]
  },
  {
   "cell_type": "code",
   "execution_count": 123,
   "metadata": {},
   "outputs": [],
   "source": [
    "#treach3d_linear_structure = np.loadtxt(TREACH3D_LINEAR_STRUCTURE_PATH, dtype='f', delimiter=' ')"
   ]
  },
  {
   "cell_type": "code",
   "execution_count": 124,
   "metadata": {},
   "outputs": [],
   "source": [
    "def compute_kabsch_distance_distribution(pred_structure):\n",
    "    \n",
    "    kabsch_distance_distribution = []\n",
    "    for true_structure in trussart_structures:\n",
    "        kabsch_distance_distribution.append(kabsch_distance_numpy(pred_structure, true_structure))\n",
    "        \n",
    "    return kabsch_distance_distribution"
   ]
  },
  {
   "cell_type": "code",
   "execution_count": 126,
   "metadata": {},
   "outputs": [],
   "source": [
    "#reach3d_distribution = compute_kabsch_distance_distribution(reach3d_structure)\n",
    "gem_distribution = compute_kabsch_distance_distribution(gem_structure)\n",
    "minimds_distribution = compute_kabsch_distance_distribution(minimds_structure)"
   ]
  },
  {
   "cell_type": "code",
   "execution_count": null,
   "metadata": {},
   "outputs": [],
   "source": []
  },
  {
   "cell_type": "code",
   "execution_count": 127,
   "metadata": {},
   "outputs": [],
   "source": [
    "#treach3d_linear_distribution = compute_kabsch_distance_distribution(treach3d_linear_structure)\n",
    "# treach3d_bi_lstm_distribution = compute_kabsch_distance_distribution(treach3d_bi_lstm_structure)"
   ]
  },
  {
   "cell_type": "code",
   "execution_count": 128,
   "metadata": {},
   "outputs": [],
   "source": [
    "def random_prediction(nb_bins):\n",
    "    \n",
    "    # Random r's\n",
    "    r_s = np.random.uniform(low=0, high=1, size=nb_bins)\n",
    "    \n",
    "    # Random theta's\n",
    "    theta_s = np.random.uniform(low=0, high=np.pi, size=nb_bins)\n",
    "    \n",
    "    # Random phi's\n",
    "    phi_s = np.random.uniform(low=0, high=2*np.pi, size=nb_bins)\n",
    "    \n",
    "    final_structure = []\n",
    "    for i in range(nb_bins):\n",
    "        x = r_s[i] * np.cos(phi_s[i]) * np.sin(theta_s[i])\n",
    "        y = r_s[i] * np.sin(phi_s[i]) * np.sin(theta_s[i])\n",
    "        z = r_s[i] * np.cos(theta_s[i])\n",
    "        final_structure.append([x, y, z])\n",
    "        \n",
    "    return np.asarray(final_structure).reshape((nb_bins, EMBEDDING_SIZE))"
   ]
  },
  {
   "cell_type": "code",
   "execution_count": 129,
   "metadata": {},
   "outputs": [],
   "source": [
    "random_structure = random_prediction(NB_BINS)\n",
    "random_distribution = compute_kabsch_distance_distribution(random_structure)"
   ]
  },
  {
   "cell_type": "code",
   "execution_count": 130,
   "metadata": {},
   "outputs": [],
   "source": [
    "perfect_structure = np.mean(trussart_structures, axis=0)\n",
    "perfect_distribution  = compute_kabsch_distance_distribution(perfect_structure)"
   ]
  },
  {
   "cell_type": "code",
   "execution_count": 131,
   "metadata": {},
   "outputs": [],
   "source": [
    "perfect_structure = centralize_and_normalize_numpy(perfect_structure)\n",
    "\n",
    "#treach3d_linear_structure, treach3d_linear_structure_perfect = \\\n",
    "#    kabsch_superimposition_numpy(treach3d_linear_structure, perfect_structure)\n",
    "\n",
    "#reach3d_structure, reach3d_structure_perfect = \\\n",
    "#    kabsch_superimposition_numpy(reach3d_structure, perfect_structure)\n",
    "\n",
    "minimds_structure, minimds_structure_perfect = \\\n",
    "    kabsch_superimposition_numpy(minimds_structure, perfect_structure)\n",
    "\n",
    "gem_structure, gem_structure_perfect = \\\n",
    "    kabsch_superimposition_numpy(gem_structure, perfect_structure)\n",
    "\n",
    "#random_structure, random_structure_perfect = \\\n",
    "#    kabsch_superimposition_numpy(random_structure, perfect_structure)"
   ]
  },
  {
   "cell_type": "code",
   "execution_count": 132,
   "metadata": {},
   "outputs": [],
   "source": [
    "d_perfect_structure = \\\n",
    "    np.diagonal(distance_matrix(perfect_structure, perfect_structure), offset=1)\n",
    "#d_treach3d_linear_structure = \\\n",
    "#    np.diagonal(distance_matrix(treach3d_linear_structure, treach3d_linear_structure), offset=1)\n",
    "#d_reach3d_linear_structure = \\\n",
    "#    np.diagonal(distance_matrix(reach3d_structure, reach3d_structure), offset=1)\n",
    "d_minimds_structure = \\\n",
    "    np.diagonal(distance_matrix(minimds_structure, minimds_structure), offset=1)\n",
    "d_gem_structure = \\\n",
    "    np.diagonal(distance_matrix(gem_structure, gem_structure), offset=1)\n",
    "d_random_structure = \\\n",
    "    np.diagonal(distance_matrix(random_structure, random_structure), offset=1)"
   ]
  },
  {
   "cell_type": "code",
   "execution_count": 133,
   "metadata": {},
   "outputs": [
    {
     "name": "stdout",
     "output_type": "stream",
     "text": [
      "7.066907592333244e-05\n",
      "0.00027678889590724534\n",
      "0.0024874196205362915\n",
      "0.11477139588968649\n"
     ]
    }
   ],
   "source": [
    "print(np.var(d_perfect_structure))\n",
    "print(np.var(d_minimds_structure))\n",
    "#print(np.var(d_treach3d_linear_structure))\n",
    "print(np.var(d_gem_structure))\n",
    "#print(np.var(d_reach3d_linear_structure))\n",
    "print(np.var(d_random_structure))"
   ]
  },
  {
   "cell_type": "code",
   "execution_count": 134,
   "metadata": {},
   "outputs": [],
   "source": [
    "#reach3d_mean = np.mean(reach3d_distribution)\n",
    "gem_mean = np.mean(gem_distribution)\n",
    "minimds_mean = np.mean(minimds_distribution)"
   ]
  },
  {
   "cell_type": "code",
   "execution_count": 135,
   "metadata": {},
   "outputs": [
    {
     "name": "stdout",
     "output_type": "stream",
     "text": [
      "0.4282818934199156\n"
     ]
    }
   ],
   "source": [
    "print(minimds_mean)"
   ]
  },
  {
   "cell_type": "code",
   "execution_count": 137,
   "metadata": {},
   "outputs": [
    {
     "name": "stdout",
     "output_type": "stream",
     "text": [
      "0.4283119056535361\n"
     ]
    }
   ],
   "source": [
    "print(gem_mean)"
   ]
  },
  {
   "cell_type": "code",
   "execution_count": null,
   "metadata": {},
   "outputs": [],
   "source": []
  }
 ],
 "metadata": {
  "kernelspec": {
   "display_name": "Python 3.8.9 ('3dChromenv': venv)",
   "language": "python",
   "name": "python3"
  },
  "language_info": {
   "codemirror_mode": {
    "name": "ipython",
    "version": 3
   },
   "file_extension": ".py",
   "mimetype": "text/x-python",
   "name": "python",
   "nbconvert_exporter": "python",
   "pygments_lexer": "ipython3",
   "version": "3.8.9"
  },
  "orig_nbformat": 4,
  "vscode": {
   "interpreter": {
    "hash": "8e29b1289806ba3b1e0a7887101d89831cef42814f60b4617646c178e24bc9ec"
   }
  }
 },
 "nbformat": 4,
 "nbformat_minor": 2
}
