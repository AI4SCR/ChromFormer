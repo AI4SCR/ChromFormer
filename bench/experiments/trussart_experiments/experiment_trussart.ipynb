{
 "cells": [
  {
   "cell_type": "code",
   "execution_count": 78,
   "id": "35d5a177",
   "metadata": {
    "ExecuteTime": {
     "end_time": "2021-09-08T10:18:32.047958Z",
     "start_time": "2021-09-08T10:18:31.301013Z"
    }
   },
   "outputs": [],
   "source": [
    "# File processing \n",
    "import os\n",
    "\n",
    "# Data processing \n",
    "import numpy as np\n",
    "from numpy import linalg as LAnumpy\n",
    "\n",
    "# Data display \n",
    "import matplotlib\n",
    "import matplotlib.pyplot as plt\n",
    "import plotly.graph_objects as go\n",
    "from plotly.subplots import make_subplots\n",
    "from matplotlib.legend_handler import HandlerLine2D\n",
    "from scipy.spatial import distance_matrix\n",
    "from sklearn.metrics import mean_squared_error\n"
   ]
  },
  {
   "cell_type": "markdown",
   "id": "9304ed09",
   "metadata": {},
   "source": [
    "# Constants"
   ]
  },
  {
   "cell_type": "code",
   "execution_count": 2,
   "id": "caabcc9f",
   "metadata": {
    "ExecuteTime": {
     "end_time": "2021-09-08T10:18:32.052440Z",
     "start_time": "2021-09-08T10:18:32.050218Z"
    }
   },
   "outputs": [],
   "source": [
    "EMBEDDING_SIZE = 3\n",
    "TRUSSART_STRUCTURES_PATH = '../../../data/trussart/structure_matrices/'"
   ]
  },
  {
   "cell_type": "markdown",
   "id": "3812c507",
   "metadata": {},
   "source": [
    "# Seeds"
   ]
  },
  {
   "cell_type": "code",
   "execution_count": null,
   "id": "2ca0e2e9",
   "metadata": {},
   "outputs": [],
   "source": []
  },
  {
   "cell_type": "markdown",
   "id": "24814ee2",
   "metadata": {},
   "source": [
    "# Structure analysis functions"
   ]
  },
  {
   "cell_type": "code",
   "execution_count": 3,
   "id": "30307ac3",
   "metadata": {
    "ExecuteTime": {
     "end_time": "2021-09-08T10:18:32.058561Z",
     "start_time": "2021-09-08T10:18:32.055779Z"
    }
   },
   "outputs": [],
   "source": [
    "def centralize_numpy(z):\n",
    "    return z - np.mean(z, axis=0)"
   ]
  },
  {
   "cell_type": "code",
   "execution_count": 4,
   "id": "6688fb4f",
   "metadata": {
    "ExecuteTime": {
     "end_time": "2021-09-08T10:18:32.063988Z",
     "start_time": "2021-09-08T10:18:32.060986Z"
    }
   },
   "outputs": [],
   "source": [
    "def normalize_numpy(z):\n",
    "    \n",
    "    norm = LAnumpy.norm(z, 2, axis=1)\n",
    "    max_norm = np.max(norm, axis=0)\n",
    "    if max_norm == 0:\n",
    "        max_norm = 1\n",
    "    \n",
    "    return z / max_norm"
   ]
  },
  {
   "cell_type": "code",
   "execution_count": 5,
   "id": "87f22cfe",
   "metadata": {
    "ExecuteTime": {
     "end_time": "2021-09-08T10:18:32.068248Z",
     "start_time": "2021-09-08T10:18:32.065988Z"
    }
   },
   "outputs": [],
   "source": [
    "def centralize_and_normalize_numpy(z):\n",
    "    \n",
    "    # Translate\n",
    "    z = centralize_numpy(z)\n",
    "    \n",
    "    # Scale\n",
    "    z = normalize_numpy(z)\n",
    "    \n",
    "    return z"
   ]
  },
  {
   "cell_type": "code",
   "execution_count": 6,
   "id": "e885c245",
   "metadata": {
    "ExecuteTime": {
     "end_time": "2021-09-08T10:18:32.074602Z",
     "start_time": "2021-09-08T10:18:32.070402Z"
    }
   },
   "outputs": [],
   "source": [
    "def kabsch_superimposition_numpy(pred_structure, true_structure):\n",
    "    \n",
    "    # Centralize and normalize to unit ball\n",
    "    pred_structure_unit_ball = centralize_and_normalize_numpy(pred_structure)\n",
    "    true_structure_unit_ball = centralize_and_normalize_numpy(true_structure)\n",
    "    \n",
    "    # Rotation (solution for the constrained orthogonal Procrustes problem, subject to det(R) = 1)\n",
    "    m = np.matmul(np.transpose(true_structure_unit_ball), pred_structure_unit_ball)\n",
    "    u, s, vh = np.linalg.svd(m)\n",
    "    \n",
    "    d = np.sign(np.linalg.det(np.matmul(u, vh)))\n",
    "    a = np.eye(EMBEDDING_SIZE)\n",
    "    a[-1,-1] = d\n",
    "    \n",
    "    r = np.matmul(np.matmul(u, a), vh)\n",
    "    \n",
    "    pred_structure_unit_ball = np.transpose(np.matmul(r, np.transpose(pred_structure_unit_ball)))\n",
    "    \n",
    "    return pred_structure_unit_ball, true_structure_unit_ball"
   ]
  },
  {
   "cell_type": "code",
   "execution_count": 7,
   "id": "18470850",
   "metadata": {
    "ExecuteTime": {
     "end_time": "2021-09-08T10:18:32.079097Z",
     "start_time": "2021-09-08T10:18:32.076608Z"
    }
   },
   "outputs": [],
   "source": [
    "def kabsch_distance_numpy(pred_structure, true_structure):\n",
    "    \n",
    "    pred_structure_unit_ball, true_structure_unit_ball = kabsch_superimposition_numpy(pred_structure, true_structure)\n",
    "    \n",
    "    # Structure comparison\n",
    "    #d = np.mean(np.sum(np.square(pred_structure_unit_ball - true_structure_unit_ball), axis=1))\n",
    "    d = np.mean(np.square(pred_structure_unit_ball - true_structure_unit_ball))\n",
    "\n",
    "    return d"
   ]
  },
  {
   "cell_type": "markdown",
   "id": "9818157a",
   "metadata": {},
   "source": [
    "# Load Trussart losse results"
   ]
  },
  {
   "cell_type": "markdown",
   "id": "b507f4c9",
   "metadata": {},
   "source": [
    "# Minimds"
   ]
  },
  {
   "cell_type": "code",
   "execution_count": 8,
   "id": "a1e6422d",
   "metadata": {
    "ExecuteTime": {
     "end_time": "2021-09-08T10:18:32.094737Z",
     "start_time": "2021-09-08T10:18:32.082167Z"
    }
   },
   "outputs": [],
   "source": [
    "minimds_structure_50 = np.loadtxt('../../previous_work/minimds/data/trussart/trussart_structure_formatted/trussart_structure_formatted_50.txt')\n",
    "minimds_structure_100 = np.loadtxt('../../previous_work/minimds/data/trussart/trussart_structure_formatted/trussart_structure_formatted_100.txt')\n",
    "minimds_structure_150_1 = np.loadtxt('../../previous_work/minimds/data/trussart/trussart_structure_formatted/trussart_structure_formatted_150_1.txt')\n",
    "minimds_structure_150_2 = np.loadtxt('../../previous_work/minimds/data/trussart/trussart_structure_formatted/trussart_structure_formatted_150_2.txt')\n",
    "minimds_structure_150_3 = np.loadtxt('../../previous_work/minimds/data/trussart/trussart_structure_formatted/trussart_structure_formatted_150_3.txt')\n",
    "minimds_structure_150_4 = np.loadtxt('../../previous_work/minimds/data/trussart/trussart_structure_formatted/trussart_structure_formatted_150_4.txt')\n",
    "minimds_structure_150_5 = np.loadtxt('../../previous_work/minimds/data/trussart/trussart_structure_formatted/trussart_structure_formatted_150_5.txt')\n",
    "minimds_structure_200 = np.loadtxt('../../previous_work/minimds/data/trussart/trussart_structure_formatted/trussart_structure_formatted_200.txt')"
   ]
  },
  {
   "cell_type": "code",
   "execution_count": 9,
   "id": "85bebb2a",
   "metadata": {
    "ExecuteTime": {
     "end_time": "2021-09-08T10:18:32.264325Z",
     "start_time": "2021-09-08T10:18:32.096818Z"
    }
   },
   "outputs": [],
   "source": [
    "trussart_structures = []\n",
    "\n",
    "file_list = os.listdir(TRUSSART_STRUCTURES_PATH)\n",
    "file_list = filter(lambda f: f.endswith('.xyz'), file_list)\n",
    "\n",
    "for file_name in file_list:\n",
    "    current_trussart_structure = np.loadtxt(TRUSSART_STRUCTURES_PATH + file_name, dtype='f', delimiter='\\t')\n",
    "    current_trussart_structure = current_trussart_structure[:,1:]\n",
    "    current_trussart_structure = centralize_and_normalize_numpy(current_trussart_structure)\n",
    "    trussart_structures.append(current_trussart_structure)\n",
    "    \n",
    "trussart_structures = np.asarray(trussart_structures)"
   ]
  },
  {
   "cell_type": "code",
   "execution_count": 10,
   "id": "826bf417",
   "metadata": {
    "ExecuteTime": {
     "end_time": "2021-09-08T10:18:32.267813Z",
     "start_time": "2021-09-08T10:18:32.265602Z"
    }
   },
   "outputs": [],
   "source": [
    "def compute_trussart_loss(structure):\n",
    "    kabsch_distances = []\n",
    "    for true_structure in trussart_structures:\n",
    "        kabsch_distances.append(kabsch_distance_numpy(structure, true_structure))\n",
    "\n",
    "    return np.mean(kabsch_distances)"
   ]
  },
  {
   "cell_type": "code",
   "execution_count": 11,
   "id": "7a2e6c28",
   "metadata": {
    "ExecuteTime": {
     "end_time": "2021-09-08T10:18:32.343166Z",
     "start_time": "2021-09-08T10:18:32.269543Z"
    }
   },
   "outputs": [],
   "source": [
    "minimds_50 = compute_trussart_loss(minimds_structure_50)\n",
    "minimds_100 = compute_trussart_loss(minimds_structure_100)\n",
    "minimds_150_1 = compute_trussart_loss(minimds_structure_150_1)\n",
    "minimds_150_2 = compute_trussart_loss(minimds_structure_150_2)\n",
    "minimds_150_3 = compute_trussart_loss(minimds_structure_150_3)\n",
    "minimds_150_4 = compute_trussart_loss(minimds_structure_150_4)\n",
    "minimds_150_5 = compute_trussart_loss(minimds_structure_150_5)\n",
    "minimds_200 = compute_trussart_loss(minimds_structure_200)"
   ]
  },
  {
   "cell_type": "code",
   "execution_count": 12,
   "id": "b6f6870a",
   "metadata": {},
   "outputs": [
    {
     "name": "stdout",
     "output_type": "stream",
     "text": [
      "0.14338146542456057\n"
     ]
    }
   ],
   "source": [
    "print(minimds_150_1)"
   ]
  },
  {
   "cell_type": "markdown",
   "id": "18d8d179",
   "metadata": {},
   "source": [
    "# GEM"
   ]
  },
  {
   "cell_type": "code",
   "execution_count": 13,
   "id": "455994eb",
   "metadata": {
    "ExecuteTime": {
     "end_time": "2021-09-08T10:18:32.356970Z",
     "start_time": "2021-09-08T10:18:32.344827Z"
    }
   },
   "outputs": [],
   "source": [
    "gem_structure_50 = np.loadtxt('../../previous_work/gem/data/trussart/trussart_structure_formatted/trussart_structure_formatted_50.txt')\n",
    "gem_structure_100 = np.loadtxt('../../previous_work/gem/data/trussart/trussart_structure_formatted/trussart_structure_formatted_100.txt')\n",
    "gem_structure_150 = np.loadtxt('../../previous_work/gem/data/trussart/trussart_structure_formatted/trussart_structure_formatted_150.txt')\n",
    "gem_structure_200 = np.loadtxt('../../previous_work/gem/data/trussart/trussart_structure_formatted/trussart_structure_formatted_200.txt')\n",
    "gem_structure_test1 = np.loadtxt('../../previous_work/gem/data/trussart/trussart_structure_formatted/trussart_structure_formatted_150_confo_1.txt')\n",
    "gem_structure_test2 = np.loadtxt('../../previous_work/gem/data/trussart/trussart_structure_formatted/trussart_structure_formatted_150_confo_2.txt')\n",
    "gem_structure_test3 = np.loadtxt('../../previous_work/gem/data/trussart/trussart_structure_formatted/trussart_structure_formatted_150_confo_3.txt')\n",
    "gem_structure_test4 = np.loadtxt('../../previous_work/gem/data/trussart/trussart_structure_formatted/trussart_structure_formatted_150_confo_4.txt')\n",
    "gem_structure_test5 = np.loadtxt('../../previous_work/gem/data/trussart/trussart_structure_formatted/trussart_structure_formatted_150.txt')"
   ]
  },
  {
   "cell_type": "markdown",
   "id": "3f47ac26",
   "metadata": {},
   "source": [
    "Compute the GEM losses:"
   ]
  },
  {
   "cell_type": "code",
   "execution_count": 14,
   "id": "f0b8d9b9",
   "metadata": {
    "ExecuteTime": {
     "end_time": "2021-09-08T10:18:32.428684Z",
     "start_time": "2021-09-08T10:18:32.358294Z"
    }
   },
   "outputs": [],
   "source": [
    "gem_50 = compute_trussart_loss(gem_structure_50)\n",
    "gem_100 = compute_trussart_loss(gem_structure_100)\n",
    "gem_150 = compute_trussart_loss(gem_structure_150)\n",
    "gem_200 = compute_trussart_loss(gem_structure_200)\n",
    "gem_test1 = compute_trussart_loss(gem_structure_test1)\n",
    "gem_test2 = compute_trussart_loss(gem_structure_test2)\n",
    "gem_test3 = compute_trussart_loss(gem_structure_test3)\n",
    "gem_test4 = compute_trussart_loss(gem_structure_test4)\n",
    "gem_test5 = compute_trussart_loss(gem_structure_test5)"
   ]
  },
  {
   "cell_type": "code",
   "execution_count": 15,
   "id": "96f3990e",
   "metadata": {},
   "outputs": [
    {
     "name": "stdout",
     "output_type": "stream",
     "text": [
      "0.13863260234965005\n"
     ]
    }
   ],
   "source": [
    "print(gem_100)"
   ]
  },
  {
   "cell_type": "markdown",
   "id": "981b8c1d",
   "metadata": {},
   "source": [
    "## REACH-3D"
   ]
  },
  {
   "cell_type": "code",
   "execution_count": 16,
   "id": "920188e7",
   "metadata": {},
   "outputs": [],
   "source": [
    "\n",
    "reach_structure_150_1 = np.loadtxt('../../previous_work/reach3D/reach3d_trussart_output_structure_150_1.txt')\n",
    "reach_structure_150_2 = np.loadtxt('../../previous_work/reach3D/reach3d_trussart_output_structure_150_2.txt')\n",
    "reach_structure_150_3 = np.loadtxt('../../previous_work/reach3D/reach3d_trussart_output_structure_150_3.txt')\n",
    "reach_structure_150_4 = np.loadtxt('../../previous_work/reach3D/reach3d_trussart_output_structure_150_4.txt')\n",
    "reach_structure_150_5 = np.loadtxt('../../previous_work/reach3D/reach3d_trussart_output_structure_150_5.txt')\n",
    "\n"
   ]
  },
  {
   "cell_type": "code",
   "execution_count": 17,
   "id": "82a9485b",
   "metadata": {},
   "outputs": [],
   "source": [
    "reach1 = compute_trussart_loss(reach_structure_150_1)\n",
    "reach2 = compute_trussart_loss(reach_structure_150_2)\n",
    "reach3 = compute_trussart_loss(reach_structure_150_3)\n",
    "reach4 = compute_trussart_loss(reach_structure_150_4)\n",
    "reach5 = compute_trussart_loss(reach_structure_150_5)"
   ]
  },
  {
   "cell_type": "markdown",
   "id": "00ae0124",
   "metadata": {},
   "source": [
    "## TECH-3D"
   ]
  },
  {
   "cell_type": "markdown",
   "id": "848de04a",
   "metadata": {},
   "source": [
    "### Synthetic Random"
   ]
  },
  {
   "cell_type": "markdown",
   "id": "4405f6c5",
   "metadata": {},
   "source": [
    "#### Linear"
   ]
  },
  {
   "cell_type": "code",
   "execution_count": 18,
   "id": "8402c67e",
   "metadata": {
    "ExecuteTime": {
     "end_time": "2021-09-08T10:18:32.468264Z",
     "start_time": "2021-09-08T10:18:32.457352Z"
    }
   },
   "outputs": [],
   "source": [
    "linear_structure_150_1 = np.loadtxt('../../previous_work/tech_3d/data/trussart/structures/non_ae_synthetic_random_linear_trussart_test_structure_150_1.txt')\n",
    "linear_structure_150_2 = np.loadtxt('../../previous_work/tech_3d/data/trussart/structures/non_ae_synthetic_random_linear_trussart_test_structure_150_2.txt')\n",
    "linear_structure_150_3 = np.loadtxt('../../previous_work/tech_3d/data/trussart/structures/non_ae_synthetic_random_linear_trussart_test_structure_150_3.txt')\n",
    "linear_structure_150_4 = np.loadtxt('../../previous_work/tech_3d/data/trussart/structures/non_ae_synthetic_random_linear_trussart_test_structure_150_4.txt')\n",
    "linear_structure_150_5 = np.loadtxt('../../previous_work/tech_3d/data/trussart/structures/non_ae_synthetic_random_linear_trussart_test_structure_150_5.txt')\n",
    "\n"
   ]
  },
  {
   "cell_type": "code",
   "execution_count": 19,
   "id": "abd620cb",
   "metadata": {},
   "outputs": [],
   "source": [
    "tech1 = compute_trussart_loss(linear_structure_150_1)\n",
    "tech2 = compute_trussart_loss(linear_structure_150_2)\n",
    "tech3 = compute_trussart_loss(linear_structure_150_3)\n",
    "tech4 = compute_trussart_loss(linear_structure_150_4)\n",
    "tech5 = compute_trussart_loss(linear_structure_150_5)"
   ]
  },
  {
   "cell_type": "markdown",
   "id": "47b1528c",
   "metadata": {},
   "source": [
    "## ChromFormer"
   ]
  },
  {
   "cell_type": "code",
   "execution_count": 20,
   "id": "44448c7b",
   "metadata": {},
   "outputs": [],
   "source": [
    "chrom_structure_1 = np.loadtxt('../../saved_results/synthetic_biological_trussart_uniform_trans_conf/trans/structures/non_ae_synthetic_random_linear_trussart_test_structure_150_1.txt')\n",
    "chrom_structure_2 = np.loadtxt('../../saved_results/synthetic_biological_trussart_uniform_trans_conf/trans/structures/non_ae_synthetic_random_linear_trussart_test_structure_150_2.txt')\n",
    "chrom_structure_3 = np.loadtxt('../../saved_results/synthetic_biological_trussart_uniform_trans_conf/trans/structures/non_ae_synthetic_random_linear_trussart_test_structure_150_3.txt')\n",
    "chrom_structure_4 = np.loadtxt('../../saved_results/synthetic_biological_trussart_uniform_trans_conf/trans/structures/non_ae_synthetic_random_linear_trussart_test_structure_150_4.txt')\n",
    "chrom_structure_5 = np.loadtxt('../../saved_results/synthetic_biological_trussart_uniform_trans_conf/trans/structures/non_ae_synthetic_random_linear_trussart_test_structure_150_5.txt')"
   ]
  },
  {
   "cell_type": "code",
   "execution_count": 21,
   "id": "b5ac9260",
   "metadata": {},
   "outputs": [],
   "source": [
    "chrom1 = compute_trussart_loss(chrom_structure_1)\n",
    "chrom2 = compute_trussart_loss(chrom_structure_2)\n",
    "chrom3 = compute_trussart_loss(chrom_structure_3)\n",
    "chrom4 = compute_trussart_loss(chrom_structure_4)\n",
    "chrom5 = compute_trussart_loss(chrom_structure_5)"
   ]
  },
  {
   "cell_type": "markdown",
   "id": "cbf57183",
   "metadata": {},
   "source": [
    "# Display Structure"
   ]
  },
  {
   "cell_type": "code",
   "execution_count": 22,
   "id": "75950f63",
   "metadata": {
    "ExecuteTime": {
     "end_time": "2021-09-08T10:18:32.475429Z",
     "start_time": "2021-09-08T10:18:32.473061Z"
    }
   },
   "outputs": [],
   "source": [
    "perfect_structure = np.mean(trussart_structures, axis=0)"
   ]
  },
  {
   "cell_type": "code",
   "execution_count": 54,
   "id": "019bf39a",
   "metadata": {
    "ExecuteTime": {
     "end_time": "2021-09-08T10:18:32.479683Z",
     "start_time": "2021-09-08T10:18:32.477191Z"
    }
   },
   "outputs": [],
   "source": [
    "display_structure, _ = kabsch_superimposition_numpy(minimds_structure_150_5, perfect_structure)"
   ]
  },
  {
   "cell_type": "code",
   "execution_count": 64,
   "id": "d6d0e593",
   "metadata": {},
   "outputs": [
    {
     "name": "stdout",
     "output_type": "stream",
     "text": [
      "0.08918993790028436\n",
      "0.004134211892730418\n",
      "0.13857263632434277\n",
      "4\n",
      "0\n",
      "0.010336753367093006\n",
      "0.14321955768804542\n"
     ]
    }
   ],
   "source": [
    "gem_display1, _ = kabsch_superimposition_numpy(gem_structure_test1, perfect_structure)\n",
    "gem_display2, _ = kabsch_superimposition_numpy(gem_structure_test2, perfect_structure)\n",
    "gem_display3, _ = kabsch_superimposition_numpy(gem_structure_test3, perfect_structure)\n",
    "gem_display4, _ = kabsch_superimposition_numpy(gem_structure_test4, perfect_structure)\n",
    "gem_display5, _ = kabsch_superimposition_numpy(gem_structure_test5, perfect_structure)\n",
    "array_gems = [kabsch_distance_numpy(gem_display1, _),kabsch_distance_numpy(gem_display2, _),kabsch_distance_numpy(gem_display3, _),kabsch_distance_numpy(gem_display4, _), kabsch_distance_numpy(gem_display5, _)]\n",
    "print(np.mean(array_gems))\n",
    "print(np.var(array_gems))\n",
    "print(np.median(array_gems))\n",
    "print(np.argsort(array_gems)[len(array_gems)//2])\n",
    "print(np.argmin(array_gems))\n",
    "print(np.min(array_gems))\n",
    "print(np.max(array_gems))"
   ]
  },
  {
   "cell_type": "code",
   "execution_count": 37,
   "id": "be4263d7",
   "metadata": {},
   "outputs": [
    {
     "data": {
      "text/plain": [
       "[0.010336753367093006,\n",
       " 0.01060121441178394,\n",
       " 0.14321952771015667,\n",
       " 0.14321955768804542,\n",
       " 0.13857263632434277]"
      ]
     },
     "execution_count": 37,
     "metadata": {},
     "output_type": "execute_result"
    }
   ],
   "source": [
    "array_gems"
   ]
  },
  {
   "cell_type": "code",
   "execution_count": 66,
   "id": "575b8b77",
   "metadata": {},
   "outputs": [
    {
     "name": "stdout",
     "output_type": "stream",
     "text": [
      "0.1441937034162937\n",
      "5.825066285510598e-08\n",
      "0.14424201484497845\n",
      "2\n",
      "4\n",
      "0.14389975985480744\n",
      "0.1445344818349552\n"
     ]
    }
   ],
   "source": [
    "mds_display1, _ = kabsch_superimposition_numpy(minimds_structure_150_1, perfect_structure)\n",
    "mds_display2, _ = kabsch_superimposition_numpy(minimds_structure_150_2, perfect_structure)\n",
    "mds_display3, _ = kabsch_superimposition_numpy(minimds_structure_150_3, perfect_structure)\n",
    "mds_display4, _ = kabsch_superimposition_numpy(minimds_structure_150_4, perfect_structure)\n",
    "mds_display5, _ = kabsch_superimposition_numpy(minimds_structure_150_5, perfect_structure)\n",
    "array_mds = [kabsch_distance_numpy(mds_display1, _),kabsch_distance_numpy(mds_display2, _),kabsch_distance_numpy(mds_display3, _),kabsch_distance_numpy(mds_display4, _),kabsch_distance_numpy(mds_display5, _)]\n",
    "print(np.mean(array_mds))\n",
    "print(np.var(array_mds))\n",
    "print(np.median(array_mds))\n",
    "print(np.argsort(array_mds)[len(array_mds)//2])\n",
    "print(np.argmin(array_mds))\n",
    "print(np.min(array_mds))\n",
    "print(np.max(array_mds))"
   ]
  },
  {
   "cell_type": "code",
   "execution_count": 65,
   "id": "d274ab83",
   "metadata": {},
   "outputs": [
    {
     "name": "stdout",
     "output_type": "stream",
     "text": [
      "0.06312600227035395\n",
      "0.00042535659820869146\n",
      "0.053728302435371036\n",
      "3\n",
      "2\n",
      "0.04782562496024599\n",
      "0.10364451643170025\n"
     ]
    }
   ],
   "source": [
    "reach_display1, _ = kabsch_superimposition_numpy(reach_structure_150_1, perfect_structure)\n",
    "reach_display2, _ = kabsch_superimposition_numpy(reach_structure_150_2, perfect_structure)\n",
    "reach_display3, _ = kabsch_superimposition_numpy(reach_structure_150_3, perfect_structure)\n",
    "reach_display4, _ = kabsch_superimposition_numpy(reach_structure_150_4, perfect_structure)\n",
    "reach_display5, _ = kabsch_superimposition_numpy(reach_structure_150_5, perfect_structure)\n",
    "array_reach = [kabsch_distance_numpy(reach_display1, _),kabsch_distance_numpy(reach_display2, _),kabsch_distance_numpy(reach_display3, _),kabsch_distance_numpy(reach_display4, _), kabsch_distance_numpy(reach_display5, _)]\n",
    "print(np.mean(array_reach))\n",
    "print(np.var(array_reach))\n",
    "print(np.median(array_reach))\n",
    "print(np.argsort(array_reach)[len(array_reach)//2])\n",
    "print(np.argmin(array_reach))\n",
    "print(np.min(array_reach))\n",
    "print(np.max(array_reach))"
   ]
  },
  {
   "cell_type": "code",
   "execution_count": 27,
   "id": "4b6e70b3",
   "metadata": {},
   "outputs": [
    {
     "name": "stdout",
     "output_type": "stream",
     "text": [
      "[0.059544269611081446, 0.05088729791337102, 0.04782562496024599, 0.053728302435371036, 0.10364451643170025]\n"
     ]
    }
   ],
   "source": [
    "print(array_reach)"
   ]
  },
  {
   "cell_type": "code",
   "execution_count": 63,
   "id": "aceafd69",
   "metadata": {},
   "outputs": [
    {
     "name": "stdout",
     "output_type": "stream",
     "text": [
      "0.03932617636918821\n",
      "0.0003328467121709158\n",
      "0.028529563916642978\n",
      "3\n",
      "0\n",
      "0.021431545959515817\n",
      "0.061536801572370015\n"
     ]
    }
   ],
   "source": [
    "tech_display1, _ = kabsch_superimposition_numpy(linear_structure_150_1, perfect_structure)\n",
    "tech_display2, _ = kabsch_superimposition_numpy(linear_structure_150_2, perfect_structure)\n",
    "tech_display3, _ = kabsch_superimposition_numpy(linear_structure_150_3, perfect_structure)\n",
    "tech_display4, _ = kabsch_superimposition_numpy(linear_structure_150_4, perfect_structure)\n",
    "tech_display5, _ = kabsch_superimposition_numpy(linear_structure_150_5, perfect_structure)\n",
    "array_tech = [kabsch_distance_numpy(tech_display1, _),kabsch_distance_numpy(tech_display2, _),kabsch_distance_numpy(tech_display3, _),kabsch_distance_numpy(tech_display4, _), kabsch_distance_numpy(tech_display5, _)]\n",
    "print(np.mean(array_tech))\n",
    "print(np.var(array_tech))\n",
    "print(np.median(array_tech))\n",
    "print(np.argsort(array_tech)[len(array_tech)//2])\n",
    "print(np.argmin(array_tech))\n",
    "print(np.min(array_tech))\n",
    "print(np.max(array_tech))"
   ]
  },
  {
   "cell_type": "code",
   "execution_count": 62,
   "id": "83988eab",
   "metadata": {},
   "outputs": [
    {
     "name": "stdout",
     "output_type": "stream",
     "text": [
      "0.008741407673664995\n",
      "9.034493850704443e-06\n",
      "0.007887213854692363\n",
      "0\n",
      "1\n",
      "0.005709286709788024\n",
      "0.01431787657585745\n"
     ]
    }
   ],
   "source": [
    "chrom_display1, _ = kabsch_superimposition_numpy(chrom_structure_1, perfect_structure)\n",
    "chrom_display2, _ = kabsch_superimposition_numpy(chrom_structure_2, perfect_structure)\n",
    "chrom_display3, _ = kabsch_superimposition_numpy(chrom_structure_3, perfect_structure)\n",
    "chrom_display4, _ = kabsch_superimposition_numpy(chrom_structure_4, perfect_structure)\n",
    "chrom_display5, _ = kabsch_superimposition_numpy(chrom_structure_5, perfect_structure)\n",
    "array_chrom = [kabsch_distance_numpy(chrom_display1, _),kabsch_distance_numpy(chrom_display2, _),kabsch_distance_numpy(chrom_display3, _),kabsch_distance_numpy(chrom_display4, _), kabsch_distance_numpy(chrom_display5, _)]\n",
    "print(np.mean(array_chrom))\n",
    "print(np.var(array_chrom))\n",
    "print(np.median(array_chrom))\n",
    "print(np.argsort(array_chrom)[len(array_chrom)//2])\n",
    "print(np.argmin(array_chrom))\n",
    "print(np.min(array_chrom))\n",
    "print(np.max(array_chrom))"
   ]
  },
  {
   "cell_type": "code",
   "execution_count": 55,
   "id": "32007799",
   "metadata": {
    "ExecuteTime": {
     "end_time": "2021-09-08T10:43:16.043345Z",
     "start_time": "2021-09-08T10:43:16.013312Z"
    }
   },
   "outputs": [
    {
     "data": {
      "application/vnd.plotly.v1+json": {
       "config": {
        "plotlyServerURL": "https://plot.ly"
       },
       "data": [
        {
         "line": {
          "color": "darkblue",
          "width": 2
         },
         "marker": {
          "color": [
           0,
           1,
           2,
           3,
           4,
           5,
           6,
           7,
           8,
           9,
           10,
           11,
           12,
           13,
           14,
           15,
           16,
           17,
           18,
           19,
           20,
           21,
           22,
           23,
           24,
           25,
           26,
           27,
           28,
           29,
           30,
           31,
           32,
           33,
           34,
           35,
           36,
           37,
           38,
           39,
           40,
           41,
           42,
           43,
           44,
           45,
           46,
           47,
           48,
           49,
           50,
           51,
           52,
           53,
           54,
           55,
           56,
           57,
           58,
           59,
           60,
           61,
           62,
           63,
           64,
           65,
           66,
           67,
           68,
           69,
           70,
           71,
           72,
           73,
           74,
           75,
           76,
           77,
           78,
           79,
           80,
           81,
           82,
           83,
           84,
           85,
           86,
           87,
           88,
           89,
           90,
           91,
           92,
           93,
           94,
           95,
           96,
           97,
           98,
           99,
           100,
           101,
           102,
           103,
           104,
           105,
           106,
           107,
           108,
           109,
           110,
           111,
           112,
           113,
           114,
           115,
           116,
           117,
           118,
           119,
           120,
           121,
           122,
           123,
           124,
           125,
           126,
           127,
           128,
           129,
           130,
           131,
           132,
           133,
           134,
           135,
           136,
           137,
           138,
           139,
           140,
           141,
           142,
           143,
           144,
           145,
           146,
           147,
           148,
           149,
           150,
           151,
           152,
           153,
           154,
           155,
           156,
           157,
           158,
           159,
           160,
           161,
           162,
           163,
           164,
           165,
           166,
           167,
           168,
           169,
           170,
           171,
           172,
           173,
           174,
           175,
           176,
           177,
           178,
           179,
           180,
           181,
           182,
           183,
           184,
           185,
           186,
           187,
           188,
           189,
           190,
           191,
           192,
           193,
           194,
           195,
           196,
           197,
           198,
           199,
           200,
           201
          ],
          "colorscale": [
           [
            0,
            "#440154"
           ],
           [
            0.1111111111111111,
            "#482878"
           ],
           [
            0.2222222222222222,
            "#3e4989"
           ],
           [
            0.3333333333333333,
            "#31688e"
           ],
           [
            0.4444444444444444,
            "#26828e"
           ],
           [
            0.5555555555555556,
            "#1f9e89"
           ],
           [
            0.6666666666666666,
            "#35b779"
           ],
           [
            0.7777777777777778,
            "#6ece58"
           ],
           [
            0.8888888888888888,
            "#b5de2b"
           ],
           [
            1,
            "#fde725"
           ]
          ],
          "line": {
           "width": 3
          },
          "size": 6
         },
         "opacity": 0.7,
         "scene": "scene",
         "type": "scatter3d",
         "x": [
          0.02841945802701667,
          -0.06485086412809365,
          -0.1539002896743031,
          -0.21638130506531122,
          -0.26675700782017686,
          -0.32693190865271,
          -0.3865028854435801,
          -0.4146252087331504,
          -0.44391813039471295,
          -0.4044396288634027,
          -0.2866658315736689,
          -0.18768489762166266,
          -0.10834458966340861,
          -0.0304959742225613,
          0.06948191838316084,
          0.16072461448268247,
          0.24753417016617663,
          0.24565687797773827,
          0.16912450090385703,
          0.08209587425938161,
          0.024447632224908523,
          -0.030635647898812055,
          -0.11777263283224544,
          -0.225332285297501,
          -0.3355053174897063,
          -0.4401669287954771,
          -0.49374246157007756,
          -0.45565441433220205,
          -0.3768175742719463,
          -0.3241986742647811,
          -0.29276064311968725,
          -0.248547129059124,
          -0.2198439937758193,
          -0.23862242702690137,
          -0.27080372220714777,
          -0.3234280388017813,
          -0.4513683855152319,
          -0.4984963814314514,
          -0.48488556906412317,
          -0.4258526027840539,
          -0.39013071581731995,
          -0.3184175291218666,
          -0.2665447200771079,
          -0.23814849023536644,
          -0.24043337439417514,
          -0.2623334511353779,
          -0.2998153207399364,
          -0.32705859487034117,
          -0.3419415013706703,
          -0.31435182117059274,
          -0.24220778179550898,
          -0.17258836982542666,
          -0.16377406649388182,
          -0.15063037568740392,
          -0.0928817825675418,
          -0.06382058516744961,
          -0.013882622409826904,
          0.08490022470497599,
          0.18537224749353587,
          0.2770724684888949,
          0.3361503281965032,
          0.31294868844491014,
          0.25580122424079843,
          0.16053558961434,
          0.0639881660019373,
          0.011364083947017186,
          0.041118951546575695,
          0.01947735289103156,
          0.06601969064872815,
          0.13543900412709992,
          0.19685934863382815,
          0.19859205265949548,
          0.18899211781344738,
          0.18280551680179216,
          0.18029320580380823,
          0.13334106177880772,
          0.11664723320021506,
          0.14955753604482674,
          0.21405572413245005,
          0.30316225451924345,
          0.354223779330859,
          0.37574346245567397,
          0.3917880699383907,
          0.45068497081966363,
          0.5604196513652326,
          0.6183217492631343,
          0.6364921742560276,
          0.6450932630531977,
          0.6511775332896497,
          0.651617084516865,
          0.7016425246311455,
          0.6831315458262006,
          0.6864998081477359,
          0.7030931879632272,
          0.763641691385007,
          0.6855217884765886,
          0.5689740855783811,
          0.5103816981947416,
          0.41895561076042104,
          0.33622388212757115,
          0.30016028123027416,
          0.35971698840217836,
          0.4410281111230478,
          0.49788497423379335,
          0.49068966475522896,
          0.48473493371378323,
          0.5110926126017618,
          0.59561532847396,
          0.7090931274358229,
          0.7853922040626155,
          0.8086882542314277,
          0.8211008318035425,
          0.8071140886489852,
          0.7767882696389288,
          0.7253772532243633,
          0.6712146872327177,
          0.6187473042647044,
          0.5268284693965567,
          0.425577510579663,
          0.30562381716874404,
          0.2685672120552759,
          0.2115608339076314,
          0.19616139117947662,
          0.15228236151463434,
          0.10960073183336166,
          0.05187223534514544,
          0.00378326003025835,
          0.019679755090937966,
          0.07579908652145498,
          0.16205837149852917,
          0.1947353454169088,
          0.19224283312161528,
          0.22239138081819326,
          0.2745865498941242,
          0.3048036514811932,
          0.3608541774807908,
          0.42773565223649934,
          0.41342715153355714,
          0.32921780062195827,
          0.23608684668581711,
          0.1681706259067938,
          0.11243383575472228,
          0.05883494796233556,
          -0.029035755674117914,
          -0.12083284772031486,
          -0.20315476118644019,
          -0.2798357997287162,
          -0.28987483737597625,
          -0.27909361220232104,
          -0.22274004878287298,
          -0.14492537645454054,
          -0.0399092111815626,
          0.031149707842504485,
          0.0439371765567454,
          -0.012974051886979298,
          -0.09000553383249502,
          -0.16795533603324048,
          -0.26142943476204844,
          -0.3270919701616113,
          -0.4091758204915252,
          -0.46192187068702995,
          -0.48328268095970256,
          -0.5766294530231352,
          -0.6225130114797912,
          -0.6353133809346357,
          -0.6401105209741057,
          -0.6621646491135589,
          -0.6731604793149546,
          -0.694132771178421,
          -0.6822575300457949,
          -0.65514344000665,
          -0.5645516147145399,
          -0.4719435640968377,
          -0.4371774505144723,
          -0.3456690719681367,
          -0.2249114771054995,
          -0.1498935558620592,
          -0.11173027228205208,
          -0.1389869617697687,
          -0.23050594082067774,
          -0.3099323513580204,
          -0.37767486146981644,
          -0.4203062952059874,
          -0.43262546175884,
          -0.46784505525211745,
          -0.5446644973287467,
          -0.5785986082216493,
          -0.5071558045958081,
          -0.47251280478357094,
          -0.4169861751786445,
          -0.4652046155865928,
          -0.456774902128928,
          -0.44462301883823835,
          -0.3314419074259246,
          -0.2770107822589428,
          -0.2103656195753538,
          -0.20089132396152137,
          -0.09371345585222289,
          -0.006973418584797736,
          0.07293871793187882,
          0.12082069467663753,
          0.08642178130693659
         ],
         "y": [
          0.17483958209307685,
          0.0993511242468021,
          0.08039924506695785,
          0.07457442133236511,
          0.026353465298191547,
          -0.03909754152421965,
          -0.108785750026443,
          -0.20448777234422313,
          -0.2995912898194003,
          -0.37929510402361327,
          -0.4091016742875107,
          -0.3837447070175983,
          -0.3563238909468908,
          -0.3201343409858606,
          -0.2653142883363345,
          -0.2509787162838323,
          -0.2957435808411689,
          -0.3592914060969124,
          -0.3865370877851945,
          -0.40411358907323874,
          -0.45839340849855187,
          -0.5181461732417348,
          -0.5500576070884521,
          -0.5095836840503792,
          -0.46051037164938424,
          -0.42045245339735976,
          -0.3982191064548961,
          -0.42841562556779406,
          -0.4948287356325176,
          -0.5620117534616379,
          -0.633290229078743,
          -0.704239386647361,
          -0.7004072593115904,
          -0.6911952461124535,
          -0.6318089516167723,
          -0.610502677848896,
          -0.622380224532636,
          -0.6646387573911985,
          -0.7389793855228896,
          -0.7057482212165684,
          -0.7126262847665745,
          -0.672450337420571,
          -0.624885031245197,
          -0.5439376598469738,
          -0.45678408887273464,
          -0.35098632090208043,
          -0.27188099255545983,
          -0.21820489342116176,
          -0.1999416605558909,
          -0.1892182301576374,
          -0.16992337723026882,
          -0.11250666509847664,
          -0.03911009178995381,
          -0.042295637231740985,
          -0.13571924609190414,
          -0.2272600625451343,
          -0.29519880859482306,
          -0.35289234604657094,
          -0.3706179663478008,
          -0.37250452587063854,
          -0.31436794204009694,
          -0.21405331421194895,
          -0.12675168563909694,
          -0.03456327197582416,
          0.0387558056530177,
          0.09915561225906701,
          0.17955293436439815,
          0.2710506573263147,
          0.3041594297131479,
          0.3084406803252728,
          0.2942098550305085,
          0.29122382279440806,
          0.2272429877659489,
          0.1328025632478913,
          0.01940578722136171,
          -0.07209104768794575,
          -0.1567686374669535,
          -0.23252459076526338,
          -0.24203706277972004,
          -0.2095820221732668,
          -0.10766506635097657,
          -0.010778451708060431,
          0.0608075148230824,
          0.08670037579943118,
          0.10596599292512413,
          0.13687544586125613,
          0.22901553616281253,
          0.28305492900199236,
          0.3022576446883316,
          0.23616824576879078,
          0.14968978402411348,
          0.0844274901745088,
          0.02226385237487426,
          -0.07409552679033275,
          -0.19053968167666385,
          -0.29375664669445944,
          -0.33532820287652976,
          -0.29256661947331747,
          -0.20733211603221008,
          -0.16804175822895012,
          -0.11306612511608038,
          -0.09330415488730792,
          -0.09652866901667284,
          -0.16704287700649773,
          -0.2882681976609761,
          -0.3713349365889966,
          -0.4483638199137618,
          -0.45082516244664406,
          -0.37988982945691396,
          -0.2849991068514609,
          -0.2015117994628709,
          -0.09033684288613977,
          0.011557371529446728,
          0.0314300428015534,
          -0.03760966044057331,
          -0.12843246142184817,
          -0.1866709879054489,
          -0.2962720796068852,
          -0.37589005154511734,
          -0.43861727681627116,
          -0.4899556749288324,
          -0.4957997491295961,
          -0.4310929962740289,
          -0.3558436565278497,
          -0.3115976486681822,
          -0.2494970827824523,
          -0.20077576819394571,
          -0.14185595205904983,
          -0.06218716595812097,
          0.027967109119984818,
          0.11794879680606692,
          0.24187982029473884,
          0.3239825789025148,
          0.3567382327127855,
          0.327238759427717,
          0.28712416024389115,
          0.2382690952968891,
          0.19256255280992768,
          0.16521187182885946,
          0.14400183692682147,
          0.09744638262638783,
          0.09639172362716165,
          0.1536044119791933,
          0.18748045351044007,
          0.19005316190133428,
          0.22377920994372294,
          0.3021722484823664,
          0.4072590772158163,
          0.5187060237723343,
          0.5812907509001941,
          0.5749294269455041,
          0.5395889749810928,
          0.5149832590339684,
          0.46054455498138086,
          0.3990853582388925,
          0.33166747006184455,
          0.25206664377421617,
          0.15650797442386707,
          0.11003556431449264,
          0.14853765702108815,
          0.21228691706638386,
          0.25064634926333323,
          0.26471897532501604,
          0.30707252785242956,
          0.32871865186928073,
          0.38769802624170413,
          0.41719357945443986,
          0.4800417915814278,
          0.5533335928450352,
          0.6289452429144601,
          0.7112179486425282,
          0.7454497481874783,
          0.7801703487266778,
          0.8054755070224691,
          0.8059018900104856,
          0.7513886266067462,
          0.6774963728947196,
          0.6063870773151503,
          0.5167677576365286,
          0.45470016111780864,
          0.4091927986775899,
          0.35243269345862327,
          0.35839558377332087,
          0.4447755071161179,
          0.5256751914811082,
          0.5624254696772115,
          0.5383762790620858,
          0.5241528058886236,
          0.47092879426395584,
          0.4319486263915193,
          0.3277049822295687,
          0.2512050416751591,
          0.21290930372401967,
          0.2588530683520714,
          0.3183131625584964,
          0.38713411876279513,
          0.425499370750333,
          0.5080065879999281,
          0.537239834713217,
          0.5057253259734886,
          0.41586992851663984,
          0.312544693030473
         ],
         "z": [
          0.09405854958743738,
          0.07202507925461625,
          0.013476534145880698,
          -0.07150121132988653,
          -0.12438652996362301,
          -0.13082994682570537,
          -0.1329494967358517,
          -0.129104513497088,
          -0.11038783148994574,
          -0.054099991699920275,
          0.03507587945623091,
          0.08923611855453534,
          0.11361426443862488,
          0.12429511107896762,
          0.11379502794482209,
          0.09734413061184219,
          0.047238534326897334,
          -0.0009858533235947346,
          -0.027598729436714254,
          -0.03798553516322326,
          -0.07658199161593945,
          -0.10711325783568582,
          -0.10247049580739352,
          -0.11163129767464941,
          -0.164964206620937,
          -0.23092924780345922,
          -0.2983874885615876,
          -0.3661642075861654,
          -0.4250263060183516,
          -0.4643436860561813,
          -0.45869984948207576,
          -0.3832767696879232,
          -0.315002362424862,
          -0.228034851234296,
          -0.15551513822700894,
          -0.07307344329130111,
          -0.025985671211573528,
          0.028506416936490496,
          0.12006640511698737,
          0.21610214311187897,
          0.29234146112076304,
          0.39270478039670476,
          0.4377027233745912,
          0.45616791015925545,
          0.43988997737421753,
          0.4051021649784789,
          0.4295246052338654,
          0.5087459910595913,
          0.60412717462821,
          0.7177255669724476,
          0.7760274235111991,
          0.7813886175440901,
          0.7246240780176831,
          0.6461747924000532,
          0.6494155785117772,
          0.7006899571142455,
          0.7384772173078038,
          0.7367682818023227,
          0.718903121308617,
          0.6988666192322576,
          0.6701248107770778,
          0.6293115122985599,
          0.6479455326762019,
          0.6599158438727918,
          0.7120750645013649,
          0.7319691295125573,
          0.7082977023641217,
          0.6322363973586043,
          0.544585283556662,
          0.47107052818626916,
          0.3944190139046062,
          0.31495683591435963,
          0.2532035445375457,
          0.18351798555815405,
          0.1614766741276477,
          0.17824376959883081,
          0.2441263275449991,
          0.3228587667630109,
          0.37805490296334243,
          0.4178766664511945,
          0.4014782755244452,
          0.35326502382725655,
          0.2759783653677963,
          0.20363980255191588,
          0.13276512760187997,
          0.07309165799707208,
          0.011301086773586958,
          -0.06270980312658221,
          -0.15709665852468832,
          -0.2395189857435649,
          -0.3228109736950691,
          -0.4142785528445412,
          -0.49327937226301716,
          -0.5152107361734299,
          -0.47403514293626614,
          -0.5150287942187858,
          -0.5810708901273678,
          -0.6305717770872131,
          -0.6619293151030464,
          -0.6579031236219096,
          -0.5878718476505531,
          -0.5158970695609575,
          -0.4392318039124614,
          -0.33730222880187677,
          -0.27474830294188696,
          -0.21676988489973623,
          -0.19155943679423457,
          -0.18145988453078502,
          -0.18801357253824694,
          -0.14612830299836382,
          -0.08005374631855564,
          -0.05846074750816876,
          -0.11227651578066995,
          -0.19167173048373504,
          -0.26699325581380184,
          -0.361687873422171,
          -0.44177071298543785,
          -0.4498950980167685,
          -0.4547490406450885,
          -0.4841342818271833,
          -0.5034522718630599,
          -0.5481901312425969,
          -0.6266709270252719,
          -0.6070436825512503,
          -0.5504762128743259,
          -0.49992060869569616,
          -0.44201949315520994,
          -0.3447521880262346,
          -0.2905646994711751,
          -0.23338975412329194,
          -0.15634676406321185,
          -0.1341187675024,
          -0.17706677576169425,
          -0.2808755486974361,
          -0.3952454231124731,
          -0.46328512382179793,
          -0.5434321114652968,
          -0.6150515936412967,
          -0.6535275086328357,
          -0.6135196478638992,
          -0.5319247302686783,
          -0.442808118494324,
          -0.35571828055295046,
          -0.34039952419405245,
          -0.42643921729970735,
          -0.4449012532689732,
          -0.4343103542922661,
          -0.3845358075379002,
          -0.34278529785833217,
          -0.2774786820736038,
          -0.24429796587871794,
          -0.2725659721812227,
          -0.3384878552756532,
          -0.42948674046414864,
          -0.5238046085022229,
          -0.5616635836218423,
          -0.5833019383835689,
          -0.5877801241189736,
          -0.5429489197683045,
          -0.49550952195468495,
          -0.41689216649441646,
          -0.31813668360730135,
          -0.24020501290791604,
          -0.15283401937731322,
          -0.04946138366496561,
          0.03308613101756941,
          0.11500400495382937,
          0.2060971653474399,
          0.25680114781983976,
          0.25739886345052443,
          0.2548648711473719,
          0.2732700433751523,
          0.25163076937132156,
          0.19476477847013224,
          0.15907825914843338,
          0.143625902158791,
          0.09552060720861852,
          0.04576576567325632,
          0.006159966518899711,
          0.01457007605450733,
          0.04287809176017308,
          0.13232306326679932,
          0.23001652152721777,
          0.3259363837447196,
          0.39307082029327134,
          0.44022804356628153,
          0.4982496021257978,
          0.5973716546856532,
          0.6427292351049247,
          0.7137723311272952,
          0.717695935093744,
          0.6957092730234421,
          0.6115328725353817,
          0.5679360332861313,
          0.5174014714037343,
          0.44938098767222495,
          0.3429198146651422,
          0.29165727670228014,
          0.2403076785409727,
          0.1851707043906429,
          0.14594757487027604,
          0.11291477930656986
         ]
        }
       ],
       "layout": {
        "height": 1000,
        "scene": {
         "domain": {
          "x": [
           0,
           1
          ],
          "y": [
           0,
           1
          ]
         }
        },
        "template": {
         "data": {
          "bar": [
           {
            "error_x": {
             "color": "#2a3f5f"
            },
            "error_y": {
             "color": "#2a3f5f"
            },
            "marker": {
             "line": {
              "color": "#E5ECF6",
              "width": 0.5
             }
            },
            "type": "bar"
           }
          ],
          "barpolar": [
           {
            "marker": {
             "line": {
              "color": "#E5ECF6",
              "width": 0.5
             }
            },
            "type": "barpolar"
           }
          ],
          "carpet": [
           {
            "aaxis": {
             "endlinecolor": "#2a3f5f",
             "gridcolor": "white",
             "linecolor": "white",
             "minorgridcolor": "white",
             "startlinecolor": "#2a3f5f"
            },
            "baxis": {
             "endlinecolor": "#2a3f5f",
             "gridcolor": "white",
             "linecolor": "white",
             "minorgridcolor": "white",
             "startlinecolor": "#2a3f5f"
            },
            "type": "carpet"
           }
          ],
          "choropleth": [
           {
            "colorbar": {
             "outlinewidth": 0,
             "ticks": ""
            },
            "type": "choropleth"
           }
          ],
          "contour": [
           {
            "colorbar": {
             "outlinewidth": 0,
             "ticks": ""
            },
            "colorscale": [
             [
              0,
              "#0d0887"
             ],
             [
              0.1111111111111111,
              "#46039f"
             ],
             [
              0.2222222222222222,
              "#7201a8"
             ],
             [
              0.3333333333333333,
              "#9c179e"
             ],
             [
              0.4444444444444444,
              "#bd3786"
             ],
             [
              0.5555555555555556,
              "#d8576b"
             ],
             [
              0.6666666666666666,
              "#ed7953"
             ],
             [
              0.7777777777777778,
              "#fb9f3a"
             ],
             [
              0.8888888888888888,
              "#fdca26"
             ],
             [
              1,
              "#f0f921"
             ]
            ],
            "type": "contour"
           }
          ],
          "contourcarpet": [
           {
            "colorbar": {
             "outlinewidth": 0,
             "ticks": ""
            },
            "type": "contourcarpet"
           }
          ],
          "heatmap": [
           {
            "colorbar": {
             "outlinewidth": 0,
             "ticks": ""
            },
            "colorscale": [
             [
              0,
              "#0d0887"
             ],
             [
              0.1111111111111111,
              "#46039f"
             ],
             [
              0.2222222222222222,
              "#7201a8"
             ],
             [
              0.3333333333333333,
              "#9c179e"
             ],
             [
              0.4444444444444444,
              "#bd3786"
             ],
             [
              0.5555555555555556,
              "#d8576b"
             ],
             [
              0.6666666666666666,
              "#ed7953"
             ],
             [
              0.7777777777777778,
              "#fb9f3a"
             ],
             [
              0.8888888888888888,
              "#fdca26"
             ],
             [
              1,
              "#f0f921"
             ]
            ],
            "type": "heatmap"
           }
          ],
          "heatmapgl": [
           {
            "colorbar": {
             "outlinewidth": 0,
             "ticks": ""
            },
            "colorscale": [
             [
              0,
              "#0d0887"
             ],
             [
              0.1111111111111111,
              "#46039f"
             ],
             [
              0.2222222222222222,
              "#7201a8"
             ],
             [
              0.3333333333333333,
              "#9c179e"
             ],
             [
              0.4444444444444444,
              "#bd3786"
             ],
             [
              0.5555555555555556,
              "#d8576b"
             ],
             [
              0.6666666666666666,
              "#ed7953"
             ],
             [
              0.7777777777777778,
              "#fb9f3a"
             ],
             [
              0.8888888888888888,
              "#fdca26"
             ],
             [
              1,
              "#f0f921"
             ]
            ],
            "type": "heatmapgl"
           }
          ],
          "histogram": [
           {
            "marker": {
             "colorbar": {
              "outlinewidth": 0,
              "ticks": ""
             }
            },
            "type": "histogram"
           }
          ],
          "histogram2d": [
           {
            "colorbar": {
             "outlinewidth": 0,
             "ticks": ""
            },
            "colorscale": [
             [
              0,
              "#0d0887"
             ],
             [
              0.1111111111111111,
              "#46039f"
             ],
             [
              0.2222222222222222,
              "#7201a8"
             ],
             [
              0.3333333333333333,
              "#9c179e"
             ],
             [
              0.4444444444444444,
              "#bd3786"
             ],
             [
              0.5555555555555556,
              "#d8576b"
             ],
             [
              0.6666666666666666,
              "#ed7953"
             ],
             [
              0.7777777777777778,
              "#fb9f3a"
             ],
             [
              0.8888888888888888,
              "#fdca26"
             ],
             [
              1,
              "#f0f921"
             ]
            ],
            "type": "histogram2d"
           }
          ],
          "histogram2dcontour": [
           {
            "colorbar": {
             "outlinewidth": 0,
             "ticks": ""
            },
            "colorscale": [
             [
              0,
              "#0d0887"
             ],
             [
              0.1111111111111111,
              "#46039f"
             ],
             [
              0.2222222222222222,
              "#7201a8"
             ],
             [
              0.3333333333333333,
              "#9c179e"
             ],
             [
              0.4444444444444444,
              "#bd3786"
             ],
             [
              0.5555555555555556,
              "#d8576b"
             ],
             [
              0.6666666666666666,
              "#ed7953"
             ],
             [
              0.7777777777777778,
              "#fb9f3a"
             ],
             [
              0.8888888888888888,
              "#fdca26"
             ],
             [
              1,
              "#f0f921"
             ]
            ],
            "type": "histogram2dcontour"
           }
          ],
          "mesh3d": [
           {
            "colorbar": {
             "outlinewidth": 0,
             "ticks": ""
            },
            "type": "mesh3d"
           }
          ],
          "parcoords": [
           {
            "line": {
             "colorbar": {
              "outlinewidth": 0,
              "ticks": ""
             }
            },
            "type": "parcoords"
           }
          ],
          "pie": [
           {
            "automargin": true,
            "type": "pie"
           }
          ],
          "scatter": [
           {
            "marker": {
             "colorbar": {
              "outlinewidth": 0,
              "ticks": ""
             }
            },
            "type": "scatter"
           }
          ],
          "scatter3d": [
           {
            "line": {
             "colorbar": {
              "outlinewidth": 0,
              "ticks": ""
             }
            },
            "marker": {
             "colorbar": {
              "outlinewidth": 0,
              "ticks": ""
             }
            },
            "type": "scatter3d"
           }
          ],
          "scattercarpet": [
           {
            "marker": {
             "colorbar": {
              "outlinewidth": 0,
              "ticks": ""
             }
            },
            "type": "scattercarpet"
           }
          ],
          "scattergeo": [
           {
            "marker": {
             "colorbar": {
              "outlinewidth": 0,
              "ticks": ""
             }
            },
            "type": "scattergeo"
           }
          ],
          "scattergl": [
           {
            "marker": {
             "colorbar": {
              "outlinewidth": 0,
              "ticks": ""
             }
            },
            "type": "scattergl"
           }
          ],
          "scattermapbox": [
           {
            "marker": {
             "colorbar": {
              "outlinewidth": 0,
              "ticks": ""
             }
            },
            "type": "scattermapbox"
           }
          ],
          "scatterpolar": [
           {
            "marker": {
             "colorbar": {
              "outlinewidth": 0,
              "ticks": ""
             }
            },
            "type": "scatterpolar"
           }
          ],
          "scatterpolargl": [
           {
            "marker": {
             "colorbar": {
              "outlinewidth": 0,
              "ticks": ""
             }
            },
            "type": "scatterpolargl"
           }
          ],
          "scatterternary": [
           {
            "marker": {
             "colorbar": {
              "outlinewidth": 0,
              "ticks": ""
             }
            },
            "type": "scatterternary"
           }
          ],
          "surface": [
           {
            "colorbar": {
             "outlinewidth": 0,
             "ticks": ""
            },
            "colorscale": [
             [
              0,
              "#0d0887"
             ],
             [
              0.1111111111111111,
              "#46039f"
             ],
             [
              0.2222222222222222,
              "#7201a8"
             ],
             [
              0.3333333333333333,
              "#9c179e"
             ],
             [
              0.4444444444444444,
              "#bd3786"
             ],
             [
              0.5555555555555556,
              "#d8576b"
             ],
             [
              0.6666666666666666,
              "#ed7953"
             ],
             [
              0.7777777777777778,
              "#fb9f3a"
             ],
             [
              0.8888888888888888,
              "#fdca26"
             ],
             [
              1,
              "#f0f921"
             ]
            ],
            "type": "surface"
           }
          ],
          "table": [
           {
            "cells": {
             "fill": {
              "color": "#EBF0F8"
             },
             "line": {
              "color": "white"
             }
            },
            "header": {
             "fill": {
              "color": "#C8D4E3"
             },
             "line": {
              "color": "white"
             }
            },
            "type": "table"
           }
          ]
         },
         "layout": {
          "annotationdefaults": {
           "arrowcolor": "#2a3f5f",
           "arrowhead": 0,
           "arrowwidth": 1
          },
          "autotypenumbers": "strict",
          "coloraxis": {
           "colorbar": {
            "outlinewidth": 0,
            "ticks": ""
           }
          },
          "colorscale": {
           "diverging": [
            [
             0,
             "#8e0152"
            ],
            [
             0.1,
             "#c51b7d"
            ],
            [
             0.2,
             "#de77ae"
            ],
            [
             0.3,
             "#f1b6da"
            ],
            [
             0.4,
             "#fde0ef"
            ],
            [
             0.5,
             "#f7f7f7"
            ],
            [
             0.6,
             "#e6f5d0"
            ],
            [
             0.7,
             "#b8e186"
            ],
            [
             0.8,
             "#7fbc41"
            ],
            [
             0.9,
             "#4d9221"
            ],
            [
             1,
             "#276419"
            ]
           ],
           "sequential": [
            [
             0,
             "#0d0887"
            ],
            [
             0.1111111111111111,
             "#46039f"
            ],
            [
             0.2222222222222222,
             "#7201a8"
            ],
            [
             0.3333333333333333,
             "#9c179e"
            ],
            [
             0.4444444444444444,
             "#bd3786"
            ],
            [
             0.5555555555555556,
             "#d8576b"
            ],
            [
             0.6666666666666666,
             "#ed7953"
            ],
            [
             0.7777777777777778,
             "#fb9f3a"
            ],
            [
             0.8888888888888888,
             "#fdca26"
            ],
            [
             1,
             "#f0f921"
            ]
           ],
           "sequentialminus": [
            [
             0,
             "#0d0887"
            ],
            [
             0.1111111111111111,
             "#46039f"
            ],
            [
             0.2222222222222222,
             "#7201a8"
            ],
            [
             0.3333333333333333,
             "#9c179e"
            ],
            [
             0.4444444444444444,
             "#bd3786"
            ],
            [
             0.5555555555555556,
             "#d8576b"
            ],
            [
             0.6666666666666666,
             "#ed7953"
            ],
            [
             0.7777777777777778,
             "#fb9f3a"
            ],
            [
             0.8888888888888888,
             "#fdca26"
            ],
            [
             1,
             "#f0f921"
            ]
           ]
          },
          "colorway": [
           "#636efa",
           "#EF553B",
           "#00cc96",
           "#ab63fa",
           "#FFA15A",
           "#19d3f3",
           "#FF6692",
           "#B6E880",
           "#FF97FF",
           "#FECB52"
          ],
          "font": {
           "color": "#2a3f5f"
          },
          "geo": {
           "bgcolor": "white",
           "lakecolor": "white",
           "landcolor": "#E5ECF6",
           "showlakes": true,
           "showland": true,
           "subunitcolor": "white"
          },
          "hoverlabel": {
           "align": "left"
          },
          "hovermode": "closest",
          "mapbox": {
           "style": "light"
          },
          "paper_bgcolor": "white",
          "plot_bgcolor": "#E5ECF6",
          "polar": {
           "angularaxis": {
            "gridcolor": "white",
            "linecolor": "white",
            "ticks": ""
           },
           "bgcolor": "#E5ECF6",
           "radialaxis": {
            "gridcolor": "white",
            "linecolor": "white",
            "ticks": ""
           }
          },
          "scene": {
           "xaxis": {
            "backgroundcolor": "#E5ECF6",
            "gridcolor": "white",
            "gridwidth": 2,
            "linecolor": "white",
            "showbackground": true,
            "ticks": "",
            "zerolinecolor": "white"
           },
           "yaxis": {
            "backgroundcolor": "#E5ECF6",
            "gridcolor": "white",
            "gridwidth": 2,
            "linecolor": "white",
            "showbackground": true,
            "ticks": "",
            "zerolinecolor": "white"
           },
           "zaxis": {
            "backgroundcolor": "#E5ECF6",
            "gridcolor": "white",
            "gridwidth": 2,
            "linecolor": "white",
            "showbackground": true,
            "ticks": "",
            "zerolinecolor": "white"
           }
          },
          "shapedefaults": {
           "line": {
            "color": "#2a3f5f"
           }
          },
          "ternary": {
           "aaxis": {
            "gridcolor": "white",
            "linecolor": "white",
            "ticks": ""
           },
           "baxis": {
            "gridcolor": "white",
            "linecolor": "white",
            "ticks": ""
           },
           "bgcolor": "#E5ECF6",
           "caxis": {
            "gridcolor": "white",
            "linecolor": "white",
            "ticks": ""
           }
          },
          "title": {
           "x": 0.05
          },
          "xaxis": {
           "automargin": true,
           "gridcolor": "white",
           "linecolor": "white",
           "ticks": "",
           "title": {
            "standoff": 15
           },
           "zerolinecolor": "white",
           "zerolinewidth": 2
          },
          "yaxis": {
           "automargin": true,
           "gridcolor": "white",
           "linecolor": "white",
           "ticks": "",
           "title": {
            "standoff": 15
           },
           "zerolinecolor": "white",
           "zerolinewidth": 2
          }
         }
        },
        "width": 1000
       }
      }
     },
     "metadata": {},
     "output_type": "display_data"
    }
   ],
   "source": [
    "# Initialize figure with 3D subplots\n",
    "fig = make_subplots(\n",
    "    rows=1, cols=1,\n",
    "    specs=[[{'type': 'scatter3d'}]])\n",
    "\n",
    "# adding surfaces to subplots.\n",
    "fig.add_trace(\n",
    "    go.Scatter3d(\n",
    "    x=display_structure[:,0], y=display_structure[:,1], z=display_structure[:,2], opacity=0.7,\n",
    "    marker=dict(\n",
    "        size=6,\n",
    "        color=np.asarray(range(len(display_structure[:,0]))),\n",
    "        colorscale='Viridis',\n",
    "        line=dict(width=3)\n",
    "    ),\n",
    "    line=dict(\n",
    "        color='darkblue',\n",
    "        width=2\n",
    "    )\n",
    "), row=1, col=1)\n",
    "\n",
    "fig.update_layout(\n",
    "    height=1000,\n",
    "    width=1000\n",
    ")\n",
    "\n",
    "fig.show()"
   ]
  },
  {
   "cell_type": "code",
   "execution_count": 56,
   "id": "db240160",
   "metadata": {},
   "outputs": [
    {
     "data": {
      "text/plain": [
       "0.14389975985480744"
      ]
     },
     "execution_count": 56,
     "metadata": {},
     "output_type": "execute_result"
    }
   ],
   "source": [
    "kabsch_distance_numpy(display_structure, _)"
   ]
  },
  {
   "cell_type": "code",
   "execution_count": 33,
   "id": "1079bf49",
   "metadata": {},
   "outputs": [],
   "source": [
    "def compute_kabsch_distance_distribution(pred_structure):\n",
    "    \n",
    "    kabsch_distance_distribution = []\n",
    "    for true_structure in trussart_structures:\n",
    "        kabsch_distance_distribution.append(kabsch_distance_numpy(pred_structure, true_structure))\n",
    "        \n",
    "    return kabsch_distance_distribution"
   ]
  },
  {
   "cell_type": "code",
   "execution_count": 34,
   "id": "e257ce44",
   "metadata": {},
   "outputs": [],
   "source": [
    "chrom_distribution = compute_kabsch_distance_distribution(chrom_structure_2)\n",
    "tech3d_distribution = compute_kabsch_distance_distribution(linear_structure_150_1)\n",
    "reach3d_distribution = compute_kabsch_distance_distribution(reach_structure_150_3)\n",
    "gem_distribution = compute_kabsch_distance_distribution(gem_structure_test1)\n",
    "minimds_distribution = compute_kabsch_distance_distribution(minimds_structure_150_5)\n",
    "perfect_distribution  = compute_kabsch_distance_distribution(perfect_structure)"
   ]
  },
  {
   "cell_type": "code",
   "execution_count": 35,
   "id": "abcaee6f",
   "metadata": {},
   "outputs": [],
   "source": [
    "chrom_mean = np.mean(chrom_distribution)\n",
    "tech_mean = np.mean(tech3d_distribution)\n",
    "reach3d_mean = np.mean(reach3d_distribution)\n",
    "gem_mean = np.mean(gem_distribution)\n",
    "minimds_mean = np.mean(minimds_distribution)\n",
    "perfect_mean = np.mean(perfect_distribution)"
   ]
  },
  {
   "cell_type": "code",
   "execution_count": 38,
   "id": "e61efa0d",
   "metadata": {},
   "outputs": [
    {
     "name": "stdout",
     "output_type": "stream",
     "text": [
      "9.122419679758451e-08\n",
      "1.8084198238816046e-07\n",
      "1.4137958473973728e-06\n",
      "7.273073019601361e-07\n",
      "9.773198338845442e-06\n",
      "5.9369042211897965e-08\n"
     ]
    }
   ],
   "source": [
    "print(np.var(chrom_distribution))\n",
    "print(np.var(tech3d_distribution))\n",
    "print(np.var(reach3d_distribution))\n",
    "print(np.var(gem_distribution))\n",
    "print(np.var(minimds_distribution))\n",
    "print(np.var(perfect_distribution))"
   ]
  },
  {
   "cell_type": "markdown",
   "id": "b8d97610",
   "metadata": {},
   "source": [
    "# Plot"
   ]
  },
  {
   "cell_type": "code",
   "execution_count": 36,
   "id": "8dea7d8d",
   "metadata": {},
   "outputs": [
    {
     "data": {
      "image/png": "[encoded data removed]",
      "text/plain": [
       "<Figure size 2000x1000 with 1 Axes>"
      ]
     },
     "metadata": {},
     "output_type": "display_data"
    }
   ],
   "source": [
    "fig, axs = plt.subplots(1, 1, figsize=(20,10))\n",
    "\n",
    "## Histograms\n",
    "axs.hist(perfect_distribution, facecolor='green', label='Mean Trus. Cons.', alpha=0.5, edgecolor='black', linewidth=1, bins=5)\n",
    "axs.axvline(perfect_mean, color='green', linestyle='dashed', linewidth=4)\n",
    "\n",
    "axs.hist(tech3d_distribution, facecolor='blue', label='TECH-3D', alpha=0.5, edgecolor='black', linewidth=1, bins=5)\n",
    "axs.axvline(tech_mean, color='blue', linestyle='dashed', linewidth=4)\n",
    "\n",
    "axs.hist(reach3d_distribution, facecolor='purple', label='REACH-3D', alpha=0.5, edgecolor='black', linewidth=1, bins=5)\n",
    "axs.axvline(reach3d_mean, color='purple', linestyle='dashed', linewidth=4)\n",
    "\n",
    "axs.hist(gem_distribution, facecolor='pink', label='GEM', alpha=0.5, edgecolor='black', linewidth=1, bins=5)\n",
    "axs.axvline(gem_mean, color='pink', linestyle='dashed', linewidth=4)\n",
    "\n",
    "axs.hist(minimds_distribution, facecolor='orange', label='MiniMDS', alpha=0.5, edgecolor='black', linewidth=1, bins=5)\n",
    "axs.axvline(minimds_mean, color='orange', linestyle='dashed', linewidth=4)\n",
    "\n",
    "axs.hist(chrom_distribution, facecolor='red', label='ChromFormer', alpha=0.5, edgecolor='black', linewidth=1, bins=5)\n",
    "axs.axvline(chrom_mean, color='red', linestyle='dashed', linewidth=4)\n",
    "\n",
    "## Titles\n",
    "axs.set_title('Kabsch distance distributions', fontsize=40)\n",
    "axs.set_xlabel('Kabsch distance', fontsize=35)\n",
    "axs.set_ylabel('Fequency', fontsize=35)\n",
    "axs.legend(fontsize=35)\n",
    "\n",
    "axs.tick_params(axis='both', which='major', labelsize=30, width=4)\n",
    "\n",
    "## Axis limits\n",
    "axs.set_xlim(-0.01, 0.2)\n",
    "axs.set_ylim(0, 45)\n",
    "plt.legend(fontsize=30, loc=(0.78, 0.6))\n",
    "\n",
    "plt.savefig('distribution_of_the_kabsch_distances_between_the_trussart_100_structures_and_the_predicted_structure_of_various_methods.png')\n",
    "\n",
    "\n",
    "plt.show()\n"
   ]
  },
  {
   "cell_type": "code",
   "execution_count": 75,
   "id": "5d2c4b43",
   "metadata": {},
   "outputs": [],
   "source": [
    "chrom_distance = distance_matrix(chrom_display2,chrom_display2)\n",
    "tech_distance = distance_matrix(tech_display1,tech_display1)\n",
    "reach_distance = distance_matrix(reach_display3,reach_display3)\n",
    "gem_distance = distance_matrix(gem_display1,gem_display1)\n",
    "mds_distance = distance_matrix(mds_display5,mds_display5)\n",
    "perfect_distance  = distance_matrix(perfect_structure,perfect_structure)"
   ]
  },
  {
   "cell_type": "code",
   "execution_count": 100,
   "id": "72e22025",
   "metadata": {},
   "outputs": [
    {
     "data": {
      "image/png": "[encoded data removed]",
      "text/plain": [
       "<Figure size 1000x1000 with 1 Axes>"
      ]
     },
     "metadata": {},
     "output_type": "display_data"
    }
   ],
   "source": [
    "fig, axes = plt.subplots(figsize=(10,10))\n",
    "\n",
    "axes.imshow(mds_distance, cmap='hot', interpolation='nearest')\n",
    "\n",
    "plt.show()"
   ]
  },
  {
   "cell_type": "code",
   "execution_count": 82,
   "id": "c6ca73bb",
   "metadata": {},
   "outputs": [
    {
     "name": "stdout",
     "output_type": "stream",
     "text": [
      "0.011183709021956763\n",
      "0.04185580729015066\n",
      "0.08833835765799267\n",
      "0.0260147017487444\n",
      "0.005028597216351464\n"
     ]
    }
   ],
   "source": [
    "print(mean_squared_error(chrom_distance,perfect_distance))\n",
    "print(mean_squared_error(tech_distance,perfect_distance))\n",
    "print(mean_squared_error(reach_distance,perfect_distance))\n",
    "print(mean_squared_error(gem_distance,perfect_distance))\n",
    "print(mean_squared_error(mds_distance,perfect_distance))"
   ]
  },
  {
   "cell_type": "code",
   "execution_count": 94,
   "id": "6b1dbd17",
   "metadata": {},
   "outputs": [
    {
     "name": "stdout",
     "output_type": "stream",
     "text": [
      "6.933309500548874e-05\n",
      "0.0007057496779762008\n",
      "0.002751597178687178\n",
      "0.004557377415914683\n",
      "0.001587437646558131\n",
      "0.0002914268075459234\n"
     ]
    }
   ],
   "source": [
    "print(np.var(np.diagonal(perfect_distance, offset=1)))\n",
    "print(np.var(np.diagonal(chrom_distance, offset=1)))\n",
    "print(np.var(np.diagonal(tech_distance, offset=1)))\n",
    "print(np.var(np.diagonal(reach_distance, offset=1)))\n",
    "print(np.var(np.diagonal(gem_distance, offset=1)))\n",
    "print(np.var(np.diagonal(mds_distance, offset=1)))"
   ]
  }
 ],
 "metadata": {
  "kernelspec": {
   "display_name": "Python 3.8.15 64-bit ('blaenv')",
   "language": "python",
   "name": "python3"
  },
  "language_info": {
   "codemirror_mode": {
    "name": "ipython",
    "version": 3
   },
   "file_extension": ".py",
   "mimetype": "text/x-python",
   "name": "python",
   "nbconvert_exporter": "python",
   "pygments_lexer": "ipython3",
   "version": "3.8.15"
  },
  "vscode": {
   "interpreter": {
    "hash": "1332eaeb75df64c764d664ce90a83adb72db7bc35c8e71eb42235920a3fb9784"
   }
  }
 },
 "nbformat": 4,
 "nbformat_minor": 5
}
