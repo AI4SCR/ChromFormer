{
 "cells": [
  {
   "cell_type": "code",
   "execution_count": 1,
   "id": "2d4a45bd",
   "metadata": {},
   "outputs": [],
   "source": [
    "# %%\n",
    "from ChromFormer.generator import generate_biological_structure\n",
    "from ChromFormer import plotting as pl\n",
    "\n",
    "import os\n",
    "from pathlib import Path\n",
    "\n",
    "from sklearn.model_selection import ParameterGrid\n",
    "import pandas as pd\n",
    "\n",
    "from dotenv import load_dotenv\n",
    "loaded = load_dotenv()\n",
    "\n",
    "path_structures = Path('~/Downloads/ChromFormer-paper/create-structures-output/').expanduser()\n",
    "path_structures.mkdir(parents=True, exist_ok=True)"
   ]
  },
  {
   "cell_type": "code",
   "execution_count": 2,
   "id": "c651387e",
   "metadata": {},
   "outputs": [],
   "source": [
    "NB_BINS = 202  # number of points per structure\n",
    "DELTA = 0.45  # Smoothness parameter\n",
    "ST_SIG = 5\n",
    "END_SIG = 7\n",
    "SIG = 4  # structure compactness\n",
    "CLUST_SIG = 1.5  # TADs compactness\n",
    "CLUST_PROB = 0.1  # Probability of entering a TAD\n",
    "SECONDSTEP = False\n",
    "\n",
    "SEED = 42\n",
    "EXPONENT = 1  # root power value for the inverse function (Distance -> Hi-C)\n",
    "ICING = True  # Whether to use ICE normalisation with Z_score or not\n",
    "MINMAXUSE = False  # Whether MinMax needs to be used before optimal transport on the synthetic data or not\n",
    "TRANSPORTATION = True  # Whether to use optimal transport or not\n",
    "SOFTMAXING = False  # Whether to use a synthetic to true HiC softmax function or not. Not needed if already using optimal transport\n"
   ]
  },
  {
   "cell_type": "code",
   "execution_count": 3,
   "id": "17ca418c",
   "metadata": {},
   "outputs": [],
   "source": [
    "scan = dict(nb_nodes=[NB_BINS],\n",
    "                  delta=[0.275, 0.45, 0.9],\n",
    "                  start_sigma=[2, 5, 10],\n",
    "                  end_sigma=[3, 7, 14],\n",
    "                  sigma=[2,4,8],\n",
    "                  cluster_sigma=[0.75, 1.5, 3],\n",
    "                  cluster_proba=[0.05, 0.1, 0.2],\n",
    "                  step2=[True, False],\n",
    "                  aging_step = [15, 30, 60]\n",
    "                 )\n",
    "\n",
    "defaults= dict(nb_nodes=202,\n",
    "                  delta=0.45,\n",
    "                  start_sigma=5,\n",
    "                  end_sigma=7,\n",
    "                  sigma=4,\n",
    "                  cluster_sigma=1.5,\n",
    "                  cluster_proba=0.1,\n",
    "                  step2=False,\n",
    "                  aging_step = 30)"
   ]
  },
  {
   "cell_type": "code",
   "execution_count": 4,
   "id": "e21b858d",
   "metadata": {},
   "outputs": [],
   "source": [
    "param_grid = {key: [value] for key,value in defaults.items()}\n",
    "\n",
    "key1, key2 = 'delta', 'start_sigma'\n",
    "param_grid[key1] = scan[key1]\n",
    "param_grid[key2] = scan[key2]\n",
    "param_grid = ParameterGrid(param_grid)"
   ]
  },
  {
   "cell_type": "code",
   "execution_count": 5,
   "id": "49680e0b",
   "metadata": {},
   "outputs": [],
   "source": [
    "df = pd.DataFrame.from_dict(param_grid)\n",
    "df = df[[key1, key2]]"
   ]
  },
  {
   "cell_type": "code",
   "execution_count": 6,
   "id": "9f3ba458",
   "metadata": {},
   "outputs": [],
   "source": [
    "structures = [generate_biological_structure(**kwargs) for kwargs in param_grid]"
   ]
  },
  {
   "cell_type": "code",
   "execution_count": 7,
   "id": "beb724f2",
   "metadata": {},
   "outputs": [],
   "source": [
    "fig = pl.structures_in_sphere(structures, param_grid_df=df)"
   ]
  },
  {
   "cell_type": "code",
   "execution_count": 8,
   "id": "e997a767",
   "metadata": {},
   "outputs": [],
   "source": [
    "import plotly.io as pio\n",
    "pio.renderers.default = \"browser\"\n",
    "fig.show()"
   ]
  }
 ],
 "metadata": {
  "kernelspec": {
   "display_name": "Python 3 (ipykernel)",
   "language": "python",
   "name": "python3"
  },
  "language_info": {
   "codemirror_mode": {
    "name": "ipython",
    "version": 3
   },
   "file_extension": ".py",
   "mimetype": "text/x-python",
   "name": "python",
   "nbconvert_exporter": "python",
   "pygments_lexer": "ipython3",
   "version": "3.8.16"
  }
 },
 "nbformat": 4,
 "nbformat_minor": 5
}
