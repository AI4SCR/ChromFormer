{
 "cells": [
  {
   "cell_type": "code",
   "execution_count": 1,
   "metadata": {},
   "outputs": [],
   "source": [
    "# File processing\n",
    "import glob\n",
    "import os\n",
    "\n",
    "# Data processing\n",
    "import random\n",
    "import numpy as np\n",
    "from tqdm import tqdm\n",
    "\n",
    "# Data display \n",
    "import matplotlib\n",
    "import matplotlib.pyplot as plt\n",
    "import plotly.graph_objects as go\n",
    "from plotly.subplots import make_subplots\n",
    "from matplotlib.legend_handler import HandlerLine2D\n",
    "\n",
    "# Machine learning\n",
    "import torch\n",
    "import torch.nn.functional as F\n",
    "from torch import linalg as LAtorch\n",
    "from numpy import linalg as LAnumpy\n",
    "from torch_geometric.data import DataLoader\n",
    "from sklearn.preprocessing import MinMaxScaler\n",
    "from torch_geometric.data import Data, InMemoryDataset\n",
    "\n",
    "# Setting device\n",
    "device = torch.device('cuda' if torch.cuda.is_available() else 'cpu')"
   ]
  },
  {
   "cell_type": "code",
   "execution_count": 2,
   "metadata": {},
   "outputs": [],
   "source": [
    "NB_EPOCHS = 89\n",
    "#####100\n",
    "BATCH_SIZE = 10\n",
    "NB_BINS = 202\n",
    "EMBEDDING_SIZE = 3 # Euclidean 3D space\n",
    "LEARNING_RATE = 0.001\n",
    "SEED = 0\n",
    "LAMBDA_BIOLOGICAL = 0\n",
    "LAMBDA_KABSCH = 0.1\n",
    "TRAIN_DATASET_SIZE = 800\n",
    "TEST_DATASET_SIZE = 200\n",
    "\n",
    "# Trussart analysis dataset constants\n",
    "TRUSSART_HIC_PATH = '../../../../data/trussart/hic_matrices/150_TADlike_alpha_150_set0.mat'\n",
    "TRUSSART_STRUCTURES_PATH = '../../../../data/trussart/structure_matrices/'"
   ]
  },
  {
   "cell_type": "code",
   "execution_count": 3,
   "metadata": {},
   "outputs": [],
   "source": [
    "torch.manual_seed(SEED)\n",
    "random.seed(SEED)\n",
    "np.random.seed(SEED)"
   ]
  },
  {
   "cell_type": "code",
   "execution_count": 4,
   "metadata": {},
   "outputs": [],
   "source": [
    "trussart_hic = np.loadtxt(TRUSSART_HIC_PATH, dtype='f', delimiter='\\t')\n",
    "scaler = MinMaxScaler()\n",
    "trussart_hic = scaler.fit_transform(trussart_hic)"
   ]
  },
  {
   "cell_type": "code",
   "execution_count": 5,
   "metadata": {},
   "outputs": [],
   "source": [
    "trussart_structures = []\n",
    "\n",
    "file_list = os.listdir(TRUSSART_STRUCTURES_PATH)\n",
    "file_list = filter(lambda f: f.endswith('.xyz'), file_list)\n",
    "\n",
    "for file_name in file_list:\n",
    "    current_trussart_structure = np.loadtxt(TRUSSART_STRUCTURES_PATH + file_name, dtype='f', delimiter='\\t')\n",
    "    current_trussart_structure = current_trussart_structure[:,1:]\n",
    "    trussart_structures.append(current_trussart_structure)"
   ]
  },
  {
   "cell_type": "code",
   "execution_count": 6,
   "metadata": {},
   "outputs": [],
   "source": [
    "# grab last 4 digits of the file txt name:\n",
    "def last_4digits(x):\n",
    "    return(x[-8:-4])"
   ]
  },
  {
   "cell_type": "code",
   "execution_count": 7,
   "metadata": {},
   "outputs": [],
   "source": [
    "train_transfer_learning_hics = []\n",
    "\n",
    "file_list = os.listdir('../data/synthetic_random/train/hic_matrices/')\n",
    "\n",
    "for file_name in sorted(filter(lambda x: x.endswith('.txt'), file_list), key = last_4digits):\n",
    "    current_train_transfer_learning_hic = np.loadtxt('../data/synthetic_random/train/hic_matrices/'\\\n",
    "                                                     + file_name, dtype='f', delimiter=' ')\n",
    "    train_transfer_learning_hics.append(current_train_transfer_learning_hic)"
   ]
  },
  {
   "cell_type": "code",
   "execution_count": 8,
   "metadata": {},
   "outputs": [],
   "source": [
    "test_transfer_learning_hics = []\n",
    "\n",
    "file_list = os.listdir('../data/synthetic_random/test/hic_matrices/')\n",
    "\n",
    "for file_name in sorted(filter(lambda x: x.endswith('.txt'), file_list), key = last_4digits):\n",
    "    current_test_transfer_learning_hic = np.loadtxt('../data/synthetic_random/test/hic_matrices/'\\\n",
    "                                                     + file_name, dtype='f', delimiter=' ')\n",
    "    test_transfer_learning_hics.append(current_test_transfer_learning_hic)"
   ]
  },
  {
   "cell_type": "code",
   "execution_count": 9,
   "metadata": {},
   "outputs": [],
   "source": [
    "train_transfer_learning_structures = []\n",
    "\n",
    "file_list = os.listdir('../data/synthetic_random/train/structure_matrices/')\n",
    "\n",
    "for file_name in sorted(filter(lambda x: x.endswith('.txt'), file_list), key = last_4digits):\n",
    "    current_train_transfer_learning_structure = \\\n",
    "        np.loadtxt('../data/synthetic_random/train/structure_matrices/'\\\n",
    "                                                     + file_name, dtype='f', delimiter=' ')\n",
    "    train_transfer_learning_structures.append(current_train_transfer_learning_structure)"
   ]
  },
  {
   "cell_type": "code",
   "execution_count": 10,
   "metadata": {},
   "outputs": [],
   "source": [
    "test_transfer_learning_structures = []\n",
    "\n",
    "file_list = os.listdir('../data/synthetic_random/test/structure_matrices/')\n",
    "\n",
    "for file_name in sorted(filter(lambda x: x.endswith('.txt'), file_list), key = last_4digits):\n",
    "    current_test_transfer_learning_structure = \\\n",
    "        np.loadtxt('../data/synthetic_random/test/structure_matrices/'\\\n",
    "                                                     + file_name, dtype='f', delimiter=' ')\n",
    "    test_transfer_learning_structures.append(current_test_transfer_learning_structure)"
   ]
  },
  {
   "cell_type": "code",
   "execution_count": 11,
   "metadata": {},
   "outputs": [],
   "source": [
    "train_transfer_learning_distances = []\n",
    "\n",
    "file_list = os.listdir('../data/synthetic_random/train/distance_matrices/')\n",
    "\n",
    "for file_name in sorted(filter(lambda x: x.endswith('.txt'), file_list), key = last_4digits):\n",
    "    current_train_transfer_learning_distance = \\\n",
    "            np.loadtxt('../data/synthetic_random/train/distance_matrices/'\\\n",
    "                                                     + file_name, dtype='f', delimiter=' ')\n",
    "    train_transfer_learning_distances.append(current_train_transfer_learning_distance)"
   ]
  },
  {
   "cell_type": "code",
   "execution_count": 12,
   "metadata": {},
   "outputs": [],
   "source": [
    "test_transfer_learning_distances = []\n",
    "\n",
    "file_list = os.listdir('../data/synthetic_random/test/distance_matrices/')\n",
    "\n",
    "for file_name in sorted(filter(lambda x: x.endswith('.txt'), file_list), key = last_4digits):\n",
    "    current_test_transfer_learning_distance = \\\n",
    "            np.loadtxt('../data/synthetic_random/test/distance_matrices/'\\\n",
    "                                                     + file_name, dtype='f', delimiter=' ')\n",
    "    test_transfer_learning_distances.append(current_test_transfer_learning_distance)"
   ]
  },
  {
   "cell_type": "code",
   "execution_count": 13,
   "metadata": {},
   "outputs": [],
   "source": [
    "is_training = True"
   ]
  },
  {
   "cell_type": "code",
   "execution_count": 14,
   "metadata": {},
   "outputs": [],
   "source": [
    "class VanillaDataset(InMemoryDataset):\n",
    "    def __init__(self, root, transform=None, pre_transform=None):\n",
    "        super(VanillaDataset, self).__init__(root, transform, pre_transform)\n",
    "        self.data, self.slices = torch.load(self.processed_paths[0])\n",
    "\n",
    "    @property\n",
    "    def raw_file_names(self):\n",
    "        return []\n",
    "    @property\n",
    "    def processed_file_names(self):\n",
    "        if is_training:\n",
    "            return ['synthetic_biological_trussart_linear_train_data.txt']\n",
    "        else:\n",
    "            return ['synthetic_biological_trussart_linear_test_data.txt']\n",
    "\n",
    "    def download(self):\n",
    "        pass\n",
    "        \n",
    "    def process(self):\n",
    "        \n",
    "        data_list = []\n",
    "        if is_training:\n",
    "            dataset_size = TRAIN_DATASET_SIZE\n",
    "        else:\n",
    "            dataset_size = TEST_DATASET_SIZE\n",
    "        \n",
    "        for i in tqdm(range(dataset_size)):\n",
    "            \n",
    "            if is_training:\n",
    "                transfer_learning_hic = train_transfer_learning_hics[i]\n",
    "                transfer_learning_structure = train_transfer_learning_structures[i]\n",
    "                transfer_learning_distance_matrix = train_transfer_learning_distances[i]\n",
    "            else:\n",
    "                transfer_learning_hic = test_transfer_learning_hics[i]\n",
    "                transfer_learning_structure = test_transfer_learning_structures[i]\n",
    "                transfer_learning_distance_matrix = test_transfer_learning_distances[i]\n",
    "               \n",
    "            hic_matrix = torch.FloatTensor(transfer_learning_hic)\n",
    "            structure_matrix = torch.FloatTensor(transfer_learning_structure)\n",
    "            distance_matrix = torch.FloatTensor(transfer_learning_distance_matrix)\n",
    "\n",
    "            data = Data(hic_matrix=hic_matrix, structure_matrix=structure_matrix, distance_matrix=distance_matrix)\n",
    "            data_list.append(data)\n",
    "            \n",
    "        data, slices = self.collate(data_list)\n",
    "        torch.save((data, slices), self.processed_paths[0])"
   ]
  },
  {
   "cell_type": "code",
   "execution_count": 15,
   "metadata": {},
   "outputs": [],
   "source": [
    "train_dataset = VanillaDataset('../')\n",
    "train_dataset = train_dataset.shuffle()"
   ]
  },
  {
   "cell_type": "code",
   "execution_count": 16,
   "metadata": {},
   "outputs": [
    {
     "data": {
      "text/plain": [
       "800"
      ]
     },
     "execution_count": 16,
     "metadata": {},
     "output_type": "execute_result"
    }
   ],
   "source": [
    "train_size = len(train_dataset)\n",
    "train_size"
   ]
  },
  {
   "cell_type": "code",
   "execution_count": 17,
   "metadata": {},
   "outputs": [],
   "source": [
    "train_loader = DataLoader(train_dataset, batch_size=BATCH_SIZE)"
   ]
  },
  {
   "cell_type": "code",
   "execution_count": 18,
   "metadata": {},
   "outputs": [],
   "source": [
    "is_training = False"
   ]
  },
  {
   "cell_type": "code",
   "execution_count": 19,
   "metadata": {},
   "outputs": [],
   "source": [
    "test_dataset = VanillaDataset('../')\n",
    "test_dataset = test_dataset.shuffle()"
   ]
  },
  {
   "cell_type": "code",
   "execution_count": 20,
   "metadata": {},
   "outputs": [
    {
     "data": {
      "text/plain": [
       "200"
      ]
     },
     "execution_count": 20,
     "metadata": {},
     "output_type": "execute_result"
    }
   ],
   "source": [
    "test_size = len(test_dataset)\n",
    "test_size"
   ]
  },
  {
   "cell_type": "code",
   "execution_count": 21,
   "metadata": {},
   "outputs": [],
   "source": [
    "test_loader = DataLoader(test_dataset, batch_size=BATCH_SIZE)"
   ]
  },
  {
   "cell_type": "code",
   "execution_count": 22,
   "metadata": {},
   "outputs": [],
   "source": [
    "class Net(torch.nn.Module):\n",
    "    def __init__(self):\n",
    "        super(Net, self).__init__()\n",
    "        \n",
    "        self.linear_encoder_layer_1 = torch.nn.Linear(NB_BINS, 100)\n",
    "        self.linear_encoder_layer_2 = torch.nn.Linear(100, 50)\n",
    "        self.linear_encoder_layer_3 = torch.nn.Linear(50, EMBEDDING_SIZE)\n",
    "        \n",
    "    def forward(self, x, is_training=False):\n",
    "        \n",
    "        x = torch.reshape(x, (BATCH_SIZE, NB_BINS, NB_BINS))\n",
    "        \n",
    "        z = self.linear_encoder_layer_1(x)\n",
    "        z = F.relu(z)\n",
    "        z = self.linear_encoder_layer_2(z)\n",
    "        z = F.relu(z)\n",
    "        z = self.linear_encoder_layer_3(z)\n",
    "        z = F.relu(z)\n",
    "        z = centralize_and_normalize_torch(z)\n",
    "        \n",
    "        w = torch.cdist(z, z, p=2)\n",
    "        \n",
    "        return z, w"
   ]
  },
  {
   "cell_type": "code",
   "execution_count": 23,
   "metadata": {},
   "outputs": [],
   "source": [
    "def centralize_torch(z):\n",
    "    return z - torch.repeat_interleave(torch.reshape(torch.mean(z, axis=1), (-1,1,EMBEDDING_SIZE)), NB_BINS, dim=1)"
   ]
  },
  {
   "cell_type": "code",
   "execution_count": 24,
   "metadata": {},
   "outputs": [],
   "source": [
    "def normalize_torch(z):\n",
    "    \n",
    "    norms = LAtorch.norm(z, 2, dim=2)\n",
    "    max_norms, _ = torch.max(norms, axis=1)\n",
    "    max_norms = torch.reshape(max_norms, (BATCH_SIZE,1,1))\n",
    "    max_norms = torch.repeat_interleave(max_norms, NB_BINS, dim=1)\n",
    "    max_norms = torch.repeat_interleave(max_norms, EMBEDDING_SIZE, dim=2)\n",
    "    max_norms[max_norms == 0] = 1\n",
    "    \n",
    "    return z / max_norms"
   ]
  },
  {
   "cell_type": "code",
   "execution_count": 25,
   "metadata": {},
   "outputs": [],
   "source": [
    "def centralize_and_normalize_torch(z):\n",
    "    \n",
    "    # Translate\n",
    "    z = centralize_torch(z)\n",
    "    \n",
    "    # Scale\n",
    "    z = normalize_torch(z)\n",
    "    \n",
    "    return z"
   ]
  },
  {
   "cell_type": "code",
   "execution_count": 26,
   "metadata": {},
   "outputs": [],
   "source": [
    "def centralize_numpy(z):\n",
    "    return z - np.mean(z, axis=0)"
   ]
  },
  {
   "cell_type": "code",
   "execution_count": 27,
   "metadata": {},
   "outputs": [],
   "source": [
    "def normalize_numpy(z):\n",
    "    \n",
    "    norm = LAnumpy.norm(z, 2, axis=1)\n",
    "    max_norm = np.max(norm, axis=0)\n",
    "    if max_norm == 0:\n",
    "        max_norm = 1\n",
    "    \n",
    "    return z / max_norm"
   ]
  },
  {
   "cell_type": "code",
   "execution_count": 28,
   "metadata": {},
   "outputs": [],
   "source": [
    "def centralize_and_normalize_numpy(z):\n",
    "    \n",
    "    # Translate\n",
    "    z = centralize_numpy(z)\n",
    "    \n",
    "    # Scale\n",
    "    z = normalize_numpy(z)\n",
    "    \n",
    "    return z"
   ]
  },
  {
   "cell_type": "code",
   "execution_count": 29,
   "metadata": {},
   "outputs": [],
   "source": [
    "def kabsch_superimposition_numpy(pred_structure, true_structure):\n",
    "    \n",
    "    # Centralize and normalize to unit ball\n",
    "    pred_structure_unit_ball = centralize_and_normalize_numpy(pred_structure)\n",
    "    true_structure_unit_ball = centralize_and_normalize_numpy(true_structure)\n",
    "    \n",
    "    # Rotation (solution for the constrained orthogonal Procrustes problem, subject to det(R) = 1)\n",
    "    m = np.matmul(np.transpose(true_structure_unit_ball), pred_structure_unit_ball)\n",
    "    u, s, vh = np.linalg.svd(m)\n",
    "    \n",
    "    d = np.sign(np.linalg.det(np.matmul(u, vh)))\n",
    "    a = np.eye(EMBEDDING_SIZE)\n",
    "    a[-1,-1] = d\n",
    "    \n",
    "    r = np.matmul(np.matmul(u, a), vh)\n",
    "    \n",
    "    pred_structure_unit_ball = np.transpose(np.matmul(r, np.transpose(pred_structure_unit_ball)))\n",
    "    \n",
    "    return pred_structure_unit_ball, true_structure_unit_ball"
   ]
  },
  {
   "cell_type": "code",
   "execution_count": 30,
   "metadata": {},
   "outputs": [],
   "source": [
    "def kabsch_distance_numpy(pred_structure, true_structure):\n",
    "    \n",
    "    pred_structure_unit_ball, true_structure_unit_ball = \\\n",
    "            kabsch_superimposition_numpy(pred_structure, true_structure)\n",
    "    \n",
    "    # Structure comparison\n",
    "    d = np.mean(np.sum(np.square(pred_structure_unit_ball - true_structure_unit_ball), axis=1))\n",
    "    \n",
    "    return d"
   ]
  },
  {
   "cell_type": "code",
   "execution_count": 31,
   "metadata": {},
   "outputs": [],
   "source": [
    "def compute_trussart_test_kabsch_loss():\n",
    "    \n",
    "    torch_trussart_hic = torch.FloatTensor(trussart_hic)\n",
    "    torch_trussart_hic = torch.reshape(torch_trussart_hic, (1, NB_BINS, NB_BINS))\n",
    "    torch_trussart_hic = torch.repeat_interleave(torch_trussart_hic, BATCH_SIZE, 0)\n",
    "    \n",
    "    trussart_pred_structure, _ = model(torch_trussart_hic)\n",
    "    trussart_pred_structure = trussart_pred_structure.detach().numpy()[0]\n",
    "    \n",
    "    kabsch_distances = []\n",
    "    for true_structure in trussart_structures:\n",
    "        kabsch_distances.append(kabsch_distance_numpy(trussart_pred_structure, true_structure))\n",
    "        \n",
    "    return np.mean(kabsch_distances)"
   ]
  },
  {
   "cell_type": "code",
   "execution_count": 32,
   "metadata": {},
   "outputs": [],
   "source": [
    "def biological_loss_fct(pred_structure, true_structure, pred_distance, true_distance):\n",
    "    \n",
    "    ####### Pairwise distances loss ########\n",
    "    \n",
    "    between_bin_distance = \\\n",
    "        torch.diagonal(pred_distance.reshape((BATCH_SIZE, NB_BINS, NB_BINS)), offset=1, dim1=1, dim2=2)\n",
    "    between_bin_distance_loss = torch.var(between_bin_distance)\n",
    "    \n",
    "    ######### Pairwise angles loss ##########\n",
    "    \n",
    "    pred_structure_vectors = (pred_structure - torch.roll(pred_structure, 1, dims=1))[:, 1:, :]\n",
    "    pred_structure_dot_products = \\\n",
    "        torch.matmul(pred_structure_vectors, torch.transpose(pred_structure_vectors, dim0=1, dim1=2))\n",
    "    pairwise_angles_loss = \\\n",
    "        torch.where(pred_structure_dot_products < 0, torch.ones((BATCH_SIZE, NB_BINS-1, NB_BINS-1))*0.1, \\\n",
    "                        torch.zeros((BATCH_SIZE, NB_BINS-1, NB_BINS-1)))\n",
    "    pairwise_angles_loss = torch.mean(pairwise_angles_loss)\n",
    "    \n",
    "    return between_bin_distance_loss + pairwise_angles_loss"
   ]
  },
  {
   "cell_type": "code",
   "execution_count": 33,
   "metadata": {},
   "outputs": [],
   "source": [
    "def kabsch_loss_fct(pred_structure, true_structure):\n",
    "    \n",
    "    # NOTE: the two input structures should already be centralized and normalized\n",
    "    \n",
    "    m = torch.matmul(torch.transpose(true_structure, 1, 2), pred_structure)\n",
    "    u, s, vh = torch.linalg.svd(m)\n",
    "    \n",
    "    d = torch.sign(torch.linalg.det(torch.matmul(u, vh)))\n",
    "    a = torch.eye(EMBEDDING_SIZE).reshape((1, EMBEDDING_SIZE, EMBEDDING_SIZE)).repeat_interleave(BATCH_SIZE, dim=0)\n",
    "    a[:,-1,-1] = d\n",
    "    \n",
    "    r = torch.matmul(torch.matmul(u, a), vh)\n",
    "    \n",
    "    pred_structure = torch.transpose(torch.matmul(r, torch.transpose(pred_structure, 1, 2)), 1, 2)\n",
    "    \n",
    "    return torch.mean(torch.sum(torch.square(pred_structure - true_structure), axis=2))"
   ]
  },
  {
   "cell_type": "code",
   "execution_count": 34,
   "metadata": {},
   "outputs": [],
   "source": [
    "distance_loss_fct = torch.nn.MSELoss()"
   ]
  },
  {
   "cell_type": "code",
   "execution_count": 35,
   "metadata": {},
   "outputs": [],
   "source": [
    "device = torch.device('cpu')\n",
    "model = Net().to(device)\n",
    "optimizer = torch.optim.Adam(model.parameters(), lr=0.001)"
   ]
  },
  {
   "cell_type": "code",
   "execution_count": 36,
   "metadata": {},
   "outputs": [],
   "source": [
    "def plot_grad_flow(named_parameters):\n",
    "    '''Plots the gradients flowing through different layers in the net during training.\n",
    "    Can be used for checking for possible gradient vanishing / exploding problems.\n",
    "    \n",
    "    Usage: Plug this function in Trainer class after loss.backwards() as \n",
    "    \"plot_grad_flow(self.model.named_parameters())\" to visualize the gradient flow'''\n",
    "    ave_grads = []\n",
    "    max_grads= []\n",
    "    layers = []\n",
    "    for n, p in named_parameters:\n",
    "        if(p.requires_grad) and (\"bias\" not in n):\n",
    "            layers.append(n)\n",
    "            ave_grads.append(p.grad.abs().mean())\n",
    "            max_grads.append(p.grad.abs().max())\n",
    "    plt.bar(np.arange(len(max_grads)), max_grads, alpha=0.1, lw=1, color=\"c\")\n",
    "    plt.bar(np.arange(len(max_grads)), ave_grads, alpha=0.1, lw=1, color=\"b\")\n",
    "    plt.hlines(0, 0, len(ave_grads)+1, lw=2, color=\"k\" )\n",
    "    plt.xticks(range(0,len(ave_grads), 1), layers, rotation=\"vertical\")\n",
    "    plt.xlim(left=0, right=len(ave_grads))\n",
    "    plt.ylim(bottom = -0.001, top=0.02) # zoom in on the lower gradient regions\n",
    "    plt.xlabel(\"Layers\")\n",
    "    plt.ylabel(\"average gradient\")\n",
    "    plt.title(\"Gradient flow\")\n",
    "    plt.grid(True)\n",
    "    plt.legend([matplotlib.lines.Line2D([0], [0], color=\"c\", lw=4),\n",
    "                matplotlib.lines.Line2D([0], [0], color=\"b\", lw=4),\n",
    "                matplotlib.lines.Line2D([0], [0], color=\"k\", lw=4)], \n",
    "               ['max-gradient', 'mean-gradient', 'zero-gradient'])"
   ]
  },
  {
   "cell_type": "code",
   "execution_count": 37,
   "metadata": {},
   "outputs": [],
   "source": [
    "def train():\n",
    "    model.train()\n",
    "\n",
    "    loss_all = 0\n",
    "    for data in train_loader:\n",
    "        data = data.to(device)\n",
    "        optimizer.zero_grad()\n",
    "        \n",
    "        pred_structure, pred_distance = model(data.hic_matrix)\n",
    "        \n",
    "        true_hic = data.hic_matrix.to(device)\n",
    "        \n",
    "        true_structure = data.structure_matrix.to(device)\n",
    "        true_structure = torch.reshape(true_structure, (BATCH_SIZE, NB_BINS, EMBEDDING_SIZE))\n",
    "        \n",
    "        pred_distance = torch.reshape(pred_distance, (BATCH_SIZE*NB_BINS, NB_BINS))\n",
    "        true_distance = data.distance_matrix.to(device)\n",
    "        \n",
    "        # Biological loss\n",
    "        biological_loss = biological_loss_fct(pred_structure, true_structure, pred_distance, true_distance)\n",
    "        \n",
    "        # Kabsch loss\n",
    "        kabsch_loss = kabsch_loss_fct(pred_structure, true_structure)\n",
    "        \n",
    "        # Distance loss \n",
    "        distance_loss = distance_loss_fct(pred_distance, true_distance)\n",
    "        \n",
    "        # Combine losses\n",
    "        loss = LAMBDA_BIOLOGICAL * biological_loss + LAMBDA_KABSCH * kabsch_loss + distance_loss\n",
    "        \n",
    "#         with torch.autograd.detect_anomaly():\n",
    "        loss.backward()\n",
    "        \n",
    "        loss_all += data.num_graphs * loss.item()\n",
    "        \n",
    "        # Plot grad flow\n",
    "#         plot_grad_flow(model.named_parameters())\n",
    "        \n",
    "        optimizer.step()\n",
    "    return loss_all / len(train_dataset)"
   ]
  },
  {
   "cell_type": "code",
   "execution_count": 38,
   "metadata": {},
   "outputs": [],
   "source": [
    "def evaluate(loader):\n",
    "    model.eval()\n",
    "\n",
    "    true_hics = []\n",
    "    \n",
    "    pred_structures = []\n",
    "    true_structures = []\n",
    "    \n",
    "    pred_distances = []\n",
    "    true_distances = []\n",
    "    \n",
    "    kabsch_losses = []\n",
    "    distance_losses = []\n",
    "    biological_losses = []\n",
    "\n",
    "    with torch.no_grad():\n",
    "        for data in loader:\n",
    "\n",
    "            data = data.to(device)\n",
    "            \n",
    "            pred_structure, pred_distance = model(data.hic_matrix)\n",
    "            \n",
    "            pred_structure = pred_structure.detach().cpu()\n",
    "            pred_distance = pred_distance.detach().cpu()\n",
    "            \n",
    "            pred_distance = torch.reshape(pred_distance, (BATCH_SIZE*NB_BINS, NB_BINS))\n",
    "            \n",
    "            true_hic = data.hic_matrix.detach().cpu()\n",
    "            true_structure = data.structure_matrix.detach().cpu()\n",
    "            true_distance = data.distance_matrix.detach().cpu()\n",
    "            \n",
    "            true_structure = torch.reshape(true_structure, (BATCH_SIZE, NB_BINS, EMBEDDING_SIZE))\n",
    "            \n",
    "            # Biological loss\n",
    "            biological_loss = \\\n",
    "                biological_loss_fct(pred_structure, true_structure, pred_distance, true_distance).numpy()\n",
    "            biological_losses.append(biological_loss)\n",
    "            \n",
    "            # Kabsch loss\n",
    "            kabsch_loss = kabsch_loss_fct(pred_structure, true_structure).numpy()\n",
    "            kabsch_losses.append(kabsch_loss)\n",
    "            \n",
    "            # Distance loss\n",
    "            distance_loss = distance_loss_fct(pred_distance, true_distance).numpy()\n",
    "            distance_losses.append(distance_loss)\n",
    "            \n",
    "            # To numpy\n",
    "            true_hic = true_hic.numpy()\n",
    "            \n",
    "            pred_structure = pred_structure.numpy()\n",
    "            true_structure = true_structure.numpy()\n",
    "            \n",
    "            pred_distance = pred_distance.numpy()\n",
    "            true_distance = true_distance.numpy()\n",
    "            \n",
    "            # Store results\n",
    "            true_hics.append(true_hic)\n",
    "            \n",
    "            pred_structures.append(pred_structure)\n",
    "            true_structures.append(true_structure)\n",
    "            \n",
    "            pred_distances.append(pred_distance)\n",
    "            true_distances.append(true_distance)\n",
    "    \n",
    "    # Format results\n",
    "    true_hics = np.vstack(true_hics)\n",
    "    \n",
    "    pred_structures = np.vstack(pred_structures)\n",
    "    true_structures = np.vstack(true_structures)\n",
    "    \n",
    "    pred_distances = np.vstack(pred_distances)\n",
    "    true_distances = np.vstack(true_distances)\n",
    "    \n",
    "    # Compute mean losses\n",
    "    mean_biological_loss = np.mean(np.asarray(biological_loss).flatten())\n",
    "    mean_kabsch_loss = np.mean(np.asarray(kabsch_losses).flatten())\n",
    "    mean_distance_loss = np.mean(np.asarray(distance_losses).flatten())\n",
    "    \n",
    "    return mean_biological_loss, mean_kabsch_loss, mean_distance_loss, true_hics, \\\n",
    "            pred_structures, true_structures, pred_distances, true_distances"
   ]
  },
  {
   "cell_type": "code",
   "execution_count": 39,
   "metadata": {},
   "outputs": [
    {
     "name": "stdout",
     "output_type": "stream",
     "text": [
      "E: 001, Tr B: 0.0525, Tr K: 0.0926, Tr D: 0.0381, Te B: 0.0545, Te K: 0.0893, Te D: 0.0389, Trus: 0.0949\n",
      "E: 002, Tr B: 0.0514, Tr K: 0.0787, Tr D: 0.0258, Te B: 0.0512, Te K: 0.0761, Te D: 0.0258, Trus: 0.1096\n",
      "E: 003, Tr B: 0.0502, Tr K: 0.0720, Tr D: 0.0247, Te B: 0.0535, Te K: 0.0701, Te D: 0.0255, Trus: 0.0844\n",
      "E: 004, Tr B: 0.0488, Tr K: 0.0623, Tr D: 0.0189, Te B: 0.0504, Te K: 0.0608, Te D: 0.0200, Trus: 0.0942\n",
      "E: 005, Tr B: 0.0484, Tr K: 0.0597, Tr D: 0.0155, Te B: 0.0499, Te K: 0.0576, Te D: 0.0162, Trus: 0.0877\n",
      "E: 006, Tr B: 0.0483, Tr K: 0.0600, Tr D: 0.0147, Te B: 0.0495, Te K: 0.0578, Te D: 0.0153, Trus: 0.0820\n",
      "E: 007, Tr B: 0.0483, Tr K: 0.0599, Tr D: 0.0141, Te B: 0.0495, Te K: 0.0573, Te D: 0.0145, Trus: 0.0816\n",
      "E: 008, Tr B: 0.0481, Tr K: 0.0578, Tr D: 0.0130, Te B: 0.0491, Te K: 0.0558, Te D: 0.0135, Trus: 0.0862\n",
      "E: 009, Tr B: 0.0479, Tr K: 0.0569, Tr D: 0.0122, Te B: 0.0491, Te K: 0.0544, Te D: 0.0125, Trus: 0.0832\n",
      "E: 010, Tr B: 0.0478, Tr K: 0.0556, Tr D: 0.0121, Te B: 0.0493, Te K: 0.0533, Te D: 0.0124, Trus: 0.0815\n",
      "E: 011, Tr B: 0.0477, Tr K: 0.0546, Tr D: 0.0119, Te B: 0.0488, Te K: 0.0525, Te D: 0.0123, Trus: 0.0841\n",
      "E: 012, Tr B: 0.0476, Tr K: 0.0545, Tr D: 0.0116, Te B: 0.0487, Te K: 0.0520, Te D: 0.0117, Trus: 0.0821\n",
      "E: 013, Tr B: 0.0475, Tr K: 0.0538, Tr D: 0.0116, Te B: 0.0487, Te K: 0.0515, Te D: 0.0119, Trus: 0.0854\n",
      "E: 014, Tr B: 0.0475, Tr K: 0.0537, Tr D: 0.0113, Te B: 0.0488, Te K: 0.0512, Te D: 0.0117, Trus: 0.0862\n",
      "E: 015, Tr B: 0.0475, Tr K: 0.0522, Tr D: 0.0110, Te B: 0.0489, Te K: 0.0501, Te D: 0.0115, Trus: 0.0911\n",
      "E: 016, Tr B: 0.0475, Tr K: 0.0532, Tr D: 0.0107, Te B: 0.0488, Te K: 0.0509, Te D: 0.0112, Trus: 0.0854\n",
      "E: 017, Tr B: 0.0475, Tr K: 0.0528, Tr D: 0.0110, Te B: 0.0485, Te K: 0.0503, Te D: 0.0114, Trus: 0.0879\n",
      "E: 018, Tr B: 0.0476, Tr K: 0.0533, Tr D: 0.0109, Te B: 0.0486, Te K: 0.0504, Te D: 0.0112, Trus: 0.0823\n",
      "E: 019, Tr B: 0.0475, Tr K: 0.0514, Tr D: 0.0108, Te B: 0.0484, Te K: 0.0491, Te D: 0.0112, Trus: 0.0868\n",
      "E: 020, Tr B: 0.0475, Tr K: 0.0524, Tr D: 0.0108, Te B: 0.0488, Te K: 0.0497, Te D: 0.0112, Trus: 0.0849\n",
      "E: 021, Tr B: 0.0476, Tr K: 0.0536, Tr D: 0.0111, Te B: 0.0487, Te K: 0.0509, Te D: 0.0114, Trus: 0.0796\n",
      "E: 022, Tr B: 0.0475, Tr K: 0.0502, Tr D: 0.0101, Te B: 0.0485, Te K: 0.0477, Te D: 0.0106, Trus: 0.0802\n",
      "E: 023, Tr B: 0.0474, Tr K: 0.0515, Tr D: 0.0103, Te B: 0.0485, Te K: 0.0489, Te D: 0.0107, Trus: 0.0788\n",
      "E: 024, Tr B: 0.0474, Tr K: 0.0505, Tr D: 0.0104, Te B: 0.0486, Te K: 0.0480, Te D: 0.0108, Trus: 0.0834\n",
      "E: 025, Tr B: 0.0473, Tr K: 0.0503, Tr D: 0.0104, Te B: 0.0482, Te K: 0.0477, Te D: 0.0108, Trus: 0.0765\n",
      "E: 026, Tr B: 0.0474, Tr K: 0.0495, Tr D: 0.0098, Te B: 0.0484, Te K: 0.0467, Te D: 0.0102, Trus: 0.0780\n",
      "E: 027, Tr B: 0.0475, Tr K: 0.0502, Tr D: 0.0095, Te B: 0.0485, Te K: 0.0475, Te D: 0.0100, Trus: 0.0744\n",
      "E: 028, Tr B: 0.0474, Tr K: 0.0510, Tr D: 0.0097, Te B: 0.0485, Te K: 0.0479, Te D: 0.0101, Trus: 0.0758\n",
      "E: 029, Tr B: 0.0474, Tr K: 0.0502, Tr D: 0.0095, Te B: 0.0484, Te K: 0.0472, Te D: 0.0099, Trus: 0.0753\n",
      "E: 030, Tr B: 0.0474, Tr K: 0.0483, Tr D: 0.0095, Te B: 0.0486, Te K: 0.0455, Te D: 0.0098, Trus: 0.0797\n",
      "E: 031, Tr B: 0.0472, Tr K: 0.0497, Tr D: 0.0092, Te B: 0.0485, Te K: 0.0465, Te D: 0.0095, Trus: 0.0722\n",
      "E: 032, Tr B: 0.0473, Tr K: 0.0507, Tr D: 0.0097, Te B: 0.0485, Te K: 0.0475, Te D: 0.0100, Trus: 0.0772\n",
      "E: 033, Tr B: 0.0474, Tr K: 0.0496, Tr D: 0.0091, Te B: 0.0487, Te K: 0.0464, Te D: 0.0095, Trus: 0.0724\n",
      "E: 034, Tr B: 0.0474, Tr K: 0.0497, Tr D: 0.0091, Te B: 0.0486, Te K: 0.0464, Te D: 0.0095, Trus: 0.0749\n",
      "E: 035, Tr B: 0.0473, Tr K: 0.0494, Tr D: 0.0091, Te B: 0.0485, Te K: 0.0462, Te D: 0.0095, Trus: 0.0748\n",
      "E: 036, Tr B: 0.0472, Tr K: 0.0494, Tr D: 0.0091, Te B: 0.0487, Te K: 0.0461, Te D: 0.0095, Trus: 0.0732\n",
      "E: 037, Tr B: 0.0472, Tr K: 0.0493, Tr D: 0.0096, Te B: 0.0485, Te K: 0.0460, Te D: 0.0099, Trus: 0.0777\n",
      "E: 038, Tr B: 0.0473, Tr K: 0.0487, Tr D: 0.0095, Te B: 0.0485, Te K: 0.0457, Te D: 0.0097, Trus: 0.0750\n",
      "E: 039, Tr B: 0.0472, Tr K: 0.0485, Tr D: 0.0092, Te B: 0.0486, Te K: 0.0455, Te D: 0.0095, Trus: 0.0753\n",
      "E: 040, Tr B: 0.0472, Tr K: 0.0482, Tr D: 0.0097, Te B: 0.0485, Te K: 0.0452, Te D: 0.0101, Trus: 0.0774\n",
      "E: 041, Tr B: 0.0471, Tr K: 0.0484, Tr D: 0.0088, Te B: 0.0484, Te K: 0.0454, Te D: 0.0091, Trus: 0.0729\n",
      "E: 042, Tr B: 0.0472, Tr K: 0.0489, Tr D: 0.0092, Te B: 0.0486, Te K: 0.0458, Te D: 0.0095, Trus: 0.0722\n",
      "E: 043, Tr B: 0.0473, Tr K: 0.0486, Tr D: 0.0094, Te B: 0.0486, Te K: 0.0456, Te D: 0.0097, Trus: 0.0720\n",
      "E: 044, Tr B: 0.0473, Tr K: 0.0479, Tr D: 0.0090, Te B: 0.0485, Te K: 0.0448, Te D: 0.0093, Trus: 0.0753\n",
      "E: 045, Tr B: 0.0472, Tr K: 0.0479, Tr D: 0.0089, Te B: 0.0483, Te K: 0.0449, Te D: 0.0091, Trus: 0.0761\n",
      "E: 046, Tr B: 0.0472, Tr K: 0.0473, Tr D: 0.0091, Te B: 0.0486, Te K: 0.0444, Te D: 0.0094, Trus: 0.0806\n",
      "E: 047, Tr B: 0.0473, Tr K: 0.0470, Tr D: 0.0098, Te B: 0.0485, Te K: 0.0442, Te D: 0.0100, Trus: 0.0778\n",
      "E: 048, Tr B: 0.0472, Tr K: 0.0476, Tr D: 0.0088, Te B: 0.0484, Te K: 0.0446, Te D: 0.0090, Trus: 0.0772\n",
      "E: 049, Tr B: 0.0473, Tr K: 0.0480, Tr D: 0.0093, Te B: 0.0482, Te K: 0.0449, Te D: 0.0094, Trus: 0.0707\n",
      "E: 050, Tr B: 0.0473, Tr K: 0.0470, Tr D: 0.0093, Te B: 0.0482, Te K: 0.0439, Te D: 0.0094, Trus: 0.0721\n",
      "E: 051, Tr B: 0.0472, Tr K: 0.0469, Tr D: 0.0092, Te B: 0.0483, Te K: 0.0438, Te D: 0.0094, Trus: 0.0731\n",
      "E: 052, Tr B: 0.0474, Tr K: 0.0476, Tr D: 0.0088, Te B: 0.0484, Te K: 0.0443, Te D: 0.0089, Trus: 0.0707\n",
      "E: 053, Tr B: 0.0474, Tr K: 0.0476, Tr D: 0.0087, Te B: 0.0483, Te K: 0.0444, Te D: 0.0088, Trus: 0.0679\n",
      "E: 054, Tr B: 0.0473, Tr K: 0.0471, Tr D: 0.0081, Te B: 0.0484, Te K: 0.0438, Te D: 0.0083, Trus: 0.0685\n",
      "E: 055, Tr B: 0.0473, Tr K: 0.0466, Tr D: 0.0082, Te B: 0.0486, Te K: 0.0433, Te D: 0.0084, Trus: 0.0703\n",
      "E: 056, Tr B: 0.0473, Tr K: 0.0476, Tr D: 0.0084, Te B: 0.0486, Te K: 0.0441, Te D: 0.0086, Trus: 0.0733\n",
      "E: 057, Tr B: 0.0473, Tr K: 0.0476, Tr D: 0.0083, Te B: 0.0484, Te K: 0.0442, Te D: 0.0085, Trus: 0.0692\n",
      "E: 058, Tr B: 0.0474, Tr K: 0.0472, Tr D: 0.0090, Te B: 0.0485, Te K: 0.0440, Te D: 0.0093, Trus: 0.0741\n",
      "E: 059, Tr B: 0.0473, Tr K: 0.0478, Tr D: 0.0089, Te B: 0.0484, Te K: 0.0444, Te D: 0.0091, Trus: 0.0710\n",
      "E: 060, Tr B: 0.0474, Tr K: 0.0468, Tr D: 0.0082, Te B: 0.0484, Te K: 0.0436, Te D: 0.0084, Trus: 0.0731\n",
      "E: 061, Tr B: 0.0474, Tr K: 0.0462, Tr D: 0.0080, Te B: 0.0487, Te K: 0.0430, Te D: 0.0082, Trus: 0.0739\n",
      "E: 062, Tr B: 0.0474, Tr K: 0.0461, Tr D: 0.0083, Te B: 0.0485, Te K: 0.0429, Te D: 0.0084, Trus: 0.0753\n",
      "E: 063, Tr B: 0.0475, Tr K: 0.0475, Tr D: 0.0081, Te B: 0.0488, Te K: 0.0440, Te D: 0.0082, Trus: 0.0690\n",
      "E: 064, Tr B: 0.0474, Tr K: 0.0460, Tr D: 0.0085, Te B: 0.0484, Te K: 0.0429, Te D: 0.0087, Trus: 0.0772\n",
      "E: 065, Tr B: 0.0474, Tr K: 0.0463, Tr D: 0.0081, Te B: 0.0486, Te K: 0.0431, Te D: 0.0083, Trus: 0.0710\n",
      "E: 066, Tr B: 0.0474, Tr K: 0.0468, Tr D: 0.0084, Te B: 0.0488, Te K: 0.0433, Te D: 0.0086, Trus: 0.0758\n",
      "E: 067, Tr B: 0.0475, Tr K: 0.0477, Tr D: 0.0084, Te B: 0.0484, Te K: 0.0442, Te D: 0.0085, Trus: 0.0686\n",
      "E: 068, Tr B: 0.0474, Tr K: 0.0477, Tr D: 0.0081, Te B: 0.0485, Te K: 0.0443, Te D: 0.0081, Trus: 0.0695\n",
      "E: 069, Tr B: 0.0474, Tr K: 0.0477, Tr D: 0.0083, Te B: 0.0483, Te K: 0.0443, Te D: 0.0084, Trus: 0.0682\n",
      "E: 070, Tr B: 0.0474, Tr K: 0.0473, Tr D: 0.0089, Te B: 0.0486, Te K: 0.0439, Te D: 0.0091, Trus: 0.0751\n",
      "E: 071, Tr B: 0.0475, Tr K: 0.0464, Tr D: 0.0094, Te B: 0.0482, Te K: 0.0433, Te D: 0.0097, Trus: 0.0735\n",
      "E: 072, Tr B: 0.0473, Tr K: 0.0465, Tr D: 0.0083, Te B: 0.0482, Te K: 0.0433, Te D: 0.0084, Trus: 0.0686\n",
      "E: 073, Tr B: 0.0474, Tr K: 0.0465, Tr D: 0.0081, Te B: 0.0484, Te K: 0.0434, Te D: 0.0082, Trus: 0.0695\n",
      "E: 074, Tr B: 0.0474, Tr K: 0.0464, Tr D: 0.0082, Te B: 0.0484, Te K: 0.0432, Te D: 0.0082, Trus: 0.0689\n",
      "E: 075, Tr B: 0.0474, Tr K: 0.0459, Tr D: 0.0086, Te B: 0.0482, Te K: 0.0428, Te D: 0.0086, Trus: 0.0705\n",
      "E: 076, Tr B: 0.0473, Tr K: 0.0462, Tr D: 0.0082, Te B: 0.0484, Te K: 0.0431, Te D: 0.0083, Trus: 0.0689\n",
      "E: 077, Tr B: 0.0475, Tr K: 0.0462, Tr D: 0.0086, Te B: 0.0484, Te K: 0.0429, Te D: 0.0085, Trus: 0.0691\n",
      "E: 078, Tr B: 0.0474, Tr K: 0.0461, Tr D: 0.0088, Te B: 0.0483, Te K: 0.0431, Te D: 0.0088, Trus: 0.0727\n",
      "E: 079, Tr B: 0.0474, Tr K: 0.0464, Tr D: 0.0082, Te B: 0.0481, Te K: 0.0432, Te D: 0.0082, Trus: 0.0686\n",
      "E: 080, Tr B: 0.0474, Tr K: 0.0459, Tr D: 0.0086, Te B: 0.0482, Te K: 0.0429, Te D: 0.0086, Trus: 0.0684\n",
      "E: 081, Tr B: 0.0473, Tr K: 0.0461, Tr D: 0.0097, Te B: 0.0480, Te K: 0.0432, Te D: 0.0097, Trus: 0.0704\n",
      "E: 082, Tr B: 0.0474, Tr K: 0.0466, Tr D: 0.0084, Te B: 0.0484, Te K: 0.0434, Te D: 0.0084, Trus: 0.0675\n",
      "E: 083, Tr B: 0.0475, Tr K: 0.0472, Tr D: 0.0083, Te B: 0.0482, Te K: 0.0437, Te D: 0.0084, Trus: 0.0681\n",
      "E: 084, Tr B: 0.0475, Tr K: 0.0461, Tr D: 0.0084, Te B: 0.0482, Te K: 0.0425, Te D: 0.0084, Trus: 0.0659\n",
      "E: 085, Tr B: 0.0474, Tr K: 0.0466, Tr D: 0.0084, Te B: 0.0484, Te K: 0.0432, Te D: 0.0085, Trus: 0.0707\n",
      "E: 086, Tr B: 0.0474, Tr K: 0.0474, Tr D: 0.0084, Te B: 0.0483, Te K: 0.0437, Te D: 0.0085, Trus: 0.0664\n",
      "E: 087, Tr B: 0.0475, Tr K: 0.0470, Tr D: 0.0085, Te B: 0.0481, Te K: 0.0434, Te D: 0.0085, Trus: 0.0648\n",
      "E: 088, Tr B: 0.0474, Tr K: 0.0468, Tr D: 0.0089, Te B: 0.0481, Te K: 0.0431, Te D: 0.0089, Trus: 0.0664\n",
      "E: 089, Tr B: 0.0475, Tr K: 0.0484, Tr D: 0.0088, Te B: 0.0480, Te K: 0.0446, Te D: 0.0089, Trus: 0.0642\n"
     ]
    }
   ],
   "source": [
    "train_biological_losses_all_epochs = []\n",
    "train_kabsch_losses_all_epochs = []\n",
    "train_distance_losses_all_epochs = []\n",
    "\n",
    "test_biological_losses_all_epochs = []\n",
    "test_kabsch_losses_all_epochs = []\n",
    "test_distance_losses_all_epochs = []\n",
    "\n",
    "losses = []\n",
    "\n",
    "trussart_test_kabsch_losses_all_epochs = []\n",
    "\n",
    "for epoch in range(1, NB_EPOCHS+1):\n",
    "    loss = train()\n",
    "    losses.append(loss)\n",
    "    \n",
    "    ### Training\n",
    "    train_mean_biological_loss, train_mean_kabsch_loss, train_mean_distance_loss, train_true_hics, \\\n",
    "        train_pred_structures, train_true_structures, train_pred_distances, \\\n",
    "            train_true_distances = evaluate(train_loader) \n",
    "    \n",
    "    # Store results\n",
    "    train_biological_losses_all_epochs.append(train_mean_biological_loss)\n",
    "    train_kabsch_losses_all_epochs.append(train_mean_kabsch_loss)    \n",
    "    train_distance_losses_all_epochs.append(train_mean_distance_loss)\n",
    "    \n",
    "    ### Testing\n",
    "    test_mean_biological_loss, test_mean_kabsch_loss, test_mean_distance_loss, test_true_hics, \\\n",
    "        test_pred_structures, test_true_structures, test_pred_distances, \\\n",
    "            test_true_distances = evaluate(test_loader) \n",
    "    \n",
    "    ### Trussart test\n",
    "    trussart_test_kabsch_loss = compute_trussart_test_kabsch_loss()\n",
    "    \n",
    "    # Store results\n",
    "    test_biological_losses_all_epochs.append(test_mean_biological_loss)\n",
    "    test_kabsch_losses_all_epochs.append(test_mean_kabsch_loss)    \n",
    "    test_distance_losses_all_epochs.append(test_mean_distance_loss)\n",
    "    \n",
    "    trussart_test_kabsch_losses_all_epochs.append(trussart_test_kabsch_loss)\n",
    "    \n",
    "    print('E: {:03d}, Tr B: {:.4f}, Tr K: {:.4f}, Tr D: {:.4f}, Te B: {:.4f}, Te K: {:.4f}, Te D: {:.4f}, Trus: {:.4f}'.format(\\\n",
    "        epoch, train_mean_biological_loss, train_mean_kabsch_loss, train_mean_distance_loss, \\\n",
    "            test_mean_biological_loss, test_mean_kabsch_loss, test_mean_distance_loss, trussart_test_kabsch_loss))"
   ]
  },
  {
   "cell_type": "code",
   "execution_count": 40,
   "metadata": {},
   "outputs": [
    {
     "data": {
      "text/plain": [
       "0.06424972370769395"
      ]
     },
     "execution_count": 40,
     "metadata": {},
     "output_type": "execute_result"
    }
   ],
   "source": [
    "np.min(trussart_test_kabsch_losses_all_epochs)"
   ]
  },
  {
   "cell_type": "code",
   "execution_count": 41,
   "metadata": {},
   "outputs": [
    {
     "data": {
      "image/png": "[encoded data removed]",
      "text/plain": [
       "<Figure size 640x480 with 1 Axes>"
      ]
     },
     "metadata": {},
     "output_type": "display_data"
    }
   ],
   "source": [
    "plt.plot(losses, label='Losses')\n",
    "plt.legend()\n",
    "\n",
    "plt.show()"
   ]
  },
  {
   "cell_type": "code",
   "execution_count": 42,
   "metadata": {},
   "outputs": [
    {
     "data": {
      "image/png": "[encoded data removed]",
      "text/plain": [
       "<Figure size 640x480 with 1 Axes>"
      ]
     },
     "metadata": {},
     "output_type": "display_data"
    }
   ],
   "source": [
    "plt.plot(train_biological_losses_all_epochs, label='Train Bio')\n",
    "plt.plot(test_biological_losses_all_epochs, label='Test Bio')\n",
    "\n",
    "plt.legend()\n",
    "plt.show()"
   ]
  },
  {
   "cell_type": "code",
   "execution_count": 43,
   "metadata": {},
   "outputs": [
    {
     "data": {
      "image/png": "[encoded data removed]",
      "text/plain": [
       "<Figure size 640x480 with 1 Axes>"
      ]
     },
     "metadata": {},
     "output_type": "display_data"
    }
   ],
   "source": [
    "plt.plot(train_kabsch_losses_all_epochs, label='Train Kabsch')\n",
    "plt.plot(test_kabsch_losses_all_epochs, label='Test Kabsch')\n",
    "\n",
    "plt.legend()\n",
    "plt.show()"
   ]
  },
  {
   "cell_type": "code",
   "execution_count": 44,
   "metadata": {},
   "outputs": [
    {
     "data": {
      "image/png": "[encoded data removed]",
      "text/plain": [
       "<Figure size 640x480 with 1 Axes>"
      ]
     },
     "metadata": {},
     "output_type": "display_data"
    }
   ],
   "source": [
    "plt.plot(train_distance_losses_all_epochs, label='Train Dist')\n",
    "plt.plot(test_distance_losses_all_epochs, label='Test Dist')\n",
    "\n",
    "plt.legend()\n",
    "plt.show()"
   ]
  },
  {
   "cell_type": "code",
   "execution_count": 45,
   "metadata": {},
   "outputs": [
    {
     "data": {
      "image/png": "[encoded data removed]",
      "text/plain": [
       "<Figure size 640x480 with 1 Axes>"
      ]
     },
     "metadata": {},
     "output_type": "display_data"
    }
   ],
   "source": [
    "plt.plot(trussart_test_kabsch_losses_all_epochs, label='Test Trussart Kabsch')\n",
    "\n",
    "plt.legend()\n",
    "plt.show()"
   ]
  },
  {
   "cell_type": "code",
   "execution_count": 46,
   "metadata": {},
   "outputs": [],
   "source": [
    "GRAPH_TESTED = 0"
   ]
  },
  {
   "cell_type": "code",
   "execution_count": 47,
   "metadata": {},
   "outputs": [
    {
     "data": {
      "image/png": "[encoded data removed]",
      "text/plain": [
       "<Figure size 1500x1500 with 2 Axes>"
      ]
     },
     "metadata": {},
     "output_type": "display_data"
    }
   ],
   "source": [
    "fig, axes = plt.subplots(1, 2, figsize=(15,15))\n",
    "\n",
    "ground_truth_matrix = test_true_distances[GRAPH_TESTED*NB_BINS:GRAPH_TESTED*NB_BINS+NB_BINS, :]\n",
    "axes[0].imshow(ground_truth_matrix, cmap='hot', interpolation='nearest')\n",
    "\n",
    "reconstruction_matrix = test_pred_distances[GRAPH_TESTED*NB_BINS:GRAPH_TESTED*NB_BINS+NB_BINS, :]\n",
    "axes[1].imshow(reconstruction_matrix, cmap='hot', interpolation='nearest')\n",
    "\n",
    "plt.show()"
   ]
  },
  {
   "cell_type": "code",
   "execution_count": 48,
   "metadata": {},
   "outputs": [
    {
     "data": {
      "application/vnd.plotly.v1+json": {
       "config": {
        "plotlyServerURL": "https://plot.ly"
       },
       "data": [
        {
         "line": {
          "color": "darkblue",
          "width": 2
         },
         "marker": {
          "color": [
           0,
           1,
           2,
           3,
           4,
           5,
           6,
           7,
           8,
           9,
           10,
           11,
           12,
           13,
           14,
           15,
           16,
           17,
           18,
           19,
           20,
           21,
           22,
           23,
           24,
           25,
           26,
           27,
           28,
           29,
           30,
           31,
           32,
           33,
           34,
           35,
           36,
           37,
           38,
           39,
           40,
           41,
           42,
           43,
           44,
           45,
           46,
           47,
           48,
           49,
           50,
           51,
           52,
           53,
           54,
           55,
           56,
           57,
           58,
           59,
           60,
           61,
           62,
           63,
           64,
           65,
           66,
           67,
           68,
           69,
           70,
           71,
           72,
           73,
           74,
           75,
           76,
           77,
           78,
           79,
           80,
           81,
           82,
           83,
           84,
           85,
           86,
           87,
           88,
           89,
           90,
           91,
           92,
           93,
           94,
           95,
           96,
           97,
           98,
           99,
           100,
           101,
           102,
           103,
           104,
           105,
           106,
           107,
           108,
           109,
           110,
           111,
           112,
           113,
           114,
           115,
           116,
           117,
           118,
           119,
           120,
           121,
           122,
           123,
           124,
           125,
           126,
           127,
           128,
           129,
           130,
           131,
           132,
           133,
           134,
           135,
           136,
           137,
           138,
           139,
           140,
           141,
           142,
           143,
           144,
           145,
           146,
           147,
           148,
           149,
           150,
           151,
           152,
           153,
           154,
           155,
           156,
           157,
           158,
           159,
           160,
           161,
           162,
           163,
           164,
           165,
           166,
           167,
           168,
           169,
           170,
           171,
           172,
           173,
           174,
           175,
           176,
           177,
           178,
           179,
           180,
           181,
           182,
           183,
           184,
           185,
           186,
           187,
           188,
           189,
           190,
           191,
           192,
           193,
           194,
           195,
           196,
           197,
           198,
           199,
           200,
           201
          ],
          "colorscale": [
           [
            0,
            "#440154"
           ],
           [
            0.1111111111111111,
            "#482878"
           ],
           [
            0.2222222222222222,
            "#3e4989"
           ],
           [
            0.3333333333333333,
            "#31688e"
           ],
           [
            0.4444444444444444,
            "#26828e"
           ],
           [
            0.5555555555555556,
            "#1f9e89"
           ],
           [
            0.6666666666666666,
            "#35b779"
           ],
           [
            0.7777777777777778,
            "#6ece58"
           ],
           [
            0.8888888888888888,
            "#b5de2b"
           ],
           [
            1,
            "#fde725"
           ]
          ],
          "size": 4
         },
         "scene": "scene",
         "type": "scatter3d",
         "x": [
          0.17103983461856842,
          0.1044694110751152,
          0.1044694110751152,
          0.17103983461856842,
          0.1044694110751152,
          0.1044694110751152,
          0.03789898380637169,
          -0.028671439737081528,
          -0.028671439737081528,
          -0.028671439737081528,
          -0.09524187445640564,
          -0.09524187445640564,
          -0.028671439737081528,
          -0.028671439737081528,
          0.03789898380637169,
          0.1044694110751152,
          0.1044694110751152,
          0.03789898380637169,
          0.1044694110751152,
          0.1044694110751152,
          0.03789898380637169,
          0.03789898380637169,
          0.1044694110751152,
          0.17103983461856842,
          0.23761026561260223,
          0.30418068170547485,
          0.3707510828971863,
          0.30418068170547485,
          0.30418068170547485,
          0.30418068170547485,
          0.30418068170547485,
          0.3707510828971863,
          0.30418068170547485,
          0.30418068170547485,
          0.3707510828971863,
          0.3707510828971863,
          0.4373215436935425,
          0.3707510828971863,
          0.3707510828971863,
          0.30418068170547485,
          0.30418068170547485,
          0.23761026561260223,
          0.23761026561260223,
          0.17103983461856842,
          0.1044694110751152,
          0.03789898380637169,
          0.03789898380637169,
          0.1044694110751152,
          0.17103983461856842,
          0.23761026561260223,
          0.30418068170547485,
          0.30418068170547485,
          0.23761026561260223,
          0.30418068170547485,
          0.30418068170547485,
          0.3707510828971863,
          0.30418068170547485,
          0.23761026561260223,
          0.17103983461856842,
          0.1044694110751152,
          0.03789898380637169,
          0.03789898380637169,
          -0.028671439737081528,
          -0.09524187445640564,
          -0.16181229054927826,
          -0.16181229054927826,
          -0.16181229054927826,
          -0.09524187445640564,
          -0.09524187445640564,
          -0.09524187445640564,
          -0.09524187445640564,
          -0.09524187445640564,
          -0.09524187445640564,
          -0.09524187445640564,
          -0.028671439737081528,
          -0.028671439737081528,
          0.03789898380637169,
          0.03789898380637169,
          -0.028671439737081528,
          -0.028671439737081528,
          0.03789898380637169,
          -0.028671439737081528,
          -0.09524187445640564,
          -0.16181229054927826,
          -0.16181229054927826,
          -0.22838272154331207,
          -0.2949531376361847,
          -0.3615235686302185,
          -0.2949531376361847,
          -0.3615235686302185,
          -0.3615235686302185,
          -0.4280940294265747,
          -0.4280940294265747,
          -0.3615235686302185,
          -0.3615235686302185,
          -0.2949531376361847,
          -0.22838272154331207,
          -0.16181229054927826,
          -0.09524187445640564,
          -0.028671439737081528,
          -0.028671439737081528,
          0.03789898380637169,
          -0.028671439737081528,
          -0.09524187445640564,
          -0.09524187445640564,
          -0.09524187445640564,
          -0.16181229054927826,
          -0.22838272154331207,
          -0.16181229054927826,
          -0.09524187445640564,
          -0.09524187445640564,
          -0.16181229054927826,
          -0.22838272154331207,
          -0.2949531376361847,
          -0.2949531376361847,
          -0.22838272154331207,
          -0.16181229054927826,
          -0.09524187445640564,
          -0.028671439737081528,
          -0.09524187445640564,
          -0.028671439737081528,
          -0.09524187445640564,
          -0.09524187445640564,
          -0.028671439737081528,
          0.03789898380637169,
          -0.028671439737081528,
          0.03789898380637169,
          0.03789898380637169,
          -0.028671439737081528,
          -0.028671439737081528,
          -0.028671439737081528,
          0.03789898380637169,
          0.03789898380637169,
          -0.028671439737081528,
          -0.028671439737081528,
          0.03789898380637169,
          0.03789898380637169,
          -0.028671439737081528,
          -0.09524187445640564,
          -0.028671439737081528,
          0.03789898380637169,
          -0.028671439737081528,
          -0.09524187445640564,
          -0.028671439737081528,
          -0.028671439737081528,
          -0.09524187445640564,
          -0.16181229054927826,
          -0.22838272154331207,
          -0.2949531376361847,
          -0.22838272154331207,
          -0.16181229054927826,
          -0.16181229054927826,
          -0.16181229054927826,
          -0.09524187445640564,
          -0.028671439737081528,
          0.03789898380637169,
          0.03789898380637169,
          0.03789898380637169,
          0.03789898380637169,
          -0.028671439737081528,
          0.03789898380637169,
          0.03789898380637169,
          0.1044694110751152,
          0.17103983461856842,
          0.17103983461856842,
          0.23761026561260223,
          0.17103983461856842,
          0.1044694110751152,
          0.03789898380637169,
          0.03789898380637169,
          -0.028671439737081528,
          0.03789898380637169,
          0.1044694110751152,
          0.03789898380637169,
          0.1044694110751152,
          0.03789898380637169,
          0.1044694110751152,
          0.1044694110751152,
          0.03789898380637169,
          -0.028671439737081528,
          -0.028671439737081528,
          0.03789898380637169,
          0.03789898380637169,
          -0.028671439737081528,
          -0.028671439737081528,
          -0.028671439737081528,
          -0.028671439737081528,
          -0.028671439737081528,
          -0.09524187445640564,
          -0.028671439737081528,
          -0.028671439737081528,
          -0.09524187445640564,
          -0.16181229054927826,
          -0.16181229054927826,
          -0.16181229054927826,
          -0.16181229054927826,
          -0.16181229054927826,
          -0.22838272154331207,
          -0.16181229054927826,
          -0.09524187445640564,
          -0.16181229054927826,
          -0.22838272154331207
         ],
         "y": [
          -0.20729127526283264,
          -0.27386167645454407,
          -0.20729127526283264,
          -0.14072084426879883,
          -0.20729127526283264,
          -0.14072084426879883,
          -0.20729127526283264,
          -0.20729127526283264,
          -0.20729127526283264,
          -0.27386167645454407,
          -0.20729127526283264,
          -0.27386167645454407,
          -0.27386167645454407,
          -0.3404321074485779,
          -0.3404321074485779,
          -0.3404321074485779,
          -0.3404321074485779,
          -0.3404321074485779,
          -0.4070025384426117,
          -0.4735729694366455,
          -0.4070025384426117,
          -0.3404321074485779,
          -0.4070025384426117,
          -0.3404321074485779,
          -0.3404321074485779,
          -0.4070025384426117,
          -0.4735729694366455,
          -0.4070025384426117,
          -0.3404321074485779,
          -0.3404321074485779,
          -0.4070025384426117,
          -0.4735729694366455,
          -0.4735729694366455,
          -0.4735729694366455,
          -0.4735729694366455,
          -0.4070025384426117,
          -0.3404321074485779,
          -0.4070025384426117,
          -0.3404321074485779,
          -0.4070025384426117,
          -0.4735729694366455,
          -0.4735729694366455,
          -0.4070025384426117,
          -0.3404321074485779,
          -0.27386167645454407,
          -0.20729127526283264,
          -0.27386167645454407,
          -0.20729127526283264,
          -0.14072084426879883,
          -0.14072084426879883,
          -0.20729127526283264,
          -0.27386167645454407,
          -0.20729127526283264,
          -0.14072084426879883,
          -0.20729127526283264,
          -0.27386167645454407,
          -0.27386167645454407,
          -0.27386167645454407,
          -0.27386167645454407,
          -0.27386167645454407,
          -0.3404321074485779,
          -0.4070025384426117,
          -0.3404321074485779,
          -0.27386167645454407,
          -0.3404321074485779,
          -0.27386167645454407,
          -0.3404321074485779,
          -0.4070025384426117,
          -0.4070025384426117,
          -0.3404321074485779,
          -0.3404321074485779,
          -0.3404321074485779,
          -0.3404321074485779,
          -0.4070025384426117,
          -0.4070025384426117,
          -0.3404321074485779,
          -0.4070025384426117,
          -0.3404321074485779,
          -0.27386167645454407,
          -0.27386167645454407,
          -0.3404321074485779,
          -0.27386167645454407,
          -0.20729127526283264,
          -0.20729127526283264,
          -0.20729127526283264,
          -0.27386167645454407,
          -0.27386167645454407,
          -0.20729127526283264,
          -0.14072084426879883,
          -0.14072084426879883,
          -0.20729127526283264,
          -0.14072084426879883,
          -0.20729127526283264,
          -0.27386167645454407,
          -0.27386167645454407,
          -0.27386167645454407,
          -0.27386167645454407,
          -0.3404321074485779,
          -0.27386167645454407,
          -0.27386167645454407,
          -0.3404321074485779,
          -0.3404321074485779,
          -0.27386167645454407,
          -0.3404321074485779,
          -0.27386167645454407,
          -0.27386167645454407,
          -0.27386167645454407,
          -0.3404321074485779,
          -0.27386167645454407,
          -0.27386167645454407,
          -0.20729127526283264,
          -0.14072084426879883,
          -0.14072084426879883,
          -0.14072084426879883,
          -0.20729127526283264,
          -0.27386167645454407,
          -0.27386167645454407,
          -0.20729127526283264,
          -0.14072084426879883,
          -0.07415042072534561,
          -0.14072084426879883,
          -0.07415042072534561,
          -0.14072084426879883,
          -0.14072084426879883,
          -0.14072084426879883,
          -0.20729127526283264,
          -0.27386167645454407,
          -0.3404321074485779,
          -0.3404321074485779,
          -0.27386167645454407,
          -0.27386167645454407,
          -0.20729127526283264,
          -0.14072084426879883,
          -0.07415042072534561,
          -0.007579993922263384,
          -0.07415042072534561,
          -0.07415042072534561,
          -0.007579993922263384,
          -0.07415042072534561,
          -0.07415042072534561,
          -0.07415042072534561,
          -0.07415042072534561,
          -0.007579993922263384,
          0.05899043008685112,
          0.12556084990501404,
          0.19213129580020905,
          0.25870171189308167,
          0.25870171189308167,
          0.3252721428871155,
          0.3918425738811493,
          0.3918425738811493,
          0.4584130048751831,
          0.5249834060668945,
          0.4584130048751831,
          0.5249834060668945,
          0.5249834060668945,
          0.4584130048751831,
          0.5249834060668945,
          0.5249834060668945,
          0.5915538668632507,
          0.6581242680549622,
          0.5915538668632507,
          0.6581242680549622,
          0.7246946692466736,
          0.7246946692466736,
          0.7246946692466736,
          0.7246946692466736,
          0.7912651300430298,
          0.7912651300430298,
          0.7912651300430298,
          0.857835590839386,
          0.857835590839386,
          0.857835590839386,
          0.857835590839386,
          0.7912651300430298,
          0.7246946692466736,
          0.7912651300430298,
          0.7912651300430298,
          0.7246946692466736,
          0.6581242680549622,
          0.7246946692466736,
          0.7246946692466736,
          0.6581242680549622,
          0.7246946692466736,
          0.7912651300430298,
          0.7246946692466736,
          0.6581242680549622,
          0.6581242680549622,
          0.7246946692466736,
          0.7912651300430298,
          0.7246946692466736,
          0.7912651300430298,
          0.7246946692466736,
          0.7912651300430298,
          0.857835590839386,
          0.9244059920310974,
          0.857835590839386,
          0.7912651300430298,
          0.7912651300430298,
          0.7912651300430298,
          0.7912651300430298,
          0.857835590839386
         ],
         "z": [
          0.06096798554062843,
          0.12753839790821075,
          0.19410884380340576,
          0.12753839790821075,
          0.12753839790821075,
          0.19410884380340576,
          0.19410884380340576,
          0.19410884380340576,
          0.19410884380340576,
          0.12753839790821075,
          0.12753839790821075,
          0.06096798554062843,
          -0.005602439399808645,
          0.06096798554062843,
          0.12753839790821075,
          0.12753839790821075,
          0.12753839790821075,
          0.12753839790821075,
          0.19410884380340576,
          0.19410884380340576,
          0.12753839790821075,
          0.06096798554062843,
          0.06096798554062843,
          -0.005602439399808645,
          -0.005602439399808645,
          -0.0721728652715683,
          -0.1387432962656021,
          -0.0721728652715683,
          -0.0721728652715683,
          -0.005602439399808645,
          -0.005602439399808645,
          -0.0721728652715683,
          -0.1387432962656021,
          -0.20531372725963593,
          -0.27188414335250854,
          -0.33845454454421997,
          -0.27188414335250854,
          -0.27188414335250854,
          -0.20531372725963593,
          -0.1387432962656021,
          -0.20531372725963593,
          -0.27188414335250854,
          -0.27188414335250854,
          -0.20531372725963593,
          -0.27188414335250854,
          -0.33845454454421997,
          -0.27188414335250854,
          -0.27188414335250854,
          -0.33845454454421997,
          -0.27188414335250854,
          -0.27188414335250854,
          -0.33845454454421997,
          -0.40502500534057617,
          -0.40502500534057617,
          -0.33845454454421997,
          -0.33845454454421997,
          -0.33845454454421997,
          -0.40502500534057617,
          -0.33845454454421997,
          -0.33845454454421997,
          -0.27188414335250854,
          -0.20531372725963593,
          -0.20531372725963593,
          -0.20531372725963593,
          -0.1387432962656021,
          -0.20531372725963593,
          -0.1387432962656021,
          -0.0721728652715683,
          -0.1387432962656021,
          -0.0721728652715683,
          -0.005602439399808645,
          -0.005602439399808645,
          -0.0721728652715683,
          -0.1387432962656021,
          -0.0721728652715683,
          -0.005602439399808645,
          -0.005602439399808645,
          0.06096798554062843,
          -0.005602439399808645,
          0.06096798554062843,
          -0.005602439399808645,
          -0.0721728652715683,
          -0.0721728652715683,
          -0.0721728652715683,
          -0.1387432962656021,
          -0.20531372725963593,
          -0.1387432962656021,
          -0.20531372725963593,
          -0.20531372725963593,
          -0.1387432962656021,
          -0.20531372725963593,
          -0.20531372725963593,
          -0.1387432962656021,
          -0.0721728652715683,
          -0.0721728652715683,
          -0.005602439399808645,
          -0.0721728652715683,
          -0.1387432962656021,
          -0.0721728652715683,
          -0.1387432962656021,
          -0.0721728652715683,
          -0.005602439399808645,
          -0.005602439399808645,
          0.06096798554062843,
          0.12753839790821075,
          0.12753839790821075,
          0.06096798554062843,
          0.06096798554062843,
          -0.005602439399808645,
          0.06096798554062843,
          -0.005602439399808645,
          -0.005602439399808645,
          -0.0721728652715683,
          -0.005602439399808645,
          -0.005602439399808645,
          -0.0721728652715683,
          -0.005602439399808645,
          0.06096798554062843,
          0.12753839790821075,
          0.06096798554062843,
          0.12753839790821075,
          0.19410884380340576,
          0.2606792747974396,
          0.327249675989151,
          0.2606792747974396,
          0.2606792747974396,
          0.2606792747974396,
          0.19410884380340576,
          0.19410884380340576,
          0.2606792747974396,
          0.19410884380340576,
          0.2606792747974396,
          0.2606792747974396,
          0.19410884380340576,
          0.12753839790821075,
          0.12753839790821075,
          0.06096798554062843,
          0.06096798554062843,
          0.12753839790821075,
          0.12753839790821075,
          0.06096798554062843,
          0.12753839790821075,
          0.06096798554062843,
          0.12753839790821075,
          0.06096798554062843,
          -0.005602439399808645,
          0.06096798554062843,
          0.12753839790821075,
          0.12753839790821075,
          0.12753839790821075,
          0.06096798554062843,
          0.06096798554062843,
          -0.005602439399808645,
          0.06096798554062843,
          0.06096798554062843,
          0.12753839790821075,
          0.06096798554062843,
          0.06096798554062843,
          -0.005602439399808645,
          -0.005602439399808645,
          0.06096798554062843,
          -0.005602439399808645,
          -0.0721728652715683,
          -0.005602439399808645,
          -0.0721728652715683,
          -0.005602439399808645,
          0.06096798554062843,
          0.06096798554062843,
          -0.005602439399808645,
          -0.0721728652715683,
          -0.1387432962656021,
          -0.1387432962656021,
          -0.1387432962656021,
          -0.0721728652715683,
          -0.0721728652715683,
          -0.005602439399808645,
          0.06096798554062843,
          0.06096798554062843,
          -0.005602439399808645,
          -0.005602439399808645,
          0.06096798554062843,
          0.12753839790821075,
          0.19410884380340576,
          0.12753839790821075,
          0.12753839790821075,
          0.12753839790821075,
          0.12753839790821075,
          0.19410884380340576,
          0.12753839790821075,
          0.12753839790821075,
          0.12753839790821075,
          0.12753839790821075,
          0.19410884380340576,
          0.2606792747974396,
          0.19410884380340576,
          0.19410884380340576,
          0.2606792747974396,
          0.327249675989151,
          0.327249675989151,
          0.3938201367855072,
          0.3938201367855072,
          0.460390567779541
         ]
        },
        {
         "line": {
          "color": "darkblue",
          "width": 2
         },
         "marker": {
          "color": [
           0,
           1,
           2,
           3,
           4,
           5,
           6,
           7,
           8,
           9,
           10,
           11,
           12,
           13,
           14,
           15,
           16,
           17,
           18,
           19,
           20,
           21,
           22,
           23,
           24,
           25,
           26,
           27,
           28,
           29,
           30,
           31,
           32,
           33,
           34,
           35,
           36,
           37,
           38,
           39,
           40,
           41,
           42,
           43,
           44,
           45,
           46,
           47,
           48,
           49,
           50,
           51,
           52,
           53,
           54,
           55,
           56,
           57,
           58,
           59,
           60,
           61,
           62,
           63,
           64,
           65,
           66,
           67,
           68,
           69,
           70,
           71,
           72,
           73,
           74,
           75,
           76,
           77,
           78,
           79,
           80,
           81,
           82,
           83,
           84,
           85,
           86,
           87,
           88,
           89,
           90,
           91,
           92,
           93,
           94,
           95,
           96,
           97,
           98,
           99,
           100,
           101,
           102,
           103,
           104,
           105,
           106,
           107,
           108,
           109,
           110,
           111,
           112,
           113,
           114,
           115,
           116,
           117,
           118,
           119,
           120,
           121,
           122,
           123,
           124,
           125,
           126,
           127,
           128,
           129,
           130,
           131,
           132,
           133,
           134,
           135,
           136,
           137,
           138,
           139,
           140,
           141,
           142,
           143,
           144,
           145,
           146,
           147,
           148,
           149,
           150,
           151,
           152,
           153,
           154,
           155,
           156,
           157,
           158,
           159,
           160,
           161,
           162,
           163,
           164,
           165,
           166,
           167,
           168,
           169,
           170,
           171,
           172,
           173,
           174,
           175,
           176,
           177,
           178,
           179,
           180,
           181,
           182,
           183,
           184,
           185,
           186,
           187,
           188,
           189,
           190,
           191,
           192,
           193,
           194,
           195,
           196,
           197,
           198,
           199,
           200,
           201
          ],
          "colorscale": [
           [
            0,
            "#440154"
           ],
           [
            0.1111111111111111,
            "#482878"
           ],
           [
            0.2222222222222222,
            "#3e4989"
           ],
           [
            0.3333333333333333,
            "#31688e"
           ],
           [
            0.4444444444444444,
            "#26828e"
           ],
           [
            0.5555555555555556,
            "#1f9e89"
           ],
           [
            0.6666666666666666,
            "#35b779"
           ],
           [
            0.7777777777777778,
            "#6ece58"
           ],
           [
            0.8888888888888888,
            "#b5de2b"
           ],
           [
            1,
            "#fde725"
           ]
          ],
          "size": 4
         },
         "scene": "scene2",
         "type": "scatter3d",
         "x": [
          -0.1609812262581583,
          -0.18343040803107194,
          -0.2371185719658309,
          -0.1928188339281586,
          -0.20598715868235495,
          -0.2107979472317061,
          -0.2384136171945664,
          -0.19142986145157254,
          -0.19142986145157254,
          -0.13361990083539657,
          -0.09177845837097658,
          -0.03947545333292018,
          -0.010399602149602368,
          -0.0751356990709608,
          -0.1665535117274502,
          -0.18546832301681676,
          -0.18546832301681676,
          -0.1665535117274502,
          -0.225648221081388,
          -0.2419330174985831,
          -0.17473704111030033,
          -0.09667165756432745,
          -0.09315903919150247,
          -0.043107591428201635,
          -0.008243300162856659,
          0.05370827425964274,
          0.07550176880376504,
          0.05370827425964274,
          0.03271209465359553,
          -0.009238767572235402,
          0.003062384025736624,
          0.07835922802688672,
          0.08228014858306966,
          0.13095872114015372,
          0.13176764699510463,
          0.22031832718813282,
          0.1491205303079385,
          0.13391769415254715,
          0.1333653173303268,
          0.06628561336665315,
          0.13095872114015372,
          0.16676419473928408,
          0.15689424835947857,
          0.14579694864536824,
          0.2108748852121321,
          0.22320931263617916,
          0.20005362599880877,
          0.19263214431862663,
          0.23168343530515545,
          0.2377187671052013,
          0.21246456147534912,
          0.20948909605252916,
          0.3012622404142067,
          0.3362515788323958,
          0.30074567078526276,
          0.2722576813704325,
          0.20948909605252916,
          0.3245530022991455,
          0.23382332902337005,
          0.23862023486830175,
          0.18028896295840174,
          0.17413142959161038,
          0.12896212880137858,
          0.15558550090109563,
          0.15831326624838052,
          0.1919412810350116,
          0.15831326624838052,
          0.11723727989065097,
          0.13032975641829417,
          0.10461667185144155,
          0.02135074011579018,
          0.02135074011579018,
          0.10461667185144155,
          0.13032975641829417,
          0.06095105878437233,
          -0.004959601243786937,
          -0.028784010530836884,
          -0.09667165756432745,
          -0.010399602149602368,
          -0.13030526685871138,
          -0.061516275799376,
          0.04865715325728705,
          0.05993818439214686,
          0.08920315021577858,
          0.12831653470804064,
          0.17401719750573924,
          0.11443365401859414,
          0.19744692338311715,
          0.1610342497933727,
          0.1792902193884918,
          0.19744692338311715,
          0.23693897132871253,
          0.19869921273958524,
          0.09747930540073589,
          0.09747930540073589,
          0.03760845194599096,
          0.11369822912247067,
          0.15831326624838052,
          0.11154792873541254,
          0.11771585036489003,
          0.0893205459435061,
          -0.061516275799376,
          -0.010399602149602368,
          -0.018204935455683694,
          -0.11161217031522574,
          -0.11161217031522574,
          -0.010115961810250998,
          -0.0008123772289736716,
          0.02375139101878562,
          -0.03947545333292018,
          -0.01576123482171209,
          -0.0008849316265587064,
          0.09443621442910208,
          0.09474671280239533,
          0.06048669474857657,
          0.11369822912247067,
          0.02375139101878562,
          -0.07399031385892309,
          -0.17814981737632518,
          -0.059753890473915966,
          -0.17814981737632518,
          -0.1640993922249148,
          -0.22208310172323711,
          -0.2438655649681034,
          -0.24749001717030977,
          -0.23136822652508895,
          -0.2597380180286516,
          -0.2351430616815467,
          -0.1983201853163666,
          -0.2506219666986443,
          -0.17908796257273513,
          -0.2549036044758245,
          -0.24749001717030977,
          -0.2022376341902819,
          -0.17448415847332666,
          -0.17756858078982457,
          -0.10923179597855293,
          -0.1014410666087627,
          -0.1063423057923665,
          -0.15338362700359368,
          -0.10923179597855293,
          -0.15338362700359368,
          -0.08377756911932191,
          -0.1352827481307733,
          -0.08390748887444838,
          -0.017931926335928296,
          -0.034815275011110806,
          -0.007661588274368946,
          -0.07946947529422976,
          -0.0042362163262194405,
          -0.087753841804134,
          -0.068857144689867,
          -0.061807441130347245,
          -0.050086958138614364,
          -0.02847063234622872,
          -0.015609681394454367,
          -0.038362756026416985,
          -0.05838489334160148,
          -0.05832126327502316,
          -0.022489347929302704,
          -0.03865445419933608,
          -0.02099444616403193,
          -0.05889670881886888,
          -0.06225025207096489,
          -0.07819562742032136,
          -0.06613056119662623,
          -0.09514254491051069,
          -0.020497889867723454,
          -0.07963898922534858,
          -0.09922116622419493,
          -0.07233350733778227,
          -0.0738177799060156,
          -0.08187361355227092,
          -0.07370556426487093,
          -0.0957932301405257,
          -0.01601760053901894,
          -0.020497889867723454,
          -0.020497889867723454,
          -0.01601760053901894,
          -0.002559887580332752,
          0.028669216723694473,
          0.0019304541102874548,
          0.00049011369552963,
          -0.012425203166155951,
          -0.015021216095483417,
          -0.012425203166155951,
          0.037423127486147435,
          0.0044660054686250835,
          0.036993920557631725,
          -0.015021216095483417,
          -0.012425203166155951,
          -0.007588753747935873,
          -0.0040799862714855605,
          0.06729913690577989,
          0.020678452168612086,
          -0.00024408530638300716,
          0.057852532505791705,
          0.056802423976353864,
          0.07073620809262408,
          -0.006473263926558003,
          0.10056014495604103,
          -0.12242983930463947
         ],
         "y": [
          -0.22868902187795767,
          -0.2657872087342289,
          -0.19121811934242822,
          -0.16992461495934766,
          -0.21796174393731305,
          -0.13491497902458294,
          -0.18384960505874645,
          -0.17926145727089007,
          -0.17926145727089007,
          -0.24783971783509706,
          -0.22380077856507627,
          -0.25346173145832696,
          -0.2762553107777993,
          -0.32993006217112597,
          -0.33719871631115234,
          -0.31647996144443274,
          -0.31647996144443274,
          -0.33719871631115234,
          -0.3623430800982263,
          -0.4493302454728299,
          -0.37539810380861977,
          -0.3415599976301568,
          -0.371057018138599,
          -0.32456527126524515,
          -0.266838680844578,
          -0.3472941402374949,
          -0.44373462542891096,
          -0.3472941402374949,
          -0.28330991704562253,
          -0.277129598478731,
          -0.3370675781455372,
          -0.374958028051143,
          -0.40172067381837406,
          -0.41456954479815405,
          -0.427367800444137,
          -0.3852231463922119,
          -0.3499160610472265,
          -0.40628247426954966,
          -0.3363887123374006,
          -0.3271459527018498,
          -0.41456954479815405,
          -0.41771498435312215,
          -0.38713418808153277,
          -0.3503877626004279,
          -0.3317456355779093,
          -0.3169660955416606,
          -0.3130113963852347,
          -0.27623152510890026,
          -0.28650288854884,
          -0.2090614062860149,
          -0.2789406433418315,
          -0.3146106463225469,
          -0.2665501099955751,
          -0.23968347917986593,
          -0.2650591847210221,
          -0.2789260520122382,
          -0.3146106463225469,
          -0.3113261105837408,
          -0.31652274493457716,
          -0.3162472866567401,
          -0.37985029666759146,
          -0.3924942345930344,
          -0.38109766872463136,
          -0.3114506687846474,
          -0.3566523546938617,
          -0.3106555369851077,
          -0.3566523546938617,
          -0.3816643427791945,
          -0.40628215049575966,
          -0.33129655182261913,
          -0.32025408031328817,
          -0.32025408031328817,
          -0.33129655182261913,
          -0.40628215049575966,
          -0.4016020851489836,
          -0.3533684929270868,
          -0.40828980939754456,
          -0.3415599976301568,
          -0.2762553107777993,
          -0.3028179011188184,
          -0.3440459883578013,
          -0.31853958020887746,
          -0.27451988772198893,
          -0.2518817450603463,
          -0.297354621817758,
          -0.3413423598879898,
          -0.3443791716526302,
          -0.3123956054995924,
          -0.28470221552025976,
          -0.28610848032034125,
          -0.3123956054995924,
          -0.31732243241257657,
          -0.34626707964190634,
          -0.3526191209748219,
          -0.3526191209748219,
          -0.3188089810398911,
          -0.3386221057072076,
          -0.3566523546938617,
          -0.3127950921744967,
          -0.29647630985106743,
          -0.3234411900799519,
          -0.3440459883578013,
          -0.2762553107777993,
          -0.3133297376911574,
          -0.27080548230963525,
          -0.27080548230963525,
          -0.2862936920157817,
          -0.33380486941156323,
          -0.31277529173586005,
          -0.25346173145832696,
          -0.25124949985512485,
          -0.21677223342013352,
          -0.23235031123264285,
          -0.23205580063885206,
          -0.2655344331138544,
          -0.3386221057072076,
          -0.31277529173586005,
          -0.22422681545256182,
          -0.1329304273943813,
          -0.06761527555444492,
          -0.1329304273943813,
          -0.05139872076003635,
          -0.12694998682078704,
          -0.11366540789575397,
          -0.12796744764547352,
          -0.18145527289774435,
          -0.23504878358918757,
          -0.2781775054602037,
          -0.3061716304872005,
          -0.2492079912108708,
          -0.2752696907863783,
          -0.20088060769745356,
          -0.12796744764547352,
          -0.07248587601809507,
          -0.012904753458325396,
          -0.045733848873073905,
          -0.08313861473275458,
          -0.014617073800407335,
          -0.0833436227415984,
          -0.07868929511856781,
          -0.08313861473275458,
          -0.07868929511856781,
          -0.04593765585433496,
          0.022612771771131204,
          0.07454621601504163,
          0.1295412252612293,
          0.24422199690630295,
          0.23389025026063148,
          0.2953534753750335,
          0.4022304340617631,
          0.3935205846111094,
          0.46518492164320674,
          0.5653155569247323,
          0.5034397384769642,
          0.5721190932238189,
          0.5832240464947003,
          0.5306504572958864,
          0.5743386233761584,
          0.5614035204166394,
          0.6349099209998157,
          0.7282081064821294,
          0.6338672186649961,
          0.7101933356469207,
          0.760967264218373,
          0.7674219481091599,
          0.8001096941292722,
          0.7700214158283963,
          0.8119375938689019,
          0.7671882605065004,
          0.7969529767496316,
          0.8588992073762294,
          0.8816514825297423,
          0.8569498572339813,
          0.8453000610865395,
          0.790702983361772,
          0.7473260431267011,
          0.8119375938689019,
          0.8119375938689019,
          0.7473260431267011,
          0.6926934902948038,
          0.7579973523683862,
          0.7717749381417999,
          0.7382433375062294,
          0.7468141628844088,
          0.8061787784423728,
          0.7468141628844088,
          0.7044257531487521,
          0.7353548044123124,
          0.749935162122337,
          0.8061787784423728,
          0.7468141628844088,
          0.8239467419175753,
          0.8011997387827978,
          0.830535488707708,
          0.8587343394671161,
          0.9315701694881148,
          0.8884523364054525,
          0.8584712587604966,
          0.8460280580275213,
          0.8682458127085126,
          0.8543914774152794,
          0.990446542924572
         ],
         "z": [
          -0.02956458689952709,
          -0.03830711928891332,
          0.0010961467887235668,
          -0.03547531713568789,
          -0.011539261635670687,
          -0.00010515104768659813,
          0.026051627079981474,
          0.040623755096698674,
          0.040623755096698674,
          0.05603081733010614,
          0.09365119384477132,
          0.06648490754581583,
          -0.00693656843979152,
          0.0023912554261344226,
          0.0580885755634959,
          -0.024290819554504416,
          -0.024290819554504416,
          0.0580885755634959,
          -0.018845371972717073,
          -0.014176621048439496,
          -0.0036120662703600986,
          -0.0320397246044219,
          -0.0812911882636723,
          -0.14684104843566942,
          -0.24805465393851248,
          -0.2729514657964945,
          -0.30882015627068005,
          -0.2729514657964945,
          -0.2868184334605646,
          -0.2724868136403807,
          -0.28361019856274605,
          -0.3225183018297561,
          -0.2948825046987196,
          -0.28645750732546504,
          -0.3244887933934998,
          -0.34840292168606346,
          -0.339850056414451,
          -0.3355358373181768,
          -0.3140591665498848,
          -0.2916893648703884,
          -0.28645750732546504,
          -0.2594399108404607,
          -0.23641305741340932,
          -0.18778899266823926,
          -0.1700660201456885,
          -0.14704366491868834,
          -0.12659562690271764,
          -0.1853136142442515,
          -0.21021333050470545,
          -0.250679612656578,
          -0.2596583386866382,
          -0.29094415280973024,
          -0.2921663267575167,
          -0.3219551747489141,
          -0.3182318636248697,
          -0.3409311045289731,
          -0.29094415280973024,
          -0.2808907109544651,
          -0.2265033076171389,
          -0.209354254829451,
          -0.1534219680480371,
          -0.07841648377540081,
          -0.03160157773553707,
          0.001984654076250946,
          0.05004528923098139,
          0.020708536972904267,
          0.05004528923098139,
          -0.0140789800163403,
          -0.009737802075190852,
          0.011929244299181461,
          0.011656847272197148,
          0.011656847272197148,
          0.011929244299181461,
          -0.009737802075190852,
          -0.015541452981637987,
          -0.05386100688016241,
          -0.052895382738499114,
          -0.0320397246044219,
          -0.00693656843979152,
          0.04470381402890479,
          -0.04885446241650381,
          -0.015094675801484549,
          0.034911314968288934,
          0.07219639110962069,
          0.057648693758121976,
          0.07697668797410799,
          0.11935516982249719,
          0.12903870245046573,
          0.11687253762443313,
          0.15380547924699844,
          0.12903870245046573,
          0.17707304599386053,
          0.178584774301462,
          0.14713131365965534,
          0.14713131365965534,
          0.11189155090004779,
          0.07484391370757297,
          0.05004528923098139,
          0.017956001872272614,
          -0.026386622952998588,
          -0.03554993251398386,
          -0.04885446241650381,
          -0.00693656843979152,
          0.01773218282236562,
          0.10207519960410077,
          0.10207519960410077,
          0.06868820943711873,
          0.11150084781862939,
          0.06633271802859052,
          0.06648490754581583,
          0.046728534582669,
          0.07862444453541641,
          0.08270672025889465,
          0.11005428632842847,
          0.12256740791226625,
          0.07484391370757297,
          0.06633271802859052,
          0.08031489593607162,
          0.0642837014308526,
          0.0624332569744465,
          0.0642837014308526,
          0.05041943100349262,
          0.05289683453297873,
          0.04874152385011238,
          0.020746894664078443,
          0.06638615618457831,
          0.040253634656807834,
          -0.031700309993808545,
          0.06314959545628492,
          0.06844824509951129,
          0.0796100207028306,
          0.03014859989484686,
          0.020746894664078443,
          0.05230994963860535,
          0.07900184190828226,
          0.02164245173097825,
          0.023327605958327315,
          0.05729144782360973,
          0.08130589099242967,
          0.03746565253246172,
          0.023327605958327315,
          0.03746565253246172,
          0.08666859063710776,
          0.06043422745435251,
          0.08166295272020294,
          0.1100882556455947,
          0.1454742682834667,
          0.186594414227876,
          0.17333683596558436,
          0.17395721626548835,
          0.10517955061198325,
          0.07981042779686838,
          0.07107524099139255,
          0.07391897703984049,
          0.05975988455567931,
          0.05449773762303752,
          0.04718420269028175,
          0.10022010340432168,
          0.056416743140442406,
          0.0893285782859556,
          0.08087432012933403,
          0.06781606950569856,
          0.0949471490422539,
          0.1951099429502807,
          0.14780885711219294,
          0.07964180878687671,
          0.11214834632374107,
          0.10340036810200992,
          0.12053434509820761,
          0.14402649164149456,
          0.1191132429028992,
          0.14499149270646075,
          0.19692203966642413,
          0.21416709715817064,
          0.14069953097103083,
          0.12608603711880487,
          0.10340036810200992,
          0.10340036810200992,
          0.12608603711880487,
          0.10283392910117807,
          0.12376153329072456,
          0.09982338246554978,
          0.07438496279607291,
          0.09507470352585336,
          0.1108162321717498,
          0.09507470352585336,
          0.10979467735980733,
          0.06417763714265201,
          0.0873156534236147,
          0.1108162321717498,
          0.09507470352585336,
          0.08797019707012765,
          0.09352681844276764,
          0.03919889133817616,
          0.07991418143955037,
          0.09777439851930878,
          0.07865383864888525,
          0.048796953669490606,
          0.0552675086658048,
          0.02378218126600437,
          0.025007371865919586,
          0.06345630243988348
         ]
        }
       ],
       "layout": {
        "height": 1000,
        "scene": {
         "domain": {
          "x": [
           0,
           0.45
          ],
          "y": [
           0,
           1
          ]
         }
        },
        "scene2": {
         "domain": {
          "x": [
           0.55,
           1
          ],
          "y": [
           0,
           1
          ]
         }
        },
        "template": {
         "data": {
          "bar": [
           {
            "error_x": {
             "color": "#2a3f5f"
            },
            "error_y": {
             "color": "#2a3f5f"
            },
            "marker": {
             "line": {
              "color": "#E5ECF6",
              "width": 0.5
             }
            },
            "type": "bar"
           }
          ],
          "barpolar": [
           {
            "marker": {
             "line": {
              "color": "#E5ECF6",
              "width": 0.5
             }
            },
            "type": "barpolar"
           }
          ],
          "carpet": [
           {
            "aaxis": {
             "endlinecolor": "#2a3f5f",
             "gridcolor": "white",
             "linecolor": "white",
             "minorgridcolor": "white",
             "startlinecolor": "#2a3f5f"
            },
            "baxis": {
             "endlinecolor": "#2a3f5f",
             "gridcolor": "white",
             "linecolor": "white",
             "minorgridcolor": "white",
             "startlinecolor": "#2a3f5f"
            },
            "type": "carpet"
           }
          ],
          "choropleth": [
           {
            "colorbar": {
             "outlinewidth": 0,
             "ticks": ""
            },
            "type": "choropleth"
           }
          ],
          "contour": [
           {
            "colorbar": {
             "outlinewidth": 0,
             "ticks": ""
            },
            "colorscale": [
             [
              0,
              "#0d0887"
             ],
             [
              0.1111111111111111,
              "#46039f"
             ],
             [
              0.2222222222222222,
              "#7201a8"
             ],
             [
              0.3333333333333333,
              "#9c179e"
             ],
             [
              0.4444444444444444,
              "#bd3786"
             ],
             [
              0.5555555555555556,
              "#d8576b"
             ],
             [
              0.6666666666666666,
              "#ed7953"
             ],
             [
              0.7777777777777778,
              "#fb9f3a"
             ],
             [
              0.8888888888888888,
              "#fdca26"
             ],
             [
              1,
              "#f0f921"
             ]
            ],
            "type": "contour"
           }
          ],
          "contourcarpet": [
           {
            "colorbar": {
             "outlinewidth": 0,
             "ticks": ""
            },
            "type": "contourcarpet"
           }
          ],
          "heatmap": [
           {
            "colorbar": {
             "outlinewidth": 0,
             "ticks": ""
            },
            "colorscale": [
             [
              0,
              "#0d0887"
             ],
             [
              0.1111111111111111,
              "#46039f"
             ],
             [
              0.2222222222222222,
              "#7201a8"
             ],
             [
              0.3333333333333333,
              "#9c179e"
             ],
             [
              0.4444444444444444,
              "#bd3786"
             ],
             [
              0.5555555555555556,
              "#d8576b"
             ],
             [
              0.6666666666666666,
              "#ed7953"
             ],
             [
              0.7777777777777778,
              "#fb9f3a"
             ],
             [
              0.8888888888888888,
              "#fdca26"
             ],
             [
              1,
              "#f0f921"
             ]
            ],
            "type": "heatmap"
           }
          ],
          "heatmapgl": [
           {
            "colorbar": {
             "outlinewidth": 0,
             "ticks": ""
            },
            "colorscale": [
             [
              0,
              "#0d0887"
             ],
             [
              0.1111111111111111,
              "#46039f"
             ],
             [
              0.2222222222222222,
              "#7201a8"
             ],
             [
              0.3333333333333333,
              "#9c179e"
             ],
             [
              0.4444444444444444,
              "#bd3786"
             ],
             [
              0.5555555555555556,
              "#d8576b"
             ],
             [
              0.6666666666666666,
              "#ed7953"
             ],
             [
              0.7777777777777778,
              "#fb9f3a"
             ],
             [
              0.8888888888888888,
              "#fdca26"
             ],
             [
              1,
              "#f0f921"
             ]
            ],
            "type": "heatmapgl"
           }
          ],
          "histogram": [
           {
            "marker": {
             "colorbar": {
              "outlinewidth": 0,
              "ticks": ""
             }
            },
            "type": "histogram"
           }
          ],
          "histogram2d": [
           {
            "colorbar": {
             "outlinewidth": 0,
             "ticks": ""
            },
            "colorscale": [
             [
              0,
              "#0d0887"
             ],
             [
              0.1111111111111111,
              "#46039f"
             ],
             [
              0.2222222222222222,
              "#7201a8"
             ],
             [
              0.3333333333333333,
              "#9c179e"
             ],
             [
              0.4444444444444444,
              "#bd3786"
             ],
             [
              0.5555555555555556,
              "#d8576b"
             ],
             [
              0.6666666666666666,
              "#ed7953"
             ],
             [
              0.7777777777777778,
              "#fb9f3a"
             ],
             [
              0.8888888888888888,
              "#fdca26"
             ],
             [
              1,
              "#f0f921"
             ]
            ],
            "type": "histogram2d"
           }
          ],
          "histogram2dcontour": [
           {
            "colorbar": {
             "outlinewidth": 0,
             "ticks": ""
            },
            "colorscale": [
             [
              0,
              "#0d0887"
             ],
             [
              0.1111111111111111,
              "#46039f"
             ],
             [
              0.2222222222222222,
              "#7201a8"
             ],
             [
              0.3333333333333333,
              "#9c179e"
             ],
             [
              0.4444444444444444,
              "#bd3786"
             ],
             [
              0.5555555555555556,
              "#d8576b"
             ],
             [
              0.6666666666666666,
              "#ed7953"
             ],
             [
              0.7777777777777778,
              "#fb9f3a"
             ],
             [
              0.8888888888888888,
              "#fdca26"
             ],
             [
              1,
              "#f0f921"
             ]
            ],
            "type": "histogram2dcontour"
           }
          ],
          "mesh3d": [
           {
            "colorbar": {
             "outlinewidth": 0,
             "ticks": ""
            },
            "type": "mesh3d"
           }
          ],
          "parcoords": [
           {
            "line": {
             "colorbar": {
              "outlinewidth": 0,
              "ticks": ""
             }
            },
            "type": "parcoords"
           }
          ],
          "pie": [
           {
            "automargin": true,
            "type": "pie"
           }
          ],
          "scatter": [
           {
            "marker": {
             "colorbar": {
              "outlinewidth": 0,
              "ticks": ""
             }
            },
            "type": "scatter"
           }
          ],
          "scatter3d": [
           {
            "line": {
             "colorbar": {
              "outlinewidth": 0,
              "ticks": ""
             }
            },
            "marker": {
             "colorbar": {
              "outlinewidth": 0,
              "ticks": ""
             }
            },
            "type": "scatter3d"
           }
          ],
          "scattercarpet": [
           {
            "marker": {
             "colorbar": {
              "outlinewidth": 0,
              "ticks": ""
             }
            },
            "type": "scattercarpet"
           }
          ],
          "scattergeo": [
           {
            "marker": {
             "colorbar": {
              "outlinewidth": 0,
              "ticks": ""
             }
            },
            "type": "scattergeo"
           }
          ],
          "scattergl": [
           {
            "marker": {
             "colorbar": {
              "outlinewidth": 0,
              "ticks": ""
             }
            },
            "type": "scattergl"
           }
          ],
          "scattermapbox": [
           {
            "marker": {
             "colorbar": {
              "outlinewidth": 0,
              "ticks": ""
             }
            },
            "type": "scattermapbox"
           }
          ],
          "scatterpolar": [
           {
            "marker": {
             "colorbar": {
              "outlinewidth": 0,
              "ticks": ""
             }
            },
            "type": "scatterpolar"
           }
          ],
          "scatterpolargl": [
           {
            "marker": {
             "colorbar": {
              "outlinewidth": 0,
              "ticks": ""
             }
            },
            "type": "scatterpolargl"
           }
          ],
          "scatterternary": [
           {
            "marker": {
             "colorbar": {
              "outlinewidth": 0,
              "ticks": ""
             }
            },
            "type": "scatterternary"
           }
          ],
          "surface": [
           {
            "colorbar": {
             "outlinewidth": 0,
             "ticks": ""
            },
            "colorscale": [
             [
              0,
              "#0d0887"
             ],
             [
              0.1111111111111111,
              "#46039f"
             ],
             [
              0.2222222222222222,
              "#7201a8"
             ],
             [
              0.3333333333333333,
              "#9c179e"
             ],
             [
              0.4444444444444444,
              "#bd3786"
             ],
             [
              0.5555555555555556,
              "#d8576b"
             ],
             [
              0.6666666666666666,
              "#ed7953"
             ],
             [
              0.7777777777777778,
              "#fb9f3a"
             ],
             [
              0.8888888888888888,
              "#fdca26"
             ],
             [
              1,
              "#f0f921"
             ]
            ],
            "type": "surface"
           }
          ],
          "table": [
           {
            "cells": {
             "fill": {
              "color": "#EBF0F8"
             },
             "line": {
              "color": "white"
             }
            },
            "header": {
             "fill": {
              "color": "#C8D4E3"
             },
             "line": {
              "color": "white"
             }
            },
            "type": "table"
           }
          ]
         },
         "layout": {
          "annotationdefaults": {
           "arrowcolor": "#2a3f5f",
           "arrowhead": 0,
           "arrowwidth": 1
          },
          "autotypenumbers": "strict",
          "coloraxis": {
           "colorbar": {
            "outlinewidth": 0,
            "ticks": ""
           }
          },
          "colorscale": {
           "diverging": [
            [
             0,
             "#8e0152"
            ],
            [
             0.1,
             "#c51b7d"
            ],
            [
             0.2,
             "#de77ae"
            ],
            [
             0.3,
             "#f1b6da"
            ],
            [
             0.4,
             "#fde0ef"
            ],
            [
             0.5,
             "#f7f7f7"
            ],
            [
             0.6,
             "#e6f5d0"
            ],
            [
             0.7,
             "#b8e186"
            ],
            [
             0.8,
             "#7fbc41"
            ],
            [
             0.9,
             "#4d9221"
            ],
            [
             1,
             "#276419"
            ]
           ],
           "sequential": [
            [
             0,
             "#0d0887"
            ],
            [
             0.1111111111111111,
             "#46039f"
            ],
            [
             0.2222222222222222,
             "#7201a8"
            ],
            [
             0.3333333333333333,
             "#9c179e"
            ],
            [
             0.4444444444444444,
             "#bd3786"
            ],
            [
             0.5555555555555556,
             "#d8576b"
            ],
            [
             0.6666666666666666,
             "#ed7953"
            ],
            [
             0.7777777777777778,
             "#fb9f3a"
            ],
            [
             0.8888888888888888,
             "#fdca26"
            ],
            [
             1,
             "#f0f921"
            ]
           ],
           "sequentialminus": [
            [
             0,
             "#0d0887"
            ],
            [
             0.1111111111111111,
             "#46039f"
            ],
            [
             0.2222222222222222,
             "#7201a8"
            ],
            [
             0.3333333333333333,
             "#9c179e"
            ],
            [
             0.4444444444444444,
             "#bd3786"
            ],
            [
             0.5555555555555556,
             "#d8576b"
            ],
            [
             0.6666666666666666,
             "#ed7953"
            ],
            [
             0.7777777777777778,
             "#fb9f3a"
            ],
            [
             0.8888888888888888,
             "#fdca26"
            ],
            [
             1,
             "#f0f921"
            ]
           ]
          },
          "colorway": [
           "#636efa",
           "#EF553B",
           "#00cc96",
           "#ab63fa",
           "#FFA15A",
           "#19d3f3",
           "#FF6692",
           "#B6E880",
           "#FF97FF",
           "#FECB52"
          ],
          "font": {
           "color": "#2a3f5f"
          },
          "geo": {
           "bgcolor": "white",
           "lakecolor": "white",
           "landcolor": "#E5ECF6",
           "showlakes": true,
           "showland": true,
           "subunitcolor": "white"
          },
          "hoverlabel": {
           "align": "left"
          },
          "hovermode": "closest",
          "mapbox": {
           "style": "light"
          },
          "paper_bgcolor": "white",
          "plot_bgcolor": "#E5ECF6",
          "polar": {
           "angularaxis": {
            "gridcolor": "white",
            "linecolor": "white",
            "ticks": ""
           },
           "bgcolor": "#E5ECF6",
           "radialaxis": {
            "gridcolor": "white",
            "linecolor": "white",
            "ticks": ""
           }
          },
          "scene": {
           "xaxis": {
            "backgroundcolor": "#E5ECF6",
            "gridcolor": "white",
            "gridwidth": 2,
            "linecolor": "white",
            "showbackground": true,
            "ticks": "",
            "zerolinecolor": "white"
           },
           "yaxis": {
            "backgroundcolor": "#E5ECF6",
            "gridcolor": "white",
            "gridwidth": 2,
            "linecolor": "white",
            "showbackground": true,
            "ticks": "",
            "zerolinecolor": "white"
           },
           "zaxis": {
            "backgroundcolor": "#E5ECF6",
            "gridcolor": "white",
            "gridwidth": 2,
            "linecolor": "white",
            "showbackground": true,
            "ticks": "",
            "zerolinecolor": "white"
           }
          },
          "shapedefaults": {
           "line": {
            "color": "#2a3f5f"
           }
          },
          "ternary": {
           "aaxis": {
            "gridcolor": "white",
            "linecolor": "white",
            "ticks": ""
           },
           "baxis": {
            "gridcolor": "white",
            "linecolor": "white",
            "ticks": ""
           },
           "bgcolor": "#E5ECF6",
           "caxis": {
            "gridcolor": "white",
            "linecolor": "white",
            "ticks": ""
           }
          },
          "title": {
           "x": 0.05
          },
          "xaxis": {
           "automargin": true,
           "gridcolor": "white",
           "linecolor": "white",
           "ticks": "",
           "title": {
            "standoff": 15
           },
           "zerolinecolor": "white",
           "zerolinewidth": 2
          },
          "yaxis": {
           "automargin": true,
           "gridcolor": "white",
           "linecolor": "white",
           "ticks": "",
           "title": {
            "standoff": 15
           },
           "zerolinecolor": "white",
           "zerolinewidth": 2
          }
         }
        },
        "width": 1000
       }
      }
     },
     "metadata": {},
     "output_type": "display_data"
    },
    {
     "name": "stdout",
     "output_type": "stream",
     "text": [
      "Kabsch distance is 0.07189312200228799\n"
     ]
    },
    {
     "data": {
      "text/plain": [
       "<Figure size 5000x5000 with 0 Axes>"
      ]
     },
     "metadata": {},
     "output_type": "display_data"
    }
   ],
   "source": [
    "fig = plt.figure(figsize=(50, 50))\n",
    "\n",
    "test_true_structure = test_true_structures[GRAPH_TESTED]\n",
    "test_pred_structure = test_pred_structures[GRAPH_TESTED]\n",
    "\n",
    "test_pred_structure_superposed, test_true_structure_superposed = \\\n",
    "        kabsch_superimposition_numpy(test_pred_structure, test_true_structure)\n",
    "\n",
    "x_pred = test_pred_structure_superposed[:, 0]  \n",
    "y_pred = test_pred_structure_superposed[:, 1]\n",
    "z_pred = test_pred_structure_superposed[:, 2]\n",
    "\n",
    "x_true = test_true_structure_superposed[:, 0]  \n",
    "y_true = test_true_structure_superposed[:, 1]\n",
    "z_true = test_true_structure_superposed[:, 2]\n",
    "\n",
    "# Initialize figure with 4 3D subplots\n",
    "fig = make_subplots(\n",
    "    rows=1, cols=2,\n",
    "    specs=[[{'type': 'scatter3d'}, {'type': 'scatter3d'}]])\n",
    "\n",
    "# adding surfaces to subplots.\n",
    "fig.add_trace(\n",
    "    go.Scatter3d(\n",
    "    x=x_true, y=y_true, z=z_true,\n",
    "    marker=dict(\n",
    "        size=4,\n",
    "        color=np.asarray(range(len(x_true))),\n",
    "        colorscale='Viridis',\n",
    "    ),\n",
    "    line=dict(\n",
    "        color='darkblue',\n",
    "        width=2\n",
    "    )\n",
    "), row=1, col=1)\n",
    "\n",
    "fig.add_trace(\n",
    "    go.Scatter3d(\n",
    "    x=x_pred, y=y_pred, z=z_pred,\n",
    "    marker=dict(\n",
    "        size=4,\n",
    "        color=np.asarray(range(len(x_pred))),\n",
    "        colorscale='Viridis',\n",
    "    ),\n",
    "    line=dict(\n",
    "        color='darkblue',\n",
    "        width=2\n",
    "    )\n",
    "),row=1, col=2)\n",
    "\n",
    "fig.update_layout(\n",
    "    height=1000,\n",
    "    width=1000\n",
    ")\n",
    "\n",
    "fig.show()\n",
    "\n",
    "# Shape comparison\n",
    "print('Kabsch distance is ' + str(kabsch_distance_numpy(test_pred_structure, test_true_structure)))"
   ]
  },
  {
   "cell_type": "code",
   "execution_count": 49,
   "metadata": {},
   "outputs": [
    {
     "data": {
      "application/vnd.plotly.v1+json": {
       "config": {
        "plotlyServerURL": "https://plot.ly"
       },
       "data": [
        {
         "line": {
          "color": "darkblue",
          "width": 2
         },
         "marker": {
          "color": [
           0,
           1,
           2,
           3,
           4,
           5,
           6,
           7,
           8,
           9,
           10,
           11,
           12,
           13,
           14,
           15,
           16,
           17,
           18,
           19,
           20,
           21,
           22,
           23,
           24,
           25,
           26,
           27,
           28,
           29,
           30,
           31,
           32,
           33,
           34,
           35,
           36,
           37,
           38,
           39,
           40,
           41,
           42,
           43,
           44,
           45,
           46,
           47,
           48,
           49,
           50,
           51,
           52,
           53,
           54,
           55,
           56,
           57,
           58,
           59,
           60,
           61,
           62,
           63,
           64,
           65,
           66,
           67,
           68,
           69,
           70,
           71,
           72,
           73,
           74,
           75,
           76,
           77,
           78,
           79,
           80,
           81,
           82,
           83,
           84,
           85,
           86,
           87,
           88,
           89,
           90,
           91,
           92,
           93,
           94,
           95,
           96,
           97,
           98,
           99,
           100,
           101,
           102,
           103,
           104,
           105,
           106,
           107,
           108,
           109,
           110,
           111,
           112,
           113,
           114,
           115,
           116,
           117,
           118,
           119,
           120,
           121,
           122,
           123,
           124,
           125,
           126,
           127,
           128,
           129,
           130,
           131,
           132,
           133,
           134,
           135,
           136,
           137,
           138,
           139,
           140,
           141,
           142,
           143,
           144,
           145,
           146,
           147,
           148,
           149,
           150,
           151,
           152,
           153,
           154,
           155,
           156,
           157,
           158,
           159,
           160,
           161,
           162,
           163,
           164,
           165,
           166,
           167,
           168,
           169,
           170,
           171,
           172,
           173,
           174,
           175,
           176,
           177,
           178,
           179,
           180,
           181,
           182,
           183,
           184,
           185,
           186,
           187,
           188,
           189,
           190,
           191,
           192,
           193,
           194,
           195,
           196,
           197,
           198,
           199,
           200,
           201
          ],
          "colorscale": [
           [
            0,
            "#440154"
           ],
           [
            0.1111111111111111,
            "#482878"
           ],
           [
            0.2222222222222222,
            "#3e4989"
           ],
           [
            0.3333333333333333,
            "#31688e"
           ],
           [
            0.4444444444444444,
            "#26828e"
           ],
           [
            0.5555555555555556,
            "#1f9e89"
           ],
           [
            0.6666666666666666,
            "#35b779"
           ],
           [
            0.7777777777777778,
            "#6ece58"
           ],
           [
            0.8888888888888888,
            "#b5de2b"
           ],
           [
            1,
            "#fde725"
           ]
          ],
          "size": 4
         },
         "scene": "scene",
         "type": "scatter3d",
         "x": [
          -0.11617447435855865,
          -0.03791821748018265,
          0.04670683667063713,
          0.13978135585784912,
          0.21786342561244965,
          0.2779562771320343,
          0.33708444237709045,
          0.38427045941352844,
          0.3807530403137207,
          0.3150673806667328,
          0.23885391652584076,
          0.15156598389148712,
          0.0769868940114975,
          0.020498061552643776,
          -0.030429817736148834,
          -0.029525181278586388,
          0.034680090844631195,
          0.10709412395954132,
          0.14884334802627563,
          0.2134513109922409,
          0.31550997495651245,
          0.36893129348754883,
          0.37515947222709656,
          0.41817790269851685,
          0.4840720295906067,
          0.5472744107246399,
          0.6268070936203003,
          0.6903325319290161,
          0.7529017925262451,
          0.801105797290802,
          0.8115475177764893,
          0.7648389935493469,
          0.6608444452285767,
          0.5548867583274841,
          0.4880940318107605,
          0.4807282090187073,
          0.4930410087108612,
          0.46825167536735535,
          0.38314536213874817,
          0.29053834080696106,
          0.19688716530799866,
          0.08741677552461624,
          -0.0021127176005393267,
          -0.06199466437101364,
          -0.08218128234148026,
          -0.11433529108762741,
          -0.1959468126296997,
          -0.29606926441192627,
          -0.40554285049438477,
          -0.5085029006004333,
          -0.5790907740592957,
          -0.5892248153686523,
          -0.527962327003479,
          -0.4748486578464508,
          -0.47052255272865295,
          -0.4990592300891876,
          -0.5149421095848083,
          -0.5274538397789001,
          -0.5681564807891846,
          -0.5679470300674438,
          -0.5570084452629089,
          -0.548595666885376,
          -0.5507451295852661,
          -0.5905041098594666,
          -0.6389787197113037,
          -0.6689842343330383,
          -0.67486172914505,
          -0.6482881307601929,
          -0.6002840399742126,
          -0.558573842048645,
          -0.495830774307251,
          -0.39958980679512024,
          -0.30579712986946106,
          -0.21815238893032074,
          -0.15734504163265228,
          -0.16126421093940735,
          -0.18848136067390442,
          -0.2504957914352417,
          -0.34184426069259644,
          -0.40205833315849304,
          -0.4127863943576813,
          -0.38963764905929565,
          -0.36868301033973694,
          -0.33054083585739136,
          -0.30159515142440796,
          -0.30301791429519653,
          -0.29788878560066223,
          -0.23774246871471405,
          -0.13075365126132965,
          -0.03620850667357445,
          0.05529852584004402,
          0.1623871624469757,
          0.22830073535442352,
          0.2598969042301178,
          0.31756365299224854,
          0.40321052074432373,
          0.47904109954833984,
          0.4961734414100647,
          0.48096582293510437,
          0.4402604401111603,
          0.35332679748535156,
          0.2716618776321411,
          0.19779075682163239,
          0.16831326484680176,
          0.1667747050523758,
          0.16374243795871735,
          0.15143708884716034,
          0.09772277623414993,
          0.02620856463909149,
          -0.0747554749250412,
          -0.16192710399627686,
          -0.18647699058055878,
          -0.1418759822845459,
          -0.05032235011458397,
          0.04975593090057373,
          0.15390858054161072,
          0.2393060177564621,
          0.30470964312553406,
          0.3932957053184509,
          0.47255197167396545,
          0.5545174479484558,
          0.6110402941703796,
          0.5719364881515503,
          0.5262590050697327,
          0.4842446744441986,
          0.4341636002063751,
          0.3661133348941803,
          0.26245781779289246,
          0.17612534761428833,
          0.08165481686592102,
          -0.0071396189741790295,
          -0.040169455111026764,
          -0.0004928436828777194,
          0.0689781978726387,
          0.11843700706958771,
          0.15375421941280365,
          0.21911579370498657,
          0.300586074590683,
          0.31245332956314087,
          0.29845061898231506,
          0.27475133538246155,
          0.21659766137599945,
          0.18014323711395264,
          0.2251301109790802,
          0.310329794883728,
          0.32799196243286133,
          0.28518280386924744,
          0.20526565611362457,
          0.10768815129995346,
          0.028870077803730965,
          0.02997404709458351,
          0.06375065445899963,
          0.11131700128316879,
          0.21647845208644867,
          0.31520676612854004,
          0.3869173526763916,
          0.46322470903396606,
          0.5268260836601257,
          0.5192321538925171,
          0.44961512088775635,
          0.3707701563835144,
          0.31225085258483887,
          0.25314927101135254,
          0.16950607299804688,
          0.06347664445638657,
          -0.04473896697163582,
          -0.1474660485982895,
          -0.24160709977149963,
          -0.32191628217697144,
          -0.38584014773368835,
          -0.43990612030029297,
          -0.4618932604789734,
          -0.4392291009426117,
          -0.41247251629829407,
          -0.39393100142478943,
          -0.356804758310318,
          -0.2860685884952545,
          -0.1966567188501358,
          -0.13455422222614288,
          -0.0996810793876648,
          -0.09654261916875839,
          -0.1651683747768402,
          -0.26332658529281616,
          -0.34172531962394714,
          -0.3839617371559143,
          -0.43135473132133484,
          -0.4918937385082245,
          -0.5613536238670349,
          -0.6317773461341858,
          -0.6438614726066589,
          -0.5855109095573425,
          -0.5008158683776855,
          -0.45847588777542114,
          -0.4599389433860779,
          -0.4394255578517914,
          -0.3731670379638672,
          -0.3345471918582916,
          -0.3575647175312042,
          -0.3643205761909485,
          -0.32028189301490784,
          -0.2560182213783264,
          -0.1860814094543457
         ],
         "y": [
          0.08944384008646011,
          0.10456705093383789,
          0.17024515569210052,
          0.1906794309616089,
          0.1639876812696457,
          0.12943466007709503,
          0.0637640431523323,
          -0.021527621895074844,
          -0.11860470473766327,
          -0.20944048464298248,
          -0.2648506462574005,
          -0.27936452627182007,
          -0.2918497622013092,
          -0.28507673740386963,
          -0.27077823877334595,
          -0.31209200620651245,
          -0.38138025999069214,
          -0.3876912295818329,
          -0.3447554111480713,
          -0.33904317021369934,
          -0.35171958804130554,
          -0.3652005195617676,
          -0.32231149077415466,
          -0.24067385494709015,
          -0.16297946870326996,
          -0.07863672822713852,
          -0.042407408356666565,
          -0.07883036136627197,
          -0.14399836957454681,
          -0.22695960104465485,
          -0.3393362760543823,
          -0.4030146598815918,
          -0.4075722396373749,
          -0.38767626881599426,
          -0.3426060378551483,
          -0.304920494556427,
          -0.3397584557533264,
          -0.43014150857925415,
          -0.49113357067108154,
          -0.5468339920043945,
          -0.5995942950248718,
          -0.6133477091789246,
          -0.5824869275093079,
          -0.5003607273101807,
          -0.4002910256385803,
          -0.3079233169555664,
          -0.26188573241233826,
          -0.25327935814857483,
          -0.2662299573421478,
          -0.2974162697792053,
          -0.2956964373588562,
          -0.23207983374595642,
          -0.16765131056308746,
          -0.20861339569091797,
          -0.31893083453178406,
          -0.4208136796951294,
          -0.5054690837860107,
          -0.5816763043403625,
          -0.6429061889648438,
          -0.6283171772956848,
          -0.5356317162513733,
          -0.4276777505874634,
          -0.32994091510772705,
          -0.24732047319412231,
          -0.1769239902496338,
          -0.10948801040649414,
          -0.022452285513281822,
          0.058561962097883224,
          0.07762019336223602,
          0.047900695353746414,
          0.06223253905773163,
          0.07548948377370834,
          0.01412722747772932,
          -0.05512925982475281,
          -0.12811556458473206,
          -0.19802318513393402,
          -0.2813737690448761,
          -0.35651257634162903,
          -0.39373794198036194,
          -0.3781268000602722,
          -0.2979300618171692,
          -0.21146048605442047,
          -0.1640245020389557,
          -0.15537643432617188,
          -0.1477801650762558,
          -0.09617730975151062,
          -0.011854184791445732,
          0.04596942663192749,
          0.045474857091903687,
          -0.011499599553644657,
          -0.07182607054710388,
          -0.09080544859170914,
          -0.13705003261566162,
          -0.2362939566373825,
          -0.32519838213920593,
          -0.3460320234298706,
          -0.2891803979873657,
          -0.19455398619174957,
          -0.10384543240070343,
          -0.048033617436885834,
          -0.04737265780568123,
          -0.09815527498722076,
          -0.1590769737958908,
          -0.23949792981147766,
          -0.34192514419555664,
          -0.4485032558441162,
          -0.5273098945617676,
          -0.5367690920829773,
          -0.5050246119499207,
          -0.4872592091560364,
          -0.4379856586456299,
          -0.34087586402893066,
          -0.25049617886543274,
          -0.22202256321907043,
          -0.26311007142066956,
          -0.2923086881637573,
          -0.29501041769981384,
          -0.31991517543792725,
          -0.3422630727291107,
          -0.3634049892425537,
          -0.40173083543777466,
          -0.36591026186943054,
          -0.27542853355407715,
          -0.20988929271697998,
          -0.13987746834754944,
          -0.06932556629180908,
          -0.029291648417711258,
          -0.00171661248896271,
          0.03076871670782566,
          0.04777258262038231,
          0.09442566335201263,
          0.18980374932289124,
          0.23490019142627716,
          0.24009782075881958,
          0.20724833011627197,
          0.1321128010749817,
          0.08672281354665756,
          0.10720702260732651,
          0.14340580999851227,
          0.12450236082077026,
          0.11353382468223572,
          0.15298992395401,
          0.22412486374378204,
          0.2880399823188782,
          0.34996238350868225,
          0.43252983689308167,
          0.5235256552696228,
          0.5935593843460083,
          0.6418600082397461,
          0.6364655494689941,
          0.5634911060333252,
          0.5230661034584045,
          0.4994216561317444,
          0.479474276304245,
          0.48645931482315063,
          0.47136497497558594,
          0.4434916079044342,
          0.41577982902526855,
          0.4275406301021576,
          0.4919506311416626,
          0.5221216678619385,
          0.5262734293937683,
          0.5622127056121826,
          0.5934078097343445,
          0.5974488854408264,
          0.6110447645187378,
          0.6389402151107788,
          0.68062824010849,
          0.7398400902748108,
          0.8018255233764648,
          0.8200320601463318,
          0.8043843507766724,
          0.8240656852722168,
          0.8155520558357239,
          0.7340626120567322,
          0.6390692591667175,
          0.5568426251411438,
          0.49106502532958984,
          0.45649421215057373,
          0.4639952778816223,
          0.43877360224723816,
          0.40775901079177856,
          0.4316701591014862,
          0.48603880405426025,
          0.5614582896232605,
          0.5862489342689514,
          0.5205937027931213,
          0.43908944725990295,
          0.3610502779483795,
          0.27939823269844055,
          0.2130986601114273,
          0.1721285730600357,
          0.1765373945236206,
          0.20296573638916016,
          0.24594762921333313,
          0.3072813153266907,
          0.3565193712711334,
          0.38340631127357483,
          0.36521443724632263,
          0.29151588678359985,
          0.20925965905189514,
          0.13662992417812347
         ],
         "z": [
          0.0015235014725476503,
          0.0710795670747757,
          0.09527832269668579,
          0.10775916278362274,
          0.17181305587291718,
          0.25904151797294617,
          0.3295414447784424,
          0.38760286569595337,
          0.40765181183815,
          0.3988074064254761,
          0.35320934653282166,
          0.2866070866584778,
          0.21113084256649017,
          0.118867889046669,
          0.02304605208337307,
          -0.07114555686712265,
          -0.1188393384218216,
          -0.08403432369232178,
          0.010931352153420448,
          0.08979623019695282,
          0.13861143589019775,
          0.21721293032169342,
          0.29195544123649597,
          0.3427621126174927,
          0.37634262442588806,
          0.4059906303882599,
          0.39808014035224915,
          0.32434600591659546,
          0.2613222599029541,
          0.22573857009410858,
          0.21586120128631592,
          0.23812969028949738,
          0.28376099467277527,
          0.3111441731452942,
          0.36278802156448364,
          0.4667399227619171,
          0.5568886399269104,
          0.6035128831863403,
          0.6293235421180725,
          0.6511960029602051,
          0.6471812725067139,
          0.6205459833145142,
          0.5739948749542236,
          0.5323333740234375,
          0.496381551027298,
          0.47673922777175903,
          0.5196296572685242,
          0.5649583339691162,
          0.5833212733268738,
          0.5673872232437134,
          0.4916791319847107,
          0.413148432970047,
          0.363716721534729,
          0.33949390053749084,
          0.35640162229537964,
          0.3764967620372772,
          0.3355758488178253,
          0.2634272873401642,
          0.18189090490341187,
          0.0889878049492836,
          0.05014576017856598,
          0.07541888952255249,
          0.12732481956481934,
          0.1928006112575531,
          0.26798728108406067,
          0.26162993907928467,
          0.19765417277812958,
          0.13598664104938507,
          0.04096229374408722,
          -0.05980957671999931,
          -0.10685364156961441,
          -0.1023545116186142,
          -0.1042095422744751,
          -0.09485973417758942,
          -0.04614120349287987,
          0.035280339419841766,
          0.08916141092777252,
          0.09596333652734756,
          0.056425295770168304,
          -0.022591955959796906,
          -0.09327483922243118,
          -0.16275116801261902,
          -0.25753113627433777,
          -0.3622768223285675,
          -0.46794968843460083,
          -0.5594713687896729,
          -0.6350038051605225,
          -0.6825443506240845,
          -0.6896320581436157,
          -0.6998043060302734,
          -0.7226849794387817,
          -0.7305716872215271,
          -0.7516896724700928,
          -0.7612461447715759,
          -0.7238020300865173,
          -0.6834284663200378,
          -0.6310440897941589,
          -0.5984575152397156,
          -0.5542627573013306,
          -0.46954089403152466,
          -0.4312991797924042,
          -0.4718100130558014,
          -0.4946734607219696,
          -0.4560239613056183,
          -0.42063501477241516,
          -0.3966008722782135,
          -0.4287864565849304,
          -0.5200901627540588,
          -0.5995749831199646,
          -0.6324400305747986,
          -0.6293631196022034,
          -0.6529648900032043,
          -0.6742022633552551,
          -0.6509743332862854,
          -0.6201382279396057,
          -0.6053112149238586,
          -0.5551913380622864,
          -0.4689936339855194,
          -0.4081385135650635,
          -0.3392731249332428,
          -0.2930269241333008,
          -0.3135232627391815,
          -0.3260691165924072,
          -0.2672232389450073,
          -0.21297357976436615,
          -0.16044235229492188,
          -0.10843795537948608,
          -0.1295686811208725,
          -0.19298624992370605,
          -0.2363925725221634,
          -0.24025239050388336,
          -0.26780498027801514,
          -0.3362596035003662,
          -0.4231570065021515,
          -0.5031384825706482,
          -0.5789008140563965,
          -0.6449452042579651,
          -0.6335415840148926,
          -0.5463868379592896,
          -0.44185683131217957,
          -0.34325629472732544,
          -0.256570965051651,
          -0.18090961873531342,
          -0.14018131792545319,
          -0.11446288228034973,
          -0.0577113963663578,
          -0.018912438303232193,
          -0.026293694972991943,
          -0.05704766511917114,
          -0.10915915668010712,
          -0.16258665919303894,
          -0.24124476313591003,
          -0.31774985790252686,
          -0.3336116671562195,
          -0.29145777225494385,
          -0.20825226604938507,
          -0.13199588656425476,
          -0.04960951581597328,
          0.04202871769666672,
          0.08896218240261078,
          0.140762597322464,
          0.23718708753585815,
          0.32274213433265686,
          0.3856574296951294,
          0.4170374274253845,
          0.4405893385410309,
          0.479013592004776,
          0.5230984687805176,
          0.5223917961120605,
          0.4549751579761505,
          0.3661012053489685,
          0.2623169422149658,
          0.15920566022396088,
          0.06724066287279129,
          -0.004784636665135622,
          -0.045288439840078354,
          -0.06690087914466858,
          -0.06966770440340042,
          -0.009762750007212162,
          0.09582382440567017,
          0.1859564334154129,
          0.24655179679393768,
          0.2962503135204315,
          0.35284048318862915,
          0.4219105541706085,
          0.5023722648620605,
          0.5387599468231201,
          0.5485315918922424,
          0.5443248748779297,
          0.5708574056625366,
          0.619621753692627,
          0.5830268859863281,
          0.48675402998924255,
          0.37645795941352844,
          0.28021514415740967,
          0.2153976857662201,
          0.1375533789396286,
          0.03129434585571289,
          -0.06791438162326813,
          -0.13172951340675354,
          -0.12197016179561615,
          -0.06899110972881317
         ]
        },
        {
         "line": {
          "color": "darkblue",
          "width": 2
         },
         "marker": {
          "color": [
           0,
           1,
           2,
           3,
           4,
           5,
           6,
           7,
           8,
           9,
           10,
           11,
           12,
           13,
           14,
           15,
           16,
           17,
           18,
           19,
           20,
           21,
           22,
           23,
           24,
           25,
           26,
           27,
           28,
           29,
           30,
           31,
           32,
           33,
           34,
           35,
           36,
           37,
           38,
           39,
           40,
           41,
           42,
           43,
           44,
           45,
           46,
           47,
           48,
           49,
           50,
           51,
           52,
           53,
           54,
           55,
           56,
           57,
           58,
           59,
           60,
           61,
           62,
           63,
           64,
           65,
           66,
           67,
           68,
           69,
           70,
           71,
           72,
           73,
           74,
           75,
           76,
           77,
           78,
           79,
           80,
           81,
           82,
           83,
           84,
           85,
           86,
           87,
           88,
           89,
           90,
           91,
           92,
           93,
           94,
           95,
           96,
           97,
           98,
           99,
           100,
           101,
           102,
           103,
           104,
           105,
           106,
           107,
           108,
           109,
           110,
           111,
           112,
           113,
           114,
           115,
           116,
           117,
           118,
           119,
           120,
           121,
           122,
           123,
           124,
           125,
           126,
           127,
           128,
           129,
           130,
           131,
           132,
           133,
           134,
           135,
           136,
           137,
           138,
           139,
           140,
           141,
           142,
           143,
           144,
           145,
           146,
           147,
           148,
           149,
           150,
           151,
           152,
           153,
           154,
           155,
           156,
           157,
           158,
           159,
           160,
           161,
           162,
           163,
           164,
           165,
           166,
           167,
           168,
           169,
           170,
           171,
           172,
           173,
           174,
           175,
           176,
           177,
           178,
           179,
           180,
           181,
           182,
           183,
           184,
           185,
           186,
           187,
           188,
           189,
           190,
           191,
           192,
           193,
           194,
           195,
           196,
           197,
           198,
           199,
           200,
           201
          ],
          "colorscale": [
           [
            0,
            "#440154"
           ],
           [
            0.1111111111111111,
            "#482878"
           ],
           [
            0.2222222222222222,
            "#3e4989"
           ],
           [
            0.3333333333333333,
            "#31688e"
           ],
           [
            0.4444444444444444,
            "#26828e"
           ],
           [
            0.5555555555555556,
            "#1f9e89"
           ],
           [
            0.6666666666666666,
            "#35b779"
           ],
           [
            0.7777777777777778,
            "#6ece58"
           ],
           [
            0.8888888888888888,
            "#b5de2b"
           ],
           [
            1,
            "#fde725"
           ]
          ],
          "size": 4
         },
         "scene": "scene2",
         "type": "scatter3d",
         "x": [
          -0.16362069380640276,
          -0.13164896298288012,
          -0.0892656836600746,
          -0.017608637260798827,
          0.02352199767125615,
          0.0757445844723348,
          0.14922100721294934,
          0.1804134270134704,
          0.22012471975750178,
          0.2140675809827951,
          0.18822441255391179,
          0.15415999451446108,
          0.11941817189957454,
          0.09361519920019902,
          0.03742042265984611,
          0.0669660518797658,
          0.2116796140266856,
          0.29793221584908597,
          0.2850817054356214,
          0.3044738774181891,
          0.3477877877457122,
          0.41570283732549823,
          0.43915472647725434,
          0.42210101531253413,
          0.38296430733315967,
          0.37227620130239997,
          0.3919011222561084,
          0.45515755932374036,
          0.49595525714808675,
          0.5555501317752833,
          0.5539094978556358,
          0.5336508560731256,
          0.5235371744070596,
          0.5619177646689985,
          0.46898592009462203,
          0.3548053997899117,
          0.1384704207032941,
          0.0068009725986174175,
          0.0838581499674296,
          0.03077664285166013,
          0.013271611690111451,
          -0.022300205689450382,
          -0.047881744374889505,
          -0.11269779544237472,
          -0.2410610460511447,
          -0.2736463929764396,
          -0.3348963784889433,
          -0.4795007037946304,
          -0.5729414527029041,
          -0.6651030239292842,
          -0.6949128949447648,
          -0.7205497394560922,
          -0.6544754932590182,
          -0.584929101730286,
          -0.55174083048436,
          -0.5743717915913039,
          -0.47255670138887573,
          -0.33864291277481223,
          -0.27964800853445493,
          -0.1857263015871166,
          -0.23193878970078088,
          -0.2965244835831615,
          -0.4439768048046089,
          -0.5423820017844398,
          -0.5989447450790816,
          -0.6948599489986469,
          -0.6882142989294787,
          -0.6574233379307428,
          -0.5438322282844181,
          -0.41845628188210465,
          -0.356413556786422,
          -0.3047856155164282,
          -0.2650692926392221,
          -0.2015184186178888,
          -0.1280152004360773,
          -0.12337552134429793,
          -0.16998832680201478,
          -0.1816216551481877,
          -0.17534120117084234,
          -0.18289106265713187,
          -0.2193359933164459,
          -0.22894797840950987,
          -0.21708010988495308,
          -0.18063538538575907,
          -0.07138444624103196,
          -0.058769960641252526,
          -0.171414072905082,
          -0.2306218442672973,
          -0.1748827492782637,
          -0.07412059243243822,
          -0.017818683874224577,
          0.07299107500207642,
          0.159840618469408,
          0.14517974616688528,
          0.17342892049985106,
          0.34016841546658216,
          0.3814872975647535,
          0.39644361966810876,
          0.45074535950236094,
          0.4674672246917718,
          0.38830519648845985,
          0.37096721389845244,
          0.3440490567815415,
          0.34836946360925286,
          0.3601248825494141,
          0.3719847807156086,
          0.39400558299376987,
          0.3793458806815567,
          0.3712103408770892,
          0.26235229277959765,
          0.19870172144290757,
          0.12894647988461544,
          0.058532091392511525,
          0.06804595177025406,
          0.1870434550617214,
          0.32709056822459104,
          0.3670826718688293,
          0.43663946150725763,
          0.479960334809275,
          0.5520683343365972,
          0.5885241924275889,
          0.5905950903430447,
          0.6297994425565504,
          0.601436560094124,
          0.5495275329518508,
          0.46231739335076943,
          0.3558845196271369,
          0.23496833129400135,
          0.12612982472515194,
          0.032558064894893046,
          -0.017728766262144785,
          -0.07040140038125647,
          -0.10384049111001113,
          -0.08079692093925397,
          -0.010716316639911268,
          0.06446706781398193,
          0.10775951234925703,
          0.138225771219287,
          0.19558890436938006,
          0.24432886309237606,
          0.24619038920957712,
          0.1802074257094842,
          0.08592634714032274,
          0.10673609788428669,
          0.15640138575293192,
          0.22335647042312806,
          0.19721242810310827,
          0.1325940051711678,
          0.08872637334340622,
          0.022041033977069278,
          -0.03775116024984436,
          -0.022013939489777642,
          -0.012321719770894898,
          0.007573436294840393,
          0.09378967852731472,
          0.15437728774775322,
          0.2751035822622911,
          0.3891262775311294,
          0.3663422952609312,
          0.33270198060954526,
          0.2454136454191723,
          0.16189428780392187,
          0.14553835699377188,
          0.11234839745308152,
          0.09376843889922323,
          0.043526834819011755,
          -0.02232018669264945,
          -0.06557790031627986,
          -0.08842862286379113,
          -0.0752819449975422,
          -0.055664145324361924,
          -0.04458307393368124,
          -0.14491958948103398,
          -0.11786514554630265,
          -0.1670504295124576,
          -0.21721040854383158,
          -0.25803579405015753,
          -0.21638304485880233,
          -0.16781041443723843,
          -0.1350230921285543,
          -0.11155672175541577,
          -0.16606905761738372,
          -0.2182522172155782,
          -0.31908419136773486,
          -0.37332323846735477,
          -0.41767661996918193,
          -0.4488577009946385,
          -0.48566287978877976,
          -0.6093173943888025,
          -0.7067807233271377,
          -0.7087221213702646,
          -0.6894334764759811,
          -0.6088400434118272,
          -0.542174683613368,
          -0.47488517034061556,
          -0.399280905600156,
          -0.27908406440738653,
          -0.2732449528361514,
          -0.2655213618082523,
          -0.25348612471728377,
          -0.22258523775853192,
          -0.17031047843946065
         ],
         "y": [
          0.1393953592820631,
          0.15919795221273667,
          0.17500888115402566,
          0.21876903575189377,
          0.23158776946106657,
          0.2129724499997391,
          0.2019143298668981,
          0.1562095648630656,
          0.07009453738867258,
          -0.07202192842066048,
          -0.223688008304107,
          -0.215685066514416,
          -0.18515258126252804,
          -0.16856811997115884,
          -0.14404118998353746,
          -0.13383960925536367,
          -0.19816060565332094,
          -0.2204920029601479,
          -0.22332313507347817,
          -0.224551229844119,
          -0.264018456348896,
          -0.35816940642240996,
          -0.3235993573174145,
          -0.31869510598501966,
          -0.17976342243865254,
          -0.08974246966236064,
          -0.024871603806220093,
          -0.0012325131945745526,
          -0.030348031093755872,
          -0.13796939017317808,
          -0.34819224550829386,
          -0.4524206899304983,
          -0.4389180016772591,
          -0.5000571483246685,
          -0.491453842711068,
          -0.4760669340648327,
          -0.617807488598622,
          -0.7416576635528723,
          -0.8103687287831269,
          -0.7690505675130404,
          -0.7473952836741409,
          -0.7208029636572827,
          -0.716071673558914,
          -0.6699037642517787,
          -0.5552352076127945,
          -0.31743204465382713,
          -0.15473215658486109,
          -0.06990207538931353,
          -0.08911736338039748,
          -0.15694220860913274,
          -0.14923110431232964,
          -0.1316714403017773,
          -0.05636749546008632,
          -0.0438837107303588,
          -0.07305541100064124,
          -0.24162271600740554,
          -0.35795041760135043,
          -0.4854157831997578,
          -0.5586687217219668,
          -0.6641265822350789,
          -0.6299618749397862,
          -0.5718658960583721,
          -0.36698946410682565,
          -0.1276121055248884,
          -0.06828918843691274,
          -0.06729820699683979,
          -0.022013642153865587,
          0.007871911479474303,
          0.021587449137912516,
          0.03219128053143631,
          0.04791587588374966,
          0.08415202199892559,
          0.07481693377713824,
          0.051639423100563,
          0.0221720337554848,
          -0.010877532423692103,
          -0.08999576579534142,
          -0.20280613704046294,
          -0.27805819402766213,
          -0.3226599912262293,
          -0.2407122002264238,
          -0.15392789292710457,
          -0.08968969849510089,
          -0.09225050494451643,
          -0.12213122707665865,
          -0.1086660570965064,
          -0.07542256657169052,
          -0.033419760026759865,
          -0.04223816452039812,
          -0.06886148171321563,
          -0.11247210123669271,
          -0.1240482477753882,
          -0.16282796560969195,
          -0.25014234671250074,
          -0.2787574820615895,
          -0.3023645104860064,
          -0.27090958409007926,
          -0.25015725670921674,
          -0.199285434960889,
          -0.1466962910985596,
          -0.09708731555036708,
          -0.09505842512814852,
          -0.12449156544048388,
          -0.1779555459564581,
          -0.19790225190276675,
          -0.21826706126539835,
          -0.26374185675320083,
          -0.3204822042833569,
          -0.32676793257413117,
          -0.35882017574065317,
          -0.3354572744200774,
          -0.2986431279378058,
          -0.2542172151375511,
          -0.23046627890551707,
          -0.23892028715226354,
          -0.2514491381941441,
          -0.26628733705918506,
          -0.22834217148734717,
          -0.21552773833601008,
          -0.1968606730657422,
          -0.20362332737717542,
          -0.20934993128494225,
          -0.18227633268421212,
          -0.10443249212071096,
          -0.04566523154619003,
          0.004650182414856722,
          0.07347401114755314,
          0.11444366745562498,
          0.11384288349769721,
          0.11091141153430757,
          0.11906025713688917,
          0.15384971549445578,
          0.17228746084948474,
          0.1714900445921857,
          0.15239005204485634,
          0.09936589546170388,
          0.01231666984109326,
          -0.028079050141353135,
          -0.006743552086924679,
          0.028426839236012563,
          0.058785315433982334,
          0.12095007372733604,
          0.18804845800190098,
          0.2341770218522952,
          0.30108542177907327,
          0.33524694170626435,
          0.38013469579346937,
          0.45511821996733215,
          0.497556785885674,
          0.4942086115373917,
          0.4037414541489017,
          0.3383852598050502,
          0.3356330062706172,
          0.3277314871313482,
          0.38801643288515053,
          0.400392210046444,
          0.3881078218648522,
          0.3559212811641319,
          0.3498424656503374,
          0.41117464964949757,
          0.48403657722356147,
          0.475261172365138,
          0.5148595750566984,
          0.5647092486742451,
          0.5918579374277411,
          0.6052819835178035,
          0.6092806630973343,
          0.6996461885690767,
          0.8533684457342169,
          0.9324501287479241,
          0.9916048058407136,
          0.9296708463321615,
          0.7913811329183391,
          0.7569667871893836,
          0.6384720984525585,
          0.46788902314365616,
          0.31604360941647697,
          0.29482638982977516,
          0.26629326423950667,
          0.28466206688175477,
          0.30449876641818796,
          0.2995946233863253,
          0.29011579159790707,
          0.3071113246170649,
          0.41673477607543324,
          0.5041669109291846,
          0.5050424304246612,
          0.465330406087006,
          0.33532150373812825,
          0.23895531344959078,
          0.16957997625839275,
          0.1179186147678798,
          0.10750702460632748,
          0.1324972386541739,
          0.15187647478299932,
          0.18831372731061846,
          0.21891341179856386,
          0.21467953728224584,
          0.20151283036774736,
          0.1676655102808385,
          0.1551533309264529,
          0.14446477058240537
         ],
         "z": [
          0.11509353251037094,
          0.11523022804964078,
          0.12340816061678775,
          0.1299683395528722,
          0.1310604649832408,
          0.14165644131998936,
          0.16288578103277546,
          0.19841055074758365,
          0.21549715354714052,
          0.20177766117664078,
          0.14608279102627092,
          0.13153609622728077,
          0.11931110489548112,
          0.09510747528934718,
          0.06292766744085862,
          -0.001756788007261839,
          -0.1143711797121036,
          -0.16483235160896892,
          -0.09890533265372221,
          -0.04998483438083649,
          -0.010016644056519735,
          -0.027464886040665954,
          0.015295853246531948,
          0.037916840876945475,
          0.1358343495611135,
          0.18939676582786594,
          0.20177953013115757,
          0.16742265513064503,
          0.1448140006304599,
          0.12358526423133903,
          0.11462956857933783,
          0.12046794262647394,
          0.08466360568084703,
          0.09223496536149467,
          0.0731292971038965,
          0.15283846203170867,
          0.32534464837896504,
          0.45299212842888725,
          0.5537690036326693,
          0.5290483741511605,
          0.5641979838719393,
          0.5417187896159196,
          0.4479358188249779,
          0.39464570003513333,
          0.4144193830619677,
          0.3911291916812245,
          0.435892124301436,
          0.4987816861346355,
          0.48552186171634826,
          0.4870753627233223,
          0.4736458312682641,
          0.4569612504892327,
          0.44051774255312404,
          0.433219733162966,
          0.4260669156581063,
          0.46870176401005054,
          0.3987765414557658,
          0.33587642955827807,
          0.21595495417666963,
          0.08523686477507926,
          0.05397213170537235,
          0.06608234600557714,
          0.24551496878334528,
          0.31895137193586753,
          0.3762806091014711,
          0.3531608124097483,
          0.3336493720823941,
          0.2805297015038655,
          0.24763946155710753,
          0.20729901508790446,
          0.1633306891013442,
          0.13561312781411605,
          0.11887806287202313,
          0.10628393956363012,
          0.08015171747501457,
          0.08432394174067995,
          0.10927969564987919,
          0.11287016300833178,
          0.08016798192542125,
          0.04962375999784096,
          0.05373314381406727,
          0.06352769329032244,
          0.056178543788100235,
          -0.00688950983522141,
          -0.14509937612844495,
          -0.2162811379193572,
          -0.24506983521255638,
          -0.2885350916815633,
          -0.42815283327117387,
          -0.4994583822456757,
          -0.5751027018683291,
          -0.678597408438676,
          -0.7790315428366775,
          -0.8276182866778964,
          -0.833730161528441,
          -0.8297764834196916,
          -0.7531850953094956,
          -0.727662584810894,
          -0.7050369036616255,
          -0.6218349323009034,
          -0.48248786353894063,
          -0.4422463735502333,
          -0.4248410335371856,
          -0.402433242946422,
          -0.378947510792455,
          -0.3400345180520747,
          -0.3525642505223704,
          -0.41265436844860637,
          -0.4984592911176424,
          -0.5464941979370852,
          -0.5151377089209213,
          -0.48628511072872344,
          -0.4857822985219608,
          -0.47130112337160146,
          -0.5159173981762755,
          -0.5576420036705861,
          -0.5861579419181162,
          -0.5106813079073578,
          -0.4571968438653318,
          -0.3736149688397223,
          -0.3445085929028388,
          -0.343896969772287,
          -0.34481107225160884,
          -0.2804995529258669,
          -0.21865875602374554,
          -0.1668170297535096,
          -0.07933875688640976,
          0.002601190927783246,
          0.008720697726123609,
          0.02004929783986946,
          0.048329340614946606,
          0.030536436956194023,
          -0.02140659021403891,
          -0.1310333300218105,
          -0.2498674671364713,
          -0.3807202468208504,
          -0.5558819586097896,
          -0.6443488024247277,
          -0.615366957882017,
          -0.4748984480987114,
          -0.3126303192286462,
          -0.13943890621051386,
          0.018851679045782672,
          0.045877347601264815,
          0.03502825226091016,
          0.03120199634500619,
          0.01112184075239263,
          0.004285426081090148,
          -0.031609549224567886,
          -0.03695814241542439,
          -0.02188261185391207,
          -0.04199379445080874,
          -0.13305080301185787,
          -0.22653096718380203,
          -0.24428988325557885,
          -0.2200418446090572,
          -0.13567855935425935,
          -0.030911411473399528,
          0.012148197396182565,
          0.03822102499194146,
          0.09445036618909271,
          0.10362498420906253,
          0.14279217117800874,
          0.15282675621472044,
          0.1421888104248982,
          0.15797906411515888,
          0.16385768146498675,
          0.16388046202927353,
          0.20203561852688884,
          0.16920019956616023,
          0.1167111350358689,
          0.07596089004444205,
          0.0638691951740829,
          -0.021133995371370777,
          -0.005527349412438327,
          0.04209952921857182,
          0.06800518728547486,
          0.0976127388415974,
          0.12329277231394126,
          0.13139408905285394,
          0.15532080658006595,
          0.16995007703025658,
          0.19715668710821352,
          0.22905168721705327,
          0.2436102406369183,
          0.25781574331510176,
          0.2471471522038325,
          0.2537003689374105,
          0.2741140727927613,
          0.2873349680318971,
          0.3192954618446886,
          0.349915986080282,
          0.3813199957160604,
          0.3678578178670268,
          0.30366757386597537,
          0.25116387682352087,
          0.19403317078370558,
          0.16205101452041704,
          0.12291698427634314,
          0.12043135603696334,
          0.10553229193034028,
          0.11242705906254429
         ]
        }
       ],
       "layout": {
        "height": 1000,
        "scene": {
         "domain": {
          "x": [
           0,
           0.45
          ],
          "y": [
           0,
           1
          ]
         }
        },
        "scene2": {
         "domain": {
          "x": [
           0.55,
           1
          ],
          "y": [
           0,
           1
          ]
         }
        },
        "template": {
         "data": {
          "bar": [
           {
            "error_x": {
             "color": "#2a3f5f"
            },
            "error_y": {
             "color": "#2a3f5f"
            },
            "marker": {
             "line": {
              "color": "#E5ECF6",
              "width": 0.5
             }
            },
            "type": "bar"
           }
          ],
          "barpolar": [
           {
            "marker": {
             "line": {
              "color": "#E5ECF6",
              "width": 0.5
             }
            },
            "type": "barpolar"
           }
          ],
          "carpet": [
           {
            "aaxis": {
             "endlinecolor": "#2a3f5f",
             "gridcolor": "white",
             "linecolor": "white",
             "minorgridcolor": "white",
             "startlinecolor": "#2a3f5f"
            },
            "baxis": {
             "endlinecolor": "#2a3f5f",
             "gridcolor": "white",
             "linecolor": "white",
             "minorgridcolor": "white",
             "startlinecolor": "#2a3f5f"
            },
            "type": "carpet"
           }
          ],
          "choropleth": [
           {
            "colorbar": {
             "outlinewidth": 0,
             "ticks": ""
            },
            "type": "choropleth"
           }
          ],
          "contour": [
           {
            "colorbar": {
             "outlinewidth": 0,
             "ticks": ""
            },
            "colorscale": [
             [
              0,
              "#0d0887"
             ],
             [
              0.1111111111111111,
              "#46039f"
             ],
             [
              0.2222222222222222,
              "#7201a8"
             ],
             [
              0.3333333333333333,
              "#9c179e"
             ],
             [
              0.4444444444444444,
              "#bd3786"
             ],
             [
              0.5555555555555556,
              "#d8576b"
             ],
             [
              0.6666666666666666,
              "#ed7953"
             ],
             [
              0.7777777777777778,
              "#fb9f3a"
             ],
             [
              0.8888888888888888,
              "#fdca26"
             ],
             [
              1,
              "#f0f921"
             ]
            ],
            "type": "contour"
           }
          ],
          "contourcarpet": [
           {
            "colorbar": {
             "outlinewidth": 0,
             "ticks": ""
            },
            "type": "contourcarpet"
           }
          ],
          "heatmap": [
           {
            "colorbar": {
             "outlinewidth": 0,
             "ticks": ""
            },
            "colorscale": [
             [
              0,
              "#0d0887"
             ],
             [
              0.1111111111111111,
              "#46039f"
             ],
             [
              0.2222222222222222,
              "#7201a8"
             ],
             [
              0.3333333333333333,
              "#9c179e"
             ],
             [
              0.4444444444444444,
              "#bd3786"
             ],
             [
              0.5555555555555556,
              "#d8576b"
             ],
             [
              0.6666666666666666,
              "#ed7953"
             ],
             [
              0.7777777777777778,
              "#fb9f3a"
             ],
             [
              0.8888888888888888,
              "#fdca26"
             ],
             [
              1,
              "#f0f921"
             ]
            ],
            "type": "heatmap"
           }
          ],
          "heatmapgl": [
           {
            "colorbar": {
             "outlinewidth": 0,
             "ticks": ""
            },
            "colorscale": [
             [
              0,
              "#0d0887"
             ],
             [
              0.1111111111111111,
              "#46039f"
             ],
             [
              0.2222222222222222,
              "#7201a8"
             ],
             [
              0.3333333333333333,
              "#9c179e"
             ],
             [
              0.4444444444444444,
              "#bd3786"
             ],
             [
              0.5555555555555556,
              "#d8576b"
             ],
             [
              0.6666666666666666,
              "#ed7953"
             ],
             [
              0.7777777777777778,
              "#fb9f3a"
             ],
             [
              0.8888888888888888,
              "#fdca26"
             ],
             [
              1,
              "#f0f921"
             ]
            ],
            "type": "heatmapgl"
           }
          ],
          "histogram": [
           {
            "marker": {
             "colorbar": {
              "outlinewidth": 0,
              "ticks": ""
             }
            },
            "type": "histogram"
           }
          ],
          "histogram2d": [
           {
            "colorbar": {
             "outlinewidth": 0,
             "ticks": ""
            },
            "colorscale": [
             [
              0,
              "#0d0887"
             ],
             [
              0.1111111111111111,
              "#46039f"
             ],
             [
              0.2222222222222222,
              "#7201a8"
             ],
             [
              0.3333333333333333,
              "#9c179e"
             ],
             [
              0.4444444444444444,
              "#bd3786"
             ],
             [
              0.5555555555555556,
              "#d8576b"
             ],
             [
              0.6666666666666666,
              "#ed7953"
             ],
             [
              0.7777777777777778,
              "#fb9f3a"
             ],
             [
              0.8888888888888888,
              "#fdca26"
             ],
             [
              1,
              "#f0f921"
             ]
            ],
            "type": "histogram2d"
           }
          ],
          "histogram2dcontour": [
           {
            "colorbar": {
             "outlinewidth": 0,
             "ticks": ""
            },
            "colorscale": [
             [
              0,
              "#0d0887"
             ],
             [
              0.1111111111111111,
              "#46039f"
             ],
             [
              0.2222222222222222,
              "#7201a8"
             ],
             [
              0.3333333333333333,
              "#9c179e"
             ],
             [
              0.4444444444444444,
              "#bd3786"
             ],
             [
              0.5555555555555556,
              "#d8576b"
             ],
             [
              0.6666666666666666,
              "#ed7953"
             ],
             [
              0.7777777777777778,
              "#fb9f3a"
             ],
             [
              0.8888888888888888,
              "#fdca26"
             ],
             [
              1,
              "#f0f921"
             ]
            ],
            "type": "histogram2dcontour"
           }
          ],
          "mesh3d": [
           {
            "colorbar": {
             "outlinewidth": 0,
             "ticks": ""
            },
            "type": "mesh3d"
           }
          ],
          "parcoords": [
           {
            "line": {
             "colorbar": {
              "outlinewidth": 0,
              "ticks": ""
             }
            },
            "type": "parcoords"
           }
          ],
          "pie": [
           {
            "automargin": true,
            "type": "pie"
           }
          ],
          "scatter": [
           {
            "marker": {
             "colorbar": {
              "outlinewidth": 0,
              "ticks": ""
             }
            },
            "type": "scatter"
           }
          ],
          "scatter3d": [
           {
            "line": {
             "colorbar": {
              "outlinewidth": 0,
              "ticks": ""
             }
            },
            "marker": {
             "colorbar": {
              "outlinewidth": 0,
              "ticks": ""
             }
            },
            "type": "scatter3d"
           }
          ],
          "scattercarpet": [
           {
            "marker": {
             "colorbar": {
              "outlinewidth": 0,
              "ticks": ""
             }
            },
            "type": "scattercarpet"
           }
          ],
          "scattergeo": [
           {
            "marker": {
             "colorbar": {
              "outlinewidth": 0,
              "ticks": ""
             }
            },
            "type": "scattergeo"
           }
          ],
          "scattergl": [
           {
            "marker": {
             "colorbar": {
              "outlinewidth": 0,
              "ticks": ""
             }
            },
            "type": "scattergl"
           }
          ],
          "scattermapbox": [
           {
            "marker": {
             "colorbar": {
              "outlinewidth": 0,
              "ticks": ""
             }
            },
            "type": "scattermapbox"
           }
          ],
          "scatterpolar": [
           {
            "marker": {
             "colorbar": {
              "outlinewidth": 0,
              "ticks": ""
             }
            },
            "type": "scatterpolar"
           }
          ],
          "scatterpolargl": [
           {
            "marker": {
             "colorbar": {
              "outlinewidth": 0,
              "ticks": ""
             }
            },
            "type": "scatterpolargl"
           }
          ],
          "scatterternary": [
           {
            "marker": {
             "colorbar": {
              "outlinewidth": 0,
              "ticks": ""
             }
            },
            "type": "scatterternary"
           }
          ],
          "surface": [
           {
            "colorbar": {
             "outlinewidth": 0,
             "ticks": ""
            },
            "colorscale": [
             [
              0,
              "#0d0887"
             ],
             [
              0.1111111111111111,
              "#46039f"
             ],
             [
              0.2222222222222222,
              "#7201a8"
             ],
             [
              0.3333333333333333,
              "#9c179e"
             ],
             [
              0.4444444444444444,
              "#bd3786"
             ],
             [
              0.5555555555555556,
              "#d8576b"
             ],
             [
              0.6666666666666666,
              "#ed7953"
             ],
             [
              0.7777777777777778,
              "#fb9f3a"
             ],
             [
              0.8888888888888888,
              "#fdca26"
             ],
             [
              1,
              "#f0f921"
             ]
            ],
            "type": "surface"
           }
          ],
          "table": [
           {
            "cells": {
             "fill": {
              "color": "#EBF0F8"
             },
             "line": {
              "color": "white"
             }
            },
            "header": {
             "fill": {
              "color": "#C8D4E3"
             },
             "line": {
              "color": "white"
             }
            },
            "type": "table"
           }
          ]
         },
         "layout": {
          "annotationdefaults": {
           "arrowcolor": "#2a3f5f",
           "arrowhead": 0,
           "arrowwidth": 1
          },
          "autotypenumbers": "strict",
          "coloraxis": {
           "colorbar": {
            "outlinewidth": 0,
            "ticks": ""
           }
          },
          "colorscale": {
           "diverging": [
            [
             0,
             "#8e0152"
            ],
            [
             0.1,
             "#c51b7d"
            ],
            [
             0.2,
             "#de77ae"
            ],
            [
             0.3,
             "#f1b6da"
            ],
            [
             0.4,
             "#fde0ef"
            ],
            [
             0.5,
             "#f7f7f7"
            ],
            [
             0.6,
             "#e6f5d0"
            ],
            [
             0.7,
             "#b8e186"
            ],
            [
             0.8,
             "#7fbc41"
            ],
            [
             0.9,
             "#4d9221"
            ],
            [
             1,
             "#276419"
            ]
           ],
           "sequential": [
            [
             0,
             "#0d0887"
            ],
            [
             0.1111111111111111,
             "#46039f"
            ],
            [
             0.2222222222222222,
             "#7201a8"
            ],
            [
             0.3333333333333333,
             "#9c179e"
            ],
            [
             0.4444444444444444,
             "#bd3786"
            ],
            [
             0.5555555555555556,
             "#d8576b"
            ],
            [
             0.6666666666666666,
             "#ed7953"
            ],
            [
             0.7777777777777778,
             "#fb9f3a"
            ],
            [
             0.8888888888888888,
             "#fdca26"
            ],
            [
             1,
             "#f0f921"
            ]
           ],
           "sequentialminus": [
            [
             0,
             "#0d0887"
            ],
            [
             0.1111111111111111,
             "#46039f"
            ],
            [
             0.2222222222222222,
             "#7201a8"
            ],
            [
             0.3333333333333333,
             "#9c179e"
            ],
            [
             0.4444444444444444,
             "#bd3786"
            ],
            [
             0.5555555555555556,
             "#d8576b"
            ],
            [
             0.6666666666666666,
             "#ed7953"
            ],
            [
             0.7777777777777778,
             "#fb9f3a"
            ],
            [
             0.8888888888888888,
             "#fdca26"
            ],
            [
             1,
             "#f0f921"
            ]
           ]
          },
          "colorway": [
           "#636efa",
           "#EF553B",
           "#00cc96",
           "#ab63fa",
           "#FFA15A",
           "#19d3f3",
           "#FF6692",
           "#B6E880",
           "#FF97FF",
           "#FECB52"
          ],
          "font": {
           "color": "#2a3f5f"
          },
          "geo": {
           "bgcolor": "white",
           "lakecolor": "white",
           "landcolor": "#E5ECF6",
           "showlakes": true,
           "showland": true,
           "subunitcolor": "white"
          },
          "hoverlabel": {
           "align": "left"
          },
          "hovermode": "closest",
          "mapbox": {
           "style": "light"
          },
          "paper_bgcolor": "white",
          "plot_bgcolor": "#E5ECF6",
          "polar": {
           "angularaxis": {
            "gridcolor": "white",
            "linecolor": "white",
            "ticks": ""
           },
           "bgcolor": "#E5ECF6",
           "radialaxis": {
            "gridcolor": "white",
            "linecolor": "white",
            "ticks": ""
           }
          },
          "scene": {
           "xaxis": {
            "backgroundcolor": "#E5ECF6",
            "gridcolor": "white",
            "gridwidth": 2,
            "linecolor": "white",
            "showbackground": true,
            "ticks": "",
            "zerolinecolor": "white"
           },
           "yaxis": {
            "backgroundcolor": "#E5ECF6",
            "gridcolor": "white",
            "gridwidth": 2,
            "linecolor": "white",
            "showbackground": true,
            "ticks": "",
            "zerolinecolor": "white"
           },
           "zaxis": {
            "backgroundcolor": "#E5ECF6",
            "gridcolor": "white",
            "gridwidth": 2,
            "linecolor": "white",
            "showbackground": true,
            "ticks": "",
            "zerolinecolor": "white"
           }
          },
          "shapedefaults": {
           "line": {
            "color": "#2a3f5f"
           }
          },
          "ternary": {
           "aaxis": {
            "gridcolor": "white",
            "linecolor": "white",
            "ticks": ""
           },
           "baxis": {
            "gridcolor": "white",
            "linecolor": "white",
            "ticks": ""
           },
           "bgcolor": "#E5ECF6",
           "caxis": {
            "gridcolor": "white",
            "linecolor": "white",
            "ticks": ""
           }
          },
          "title": {
           "x": 0.05
          },
          "xaxis": {
           "automargin": true,
           "gridcolor": "white",
           "linecolor": "white",
           "ticks": "",
           "title": {
            "standoff": 15
           },
           "zerolinecolor": "white",
           "zerolinewidth": 2
          },
          "yaxis": {
           "automargin": true,
           "gridcolor": "white",
           "linecolor": "white",
           "ticks": "",
           "title": {
            "standoff": 15
           },
           "zerolinecolor": "white",
           "zerolinewidth": 2
          }
         }
        },
        "width": 1000
       }
      }
     },
     "metadata": {},
     "output_type": "display_data"
    }
   ],
   "source": [
    "# Trussart perfect structure\n",
    "trussart_true_structure = np.mean(trussart_structures, axis=0)\n",
    "\n",
    "# Trussart predicted structure\n",
    "torch_trussart_hic = torch.FloatTensor(trussart_hic)\n",
    "torch_trussart_hic = torch.reshape(torch_trussart_hic, (1, NB_BINS, NB_BINS))\n",
    "torch_trussart_hic = torch.repeat_interleave(torch_trussart_hic, BATCH_SIZE, 0)\n",
    "\n",
    "trussart_pred_structure, _ = model(torch_trussart_hic)\n",
    "trussart_pred_structure = trussart_pred_structure.detach().numpy()[0]\n",
    "\n",
    "# Superpose structure using Kabsch algorithm\n",
    "trussart_pred_structure_superposed, trussart_true_structure_superposed = \\\n",
    "        kabsch_superimposition_numpy(trussart_pred_structure, trussart_true_structure)\n",
    "\n",
    "# Plot and compare the two structures\n",
    "x_pred = trussart_pred_structure_superposed[:, 0]  \n",
    "y_pred = trussart_pred_structure_superposed[:, 1]\n",
    "z_pred = trussart_pred_structure_superposed[:, 2]\n",
    "\n",
    "x_true = trussart_true_structure_superposed[:, 0]  \n",
    "y_true = trussart_true_structure_superposed[:, 1]\n",
    "z_true = trussart_true_structure_superposed[:, 2]\n",
    "\n",
    "# Initialize figure with 4 3D subplots\n",
    "fig = make_subplots(\n",
    "    rows=1, cols=2,\n",
    "    specs=[[{'type': 'scatter3d'}, {'type': 'scatter3d'}]])\n",
    "\n",
    "# adding surfaces to subplots.\n",
    "fig.add_trace(\n",
    "    go.Scatter3d(\n",
    "    x=x_true, y=y_true, z=z_true,\n",
    "    marker=dict(\n",
    "        size=4,\n",
    "        color=np.asarray(range(len(x_true))),\n",
    "        colorscale='Viridis',\n",
    "    ),\n",
    "    line=dict(\n",
    "        color='darkblue',\n",
    "        width=2\n",
    "    )\n",
    "), row=1, col=1)\n",
    "\n",
    "fig.add_trace(\n",
    "    go.Scatter3d(\n",
    "    x=x_pred, y=y_pred, z=z_pred,\n",
    "    marker=dict(\n",
    "        size=4,\n",
    "        color=np.asarray(range(len(x_pred))),\n",
    "        colorscale='Viridis',\n",
    "    ),\n",
    "    line=dict(\n",
    "        color='darkblue',\n",
    "        width=2\n",
    "    )\n",
    "),row=1, col=2)\n",
    "\n",
    "fig.update_layout(\n",
    "    height=1000,\n",
    "    width=1000\n",
    ")\n",
    "\n",
    "fig.show()"
   ]
  },
  {
   "cell_type": "code",
   "execution_count": 50,
   "metadata": {},
   "outputs": [],
   "source": [
    "kabsch_distances = []\n",
    "\n",
    "for graph_index in range(test_size):\n",
    "\n",
    "    test_true_structure = test_true_structures[graph_index,:,:]\n",
    "    test_pred_structure = test_pred_structures[graph_index,:,:]\n",
    "    \n",
    "    d = kabsch_distance_numpy(test_pred_structure, test_true_structure)\n",
    "    kabsch_distances.append(d)"
   ]
  },
  {
   "cell_type": "code",
   "execution_count": 51,
   "metadata": {},
   "outputs": [
    {
     "data": {
      "image/png": "[encoded data removed]",
      "text/plain": [
       "<Figure size 640x480 with 1 Axes>"
      ]
     },
     "metadata": {},
     "output_type": "display_data"
    },
    {
     "name": "stdout",
     "output_type": "stream",
     "text": [
      "mean: 0.04459210483889708\n",
      "median: 0.03638718956777584\n",
      "variance: 0.000963774442994276\n"
     ]
    }
   ],
   "source": [
    "n, bins, patches = plt.hist(kabsch_distances, 100, facecolor='blue', alpha=0.5)\n",
    "plt.show()\n",
    "\n",
    "print('mean: ' + str(np.mean(kabsch_distances)))\n",
    "print('median: ' + str(np.median(kabsch_distances)))\n",
    "print('variance: ' + str(np.var(kabsch_distances)))"
   ]
  }
 ],
 "metadata": {
  "kernelspec": {
   "display_name": "Python 3.8.9 ('3dChromenv': venv)",
   "language": "python",
   "name": "python3"
  },
  "language_info": {
   "codemirror_mode": {
    "name": "ipython",
    "version": 3
   },
   "file_extension": ".py",
   "mimetype": "text/x-python",
   "name": "python",
   "nbconvert_exporter": "python",
   "pygments_lexer": "ipython3",
   "version": "3.8.9"
  },
  "orig_nbformat": 4,
  "vscode": {
   "interpreter": {
    "hash": "8e29b1289806ba3b1e0a7887101d89831cef42814f60b4617646c178e24bc9ec"
   }
  }
 },
 "nbformat": 4,
 "nbformat_minor": 2
}
