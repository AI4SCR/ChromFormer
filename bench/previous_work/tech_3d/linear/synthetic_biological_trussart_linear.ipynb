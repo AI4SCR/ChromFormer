{
 "cells": [
  {
   "cell_type": "code",
   "execution_count": 1,
   "metadata": {},
   "outputs": [],
   "source": [
    "# File processing\n",
    "import glob\n",
    "import os\n",
    "\n",
    "# Data processing\n",
    "import random\n",
    "import numpy as np\n",
    "from tqdm import tqdm\n",
    "\n",
    "# Data display \n",
    "import matplotlib\n",
    "import matplotlib.pyplot as plt\n",
    "import plotly.graph_objects as go\n",
    "from plotly.subplots import make_subplots\n",
    "from matplotlib.legend_handler import HandlerLine2D\n",
    "\n",
    "# Machine learning\n",
    "import torch\n",
    "import torch.nn.functional as F\n",
    "from torch import linalg as LAtorch\n",
    "from numpy import linalg as LAnumpy\n",
    "from torch_geometric.loader import DataLoader\n",
    "from sklearn.preprocessing import MinMaxScaler\n",
    "from torch_geometric.data import Data, InMemoryDataset\n",
    "\n",
    "# Setting device\n",
    "device = torch.device('cuda' if torch.cuda.is_available() else 'cpu')"
   ]
  },
  {
   "cell_type": "code",
   "execution_count": 2,
   "metadata": {},
   "outputs": [],
   "source": [
    "NB_EPOCHS = 89\n",
    "#####100\n",
    "BATCH_SIZE = 10\n",
    "NB_BINS = 202\n",
    "EMBEDDING_SIZE = 3 # Euclidean 3D space\n",
    "LEARNING_RATE = 0.001\n",
    "SEED = 5\n",
    "LAMBDA_BIOLOGICAL = 0\n",
    "LAMBDA_KABSCH = 0.1\n",
    "TRAIN_DATASET_SIZE = 800\n",
    "TEST_DATASET_SIZE = 200\n",
    "\n",
    "# Trussart analysis dataset constants\n",
    "TRUSSART_HIC_PATH = '../../../../data/trussart/hic_matrices/150_TADlike_alpha_150_set0.mat'\n",
    "TRUSSART_STRUCTURES_PATH = '../../../../data/trussart/structure_matrices/'"
   ]
  },
  {
   "cell_type": "code",
   "execution_count": 3,
   "metadata": {},
   "outputs": [],
   "source": [
    "torch.manual_seed(SEED)\n",
    "random.seed(SEED)\n",
    "np.random.seed(SEED)"
   ]
  },
  {
   "cell_type": "code",
   "execution_count": 4,
   "metadata": {},
   "outputs": [],
   "source": [
    "trussart_hic = np.loadtxt(TRUSSART_HIC_PATH, dtype='f', delimiter='\\t')\n",
    "scaler = MinMaxScaler()\n",
    "trussart_hic = scaler.fit_transform(trussart_hic)"
   ]
  },
  {
   "cell_type": "code",
   "execution_count": 5,
   "metadata": {},
   "outputs": [],
   "source": [
    "trussart_structures = []\n",
    "\n",
    "file_list = os.listdir(TRUSSART_STRUCTURES_PATH)\n",
    "file_list = filter(lambda f: f.endswith('.xyz'), file_list)\n",
    "\n",
    "for file_name in file_list:\n",
    "    current_trussart_structure = np.loadtxt(TRUSSART_STRUCTURES_PATH + file_name, dtype='f', delimiter='\\t')\n",
    "    current_trussart_structure = current_trussart_structure[:,1:]\n",
    "    trussart_structures.append(current_trussart_structure)"
   ]
  },
  {
   "cell_type": "code",
   "execution_count": 6,
   "metadata": {},
   "outputs": [],
   "source": [
    "# grab last 4 digits of the file txt name:\n",
    "def last_4digits(x):\n",
    "    return(x[-8:-4])"
   ]
  },
  {
   "cell_type": "code",
   "execution_count": 7,
   "metadata": {},
   "outputs": [],
   "source": [
    "train_transfer_learning_hics = []\n",
    "\n",
    "file_list = os.listdir('../data/synthetic_random/train/hic_matrices/')\n",
    "\n",
    "for file_name in sorted(filter(lambda x: x.endswith('.txt'), file_list), key = last_4digits):\n",
    "    current_train_transfer_learning_hic = np.loadtxt('../data/synthetic_random/train/hic_matrices/'\\\n",
    "                                                     + file_name, dtype='f', delimiter=' ')\n",
    "    train_transfer_learning_hics.append(current_train_transfer_learning_hic)"
   ]
  },
  {
   "cell_type": "code",
   "execution_count": 8,
   "metadata": {},
   "outputs": [],
   "source": [
    "test_transfer_learning_hics = []\n",
    "\n",
    "file_list = os.listdir('../data/synthetic_random/test/hic_matrices/')\n",
    "\n",
    "for file_name in sorted(filter(lambda x: x.endswith('.txt'), file_list), key = last_4digits):\n",
    "    current_test_transfer_learning_hic = np.loadtxt('../data/synthetic_random/test/hic_matrices/'\\\n",
    "                                                     + file_name, dtype='f', delimiter=' ')\n",
    "    test_transfer_learning_hics.append(current_test_transfer_learning_hic)"
   ]
  },
  {
   "cell_type": "code",
   "execution_count": 9,
   "metadata": {},
   "outputs": [],
   "source": [
    "train_transfer_learning_structures = []\n",
    "\n",
    "file_list = os.listdir('../data/synthetic_random/train/structure_matrices/')\n",
    "\n",
    "for file_name in sorted(filter(lambda x: x.endswith('.txt'), file_list), key = last_4digits):\n",
    "    current_train_transfer_learning_structure = \\\n",
    "        np.loadtxt('../data/synthetic_random/train/structure_matrices/'\\\n",
    "                                                     + file_name, dtype='f', delimiter=' ')\n",
    "    train_transfer_learning_structures.append(current_train_transfer_learning_structure)"
   ]
  },
  {
   "cell_type": "code",
   "execution_count": 10,
   "metadata": {},
   "outputs": [],
   "source": [
    "test_transfer_learning_structures = []\n",
    "\n",
    "file_list = os.listdir('../data/synthetic_random/test/structure_matrices/')\n",
    "\n",
    "for file_name in sorted(filter(lambda x: x.endswith('.txt'), file_list), key = last_4digits):\n",
    "    current_test_transfer_learning_structure = \\\n",
    "        np.loadtxt('../data/synthetic_random/test/structure_matrices/'\\\n",
    "                                                     + file_name, dtype='f', delimiter=' ')\n",
    "    test_transfer_learning_structures.append(current_test_transfer_learning_structure)"
   ]
  },
  {
   "cell_type": "code",
   "execution_count": 11,
   "metadata": {},
   "outputs": [],
   "source": [
    "train_transfer_learning_distances = []\n",
    "\n",
    "file_list = os.listdir('../data/synthetic_random/train/distance_matrices/')\n",
    "\n",
    "for file_name in sorted(filter(lambda x: x.endswith('.txt'), file_list), key = last_4digits):\n",
    "    current_train_transfer_learning_distance = \\\n",
    "            np.loadtxt('../data/synthetic_random/train/distance_matrices/'\\\n",
    "                                                     + file_name, dtype='f', delimiter=' ')\n",
    "    train_transfer_learning_distances.append(current_train_transfer_learning_distance)"
   ]
  },
  {
   "cell_type": "code",
   "execution_count": 12,
   "metadata": {},
   "outputs": [],
   "source": [
    "test_transfer_learning_distances = []\n",
    "\n",
    "file_list = os.listdir('../data/synthetic_random/test/distance_matrices/')\n",
    "\n",
    "for file_name in sorted(filter(lambda x: x.endswith('.txt'), file_list), key = last_4digits):\n",
    "    current_test_transfer_learning_distance = \\\n",
    "            np.loadtxt('../data/synthetic_random/test/distance_matrices/'\\\n",
    "                                                     + file_name, dtype='f', delimiter=' ')\n",
    "    test_transfer_learning_distances.append(current_test_transfer_learning_distance)"
   ]
  },
  {
   "cell_type": "code",
   "execution_count": 13,
   "metadata": {},
   "outputs": [],
   "source": [
    "is_training = True"
   ]
  },
  {
   "cell_type": "code",
   "execution_count": 14,
   "metadata": {},
   "outputs": [],
   "source": [
    "class VanillaDataset(InMemoryDataset):\n",
    "    def __init__(self, root, transform=None, pre_transform=None):\n",
    "        super(VanillaDataset, self).__init__(root, transform, pre_transform)\n",
    "        self.data, self.slices = torch.load(self.processed_paths[0])\n",
    "\n",
    "    @property\n",
    "    def raw_file_names(self):\n",
    "        return []\n",
    "    @property\n",
    "    def processed_file_names(self):\n",
    "        if is_training:\n",
    "            return ['synthetic_biological_trussart_linear_train_data.txt']\n",
    "        else:\n",
    "            return ['synthetic_biological_trussart_linear_test_data.txt']\n",
    "\n",
    "    def download(self):\n",
    "        pass\n",
    "        \n",
    "    def process(self):\n",
    "        \n",
    "        data_list = []\n",
    "        if is_training:\n",
    "            dataset_size = TRAIN_DATASET_SIZE\n",
    "        else:\n",
    "            dataset_size = TEST_DATASET_SIZE\n",
    "        \n",
    "        for i in tqdm(range(dataset_size)):\n",
    "            \n",
    "            if is_training:\n",
    "                transfer_learning_hic = train_transfer_learning_hics[i]\n",
    "                transfer_learning_structure = train_transfer_learning_structures[i]\n",
    "                transfer_learning_distance_matrix = train_transfer_learning_distances[i]\n",
    "            else:\n",
    "                transfer_learning_hic = test_transfer_learning_hics[i]\n",
    "                transfer_learning_structure = test_transfer_learning_structures[i]\n",
    "                transfer_learning_distance_matrix = test_transfer_learning_distances[i]\n",
    "               \n",
    "            hic_matrix = torch.FloatTensor(transfer_learning_hic)\n",
    "            structure_matrix = torch.FloatTensor(transfer_learning_structure)\n",
    "            distance_matrix = torch.FloatTensor(transfer_learning_distance_matrix)\n",
    "\n",
    "            data = Data(hic_matrix=hic_matrix, structure_matrix=structure_matrix, distance_matrix=distance_matrix)\n",
    "            data_list.append(data)\n",
    "            \n",
    "        data, slices = self.collate(data_list)\n",
    "        torch.save((data, slices), self.processed_paths[0])"
   ]
  },
  {
   "cell_type": "code",
   "execution_count": 15,
   "metadata": {},
   "outputs": [],
   "source": [
    "train_dataset = VanillaDataset('../')\n",
    "train_dataset = train_dataset.shuffle()"
   ]
  },
  {
   "cell_type": "code",
   "execution_count": 16,
   "metadata": {},
   "outputs": [
    {
     "data": {
      "text/plain": [
       "800"
      ]
     },
     "execution_count": 16,
     "metadata": {},
     "output_type": "execute_result"
    }
   ],
   "source": [
    "train_size = len(train_dataset)\n",
    "train_size"
   ]
  },
  {
   "cell_type": "code",
   "execution_count": 17,
   "metadata": {},
   "outputs": [],
   "source": [
    "train_loader = DataLoader(train_dataset, batch_size=BATCH_SIZE)"
   ]
  },
  {
   "cell_type": "code",
   "execution_count": 18,
   "metadata": {},
   "outputs": [],
   "source": [
    "is_training = False"
   ]
  },
  {
   "cell_type": "code",
   "execution_count": 19,
   "metadata": {},
   "outputs": [],
   "source": [
    "test_dataset = VanillaDataset('../')\n",
    "test_dataset = test_dataset.shuffle()"
   ]
  },
  {
   "cell_type": "code",
   "execution_count": 20,
   "metadata": {},
   "outputs": [
    {
     "data": {
      "text/plain": [
       "200"
      ]
     },
     "execution_count": 20,
     "metadata": {},
     "output_type": "execute_result"
    }
   ],
   "source": [
    "test_size = len(test_dataset)\n",
    "test_size"
   ]
  },
  {
   "cell_type": "code",
   "execution_count": 21,
   "metadata": {},
   "outputs": [],
   "source": [
    "test_loader = DataLoader(test_dataset, batch_size=BATCH_SIZE)"
   ]
  },
  {
   "cell_type": "code",
   "execution_count": 22,
   "metadata": {},
   "outputs": [],
   "source": [
    "class Net(torch.nn.Module):\n",
    "    def __init__(self):\n",
    "        super(Net, self).__init__()\n",
    "        \n",
    "        self.linear_encoder_layer_1 = torch.nn.Linear(NB_BINS, 100)\n",
    "        self.linear_encoder_layer_2 = torch.nn.Linear(100, 50)\n",
    "        self.linear_encoder_layer_3 = torch.nn.Linear(50, EMBEDDING_SIZE)\n",
    "        \n",
    "    def forward(self, x, is_training=False):\n",
    "        \n",
    "        x = torch.reshape(x, (BATCH_SIZE, NB_BINS, NB_BINS))\n",
    "        \n",
    "        z = self.linear_encoder_layer_1(x)\n",
    "        z = F.relu(z)\n",
    "        z = self.linear_encoder_layer_2(z)\n",
    "        z = F.relu(z)\n",
    "        z = self.linear_encoder_layer_3(z)\n",
    "        z = F.relu(z)\n",
    "        z = centralize_and_normalize_torch(z)\n",
    "        \n",
    "        w = torch.cdist(z, z, p=2)\n",
    "        \n",
    "        return z, w"
   ]
  },
  {
   "cell_type": "code",
   "execution_count": 23,
   "metadata": {},
   "outputs": [],
   "source": [
    "def centralize_torch(z):\n",
    "    return z - torch.repeat_interleave(torch.reshape(torch.mean(z, axis=1), (-1,1,EMBEDDING_SIZE)), NB_BINS, dim=1)"
   ]
  },
  {
   "cell_type": "code",
   "execution_count": 24,
   "metadata": {},
   "outputs": [],
   "source": [
    "def normalize_torch(z):\n",
    "    \n",
    "    norms = LAtorch.norm(z, 2, dim=2)\n",
    "    max_norms, _ = torch.max(norms, axis=1)\n",
    "    max_norms = torch.reshape(max_norms, (BATCH_SIZE,1,1))\n",
    "    max_norms = torch.repeat_interleave(max_norms, NB_BINS, dim=1)\n",
    "    max_norms = torch.repeat_interleave(max_norms, EMBEDDING_SIZE, dim=2)\n",
    "    max_norms[max_norms == 0] = 1\n",
    "    \n",
    "    return z / max_norms"
   ]
  },
  {
   "cell_type": "code",
   "execution_count": 25,
   "metadata": {},
   "outputs": [],
   "source": [
    "def centralize_and_normalize_torch(z):\n",
    "    \n",
    "    # Translate\n",
    "    z = centralize_torch(z)\n",
    "    \n",
    "    # Scale\n",
    "    z = normalize_torch(z)\n",
    "    \n",
    "    return z"
   ]
  },
  {
   "cell_type": "code",
   "execution_count": 26,
   "metadata": {},
   "outputs": [],
   "source": [
    "def centralize_numpy(z):\n",
    "    return z - np.mean(z, axis=0)"
   ]
  },
  {
   "cell_type": "code",
   "execution_count": 27,
   "metadata": {},
   "outputs": [],
   "source": [
    "def normalize_numpy(z):\n",
    "    \n",
    "    norm = LAnumpy.norm(z, 2, axis=1)\n",
    "    max_norm = np.max(norm, axis=0)\n",
    "    if max_norm == 0:\n",
    "        max_norm = 1\n",
    "    \n",
    "    return z / max_norm"
   ]
  },
  {
   "cell_type": "code",
   "execution_count": 28,
   "metadata": {},
   "outputs": [],
   "source": [
    "def centralize_and_normalize_numpy(z):\n",
    "    \n",
    "    # Translate\n",
    "    z = centralize_numpy(z)\n",
    "    \n",
    "    # Scale\n",
    "    z = normalize_numpy(z)\n",
    "    \n",
    "    return z"
   ]
  },
  {
   "cell_type": "code",
   "execution_count": 29,
   "metadata": {},
   "outputs": [],
   "source": [
    "def kabsch_superimposition_numpy(pred_structure, true_structure):\n",
    "    \n",
    "    # Centralize and normalize to unit ball\n",
    "    pred_structure_unit_ball = centralize_and_normalize_numpy(pred_structure)\n",
    "    true_structure_unit_ball = centralize_and_normalize_numpy(true_structure)\n",
    "    \n",
    "    # Rotation (solution for the constrained orthogonal Procrustes problem, subject to det(R) = 1)\n",
    "    m = np.matmul(np.transpose(true_structure_unit_ball), pred_structure_unit_ball)\n",
    "    u, s, vh = np.linalg.svd(m)\n",
    "    \n",
    "    d = np.sign(np.linalg.det(np.matmul(u, vh)))\n",
    "    a = np.eye(EMBEDDING_SIZE)\n",
    "    a[-1,-1] = d\n",
    "    \n",
    "    r = np.matmul(np.matmul(u, a), vh)\n",
    "    \n",
    "    pred_structure_unit_ball = np.transpose(np.matmul(r, np.transpose(pred_structure_unit_ball)))\n",
    "    \n",
    "    return pred_structure_unit_ball, true_structure_unit_ball"
   ]
  },
  {
   "cell_type": "code",
   "execution_count": 30,
   "metadata": {},
   "outputs": [],
   "source": [
    "def kabsch_distance_numpy(pred_structure, true_structure):\n",
    "    \n",
    "    pred_structure_unit_ball, true_structure_unit_ball = \\\n",
    "            kabsch_superimposition_numpy(pred_structure, true_structure)\n",
    "    \n",
    "    # Structure comparison\n",
    "    d = np.mean(np.sum(np.square(pred_structure_unit_ball - true_structure_unit_ball), axis=1))\n",
    "    \n",
    "    return d"
   ]
  },
  {
   "cell_type": "code",
   "execution_count": 31,
   "metadata": {},
   "outputs": [],
   "source": [
    "def compute_trussart_test_kabsch_loss():\n",
    "    \n",
    "    torch_trussart_hic = torch.FloatTensor(trussart_hic)\n",
    "    torch_trussart_hic = torch.reshape(torch_trussart_hic, (1, NB_BINS, NB_BINS))\n",
    "    torch_trussart_hic = torch.repeat_interleave(torch_trussart_hic, BATCH_SIZE, 0)\n",
    "    \n",
    "    trussart_pred_structure, _ = model(torch_trussart_hic)\n",
    "    trussart_pred_structure = trussart_pred_structure.detach().numpy()[0]\n",
    "    \n",
    "    kabsch_distances = []\n",
    "    for true_structure in trussart_structures:\n",
    "        kabsch_distances.append(kabsch_distance_numpy(trussart_pred_structure, true_structure))\n",
    "        \n",
    "    return np.mean(kabsch_distances)"
   ]
  },
  {
   "cell_type": "code",
   "execution_count": 32,
   "metadata": {},
   "outputs": [],
   "source": [
    "def biological_loss_fct(pred_structure, true_structure, pred_distance, true_distance):\n",
    "    \n",
    "    ####### Pairwise distances loss ########\n",
    "    \n",
    "    between_bin_distance = \\\n",
    "        torch.diagonal(pred_distance.reshape((BATCH_SIZE, NB_BINS, NB_BINS)), offset=1, dim1=1, dim2=2)\n",
    "    between_bin_distance_loss = torch.var(between_bin_distance)\n",
    "    \n",
    "    ######### Pairwise angles loss ##########\n",
    "    \n",
    "    pred_structure_vectors = (pred_structure - torch.roll(pred_structure, 1, dims=1))[:, 1:, :]\n",
    "    pred_structure_dot_products = \\\n",
    "        torch.matmul(pred_structure_vectors, torch.transpose(pred_structure_vectors, dim0=1, dim1=2))\n",
    "    pairwise_angles_loss = \\\n",
    "        torch.where(pred_structure_dot_products < 0, torch.ones((BATCH_SIZE, NB_BINS-1, NB_BINS-1))*0.1, \\\n",
    "                        torch.zeros((BATCH_SIZE, NB_BINS-1, NB_BINS-1)))\n",
    "    pairwise_angles_loss = torch.mean(pairwise_angles_loss)\n",
    "    \n",
    "    return between_bin_distance_loss + pairwise_angles_loss"
   ]
  },
  {
   "cell_type": "code",
   "execution_count": 33,
   "metadata": {},
   "outputs": [],
   "source": [
    "def kabsch_loss_fct(pred_structure, true_structure):\n",
    "    \n",
    "    # NOTE: the two input structures should already be centralized and normalized\n",
    "    \n",
    "    m = torch.matmul(torch.transpose(true_structure, 1, 2), pred_structure)\n",
    "    u, s, vh = torch.linalg.svd(m)\n",
    "    \n",
    "    d = torch.sign(torch.linalg.det(torch.matmul(u, vh)))\n",
    "    a = torch.eye(EMBEDDING_SIZE).reshape((1, EMBEDDING_SIZE, EMBEDDING_SIZE)).repeat_interleave(BATCH_SIZE, dim=0)\n",
    "    a[:,-1,-1] = d\n",
    "    \n",
    "    r = torch.matmul(torch.matmul(u, a), vh)\n",
    "    \n",
    "    pred_structure = torch.transpose(torch.matmul(r, torch.transpose(pred_structure, 1, 2)), 1, 2)\n",
    "    \n",
    "    return torch.mean(torch.sum(torch.square(pred_structure - true_structure), axis=2))"
   ]
  },
  {
   "cell_type": "code",
   "execution_count": 34,
   "metadata": {},
   "outputs": [],
   "source": [
    "distance_loss_fct = torch.nn.MSELoss()"
   ]
  },
  {
   "cell_type": "code",
   "execution_count": 35,
   "metadata": {},
   "outputs": [],
   "source": [
    "device = torch.device('cpu')\n",
    "model = Net().to(device)\n",
    "optimizer = torch.optim.Adam(model.parameters(), lr=0.001)"
   ]
  },
  {
   "cell_type": "code",
   "execution_count": 36,
   "metadata": {},
   "outputs": [],
   "source": [
    "def plot_grad_flow(named_parameters):\n",
    "    '''Plots the gradients flowing through different layers in the net during training.\n",
    "    Can be used for checking for possible gradient vanishing / exploding problems.\n",
    "    \n",
    "    Usage: Plug this function in Trainer class after loss.backwards() as \n",
    "    \"plot_grad_flow(self.model.named_parameters())\" to visualize the gradient flow'''\n",
    "    ave_grads = []\n",
    "    max_grads= []\n",
    "    layers = []\n",
    "    for n, p in named_parameters:\n",
    "        if(p.requires_grad) and (\"bias\" not in n):\n",
    "            layers.append(n)\n",
    "            ave_grads.append(p.grad.abs().mean())\n",
    "            max_grads.append(p.grad.abs().max())\n",
    "    plt.bar(np.arange(len(max_grads)), max_grads, alpha=0.1, lw=1, color=\"c\")\n",
    "    plt.bar(np.arange(len(max_grads)), ave_grads, alpha=0.1, lw=1, color=\"b\")\n",
    "    plt.hlines(0, 0, len(ave_grads)+1, lw=2, color=\"k\" )\n",
    "    plt.xticks(range(0,len(ave_grads), 1), layers, rotation=\"vertical\")\n",
    "    plt.xlim(left=0, right=len(ave_grads))\n",
    "    plt.ylim(bottom = -0.001, top=0.02) # zoom in on the lower gradient regions\n",
    "    plt.xlabel(\"Layers\")\n",
    "    plt.ylabel(\"average gradient\")\n",
    "    plt.title(\"Gradient flow\")\n",
    "    plt.grid(True)\n",
    "    plt.legend([matplotlib.lines.Line2D([0], [0], color=\"c\", lw=4),\n",
    "                matplotlib.lines.Line2D([0], [0], color=\"b\", lw=4),\n",
    "                matplotlib.lines.Line2D([0], [0], color=\"k\", lw=4)], \n",
    "               ['max-gradient', 'mean-gradient', 'zero-gradient'])"
   ]
  },
  {
   "cell_type": "code",
   "execution_count": 37,
   "metadata": {},
   "outputs": [],
   "source": [
    "def train():\n",
    "    model.train()\n",
    "\n",
    "    loss_all = 0\n",
    "    for data in train_loader:\n",
    "        data = data.to(device)\n",
    "        optimizer.zero_grad()\n",
    "        \n",
    "        pred_structure, pred_distance = model(data.hic_matrix)\n",
    "        \n",
    "        true_hic = data.hic_matrix.to(device)\n",
    "        \n",
    "        true_structure = data.structure_matrix.to(device)\n",
    "        true_structure = torch.reshape(true_structure, (BATCH_SIZE, NB_BINS, EMBEDDING_SIZE))\n",
    "        \n",
    "        pred_distance = torch.reshape(pred_distance, (BATCH_SIZE*NB_BINS, NB_BINS))\n",
    "        true_distance = data.distance_matrix.to(device)\n",
    "        \n",
    "        # Biological loss\n",
    "        biological_loss = biological_loss_fct(pred_structure, true_structure, pred_distance, true_distance)\n",
    "        \n",
    "        # Kabsch loss\n",
    "        kabsch_loss = kabsch_loss_fct(pred_structure, true_structure)\n",
    "        \n",
    "        # Distance loss \n",
    "        distance_loss = distance_loss_fct(pred_distance, true_distance)\n",
    "        \n",
    "        # Combine losses\n",
    "        loss = LAMBDA_BIOLOGICAL * biological_loss + LAMBDA_KABSCH * kabsch_loss + distance_loss\n",
    "        \n",
    "#         with torch.autograd.detect_anomaly():\n",
    "        loss.backward()\n",
    "        \n",
    "        loss_all += data.num_graphs * loss.item()\n",
    "        \n",
    "        # Plot grad flow\n",
    "#         plot_grad_flow(model.named_parameters())\n",
    "        \n",
    "        optimizer.step()\n",
    "    return loss_all / len(train_dataset)"
   ]
  },
  {
   "cell_type": "code",
   "execution_count": 38,
   "metadata": {},
   "outputs": [],
   "source": [
    "def evaluate(loader):\n",
    "    model.eval()\n",
    "\n",
    "    true_hics = []\n",
    "    \n",
    "    pred_structures = []\n",
    "    true_structures = []\n",
    "    \n",
    "    pred_distances = []\n",
    "    true_distances = []\n",
    "    \n",
    "    kabsch_losses = []\n",
    "    distance_losses = []\n",
    "    biological_losses = []\n",
    "\n",
    "    with torch.no_grad():\n",
    "        for data in loader:\n",
    "\n",
    "            data = data.to(device)\n",
    "            \n",
    "            pred_structure, pred_distance = model(data.hic_matrix)\n",
    "            \n",
    "            pred_structure = pred_structure.detach().cpu()\n",
    "            pred_distance = pred_distance.detach().cpu()\n",
    "            \n",
    "            pred_distance = torch.reshape(pred_distance, (BATCH_SIZE*NB_BINS, NB_BINS))\n",
    "            \n",
    "            true_hic = data.hic_matrix.detach().cpu()\n",
    "            true_structure = data.structure_matrix.detach().cpu()\n",
    "            true_distance = data.distance_matrix.detach().cpu()\n",
    "            \n",
    "            true_structure = torch.reshape(true_structure, (BATCH_SIZE, NB_BINS, EMBEDDING_SIZE))\n",
    "            \n",
    "            # Biological loss\n",
    "            biological_loss = \\\n",
    "                biological_loss_fct(pred_structure, true_structure, pred_distance, true_distance).numpy()\n",
    "            biological_losses.append(biological_loss)\n",
    "            \n",
    "            # Kabsch loss\n",
    "            kabsch_loss = kabsch_loss_fct(pred_structure, true_structure).numpy()\n",
    "            kabsch_losses.append(kabsch_loss)\n",
    "            \n",
    "            # Distance loss\n",
    "            distance_loss = distance_loss_fct(pred_distance, true_distance).numpy()\n",
    "            distance_losses.append(distance_loss)\n",
    "            \n",
    "            # To numpy\n",
    "            true_hic = true_hic.numpy()\n",
    "            \n",
    "            pred_structure = pred_structure.numpy()\n",
    "            true_structure = true_structure.numpy()\n",
    "            \n",
    "            pred_distance = pred_distance.numpy()\n",
    "            true_distance = true_distance.numpy()\n",
    "            \n",
    "            # Store results\n",
    "            true_hics.append(true_hic)\n",
    "            \n",
    "            pred_structures.append(pred_structure)\n",
    "            true_structures.append(true_structure)\n",
    "            \n",
    "            pred_distances.append(pred_distance)\n",
    "            true_distances.append(true_distance)\n",
    "    \n",
    "    # Format results\n",
    "    true_hics = np.vstack(true_hics)\n",
    "    \n",
    "    pred_structures = np.vstack(pred_structures)\n",
    "    true_structures = np.vstack(true_structures)\n",
    "    \n",
    "    pred_distances = np.vstack(pred_distances)\n",
    "    true_distances = np.vstack(true_distances)\n",
    "    \n",
    "    # Compute mean losses\n",
    "    mean_biological_loss = np.mean(np.asarray(biological_loss).flatten())\n",
    "    mean_kabsch_loss = np.mean(np.asarray(kabsch_losses).flatten())\n",
    "    mean_distance_loss = np.mean(np.asarray(distance_losses).flatten())\n",
    "    \n",
    "    return mean_biological_loss, mean_kabsch_loss, mean_distance_loss, true_hics, \\\n",
    "            pred_structures, true_structures, pred_distances, true_distances"
   ]
  },
  {
   "cell_type": "code",
   "execution_count": 39,
   "metadata": {},
   "outputs": [
    {
     "name": "stdout",
     "output_type": "stream",
     "text": [
      "E: 001, Tr B: 0.0512, Tr K: 0.0803, Tr D: 0.0409, Te B: 0.0512, Te K: 0.0805, Te D: 0.0414, Trus: 0.2049\n",
      "E: 002, Tr B: 0.0510, Tr K: 0.0718, Tr D: 0.0307, Te B: 0.0513, Te K: 0.0731, Te D: 0.0308, Trus: 0.2004\n",
      "E: 003, Tr B: 0.0501, Tr K: 0.0637, Tr D: 0.0262, Te B: 0.0495, Te K: 0.0655, Te D: 0.0263, Trus: 0.1915\n",
      "E: 004, Tr B: 0.0497, Tr K: 0.0604, Tr D: 0.0226, Te B: 0.0489, Te K: 0.0617, Te D: 0.0227, Trus: 0.1866\n",
      "E: 005, Tr B: 0.0492, Tr K: 0.0578, Tr D: 0.0210, Te B: 0.0482, Te K: 0.0591, Te D: 0.0211, Trus: 0.1844\n",
      "E: 006, Tr B: 0.0492, Tr K: 0.0565, Tr D: 0.0207, Te B: 0.0482, Te K: 0.0579, Te D: 0.0208, Trus: 0.1892\n",
      "E: 007, Tr B: 0.0493, Tr K: 0.0550, Tr D: 0.0200, Te B: 0.0480, Te K: 0.0566, Te D: 0.0200, Trus: 0.1915\n",
      "E: 008, Tr B: 0.0490, Tr K: 0.0535, Tr D: 0.0199, Te B: 0.0480, Te K: 0.0550, Te D: 0.0199, Trus: 0.1916\n",
      "E: 009, Tr B: 0.0490, Tr K: 0.0533, Tr D: 0.0198, Te B: 0.0480, Te K: 0.0545, Te D: 0.0196, Trus: 0.1950\n",
      "E: 010, Tr B: 0.0489, Tr K: 0.0528, Tr D: 0.0181, Te B: 0.0478, Te K: 0.0542, Te D: 0.0181, Trus: 0.1911\n",
      "E: 011, Tr B: 0.0488, Tr K: 0.0517, Tr D: 0.0194, Te B: 0.0479, Te K: 0.0532, Te D: 0.0191, Trus: 0.1909\n",
      "E: 012, Tr B: 0.0489, Tr K: 0.0516, Tr D: 0.0183, Te B: 0.0478, Te K: 0.0530, Te D: 0.0183, Trus: 0.1915\n",
      "E: 013, Tr B: 0.0489, Tr K: 0.0511, Tr D: 0.0183, Te B: 0.0479, Te K: 0.0524, Te D: 0.0184, Trus: 0.1934\n",
      "E: 014, Tr B: 0.0487, Tr K: 0.0524, Tr D: 0.0174, Te B: 0.0478, Te K: 0.0537, Te D: 0.0173, Trus: 0.1873\n",
      "E: 015, Tr B: 0.0488, Tr K: 0.0515, Tr D: 0.0175, Te B: 0.0477, Te K: 0.0528, Te D: 0.0174, Trus: 0.1882\n",
      "E: 016, Tr B: 0.0488, Tr K: 0.0508, Tr D: 0.0179, Te B: 0.0476, Te K: 0.0519, Te D: 0.0176, Trus: 0.1906\n",
      "E: 017, Tr B: 0.0486, Tr K: 0.0520, Tr D: 0.0172, Te B: 0.0476, Te K: 0.0533, Te D: 0.0172, Trus: 0.1894\n",
      "E: 018, Tr B: 0.0486, Tr K: 0.0505, Tr D: 0.0173, Te B: 0.0477, Te K: 0.0515, Te D: 0.0171, Trus: 0.1900\n",
      "E: 019, Tr B: 0.0487, Tr K: 0.0502, Tr D: 0.0175, Te B: 0.0478, Te K: 0.0513, Te D: 0.0173, Trus: 0.1925\n",
      "E: 020, Tr B: 0.0486, Tr K: 0.0499, Tr D: 0.0171, Te B: 0.0477, Te K: 0.0510, Te D: 0.0169, Trus: 0.1893\n",
      "E: 021, Tr B: 0.0486, Tr K: 0.0497, Tr D: 0.0169, Te B: 0.0477, Te K: 0.0507, Te D: 0.0167, Trus: 0.1884\n",
      "E: 022, Tr B: 0.0487, Tr K: 0.0498, Tr D: 0.0169, Te B: 0.0477, Te K: 0.0508, Te D: 0.0168, Trus: 0.1855\n",
      "E: 023, Tr B: 0.0486, Tr K: 0.0493, Tr D: 0.0170, Te B: 0.0477, Te K: 0.0503, Te D: 0.0169, Trus: 0.1844\n",
      "E: 024, Tr B: 0.0485, Tr K: 0.0491, Tr D: 0.0168, Te B: 0.0476, Te K: 0.0503, Te D: 0.0166, Trus: 0.1842\n",
      "E: 025, Tr B: 0.0485, Tr K: 0.0491, Tr D: 0.0169, Te B: 0.0477, Te K: 0.0501, Te D: 0.0167, Trus: 0.1839\n",
      "E: 026, Tr B: 0.0484, Tr K: 0.0487, Tr D: 0.0168, Te B: 0.0477, Te K: 0.0497, Te D: 0.0165, Trus: 0.1847\n",
      "E: 027, Tr B: 0.0485, Tr K: 0.0484, Tr D: 0.0168, Te B: 0.0475, Te K: 0.0494, Te D: 0.0166, Trus: 0.1840\n",
      "E: 028, Tr B: 0.0484, Tr K: 0.0485, Tr D: 0.0164, Te B: 0.0475, Te K: 0.0497, Te D: 0.0163, Trus: 0.1837\n",
      "E: 029, Tr B: 0.0484, Tr K: 0.0483, Tr D: 0.0168, Te B: 0.0475, Te K: 0.0493, Te D: 0.0168, Trus: 0.1827\n",
      "E: 030, Tr B: 0.0484, Tr K: 0.0480, Tr D: 0.0164, Te B: 0.0475, Te K: 0.0490, Te D: 0.0163, Trus: 0.1843\n",
      "E: 031, Tr B: 0.0485, Tr K: 0.0487, Tr D: 0.0161, Te B: 0.0476, Te K: 0.0499, Te D: 0.0161, Trus: 0.1825\n",
      "E: 032, Tr B: 0.0486, Tr K: 0.0480, Tr D: 0.0162, Te B: 0.0476, Te K: 0.0492, Te D: 0.0161, Trus: 0.1833\n",
      "E: 033, Tr B: 0.0485, Tr K: 0.0482, Tr D: 0.0161, Te B: 0.0475, Te K: 0.0493, Te D: 0.0161, Trus: 0.1859\n",
      "E: 034, Tr B: 0.0486, Tr K: 0.0484, Tr D: 0.0161, Te B: 0.0476, Te K: 0.0494, Te D: 0.0161, Trus: 0.1846\n",
      "E: 035, Tr B: 0.0485, Tr K: 0.0481, Tr D: 0.0161, Te B: 0.0476, Te K: 0.0492, Te D: 0.0161, Trus: 0.1852\n",
      "E: 036, Tr B: 0.0484, Tr K: 0.0478, Tr D: 0.0164, Te B: 0.0475, Te K: 0.0490, Te D: 0.0163, Trus: 0.1836\n",
      "E: 037, Tr B: 0.0484, Tr K: 0.0478, Tr D: 0.0162, Te B: 0.0475, Te K: 0.0491, Te D: 0.0162, Trus: 0.1795\n",
      "E: 038, Tr B: 0.0486, Tr K: 0.0478, Tr D: 0.0165, Te B: 0.0476, Te K: 0.0490, Te D: 0.0165, Trus: 0.1814\n",
      "E: 039, Tr B: 0.0485, Tr K: 0.0479, Tr D: 0.0162, Te B: 0.0476, Te K: 0.0492, Te D: 0.0162, Trus: 0.1778\n",
      "E: 040, Tr B: 0.0484, Tr K: 0.0476, Tr D: 0.0157, Te B: 0.0475, Te K: 0.0487, Te D: 0.0159, Trus: 0.1778\n",
      "E: 041, Tr B: 0.0484, Tr K: 0.0479, Tr D: 0.0157, Te B: 0.0475, Te K: 0.0491, Te D: 0.0157, Trus: 0.1814\n",
      "E: 042, Tr B: 0.0485, Tr K: 0.0484, Tr D: 0.0159, Te B: 0.0476, Te K: 0.0494, Te D: 0.0160, Trus: 0.1828\n",
      "E: 043, Tr B: 0.0483, Tr K: 0.0476, Tr D: 0.0159, Te B: 0.0476, Te K: 0.0487, Te D: 0.0160, Trus: 0.1837\n",
      "E: 044, Tr B: 0.0482, Tr K: 0.0478, Tr D: 0.0160, Te B: 0.0476, Te K: 0.0490, Te D: 0.0160, Trus: 0.1823\n",
      "E: 045, Tr B: 0.0485, Tr K: 0.0479, Tr D: 0.0163, Te B: 0.0476, Te K: 0.0491, Te D: 0.0163, Trus: 0.1846\n",
      "E: 046, Tr B: 0.0485, Tr K: 0.0482, Tr D: 0.0159, Te B: 0.0476, Te K: 0.0492, Te D: 0.0160, Trus: 0.1849\n",
      "E: 047, Tr B: 0.0486, Tr K: 0.0486, Tr D: 0.0169, Te B: 0.0476, Te K: 0.0499, Te D: 0.0172, Trus: 0.1773\n",
      "E: 048, Tr B: 0.0488, Tr K: 0.0482, Tr D: 0.0167, Te B: 0.0478, Te K: 0.0495, Te D: 0.0168, Trus: 0.1787\n",
      "E: 049, Tr B: 0.0486, Tr K: 0.0484, Tr D: 0.0161, Te B: 0.0477, Te K: 0.0495, Te D: 0.0163, Trus: 0.1836\n",
      "E: 050, Tr B: 0.0487, Tr K: 0.0482, Tr D: 0.0160, Te B: 0.0477, Te K: 0.0491, Te D: 0.0161, Trus: 0.1840\n",
      "E: 051, Tr B: 0.0484, Tr K: 0.0473, Tr D: 0.0155, Te B: 0.0476, Te K: 0.0485, Te D: 0.0155, Trus: 0.1834\n",
      "E: 052, Tr B: 0.0485, Tr K: 0.0474, Tr D: 0.0154, Te B: 0.0477, Te K: 0.0486, Te D: 0.0155, Trus: 0.1833\n",
      "E: 053, Tr B: 0.0486, Tr K: 0.0476, Tr D: 0.0158, Te B: 0.0478, Te K: 0.0486, Te D: 0.0159, Trus: 0.1853\n",
      "E: 054, Tr B: 0.0486, Tr K: 0.0474, Tr D: 0.0153, Te B: 0.0476, Te K: 0.0483, Te D: 0.0154, Trus: 0.1837\n",
      "E: 055, Tr B: 0.0485, Tr K: 0.0476, Tr D: 0.0152, Te B: 0.0475, Te K: 0.0487, Te D: 0.0152, Trus: 0.1837\n",
      "E: 056, Tr B: 0.0486, Tr K: 0.0476, Tr D: 0.0153, Te B: 0.0477, Te K: 0.0488, Te D: 0.0155, Trus: 0.1819\n",
      "E: 057, Tr B: 0.0486, Tr K: 0.0477, Tr D: 0.0155, Te B: 0.0476, Te K: 0.0487, Te D: 0.0155, Trus: 0.1804\n",
      "E: 058, Tr B: 0.0486, Tr K: 0.0471, Tr D: 0.0153, Te B: 0.0477, Te K: 0.0483, Te D: 0.0154, Trus: 0.1829\n",
      "E: 059, Tr B: 0.0485, Tr K: 0.0475, Tr D: 0.0154, Te B: 0.0477, Te K: 0.0488, Te D: 0.0155, Trus: 0.1792\n",
      "E: 060, Tr B: 0.0485, Tr K: 0.0474, Tr D: 0.0152, Te B: 0.0478, Te K: 0.0486, Te D: 0.0153, Trus: 0.1847\n",
      "E: 061, Tr B: 0.0485, Tr K: 0.0472, Tr D: 0.0154, Te B: 0.0478, Te K: 0.0484, Te D: 0.0154, Trus: 0.1811\n",
      "E: 062, Tr B: 0.0485, Tr K: 0.0471, Tr D: 0.0154, Te B: 0.0478, Te K: 0.0485, Te D: 0.0155, Trus: 0.1833\n",
      "E: 063, Tr B: 0.0484, Tr K: 0.0476, Tr D: 0.0153, Te B: 0.0477, Te K: 0.0486, Te D: 0.0153, Trus: 0.1830\n",
      "E: 064, Tr B: 0.0486, Tr K: 0.0475, Tr D: 0.0155, Te B: 0.0479, Te K: 0.0486, Te D: 0.0154, Trus: 0.1827\n",
      "E: 065, Tr B: 0.0486, Tr K: 0.0473, Tr D: 0.0156, Te B: 0.0478, Te K: 0.0484, Te D: 0.0155, Trus: 0.1833\n",
      "E: 066, Tr B: 0.0486, Tr K: 0.0474, Tr D: 0.0154, Te B: 0.0477, Te K: 0.0485, Te D: 0.0153, Trus: 0.1835\n",
      "E: 067, Tr B: 0.0485, Tr K: 0.0469, Tr D: 0.0155, Te B: 0.0478, Te K: 0.0481, Te D: 0.0155, Trus: 0.1809\n",
      "E: 068, Tr B: 0.0485, Tr K: 0.0469, Tr D: 0.0153, Te B: 0.0477, Te K: 0.0482, Te D: 0.0153, Trus: 0.1801\n",
      "E: 069, Tr B: 0.0486, Tr K: 0.0471, Tr D: 0.0153, Te B: 0.0478, Te K: 0.0484, Te D: 0.0155, Trus: 0.1759\n",
      "E: 070, Tr B: 0.0486, Tr K: 0.0467, Tr D: 0.0157, Te B: 0.0478, Te K: 0.0480, Te D: 0.0157, Trus: 0.1821\n",
      "E: 071, Tr B: 0.0484, Tr K: 0.0468, Tr D: 0.0154, Te B: 0.0478, Te K: 0.0481, Te D: 0.0155, Trus: 0.1779\n",
      "E: 072, Tr B: 0.0485, Tr K: 0.0469, Tr D: 0.0152, Te B: 0.0478, Te K: 0.0483, Te D: 0.0153, Trus: 0.1773\n",
      "E: 073, Tr B: 0.0485, Tr K: 0.0469, Tr D: 0.0152, Te B: 0.0477, Te K: 0.0481, Te D: 0.0151, Trus: 0.1768\n",
      "E: 074, Tr B: 0.0485, Tr K: 0.0469, Tr D: 0.0153, Te B: 0.0477, Te K: 0.0481, Te D: 0.0153, Trus: 0.1810\n",
      "E: 075, Tr B: 0.0485, Tr K: 0.0473, Tr D: 0.0151, Te B: 0.0477, Te K: 0.0485, Te D: 0.0151, Trus: 0.1771\n",
      "E: 076, Tr B: 0.0485, Tr K: 0.0475, Tr D: 0.0157, Te B: 0.0478, Te K: 0.0486, Te D: 0.0158, Trus: 0.1797\n",
      "E: 077, Tr B: 0.0486, Tr K: 0.0470, Tr D: 0.0154, Te B: 0.0478, Te K: 0.0481, Te D: 0.0155, Trus: 0.1785\n",
      "E: 078, Tr B: 0.0487, Tr K: 0.0478, Tr D: 0.0160, Te B: 0.0479, Te K: 0.0489, Te D: 0.0160, Trus: 0.1770\n",
      "E: 079, Tr B: 0.0487, Tr K: 0.0479, Tr D: 0.0168, Te B: 0.0477, Te K: 0.0490, Te D: 0.0169, Trus: 0.1814\n",
      "E: 080, Tr B: 0.0487, Tr K: 0.0480, Tr D: 0.0175, Te B: 0.0479, Te K: 0.0493, Te D: 0.0175, Trus: 0.1789\n",
      "E: 081, Tr B: 0.0487, Tr K: 0.0485, Tr D: 0.0165, Te B: 0.0479, Te K: 0.0497, Te D: 0.0165, Trus: 0.1787\n",
      "E: 082, Tr B: 0.0488, Tr K: 0.0508, Tr D: 0.0185, Te B: 0.0479, Te K: 0.0519, Te D: 0.0184, Trus: 0.1768\n",
      "E: 083, Tr B: 0.0487, Tr K: 0.0496, Tr D: 0.0174, Te B: 0.0478, Te K: 0.0508, Te D: 0.0174, Trus: 0.1754\n",
      "E: 084, Tr B: 0.0487, Tr K: 0.0483, Tr D: 0.0164, Te B: 0.0478, Te K: 0.0494, Te D: 0.0164, Trus: 0.1792\n",
      "E: 085, Tr B: 0.0484, Tr K: 0.0475, Tr D: 0.0156, Te B: 0.0477, Te K: 0.0486, Te D: 0.0156, Trus: 0.1829\n",
      "E: 086, Tr B: 0.0483, Tr K: 0.0474, Tr D: 0.0151, Te B: 0.0477, Te K: 0.0484, Te D: 0.0151, Trus: 0.1846\n",
      "E: 087, Tr B: 0.0485, Tr K: 0.0472, Tr D: 0.0150, Te B: 0.0478, Te K: 0.0483, Te D: 0.0150, Trus: 0.1806\n",
      "E: 088, Tr B: 0.0485, Tr K: 0.0477, Tr D: 0.0152, Te B: 0.0478, Te K: 0.0488, Te D: 0.0152, Trus: 0.1798\n",
      "E: 089, Tr B: 0.0486, Tr K: 0.0476, Tr D: 0.0157, Te B: 0.0478, Te K: 0.0486, Te D: 0.0156, Trus: 0.1823\n"
     ]
    }
   ],
   "source": [
    "train_biological_losses_all_epochs = []\n",
    "train_kabsch_losses_all_epochs = []\n",
    "train_distance_losses_all_epochs = []\n",
    "\n",
    "test_biological_losses_all_epochs = []\n",
    "test_kabsch_losses_all_epochs = []\n",
    "test_distance_losses_all_epochs = []\n",
    "\n",
    "losses = []\n",
    "\n",
    "trussart_test_kabsch_losses_all_epochs = []\n",
    "\n",
    "for epoch in range(1, NB_EPOCHS+1):\n",
    "    loss = train()\n",
    "    losses.append(loss)\n",
    "    \n",
    "    ### Training\n",
    "    train_mean_biological_loss, train_mean_kabsch_loss, train_mean_distance_loss, train_true_hics, \\\n",
    "        train_pred_structures, train_true_structures, train_pred_distances, \\\n",
    "            train_true_distances = evaluate(train_loader) \n",
    "    \n",
    "    # Store results\n",
    "    train_biological_losses_all_epochs.append(train_mean_biological_loss)\n",
    "    train_kabsch_losses_all_epochs.append(train_mean_kabsch_loss)    \n",
    "    train_distance_losses_all_epochs.append(train_mean_distance_loss)\n",
    "    \n",
    "    ### Testing\n",
    "    test_mean_biological_loss, test_mean_kabsch_loss, test_mean_distance_loss, test_true_hics, \\\n",
    "        test_pred_structures, test_true_structures, test_pred_distances, \\\n",
    "            test_true_distances = evaluate(test_loader) \n",
    "    \n",
    "    ### Trussart test\n",
    "    trussart_test_kabsch_loss = compute_trussart_test_kabsch_loss()\n",
    "    \n",
    "    # Store results\n",
    "    test_biological_losses_all_epochs.append(test_mean_biological_loss)\n",
    "    test_kabsch_losses_all_epochs.append(test_mean_kabsch_loss)    \n",
    "    test_distance_losses_all_epochs.append(test_mean_distance_loss)\n",
    "    \n",
    "    trussart_test_kabsch_losses_all_epochs.append(trussart_test_kabsch_loss)\n",
    "    \n",
    "    print('E: {:03d}, Tr B: {:.4f}, Tr K: {:.4f}, Tr D: {:.4f}, Te B: {:.4f}, Te K: {:.4f}, Te D: {:.4f}, Trus: {:.4f}'.format(\\\n",
    "        epoch, train_mean_biological_loss, train_mean_kabsch_loss, train_mean_distance_loss, \\\n",
    "            test_mean_biological_loss, test_mean_kabsch_loss, test_mean_distance_loss, trussart_test_kabsch_loss))"
   ]
  },
  {
   "cell_type": "code",
   "execution_count": 40,
   "metadata": {},
   "outputs": [
    {
     "data": {
      "text/plain": [
       "0.17542272119412927"
      ]
     },
     "execution_count": 40,
     "metadata": {},
     "output_type": "execute_result"
    }
   ],
   "source": [
    "np.min(trussart_test_kabsch_losses_all_epochs)"
   ]
  },
  {
   "cell_type": "code",
   "execution_count": 41,
   "metadata": {},
   "outputs": [
    {
     "data": {
      "image/png": "[encoded data removed]",
      "text/plain": [
       "<Figure size 640x480 with 1 Axes>"
      ]
     },
     "metadata": {},
     "output_type": "display_data"
    }
   ],
   "source": [
    "plt.plot(losses, label='Losses')\n",
    "plt.legend()\n",
    "\n",
    "plt.show()"
   ]
  },
  {
   "cell_type": "code",
   "execution_count": 42,
   "metadata": {},
   "outputs": [
    {
     "data": {
      "image/png": "[encoded data removed]",
      "text/plain": [
       "<Figure size 640x480 with 1 Axes>"
      ]
     },
     "metadata": {},
     "output_type": "display_data"
    }
   ],
   "source": [
    "plt.plot(train_biological_losses_all_epochs, label='Train Bio')\n",
    "plt.plot(test_biological_losses_all_epochs, label='Test Bio')\n",
    "\n",
    "plt.legend()\n",
    "plt.show()"
   ]
  },
  {
   "cell_type": "code",
   "execution_count": 43,
   "metadata": {},
   "outputs": [
    {
     "data": {
      "image/png": "[encoded data removed]",
      "text/plain": [
       "<Figure size 640x480 with 1 Axes>"
      ]
     },
     "metadata": {},
     "output_type": "display_data"
    }
   ],
   "source": [
    "plt.plot(train_kabsch_losses_all_epochs, label='Train Kabsch')\n",
    "plt.plot(test_kabsch_losses_all_epochs, label='Test Kabsch')\n",
    "\n",
    "plt.legend()\n",
    "plt.show()"
   ]
  },
  {
   "cell_type": "code",
   "execution_count": 44,
   "metadata": {},
   "outputs": [
    {
     "data": {
      "image/png": "[encoded data removed]",
      "text/plain": [
       "<Figure size 640x480 with 1 Axes>"
      ]
     },
     "metadata": {},
     "output_type": "display_data"
    }
   ],
   "source": [
    "plt.plot(train_distance_losses_all_epochs, label='Train Dist')\n",
    "plt.plot(test_distance_losses_all_epochs, label='Test Dist')\n",
    "\n",
    "plt.legend()\n",
    "plt.show()"
   ]
  },
  {
   "cell_type": "code",
   "execution_count": 45,
   "metadata": {},
   "outputs": [
    {
     "data": {
      "image/png": "[encoded data removed]",
      "text/plain": [
       "<Figure size 640x480 with 1 Axes>"
      ]
     },
     "metadata": {},
     "output_type": "display_data"
    }
   ],
   "source": [
    "plt.plot(trussart_test_kabsch_losses_all_epochs, label='Test Trussart Kabsch')\n",
    "\n",
    "plt.legend()\n",
    "plt.show()"
   ]
  },
  {
   "cell_type": "code",
   "execution_count": 46,
   "metadata": {},
   "outputs": [],
   "source": [
    "GRAPH_TESTED = 0"
   ]
  },
  {
   "cell_type": "code",
   "execution_count": 47,
   "metadata": {},
   "outputs": [
    {
     "data": {
      "image/png": "[encoded data removed]",
      "text/plain": [
       "<Figure size 1500x1500 with 2 Axes>"
      ]
     },
     "metadata": {},
     "output_type": "display_data"
    }
   ],
   "source": [
    "fig, axes = plt.subplots(1, 2, figsize=(15,15))\n",
    "\n",
    "ground_truth_matrix = test_true_distances[GRAPH_TESTED*NB_BINS:GRAPH_TESTED*NB_BINS+NB_BINS, :]\n",
    "axes[0].imshow(ground_truth_matrix, cmap='hot', interpolation='nearest')\n",
    "\n",
    "reconstruction_matrix = test_pred_distances[GRAPH_TESTED*NB_BINS:GRAPH_TESTED*NB_BINS+NB_BINS, :]\n",
    "axes[1].imshow(reconstruction_matrix, cmap='hot', interpolation='nearest')\n",
    "\n",
    "plt.show()"
   ]
  },
  {
   "cell_type": "code",
   "execution_count": 48,
   "metadata": {},
   "outputs": [
    {
     "data": {
      "application/vnd.plotly.v1+json": {
       "config": {
        "plotlyServerURL": "https://plot.ly"
       },
       "data": [
        {
         "line": {
          "color": "darkblue",
          "width": 2
         },
         "marker": {
          "color": [
           0,
           1,
           2,
           3,
           4,
           5,
           6,
           7,
           8,
           9,
           10,
           11,
           12,
           13,
           14,
           15,
           16,
           17,
           18,
           19,
           20,
           21,
           22,
           23,
           24,
           25,
           26,
           27,
           28,
           29,
           30,
           31,
           32,
           33,
           34,
           35,
           36,
           37,
           38,
           39,
           40,
           41,
           42,
           43,
           44,
           45,
           46,
           47,
           48,
           49,
           50,
           51,
           52,
           53,
           54,
           55,
           56,
           57,
           58,
           59,
           60,
           61,
           62,
           63,
           64,
           65,
           66,
           67,
           68,
           69,
           70,
           71,
           72,
           73,
           74,
           75,
           76,
           77,
           78,
           79,
           80,
           81,
           82,
           83,
           84,
           85,
           86,
           87,
           88,
           89,
           90,
           91,
           92,
           93,
           94,
           95,
           96,
           97,
           98,
           99,
           100,
           101,
           102,
           103,
           104,
           105,
           106,
           107,
           108,
           109,
           110,
           111,
           112,
           113,
           114,
           115,
           116,
           117,
           118,
           119,
           120,
           121,
           122,
           123,
           124,
           125,
           126,
           127,
           128,
           129,
           130,
           131,
           132,
           133,
           134,
           135,
           136,
           137,
           138,
           139,
           140,
           141,
           142,
           143,
           144,
           145,
           146,
           147,
           148,
           149,
           150,
           151,
           152,
           153,
           154,
           155,
           156,
           157,
           158,
           159,
           160,
           161,
           162,
           163,
           164,
           165,
           166,
           167,
           168,
           169,
           170,
           171,
           172,
           173,
           174,
           175,
           176,
           177,
           178,
           179,
           180,
           181,
           182,
           183,
           184,
           185,
           186,
           187,
           188,
           189,
           190,
           191,
           192,
           193,
           194,
           195,
           196,
           197,
           198,
           199,
           200,
           201
          ],
          "colorscale": [
           [
            0,
            "#440154"
           ],
           [
            0.1111111111111111,
            "#482878"
           ],
           [
            0.2222222222222222,
            "#3e4989"
           ],
           [
            0.3333333333333333,
            "#31688e"
           ],
           [
            0.4444444444444444,
            "#26828e"
           ],
           [
            0.5555555555555556,
            "#1f9e89"
           ],
           [
            0.6666666666666666,
            "#35b779"
           ],
           [
            0.7777777777777778,
            "#6ece58"
           ],
           [
            0.8888888888888888,
            "#b5de2b"
           ],
           [
            1,
            "#fde725"
           ]
          ],
          "size": 4
         },
         "scene": "scene",
         "type": "scatter3d",
         "x": [
          0.38251224160194397,
          0.32325804233551025,
          0.38251224160194397,
          0.32325804233551025,
          0.32325804233551025,
          0.38251224160194397,
          0.32325804233551025,
          0.32325804233551025,
          0.38251224160194397,
          0.4417664110660553,
          0.38251224160194397,
          0.4417664110660553,
          0.4417664110660553,
          0.4417664110660553,
          0.4417664110660553,
          0.4417664110660553,
          0.4417664110660553,
          0.5010205507278442,
          0.4417664110660553,
          0.4417664110660553,
          0.38251224160194397,
          0.32325804233551025,
          0.32325804233551025,
          0.38251224160194397,
          0.4417664110660553,
          0.5010205507278442,
          0.5602747201919556,
          0.5010205507278442,
          0.4417664110660553,
          0.5010205507278442,
          0.4417664110660553,
          0.4417664110660553,
          0.5010205507278442,
          0.5602747201919556,
          0.5010205507278442,
          0.5602747201919556,
          0.6195288896560669,
          0.6787830591201782,
          0.6195288896560669,
          0.6195288896560669,
          0.5602747201919556,
          0.6195288896560669,
          0.6787830591201782,
          0.6195288896560669,
          0.6195288896560669,
          0.5602747201919556,
          0.6195288896560669,
          0.5602747201919556,
          0.5010205507278442,
          0.4417664110660553,
          0.38251224160194397,
          0.32325804233551025,
          0.38251224160194397,
          0.32325804233551025,
          0.32325804233551025,
          0.38251224160194397,
          0.38251224160194397,
          0.32325804233551025,
          0.32325804233551025,
          0.2640038728713989,
          0.32325804233551025,
          0.2640038728713989,
          0.2640038728713989,
          0.2047496885061264,
          0.2047496885061264,
          0.2047496885061264,
          0.14549550414085388,
          0.2047496885061264,
          0.2640038728713989,
          0.2047496885061264,
          0.2047496885061264,
          0.2640038728713989,
          0.32325804233551025,
          0.2640038728713989,
          0.2640038728713989,
          0.2640038728713989,
          0.32325804233551025,
          0.38251224160194397,
          0.4417664110660553,
          0.38251224160194397,
          0.32325804233551025,
          0.32325804233551025,
          0.2640038728713989,
          0.2047496885061264,
          0.2047496885061264,
          0.2047496885061264,
          0.2640038728713989,
          0.2047496885061264,
          0.2640038728713989,
          0.2047496885061264,
          0.2047496885061264,
          0.2047496885061264,
          0.2640038728713989,
          0.32325804233551025,
          0.2640038728713989,
          0.2047496885061264,
          0.2640038728713989,
          0.2047496885061264,
          0.2640038728713989,
          0.32325804233551025,
          0.2640038728713989,
          0.2047496885061264,
          0.2047496885061264,
          0.2047496885061264,
          0.14549550414085388,
          0.14549550414085388,
          0.14549550414085388,
          0.2047496885061264,
          0.2047496885061264,
          0.2047496885061264,
          0.14549550414085388,
          0.14549550414085388,
          0.08624133467674255,
          0.026987159624695778,
          -0.032267019152641296,
          -0.09152118861675262,
          -0.09152118861675262,
          -0.09152118861675262,
          -0.09152118861675262,
          -0.09152118861675262,
          -0.09152118861675262,
          -0.09152118861675262,
          -0.15077537298202515,
          -0.09152118861675262,
          -0.032267019152641296,
          -0.032267019152641296,
          -0.09152118861675262,
          -0.032267019152641296,
          -0.09152118861675262,
          -0.032267019152641296,
          -0.09152118861675262,
          -0.09152118861675262,
          -0.15077537298202515,
          -0.15077537298202515,
          -0.09152118861675262,
          -0.09152118861675262,
          -0.15077537298202515,
          -0.15077537298202515,
          -0.21002955734729767,
          -0.2692837119102478,
          -0.32853788137435913,
          -0.32853788137435913,
          -0.38779208064079285,
          -0.32853788137435913,
          -0.32853788137435913,
          -0.32853788137435913,
          -0.32853788137435913,
          -0.32853788137435913,
          -0.32853788137435913,
          -0.32853788137435913,
          -0.32853788137435913,
          -0.38779208064079285,
          -0.38779208064079285,
          -0.4470462501049042,
          -0.4470462501049042,
          -0.4470462501049042,
          -0.5063003897666931,
          -0.5655545592308044,
          -0.5063003897666931,
          -0.5063003897666931,
          -0.5063003897666931,
          -0.5655545592308044,
          -0.6248087286949158,
          -0.5655545592308044,
          -0.6248087286949158,
          -0.6248087286949158,
          -0.6248087286949158,
          -0.6248087286949158,
          -0.5655545592308044,
          -0.5655545592308044,
          -0.5655545592308044,
          -0.5655545592308044,
          -0.6248087286949158,
          -0.5655545592308044,
          -0.5655545592308044,
          -0.5063003897666931,
          -0.4470462501049042,
          -0.5063003897666931,
          -0.5063003897666931,
          -0.5655545592308044,
          -0.6248087286949158,
          -0.6248087286949158,
          -0.6248087286949158,
          -0.6840628981590271,
          -0.7433170676231384,
          -0.7433170676231384,
          -0.8025712966918945,
          -0.8025712966918945,
          -0.8618254661560059,
          -0.8618254661560059,
          -0.8618254661560059,
          -0.8618254661560059,
          -0.9210796356201172,
          -0.9210796356201172,
          -0.9210796356201172,
          -0.9210796356201172,
          -0.8618254661560059,
          -0.8618254661560059,
          -0.9210796356201172,
          -0.8618254661560059,
          -0.8025712966918945,
          -0.8618254661560059
         ],
         "y": [
          -0.244056835770607,
          -0.244056835770607,
          -0.18480265140533447,
          -0.12554848194122314,
          -0.18480265140533447,
          -0.244056835770607,
          -0.244056835770607,
          -0.18480265140533447,
          -0.18480265140533447,
          -0.12554848194122314,
          -0.12554848194122314,
          -0.06629431247711182,
          -0.06629431247711182,
          -0.12554848194122314,
          -0.06629431247711182,
          -0.007040135562419891,
          0.052214041352272034,
          -0.007040135562419891,
          0.052214041352272034,
          -0.007040135562419891,
          0.052214041352272034,
          0.052214041352272034,
          -0.007040135562419891,
          -0.007040135562419891,
          -0.06629431247711182,
          -0.12554848194122314,
          -0.12554848194122314,
          -0.12554848194122314,
          -0.18480265140533447,
          -0.12554848194122314,
          -0.18480265140533447,
          -0.18480265140533447,
          -0.244056835770607,
          -0.18480265140533447,
          -0.244056835770607,
          -0.18480265140533447,
          -0.12554848194122314,
          -0.12554848194122314,
          -0.06629431247711182,
          -0.007040135562419891,
          0.052214041352272034,
          -0.007040135562419891,
          -0.06629431247711182,
          -0.06629431247711182,
          -0.06629431247711182,
          -0.06629431247711182,
          -0.12554848194122314,
          -0.12554848194122314,
          -0.18480265140533447,
          -0.12554848194122314,
          -0.06629431247711182,
          -0.06629431247711182,
          -0.007040135562419891,
          0.052214041352272034,
          0.11146821826696396,
          0.052214041352272034,
          0.052214041352272034,
          0.052214041352272034,
          -0.007040135562419891,
          -0.007040135562419891,
          -0.06629431247711182,
          -0.007040135562419891,
          -0.007040135562419891,
          -0.007040135562419891,
          -0.06629431247711182,
          -0.06629431247711182,
          -0.007040135562419891,
          -0.007040135562419891,
          0.052214041352272034,
          -0.007040135562419891,
          0.052214041352272034,
          0.052214041352272034,
          0.052214041352272034,
          0.052214041352272034,
          0.11146821826696396,
          0.11146821826696396,
          0.052214041352272034,
          0.11146821826696396,
          0.17072239518165588,
          0.2299765795469284,
          0.2299765795469284,
          0.2299765795469284,
          0.28923073410987854,
          0.28923073410987854,
          0.34848490357398987,
          0.34848490357398987,
          0.34848490357398987,
          0.34848490357398987,
          0.28923073410987854,
          0.2299765795469284,
          0.17072239518165588,
          0.17072239518165588,
          0.11146821826696396,
          0.17072239518165588,
          0.17072239518165588,
          0.11146821826696396,
          0.11146821826696396,
          0.17072239518165588,
          0.17072239518165588,
          0.11146821826696396,
          0.052214041352272034,
          0.052214041352272034,
          0.052214041352272034,
          0.052214041352272034,
          0.052214041352272034,
          0.11146821826696396,
          0.052214041352272034,
          0.052214041352272034,
          -0.007040135562419891,
          -0.007040135562419891,
          0.052214041352272034,
          -0.007040135562419891,
          -0.06629431247711182,
          -0.12554848194122314,
          -0.12554848194122314,
          -0.06629431247711182,
          -0.007040135562419891,
          0.052214041352272034,
          0.052214041352272034,
          0.11146821826696396,
          0.17072239518165588,
          0.11146821826696396,
          0.052214041352272034,
          0.052214041352272034,
          -0.007040135562419891,
          -0.06629431247711182,
          -0.06629431247711182,
          -0.06629431247711182,
          -0.06629431247711182,
          -0.007040135562419891,
          -0.007040135562419891,
          0.052214041352272034,
          -0.007040135562419891,
          -0.007040135562419891,
          -0.007040135562419891,
          0.052214041352272034,
          0.052214041352272034,
          0.052214041352272034,
          -0.007040135562419891,
          -0.06629431247711182,
          -0.12554848194122314,
          -0.12554848194122314,
          -0.06629431247711182,
          -0.06629431247711182,
          -0.12554848194122314,
          -0.18480265140533447,
          -0.18480265140533447,
          -0.244056835770607,
          -0.18480265140533447,
          -0.12554848194122314,
          -0.12554848194122314,
          -0.06629431247711182,
          -0.06629431247711182,
          -0.12554848194122314,
          -0.06629431247711182,
          -0.007040135562419891,
          -0.06629431247711182,
          -0.06629431247711182,
          -0.12554848194122314,
          -0.06629431247711182,
          -0.12554848194122314,
          -0.18480265140533447,
          -0.18480265140533447,
          -0.12554848194122314,
          -0.12554848194122314,
          -0.06629431247711182,
          -0.007040135562419891,
          -0.06629431247711182,
          -0.007040135562419891,
          -0.007040135562419891,
          -0.007040135562419891,
          -0.06629431247711182,
          -0.06629431247711182,
          -0.007040135562419891,
          0.052214041352272034,
          -0.007040135562419891,
          -0.007040135562419891,
          0.052214041352272034,
          -0.007040135562419891,
          -0.007040135562419891,
          0.052214041352272034,
          0.11146821826696396,
          0.052214041352272034,
          0.11146821826696396,
          0.052214041352272034,
          0.052214041352272034,
          0.11146821826696396,
          0.052214041352272034,
          0.11146821826696396,
          0.052214041352272034,
          0.11146821826696396,
          0.17072239518165588,
          0.17072239518165588,
          0.11146821826696396,
          0.17072239518165588,
          0.11146821826696396,
          0.11146821826696396,
          0.11146821826696396,
          0.11146821826696396,
          0.17072239518165588,
          0.2299765795469284,
          0.2299765795469284
         ],
         "z": [
          0.3018442392349243,
          0.36109840869903564,
          0.3018442392349243,
          0.36109840869903564,
          0.42035260796546936,
          0.36109840869903564,
          0.42035260796546936,
          0.36109840869903564,
          0.42035260796546936,
          0.36109840869903564,
          0.42035260796546936,
          0.42035260796546936,
          0.42035260796546936,
          0.42035260796546936,
          0.36109840869903564,
          0.42035260796546936,
          0.4796067774295807,
          0.4796067774295807,
          0.42035260796546936,
          0.36109840869903564,
          0.42035260796546936,
          0.4796067774295807,
          0.4796067774295807,
          0.4796067774295807,
          0.5388609170913696,
          0.598115086555481,
          0.5388609170913696,
          0.5388609170913696,
          0.5388609170913696,
          0.4796067774295807,
          0.42035260796546936,
          0.4796067774295807,
          0.5388609170913696,
          0.598115086555481,
          0.6573692560195923,
          0.6573692560195923,
          0.598115086555481,
          0.5388609170913696,
          0.598115086555481,
          0.5388609170913696,
          0.4796067774295807,
          0.4796067774295807,
          0.42035260796546936,
          0.36109840869903564,
          0.36109840869903564,
          0.3018442392349243,
          0.242590069770813,
          0.3018442392349243,
          0.3018442392349243,
          0.242590069770813,
          0.18333588540554047,
          0.18333588540554047,
          0.242590069770813,
          0.18333588540554047,
          0.18333588540554047,
          0.18333588540554047,
          0.18333588540554047,
          0.18333588540554047,
          0.242590069770813,
          0.242590069770813,
          0.3018442392349243,
          0.242590069770813,
          0.242590069770813,
          0.18333588540554047,
          0.242590069770813,
          0.242590069770813,
          0.18333588540554047,
          0.12408172339200974,
          0.06482754647731781,
          0.06482754647731781,
          0.005573366302996874,
          0.005573366302996874,
          0.06482754647731781,
          0.12408172339200974,
          0.12408172339200974,
          0.18333588540554047,
          0.18333588540554047,
          0.242590069770813,
          0.242590069770813,
          0.3018442392349243,
          0.242590069770813,
          0.18333588540554047,
          0.12408172339200974,
          0.18333588540554047,
          0.12408172339200974,
          0.18333588540554047,
          0.18333588540554047,
          0.12408172339200974,
          0.18333588540554047,
          0.18333588540554047,
          0.12408172339200974,
          0.06482754647731781,
          0.06482754647731781,
          0.005573366302996874,
          -0.05368081107735634,
          -0.11293498426675797,
          -0.1721891611814499,
          -0.2314433455467224,
          -0.29069751501083374,
          -0.29069751501083374,
          -0.34995168447494507,
          -0.34995168447494507,
          -0.4092058837413788,
          -0.34995168447494507,
          -0.29069751501083374,
          -0.2314433455467224,
          -0.1721891611814499,
          -0.11293498426675797,
          -0.05368081107735634,
          -0.11293498426675797,
          -0.05368081107735634,
          0.005573366302996874,
          -0.05368081107735634,
          -0.11293498426675797,
          -0.1721891611814499,
          -0.1721891611814499,
          -0.2314433455467224,
          -0.29069751501083374,
          -0.29069751501083374,
          -0.34995168447494507,
          -0.4092058837413788,
          -0.4092058837413788,
          -0.4684600532054901,
          -0.4684600532054901,
          -0.4684600532054901,
          -0.4684600532054901,
          -0.5277142524719238,
          -0.5869684219360352,
          -0.5277142524719238,
          -0.5277142524719238,
          -0.4684600532054901,
          -0.4684600532054901,
          -0.4092058837413788,
          -0.4684600532054901,
          -0.4092058837413788,
          -0.4092058837413788,
          -0.4092058837413788,
          -0.34995168447494507,
          -0.29069751501083374,
          -0.29069751501083374,
          -0.2314433455467224,
          -0.2314433455467224,
          -0.29069751501083374,
          -0.2314433455467224,
          -0.29069751501083374,
          -0.2314433455467224,
          -0.1721891611814499,
          -0.2314433455467224,
          -0.1721891611814499,
          -0.2314433455467224,
          -0.29069751501083374,
          -0.29069751501083374,
          -0.34995168447494507,
          -0.29069751501083374,
          -0.2314433455467224,
          -0.1721891611814499,
          -0.11293498426675797,
          -0.11293498426675797,
          -0.11293498426675797,
          -0.1721891611814499,
          -0.2314433455467224,
          -0.29069751501083374,
          -0.34995168447494507,
          -0.4092058837413788,
          -0.34995168447494507,
          -0.29069751501083374,
          -0.34995168447494507,
          -0.29069751501083374,
          -0.2314433455467224,
          -0.1721891611814499,
          -0.2314433455467224,
          -0.29069751501083374,
          -0.2314433455467224,
          -0.1721891611814499,
          -0.11293498426675797,
          -0.11293498426675797,
          -0.1721891611814499,
          -0.2314433455467224,
          -0.1721891611814499,
          -0.11293498426675797,
          -0.05368081107735634,
          -0.11293498426675797,
          -0.11293498426675797,
          -0.11293498426675797,
          -0.1721891611814499,
          -0.2314433455467224,
          -0.29069751501083374,
          -0.2314433455467224,
          -0.29069751501083374,
          -0.29069751501083374,
          -0.34995168447494507,
          -0.34995168447494507,
          -0.34995168447494507,
          -0.29069751501083374,
          -0.29069751501083374,
          -0.34995168447494507,
          -0.4092058837413788,
          -0.34995168447494507,
          -0.29069751501083374,
          -0.34995168447494507,
          -0.34995168447494507,
          -0.4092058837413788
         ]
        },
        {
         "line": {
          "color": "darkblue",
          "width": 2
         },
         "marker": {
          "color": [
           0,
           1,
           2,
           3,
           4,
           5,
           6,
           7,
           8,
           9,
           10,
           11,
           12,
           13,
           14,
           15,
           16,
           17,
           18,
           19,
           20,
           21,
           22,
           23,
           24,
           25,
           26,
           27,
           28,
           29,
           30,
           31,
           32,
           33,
           34,
           35,
           36,
           37,
           38,
           39,
           40,
           41,
           42,
           43,
           44,
           45,
           46,
           47,
           48,
           49,
           50,
           51,
           52,
           53,
           54,
           55,
           56,
           57,
           58,
           59,
           60,
           61,
           62,
           63,
           64,
           65,
           66,
           67,
           68,
           69,
           70,
           71,
           72,
           73,
           74,
           75,
           76,
           77,
           78,
           79,
           80,
           81,
           82,
           83,
           84,
           85,
           86,
           87,
           88,
           89,
           90,
           91,
           92,
           93,
           94,
           95,
           96,
           97,
           98,
           99,
           100,
           101,
           102,
           103,
           104,
           105,
           106,
           107,
           108,
           109,
           110,
           111,
           112,
           113,
           114,
           115,
           116,
           117,
           118,
           119,
           120,
           121,
           122,
           123,
           124,
           125,
           126,
           127,
           128,
           129,
           130,
           131,
           132,
           133,
           134,
           135,
           136,
           137,
           138,
           139,
           140,
           141,
           142,
           143,
           144,
           145,
           146,
           147,
           148,
           149,
           150,
           151,
           152,
           153,
           154,
           155,
           156,
           157,
           158,
           159,
           160,
           161,
           162,
           163,
           164,
           165,
           166,
           167,
           168,
           169,
           170,
           171,
           172,
           173,
           174,
           175,
           176,
           177,
           178,
           179,
           180,
           181,
           182,
           183,
           184,
           185,
           186,
           187,
           188,
           189,
           190,
           191,
           192,
           193,
           194,
           195,
           196,
           197,
           198,
           199,
           200,
           201
          ],
          "colorscale": [
           [
            0,
            "#440154"
           ],
           [
            0.1111111111111111,
            "#482878"
           ],
           [
            0.2222222222222222,
            "#3e4989"
           ],
           [
            0.3333333333333333,
            "#31688e"
           ],
           [
            0.4444444444444444,
            "#26828e"
           ],
           [
            0.5555555555555556,
            "#1f9e89"
           ],
           [
            0.6666666666666666,
            "#35b779"
           ],
           [
            0.7777777777777778,
            "#6ece58"
           ],
           [
            0.8888888888888888,
            "#b5de2b"
           ],
           [
            1,
            "#fde725"
           ]
          ],
          "size": 4
         },
         "scene": "scene2",
         "type": "scatter3d",
         "x": [
          0.4083438133737177,
          0.34859292198408964,
          0.3926009609523624,
          0.32061305742579543,
          0.32753629688714553,
          0.36340188696053843,
          0.36893181478375375,
          0.30785330328760485,
          0.4019928025709692,
          0.430393319007288,
          0.3678720571653517,
          0.423030772456849,
          0.423030772456849,
          0.4215616174426267,
          0.4645763813770247,
          0.44936581135079945,
          0.49937937168083135,
          0.5402195897524877,
          0.5019381324854603,
          0.43140204496238704,
          0.42046134414983133,
          0.4298718929243278,
          0.40298949478174706,
          0.450246332066591,
          0.5096982465367074,
          0.6080805703615901,
          0.5998358082185592,
          0.5014221214088831,
          0.48600824375932206,
          0.5112418254324552,
          0.43620778428203927,
          0.43446085733648976,
          0.5658548340329832,
          0.642063486709202,
          0.6785870478249748,
          0.6969927408518022,
          0.6908424697936485,
          0.7926817550940237,
          0.7083378781613594,
          0.6827453023916688,
          0.622544683111181,
          0.6816315435516545,
          0.6993694968238052,
          0.6251321683273211,
          0.6251321683273211,
          0.5670599395093436,
          0.6117810999375658,
          0.5798277083397276,
          0.5114969680885242,
          0.4291205585742281,
          0.38642522923577216,
          0.33586413458391096,
          0.39053754191634116,
          0.36885030963756077,
          0.3520143619574141,
          0.3696292995488639,
          0.3696292995488639,
          0.36885030963756077,
          0.36150459821903264,
          0.3345042067829893,
          0.3473557418372517,
          0.3345042067829893,
          0.3345042067829893,
          0.24825562555247424,
          0.26441917647248914,
          0.26441917647248914,
          0.21688417543305008,
          0.235636630153392,
          0.27460342826795614,
          0.1870179796422552,
          0.16178315024500955,
          0.22808693702680397,
          0.3162916696521782,
          0.27240793277012204,
          0.28928592427408073,
          0.3372299088325669,
          0.36885030963756077,
          0.40385374683884984,
          0.4961101736076214,
          0.49549558620012557,
          0.3865612443758694,
          0.3782666783725749,
          0.3224495035245472,
          0.30257477396134147,
          0.30175731354271845,
          0.3206311827611045,
          0.3443673993307606,
          0.30175731354271845,
          0.34623375271570983,
          0.2947796457107114,
          0.2664555821153179,
          0.22086902407473358,
          0.2768613992676196,
          0.2902084540617318,
          0.21576930656716015,
          0.15016447762562576,
          0.1747771028980019,
          0.1168892798069602,
          0.1587271320838767,
          0.18951994919463472,
          0.13172443552114801,
          0.07642858591121875,
          0.07325188448632845,
          0.07642858591121875,
          0.048501844760948334,
          0.08816416973463558,
          0.0976204096487973,
          0.15946168111570605,
          0.14597187523315058,
          0.1398884573826258,
          0.11441970879906142,
          0.12882959830542115,
          0.04647340518408036,
          -0.008445608533956777,
          -0.07055208344394127,
          -0.10487957282917527,
          -0.153079195603618,
          -0.13700019947390107,
          -0.13700019947390107,
          -0.14397682775929252,
          -0.12630993282644098,
          -0.141897482751233,
          -0.19452166628190493,
          -0.14229275202562425,
          -0.0929836692714948,
          -0.1151763654900115,
          -0.1352664665478795,
          -0.12382117190551024,
          -0.1352664665478795,
          -0.09367805892490565,
          -0.14332684521037903,
          -0.14229275202562425,
          -0.1847556076355289,
          -0.1687146939672244,
          -0.14312985291621838,
          -0.15584473147559413,
          -0.18731995837076473,
          -0.18943072680814727,
          -0.24148749149199303,
          -0.3016161503575413,
          -0.34429968396338617,
          -0.34429968396338617,
          -0.4048585658411663,
          -0.3832118139497458,
          -0.37001487640906094,
          -0.36150219288541624,
          -0.3389650986807599,
          -0.3269658938674596,
          -0.3389650986807599,
          -0.34429968396338617,
          -0.37001487640906094,
          -0.4048585658411663,
          -0.39750054272086366,
          -0.46915338692098296,
          -0.4965349600538672,
          -0.46680273255983856,
          -0.48706931181942265,
          -0.5346319734179449,
          -0.4897798041558345,
          -0.5070578060373034,
          -0.5068770125027898,
          -0.5787283686703583,
          -0.6278839539263101,
          -0.6011471530372597,
          -0.6342082229449336,
          -0.6190342965863154,
          -0.6342131988339799,
          -0.6190342965863154,
          -0.545090166980794,
          -0.5610551643123085,
          -0.545090166980794,
          -0.5623651583875332,
          -0.603432029108479,
          -0.5610551643123085,
          -0.5682835227412808,
          -0.5016814539816239,
          -0.46680273255983856,
          -0.519981004814848,
          -0.4871328721922629,
          -0.5240959353132372,
          -0.6165709524207773,
          -0.6367286120563008,
          -0.5905626024949735,
          -0.6884427526523147,
          -0.7437041091184136,
          -0.7581030448313442,
          -0.8410417062954639,
          -0.8043743416959146,
          -0.8762386103463093,
          -0.8747143405509236,
          -0.8998175537082801,
          -0.9012152737789604,
          -0.9353900953956463,
          -0.9488077637250858,
          -0.9210172846382142,
          -0.9351109468970602,
          -0.8908032617059096,
          -0.8998175537082801,
          -0.9488077637250858,
          -0.9012152737789604,
          -0.8567588295849851,
          -0.9646634440358122
         ],
         "y": [
          -0.054463184358416475,
          -0.06483014662507966,
          -0.05066644244903874,
          -0.05681338299270854,
          -0.06923849114597978,
          -0.06873463303492079,
          -0.06899896734835803,
          -0.06485532195207086,
          -0.06904184353826366,
          -0.055744784746922134,
          -0.0658606851975008,
          -0.062456453799590854,
          -0.062456453799590854,
          -0.06776422339393856,
          -0.050376056909482006,
          -0.057890170064970985,
          -0.057259959554367905,
          -0.05700114810166601,
          -0.048762775399394054,
          -0.04868168819309825,
          -0.05282893004649986,
          -0.05532271274763212,
          -0.05901910082116848,
          -0.05943664436804053,
          -0.06507469282828121,
          -0.06019955301411383,
          -0.062011005932212204,
          -0.07365424800293668,
          -0.07087058855757233,
          -0.06683871367321574,
          -0.06789992430547466,
          -0.07446332420329707,
          -0.06262069098173094,
          -0.06342917450428623,
          -0.05760745397451379,
          -0.06060444515379989,
          -0.05243533911119503,
          -0.04293662309813187,
          -0.055147777246308684,
          -0.04838994238405449,
          -0.0474931754548169,
          -0.047351834921906866,
          -0.038724207295776567,
          -0.04448417092263466,
          -0.04448417092263466,
          -0.03809902620436477,
          -0.024135730992029963,
          -0.036232639521838785,
          -0.045178007102673175,
          -0.03964680369385134,
          -0.021225497851949156,
          -0.020464522943351802,
          -0.028347480663514234,
          -0.0006413934618437569,
          -0.007716418358409473,
          -0.00788049594653999,
          -0.00788049594653999,
          -0.0006413934618437569,
          -0.02612355798448168,
          -0.02267781676132356,
          -0.040783875555009876,
          -0.02267781676132356,
          -0.02267781676132356,
          -0.010577610305706251,
          -0.02344124687745866,
          -0.02344124687745866,
          -0.006311274377197825,
          -0.004070326490235194,
          -0.004318735303268487,
          -0.004786464719347134,
          0.0028840294979502446,
          0.004373314726430053,
          -0.00046684966867224266,
          -0.007768366540247988,
          -0.0007436654621219895,
          -0.0014560792907451488,
          -0.0006413934618437569,
          -0.012903047575851406,
          -0.002244111096638069,
          -0.0026843096788677252,
          0.003464906717279065,
          0.006517644694167157,
          0.01365559114474806,
          0.007448103918888135,
          0.016972430758371897,
          0.012343349439249864,
          0.016813461641727888,
          0.016972430758371897,
          0.005087527885829647,
          0.005418718138134243,
          0.0032078160269471663,
          0.01031846864165498,
          -0.0030298653984826736,
          0.013187701746639647,
          0.018706410280392216,
          0.02244277458487066,
          0.030922329142514318,
          0.03224194816766444,
          0.04436321418265894,
          0.04227888443201755,
          0.05624516643222927,
          0.04528990088735033,
          0.06059293931863715,
          0.04528990088735033,
          0.03760437286783049,
          0.03612395355585243,
          0.023735998880321012,
          0.02486958346175711,
          0.010744786870528895,
          0.020824083428225098,
          0.011404609355543218,
          0.008282248749054805,
          0.009667391179875704,
          0.020085078677971307,
          0.02529741922584637,
          0.02733502511949822,
          0.033141466688658146,
          0.043533291319166306,
          0.043533291319166306,
          0.04959964913502106,
          0.057769419061220954,
          0.06799820637395367,
          0.06776206820720955,
          0.06727149549200206,
          0.07298828946768891,
          0.06980123184751398,
          0.07585141286243076,
          0.07465308976140957,
          0.07585141286243076,
          0.08284943488590962,
          0.07173710536326545,
          0.06727149549200206,
          0.058958953593269095,
          0.06960885917204174,
          0.0638620627424023,
          0.06020998880154726,
          0.06122988771647474,
          0.05044467421481999,
          0.038449870606920754,
          0.04024970843685962,
          0.03267515381644661,
          0.03267515381644661,
          0.038776039261365,
          0.029251266821795827,
          0.036879241743283275,
          0.035070716463657906,
          0.026708899732642826,
          0.0349350318693536,
          0.026708899732642826,
          0.03267515381644661,
          0.036879241743283275,
          0.038776039261365,
          0.038836126778268754,
          0.03749769601754648,
          0.01943353308115911,
          0.01096007680607859,
          0.011259736696783497,
          0.010770506449182104,
          0.016334203591395858,
          0.020813293260325803,
          0.0250992619803997,
          0.03791193172378192,
          0.04452556034127752,
          0.04238930946108436,
          0.04151800750449318,
          0.033991639067929506,
          0.03666618868922528,
          0.033991639067929506,
          0.021934950392137536,
          0.008411999496732976,
          0.021934950392137536,
          0.027031108389852742,
          0.02439339538084171,
          0.008411999496732976,
          0.006036690849233026,
          0.007894361164658333,
          0.01096007680607859,
          0.01904535354861011,
          0.021691797502614445,
          0.018747449212076068,
          0.00202556296351256,
          0.007579568870344653,
          0.016716562239103946,
          0.008523790256468664,
          0.0054047722805941195,
          0.0018754751516800252,
          -0.008103718790168263,
          -0.003563294240185868,
          -0.011978514716331646,
          -0.015016484826153908,
          -0.015297078323902959,
          -0.010964288576268678,
          -0.021113312810138295,
          -0.013499281583423573,
          -0.019332919953769748,
          -0.012472114158639715,
          -0.013386889426903923,
          -0.015297078323902959,
          -0.013499281583423573,
          -0.010964288576268678,
          -0.00754250117040458,
          -0.011097152497706148
         ],
         "z": [
          0.46445887221543314,
          0.5059134444806501,
          0.4364261042924004,
          0.44851949112535744,
          0.5250273014526075,
          0.5342701872472311,
          0.5377362145528545,
          0.4921494841255483,
          0.5492836973585158,
          0.4796372290410619,
          0.5186474715021873,
          0.5171725791659927,
          0.5171725791659927,
          0.5483433896841584,
          0.4592757576245475,
          0.498919051999435,
          0.5122400562199465,
          0.5246442190034069,
          0.4624094771276037,
          0.437834756238163,
          0.4588455455046268,
          0.4769405484855484,
          0.4898162792960933,
          0.5084479241382303,
          0.5623965269878239,
          0.5669069800945437,
          0.5749003916635127,
          0.6107659259417365,
          0.5888907934291951,
          0.5734500059244922,
          0.5541553894838113,
          0.592723941788068,
          0.5669326682850402,
          0.5977853217635085,
          0.5755201196945917,
          0.5996900708002152,
          0.5488427253330699,
          0.5269440090876133,
          0.5710037900600913,
          0.5219374845055426,
          0.4960254001300446,
          0.5153624849159149,
          0.469937815023166,
          0.4789537613028078,
          0.4789537613028078,
          0.421018293984575,
          0.3529703956220114,
          0.41424186621797454,
          0.4442831251784105,
          0.38314246999966844,
          0.2586364987596253,
          0.23682699203655197,
          0.30253939503593075,
          0.12980426154692384,
          0.16627229273282762,
          0.17326757449194866,
          0.17326757449194866,
          0.12980426154692384,
          0.2793528820198836,
          0.24956971584866228,
          0.36200170819774513,
          0.24956971584866228,
          0.24956971584866228,
          0.14790792933703104,
          0.23018846245130117,
          0.23018846245130117,
          0.11173521185808438,
          0.10476770439631831,
          0.11955871107504779,
          0.09243586579330391,
          0.03804571314087869,
          0.05180419158194051,
          0.1108118729169527,
          0.1393935426894192,
          0.1032401640068663,
          0.12386605014920984,
          0.12980426154692384,
          0.21492720223804035,
          0.18283228062522236,
          0.18524913291893522,
          0.11135008187339644,
          0.09030082656128442,
          0.028643421813063126,
          0.05889680816069099,
          0.0017839384759268512,
          0.03585281762359676,
          0.017285566009585317,
          0.0017839384759268512,
          0.08789412860455312,
          0.06834423897222403,
          0.07186337492181408,
          0.013862997482873108,
          0.11263893764632824,
          0.020423826690712694,
          -0.03793138083818176,
          -0.08263369472222229,
          -0.12482680958909584,
          -0.15247223081278063,
          -0.2105131144404733,
          -0.18755851578890045,
          -0.2906377251801265,
          -0.24415105019242664,
          -0.3365524892618797,
          -0.24415105019242664,
          -0.2078279610926944,
          -0.18544773707104764,
          -0.10829650983627183,
          -0.09393961534186973,
          -0.014261264482546956,
          -0.07648428816382999,
          -0.028974874437282416,
          -0.005421541943540825,
          -0.041814868782794744,
          -0.12273642527958015,
          -0.17505137599285622,
          -0.19893439351332343,
          -0.25004473220644075,
          -0.3065633384391796,
          -0.3065633384391796,
          -0.34514537364237896,
          -0.38786217892971786,
          -0.45422328161359893,
          -0.4707874297469951,
          -0.4500218439741547,
          -0.4672941670837313,
          -0.45585600071775584,
          -0.4988202737704904,
          -0.48776060651362074,
          -0.4988202737704904,
          -0.5263748710165972,
          -0.47702226713271423,
          -0.4500218439741547,
          -0.4149218868096477,
          -0.47299352336341655,
          -0.4299629399009927,
          -0.41251287409116905,
          -0.4293488584495787,
          -0.3657121167672251,
          -0.3119160227943988,
          -0.34319234510871643,
          -0.312571484518582,
          -0.312571484518582,
          -0.3696600066826358,
          -0.30543045330622015,
          -0.346440919871791,
          -0.33274164940677786,
          -0.2751476119380565,
          -0.3201364822203819,
          -0.2751476119380565,
          -0.312571484518582,
          -0.346440919871791,
          -0.3696600066826358,
          -0.3675055064662396,
          -0.38399107957008094,
          -0.285550282213296,
          -0.22483264610084316,
          -0.2335426163947126,
          -0.24686780109369624,
          -0.2647487747565213,
          -0.29737757032329337,
          -0.32289110496088835,
          -0.4238870904569522,
          -0.4801405840597972,
          -0.45826145057509254,
          -0.46435386688170394,
          -0.4142599385419163,
          -0.4354037362649866,
          -0.4142599385419163,
          -0.3170602874458083,
          -0.24181865279387385,
          -0.3170602874458083,
          -0.35337023217789804,
          -0.351656396543593,
          -0.24181865279387385,
          -0.2301134527472557,
          -0.21845133105114994,
          -0.22483264610084316,
          -0.2912416819326111,
          -0.2958146402334999,
          -0.2908694347743061,
          -0.2226702654869146,
          -0.26269683054071014,
          -0.3014516910219511,
          -0.28599361846614124,
          -0.2862557110135851,
          -0.2701134523842441,
          -0.23889231399019828,
          -0.25346263711425476,
          -0.22779171750541413,
          -0.20914290840899422,
          -0.2160422851541877,
          -0.24237433544060494,
          -0.19348500881839353,
          -0.24350220818967408,
          -0.19920010808503957,
          -0.24495353042923249,
          -0.22436205041025883,
          -0.2160422851541877,
          -0.24350220818967408,
          -0.24237433544060494,
          -0.24760923595088036,
          -0.2632515613068645
         ]
        }
       ],
       "layout": {
        "height": 1000,
        "scene": {
         "domain": {
          "x": [
           0,
           0.45
          ],
          "y": [
           0,
           1
          ]
         }
        },
        "scene2": {
         "domain": {
          "x": [
           0.55,
           1
          ],
          "y": [
           0,
           1
          ]
         }
        },
        "template": {
         "data": {
          "bar": [
           {
            "error_x": {
             "color": "#2a3f5f"
            },
            "error_y": {
             "color": "#2a3f5f"
            },
            "marker": {
             "line": {
              "color": "#E5ECF6",
              "width": 0.5
             }
            },
            "type": "bar"
           }
          ],
          "barpolar": [
           {
            "marker": {
             "line": {
              "color": "#E5ECF6",
              "width": 0.5
             }
            },
            "type": "barpolar"
           }
          ],
          "carpet": [
           {
            "aaxis": {
             "endlinecolor": "#2a3f5f",
             "gridcolor": "white",
             "linecolor": "white",
             "minorgridcolor": "white",
             "startlinecolor": "#2a3f5f"
            },
            "baxis": {
             "endlinecolor": "#2a3f5f",
             "gridcolor": "white",
             "linecolor": "white",
             "minorgridcolor": "white",
             "startlinecolor": "#2a3f5f"
            },
            "type": "carpet"
           }
          ],
          "choropleth": [
           {
            "colorbar": {
             "outlinewidth": 0,
             "ticks": ""
            },
            "type": "choropleth"
           }
          ],
          "contour": [
           {
            "colorbar": {
             "outlinewidth": 0,
             "ticks": ""
            },
            "colorscale": [
             [
              0,
              "#0d0887"
             ],
             [
              0.1111111111111111,
              "#46039f"
             ],
             [
              0.2222222222222222,
              "#7201a8"
             ],
             [
              0.3333333333333333,
              "#9c179e"
             ],
             [
              0.4444444444444444,
              "#bd3786"
             ],
             [
              0.5555555555555556,
              "#d8576b"
             ],
             [
              0.6666666666666666,
              "#ed7953"
             ],
             [
              0.7777777777777778,
              "#fb9f3a"
             ],
             [
              0.8888888888888888,
              "#fdca26"
             ],
             [
              1,
              "#f0f921"
             ]
            ],
            "type": "contour"
           }
          ],
          "contourcarpet": [
           {
            "colorbar": {
             "outlinewidth": 0,
             "ticks": ""
            },
            "type": "contourcarpet"
           }
          ],
          "heatmap": [
           {
            "colorbar": {
             "outlinewidth": 0,
             "ticks": ""
            },
            "colorscale": [
             [
              0,
              "#0d0887"
             ],
             [
              0.1111111111111111,
              "#46039f"
             ],
             [
              0.2222222222222222,
              "#7201a8"
             ],
             [
              0.3333333333333333,
              "#9c179e"
             ],
             [
              0.4444444444444444,
              "#bd3786"
             ],
             [
              0.5555555555555556,
              "#d8576b"
             ],
             [
              0.6666666666666666,
              "#ed7953"
             ],
             [
              0.7777777777777778,
              "#fb9f3a"
             ],
             [
              0.8888888888888888,
              "#fdca26"
             ],
             [
              1,
              "#f0f921"
             ]
            ],
            "type": "heatmap"
           }
          ],
          "heatmapgl": [
           {
            "colorbar": {
             "outlinewidth": 0,
             "ticks": ""
            },
            "colorscale": [
             [
              0,
              "#0d0887"
             ],
             [
              0.1111111111111111,
              "#46039f"
             ],
             [
              0.2222222222222222,
              "#7201a8"
             ],
             [
              0.3333333333333333,
              "#9c179e"
             ],
             [
              0.4444444444444444,
              "#bd3786"
             ],
             [
              0.5555555555555556,
              "#d8576b"
             ],
             [
              0.6666666666666666,
              "#ed7953"
             ],
             [
              0.7777777777777778,
              "#fb9f3a"
             ],
             [
              0.8888888888888888,
              "#fdca26"
             ],
             [
              1,
              "#f0f921"
             ]
            ],
            "type": "heatmapgl"
           }
          ],
          "histogram": [
           {
            "marker": {
             "colorbar": {
              "outlinewidth": 0,
              "ticks": ""
             }
            },
            "type": "histogram"
           }
          ],
          "histogram2d": [
           {
            "colorbar": {
             "outlinewidth": 0,
             "ticks": ""
            },
            "colorscale": [
             [
              0,
              "#0d0887"
             ],
             [
              0.1111111111111111,
              "#46039f"
             ],
             [
              0.2222222222222222,
              "#7201a8"
             ],
             [
              0.3333333333333333,
              "#9c179e"
             ],
             [
              0.4444444444444444,
              "#bd3786"
             ],
             [
              0.5555555555555556,
              "#d8576b"
             ],
             [
              0.6666666666666666,
              "#ed7953"
             ],
             [
              0.7777777777777778,
              "#fb9f3a"
             ],
             [
              0.8888888888888888,
              "#fdca26"
             ],
             [
              1,
              "#f0f921"
             ]
            ],
            "type": "histogram2d"
           }
          ],
          "histogram2dcontour": [
           {
            "colorbar": {
             "outlinewidth": 0,
             "ticks": ""
            },
            "colorscale": [
             [
              0,
              "#0d0887"
             ],
             [
              0.1111111111111111,
              "#46039f"
             ],
             [
              0.2222222222222222,
              "#7201a8"
             ],
             [
              0.3333333333333333,
              "#9c179e"
             ],
             [
              0.4444444444444444,
              "#bd3786"
             ],
             [
              0.5555555555555556,
              "#d8576b"
             ],
             [
              0.6666666666666666,
              "#ed7953"
             ],
             [
              0.7777777777777778,
              "#fb9f3a"
             ],
             [
              0.8888888888888888,
              "#fdca26"
             ],
             [
              1,
              "#f0f921"
             ]
            ],
            "type": "histogram2dcontour"
           }
          ],
          "mesh3d": [
           {
            "colorbar": {
             "outlinewidth": 0,
             "ticks": ""
            },
            "type": "mesh3d"
           }
          ],
          "parcoords": [
           {
            "line": {
             "colorbar": {
              "outlinewidth": 0,
              "ticks": ""
             }
            },
            "type": "parcoords"
           }
          ],
          "pie": [
           {
            "automargin": true,
            "type": "pie"
           }
          ],
          "scatter": [
           {
            "marker": {
             "colorbar": {
              "outlinewidth": 0,
              "ticks": ""
             }
            },
            "type": "scatter"
           }
          ],
          "scatter3d": [
           {
            "line": {
             "colorbar": {
              "outlinewidth": 0,
              "ticks": ""
             }
            },
            "marker": {
             "colorbar": {
              "outlinewidth": 0,
              "ticks": ""
             }
            },
            "type": "scatter3d"
           }
          ],
          "scattercarpet": [
           {
            "marker": {
             "colorbar": {
              "outlinewidth": 0,
              "ticks": ""
             }
            },
            "type": "scattercarpet"
           }
          ],
          "scattergeo": [
           {
            "marker": {
             "colorbar": {
              "outlinewidth": 0,
              "ticks": ""
             }
            },
            "type": "scattergeo"
           }
          ],
          "scattergl": [
           {
            "marker": {
             "colorbar": {
              "outlinewidth": 0,
              "ticks": ""
             }
            },
            "type": "scattergl"
           }
          ],
          "scattermapbox": [
           {
            "marker": {
             "colorbar": {
              "outlinewidth": 0,
              "ticks": ""
             }
            },
            "type": "scattermapbox"
           }
          ],
          "scatterpolar": [
           {
            "marker": {
             "colorbar": {
              "outlinewidth": 0,
              "ticks": ""
             }
            },
            "type": "scatterpolar"
           }
          ],
          "scatterpolargl": [
           {
            "marker": {
             "colorbar": {
              "outlinewidth": 0,
              "ticks": ""
             }
            },
            "type": "scatterpolargl"
           }
          ],
          "scatterternary": [
           {
            "marker": {
             "colorbar": {
              "outlinewidth": 0,
              "ticks": ""
             }
            },
            "type": "scatterternary"
           }
          ],
          "surface": [
           {
            "colorbar": {
             "outlinewidth": 0,
             "ticks": ""
            },
            "colorscale": [
             [
              0,
              "#0d0887"
             ],
             [
              0.1111111111111111,
              "#46039f"
             ],
             [
              0.2222222222222222,
              "#7201a8"
             ],
             [
              0.3333333333333333,
              "#9c179e"
             ],
             [
              0.4444444444444444,
              "#bd3786"
             ],
             [
              0.5555555555555556,
              "#d8576b"
             ],
             [
              0.6666666666666666,
              "#ed7953"
             ],
             [
              0.7777777777777778,
              "#fb9f3a"
             ],
             [
              0.8888888888888888,
              "#fdca26"
             ],
             [
              1,
              "#f0f921"
             ]
            ],
            "type": "surface"
           }
          ],
          "table": [
           {
            "cells": {
             "fill": {
              "color": "#EBF0F8"
             },
             "line": {
              "color": "white"
             }
            },
            "header": {
             "fill": {
              "color": "#C8D4E3"
             },
             "line": {
              "color": "white"
             }
            },
            "type": "table"
           }
          ]
         },
         "layout": {
          "annotationdefaults": {
           "arrowcolor": "#2a3f5f",
           "arrowhead": 0,
           "arrowwidth": 1
          },
          "autotypenumbers": "strict",
          "coloraxis": {
           "colorbar": {
            "outlinewidth": 0,
            "ticks": ""
           }
          },
          "colorscale": {
           "diverging": [
            [
             0,
             "#8e0152"
            ],
            [
             0.1,
             "#c51b7d"
            ],
            [
             0.2,
             "#de77ae"
            ],
            [
             0.3,
             "#f1b6da"
            ],
            [
             0.4,
             "#fde0ef"
            ],
            [
             0.5,
             "#f7f7f7"
            ],
            [
             0.6,
             "#e6f5d0"
            ],
            [
             0.7,
             "#b8e186"
            ],
            [
             0.8,
             "#7fbc41"
            ],
            [
             0.9,
             "#4d9221"
            ],
            [
             1,
             "#276419"
            ]
           ],
           "sequential": [
            [
             0,
             "#0d0887"
            ],
            [
             0.1111111111111111,
             "#46039f"
            ],
            [
             0.2222222222222222,
             "#7201a8"
            ],
            [
             0.3333333333333333,
             "#9c179e"
            ],
            [
             0.4444444444444444,
             "#bd3786"
            ],
            [
             0.5555555555555556,
             "#d8576b"
            ],
            [
             0.6666666666666666,
             "#ed7953"
            ],
            [
             0.7777777777777778,
             "#fb9f3a"
            ],
            [
             0.8888888888888888,
             "#fdca26"
            ],
            [
             1,
             "#f0f921"
            ]
           ],
           "sequentialminus": [
            [
             0,
             "#0d0887"
            ],
            [
             0.1111111111111111,
             "#46039f"
            ],
            [
             0.2222222222222222,
             "#7201a8"
            ],
            [
             0.3333333333333333,
             "#9c179e"
            ],
            [
             0.4444444444444444,
             "#bd3786"
            ],
            [
             0.5555555555555556,
             "#d8576b"
            ],
            [
             0.6666666666666666,
             "#ed7953"
            ],
            [
             0.7777777777777778,
             "#fb9f3a"
            ],
            [
             0.8888888888888888,
             "#fdca26"
            ],
            [
             1,
             "#f0f921"
            ]
           ]
          },
          "colorway": [
           "#636efa",
           "#EF553B",
           "#00cc96",
           "#ab63fa",
           "#FFA15A",
           "#19d3f3",
           "#FF6692",
           "#B6E880",
           "#FF97FF",
           "#FECB52"
          ],
          "font": {
           "color": "#2a3f5f"
          },
          "geo": {
           "bgcolor": "white",
           "lakecolor": "white",
           "landcolor": "#E5ECF6",
           "showlakes": true,
           "showland": true,
           "subunitcolor": "white"
          },
          "hoverlabel": {
           "align": "left"
          },
          "hovermode": "closest",
          "mapbox": {
           "style": "light"
          },
          "paper_bgcolor": "white",
          "plot_bgcolor": "#E5ECF6",
          "polar": {
           "angularaxis": {
            "gridcolor": "white",
            "linecolor": "white",
            "ticks": ""
           },
           "bgcolor": "#E5ECF6",
           "radialaxis": {
            "gridcolor": "white",
            "linecolor": "white",
            "ticks": ""
           }
          },
          "scene": {
           "xaxis": {
            "backgroundcolor": "#E5ECF6",
            "gridcolor": "white",
            "gridwidth": 2,
            "linecolor": "white",
            "showbackground": true,
            "ticks": "",
            "zerolinecolor": "white"
           },
           "yaxis": {
            "backgroundcolor": "#E5ECF6",
            "gridcolor": "white",
            "gridwidth": 2,
            "linecolor": "white",
            "showbackground": true,
            "ticks": "",
            "zerolinecolor": "white"
           },
           "zaxis": {
            "backgroundcolor": "#E5ECF6",
            "gridcolor": "white",
            "gridwidth": 2,
            "linecolor": "white",
            "showbackground": true,
            "ticks": "",
            "zerolinecolor": "white"
           }
          },
          "shapedefaults": {
           "line": {
            "color": "#2a3f5f"
           }
          },
          "ternary": {
           "aaxis": {
            "gridcolor": "white",
            "linecolor": "white",
            "ticks": ""
           },
           "baxis": {
            "gridcolor": "white",
            "linecolor": "white",
            "ticks": ""
           },
           "bgcolor": "#E5ECF6",
           "caxis": {
            "gridcolor": "white",
            "linecolor": "white",
            "ticks": ""
           }
          },
          "title": {
           "x": 0.05
          },
          "xaxis": {
           "automargin": true,
           "gridcolor": "white",
           "linecolor": "white",
           "ticks": "",
           "title": {
            "standoff": 15
           },
           "zerolinecolor": "white",
           "zerolinewidth": 2
          },
          "yaxis": {
           "automargin": true,
           "gridcolor": "white",
           "linecolor": "white",
           "ticks": "",
           "title": {
            "standoff": 15
           },
           "zerolinecolor": "white",
           "zerolinewidth": 2
          }
         }
        },
        "width": 1000
       }
      }
     },
     "metadata": {},
     "output_type": "display_data"
    },
    {
     "name": "stdout",
     "output_type": "stream",
     "text": [
      "Kabsch distance is 0.024733676268339867\n"
     ]
    },
    {
     "data": {
      "text/plain": [
       "<Figure size 5000x5000 with 0 Axes>"
      ]
     },
     "metadata": {},
     "output_type": "display_data"
    }
   ],
   "source": [
    "fig = plt.figure(figsize=(50, 50))\n",
    "\n",
    "test_true_structure = test_true_structures[GRAPH_TESTED]\n",
    "test_pred_structure = test_pred_structures[GRAPH_TESTED]\n",
    "\n",
    "test_pred_structure_superposed, test_true_structure_superposed = \\\n",
    "        kabsch_superimposition_numpy(test_pred_structure, test_true_structure)\n",
    "\n",
    "x_pred = test_pred_structure_superposed[:, 0]  \n",
    "y_pred = test_pred_structure_superposed[:, 1]\n",
    "z_pred = test_pred_structure_superposed[:, 2]\n",
    "\n",
    "x_true = test_true_structure_superposed[:, 0]  \n",
    "y_true = test_true_structure_superposed[:, 1]\n",
    "z_true = test_true_structure_superposed[:, 2]\n",
    "\n",
    "# Initialize figure with 4 3D subplots\n",
    "fig = make_subplots(\n",
    "    rows=1, cols=2,\n",
    "    specs=[[{'type': 'scatter3d'}, {'type': 'scatter3d'}]])\n",
    "\n",
    "# adding surfaces to subplots.\n",
    "fig.add_trace(\n",
    "    go.Scatter3d(\n",
    "    x=x_true, y=y_true, z=z_true,\n",
    "    marker=dict(\n",
    "        size=4,\n",
    "        color=np.asarray(range(len(x_true))),\n",
    "        colorscale='Viridis',\n",
    "    ),\n",
    "    line=dict(\n",
    "        color='darkblue',\n",
    "        width=2\n",
    "    )\n",
    "), row=1, col=1)\n",
    "\n",
    "fig.add_trace(\n",
    "    go.Scatter3d(\n",
    "    x=x_pred, y=y_pred, z=z_pred,\n",
    "    marker=dict(\n",
    "        size=4,\n",
    "        color=np.asarray(range(len(x_pred))),\n",
    "        colorscale='Viridis',\n",
    "    ),\n",
    "    line=dict(\n",
    "        color='darkblue',\n",
    "        width=2\n",
    "    )\n",
    "),row=1, col=2)\n",
    "\n",
    "fig.update_layout(\n",
    "    height=1000,\n",
    "    width=1000\n",
    ")\n",
    "\n",
    "fig.show()\n",
    "\n",
    "# Shape comparison\n",
    "print('Kabsch distance is ' + str(kabsch_distance_numpy(test_pred_structure, test_true_structure)))"
   ]
  },
  {
   "cell_type": "code",
   "execution_count": 49,
   "metadata": {},
   "outputs": [
    {
     "data": {
      "application/vnd.plotly.v1+json": {
       "config": {
        "plotlyServerURL": "https://plot.ly"
       },
       "data": [
        {
         "line": {
          "color": "darkblue",
          "width": 2
         },
         "marker": {
          "color": [
           0,
           1,
           2,
           3,
           4,
           5,
           6,
           7,
           8,
           9,
           10,
           11,
           12,
           13,
           14,
           15,
           16,
           17,
           18,
           19,
           20,
           21,
           22,
           23,
           24,
           25,
           26,
           27,
           28,
           29,
           30,
           31,
           32,
           33,
           34,
           35,
           36,
           37,
           38,
           39,
           40,
           41,
           42,
           43,
           44,
           45,
           46,
           47,
           48,
           49,
           50,
           51,
           52,
           53,
           54,
           55,
           56,
           57,
           58,
           59,
           60,
           61,
           62,
           63,
           64,
           65,
           66,
           67,
           68,
           69,
           70,
           71,
           72,
           73,
           74,
           75,
           76,
           77,
           78,
           79,
           80,
           81,
           82,
           83,
           84,
           85,
           86,
           87,
           88,
           89,
           90,
           91,
           92,
           93,
           94,
           95,
           96,
           97,
           98,
           99,
           100,
           101,
           102,
           103,
           104,
           105,
           106,
           107,
           108,
           109,
           110,
           111,
           112,
           113,
           114,
           115,
           116,
           117,
           118,
           119,
           120,
           121,
           122,
           123,
           124,
           125,
           126,
           127,
           128,
           129,
           130,
           131,
           132,
           133,
           134,
           135,
           136,
           137,
           138,
           139,
           140,
           141,
           142,
           143,
           144,
           145,
           146,
           147,
           148,
           149,
           150,
           151,
           152,
           153,
           154,
           155,
           156,
           157,
           158,
           159,
           160,
           161,
           162,
           163,
           164,
           165,
           166,
           167,
           168,
           169,
           170,
           171,
           172,
           173,
           174,
           175,
           176,
           177,
           178,
           179,
           180,
           181,
           182,
           183,
           184,
           185,
           186,
           187,
           188,
           189,
           190,
           191,
           192,
           193,
           194,
           195,
           196,
           197,
           198,
           199,
           200,
           201
          ],
          "colorscale": [
           [
            0,
            "#440154"
           ],
           [
            0.1111111111111111,
            "#482878"
           ],
           [
            0.2222222222222222,
            "#3e4989"
           ],
           [
            0.3333333333333333,
            "#31688e"
           ],
           [
            0.4444444444444444,
            "#26828e"
           ],
           [
            0.5555555555555556,
            "#1f9e89"
           ],
           [
            0.6666666666666666,
            "#35b779"
           ],
           [
            0.7777777777777778,
            "#6ece58"
           ],
           [
            0.8888888888888888,
            "#b5de2b"
           ],
           [
            1,
            "#fde725"
           ]
          ],
          "size": 4
         },
         "scene": "scene",
         "type": "scatter3d",
         "x": [
          -0.11617447435855865,
          -0.03791821748018265,
          0.04670683667063713,
          0.13978135585784912,
          0.21786342561244965,
          0.2779562771320343,
          0.33708444237709045,
          0.38427045941352844,
          0.3807530403137207,
          0.3150673806667328,
          0.23885391652584076,
          0.15156598389148712,
          0.0769868940114975,
          0.020498061552643776,
          -0.030429817736148834,
          -0.029525181278586388,
          0.034680090844631195,
          0.10709412395954132,
          0.14884334802627563,
          0.2134513109922409,
          0.31550997495651245,
          0.36893129348754883,
          0.37515947222709656,
          0.41817790269851685,
          0.4840720295906067,
          0.5472744107246399,
          0.6268070936203003,
          0.6903325319290161,
          0.7529017925262451,
          0.801105797290802,
          0.8115475177764893,
          0.7648389935493469,
          0.6608444452285767,
          0.5548867583274841,
          0.4880940318107605,
          0.4807282090187073,
          0.4930410087108612,
          0.46825167536735535,
          0.38314536213874817,
          0.29053834080696106,
          0.19688716530799866,
          0.08741677552461624,
          -0.0021127176005393267,
          -0.06199466437101364,
          -0.08218128234148026,
          -0.11433529108762741,
          -0.1959468126296997,
          -0.29606926441192627,
          -0.40554285049438477,
          -0.5085029006004333,
          -0.5790907740592957,
          -0.5892248153686523,
          -0.527962327003479,
          -0.4748486578464508,
          -0.47052255272865295,
          -0.4990592300891876,
          -0.5149421095848083,
          -0.5274538397789001,
          -0.5681564807891846,
          -0.5679470300674438,
          -0.5570084452629089,
          -0.548595666885376,
          -0.5507451295852661,
          -0.5905041098594666,
          -0.6389787197113037,
          -0.6689842343330383,
          -0.67486172914505,
          -0.6482881307601929,
          -0.6002840399742126,
          -0.558573842048645,
          -0.495830774307251,
          -0.39958980679512024,
          -0.30579712986946106,
          -0.21815238893032074,
          -0.15734504163265228,
          -0.16126421093940735,
          -0.18848136067390442,
          -0.2504957914352417,
          -0.34184426069259644,
          -0.40205833315849304,
          -0.4127863943576813,
          -0.38963764905929565,
          -0.36868301033973694,
          -0.33054083585739136,
          -0.30159515142440796,
          -0.30301791429519653,
          -0.29788878560066223,
          -0.23774246871471405,
          -0.13075365126132965,
          -0.03620850667357445,
          0.05529852584004402,
          0.1623871624469757,
          0.22830073535442352,
          0.2598969042301178,
          0.31756365299224854,
          0.40321052074432373,
          0.47904109954833984,
          0.4961734414100647,
          0.48096582293510437,
          0.4402604401111603,
          0.35332679748535156,
          0.2716618776321411,
          0.19779075682163239,
          0.16831326484680176,
          0.1667747050523758,
          0.16374243795871735,
          0.15143708884716034,
          0.09772277623414993,
          0.02620856463909149,
          -0.0747554749250412,
          -0.16192710399627686,
          -0.18647699058055878,
          -0.1418759822845459,
          -0.05032235011458397,
          0.04975593090057373,
          0.15390858054161072,
          0.2393060177564621,
          0.30470964312553406,
          0.3932957053184509,
          0.47255197167396545,
          0.5545174479484558,
          0.6110402941703796,
          0.5719364881515503,
          0.5262590050697327,
          0.4842446744441986,
          0.4341636002063751,
          0.3661133348941803,
          0.26245781779289246,
          0.17612534761428833,
          0.08165481686592102,
          -0.0071396189741790295,
          -0.040169455111026764,
          -0.0004928436828777194,
          0.0689781978726387,
          0.11843700706958771,
          0.15375421941280365,
          0.21911579370498657,
          0.300586074590683,
          0.31245332956314087,
          0.29845061898231506,
          0.27475133538246155,
          0.21659766137599945,
          0.18014323711395264,
          0.2251301109790802,
          0.310329794883728,
          0.32799196243286133,
          0.28518280386924744,
          0.20526565611362457,
          0.10768815129995346,
          0.028870077803730965,
          0.02997404709458351,
          0.06375065445899963,
          0.11131700128316879,
          0.21647845208644867,
          0.31520676612854004,
          0.3869173526763916,
          0.46322470903396606,
          0.5268260836601257,
          0.5192321538925171,
          0.44961512088775635,
          0.3707701563835144,
          0.31225085258483887,
          0.25314927101135254,
          0.16950607299804688,
          0.06347664445638657,
          -0.04473896697163582,
          -0.1474660485982895,
          -0.24160709977149963,
          -0.32191628217697144,
          -0.38584014773368835,
          -0.43990612030029297,
          -0.4618932604789734,
          -0.4392291009426117,
          -0.41247251629829407,
          -0.39393100142478943,
          -0.356804758310318,
          -0.2860685884952545,
          -0.1966567188501358,
          -0.13455422222614288,
          -0.0996810793876648,
          -0.09654261916875839,
          -0.1651683747768402,
          -0.26332658529281616,
          -0.34172531962394714,
          -0.3839617371559143,
          -0.43135473132133484,
          -0.4918937385082245,
          -0.5613536238670349,
          -0.6317773461341858,
          -0.6438614726066589,
          -0.5855109095573425,
          -0.5008158683776855,
          -0.45847588777542114,
          -0.4599389433860779,
          -0.4394255578517914,
          -0.3731670379638672,
          -0.3345471918582916,
          -0.3575647175312042,
          -0.3643205761909485,
          -0.32028189301490784,
          -0.2560182213783264,
          -0.1860814094543457
         ],
         "y": [
          0.08944384008646011,
          0.10456705093383789,
          0.17024515569210052,
          0.1906794309616089,
          0.1639876812696457,
          0.12943466007709503,
          0.0637640431523323,
          -0.021527621895074844,
          -0.11860470473766327,
          -0.20944048464298248,
          -0.2648506462574005,
          -0.27936452627182007,
          -0.2918497622013092,
          -0.28507673740386963,
          -0.27077823877334595,
          -0.31209200620651245,
          -0.38138025999069214,
          -0.3876912295818329,
          -0.3447554111480713,
          -0.33904317021369934,
          -0.35171958804130554,
          -0.3652005195617676,
          -0.32231149077415466,
          -0.24067385494709015,
          -0.16297946870326996,
          -0.07863672822713852,
          -0.042407408356666565,
          -0.07883036136627197,
          -0.14399836957454681,
          -0.22695960104465485,
          -0.3393362760543823,
          -0.4030146598815918,
          -0.4075722396373749,
          -0.38767626881599426,
          -0.3426060378551483,
          -0.304920494556427,
          -0.3397584557533264,
          -0.43014150857925415,
          -0.49113357067108154,
          -0.5468339920043945,
          -0.5995942950248718,
          -0.6133477091789246,
          -0.5824869275093079,
          -0.5003607273101807,
          -0.4002910256385803,
          -0.3079233169555664,
          -0.26188573241233826,
          -0.25327935814857483,
          -0.2662299573421478,
          -0.2974162697792053,
          -0.2956964373588562,
          -0.23207983374595642,
          -0.16765131056308746,
          -0.20861339569091797,
          -0.31893083453178406,
          -0.4208136796951294,
          -0.5054690837860107,
          -0.5816763043403625,
          -0.6429061889648438,
          -0.6283171772956848,
          -0.5356317162513733,
          -0.4276777505874634,
          -0.32994091510772705,
          -0.24732047319412231,
          -0.1769239902496338,
          -0.10948801040649414,
          -0.022452285513281822,
          0.058561962097883224,
          0.07762019336223602,
          0.047900695353746414,
          0.06223253905773163,
          0.07548948377370834,
          0.01412722747772932,
          -0.05512925982475281,
          -0.12811556458473206,
          -0.19802318513393402,
          -0.2813737690448761,
          -0.35651257634162903,
          -0.39373794198036194,
          -0.3781268000602722,
          -0.2979300618171692,
          -0.21146048605442047,
          -0.1640245020389557,
          -0.15537643432617188,
          -0.1477801650762558,
          -0.09617730975151062,
          -0.011854184791445732,
          0.04596942663192749,
          0.045474857091903687,
          -0.011499599553644657,
          -0.07182607054710388,
          -0.09080544859170914,
          -0.13705003261566162,
          -0.2362939566373825,
          -0.32519838213920593,
          -0.3460320234298706,
          -0.2891803979873657,
          -0.19455398619174957,
          -0.10384543240070343,
          -0.048033617436885834,
          -0.04737265780568123,
          -0.09815527498722076,
          -0.1590769737958908,
          -0.23949792981147766,
          -0.34192514419555664,
          -0.4485032558441162,
          -0.5273098945617676,
          -0.5367690920829773,
          -0.5050246119499207,
          -0.4872592091560364,
          -0.4379856586456299,
          -0.34087586402893066,
          -0.25049617886543274,
          -0.22202256321907043,
          -0.26311007142066956,
          -0.2923086881637573,
          -0.29501041769981384,
          -0.31991517543792725,
          -0.3422630727291107,
          -0.3634049892425537,
          -0.40173083543777466,
          -0.36591026186943054,
          -0.27542853355407715,
          -0.20988929271697998,
          -0.13987746834754944,
          -0.06932556629180908,
          -0.029291648417711258,
          -0.00171661248896271,
          0.03076871670782566,
          0.04777258262038231,
          0.09442566335201263,
          0.18980374932289124,
          0.23490019142627716,
          0.24009782075881958,
          0.20724833011627197,
          0.1321128010749817,
          0.08672281354665756,
          0.10720702260732651,
          0.14340580999851227,
          0.12450236082077026,
          0.11353382468223572,
          0.15298992395401,
          0.22412486374378204,
          0.2880399823188782,
          0.34996238350868225,
          0.43252983689308167,
          0.5235256552696228,
          0.5935593843460083,
          0.6418600082397461,
          0.6364655494689941,
          0.5634911060333252,
          0.5230661034584045,
          0.4994216561317444,
          0.479474276304245,
          0.48645931482315063,
          0.47136497497558594,
          0.4434916079044342,
          0.41577982902526855,
          0.4275406301021576,
          0.4919506311416626,
          0.5221216678619385,
          0.5262734293937683,
          0.5622127056121826,
          0.5934078097343445,
          0.5974488854408264,
          0.6110447645187378,
          0.6389402151107788,
          0.68062824010849,
          0.7398400902748108,
          0.8018255233764648,
          0.8200320601463318,
          0.8043843507766724,
          0.8240656852722168,
          0.8155520558357239,
          0.7340626120567322,
          0.6390692591667175,
          0.5568426251411438,
          0.49106502532958984,
          0.45649421215057373,
          0.4639952778816223,
          0.43877360224723816,
          0.40775901079177856,
          0.4316701591014862,
          0.48603880405426025,
          0.5614582896232605,
          0.5862489342689514,
          0.5205937027931213,
          0.43908944725990295,
          0.3610502779483795,
          0.27939823269844055,
          0.2130986601114273,
          0.1721285730600357,
          0.1765373945236206,
          0.20296573638916016,
          0.24594762921333313,
          0.3072813153266907,
          0.3565193712711334,
          0.38340631127357483,
          0.36521443724632263,
          0.29151588678359985,
          0.20925965905189514,
          0.13662992417812347
         ],
         "z": [
          0.0015235014725476503,
          0.0710795670747757,
          0.09527832269668579,
          0.10775916278362274,
          0.17181305587291718,
          0.25904151797294617,
          0.3295414447784424,
          0.38760286569595337,
          0.40765181183815,
          0.3988074064254761,
          0.35320934653282166,
          0.2866070866584778,
          0.21113084256649017,
          0.118867889046669,
          0.02304605208337307,
          -0.07114555686712265,
          -0.1188393384218216,
          -0.08403432369232178,
          0.010931352153420448,
          0.08979623019695282,
          0.13861143589019775,
          0.21721293032169342,
          0.29195544123649597,
          0.3427621126174927,
          0.37634262442588806,
          0.4059906303882599,
          0.39808014035224915,
          0.32434600591659546,
          0.2613222599029541,
          0.22573857009410858,
          0.21586120128631592,
          0.23812969028949738,
          0.28376099467277527,
          0.3111441731452942,
          0.36278802156448364,
          0.4667399227619171,
          0.5568886399269104,
          0.6035128831863403,
          0.6293235421180725,
          0.6511960029602051,
          0.6471812725067139,
          0.6205459833145142,
          0.5739948749542236,
          0.5323333740234375,
          0.496381551027298,
          0.47673922777175903,
          0.5196296572685242,
          0.5649583339691162,
          0.5833212733268738,
          0.5673872232437134,
          0.4916791319847107,
          0.413148432970047,
          0.363716721534729,
          0.33949390053749084,
          0.35640162229537964,
          0.3764967620372772,
          0.3355758488178253,
          0.2634272873401642,
          0.18189090490341187,
          0.0889878049492836,
          0.05014576017856598,
          0.07541888952255249,
          0.12732481956481934,
          0.1928006112575531,
          0.26798728108406067,
          0.26162993907928467,
          0.19765417277812958,
          0.13598664104938507,
          0.04096229374408722,
          -0.05980957671999931,
          -0.10685364156961441,
          -0.1023545116186142,
          -0.1042095422744751,
          -0.09485973417758942,
          -0.04614120349287987,
          0.035280339419841766,
          0.08916141092777252,
          0.09596333652734756,
          0.056425295770168304,
          -0.022591955959796906,
          -0.09327483922243118,
          -0.16275116801261902,
          -0.25753113627433777,
          -0.3622768223285675,
          -0.46794968843460083,
          -0.5594713687896729,
          -0.6350038051605225,
          -0.6825443506240845,
          -0.6896320581436157,
          -0.6998043060302734,
          -0.7226849794387817,
          -0.7305716872215271,
          -0.7516896724700928,
          -0.7612461447715759,
          -0.7238020300865173,
          -0.6834284663200378,
          -0.6310440897941589,
          -0.5984575152397156,
          -0.5542627573013306,
          -0.46954089403152466,
          -0.4312991797924042,
          -0.4718100130558014,
          -0.4946734607219696,
          -0.4560239613056183,
          -0.42063501477241516,
          -0.3966008722782135,
          -0.4287864565849304,
          -0.5200901627540588,
          -0.5995749831199646,
          -0.6324400305747986,
          -0.6293631196022034,
          -0.6529648900032043,
          -0.6742022633552551,
          -0.6509743332862854,
          -0.6201382279396057,
          -0.6053112149238586,
          -0.5551913380622864,
          -0.4689936339855194,
          -0.4081385135650635,
          -0.3392731249332428,
          -0.2930269241333008,
          -0.3135232627391815,
          -0.3260691165924072,
          -0.2672232389450073,
          -0.21297357976436615,
          -0.16044235229492188,
          -0.10843795537948608,
          -0.1295686811208725,
          -0.19298624992370605,
          -0.2363925725221634,
          -0.24025239050388336,
          -0.26780498027801514,
          -0.3362596035003662,
          -0.4231570065021515,
          -0.5031384825706482,
          -0.5789008140563965,
          -0.6449452042579651,
          -0.6335415840148926,
          -0.5463868379592896,
          -0.44185683131217957,
          -0.34325629472732544,
          -0.256570965051651,
          -0.18090961873531342,
          -0.14018131792545319,
          -0.11446288228034973,
          -0.0577113963663578,
          -0.018912438303232193,
          -0.026293694972991943,
          -0.05704766511917114,
          -0.10915915668010712,
          -0.16258665919303894,
          -0.24124476313591003,
          -0.31774985790252686,
          -0.3336116671562195,
          -0.29145777225494385,
          -0.20825226604938507,
          -0.13199588656425476,
          -0.04960951581597328,
          0.04202871769666672,
          0.08896218240261078,
          0.140762597322464,
          0.23718708753585815,
          0.32274213433265686,
          0.3856574296951294,
          0.4170374274253845,
          0.4405893385410309,
          0.479013592004776,
          0.5230984687805176,
          0.5223917961120605,
          0.4549751579761505,
          0.3661012053489685,
          0.2623169422149658,
          0.15920566022396088,
          0.06724066287279129,
          -0.004784636665135622,
          -0.045288439840078354,
          -0.06690087914466858,
          -0.06966770440340042,
          -0.009762750007212162,
          0.09582382440567017,
          0.1859564334154129,
          0.24655179679393768,
          0.2962503135204315,
          0.35284048318862915,
          0.4219105541706085,
          0.5023722648620605,
          0.5387599468231201,
          0.5485315918922424,
          0.5443248748779297,
          0.5708574056625366,
          0.619621753692627,
          0.5830268859863281,
          0.48675402998924255,
          0.37645795941352844,
          0.28021514415740967,
          0.2153976857662201,
          0.1375533789396286,
          0.03129434585571289,
          -0.06791438162326813,
          -0.13172951340675354,
          -0.12197016179561615,
          -0.06899110972881317
         ]
        },
        {
         "line": {
          "color": "darkblue",
          "width": 2
         },
         "marker": {
          "color": [
           0,
           1,
           2,
           3,
           4,
           5,
           6,
           7,
           8,
           9,
           10,
           11,
           12,
           13,
           14,
           15,
           16,
           17,
           18,
           19,
           20,
           21,
           22,
           23,
           24,
           25,
           26,
           27,
           28,
           29,
           30,
           31,
           32,
           33,
           34,
           35,
           36,
           37,
           38,
           39,
           40,
           41,
           42,
           43,
           44,
           45,
           46,
           47,
           48,
           49,
           50,
           51,
           52,
           53,
           54,
           55,
           56,
           57,
           58,
           59,
           60,
           61,
           62,
           63,
           64,
           65,
           66,
           67,
           68,
           69,
           70,
           71,
           72,
           73,
           74,
           75,
           76,
           77,
           78,
           79,
           80,
           81,
           82,
           83,
           84,
           85,
           86,
           87,
           88,
           89,
           90,
           91,
           92,
           93,
           94,
           95,
           96,
           97,
           98,
           99,
           100,
           101,
           102,
           103,
           104,
           105,
           106,
           107,
           108,
           109,
           110,
           111,
           112,
           113,
           114,
           115,
           116,
           117,
           118,
           119,
           120,
           121,
           122,
           123,
           124,
           125,
           126,
           127,
           128,
           129,
           130,
           131,
           132,
           133,
           134,
           135,
           136,
           137,
           138,
           139,
           140,
           141,
           142,
           143,
           144,
           145,
           146,
           147,
           148,
           149,
           150,
           151,
           152,
           153,
           154,
           155,
           156,
           157,
           158,
           159,
           160,
           161,
           162,
           163,
           164,
           165,
           166,
           167,
           168,
           169,
           170,
           171,
           172,
           173,
           174,
           175,
           176,
           177,
           178,
           179,
           180,
           181,
           182,
           183,
           184,
           185,
           186,
           187,
           188,
           189,
           190,
           191,
           192,
           193,
           194,
           195,
           196,
           197,
           198,
           199,
           200,
           201
          ],
          "colorscale": [
           [
            0,
            "#440154"
           ],
           [
            0.1111111111111111,
            "#482878"
           ],
           [
            0.2222222222222222,
            "#3e4989"
           ],
           [
            0.3333333333333333,
            "#31688e"
           ],
           [
            0.4444444444444444,
            "#26828e"
           ],
           [
            0.5555555555555556,
            "#1f9e89"
           ],
           [
            0.6666666666666666,
            "#35b779"
           ],
           [
            0.7777777777777778,
            "#6ece58"
           ],
           [
            0.8888888888888888,
            "#b5de2b"
           ],
           [
            1,
            "#fde725"
           ]
          ],
          "size": 4
         },
         "scene": "scene2",
         "type": "scatter3d",
         "x": [
          -0.0480670621494614,
          -0.055223445827991685,
          -0.06985310845591111,
          -0.07359049794392564,
          -0.08082444365854377,
          -0.08842617754485135,
          -0.06931160581976176,
          -0.03968771800315555,
          -0.011304767730682076,
          0.0057785331489500855,
          0.02623956971362637,
          0.02018069310175527,
          0.009301884023536516,
          0.006839512446394763,
          0.015319958467211493,
          0.025653424526462337,
          0.0568015758134424,
          0.07244913416011149,
          0.04494460887777798,
          0.03765428277056227,
          0.033442119333580975,
          0.05068672015206799,
          0.058351097130936266,
          0.05526883525794398,
          0.03546858837789116,
          0.023883722385368383,
          0.009756934985503549,
          -0.0009000306121899025,
          0.010590684547255182,
          0.04702217150221,
          0.07841818315644573,
          0.09326824070941722,
          0.09467620965457064,
          0.11328323949306468,
          0.09683913896620888,
          0.09350887861967556,
          0.12195867906609419,
          0.15319817656354015,
          0.17617435162093928,
          0.17582971523182897,
          0.18905063991067264,
          0.21228819535018048,
          0.19723860495242945,
          0.17225753456589304,
          0.1160319975961119,
          0.04129756320939391,
          -0.02405192051473486,
          -0.03952446674936056,
          -0.03698290939832298,
          -0.01333611858671389,
          -0.0031542836200151164,
          -0.0039745632814105845,
          -0.03513054693484821,
          -0.032876652332228244,
          -0.007366122440931995,
          0.05073111440221123,
          0.11175182735657255,
          0.15776782124083455,
          0.1823221528202468,
          0.2004909435411445,
          0.17409383363409814,
          0.12203741486260697,
          0.07828244900009466,
          0.018172193412163997,
          -0.021221770913941344,
          -0.023958371627406428,
          -0.026992425809612287,
          -0.061795739645561794,
          -0.06029281129512463,
          -0.050353016257374546,
          -0.0360654882584147,
          -0.04646991346210153,
          -0.04277826377097789,
          -0.03040236122068036,
          -0.020500951864777496,
          -0.01508572649972728,
          -0.0026088790328519145,
          0.017759011933698745,
          0.03188389483858537,
          0.051244660654295844,
          0.03171195591792199,
          0.026130481300138248,
          0.011317784675826758,
          0.02095890809424395,
          0.05153893102114497,
          0.06156256759804759,
          0.07829142108908564,
          0.0769633900307274,
          0.07605945502981099,
          0.08502933924017189,
          0.09254603966963525,
          0.09259169367683168,
          0.0919039674490538,
          0.10116682131145933,
          0.10636167366749567,
          0.10416856033331397,
          0.0949135417502587,
          0.09348898374895197,
          0.07409544832336636,
          0.060772937359781315,
          0.05003237016861232,
          0.05313319394275112,
          0.06351821956965109,
          0.07944263790097553,
          0.08493714332568703,
          0.1003573473455498,
          0.12280660262355747,
          0.13845269230890436,
          0.1586574594998601,
          0.16676666268797055,
          0.16325691044364632,
          0.16099275311550182,
          0.14879751316481638,
          0.13358344673102393,
          0.11980981920030855,
          0.09614371885244354,
          0.11440550339094038,
          0.09769614211940571,
          0.09407480197329332,
          0.08312313089388824,
          0.09558469500856073,
          0.10756290655798474,
          0.09420907172404547,
          0.07732803017737355,
          0.056554276632455776,
          0.03249099299948209,
          0.017145797247986164,
          -0.0009577709821493891,
          -0.008582598980900925,
          -0.012410997472546178,
          -0.021670415576231342,
          -0.03314105277368089,
          -0.03602336468520113,
          -0.02909934916617332,
          -0.006017822560036369,
          0.03023144616001496,
          0.04629032460966474,
          0.059220223062671246,
          0.053893201160670146,
          0.0400635602265704,
          0.007758603084652739,
          -0.008934050469122358,
          -0.03157843752669184,
          -0.04807422735557263,
          -0.05835852141436385,
          -0.07586001295984802,
          -0.09295129622183966,
          -0.1037043966478933,
          -0.10802399418433999,
          -0.10770409909287951,
          -0.09917970783497934,
          -0.09009559326596006,
          -0.07752318570648749,
          -0.061180148417783436,
          -0.04926961575082395,
          -0.04906433532602396,
          -0.0574334452597584,
          -0.05902202067041912,
          -0.07239307128525048,
          -0.0868262279820815,
          -0.09943575645856163,
          -0.1041372732705261,
          -0.12343733023238354,
          -0.13356896779095703,
          -0.13560648567092087,
          -0.1470144339683632,
          -0.15366053302529326,
          -0.1785805009820003,
          -0.20974011150671298,
          -0.20412799953050625,
          -0.1989071029519144,
          -0.1997684972357565,
          -0.20174457336750162,
          -0.19119848605153228,
          -0.16238420936577294,
          -0.12989114933379572,
          -0.10760592542899207,
          -0.09998153987277686,
          -0.09285385518103814,
          -0.09951504717225433,
          -0.1062247460211208,
          -0.10914542370535445,
          -0.11576090759122475,
          -0.1329306396490334,
          -0.1526460403662836,
          -0.18287318315772558,
          -0.20080505544204452,
          -0.19527593302135207,
          -0.16939938857600323,
          -0.15734699905473162,
          -0.14933488389791233,
          -0.1356757866668879,
          -0.12812122433457543,
          -0.11859640211308815,
          -0.11331698401840566,
          -0.10608578611127999,
          -0.09911531548688805,
          -0.0874073579760528,
          -0.07837042180546948,
          -0.0684472017737906,
          -0.05822777082647163,
          -0.05192852746582505
         ],
         "y": [
          0.13521825104115684,
          0.12934152858089537,
          0.16307443543416003,
          0.17086207504790793,
          0.1768185162698053,
          0.16971841430814655,
          0.08505831864191733,
          -0.012099035434880095,
          -0.10084199875300011,
          -0.16082397137568036,
          -0.2151056218750063,
          -0.1830725007352867,
          -0.14091307755748828,
          -0.12166124670414936,
          -0.11243476020644443,
          -0.1043036149737906,
          -0.1571218443439896,
          -0.20344231424817832,
          -0.17874332371079557,
          -0.20062620754965388,
          -0.21566822193014148,
          -0.27587347067161777,
          -0.3163598931082092,
          -0.3073944077598351,
          -0.25003547174350105,
          -0.21844411218044746,
          -0.17750726590553167,
          -0.14159370040089084,
          -0.17897214081184992,
          -0.29673365574930854,
          -0.39067119620290547,
          -0.4516763960094368,
          -0.44865816375374723,
          -0.5174147581825989,
          -0.47123173411967123,
          -0.47683649629754776,
          -0.604300910275425,
          -0.7239815597911808,
          -0.8176086153010107,
          -0.796266215839947,
          -0.8414984696814963,
          -0.8901161816009965,
          -0.801515233969486,
          -0.696371007398341,
          -0.5031317481839435,
          -0.2610478251356234,
          -0.07026842662564704,
          -0.021617157463799146,
          -0.026538012264662094,
          -0.09201530446565687,
          -0.11893978179494381,
          -0.09912113022927678,
          -0.025898609828605715,
          -0.020084938602011913,
          -0.08994262395582792,
          -0.2491103080156644,
          -0.4325637317579434,
          -0.546634900840819,
          -0.5799662705586127,
          -0.6227174429884401,
          -0.5369898928720553,
          -0.3844158826330797,
          -0.27717235877464436,
          -0.11951294649628832,
          -0.03483238093294812,
          -0.03313154042347567,
          -0.02396502776058301,
          0.09640043297542246,
          0.10018783404168961,
          0.09437741454823849,
          0.07297382884825616,
          0.11842971595211536,
          0.11890406913071298,
          0.09794675652601804,
          0.07424376389717934,
          0.01921246144428057,
          -0.0493749614600299,
          -0.12455037128492948,
          -0.15765840725484376,
          -0.20558916950009337,
          -0.12292221407536759,
          -0.08259507527497914,
          -0.020895506532826895,
          -0.02310366537297368,
          -0.06925487710238301,
          -0.04926457397500065,
          -0.06642347805673565,
          -0.036116468819311694,
          -0.033508141630847456,
          -0.059390968205259416,
          -0.08108059641728071,
          -0.08121233220371676,
          -0.07922788087003191,
          -0.10595607874663729,
          -0.12094595592427751,
          -0.11461767221899971,
          -0.08791208323809785,
          -0.08380148528295106,
          -0.027840950864307632,
          0.01060148972013995,
          0.016517158853282914,
          0.001535221819032556,
          -0.031142916430425733,
          -0.08836538824649227,
          -0.10542287749436598,
          -0.15328934433625085,
          -0.21619264738319582,
          -0.24492995120412733,
          -0.2909413188836144,
          -0.29524607155345195,
          -0.2914984631394915,
          -0.28543939510308436,
          -0.24339563849432053,
          -0.199495067008394,
          -0.15975091821924162,
          -0.09146179021813719,
          -0.14415662897683887,
          -0.10853416193780949,
          -0.11462789445417965,
          -0.1126300534198303,
          -0.15820001167435105,
          -0.2137073514361963,
          -0.16377462606215182,
          -0.12331184126744187,
          -0.06697935901047902,
          -0.024015121845353274,
          0.005994947978943023,
          0.04840888343494837,
          0.07927415669353391,
          0.09857281323238555,
          0.11174072542332927,
          0.13822628160336226,
          0.14997693675169538,
          0.16782843609865228,
          0.1359026398637766,
          0.0987297310116378,
          0.05239143319818992,
          0.015081885891284407,
          0.030453141619237786,
          0.07035891849317254,
          0.08805991237917334,
          0.10608020170698007,
          0.14944642812727765,
          0.18061958447989446,
          0.208492756681307,
          0.24358409953973872,
          0.276135518487027,
          0.31132387601127137,
          0.3474997331996956,
          0.35467179950179334,
          0.3264399266655432,
          0.3064613654099075,
          0.30125282681262594,
          0.27555230347085363,
          0.2602233226548097,
          0.23837003244565386,
          0.23015574166224587,
          0.2215840047485786,
          0.23376610642437157,
          0.2660649624412727,
          0.27635340528460656,
          0.2805420857592059,
          0.306251895907699,
          0.3221588482637847,
          0.33220170165943147,
          0.37653347059457043,
          0.4154578617411644,
          0.5383825457393221,
          0.7096525148081523,
          0.7335372122492573,
          0.7486613235994019,
          0.7461660006468986,
          0.7387590620944154,
          0.716803892605935,
          0.6141090250760425,
          0.4583598998515836,
          0.3543778515464643,
          0.30562718990420806,
          0.2581620228955957,
          0.24781405798738496,
          0.2547466429059549,
          0.25358319963988085,
          0.2644603857481804,
          0.32329833932698626,
          0.40977950275671904,
          0.5564938855716579,
          0.6214463856789658,
          0.546380752387614,
          0.43569464898178933,
          0.38113945074030303,
          0.33030193891112886,
          0.26728778710486406,
          0.23656994872613973,
          0.21695854619095445,
          0.21782587838553877,
          0.22740322400555776,
          0.225340676368454,
          0.2185413896424476,
          0.21208117886732322,
          0.196175601258603,
          0.16951701323465607,
          0.15220300210454446
         ],
         "z": [
          0.036728387751438545,
          0.09240508649158917,
          0.11791171256323538,
          0.1260300695212011,
          0.1593437248716781,
          0.22014094170640605,
          0.2651647048374487,
          0.2692115924671903,
          0.2647020620621955,
          0.2746687296518934,
          0.2527069487839481,
          0.22840122227447718,
          0.21440520927625167,
          0.19249393993969918,
          0.1221484231133692,
          0.042438460904867054,
          -0.04855222691297387,
          -0.05606458340533065,
          0.06663804707287864,
          0.15404383282743303,
          0.20917515717918328,
          0.2185736416573231,
          0.24925253231915898,
          0.2510387575402164,
          0.26296652784983204,
          0.2737456358211346,
          0.2822301244062049,
          0.2789172658044085,
          0.27989315959650923,
          0.2815444189987855,
          0.26839773205792616,
          0.29417405102264615,
          0.27962546474827454,
          0.29709214683139457,
          0.309804203972912,
          0.34125408016383096,
          0.41108087256899595,
          0.4485999443702563,
          0.4870125164828371,
          0.447946671580897,
          0.4533658987134373,
          0.40327028419694644,
          0.3254573665644799,
          0.27723107921737594,
          0.25249145991174937,
          0.24811655825902834,
          0.28464603036484293,
          0.28657470496194554,
          0.28032997836221685,
          0.2602461055377439,
          0.249149142953682,
          0.21597132454802762,
          0.26762074284532283,
          0.242435373249833,
          0.2192623342371633,
          0.16663325707786514,
          0.14277681933735145,
          0.07793053033495195,
          -0.0098319238196924,
          -0.039853048931209445,
          -0.041824116888538626,
          -0.013887432060107124,
          0.050132928612061235,
          0.11814378673742786,
          0.19870592983468438,
          0.2123750259167928,
          0.2134745409802088,
          0.1967103551364024,
          0.18008866650620958,
          0.12973110707327504,
          0.08254257908453165,
          0.05924417329781134,
          0.03545966645662057,
          -0.0007483672840717368,
          -0.016327134583826227,
          0.05636304534004973,
          0.11147799062074033,
          0.13042791267753692,
          0.10684197025691974,
          0.07943589942536508,
          0.04085004801704746,
          -0.0024243750121832,
          -0.029772590537347144,
          -0.08523400054384654,
          -0.18557573535996205,
          -0.28626008708489287,
          -0.356766187981293,
          -0.40704603934043904,
          -0.40648169016319863,
          -0.4120818127040084,
          -0.4167746763486617,
          -0.41680317928457294,
          -0.416373814639527,
          -0.4221568454446701,
          -0.42540012139929334,
          -0.42403090601933163,
          -0.418252766974603,
          -0.417363379866953,
          -0.4052555117679014,
          -0.3969379357326188,
          -0.3418229874563995,
          -0.3321096436176608,
          -0.3333580716328316,
          -0.32153955840093856,
          -0.3226476504237868,
          -0.32576711312676154,
          -0.3434015714578645,
          -0.3848485332914993,
          -0.4211882931402955,
          -0.46311246334905837,
          -0.4486051156951045,
          -0.4462760900606688,
          -0.4518938749120346,
          -0.44239535359613563,
          -0.43379613423114294,
          -0.4190207972364849,
          -0.43042208501579865,
          -0.3956800127032048,
          -0.36148303428479645,
          -0.2974971200666615,
          -0.28672193011625247,
          -0.2537687235074463,
          -0.26743870792829727,
          -0.24097719073299628,
          -0.2210372725306789,
          -0.1549126518440847,
          -0.11778667901727802,
          -0.08751856532903772,
          -0.09986915053597803,
          -0.11340864325066415,
          -0.08146922635053193,
          -0.06154115572007572,
          -0.06637024257093027,
          -0.14372438156719197,
          -0.22507661388404315,
          -0.3778701206653747,
          -0.3878960792036276,
          -0.39596853745157523,
          -0.39264274475133887,
          -0.3840085548208937,
          -0.21805913645412678,
          -0.14944015938581154,
          -0.09288125071244284,
          -0.050872953711556236,
          -0.040972707549639054,
          -0.0002982825422078553,
          0.04273824828257054,
          0.04142090858320068,
          -0.0016565982755038058,
          -0.017483692698837382,
          -0.015789351534888484,
          -0.03349508376908742,
          -0.10132288545201622,
          -0.15294965290043822,
          -0.19714014730306909,
          -0.15622477221942724,
          -0.08852296208120056,
          -0.062134715363656494,
          -0.002821759215724407,
          0.024235951380049314,
          0.08248712508851104,
          0.10352566145207671,
          0.173452448402215,
          0.2055074081899596,
          0.19874190099150943,
          0.18383012467639154,
          0.14985872237155265,
          0.06692935425954744,
          -0.07067602046393429,
          -0.1515501507363746,
          -0.21308879297773384,
          -0.20293554939894473,
          -0.1763954427425614,
          -0.19934193092721939,
          -0.17958973737003067,
          -0.08020718677869784,
          -0.017524395817764674,
          0.029356063366975223,
          0.07683184817946541,
          0.13807254790215845,
          0.16625422172800014,
          0.18659302777816317,
          0.20657614680493636,
          0.19935338709048922,
          0.15453608984896233,
          0.05855804947263798,
          0.044252621139412224,
          0.15491283260185781,
          0.20829030173518098,
          0.2389459188349065,
          0.28745308988119245,
          0.3244853034779645,
          0.33698654771343084,
          0.3158419618331577,
          0.281463021051143,
          0.21817894115950906,
          0.17898041469264792,
          0.11957853534471394,
          0.07606834547488386,
          0.04530182271685063,
          0.033458672822032826,
          0.027860650904517552
         ]
        }
       ],
       "layout": {
        "height": 2000,
        "scene": {
         "domain": {
          "x": [
           0,
           0.45
          ],
          "y": [
           0,
           1
          ]
         }
        },
        "scene2": {
         "domain": {
          "x": [
           0.55,
           1
          ],
          "y": [
           0,
           1
          ]
         }
        },
        "template": {
         "data": {
          "bar": [
           {
            "error_x": {
             "color": "#2a3f5f"
            },
            "error_y": {
             "color": "#2a3f5f"
            },
            "marker": {
             "line": {
              "color": "#E5ECF6",
              "width": 0.5
             }
            },
            "type": "bar"
           }
          ],
          "barpolar": [
           {
            "marker": {
             "line": {
              "color": "#E5ECF6",
              "width": 0.5
             }
            },
            "type": "barpolar"
           }
          ],
          "carpet": [
           {
            "aaxis": {
             "endlinecolor": "#2a3f5f",
             "gridcolor": "white",
             "linecolor": "white",
             "minorgridcolor": "white",
             "startlinecolor": "#2a3f5f"
            },
            "baxis": {
             "endlinecolor": "#2a3f5f",
             "gridcolor": "white",
             "linecolor": "white",
             "minorgridcolor": "white",
             "startlinecolor": "#2a3f5f"
            },
            "type": "carpet"
           }
          ],
          "choropleth": [
           {
            "colorbar": {
             "outlinewidth": 0,
             "ticks": ""
            },
            "type": "choropleth"
           }
          ],
          "contour": [
           {
            "colorbar": {
             "outlinewidth": 0,
             "ticks": ""
            },
            "colorscale": [
             [
              0,
              "#0d0887"
             ],
             [
              0.1111111111111111,
              "#46039f"
             ],
             [
              0.2222222222222222,
              "#7201a8"
             ],
             [
              0.3333333333333333,
              "#9c179e"
             ],
             [
              0.4444444444444444,
              "#bd3786"
             ],
             [
              0.5555555555555556,
              "#d8576b"
             ],
             [
              0.6666666666666666,
              "#ed7953"
             ],
             [
              0.7777777777777778,
              "#fb9f3a"
             ],
             [
              0.8888888888888888,
              "#fdca26"
             ],
             [
              1,
              "#f0f921"
             ]
            ],
            "type": "contour"
           }
          ],
          "contourcarpet": [
           {
            "colorbar": {
             "outlinewidth": 0,
             "ticks": ""
            },
            "type": "contourcarpet"
           }
          ],
          "heatmap": [
           {
            "colorbar": {
             "outlinewidth": 0,
             "ticks": ""
            },
            "colorscale": [
             [
              0,
              "#0d0887"
             ],
             [
              0.1111111111111111,
              "#46039f"
             ],
             [
              0.2222222222222222,
              "#7201a8"
             ],
             [
              0.3333333333333333,
              "#9c179e"
             ],
             [
              0.4444444444444444,
              "#bd3786"
             ],
             [
              0.5555555555555556,
              "#d8576b"
             ],
             [
              0.6666666666666666,
              "#ed7953"
             ],
             [
              0.7777777777777778,
              "#fb9f3a"
             ],
             [
              0.8888888888888888,
              "#fdca26"
             ],
             [
              1,
              "#f0f921"
             ]
            ],
            "type": "heatmap"
           }
          ],
          "heatmapgl": [
           {
            "colorbar": {
             "outlinewidth": 0,
             "ticks": ""
            },
            "colorscale": [
             [
              0,
              "#0d0887"
             ],
             [
              0.1111111111111111,
              "#46039f"
             ],
             [
              0.2222222222222222,
              "#7201a8"
             ],
             [
              0.3333333333333333,
              "#9c179e"
             ],
             [
              0.4444444444444444,
              "#bd3786"
             ],
             [
              0.5555555555555556,
              "#d8576b"
             ],
             [
              0.6666666666666666,
              "#ed7953"
             ],
             [
              0.7777777777777778,
              "#fb9f3a"
             ],
             [
              0.8888888888888888,
              "#fdca26"
             ],
             [
              1,
              "#f0f921"
             ]
            ],
            "type": "heatmapgl"
           }
          ],
          "histogram": [
           {
            "marker": {
             "colorbar": {
              "outlinewidth": 0,
              "ticks": ""
             }
            },
            "type": "histogram"
           }
          ],
          "histogram2d": [
           {
            "colorbar": {
             "outlinewidth": 0,
             "ticks": ""
            },
            "colorscale": [
             [
              0,
              "#0d0887"
             ],
             [
              0.1111111111111111,
              "#46039f"
             ],
             [
              0.2222222222222222,
              "#7201a8"
             ],
             [
              0.3333333333333333,
              "#9c179e"
             ],
             [
              0.4444444444444444,
              "#bd3786"
             ],
             [
              0.5555555555555556,
              "#d8576b"
             ],
             [
              0.6666666666666666,
              "#ed7953"
             ],
             [
              0.7777777777777778,
              "#fb9f3a"
             ],
             [
              0.8888888888888888,
              "#fdca26"
             ],
             [
              1,
              "#f0f921"
             ]
            ],
            "type": "histogram2d"
           }
          ],
          "histogram2dcontour": [
           {
            "colorbar": {
             "outlinewidth": 0,
             "ticks": ""
            },
            "colorscale": [
             [
              0,
              "#0d0887"
             ],
             [
              0.1111111111111111,
              "#46039f"
             ],
             [
              0.2222222222222222,
              "#7201a8"
             ],
             [
              0.3333333333333333,
              "#9c179e"
             ],
             [
              0.4444444444444444,
              "#bd3786"
             ],
             [
              0.5555555555555556,
              "#d8576b"
             ],
             [
              0.6666666666666666,
              "#ed7953"
             ],
             [
              0.7777777777777778,
              "#fb9f3a"
             ],
             [
              0.8888888888888888,
              "#fdca26"
             ],
             [
              1,
              "#f0f921"
             ]
            ],
            "type": "histogram2dcontour"
           }
          ],
          "mesh3d": [
           {
            "colorbar": {
             "outlinewidth": 0,
             "ticks": ""
            },
            "type": "mesh3d"
           }
          ],
          "parcoords": [
           {
            "line": {
             "colorbar": {
              "outlinewidth": 0,
              "ticks": ""
             }
            },
            "type": "parcoords"
           }
          ],
          "pie": [
           {
            "automargin": true,
            "type": "pie"
           }
          ],
          "scatter": [
           {
            "marker": {
             "colorbar": {
              "outlinewidth": 0,
              "ticks": ""
             }
            },
            "type": "scatter"
           }
          ],
          "scatter3d": [
           {
            "line": {
             "colorbar": {
              "outlinewidth": 0,
              "ticks": ""
             }
            },
            "marker": {
             "colorbar": {
              "outlinewidth": 0,
              "ticks": ""
             }
            },
            "type": "scatter3d"
           }
          ],
          "scattercarpet": [
           {
            "marker": {
             "colorbar": {
              "outlinewidth": 0,
              "ticks": ""
             }
            },
            "type": "scattercarpet"
           }
          ],
          "scattergeo": [
           {
            "marker": {
             "colorbar": {
              "outlinewidth": 0,
              "ticks": ""
             }
            },
            "type": "scattergeo"
           }
          ],
          "scattergl": [
           {
            "marker": {
             "colorbar": {
              "outlinewidth": 0,
              "ticks": ""
             }
            },
            "type": "scattergl"
           }
          ],
          "scattermapbox": [
           {
            "marker": {
             "colorbar": {
              "outlinewidth": 0,
              "ticks": ""
             }
            },
            "type": "scattermapbox"
           }
          ],
          "scatterpolar": [
           {
            "marker": {
             "colorbar": {
              "outlinewidth": 0,
              "ticks": ""
             }
            },
            "type": "scatterpolar"
           }
          ],
          "scatterpolargl": [
           {
            "marker": {
             "colorbar": {
              "outlinewidth": 0,
              "ticks": ""
             }
            },
            "type": "scatterpolargl"
           }
          ],
          "scatterternary": [
           {
            "marker": {
             "colorbar": {
              "outlinewidth": 0,
              "ticks": ""
             }
            },
            "type": "scatterternary"
           }
          ],
          "surface": [
           {
            "colorbar": {
             "outlinewidth": 0,
             "ticks": ""
            },
            "colorscale": [
             [
              0,
              "#0d0887"
             ],
             [
              0.1111111111111111,
              "#46039f"
             ],
             [
              0.2222222222222222,
              "#7201a8"
             ],
             [
              0.3333333333333333,
              "#9c179e"
             ],
             [
              0.4444444444444444,
              "#bd3786"
             ],
             [
              0.5555555555555556,
              "#d8576b"
             ],
             [
              0.6666666666666666,
              "#ed7953"
             ],
             [
              0.7777777777777778,
              "#fb9f3a"
             ],
             [
              0.8888888888888888,
              "#fdca26"
             ],
             [
              1,
              "#f0f921"
             ]
            ],
            "type": "surface"
           }
          ],
          "table": [
           {
            "cells": {
             "fill": {
              "color": "#EBF0F8"
             },
             "line": {
              "color": "white"
             }
            },
            "header": {
             "fill": {
              "color": "#C8D4E3"
             },
             "line": {
              "color": "white"
             }
            },
            "type": "table"
           }
          ]
         },
         "layout": {
          "annotationdefaults": {
           "arrowcolor": "#2a3f5f",
           "arrowhead": 0,
           "arrowwidth": 1
          },
          "autotypenumbers": "strict",
          "coloraxis": {
           "colorbar": {
            "outlinewidth": 0,
            "ticks": ""
           }
          },
          "colorscale": {
           "diverging": [
            [
             0,
             "#8e0152"
            ],
            [
             0.1,
             "#c51b7d"
            ],
            [
             0.2,
             "#de77ae"
            ],
            [
             0.3,
             "#f1b6da"
            ],
            [
             0.4,
             "#fde0ef"
            ],
            [
             0.5,
             "#f7f7f7"
            ],
            [
             0.6,
             "#e6f5d0"
            ],
            [
             0.7,
             "#b8e186"
            ],
            [
             0.8,
             "#7fbc41"
            ],
            [
             0.9,
             "#4d9221"
            ],
            [
             1,
             "#276419"
            ]
           ],
           "sequential": [
            [
             0,
             "#0d0887"
            ],
            [
             0.1111111111111111,
             "#46039f"
            ],
            [
             0.2222222222222222,
             "#7201a8"
            ],
            [
             0.3333333333333333,
             "#9c179e"
            ],
            [
             0.4444444444444444,
             "#bd3786"
            ],
            [
             0.5555555555555556,
             "#d8576b"
            ],
            [
             0.6666666666666666,
             "#ed7953"
            ],
            [
             0.7777777777777778,
             "#fb9f3a"
            ],
            [
             0.8888888888888888,
             "#fdca26"
            ],
            [
             1,
             "#f0f921"
            ]
           ],
           "sequentialminus": [
            [
             0,
             "#0d0887"
            ],
            [
             0.1111111111111111,
             "#46039f"
            ],
            [
             0.2222222222222222,
             "#7201a8"
            ],
            [
             0.3333333333333333,
             "#9c179e"
            ],
            [
             0.4444444444444444,
             "#bd3786"
            ],
            [
             0.5555555555555556,
             "#d8576b"
            ],
            [
             0.6666666666666666,
             "#ed7953"
            ],
            [
             0.7777777777777778,
             "#fb9f3a"
            ],
            [
             0.8888888888888888,
             "#fdca26"
            ],
            [
             1,
             "#f0f921"
            ]
           ]
          },
          "colorway": [
           "#636efa",
           "#EF553B",
           "#00cc96",
           "#ab63fa",
           "#FFA15A",
           "#19d3f3",
           "#FF6692",
           "#B6E880",
           "#FF97FF",
           "#FECB52"
          ],
          "font": {
           "color": "#2a3f5f"
          },
          "geo": {
           "bgcolor": "white",
           "lakecolor": "white",
           "landcolor": "#E5ECF6",
           "showlakes": true,
           "showland": true,
           "subunitcolor": "white"
          },
          "hoverlabel": {
           "align": "left"
          },
          "hovermode": "closest",
          "mapbox": {
           "style": "light"
          },
          "paper_bgcolor": "white",
          "plot_bgcolor": "#E5ECF6",
          "polar": {
           "angularaxis": {
            "gridcolor": "white",
            "linecolor": "white",
            "ticks": ""
           },
           "bgcolor": "#E5ECF6",
           "radialaxis": {
            "gridcolor": "white",
            "linecolor": "white",
            "ticks": ""
           }
          },
          "scene": {
           "xaxis": {
            "backgroundcolor": "#E5ECF6",
            "gridcolor": "white",
            "gridwidth": 2,
            "linecolor": "white",
            "showbackground": true,
            "ticks": "",
            "zerolinecolor": "white"
           },
           "yaxis": {
            "backgroundcolor": "#E5ECF6",
            "gridcolor": "white",
            "gridwidth": 2,
            "linecolor": "white",
            "showbackground": true,
            "ticks": "",
            "zerolinecolor": "white"
           },
           "zaxis": {
            "backgroundcolor": "#E5ECF6",
            "gridcolor": "white",
            "gridwidth": 2,
            "linecolor": "white",
            "showbackground": true,
            "ticks": "",
            "zerolinecolor": "white"
           }
          },
          "shapedefaults": {
           "line": {
            "color": "#2a3f5f"
           }
          },
          "ternary": {
           "aaxis": {
            "gridcolor": "white",
            "linecolor": "white",
            "ticks": ""
           },
           "baxis": {
            "gridcolor": "white",
            "linecolor": "white",
            "ticks": ""
           },
           "bgcolor": "#E5ECF6",
           "caxis": {
            "gridcolor": "white",
            "linecolor": "white",
            "ticks": ""
           }
          },
          "title": {
           "x": 0.05
          },
          "xaxis": {
           "automargin": true,
           "gridcolor": "white",
           "linecolor": "white",
           "ticks": "",
           "title": {
            "standoff": 15
           },
           "zerolinecolor": "white",
           "zerolinewidth": 2
          },
          "yaxis": {
           "automargin": true,
           "gridcolor": "white",
           "linecolor": "white",
           "ticks": "",
           "title": {
            "standoff": 15
           },
           "zerolinecolor": "white",
           "zerolinewidth": 2
          }
         }
        },
        "width": 2000
       }
      }
     },
     "metadata": {},
     "output_type": "display_data"
    }
   ],
   "source": [
    "# Trussart perfect structure\n",
    "trussart_true_structure = np.mean(trussart_structures, axis=0)\n",
    "\n",
    "# Trussart predicted structure\n",
    "torch_trussart_hic = torch.FloatTensor(trussart_hic)\n",
    "torch_trussart_hic = torch.reshape(torch_trussart_hic, (1, NB_BINS, NB_BINS))\n",
    "torch_trussart_hic = torch.repeat_interleave(torch_trussart_hic, BATCH_SIZE, 0)\n",
    "\n",
    "trussart_pred_structure, _ = model(torch_trussart_hic)\n",
    "trussart_pred_structure = trussart_pred_structure.detach().numpy()[0]\n",
    "\n",
    "# Superpose structure using Kabsch algorithm\n",
    "trussart_pred_structure_superposed, trussart_true_structure_superposed = \\\n",
    "        kabsch_superimposition_numpy(trussart_pred_structure, trussart_true_structure)\n",
    "\n",
    "# Plot and compare the two structures\n",
    "x_pred = trussart_pred_structure_superposed[:, 0]  \n",
    "y_pred = trussart_pred_structure_superposed[:, 1]\n",
    "z_pred = trussart_pred_structure_superposed[:, 2]\n",
    "\n",
    "x_true = trussart_true_structure_superposed[:, 0]  \n",
    "y_true = trussart_true_structure_superposed[:, 1]\n",
    "z_true = trussart_true_structure_superposed[:, 2]\n",
    "\n",
    "# Initialize figure with 4 3D subplots\n",
    "fig = make_subplots(\n",
    "    rows=1, cols=2,\n",
    "    specs=[[{'type': 'scatter3d'}, {'type': 'scatter3d'}]])\n",
    "\n",
    "# adding surfaces to subplots.\n",
    "fig.add_trace(\n",
    "    go.Scatter3d(\n",
    "    x=x_true, y=y_true, z=z_true,\n",
    "    marker=dict(\n",
    "        size=4,\n",
    "        color=np.asarray(range(len(x_true))),\n",
    "        colorscale='Viridis',\n",
    "    ),\n",
    "    line=dict(\n",
    "        color='darkblue',\n",
    "        width=2\n",
    "    )\n",
    "), row=1, col=1)\n",
    "\n",
    "fig.add_trace(\n",
    "    go.Scatter3d(\n",
    "    x=x_pred, y=y_pred, z=z_pred,\n",
    "    marker=dict(\n",
    "        size=4,\n",
    "        color=np.asarray(range(len(x_pred))),\n",
    "        colorscale='Viridis',\n",
    "    ),\n",
    "    line=dict(\n",
    "        color='darkblue',\n",
    "        width=2\n",
    "    )\n",
    "),row=1, col=2)\n",
    "\n",
    "fig.update_layout(\n",
    "    height=2000,\n",
    "    width=2000\n",
    ")\n",
    "\n",
    "fig.show()"
   ]
  },
  {
   "cell_type": "code",
   "execution_count": 50,
   "metadata": {},
   "outputs": [],
   "source": [
    "kabsch_distances = []\n",
    "\n",
    "for graph_index in range(test_size):\n",
    "\n",
    "    test_true_structure = test_true_structures[graph_index,:,:]\n",
    "    test_pred_structure = test_pred_structures[graph_index,:,:]\n",
    "    \n",
    "    d = kabsch_distance_numpy(test_pred_structure, test_true_structure)\n",
    "    kabsch_distances.append(d)"
   ]
  },
  {
   "cell_type": "code",
   "execution_count": 51,
   "metadata": {},
   "outputs": [
    {
     "data": {
      "image/png": "[encoded data removed]",
      "text/plain": [
       "<Figure size 640x480 with 1 Axes>"
      ]
     },
     "metadata": {},
     "output_type": "display_data"
    },
    {
     "name": "stdout",
     "output_type": "stream",
     "text": [
      "mean: 0.048626522823874065\n",
      "median: 0.043470753193261144\n",
      "variance: 0.0007657994223415624\n"
     ]
    }
   ],
   "source": [
    "n, bins, patches = plt.hist(kabsch_distances, 100, facecolor='blue', alpha=0.5)\n",
    "plt.show()\n",
    "\n",
    "print('mean: ' + str(np.mean(kabsch_distances)))\n",
    "print('median: ' + str(np.median(kabsch_distances)))\n",
    "print('variance: ' + str(np.var(kabsch_distances)))"
   ]
  },
  {
   "cell_type": "code",
   "execution_count": 52,
   "metadata": {},
   "outputs": [],
   "source": [
    "RESULTS_ROOT = '../data/trussart/saved_results/'\n",
    "LAMBDA_CONFIGURATION = str(LAMBDA_KABSCH)"
   ]
  },
  {
   "cell_type": "code",
   "execution_count": 53,
   "metadata": {},
   "outputs": [],
   "source": [
    "np.savetxt(RESULTS_ROOT + 'non_ae_synthetic_random_linear_losses_150_' + LAMBDA_CONFIGURATION + '.txt', losses)\n",
    "\n",
    "np.savetxt(RESULTS_ROOT + 'non_ae_synthetic_random_linear_train_kabsch_losses_all_epochs_150_' + \n",
    "           LAMBDA_CONFIGURATION + '.txt', train_kabsch_losses_all_epochs)\n",
    "np.savetxt(RESULTS_ROOT + 'non_ae_synthetic_random_linear_test_kabsch_losses_all_epochs_150_' + \n",
    "           LAMBDA_CONFIGURATION + '.txt', test_kabsch_losses_all_epochs)\n",
    "\n",
    "np.savetxt(RESULTS_ROOT + 'non_ae_synthetic_random_linear_train_distance_losses_all_epochs_150_' +\n",
    "           LAMBDA_CONFIGURATION + '.txt', train_distance_losses_all_epochs)\n",
    "np.savetxt(RESULTS_ROOT + 'non_ae_synthetic_random_linear_test_distance_losses_all_epochs_150_' + \n",
    "           LAMBDA_CONFIGURATION + '.txt', test_distance_losses_all_epochs)\n",
    "\n",
    "np.savetxt(RESULTS_ROOT + 'non_ae_synthetic_random_linear_trussart_test_kabsch_losses_all_epochs_150_' +\n",
    "               LAMBDA_CONFIGURATION + '.txt', trussart_test_kabsch_losses_all_epochs)"
   ]
  },
  {
   "cell_type": "code",
   "execution_count": 54,
   "metadata": {},
   "outputs": [],
   "source": [
    "# Trussart predicted structure\n",
    "torch_trussart_hic = torch.FloatTensor(trussart_hic)\n",
    "torch_trussart_hic = torch.reshape(torch_trussart_hic, (1, NB_BINS, NB_BINS))\n",
    "torch_trussart_hic = torch.repeat_interleave(torch_trussart_hic, BATCH_SIZE, 0)\n",
    "\n",
    "trussart_pred_structure, trussart_pred_distance = model(torch_trussart_hic)\n",
    "trussart_pred_structure = trussart_pred_structure.detach().numpy()[0]\n",
    "trussart_pred_distance = trussart_pred_distance.detach().numpy()[0]"
   ]
  },
  {
   "cell_type": "code",
   "execution_count": null,
   "metadata": {},
   "outputs": [],
   "source": []
  },
  {
   "cell_type": "code",
   "execution_count": 55,
   "metadata": {},
   "outputs": [],
   "source": [
    "STRUCTURE_ROOT = '../data/trussart/structures/'\n"
   ]
  },
  {
   "cell_type": "code",
   "execution_count": 56,
   "metadata": {},
   "outputs": [],
   "source": [
    "np.savetxt(STRUCTURE_ROOT + 'non_ae_synthetic_random_linear_trussart_test_structure_150_' +\n",
    "               str(5) + '.txt', trussart_pred_structure)"
   ]
  },
  {
   "cell_type": "code",
   "execution_count": 57,
   "metadata": {},
   "outputs": [],
   "source": [
    "\n",
    "torch.save(model, \n",
    "           '../data/trussart/saved_models/non_ae_synthetic_random_linear_model_150_' \n",
    "           + LAMBDA_CONFIGURATION + '.pt')"
   ]
  }
 ],
 "metadata": {
  "kernelspec": {
   "display_name": "Python 3.8.15 64-bit ('blaenv')",
   "language": "python",
   "name": "python3"
  },
  "language_info": {
   "codemirror_mode": {
    "name": "ipython",
    "version": 3
   },
   "file_extension": ".py",
   "mimetype": "text/x-python",
   "name": "python",
   "nbconvert_exporter": "python",
   "pygments_lexer": "ipython3",
   "version": "3.8.15"
  },
  "orig_nbformat": 4,
  "vscode": {
   "interpreter": {
    "hash": "1332eaeb75df64c764d664ce90a83adb72db7bc35c8e71eb42235920a3fb9784"
   }
  }
 },
 "nbformat": 4,
 "nbformat_minor": 2
}
