{
 "cells": [
  {
   "cell_type": "code",
   "execution_count": 1,
   "metadata": {},
   "outputs": [],
   "source": [
    "# File processing\n",
    "import glob\n",
    "import os\n",
    "\n",
    "# Data processing\n",
    "import random\n",
    "import numpy as np\n",
    "from tqdm import tqdm\n",
    "\n",
    "# Data display \n",
    "import matplotlib\n",
    "import matplotlib.pyplot as plt\n",
    "import plotly.graph_objects as go\n",
    "from plotly.subplots import make_subplots\n",
    "from matplotlib.legend_handler import HandlerLine2D\n",
    "\n",
    "# Machine learning\n",
    "import torch\n",
    "import torch.nn.functional as F\n",
    "from torch import linalg as LAtorch\n",
    "from numpy import linalg as LAnumpy\n",
    "from torch_geometric.loader import DataLoader\n",
    "from sklearn.preprocessing import MinMaxScaler\n",
    "from torch_geometric.data import Data, InMemoryDataset\n",
    "\n",
    "# Setting device\n",
    "device = torch.device('cuda' if torch.cuda.is_available() else 'cpu')"
   ]
  },
  {
   "cell_type": "code",
   "execution_count": 2,
   "metadata": {},
   "outputs": [],
   "source": [
    "NB_EPOCHS = 89\n",
    "#####100\n",
    "BATCH_SIZE = 10\n",
    "NB_BINS = 202\n",
    "EMBEDDING_SIZE = 3 # Euclidean 3D space\n",
    "LEARNING_RATE = 0.001\n",
    "SEED = 2\n",
    "LAMBDA_BIOLOGICAL = 0\n",
    "LAMBDA_KABSCH = 0.1\n",
    "TRAIN_DATASET_SIZE = 800\n",
    "TEST_DATASET_SIZE = 200\n",
    "\n",
    "# Trussart analysis dataset constants\n",
    "TRUSSART_HIC_PATH = '../../../data/trussart/hic_matrices/150_TADlike_alpha_150_set0.mat'\n",
    "TRUSSART_STRUCTURES_PATH = '../../../data/trussart/structure_matrices/'"
   ]
  },
  {
   "cell_type": "code",
   "execution_count": 3,
   "metadata": {},
   "outputs": [],
   "source": [
    "torch.manual_seed(SEED)\n",
    "random.seed(SEED)\n",
    "np.random.seed(SEED)"
   ]
  },
  {
   "cell_type": "code",
   "execution_count": 4,
   "metadata": {},
   "outputs": [],
   "source": [
    "trussart_hic = np.loadtxt(TRUSSART_HIC_PATH, dtype='f', delimiter='\\t')\n",
    "scaler = MinMaxScaler()\n",
    "trussart_hic = scaler.fit_transform(trussart_hic)"
   ]
  },
  {
   "cell_type": "code",
   "execution_count": 5,
   "metadata": {},
   "outputs": [],
   "source": [
    "trussart_structures = []\n",
    "\n",
    "file_list = os.listdir(TRUSSART_STRUCTURES_PATH)\n",
    "file_list = filter(lambda f: f.endswith('.xyz'), file_list)\n",
    "\n",
    "for file_name in file_list:\n",
    "    current_trussart_structure = np.loadtxt(TRUSSART_STRUCTURES_PATH + file_name, dtype='f', delimiter='\\t')\n",
    "    current_trussart_structure = current_trussart_structure[:,1:]\n",
    "    trussart_structures.append(current_trussart_structure)"
   ]
  },
  {
   "cell_type": "code",
   "execution_count": 6,
   "metadata": {},
   "outputs": [],
   "source": [
    "# grab last 4 digits of the file txt name:\n",
    "def last_4digits(x):\n",
    "    return(x[-8:-4])"
   ]
  },
  {
   "cell_type": "code",
   "execution_count": 7,
   "metadata": {},
   "outputs": [],
   "source": [
    "train_transfer_learning_hics = []\n",
    "\n",
    "file_list = os.listdir('../../../data/biological_trussart_uniform/train/hic_matrices/')\n",
    "\n",
    "for file_name in sorted(filter(lambda x: x.endswith('.txt'), file_list), key = last_4digits):\n",
    "    current_train_transfer_learning_hic = np.loadtxt('../../../data/biological_trussart_uniform/train/hic_matrices/'\\\n",
    "                                                     + file_name, dtype='f', delimiter=' ')\n",
    "    train_transfer_learning_hics.append(current_train_transfer_learning_hic)"
   ]
  },
  {
   "cell_type": "code",
   "execution_count": 8,
   "metadata": {},
   "outputs": [],
   "source": [
    "test_transfer_learning_hics = []\n",
    "\n",
    "file_list = os.listdir('../../../data/biological_trussart_uniform/test/hic_matrices/')\n",
    "\n",
    "for file_name in sorted(filter(lambda x: x.endswith('.txt'), file_list), key = last_4digits):\n",
    "    current_test_transfer_learning_hic = np.loadtxt('../../../data/biological_trussart_uniform/test/hic_matrices/'\\\n",
    "                                                     + file_name, dtype='f', delimiter=' ')\n",
    "    test_transfer_learning_hics.append(current_test_transfer_learning_hic)"
   ]
  },
  {
   "cell_type": "code",
   "execution_count": 9,
   "metadata": {},
   "outputs": [],
   "source": [
    "train_transfer_learning_structures = []\n",
    "\n",
    "file_list = os.listdir('../../../data/biological_trussart_uniform/train/structure_matrices/')\n",
    "\n",
    "for file_name in sorted(filter(lambda x: x.endswith('.txt'), file_list), key = last_4digits):\n",
    "    current_train_transfer_learning_structure = \\\n",
    "        np.loadtxt('../../../data/biological_trussart_uniform/train/structure_matrices/'\\\n",
    "                                                     + file_name, dtype='f', delimiter=' ')\n",
    "    train_transfer_learning_structures.append(current_train_transfer_learning_structure)"
   ]
  },
  {
   "cell_type": "code",
   "execution_count": 10,
   "metadata": {},
   "outputs": [],
   "source": [
    "test_transfer_learning_structures = []\n",
    "\n",
    "file_list = os.listdir('../../../data/biological_trussart_uniform/test/structure_matrices/')\n",
    "\n",
    "for file_name in sorted(filter(lambda x: x.endswith('.txt'), file_list), key = last_4digits):\n",
    "    current_test_transfer_learning_structure = \\\n",
    "        np.loadtxt('../../../data/biological_trussart_uniform/test/structure_matrices/'\\\n",
    "                                                     + file_name, dtype='f', delimiter=' ')\n",
    "    test_transfer_learning_structures.append(current_test_transfer_learning_structure)"
   ]
  },
  {
   "cell_type": "code",
   "execution_count": 11,
   "metadata": {},
   "outputs": [],
   "source": [
    "train_transfer_learning_distances = []\n",
    "\n",
    "file_list = os.listdir('../../../data/biological_trussart_uniform/train/distance_matrices/')\n",
    "\n",
    "for file_name in sorted(filter(lambda x: x.endswith('.txt'), file_list), key = last_4digits):\n",
    "    current_train_transfer_learning_distance = \\\n",
    "            np.loadtxt('../../../data/biological_trussart_uniform/train/distance_matrices/'\\\n",
    "                                                     + file_name, dtype='f', delimiter=' ')\n",
    "    train_transfer_learning_distances.append(current_train_transfer_learning_distance)"
   ]
  },
  {
   "cell_type": "code",
   "execution_count": 12,
   "metadata": {},
   "outputs": [],
   "source": [
    "test_transfer_learning_distances = []\n",
    "\n",
    "file_list = os.listdir('../../../data/biological_trussart_uniform/test/distance_matrices/')\n",
    "\n",
    "for file_name in sorted(filter(lambda x: x.endswith('.txt'), file_list), key = last_4digits):\n",
    "    current_test_transfer_learning_distance = \\\n",
    "            np.loadtxt('../../../data/biological_trussart_uniform/test/distance_matrices/'\\\n",
    "                                                     + file_name, dtype='f', delimiter=' ')\n",
    "    test_transfer_learning_distances.append(current_test_transfer_learning_distance)"
   ]
  },
  {
   "cell_type": "code",
   "execution_count": 13,
   "metadata": {},
   "outputs": [],
   "source": [
    "is_training = True"
   ]
  },
  {
   "cell_type": "code",
   "execution_count": 14,
   "metadata": {},
   "outputs": [],
   "source": [
    "class VanillaDataset(InMemoryDataset):\n",
    "    def __init__(self, root, transform=None, pre_transform=None):\n",
    "        super(VanillaDataset, self).__init__(root, transform, pre_transform)\n",
    "        self.data, self.slices = torch.load(self.processed_paths[0])\n",
    "\n",
    "    @property\n",
    "    def raw_file_names(self):\n",
    "        return []\n",
    "    @property\n",
    "    def processed_file_names(self):\n",
    "        if is_training:\n",
    "            return ['synthetic_biological_trussart_linear_train_data.txt']\n",
    "        else:\n",
    "            return ['synthetic_biological_trussart_linear_test_data.txt']\n",
    "\n",
    "    def download(self):\n",
    "        pass\n",
    "        \n",
    "    def process(self):\n",
    "        \n",
    "        data_list = []\n",
    "        if is_training:\n",
    "            dataset_size = TRAIN_DATASET_SIZE\n",
    "        else:\n",
    "            dataset_size = TEST_DATASET_SIZE\n",
    "        \n",
    "        for i in tqdm(range(dataset_size)):\n",
    "            \n",
    "            if is_training:\n",
    "                transfer_learning_hic = train_transfer_learning_hics[i]\n",
    "                transfer_learning_structure = train_transfer_learning_structures[i]\n",
    "                transfer_learning_distance_matrix = train_transfer_learning_distances[i]\n",
    "            else:\n",
    "                transfer_learning_hic = test_transfer_learning_hics[i]\n",
    "                transfer_learning_structure = test_transfer_learning_structures[i]\n",
    "                transfer_learning_distance_matrix = test_transfer_learning_distances[i]\n",
    "               \n",
    "            hic_matrix = torch.FloatTensor(transfer_learning_hic)\n",
    "            structure_matrix = torch.FloatTensor(transfer_learning_structure)\n",
    "            distance_matrix = torch.FloatTensor(transfer_learning_distance_matrix)\n",
    "\n",
    "            data = Data(hic_matrix=hic_matrix, structure_matrix=structure_matrix, distance_matrix=distance_matrix)\n",
    "            data_list.append(data)\n",
    "            \n",
    "        data, slices = self.collate(data_list)\n",
    "        torch.save((data, slices), self.processed_paths[0])"
   ]
  },
  {
   "cell_type": "code",
   "execution_count": 15,
   "metadata": {},
   "outputs": [],
   "source": [
    "train_dataset = VanillaDataset('')\n",
    "train_dataset = train_dataset.shuffle()"
   ]
  },
  {
   "cell_type": "code",
   "execution_count": 16,
   "metadata": {},
   "outputs": [
    {
     "data": {
      "text/plain": [
       "800"
      ]
     },
     "execution_count": 16,
     "metadata": {},
     "output_type": "execute_result"
    }
   ],
   "source": [
    "train_size = len(train_dataset)\n",
    "train_size"
   ]
  },
  {
   "cell_type": "code",
   "execution_count": 17,
   "metadata": {},
   "outputs": [],
   "source": [
    "train_loader = DataLoader(train_dataset, batch_size=BATCH_SIZE)"
   ]
  },
  {
   "cell_type": "code",
   "execution_count": 18,
   "metadata": {},
   "outputs": [],
   "source": [
    "is_training = False"
   ]
  },
  {
   "cell_type": "code",
   "execution_count": 19,
   "metadata": {},
   "outputs": [],
   "source": [
    "test_dataset = VanillaDataset('')\n",
    "test_dataset = test_dataset.shuffle()"
   ]
  },
  {
   "cell_type": "code",
   "execution_count": 20,
   "metadata": {},
   "outputs": [
    {
     "data": {
      "text/plain": [
       "200"
      ]
     },
     "execution_count": 20,
     "metadata": {},
     "output_type": "execute_result"
    }
   ],
   "source": [
    "test_size = len(test_dataset)\n",
    "test_size"
   ]
  },
  {
   "cell_type": "code",
   "execution_count": 21,
   "metadata": {},
   "outputs": [],
   "source": [
    "test_loader = DataLoader(test_dataset, batch_size=BATCH_SIZE)"
   ]
  },
  {
   "cell_type": "code",
   "execution_count": 22,
   "metadata": {},
   "outputs": [],
   "source": [
    "class Net(torch.nn.Module):\n",
    "    def __init__(self):\n",
    "        super(Net, self).__init__()\n",
    "        \n",
    "        self.linear_encoder_layer_1 = torch.nn.Linear(NB_BINS, 100)\n",
    "        self.linear_encoder_layer_2 = torch.nn.Linear(100, 50)\n",
    "        self.linear_encoder_layer_3 = torch.nn.Linear(50, EMBEDDING_SIZE)\n",
    "        \n",
    "    def forward(self, x, is_training=False):\n",
    "        \n",
    "        x = torch.reshape(x, (BATCH_SIZE, NB_BINS, NB_BINS))\n",
    "        \n",
    "        z = self.linear_encoder_layer_1(x)\n",
    "        z = F.relu(z)\n",
    "        z = self.linear_encoder_layer_2(z)\n",
    "        z = F.relu(z)\n",
    "        z = self.linear_encoder_layer_3(z)\n",
    "        z = F.relu(z)\n",
    "        z = centralize_and_normalize_torch(z)\n",
    "        \n",
    "        w = torch.cdist(z, z, p=2)\n",
    "        \n",
    "        return z, w"
   ]
  },
  {
   "cell_type": "code",
   "execution_count": 23,
   "metadata": {},
   "outputs": [],
   "source": [
    "def centralize_torch(z):\n",
    "    return z - torch.repeat_interleave(torch.reshape(torch.mean(z, axis=1), (-1,1,EMBEDDING_SIZE)), NB_BINS, dim=1)"
   ]
  },
  {
   "cell_type": "code",
   "execution_count": 24,
   "metadata": {},
   "outputs": [],
   "source": [
    "def normalize_torch(z):\n",
    "    \n",
    "    norms = LAtorch.norm(z, 2, dim=2)\n",
    "    max_norms, _ = torch.max(norms, axis=1)\n",
    "    max_norms = torch.reshape(max_norms, (BATCH_SIZE,1,1))\n",
    "    max_norms = torch.repeat_interleave(max_norms, NB_BINS, dim=1)\n",
    "    max_norms = torch.repeat_interleave(max_norms, EMBEDDING_SIZE, dim=2)\n",
    "    max_norms[max_norms == 0] = 1\n",
    "    \n",
    "    return z / max_norms"
   ]
  },
  {
   "cell_type": "code",
   "execution_count": 25,
   "metadata": {},
   "outputs": [],
   "source": [
    "def centralize_and_normalize_torch(z):\n",
    "    \n",
    "    # Translate\n",
    "    z = centralize_torch(z)\n",
    "    \n",
    "    # Scale\n",
    "    z = normalize_torch(z)\n",
    "    \n",
    "    return z"
   ]
  },
  {
   "cell_type": "code",
   "execution_count": 26,
   "metadata": {},
   "outputs": [],
   "source": [
    "def centralize_numpy(z):\n",
    "    return z - np.mean(z, axis=0)"
   ]
  },
  {
   "cell_type": "code",
   "execution_count": 27,
   "metadata": {},
   "outputs": [],
   "source": [
    "def normalize_numpy(z):\n",
    "    \n",
    "    norm = LAnumpy.norm(z, 2, axis=1)\n",
    "    max_norm = np.max(norm, axis=0)\n",
    "    if max_norm == 0:\n",
    "        max_norm = 1\n",
    "    \n",
    "    return z / max_norm"
   ]
  },
  {
   "cell_type": "code",
   "execution_count": 28,
   "metadata": {},
   "outputs": [],
   "source": [
    "def centralize_and_normalize_numpy(z):\n",
    "    \n",
    "    # Translate\n",
    "    z = centralize_numpy(z)\n",
    "    \n",
    "    # Scale\n",
    "    z = normalize_numpy(z)\n",
    "    \n",
    "    return z"
   ]
  },
  {
   "cell_type": "code",
   "execution_count": 29,
   "metadata": {},
   "outputs": [],
   "source": [
    "def kabsch_superimposition_numpy(pred_structure, true_structure):\n",
    "    \n",
    "    # Centralize and normalize to unit ball\n",
    "    pred_structure_unit_ball = centralize_and_normalize_numpy(pred_structure)\n",
    "    true_structure_unit_ball = centralize_and_normalize_numpy(true_structure)\n",
    "    \n",
    "    # Rotation (solution for the constrained orthogonal Procrustes problem, subject to det(R) = 1)\n",
    "    m = np.matmul(np.transpose(true_structure_unit_ball), pred_structure_unit_ball)\n",
    "    u, s, vh = np.linalg.svd(m)\n",
    "    \n",
    "    d = np.sign(np.linalg.det(np.matmul(u, vh)))\n",
    "    a = np.eye(EMBEDDING_SIZE)\n",
    "    a[-1,-1] = d\n",
    "    \n",
    "    r = np.matmul(np.matmul(u, a), vh)\n",
    "    \n",
    "    pred_structure_unit_ball = np.transpose(np.matmul(r, np.transpose(pred_structure_unit_ball)))\n",
    "    \n",
    "    return pred_structure_unit_ball, true_structure_unit_ball"
   ]
  },
  {
   "cell_type": "code",
   "execution_count": 30,
   "metadata": {},
   "outputs": [],
   "source": [
    "def kabsch_distance_numpy(pred_structure, true_structure):\n",
    "    \n",
    "    pred_structure_unit_ball, true_structure_unit_ball = \\\n",
    "            kabsch_superimposition_numpy(pred_structure, true_structure)\n",
    "    \n",
    "    # Structure comparison\n",
    "    d = np.mean(np.sum(np.square(pred_structure_unit_ball - true_structure_unit_ball), axis=1))\n",
    "    \n",
    "    return d"
   ]
  },
  {
   "cell_type": "code",
   "execution_count": 31,
   "metadata": {},
   "outputs": [],
   "source": [
    "def compute_trussart_test_kabsch_loss():\n",
    "    \n",
    "    torch_trussart_hic = torch.FloatTensor(trussart_hic)\n",
    "    torch_trussart_hic = torch.reshape(torch_trussart_hic, (1, NB_BINS, NB_BINS))\n",
    "    torch_trussart_hic = torch.repeat_interleave(torch_trussart_hic, BATCH_SIZE, 0)\n",
    "    \n",
    "    trussart_pred_structure, _ = model(torch_trussart_hic)\n",
    "    trussart_pred_structure = trussart_pred_structure.detach().numpy()[0]\n",
    "    \n",
    "    kabsch_distances = []\n",
    "    for true_structure in trussart_structures:\n",
    "        kabsch_distances.append(kabsch_distance_numpy(trussart_pred_structure, true_structure))\n",
    "        \n",
    "    return np.mean(kabsch_distances)"
   ]
  },
  {
   "cell_type": "code",
   "execution_count": 32,
   "metadata": {},
   "outputs": [],
   "source": [
    "def biological_loss_fct(pred_structure, true_structure, pred_distance, true_distance):\n",
    "    \n",
    "    ####### Pairwise distances loss ########\n",
    "    \n",
    "    between_bin_distance = \\\n",
    "        torch.diagonal(pred_distance.reshape((BATCH_SIZE, NB_BINS, NB_BINS)), offset=1, dim1=1, dim2=2)\n",
    "    between_bin_distance_loss = torch.var(between_bin_distance)\n",
    "    \n",
    "    ######### Pairwise angles loss ##########\n",
    "    \n",
    "    pred_structure_vectors = (pred_structure - torch.roll(pred_structure, 1, dims=1))[:, 1:, :]\n",
    "    pred_structure_dot_products = \\\n",
    "        torch.matmul(pred_structure_vectors, torch.transpose(pred_structure_vectors, dim0=1, dim1=2))\n",
    "    pairwise_angles_loss = \\\n",
    "        torch.where(pred_structure_dot_products < 0, torch.ones((BATCH_SIZE, NB_BINS-1, NB_BINS-1))*0.1, \\\n",
    "                        torch.zeros((BATCH_SIZE, NB_BINS-1, NB_BINS-1)))\n",
    "    pairwise_angles_loss = torch.mean(pairwise_angles_loss)\n",
    "    \n",
    "    return between_bin_distance_loss + pairwise_angles_loss"
   ]
  },
  {
   "cell_type": "code",
   "execution_count": 33,
   "metadata": {},
   "outputs": [],
   "source": [
    "def kabsch_loss_fct(pred_structure, true_structure):\n",
    "    \n",
    "    # NOTE: the two input structures should already be centralized and normalized\n",
    "    \n",
    "    m = torch.matmul(torch.transpose(true_structure, 1, 2), pred_structure)\n",
    "    u, s, vh = torch.linalg.svd(m)\n",
    "    \n",
    "    d = torch.sign(torch.linalg.det(torch.matmul(u, vh)))\n",
    "    a = torch.eye(EMBEDDING_SIZE).reshape((1, EMBEDDING_SIZE, EMBEDDING_SIZE)).repeat_interleave(BATCH_SIZE, dim=0)\n",
    "    a[:,-1,-1] = d\n",
    "    \n",
    "    r = torch.matmul(torch.matmul(u, a), vh)\n",
    "    \n",
    "    pred_structure = torch.transpose(torch.matmul(r, torch.transpose(pred_structure, 1, 2)), 1, 2)\n",
    "    \n",
    "    return torch.mean(torch.sum(torch.square(pred_structure - true_structure), axis=2))"
   ]
  },
  {
   "cell_type": "code",
   "execution_count": 34,
   "metadata": {},
   "outputs": [],
   "source": [
    "distance_loss_fct = torch.nn.MSELoss()"
   ]
  },
  {
   "cell_type": "code",
   "execution_count": 35,
   "metadata": {},
   "outputs": [],
   "source": [
    "device = torch.device('cpu')\n",
    "model = Net().to(device)\n",
    "optimizer = torch.optim.Adam(model.parameters(), lr=0.001)"
   ]
  },
  {
   "cell_type": "code",
   "execution_count": 36,
   "metadata": {},
   "outputs": [],
   "source": [
    "def plot_grad_flow(named_parameters):\n",
    "    '''Plots the gradients flowing through different layers in the net during training.\n",
    "    Can be used for checking for possible gradient vanishing / exploding problems.\n",
    "    \n",
    "    Usage: Plug this function in Trainer class after loss.backwards() as \n",
    "    \"plot_grad_flow(self.model.named_parameters())\" to visualize the gradient flow'''\n",
    "    ave_grads = []\n",
    "    max_grads= []\n",
    "    layers = []\n",
    "    for n, p in named_parameters:\n",
    "        if(p.requires_grad) and (\"bias\" not in n):\n",
    "            layers.append(n)\n",
    "            ave_grads.append(p.grad.abs().mean())\n",
    "            max_grads.append(p.grad.abs().max())\n",
    "    plt.bar(np.arange(len(max_grads)), max_grads, alpha=0.1, lw=1, color=\"c\")\n",
    "    plt.bar(np.arange(len(max_grads)), ave_grads, alpha=0.1, lw=1, color=\"b\")\n",
    "    plt.hlines(0, 0, len(ave_grads)+1, lw=2, color=\"k\" )\n",
    "    plt.xticks(range(0,len(ave_grads), 1), layers, rotation=\"vertical\")\n",
    "    plt.xlim(left=0, right=len(ave_grads))\n",
    "    plt.ylim(bottom = -0.001, top=0.02) # zoom in on the lower gradient regions\n",
    "    plt.xlabel(\"Layers\")\n",
    "    plt.ylabel(\"average gradient\")\n",
    "    plt.title(\"Gradient flow\")\n",
    "    plt.grid(True)\n",
    "    plt.legend([matplotlib.lines.Line2D([0], [0], color=\"c\", lw=4),\n",
    "                matplotlib.lines.Line2D([0], [0], color=\"b\", lw=4),\n",
    "                matplotlib.lines.Line2D([0], [0], color=\"k\", lw=4)], \n",
    "               ['max-gradient', 'mean-gradient', 'zero-gradient'])"
   ]
  },
  {
   "cell_type": "code",
   "execution_count": 37,
   "metadata": {},
   "outputs": [],
   "source": [
    "def train():\n",
    "    model.train()\n",
    "\n",
    "    loss_all = 0\n",
    "    for data in train_loader:\n",
    "        data = data.to(device)\n",
    "        optimizer.zero_grad()\n",
    "        \n",
    "        pred_structure, pred_distance = model(data.hic_matrix)\n",
    "        \n",
    "        true_hic = data.hic_matrix.to(device)\n",
    "        \n",
    "        true_structure = data.structure_matrix.to(device)\n",
    "        true_structure = torch.reshape(true_structure, (BATCH_SIZE, NB_BINS, EMBEDDING_SIZE))\n",
    "        \n",
    "        pred_distance = torch.reshape(pred_distance, (BATCH_SIZE*NB_BINS, NB_BINS))\n",
    "        true_distance = data.distance_matrix.to(device)\n",
    "        \n",
    "        # Biological loss\n",
    "        biological_loss = biological_loss_fct(pred_structure, true_structure, pred_distance, true_distance)\n",
    "        \n",
    "        # Kabsch loss\n",
    "        kabsch_loss = kabsch_loss_fct(pred_structure, true_structure)\n",
    "        \n",
    "        # Distance loss \n",
    "        distance_loss = distance_loss_fct(pred_distance, true_distance)\n",
    "        \n",
    "        # Combine losses\n",
    "        loss = LAMBDA_BIOLOGICAL * biological_loss + LAMBDA_KABSCH * kabsch_loss + distance_loss\n",
    "        \n",
    "#         with torch.autograd.detect_anomaly():\n",
    "        loss.backward()\n",
    "        \n",
    "        loss_all += data.num_graphs * loss.item()\n",
    "        \n",
    "        # Plot grad flow\n",
    "#         plot_grad_flow(model.named_parameters())\n",
    "        \n",
    "        optimizer.step()\n",
    "    return loss_all / len(train_dataset)"
   ]
  },
  {
   "cell_type": "code",
   "execution_count": 38,
   "metadata": {},
   "outputs": [],
   "source": [
    "def evaluate(loader):\n",
    "    model.eval()\n",
    "\n",
    "    true_hics = []\n",
    "    \n",
    "    pred_structures = []\n",
    "    true_structures = []\n",
    "    \n",
    "    pred_distances = []\n",
    "    true_distances = []\n",
    "    \n",
    "    kabsch_losses = []\n",
    "    distance_losses = []\n",
    "    biological_losses = []\n",
    "\n",
    "    with torch.no_grad():\n",
    "        for data in loader:\n",
    "\n",
    "            data = data.to(device)\n",
    "            \n",
    "            pred_structure, pred_distance = model(data.hic_matrix)\n",
    "            \n",
    "            pred_structure = pred_structure.detach().cpu()\n",
    "            pred_distance = pred_distance.detach().cpu()\n",
    "            \n",
    "            pred_distance = torch.reshape(pred_distance, (BATCH_SIZE*NB_BINS, NB_BINS))\n",
    "            \n",
    "            true_hic = data.hic_matrix.detach().cpu()\n",
    "            true_structure = data.structure_matrix.detach().cpu()\n",
    "            true_distance = data.distance_matrix.detach().cpu()\n",
    "            \n",
    "            true_structure = torch.reshape(true_structure, (BATCH_SIZE, NB_BINS, EMBEDDING_SIZE))\n",
    "            \n",
    "            # Biological loss\n",
    "            biological_loss = \\\n",
    "                biological_loss_fct(pred_structure, true_structure, pred_distance, true_distance).numpy()\n",
    "            biological_losses.append(biological_loss)\n",
    "            \n",
    "            # Kabsch loss\n",
    "            kabsch_loss = kabsch_loss_fct(pred_structure, true_structure).numpy()\n",
    "            kabsch_losses.append(kabsch_loss)\n",
    "            \n",
    "            # Distance loss\n",
    "            distance_loss = distance_loss_fct(pred_distance, true_distance).numpy()\n",
    "            distance_losses.append(distance_loss)\n",
    "            \n",
    "            # To numpy\n",
    "            true_hic = true_hic.numpy()\n",
    "            \n",
    "            pred_structure = pred_structure.numpy()\n",
    "            true_structure = true_structure.numpy()\n",
    "            \n",
    "            pred_distance = pred_distance.numpy()\n",
    "            true_distance = true_distance.numpy()\n",
    "            \n",
    "            # Store results\n",
    "            true_hics.append(true_hic)\n",
    "            \n",
    "            pred_structures.append(pred_structure)\n",
    "            true_structures.append(true_structure)\n",
    "            \n",
    "            pred_distances.append(pred_distance)\n",
    "            true_distances.append(true_distance)\n",
    "    \n",
    "    # Format results\n",
    "    true_hics = np.vstack(true_hics)\n",
    "    \n",
    "    pred_structures = np.vstack(pred_structures)\n",
    "    true_structures = np.vstack(true_structures)\n",
    "    \n",
    "    pred_distances = np.vstack(pred_distances)\n",
    "    true_distances = np.vstack(true_distances)\n",
    "    \n",
    "    # Compute mean losses\n",
    "    mean_biological_loss = np.mean(np.asarray(biological_loss).flatten())\n",
    "    mean_kabsch_loss = np.mean(np.asarray(kabsch_losses).flatten())\n",
    "    mean_distance_loss = np.mean(np.asarray(distance_losses).flatten())\n",
    "    \n",
    "    return mean_biological_loss, mean_kabsch_loss, mean_distance_loss, true_hics, \\\n",
    "            pred_structures, true_structures, pred_distances, true_distances"
   ]
  },
  {
   "cell_type": "code",
   "execution_count": 39,
   "metadata": {},
   "outputs": [
    {
     "name": "stdout",
     "output_type": "stream",
     "text": [
      "E: 001, Tr B: 0.0529, Tr K: 0.1280, Tr D: 0.0461, Te B: 0.0536, Te K: 0.1236, Te D: 0.0440, Trus: 0.1530\n",
      "E: 002, Tr B: 0.0526, Tr K: 0.1138, Tr D: 0.0352, Te B: 0.0529, Te K: 0.1082, Te D: 0.0339, Trus: 0.1080\n",
      "E: 003, Tr B: 0.0525, Tr K: 0.1106, Tr D: 0.0334, Te B: 0.0529, Te K: 0.1059, Te D: 0.0328, Trus: 0.0926\n",
      "E: 004, Tr B: 0.0525, Tr K: 0.1041, Tr D: 0.0301, Te B: 0.0526, Te K: 0.0994, Te D: 0.0293, Trus: 0.0648\n",
      "E: 005, Tr B: 0.0525, Tr K: 0.1014, Tr D: 0.0274, Te B: 0.0523, Te K: 0.0960, Te D: 0.0265, Trus: 0.0577\n",
      "E: 006, Tr B: 0.0523, Tr K: 0.0990, Tr D: 0.0273, Te B: 0.0524, Te K: 0.0931, Te D: 0.0263, Trus: 0.0615\n",
      "E: 007, Tr B: 0.0521, Tr K: 0.0976, Tr D: 0.0268, Te B: 0.0523, Te K: 0.0928, Te D: 0.0261, Trus: 0.0498\n",
      "E: 008, Tr B: 0.0522, Tr K: 0.0979, Tr D: 0.0265, Te B: 0.0524, Te K: 0.0929, Te D: 0.0258, Trus: 0.0538\n",
      "E: 009, Tr B: 0.0521, Tr K: 0.0953, Tr D: 0.0257, Te B: 0.0525, Te K: 0.0912, Te D: 0.0252, Trus: 0.0577\n",
      "E: 010, Tr B: 0.0521, Tr K: 0.0950, Tr D: 0.0263, Te B: 0.0524, Te K: 0.0910, Te D: 0.0259, Trus: 0.0519\n",
      "E: 011, Tr B: 0.0522, Tr K: 0.0949, Tr D: 0.0248, Te B: 0.0525, Te K: 0.0910, Te D: 0.0243, Trus: 0.0548\n",
      "E: 012, Tr B: 0.0521, Tr K: 0.0929, Tr D: 0.0251, Te B: 0.0525, Te K: 0.0884, Te D: 0.0245, Trus: 0.0533\n",
      "E: 013, Tr B: 0.0520, Tr K: 0.0914, Tr D: 0.0241, Te B: 0.0524, Te K: 0.0867, Te D: 0.0236, Trus: 0.0548\n",
      "E: 014, Tr B: 0.0521, Tr K: 0.0910, Tr D: 0.0238, Te B: 0.0523, Te K: 0.0868, Te D: 0.0232, Trus: 0.0552\n",
      "E: 015, Tr B: 0.0521, Tr K: 0.0906, Tr D: 0.0238, Te B: 0.0523, Te K: 0.0869, Te D: 0.0231, Trus: 0.0559\n",
      "E: 016, Tr B: 0.0520, Tr K: 0.0897, Tr D: 0.0234, Te B: 0.0521, Te K: 0.0855, Te D: 0.0231, Trus: 0.0563\n",
      "E: 017, Tr B: 0.0520, Tr K: 0.0894, Tr D: 0.0245, Te B: 0.0522, Te K: 0.0852, Te D: 0.0239, Trus: 0.0521\n",
      "E: 018, Tr B: 0.0519, Tr K: 0.0889, Tr D: 0.0216, Te B: 0.0521, Te K: 0.0851, Te D: 0.0214, Trus: 0.0534\n",
      "E: 019, Tr B: 0.0519, Tr K: 0.0890, Tr D: 0.0229, Te B: 0.0521, Te K: 0.0852, Te D: 0.0225, Trus: 0.0526\n",
      "E: 020, Tr B: 0.0519, Tr K: 0.0868, Tr D: 0.0219, Te B: 0.0521, Te K: 0.0827, Te D: 0.0217, Trus: 0.0532\n",
      "E: 021, Tr B: 0.0519, Tr K: 0.0880, Tr D: 0.0222, Te B: 0.0522, Te K: 0.0840, Te D: 0.0221, Trus: 0.0509\n",
      "E: 022, Tr B: 0.0518, Tr K: 0.0882, Tr D: 0.0232, Te B: 0.0522, Te K: 0.0845, Te D: 0.0231, Trus: 0.0516\n",
      "E: 023, Tr B: 0.0517, Tr K: 0.0876, Tr D: 0.0225, Te B: 0.0522, Te K: 0.0835, Te D: 0.0221, Trus: 0.0457\n",
      "E: 024, Tr B: 0.0518, Tr K: 0.0859, Tr D: 0.0216, Te B: 0.0522, Te K: 0.0818, Te D: 0.0213, Trus: 0.0463\n",
      "E: 025, Tr B: 0.0517, Tr K: 0.0867, Tr D: 0.0211, Te B: 0.0520, Te K: 0.0831, Te D: 0.0208, Trus: 0.0422\n",
      "E: 026, Tr B: 0.0517, Tr K: 0.0871, Tr D: 0.0202, Te B: 0.0521, Te K: 0.0831, Te D: 0.0198, Trus: 0.0437\n",
      "E: 027, Tr B: 0.0517, Tr K: 0.0856, Tr D: 0.0195, Te B: 0.0520, Te K: 0.0818, Te D: 0.0194, Trus: 0.0477\n",
      "E: 028, Tr B: 0.0518, Tr K: 0.0856, Tr D: 0.0208, Te B: 0.0522, Te K: 0.0819, Te D: 0.0206, Trus: 0.0478\n",
      "E: 029, Tr B: 0.0518, Tr K: 0.0855, Tr D: 0.0198, Te B: 0.0521, Te K: 0.0816, Te D: 0.0198, Trus: 0.0469\n",
      "E: 030, Tr B: 0.0519, Tr K: 0.0860, Tr D: 0.0199, Te B: 0.0520, Te K: 0.0821, Te D: 0.0197, Trus: 0.0417\n",
      "E: 031, Tr B: 0.0518, Tr K: 0.0850, Tr D: 0.0193, Te B: 0.0520, Te K: 0.0810, Te D: 0.0193, Trus: 0.0467\n",
      "E: 032, Tr B: 0.0518, Tr K: 0.0843, Tr D: 0.0184, Te B: 0.0520, Te K: 0.0806, Te D: 0.0184, Trus: 0.0515\n",
      "E: 033, Tr B: 0.0517, Tr K: 0.0844, Tr D: 0.0183, Te B: 0.0521, Te K: 0.0805, Te D: 0.0182, Trus: 0.0527\n",
      "E: 034, Tr B: 0.0518, Tr K: 0.0840, Tr D: 0.0181, Te B: 0.0520, Te K: 0.0804, Te D: 0.0179, Trus: 0.0486\n",
      "E: 035, Tr B: 0.0516, Tr K: 0.0843, Tr D: 0.0181, Te B: 0.0520, Te K: 0.0809, Te D: 0.0180, Trus: 0.0475\n",
      "E: 036, Tr B: 0.0516, Tr K: 0.0844, Tr D: 0.0182, Te B: 0.0520, Te K: 0.0810, Te D: 0.0182, Trus: 0.0507\n",
      "E: 037, Tr B: 0.0517, Tr K: 0.0830, Tr D: 0.0178, Te B: 0.0520, Te K: 0.0797, Te D: 0.0176, Trus: 0.0519\n",
      "E: 038, Tr B: 0.0516, Tr K: 0.0837, Tr D: 0.0175, Te B: 0.0520, Te K: 0.0806, Te D: 0.0175, Trus: 0.0608\n",
      "E: 039, Tr B: 0.0517, Tr K: 0.0829, Tr D: 0.0179, Te B: 0.0519, Te K: 0.0799, Te D: 0.0180, Trus: 0.0595\n",
      "E: 040, Tr B: 0.0516, Tr K: 0.0830, Tr D: 0.0176, Te B: 0.0518, Te K: 0.0800, Te D: 0.0175, Trus: 0.0619\n",
      "E: 041, Tr B: 0.0516, Tr K: 0.0827, Tr D: 0.0172, Te B: 0.0520, Te K: 0.0798, Te D: 0.0172, Trus: 0.0517\n",
      "E: 042, Tr B: 0.0516, Tr K: 0.0832, Tr D: 0.0174, Te B: 0.0520, Te K: 0.0804, Te D: 0.0174, Trus: 0.0506\n",
      "E: 043, Tr B: 0.0517, Tr K: 0.0830, Tr D: 0.0171, Te B: 0.0519, Te K: 0.0795, Te D: 0.0171, Trus: 0.0502\n",
      "E: 044, Tr B: 0.0518, Tr K: 0.0820, Tr D: 0.0174, Te B: 0.0518, Te K: 0.0785, Te D: 0.0174, Trus: 0.0438\n",
      "E: 045, Tr B: 0.0516, Tr K: 0.0822, Tr D: 0.0169, Te B: 0.0519, Te K: 0.0791, Te D: 0.0169, Trus: 0.0465\n",
      "E: 046, Tr B: 0.0517, Tr K: 0.0821, Tr D: 0.0166, Te B: 0.0520, Te K: 0.0791, Te D: 0.0165, Trus: 0.0455\n",
      "E: 047, Tr B: 0.0516, Tr K: 0.0819, Tr D: 0.0168, Te B: 0.0518, Te K: 0.0787, Te D: 0.0169, Trus: 0.0429\n",
      "E: 048, Tr B: 0.0515, Tr K: 0.0824, Tr D: 0.0170, Te B: 0.0520, Te K: 0.0792, Te D: 0.0168, Trus: 0.0395\n",
      "E: 049, Tr B: 0.0516, Tr K: 0.0818, Tr D: 0.0173, Te B: 0.0518, Te K: 0.0787, Te D: 0.0171, Trus: 0.0459\n",
      "E: 050, Tr B: 0.0517, Tr K: 0.0818, Tr D: 0.0168, Te B: 0.0519, Te K: 0.0790, Te D: 0.0166, Trus: 0.0409\n",
      "E: 051, Tr B: 0.0514, Tr K: 0.0818, Tr D: 0.0166, Te B: 0.0518, Te K: 0.0788, Te D: 0.0166, Trus: 0.0452\n",
      "E: 052, Tr B: 0.0517, Tr K: 0.0837, Tr D: 0.0178, Te B: 0.0519, Te K: 0.0809, Te D: 0.0175, Trus: 0.0483\n",
      "E: 053, Tr B: 0.0515, Tr K: 0.0819, Tr D: 0.0169, Te B: 0.0519, Te K: 0.0789, Te D: 0.0170, Trus: 0.0447\n",
      "E: 054, Tr B: 0.0515, Tr K: 0.0819, Tr D: 0.0167, Te B: 0.0518, Te K: 0.0788, Te D: 0.0164, Trus: 0.0405\n",
      "E: 055, Tr B: 0.0516, Tr K: 0.0826, Tr D: 0.0173, Te B: 0.0518, Te K: 0.0801, Te D: 0.0173, Trus: 0.0398\n",
      "E: 056, Tr B: 0.0516, Tr K: 0.0834, Tr D: 0.0172, Te B: 0.0519, Te K: 0.0806, Te D: 0.0171, Trus: 0.0434\n",
      "E: 057, Tr B: 0.0515, Tr K: 0.0819, Tr D: 0.0173, Te B: 0.0519, Te K: 0.0790, Te D: 0.0172, Trus: 0.0406\n",
      "E: 058, Tr B: 0.0515, Tr K: 0.0816, Tr D: 0.0166, Te B: 0.0518, Te K: 0.0786, Te D: 0.0165, Trus: 0.0527\n",
      "E: 059, Tr B: 0.0514, Tr K: 0.0801, Tr D: 0.0168, Te B: 0.0517, Te K: 0.0770, Te D: 0.0170, Trus: 0.0487\n",
      "E: 060, Tr B: 0.0515, Tr K: 0.0812, Tr D: 0.0167, Te B: 0.0518, Te K: 0.0788, Te D: 0.0168, Trus: 0.0494\n",
      "E: 061, Tr B: 0.0515, Tr K: 0.0812, Tr D: 0.0169, Te B: 0.0518, Te K: 0.0781, Te D: 0.0165, Trus: 0.0462\n",
      "E: 062, Tr B: 0.0516, Tr K: 0.0809, Tr D: 0.0165, Te B: 0.0518, Te K: 0.0777, Te D: 0.0164, Trus: 0.0430\n",
      "E: 063, Tr B: 0.0515, Tr K: 0.0804, Tr D: 0.0165, Te B: 0.0519, Te K: 0.0773, Te D: 0.0163, Trus: 0.0451\n",
      "E: 064, Tr B: 0.0516, Tr K: 0.0807, Tr D: 0.0176, Te B: 0.0518, Te K: 0.0782, Te D: 0.0174, Trus: 0.0456\n",
      "E: 065, Tr B: 0.0515, Tr K: 0.0796, Tr D: 0.0170, Te B: 0.0518, Te K: 0.0764, Te D: 0.0167, Trus: 0.0440\n",
      "E: 066, Tr B: 0.0515, Tr K: 0.0801, Tr D: 0.0172, Te B: 0.0519, Te K: 0.0768, Te D: 0.0170, Trus: 0.0467\n",
      "E: 067, Tr B: 0.0515, Tr K: 0.0797, Tr D: 0.0176, Te B: 0.0518, Te K: 0.0762, Te D: 0.0173, Trus: 0.0432\n",
      "E: 068, Tr B: 0.0513, Tr K: 0.0792, Tr D: 0.0171, Te B: 0.0518, Te K: 0.0759, Te D: 0.0169, Trus: 0.0455\n",
      "E: 069, Tr B: 0.0514, Tr K: 0.0793, Tr D: 0.0166, Te B: 0.0518, Te K: 0.0763, Te D: 0.0164, Trus: 0.0421\n",
      "E: 070, Tr B: 0.0514, Tr K: 0.0801, Tr D: 0.0182, Te B: 0.0517, Te K: 0.0762, Te D: 0.0180, Trus: 0.0397\n",
      "E: 071, Tr B: 0.0515, Tr K: 0.0793, Tr D: 0.0183, Te B: 0.0519, Te K: 0.0762, Te D: 0.0179, Trus: 0.0465\n",
      "E: 072, Tr B: 0.0514, Tr K: 0.0786, Tr D: 0.0181, Te B: 0.0518, Te K: 0.0757, Te D: 0.0179, Trus: 0.0433\n",
      "E: 073, Tr B: 0.0514, Tr K: 0.0788, Tr D: 0.0169, Te B: 0.0518, Te K: 0.0754, Te D: 0.0169, Trus: 0.0450\n",
      "E: 074, Tr B: 0.0513, Tr K: 0.0792, Tr D: 0.0163, Te B: 0.0519, Te K: 0.0759, Te D: 0.0161, Trus: 0.0376\n",
      "E: 075, Tr B: 0.0514, Tr K: 0.0783, Tr D: 0.0165, Te B: 0.0516, Te K: 0.0750, Te D: 0.0164, Trus: 0.0424\n",
      "E: 076, Tr B: 0.0514, Tr K: 0.0789, Tr D: 0.0163, Te B: 0.0519, Te K: 0.0761, Te D: 0.0164, Trus: 0.0393\n",
      "E: 077, Tr B: 0.0514, Tr K: 0.0798, Tr D: 0.0168, Te B: 0.0518, Te K: 0.0767, Te D: 0.0168, Trus: 0.0446\n",
      "E: 078, Tr B: 0.0514, Tr K: 0.0792, Tr D: 0.0157, Te B: 0.0519, Te K: 0.0763, Te D: 0.0157, Trus: 0.0391\n",
      "E: 079, Tr B: 0.0514, Tr K: 0.0800, Tr D: 0.0157, Te B: 0.0518, Te K: 0.0768, Te D: 0.0157, Trus: 0.0444\n",
      "E: 080, Tr B: 0.0515, Tr K: 0.0790, Tr D: 0.0155, Te B: 0.0519, Te K: 0.0754, Te D: 0.0155, Trus: 0.0388\n",
      "E: 081, Tr B: 0.0514, Tr K: 0.0787, Tr D: 0.0155, Te B: 0.0518, Te K: 0.0755, Te D: 0.0155, Trus: 0.0443\n",
      "E: 082, Tr B: 0.0513, Tr K: 0.0787, Tr D: 0.0160, Te B: 0.0517, Te K: 0.0756, Te D: 0.0159, Trus: 0.0448\n",
      "E: 083, Tr B: 0.0513, Tr K: 0.0802, Tr D: 0.0160, Te B: 0.0518, Te K: 0.0772, Te D: 0.0158, Trus: 0.0443\n",
      "E: 084, Tr B: 0.0514, Tr K: 0.0795, Tr D: 0.0155, Te B: 0.0518, Te K: 0.0767, Te D: 0.0155, Trus: 0.0396\n",
      "E: 085, Tr B: 0.0514, Tr K: 0.0789, Tr D: 0.0155, Te B: 0.0519, Te K: 0.0758, Te D: 0.0155, Trus: 0.0449\n",
      "E: 086, Tr B: 0.0514, Tr K: 0.0788, Tr D: 0.0156, Te B: 0.0517, Te K: 0.0759, Te D: 0.0155, Trus: 0.0426\n",
      "E: 087, Tr B: 0.0515, Tr K: 0.0786, Tr D: 0.0157, Te B: 0.0518, Te K: 0.0751, Te D: 0.0156, Trus: 0.0469\n",
      "E: 088, Tr B: 0.0515, Tr K: 0.0803, Tr D: 0.0169, Te B: 0.0518, Te K: 0.0768, Te D: 0.0167, Trus: 0.0469\n",
      "E: 089, Tr B: 0.0514, Tr K: 0.0781, Tr D: 0.0160, Te B: 0.0516, Te K: 0.0749, Te D: 0.0160, Trus: 0.0479\n"
     ]
    }
   ],
   "source": [
    "train_biological_losses_all_epochs = []\n",
    "train_kabsch_losses_all_epochs = []\n",
    "train_distance_losses_all_epochs = []\n",
    "\n",
    "test_biological_losses_all_epochs = []\n",
    "test_kabsch_losses_all_epochs = []\n",
    "test_distance_losses_all_epochs = []\n",
    "\n",
    "losses = []\n",
    "\n",
    "trussart_test_kabsch_losses_all_epochs = []\n",
    "\n",
    "for epoch in range(1, NB_EPOCHS+1):\n",
    "    loss = train()\n",
    "    losses.append(loss)\n",
    "    \n",
    "    ### Training\n",
    "    train_mean_biological_loss, train_mean_kabsch_loss, train_mean_distance_loss, train_true_hics, \\\n",
    "        train_pred_structures, train_true_structures, train_pred_distances, \\\n",
    "            train_true_distances = evaluate(train_loader) \n",
    "    \n",
    "    # Store results\n",
    "    train_biological_losses_all_epochs.append(train_mean_biological_loss)\n",
    "    train_kabsch_losses_all_epochs.append(train_mean_kabsch_loss)    \n",
    "    train_distance_losses_all_epochs.append(train_mean_distance_loss)\n",
    "    \n",
    "    ### Testing\n",
    "    test_mean_biological_loss, test_mean_kabsch_loss, test_mean_distance_loss, test_true_hics, \\\n",
    "        test_pred_structures, test_true_structures, test_pred_distances, \\\n",
    "            test_true_distances = evaluate(test_loader) \n",
    "    \n",
    "    ### Trussart test\n",
    "    trussart_test_kabsch_loss = compute_trussart_test_kabsch_loss()\n",
    "    \n",
    "    # Store results\n",
    "    test_biological_losses_all_epochs.append(test_mean_biological_loss)\n",
    "    test_kabsch_losses_all_epochs.append(test_mean_kabsch_loss)    \n",
    "    test_distance_losses_all_epochs.append(test_mean_distance_loss)\n",
    "    \n",
    "    trussart_test_kabsch_losses_all_epochs.append(trussart_test_kabsch_loss)\n",
    "    \n",
    "    print('E: {:03d}, Tr B: {:.4f}, Tr K: {:.4f}, Tr D: {:.4f}, Te B: {:.4f}, Te K: {:.4f}, Te D: {:.4f}, Trus: {:.4f}'.format(\\\n",
    "        epoch, train_mean_biological_loss, train_mean_kabsch_loss, train_mean_distance_loss, \\\n",
    "            test_mean_biological_loss, test_mean_kabsch_loss, test_mean_distance_loss, trussart_test_kabsch_loss))"
   ]
  },
  {
   "cell_type": "code",
   "execution_count": 40,
   "metadata": {},
   "outputs": [
    {
     "data": {
      "text/plain": [
       "0.03759135800439335"
      ]
     },
     "execution_count": 40,
     "metadata": {},
     "output_type": "execute_result"
    }
   ],
   "source": [
    "np.min(trussart_test_kabsch_losses_all_epochs)"
   ]
  },
  {
   "cell_type": "code",
   "execution_count": 41,
   "metadata": {},
   "outputs": [
    {
     "data": {
      "image/png": "[encoded data removed]",
      "text/plain": [
       "<Figure size 640x480 with 1 Axes>"
      ]
     },
     "metadata": {},
     "output_type": "display_data"
    }
   ],
   "source": [
    "plt.plot(losses, label='Losses')\n",
    "plt.legend()\n",
    "\n",
    "plt.show()"
   ]
  },
  {
   "cell_type": "code",
   "execution_count": 42,
   "metadata": {},
   "outputs": [
    {
     "data": {
      "image/png": "[encoded data removed]",
      "text/plain": [
       "<Figure size 640x480 with 1 Axes>"
      ]
     },
     "metadata": {},
     "output_type": "display_data"
    }
   ],
   "source": [
    "plt.plot(train_biological_losses_all_epochs, label='Train Bio')\n",
    "plt.plot(test_biological_losses_all_epochs, label='Test Bio')\n",
    "\n",
    "plt.legend()\n",
    "plt.show()"
   ]
  },
  {
   "cell_type": "code",
   "execution_count": 43,
   "metadata": {},
   "outputs": [
    {
     "data": {
      "image/png": "[encoded data removed]",
      "text/plain": [
       "<Figure size 640x480 with 1 Axes>"
      ]
     },
     "metadata": {},
     "output_type": "display_data"
    }
   ],
   "source": [
    "plt.plot(train_kabsch_losses_all_epochs, label='Train Kabsch')\n",
    "plt.plot(test_kabsch_losses_all_epochs, label='Test Kabsch')\n",
    "\n",
    "plt.legend()\n",
    "plt.show()"
   ]
  },
  {
   "cell_type": "code",
   "execution_count": 44,
   "metadata": {},
   "outputs": [
    {
     "data": {
      "image/png": "[encoded data removed]",
      "text/plain": [
       "<Figure size 640x480 with 1 Axes>"
      ]
     },
     "metadata": {},
     "output_type": "display_data"
    }
   ],
   "source": [
    "plt.plot(train_distance_losses_all_epochs, label='Train Dist')\n",
    "plt.plot(test_distance_losses_all_epochs, label='Test Dist')\n",
    "\n",
    "plt.legend()\n",
    "plt.show()"
   ]
  },
  {
   "cell_type": "code",
   "execution_count": 45,
   "metadata": {},
   "outputs": [
    {
     "data": {
      "image/png": "[encoded data removed]",
      "text/plain": [
       "<Figure size 640x480 with 1 Axes>"
      ]
     },
     "metadata": {},
     "output_type": "display_data"
    }
   ],
   "source": [
    "plt.plot(trussart_test_kabsch_losses_all_epochs, label='Test Trussart Kabsch')\n",
    "\n",
    "plt.legend()\n",
    "plt.show()"
   ]
  },
  {
   "cell_type": "code",
   "execution_count": 46,
   "metadata": {},
   "outputs": [],
   "source": [
    "GRAPH_TESTED = 0"
   ]
  },
  {
   "cell_type": "code",
   "execution_count": 47,
   "metadata": {},
   "outputs": [
    {
     "data": {
      "image/png": "[encoded data removed]",
      "text/plain": [
       "<Figure size 1500x1500 with 2 Axes>"
      ]
     },
     "metadata": {},
     "output_type": "display_data"
    }
   ],
   "source": [
    "fig, axes = plt.subplots(1, 2, figsize=(15,15))\n",
    "\n",
    "ground_truth_matrix = test_true_distances[GRAPH_TESTED*NB_BINS:GRAPH_TESTED*NB_BINS+NB_BINS, :]\n",
    "axes[0].imshow(ground_truth_matrix, cmap='hot', interpolation='nearest')\n",
    "\n",
    "reconstruction_matrix = test_pred_distances[GRAPH_TESTED*NB_BINS:GRAPH_TESTED*NB_BINS+NB_BINS, :]\n",
    "axes[1].imshow(reconstruction_matrix, cmap='hot', interpolation='nearest')\n",
    "\n",
    "plt.show()"
   ]
  },
  {
   "cell_type": "code",
   "execution_count": 48,
   "metadata": {},
   "outputs": [
    {
     "data": {
      "application/vnd.plotly.v1+json": {
       "config": {
        "plotlyServerURL": "https://plot.ly"
       },
       "data": [
        {
         "line": {
          "color": "darkblue",
          "width": 2
         },
         "marker": {
          "color": [
           0,
           1,
           2,
           3,
           4,
           5,
           6,
           7,
           8,
           9,
           10,
           11,
           12,
           13,
           14,
           15,
           16,
           17,
           18,
           19,
           20,
           21,
           22,
           23,
           24,
           25,
           26,
           27,
           28,
           29,
           30,
           31,
           32,
           33,
           34,
           35,
           36,
           37,
           38,
           39,
           40,
           41,
           42,
           43,
           44,
           45,
           46,
           47,
           48,
           49,
           50,
           51,
           52,
           53,
           54,
           55,
           56,
           57,
           58,
           59,
           60,
           61,
           62,
           63,
           64,
           65,
           66,
           67,
           68,
           69,
           70,
           71,
           72,
           73,
           74,
           75,
           76,
           77,
           78,
           79,
           80,
           81,
           82,
           83,
           84,
           85,
           86,
           87,
           88,
           89,
           90,
           91,
           92,
           93,
           94,
           95,
           96,
           97,
           98,
           99,
           100,
           101,
           102,
           103,
           104,
           105,
           106,
           107,
           108,
           109,
           110,
           111,
           112,
           113,
           114,
           115,
           116,
           117,
           118,
           119,
           120,
           121,
           122,
           123,
           124,
           125,
           126,
           127,
           128,
           129,
           130,
           131,
           132,
           133,
           134,
           135,
           136,
           137,
           138,
           139,
           140,
           141,
           142,
           143,
           144,
           145,
           146,
           147,
           148,
           149,
           150,
           151,
           152,
           153,
           154,
           155,
           156,
           157,
           158,
           159,
           160,
           161,
           162,
           163,
           164,
           165,
           166,
           167,
           168,
           169,
           170,
           171,
           172,
           173,
           174,
           175,
           176,
           177,
           178,
           179,
           180,
           181,
           182,
           183,
           184,
           185,
           186,
           187,
           188,
           189,
           190,
           191,
           192,
           193,
           194,
           195,
           196,
           197,
           198,
           199,
           200,
           201
          ],
          "colorscale": [
           [
            0,
            "#440154"
           ],
           [
            0.1111111111111111,
            "#482878"
           ],
           [
            0.2222222222222222,
            "#3e4989"
           ],
           [
            0.3333333333333333,
            "#31688e"
           ],
           [
            0.4444444444444444,
            "#26828e"
           ],
           [
            0.5555555555555556,
            "#1f9e89"
           ],
           [
            0.6666666666666666,
            "#35b779"
           ],
           [
            0.7777777777777778,
            "#6ece58"
           ],
           [
            0.8888888888888888,
            "#b5de2b"
           ],
           [
            1,
            "#fde725"
           ]
          ],
          "size": 4
         },
         "scene": "scene",
         "type": "scatter3d",
         "x": [
          -0.2440069615840912,
          -0.24971476197242737,
          -0.22575637698173523,
          -0.15791219472885132,
          -0.08745020627975464,
          -0.049672577530145645,
          0.0048335217870771885,
          0.07794509828090668,
          0.16472990810871124,
          0.19864165782928467,
          0.21473927795886993,
          0.20827771723270416,
          0.14475859701633453,
          0.1551104038953781,
          0.1762247532606125,
          0.22440983355045319,
          0.30880722403526306,
          0.36295080184936523,
          0.4123528003692627,
          0.3459973633289337,
          0.37527990341186523,
          0.3458091616630554,
          0.27922630310058594,
          0.1936168223619461,
          0.19977793097496033,
          0.2006254345178604,
          0.14676856994628906,
          0.14506903290748596,
          0.2144513577222824,
          0.2916596233844757,
          0.3860745131969452,
          0.47437942028045654,
          0.506697416305542,
          0.5739186406135559,
          0.5790305137634277,
          0.5807982087135315,
          0.5265365839004517,
          0.526723325252533,
          0.5156735777854919,
          0.5548375248908997,
          0.6204276084899902,
          0.6039999723434448,
          0.6261360049247742,
          0.5974709391593933,
          0.5731455087661743,
          0.5110703110694885,
          0.4483693540096283,
          0.4527043402194977,
          0.4617798626422882,
          0.5348901152610779,
          0.5697596073150635,
          0.5401798486709595,
          0.5976337194442749,
          0.592781126499176,
          0.5699869394302368,
          0.5085241794586182,
          0.4386388659477234,
          0.41428476572036743,
          0.35188519954681396,
          0.30985668301582336,
          0.22810623049736023,
          0.18999913334846497,
          0.129010871052742,
          0.03734329715371132,
          -0.03208591416478157,
          -0.1267559975385666,
          -0.19279946386814117,
          -0.2609157860279083,
          -0.26877954602241516,
          -0.28324568271636963,
          -0.23603588342666626,
          -0.24178695678710938,
          -0.24487696588039398,
          -0.30190324783325195,
          -0.32476457953453064,
          -0.3164939880371094,
          -0.35793542861938477,
          -0.3601352870464325,
          -0.29100146889686584,
          -0.20453687012195587,
          -0.13703635334968567,
          -0.11197444051504135,
          -0.0772058442234993,
          -0.10006636381149292,
          -0.16155819594860077,
          -0.2164326161146164,
          -0.2933965027332306,
          -0.2784481644630432,
          -0.3106202781200409,
          -0.27931416034698486,
          -0.223647803068161,
          -0.14922212064266205,
          -0.09181984513998032,
          -0.036574676632881165,
          0.05599220097064972,
          0.11640752851963043,
          0.09570477157831192,
          0.021028202027082443,
          -0.06065317615866661,
          -0.13030554354190826,
          -0.20348311960697174,
          -0.2671099007129669,
          -0.3563912510871887,
          -0.37310904264450073,
          -0.33926478028297424,
          -0.2815711796283722,
          -0.20161055028438568,
          -0.16136164963245392,
          -0.07828834652900696,
          -0.021052978932857513,
          0.06852812319993973,
          0.06896185129880905,
          0.11924310028553009,
          0.10204870253801346,
          0.1236826702952385,
          0.10976966470479965,
          0.07247344404459,
          -0.015056595206260681,
          -0.09458232671022415,
          -0.16535194218158722,
          -0.23915058374404907,
          -0.33015719056129456,
          -0.3898787498474121,
          -0.37859952449798584,
          -0.3249819278717041,
          -0.3202285170555115,
          -0.2969417870044708,
          -0.22935791313648224,
          -0.21614058315753937,
          -0.25661301612854004,
          -0.24895864725112915,
          -0.25039032101631165,
          -0.27420639991760254,
          -0.27032002806663513,
          -0.25228187441825867,
          -0.20092879235744476,
          -0.18835845589637756,
          -0.12387977540493011,
          -0.12169896811246872,
          -0.15629711747169495,
          -0.196954607963562,
          -0.15700657665729523,
          -0.10517062246799469,
          -0.034681688994169235,
          0.05168091133236885,
          0.09526681900024414,
          0.0730351135134697,
          0.01673946902155876,
          -0.018497390672564507,
          -0.025971433147788048,
          0.030683284625411034,
          -0.01165764220058918,
          -0.0976959764957428,
          -0.15843847393989563,
          -0.23933444917201996,
          -0.2876540720462799,
          -0.2660023868083954,
          -0.18561077117919922,
          -0.09532317519187927,
          -0.014288298785686493,
          0.05981160327792168,
          0.05161355808377266,
          0.06261870265007019,
          0.00042777517228387296,
          -0.07212924212217331,
          -0.09554090350866318,
          -0.15002486109733582,
          -0.12774935364723206,
          -0.13923941552639008,
          -0.07722966372966766,
          -0.0008640228770673275,
          0.012974477373063564,
          0.053210169076919556,
          -0.022424474358558655,
          -0.027131035923957825,
          -0.06741970777511597,
          -0.08915457874536514,
          -0.058439891785383224,
          -0.0292416550219059,
          -0.06148373708128929,
          -0.08647967129945755,
          -0.07845959067344666,
          -0.003578397212550044,
          -0.0011906226864084601,
          -0.04533222317695618,
          -0.08749114722013474,
          -0.14504940807819366,
          -0.24008841812610626,
          -0.30643126368522644,
          -0.36314743757247925,
          -0.3419414758682251,
          -0.3178386688232422,
          -0.2596273720264435,
          -0.1952095478773117,
          -0.20859575271606445,
          -0.23549069464206696,
          -0.2040622979402542,
          -0.23113591969013214,
          -0.29467952251434326,
          -0.30961355566978455,
          -0.3635134696960449,
          -0.4108564853668213
         ],
         "y": [
          0.19168901443481445,
          0.17784342169761658,
          0.11383163183927536,
          0.048972681164741516,
          0.002955951262265444,
          0.020369021221995354,
          0.08392370492219925,
          0.14576272666454315,
          0.13743016123771667,
          0.14299708604812622,
          0.07577991485595703,
          0.07723163813352585,
          0.03103642538189888,
          -0.037103645503520966,
          -0.08922620862722397,
          -0.16981756687164307,
          -0.19968628883361816,
          -0.2695968747138977,
          -0.3356565833091736,
          -0.3655443489551544,
          -0.41215047240257263,
          -0.48940134048461914,
          -0.5527621507644653,
          -0.513069748878479,
          -0.45653036236763,
          -0.3691910207271576,
          -0.2986518442630768,
          -0.3036558926105499,
          -0.33513426780700684,
          -0.3516119420528412,
          -0.3491452932357788,
          -0.3536005914211273,
          -0.4053707420825958,
          -0.3438405692577362,
          -0.25534161925315857,
          -0.1605498492717743,
          -0.09760908037424088,
          -0.09711191058158875,
          -0.10093432664871216,
          -0.16686198115348816,
          -0.22231478989124298,
          -0.2461048662662506,
          -0.25964006781578064,
          -0.3410291075706482,
          -0.40355730056762695,
          -0.4249676465988159,
          -0.496275931596756,
          -0.5093390345573425,
          -0.4548754096031189,
          -0.4062129259109497,
          -0.4153105914592743,
          -0.46503451466560364,
          -0.5043685436248779,
          -0.5523815155029297,
          -0.5359948873519897,
          -0.46932268142700195,
          -0.4127455949783325,
          -0.3268297612667084,
          -0.2617104649543762,
          -0.17875945568084717,
          -0.12883979082107544,
          -0.041631948202848434,
          0.025690004229545593,
          0.05242491513490677,
          0.024578075855970383,
          0.03009289875626564,
          -0.015888812020421028,
          0.008846122771501541,
          0.0837835967540741,
          0.11358384042978287,
          0.1183944121003151,
          0.09398678690195084,
          0.041646040976047516,
          -0.017940081655979156,
          -0.018910428509116173,
          -0.010914173908531666,
          0.023710360750555992,
          0.08176519721746445,
          0.09060442447662354,
          0.11161601543426514,
          0.17798878252506256,
          0.2688015401363373,
          0.34935644268989563,
          0.37702298164367676,
          0.4418562948703766,
          0.4726296663284302,
          0.41646188497543335,
          0.34279561042785645,
          0.3685038387775421,
          0.34201085567474365,
          0.27143606543540955,
          0.25053998827934265,
          0.1746625006198883,
          0.1304401159286499,
          0.11198494583368301,
          0.12997430562973022,
          0.22345413267612457,
          0.28053200244903564,
          0.24367111921310425,
          0.1990673542022705,
          0.23769953846931458,
          0.2610713839530945,
          0.29265904426574707,
          0.2828039824962616,
          0.24332955479621887,
          0.23819565773010254,
          0.23982208967208862,
          0.2046283781528473,
          0.15772299468517303,
          0.08740154653787613,
          0.09057274460792542,
          0.15512730181217194,
          0.22206750512123108,
          0.29730960726737976,
          0.3767125904560089,
          0.46901029348373413,
          0.5556067228317261,
          0.5917201638221741,
          0.5631625652313232,
          0.5102400779724121,
          0.46377110481262207,
          0.44843170046806335,
          0.4066081643104553,
          0.35230085253715515,
          0.3039388954639435,
          0.2236996442079544,
          0.16670410335063934,
          0.10180105268955231,
          0.007012738846242428,
          -0.06558385491371155,
          -0.1524801105260849,
          -0.24718734622001648,
          -0.31383687257766724,
          -0.3376167118549347,
          -0.41265368461608887,
          -0.4489835500717163,
          -0.4502987265586853,
          -0.4129818081855774,
          -0.36640822887420654,
          -0.2797297239303589,
          -0.19352737069129944,
          -0.10657953470945358,
          -0.026130078360438347,
          -0.007916344329714775,
          0.03119245171546936,
          0.046226102858781815,
          0.018266014754772186,
          -0.010814464651048183,
          0.04309159517288208,
          0.13302023708820343,
          0.13432294130325317,
          0.07061763852834702,
          0.03192177414894104,
          -0.04196920618414879,
          0.005630670115351677,
          0.07692421227693558,
          0.08470948040485382,
          0.06920666992664337,
          0.07057812809944153,
          0.11536835134029388,
          0.08394233882427216,
          0.02258063293993473,
          -0.06783013045787811,
          -0.11240260303020477,
          -0.06336569041013718,
          -0.012137558311223984,
          0.06458688527345657,
          0.14464308321475983,
          0.21618115901947021,
          0.2890602946281433,
          0.23177997767925262,
          0.15140609443187714,
          0.07697570323944092,
          0.03850044682621956,
          -0.05636913701891899,
          -0.1287575662136078,
          -0.19284862279891968,
          -0.20727597177028656,
          -0.11712976545095444,
          -0.027508631348609924,
          0.030790813267230988,
          0.12545736134052277,
          0.18226851522922516,
          0.24982790648937225,
          0.33323171734809875,
          0.4071089029312134,
          0.4815329313278198,
          0.49291151762008667,
          0.4250892996788025,
          0.3532954454421997,
          0.259931743144989,
          0.1742154061794281,
          0.12632441520690918,
          0.05542750284075737,
          -0.03351946175098419,
          -0.11432790756225586,
          -0.16092632710933685,
          -0.2481435090303421,
          -0.2774522602558136,
          -0.2387569099664688,
          -0.18637356162071228,
          -0.10313349217176437
         ],
         "z": [
          -0.17582425475120544,
          -0.27045732736587524,
          -0.33760035037994385,
          -0.3568403720855713,
          -0.4026362895965576,
          -0.48894578218460083,
          -0.5355245471000671,
          -0.5387386083602905,
          -0.4990062713623047,
          -0.4095708131790161,
          -0.34322014451026917,
          -0.247638538479805,
          -0.19276580214500427,
          -0.12621155381202698,
          -0.048641469329595566,
          -0.029590830206871033,
          0.004535940010100603,
          0.04142335429787636,
          -0.007313198409974575,
          -0.06962992250919342,
          -0.14805249869823456,
          -0.19646191596984863,
          -0.1694096028804779,
          -0.1528196632862091,
          -0.07571560889482498,
          -0.03633521497249603,
          -0.000233115439186804,
          0.09543175250291824,
          0.15352565050125122,
          0.09923876821994781,
          0.08313163369894028,
          0.12003817409276962,
          0.19389678537845612,
          0.22347790002822876,
          0.18712542951107025,
          0.17330187559127808,
          0.1256171613931656,
          0.029807906597852707,
          -0.06528672575950623,
          -0.12272732704877853,
          -0.08026992529630661,
          0.011074814945459366,
          0.10330545157194138,
          0.14494477212429047,
          0.07654746621847153,
          0.006776688154786825,
          -0.006006778217852116,
          -0.10082376003265381,
          -0.17912475764751434,
          -0.2174203097820282,
          -0.30619558691978455,
          -0.38256487250328064,
          -0.44837960600852966,
          -0.5311497449874878,
          -0.6227554678916931,
          -0.6536883115768433,
          -0.6867756843566895,
          -0.652061939239502,
          -0.6843956708908081,
          -0.7074701189994812,
          -0.709612250328064,
          -0.7206727862358093,
          -0.7511339783668518,
          -0.7432602643966675,
          -0.6833950877189636,
          -0.6970647573471069,
          -0.6450682282447815,
          -0.5823940634727478,
          -0.5232144594192505,
          -0.43331244587898254,
          -0.35007911920547485,
          -0.2576080858707428,
          -0.1774170994758606,
          -0.12866061925888062,
          -0.035622380673885345,
          0.059495195746421814,
          0.13863711059093475,
          0.21482433378696442,
          0.28056684136390686,
          0.31609266996383667,
          0.33085861802101135,
          0.3483124375343323,
          0.30981898307800293,
          0.22098399698734283,
          0.18641388416290283,
          0.11415398120880127,
          0.10408245027065277,
          0.16349223256111145,
          0.25000080466270447,
          0.33659034967422485,
          0.36975884437561035,
          0.3131561279296875,
          0.3244379758834839,
          0.3890293836593628,
          0.40547552704811096,
          0.477628618478775,
          0.48118025064468384,
          0.49976035952568054,
          0.5336591005325317,
          0.5820196866989136,
          0.630313515663147,
          0.5626002550125122,
          0.5480828881263733,
          0.4542580842971802,
          0.37378427386283875,
          0.297463983297348,
          0.3502214848995209,
          0.4297269582748413,
          0.43858179450035095,
          0.40761885046958923,
          0.3737829923629761,
          0.3029859662055969,
          0.2563973069190979,
          0.19962874054908752,
          0.15056927502155304,
          0.12895312905311584,
          0.11193108558654785,
          0.12656007707118988,
          0.17172440886497498,
          0.13470326364040375,
          0.09502843022346497,
          0.069295234978199,
          0.007135577499866486,
          -0.07098735868930817,
          -0.13396328687667847,
          -0.18610502779483795,
          -0.25951439142227173,
          -0.2795071005821228,
          -0.28399866819381714,
          -0.23633931577205658,
          -0.19671423733234406,
          -0.21114285290241241,
          -0.14656472206115723,
          -0.05383333936333656,
          0.002944953739643097,
          0.07521320879459381,
          0.17018663883209229,
          0.23043318092823029,
          0.31413406133651733,
          0.33580201864242554,
          0.3260132372379303,
          0.32112208008766174,
          0.316581666469574,
          0.2542979121208191,
          0.240452378988266,
          0.15646454691886902,
          0.06756190210580826,
          -0.004304792732000351,
          -0.07524276524782181,
          -0.10744020342826843,
          -0.18469460308551788,
          -0.24238842725753784,
          -0.22566328942775726,
          -0.23115582764148712,
          -0.2119259089231491,
          -0.16994807124137878,
          -0.07694113254547119,
          -0.02717619389295578,
          0.004854514729231596,
          -0.019780410453677177,
          0.03219367936253548,
          0.10531842708587646,
          0.13505858182907104,
          0.07739334553480148,
          0.0385274812579155,
          -0.03897909075021744,
          -0.056994471698999405,
          -0.10468623042106628,
          -0.16737577319145203,
          -0.17218373715877533,
          -0.18036584556102753,
          -0.1300843507051468,
          -0.08512987941503525,
          -0.04064672067761421,
          -0.028104539960622787,
          0.02002480998635292,
          0.08784536272287369,
          0.17744533717632294,
          0.19161638617515564,
          0.1812146008014679,
          0.25302040576934814,
          0.26541468501091003,
          0.24684065580368042,
          0.17894570529460907,
          0.16236214339733124,
          0.11826586723327637,
          0.13637137413024902,
          0.13215093314647675,
          0.1455102562904358,
          0.173946350812912,
          0.1775825321674347,
          0.1422065943479538,
          0.08306614309549332,
          0.0849815234541893,
          0.051982391625642776,
          0.09587262570858002,
          0.17346476018428802,
          0.20244543254375458,
          0.2678893208503723,
          0.354256808757782,
          0.41367465257644653,
          0.41674453020095825
         ]
        },
        {
         "line": {
          "color": "darkblue",
          "width": 2
         },
         "marker": {
          "color": [
           0,
           1,
           2,
           3,
           4,
           5,
           6,
           7,
           8,
           9,
           10,
           11,
           12,
           13,
           14,
           15,
           16,
           17,
           18,
           19,
           20,
           21,
           22,
           23,
           24,
           25,
           26,
           27,
           28,
           29,
           30,
           31,
           32,
           33,
           34,
           35,
           36,
           37,
           38,
           39,
           40,
           41,
           42,
           43,
           44,
           45,
           46,
           47,
           48,
           49,
           50,
           51,
           52,
           53,
           54,
           55,
           56,
           57,
           58,
           59,
           60,
           61,
           62,
           63,
           64,
           65,
           66,
           67,
           68,
           69,
           70,
           71,
           72,
           73,
           74,
           75,
           76,
           77,
           78,
           79,
           80,
           81,
           82,
           83,
           84,
           85,
           86,
           87,
           88,
           89,
           90,
           91,
           92,
           93,
           94,
           95,
           96,
           97,
           98,
           99,
           100,
           101,
           102,
           103,
           104,
           105,
           106,
           107,
           108,
           109,
           110,
           111,
           112,
           113,
           114,
           115,
           116,
           117,
           118,
           119,
           120,
           121,
           122,
           123,
           124,
           125,
           126,
           127,
           128,
           129,
           130,
           131,
           132,
           133,
           134,
           135,
           136,
           137,
           138,
           139,
           140,
           141,
           142,
           143,
           144,
           145,
           146,
           147,
           148,
           149,
           150,
           151,
           152,
           153,
           154,
           155,
           156,
           157,
           158,
           159,
           160,
           161,
           162,
           163,
           164,
           165,
           166,
           167,
           168,
           169,
           170,
           171,
           172,
           173,
           174,
           175,
           176,
           177,
           178,
           179,
           180,
           181,
           182,
           183,
           184,
           185,
           186,
           187,
           188,
           189,
           190,
           191,
           192,
           193,
           194,
           195,
           196,
           197,
           198,
           199,
           200,
           201
          ],
          "colorscale": [
           [
            0,
            "#440154"
           ],
           [
            0.1111111111111111,
            "#482878"
           ],
           [
            0.2222222222222222,
            "#3e4989"
           ],
           [
            0.3333333333333333,
            "#31688e"
           ],
           [
            0.4444444444444444,
            "#26828e"
           ],
           [
            0.5555555555555556,
            "#1f9e89"
           ],
           [
            0.6666666666666666,
            "#35b779"
           ],
           [
            0.7777777777777778,
            "#6ece58"
           ],
           [
            0.8888888888888888,
            "#b5de2b"
           ],
           [
            1,
            "#fde725"
           ]
          ],
          "size": 4
         },
         "scene": "scene2",
         "type": "scatter3d",
         "x": [
          -0.33206681417050066,
          -0.2637956857122458,
          -0.19288776682113473,
          -0.1238799110742602,
          -0.11512430282170534,
          -0.10472353555501121,
          -0.024055068982084888,
          0.039231588368747135,
          0.10713192717238604,
          0.05396281471948832,
          0.051392522199905324,
          0.06343618335596111,
          -0.024987085760941868,
          0.024494851972720163,
          0.06876975694373196,
          0.21672381131553234,
          0.3218668794267667,
          0.43890428388399977,
          0.5892702736669729,
          0.5109485655088801,
          0.5730531129392281,
          0.5864470551409929,
          0.5387898504911466,
          0.449876082376602,
          0.3685993416919311,
          0.2531439144412233,
          0.1828115366911767,
          0.13650948259074566,
          0.23769322207237176,
          0.34699823737285257,
          0.5400291516924057,
          0.7581027539925352,
          0.621515260187634,
          0.6490106573198544,
          0.6673140756256954,
          0.6991104516969607,
          0.6673555531411147,
          0.629840887663622,
          0.6605009266962459,
          0.6589237845183766,
          0.6996935410833688,
          0.7107985529318555,
          0.6927693033765634,
          0.6966896792604397,
          0.6953560638564008,
          0.6692582355239711,
          0.6337514665462977,
          0.6614356320104782,
          0.6624899843440891,
          0.7143550787926329,
          0.6264309885984888,
          0.5844397432509126,
          0.5593430892203406,
          0.49488806279650793,
          0.48801112853801515,
          0.5663806269224864,
          0.4833553984248172,
          0.43242502767267793,
          0.4069657267566312,
          0.3714656970226585,
          0.3546959769862984,
          0.22050638564876313,
          0.16237538695909773,
          0.12241431142036684,
          0.18831209003562632,
          0.15037762112790334,
          0.16773497736808538,
          0.12068376035180065,
          0.004440549375841296,
          -0.14206823412634817,
          -0.22277604195883915,
          -0.2505246081825684,
          -0.22513918812831046,
          -0.2690880108844723,
          -0.33894284762346283,
          -0.34226593513904646,
          -0.32179522165373403,
          -0.2535699884975882,
          -0.27215088628762857,
          -0.2501759823549079,
          -0.19352750948351105,
          -0.13084791450466127,
          -0.10044857915418287,
          -0.13572440823401108,
          -0.1826040899175457,
          -0.21554044687372795,
          -0.24743260769027045,
          -0.22067638338139267,
          -0.2002093325928514,
          -0.19322701649708302,
          -0.17695632116127635,
          -0.17266096474980117,
          -0.19852943891765895,
          -0.1862670431026131,
          -0.06878463993647278,
          0.02414117533436642,
          0.002541460648809063,
          -0.019078860684530623,
          -0.06364455509855706,
          -0.08626748364906121,
          -0.039986393930994346,
          -0.13396972682549818,
          -0.17712705576476126,
          -0.17227462166053611,
          -0.2125531153392494,
          -0.21984842694908394,
          -0.18784037784385835,
          -0.21020152331037126,
          -0.1520530580886753,
          -0.1696763570200245,
          -0.04699396716431913,
          -0.03160890729683344,
          0.02266792570852403,
          -0.035012836588961975,
          0.05542719174166428,
          0.08194969084779305,
          0.07757973497462176,
          0.03487816685293098,
          -0.07119273576073012,
          -0.1707063142017398,
          -0.20472430187622492,
          -0.20733153328473333,
          -0.07677528389475755,
          -0.1962917736110541,
          -0.2820746620283154,
          -0.33395492747612343,
          -0.2916297219021723,
          -0.22131454228791503,
          -0.13833403795846347,
          -0.14326987071630173,
          -0.11522937129961994,
          -0.06628231053486541,
          -0.14106861484436506,
          -0.19173573873170294,
          -0.15263529677363577,
          -0.053608549742443466,
          -0.0386438084338824,
          -0.05210416373065742,
          -0.10801474043446568,
          -0.24103487034310161,
          -0.36234508536740695,
          -0.3630082876722701,
          -0.3033345310569685,
          -0.23367483809990247,
          -0.1330674153468089,
          -0.14534544131183236,
          -0.17660565758414146,
          -0.1939287659799263,
          -0.2046279189141001,
          -0.20636277460905378,
          -0.189530293207649,
          -0.17859438891461543,
          -0.1785339223657887,
          -0.1728316566573326,
          -0.20857116934314576,
          -0.273311133941062,
          -0.27466131331215166,
          -0.2822623678982139,
          -0.26665363125576336,
          -0.21946415120398524,
          -0.1728111542298525,
          -0.190089078918006,
          -0.1414730081029961,
          -0.17271603659181403,
          -0.23738218247152085,
          -0.22791464278802342,
          -0.26511992135338236,
          -0.2446743735548259,
          -0.27250107592841244,
          -0.28521901893931667,
          -0.2511301733233893,
          -0.1840351823180589,
          -0.1640651845706632,
          -0.20769318194519057,
          -0.1740637878600297,
          -0.17508616803106558,
          -0.19066298684702107,
          -0.19166237084799603,
          -0.22880658317727967,
          -0.2654347907257717,
          -0.2660933091323703,
          -0.17358878337838235,
          -0.13699012967753596,
          -0.142594819430247,
          -0.1481015761819112,
          -0.12669210740904574,
          -0.1762710605954423,
          -0.24629868451490672,
          -0.2551055338438597,
          -0.195720063356429,
          -0.20083713533872471,
          -0.21841390106950265,
          -0.2905449755049482,
          -0.3181920555581263,
          -0.34070335221097625,
          -0.3704319117753594,
          -0.3358061002968033,
          -0.3477124608909411,
          -0.33085934041056936,
          -0.27788382637030085,
          -0.23767591735114943,
          -0.25746146960840616
         ],
         "y": [
          0.12680527972811725,
          0.10863323224561713,
          0.10692635394506697,
          0.036682101580873934,
          -0.07921429283171824,
          -0.0926918700846388,
          -0.0628774556108451,
          -0.06286313708690279,
          -0.18814199840306783,
          -0.2563100749192513,
          -0.2714933612742036,
          -0.24091640650965018,
          -0.25853930341552117,
          -0.25717771243313753,
          -0.2581583031959698,
          -0.2683438925806742,
          -0.2580764830188983,
          -0.30447899706035153,
          -0.33656167379809004,
          -0.35793622754734566,
          -0.3326457312869903,
          -0.3755080263569687,
          -0.37170696933468783,
          -0.36544170445118884,
          -0.37533114496610676,
          -0.3583274666307362,
          -0.33051707426751187,
          -0.3417154184679708,
          -0.31650115472108303,
          -0.3459146433546008,
          -0.30049621611992344,
          -0.3119610556166355,
          -0.3961004777858811,
          -0.42616118258208596,
          -0.3597534216438424,
          -0.293525844327018,
          -0.20494672142800457,
          -0.22434503922601698,
          -0.21272135886751545,
          -0.2726677964445953,
          -0.35592028728453434,
          -0.3609959176653268,
          -0.39941690341850294,
          -0.3994989973897486,
          -0.39517379736991143,
          -0.3686021464231346,
          -0.402147822811425,
          -0.3576749237675597,
          -0.3663955393922147,
          -0.300498252674473,
          -0.3531575771536395,
          -0.3477664923023782,
          -0.42141805618385253,
          -0.3849159095372785,
          -0.3355377309971812,
          -0.30793547310172575,
          -0.22126774098401158,
          -0.20398832776632872,
          -0.16912468106284687,
          -0.14850537098457892,
          -0.13656508656581365,
          -0.10051718598853672,
          -0.07342290611772626,
          -0.025811788359432083,
          0.0779168520541002,
          0.1672217044037621,
          0.16745846180040105,
          0.198324095825803,
          0.18885749089109058,
          0.09827506463896075,
          0.1395673557888839,
          0.0717485195257173,
          -0.01189609810721042,
          0.060179475487878574,
          0.06918755315525518,
          0.08701810442251273,
          0.16564106328329356,
          0.22467052683295638,
          0.20759723712502642,
          0.2577978289612284,
          0.240057933016429,
          0.3089977113285548,
          0.3318198945007863,
          0.3178577694642802,
          0.4103935618631626,
          0.41016795825609514,
          0.4115453298650082,
          0.34445596134053125,
          0.41518709701792206,
          0.4215831706000568,
          0.3710928812659264,
          0.2722441449451565,
          0.2155638982660629,
          0.22664065489515614,
          0.2412445156712216,
          0.3175448954945634,
          0.34898670115468766,
          0.42748286789092704,
          0.4477624439874521,
          0.4765882435843591,
          0.6460263378675736,
          0.6285619330239557,
          0.6387744650616688,
          0.5660461957853512,
          0.45606580795506574,
          0.33852110361918364,
          0.31859994634618904,
          0.36962160294750374,
          0.2963273467185448,
          0.24493465080529842,
          0.17770201254268686,
          0.13049030373746187,
          0.16212434415534893,
          0.18140497678016376,
          0.23575333191061987,
          0.3305158930590567,
          0.4027363409076543,
          0.39682061881149894,
          0.42452022600790507,
          0.43225425171681775,
          0.4305032586004029,
          0.4116874413409761,
          0.40525510108601037,
          0.24472615590716296,
          0.2143971180128128,
          0.21615272506294667,
          0.20850739512018948,
          0.07354073587754402,
          0.01996548607452104,
          0.04446074814619897,
          0.00028176439753736365,
          -0.07789813519014967,
          -0.15060244084442434,
          -0.25286517795695507,
          -0.4243980374181359,
          -0.49172964272584924,
          -0.4387909522252239,
          -0.39482548377670124,
          -0.25166054733340903,
          -0.1135003297305886,
          0.03322048322859284,
          0.11372556032915106,
          0.19611403999388013,
          0.0644743072149695,
          0.025487249359398,
          -0.039610386198865706,
          -0.15760534018046227,
          -0.18216941147075305,
          -0.19721517293962348,
          -0.16629172630675126,
          -0.19058206491158047,
          -0.16648634357440026,
          -0.09232282859020176,
          -0.030444203581999556,
          0.024913644890804602,
          0.09968017795942377,
          0.05030264346949935,
          -0.030386930326030154,
          -0.09495539634536988,
          -0.13992777167767073,
          -0.14289855699614704,
          -0.12382003233081434,
          -0.15904063396219215,
          -0.16571826855900557,
          -0.12711752349504932,
          -0.11024833147895988,
          -0.07066863582150354,
          -0.1063917596732166,
          -0.04038856299496874,
          0.006616105359158065,
          -0.12404015944433439,
          -0.1870302261213733,
          -0.22794518425456303,
          -0.17959599938309379,
          -0.21295848105892204,
          -0.17992323998196283,
          -0.17097301924887232,
          -0.16047709651989414,
          -0.08823189863301314,
          -0.03433326464904478,
          0.12582796741384747,
          0.15616218616916105,
          0.15524099534502675,
          0.15309971483543974,
          0.2169249432020947,
          0.2793556322360266,
          0.416984228150497,
          0.4780331743455959,
          0.4579228549983255,
          0.42358098584824294,
          0.3229103251810237,
          0.1903166965784617,
          0.09161179207547944,
          0.024485699444162352,
          0.007014709387750517,
          0.06358304046226498,
          -0.016888441154812445,
          -0.08627496767249467,
          -0.06824679344099803,
          0.049773167866157396,
          0.20057329657707218,
          0.29276390253195717
         ],
         "z": [
          -0.0903192400692843,
          -0.20153906075915637,
          -0.31406649716032864,
          -0.33833025097631825,
          -0.360261857377397,
          -0.4161696968652381,
          -0.4732967315185292,
          -0.4497918595793601,
          -0.41135659474473185,
          -0.2864503406216982,
          -0.21249544574847812,
          -0.09945755713962856,
          -0.05021035251809017,
          0.011941577649463275,
          0.04881803475896014,
          0.056755096777207144,
          0.023875536025951733,
          0.051951794439332837,
          -0.03079424096457567,
          -0.06820239477676697,
          -0.14752045797506938,
          -0.29265599001094394,
          -0.29014211569356774,
          -0.1815387232354533,
          -0.08785459597173947,
          0.017512182637509883,
          0.06036464919700212,
          0.13633278139886723,
          0.1427311705617452,
          0.0753155421875751,
          0.04298388252485429,
          -0.0050646031811181595,
          0.02938792796663097,
          0.02457934588527321,
          0.03067619687680335,
          0.08889356422985828,
          0.09314220044081885,
          -0.0019162113034154617,
          -0.10293251133964541,
          -0.13799266252502798,
          -0.1427154745102054,
          -0.08343158342337081,
          -0.0607418749195491,
          -0.016497207647042385,
          -0.07700511574478042,
          -0.08228299637569707,
          -0.10813682678086942,
          -0.2141206379953419,
          -0.27072257134647953,
          -0.29794604624068355,
          -0.404223552499906,
          -0.5457620498842436,
          -0.6601114615666547,
          -0.7101574666605948,
          -0.7311798186620132,
          -0.7644532346534281,
          -0.7369782004600495,
          -0.6748153361546911,
          -0.67318876066012,
          -0.6580090316855872,
          -0.609004452459479,
          -0.6324920858806765,
          -0.6822300026806654,
          -0.6803136439893573,
          -0.5961390233196511,
          -0.6389374871761396,
          -0.5636582639178521,
          -0.5364884739118481,
          -0.46680998560092046,
          -0.3292962018170897,
          -0.27423552178417304,
          -0.18334866843141479,
          -0.16296466519201608,
          -0.10693805504101231,
          -0.0271187265228846,
          -0.022946155727400414,
          0.011506828406539712,
          0.08517378589999106,
          0.07554624690182242,
          0.09344259613797075,
          0.1919776341902076,
          0.25923032607772106,
          0.27398146264055134,
          0.29047392933214716,
          0.3612026990406483,
          0.3771754455518129,
          0.3713424672111738,
          0.25959966565104053,
          0.2753655076152527,
          0.20486420850013987,
          0.20099317539977565,
          0.18830700746382004,
          0.17579933498719105,
          0.21806811972456955,
          0.3002106571588329,
          0.41775691570107304,
          0.4276380252863211,
          0.3822848385590695,
          0.36106421569033215,
          0.3320182330933769,
          0.26864408400204415,
          0.2185102768091812,
          0.20468610601929868,
          0.19569499898000656,
          0.17737034248360242,
          0.1168802139804891,
          0.16647955023448344,
          0.17417882984054234,
          0.2718702060983864,
          0.22170308315175627,
          0.3217163510435523,
          0.2688888990223879,
          0.2783988491587504,
          0.32775797061717465,
          0.3598120169161571,
          0.3594571845985993,
          0.34010452556965626,
          0.38023233687308844,
          0.3633051787039019,
          0.38292563747698904,
          0.33653617549818415,
          0.36886455089304887,
          0.2780016587103862,
          0.2577045535815327,
          0.18328138583561565,
          -0.06805928161404852,
          -0.16190779456374785,
          -0.2503469900999669,
          -0.2765251174821645,
          -0.22631213567888694,
          -0.18815271155930666,
          -0.23996684272186655,
          -0.11376044575014188,
          0.04405682991920735,
          0.1175217868098658,
          0.13214366336322764,
          0.22842337571908433,
          0.20805807119807268,
          0.2700062851474859,
          0.30095112240998173,
          0.23254130561187428,
          0.07209373079103305,
          0.08565261792527687,
          0.15425596454040968,
          0.2288290619573403,
          0.19559411112825248,
          0.11831030541721146,
          0.07660161970503317,
          0.05086865047971482,
          -0.020519390490084697,
          -0.07868805954356102,
          -0.17166242293890782,
          -0.18689694163454582,
          -0.17081802556447725,
          -0.20023734195521567,
          -0.15077981260644824,
          -0.07436052225304728,
          0.0039494924339776765,
          0.07716506997724976,
          0.09003562377222138,
          0.11979368748054928,
          0.15247050693911454,
          0.12669439420598125,
          0.05200667445260907,
          0.07059832441503333,
          0.030024442731327625,
          0.00939465891648789,
          -0.02189777960294454,
          -0.10682738867045796,
          -0.06322437437990376,
          -0.10160383843973421,
          -0.04406775957523417,
          0.043589615165173234,
          0.07192107815104132,
          0.06867499752408177,
          0.020763285273849224,
          0.05741672631778043,
          0.10654407945734616,
          0.13613949413879634,
          0.11967278004627663,
          0.1061252587844229,
          0.16882847443241375,
          0.22842615542208858,
          0.24612892213100498,
          0.29204264672941194,
          0.3079794857661507,
          0.37864701526941924,
          0.3958049446895186,
          0.37283918229163215,
          0.31089042974254444,
          0.1979579508522441,
          0.10239446761318499,
          0.04419391346900555,
          0.043504558229678275,
          -0.0021412039188243356,
          0.004298537198604959,
          0.07898874699943699,
          0.1424599706339909,
          0.2381145320658942,
          0.30225884361116134,
          0.34467166250846604,
          0.32190723026457824
         ]
        }
       ],
       "layout": {
        "height": 1000,
        "scene": {
         "domain": {
          "x": [
           0,
           0.45
          ],
          "y": [
           0,
           1
          ]
         }
        },
        "scene2": {
         "domain": {
          "x": [
           0.55,
           1
          ],
          "y": [
           0,
           1
          ]
         }
        },
        "template": {
         "data": {
          "bar": [
           {
            "error_x": {
             "color": "#2a3f5f"
            },
            "error_y": {
             "color": "#2a3f5f"
            },
            "marker": {
             "line": {
              "color": "#E5ECF6",
              "width": 0.5
             }
            },
            "type": "bar"
           }
          ],
          "barpolar": [
           {
            "marker": {
             "line": {
              "color": "#E5ECF6",
              "width": 0.5
             }
            },
            "type": "barpolar"
           }
          ],
          "carpet": [
           {
            "aaxis": {
             "endlinecolor": "#2a3f5f",
             "gridcolor": "white",
             "linecolor": "white",
             "minorgridcolor": "white",
             "startlinecolor": "#2a3f5f"
            },
            "baxis": {
             "endlinecolor": "#2a3f5f",
             "gridcolor": "white",
             "linecolor": "white",
             "minorgridcolor": "white",
             "startlinecolor": "#2a3f5f"
            },
            "type": "carpet"
           }
          ],
          "choropleth": [
           {
            "colorbar": {
             "outlinewidth": 0,
             "ticks": ""
            },
            "type": "choropleth"
           }
          ],
          "contour": [
           {
            "colorbar": {
             "outlinewidth": 0,
             "ticks": ""
            },
            "colorscale": [
             [
              0,
              "#0d0887"
             ],
             [
              0.1111111111111111,
              "#46039f"
             ],
             [
              0.2222222222222222,
              "#7201a8"
             ],
             [
              0.3333333333333333,
              "#9c179e"
             ],
             [
              0.4444444444444444,
              "#bd3786"
             ],
             [
              0.5555555555555556,
              "#d8576b"
             ],
             [
              0.6666666666666666,
              "#ed7953"
             ],
             [
              0.7777777777777778,
              "#fb9f3a"
             ],
             [
              0.8888888888888888,
              "#fdca26"
             ],
             [
              1,
              "#f0f921"
             ]
            ],
            "type": "contour"
           }
          ],
          "contourcarpet": [
           {
            "colorbar": {
             "outlinewidth": 0,
             "ticks": ""
            },
            "type": "contourcarpet"
           }
          ],
          "heatmap": [
           {
            "colorbar": {
             "outlinewidth": 0,
             "ticks": ""
            },
            "colorscale": [
             [
              0,
              "#0d0887"
             ],
             [
              0.1111111111111111,
              "#46039f"
             ],
             [
              0.2222222222222222,
              "#7201a8"
             ],
             [
              0.3333333333333333,
              "#9c179e"
             ],
             [
              0.4444444444444444,
              "#bd3786"
             ],
             [
              0.5555555555555556,
              "#d8576b"
             ],
             [
              0.6666666666666666,
              "#ed7953"
             ],
             [
              0.7777777777777778,
              "#fb9f3a"
             ],
             [
              0.8888888888888888,
              "#fdca26"
             ],
             [
              1,
              "#f0f921"
             ]
            ],
            "type": "heatmap"
           }
          ],
          "heatmapgl": [
           {
            "colorbar": {
             "outlinewidth": 0,
             "ticks": ""
            },
            "colorscale": [
             [
              0,
              "#0d0887"
             ],
             [
              0.1111111111111111,
              "#46039f"
             ],
             [
              0.2222222222222222,
              "#7201a8"
             ],
             [
              0.3333333333333333,
              "#9c179e"
             ],
             [
              0.4444444444444444,
              "#bd3786"
             ],
             [
              0.5555555555555556,
              "#d8576b"
             ],
             [
              0.6666666666666666,
              "#ed7953"
             ],
             [
              0.7777777777777778,
              "#fb9f3a"
             ],
             [
              0.8888888888888888,
              "#fdca26"
             ],
             [
              1,
              "#f0f921"
             ]
            ],
            "type": "heatmapgl"
           }
          ],
          "histogram": [
           {
            "marker": {
             "colorbar": {
              "outlinewidth": 0,
              "ticks": ""
             }
            },
            "type": "histogram"
           }
          ],
          "histogram2d": [
           {
            "colorbar": {
             "outlinewidth": 0,
             "ticks": ""
            },
            "colorscale": [
             [
              0,
              "#0d0887"
             ],
             [
              0.1111111111111111,
              "#46039f"
             ],
             [
              0.2222222222222222,
              "#7201a8"
             ],
             [
              0.3333333333333333,
              "#9c179e"
             ],
             [
              0.4444444444444444,
              "#bd3786"
             ],
             [
              0.5555555555555556,
              "#d8576b"
             ],
             [
              0.6666666666666666,
              "#ed7953"
             ],
             [
              0.7777777777777778,
              "#fb9f3a"
             ],
             [
              0.8888888888888888,
              "#fdca26"
             ],
             [
              1,
              "#f0f921"
             ]
            ],
            "type": "histogram2d"
           }
          ],
          "histogram2dcontour": [
           {
            "colorbar": {
             "outlinewidth": 0,
             "ticks": ""
            },
            "colorscale": [
             [
              0,
              "#0d0887"
             ],
             [
              0.1111111111111111,
              "#46039f"
             ],
             [
              0.2222222222222222,
              "#7201a8"
             ],
             [
              0.3333333333333333,
              "#9c179e"
             ],
             [
              0.4444444444444444,
              "#bd3786"
             ],
             [
              0.5555555555555556,
              "#d8576b"
             ],
             [
              0.6666666666666666,
              "#ed7953"
             ],
             [
              0.7777777777777778,
              "#fb9f3a"
             ],
             [
              0.8888888888888888,
              "#fdca26"
             ],
             [
              1,
              "#f0f921"
             ]
            ],
            "type": "histogram2dcontour"
           }
          ],
          "mesh3d": [
           {
            "colorbar": {
             "outlinewidth": 0,
             "ticks": ""
            },
            "type": "mesh3d"
           }
          ],
          "parcoords": [
           {
            "line": {
             "colorbar": {
              "outlinewidth": 0,
              "ticks": ""
             }
            },
            "type": "parcoords"
           }
          ],
          "pie": [
           {
            "automargin": true,
            "type": "pie"
           }
          ],
          "scatter": [
           {
            "marker": {
             "colorbar": {
              "outlinewidth": 0,
              "ticks": ""
             }
            },
            "type": "scatter"
           }
          ],
          "scatter3d": [
           {
            "line": {
             "colorbar": {
              "outlinewidth": 0,
              "ticks": ""
             }
            },
            "marker": {
             "colorbar": {
              "outlinewidth": 0,
              "ticks": ""
             }
            },
            "type": "scatter3d"
           }
          ],
          "scattercarpet": [
           {
            "marker": {
             "colorbar": {
              "outlinewidth": 0,
              "ticks": ""
             }
            },
            "type": "scattercarpet"
           }
          ],
          "scattergeo": [
           {
            "marker": {
             "colorbar": {
              "outlinewidth": 0,
              "ticks": ""
             }
            },
            "type": "scattergeo"
           }
          ],
          "scattergl": [
           {
            "marker": {
             "colorbar": {
              "outlinewidth": 0,
              "ticks": ""
             }
            },
            "type": "scattergl"
           }
          ],
          "scattermapbox": [
           {
            "marker": {
             "colorbar": {
              "outlinewidth": 0,
              "ticks": ""
             }
            },
            "type": "scattermapbox"
           }
          ],
          "scatterpolar": [
           {
            "marker": {
             "colorbar": {
              "outlinewidth": 0,
              "ticks": ""
             }
            },
            "type": "scatterpolar"
           }
          ],
          "scatterpolargl": [
           {
            "marker": {
             "colorbar": {
              "outlinewidth": 0,
              "ticks": ""
             }
            },
            "type": "scatterpolargl"
           }
          ],
          "scatterternary": [
           {
            "marker": {
             "colorbar": {
              "outlinewidth": 0,
              "ticks": ""
             }
            },
            "type": "scatterternary"
           }
          ],
          "surface": [
           {
            "colorbar": {
             "outlinewidth": 0,
             "ticks": ""
            },
            "colorscale": [
             [
              0,
              "#0d0887"
             ],
             [
              0.1111111111111111,
              "#46039f"
             ],
             [
              0.2222222222222222,
              "#7201a8"
             ],
             [
              0.3333333333333333,
              "#9c179e"
             ],
             [
              0.4444444444444444,
              "#bd3786"
             ],
             [
              0.5555555555555556,
              "#d8576b"
             ],
             [
              0.6666666666666666,
              "#ed7953"
             ],
             [
              0.7777777777777778,
              "#fb9f3a"
             ],
             [
              0.8888888888888888,
              "#fdca26"
             ],
             [
              1,
              "#f0f921"
             ]
            ],
            "type": "surface"
           }
          ],
          "table": [
           {
            "cells": {
             "fill": {
              "color": "#EBF0F8"
             },
             "line": {
              "color": "white"
             }
            },
            "header": {
             "fill": {
              "color": "#C8D4E3"
             },
             "line": {
              "color": "white"
             }
            },
            "type": "table"
           }
          ]
         },
         "layout": {
          "annotationdefaults": {
           "arrowcolor": "#2a3f5f",
           "arrowhead": 0,
           "arrowwidth": 1
          },
          "autotypenumbers": "strict",
          "coloraxis": {
           "colorbar": {
            "outlinewidth": 0,
            "ticks": ""
           }
          },
          "colorscale": {
           "diverging": [
            [
             0,
             "#8e0152"
            ],
            [
             0.1,
             "#c51b7d"
            ],
            [
             0.2,
             "#de77ae"
            ],
            [
             0.3,
             "#f1b6da"
            ],
            [
             0.4,
             "#fde0ef"
            ],
            [
             0.5,
             "#f7f7f7"
            ],
            [
             0.6,
             "#e6f5d0"
            ],
            [
             0.7,
             "#b8e186"
            ],
            [
             0.8,
             "#7fbc41"
            ],
            [
             0.9,
             "#4d9221"
            ],
            [
             1,
             "#276419"
            ]
           ],
           "sequential": [
            [
             0,
             "#0d0887"
            ],
            [
             0.1111111111111111,
             "#46039f"
            ],
            [
             0.2222222222222222,
             "#7201a8"
            ],
            [
             0.3333333333333333,
             "#9c179e"
            ],
            [
             0.4444444444444444,
             "#bd3786"
            ],
            [
             0.5555555555555556,
             "#d8576b"
            ],
            [
             0.6666666666666666,
             "#ed7953"
            ],
            [
             0.7777777777777778,
             "#fb9f3a"
            ],
            [
             0.8888888888888888,
             "#fdca26"
            ],
            [
             1,
             "#f0f921"
            ]
           ],
           "sequentialminus": [
            [
             0,
             "#0d0887"
            ],
            [
             0.1111111111111111,
             "#46039f"
            ],
            [
             0.2222222222222222,
             "#7201a8"
            ],
            [
             0.3333333333333333,
             "#9c179e"
            ],
            [
             0.4444444444444444,
             "#bd3786"
            ],
            [
             0.5555555555555556,
             "#d8576b"
            ],
            [
             0.6666666666666666,
             "#ed7953"
            ],
            [
             0.7777777777777778,
             "#fb9f3a"
            ],
            [
             0.8888888888888888,
             "#fdca26"
            ],
            [
             1,
             "#f0f921"
            ]
           ]
          },
          "colorway": [
           "#636efa",
           "#EF553B",
           "#00cc96",
           "#ab63fa",
           "#FFA15A",
           "#19d3f3",
           "#FF6692",
           "#B6E880",
           "#FF97FF",
           "#FECB52"
          ],
          "font": {
           "color": "#2a3f5f"
          },
          "geo": {
           "bgcolor": "white",
           "lakecolor": "white",
           "landcolor": "#E5ECF6",
           "showlakes": true,
           "showland": true,
           "subunitcolor": "white"
          },
          "hoverlabel": {
           "align": "left"
          },
          "hovermode": "closest",
          "mapbox": {
           "style": "light"
          },
          "paper_bgcolor": "white",
          "plot_bgcolor": "#E5ECF6",
          "polar": {
           "angularaxis": {
            "gridcolor": "white",
            "linecolor": "white",
            "ticks": ""
           },
           "bgcolor": "#E5ECF6",
           "radialaxis": {
            "gridcolor": "white",
            "linecolor": "white",
            "ticks": ""
           }
          },
          "scene": {
           "xaxis": {
            "backgroundcolor": "#E5ECF6",
            "gridcolor": "white",
            "gridwidth": 2,
            "linecolor": "white",
            "showbackground": true,
            "ticks": "",
            "zerolinecolor": "white"
           },
           "yaxis": {
            "backgroundcolor": "#E5ECF6",
            "gridcolor": "white",
            "gridwidth": 2,
            "linecolor": "white",
            "showbackground": true,
            "ticks": "",
            "zerolinecolor": "white"
           },
           "zaxis": {
            "backgroundcolor": "#E5ECF6",
            "gridcolor": "white",
            "gridwidth": 2,
            "linecolor": "white",
            "showbackground": true,
            "ticks": "",
            "zerolinecolor": "white"
           }
          },
          "shapedefaults": {
           "line": {
            "color": "#2a3f5f"
           }
          },
          "ternary": {
           "aaxis": {
            "gridcolor": "white",
            "linecolor": "white",
            "ticks": ""
           },
           "baxis": {
            "gridcolor": "white",
            "linecolor": "white",
            "ticks": ""
           },
           "bgcolor": "#E5ECF6",
           "caxis": {
            "gridcolor": "white",
            "linecolor": "white",
            "ticks": ""
           }
          },
          "title": {
           "x": 0.05
          },
          "xaxis": {
           "automargin": true,
           "gridcolor": "white",
           "linecolor": "white",
           "ticks": "",
           "title": {
            "standoff": 15
           },
           "zerolinecolor": "white",
           "zerolinewidth": 2
          },
          "yaxis": {
           "automargin": true,
           "gridcolor": "white",
           "linecolor": "white",
           "ticks": "",
           "title": {
            "standoff": 15
           },
           "zerolinecolor": "white",
           "zerolinewidth": 2
          }
         }
        },
        "width": 1000
       }
      }
     },
     "metadata": {},
     "output_type": "display_data"
    },
    {
     "name": "stdout",
     "output_type": "stream",
     "text": [
      "Kabsch distance is 0.057487167711369934\n"
     ]
    },
    {
     "data": {
      "text/plain": [
       "<Figure size 5000x5000 with 0 Axes>"
      ]
     },
     "metadata": {},
     "output_type": "display_data"
    }
   ],
   "source": [
    "fig = plt.figure(figsize=(50, 50))\n",
    "\n",
    "test_true_structure = test_true_structures[GRAPH_TESTED]\n",
    "test_pred_structure = test_pred_structures[GRAPH_TESTED]\n",
    "\n",
    "test_pred_structure_superposed, test_true_structure_superposed = \\\n",
    "        kabsch_superimposition_numpy(test_pred_structure, test_true_structure)\n",
    "\n",
    "x_pred = test_pred_structure_superposed[:, 0]  \n",
    "y_pred = test_pred_structure_superposed[:, 1]\n",
    "z_pred = test_pred_structure_superposed[:, 2]\n",
    "\n",
    "x_true = test_true_structure_superposed[:, 0]  \n",
    "y_true = test_true_structure_superposed[:, 1]\n",
    "z_true = test_true_structure_superposed[:, 2]\n",
    "\n",
    "# Initialize figure with 4 3D subplots\n",
    "fig = make_subplots(\n",
    "    rows=1, cols=2,\n",
    "    specs=[[{'type': 'scatter3d'}, {'type': 'scatter3d'}]])\n",
    "\n",
    "# adding surfaces to subplots.\n",
    "fig.add_trace(\n",
    "    go.Scatter3d(\n",
    "    x=x_true, y=y_true, z=z_true,\n",
    "    marker=dict(\n",
    "        size=4,\n",
    "        color=np.asarray(range(len(x_true))),\n",
    "        colorscale='Viridis',\n",
    "    ),\n",
    "    line=dict(\n",
    "        color='darkblue',\n",
    "        width=2\n",
    "    )\n",
    "), row=1, col=1)\n",
    "\n",
    "fig.add_trace(\n",
    "    go.Scatter3d(\n",
    "    x=x_pred, y=y_pred, z=z_pred,\n",
    "    marker=dict(\n",
    "        size=4,\n",
    "        color=np.asarray(range(len(x_pred))),\n",
    "        colorscale='Viridis',\n",
    "    ),\n",
    "    line=dict(\n",
    "        color='darkblue',\n",
    "        width=2\n",
    "    )\n",
    "),row=1, col=2)\n",
    "\n",
    "fig.update_layout(\n",
    "    height=1000,\n",
    "    width=1000\n",
    ")\n",
    "\n",
    "fig.show()\n",
    "\n",
    "# Shape comparison\n",
    "print('Kabsch distance is ' + str(kabsch_distance_numpy(test_pred_structure, test_true_structure)))"
   ]
  },
  {
   "cell_type": "code",
   "execution_count": 54,
   "metadata": {},
   "outputs": [
    {
     "data": {
      "application/vnd.plotly.v1+json": {
       "config": {
        "plotlyServerURL": "https://plot.ly"
       },
       "data": [
        {
         "line": {
          "color": "darkblue",
          "width": 2
         },
         "marker": {
          "color": [
           0,
           1,
           2,
           3,
           4,
           5,
           6,
           7,
           8,
           9,
           10,
           11,
           12,
           13,
           14,
           15,
           16,
           17,
           18,
           19,
           20,
           21,
           22,
           23,
           24,
           25,
           26,
           27,
           28,
           29,
           30,
           31,
           32,
           33,
           34,
           35,
           36,
           37,
           38,
           39,
           40,
           41,
           42,
           43,
           44,
           45,
           46,
           47,
           48,
           49,
           50,
           51,
           52,
           53,
           54,
           55,
           56,
           57,
           58,
           59,
           60,
           61,
           62,
           63,
           64,
           65,
           66,
           67,
           68,
           69,
           70,
           71,
           72,
           73,
           74,
           75,
           76,
           77,
           78,
           79,
           80,
           81,
           82,
           83,
           84,
           85,
           86,
           87,
           88,
           89,
           90,
           91,
           92,
           93,
           94,
           95,
           96,
           97,
           98,
           99,
           100,
           101,
           102,
           103,
           104,
           105,
           106,
           107,
           108,
           109,
           110,
           111,
           112,
           113,
           114,
           115,
           116,
           117,
           118,
           119,
           120,
           121,
           122,
           123,
           124,
           125,
           126,
           127,
           128,
           129,
           130,
           131,
           132,
           133,
           134,
           135,
           136,
           137,
           138,
           139,
           140,
           141,
           142,
           143,
           144,
           145,
           146,
           147,
           148,
           149,
           150,
           151,
           152,
           153,
           154,
           155,
           156,
           157,
           158,
           159,
           160,
           161,
           162,
           163,
           164,
           165,
           166,
           167,
           168,
           169,
           170,
           171,
           172,
           173,
           174,
           175,
           176,
           177,
           178,
           179,
           180,
           181,
           182,
           183,
           184,
           185,
           186,
           187,
           188,
           189,
           190,
           191,
           192,
           193,
           194,
           195,
           196,
           197,
           198,
           199,
           200,
           201
          ],
          "colorscale": [
           [
            0,
            "#440154"
           ],
           [
            0.1111111111111111,
            "#482878"
           ],
           [
            0.2222222222222222,
            "#3e4989"
           ],
           [
            0.3333333333333333,
            "#31688e"
           ],
           [
            0.4444444444444444,
            "#26828e"
           ],
           [
            0.5555555555555556,
            "#1f9e89"
           ],
           [
            0.6666666666666666,
            "#35b779"
           ],
           [
            0.7777777777777778,
            "#6ece58"
           ],
           [
            0.8888888888888888,
            "#b5de2b"
           ],
           [
            1,
            "#fde725"
           ]
          ],
          "size": 4
         },
         "scene": "scene",
         "type": "scatter3d",
         "x": [
          -0.11617447435855865,
          -0.03791821748018265,
          0.04670683667063713,
          0.13978135585784912,
          0.21786342561244965,
          0.2779562771320343,
          0.33708444237709045,
          0.38427045941352844,
          0.3807530403137207,
          0.3150673806667328,
          0.23885391652584076,
          0.15156598389148712,
          0.0769868940114975,
          0.020498061552643776,
          -0.030429817736148834,
          -0.029525181278586388,
          0.034680090844631195,
          0.10709412395954132,
          0.14884334802627563,
          0.2134513109922409,
          0.31550997495651245,
          0.36893129348754883,
          0.37515947222709656,
          0.41817790269851685,
          0.4840720295906067,
          0.5472744107246399,
          0.6268070936203003,
          0.6903325319290161,
          0.7529017925262451,
          0.801105797290802,
          0.8115475177764893,
          0.7648389935493469,
          0.6608444452285767,
          0.5548867583274841,
          0.4880940318107605,
          0.4807282090187073,
          0.4930410087108612,
          0.46825167536735535,
          0.38314536213874817,
          0.29053834080696106,
          0.19688716530799866,
          0.08741677552461624,
          -0.0021127176005393267,
          -0.06199466437101364,
          -0.08218128234148026,
          -0.11433529108762741,
          -0.1959468126296997,
          -0.29606926441192627,
          -0.40554285049438477,
          -0.5085029006004333,
          -0.5790907740592957,
          -0.5892248153686523,
          -0.527962327003479,
          -0.4748486578464508,
          -0.47052255272865295,
          -0.4990592300891876,
          -0.5149421095848083,
          -0.5274538397789001,
          -0.5681564807891846,
          -0.5679470300674438,
          -0.5570084452629089,
          -0.548595666885376,
          -0.5507451295852661,
          -0.5905041098594666,
          -0.6389787197113037,
          -0.6689842343330383,
          -0.67486172914505,
          -0.6482881307601929,
          -0.6002840399742126,
          -0.558573842048645,
          -0.495830774307251,
          -0.39958980679512024,
          -0.30579712986946106,
          -0.21815238893032074,
          -0.15734504163265228,
          -0.16126421093940735,
          -0.18848136067390442,
          -0.2504957914352417,
          -0.34184426069259644,
          -0.40205833315849304,
          -0.4127863943576813,
          -0.38963764905929565,
          -0.36868301033973694,
          -0.33054083585739136,
          -0.30159515142440796,
          -0.30301791429519653,
          -0.29788878560066223,
          -0.23774246871471405,
          -0.13075365126132965,
          -0.03620850667357445,
          0.05529852584004402,
          0.1623871624469757,
          0.22830073535442352,
          0.2598969042301178,
          0.31756365299224854,
          0.40321052074432373,
          0.47904109954833984,
          0.4961734414100647,
          0.48096582293510437,
          0.4402604401111603,
          0.35332679748535156,
          0.2716618776321411,
          0.19779075682163239,
          0.16831326484680176,
          0.1667747050523758,
          0.16374243795871735,
          0.15143708884716034,
          0.09772277623414993,
          0.02620856463909149,
          -0.0747554749250412,
          -0.16192710399627686,
          -0.18647699058055878,
          -0.1418759822845459,
          -0.05032235011458397,
          0.04975593090057373,
          0.15390858054161072,
          0.2393060177564621,
          0.30470964312553406,
          0.3932957053184509,
          0.47255197167396545,
          0.5545174479484558,
          0.6110402941703796,
          0.5719364881515503,
          0.5262590050697327,
          0.4842446744441986,
          0.4341636002063751,
          0.3661133348941803,
          0.26245781779289246,
          0.17612534761428833,
          0.08165481686592102,
          -0.0071396189741790295,
          -0.040169455111026764,
          -0.0004928436828777194,
          0.0689781978726387,
          0.11843700706958771,
          0.15375421941280365,
          0.21911579370498657,
          0.300586074590683,
          0.31245332956314087,
          0.29845061898231506,
          0.27475133538246155,
          0.21659766137599945,
          0.18014323711395264,
          0.2251301109790802,
          0.310329794883728,
          0.32799196243286133,
          0.28518280386924744,
          0.20526565611362457,
          0.10768815129995346,
          0.028870077803730965,
          0.02997404709458351,
          0.06375065445899963,
          0.11131700128316879,
          0.21647845208644867,
          0.31520676612854004,
          0.3869173526763916,
          0.46322470903396606,
          0.5268260836601257,
          0.5192321538925171,
          0.44961512088775635,
          0.3707701563835144,
          0.31225085258483887,
          0.25314927101135254,
          0.16950607299804688,
          0.06347664445638657,
          -0.04473896697163582,
          -0.1474660485982895,
          -0.24160709977149963,
          -0.32191628217697144,
          -0.38584014773368835,
          -0.43990612030029297,
          -0.4618932604789734,
          -0.4392291009426117,
          -0.41247251629829407,
          -0.39393100142478943,
          -0.356804758310318,
          -0.2860685884952545,
          -0.1966567188501358,
          -0.13455422222614288,
          -0.0996810793876648,
          -0.09654261916875839,
          -0.1651683747768402,
          -0.26332658529281616,
          -0.34172531962394714,
          -0.3839617371559143,
          -0.43135473132133484,
          -0.4918937385082245,
          -0.5613536238670349,
          -0.6317773461341858,
          -0.6438614726066589,
          -0.5855109095573425,
          -0.5008158683776855,
          -0.45847588777542114,
          -0.4599389433860779,
          -0.4394255578517914,
          -0.3731670379638672,
          -0.3345471918582916,
          -0.3575647175312042,
          -0.3643205761909485,
          -0.32028189301490784,
          -0.2560182213783264,
          -0.1860814094543457
         ],
         "y": [
          0.08944384008646011,
          0.10456705093383789,
          0.17024515569210052,
          0.1906794309616089,
          0.1639876812696457,
          0.12943466007709503,
          0.0637640431523323,
          -0.021527621895074844,
          -0.11860470473766327,
          -0.20944048464298248,
          -0.2648506462574005,
          -0.27936452627182007,
          -0.2918497622013092,
          -0.28507673740386963,
          -0.27077823877334595,
          -0.31209200620651245,
          -0.38138025999069214,
          -0.3876912295818329,
          -0.3447554111480713,
          -0.33904317021369934,
          -0.35171958804130554,
          -0.3652005195617676,
          -0.32231149077415466,
          -0.24067385494709015,
          -0.16297946870326996,
          -0.07863672822713852,
          -0.042407408356666565,
          -0.07883036136627197,
          -0.14399836957454681,
          -0.22695960104465485,
          -0.3393362760543823,
          -0.4030146598815918,
          -0.4075722396373749,
          -0.38767626881599426,
          -0.3426060378551483,
          -0.304920494556427,
          -0.3397584557533264,
          -0.43014150857925415,
          -0.49113357067108154,
          -0.5468339920043945,
          -0.5995942950248718,
          -0.6133477091789246,
          -0.5824869275093079,
          -0.5003607273101807,
          -0.4002910256385803,
          -0.3079233169555664,
          -0.26188573241233826,
          -0.25327935814857483,
          -0.2662299573421478,
          -0.2974162697792053,
          -0.2956964373588562,
          -0.23207983374595642,
          -0.16765131056308746,
          -0.20861339569091797,
          -0.31893083453178406,
          -0.4208136796951294,
          -0.5054690837860107,
          -0.5816763043403625,
          -0.6429061889648438,
          -0.6283171772956848,
          -0.5356317162513733,
          -0.4276777505874634,
          -0.32994091510772705,
          -0.24732047319412231,
          -0.1769239902496338,
          -0.10948801040649414,
          -0.022452285513281822,
          0.058561962097883224,
          0.07762019336223602,
          0.047900695353746414,
          0.06223253905773163,
          0.07548948377370834,
          0.01412722747772932,
          -0.05512925982475281,
          -0.12811556458473206,
          -0.19802318513393402,
          -0.2813737690448761,
          -0.35651257634162903,
          -0.39373794198036194,
          -0.3781268000602722,
          -0.2979300618171692,
          -0.21146048605442047,
          -0.1640245020389557,
          -0.15537643432617188,
          -0.1477801650762558,
          -0.09617730975151062,
          -0.011854184791445732,
          0.04596942663192749,
          0.045474857091903687,
          -0.011499599553644657,
          -0.07182607054710388,
          -0.09080544859170914,
          -0.13705003261566162,
          -0.2362939566373825,
          -0.32519838213920593,
          -0.3460320234298706,
          -0.2891803979873657,
          -0.19455398619174957,
          -0.10384543240070343,
          -0.048033617436885834,
          -0.04737265780568123,
          -0.09815527498722076,
          -0.1590769737958908,
          -0.23949792981147766,
          -0.34192514419555664,
          -0.4485032558441162,
          -0.5273098945617676,
          -0.5367690920829773,
          -0.5050246119499207,
          -0.4872592091560364,
          -0.4379856586456299,
          -0.34087586402893066,
          -0.25049617886543274,
          -0.22202256321907043,
          -0.26311007142066956,
          -0.2923086881637573,
          -0.29501041769981384,
          -0.31991517543792725,
          -0.3422630727291107,
          -0.3634049892425537,
          -0.40173083543777466,
          -0.36591026186943054,
          -0.27542853355407715,
          -0.20988929271697998,
          -0.13987746834754944,
          -0.06932556629180908,
          -0.029291648417711258,
          -0.00171661248896271,
          0.03076871670782566,
          0.04777258262038231,
          0.09442566335201263,
          0.18980374932289124,
          0.23490019142627716,
          0.24009782075881958,
          0.20724833011627197,
          0.1321128010749817,
          0.08672281354665756,
          0.10720702260732651,
          0.14340580999851227,
          0.12450236082077026,
          0.11353382468223572,
          0.15298992395401,
          0.22412486374378204,
          0.2880399823188782,
          0.34996238350868225,
          0.43252983689308167,
          0.5235256552696228,
          0.5935593843460083,
          0.6418600082397461,
          0.6364655494689941,
          0.5634911060333252,
          0.5230661034584045,
          0.4994216561317444,
          0.479474276304245,
          0.48645931482315063,
          0.47136497497558594,
          0.4434916079044342,
          0.41577982902526855,
          0.4275406301021576,
          0.4919506311416626,
          0.5221216678619385,
          0.5262734293937683,
          0.5622127056121826,
          0.5934078097343445,
          0.5974488854408264,
          0.6110447645187378,
          0.6389402151107788,
          0.68062824010849,
          0.7398400902748108,
          0.8018255233764648,
          0.8200320601463318,
          0.8043843507766724,
          0.8240656852722168,
          0.8155520558357239,
          0.7340626120567322,
          0.6390692591667175,
          0.5568426251411438,
          0.49106502532958984,
          0.45649421215057373,
          0.4639952778816223,
          0.43877360224723816,
          0.40775901079177856,
          0.4316701591014862,
          0.48603880405426025,
          0.5614582896232605,
          0.5862489342689514,
          0.5205937027931213,
          0.43908944725990295,
          0.3610502779483795,
          0.27939823269844055,
          0.2130986601114273,
          0.1721285730600357,
          0.1765373945236206,
          0.20296573638916016,
          0.24594762921333313,
          0.3072813153266907,
          0.3565193712711334,
          0.38340631127357483,
          0.36521443724632263,
          0.29151588678359985,
          0.20925965905189514,
          0.13662992417812347
         ],
         "z": [
          0.0015235014725476503,
          0.0710795670747757,
          0.09527832269668579,
          0.10775916278362274,
          0.17181305587291718,
          0.25904151797294617,
          0.3295414447784424,
          0.38760286569595337,
          0.40765181183815,
          0.3988074064254761,
          0.35320934653282166,
          0.2866070866584778,
          0.21113084256649017,
          0.118867889046669,
          0.02304605208337307,
          -0.07114555686712265,
          -0.1188393384218216,
          -0.08403432369232178,
          0.010931352153420448,
          0.08979623019695282,
          0.13861143589019775,
          0.21721293032169342,
          0.29195544123649597,
          0.3427621126174927,
          0.37634262442588806,
          0.4059906303882599,
          0.39808014035224915,
          0.32434600591659546,
          0.2613222599029541,
          0.22573857009410858,
          0.21586120128631592,
          0.23812969028949738,
          0.28376099467277527,
          0.3111441731452942,
          0.36278802156448364,
          0.4667399227619171,
          0.5568886399269104,
          0.6035128831863403,
          0.6293235421180725,
          0.6511960029602051,
          0.6471812725067139,
          0.6205459833145142,
          0.5739948749542236,
          0.5323333740234375,
          0.496381551027298,
          0.47673922777175903,
          0.5196296572685242,
          0.5649583339691162,
          0.5833212733268738,
          0.5673872232437134,
          0.4916791319847107,
          0.413148432970047,
          0.363716721534729,
          0.33949390053749084,
          0.35640162229537964,
          0.3764967620372772,
          0.3355758488178253,
          0.2634272873401642,
          0.18189090490341187,
          0.0889878049492836,
          0.05014576017856598,
          0.07541888952255249,
          0.12732481956481934,
          0.1928006112575531,
          0.26798728108406067,
          0.26162993907928467,
          0.19765417277812958,
          0.13598664104938507,
          0.04096229374408722,
          -0.05980957671999931,
          -0.10685364156961441,
          -0.1023545116186142,
          -0.1042095422744751,
          -0.09485973417758942,
          -0.04614120349287987,
          0.035280339419841766,
          0.08916141092777252,
          0.09596333652734756,
          0.056425295770168304,
          -0.022591955959796906,
          -0.09327483922243118,
          -0.16275116801261902,
          -0.25753113627433777,
          -0.3622768223285675,
          -0.46794968843460083,
          -0.5594713687896729,
          -0.6350038051605225,
          -0.6825443506240845,
          -0.6896320581436157,
          -0.6998043060302734,
          -0.7226849794387817,
          -0.7305716872215271,
          -0.7516896724700928,
          -0.7612461447715759,
          -0.7238020300865173,
          -0.6834284663200378,
          -0.6310440897941589,
          -0.5984575152397156,
          -0.5542627573013306,
          -0.46954089403152466,
          -0.4312991797924042,
          -0.4718100130558014,
          -0.4946734607219696,
          -0.4560239613056183,
          -0.42063501477241516,
          -0.3966008722782135,
          -0.4287864565849304,
          -0.5200901627540588,
          -0.5995749831199646,
          -0.6324400305747986,
          -0.6293631196022034,
          -0.6529648900032043,
          -0.6742022633552551,
          -0.6509743332862854,
          -0.6201382279396057,
          -0.6053112149238586,
          -0.5551913380622864,
          -0.4689936339855194,
          -0.4081385135650635,
          -0.3392731249332428,
          -0.2930269241333008,
          -0.3135232627391815,
          -0.3260691165924072,
          -0.2672232389450073,
          -0.21297357976436615,
          -0.16044235229492188,
          -0.10843795537948608,
          -0.1295686811208725,
          -0.19298624992370605,
          -0.2363925725221634,
          -0.24025239050388336,
          -0.26780498027801514,
          -0.3362596035003662,
          -0.4231570065021515,
          -0.5031384825706482,
          -0.5789008140563965,
          -0.6449452042579651,
          -0.6335415840148926,
          -0.5463868379592896,
          -0.44185683131217957,
          -0.34325629472732544,
          -0.256570965051651,
          -0.18090961873531342,
          -0.14018131792545319,
          -0.11446288228034973,
          -0.0577113963663578,
          -0.018912438303232193,
          -0.026293694972991943,
          -0.05704766511917114,
          -0.10915915668010712,
          -0.16258665919303894,
          -0.24124476313591003,
          -0.31774985790252686,
          -0.3336116671562195,
          -0.29145777225494385,
          -0.20825226604938507,
          -0.13199588656425476,
          -0.04960951581597328,
          0.04202871769666672,
          0.08896218240261078,
          0.140762597322464,
          0.23718708753585815,
          0.32274213433265686,
          0.3856574296951294,
          0.4170374274253845,
          0.4405893385410309,
          0.479013592004776,
          0.5230984687805176,
          0.5223917961120605,
          0.4549751579761505,
          0.3661012053489685,
          0.2623169422149658,
          0.15920566022396088,
          0.06724066287279129,
          -0.004784636665135622,
          -0.045288439840078354,
          -0.06690087914466858,
          -0.06966770440340042,
          -0.009762750007212162,
          0.09582382440567017,
          0.1859564334154129,
          0.24655179679393768,
          0.2962503135204315,
          0.35284048318862915,
          0.4219105541706085,
          0.5023722648620605,
          0.5387599468231201,
          0.5485315918922424,
          0.5443248748779297,
          0.5708574056625366,
          0.619621753692627,
          0.5830268859863281,
          0.48675402998924255,
          0.37645795941352844,
          0.28021514415740967,
          0.2153976857662201,
          0.1375533789396286,
          0.03129434585571289,
          -0.06791438162326813,
          -0.13172951340675354,
          -0.12197016179561615,
          -0.06899110972881317
         ]
        },
        {
         "line": {
          "color": "darkblue",
          "width": 2
         },
         "marker": {
          "color": [
           0,
           1,
           2,
           3,
           4,
           5,
           6,
           7,
           8,
           9,
           10,
           11,
           12,
           13,
           14,
           15,
           16,
           17,
           18,
           19,
           20,
           21,
           22,
           23,
           24,
           25,
           26,
           27,
           28,
           29,
           30,
           31,
           32,
           33,
           34,
           35,
           36,
           37,
           38,
           39,
           40,
           41,
           42,
           43,
           44,
           45,
           46,
           47,
           48,
           49,
           50,
           51,
           52,
           53,
           54,
           55,
           56,
           57,
           58,
           59,
           60,
           61,
           62,
           63,
           64,
           65,
           66,
           67,
           68,
           69,
           70,
           71,
           72,
           73,
           74,
           75,
           76,
           77,
           78,
           79,
           80,
           81,
           82,
           83,
           84,
           85,
           86,
           87,
           88,
           89,
           90,
           91,
           92,
           93,
           94,
           95,
           96,
           97,
           98,
           99,
           100,
           101,
           102,
           103,
           104,
           105,
           106,
           107,
           108,
           109,
           110,
           111,
           112,
           113,
           114,
           115,
           116,
           117,
           118,
           119,
           120,
           121,
           122,
           123,
           124,
           125,
           126,
           127,
           128,
           129,
           130,
           131,
           132,
           133,
           134,
           135,
           136,
           137,
           138,
           139,
           140,
           141,
           142,
           143,
           144,
           145,
           146,
           147,
           148,
           149,
           150,
           151,
           152,
           153,
           154,
           155,
           156,
           157,
           158,
           159,
           160,
           161,
           162,
           163,
           164,
           165,
           166,
           167,
           168,
           169,
           170,
           171,
           172,
           173,
           174,
           175,
           176,
           177,
           178,
           179,
           180,
           181,
           182,
           183,
           184,
           185,
           186,
           187,
           188,
           189,
           190,
           191,
           192,
           193,
           194,
           195,
           196,
           197,
           198,
           199,
           200,
           201
          ],
          "colorscale": [
           [
            0,
            "#440154"
           ],
           [
            0.1111111111111111,
            "#482878"
           ],
           [
            0.2222222222222222,
            "#3e4989"
           ],
           [
            0.3333333333333333,
            "#31688e"
           ],
           [
            0.4444444444444444,
            "#26828e"
           ],
           [
            0.5555555555555556,
            "#1f9e89"
           ],
           [
            0.6666666666666666,
            "#35b779"
           ],
           [
            0.7777777777777778,
            "#6ece58"
           ],
           [
            0.8888888888888888,
            "#b5de2b"
           ],
           [
            1,
            "#fde725"
           ]
          ],
          "size": 4
         },
         "scene": "scene2",
         "type": "scatter3d",
         "x": [
          -0.0647638467363114,
          0.11654236016910015,
          0.22497529551731268,
          0.24703987456419652,
          0.24129685196140763,
          0.26427264114774984,
          0.2642927478773024,
          0.3497480519300652,
          0.3620367949484098,
          0.33821196846253926,
          0.2829821496936794,
          0.23046731360219558,
          0.2069179570263691,
          0.17145313111984625,
          0.11907882968408738,
          0.12695602811793333,
          0.15180312528330928,
          0.1815137845317349,
          0.24110430703632604,
          0.28085032977673063,
          0.31750343781931256,
          0.34245190507233375,
          0.31281046909052035,
          0.3220774378562598,
          0.37771279808457936,
          0.4820699275490792,
          0.4720695412426139,
          0.5160864192915618,
          0.5070592819625334,
          0.5300358546849189,
          0.5255124836776941,
          0.5315416134614452,
          0.5437941285877068,
          0.46289779280746846,
          0.38084813099482384,
          0.40702660006868674,
          0.4509617465445874,
          0.42492785550239903,
          0.3969327448900455,
          0.2938914346853431,
          0.18733353099941738,
          0.07814284143658141,
          -0.018968568980223675,
          -0.08679541100813105,
          -0.1592177648672005,
          -0.17568996306666887,
          -0.25978061503115774,
          -0.31982027453879347,
          -0.40093193641056846,
          -0.4760011235307248,
          -0.542556036201465,
          -0.5328649675918934,
          -0.5165354358675542,
          -0.4910822754139983,
          -0.44622789054515427,
          -0.438284326972788,
          -0.43965379916329167,
          -0.4504664209646565,
          -0.4356964321618032,
          -0.432476385201415,
          -0.38973000348829395,
          -0.3830758436207967,
          -0.4111422520948839,
          -0.4460523567455723,
          -0.5027345619399267,
          -0.5521218214796633,
          -0.5595440187897242,
          -0.55600037542708,
          -0.5073386372153208,
          -0.47647401562786174,
          -0.42302300540350973,
          -0.35565356373489965,
          -0.30771246477698055,
          -0.1443743836766326,
          -0.012347842696570039,
          -0.017471720957931373,
          -0.10410005890062111,
          -0.19906211978709198,
          -0.23090769882515402,
          -0.26616105835284204,
          -0.2987769215699205,
          -0.31047287470372603,
          -0.28141962134724613,
          -0.15666233904293092,
          -0.0888916690803774,
          -0.06642913564263908,
          -0.04305176622886882,
          0.01291577583693166,
          0.04536464806711021,
          0.06968958780111725,
          0.10436291733204146,
          0.11425460921618942,
          0.19283056982412744,
          0.1879670056072924,
          0.2176190490221799,
          0.27981106807600703,
          0.35893032236799916,
          0.37313361699428527,
          0.30066080089208125,
          0.3765810597178885,
          0.34412582188554025,
          0.2948528633644544,
          0.2704110761907142,
          0.24630298669927267,
          0.2542724989980208,
          0.24455243058403003,
          0.23381165846579222,
          0.19658388159456905,
          0.12909139391419297,
          -0.009762276389968398,
          -0.022002581634236795,
          -0.045489994165889565,
          -0.03297758072558804,
          0.017014970248870394,
          0.04757941522356056,
          0.11865131628460363,
          0.1578349807622551,
          0.2324747107838172,
          0.2938529316281436,
          0.32209604363212435,
          0.3319194458802381,
          0.32621871599782437,
          0.35551288331401165,
          0.36493233789587565,
          0.3411667274536339,
          0.31730399604354464,
          0.30916713814953867,
          0.30078174017990356,
          0.3027783010580451,
          0.2727879205128496,
          0.25928026531444787,
          0.21124169767892811,
          0.18656503055727747,
          0.1763806146388252,
          0.1767802884042091,
          0.17159227958009268,
          0.17008464648648725,
          0.21493905258992235,
          0.26417484352069615,
          0.2751943046484561,
          0.2903153176886516,
          0.2704305793919465,
          0.22974158051554464,
          0.2715700770661956,
          0.23748385328276797,
          0.19971237214146403,
          0.07509646471251448,
          0.052017209497263024,
          0.012833729663657825,
          -0.007502182171471236,
          0.010132726804718137,
          0.06422625726747176,
          0.11380565210276644,
          0.10275139585286208,
          0.1347820518057371,
          0.1697242773814633,
          0.1950913527363676,
          0.2141542207398014,
          0.1429085321930767,
          0.1514260727926035,
          0.10713632979406204,
          0.06349148653922376,
          0.04578110946477197,
          -0.03344972262565449,
          -0.07207067670931305,
          -0.1343459592735779,
          -0.18610592275428692,
          -0.2671257201092183,
          -0.30192714339763244,
          -0.30105408799072036,
          -0.3119073387266846,
          -0.257270502418776,
          -0.3011033437265774,
          -0.25632489642115247,
          -0.30914031989228424,
          -0.35183610569254925,
          -0.2761998498400214,
          -0.24773154735732236,
          -0.14901356664939333,
          -0.13159744948627614,
          -0.10539740023550857,
          -0.20099207014520412,
          -0.30326812871251746,
          -0.30929890941704247,
          -0.32653622760472206,
          -0.38755319316622305,
          -0.4937221195828662,
          -0.575475193926939,
          -0.6617681474354277,
          -0.7351919656580375,
          -0.6721328669902411,
          -0.5929710857691424,
          -0.52619109688171,
          -0.4859290669257599,
          -0.45847999377239446,
          -0.45133061456493784,
          -0.37067699222615424,
          -0.363428359267573,
          -0.3646031453780121,
          -0.33767354300171204,
          -0.2859882729099827,
          0.006819877705981393
         ],
         "y": [
          0.07152942911095873,
          0.06534247304452133,
          0.11187760608676327,
          0.13026223307056584,
          0.14581369881278305,
          0.13891293113990613,
          0.11267096052250959,
          -0.0065311976904862245,
          -0.10710239722250113,
          -0.1530038578241783,
          -0.2168239121157624,
          -0.25043435335640124,
          -0.24559081249052378,
          -0.23041587190437735,
          -0.20423380615038447,
          -0.20855960101132975,
          -0.2593878094006887,
          -0.32351375828032913,
          -0.2540451666338697,
          -0.24121523180259252,
          -0.2628571316440535,
          -0.2980922200753548,
          -0.3190778142946168,
          -0.26743007823681064,
          -0.20227942368978769,
          -0.1484716086880881,
          -0.12505712129164123,
          -0.1581003765193957,
          -0.22341164550600034,
          -0.26215815947215865,
          -0.35977217778799997,
          -0.4366207380443853,
          -0.39590051264073867,
          -0.4268276503631025,
          -0.41375113302859307,
          -0.38563569420968175,
          -0.38260738501874547,
          -0.4393774586714442,
          -0.6360923160757161,
          -0.6960140591662317,
          -0.7278125986762424,
          -0.7809903857022923,
          -0.7653981102119516,
          -0.7099104706292885,
          -0.5121357992613602,
          -0.3621412517106787,
          -0.22467269082217128,
          -0.19415698594801012,
          -0.18423608358022703,
          -0.2842477979281949,
          -0.2630516247021455,
          -0.2573028617062061,
          -0.17888503715892498,
          -0.10930237692341427,
          -0.185307098192859,
          -0.27098423343579653,
          -0.3454224556132884,
          -0.41184815853660445,
          -0.4600364999729454,
          -0.5116273245444101,
          -0.5071950153113456,
          -0.4296526095469771,
          -0.36931510178399085,
          -0.22991650030084806,
          -0.1644337628833182,
          -0.14536695396873145,
          -0.06246586134990192,
          0.030115361177004002,
          0.07486561985771797,
          0.04644202287306588,
          0.03941014601247354,
          0.05229106089341581,
          0.03819268049833457,
          0.042734896366622525,
          -0.0245596699245707,
          -0.05097484958498665,
          -0.16879199687281168,
          -0.2947833835031282,
          -0.3320080318999986,
          -0.3745740482488233,
          -0.2935407243393488,
          -0.19608940197812696,
          -0.12877697312574107,
          -0.08192240203132002,
          -0.1145140844338157,
          -0.10830800891510343,
          0.006499202727593635,
          0.024877962746235938,
          0.053312732437117906,
          0.02475915762738891,
          -0.046600550212785995,
          -0.0908560360805694,
          -0.09352134820568167,
          -0.1312129824288514,
          -0.24931162382275274,
          -0.2873430835572412,
          -0.2901274773730323,
          -0.18566256412389395,
          -0.12573851169784206,
          -0.11150303556500896,
          -0.02538548433118217,
          -0.068566900815653,
          -0.13934441916768783,
          -0.18607560300447204,
          -0.2754375411647955,
          -0.3765214356407862,
          -0.4597828382444576,
          -0.46134445042021277,
          -0.41228255329362185,
          -0.36191130144502104,
          -0.3510677910469535,
          -0.3157668973215322,
          -0.23633649522338168,
          -0.2217444789782548,
          -0.22677192507278404,
          -0.25591062137028775,
          -0.27831765610585674,
          -0.2678883345684126,
          -0.29864149879467644,
          -0.29461706633240636,
          -0.32874784237075755,
          -0.3245705737167905,
          -0.27391414144959114,
          -0.2022420436133351,
          -0.1205044259479501,
          -0.021285849029124133,
          0.025625282467277417,
          0.06960985969800935,
          0.09986402516428611,
          0.11097528357847898,
          0.15031187607840962,
          0.20190244277804092,
          0.2534517658747552,
          0.28918180997995246,
          0.30575818945683064,
          0.28799774922428867,
          0.18865266808923306,
          0.16707589681128812,
          0.1748348800296682,
          0.15987284834422014,
          0.16784073682105277,
          0.15016950411392568,
          0.1854705221426119,
          0.18684869567770188,
          0.23212287595373574,
          0.3239036461841134,
          0.408910807641159,
          0.4623274109605287,
          0.49628537876127626,
          0.48407871052585566,
          0.45232590884206886,
          0.4155382899887762,
          0.3774962149354789,
          0.3854219596330526,
          0.40359615883921574,
          0.3837951873464415,
          0.37787218071299655,
          0.34519110501785427,
          0.3311872829168125,
          0.3696741753065047,
          0.3765561161543916,
          0.35693537893175337,
          0.39707037218134644,
          0.49574518766829195,
          0.49719155709894725,
          0.5086438994546365,
          0.5571887798697759,
          0.6087202733213664,
          0.7330719893443324,
          0.8325048441177216,
          0.8268335132914908,
          0.7711048029967094,
          0.7339283805394055,
          0.7309123109186315,
          0.6296607192118955,
          0.5077302544023812,
          0.4635514683956398,
          0.40009254643426995,
          0.35024315514449933,
          0.3226099591245708,
          0.32876155530877715,
          0.34715391269058216,
          0.3681351027934214,
          0.41559682938183246,
          0.48353527617559083,
          0.5636286064357384,
          0.6435999998755567,
          0.6111040336111425,
          0.5307263720710652,
          0.4959629837348541,
          0.41795517556975825,
          0.3022134936342634,
          0.2748861023670356,
          0.2639643769883861,
          0.28339932688491254,
          0.29143932876276585,
          0.29441641565560533,
          0.3027686896292486,
          0.2698345158856211,
          0.2180111357894809,
          0.1711448214964509,
          0.1402940825723319
         ],
         "z": [
          0.03398538946562703,
          0.05368756510432631,
          0.05485404496702063,
          0.043968911201269986,
          0.03718835368786092,
          0.03681404768363482,
          0.05459431862540887,
          0.11560958892158424,
          0.1886372700923563,
          0.2058377187179075,
          0.17231963906750714,
          0.1569275965029887,
          0.1190283962072072,
          0.0972913918490764,
          0.023078529099234846,
          -0.05597527167389796,
          -0.09384242649567616,
          -0.11470756685827621,
          -0.03399584024419251,
          0.00939655533912306,
          0.04996919281346513,
          0.08560875274024483,
          0.13404570695812842,
          0.1474469956130018,
          0.1797534268036497,
          0.2034907984540003,
          0.2127814286569656,
          0.1652639611050897,
          0.15058196072511335,
          0.09311401712694967,
          0.09153147493435268,
          0.09605669679922736,
          0.12484450841487174,
          0.15962574557439946,
          0.17653597493031725,
          0.22428935003091025,
          0.3565718901782583,
          0.400722769761742,
          0.43552887745465235,
          0.4935425696975225,
          0.4800163826095467,
          0.4542436733221036,
          0.4360791057773022,
          0.3047988479373777,
          0.2671427038797641,
          0.2402277986524621,
          0.2781082137208309,
          0.2964185819661619,
          0.39854751410665595,
          0.4363341210573947,
          0.4201084579277259,
          0.36936407600959503,
          0.342552012746285,
          0.277065855982238,
          0.26130861364711283,
          0.2739523864941853,
          0.2518113797448434,
          0.19910126737698275,
          0.13521755191499557,
          0.05873659583312794,
          0.00937568821648807,
          -0.008522319103532633,
          0.03373376784784784,
          0.09867725215381765,
          0.23940959723767227,
          0.2648878438458081,
          0.2749114529902824,
          0.2514736469764308,
          0.21396926351104226,
          0.12233905635093831,
          0.026121803692807612,
          -0.004635038739778524,
          0.00550919427454674,
          -0.009994500388568497,
          -0.02412804788056962,
          0.031367543080353735,
          0.06049814209830556,
          0.05079741306535007,
          0.031688661733764126,
          0.015545006829520397,
          -0.012959819142755867,
          -0.019837793830706482,
          -0.043276000873719744,
          -0.07914511723097986,
          -0.18539230688150385,
          -0.23370104770261416,
          -0.28739923543825674,
          -0.303757108268149,
          -0.32319602010619797,
          -0.3574039128971374,
          -0.39138861461688007,
          -0.47249739185004863,
          -0.47385405285826476,
          -0.4965971978803948,
          -0.557159749805173,
          -0.5208994346128379,
          -0.4725137194259845,
          -0.44650969501506954,
          -0.42868410905958787,
          -0.37175144880013256,
          -0.33160474359557474,
          -0.2941123351035207,
          -0.2752319765581106,
          -0.2744214030330985,
          -0.2502942612385198,
          -0.2222995410882372,
          -0.24430556736416909,
          -0.3220761353343921,
          -0.3941661916576857,
          -0.4430961521674589,
          -0.43271585783902894,
          -0.4081686216973293,
          -0.43282617947151303,
          -0.42017268896702037,
          -0.40739864507710893,
          -0.4101918102313612,
          -0.42964504148620597,
          -0.37297669771876224,
          -0.33188516129810236,
          -0.2982150727615434,
          -0.28650928510029516,
          -0.2658361893221865,
          -0.27504226132780746,
          -0.2158303733049918,
          -0.16864685936458457,
          -0.1229176310835048,
          -0.093611701451215,
          -0.102618218101862,
          -0.08526897626741596,
          -0.07601769687684526,
          -0.07176817945432026,
          -0.06816700142456138,
          -0.1179641416263761,
          -0.1985503458344906,
          -0.28311577669166105,
          -0.32410751141758176,
          -0.3739938035195305,
          -0.38509718586217506,
          -0.3699976286230678,
          -0.3558782271791951,
          -0.2819840244140177,
          -0.20584835360373455,
          -0.14721108317602796,
          -0.1641533139621372,
          -0.21606531557806774,
          -0.21838199668182418,
          -0.1751003136419025,
          -0.15259652029171883,
          -0.11386156234898262,
          -0.03265564947873571,
          -0.08568626254596737,
          -0.2349739760592831,
          -0.30834836312335007,
          -0.363435018572312,
          -0.34964916550370606,
          -0.35680255472714434,
          -0.31542669582807836,
          -0.19183078607665438,
          -0.07793172705701365,
          -0.044850866275970264,
          0.04788362034740134,
          0.11552039596935756,
          0.15828872687103476,
          0.15538943180286455,
          0.17639667709493947,
          0.2692812831424605,
          0.25287741058403174,
          0.2627942554559793,
          0.25433639439740435,
          0.20144874726825385,
          0.12514699148394104,
          0.11715250687185433,
          0.1328263721230415,
          0.13542305134832766,
          0.12381292028129284,
          0.11792639826577608,
          0.09162135064960163,
          0.06338268510555903,
          -0.008459022366848834,
          0.047441038428553434,
          0.15742084337559256,
          0.20718013216257997,
          0.23114233916851526,
          0.26927071066079344,
          0.2827567484756614,
          0.30671111955216734,
          0.33493614982284853,
          0.3635778368974208,
          0.3453868191969009,
          0.4620752875564785,
          0.47836388784329364,
          0.5301292335845907,
          0.4852647980114417,
          0.4127574535436871,
          0.3678081170731627,
          0.34080027080003983,
          0.25157434306815857,
          0.18518635640543812,
          0.09695583490031463,
          -0.05890380914181383,
          -0.07911574603948271,
          -0.010467538388195167
         ]
        }
       ],
       "layout": {
        "height": 2000,
        "scene": {
         "domain": {
          "x": [
           0,
           0.45
          ],
          "y": [
           0,
           1
          ]
         }
        },
        "scene2": {
         "domain": {
          "x": [
           0.55,
           1
          ],
          "y": [
           0,
           1
          ]
         }
        },
        "template": {
         "data": {
          "bar": [
           {
            "error_x": {
             "color": "#2a3f5f"
            },
            "error_y": {
             "color": "#2a3f5f"
            },
            "marker": {
             "line": {
              "color": "#E5ECF6",
              "width": 0.5
             }
            },
            "type": "bar"
           }
          ],
          "barpolar": [
           {
            "marker": {
             "line": {
              "color": "#E5ECF6",
              "width": 0.5
             }
            },
            "type": "barpolar"
           }
          ],
          "carpet": [
           {
            "aaxis": {
             "endlinecolor": "#2a3f5f",
             "gridcolor": "white",
             "linecolor": "white",
             "minorgridcolor": "white",
             "startlinecolor": "#2a3f5f"
            },
            "baxis": {
             "endlinecolor": "#2a3f5f",
             "gridcolor": "white",
             "linecolor": "white",
             "minorgridcolor": "white",
             "startlinecolor": "#2a3f5f"
            },
            "type": "carpet"
           }
          ],
          "choropleth": [
           {
            "colorbar": {
             "outlinewidth": 0,
             "ticks": ""
            },
            "type": "choropleth"
           }
          ],
          "contour": [
           {
            "colorbar": {
             "outlinewidth": 0,
             "ticks": ""
            },
            "colorscale": [
             [
              0,
              "#0d0887"
             ],
             [
              0.1111111111111111,
              "#46039f"
             ],
             [
              0.2222222222222222,
              "#7201a8"
             ],
             [
              0.3333333333333333,
              "#9c179e"
             ],
             [
              0.4444444444444444,
              "#bd3786"
             ],
             [
              0.5555555555555556,
              "#d8576b"
             ],
             [
              0.6666666666666666,
              "#ed7953"
             ],
             [
              0.7777777777777778,
              "#fb9f3a"
             ],
             [
              0.8888888888888888,
              "#fdca26"
             ],
             [
              1,
              "#f0f921"
             ]
            ],
            "type": "contour"
           }
          ],
          "contourcarpet": [
           {
            "colorbar": {
             "outlinewidth": 0,
             "ticks": ""
            },
            "type": "contourcarpet"
           }
          ],
          "heatmap": [
           {
            "colorbar": {
             "outlinewidth": 0,
             "ticks": ""
            },
            "colorscale": [
             [
              0,
              "#0d0887"
             ],
             [
              0.1111111111111111,
              "#46039f"
             ],
             [
              0.2222222222222222,
              "#7201a8"
             ],
             [
              0.3333333333333333,
              "#9c179e"
             ],
             [
              0.4444444444444444,
              "#bd3786"
             ],
             [
              0.5555555555555556,
              "#d8576b"
             ],
             [
              0.6666666666666666,
              "#ed7953"
             ],
             [
              0.7777777777777778,
              "#fb9f3a"
             ],
             [
              0.8888888888888888,
              "#fdca26"
             ],
             [
              1,
              "#f0f921"
             ]
            ],
            "type": "heatmap"
           }
          ],
          "heatmapgl": [
           {
            "colorbar": {
             "outlinewidth": 0,
             "ticks": ""
            },
            "colorscale": [
             [
              0,
              "#0d0887"
             ],
             [
              0.1111111111111111,
              "#46039f"
             ],
             [
              0.2222222222222222,
              "#7201a8"
             ],
             [
              0.3333333333333333,
              "#9c179e"
             ],
             [
              0.4444444444444444,
              "#bd3786"
             ],
             [
              0.5555555555555556,
              "#d8576b"
             ],
             [
              0.6666666666666666,
              "#ed7953"
             ],
             [
              0.7777777777777778,
              "#fb9f3a"
             ],
             [
              0.8888888888888888,
              "#fdca26"
             ],
             [
              1,
              "#f0f921"
             ]
            ],
            "type": "heatmapgl"
           }
          ],
          "histogram": [
           {
            "marker": {
             "colorbar": {
              "outlinewidth": 0,
              "ticks": ""
             }
            },
            "type": "histogram"
           }
          ],
          "histogram2d": [
           {
            "colorbar": {
             "outlinewidth": 0,
             "ticks": ""
            },
            "colorscale": [
             [
              0,
              "#0d0887"
             ],
             [
              0.1111111111111111,
              "#46039f"
             ],
             [
              0.2222222222222222,
              "#7201a8"
             ],
             [
              0.3333333333333333,
              "#9c179e"
             ],
             [
              0.4444444444444444,
              "#bd3786"
             ],
             [
              0.5555555555555556,
              "#d8576b"
             ],
             [
              0.6666666666666666,
              "#ed7953"
             ],
             [
              0.7777777777777778,
              "#fb9f3a"
             ],
             [
              0.8888888888888888,
              "#fdca26"
             ],
             [
              1,
              "#f0f921"
             ]
            ],
            "type": "histogram2d"
           }
          ],
          "histogram2dcontour": [
           {
            "colorbar": {
             "outlinewidth": 0,
             "ticks": ""
            },
            "colorscale": [
             [
              0,
              "#0d0887"
             ],
             [
              0.1111111111111111,
              "#46039f"
             ],
             [
              0.2222222222222222,
              "#7201a8"
             ],
             [
              0.3333333333333333,
              "#9c179e"
             ],
             [
              0.4444444444444444,
              "#bd3786"
             ],
             [
              0.5555555555555556,
              "#d8576b"
             ],
             [
              0.6666666666666666,
              "#ed7953"
             ],
             [
              0.7777777777777778,
              "#fb9f3a"
             ],
             [
              0.8888888888888888,
              "#fdca26"
             ],
             [
              1,
              "#f0f921"
             ]
            ],
            "type": "histogram2dcontour"
           }
          ],
          "mesh3d": [
           {
            "colorbar": {
             "outlinewidth": 0,
             "ticks": ""
            },
            "type": "mesh3d"
           }
          ],
          "parcoords": [
           {
            "line": {
             "colorbar": {
              "outlinewidth": 0,
              "ticks": ""
             }
            },
            "type": "parcoords"
           }
          ],
          "pie": [
           {
            "automargin": true,
            "type": "pie"
           }
          ],
          "scatter": [
           {
            "marker": {
             "colorbar": {
              "outlinewidth": 0,
              "ticks": ""
             }
            },
            "type": "scatter"
           }
          ],
          "scatter3d": [
           {
            "line": {
             "colorbar": {
              "outlinewidth": 0,
              "ticks": ""
             }
            },
            "marker": {
             "colorbar": {
              "outlinewidth": 0,
              "ticks": ""
             }
            },
            "type": "scatter3d"
           }
          ],
          "scattercarpet": [
           {
            "marker": {
             "colorbar": {
              "outlinewidth": 0,
              "ticks": ""
             }
            },
            "type": "scattercarpet"
           }
          ],
          "scattergeo": [
           {
            "marker": {
             "colorbar": {
              "outlinewidth": 0,
              "ticks": ""
             }
            },
            "type": "scattergeo"
           }
          ],
          "scattergl": [
           {
            "marker": {
             "colorbar": {
              "outlinewidth": 0,
              "ticks": ""
             }
            },
            "type": "scattergl"
           }
          ],
          "scattermapbox": [
           {
            "marker": {
             "colorbar": {
              "outlinewidth": 0,
              "ticks": ""
             }
            },
            "type": "scattermapbox"
           }
          ],
          "scatterpolar": [
           {
            "marker": {
             "colorbar": {
              "outlinewidth": 0,
              "ticks": ""
             }
            },
            "type": "scatterpolar"
           }
          ],
          "scatterpolargl": [
           {
            "marker": {
             "colorbar": {
              "outlinewidth": 0,
              "ticks": ""
             }
            },
            "type": "scatterpolargl"
           }
          ],
          "scatterternary": [
           {
            "marker": {
             "colorbar": {
              "outlinewidth": 0,
              "ticks": ""
             }
            },
            "type": "scatterternary"
           }
          ],
          "surface": [
           {
            "colorbar": {
             "outlinewidth": 0,
             "ticks": ""
            },
            "colorscale": [
             [
              0,
              "#0d0887"
             ],
             [
              0.1111111111111111,
              "#46039f"
             ],
             [
              0.2222222222222222,
              "#7201a8"
             ],
             [
              0.3333333333333333,
              "#9c179e"
             ],
             [
              0.4444444444444444,
              "#bd3786"
             ],
             [
              0.5555555555555556,
              "#d8576b"
             ],
             [
              0.6666666666666666,
              "#ed7953"
             ],
             [
              0.7777777777777778,
              "#fb9f3a"
             ],
             [
              0.8888888888888888,
              "#fdca26"
             ],
             [
              1,
              "#f0f921"
             ]
            ],
            "type": "surface"
           }
          ],
          "table": [
           {
            "cells": {
             "fill": {
              "color": "#EBF0F8"
             },
             "line": {
              "color": "white"
             }
            },
            "header": {
             "fill": {
              "color": "#C8D4E3"
             },
             "line": {
              "color": "white"
             }
            },
            "type": "table"
           }
          ]
         },
         "layout": {
          "annotationdefaults": {
           "arrowcolor": "#2a3f5f",
           "arrowhead": 0,
           "arrowwidth": 1
          },
          "autotypenumbers": "strict",
          "coloraxis": {
           "colorbar": {
            "outlinewidth": 0,
            "ticks": ""
           }
          },
          "colorscale": {
           "diverging": [
            [
             0,
             "#8e0152"
            ],
            [
             0.1,
             "#c51b7d"
            ],
            [
             0.2,
             "#de77ae"
            ],
            [
             0.3,
             "#f1b6da"
            ],
            [
             0.4,
             "#fde0ef"
            ],
            [
             0.5,
             "#f7f7f7"
            ],
            [
             0.6,
             "#e6f5d0"
            ],
            [
             0.7,
             "#b8e186"
            ],
            [
             0.8,
             "#7fbc41"
            ],
            [
             0.9,
             "#4d9221"
            ],
            [
             1,
             "#276419"
            ]
           ],
           "sequential": [
            [
             0,
             "#0d0887"
            ],
            [
             0.1111111111111111,
             "#46039f"
            ],
            [
             0.2222222222222222,
             "#7201a8"
            ],
            [
             0.3333333333333333,
             "#9c179e"
            ],
            [
             0.4444444444444444,
             "#bd3786"
            ],
            [
             0.5555555555555556,
             "#d8576b"
            ],
            [
             0.6666666666666666,
             "#ed7953"
            ],
            [
             0.7777777777777778,
             "#fb9f3a"
            ],
            [
             0.8888888888888888,
             "#fdca26"
            ],
            [
             1,
             "#f0f921"
            ]
           ],
           "sequentialminus": [
            [
             0,
             "#0d0887"
            ],
            [
             0.1111111111111111,
             "#46039f"
            ],
            [
             0.2222222222222222,
             "#7201a8"
            ],
            [
             0.3333333333333333,
             "#9c179e"
            ],
            [
             0.4444444444444444,
             "#bd3786"
            ],
            [
             0.5555555555555556,
             "#d8576b"
            ],
            [
             0.6666666666666666,
             "#ed7953"
            ],
            [
             0.7777777777777778,
             "#fb9f3a"
            ],
            [
             0.8888888888888888,
             "#fdca26"
            ],
            [
             1,
             "#f0f921"
            ]
           ]
          },
          "colorway": [
           "#636efa",
           "#EF553B",
           "#00cc96",
           "#ab63fa",
           "#FFA15A",
           "#19d3f3",
           "#FF6692",
           "#B6E880",
           "#FF97FF",
           "#FECB52"
          ],
          "font": {
           "color": "#2a3f5f"
          },
          "geo": {
           "bgcolor": "white",
           "lakecolor": "white",
           "landcolor": "#E5ECF6",
           "showlakes": true,
           "showland": true,
           "subunitcolor": "white"
          },
          "hoverlabel": {
           "align": "left"
          },
          "hovermode": "closest",
          "mapbox": {
           "style": "light"
          },
          "paper_bgcolor": "white",
          "plot_bgcolor": "#E5ECF6",
          "polar": {
           "angularaxis": {
            "gridcolor": "white",
            "linecolor": "white",
            "ticks": ""
           },
           "bgcolor": "#E5ECF6",
           "radialaxis": {
            "gridcolor": "white",
            "linecolor": "white",
            "ticks": ""
           }
          },
          "scene": {
           "xaxis": {
            "backgroundcolor": "#E5ECF6",
            "gridcolor": "white",
            "gridwidth": 2,
            "linecolor": "white",
            "showbackground": true,
            "ticks": "",
            "zerolinecolor": "white"
           },
           "yaxis": {
            "backgroundcolor": "#E5ECF6",
            "gridcolor": "white",
            "gridwidth": 2,
            "linecolor": "white",
            "showbackground": true,
            "ticks": "",
            "zerolinecolor": "white"
           },
           "zaxis": {
            "backgroundcolor": "#E5ECF6",
            "gridcolor": "white",
            "gridwidth": 2,
            "linecolor": "white",
            "showbackground": true,
            "ticks": "",
            "zerolinecolor": "white"
           }
          },
          "shapedefaults": {
           "line": {
            "color": "#2a3f5f"
           }
          },
          "ternary": {
           "aaxis": {
            "gridcolor": "white",
            "linecolor": "white",
            "ticks": ""
           },
           "baxis": {
            "gridcolor": "white",
            "linecolor": "white",
            "ticks": ""
           },
           "bgcolor": "#E5ECF6",
           "caxis": {
            "gridcolor": "white",
            "linecolor": "white",
            "ticks": ""
           }
          },
          "title": {
           "x": 0.05
          },
          "xaxis": {
           "automargin": true,
           "gridcolor": "white",
           "linecolor": "white",
           "ticks": "",
           "title": {
            "standoff": 15
           },
           "zerolinecolor": "white",
           "zerolinewidth": 2
          },
          "yaxis": {
           "automargin": true,
           "gridcolor": "white",
           "linecolor": "white",
           "ticks": "",
           "title": {
            "standoff": 15
           },
           "zerolinecolor": "white",
           "zerolinewidth": 2
          }
         }
        },
        "width": 2000
       }
      }
     },
     "metadata": {},
     "output_type": "display_data"
    },
    {
     "name": "stdout",
     "output_type": "stream",
     "text": [
      "Kabsch distance is 0.01597594471479965\n"
     ]
    }
   ],
   "source": [
    "# Trussart perfect structure\n",
    "trussart_true_structure = np.mean(trussart_structures, axis=0)\n",
    "\n",
    "# Trussart predicted structure\n",
    "torch_trussart_hic = torch.FloatTensor(trussart_hic)\n",
    "torch_trussart_hic = torch.reshape(torch_trussart_hic, (1, NB_BINS, NB_BINS))\n",
    "torch_trussart_hic = torch.repeat_interleave(torch_trussart_hic, BATCH_SIZE, 0)\n",
    "\n",
    "trussart_pred_structure, _ = model(torch_trussart_hic)\n",
    "trussart_pred_structure = trussart_pred_structure.detach().numpy()[0]\n",
    "\n",
    "# Superpose structure using Kabsch algorithm\n",
    "trussart_pred_structure_superposed, trussart_true_structure_superposed = \\\n",
    "        kabsch_superimposition_numpy(trussart_pred_structure, trussart_true_structure)\n",
    "\n",
    "# Plot and compare the two structures\n",
    "x_pred = trussart_pred_structure_superposed[:, 0]  \n",
    "y_pred = trussart_pred_structure_superposed[:, 1]\n",
    "z_pred = trussart_pred_structure_superposed[:, 2]\n",
    "\n",
    "x_true = trussart_true_structure_superposed[:, 0]  \n",
    "y_true = trussart_true_structure_superposed[:, 1]\n",
    "z_true = trussart_true_structure_superposed[:, 2]\n",
    "\n",
    "# Initialize figure with 4 3D subplots\n",
    "fig = make_subplots(\n",
    "    rows=1, cols=2,\n",
    "    specs=[[{'type': 'scatter3d'}, {'type': 'scatter3d'}]])\n",
    "\n",
    "# adding surfaces to subplots.\n",
    "fig.add_trace(\n",
    "    go.Scatter3d(\n",
    "    x=x_true, y=y_true, z=z_true,\n",
    "    marker=dict(\n",
    "        size=4,\n",
    "        color=np.asarray(range(len(x_true))),\n",
    "        colorscale='Viridis',\n",
    "    ),\n",
    "    line=dict(\n",
    "        color='darkblue',\n",
    "        width=2\n",
    "    )\n",
    "), row=1, col=1)\n",
    "\n",
    "fig.add_trace(\n",
    "    go.Scatter3d(\n",
    "    x=x_pred, y=y_pred, z=z_pred,\n",
    "    marker=dict(\n",
    "        size=4,\n",
    "        color=np.asarray(range(len(x_pred))),\n",
    "        colorscale='Viridis',\n",
    "    ),\n",
    "    line=dict(\n",
    "        color='darkblue',\n",
    "        width=2\n",
    "    )\n",
    "),row=1, col=2)\n",
    "\n",
    "fig.update_layout(\n",
    "    height=2000,\n",
    "    width=2000\n",
    ")\n",
    "\n",
    "fig.show()\n",
    "print('Kabsch distance is ' + str(kabsch_distance_numpy(trussart_pred_structure, trussart_true_structure)/3))"
   ]
  },
  {
   "cell_type": "code",
   "execution_count": 50,
   "metadata": {},
   "outputs": [],
   "source": [
    "kabsch_distances = []\n",
    "\n",
    "for graph_index in range(test_size):\n",
    "\n",
    "    test_true_structure = test_true_structures[graph_index,:,:]\n",
    "    test_pred_structure = test_pred_structures[graph_index,:,:]\n",
    "    \n",
    "    d = kabsch_distance_numpy(test_pred_structure, test_true_structure)\n",
    "    kabsch_distances.append(d)"
   ]
  },
  {
   "cell_type": "code",
   "execution_count": 51,
   "metadata": {},
   "outputs": [
    {
     "data": {
      "image/png": "[encoded data removed]",
      "text/plain": [
       "<Figure size 640x480 with 1 Axes>"
      ]
     },
     "metadata": {},
     "output_type": "display_data"
    },
    {
     "name": "stdout",
     "output_type": "stream",
     "text": [
      "mean: 0.07486581284371345\n",
      "median: 0.06703069609566428\n",
      "variance: 0.0017666471757391954\n"
     ]
    }
   ],
   "source": [
    "n, bins, patches = plt.hist(kabsch_distances, 100, facecolor='blue', alpha=0.5)\n",
    "plt.show()\n",
    "\n",
    "print('mean: ' + str(np.mean(kabsch_distances)))\n",
    "print('median: ' + str(np.median(kabsch_distances)))\n",
    "print('variance: ' + str(np.var(kabsch_distances)))"
   ]
  },
  {
   "cell_type": "code",
   "execution_count": 52,
   "metadata": {},
   "outputs": [],
   "source": [
    "np.savetxt('non_ae_synthetic_random_linear_trussart_test_structure_150.txt', trussart_pred_structure)"
   ]
  }
 ],
 "metadata": {
  "kernelspec": {
   "display_name": "Python 3.8.15 64-bit ('blaenv')",
   "language": "python",
   "name": "python3"
  },
  "language_info": {
   "codemirror_mode": {
    "name": "ipython",
    "version": 3
   },
   "file_extension": ".py",
   "mimetype": "text/x-python",
   "name": "python",
   "nbconvert_exporter": "python",
   "pygments_lexer": "ipython3",
   "version": "3.8.15"
  },
  "orig_nbformat": 4,
  "vscode": {
   "interpreter": {
    "hash": "1332eaeb75df64c764d664ce90a83adb72db7bc35c8e71eb42235920a3fb9784"
   }
  }
 },
 "nbformat": 4,
 "nbformat_minor": 2
}
