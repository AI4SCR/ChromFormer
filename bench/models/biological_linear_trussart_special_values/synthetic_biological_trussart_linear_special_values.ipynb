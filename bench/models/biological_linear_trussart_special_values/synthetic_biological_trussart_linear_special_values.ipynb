{
 "cells": [
  {
   "cell_type": "code",
   "execution_count": 1,
   "metadata": {},
   "outputs": [],
   "source": [
    "%load_ext autoreload\n",
    "%autoreload 2"
   ]
  },
  {
   "cell_type": "code",
   "execution_count": 2,
   "metadata": {},
   "outputs": [],
   "source": [
    "import torch\n",
    "import random\n",
    "import numpy as np\n",
    "import os \n",
    "from torch_geometric.data import DataLoader\n",
    "\n",
    "from Chromatin3D.Data_Tools.Data_Access import get_data_from_path, VanillaDataset\n",
    "from Chromatin3D.Data_Tools.Data_Plotting import plot_structure_in_sphere, plot_hic, plot_optimal_transport, plot_losses, plot_test_distance_matrix, plot_true_pred_structures, plot_hist_kabsch_distances\n",
    "from Chromatin3D.Model.model import UniformLinear, train_uniform_linear, evaluate_uniform_linear\n",
    "from Chromatin3D.Model.losses import compute_trussart_test_kabsch_loss, biological_loss_fct, kabsch_loss_fct\n",
    "from Chromatin3D.Data_Tools.Data_Calculation import save_structure, import_trussart_data, kabsch_superimposition_numpy, kabsch_distance_numpy, make_gif\n",
    "\n",
    "\n",
    "NB_EPOCHS = 73\n",
    "SEED = 0\n",
    "BATCH_SIZE = 10\n",
    "NB_BINS = 202\n",
    "EMBEDDING_SIZE = 3\n",
    "LAMBDA_BIO = 0\n",
    "LAMBDA_KABSCH = 0\n",
    "\n",
    "device = torch.device('cuda' if torch.cuda.is_available() else 'cpu')\n",
    "torch.manual_seed(SEED)\n",
    "random.seed(SEED)\n",
    "np.random.seed(SEED)\n",
    "DATA_DIR = os.environ.get('DATA_DIR')\n",
    "DATA_PATH=f'{DATA_DIR}/biological_trussart_special_values'\n",
    "TRAIN_DATASET_SIZE = 800\n",
    "TEST_DATASET_SIZE = 200\n",
    "\n"
   ]
  },
  {
   "cell_type": "code",
   "execution_count": 3,
   "metadata": {},
   "outputs": [],
   "source": [
    "train_transfer_learning_hics, test_transfer_learning_hics, train_transfer_learning_structures, test_transfer_learning_structures, train_transfer_learning_distances, test_transfer_learning_distances = get_data_from_path(DATA_PATH)\n"
   ]
  },
  {
   "cell_type": "code",
   "execution_count": 4,
   "metadata": {},
   "outputs": [
    {
     "name": "stdout",
     "output_type": "stream",
     "text": [
      "800\n"
     ]
    }
   ],
   "source": [
    "train_dataset = VanillaDataset(root = '', is_training = True, dataset_size = TRAIN_DATASET_SIZE, hics = train_transfer_learning_hics, structures = train_transfer_learning_structures, distances = train_transfer_learning_distances)\n",
    "train_dataset = train_dataset.shuffle()\n",
    "train_size = len(train_dataset)\n",
    "print(train_size)\n",
    "train_loader = DataLoader(train_dataset, batch_size=BATCH_SIZE)"
   ]
  },
  {
   "cell_type": "code",
   "execution_count": 5,
   "metadata": {},
   "outputs": [
    {
     "name": "stdout",
     "output_type": "stream",
     "text": [
      "200\n"
     ]
    }
   ],
   "source": [
    "test_dataset = VanillaDataset(root = '', is_training = False, dataset_size = TEST_DATASET_SIZE, hics = test_transfer_learning_hics, structures = test_transfer_learning_structures, distances = test_transfer_learning_distances)\n",
    "test_dataset = test_dataset.shuffle()\n",
    "test_size = len(test_dataset)\n",
    "print(test_size)\n",
    "test_loader = DataLoader(test_dataset, batch_size=BATCH_SIZE)"
   ]
  },
  {
   "cell_type": "code",
   "execution_count": 6,
   "metadata": {},
   "outputs": [],
   "source": [
    "trussart_hic, trussart_structures = import_trussart_data(DATA_DIR)"
   ]
  },
  {
   "cell_type": "code",
   "execution_count": 7,
   "metadata": {},
   "outputs": [],
   "source": [
    "distance_loss_fct = torch.nn.MSELoss()"
   ]
  },
  {
   "cell_type": "code",
   "execution_count": 8,
   "metadata": {},
   "outputs": [],
   "source": [
    "device = torch.device('cpu')\n",
    "model = UniformLinear(NB_BINS, EMBEDDING_SIZE, BATCH_SIZE).to(device)\n",
    "optimizer = torch.optim.Adam(model.parameters(), lr=0.001)"
   ]
  },
  {
   "cell_type": "code",
   "execution_count": 9,
   "metadata": {},
   "outputs": [
    {
     "name": "stdout",
     "output_type": "stream",
     "text": [
      "E: 001, Tr B: 0.0614, Tr K: 0.1080, Tr D: 0.0391, Te B: 0.0560, Te K: 0.1086, Te D: 0.0382, Trus: 0.0521\n",
      "E: 002, Tr B: 0.0602, Tr K: 0.0949, Tr D: 0.0266, Te B: 0.0545, Te K: 0.0958, Te D: 0.0262, Trus: 0.0476\n",
      "E: 003, Tr B: 0.0582, Tr K: 0.0825, Tr D: 0.0187, Te B: 0.0536, Te K: 0.0834, Te D: 0.0188, Trus: 0.0413\n",
      "E: 004, Tr B: 0.0567, Tr K: 0.0800, Tr D: 0.0171, Te B: 0.0527, Te K: 0.0808, Te D: 0.0172, Trus: 0.0388\n",
      "E: 005, Tr B: 0.0563, Tr K: 0.0784, Tr D: 0.0157, Te B: 0.0526, Te K: 0.0792, Te D: 0.0155, Trus: 0.0411\n",
      "E: 006, Tr B: 0.0563, Tr K: 0.0748, Tr D: 0.0142, Te B: 0.0525, Te K: 0.0758, Te D: 0.0142, Trus: 0.0457\n",
      "E: 007, Tr B: 0.0560, Tr K: 0.0746, Tr D: 0.0138, Te B: 0.0524, Te K: 0.0757, Te D: 0.0138, Trus: 0.0440\n",
      "E: 008, Tr B: 0.0560, Tr K: 0.0732, Tr D: 0.0134, Te B: 0.0524, Te K: 0.0741, Te D: 0.0134, Trus: 0.0433\n",
      "E: 009, Tr B: 0.0558, Tr K: 0.0738, Tr D: 0.0135, Te B: 0.0523, Te K: 0.0750, Te D: 0.0135, Trus: 0.0445\n",
      "E: 010, Tr B: 0.0558, Tr K: 0.0719, Tr D: 0.0129, Te B: 0.0522, Te K: 0.0733, Te D: 0.0130, Trus: 0.0472\n",
      "E: 011, Tr B: 0.0556, Tr K: 0.0716, Tr D: 0.0127, Te B: 0.0521, Te K: 0.0730, Te D: 0.0128, Trus: 0.0504\n",
      "E: 012, Tr B: 0.0556, Tr K: 0.0690, Tr D: 0.0125, Te B: 0.0521, Te K: 0.0706, Te D: 0.0126, Trus: 0.0473\n",
      "E: 013, Tr B: 0.0554, Tr K: 0.0706, Tr D: 0.0123, Te B: 0.0523, Te K: 0.0720, Te D: 0.0123, Trus: 0.0461\n",
      "E: 014, Tr B: 0.0556, Tr K: 0.0696, Tr D: 0.0114, Te B: 0.0522, Te K: 0.0708, Te D: 0.0116, Trus: 0.0523\n",
      "E: 015, Tr B: 0.0552, Tr K: 0.0687, Tr D: 0.0114, Te B: 0.0522, Te K: 0.0701, Te D: 0.0116, Trus: 0.0510\n",
      "E: 016, Tr B: 0.0551, Tr K: 0.0708, Tr D: 0.0121, Te B: 0.0522, Te K: 0.0721, Te D: 0.0121, Trus: 0.0480\n",
      "E: 017, Tr B: 0.0549, Tr K: 0.0724, Tr D: 0.0133, Te B: 0.0521, Te K: 0.0735, Te D: 0.0131, Trus: 0.0500\n",
      "E: 018, Tr B: 0.0548, Tr K: 0.0705, Tr D: 0.0126, Te B: 0.0520, Te K: 0.0717, Te D: 0.0126, Trus: 0.0492\n",
      "E: 019, Tr B: 0.0552, Tr K: 0.0704, Tr D: 0.0120, Te B: 0.0520, Te K: 0.0715, Te D: 0.0120, Trus: 0.0537\n",
      "E: 020, Tr B: 0.0551, Tr K: 0.0704, Tr D: 0.0118, Te B: 0.0521, Te K: 0.0716, Te D: 0.0118, Trus: 0.0517\n",
      "E: 021, Tr B: 0.0551, Tr K: 0.0688, Tr D: 0.0118, Te B: 0.0522, Te K: 0.0699, Te D: 0.0120, Trus: 0.0525\n",
      "E: 022, Tr B: 0.0550, Tr K: 0.0672, Tr D: 0.0115, Te B: 0.0520, Te K: 0.0683, Te D: 0.0118, Trus: 0.0551\n",
      "E: 023, Tr B: 0.0550, Tr K: 0.0671, Tr D: 0.0117, Te B: 0.0520, Te K: 0.0682, Te D: 0.0120, Trus: 0.0576\n",
      "E: 024, Tr B: 0.0547, Tr K: 0.0646, Tr D: 0.0118, Te B: 0.0518, Te K: 0.0654, Te D: 0.0121, Trus: 0.0623\n",
      "E: 025, Tr B: 0.0549, Tr K: 0.0632, Tr D: 0.0119, Te B: 0.0518, Te K: 0.0643, Te D: 0.0122, Trus: 0.0684\n",
      "E: 026, Tr B: 0.0550, Tr K: 0.0625, Tr D: 0.0110, Te B: 0.0519, Te K: 0.0635, Te D: 0.0114, Trus: 0.0650\n",
      "E: 027, Tr B: 0.0550, Tr K: 0.0631, Tr D: 0.0108, Te B: 0.0519, Te K: 0.0639, Te D: 0.0111, Trus: 0.0693\n",
      "E: 028, Tr B: 0.0550, Tr K: 0.0636, Tr D: 0.0106, Te B: 0.0519, Te K: 0.0643, Te D: 0.0109, Trus: 0.0695\n",
      "E: 029, Tr B: 0.0549, Tr K: 0.0628, Tr D: 0.0103, Te B: 0.0519, Te K: 0.0638, Te D: 0.0106, Trus: 0.0693\n",
      "E: 030, Tr B: 0.0550, Tr K: 0.0634, Tr D: 0.0104, Te B: 0.0518, Te K: 0.0644, Te D: 0.0107, Trus: 0.0703\n",
      "E: 031, Tr B: 0.0550, Tr K: 0.0641, Tr D: 0.0100, Te B: 0.0519, Te K: 0.0650, Te D: 0.0103, Trus: 0.0689\n",
      "E: 032, Tr B: 0.0549, Tr K: 0.0639, Tr D: 0.0100, Te B: 0.0519, Te K: 0.0650, Te D: 0.0103, Trus: 0.0679\n",
      "E: 033, Tr B: 0.0550, Tr K: 0.0642, Tr D: 0.0100, Te B: 0.0519, Te K: 0.0654, Te D: 0.0103, Trus: 0.0699\n",
      "E: 034, Tr B: 0.0550, Tr K: 0.0643, Tr D: 0.0100, Te B: 0.0519, Te K: 0.0655, Te D: 0.0102, Trus: 0.0675\n",
      "E: 035, Tr B: 0.0549, Tr K: 0.0644, Tr D: 0.0097, Te B: 0.0519, Te K: 0.0656, Te D: 0.0100, Trus: 0.0688\n",
      "E: 036, Tr B: 0.0549, Tr K: 0.0637, Tr D: 0.0095, Te B: 0.0519, Te K: 0.0649, Te D: 0.0097, Trus: 0.0669\n",
      "E: 037, Tr B: 0.0550, Tr K: 0.0638, Tr D: 0.0094, Te B: 0.0519, Te K: 0.0649, Te D: 0.0097, Trus: 0.0678\n",
      "E: 038, Tr B: 0.0550, Tr K: 0.0643, Tr D: 0.0095, Te B: 0.0518, Te K: 0.0656, Te D: 0.0097, Trus: 0.0664\n",
      "E: 039, Tr B: 0.0552, Tr K: 0.0641, Tr D: 0.0095, Te B: 0.0520, Te K: 0.0654, Te D: 0.0097, Trus: 0.0677\n",
      "E: 040, Tr B: 0.0551, Tr K: 0.0632, Tr D: 0.0095, Te B: 0.0518, Te K: 0.0645, Te D: 0.0097, Trus: 0.0695\n",
      "E: 041, Tr B: 0.0551, Tr K: 0.0634, Tr D: 0.0094, Te B: 0.0519, Te K: 0.0649, Te D: 0.0096, Trus: 0.0676\n",
      "E: 042, Tr B: 0.0548, Tr K: 0.0635, Tr D: 0.0095, Te B: 0.0519, Te K: 0.0648, Te D: 0.0096, Trus: 0.0635\n",
      "E: 043, Tr B: 0.0551, Tr K: 0.0651, Tr D: 0.0095, Te B: 0.0519, Te K: 0.0665, Te D: 0.0097, Trus: 0.0629\n",
      "E: 044, Tr B: 0.0551, Tr K: 0.0665, Tr D: 0.0102, Te B: 0.0520, Te K: 0.0676, Te D: 0.0104, Trus: 0.0675\n",
      "E: 045, Tr B: 0.0552, Tr K: 0.0661, Tr D: 0.0098, Te B: 0.0519, Te K: 0.0678, Te D: 0.0101, Trus: 0.0697\n",
      "E: 046, Tr B: 0.0551, Tr K: 0.0654, Tr D: 0.0101, Te B: 0.0519, Te K: 0.0667, Te D: 0.0103, Trus: 0.0696\n",
      "E: 047, Tr B: 0.0549, Tr K: 0.0660, Tr D: 0.0102, Te B: 0.0519, Te K: 0.0672, Te D: 0.0103, Trus: 0.0684\n",
      "E: 048, Tr B: 0.0551, Tr K: 0.0636, Tr D: 0.0096, Te B: 0.0519, Te K: 0.0650, Te D: 0.0098, Trus: 0.0666\n",
      "E: 049, Tr B: 0.0552, Tr K: 0.0655, Tr D: 0.0102, Te B: 0.0520, Te K: 0.0666, Te D: 0.0103, Trus: 0.0687\n",
      "E: 050, Tr B: 0.0551, Tr K: 0.0639, Tr D: 0.0097, Te B: 0.0518, Te K: 0.0651, Te D: 0.0099, Trus: 0.0657\n",
      "E: 051, Tr B: 0.0551, Tr K: 0.0651, Tr D: 0.0097, Te B: 0.0518, Te K: 0.0663, Te D: 0.0099, Trus: 0.0645\n",
      "E: 052, Tr B: 0.0550, Tr K: 0.0661, Tr D: 0.0097, Te B: 0.0518, Te K: 0.0671, Te D: 0.0099, Trus: 0.0612\n",
      "E: 053, Tr B: 0.0547, Tr K: 0.0654, Tr D: 0.0100, Te B: 0.0518, Te K: 0.0666, Te D: 0.0101, Trus: 0.0599\n",
      "E: 054, Tr B: 0.0549, Tr K: 0.0657, Tr D: 0.0101, Te B: 0.0520, Te K: 0.0670, Te D: 0.0102, Trus: 0.0632\n",
      "E: 055, Tr B: 0.0550, Tr K: 0.0645, Tr D: 0.0103, Te B: 0.0518, Te K: 0.0654, Te D: 0.0104, Trus: 0.0628\n",
      "E: 056, Tr B: 0.0551, Tr K: 0.0629, Tr D: 0.0110, Te B: 0.0517, Te K: 0.0639, Te D: 0.0112, Trus: 0.0668\n",
      "E: 057, Tr B: 0.0551, Tr K: 0.0624, Tr D: 0.0128, Te B: 0.0516, Te K: 0.0633, Te D: 0.0131, Trus: 0.0733\n",
      "E: 058, Tr B: 0.0548, Tr K: 0.0608, Tr D: 0.0136, Te B: 0.0516, Te K: 0.0615, Te D: 0.0137, Trus: 0.0762\n",
      "E: 059, Tr B: 0.0549, Tr K: 0.0611, Tr D: 0.0106, Te B: 0.0516, Te K: 0.0619, Te D: 0.0108, Trus: 0.0724\n",
      "E: 060, Tr B: 0.0550, Tr K: 0.0611, Tr D: 0.0110, Te B: 0.0515, Te K: 0.0620, Te D: 0.0113, Trus: 0.0688\n",
      "E: 061, Tr B: 0.0551, Tr K: 0.0600, Tr D: 0.0104, Te B: 0.0516, Te K: 0.0611, Te D: 0.0107, Trus: 0.0704\n",
      "E: 062, Tr B: 0.0551, Tr K: 0.0600, Tr D: 0.0103, Te B: 0.0517, Te K: 0.0609, Te D: 0.0105, Trus: 0.0720\n",
      "E: 063, Tr B: 0.0551, Tr K: 0.0599, Tr D: 0.0103, Te B: 0.0516, Te K: 0.0609, Te D: 0.0105, Trus: 0.0705\n",
      "E: 064, Tr B: 0.0552, Tr K: 0.0594, Tr D: 0.0102, Te B: 0.0516, Te K: 0.0605, Te D: 0.0104, Trus: 0.0729\n",
      "E: 065, Tr B: 0.0552, Tr K: 0.0597, Tr D: 0.0103, Te B: 0.0517, Te K: 0.0609, Te D: 0.0105, Trus: 0.0677\n",
      "E: 066, Tr B: 0.0553, Tr K: 0.0593, Tr D: 0.0103, Te B: 0.0516, Te K: 0.0605, Te D: 0.0105, Trus: 0.0720\n",
      "E: 067, Tr B: 0.0553, Tr K: 0.0593, Tr D: 0.0102, Te B: 0.0517, Te K: 0.0604, Te D: 0.0104, Trus: 0.0663\n",
      "E: 068, Tr B: 0.0553, Tr K: 0.0597, Tr D: 0.0097, Te B: 0.0516, Te K: 0.0608, Te D: 0.0099, Trus: 0.0602\n",
      "E: 069, Tr B: 0.0554, Tr K: 0.0596, Tr D: 0.0096, Te B: 0.0516, Te K: 0.0608, Te D: 0.0098, Trus: 0.0659\n",
      "E: 070, Tr B: 0.0551, Tr K: 0.0597, Tr D: 0.0095, Te B: 0.0515, Te K: 0.0608, Te D: 0.0098, Trus: 0.0656\n",
      "E: 071, Tr B: 0.0554, Tr K: 0.0609, Tr D: 0.0091, Te B: 0.0517, Te K: 0.0622, Te D: 0.0093, Trus: 0.0603\n",
      "E: 072, Tr B: 0.0553, Tr K: 0.0611, Tr D: 0.0090, Te B: 0.0518, Te K: 0.0623, Te D: 0.0093, Trus: 0.0565\n",
      "E: 073, Tr B: 0.0554, Tr K: 0.0626, Tr D: 0.0095, Te B: 0.0518, Te K: 0.0639, Te D: 0.0098, Trus: 0.0536\n"
     ]
    }
   ],
   "source": [
    "\n",
    "\n",
    "train_biological_losses_all_epochs = []\n",
    "train_kabsch_losses_all_epochs = []\n",
    "train_distance_losses_all_epochs = []\n",
    "\n",
    "test_biological_losses_all_epochs = []\n",
    "test_kabsch_losses_all_epochs = []\n",
    "test_distance_losses_all_epochs = []\n",
    "\n",
    "losses = []\n",
    "\n",
    "trussart_test_kabsch_losses_all_epochs = []\n",
    "\n",
    "for epoch in range(1, NB_EPOCHS+1):\n",
    "\n",
    "    loss = train_uniform_linear(model, train_loader, train_dataset, optimizer, device, BATCH_SIZE,  NB_BINS, EMBEDDING_SIZE, LAMBDA_BIO, LAMBDA_KABSCH, distance_loss_fct)\n",
    "    losses.append(loss)\n",
    "    \n",
    "    ### Training\n",
    "    train_mean_biological_loss, train_mean_kabsch_loss, train_mean_distance_loss, train_true_hics, \\\n",
    "        train_pred_structures, train_true_structures, train_pred_distances, \\\n",
    "            train_true_distances = evaluate_uniform_linear(train_loader, model, device, BATCH_SIZE, NB_BINS, EMBEDDING_SIZE, distance_loss_fct) \n",
    "    \n",
    "    # Store results\n",
    "    train_biological_losses_all_epochs.append(train_mean_biological_loss)\n",
    "    train_kabsch_losses_all_epochs.append(train_mean_kabsch_loss)    \n",
    "    train_distance_losses_all_epochs.append(train_mean_distance_loss)\n",
    "    \n",
    "    ### Testing\n",
    "    test_mean_biological_loss, test_mean_kabsch_loss, test_mean_distance_loss, test_true_hics, \\\n",
    "        test_pred_structures, test_true_structures, test_pred_distances, \\\n",
    "            test_true_distances = evaluate_uniform_linear(test_loader, model, device, BATCH_SIZE, NB_BINS, EMBEDDING_SIZE, distance_loss_fct)\n",
    "    \n",
    "    ### Trussart test\n",
    "    trussart_test_kabsch_loss = compute_trussart_test_kabsch_loss(trussart_hic, trussart_structures, model, NB_BINS, BATCH_SIZE, EMBEDDING_SIZE)\n",
    "    save_structure(model, epoch, trussart_structures, trussart_hic, NB_BINS, BATCH_SIZE, EMBEDDING_SIZE)\n",
    "    # Store results\n",
    "    test_biological_losses_all_epochs.append(test_mean_biological_loss)\n",
    "    test_kabsch_losses_all_epochs.append(test_mean_kabsch_loss)    \n",
    "    test_distance_losses_all_epochs.append(test_mean_distance_loss)\n",
    "    \n",
    "    trussart_test_kabsch_losses_all_epochs.append(trussart_test_kabsch_loss)\n",
    "    \n",
    "    print('E: {:03d}, Tr B: {:.4f}, Tr K: {:.4f}, Tr D: {:.4f}, Te B: {:.4f}, Te K: {:.4f}, Te D: {:.4f}, Trus: {:.4f}'.format(\\\n",
    "        epoch, train_mean_biological_loss, train_mean_kabsch_loss, train_mean_distance_loss, \\\n",
    "            test_mean_biological_loss, test_mean_kabsch_loss, test_mean_distance_loss, trussart_test_kabsch_loss))"
   ]
  },
  {
   "cell_type": "code",
   "execution_count": 10,
   "metadata": {},
   "outputs": [
    {
     "name": "stdout",
     "output_type": "stream",
     "text": [
      "72\n"
     ]
    }
   ],
   "source": [
    "print(np.argmin(trussart_test_kabsch_losses_all_epochs[25:])+25)"
   ]
  },
  {
   "cell_type": "code",
   "execution_count": 11,
   "metadata": {},
   "outputs": [
    {
     "data": {
      "image/png": "[encoded data removed]",
      "text/plain": [
       "<Figure size 1000x1000 with 4 Axes>"
      ]
     },
     "metadata": {},
     "output_type": "display_data"
    }
   ],
   "source": [
    "plot_losses(losses, train_biological_losses_all_epochs, test_biological_losses_all_epochs, train_kabsch_losses_all_epochs, test_kabsch_losses_all_epochs, trussart_test_kabsch_losses_all_epochs, train_distance_losses_all_epochs, test_distance_losses_all_epochs)\n"
   ]
  },
  {
   "cell_type": "code",
   "execution_count": 12,
   "metadata": {},
   "outputs": [],
   "source": [
    "GRAPH_TESTED = 0"
   ]
  },
  {
   "cell_type": "code",
   "execution_count": 13,
   "metadata": {},
   "outputs": [
    {
     "data": {
      "image/png": "[encoded data removed]",
      "text/plain": [
       "<Figure size 1500x1500 with 2 Axes>"
      ]
     },
     "metadata": {},
     "output_type": "display_data"
    }
   ],
   "source": [
    "ground_truth_matrix = test_true_distances[GRAPH_TESTED*NB_BINS:GRAPH_TESTED*NB_BINS+NB_BINS, :]\n",
    "reconstruction_matrix = test_pred_distances[GRAPH_TESTED*NB_BINS:GRAPH_TESTED*NB_BINS+NB_BINS, :]\n",
    "plot_test_distance_matrix(ground_truth_matrix, reconstruction_matrix)"
   ]
  },
  {
   "cell_type": "code",
   "execution_count": 14,
   "metadata": {},
   "outputs": [
    {
     "data": {
      "application/vnd.plotly.v1+json": {
       "config": {
        "plotlyServerURL": "https://plot.ly"
       },
       "data": [
        {
         "line": {
          "color": "darkblue",
          "width": 2
         },
         "marker": {
          "color": [
           0,
           1,
           2,
           3,
           4,
           5,
           6,
           7,
           8,
           9,
           10,
           11,
           12,
           13,
           14,
           15,
           16,
           17,
           18,
           19,
           20,
           21,
           22,
           23,
           24,
           25,
           26,
           27,
           28,
           29,
           30,
           31,
           32,
           33,
           34,
           35,
           36,
           37,
           38,
           39,
           40,
           41,
           42,
           43,
           44,
           45,
           46,
           47,
           48,
           49,
           50,
           51,
           52,
           53,
           54,
           55,
           56,
           57,
           58,
           59,
           60,
           61,
           62,
           63,
           64,
           65,
           66,
           67,
           68,
           69,
           70,
           71,
           72,
           73,
           74,
           75,
           76,
           77,
           78,
           79,
           80,
           81,
           82,
           83,
           84,
           85,
           86,
           87,
           88,
           89,
           90,
           91,
           92,
           93,
           94,
           95,
           96,
           97,
           98,
           99,
           100,
           101,
           102,
           103,
           104,
           105,
           106,
           107,
           108,
           109,
           110,
           111,
           112,
           113,
           114,
           115,
           116,
           117,
           118,
           119,
           120,
           121,
           122,
           123,
           124,
           125,
           126,
           127,
           128,
           129,
           130,
           131,
           132,
           133,
           134,
           135,
           136,
           137,
           138,
           139,
           140,
           141,
           142,
           143,
           144,
           145,
           146,
           147,
           148,
           149,
           150,
           151,
           152,
           153,
           154,
           155,
           156,
           157,
           158,
           159,
           160,
           161,
           162,
           163,
           164,
           165,
           166,
           167,
           168,
           169,
           170,
           171,
           172,
           173,
           174,
           175,
           176,
           177,
           178,
           179,
           180,
           181,
           182,
           183,
           184,
           185,
           186,
           187,
           188,
           189,
           190,
           191,
           192,
           193,
           194,
           195,
           196,
           197,
           198,
           199,
           200,
           201
          ],
          "colorscale": [
           [
            0,
            "#440154"
           ],
           [
            0.1111111111111111,
            "#482878"
           ],
           [
            0.2222222222222222,
            "#3e4989"
           ],
           [
            0.3333333333333333,
            "#31688e"
           ],
           [
            0.4444444444444444,
            "#26828e"
           ],
           [
            0.5555555555555556,
            "#1f9e89"
           ],
           [
            0.6666666666666666,
            "#35b779"
           ],
           [
            0.7777777777777778,
            "#6ece58"
           ],
           [
            0.8888888888888888,
            "#b5de2b"
           ],
           [
            1,
            "#fde725"
           ]
          ],
          "size": 4
         },
         "scene": "scene",
         "type": "scatter3d",
         "x": [
          0.9930968880653381,
          0.9909803867340088,
          0.9983958601951599,
          0.9964322447776794,
          0.9175460934638977,
          0.8971960544586182,
          0.839956521987915,
          0.8058918714523315,
          0.7466644048690796,
          0.7150923013687134,
          0.7365792989730835,
          0.6729572415351868,
          0.6033930778503418,
          0.6208248734474182,
          0.5538291931152344,
          0.47783127427101135,
          0.4227962791919708,
          0.43599650263786316,
          0.46541035175323486,
          0.52203768491745,
          0.4569229781627655,
          0.474241703748703,
          0.456265926361084,
          0.47487571835517883,
          0.48077481985092163,
          0.5101697444915771,
          0.5636564493179321,
          0.5550363659858704,
          0.4689851403236389,
          0.4381818175315857,
          0.47751545906066895,
          0.5460690855979919,
          0.5374953150749207,
          0.5561511516571045,
          0.5348008871078491,
          0.47674015164375305,
          0.3961412012577057,
          0.365234911441803,
          0.35764312744140625,
          0.32866615056991577,
          0.32040682435035706,
          0.32188189029693604,
          0.3282366991043091,
          0.3275550305843353,
          0.2522255480289459,
          0.1991346776485443,
          0.22298790514469147,
          0.16513916850090027,
          0.07765528559684753,
          0.012405132874846458,
          0.07631155848503113,
          0.053670890629291534,
          0.028941253200173378,
          0.03479717671871185,
          0.09258253127336502,
          0.03615769371390343,
          0.025354545563459396,
          -0.05460247024893761,
          -0.0638880506157875,
          -0.08774195611476898,
          -0.13122576475143433,
          -0.061662718653678894,
          -0.10878139734268188,
          -0.1362079381942749,
          -0.12703947722911835,
          -0.07647369801998138,
          -0.09228762984275818,
          -0.1296926736831665,
          -0.1200375035405159,
          -0.05915045365691185,
          0.01380567904561758,
          0.08354543894529343,
          0.11251793801784515,
          0.16036935150623322,
          0.15688171982765198,
          0.14512871205806732,
          0.16861113905906677,
          0.21262824535369873,
          0.15089118480682373,
          0.12690001726150513,
          0.08380937576293945,
          0.1348809003829956,
          0.115265853703022,
          0.11078979074954987,
          0.05436164513230324,
          -0.008244513534009457,
          -0.041595302522182465,
          -0.13434994220733643,
          -0.19357077777385712,
          -0.2578299939632416,
          -0.21661260724067688,
          -0.12826314568519592,
          -0.16008123755455017,
          -0.11770950257778168,
          -0.08922997117042542,
          -0.12831172347068787,
          -0.1146138459444046,
          -0.19854159653186798,
          -0.14726370573043823,
          -0.06898228824138641,
          -0.10779506713151932,
          -0.07645120471715927,
          -0.11899834126234055,
          -0.1585172712802887,
          -0.10219019651412964,
          -0.05684445798397064,
          -0.01843111217021942,
          -0.10947078466415405,
          -0.09168539196252823,
          -0.1206865906715393,
          -0.12047495692968369,
          -0.17046041786670685,
          -0.248344287276268,
          -0.2907838821411133,
          -0.2710603177547455,
          -0.20208464562892914,
          -0.27498823404312134,
          -0.27326229214668274,
          -0.26384401321411133,
          -0.2729262113571167,
          -0.3527071177959442,
          -0.3041858971118927,
          -0.24626734852790833,
          -0.22047095000743866,
          -0.23495779931545258,
          -0.23601330816745758,
          -0.26631730794906616,
          -0.2019430249929428,
          -0.287005752325058,
          -0.24454328417778015,
          -0.18571291863918304,
          -0.10924648493528366,
          -0.1696901023387909,
          -0.10824748873710632,
          -0.11745089292526245,
          -0.15500839054584503,
          -0.1711108237504959,
          -0.14888997375965118,
          -0.14619697630405426,
          -0.1461675763130188,
          -0.2349742352962494,
          -0.22570736706256866,
          -0.30670496821403503,
          -0.2701994478702545,
          -0.19842424988746643,
          -0.21923436224460602,
          -0.2538899779319763,
          -0.32836583256721497,
          -0.4113646149635315,
          -0.43096664547920227,
          -0.4010525345802307,
          -0.32467880845069885,
          -0.327765554189682,
          -0.3818926215171814,
          -0.39952924847602844,
          -0.37298744916915894,
          -0.39058616757392883,
          -0.3700890839099884,
          -0.31182023882865906,
          -0.3959495723247528,
          -0.45370492339134216,
          -0.3957078754901886,
          -0.34338197112083435,
          -0.39906367659568787,
          -0.39788079261779785,
          -0.3403606712818146,
          -0.2959222197532654,
          -0.2132849395275116,
          -0.17548736929893494,
          -0.1335163116455078,
          -0.2160181701183319,
          -0.30027857422828674,
          -0.35734814405441284,
          -0.32939574122428894,
          -0.3366563320159912,
          -0.2985740900039673,
          -0.2183973789215088,
          -0.2927047908306122,
          -0.31663578748703003,
          -0.31355011463165283,
          -0.24029920995235443,
          -0.1868162304162979,
          -0.19744934141635895,
          -0.18508654832839966,
          -0.19904465973377228,
          -0.2038423717021942,
          -0.19564634561538696,
          -0.17678561806678772,
          -0.26960989832878113,
          -0.24410665035247803,
          -0.22305281460285187,
          -0.225676491856575,
          -0.30241069197654724,
          -0.2787836790084839,
          -0.28681713342666626,
          -0.2716570496559143,
          -0.25600090622901917,
          -0.19243735074996948,
          -0.15375137329101562,
          -0.16418936848640442,
          -0.1967473030090332,
          -0.2846144139766693
         ],
         "y": [
          0.019054222851991653,
          -0.0791996493935585,
          0.01879965513944626,
          0.06629344075918198,
          0.05190427601337433,
          0.11643283069133759,
          0.045116979628801346,
          0.030064791440963745,
          -0.006018861662596464,
          0.06692333519458771,
          -0.013878639787435532,
          0.0271296463906765,
          -0.03805863484740257,
          -0.1309279203414917,
          -0.16287992894649506,
          -0.1103191003203392,
          -0.15367166697978973,
          -0.07782816886901855,
          0.004850355442613363,
          0.03363972157239914,
          -0.022987859323620796,
          0.03729206323623657,
          -0.05254640430212021,
          -0.12171623110771179,
          -0.030388951301574707,
          0.04154716432094574,
          0.11674202233552933,
          0.0777478963136673,
          0.12506559491157532,
          0.032032035291194916,
          -0.05773952975869179,
          -0.11148014664649963,
          -0.05288974940776825,
          0.01265629194676876,
          0.0014345895033329725,
          -0.06407028436660767,
          -0.11123944073915482,
          -0.057219941169023514,
          0.0407656729221344,
          0.0031013053376227617,
          -0.09277237951755524,
          -0.005181401502341032,
          -0.08753100037574768,
          0.009186919778585434,
          -0.049581486731767654,
          0.023032421246170998,
          -0.06495406478643417,
          0.009647898375988007,
          0.03748222813010216,
          0.009679468348622322,
          -0.06309961527585983,
          0.03247087448835373,
          -0.05949384346604347,
          -0.10738468170166016,
          -0.1676604300737381,
          -0.12129436433315277,
          -0.20449209213256836,
          -0.16667842864990234,
          -0.09291777014732361,
          -0.010389243252575397,
          -0.06323595345020294,
          -0.13252469897270203,
          -0.11551827192306519,
          -0.1808556765317917,
          -0.08782324194908142,
          -0.0345754399895668,
          -0.1313355416059494,
          -0.18325017392635345,
          -0.2611415684223175,
          -0.32876113057136536,
          -0.3645554482936859,
          -0.3886008858680725,
          -0.43786993622779846,
          -0.5023998618125916,
          -0.42274409532546997,
          -0.33898940682411194,
          -0.28092390298843384,
          -0.2070968747138977,
          -0.2220367193222046,
          -0.13439221680164337,
          -0.2187228798866272,
          -0.3015158772468567,
          -0.21726086735725403,
          -0.13309042155742645,
          -0.13523755967617035,
          -0.059989187866449356,
          -0.09355895966291428,
          -0.08764680474996567,
          -0.16507588326931,
          -0.21276509761810303,
          -0.27128520607948303,
          -0.3100414276123047,
          -0.26256465911865234,
          -0.18888546526432037,
          -0.10827434062957764,
          -0.04788452386856079,
          0.03323788568377495,
          -0.01763870008289814,
          -0.1011960431933403,
          -0.1540578007698059,
          -0.24207770824432373,
          -0.29052603244781494,
          -0.250305712223053,
          -0.16942551732063293,
          -0.09723678231239319,
          -0.011696167290210724,
          0.02396923303604126,
          0.02439265511929989,
          0.059884801506996155,
          0.136254221200943,
          0.23347420990467072,
          0.27448341250419617,
          0.23797184228897095,
          0.1631772667169571,
          0.23015408217906952,
          0.2956286668777466,
          0.2354789823293686,
          0.28969231247901917,
          0.381559282541275,
          0.44076457619667053,
          0.39795777201652527,
          0.31954294443130493,
          0.2796311676502228,
          0.2465076446533203,
          0.28846654295921326,
          0.37812569737434387,
          0.4658462703227997,
          0.5183876156806946,
          0.5136821866035461,
          0.45706063508987427,
          0.3790048062801361,
          0.3267095685005188,
          0.24930837750434875,
          0.17546850442886353,
          0.25229933857917786,
          0.2507301867008209,
          0.22836992144584656,
          0.3180919885635376,
          0.23490753769874573,
          0.29926812648773193,
          0.3400527238845825,
          0.2564131021499634,
          0.29965269565582275,
          0.22675321996212006,
          0.15987388789653778,
          0.23652076721191406,
          0.327678382396698,
          0.2689789831638336,
          0.22595812380313873,
          0.14346081018447876,
          0.07039789110422134,
          0.03830590844154358,
          -0.040866948664188385,
          -0.04021124541759491,
          -0.03247860446572304,
          0.048188887536525726,
          0.019240403547883034,
          0.11488039046525955,
          0.17081761360168457,
          0.16712327301502228,
          0.09346072375774384,
          0.015168469399213791,
          -0.03795274347066879,
          -0.00431174598634243,
          -0.042659975588321686,
          -0.11143840104341507,
          -0.18032203614711761,
          -0.22997386753559113,
          -0.28246796131134033,
          -0.37072181701660156,
          -0.40145158767700195,
          -0.4161628782749176,
          -0.3769904673099518,
          -0.46273818612098694,
          -0.41688117384910583,
          -0.3626115918159485,
          -0.3062179982662201,
          -0.31133726239204407,
          -0.24757562577724457,
          -0.1507052332162857,
          -0.08642233908176422,
          -0.048931267112493515,
          0.03080889768898487,
          -0.036184895783662796,
          -0.11062035709619522,
          -0.17279106378555298,
          -0.12053649127483368,
          -0.026495881378650665,
          -0.05765358731150627,
          0.02431424707174301,
          0.049073975533246994,
          0.12417158484458923,
          0.17258226871490479,
          0.12195707857608795,
          0.19695481657981873,
          0.2665086090564728,
          0.299818754196167,
          0.3626413345336914,
          0.42200562357902527,
          0.34376242756843567,
          0.4262913465499878,
          0.40739598870277405
         ],
         "z": [
          -0.034338340163230896,
          -0.03356243297457695,
          -0.03379036858677864,
          0.05222933739423752,
          -0.004593435674905777,
          -0.0758734866976738,
          -0.11188172549009323,
          -0.2028319090604782,
          -0.2724665403366089,
          -0.3302726149559021,
          -0.2786174714565277,
          -0.34130287170410156,
          -0.31742367148399353,
          -0.2903990149497986,
          -0.3548160195350647,
          -0.38829097151756287,
          -0.45721563696861267,
          -0.3961220979690552,
          -0.4403713047504425,
          -0.36538180708885193,
          -0.31834676861763,
          -0.24268105626106262,
          -0.20711667835712433,
          -0.2744079530239105,
          -0.23858290910720825,
          -0.1784161627292633,
          -0.2122364342212677,
          -0.3020365536212921,
          -0.2981472909450531,
          -0.290743350982666,
          -0.28347450494766235,
          -0.3289855420589447,
          -0.25054726004600525,
          -0.17973355948925018,
          -0.08445949852466583,
          -0.12914687395095825,
          -0.0985235944390297,
          -0.022460471838712692,
          -0.022161005064845085,
          -0.10818794369697571,
          -0.12816104292869568,
          -0.08361276239156723,
          -0.030348647385835648,
          -0.01291060633957386,
          0.010125226341187954,
          -0.029466258361935616,
          -0.06618556380271912,
          -0.038854699581861496,
          -0.07393637299537659,
          -0.005904549732804298,
          -0.022580254822969437,
          -0.01903238520026207,
          0.005254251416772604,
          0.09087599068880081,
          0.14270833134651184,
          0.20847557485103607,
          0.1572863757610321,
          0.11443888396024704,
          0.05015787109732628,
          0.09789610654115677,
          0.1684318333864212,
          0.16407783329486847,
          0.07952301949262619,
          0.011422252282500267,
          0.04175061732530594,
          -0.02356920950114727,
          -0.03037402592599392,
          0.044222477823495865,
          -0.014926613308489323,
          0.022211914882063866,
          0.077484630048275,
          0.14242374897003174,
          0.2223741114139557,
          0.2789871394634247,
          0.22152669727802277,
          0.2715858817100525,
          0.19585032761096954,
          0.14819560945034027,
          0.07320068031549454,
          0.03576047345995903,
          0.062036726623773575,
          0.0760340467095375,
          0.12267361581325531,
          0.17321276664733887,
          0.25365006923675537,
          0.2624282240867615,
          0.3485659062862396,
          0.3166201710700989,
          0.3041088581085205,
          0.24705278873443604,
          0.17970721423625946,
          0.19844846427440643,
          0.11849553883075714,
          0.06915061175823212,
          0.1176239624619484,
          0.05065685510635376,
          0.10441956669092178,
          0.1095781922340393,
          0.11648128181695938,
          0.14362093806266785,
          0.1637447625398636,
          0.24330122768878937,
          0.3222377300262451,
          0.36167827248573303,
          0.325971782207489,
          0.3428677022457123,
          0.2597334682941437,
          0.2227131873369217,
          0.13280828297138214,
          0.0781681165099144,
          0.06377594918012619,
          -0.010241632349789143,
          0.037296880036592484,
          0.0848737433552742,
          0.1540401428937912,
          0.12925437092781067,
          0.1561984419822693,
          0.07424211502075195,
          0.04061683267354965,
          -0.03730076178908348,
          -0.07553014904260635,
          -0.1095258817076683,
          -0.0408862940967083,
          0.04797473922371864,
          0.13565875589847565,
          0.09542160481214523,
          0.06308474391698837,
          0.11556582897901535,
          0.1645667999982834,
          0.23275654017925262,
          0.24301248788833618,
          0.27583011984825134,
          0.27201858162879944,
          0.29278838634490967,
          0.23219776153564453,
          0.14139093458652496,
          0.04705306515097618,
          0.08044596016407013,
          0.028177447617053986,
          -0.04609648138284683,
          -0.03566090390086174,
          0.015107635408639908,
          0.050159454345703125,
          -0.004721456672996283,
          0.0011420785449445248,
          -0.05674661323428154,
          -0.06891944259405136,
          -0.043100230395793915,
          -0.07342033088207245,
          -0.023732701316475868,
          -0.08226355910301208,
          -0.13514135777950287,
          -0.19328804314136505,
          -0.27531692385673523,
          -0.37169149518013,
          -0.32222238183021545,
          -0.22996632754802704,
          -0.220386803150177,
          -0.16439862549304962,
          -0.11372797191143036,
          -0.08377710729837418,
          -0.07090970873832703,
          -0.1349334716796875,
          -0.06126708909869194,
          0.029214506968855858,
          -0.011033069342374802,
          -0.06524721533060074,
          -0.08434384316205978,
          -0.15833450853824615,
          -0.1687554121017456,
          -0.12507441639900208,
          -0.1734754741191864,
          -0.24324288964271545,
          -0.20419298112392426,
          -0.11757125705480576,
          -0.04502153769135475,
          -0.03792514279484749,
          -0.1020430475473404,
          -0.03118639439344406,
          -0.014891882427036762,
          -0.0022065876983106136,
          -0.07564292848110199,
          -0.01918632537126541,
          -0.0900234505534172,
          -0.027386095374822617,
          0.048578958958387375,
          0.13141125440597534,
          0.10997430980205536,
          0.10150346904993057,
          0.149354949593544,
          0.2421051263809204,
          0.17876185476779938,
          0.21653978526592255,
          0.13568337261676788,
          0.19868901371955872,
          0.13092955946922302,
          0.03980203717947006,
          -0.0010868682293221354,
          0.0670173168182373,
          0.12556606531143188,
          0.08328291028738022,
          0.04351809248328209
         ]
        },
        {
         "line": {
          "color": "darkblue",
          "width": 2
         },
         "marker": {
          "color": [
           0,
           1,
           2,
           3,
           4,
           5,
           6,
           7,
           8,
           9,
           10,
           11,
           12,
           13,
           14,
           15,
           16,
           17,
           18,
           19,
           20,
           21,
           22,
           23,
           24,
           25,
           26,
           27,
           28,
           29,
           30,
           31,
           32,
           33,
           34,
           35,
           36,
           37,
           38,
           39,
           40,
           41,
           42,
           43,
           44,
           45,
           46,
           47,
           48,
           49,
           50,
           51,
           52,
           53,
           54,
           55,
           56,
           57,
           58,
           59,
           60,
           61,
           62,
           63,
           64,
           65,
           66,
           67,
           68,
           69,
           70,
           71,
           72,
           73,
           74,
           75,
           76,
           77,
           78,
           79,
           80,
           81,
           82,
           83,
           84,
           85,
           86,
           87,
           88,
           89,
           90,
           91,
           92,
           93,
           94,
           95,
           96,
           97,
           98,
           99,
           100,
           101,
           102,
           103,
           104,
           105,
           106,
           107,
           108,
           109,
           110,
           111,
           112,
           113,
           114,
           115,
           116,
           117,
           118,
           119,
           120,
           121,
           122,
           123,
           124,
           125,
           126,
           127,
           128,
           129,
           130,
           131,
           132,
           133,
           134,
           135,
           136,
           137,
           138,
           139,
           140,
           141,
           142,
           143,
           144,
           145,
           146,
           147,
           148,
           149,
           150,
           151,
           152,
           153,
           154,
           155,
           156,
           157,
           158,
           159,
           160,
           161,
           162,
           163,
           164,
           165,
           166,
           167,
           168,
           169,
           170,
           171,
           172,
           173,
           174,
           175,
           176,
           177,
           178,
           179,
           180,
           181,
           182,
           183,
           184,
           185,
           186,
           187,
           188,
           189,
           190,
           191,
           192,
           193,
           194,
           195,
           196,
           197,
           198,
           199,
           200,
           201
          ],
          "colorscale": [
           [
            0,
            "#440154"
           ],
           [
            0.1111111111111111,
            "#482878"
           ],
           [
            0.2222222222222222,
            "#3e4989"
           ],
           [
            0.3333333333333333,
            "#31688e"
           ],
           [
            0.4444444444444444,
            "#26828e"
           ],
           [
            0.5555555555555556,
            "#1f9e89"
           ],
           [
            0.6666666666666666,
            "#35b779"
           ],
           [
            0.7777777777777778,
            "#6ece58"
           ],
           [
            0.8888888888888888,
            "#b5de2b"
           ],
           [
            1,
            "#fde725"
           ]
          ],
          "size": 4
         },
         "scene": "scene2",
         "type": "scatter3d",
         "x": [
          0.8828366046858,
          0.9867486140091797,
          0.872541346477751,
          0.9470890427852173,
          0.8346298013758398,
          0.8307221585664397,
          0.7877004818722433,
          0.7847407549705416,
          0.732678189818864,
          0.721588141787805,
          0.7220437242842263,
          0.7071952286230593,
          0.6415580111709056,
          0.6596222762961661,
          0.6492621254567965,
          0.6270571711014699,
          0.6575800132526396,
          0.5823593349368831,
          0.6271878095123907,
          0.6177848555771994,
          0.5619046563986089,
          0.519626840036683,
          0.4898263807292329,
          0.5291010838977075,
          0.523833423557216,
          0.5351350982783482,
          0.5712418845326244,
          0.6004708171213924,
          0.5501791146574473,
          0.5196785061977054,
          0.5423593525894216,
          0.5994620624060836,
          0.5638880806130486,
          0.5421834522532928,
          0.5081544967700039,
          0.45559023180512226,
          0.3936202984151238,
          0.3520321498230704,
          0.3660171662528334,
          0.3792617373355541,
          0.37279168698237486,
          0.3573791716638452,
          0.3355054753500524,
          0.34177251473104353,
          0.23707894624575918,
          0.2366073815472508,
          0.24150507531254742,
          0.1838448575342946,
          0.1680405776702276,
          0.06571942228936907,
          0.13274883948583283,
          0.10647615435404813,
          0.07328094077987521,
          0.02281699884911591,
          0.006583083972311743,
          -0.045550226429015524,
          -0.01665305089281621,
          -0.06065777270913267,
          -0.0007312581435330762,
          -0.031583664349334496,
          -0.14406803168519952,
          -0.06202682539386645,
          -0.05621734100629821,
          -0.11418220007987935,
          -0.044181681853598304,
          -0.011773796627976214,
          -0.028841804790394845,
          -0.09239855430366364,
          -0.11081924159066524,
          -0.0571782726806251,
          -0.03010213361358238,
          -0.05398847412038709,
          -0.07970388537887275,
          -0.06265447554450568,
          -0.05984707492748159,
          -0.0691395933686229,
          -0.0024896446431585456,
          0.06526486255953994,
          0.03313991776012047,
          0.14609769746893503,
          0.03318486137181193,
          0.02671535063853884,
          0.032244428360775734,
          0.02500851538977095,
          -0.07179426127649505,
          -0.09128854572571773,
          -0.20708035127612415,
          -0.20906770939916924,
          -0.25604173325699103,
          -0.24551845084779583,
          -0.1644580794588193,
          -0.1367255356044389,
          -0.1683147488597377,
          -0.057027264299991325,
          -0.04218844622745234,
          -0.0628729758638531,
          -0.04567510973436602,
          -0.11983255352715491,
          -0.068883604465687,
          -0.0541560645588953,
          -0.10728541428987519,
          -0.18147933322805088,
          -0.18876071459970128,
          -0.323044038819877,
          -0.21114419364150508,
          -0.23011403489850335,
          -0.1426507754355466,
          -0.14281927682458864,
          -0.10438068907474594,
          -0.14150939405287302,
          -0.2262299672772736,
          -0.2568052725422772,
          -0.2946991174573305,
          -0.303053792236678,
          -0.3669044340460217,
          -0.37135743226105483,
          -0.35247520179114766,
          -0.32612909840399984,
          -0.4126422188604771,
          -0.3530190323439294,
          -0.3249558419358485,
          -0.31511853652102284,
          -0.27439544466931304,
          -0.305713404206744,
          -0.39202185535458334,
          -0.418510176044293,
          -0.45496216010699914,
          -0.3742573222002391,
          -0.4244140615539627,
          -0.46562423099842104,
          -0.41678185329626793,
          -0.3343332328667179,
          -0.3764595779367776,
          -0.28652078164436745,
          -0.33011240304818856,
          -0.2979780357320192,
          -0.23634847645102294,
          -0.31890374730622767,
          -0.1989720602858711,
          -0.24432681924426408,
          -0.31273888794886134,
          -0.28828032811352944,
          -0.3709688012189131,
          -0.28601419149581947,
          -0.17003401404409377,
          -0.2488974893440566,
          -0.3278988743670098,
          -0.33153142377906597,
          -0.31099410014222767,
          -0.28291228457205464,
          -0.2524106898512105,
          -0.18324920123689986,
          -0.14302154258909275,
          -0.10512658010182624,
          -0.13355315181572014,
          -0.09198000402242187,
          -0.1544374124140908,
          -0.19941340828878537,
          -0.2127878831065039,
          -0.27169613164570855,
          -0.2692086220399092,
          -0.21186478875011244,
          -0.14403813338605345,
          -0.2523361677396434,
          -0.22514076575302913,
          -0.1435734695080887,
          -0.12499282481555687,
          -0.10540426244706247,
          -0.11095973790719528,
          -0.08255166009677935,
          -0.0898272842391626,
          -0.15521557257851012,
          -0.1399162428681873,
          -0.1131745817397695,
          -0.18242750431790064,
          -0.2159473330649095,
          -0.1246416822595245,
          -0.18132547878878283,
          -0.18881835709463787,
          -0.13686740146497017,
          -0.11687263485039558,
          -0.08511511642123533,
          -0.10948553017165778,
          -0.07708833326691475,
          -0.08616741993582708,
          -0.11343049200690983,
          -0.15510872092768807,
          -0.13852321775621046,
          -0.13706349139250204,
          -0.18837303971936573,
          -0.2645673773764681,
          -0.27085457364303434,
          -0.3745933600743783,
          -0.28632922495229934,
          -0.36350411687939155,
          -0.36874171860601834,
          -0.34605973378171556,
          -0.3170910933661317,
          -0.3637420140612822,
          -0.37180814107829796,
          -0.39524066194534563,
          -0.3514367476058011
         ],
         "y": [
          -0.10825824101193939,
          -0.06819185347810064,
          -0.027621011052970396,
          -0.11309760155504359,
          0.009055232778418855,
          -0.041779446042580645,
          0.0273429246285943,
          -0.016515110098509506,
          0.08913312510760812,
          0.07574437190614887,
          0.1304814995478151,
          0.12192946198879116,
          -0.03575297830187207,
          -0.03728391341622666,
          -0.08040414673246106,
          -0.03198961556426072,
          0.04353166925660727,
          -0.025739983005522236,
          0.026551464087666645,
          0.0009571002338625439,
          -0.03175576585275188,
          -0.027272543896355174,
          -0.05338027218055514,
          -0.08226628288840289,
          -0.055734326080700135,
          -0.012710535416134757,
          0.024998499465176887,
          0.02828506925467171,
          0.04546038687494807,
          -0.019099907501458915,
          0.0032128812896439537,
          0.054152051475509506,
          -0.003599996957744885,
          -0.0039475914848602,
          -0.050950788316717045,
          -0.07886028045737559,
          -0.10193609174383533,
          -0.14564409807766215,
          -0.10632466282941005,
          -0.08781355149735404,
          -0.1312058778105569,
          -0.1047971245692598,
          -0.13026527016155584,
          -0.12826332058525056,
          -0.16804150563536718,
          -0.161717485919033,
          -0.15955365940156155,
          -0.16101143936712378,
          -0.11704552172933803,
          -0.10328598559525975,
          -0.11999982143398183,
          -0.12313682642421578,
          -0.12228863857260806,
          -0.11227484634850488,
          -0.1632649855955483,
          -0.14852111389954756,
          -0.17680822651481576,
          -0.1425632596956563,
          -0.1083519470518993,
          -0.09373862886173169,
          -0.10358663266418724,
          -0.13043995125366797,
          -0.13917828269584434,
          -0.13919477050820236,
          -0.11449595378001427,
          -0.08957665607787652,
          -0.08614080597343447,
          -0.15668580247677422,
          -0.15012684354107306,
          -0.21599520514569942,
          -0.3002063555772411,
          -0.2890520368350233,
          -0.4002420101628494,
          -0.4351421593184465,
          -0.38047492753574386,
          -0.33321772036678793,
          -0.2868178171639224,
          -0.23795124074539203,
          -0.16979123589258596,
          -0.14939918445345954,
          -0.18330012934257137,
          -0.2406923551006749,
          -0.2259028346871377,
          -0.16468393556508554,
          -0.16783581765539043,
          -0.1137783192513902,
          -0.15608209928972086,
          -0.14896597667145214,
          -0.23335178649061192,
          -0.2339383847912309,
          -0.2383932685385578,
          -0.24918357793359444,
          -0.1974436325460652,
          -0.1774933729811015,
          -0.1428097730359221,
          -0.10978339110377032,
          -0.05830627381357601,
          -0.050196072506835464,
          -0.14359044978957516,
          -0.2050158319367229,
          -0.20515704757360728,
          -0.24261269650652106,
          -0.24497130545005075,
          -0.22659777580235538,
          -0.18229784427305504,
          -0.1560937595658769,
          -0.11493819847938808,
          -0.09855243291810856,
          -0.09759641675954374,
          0.030364214445444668,
          0.14400999813837068,
          0.21056343641091368,
          0.17988846806515651,
          0.09728773805748793,
          0.1471664055268434,
          0.1859586435234248,
          0.13657125544734094,
          0.2011648933650233,
          0.31297590769576494,
          0.38156312375866597,
          0.4323651559199975,
          0.32452897500981115,
          0.24214374178700718,
          0.16460614455977965,
          0.17899416166976473,
          0.252326301161948,
          0.3591547874815982,
          0.4273512185420984,
          0.4365830199704708,
          0.358508833983868,
          0.28913272025993747,
          0.25523634644421683,
          0.16470853461977955,
          0.07781784635938009,
          0.17714975947928568,
          0.13398468736223357,
          0.15456306576662557,
          0.20244130737196603,
          0.14813163348442726,
          0.2296625548547458,
          0.2828235467437795,
          0.17692074221129542,
          0.21508667624767003,
          0.1978203336813074,
          0.10727802226677109,
          0.1908254150989177,
          0.2882983188627399,
          0.26575301232570403,
          0.3165414558920501,
          0.2416342338687949,
          0.21460097023525312,
          0.16674192891488357,
          0.1427539938381631,
          0.28423335377654585,
          0.3934464068033449,
          0.3896601105609049,
          0.34031128374421404,
          0.32209789633660235,
          0.29012444904337054,
          0.32061688416458556,
          0.28684872065333805,
          0.17569091064748218,
          0.1189092241751274,
          0.12239327702843623,
          0.023505926009628357,
          -0.005031498604359677,
          -0.027281403517964518,
          -0.08456730799656104,
          -0.16345049445689946,
          -0.17292548243275943,
          -0.16039869247452207,
          -0.1552992242996573,
          -0.09450833346677352,
          -0.08861091611990576,
          -0.09428925753227692,
          -0.19172575755168825,
          -0.1391822114685893,
          -0.10224565165562903,
          -0.12716080340582558,
          -0.024355874914812826,
          -0.036564729798840144,
          -0.03138756870821677,
          0.008748769068122698,
          -0.0069165334250387645,
          -0.03491420577569849,
          -0.1254988385495303,
          -0.13769213854584403,
          -0.1210344856301128,
          -0.0488902217456732,
          -0.06307727495338876,
          -0.11511644664764469,
          0.002207424840188874,
          0.05706689818556391,
          0.06971566080856909,
          0.10514988200922712,
          0.18711196936925917,
          0.24386088863080713,
          0.27698560951049195,
          0.3393861591271429,
          0.23488667536952373,
          0.3250129399492371,
          0.35068263181695036
         ],
         "z": [
          -0.3532720217379991,
          -0.1472314943749011,
          -0.4288482082123104,
          -0.20673846537820376,
          -0.3061125259528893,
          -0.25417316512903915,
          -0.25908848563489756,
          -0.19571852084314276,
          -0.2382742894688099,
          -0.23349157050377678,
          -0.2489696590672257,
          -0.21635682563277842,
          -0.08636561146505466,
          -0.1673154565928793,
          -0.11201220531339869,
          -0.045966965965674816,
          -0.05105496304901758,
          -0.08359398475194857,
          -0.05891405335788413,
          -0.14591784647988973,
          -0.08252010528153012,
          -0.09774479925867936,
          -0.13376879867072494,
          -0.09717548857026537,
          -0.14479673370475057,
          -0.0915318390960205,
          -0.18111738896235782,
          -0.14191410284235775,
          -0.1400913761539644,
          -0.1189279170401103,
          -0.1160027452516097,
          -0.2440058283280843,
          -0.18423115832325454,
          -0.16707671780507394,
          -0.15144963823561514,
          -0.14799373343960084,
          -0.11169829534448251,
          -0.09290905465542708,
          -0.0607950042878032,
          -0.07106513640450074,
          -0.029406718102214246,
          -0.08649237566517902,
          -0.017268447368806752,
          -0.0613550843776844,
          -0.049447060928507265,
          -0.02695114140124597,
          -0.03358661637482946,
          0.0021357337506127602,
          0.011361581068190218,
          0.010895276303435385,
          -0.02374421857522208,
          0.0031341025870547947,
          -0.004702052753267799,
          -0.06692939780048775,
          -0.11359007644357894,
          -0.11216924619075899,
          -0.05503042325007373,
          -0.03602503482087969,
          0.023152181342421786,
          0.011779788828118006,
          0.004806404229376504,
          -0.061495839009862927,
          0.036753299262456005,
          0.06433422480542685,
          0.0429694405018749,
          0.08635834697581835,
          0.0825152818856539,
          0.040735450287440446,
          0.11885308054225553,
          0.07581866077715517,
          0.03168507019470002,
          -0.028220021413018225,
          -0.09348883704060722,
          -0.09382163952117936,
          -0.12525481069487782,
          -0.1530014833571012,
          -0.08608528298092177,
          -0.11078981435638655,
          -0.10076325761250232,
          -0.03474327197014235,
          -0.056808375584854284,
          -0.07659232446303216,
          -0.03379862810831435,
          -0.10288213832976635,
          -0.12455170591200997,
          -0.10428448020306734,
          -0.15431353709432427,
          -0.13267368359334936,
          -0.08488659842194873,
          0.03973881568973778,
          0.06725496267896099,
          -0.04114394202644182,
          0.04322131965346154,
          0.04861999015602695,
          -0.004271440038388012,
          0.05108425335384381,
          0.03986439887524331,
          0.08425426668132127,
          0.03547013073088129,
          0.04024499459376621,
          0.004477180767395294,
          -0.03552368928571928,
          -0.0996224531276081,
          -0.10923713105325358,
          -0.09627007794369274,
          -0.11255104614362474,
          -0.09925687780559088,
          -0.03693039971290411,
          0.011108395010559742,
          0.03550500205065016,
          0.01134247165210311,
          0.03861749832317527,
          0.04331927343137883,
          0.0848147880265828,
          0.02370486555788778,
          -0.008977555897630312,
          -0.0020559061136184355,
          0.030295221748206397,
          -0.08390839342169638,
          -0.05006989766602411,
          -0.0011886163281182105,
          0.03203777801407244,
          0.0261751543187411,
          0.03656346438920241,
          -0.027781305168099235,
          -0.05626431045937138,
          -0.11399334453546987,
          -0.08839989103093669,
          -0.13446720759504763,
          -0.11651347716953842,
          -0.13546278945141726,
          -0.1457643257430227,
          -0.11858510953961274,
          -0.10492864757190183,
          -0.10669819256040171,
          -0.01689685973097845,
          0.006108998318653244,
          -0.03782823195349905,
          -0.009415729525399628,
          -0.04699242608653675,
          -0.012562980910931705,
          -0.000518638051467182,
          0.006643436249811871,
          0.0560096822372856,
          0.06545770737013869,
          0.03416884715577223,
          -0.0362835402500458,
          0.04125277862065997,
          0.10357090843881549,
          0.17232274321559982,
          0.18567234590086346,
          0.20195962600680123,
          0.2593002549656861,
          0.30234880306383743,
          0.27743159382410437,
          0.2689926122803482,
          0.21883527355562304,
          0.20021274031063654,
          0.13773402010072963,
          0.14364039635434125,
          0.19948707168587868,
          0.22015071896204755,
          0.2268715776729896,
          0.21566530456329813,
          0.24607425708134073,
          0.2433739787486336,
          0.2741736103227692,
          0.22170759175563967,
          0.2890074664314061,
          0.28553542549943556,
          0.33667193446509597,
          0.35990364329758,
          0.43643362500293914,
          0.4353831163898448,
          0.40567412518360607,
          0.2995112069256909,
          0.2602496704865177,
          0.30883662297761233,
          0.2549386725970956,
          0.2240845670440624,
          0.16368523432094137,
          0.1917022616338676,
          0.11750611508505301,
          0.16104023687597854,
          0.1577728539162725,
          0.09425310250823067,
          0.042788478554121746,
          0.04655529834910489,
          0.14239926442183115,
          0.09223883539383773,
          0.030313903003172833,
          0.04389179445610493,
          0.04442151686133115,
          0.1026861117600929,
          0.040671405913415684,
          0.002998887832050252,
          -0.025029463683216124,
          -0.04955416184206077,
          -0.11382143344045292,
          -0.039815768691482484,
          -0.09305714017868837,
          -0.0722945997099093
         ]
        }
       ],
       "layout": {
        "height": 1000,
        "scene": {
         "domain": {
          "x": [
           0,
           0.45
          ],
          "y": [
           0,
           1
          ]
         }
        },
        "scene2": {
         "domain": {
          "x": [
           0.55,
           1
          ],
          "y": [
           0,
           1
          ]
         }
        },
        "template": {
         "data": {
          "bar": [
           {
            "error_x": {
             "color": "#2a3f5f"
            },
            "error_y": {
             "color": "#2a3f5f"
            },
            "marker": {
             "line": {
              "color": "#E5ECF6",
              "width": 0.5
             }
            },
            "type": "bar"
           }
          ],
          "barpolar": [
           {
            "marker": {
             "line": {
              "color": "#E5ECF6",
              "width": 0.5
             }
            },
            "type": "barpolar"
           }
          ],
          "carpet": [
           {
            "aaxis": {
             "endlinecolor": "#2a3f5f",
             "gridcolor": "white",
             "linecolor": "white",
             "minorgridcolor": "white",
             "startlinecolor": "#2a3f5f"
            },
            "baxis": {
             "endlinecolor": "#2a3f5f",
             "gridcolor": "white",
             "linecolor": "white",
             "minorgridcolor": "white",
             "startlinecolor": "#2a3f5f"
            },
            "type": "carpet"
           }
          ],
          "choropleth": [
           {
            "colorbar": {
             "outlinewidth": 0,
             "ticks": ""
            },
            "type": "choropleth"
           }
          ],
          "contour": [
           {
            "colorbar": {
             "outlinewidth": 0,
             "ticks": ""
            },
            "colorscale": [
             [
              0,
              "#0d0887"
             ],
             [
              0.1111111111111111,
              "#46039f"
             ],
             [
              0.2222222222222222,
              "#7201a8"
             ],
             [
              0.3333333333333333,
              "#9c179e"
             ],
             [
              0.4444444444444444,
              "#bd3786"
             ],
             [
              0.5555555555555556,
              "#d8576b"
             ],
             [
              0.6666666666666666,
              "#ed7953"
             ],
             [
              0.7777777777777778,
              "#fb9f3a"
             ],
             [
              0.8888888888888888,
              "#fdca26"
             ],
             [
              1,
              "#f0f921"
             ]
            ],
            "type": "contour"
           }
          ],
          "contourcarpet": [
           {
            "colorbar": {
             "outlinewidth": 0,
             "ticks": ""
            },
            "type": "contourcarpet"
           }
          ],
          "heatmap": [
           {
            "colorbar": {
             "outlinewidth": 0,
             "ticks": ""
            },
            "colorscale": [
             [
              0,
              "#0d0887"
             ],
             [
              0.1111111111111111,
              "#46039f"
             ],
             [
              0.2222222222222222,
              "#7201a8"
             ],
             [
              0.3333333333333333,
              "#9c179e"
             ],
             [
              0.4444444444444444,
              "#bd3786"
             ],
             [
              0.5555555555555556,
              "#d8576b"
             ],
             [
              0.6666666666666666,
              "#ed7953"
             ],
             [
              0.7777777777777778,
              "#fb9f3a"
             ],
             [
              0.8888888888888888,
              "#fdca26"
             ],
             [
              1,
              "#f0f921"
             ]
            ],
            "type": "heatmap"
           }
          ],
          "heatmapgl": [
           {
            "colorbar": {
             "outlinewidth": 0,
             "ticks": ""
            },
            "colorscale": [
             [
              0,
              "#0d0887"
             ],
             [
              0.1111111111111111,
              "#46039f"
             ],
             [
              0.2222222222222222,
              "#7201a8"
             ],
             [
              0.3333333333333333,
              "#9c179e"
             ],
             [
              0.4444444444444444,
              "#bd3786"
             ],
             [
              0.5555555555555556,
              "#d8576b"
             ],
             [
              0.6666666666666666,
              "#ed7953"
             ],
             [
              0.7777777777777778,
              "#fb9f3a"
             ],
             [
              0.8888888888888888,
              "#fdca26"
             ],
             [
              1,
              "#f0f921"
             ]
            ],
            "type": "heatmapgl"
           }
          ],
          "histogram": [
           {
            "marker": {
             "colorbar": {
              "outlinewidth": 0,
              "ticks": ""
             }
            },
            "type": "histogram"
           }
          ],
          "histogram2d": [
           {
            "colorbar": {
             "outlinewidth": 0,
             "ticks": ""
            },
            "colorscale": [
             [
              0,
              "#0d0887"
             ],
             [
              0.1111111111111111,
              "#46039f"
             ],
             [
              0.2222222222222222,
              "#7201a8"
             ],
             [
              0.3333333333333333,
              "#9c179e"
             ],
             [
              0.4444444444444444,
              "#bd3786"
             ],
             [
              0.5555555555555556,
              "#d8576b"
             ],
             [
              0.6666666666666666,
              "#ed7953"
             ],
             [
              0.7777777777777778,
              "#fb9f3a"
             ],
             [
              0.8888888888888888,
              "#fdca26"
             ],
             [
              1,
              "#f0f921"
             ]
            ],
            "type": "histogram2d"
           }
          ],
          "histogram2dcontour": [
           {
            "colorbar": {
             "outlinewidth": 0,
             "ticks": ""
            },
            "colorscale": [
             [
              0,
              "#0d0887"
             ],
             [
              0.1111111111111111,
              "#46039f"
             ],
             [
              0.2222222222222222,
              "#7201a8"
             ],
             [
              0.3333333333333333,
              "#9c179e"
             ],
             [
              0.4444444444444444,
              "#bd3786"
             ],
             [
              0.5555555555555556,
              "#d8576b"
             ],
             [
              0.6666666666666666,
              "#ed7953"
             ],
             [
              0.7777777777777778,
              "#fb9f3a"
             ],
             [
              0.8888888888888888,
              "#fdca26"
             ],
             [
              1,
              "#f0f921"
             ]
            ],
            "type": "histogram2dcontour"
           }
          ],
          "mesh3d": [
           {
            "colorbar": {
             "outlinewidth": 0,
             "ticks": ""
            },
            "type": "mesh3d"
           }
          ],
          "parcoords": [
           {
            "line": {
             "colorbar": {
              "outlinewidth": 0,
              "ticks": ""
             }
            },
            "type": "parcoords"
           }
          ],
          "pie": [
           {
            "automargin": true,
            "type": "pie"
           }
          ],
          "scatter": [
           {
            "marker": {
             "colorbar": {
              "outlinewidth": 0,
              "ticks": ""
             }
            },
            "type": "scatter"
           }
          ],
          "scatter3d": [
           {
            "line": {
             "colorbar": {
              "outlinewidth": 0,
              "ticks": ""
             }
            },
            "marker": {
             "colorbar": {
              "outlinewidth": 0,
              "ticks": ""
             }
            },
            "type": "scatter3d"
           }
          ],
          "scattercarpet": [
           {
            "marker": {
             "colorbar": {
              "outlinewidth": 0,
              "ticks": ""
             }
            },
            "type": "scattercarpet"
           }
          ],
          "scattergeo": [
           {
            "marker": {
             "colorbar": {
              "outlinewidth": 0,
              "ticks": ""
             }
            },
            "type": "scattergeo"
           }
          ],
          "scattergl": [
           {
            "marker": {
             "colorbar": {
              "outlinewidth": 0,
              "ticks": ""
             }
            },
            "type": "scattergl"
           }
          ],
          "scattermapbox": [
           {
            "marker": {
             "colorbar": {
              "outlinewidth": 0,
              "ticks": ""
             }
            },
            "type": "scattermapbox"
           }
          ],
          "scatterpolar": [
           {
            "marker": {
             "colorbar": {
              "outlinewidth": 0,
              "ticks": ""
             }
            },
            "type": "scatterpolar"
           }
          ],
          "scatterpolargl": [
           {
            "marker": {
             "colorbar": {
              "outlinewidth": 0,
              "ticks": ""
             }
            },
            "type": "scatterpolargl"
           }
          ],
          "scatterternary": [
           {
            "marker": {
             "colorbar": {
              "outlinewidth": 0,
              "ticks": ""
             }
            },
            "type": "scatterternary"
           }
          ],
          "surface": [
           {
            "colorbar": {
             "outlinewidth": 0,
             "ticks": ""
            },
            "colorscale": [
             [
              0,
              "#0d0887"
             ],
             [
              0.1111111111111111,
              "#46039f"
             ],
             [
              0.2222222222222222,
              "#7201a8"
             ],
             [
              0.3333333333333333,
              "#9c179e"
             ],
             [
              0.4444444444444444,
              "#bd3786"
             ],
             [
              0.5555555555555556,
              "#d8576b"
             ],
             [
              0.6666666666666666,
              "#ed7953"
             ],
             [
              0.7777777777777778,
              "#fb9f3a"
             ],
             [
              0.8888888888888888,
              "#fdca26"
             ],
             [
              1,
              "#f0f921"
             ]
            ],
            "type": "surface"
           }
          ],
          "table": [
           {
            "cells": {
             "fill": {
              "color": "#EBF0F8"
             },
             "line": {
              "color": "white"
             }
            },
            "header": {
             "fill": {
              "color": "#C8D4E3"
             },
             "line": {
              "color": "white"
             }
            },
            "type": "table"
           }
          ]
         },
         "layout": {
          "annotationdefaults": {
           "arrowcolor": "#2a3f5f",
           "arrowhead": 0,
           "arrowwidth": 1
          },
          "autotypenumbers": "strict",
          "coloraxis": {
           "colorbar": {
            "outlinewidth": 0,
            "ticks": ""
           }
          },
          "colorscale": {
           "diverging": [
            [
             0,
             "#8e0152"
            ],
            [
             0.1,
             "#c51b7d"
            ],
            [
             0.2,
             "#de77ae"
            ],
            [
             0.3,
             "#f1b6da"
            ],
            [
             0.4,
             "#fde0ef"
            ],
            [
             0.5,
             "#f7f7f7"
            ],
            [
             0.6,
             "#e6f5d0"
            ],
            [
             0.7,
             "#b8e186"
            ],
            [
             0.8,
             "#7fbc41"
            ],
            [
             0.9,
             "#4d9221"
            ],
            [
             1,
             "#276419"
            ]
           ],
           "sequential": [
            [
             0,
             "#0d0887"
            ],
            [
             0.1111111111111111,
             "#46039f"
            ],
            [
             0.2222222222222222,
             "#7201a8"
            ],
            [
             0.3333333333333333,
             "#9c179e"
            ],
            [
             0.4444444444444444,
             "#bd3786"
            ],
            [
             0.5555555555555556,
             "#d8576b"
            ],
            [
             0.6666666666666666,
             "#ed7953"
            ],
            [
             0.7777777777777778,
             "#fb9f3a"
            ],
            [
             0.8888888888888888,
             "#fdca26"
            ],
            [
             1,
             "#f0f921"
            ]
           ],
           "sequentialminus": [
            [
             0,
             "#0d0887"
            ],
            [
             0.1111111111111111,
             "#46039f"
            ],
            [
             0.2222222222222222,
             "#7201a8"
            ],
            [
             0.3333333333333333,
             "#9c179e"
            ],
            [
             0.4444444444444444,
             "#bd3786"
            ],
            [
             0.5555555555555556,
             "#d8576b"
            ],
            [
             0.6666666666666666,
             "#ed7953"
            ],
            [
             0.7777777777777778,
             "#fb9f3a"
            ],
            [
             0.8888888888888888,
             "#fdca26"
            ],
            [
             1,
             "#f0f921"
            ]
           ]
          },
          "colorway": [
           "#636efa",
           "#EF553B",
           "#00cc96",
           "#ab63fa",
           "#FFA15A",
           "#19d3f3",
           "#FF6692",
           "#B6E880",
           "#FF97FF",
           "#FECB52"
          ],
          "font": {
           "color": "#2a3f5f"
          },
          "geo": {
           "bgcolor": "white",
           "lakecolor": "white",
           "landcolor": "#E5ECF6",
           "showlakes": true,
           "showland": true,
           "subunitcolor": "white"
          },
          "hoverlabel": {
           "align": "left"
          },
          "hovermode": "closest",
          "mapbox": {
           "style": "light"
          },
          "paper_bgcolor": "white",
          "plot_bgcolor": "#E5ECF6",
          "polar": {
           "angularaxis": {
            "gridcolor": "white",
            "linecolor": "white",
            "ticks": ""
           },
           "bgcolor": "#E5ECF6",
           "radialaxis": {
            "gridcolor": "white",
            "linecolor": "white",
            "ticks": ""
           }
          },
          "scene": {
           "xaxis": {
            "backgroundcolor": "#E5ECF6",
            "gridcolor": "white",
            "gridwidth": 2,
            "linecolor": "white",
            "showbackground": true,
            "ticks": "",
            "zerolinecolor": "white"
           },
           "yaxis": {
            "backgroundcolor": "#E5ECF6",
            "gridcolor": "white",
            "gridwidth": 2,
            "linecolor": "white",
            "showbackground": true,
            "ticks": "",
            "zerolinecolor": "white"
           },
           "zaxis": {
            "backgroundcolor": "#E5ECF6",
            "gridcolor": "white",
            "gridwidth": 2,
            "linecolor": "white",
            "showbackground": true,
            "ticks": "",
            "zerolinecolor": "white"
           }
          },
          "shapedefaults": {
           "line": {
            "color": "#2a3f5f"
           }
          },
          "ternary": {
           "aaxis": {
            "gridcolor": "white",
            "linecolor": "white",
            "ticks": ""
           },
           "baxis": {
            "gridcolor": "white",
            "linecolor": "white",
            "ticks": ""
           },
           "bgcolor": "#E5ECF6",
           "caxis": {
            "gridcolor": "white",
            "linecolor": "white",
            "ticks": ""
           }
          },
          "title": {
           "x": 0.05
          },
          "xaxis": {
           "automargin": true,
           "gridcolor": "white",
           "linecolor": "white",
           "ticks": "",
           "title": {
            "standoff": 15
           },
           "zerolinecolor": "white",
           "zerolinewidth": 2
          },
          "yaxis": {
           "automargin": true,
           "gridcolor": "white",
           "linecolor": "white",
           "ticks": "",
           "title": {
            "standoff": 15
           },
           "zerolinecolor": "white",
           "zerolinewidth": 2
          }
         }
        },
        "width": 1300
       }
      }
     },
     "metadata": {},
     "output_type": "display_data"
    },
    {
     "name": "stdout",
     "output_type": "stream",
     "text": [
      "Kabsch distance is 0.08506639601638899\n"
     ]
    },
    {
     "data": {
      "text/plain": [
       "<Figure size 50000x50000 with 0 Axes>"
      ]
     },
     "metadata": {},
     "output_type": "display_data"
    }
   ],
   "source": [
    "test_true_structure = test_true_structures[GRAPH_TESTED]\n",
    "test_pred_structure = test_pred_structures[GRAPH_TESTED]\n",
    "\n",
    "test_pred_structure_superposed, test_true_structure_superposed = \\\n",
    "        kabsch_superimposition_numpy(test_pred_structure, test_true_structure, EMBEDDING_SIZE)\n",
    "\n",
    "x_pred = test_pred_structure_superposed[:, 0]  \n",
    "y_pred = test_pred_structure_superposed[:, 1]\n",
    "z_pred = test_pred_structure_superposed[:, 2]\n",
    "\n",
    "x_true = test_true_structure_superposed[:, 0]  \n",
    "y_true = test_true_structure_superposed[:, 1]\n",
    "z_true = test_true_structure_superposed[:, 2]\n",
    "\n",
    "colorscale1 = np.asarray(range(len(x_true)))\n",
    "colorscale2 = np.asarray(range(len(x_pred)))\n",
    "color1 = 'Viridis'\n",
    "color2 = 'Viridis'\n",
    "\n",
    "plot_true_pred_structures(x_pred, y_pred, z_pred, x_true, y_true, z_true, colorscale1, colorscale2, color1, color2)\n",
    "\n",
    "# Shape comparison\n",
    "print('Kabsch distance is ' + str(kabsch_distance_numpy(test_pred_structure, test_true_structure, EMBEDDING_SIZE)))\n",
    "\n"
   ]
  },
  {
   "cell_type": "code",
   "execution_count": 15,
   "metadata": {},
   "outputs": [],
   "source": [
    "make_gif(\"\", \"gifs/trussart_linear.gif\")"
   ]
  },
  {
   "cell_type": "code",
   "execution_count": 16,
   "metadata": {},
   "outputs": [
    {
     "data": {
      "application/vnd.plotly.v1+json": {
       "config": {
        "plotlyServerURL": "https://plot.ly"
       },
       "data": [
        {
         "line": {
          "color": "darkblue",
          "width": 2
         },
         "marker": {
          "color": [
           0,
           1,
           2,
           3,
           4,
           5,
           6,
           7,
           8,
           9,
           10,
           11,
           12,
           13,
           14,
           15,
           16,
           17,
           18,
           19,
           20,
           21,
           22,
           23,
           24,
           25,
           26,
           27,
           28,
           29,
           30,
           31,
           32,
           33,
           34,
           35,
           36,
           37,
           38,
           39,
           40,
           41,
           42,
           43,
           44,
           45,
           46,
           47,
           48,
           49,
           50,
           51,
           52,
           53,
           54,
           55,
           56,
           57,
           58,
           59,
           60,
           61,
           62,
           63,
           64,
           65,
           66,
           67,
           68,
           69,
           70,
           71,
           72,
           73,
           74,
           75,
           76,
           77,
           78,
           79,
           80,
           81,
           82,
           83,
           84,
           85,
           86,
           87,
           88,
           89,
           90,
           91,
           92,
           93,
           94,
           95,
           96,
           97,
           98,
           99,
           100,
           101,
           102,
           103,
           104,
           105,
           106,
           107,
           108,
           109,
           110,
           111,
           112,
           113,
           114,
           115,
           116,
           117,
           118,
           119,
           120,
           121,
           122,
           123,
           124,
           125,
           126,
           127,
           128,
           129,
           130,
           131,
           132,
           133,
           134,
           135,
           136,
           137,
           138,
           139,
           140,
           141,
           142,
           143,
           144,
           145,
           146,
           147,
           148,
           149,
           150,
           151,
           152,
           153,
           154,
           155,
           156,
           157,
           158,
           159,
           160,
           161,
           162,
           163,
           164,
           165,
           166,
           167,
           168,
           169,
           170,
           171,
           172,
           173,
           174,
           175,
           176,
           177,
           178,
           179,
           180,
           181,
           182,
           183,
           184,
           185,
           186,
           187,
           188,
           189,
           190,
           191,
           192,
           193,
           194,
           195,
           196,
           197,
           198,
           199,
           200,
           201
          ],
          "colorscale": [
           [
            0,
            "#440154"
           ],
           [
            0.1111111111111111,
            "#482878"
           ],
           [
            0.2222222222222222,
            "#3e4989"
           ],
           [
            0.3333333333333333,
            "#31688e"
           ],
           [
            0.4444444444444444,
            "#26828e"
           ],
           [
            0.5555555555555556,
            "#1f9e89"
           ],
           [
            0.6666666666666666,
            "#35b779"
           ],
           [
            0.7777777777777778,
            "#6ece58"
           ],
           [
            0.8888888888888888,
            "#b5de2b"
           ],
           [
            1,
            "#fde725"
           ]
          ],
          "size": 4
         },
         "scene": "scene",
         "type": "scatter3d",
         "x": [
          -0.11617447435855865,
          -0.03791821748018265,
          0.04670683667063713,
          0.13978135585784912,
          0.21786342561244965,
          0.2779562771320343,
          0.33708444237709045,
          0.38427045941352844,
          0.3807530403137207,
          0.3150673806667328,
          0.23885391652584076,
          0.15156598389148712,
          0.0769868940114975,
          0.020498061552643776,
          -0.030429817736148834,
          -0.029525181278586388,
          0.034680090844631195,
          0.10709412395954132,
          0.14884334802627563,
          0.2134513109922409,
          0.31550997495651245,
          0.36893129348754883,
          0.37515947222709656,
          0.41817790269851685,
          0.4840720295906067,
          0.5472744107246399,
          0.6268070936203003,
          0.6903325319290161,
          0.7529017925262451,
          0.801105797290802,
          0.8115475177764893,
          0.7648389935493469,
          0.6608444452285767,
          0.5548867583274841,
          0.4880940318107605,
          0.4807282090187073,
          0.4930410087108612,
          0.46825167536735535,
          0.38314536213874817,
          0.29053834080696106,
          0.19688716530799866,
          0.08741677552461624,
          -0.0021127176005393267,
          -0.06199466437101364,
          -0.08218128234148026,
          -0.11433529108762741,
          -0.1959468126296997,
          -0.29606926441192627,
          -0.40554285049438477,
          -0.5085029006004333,
          -0.5790907740592957,
          -0.5892248153686523,
          -0.527962327003479,
          -0.4748486578464508,
          -0.47052255272865295,
          -0.4990592300891876,
          -0.5149421095848083,
          -0.5274538397789001,
          -0.5681564807891846,
          -0.5679470300674438,
          -0.5570084452629089,
          -0.548595666885376,
          -0.5507451295852661,
          -0.5905041098594666,
          -0.6389787197113037,
          -0.6689842343330383,
          -0.67486172914505,
          -0.6482881307601929,
          -0.6002840399742126,
          -0.558573842048645,
          -0.495830774307251,
          -0.39958980679512024,
          -0.30579712986946106,
          -0.21815238893032074,
          -0.15734504163265228,
          -0.16126421093940735,
          -0.18848136067390442,
          -0.2504957914352417,
          -0.34184426069259644,
          -0.40205833315849304,
          -0.4127863943576813,
          -0.38963764905929565,
          -0.36868301033973694,
          -0.33054083585739136,
          -0.30159515142440796,
          -0.30301791429519653,
          -0.29788878560066223,
          -0.23774246871471405,
          -0.13075365126132965,
          -0.03620850667357445,
          0.05529852584004402,
          0.1623871624469757,
          0.22830073535442352,
          0.2598969042301178,
          0.31756365299224854,
          0.40321052074432373,
          0.47904109954833984,
          0.4961734414100647,
          0.48096582293510437,
          0.4402604401111603,
          0.35332679748535156,
          0.2716618776321411,
          0.19779075682163239,
          0.16831326484680176,
          0.1667747050523758,
          0.16374243795871735,
          0.15143708884716034,
          0.09772277623414993,
          0.02620856463909149,
          -0.0747554749250412,
          -0.16192710399627686,
          -0.18647699058055878,
          -0.1418759822845459,
          -0.05032235011458397,
          0.04975593090057373,
          0.15390858054161072,
          0.2393060177564621,
          0.30470964312553406,
          0.3932957053184509,
          0.47255197167396545,
          0.5545174479484558,
          0.6110402941703796,
          0.5719364881515503,
          0.5262590050697327,
          0.4842446744441986,
          0.4341636002063751,
          0.3661133348941803,
          0.26245781779289246,
          0.17612534761428833,
          0.08165481686592102,
          -0.0071396189741790295,
          -0.040169455111026764,
          -0.0004928436828777194,
          0.0689781978726387,
          0.11843700706958771,
          0.15375421941280365,
          0.21911579370498657,
          0.300586074590683,
          0.31245332956314087,
          0.29845061898231506,
          0.27475133538246155,
          0.21659766137599945,
          0.18014323711395264,
          0.2251301109790802,
          0.310329794883728,
          0.32799196243286133,
          0.28518280386924744,
          0.20526565611362457,
          0.10768815129995346,
          0.028870077803730965,
          0.02997404709458351,
          0.06375065445899963,
          0.11131700128316879,
          0.21647845208644867,
          0.31520676612854004,
          0.3869173526763916,
          0.46322470903396606,
          0.5268260836601257,
          0.5192321538925171,
          0.44961512088775635,
          0.3707701563835144,
          0.31225085258483887,
          0.25314927101135254,
          0.16950607299804688,
          0.06347664445638657,
          -0.04473896697163582,
          -0.1474660485982895,
          -0.24160709977149963,
          -0.32191628217697144,
          -0.38584014773368835,
          -0.43990612030029297,
          -0.4618932604789734,
          -0.4392291009426117,
          -0.41247251629829407,
          -0.39393100142478943,
          -0.356804758310318,
          -0.2860685884952545,
          -0.1966567188501358,
          -0.13455422222614288,
          -0.0996810793876648,
          -0.09654261916875839,
          -0.1651683747768402,
          -0.26332658529281616,
          -0.34172531962394714,
          -0.3839617371559143,
          -0.43135473132133484,
          -0.4918937385082245,
          -0.5613536238670349,
          -0.6317773461341858,
          -0.6438614726066589,
          -0.5855109095573425,
          -0.5008158683776855,
          -0.45847588777542114,
          -0.4599389433860779,
          -0.4394255578517914,
          -0.3731670379638672,
          -0.3345471918582916,
          -0.3575647175312042,
          -0.3643205761909485,
          -0.32028189301490784,
          -0.2560182213783264,
          -0.1860814094543457
         ],
         "y": [
          0.08944384008646011,
          0.10456705093383789,
          0.17024515569210052,
          0.1906794309616089,
          0.1639876812696457,
          0.12943466007709503,
          0.0637640431523323,
          -0.021527621895074844,
          -0.11860470473766327,
          -0.20944048464298248,
          -0.2648506462574005,
          -0.27936452627182007,
          -0.2918497622013092,
          -0.28507673740386963,
          -0.27077823877334595,
          -0.31209200620651245,
          -0.38138025999069214,
          -0.3876912295818329,
          -0.3447554111480713,
          -0.33904317021369934,
          -0.35171958804130554,
          -0.3652005195617676,
          -0.32231149077415466,
          -0.24067385494709015,
          -0.16297946870326996,
          -0.07863672822713852,
          -0.042407408356666565,
          -0.07883036136627197,
          -0.14399836957454681,
          -0.22695960104465485,
          -0.3393362760543823,
          -0.4030146598815918,
          -0.4075722396373749,
          -0.38767626881599426,
          -0.3426060378551483,
          -0.304920494556427,
          -0.3397584557533264,
          -0.43014150857925415,
          -0.49113357067108154,
          -0.5468339920043945,
          -0.5995942950248718,
          -0.6133477091789246,
          -0.5824869275093079,
          -0.5003607273101807,
          -0.4002910256385803,
          -0.3079233169555664,
          -0.26188573241233826,
          -0.25327935814857483,
          -0.2662299573421478,
          -0.2974162697792053,
          -0.2956964373588562,
          -0.23207983374595642,
          -0.16765131056308746,
          -0.20861339569091797,
          -0.31893083453178406,
          -0.4208136796951294,
          -0.5054690837860107,
          -0.5816763043403625,
          -0.6429061889648438,
          -0.6283171772956848,
          -0.5356317162513733,
          -0.4276777505874634,
          -0.32994091510772705,
          -0.24732047319412231,
          -0.1769239902496338,
          -0.10948801040649414,
          -0.022452285513281822,
          0.058561962097883224,
          0.07762019336223602,
          0.047900695353746414,
          0.06223253905773163,
          0.07548948377370834,
          0.01412722747772932,
          -0.05512925982475281,
          -0.12811556458473206,
          -0.19802318513393402,
          -0.2813737690448761,
          -0.35651257634162903,
          -0.39373794198036194,
          -0.3781268000602722,
          -0.2979300618171692,
          -0.21146048605442047,
          -0.1640245020389557,
          -0.15537643432617188,
          -0.1477801650762558,
          -0.09617730975151062,
          -0.011854184791445732,
          0.04596942663192749,
          0.045474857091903687,
          -0.011499599553644657,
          -0.07182607054710388,
          -0.09080544859170914,
          -0.13705003261566162,
          -0.2362939566373825,
          -0.32519838213920593,
          -0.3460320234298706,
          -0.2891803979873657,
          -0.19455398619174957,
          -0.10384543240070343,
          -0.048033617436885834,
          -0.04737265780568123,
          -0.09815527498722076,
          -0.1590769737958908,
          -0.23949792981147766,
          -0.34192514419555664,
          -0.4485032558441162,
          -0.5273098945617676,
          -0.5367690920829773,
          -0.5050246119499207,
          -0.4872592091560364,
          -0.4379856586456299,
          -0.34087586402893066,
          -0.25049617886543274,
          -0.22202256321907043,
          -0.26311007142066956,
          -0.2923086881637573,
          -0.29501041769981384,
          -0.31991517543792725,
          -0.3422630727291107,
          -0.3634049892425537,
          -0.40173083543777466,
          -0.36591026186943054,
          -0.27542853355407715,
          -0.20988929271697998,
          -0.13987746834754944,
          -0.06932556629180908,
          -0.029291648417711258,
          -0.00171661248896271,
          0.03076871670782566,
          0.04777258262038231,
          0.09442566335201263,
          0.18980374932289124,
          0.23490019142627716,
          0.24009782075881958,
          0.20724833011627197,
          0.1321128010749817,
          0.08672281354665756,
          0.10720702260732651,
          0.14340580999851227,
          0.12450236082077026,
          0.11353382468223572,
          0.15298992395401,
          0.22412486374378204,
          0.2880399823188782,
          0.34996238350868225,
          0.43252983689308167,
          0.5235256552696228,
          0.5935593843460083,
          0.6418600082397461,
          0.6364655494689941,
          0.5634911060333252,
          0.5230661034584045,
          0.4994216561317444,
          0.479474276304245,
          0.48645931482315063,
          0.47136497497558594,
          0.4434916079044342,
          0.41577982902526855,
          0.4275406301021576,
          0.4919506311416626,
          0.5221216678619385,
          0.5262734293937683,
          0.5622127056121826,
          0.5934078097343445,
          0.5974488854408264,
          0.6110447645187378,
          0.6389402151107788,
          0.68062824010849,
          0.7398400902748108,
          0.8018255233764648,
          0.8200320601463318,
          0.8043843507766724,
          0.8240656852722168,
          0.8155520558357239,
          0.7340626120567322,
          0.6390692591667175,
          0.5568426251411438,
          0.49106502532958984,
          0.45649421215057373,
          0.4639952778816223,
          0.43877360224723816,
          0.40775901079177856,
          0.4316701591014862,
          0.48603880405426025,
          0.5614582896232605,
          0.5862489342689514,
          0.5205937027931213,
          0.43908944725990295,
          0.3610502779483795,
          0.27939823269844055,
          0.2130986601114273,
          0.1721285730600357,
          0.1765373945236206,
          0.20296573638916016,
          0.24594762921333313,
          0.3072813153266907,
          0.3565193712711334,
          0.38340631127357483,
          0.36521443724632263,
          0.29151588678359985,
          0.20925965905189514,
          0.13662992417812347
         ],
         "z": [
          0.0015235014725476503,
          0.0710795670747757,
          0.09527832269668579,
          0.10775916278362274,
          0.17181305587291718,
          0.25904151797294617,
          0.3295414447784424,
          0.38760286569595337,
          0.40765181183815,
          0.3988074064254761,
          0.35320934653282166,
          0.2866070866584778,
          0.21113084256649017,
          0.118867889046669,
          0.02304605208337307,
          -0.07114555686712265,
          -0.1188393384218216,
          -0.08403432369232178,
          0.010931352153420448,
          0.08979623019695282,
          0.13861143589019775,
          0.21721293032169342,
          0.29195544123649597,
          0.3427621126174927,
          0.37634262442588806,
          0.4059906303882599,
          0.39808014035224915,
          0.32434600591659546,
          0.2613222599029541,
          0.22573857009410858,
          0.21586120128631592,
          0.23812969028949738,
          0.28376099467277527,
          0.3111441731452942,
          0.36278802156448364,
          0.4667399227619171,
          0.5568886399269104,
          0.6035128831863403,
          0.6293235421180725,
          0.6511960029602051,
          0.6471812725067139,
          0.6205459833145142,
          0.5739948749542236,
          0.5323333740234375,
          0.496381551027298,
          0.47673922777175903,
          0.5196296572685242,
          0.5649583339691162,
          0.5833212733268738,
          0.5673872232437134,
          0.4916791319847107,
          0.413148432970047,
          0.363716721534729,
          0.33949390053749084,
          0.35640162229537964,
          0.3764967620372772,
          0.3355758488178253,
          0.2634272873401642,
          0.18189090490341187,
          0.0889878049492836,
          0.05014576017856598,
          0.07541888952255249,
          0.12732481956481934,
          0.1928006112575531,
          0.26798728108406067,
          0.26162993907928467,
          0.19765417277812958,
          0.13598664104938507,
          0.04096229374408722,
          -0.05980957671999931,
          -0.10685364156961441,
          -0.1023545116186142,
          -0.1042095422744751,
          -0.09485973417758942,
          -0.04614120349287987,
          0.035280339419841766,
          0.08916141092777252,
          0.09596333652734756,
          0.056425295770168304,
          -0.022591955959796906,
          -0.09327483922243118,
          -0.16275116801261902,
          -0.25753113627433777,
          -0.3622768223285675,
          -0.46794968843460083,
          -0.5594713687896729,
          -0.6350038051605225,
          -0.6825443506240845,
          -0.6896320581436157,
          -0.6998043060302734,
          -0.7226849794387817,
          -0.7305716872215271,
          -0.7516896724700928,
          -0.7612461447715759,
          -0.7238020300865173,
          -0.6834284663200378,
          -0.6310440897941589,
          -0.5984575152397156,
          -0.5542627573013306,
          -0.46954089403152466,
          -0.4312991797924042,
          -0.4718100130558014,
          -0.4946734607219696,
          -0.4560239613056183,
          -0.42063501477241516,
          -0.3966008722782135,
          -0.4287864565849304,
          -0.5200901627540588,
          -0.5995749831199646,
          -0.6324400305747986,
          -0.6293631196022034,
          -0.6529648900032043,
          -0.6742022633552551,
          -0.6509743332862854,
          -0.6201382279396057,
          -0.6053112149238586,
          -0.5551913380622864,
          -0.4689936339855194,
          -0.4081385135650635,
          -0.3392731249332428,
          -0.2930269241333008,
          -0.3135232627391815,
          -0.3260691165924072,
          -0.2672232389450073,
          -0.21297357976436615,
          -0.16044235229492188,
          -0.10843795537948608,
          -0.1295686811208725,
          -0.19298624992370605,
          -0.2363925725221634,
          -0.24025239050388336,
          -0.26780498027801514,
          -0.3362596035003662,
          -0.4231570065021515,
          -0.5031384825706482,
          -0.5789008140563965,
          -0.6449452042579651,
          -0.6335415840148926,
          -0.5463868379592896,
          -0.44185683131217957,
          -0.34325629472732544,
          -0.256570965051651,
          -0.18090961873531342,
          -0.14018131792545319,
          -0.11446288228034973,
          -0.0577113963663578,
          -0.018912438303232193,
          -0.026293694972991943,
          -0.05704766511917114,
          -0.10915915668010712,
          -0.16258665919303894,
          -0.24124476313591003,
          -0.31774985790252686,
          -0.3336116671562195,
          -0.29145777225494385,
          -0.20825226604938507,
          -0.13199588656425476,
          -0.04960951581597328,
          0.04202871769666672,
          0.08896218240261078,
          0.140762597322464,
          0.23718708753585815,
          0.32274213433265686,
          0.3856574296951294,
          0.4170374274253845,
          0.4405893385410309,
          0.479013592004776,
          0.5230984687805176,
          0.5223917961120605,
          0.4549751579761505,
          0.3661012053489685,
          0.2623169422149658,
          0.15920566022396088,
          0.06724066287279129,
          -0.004784636665135622,
          -0.045288439840078354,
          -0.06690087914466858,
          -0.06966770440340042,
          -0.009762750007212162,
          0.09582382440567017,
          0.1859564334154129,
          0.24655179679393768,
          0.2962503135204315,
          0.35284048318862915,
          0.4219105541706085,
          0.5023722648620605,
          0.5387599468231201,
          0.5485315918922424,
          0.5443248748779297,
          0.5708574056625366,
          0.619621753692627,
          0.5830268859863281,
          0.48675402998924255,
          0.37645795941352844,
          0.28021514415740967,
          0.2153976857662201,
          0.1375533789396286,
          0.03129434585571289,
          -0.06791438162326813,
          -0.13172951340675354,
          -0.12197016179561615,
          -0.06899110972881317
         ]
        },
        {
         "line": {
          "color": "darkblue",
          "width": 2
         },
         "marker": {
          "color": [
           0,
           1,
           2,
           3,
           4,
           5,
           6,
           7,
           8,
           9,
           10,
           11,
           12,
           13,
           14,
           15,
           16,
           17,
           18,
           19,
           20,
           21,
           22,
           23,
           24,
           25,
           26,
           27,
           28,
           29,
           30,
           31,
           32,
           33,
           34,
           35,
           36,
           37,
           38,
           39,
           40,
           41,
           42,
           43,
           44,
           45,
           46,
           47,
           48,
           49,
           50,
           51,
           52,
           53,
           54,
           55,
           56,
           57,
           58,
           59,
           60,
           61,
           62,
           63,
           64,
           65,
           66,
           67,
           68,
           69,
           70,
           71,
           72,
           73,
           74,
           75,
           76,
           77,
           78,
           79,
           80,
           81,
           82,
           83,
           84,
           85,
           86,
           87,
           88,
           89,
           90,
           91,
           92,
           93,
           94,
           95,
           96,
           97,
           98,
           99,
           100,
           101,
           102,
           103,
           104,
           105,
           106,
           107,
           108,
           109,
           110,
           111,
           112,
           113,
           114,
           115,
           116,
           117,
           118,
           119,
           120,
           121,
           122,
           123,
           124,
           125,
           126,
           127,
           128,
           129,
           130,
           131,
           132,
           133,
           134,
           135,
           136,
           137,
           138,
           139,
           140,
           141,
           142,
           143,
           144,
           145,
           146,
           147,
           148,
           149,
           150,
           151,
           152,
           153,
           154,
           155,
           156,
           157,
           158,
           159,
           160,
           161,
           162,
           163,
           164,
           165,
           166,
           167,
           168,
           169,
           170,
           171,
           172,
           173,
           174,
           175,
           176,
           177,
           178,
           179,
           180,
           181,
           182,
           183,
           184,
           185,
           186,
           187,
           188,
           189,
           190,
           191,
           192,
           193,
           194,
           195,
           196,
           197,
           198,
           199,
           200,
           201
          ],
          "colorscale": [
           [
            0,
            "#440154"
           ],
           [
            0.1111111111111111,
            "#482878"
           ],
           [
            0.2222222222222222,
            "#3e4989"
           ],
           [
            0.3333333333333333,
            "#31688e"
           ],
           [
            0.4444444444444444,
            "#26828e"
           ],
           [
            0.5555555555555556,
            "#1f9e89"
           ],
           [
            0.6666666666666666,
            "#35b779"
           ],
           [
            0.7777777777777778,
            "#6ece58"
           ],
           [
            0.8888888888888888,
            "#b5de2b"
           ],
           [
            1,
            "#fde725"
           ]
          ],
          "size": 4
         },
         "scene": "scene2",
         "type": "scatter3d",
         "x": [
          -0.17119637131893664,
          -0.1110885786018632,
          -0.04842863869587141,
          0.09304094070241974,
          0.16691230333840817,
          0.2068141542809343,
          0.2304202119704782,
          0.27968220544894573,
          0.31326682064396577,
          0.3414497336999631,
          0.27049742313994835,
          0.18319401025261775,
          0.17492349202225863,
          0.13764494958938475,
          0.12059659872468136,
          0.10963032153714652,
          0.1529130565119246,
          0.22479240365491762,
          0.24281170062578306,
          0.2553505449521993,
          0.325354292395337,
          0.3973504920606874,
          0.4358453016400107,
          0.41056631898825163,
          0.41370076856514443,
          0.44151377777175377,
          0.45267479930703797,
          0.48404342816523216,
          0.5013456059768047,
          0.5313027179800003,
          0.5299774663198499,
          0.5668112780042561,
          0.5391733467373209,
          0.5254138817443699,
          0.4617281177313899,
          0.37762497722027705,
          0.3416032816709604,
          0.2251488484630234,
          0.16696533119131088,
          0.045959555240806284,
          -0.047498175446395334,
          -0.14963203271472567,
          -0.17132510816328722,
          -0.18078880710305884,
          -0.1882484914338036,
          -0.1851101150136334,
          -0.2957729807346809,
          -0.36933413070635857,
          -0.43273520893851236,
          -0.5309305558589799,
          -0.4883281972836581,
          -0.5381880053672105,
          -0.5646322214978013,
          -0.5150266677284878,
          -0.4771978025959468,
          -0.456853704725801,
          -0.40763567939567735,
          -0.3577055924965466,
          -0.323137700472272,
          -0.3417178872758433,
          -0.2959120298542658,
          -0.32857576138037115,
          -0.38119188054049247,
          -0.4657317851423575,
          -0.5001768477332115,
          -0.5688481921791491,
          -0.564654901093208,
          -0.5299470475186909,
          -0.4621831690547481,
          -0.4309903175235677,
          -0.3821748849395151,
          -0.33685073706084423,
          -0.2628942321488591,
          -0.18466732413473133,
          -0.053673165320147306,
          -0.05009685132937733,
          -0.07888779862662339,
          -0.13535584609407206,
          -0.1181061061677963,
          -0.17422280661291295,
          -0.21180612052485973,
          -0.2454550443933205,
          -0.18512225954284814,
          -0.1310901990406212,
          -0.08209204552713381,
          -0.06090196354376312,
          -0.06919779236766872,
          -0.10896420238411113,
          -0.12195364179001662,
          -0.12237875622359269,
          -0.08083441704956072,
          -0.04519072504860464,
          -0.09542440813406683,
          -0.012821919710833723,
          0.03136937818834559,
          0.011629296058871382,
          0.12244516163211736,
          0.17830389256449433,
          0.2039993704276548,
          0.21299713292654504,
          0.21222398508727017,
          0.1846483235797882,
          0.16001027616571245,
          0.1897643231236731,
          0.23781482213133662,
          0.23504934361171487,
          0.2591858482527064,
          0.2698542624313005,
          0.23683220748327233,
          0.1268904326561352,
          0.08645899234420765,
          0.03725115674687542,
          -0.04978738671933698,
          -0.03073791701161418,
          0.03522245827968505,
          0.11238410434310657,
          0.1545386429805907,
          0.25004696092959655,
          0.29527091384042803,
          0.3596057932363442,
          0.38871031001007306,
          0.42511096492777395,
          0.4548531783805502,
          0.4034693149376452,
          0.4162131093420909,
          0.3425555321456367,
          0.3399419312624499,
          0.25163093260820474,
          0.17906987850024367,
          0.09469521191481217,
          0.025016517241342046,
          -0.024586176266422805,
          -0.00382569762234026,
          0.025401668060585723,
          0.08105272436081684,
          0.055762369760854726,
          -0.013501477827430665,
          -0.010698028623723694,
          0.037816364811307145,
          0.14011879026871793,
          0.17452519167162303,
          0.14109439123264564,
          0.09992846335348676,
          0.12471287158775067,
          0.2102728377021509,
          0.2527466655048514,
          0.33031199383279647,
          0.2869052732854854,
          0.32958380824089883,
          0.2868351350871258,
          0.2338583335713614,
          0.10761476806645705,
          0.12951490358113624,
          0.14891997625173395,
          0.2132008533448513,
          0.25528064316739113,
          0.31750011220514723,
          0.3832362903895551,
          0.4026897200565009,
          0.4133209686538365,
          0.3939019213730202,
          0.32424059442060027,
          0.31581427151793795,
          0.25135494785594764,
          0.17249287452637987,
          0.08818746491553395,
          -0.04608070543889695,
          -0.16336735558349585,
          -0.13644539538028613,
          -0.10998638560439838,
          -0.135010303843887,
          -0.18689887238705613,
          -0.2308437362212339,
          -0.19070532418722982,
          -0.19198651339023248,
          -0.23840929267119457,
          -0.17739382432408732,
          -0.10813939933861379,
          0.0016841914745977997,
          0.0017566893781160115,
          -0.015661832851680883,
          -0.12962511790944237,
          -0.24972107838209598,
          -0.35068439411095115,
          -0.40585212854705727,
          -0.42762137603903494,
          -0.4897935997649059,
          -0.5514071678069927,
          -0.5910098655964372,
          -0.6307264022338805,
          -0.5994691012692142,
          -0.5427143353187976,
          -0.49098320793023115,
          -0.45610160614081485,
          -0.4478524722045941,
          -0.4303096909828703,
          -0.38287407350485575,
          -0.38574159502530814,
          -0.33850892318794534,
          -0.27826159724640465,
          -0.2924199732925692,
          -0.16811414276801298
         ],
         "y": [
          0.10432790121354145,
          0.15368650542412202,
          0.1733548493514271,
          0.2545510037682612,
          0.241945314029794,
          0.20220767670691575,
          0.15619802582041425,
          0.057878049855398385,
          -0.04869825933439014,
          -0.18790457570164515,
          -0.29557831179151417,
          -0.34041198312502985,
          -0.31646717249568,
          -0.28659345368239664,
          -0.22005669182358015,
          -0.18947489945458731,
          -0.1900664261438834,
          -0.21502223512201668,
          -0.24507690747234687,
          -0.238870133554787,
          -0.265731252923036,
          -0.3337549431081107,
          -0.39744502328354064,
          -0.33089361101767767,
          -0.2607562533453763,
          -0.14222093183978426,
          -0.03498297544548215,
          0.00021900095133435413,
          -0.09723802192809171,
          -0.21346788051008164,
          -0.3495855965765732,
          -0.45898358294711294,
          -0.45251981537249547,
          -0.4527079224516499,
          -0.43139983221574363,
          -0.4666279438423154,
          -0.4398997431338436,
          -0.5026096447836594,
          -0.5365303379572476,
          -0.6271922434807008,
          -0.6994217461065253,
          -0.7078065499797577,
          -0.6840433149375247,
          -0.6508158968706966,
          -0.6261187048554153,
          -0.4949988746498383,
          -0.39160605831919115,
          -0.27156026220080304,
          -0.37318153522768194,
          -0.412776187146417,
          -0.4348463715891511,
          -0.3865086704497911,
          -0.3561392931722945,
          -0.3344842600649928,
          -0.41666720702451365,
          -0.43758244220125164,
          -0.46620087160520385,
          -0.49871121353193165,
          -0.4971745423499426,
          -0.4799423163266235,
          -0.493460167719225,
          -0.4667974606363011,
          -0.44046618273391175,
          -0.4004110496554894,
          -0.3767952799936679,
          -0.2958770272611339,
          -0.24598281931564742,
          -0.11824415454914985,
          -0.04915022747539532,
          -0.07553763158286927,
          -0.04188768234002178,
          0.04056032486935112,
          0.02262033506718279,
          0.012633371319835785,
          -0.050064243697290664,
          -0.10289175494305469,
          -0.19009738256449876,
          -0.349161398597313,
          -0.42332652629228135,
          -0.39411891990875836,
          -0.3690616128118787,
          -0.24051886254513022,
          -0.15279323867458577,
          -0.1095105430881094,
          -0.10259890559546603,
          -0.0988480844406227,
          -0.09094820254693485,
          -0.08127288596374624,
          -0.06122578347230764,
          -0.03846314310961234,
          -0.023896774281967455,
          -0.028531661347052126,
          -0.03926047091302995,
          -0.09687584567465049,
          -0.11712007897861011,
          -0.10771999956266741,
          -0.07699179565691627,
          -0.07723723534862627,
          -0.011134035595612263,
          0.020206603229342385,
          0.023198080032979285,
          0.026219737318017806,
          -0.01205639272333734,
          -0.08458151229388228,
          -0.13873887063347207,
          -0.17517973839102252,
          -0.24088097857098073,
          -0.2621742673674825,
          -0.24152885872834245,
          -0.21347742646854265,
          -0.23549669762987513,
          -0.22553800759045609,
          -0.15751014563074303,
          -0.12492196112541334,
          -0.11501137892437467,
          -0.10310722418374976,
          -0.12975204035480323,
          -0.12860953909573433,
          -0.19620009299653704,
          -0.2132635744722013,
          -0.27183852093148403,
          -0.2931128939543731,
          -0.2838628906193666,
          -0.1930453594925947,
          -0.0745405314376266,
          -0.015420373509902364,
          -0.00008118817980867275,
          0.03749470666870582,
          0.03959657556402494,
          0.06566301325991565,
          0.08040391840776681,
          0.11703296441361025,
          0.13325109556411474,
          0.14252560500305525,
          0.1261959497863755,
          0.1053711837766697,
          0.06776911776638506,
          0.07164585445207503,
          0.0836560422554153,
          0.1367433315038414,
          0.10696971004212527,
          0.11404044846122445,
          0.15137209760563183,
          0.19922471669111844,
          0.2963328133273993,
          0.37505768564512615,
          0.4738803513577954,
          0.5204843273270051,
          0.5734020731448016,
          0.5853583800959269,
          0.48422914499290254,
          0.41379740874164744,
          0.37434504083515,
          0.3485392042139278,
          0.3666765458243495,
          0.3666154946716366,
          0.3992740157304951,
          0.4174034055690372,
          0.39849900419619916,
          0.46156164945165645,
          0.5137390972116092,
          0.5499477857729316,
          0.5429404856947587,
          0.562057727461478,
          0.5880108657814909,
          0.6166270756519614,
          0.5976319352783477,
          0.6655987879998962,
          0.8435642754208973,
          0.9668168957960587,
          0.9697793068628315,
          0.9817666515407275,
          0.8718857037669068,
          0.8508629856034474,
          0.7922319006773373,
          0.6421887401964932,
          0.4653039036107919,
          0.4246232728353846,
          0.3963804505573174,
          0.40486062086389873,
          0.4044582932557825,
          0.3693204132604314,
          0.34523434836876354,
          0.36684268103918644,
          0.45111541632607804,
          0.56761928994298,
          0.6176650292905344,
          0.47637801492177123,
          0.3872063013323945,
          0.2999698843525206,
          0.24994281642366525,
          0.1749320410468684,
          0.08218209771808961,
          0.10658026515333786,
          0.14710704649375544,
          0.18342240496920825,
          0.23211952195516108,
          0.24098964487268668,
          0.19751669420370296,
          0.17685598254376655,
          0.16652791161102798,
          0.14254464923865057
         ],
         "z": [
          -0.013425610048872128,
          0.05754800630406295,
          0.07632755924804105,
          0.07832133036282536,
          0.10555001567110082,
          0.12423972259653004,
          0.2303297337850282,
          0.2470490740414154,
          0.2942978328330097,
          0.25358800941327087,
          0.16230591246865883,
          0.10624000447207461,
          0.07416136332427362,
          0.012146125099433401,
          -0.027386409890033447,
          -0.06454869347432231,
          -0.13068510220475116,
          -0.1514132625413395,
          -0.13078328466990358,
          -0.06507219587322251,
          -0.007821281996939999,
          0.046450358326109144,
          0.10266059165322515,
          0.16352958695911263,
          0.23846288988192071,
          0.3285921479775001,
          0.33245656312832356,
          0.3182384720934507,
          0.25659962051891116,
          0.27343035623865136,
          0.296795397583081,
          0.3127321076268948,
          0.2787889672466363,
          0.28890673140964857,
          0.2982906537239362,
          0.32274424899647625,
          0.5101610598512147,
          0.6411966885881727,
          0.7276182416622122,
          0.6566259969293198,
          0.6159827566267067,
          0.5483967761881982,
          0.5141473105253448,
          0.4096014964626006,
          0.33305018346906334,
          0.2874483357632566,
          0.3543587379861715,
          0.4124381661915565,
          0.3966230169719378,
          0.4271541971466966,
          0.3980026212442267,
          0.34389881392600335,
          0.3212829764625038,
          0.28699519331051143,
          0.2965306025765058,
          0.32327929150180185,
          0.3018338395390034,
          0.2937099936473062,
          0.19384121424597983,
          0.17673973112159355,
          0.10536953532073776,
          0.08953868026445565,
          0.12917406024064132,
          0.20168483999392858,
          0.20263274508659762,
          0.24497845886580757,
          0.2546105103617928,
          0.2527263174264127,
          0.2447650363528108,
          0.16473100363755314,
          0.12207367070865668,
          0.06937361211291121,
          0.02951613891632786,
          -0.00812324202412149,
          -0.01618033261653901,
          0.01389601471531444,
          0.06425359255721232,
          0.057596439308335336,
          0.04141126049728131,
          0.033102613477911415,
          -0.015440702227496274,
          -0.0062792678714429055,
          -0.029802037454374607,
          -0.10679752796821003,
          -0.22367323522788948,
          -0.2930365034369853,
          -0.3462714177968462,
          -0.3818732204192895,
          -0.4192245589491213,
          -0.4476552500263769,
          -0.5272926262666044,
          -0.592153210168468,
          -0.5739858955424818,
          -0.6329556551090026,
          -0.6071998872775025,
          -0.5986854816147429,
          -0.5441645166340138,
          -0.5144637594049486,
          -0.4459718083491177,
          -0.3756607583779654,
          -0.3198824465705197,
          -0.3145089795641768,
          -0.31055091753285785,
          -0.3205554481766349,
          -0.29519314634683347,
          -0.2794034772087882,
          -0.28303535247358547,
          -0.3340591958814659,
          -0.3911889001118633,
          -0.4070067032028468,
          -0.4077403638992932,
          -0.4178299667435437,
          -0.4018505193789336,
          -0.4072107729204719,
          -0.4353417700375797,
          -0.4252352457115605,
          -0.44221483234297687,
          -0.3957351922017905,
          -0.3435009428377456,
          -0.33622474547679315,
          -0.3025611209400774,
          -0.2979416106445587,
          -0.2986587525260207,
          -0.2735486502122889,
          -0.16085139599769221,
          -0.10855396494044918,
          -0.0717603097586901,
          -0.078786149329388,
          -0.10881393924418366,
          -0.15604390253437808,
          -0.1275082106376808,
          -0.1375949288281445,
          -0.1908982609096971,
          -0.22534469431031354,
          -0.2808814545252538,
          -0.31192999726620396,
          -0.44081139527957514,
          -0.48295203235586975,
          -0.44086308492529763,
          -0.33587571607041733,
          -0.254314916431264,
          -0.2218461524811065,
          -0.17817080100093116,
          -0.13485737541921416,
          -0.13320823563602638,
          -0.10958772953854629,
          -0.09635000065259831,
          -0.057642226479147005,
          -0.04728289136661221,
          -0.07862551107631954,
          -0.13191287607689176,
          -0.2389035407433755,
          -0.28492160957168555,
          -0.2510850525630796,
          -0.28182847294282753,
          -0.2310801989962646,
          -0.20008024029216112,
          -0.09230720899557604,
          -0.05643222361261485,
          -0.031105965502179745,
          0.031995659500227445,
          0.0770072221649264,
          0.10527602950555982,
          0.16023151421903434,
          0.13846606822880875,
          0.22060372578568177,
          0.21677944928401702,
          0.18249862586653837,
          0.17966069626753403,
          0.049783587272731834,
          0.120902260803949,
          0.034685207105858484,
          -0.006437118441623601,
          -0.055953299332688375,
          -0.11315312222975496,
          -0.10805609475128138,
          -0.05942781321258399,
          -0.02517596736011189,
          0.00813892485764899,
          0.05991965179003254,
          0.08804598053585946,
          0.19021616562050017,
          0.2637132920372949,
          0.24564133263505994,
          0.20897269312749042,
          0.19898778632970077,
          0.23460515205586213,
          0.244651478280761,
          0.25008160623319414,
          0.2541561191682649,
          0.3252053538183391,
          0.3472413140900912,
          0.328511988186308,
          0.32138984174191376,
          0.29318438366413746,
          0.25757555232979307,
          0.2355242313734559,
          0.1566123522495425,
          0.0779928650612086,
          0.013868346992381405,
          -0.007275068684555582,
          -0.009766193842971666
         ]
        }
       ],
       "layout": {
        "height": 1000,
        "scene": {
         "domain": {
          "x": [
           0,
           0.45
          ],
          "y": [
           0,
           1
          ]
         }
        },
        "scene2": {
         "domain": {
          "x": [
           0.55,
           1
          ],
          "y": [
           0,
           1
          ]
         }
        },
        "template": {
         "data": {
          "bar": [
           {
            "error_x": {
             "color": "#2a3f5f"
            },
            "error_y": {
             "color": "#2a3f5f"
            },
            "marker": {
             "line": {
              "color": "#E5ECF6",
              "width": 0.5
             }
            },
            "type": "bar"
           }
          ],
          "barpolar": [
           {
            "marker": {
             "line": {
              "color": "#E5ECF6",
              "width": 0.5
             }
            },
            "type": "barpolar"
           }
          ],
          "carpet": [
           {
            "aaxis": {
             "endlinecolor": "#2a3f5f",
             "gridcolor": "white",
             "linecolor": "white",
             "minorgridcolor": "white",
             "startlinecolor": "#2a3f5f"
            },
            "baxis": {
             "endlinecolor": "#2a3f5f",
             "gridcolor": "white",
             "linecolor": "white",
             "minorgridcolor": "white",
             "startlinecolor": "#2a3f5f"
            },
            "type": "carpet"
           }
          ],
          "choropleth": [
           {
            "colorbar": {
             "outlinewidth": 0,
             "ticks": ""
            },
            "type": "choropleth"
           }
          ],
          "contour": [
           {
            "colorbar": {
             "outlinewidth": 0,
             "ticks": ""
            },
            "colorscale": [
             [
              0,
              "#0d0887"
             ],
             [
              0.1111111111111111,
              "#46039f"
             ],
             [
              0.2222222222222222,
              "#7201a8"
             ],
             [
              0.3333333333333333,
              "#9c179e"
             ],
             [
              0.4444444444444444,
              "#bd3786"
             ],
             [
              0.5555555555555556,
              "#d8576b"
             ],
             [
              0.6666666666666666,
              "#ed7953"
             ],
             [
              0.7777777777777778,
              "#fb9f3a"
             ],
             [
              0.8888888888888888,
              "#fdca26"
             ],
             [
              1,
              "#f0f921"
             ]
            ],
            "type": "contour"
           }
          ],
          "contourcarpet": [
           {
            "colorbar": {
             "outlinewidth": 0,
             "ticks": ""
            },
            "type": "contourcarpet"
           }
          ],
          "heatmap": [
           {
            "colorbar": {
             "outlinewidth": 0,
             "ticks": ""
            },
            "colorscale": [
             [
              0,
              "#0d0887"
             ],
             [
              0.1111111111111111,
              "#46039f"
             ],
             [
              0.2222222222222222,
              "#7201a8"
             ],
             [
              0.3333333333333333,
              "#9c179e"
             ],
             [
              0.4444444444444444,
              "#bd3786"
             ],
             [
              0.5555555555555556,
              "#d8576b"
             ],
             [
              0.6666666666666666,
              "#ed7953"
             ],
             [
              0.7777777777777778,
              "#fb9f3a"
             ],
             [
              0.8888888888888888,
              "#fdca26"
             ],
             [
              1,
              "#f0f921"
             ]
            ],
            "type": "heatmap"
           }
          ],
          "heatmapgl": [
           {
            "colorbar": {
             "outlinewidth": 0,
             "ticks": ""
            },
            "colorscale": [
             [
              0,
              "#0d0887"
             ],
             [
              0.1111111111111111,
              "#46039f"
             ],
             [
              0.2222222222222222,
              "#7201a8"
             ],
             [
              0.3333333333333333,
              "#9c179e"
             ],
             [
              0.4444444444444444,
              "#bd3786"
             ],
             [
              0.5555555555555556,
              "#d8576b"
             ],
             [
              0.6666666666666666,
              "#ed7953"
             ],
             [
              0.7777777777777778,
              "#fb9f3a"
             ],
             [
              0.8888888888888888,
              "#fdca26"
             ],
             [
              1,
              "#f0f921"
             ]
            ],
            "type": "heatmapgl"
           }
          ],
          "histogram": [
           {
            "marker": {
             "colorbar": {
              "outlinewidth": 0,
              "ticks": ""
             }
            },
            "type": "histogram"
           }
          ],
          "histogram2d": [
           {
            "colorbar": {
             "outlinewidth": 0,
             "ticks": ""
            },
            "colorscale": [
             [
              0,
              "#0d0887"
             ],
             [
              0.1111111111111111,
              "#46039f"
             ],
             [
              0.2222222222222222,
              "#7201a8"
             ],
             [
              0.3333333333333333,
              "#9c179e"
             ],
             [
              0.4444444444444444,
              "#bd3786"
             ],
             [
              0.5555555555555556,
              "#d8576b"
             ],
             [
              0.6666666666666666,
              "#ed7953"
             ],
             [
              0.7777777777777778,
              "#fb9f3a"
             ],
             [
              0.8888888888888888,
              "#fdca26"
             ],
             [
              1,
              "#f0f921"
             ]
            ],
            "type": "histogram2d"
           }
          ],
          "histogram2dcontour": [
           {
            "colorbar": {
             "outlinewidth": 0,
             "ticks": ""
            },
            "colorscale": [
             [
              0,
              "#0d0887"
             ],
             [
              0.1111111111111111,
              "#46039f"
             ],
             [
              0.2222222222222222,
              "#7201a8"
             ],
             [
              0.3333333333333333,
              "#9c179e"
             ],
             [
              0.4444444444444444,
              "#bd3786"
             ],
             [
              0.5555555555555556,
              "#d8576b"
             ],
             [
              0.6666666666666666,
              "#ed7953"
             ],
             [
              0.7777777777777778,
              "#fb9f3a"
             ],
             [
              0.8888888888888888,
              "#fdca26"
             ],
             [
              1,
              "#f0f921"
             ]
            ],
            "type": "histogram2dcontour"
           }
          ],
          "mesh3d": [
           {
            "colorbar": {
             "outlinewidth": 0,
             "ticks": ""
            },
            "type": "mesh3d"
           }
          ],
          "parcoords": [
           {
            "line": {
             "colorbar": {
              "outlinewidth": 0,
              "ticks": ""
             }
            },
            "type": "parcoords"
           }
          ],
          "pie": [
           {
            "automargin": true,
            "type": "pie"
           }
          ],
          "scatter": [
           {
            "marker": {
             "colorbar": {
              "outlinewidth": 0,
              "ticks": ""
             }
            },
            "type": "scatter"
           }
          ],
          "scatter3d": [
           {
            "line": {
             "colorbar": {
              "outlinewidth": 0,
              "ticks": ""
             }
            },
            "marker": {
             "colorbar": {
              "outlinewidth": 0,
              "ticks": ""
             }
            },
            "type": "scatter3d"
           }
          ],
          "scattercarpet": [
           {
            "marker": {
             "colorbar": {
              "outlinewidth": 0,
              "ticks": ""
             }
            },
            "type": "scattercarpet"
           }
          ],
          "scattergeo": [
           {
            "marker": {
             "colorbar": {
              "outlinewidth": 0,
              "ticks": ""
             }
            },
            "type": "scattergeo"
           }
          ],
          "scattergl": [
           {
            "marker": {
             "colorbar": {
              "outlinewidth": 0,
              "ticks": ""
             }
            },
            "type": "scattergl"
           }
          ],
          "scattermapbox": [
           {
            "marker": {
             "colorbar": {
              "outlinewidth": 0,
              "ticks": ""
             }
            },
            "type": "scattermapbox"
           }
          ],
          "scatterpolar": [
           {
            "marker": {
             "colorbar": {
              "outlinewidth": 0,
              "ticks": ""
             }
            },
            "type": "scatterpolar"
           }
          ],
          "scatterpolargl": [
           {
            "marker": {
             "colorbar": {
              "outlinewidth": 0,
              "ticks": ""
             }
            },
            "type": "scatterpolargl"
           }
          ],
          "scatterternary": [
           {
            "marker": {
             "colorbar": {
              "outlinewidth": 0,
              "ticks": ""
             }
            },
            "type": "scatterternary"
           }
          ],
          "surface": [
           {
            "colorbar": {
             "outlinewidth": 0,
             "ticks": ""
            },
            "colorscale": [
             [
              0,
              "#0d0887"
             ],
             [
              0.1111111111111111,
              "#46039f"
             ],
             [
              0.2222222222222222,
              "#7201a8"
             ],
             [
              0.3333333333333333,
              "#9c179e"
             ],
             [
              0.4444444444444444,
              "#bd3786"
             ],
             [
              0.5555555555555556,
              "#d8576b"
             ],
             [
              0.6666666666666666,
              "#ed7953"
             ],
             [
              0.7777777777777778,
              "#fb9f3a"
             ],
             [
              0.8888888888888888,
              "#fdca26"
             ],
             [
              1,
              "#f0f921"
             ]
            ],
            "type": "surface"
           }
          ],
          "table": [
           {
            "cells": {
             "fill": {
              "color": "#EBF0F8"
             },
             "line": {
              "color": "white"
             }
            },
            "header": {
             "fill": {
              "color": "#C8D4E3"
             },
             "line": {
              "color": "white"
             }
            },
            "type": "table"
           }
          ]
         },
         "layout": {
          "annotationdefaults": {
           "arrowcolor": "#2a3f5f",
           "arrowhead": 0,
           "arrowwidth": 1
          },
          "autotypenumbers": "strict",
          "coloraxis": {
           "colorbar": {
            "outlinewidth": 0,
            "ticks": ""
           }
          },
          "colorscale": {
           "diverging": [
            [
             0,
             "#8e0152"
            ],
            [
             0.1,
             "#c51b7d"
            ],
            [
             0.2,
             "#de77ae"
            ],
            [
             0.3,
             "#f1b6da"
            ],
            [
             0.4,
             "#fde0ef"
            ],
            [
             0.5,
             "#f7f7f7"
            ],
            [
             0.6,
             "#e6f5d0"
            ],
            [
             0.7,
             "#b8e186"
            ],
            [
             0.8,
             "#7fbc41"
            ],
            [
             0.9,
             "#4d9221"
            ],
            [
             1,
             "#276419"
            ]
           ],
           "sequential": [
            [
             0,
             "#0d0887"
            ],
            [
             0.1111111111111111,
             "#46039f"
            ],
            [
             0.2222222222222222,
             "#7201a8"
            ],
            [
             0.3333333333333333,
             "#9c179e"
            ],
            [
             0.4444444444444444,
             "#bd3786"
            ],
            [
             0.5555555555555556,
             "#d8576b"
            ],
            [
             0.6666666666666666,
             "#ed7953"
            ],
            [
             0.7777777777777778,
             "#fb9f3a"
            ],
            [
             0.8888888888888888,
             "#fdca26"
            ],
            [
             1,
             "#f0f921"
            ]
           ],
           "sequentialminus": [
            [
             0,
             "#0d0887"
            ],
            [
             0.1111111111111111,
             "#46039f"
            ],
            [
             0.2222222222222222,
             "#7201a8"
            ],
            [
             0.3333333333333333,
             "#9c179e"
            ],
            [
             0.4444444444444444,
             "#bd3786"
            ],
            [
             0.5555555555555556,
             "#d8576b"
            ],
            [
             0.6666666666666666,
             "#ed7953"
            ],
            [
             0.7777777777777778,
             "#fb9f3a"
            ],
            [
             0.8888888888888888,
             "#fdca26"
            ],
            [
             1,
             "#f0f921"
            ]
           ]
          },
          "colorway": [
           "#636efa",
           "#EF553B",
           "#00cc96",
           "#ab63fa",
           "#FFA15A",
           "#19d3f3",
           "#FF6692",
           "#B6E880",
           "#FF97FF",
           "#FECB52"
          ],
          "font": {
           "color": "#2a3f5f"
          },
          "geo": {
           "bgcolor": "white",
           "lakecolor": "white",
           "landcolor": "#E5ECF6",
           "showlakes": true,
           "showland": true,
           "subunitcolor": "white"
          },
          "hoverlabel": {
           "align": "left"
          },
          "hovermode": "closest",
          "mapbox": {
           "style": "light"
          },
          "paper_bgcolor": "white",
          "plot_bgcolor": "#E5ECF6",
          "polar": {
           "angularaxis": {
            "gridcolor": "white",
            "linecolor": "white",
            "ticks": ""
           },
           "bgcolor": "#E5ECF6",
           "radialaxis": {
            "gridcolor": "white",
            "linecolor": "white",
            "ticks": ""
           }
          },
          "scene": {
           "xaxis": {
            "backgroundcolor": "#E5ECF6",
            "gridcolor": "white",
            "gridwidth": 2,
            "linecolor": "white",
            "showbackground": true,
            "ticks": "",
            "zerolinecolor": "white"
           },
           "yaxis": {
            "backgroundcolor": "#E5ECF6",
            "gridcolor": "white",
            "gridwidth": 2,
            "linecolor": "white",
            "showbackground": true,
            "ticks": "",
            "zerolinecolor": "white"
           },
           "zaxis": {
            "backgroundcolor": "#E5ECF6",
            "gridcolor": "white",
            "gridwidth": 2,
            "linecolor": "white",
            "showbackground": true,
            "ticks": "",
            "zerolinecolor": "white"
           }
          },
          "shapedefaults": {
           "line": {
            "color": "#2a3f5f"
           }
          },
          "ternary": {
           "aaxis": {
            "gridcolor": "white",
            "linecolor": "white",
            "ticks": ""
           },
           "baxis": {
            "gridcolor": "white",
            "linecolor": "white",
            "ticks": ""
           },
           "bgcolor": "#E5ECF6",
           "caxis": {
            "gridcolor": "white",
            "linecolor": "white",
            "ticks": ""
           }
          },
          "title": {
           "x": 0.05
          },
          "xaxis": {
           "automargin": true,
           "gridcolor": "white",
           "linecolor": "white",
           "ticks": "",
           "title": {
            "standoff": 15
           },
           "zerolinecolor": "white",
           "zerolinewidth": 2
          },
          "yaxis": {
           "automargin": true,
           "gridcolor": "white",
           "linecolor": "white",
           "ticks": "",
           "title": {
            "standoff": 15
           },
           "zerolinecolor": "white",
           "zerolinewidth": 2
          }
         }
        },
        "width": 1300
       }
      }
     },
     "metadata": {},
     "output_type": "display_data"
    },
    {
     "name": "stdout",
     "output_type": "stream",
     "text": [
      "Kabsch distance is 0.053683812756332626\n"
     ]
    },
    {
     "data": {
      "text/plain": [
       "<Figure size 50000x50000 with 0 Axes>"
      ]
     },
     "metadata": {},
     "output_type": "display_data"
    }
   ],
   "source": [
    "# Trussart perfect structure\n",
    "trussart_true_structure = np.mean(trussart_structures, axis=0)\n",
    "\n",
    "# Trussart predicted structure\n",
    "torch_trussart_hic = torch.FloatTensor(trussart_hic)\n",
    "torch_trussart_hic = torch.reshape(torch_trussart_hic, (1, NB_BINS, NB_BINS))\n",
    "torch_trussart_hic = torch.repeat_interleave(torch_trussart_hic, BATCH_SIZE, 0)\n",
    "\n",
    "trussart_pred_structure, _ = model(torch_trussart_hic)\n",
    "trussart_pred_structure = trussart_pred_structure.detach().numpy()[0]\n",
    "\n",
    "# Superpose structure using Kabsch algorithm\n",
    "trussart_pred_structure_superposed, trussart_true_structure_superposed = \\\n",
    "        kabsch_superimposition_numpy(trussart_pred_structure, trussart_true_structure, EMBEDDING_SIZE)\n",
    "\n",
    "# Plot and compare the two structures\n",
    "x_pred = trussart_pred_structure_superposed[:, 0]  \n",
    "y_pred = trussart_pred_structure_superposed[:, 1]\n",
    "z_pred = trussart_pred_structure_superposed[:, 2]\n",
    "\n",
    "x_true = trussart_true_structure_superposed[:, 0]  \n",
    "y_true = trussart_true_structure_superposed[:, 1]\n",
    "z_true = trussart_true_structure_superposed[:, 2]\n",
    "\n",
    "colorscale1 = np.asarray(range(len(x_true)))\n",
    "colorscale2 = np.asarray(range(len(x_pred)))\n",
    "color1 = 'Viridis'\n",
    "color2 = 'Viridis'\n",
    "\n",
    "plot_true_pred_structures(x_pred, y_pred, z_pred, x_true, y_true, z_true, colorscale1, colorscale2, color1, color2)\n",
    "\n",
    "# Shape comparison\n",
    "print('Kabsch distance is ' + str(kabsch_distance_numpy(trussart_pred_structure, trussart_true_structure, EMBEDDING_SIZE)))"
   ]
  },
  {
   "cell_type": "code",
   "execution_count": 17,
   "metadata": {},
   "outputs": [
    {
     "data": {
      "image/png": "[encoded data removed]",
      "text/plain": [
       "<Figure size 640x480 with 1 Axes>"
      ]
     },
     "metadata": {},
     "output_type": "display_data"
    },
    {
     "name": "stdout",
     "output_type": "stream",
     "text": [
      "mean: 0.06393556695917446\n",
      "median: 0.05353621647940878\n",
      "variance: 0.0016480327038437214\n"
     ]
    }
   ],
   "source": [
    "plot_hist_kabsch_distances(test_size, test_true_structures, test_pred_structures, EMBEDDING_SIZE)"
   ]
  },
  {
   "cell_type": "code",
   "execution_count": 18,
   "metadata": {},
   "outputs": [],
   "source": [
    "RESULTS_ROOT = '../../saved_results/synthetic_biological_trussart_special_values/linear/'\n",
    "LAMBDA_CONFIGURATION = str(LAMBDA_BIO) + '_' + str(LAMBDA_KABSCH)"
   ]
  },
  {
   "cell_type": "code",
   "execution_count": 19,
   "metadata": {},
   "outputs": [],
   "source": [
    "np.savetxt(RESULTS_ROOT + 'synthetic_biological_trussart_special_values_linear_losses_' + LAMBDA_CONFIGURATION + '.txt', losses)\n",
    "\n",
    "np.savetxt(RESULTS_ROOT + 'synthetic_biological_trussart_special_values_linear_train_biological_losses_all_epochs_' +\n",
    "               LAMBDA_CONFIGURATION + '.txt', train_biological_losses_all_epochs)\n",
    "np.savetxt(RESULTS_ROOT + 'synthetic_biological_trussart_special_values_linear_test_biological_losses_all_epochs_' +\n",
    "               LAMBDA_CONFIGURATION + '.txt', test_biological_losses_all_epochs)\n",
    "\n",
    "np.savetxt(RESULTS_ROOT + 'synthetic_biological_trussart_special_values_linear_train_kabsch_losses_all_epochs_' + \n",
    "           LAMBDA_CONFIGURATION + '.txt', train_kabsch_losses_all_epochs)\n",
    "np.savetxt(RESULTS_ROOT + 'synthetic_biological_trussart_special_values_linear_test_kabsch_losses_all_epochs_' + \n",
    "           LAMBDA_CONFIGURATION + '.txt', test_kabsch_losses_all_epochs)\n",
    "\n",
    "np.savetxt(RESULTS_ROOT + 'synthetic_biological_trussart_special_values_linear_train_distance_losses_all_epochs_' +\n",
    "           LAMBDA_CONFIGURATION + '.txt', train_distance_losses_all_epochs)\n",
    "np.savetxt(RESULTS_ROOT + 'synthetic_biological_trussart_special_values_linear_test_distance_losses_all_epochs_' + \n",
    "           LAMBDA_CONFIGURATION + '.txt', test_distance_losses_all_epochs)\n",
    "\n",
    "np.savetxt(RESULTS_ROOT + 'synthetic_biological_trussart_special_values_linear_trussart_test_kabsch_losses_all_epochs_' +\n",
    "               LAMBDA_CONFIGURATION + '.txt', trussart_test_kabsch_losses_all_epochs)"
   ]
  },
  {
   "cell_type": "code",
   "execution_count": 20,
   "metadata": {},
   "outputs": [],
   "source": [
    "torch.save(model, \n",
    "           '../../saved_models/synthetic_biological_trussart_special_values/linear/synthetic_biological_trussart_uniform_linear_model_' + \n",
    "           LAMBDA_CONFIGURATION + '.pt')"
   ]
  }
 ],
 "metadata": {
  "kernelspec": {
   "display_name": "Python 3.8.9 ('3dChromenv': venv)",
   "language": "python",
   "name": "python3"
  },
  "language_info": {
   "codemirror_mode": {
    "name": "ipython",
    "version": 3
   },
   "file_extension": ".py",
   "mimetype": "text/x-python",
   "name": "python",
   "nbconvert_exporter": "python",
   "pygments_lexer": "ipython3",
   "version": "3.8.9"
  },
  "orig_nbformat": 4,
  "vscode": {
   "interpreter": {
    "hash": "8e29b1289806ba3b1e0a7887101d89831cef42814f60b4617646c178e24bc9ec"
   }
  }
 },
 "nbformat": 4,
 "nbformat_minor": 2
}
