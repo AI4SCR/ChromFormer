{
 "cells": [
  {
   "cell_type": "code",
   "execution_count": 1,
   "metadata": {},
   "outputs": [],
   "source": [
    "%load_ext autoreload\n",
    "%autoreload 2"
   ]
  },
  {
   "cell_type": "code",
   "execution_count": 2,
   "metadata": {},
   "outputs": [],
   "source": [
    "import torch\n",
    "import random\n",
    "import numpy as np\n",
    "import os \n",
    "from torch_geometric.data import DataLoader\n",
    "\n",
    "from Chromatin3D.Data_Tools.Data_Access import get_data_from_path, VanillaDataset, set_logits_data\n",
    "from Chromatin3D.Data_Tools.Data_Plotting import plot_structure_in_sphere, plot_hic, plot_optimal_transport, plot_losses, plot_test_distance_matrix, plot_true_pred_structures, plot_hist_kabsch_distances, plot_grad_flow, plot_pred_conf\n",
    "from Chromatin3D.Model.model import UniformLinear, train_uniform_linear, evaluate_uniform_linear, ConfLinear, train_conf_linear, evaluate_conf_linear\n",
    "from Chromatin3D.Model.losses import compute_trussart_test_kabsch_loss, biological_loss_fct, kabsch_loss_fct\n",
    "from Chromatin3D.Data_Tools.Data_Calculation import save_structure, import_trussart_data, kabsch_superimposition_numpy, kabsch_distance_numpy, make_gif, scale_logits, mse_unscaled_scaled\n",
    "from Chromatin3D.Model.lddt_tools import lddt, get_confidence_metrics\n",
    "from Chromatin3D.Model.calibration_nn import ModelWithTemperature, isotonic_calibration, beta_calibration\n",
    "from scipy.spatial import distance_matrix\n",
    "from sklearn.preprocessing import MinMaxScaler\n",
    "from sklearn.model_selection import train_test_split\n",
    "from sklearn.metrics import mean_squared_error\n",
    "\n",
    "\n",
    "ZERO_INIT = False\n",
    "EXPONENT = 1\n",
    "NUM_BINS_LOGITS = 100\n",
    "NB_EPOCHS = 73\n",
    "##47\n",
    "SEED = 2\n",
    "BATCH_SIZE = 10\n",
    "NB_BINS = 202\n",
    "EMBEDDING_SIZE = 3\n",
    "LAMBDA_BIO = 0\n",
    "LAMBDA_KABSCH = 0\n",
    "LAMBDA_LDDT = 0.1\n",
    "\n",
    "device = torch.device('cuda' if torch.cuda.is_available() else 'cpu')\n",
    "torch.manual_seed(SEED)\n",
    "random.seed(SEED)\n",
    "np.random.seed(SEED)\n",
    "DATA_DIR = os.environ.get('DATA_DIR')\n",
    "DATA_PATH=f'{DATA_DIR}/biological_trussart_uniform'\n",
    "TRAIN_DATASET_SIZE = 800\n",
    "TEST_DATASET_SIZE = 200\n",
    "\n"
   ]
  },
  {
   "cell_type": "code",
   "execution_count": 3,
   "metadata": {},
   "outputs": [],
   "source": [
    "train_transfer_learning_hics, test_transfer_learning_hics, train_transfer_learning_structures, test_transfer_learning_structures, train_transfer_learning_distances, test_transfer_learning_distances = get_data_from_path(DATA_PATH)\n"
   ]
  },
  {
   "cell_type": "code",
   "execution_count": 4,
   "metadata": {},
   "outputs": [
    {
     "name": "stdout",
     "output_type": "stream",
     "text": [
      "800\n"
     ]
    }
   ],
   "source": [
    "train_dataset = VanillaDataset(root = '', is_training = True, dataset_size = TRAIN_DATASET_SIZE, hics = train_transfer_learning_hics, structures = train_transfer_learning_structures, distances = train_transfer_learning_distances)\n",
    "train_dataset = train_dataset.shuffle()\n",
    "train_size = len(train_dataset)\n",
    "print(train_size)\n",
    "train_loader = DataLoader(train_dataset, batch_size=BATCH_SIZE)"
   ]
  },
  {
   "cell_type": "code",
   "execution_count": 5,
   "metadata": {},
   "outputs": [],
   "source": [
    "test_dataset = VanillaDataset(root = '', is_training = False, dataset_size = TEST_DATASET_SIZE, hics = test_transfer_learning_hics, structures = test_transfer_learning_structures, distances = test_transfer_learning_distances)\n",
    "test_dataset = test_dataset.shuffle()\n",
    "\n",
    "test_train_idx, test_test_idx = train_test_split(list(range(len(test_dataset))), test_size=0.1)\n",
    "test_train_calib = test_dataset.index_select(test_train_idx)\n",
    "test_test_calib= test_dataset.index_select(test_test_idx)\n",
    "\n",
    "test_size = len(test_dataset)\n",
    "\n",
    "test_loader = DataLoader(test_dataset, batch_size=BATCH_SIZE)\n",
    "test_train_calib_loader = DataLoader(test_train_calib, batch_size=BATCH_SIZE)\n",
    "test_test_calib_loader = DataLoader(test_test_calib, batch_size=BATCH_SIZE)"
   ]
  },
  {
   "cell_type": "code",
   "execution_count": 6,
   "metadata": {},
   "outputs": [],
   "source": [
    "trussart_hic, trussart_structures = import_trussart_data(DATA_DIR)"
   ]
  },
  {
   "cell_type": "code",
   "execution_count": 7,
   "metadata": {},
   "outputs": [],
   "source": [
    "distance_loss_fct = torch.nn.MSELoss()"
   ]
  },
  {
   "cell_type": "code",
   "execution_count": 8,
   "metadata": {},
   "outputs": [],
   "source": [
    "device = torch.device('cpu')\n",
    "model = ConfLinear(NB_BINS, EMBEDDING_SIZE, BATCH_SIZE, NUM_BINS_LOGITS, ZERO_INIT).to(device)\n",
    "optimizer = torch.optim.Adam(model.parameters(), lr=0.001)"
   ]
  },
  {
   "cell_type": "code",
   "execution_count": 9,
   "metadata": {},
   "outputs": [
    {
     "name": "stdout",
     "output_type": "stream",
     "text": [
      "E: 001, Tr B: 0.0532, Tr K: 0.1304, Tr D: 0.0436, Te B: 0.0542, Te K: 0.1303, Te D: 0.0444, Tr LD: 0.4486, Te LD: 0.4486, Trus: 0.0551\n",
      "E: 002, Tr B: 0.0532, Tr K: 0.1159, Tr D: 0.0345, Te B: 0.0538, Te K: 0.1144, Te D: 0.0345, Tr LD: 0.4352, Te LD: 0.4348, Trus: 0.0529\n",
      "E: 003, Tr B: 0.0527, Tr K: 0.1099, Tr D: 0.0328, Te B: 0.0533, Te K: 0.1084, Te D: 0.0325, Tr LD: 0.4225, Te LD: 0.4222, Trus: 0.0721\n",
      "E: 004, Tr B: 0.0524, Tr K: 0.1048, Tr D: 0.0303, Te B: 0.0529, Te K: 0.1034, Te D: 0.0302, Tr LD: 0.4105, Te LD: 0.4101, Trus: 0.0518\n",
      "E: 005, Tr B: 0.0526, Tr K: 0.1033, Tr D: 0.0266, Te B: 0.0530, Te K: 0.1020, Te D: 0.0267, Tr LD: 0.3985, Te LD: 0.3976, Trus: 0.0586\n",
      "E: 006, Tr B: 0.0523, Tr K: 0.1018, Tr D: 0.0256, Te B: 0.0526, Te K: 0.1006, Te D: 0.0262, Tr LD: 0.3880, Te LD: 0.3878, Trus: 0.0479\n",
      "E: 007, Tr B: 0.0522, Tr K: 0.0994, Tr D: 0.0246, Te B: 0.0526, Te K: 0.0983, Te D: 0.0249, Tr LD: 0.3787, Te LD: 0.3778, Trus: 0.0460\n",
      "E: 008, Tr B: 0.0521, Tr K: 0.0989, Tr D: 0.0241, Te B: 0.0526, Te K: 0.0972, Te D: 0.0245, Tr LD: 0.3704, Te LD: 0.3696, Trus: 0.0453\n",
      "E: 009, Tr B: 0.0520, Tr K: 0.0976, Tr D: 0.0232, Te B: 0.0525, Te K: 0.0962, Te D: 0.0235, Tr LD: 0.3633, Te LD: 0.3623, Trus: 0.0419\n",
      "E: 010, Tr B: 0.0520, Tr K: 0.0971, Tr D: 0.0234, Te B: 0.0525, Te K: 0.0954, Te D: 0.0238, Tr LD: 0.3572, Te LD: 0.3560, Trus: 0.0442\n",
      "E: 011, Tr B: 0.0518, Tr K: 0.0975, Tr D: 0.0234, Te B: 0.0524, Te K: 0.0957, Te D: 0.0239, Tr LD: 0.3519, Te LD: 0.3510, Trus: 0.0393\n",
      "E: 012, Tr B: 0.0519, Tr K: 0.0966, Tr D: 0.0240, Te B: 0.0525, Te K: 0.0952, Te D: 0.0243, Tr LD: 0.3476, Te LD: 0.3472, Trus: 0.0468\n",
      "E: 013, Tr B: 0.0518, Tr K: 0.0966, Tr D: 0.0240, Te B: 0.0522, Te K: 0.0945, Te D: 0.0241, Tr LD: 0.3450, Te LD: 0.3430, Trus: 0.0480\n",
      "E: 014, Tr B: 0.0517, Tr K: 0.0950, Tr D: 0.0221, Te B: 0.0522, Te K: 0.0929, Te D: 0.0223, Tr LD: 0.3373, Te LD: 0.3361, Trus: 0.0407\n",
      "E: 015, Tr B: 0.0517, Tr K: 0.0947, Tr D: 0.0216, Te B: 0.0522, Te K: 0.0927, Te D: 0.0217, Tr LD: 0.3333, Te LD: 0.3320, Trus: 0.0399\n",
      "E: 016, Tr B: 0.0517, Tr K: 0.0943, Tr D: 0.0231, Te B: 0.0524, Te K: 0.0922, Te D: 0.0231, Tr LD: 0.3336, Te LD: 0.3326, Trus: 0.0481\n",
      "E: 017, Tr B: 0.0518, Tr K: 0.0946, Tr D: 0.0229, Te B: 0.0522, Te K: 0.0927, Te D: 0.0230, Tr LD: 0.3318, Te LD: 0.3296, Trus: 0.0467\n",
      "E: 018, Tr B: 0.0516, Tr K: 0.0945, Tr D: 0.0213, Te B: 0.0522, Te K: 0.0923, Te D: 0.0216, Tr LD: 0.3245, Te LD: 0.3250, Trus: 0.0420\n",
      "E: 019, Tr B: 0.0517, Tr K: 0.0940, Tr D: 0.0220, Te B: 0.0521, Te K: 0.0917, Te D: 0.0223, Tr LD: 0.3252, Te LD: 0.3247, Trus: 0.0394\n",
      "E: 020, Tr B: 0.0516, Tr K: 0.0930, Tr D: 0.0214, Te B: 0.0522, Te K: 0.0915, Te D: 0.0221, Tr LD: 0.3230, Te LD: 0.3238, Trus: 0.0366\n",
      "E: 021, Tr B: 0.0517, Tr K: 0.0934, Tr D: 0.0212, Te B: 0.0520, Te K: 0.0915, Te D: 0.0217, Tr LD: 0.3201, Te LD: 0.3207, Trus: 0.0371\n",
      "E: 022, Tr B: 0.0517, Tr K: 0.0923, Tr D: 0.0197, Te B: 0.0520, Te K: 0.0900, Te D: 0.0201, Tr LD: 0.3157, Te LD: 0.3154, Trus: 0.0310\n",
      "E: 023, Tr B: 0.0515, Tr K: 0.0931, Tr D: 0.0196, Te B: 0.0522, Te K: 0.0905, Te D: 0.0198, Tr LD: 0.3134, Te LD: 0.3129, Trus: 0.0349\n",
      "E: 024, Tr B: 0.0516, Tr K: 0.0934, Tr D: 0.0194, Te B: 0.0522, Te K: 0.0915, Te D: 0.0197, Tr LD: 0.3127, Te LD: 0.3114, Trus: 0.0337\n",
      "E: 025, Tr B: 0.0516, Tr K: 0.0930, Tr D: 0.0193, Te B: 0.0522, Te K: 0.0910, Te D: 0.0196, Tr LD: 0.3113, Te LD: 0.3111, Trus: 0.0303\n",
      "E: 026, Tr B: 0.0515, Tr K: 0.0923, Tr D: 0.0192, Te B: 0.0522, Te K: 0.0905, Te D: 0.0197, Tr LD: 0.3098, Te LD: 0.3107, Trus: 0.0332\n",
      "E: 027, Tr B: 0.0517, Tr K: 0.0922, Tr D: 0.0195, Te B: 0.0523, Te K: 0.0900, Te D: 0.0199, Tr LD: 0.3079, Te LD: 0.3097, Trus: 0.0351\n",
      "E: 028, Tr B: 0.0516, Tr K: 0.0917, Tr D: 0.0178, Te B: 0.0521, Te K: 0.0897, Te D: 0.0181, Tr LD: 0.3049, Te LD: 0.3047, Trus: 0.0337\n",
      "E: 029, Tr B: 0.0517, Tr K: 0.0908, Tr D: 0.0176, Te B: 0.0520, Te K: 0.0885, Te D: 0.0179, Tr LD: 0.3032, Te LD: 0.3029, Trus: 0.0345\n",
      "E: 030, Tr B: 0.0516, Tr K: 0.0903, Tr D: 0.0181, Te B: 0.0522, Te K: 0.0878, Te D: 0.0183, Tr LD: 0.3029, Te LD: 0.3022, Trus: 0.0313\n",
      "E: 031, Tr B: 0.0515, Tr K: 0.0899, Tr D: 0.0175, Te B: 0.0521, Te K: 0.0875, Te D: 0.0176, Tr LD: 0.3017, Te LD: 0.3004, Trus: 0.0272\n",
      "E: 032, Tr B: 0.0515, Tr K: 0.0903, Tr D: 0.0174, Te B: 0.0521, Te K: 0.0880, Te D: 0.0176, Tr LD: 0.3006, Te LD: 0.2998, Trus: 0.0337\n",
      "E: 033, Tr B: 0.0514, Tr K: 0.0898, Tr D: 0.0177, Te B: 0.0521, Te K: 0.0872, Te D: 0.0179, Tr LD: 0.3010, Te LD: 0.3014, Trus: 0.0359\n",
      "E: 034, Tr B: 0.0514, Tr K: 0.0900, Tr D: 0.0182, Te B: 0.0520, Te K: 0.0874, Te D: 0.0186, Tr LD: 0.3020, Te LD: 0.3020, Trus: 0.0306\n",
      "E: 035, Tr B: 0.0515, Tr K: 0.0894, Tr D: 0.0186, Te B: 0.0520, Te K: 0.0873, Te D: 0.0190, Tr LD: 0.3052, Te LD: 0.3059, Trus: 0.0293\n",
      "E: 036, Tr B: 0.0514, Tr K: 0.0888, Tr D: 0.0171, Te B: 0.0521, Te K: 0.0862, Te D: 0.0174, Tr LD: 0.2984, Te LD: 0.2982, Trus: 0.0333\n",
      "E: 037, Tr B: 0.0514, Tr K: 0.0882, Tr D: 0.0188, Te B: 0.0520, Te K: 0.0856, Te D: 0.0189, Tr LD: 0.3055, Te LD: 0.3057, Trus: 0.0342\n",
      "E: 038, Tr B: 0.0514, Tr K: 0.0894, Tr D: 0.0171, Te B: 0.0520, Te K: 0.0867, Te D: 0.0174, Tr LD: 0.2970, Te LD: 0.2970, Trus: 0.0294\n",
      "E: 039, Tr B: 0.0514, Tr K: 0.0900, Tr D: 0.0171, Te B: 0.0520, Te K: 0.0878, Te D: 0.0173, Tr LD: 0.2962, Te LD: 0.2957, Trus: 0.0319\n",
      "E: 040, Tr B: 0.0515, Tr K: 0.0902, Tr D: 0.0164, Te B: 0.0521, Te K: 0.0875, Te D: 0.0167, Tr LD: 0.2955, Te LD: 0.2955, Trus: 0.0302\n",
      "E: 041, Tr B: 0.0514, Tr K: 0.0895, Tr D: 0.0166, Te B: 0.0520, Te K: 0.0869, Te D: 0.0169, Tr LD: 0.2944, Te LD: 0.2950, Trus: 0.0300\n",
      "E: 042, Tr B: 0.0514, Tr K: 0.0884, Tr D: 0.0162, Te B: 0.0519, Te K: 0.0857, Te D: 0.0163, Tr LD: 0.2926, Te LD: 0.2917, Trus: 0.0275\n",
      "E: 043, Tr B: 0.0514, Tr K: 0.0883, Tr D: 0.0162, Te B: 0.0520, Te K: 0.0859, Te D: 0.0164, Tr LD: 0.2931, Te LD: 0.2925, Trus: 0.0288\n",
      "E: 044, Tr B: 0.0514, Tr K: 0.0889, Tr D: 0.0165, Te B: 0.0519, Te K: 0.0864, Te D: 0.0166, Tr LD: 0.2929, Te LD: 0.2929, Trus: 0.0268\n",
      "E: 045, Tr B: 0.0514, Tr K: 0.0899, Tr D: 0.0165, Te B: 0.0520, Te K: 0.0869, Te D: 0.0166, Tr LD: 0.2936, Te LD: 0.2934, Trus: 0.0274\n",
      "E: 046, Tr B: 0.0514, Tr K: 0.0881, Tr D: 0.0162, Te B: 0.0519, Te K: 0.0860, Te D: 0.0163, Tr LD: 0.2915, Te LD: 0.2916, Trus: 0.0275\n",
      "E: 047, Tr B: 0.0513, Tr K: 0.0885, Tr D: 0.0177, Te B: 0.0520, Te K: 0.0869, Te D: 0.0177, Tr LD: 0.2970, Te LD: 0.2972, Trus: 0.0263\n",
      "E: 048, Tr B: 0.0515, Tr K: 0.0895, Tr D: 0.0169, Te B: 0.0521, Te K: 0.0869, Te D: 0.0171, Tr LD: 0.2937, Te LD: 0.2939, Trus: 0.0302\n",
      "E: 049, Tr B: 0.0514, Tr K: 0.0896, Tr D: 0.0161, Te B: 0.0519, Te K: 0.0875, Te D: 0.0162, Tr LD: 0.2914, Te LD: 0.2900, Trus: 0.0275\n",
      "E: 050, Tr B: 0.0514, Tr K: 0.0903, Tr D: 0.0162, Te B: 0.0521, Te K: 0.0882, Te D: 0.0164, Tr LD: 0.2915, Te LD: 0.2908, Trus: 0.0294\n",
      "E: 051, Tr B: 0.0514, Tr K: 0.0896, Tr D: 0.0164, Te B: 0.0520, Te K: 0.0872, Te D: 0.0165, Tr LD: 0.2919, Te LD: 0.2921, Trus: 0.0287\n",
      "E: 052, Tr B: 0.0513, Tr K: 0.0887, Tr D: 0.0159, Te B: 0.0519, Te K: 0.0862, Te D: 0.0160, Tr LD: 0.2892, Te LD: 0.2891, Trus: 0.0287\n",
      "E: 053, Tr B: 0.0513, Tr K: 0.0885, Tr D: 0.0158, Te B: 0.0519, Te K: 0.0861, Te D: 0.0160, Tr LD: 0.2888, Te LD: 0.2891, Trus: 0.0298\n",
      "E: 054, Tr B: 0.0514, Tr K: 0.0889, Tr D: 0.0161, Te B: 0.0519, Te K: 0.0861, Te D: 0.0163, Tr LD: 0.2900, Te LD: 0.2910, Trus: 0.0280\n",
      "E: 055, Tr B: 0.0513, Tr K: 0.0880, Tr D: 0.0161, Te B: 0.0520, Te K: 0.0856, Te D: 0.0163, Tr LD: 0.2896, Te LD: 0.2911, Trus: 0.0305\n",
      "E: 056, Tr B: 0.0513, Tr K: 0.0887, Tr D: 0.0157, Te B: 0.0519, Te K: 0.0865, Te D: 0.0158, Tr LD: 0.2884, Te LD: 0.2880, Trus: 0.0301\n",
      "E: 057, Tr B: 0.0513, Tr K: 0.0891, Tr D: 0.0161, Te B: 0.0520, Te K: 0.0864, Te D: 0.0164, Tr LD: 0.2896, Te LD: 0.2915, Trus: 0.0379\n",
      "E: 058, Tr B: 0.0515, Tr K: 0.0883, Tr D: 0.0156, Te B: 0.0520, Te K: 0.0859, Te D: 0.0157, Tr LD: 0.2877, Te LD: 0.2884, Trus: 0.0289\n",
      "E: 059, Tr B: 0.0513, Tr K: 0.0876, Tr D: 0.0153, Te B: 0.0520, Te K: 0.0856, Te D: 0.0155, Tr LD: 0.2860, Te LD: 0.2870, Trus: 0.0280\n",
      "E: 060, Tr B: 0.0514, Tr K: 0.0875, Tr D: 0.0159, Te B: 0.0521, Te K: 0.0851, Te D: 0.0160, Tr LD: 0.2898, Te LD: 0.2908, Trus: 0.0289\n",
      "E: 061, Tr B: 0.0514, Tr K: 0.0880, Tr D: 0.0159, Te B: 0.0522, Te K: 0.0856, Te D: 0.0160, Tr LD: 0.2885, Te LD: 0.2897, Trus: 0.0305\n",
      "E: 062, Tr B: 0.0514, Tr K: 0.0886, Tr D: 0.0158, Te B: 0.0521, Te K: 0.0859, Te D: 0.0158, Tr LD: 0.2877, Te LD: 0.2883, Trus: 0.0300\n",
      "E: 063, Tr B: 0.0514, Tr K: 0.0873, Tr D: 0.0161, Te B: 0.0520, Te K: 0.0849, Te D: 0.0162, Tr LD: 0.2892, Te LD: 0.2894, Trus: 0.0305\n",
      "E: 064, Tr B: 0.0514, Tr K: 0.0887, Tr D: 0.0159, Te B: 0.0521, Te K: 0.0864, Te D: 0.0159, Tr LD: 0.2880, Te LD: 0.2877, Trus: 0.0296\n",
      "E: 065, Tr B: 0.0514, Tr K: 0.0881, Tr D: 0.0156, Te B: 0.0519, Te K: 0.0860, Te D: 0.0156, Tr LD: 0.2857, Te LD: 0.2851, Trus: 0.0315\n",
      "E: 066, Tr B: 0.0515, Tr K: 0.0879, Tr D: 0.0154, Te B: 0.0520, Te K: 0.0857, Te D: 0.0155, Tr LD: 0.2858, Te LD: 0.2870, Trus: 0.0288\n",
      "E: 067, Tr B: 0.0514, Tr K: 0.0873, Tr D: 0.0155, Te B: 0.0520, Te K: 0.0855, Te D: 0.0156, Tr LD: 0.2869, Te LD: 0.2864, Trus: 0.0297\n",
      "E: 068, Tr B: 0.0514, Tr K: 0.0875, Tr D: 0.0157, Te B: 0.0520, Te K: 0.0855, Te D: 0.0157, Tr LD: 0.2879, Te LD: 0.2878, Trus: 0.0303\n",
      "E: 069, Tr B: 0.0515, Tr K: 0.0885, Tr D: 0.0153, Te B: 0.0520, Te K: 0.0865, Te D: 0.0154, Tr LD: 0.2859, Te LD: 0.2869, Trus: 0.0277\n",
      "E: 070, Tr B: 0.0515, Tr K: 0.0878, Tr D: 0.0160, Te B: 0.0521, Te K: 0.0857, Te D: 0.0159, Tr LD: 0.2900, Te LD: 0.2898, Trus: 0.0324\n",
      "E: 071, Tr B: 0.0514, Tr K: 0.0876, Tr D: 0.0158, Te B: 0.0521, Te K: 0.0857, Te D: 0.0160, Tr LD: 0.2871, Te LD: 0.2884, Trus: 0.0315\n",
      "E: 072, Tr B: 0.0513, Tr K: 0.0867, Tr D: 0.0172, Te B: 0.0518, Te K: 0.0849, Te D: 0.0172, Tr LD: 0.2969, Te LD: 0.2984, Trus: 0.0322\n",
      "E: 073, Tr B: 0.0514, Tr K: 0.0875, Tr D: 0.0157, Te B: 0.0519, Te K: 0.0857, Te D: 0.0160, Tr LD: 0.2885, Te LD: 0.2897, Trus: 0.0277\n"
     ]
    }
   ],
   "source": [
    "train_biological_losses_all_epochs = []\n",
    "train_kabsch_losses_all_epochs = []\n",
    "train_distance_losses_all_epochs = []\n",
    "train_lddt_losses_all_epochs = []\n",
    "\n",
    "test_biological_losses_all_epochs = []\n",
    "test_kabsch_losses_all_epochs = []\n",
    "test_distance_losses_all_epochs = []\n",
    "test_lddt_losses_all_epochs = []\n",
    "\n",
    "losses = []\n",
    "\n",
    "trussart_test_kabsch_losses_all_epochs = []\n",
    "\n",
    "for epoch in range(1, NB_EPOCHS+1):\n",
    "    loss = train_conf_linear(model, train_loader, train_dataset, optimizer, device, BATCH_SIZE,  NB_BINS, EMBEDDING_SIZE, LAMBDA_BIO, LAMBDA_KABSCH, distance_loss_fct, LAMBDA_LDDT, NUM_BINS_LOGITS)\n",
    "    losses.append(loss)\n",
    "    \n",
    "    ### Training\n",
    "    train_mean_biological_loss, train_mean_kabsch_loss, train_mean_distance_loss, train_true_hics, \\\n",
    "        train_pred_structures, train_true_structures, train_pred_distances, \\\n",
    "            train_true_distances, train_mean_lddt_loss = evaluate_conf_linear(train_loader, model, device, BATCH_SIZE, NB_BINS, EMBEDDING_SIZE, distance_loss_fct, NUM_BINS_LOGITS) \n",
    "    \n",
    "    # Store results\n",
    "    train_biological_losses_all_epochs.append(train_mean_biological_loss)\n",
    "    train_kabsch_losses_all_epochs.append(train_mean_kabsch_loss)    \n",
    "    train_distance_losses_all_epochs.append(train_mean_distance_loss)\n",
    "    train_lddt_losses_all_epochs.append(train_mean_lddt_loss)\n",
    "\n",
    "    ### Testing\n",
    "    test_mean_biological_loss, test_mean_kabsch_loss, test_mean_distance_loss, test_true_hics, \\\n",
    "        test_pred_structures, test_true_structures, test_pred_distances, \\\n",
    "            test_true_distances, test_mean_lddt_loss = evaluate_conf_linear(test_loader, model, device, BATCH_SIZE, NB_BINS, EMBEDDING_SIZE, distance_loss_fct, NUM_BINS_LOGITS) \n",
    "    \n",
    "    ### Trussart test\n",
    "    trussart_test_kabsch_loss = compute_trussart_test_kabsch_loss(trussart_hic, trussart_structures, model, NB_BINS, BATCH_SIZE, EMBEDDING_SIZE, True)\n",
    "    save_structure(model, epoch, trussart_structures, trussart_hic, NB_BINS, BATCH_SIZE, EMBEDDING_SIZE, True)\n",
    "    # Store results\n",
    "    test_biological_losses_all_epochs.append(test_mean_biological_loss)\n",
    "    test_kabsch_losses_all_epochs.append(test_mean_kabsch_loss)    \n",
    "    test_distance_losses_all_epochs.append(test_mean_distance_loss)\n",
    "    test_lddt_losses_all_epochs.append(test_mean_lddt_loss)\n",
    "\n",
    "    \n",
    "    trussart_test_kabsch_losses_all_epochs.append(trussart_test_kabsch_loss)\n",
    "    \n",
    "    print('E: {:03d}, Tr B: {:.4f}, Tr K: {:.4f}, Tr D: {:.4f}, Te B: {:.4f}, Te K: {:.4f}, Te D: {:.4f}, Tr LD: {:.4f}, Te LD: {:.4f}, Trus: {:.4f}'.format(\\\n",
    "        epoch, train_mean_biological_loss, train_mean_kabsch_loss, train_mean_distance_loss, \\\n",
    "            test_mean_biological_loss, test_mean_kabsch_loss, test_mean_distance_loss,train_mean_lddt_loss, test_mean_lddt_loss, trussart_test_kabsch_loss))"
   ]
  },
  {
   "cell_type": "code",
   "execution_count": 10,
   "metadata": {},
   "outputs": [
    {
     "name": "stdout",
     "output_type": "stream",
     "text": [
      "(array([46]),)\n",
      "0.02634749215408412\n"
     ]
    }
   ],
   "source": [
    "print(np.where(trussart_test_kabsch_losses_all_epochs == min(trussart_test_kabsch_losses_all_epochs)))\n",
    "print(min(trussart_test_kabsch_losses_all_epochs))"
   ]
  },
  {
   "cell_type": "code",
   "execution_count": 11,
   "metadata": {},
   "outputs": [
    {
     "data": {
      "image/png": "[encoded data removed]",
      "text/plain": [
       "<Figure size 1000x1000 with 4 Axes>"
      ]
     },
     "metadata": {},
     "output_type": "display_data"
    }
   ],
   "source": [
    "plot_losses(losses, train_biological_losses_all_epochs, test_biological_losses_all_epochs, train_kabsch_losses_all_epochs, test_kabsch_losses_all_epochs, trussart_test_kabsch_losses_all_epochs, train_distance_losses_all_epochs, test_distance_losses_all_epochs)\n"
   ]
  },
  {
   "cell_type": "code",
   "execution_count": 12,
   "metadata": {},
   "outputs": [
    {
     "name": "stdout",
     "output_type": "stream",
     "text": [
      "tensor(0.0002)\n",
      "linear_encoder_layer_1.weight\n",
      "tensor(0.0004)\n",
      "linear_encoder_layer_2.weight\n",
      "tensor(0.0036)\n",
      "linear_encoder_layer_3.weight\n",
      "tensor(3.1952e-06)\n",
      "linear_bin_layer.weight\n"
     ]
    },
    {
     "name": "stderr",
     "output_type": "stream",
     "text": [
      "/Users/hva/Documents/3D-Chromatin/Chromatin3D/Data_Tools/Data_Plotting.py:107: UserWarning:\n",
      "\n",
      "Attempted to set non-positive bottom ylim on a log-scaled axis.\n",
      "Invalid limit will be ignored.\n",
      "\n"
     ]
    },
    {
     "data": {
      "image/png": "[encoded data removed]",
      "text/plain": [
       "<Figure size 640x480 with 1 Axes>"
      ]
     },
     "metadata": {},
     "output_type": "display_data"
    }
   ],
   "source": [
    "plot_grad_flow(model.named_parameters())"
   ]
  },
  {
   "cell_type": "code",
   "execution_count": 13,
   "metadata": {},
   "outputs": [],
   "source": [
    "GRAPH_TESTED = 0"
   ]
  },
  {
   "cell_type": "code",
   "execution_count": 14,
   "metadata": {},
   "outputs": [
    {
     "data": {
      "image/png": "[encoded data removed]",
      "text/plain": [
       "<Figure size 1500x1500 with 2 Axes>"
      ]
     },
     "metadata": {},
     "output_type": "display_data"
    }
   ],
   "source": [
    "ground_truth_matrix = test_true_distances[GRAPH_TESTED*NB_BINS:GRAPH_TESTED*NB_BINS+NB_BINS, :]\n",
    "reconstruction_matrix = test_pred_distances[GRAPH_TESTED*NB_BINS:GRAPH_TESTED*NB_BINS+NB_BINS, :]\n",
    "plot_test_distance_matrix(ground_truth_matrix, reconstruction_matrix)"
   ]
  },
  {
   "cell_type": "code",
   "execution_count": 15,
   "metadata": {},
   "outputs": [
    {
     "data": {
      "application/vnd.plotly.v1+json": {
       "config": {
        "plotlyServerURL": "https://plot.ly"
       },
       "data": [
        {
         "line": {
          "color": "darkblue",
          "width": 2
         },
         "marker": {
          "color": [
           0,
           1,
           2,
           3,
           4,
           5,
           6,
           7,
           8,
           9,
           10,
           11,
           12,
           13,
           14,
           15,
           16,
           17,
           18,
           19,
           20,
           21,
           22,
           23,
           24,
           25,
           26,
           27,
           28,
           29,
           30,
           31,
           32,
           33,
           34,
           35,
           36,
           37,
           38,
           39,
           40,
           41,
           42,
           43,
           44,
           45,
           46,
           47,
           48,
           49,
           50,
           51,
           52,
           53,
           54,
           55,
           56,
           57,
           58,
           59,
           60,
           61,
           62,
           63,
           64,
           65,
           66,
           67,
           68,
           69,
           70,
           71,
           72,
           73,
           74,
           75,
           76,
           77,
           78,
           79,
           80,
           81,
           82,
           83,
           84,
           85,
           86,
           87,
           88,
           89,
           90,
           91,
           92,
           93,
           94,
           95,
           96,
           97,
           98,
           99,
           100,
           101,
           102,
           103,
           104,
           105,
           106,
           107,
           108,
           109,
           110,
           111,
           112,
           113,
           114,
           115,
           116,
           117,
           118,
           119,
           120,
           121,
           122,
           123,
           124,
           125,
           126,
           127,
           128,
           129,
           130,
           131,
           132,
           133,
           134,
           135,
           136,
           137,
           138,
           139,
           140,
           141,
           142,
           143,
           144,
           145,
           146,
           147,
           148,
           149,
           150,
           151,
           152,
           153,
           154,
           155,
           156,
           157,
           158,
           159,
           160,
           161,
           162,
           163,
           164,
           165,
           166,
           167,
           168,
           169,
           170,
           171,
           172,
           173,
           174,
           175,
           176,
           177,
           178,
           179,
           180,
           181,
           182,
           183,
           184,
           185,
           186,
           187,
           188,
           189,
           190,
           191,
           192,
           193,
           194,
           195,
           196,
           197,
           198,
           199,
           200,
           201
          ],
          "colorscale": [
           [
            0,
            "#440154"
           ],
           [
            0.1111111111111111,
            "#482878"
           ],
           [
            0.2222222222222222,
            "#3e4989"
           ],
           [
            0.3333333333333333,
            "#31688e"
           ],
           [
            0.4444444444444444,
            "#26828e"
           ],
           [
            0.5555555555555556,
            "#1f9e89"
           ],
           [
            0.6666666666666666,
            "#35b779"
           ],
           [
            0.7777777777777778,
            "#6ece58"
           ],
           [
            0.8888888888888888,
            "#b5de2b"
           ],
           [
            1,
            "#fde725"
           ]
          ],
          "size": 4
         },
         "scene": "scene",
         "type": "scatter3d",
         "x": [
          -0.2440069615840912,
          -0.24971476197242737,
          -0.22575637698173523,
          -0.15791219472885132,
          -0.08745020627975464,
          -0.049672577530145645,
          0.0048335217870771885,
          0.07794509828090668,
          0.16472990810871124,
          0.19864165782928467,
          0.21473927795886993,
          0.20827771723270416,
          0.14475859701633453,
          0.1551104038953781,
          0.1762247532606125,
          0.22440983355045319,
          0.30880722403526306,
          0.36295080184936523,
          0.4123528003692627,
          0.3459973633289337,
          0.37527990341186523,
          0.3458091616630554,
          0.27922630310058594,
          0.1936168223619461,
          0.19977793097496033,
          0.2006254345178604,
          0.14676856994628906,
          0.14506903290748596,
          0.2144513577222824,
          0.2916596233844757,
          0.3860745131969452,
          0.47437942028045654,
          0.506697416305542,
          0.5739186406135559,
          0.5790305137634277,
          0.5807982087135315,
          0.5265365839004517,
          0.526723325252533,
          0.5156735777854919,
          0.5548375248908997,
          0.6204276084899902,
          0.6039999723434448,
          0.6261360049247742,
          0.5974709391593933,
          0.5731455087661743,
          0.5110703110694885,
          0.4483693540096283,
          0.4527043402194977,
          0.4617798626422882,
          0.5348901152610779,
          0.5697596073150635,
          0.5401798486709595,
          0.5976337194442749,
          0.592781126499176,
          0.5699869394302368,
          0.5085241794586182,
          0.4386388659477234,
          0.41428476572036743,
          0.35188519954681396,
          0.30985668301582336,
          0.22810623049736023,
          0.18999913334846497,
          0.129010871052742,
          0.03734329715371132,
          -0.03208591416478157,
          -0.1267559975385666,
          -0.19279946386814117,
          -0.2609157860279083,
          -0.26877954602241516,
          -0.28324568271636963,
          -0.23603588342666626,
          -0.24178695678710938,
          -0.24487696588039398,
          -0.30190324783325195,
          -0.32476457953453064,
          -0.3164939880371094,
          -0.35793542861938477,
          -0.3601352870464325,
          -0.29100146889686584,
          -0.20453687012195587,
          -0.13703635334968567,
          -0.11197444051504135,
          -0.0772058442234993,
          -0.10006636381149292,
          -0.16155819594860077,
          -0.2164326161146164,
          -0.2933965027332306,
          -0.2784481644630432,
          -0.3106202781200409,
          -0.27931416034698486,
          -0.223647803068161,
          -0.14922212064266205,
          -0.09181984513998032,
          -0.036574676632881165,
          0.05599220097064972,
          0.11640752851963043,
          0.09570477157831192,
          0.021028202027082443,
          -0.06065317615866661,
          -0.13030554354190826,
          -0.20348311960697174,
          -0.2671099007129669,
          -0.3563912510871887,
          -0.37310904264450073,
          -0.33926478028297424,
          -0.2815711796283722,
          -0.20161055028438568,
          -0.16136164963245392,
          -0.07828834652900696,
          -0.021052978932857513,
          0.06852812319993973,
          0.06896185129880905,
          0.11924310028553009,
          0.10204870253801346,
          0.1236826702952385,
          0.10976966470479965,
          0.07247344404459,
          -0.015056595206260681,
          -0.09458232671022415,
          -0.16535194218158722,
          -0.23915058374404907,
          -0.33015719056129456,
          -0.3898787498474121,
          -0.37859952449798584,
          -0.3249819278717041,
          -0.3202285170555115,
          -0.2969417870044708,
          -0.22935791313648224,
          -0.21614058315753937,
          -0.25661301612854004,
          -0.24895864725112915,
          -0.25039032101631165,
          -0.27420639991760254,
          -0.27032002806663513,
          -0.25228187441825867,
          -0.20092879235744476,
          -0.18835845589637756,
          -0.12387977540493011,
          -0.12169896811246872,
          -0.15629711747169495,
          -0.196954607963562,
          -0.15700657665729523,
          -0.10517062246799469,
          -0.034681688994169235,
          0.05168091133236885,
          0.09526681900024414,
          0.0730351135134697,
          0.01673946902155876,
          -0.018497390672564507,
          -0.025971433147788048,
          0.030683284625411034,
          -0.01165764220058918,
          -0.0976959764957428,
          -0.15843847393989563,
          -0.23933444917201996,
          -0.2876540720462799,
          -0.2660023868083954,
          -0.18561077117919922,
          -0.09532317519187927,
          -0.014288298785686493,
          0.05981160327792168,
          0.05161355808377266,
          0.06261870265007019,
          0.00042777517228387296,
          -0.07212924212217331,
          -0.09554090350866318,
          -0.15002486109733582,
          -0.12774935364723206,
          -0.13923941552639008,
          -0.07722966372966766,
          -0.0008640228770673275,
          0.012974477373063564,
          0.053210169076919556,
          -0.022424474358558655,
          -0.027131035923957825,
          -0.06741970777511597,
          -0.08915457874536514,
          -0.058439891785383224,
          -0.0292416550219059,
          -0.06148373708128929,
          -0.08647967129945755,
          -0.07845959067344666,
          -0.003578397212550044,
          -0.0011906226864084601,
          -0.04533222317695618,
          -0.08749114722013474,
          -0.14504940807819366,
          -0.24008841812610626,
          -0.30643126368522644,
          -0.36314743757247925,
          -0.3419414758682251,
          -0.3178386688232422,
          -0.2596273720264435,
          -0.1952095478773117,
          -0.20859575271606445,
          -0.23549069464206696,
          -0.2040622979402542,
          -0.23113591969013214,
          -0.29467952251434326,
          -0.30961355566978455,
          -0.3635134696960449,
          -0.4108564853668213
         ],
         "y": [
          0.19168901443481445,
          0.17784342169761658,
          0.11383163183927536,
          0.048972681164741516,
          0.002955951262265444,
          0.020369021221995354,
          0.08392370492219925,
          0.14576272666454315,
          0.13743016123771667,
          0.14299708604812622,
          0.07577991485595703,
          0.07723163813352585,
          0.03103642538189888,
          -0.037103645503520966,
          -0.08922620862722397,
          -0.16981756687164307,
          -0.19968628883361816,
          -0.2695968747138977,
          -0.3356565833091736,
          -0.3655443489551544,
          -0.41215047240257263,
          -0.48940134048461914,
          -0.5527621507644653,
          -0.513069748878479,
          -0.45653036236763,
          -0.3691910207271576,
          -0.2986518442630768,
          -0.3036558926105499,
          -0.33513426780700684,
          -0.3516119420528412,
          -0.3491452932357788,
          -0.3536005914211273,
          -0.4053707420825958,
          -0.3438405692577362,
          -0.25534161925315857,
          -0.1605498492717743,
          -0.09760908037424088,
          -0.09711191058158875,
          -0.10093432664871216,
          -0.16686198115348816,
          -0.22231478989124298,
          -0.2461048662662506,
          -0.25964006781578064,
          -0.3410291075706482,
          -0.40355730056762695,
          -0.4249676465988159,
          -0.496275931596756,
          -0.5093390345573425,
          -0.4548754096031189,
          -0.4062129259109497,
          -0.4153105914592743,
          -0.46503451466560364,
          -0.5043685436248779,
          -0.5523815155029297,
          -0.5359948873519897,
          -0.46932268142700195,
          -0.4127455949783325,
          -0.3268297612667084,
          -0.2617104649543762,
          -0.17875945568084717,
          -0.12883979082107544,
          -0.041631948202848434,
          0.025690004229545593,
          0.05242491513490677,
          0.024578075855970383,
          0.03009289875626564,
          -0.015888812020421028,
          0.008846122771501541,
          0.0837835967540741,
          0.11358384042978287,
          0.1183944121003151,
          0.09398678690195084,
          0.041646040976047516,
          -0.017940081655979156,
          -0.018910428509116173,
          -0.010914173908531666,
          0.023710360750555992,
          0.08176519721746445,
          0.09060442447662354,
          0.11161601543426514,
          0.17798878252506256,
          0.2688015401363373,
          0.34935644268989563,
          0.37702298164367676,
          0.4418562948703766,
          0.4726296663284302,
          0.41646188497543335,
          0.34279561042785645,
          0.3685038387775421,
          0.34201085567474365,
          0.27143606543540955,
          0.25053998827934265,
          0.1746625006198883,
          0.1304401159286499,
          0.11198494583368301,
          0.12997430562973022,
          0.22345413267612457,
          0.28053200244903564,
          0.24367111921310425,
          0.1990673542022705,
          0.23769953846931458,
          0.2610713839530945,
          0.29265904426574707,
          0.2828039824962616,
          0.24332955479621887,
          0.23819565773010254,
          0.23982208967208862,
          0.2046283781528473,
          0.15772299468517303,
          0.08740154653787613,
          0.09057274460792542,
          0.15512730181217194,
          0.22206750512123108,
          0.29730960726737976,
          0.3767125904560089,
          0.46901029348373413,
          0.5556067228317261,
          0.5917201638221741,
          0.5631625652313232,
          0.5102400779724121,
          0.46377110481262207,
          0.44843170046806335,
          0.4066081643104553,
          0.35230085253715515,
          0.3039388954639435,
          0.2236996442079544,
          0.16670410335063934,
          0.10180105268955231,
          0.007012738846242428,
          -0.06558385491371155,
          -0.1524801105260849,
          -0.24718734622001648,
          -0.31383687257766724,
          -0.3376167118549347,
          -0.41265368461608887,
          -0.4489835500717163,
          -0.4502987265586853,
          -0.4129818081855774,
          -0.36640822887420654,
          -0.2797297239303589,
          -0.19352737069129944,
          -0.10657953470945358,
          -0.026130078360438347,
          -0.007916344329714775,
          0.03119245171546936,
          0.046226102858781815,
          0.018266014754772186,
          -0.010814464651048183,
          0.04309159517288208,
          0.13302023708820343,
          0.13432294130325317,
          0.07061763852834702,
          0.03192177414894104,
          -0.04196920618414879,
          0.005630670115351677,
          0.07692421227693558,
          0.08470948040485382,
          0.06920666992664337,
          0.07057812809944153,
          0.11536835134029388,
          0.08394233882427216,
          0.02258063293993473,
          -0.06783013045787811,
          -0.11240260303020477,
          -0.06336569041013718,
          -0.012137558311223984,
          0.06458688527345657,
          0.14464308321475983,
          0.21618115901947021,
          0.2890602946281433,
          0.23177997767925262,
          0.15140609443187714,
          0.07697570323944092,
          0.03850044682621956,
          -0.05636913701891899,
          -0.1287575662136078,
          -0.19284862279891968,
          -0.20727597177028656,
          -0.11712976545095444,
          -0.027508631348609924,
          0.030790813267230988,
          0.12545736134052277,
          0.18226851522922516,
          0.24982790648937225,
          0.33323171734809875,
          0.4071089029312134,
          0.4815329313278198,
          0.49291151762008667,
          0.4250892996788025,
          0.3532954454421997,
          0.259931743144989,
          0.1742154061794281,
          0.12632441520690918,
          0.05542750284075737,
          -0.03351946175098419,
          -0.11432790756225586,
          -0.16092632710933685,
          -0.2481435090303421,
          -0.2774522602558136,
          -0.2387569099664688,
          -0.18637356162071228,
          -0.10313349217176437
         ],
         "z": [
          -0.17582425475120544,
          -0.27045732736587524,
          -0.33760035037994385,
          -0.3568403720855713,
          -0.4026362895965576,
          -0.48894578218460083,
          -0.5355245471000671,
          -0.5387386083602905,
          -0.4990062713623047,
          -0.4095708131790161,
          -0.34322014451026917,
          -0.247638538479805,
          -0.19276580214500427,
          -0.12621155381202698,
          -0.048641469329595566,
          -0.029590830206871033,
          0.004535940010100603,
          0.04142335429787636,
          -0.007313198409974575,
          -0.06962992250919342,
          -0.14805249869823456,
          -0.19646191596984863,
          -0.1694096028804779,
          -0.1528196632862091,
          -0.07571560889482498,
          -0.03633521497249603,
          -0.000233115439186804,
          0.09543175250291824,
          0.15352565050125122,
          0.09923876821994781,
          0.08313163369894028,
          0.12003817409276962,
          0.19389678537845612,
          0.22347790002822876,
          0.18712542951107025,
          0.17330187559127808,
          0.1256171613931656,
          0.029807906597852707,
          -0.06528672575950623,
          -0.12272732704877853,
          -0.08026992529630661,
          0.011074814945459366,
          0.10330545157194138,
          0.14494477212429047,
          0.07654746621847153,
          0.006776688154786825,
          -0.006006778217852116,
          -0.10082376003265381,
          -0.17912475764751434,
          -0.2174203097820282,
          -0.30619558691978455,
          -0.38256487250328064,
          -0.44837960600852966,
          -0.5311497449874878,
          -0.6227554678916931,
          -0.6536883115768433,
          -0.6867756843566895,
          -0.652061939239502,
          -0.6843956708908081,
          -0.7074701189994812,
          -0.709612250328064,
          -0.7206727862358093,
          -0.7511339783668518,
          -0.7432602643966675,
          -0.6833950877189636,
          -0.6970647573471069,
          -0.6450682282447815,
          -0.5823940634727478,
          -0.5232144594192505,
          -0.43331244587898254,
          -0.35007911920547485,
          -0.2576080858707428,
          -0.1774170994758606,
          -0.12866061925888062,
          -0.035622380673885345,
          0.059495195746421814,
          0.13863711059093475,
          0.21482433378696442,
          0.28056684136390686,
          0.31609266996383667,
          0.33085861802101135,
          0.3483124375343323,
          0.30981898307800293,
          0.22098399698734283,
          0.18641388416290283,
          0.11415398120880127,
          0.10408245027065277,
          0.16349223256111145,
          0.25000080466270447,
          0.33659034967422485,
          0.36975884437561035,
          0.3131561279296875,
          0.3244379758834839,
          0.3890293836593628,
          0.40547552704811096,
          0.477628618478775,
          0.48118025064468384,
          0.49976035952568054,
          0.5336591005325317,
          0.5820196866989136,
          0.630313515663147,
          0.5626002550125122,
          0.5480828881263733,
          0.4542580842971802,
          0.37378427386283875,
          0.297463983297348,
          0.3502214848995209,
          0.4297269582748413,
          0.43858179450035095,
          0.40761885046958923,
          0.3737829923629761,
          0.3029859662055969,
          0.2563973069190979,
          0.19962874054908752,
          0.15056927502155304,
          0.12895312905311584,
          0.11193108558654785,
          0.12656007707118988,
          0.17172440886497498,
          0.13470326364040375,
          0.09502843022346497,
          0.069295234978199,
          0.007135577499866486,
          -0.07098735868930817,
          -0.13396328687667847,
          -0.18610502779483795,
          -0.25951439142227173,
          -0.2795071005821228,
          -0.28399866819381714,
          -0.23633931577205658,
          -0.19671423733234406,
          -0.21114285290241241,
          -0.14656472206115723,
          -0.05383333936333656,
          0.002944953739643097,
          0.07521320879459381,
          0.17018663883209229,
          0.23043318092823029,
          0.31413406133651733,
          0.33580201864242554,
          0.3260132372379303,
          0.32112208008766174,
          0.316581666469574,
          0.2542979121208191,
          0.240452378988266,
          0.15646454691886902,
          0.06756190210580826,
          -0.004304792732000351,
          -0.07524276524782181,
          -0.10744020342826843,
          -0.18469460308551788,
          -0.24238842725753784,
          -0.22566328942775726,
          -0.23115582764148712,
          -0.2119259089231491,
          -0.16994807124137878,
          -0.07694113254547119,
          -0.02717619389295578,
          0.004854514729231596,
          -0.019780410453677177,
          0.03219367936253548,
          0.10531842708587646,
          0.13505858182907104,
          0.07739334553480148,
          0.0385274812579155,
          -0.03897909075021744,
          -0.056994471698999405,
          -0.10468623042106628,
          -0.16737577319145203,
          -0.17218373715877533,
          -0.18036584556102753,
          -0.1300843507051468,
          -0.08512987941503525,
          -0.04064672067761421,
          -0.028104539960622787,
          0.02002480998635292,
          0.08784536272287369,
          0.17744533717632294,
          0.19161638617515564,
          0.1812146008014679,
          0.25302040576934814,
          0.26541468501091003,
          0.24684065580368042,
          0.17894570529460907,
          0.16236214339733124,
          0.11826586723327637,
          0.13637137413024902,
          0.13215093314647675,
          0.1455102562904358,
          0.173946350812912,
          0.1775825321674347,
          0.1422065943479538,
          0.08306614309549332,
          0.0849815234541893,
          0.051982391625642776,
          0.09587262570858002,
          0.17346476018428802,
          0.20244543254375458,
          0.2678893208503723,
          0.354256808757782,
          0.41367465257644653,
          0.41674453020095825
         ]
        },
        {
         "line": {
          "color": "darkblue",
          "width": 2
         },
         "marker": {
          "color": [
           0,
           1,
           2,
           3,
           4,
           5,
           6,
           7,
           8,
           9,
           10,
           11,
           12,
           13,
           14,
           15,
           16,
           17,
           18,
           19,
           20,
           21,
           22,
           23,
           24,
           25,
           26,
           27,
           28,
           29,
           30,
           31,
           32,
           33,
           34,
           35,
           36,
           37,
           38,
           39,
           40,
           41,
           42,
           43,
           44,
           45,
           46,
           47,
           48,
           49,
           50,
           51,
           52,
           53,
           54,
           55,
           56,
           57,
           58,
           59,
           60,
           61,
           62,
           63,
           64,
           65,
           66,
           67,
           68,
           69,
           70,
           71,
           72,
           73,
           74,
           75,
           76,
           77,
           78,
           79,
           80,
           81,
           82,
           83,
           84,
           85,
           86,
           87,
           88,
           89,
           90,
           91,
           92,
           93,
           94,
           95,
           96,
           97,
           98,
           99,
           100,
           101,
           102,
           103,
           104,
           105,
           106,
           107,
           108,
           109,
           110,
           111,
           112,
           113,
           114,
           115,
           116,
           117,
           118,
           119,
           120,
           121,
           122,
           123,
           124,
           125,
           126,
           127,
           128,
           129,
           130,
           131,
           132,
           133,
           134,
           135,
           136,
           137,
           138,
           139,
           140,
           141,
           142,
           143,
           144,
           145,
           146,
           147,
           148,
           149,
           150,
           151,
           152,
           153,
           154,
           155,
           156,
           157,
           158,
           159,
           160,
           161,
           162,
           163,
           164,
           165,
           166,
           167,
           168,
           169,
           170,
           171,
           172,
           173,
           174,
           175,
           176,
           177,
           178,
           179,
           180,
           181,
           182,
           183,
           184,
           185,
           186,
           187,
           188,
           189,
           190,
           191,
           192,
           193,
           194,
           195,
           196,
           197,
           198,
           199,
           200,
           201
          ],
          "colorscale": [
           [
            0,
            "#440154"
           ],
           [
            0.1111111111111111,
            "#482878"
           ],
           [
            0.2222222222222222,
            "#3e4989"
           ],
           [
            0.3333333333333333,
            "#31688e"
           ],
           [
            0.4444444444444444,
            "#26828e"
           ],
           [
            0.5555555555555556,
            "#1f9e89"
           ],
           [
            0.6666666666666666,
            "#35b779"
           ],
           [
            0.7777777777777778,
            "#6ece58"
           ],
           [
            0.8888888888888888,
            "#b5de2b"
           ],
           [
            1,
            "#fde725"
           ]
          ],
          "size": 4
         },
         "scene": "scene2",
         "type": "scatter3d",
         "x": [
          -0.19130156887392785,
          -0.06927596897801357,
          -0.07371015941520775,
          -0.03149301173880734,
          -0.00925132273629003,
          0.011081793853382272,
          0.07137889321487507,
          0.10871698848577745,
          0.1656053766907585,
          0.09210992309939697,
          -0.001762717338130063,
          0.0026878943705557173,
          -0.00340328661889326,
          0.07586490650205786,
          0.07306582469385561,
          0.17150863576774603,
          0.2591820358254115,
          0.4012395890052917,
          0.4733076456937942,
          0.4607159365047658,
          0.5232473297211839,
          0.5363562052930277,
          0.4999440468508017,
          0.43908953795752703,
          0.36397800586666906,
          0.2906614043399406,
          0.1544843432954331,
          0.15442029837777957,
          0.2353437109346533,
          0.3300639617153722,
          0.4685166636005329,
          0.6589539885757459,
          0.6228671152910673,
          0.7009719325729064,
          0.7244582593921665,
          0.680080437180717,
          0.5834970078374067,
          0.5735186847425737,
          0.4994674660132292,
          0.5848191948601262,
          0.7157740445757571,
          0.6999531100150801,
          0.7037599106350632,
          0.7161626260967049,
          0.708918660481486,
          0.6396091339503701,
          0.5285947460346241,
          0.5524310279332629,
          0.5694530072996098,
          0.6257471122613261,
          0.6046560278334168,
          0.5458356416146115,
          0.5534814687332295,
          0.5041414700064442,
          0.5571911158432534,
          0.5273328877921258,
          0.5361499379061653,
          0.5639345159213289,
          0.45799182306706165,
          0.40282700004861,
          0.37372106603465016,
          0.3129368340451463,
          0.22538591641900801,
          0.2460032816496673,
          0.22170610130418847,
          0.1915447552757476,
          0.14637190125568872,
          0.045873317396238754,
          -0.06678155348503466,
          -0.1762053494745007,
          -0.07322824422941307,
          0.016692243241129882,
          -0.026334595860653932,
          -0.08559716424522311,
          -0.2282341524605257,
          -0.28801389198311433,
          -0.3379995779543425,
          -0.3335067839638414,
          -0.3121767980246342,
          -0.29540214537256615,
          -0.2581196248757399,
          -0.2549655592306479,
          -0.2511789068208427,
          -0.3196760427537686,
          -0.33835511370350896,
          -0.17598306599848096,
          -0.286242676293527,
          -0.3508041507592117,
          -0.34857187091780584,
          -0.4039519759863936,
          -0.34015309922951337,
          -0.29370618781352104,
          -0.24014668226623842,
          -0.19898691605042554,
          -0.021052752166798274,
          0.047441702961175884,
          0.0005407810482406593,
          -0.02664236113900067,
          -0.15348269466838696,
          -0.09519835358942529,
          -0.042288208999898776,
          -0.12673769944465182,
          -0.15556257025348982,
          -0.27041595070998636,
          -0.3651636827861957,
          -0.3663897126673647,
          -0.33642251834836534,
          -0.28446571130806464,
          -0.21318006286510868,
          -0.10613005579095038,
          -0.04140892896052112,
          -0.06882327832643906,
          -0.03701995560834363,
          -0.08010889810629919,
          -0.02371756759747256,
          0.012655010838971564,
          0.09341682050256113,
          -0.012728548281491664,
          -0.1411777392669088,
          -0.18601373008936278,
          -0.26945247252545146,
          -0.20090107118660705,
          -0.22633368289542702,
          -0.19892896034969126,
          -0.24105685900911866,
          -0.18588696095538396,
          -0.0704815662429496,
          -0.008470925589876712,
          0.04093882431437533,
          0.036343166572581326,
          -0.007992028199383059,
          -0.050910845463824995,
          -0.051122026185604685,
          -0.17115826014887367,
          -0.09118246970738499,
          -0.013445613145280928,
          -0.031749655517481684,
          -0.042741971451273474,
          -0.06404634775936577,
          -0.19851772836482878,
          -0.28025498906555224,
          -0.22438376475317057,
          -0.23243025874866932,
          -0.22625467788260223,
          -0.1636835098069332,
          -0.13558610880325514,
          -0.17282491545533962,
          -0.2031947810358107,
          -0.1922149952300659,
          -0.2186248917870239,
          -0.1529318587714875,
          -0.13935676090901997,
          -0.13515024503706433,
          0.02397846953390829,
          0.03176854329287673,
          -0.07394790403878859,
          -0.24909184211929508,
          -0.29018963185815877,
          -0.2861899460269008,
          -0.2572650858420779,
          -0.195261234703497,
          -0.1844818799358389,
          -0.14630057080636638,
          -0.19082082541583797,
          -0.2342955669766066,
          -0.23253795951622128,
          -0.27457129604545827,
          -0.25466830131686674,
          -0.2921606938431162,
          -0.2816010706653664,
          -0.22733991662905026,
          -0.18708778738237652,
          -0.1528770558396681,
          -0.2102812059386119,
          -0.18929707299327958,
          -0.18338851841225595,
          -0.1816377164230012,
          -0.13731382289180571,
          -0.1989920629284888,
          -0.22380892602657632,
          -0.2550191493657016,
          -0.2224900684748028,
          -0.1611287597430105,
          -0.1880175315606706,
          -0.17224015575419552,
          -0.2282461203128638,
          -0.21556140600864185,
          -0.19730012923096188,
          -0.27900262102141765,
          -0.3586071941890415,
          -0.34984647764726423,
          -0.31548406346029495,
          -0.2847020475995255,
          -0.320995333707303,
          -0.2867425845751826,
          -0.2739100107018071,
          -0.25387110906855576,
          -0.2862393185722424,
          -0.3135067704578673,
          -0.3597577026691265,
          -0.31584965731279213,
          -0.37862083026781806
         ],
         "y": [
          0.13805460119741372,
          0.15598148937210154,
          0.09221835455288967,
          0.10199200287333403,
          -0.013204482298600197,
          -0.032675237681755696,
          -0.008720646525490873,
          -0.009940401865765473,
          -0.13918445163178983,
          -0.19820612570759877,
          -0.21769420088715008,
          -0.23471366452716214,
          -0.20319438660740557,
          -0.20505098695943597,
          -0.208851851532804,
          -0.34050995653887267,
          -0.3721226342055466,
          -0.3497801297012417,
          -0.42161179994341197,
          -0.40817055925974327,
          -0.4269805572766468,
          -0.4429938532046729,
          -0.5261141566168651,
          -0.5210476430616746,
          -0.5370449967558191,
          -0.47373530205334247,
          -0.4731768027021128,
          -0.42748526199737136,
          -0.4434403340497653,
          -0.4486008082791279,
          -0.3893522752944423,
          -0.3787908699644604,
          -0.43722766540960634,
          -0.3971761294159126,
          -0.3283012760409143,
          -0.27129554052933164,
          -0.2130675424103852,
          -0.26056131469338234,
          -0.2925403674112316,
          -0.32665747231851333,
          -0.31749662682852203,
          -0.34850785276823737,
          -0.3642667982508812,
          -0.36003886138102276,
          -0.4214997399040662,
          -0.4438979370394003,
          -0.47787651030449935,
          -0.4850408121727398,
          -0.4760663621817906,
          -0.44234102453612845,
          -0.4005349324679428,
          -0.4371209099288362,
          -0.4242768761001075,
          -0.36139524056454964,
          -0.23106503008429682,
          -0.23637854106642095,
          -0.24085239195151378,
          -0.14195036163324143,
          -0.135298682560992,
          -0.13213974884458596,
          -0.06297052939128073,
          -0.09454988662343004,
          -0.11854044868062061,
          0.04733031912164219,
          0.16595327997972548,
          0.17145064398035315,
          0.2156756055362771,
          0.23106206814293545,
          0.14755126688630948,
          0.1412815295834022,
          0.057342640220498356,
          0.08782836711017843,
          0.036842152884055894,
          0.08525492962002007,
          0.06051303394321934,
          0.11339993638790656,
          0.22648965704026813,
          0.31159964699633297,
          0.2995326950693132,
          0.2740368798360507,
          0.28509954468824533,
          0.36651863090804315,
          0.3520401262846405,
          0.3299383876077582,
          0.4158431202953449,
          0.3923322224197914,
          0.3569810897054939,
          0.31567029611868413,
          0.41450123036960274,
          0.43556154566684185,
          0.4092312713465309,
          0.33153984943358805,
          0.24692960346509527,
          0.2681032955082291,
          0.2624875329776021,
          0.34466616967296343,
          0.39193122488819526,
          0.519100625795966,
          0.5244899083297005,
          0.5873416886671258,
          0.7341688898135964,
          0.6694814162101014,
          0.6660317201977212,
          0.5448070522141342,
          0.4710250207233112,
          0.3722853999137964,
          0.375516670964683,
          0.4604409967077525,
          0.4023487979152176,
          0.2806453004526385,
          0.24321480021724498,
          0.1976790288822512,
          0.21981652198697021,
          0.2483794525343899,
          0.29367710767415467,
          0.3147400888450427,
          0.34678023252779333,
          0.4749369848437005,
          0.5181293695037676,
          0.4493383223511349,
          0.3587733351979387,
          0.3549310064478112,
          0.353706614660767,
          0.22292333434375433,
          0.24004699333067564,
          0.16971968303404297,
          0.1545506200420828,
          0.0941774004553764,
          0.0857787709863991,
          0.12278254898748724,
          -0.004884194411201685,
          -0.18882571240825663,
          -0.1920483265580708,
          -0.23790901243781162,
          -0.4350750091396126,
          -0.5214214974919892,
          -0.4769085460250747,
          -0.40273523537762346,
          -0.3130205654679007,
          -0.07292755662262504,
          0.08685342185811577,
          0.038328764233139766,
          0.13087320770525857,
          -0.008432340816660803,
          0.0020205382674269605,
          -0.053322108273985744,
          -0.1365379052171997,
          -0.1931490226466429,
          -0.19635584763032674,
          -0.16961501907467996,
          -0.18754058755063469,
          -0.144519193002568,
          -0.054247092515054704,
          0.013896694971172534,
          0.07883820435049456,
          0.12320104840128378,
          0.06507469908974964,
          -0.06947556675711651,
          -0.10774936744761124,
          -0.14774376457468583,
          -0.13641047464073147,
          -0.12334312999102537,
          -0.15516937442696882,
          -0.16781559291325915,
          -0.1468132760835061,
          -0.14096390464306996,
          -0.07201764190325165,
          -0.06609204422957476,
          0.02873263994374421,
          0.034375314254029975,
          -0.14567577526770606,
          -0.16614839119725028,
          -0.22809240405031517,
          -0.17875330330271477,
          -0.2001556935554331,
          -0.17877146414415457,
          -0.1470798895963128,
          -0.1638432258479518,
          -0.11304988294636206,
          -0.06797152016495034,
          0.06071437604303768,
          0.15303371898832663,
          0.15346094971324484,
          0.17371737463213985,
          0.2309652165586774,
          0.27831547581622196,
          0.3733867414112866,
          0.42940094365377673,
          0.404141786323431,
          0.3763704272782871,
          0.30184821980855503,
          0.2474283099087889,
          0.10520666553638862,
          -0.0013496230794753632,
          -0.022275895651466752,
          0.01676582105625424,
          -0.03158733691811723,
          -0.07704624011950581,
          -0.10950111257943448,
          0.018751836744350346,
          0.23661728562683193,
          0.37284554443785994
         ],
         "z": [
          0.004062286005665011,
          -0.12071759687188538,
          -0.2532742623742086,
          -0.23176498012674845,
          -0.3136094380366118,
          -0.40764655278154405,
          -0.5396089177648624,
          -0.5129987669101369,
          -0.4374748144033364,
          -0.30029348159323543,
          -0.28524478056943287,
          -0.20657950802022837,
          -0.12480595081780567,
          -0.028268523804035356,
          0.017905360640172664,
          0.014819268049124002,
          0.018419617147560467,
          -0.04824413553152798,
          -0.05063749348436924,
          -0.07979910107038288,
          -0.21709384897467726,
          -0.33346917664700454,
          -0.31072393085537336,
          -0.24944133313612388,
          -0.10367957295403685,
          -0.06811105958238482,
          0.018770757019973484,
          0.03548585459131208,
          0.05027043199051006,
          0.025085378065164442,
          -0.08537390906508996,
          -0.09228041403316341,
          -0.08218560328889983,
          -0.07359808868150214,
          -0.10082794746201511,
          -0.05738489177249508,
          -0.029807350620042382,
          -0.07633129645494789,
          -0.07991431757958979,
          -0.1755360354994774,
          -0.1926328181513876,
          -0.07518076564205138,
          -0.09808289087042031,
          -0.08352243359750307,
          -0.10187167556676151,
          -0.14269744649847446,
          -0.10804719137703887,
          -0.2164841765178891,
          -0.28850769932903725,
          -0.33770131297868333,
          -0.4413008694698985,
          -0.6290383570020965,
          -0.65353263606299,
          -0.6840439644562656,
          -0.7525266368131962,
          -0.7616541857405218,
          -0.7323601853266337,
          -0.7092071993126533,
          -0.7404942330023863,
          -0.7598683660689048,
          -0.776180364353189,
          -0.9450560382456691,
          -0.8990562021958477,
          -0.869319469997498,
          -0.7452719592957192,
          -0.7393704367807746,
          -0.62988423147225,
          -0.5598740112340105,
          -0.47648062136678343,
          -0.3878686429859124,
          -0.25684014004568056,
          -0.05529548983171228,
          0.0007869741957888218,
          0.048862211312759224,
          0.010545591849342095,
          0.035985937235702245,
          0.015649369411505368,
          0.03162683991959125,
          0.08897165844078145,
          0.10162523819336235,
          0.1331802840867519,
          0.17413548857675235,
          0.21481367850725053,
          0.2368375135653827,
          0.3161660959871542,
          0.3989486873403402,
          0.37133873682839247,
          0.27279507683533805,
          0.28605171186228484,
          0.23104499890048338,
          0.1644090953828022,
          0.11818895647053208,
          0.15080333808626753,
          0.15669850820695314,
          0.21993735180773244,
          0.26439994591809357,
          0.2944471180432049,
          0.31285374151668754,
          0.2643928357626837,
          0.3160864941550632,
          0.24823880616317942,
          0.26237793818246047,
          0.2521613663634904,
          0.16558140848275663,
          0.1721588527857936,
          0.1246267315409867,
          0.12499700256441662,
          0.14549690117434202,
          0.18004295982420132,
          0.1632613677407695,
          0.21300296961745285,
          0.2289060404967481,
          0.2665784425416893,
          0.2887597773974,
          0.32705667159563784,
          0.385927667620191,
          0.37650794812947397,
          0.38961265146308377,
          0.3676631623879934,
          0.35952018163308236,
          0.3405446948172345,
          0.428003102829549,
          0.39385956492297763,
          0.37460778549621415,
          0.24650879252862523,
          0.01680302055457064,
          -0.1374444332392079,
          -0.18010284911457383,
          -0.17107264400462946,
          -0.1005612131868137,
          -0.03335989374059177,
          -0.057920193082107115,
          0.0822474788213496,
          0.18335721021840143,
          0.21699279414472705,
          0.2623663815502255,
          0.3736213650822664,
          0.29121298814643487,
          0.2975686433782222,
          0.31888683050604,
          0.293883858715002,
          0.2863641495596479,
          0.14556904473456864,
          0.18958526804285605,
          0.2061486772160924,
          0.20403839126203135,
          0.18384065232725147,
          0.12209366707987009,
          0.07054732177048552,
          0.04498944174452845,
          -0.10479359879412205,
          -0.14513356711511086,
          -0.10613017915333836,
          -0.06712949499157139,
          -0.06904762107917656,
          -0.0652783195839216,
          -0.04343763344469117,
          0.04731261468822634,
          0.11145347409832555,
          0.13518487676258528,
          0.14859326322266156,
          0.18416996870452002,
          0.19086708307545538,
          0.1605870308920334,
          0.13819828398240416,
          0.08107216639476979,
          0.06530717590558155,
          0.041689941877437756,
          0.02705177360760979,
          0.03734854806873935,
          -0.12215084858774149,
          -0.0607467703548408,
          0.034701249603757305,
          0.08567934646149611,
          0.11703640975221893,
          0.127582534930175,
          0.1436939171632331,
          0.2197720836747945,
          0.22159294439299568,
          0.1994958533093436,
          0.14782883196194874,
          0.11940682467902768,
          0.20038794999423593,
          0.22974732783821566,
          0.273959831527826,
          0.3252407723799039,
          0.37690759371951305,
          0.4051541118887922,
          0.3501023154712812,
          0.2995131685502509,
          0.1618756194148797,
          0.07765455459830188,
          0.04384660068227668,
          0.036392229011022334,
          0.07781284061708323,
          0.134427532177269,
          0.2322039745517788,
          0.3522673348597076,
          0.38381615993154417,
          0.29255776378157206,
          0.20312590229805744,
          0.11514665593748015
         ]
        }
       ],
       "layout": {
        "height": 1000,
        "scene": {
         "domain": {
          "x": [
           0,
           0.45
          ],
          "y": [
           0,
           1
          ]
         }
        },
        "scene2": {
         "domain": {
          "x": [
           0.55,
           1
          ],
          "y": [
           0,
           1
          ]
         }
        },
        "template": {
         "data": {
          "bar": [
           {
            "error_x": {
             "color": "#2a3f5f"
            },
            "error_y": {
             "color": "#2a3f5f"
            },
            "marker": {
             "line": {
              "color": "#E5ECF6",
              "width": 0.5
             }
            },
            "type": "bar"
           }
          ],
          "barpolar": [
           {
            "marker": {
             "line": {
              "color": "#E5ECF6",
              "width": 0.5
             }
            },
            "type": "barpolar"
           }
          ],
          "carpet": [
           {
            "aaxis": {
             "endlinecolor": "#2a3f5f",
             "gridcolor": "white",
             "linecolor": "white",
             "minorgridcolor": "white",
             "startlinecolor": "#2a3f5f"
            },
            "baxis": {
             "endlinecolor": "#2a3f5f",
             "gridcolor": "white",
             "linecolor": "white",
             "minorgridcolor": "white",
             "startlinecolor": "#2a3f5f"
            },
            "type": "carpet"
           }
          ],
          "choropleth": [
           {
            "colorbar": {
             "outlinewidth": 0,
             "ticks": ""
            },
            "type": "choropleth"
           }
          ],
          "contour": [
           {
            "colorbar": {
             "outlinewidth": 0,
             "ticks": ""
            },
            "colorscale": [
             [
              0,
              "#0d0887"
             ],
             [
              0.1111111111111111,
              "#46039f"
             ],
             [
              0.2222222222222222,
              "#7201a8"
             ],
             [
              0.3333333333333333,
              "#9c179e"
             ],
             [
              0.4444444444444444,
              "#bd3786"
             ],
             [
              0.5555555555555556,
              "#d8576b"
             ],
             [
              0.6666666666666666,
              "#ed7953"
             ],
             [
              0.7777777777777778,
              "#fb9f3a"
             ],
             [
              0.8888888888888888,
              "#fdca26"
             ],
             [
              1,
              "#f0f921"
             ]
            ],
            "type": "contour"
           }
          ],
          "contourcarpet": [
           {
            "colorbar": {
             "outlinewidth": 0,
             "ticks": ""
            },
            "type": "contourcarpet"
           }
          ],
          "heatmap": [
           {
            "colorbar": {
             "outlinewidth": 0,
             "ticks": ""
            },
            "colorscale": [
             [
              0,
              "#0d0887"
             ],
             [
              0.1111111111111111,
              "#46039f"
             ],
             [
              0.2222222222222222,
              "#7201a8"
             ],
             [
              0.3333333333333333,
              "#9c179e"
             ],
             [
              0.4444444444444444,
              "#bd3786"
             ],
             [
              0.5555555555555556,
              "#d8576b"
             ],
             [
              0.6666666666666666,
              "#ed7953"
             ],
             [
              0.7777777777777778,
              "#fb9f3a"
             ],
             [
              0.8888888888888888,
              "#fdca26"
             ],
             [
              1,
              "#f0f921"
             ]
            ],
            "type": "heatmap"
           }
          ],
          "heatmapgl": [
           {
            "colorbar": {
             "outlinewidth": 0,
             "ticks": ""
            },
            "colorscale": [
             [
              0,
              "#0d0887"
             ],
             [
              0.1111111111111111,
              "#46039f"
             ],
             [
              0.2222222222222222,
              "#7201a8"
             ],
             [
              0.3333333333333333,
              "#9c179e"
             ],
             [
              0.4444444444444444,
              "#bd3786"
             ],
             [
              0.5555555555555556,
              "#d8576b"
             ],
             [
              0.6666666666666666,
              "#ed7953"
             ],
             [
              0.7777777777777778,
              "#fb9f3a"
             ],
             [
              0.8888888888888888,
              "#fdca26"
             ],
             [
              1,
              "#f0f921"
             ]
            ],
            "type": "heatmapgl"
           }
          ],
          "histogram": [
           {
            "marker": {
             "colorbar": {
              "outlinewidth": 0,
              "ticks": ""
             }
            },
            "type": "histogram"
           }
          ],
          "histogram2d": [
           {
            "colorbar": {
             "outlinewidth": 0,
             "ticks": ""
            },
            "colorscale": [
             [
              0,
              "#0d0887"
             ],
             [
              0.1111111111111111,
              "#46039f"
             ],
             [
              0.2222222222222222,
              "#7201a8"
             ],
             [
              0.3333333333333333,
              "#9c179e"
             ],
             [
              0.4444444444444444,
              "#bd3786"
             ],
             [
              0.5555555555555556,
              "#d8576b"
             ],
             [
              0.6666666666666666,
              "#ed7953"
             ],
             [
              0.7777777777777778,
              "#fb9f3a"
             ],
             [
              0.8888888888888888,
              "#fdca26"
             ],
             [
              1,
              "#f0f921"
             ]
            ],
            "type": "histogram2d"
           }
          ],
          "histogram2dcontour": [
           {
            "colorbar": {
             "outlinewidth": 0,
             "ticks": ""
            },
            "colorscale": [
             [
              0,
              "#0d0887"
             ],
             [
              0.1111111111111111,
              "#46039f"
             ],
             [
              0.2222222222222222,
              "#7201a8"
             ],
             [
              0.3333333333333333,
              "#9c179e"
             ],
             [
              0.4444444444444444,
              "#bd3786"
             ],
             [
              0.5555555555555556,
              "#d8576b"
             ],
             [
              0.6666666666666666,
              "#ed7953"
             ],
             [
              0.7777777777777778,
              "#fb9f3a"
             ],
             [
              0.8888888888888888,
              "#fdca26"
             ],
             [
              1,
              "#f0f921"
             ]
            ],
            "type": "histogram2dcontour"
           }
          ],
          "mesh3d": [
           {
            "colorbar": {
             "outlinewidth": 0,
             "ticks": ""
            },
            "type": "mesh3d"
           }
          ],
          "parcoords": [
           {
            "line": {
             "colorbar": {
              "outlinewidth": 0,
              "ticks": ""
             }
            },
            "type": "parcoords"
           }
          ],
          "pie": [
           {
            "automargin": true,
            "type": "pie"
           }
          ],
          "scatter": [
           {
            "marker": {
             "colorbar": {
              "outlinewidth": 0,
              "ticks": ""
             }
            },
            "type": "scatter"
           }
          ],
          "scatter3d": [
           {
            "line": {
             "colorbar": {
              "outlinewidth": 0,
              "ticks": ""
             }
            },
            "marker": {
             "colorbar": {
              "outlinewidth": 0,
              "ticks": ""
             }
            },
            "type": "scatter3d"
           }
          ],
          "scattercarpet": [
           {
            "marker": {
             "colorbar": {
              "outlinewidth": 0,
              "ticks": ""
             }
            },
            "type": "scattercarpet"
           }
          ],
          "scattergeo": [
           {
            "marker": {
             "colorbar": {
              "outlinewidth": 0,
              "ticks": ""
             }
            },
            "type": "scattergeo"
           }
          ],
          "scattergl": [
           {
            "marker": {
             "colorbar": {
              "outlinewidth": 0,
              "ticks": ""
             }
            },
            "type": "scattergl"
           }
          ],
          "scattermapbox": [
           {
            "marker": {
             "colorbar": {
              "outlinewidth": 0,
              "ticks": ""
             }
            },
            "type": "scattermapbox"
           }
          ],
          "scatterpolar": [
           {
            "marker": {
             "colorbar": {
              "outlinewidth": 0,
              "ticks": ""
             }
            },
            "type": "scatterpolar"
           }
          ],
          "scatterpolargl": [
           {
            "marker": {
             "colorbar": {
              "outlinewidth": 0,
              "ticks": ""
             }
            },
            "type": "scatterpolargl"
           }
          ],
          "scatterternary": [
           {
            "marker": {
             "colorbar": {
              "outlinewidth": 0,
              "ticks": ""
             }
            },
            "type": "scatterternary"
           }
          ],
          "surface": [
           {
            "colorbar": {
             "outlinewidth": 0,
             "ticks": ""
            },
            "colorscale": [
             [
              0,
              "#0d0887"
             ],
             [
              0.1111111111111111,
              "#46039f"
             ],
             [
              0.2222222222222222,
              "#7201a8"
             ],
             [
              0.3333333333333333,
              "#9c179e"
             ],
             [
              0.4444444444444444,
              "#bd3786"
             ],
             [
              0.5555555555555556,
              "#d8576b"
             ],
             [
              0.6666666666666666,
              "#ed7953"
             ],
             [
              0.7777777777777778,
              "#fb9f3a"
             ],
             [
              0.8888888888888888,
              "#fdca26"
             ],
             [
              1,
              "#f0f921"
             ]
            ],
            "type": "surface"
           }
          ],
          "table": [
           {
            "cells": {
             "fill": {
              "color": "#EBF0F8"
             },
             "line": {
              "color": "white"
             }
            },
            "header": {
             "fill": {
              "color": "#C8D4E3"
             },
             "line": {
              "color": "white"
             }
            },
            "type": "table"
           }
          ]
         },
         "layout": {
          "annotationdefaults": {
           "arrowcolor": "#2a3f5f",
           "arrowhead": 0,
           "arrowwidth": 1
          },
          "autotypenumbers": "strict",
          "coloraxis": {
           "colorbar": {
            "outlinewidth": 0,
            "ticks": ""
           }
          },
          "colorscale": {
           "diverging": [
            [
             0,
             "#8e0152"
            ],
            [
             0.1,
             "#c51b7d"
            ],
            [
             0.2,
             "#de77ae"
            ],
            [
             0.3,
             "#f1b6da"
            ],
            [
             0.4,
             "#fde0ef"
            ],
            [
             0.5,
             "#f7f7f7"
            ],
            [
             0.6,
             "#e6f5d0"
            ],
            [
             0.7,
             "#b8e186"
            ],
            [
             0.8,
             "#7fbc41"
            ],
            [
             0.9,
             "#4d9221"
            ],
            [
             1,
             "#276419"
            ]
           ],
           "sequential": [
            [
             0,
             "#0d0887"
            ],
            [
             0.1111111111111111,
             "#46039f"
            ],
            [
             0.2222222222222222,
             "#7201a8"
            ],
            [
             0.3333333333333333,
             "#9c179e"
            ],
            [
             0.4444444444444444,
             "#bd3786"
            ],
            [
             0.5555555555555556,
             "#d8576b"
            ],
            [
             0.6666666666666666,
             "#ed7953"
            ],
            [
             0.7777777777777778,
             "#fb9f3a"
            ],
            [
             0.8888888888888888,
             "#fdca26"
            ],
            [
             1,
             "#f0f921"
            ]
           ],
           "sequentialminus": [
            [
             0,
             "#0d0887"
            ],
            [
             0.1111111111111111,
             "#46039f"
            ],
            [
             0.2222222222222222,
             "#7201a8"
            ],
            [
             0.3333333333333333,
             "#9c179e"
            ],
            [
             0.4444444444444444,
             "#bd3786"
            ],
            [
             0.5555555555555556,
             "#d8576b"
            ],
            [
             0.6666666666666666,
             "#ed7953"
            ],
            [
             0.7777777777777778,
             "#fb9f3a"
            ],
            [
             0.8888888888888888,
             "#fdca26"
            ],
            [
             1,
             "#f0f921"
            ]
           ]
          },
          "colorway": [
           "#636efa",
           "#EF553B",
           "#00cc96",
           "#ab63fa",
           "#FFA15A",
           "#19d3f3",
           "#FF6692",
           "#B6E880",
           "#FF97FF",
           "#FECB52"
          ],
          "font": {
           "color": "#2a3f5f"
          },
          "geo": {
           "bgcolor": "white",
           "lakecolor": "white",
           "landcolor": "#E5ECF6",
           "showlakes": true,
           "showland": true,
           "subunitcolor": "white"
          },
          "hoverlabel": {
           "align": "left"
          },
          "hovermode": "closest",
          "mapbox": {
           "style": "light"
          },
          "paper_bgcolor": "white",
          "plot_bgcolor": "#E5ECF6",
          "polar": {
           "angularaxis": {
            "gridcolor": "white",
            "linecolor": "white",
            "ticks": ""
           },
           "bgcolor": "#E5ECF6",
           "radialaxis": {
            "gridcolor": "white",
            "linecolor": "white",
            "ticks": ""
           }
          },
          "scene": {
           "xaxis": {
            "backgroundcolor": "#E5ECF6",
            "gridcolor": "white",
            "gridwidth": 2,
            "linecolor": "white",
            "showbackground": true,
            "ticks": "",
            "zerolinecolor": "white"
           },
           "yaxis": {
            "backgroundcolor": "#E5ECF6",
            "gridcolor": "white",
            "gridwidth": 2,
            "linecolor": "white",
            "showbackground": true,
            "ticks": "",
            "zerolinecolor": "white"
           },
           "zaxis": {
            "backgroundcolor": "#E5ECF6",
            "gridcolor": "white",
            "gridwidth": 2,
            "linecolor": "white",
            "showbackground": true,
            "ticks": "",
            "zerolinecolor": "white"
           }
          },
          "shapedefaults": {
           "line": {
            "color": "#2a3f5f"
           }
          },
          "ternary": {
           "aaxis": {
            "gridcolor": "white",
            "linecolor": "white",
            "ticks": ""
           },
           "baxis": {
            "gridcolor": "white",
            "linecolor": "white",
            "ticks": ""
           },
           "bgcolor": "#E5ECF6",
           "caxis": {
            "gridcolor": "white",
            "linecolor": "white",
            "ticks": ""
           }
          },
          "title": {
           "x": 0.05
          },
          "xaxis": {
           "automargin": true,
           "gridcolor": "white",
           "linecolor": "white",
           "ticks": "",
           "title": {
            "standoff": 15
           },
           "zerolinecolor": "white",
           "zerolinewidth": 2
          },
          "yaxis": {
           "automargin": true,
           "gridcolor": "white",
           "linecolor": "white",
           "ticks": "",
           "title": {
            "standoff": 15
           },
           "zerolinecolor": "white",
           "zerolinewidth": 2
          }
         }
        },
        "width": 1300
       }
      }
     },
     "metadata": {},
     "output_type": "display_data"
    },
    {
     "name": "stdout",
     "output_type": "stream",
     "text": [
      "Kabsch distance is 0.07142510200677717\n"
     ]
    },
    {
     "data": {
      "text/plain": [
       "<Figure size 50000x50000 with 0 Axes>"
      ]
     },
     "metadata": {},
     "output_type": "display_data"
    }
   ],
   "source": [
    "test_true_structure = test_true_structures[GRAPH_TESTED]\n",
    "test_pred_structure = test_pred_structures[GRAPH_TESTED]\n",
    "\n",
    "test_pred_structure_superposed, test_true_structure_superposed = \\\n",
    "        kabsch_superimposition_numpy(test_pred_structure, test_true_structure, EMBEDDING_SIZE)\n",
    "\n",
    "x_pred = test_pred_structure_superposed[:, 0]  \n",
    "y_pred = test_pred_structure_superposed[:, 1]\n",
    "z_pred = test_pred_structure_superposed[:, 2]\n",
    "\n",
    "x_true = test_true_structure_superposed[:, 0]  \n",
    "y_true = test_true_structure_superposed[:, 1]\n",
    "z_true = test_true_structure_superposed[:, 2]\n",
    "\n",
    "colorscale1 = np.asarray(range(len(x_true)))\n",
    "colorscale2 = np.asarray(range(len(x_pred)))\n",
    "color1 = 'Viridis'\n",
    "color2 = 'Viridis'\n",
    "\n",
    "plot_true_pred_structures(x_pred, y_pred, z_pred, x_true, y_true, z_true, colorscale1, colorscale2, color1, color2)\n",
    "\n",
    "# Shape comparison\n",
    "print('Kabsch distance is ' + str(kabsch_distance_numpy(test_pred_structure, test_true_structure, EMBEDDING_SIZE)))\n",
    "\n"
   ]
  },
  {
   "cell_type": "code",
   "execution_count": 16,
   "metadata": {},
   "outputs": [
    {
     "data": {
      "application/vnd.plotly.v1+json": {
       "config": {
        "plotlyServerURL": "https://plot.ly"
       },
       "data": [
        {
         "line": {
          "color": "darkblue",
          "width": 2
         },
         "marker": {
          "color": [
           0,
           1,
           2,
           3,
           4,
           5,
           6,
           7,
           8,
           9,
           10,
           11,
           12,
           13,
           14,
           15,
           16,
           17,
           18,
           19,
           20,
           21,
           22,
           23,
           24,
           25,
           26,
           27,
           28,
           29,
           30,
           31,
           32,
           33,
           34,
           35,
           36,
           37,
           38,
           39,
           40,
           41,
           42,
           43,
           44,
           45,
           46,
           47,
           48,
           49,
           50,
           51,
           52,
           53,
           54,
           55,
           56,
           57,
           58,
           59,
           60,
           61,
           62,
           63,
           64,
           65,
           66,
           67,
           68,
           69,
           70,
           71,
           72,
           73,
           74,
           75,
           76,
           77,
           78,
           79,
           80,
           81,
           82,
           83,
           84,
           85,
           86,
           87,
           88,
           89,
           90,
           91,
           92,
           93,
           94,
           95,
           96,
           97,
           98,
           99,
           100,
           101,
           102,
           103,
           104,
           105,
           106,
           107,
           108,
           109,
           110,
           111,
           112,
           113,
           114,
           115,
           116,
           117,
           118,
           119,
           120,
           121,
           122,
           123,
           124,
           125,
           126,
           127,
           128,
           129,
           130,
           131,
           132,
           133,
           134,
           135,
           136,
           137,
           138,
           139,
           140,
           141,
           142,
           143,
           144,
           145,
           146,
           147,
           148,
           149,
           150,
           151,
           152,
           153,
           154,
           155,
           156,
           157,
           158,
           159,
           160,
           161,
           162,
           163,
           164,
           165,
           166,
           167,
           168,
           169,
           170,
           171,
           172,
           173,
           174,
           175,
           176,
           177,
           178,
           179,
           180,
           181,
           182,
           183,
           184,
           185,
           186,
           187,
           188,
           189,
           190,
           191,
           192,
           193,
           194,
           195,
           196,
           197,
           198,
           199,
           200,
           201
          ],
          "colorscale": [
           [
            0,
            "#440154"
           ],
           [
            0.1111111111111111,
            "#482878"
           ],
           [
            0.2222222222222222,
            "#3e4989"
           ],
           [
            0.3333333333333333,
            "#31688e"
           ],
           [
            0.4444444444444444,
            "#26828e"
           ],
           [
            0.5555555555555556,
            "#1f9e89"
           ],
           [
            0.6666666666666666,
            "#35b779"
           ],
           [
            0.7777777777777778,
            "#6ece58"
           ],
           [
            0.8888888888888888,
            "#b5de2b"
           ],
           [
            1,
            "#fde725"
           ]
          ],
          "size": 4
         },
         "scene": "scene",
         "type": "scatter3d",
         "x": [
          -0.2440069615840912,
          -0.24971476197242737,
          -0.22575637698173523,
          -0.15791219472885132,
          -0.08745020627975464,
          -0.049672577530145645,
          0.0048335217870771885,
          0.07794509828090668,
          0.16472990810871124,
          0.19864165782928467,
          0.21473927795886993,
          0.20827771723270416,
          0.14475859701633453,
          0.1551104038953781,
          0.1762247532606125,
          0.22440983355045319,
          0.30880722403526306,
          0.36295080184936523,
          0.4123528003692627,
          0.3459973633289337,
          0.37527990341186523,
          0.3458091616630554,
          0.27922630310058594,
          0.1936168223619461,
          0.19977793097496033,
          0.2006254345178604,
          0.14676856994628906,
          0.14506903290748596,
          0.2144513577222824,
          0.2916596233844757,
          0.3860745131969452,
          0.47437942028045654,
          0.506697416305542,
          0.5739186406135559,
          0.5790305137634277,
          0.5807982087135315,
          0.5265365839004517,
          0.526723325252533,
          0.5156735777854919,
          0.5548375248908997,
          0.6204276084899902,
          0.6039999723434448,
          0.6261360049247742,
          0.5974709391593933,
          0.5731455087661743,
          0.5110703110694885,
          0.4483693540096283,
          0.4527043402194977,
          0.4617798626422882,
          0.5348901152610779,
          0.5697596073150635,
          0.5401798486709595,
          0.5976337194442749,
          0.592781126499176,
          0.5699869394302368,
          0.5085241794586182,
          0.4386388659477234,
          0.41428476572036743,
          0.35188519954681396,
          0.30985668301582336,
          0.22810623049736023,
          0.18999913334846497,
          0.129010871052742,
          0.03734329715371132,
          -0.03208591416478157,
          -0.1267559975385666,
          -0.19279946386814117,
          -0.2609157860279083,
          -0.26877954602241516,
          -0.28324568271636963,
          -0.23603588342666626,
          -0.24178695678710938,
          -0.24487696588039398,
          -0.30190324783325195,
          -0.32476457953453064,
          -0.3164939880371094,
          -0.35793542861938477,
          -0.3601352870464325,
          -0.29100146889686584,
          -0.20453687012195587,
          -0.13703635334968567,
          -0.11197444051504135,
          -0.0772058442234993,
          -0.10006636381149292,
          -0.16155819594860077,
          -0.2164326161146164,
          -0.2933965027332306,
          -0.2784481644630432,
          -0.3106202781200409,
          -0.27931416034698486,
          -0.223647803068161,
          -0.14922212064266205,
          -0.09181984513998032,
          -0.036574676632881165,
          0.05599220097064972,
          0.11640752851963043,
          0.09570477157831192,
          0.021028202027082443,
          -0.06065317615866661,
          -0.13030554354190826,
          -0.20348311960697174,
          -0.2671099007129669,
          -0.3563912510871887,
          -0.37310904264450073,
          -0.33926478028297424,
          -0.2815711796283722,
          -0.20161055028438568,
          -0.16136164963245392,
          -0.07828834652900696,
          -0.021052978932857513,
          0.06852812319993973,
          0.06896185129880905,
          0.11924310028553009,
          0.10204870253801346,
          0.1236826702952385,
          0.10976966470479965,
          0.07247344404459,
          -0.015056595206260681,
          -0.09458232671022415,
          -0.16535194218158722,
          -0.23915058374404907,
          -0.33015719056129456,
          -0.3898787498474121,
          -0.37859952449798584,
          -0.3249819278717041,
          -0.3202285170555115,
          -0.2969417870044708,
          -0.22935791313648224,
          -0.21614058315753937,
          -0.25661301612854004,
          -0.24895864725112915,
          -0.25039032101631165,
          -0.27420639991760254,
          -0.27032002806663513,
          -0.25228187441825867,
          -0.20092879235744476,
          -0.18835845589637756,
          -0.12387977540493011,
          -0.12169896811246872,
          -0.15629711747169495,
          -0.196954607963562,
          -0.15700657665729523,
          -0.10517062246799469,
          -0.034681688994169235,
          0.05168091133236885,
          0.09526681900024414,
          0.0730351135134697,
          0.01673946902155876,
          -0.018497390672564507,
          -0.025971433147788048,
          0.030683284625411034,
          -0.01165764220058918,
          -0.0976959764957428,
          -0.15843847393989563,
          -0.23933444917201996,
          -0.2876540720462799,
          -0.2660023868083954,
          -0.18561077117919922,
          -0.09532317519187927,
          -0.014288298785686493,
          0.05981160327792168,
          0.05161355808377266,
          0.06261870265007019,
          0.00042777517228387296,
          -0.07212924212217331,
          -0.09554090350866318,
          -0.15002486109733582,
          -0.12774935364723206,
          -0.13923941552639008,
          -0.07722966372966766,
          -0.0008640228770673275,
          0.012974477373063564,
          0.053210169076919556,
          -0.022424474358558655,
          -0.027131035923957825,
          -0.06741970777511597,
          -0.08915457874536514,
          -0.058439891785383224,
          -0.0292416550219059,
          -0.06148373708128929,
          -0.08647967129945755,
          -0.07845959067344666,
          -0.003578397212550044,
          -0.0011906226864084601,
          -0.04533222317695618,
          -0.08749114722013474,
          -0.14504940807819366,
          -0.24008841812610626,
          -0.30643126368522644,
          -0.36314743757247925,
          -0.3419414758682251,
          -0.3178386688232422,
          -0.2596273720264435,
          -0.1952095478773117,
          -0.20859575271606445,
          -0.23549069464206696,
          -0.2040622979402542,
          -0.23113591969013214,
          -0.29467952251434326,
          -0.30961355566978455,
          -0.3635134696960449,
          -0.4108564853668213
         ],
         "y": [
          0.19168901443481445,
          0.17784342169761658,
          0.11383163183927536,
          0.048972681164741516,
          0.002955951262265444,
          0.020369021221995354,
          0.08392370492219925,
          0.14576272666454315,
          0.13743016123771667,
          0.14299708604812622,
          0.07577991485595703,
          0.07723163813352585,
          0.03103642538189888,
          -0.037103645503520966,
          -0.08922620862722397,
          -0.16981756687164307,
          -0.19968628883361816,
          -0.2695968747138977,
          -0.3356565833091736,
          -0.3655443489551544,
          -0.41215047240257263,
          -0.48940134048461914,
          -0.5527621507644653,
          -0.513069748878479,
          -0.45653036236763,
          -0.3691910207271576,
          -0.2986518442630768,
          -0.3036558926105499,
          -0.33513426780700684,
          -0.3516119420528412,
          -0.3491452932357788,
          -0.3536005914211273,
          -0.4053707420825958,
          -0.3438405692577362,
          -0.25534161925315857,
          -0.1605498492717743,
          -0.09760908037424088,
          -0.09711191058158875,
          -0.10093432664871216,
          -0.16686198115348816,
          -0.22231478989124298,
          -0.2461048662662506,
          -0.25964006781578064,
          -0.3410291075706482,
          -0.40355730056762695,
          -0.4249676465988159,
          -0.496275931596756,
          -0.5093390345573425,
          -0.4548754096031189,
          -0.4062129259109497,
          -0.4153105914592743,
          -0.46503451466560364,
          -0.5043685436248779,
          -0.5523815155029297,
          -0.5359948873519897,
          -0.46932268142700195,
          -0.4127455949783325,
          -0.3268297612667084,
          -0.2617104649543762,
          -0.17875945568084717,
          -0.12883979082107544,
          -0.041631948202848434,
          0.025690004229545593,
          0.05242491513490677,
          0.024578075855970383,
          0.03009289875626564,
          -0.015888812020421028,
          0.008846122771501541,
          0.0837835967540741,
          0.11358384042978287,
          0.1183944121003151,
          0.09398678690195084,
          0.041646040976047516,
          -0.017940081655979156,
          -0.018910428509116173,
          -0.010914173908531666,
          0.023710360750555992,
          0.08176519721746445,
          0.09060442447662354,
          0.11161601543426514,
          0.17798878252506256,
          0.2688015401363373,
          0.34935644268989563,
          0.37702298164367676,
          0.4418562948703766,
          0.4726296663284302,
          0.41646188497543335,
          0.34279561042785645,
          0.3685038387775421,
          0.34201085567474365,
          0.27143606543540955,
          0.25053998827934265,
          0.1746625006198883,
          0.1304401159286499,
          0.11198494583368301,
          0.12997430562973022,
          0.22345413267612457,
          0.28053200244903564,
          0.24367111921310425,
          0.1990673542022705,
          0.23769953846931458,
          0.2610713839530945,
          0.29265904426574707,
          0.2828039824962616,
          0.24332955479621887,
          0.23819565773010254,
          0.23982208967208862,
          0.2046283781528473,
          0.15772299468517303,
          0.08740154653787613,
          0.09057274460792542,
          0.15512730181217194,
          0.22206750512123108,
          0.29730960726737976,
          0.3767125904560089,
          0.46901029348373413,
          0.5556067228317261,
          0.5917201638221741,
          0.5631625652313232,
          0.5102400779724121,
          0.46377110481262207,
          0.44843170046806335,
          0.4066081643104553,
          0.35230085253715515,
          0.3039388954639435,
          0.2236996442079544,
          0.16670410335063934,
          0.10180105268955231,
          0.007012738846242428,
          -0.06558385491371155,
          -0.1524801105260849,
          -0.24718734622001648,
          -0.31383687257766724,
          -0.3376167118549347,
          -0.41265368461608887,
          -0.4489835500717163,
          -0.4502987265586853,
          -0.4129818081855774,
          -0.36640822887420654,
          -0.2797297239303589,
          -0.19352737069129944,
          -0.10657953470945358,
          -0.026130078360438347,
          -0.007916344329714775,
          0.03119245171546936,
          0.046226102858781815,
          0.018266014754772186,
          -0.010814464651048183,
          0.04309159517288208,
          0.13302023708820343,
          0.13432294130325317,
          0.07061763852834702,
          0.03192177414894104,
          -0.04196920618414879,
          0.005630670115351677,
          0.07692421227693558,
          0.08470948040485382,
          0.06920666992664337,
          0.07057812809944153,
          0.11536835134029388,
          0.08394233882427216,
          0.02258063293993473,
          -0.06783013045787811,
          -0.11240260303020477,
          -0.06336569041013718,
          -0.012137558311223984,
          0.06458688527345657,
          0.14464308321475983,
          0.21618115901947021,
          0.2890602946281433,
          0.23177997767925262,
          0.15140609443187714,
          0.07697570323944092,
          0.03850044682621956,
          -0.05636913701891899,
          -0.1287575662136078,
          -0.19284862279891968,
          -0.20727597177028656,
          -0.11712976545095444,
          -0.027508631348609924,
          0.030790813267230988,
          0.12545736134052277,
          0.18226851522922516,
          0.24982790648937225,
          0.33323171734809875,
          0.4071089029312134,
          0.4815329313278198,
          0.49291151762008667,
          0.4250892996788025,
          0.3532954454421997,
          0.259931743144989,
          0.1742154061794281,
          0.12632441520690918,
          0.05542750284075737,
          -0.03351946175098419,
          -0.11432790756225586,
          -0.16092632710933685,
          -0.2481435090303421,
          -0.2774522602558136,
          -0.2387569099664688,
          -0.18637356162071228,
          -0.10313349217176437
         ],
         "z": [
          -0.17582425475120544,
          -0.27045732736587524,
          -0.33760035037994385,
          -0.3568403720855713,
          -0.4026362895965576,
          -0.48894578218460083,
          -0.5355245471000671,
          -0.5387386083602905,
          -0.4990062713623047,
          -0.4095708131790161,
          -0.34322014451026917,
          -0.247638538479805,
          -0.19276580214500427,
          -0.12621155381202698,
          -0.048641469329595566,
          -0.029590830206871033,
          0.004535940010100603,
          0.04142335429787636,
          -0.007313198409974575,
          -0.06962992250919342,
          -0.14805249869823456,
          -0.19646191596984863,
          -0.1694096028804779,
          -0.1528196632862091,
          -0.07571560889482498,
          -0.03633521497249603,
          -0.000233115439186804,
          0.09543175250291824,
          0.15352565050125122,
          0.09923876821994781,
          0.08313163369894028,
          0.12003817409276962,
          0.19389678537845612,
          0.22347790002822876,
          0.18712542951107025,
          0.17330187559127808,
          0.1256171613931656,
          0.029807906597852707,
          -0.06528672575950623,
          -0.12272732704877853,
          -0.08026992529630661,
          0.011074814945459366,
          0.10330545157194138,
          0.14494477212429047,
          0.07654746621847153,
          0.006776688154786825,
          -0.006006778217852116,
          -0.10082376003265381,
          -0.17912475764751434,
          -0.2174203097820282,
          -0.30619558691978455,
          -0.38256487250328064,
          -0.44837960600852966,
          -0.5311497449874878,
          -0.6227554678916931,
          -0.6536883115768433,
          -0.6867756843566895,
          -0.652061939239502,
          -0.6843956708908081,
          -0.7074701189994812,
          -0.709612250328064,
          -0.7206727862358093,
          -0.7511339783668518,
          -0.7432602643966675,
          -0.6833950877189636,
          -0.6970647573471069,
          -0.6450682282447815,
          -0.5823940634727478,
          -0.5232144594192505,
          -0.43331244587898254,
          -0.35007911920547485,
          -0.2576080858707428,
          -0.1774170994758606,
          -0.12866061925888062,
          -0.035622380673885345,
          0.059495195746421814,
          0.13863711059093475,
          0.21482433378696442,
          0.28056684136390686,
          0.31609266996383667,
          0.33085861802101135,
          0.3483124375343323,
          0.30981898307800293,
          0.22098399698734283,
          0.18641388416290283,
          0.11415398120880127,
          0.10408245027065277,
          0.16349223256111145,
          0.25000080466270447,
          0.33659034967422485,
          0.36975884437561035,
          0.3131561279296875,
          0.3244379758834839,
          0.3890293836593628,
          0.40547552704811096,
          0.477628618478775,
          0.48118025064468384,
          0.49976035952568054,
          0.5336591005325317,
          0.5820196866989136,
          0.630313515663147,
          0.5626002550125122,
          0.5480828881263733,
          0.4542580842971802,
          0.37378427386283875,
          0.297463983297348,
          0.3502214848995209,
          0.4297269582748413,
          0.43858179450035095,
          0.40761885046958923,
          0.3737829923629761,
          0.3029859662055969,
          0.2563973069190979,
          0.19962874054908752,
          0.15056927502155304,
          0.12895312905311584,
          0.11193108558654785,
          0.12656007707118988,
          0.17172440886497498,
          0.13470326364040375,
          0.09502843022346497,
          0.069295234978199,
          0.007135577499866486,
          -0.07098735868930817,
          -0.13396328687667847,
          -0.18610502779483795,
          -0.25951439142227173,
          -0.2795071005821228,
          -0.28399866819381714,
          -0.23633931577205658,
          -0.19671423733234406,
          -0.21114285290241241,
          -0.14656472206115723,
          -0.05383333936333656,
          0.002944953739643097,
          0.07521320879459381,
          0.17018663883209229,
          0.23043318092823029,
          0.31413406133651733,
          0.33580201864242554,
          0.3260132372379303,
          0.32112208008766174,
          0.316581666469574,
          0.2542979121208191,
          0.240452378988266,
          0.15646454691886902,
          0.06756190210580826,
          -0.004304792732000351,
          -0.07524276524782181,
          -0.10744020342826843,
          -0.18469460308551788,
          -0.24238842725753784,
          -0.22566328942775726,
          -0.23115582764148712,
          -0.2119259089231491,
          -0.16994807124137878,
          -0.07694113254547119,
          -0.02717619389295578,
          0.004854514729231596,
          -0.019780410453677177,
          0.03219367936253548,
          0.10531842708587646,
          0.13505858182907104,
          0.07739334553480148,
          0.0385274812579155,
          -0.03897909075021744,
          -0.056994471698999405,
          -0.10468623042106628,
          -0.16737577319145203,
          -0.17218373715877533,
          -0.18036584556102753,
          -0.1300843507051468,
          -0.08512987941503525,
          -0.04064672067761421,
          -0.028104539960622787,
          0.02002480998635292,
          0.08784536272287369,
          0.17744533717632294,
          0.19161638617515564,
          0.1812146008014679,
          0.25302040576934814,
          0.26541468501091003,
          0.24684065580368042,
          0.17894570529460907,
          0.16236214339733124,
          0.11826586723327637,
          0.13637137413024902,
          0.13215093314647675,
          0.1455102562904358,
          0.173946350812912,
          0.1775825321674347,
          0.1422065943479538,
          0.08306614309549332,
          0.0849815234541893,
          0.051982391625642776,
          0.09587262570858002,
          0.17346476018428802,
          0.20244543254375458,
          0.2678893208503723,
          0.354256808757782,
          0.41367465257644653,
          0.41674453020095825
         ]
        },
        {
         "line": {
          "color": "darkblue",
          "width": 2
         },
         "marker": {
          "color": [
           0.6806240013298024,
           0.7627392372161439,
           0.9914200085310034,
           0.2949507174081107,
           -0.7857877626288411,
           -0.2860644426851829,
           -1.6013391755287067,
           0.6859974383498013,
           0.33715829957739923,
           -0.061156406852826556,
           -0.5207444624009319,
           -0.5485035876157096,
           -1.090022876189095,
           -0.6615460512565668,
           -0.09354875834964231,
           0.09003689648549042,
           -0.30872208709443844,
           0.1556514217662427,
           -0.7463762116523603,
           1.6191256461181507,
           1.2077600690156223,
           0.803545510148277,
           0.5840964590027083,
           0.44856252244613665,
           0.7855520144322686,
           0.6245749717046633,
           -3.310034877756015,
           1.002929012264617,
           1.0095446902844045,
           0.9547389500969549,
           0.2417869400750898,
           0.29702126974467935,
           0.5494982190454076,
           0.5645627197189628,
           0.3683059958007298,
           0.31386277180167055,
           0.17105222787695393,
           -0.5752490332127583,
           0.33137741248302993,
           0.7325947559069639,
           0.4146917404696874,
           -1.0252530124144563,
           0.1918117598877213,
           0.4939491586818839,
           0.13842636846994896,
           -2.008355461738934,
           -1.7465032743686604,
           0.7513762214569039,
           1.2146873157913973,
           1.3068442314302664,
           1.7183909929939682,
           1.434419542172144,
           1.4693607356696228,
           1.343059005230388,
           1.3220859383773345,
           1.4574436837124498,
           1.4479694092084772,
           1.0841798760581831,
           1.2418741328709686,
           1.5528953838835424,
           0.8807445211784414,
           0.29684140240308243,
           -0.7821078191679092,
           -0.6685807850700178,
           -1.522600590677164,
           -0.8850339165072663,
           -1.6960305617085756,
           -2.172272752262317,
           0.627385577649487,
           1.4179445698045392,
           0.7121538823329402,
           0.4463331267714111,
           0.39936177549000096,
           -0.9617043979926678,
           -0.6580815979350128,
           -1.375847033443856,
           -1.1521705778306397,
           -0.2198384803313317,
           -0.020322779715235897,
           0.15162958354871522,
           0.364880167831956,
           0.3375326105907967,
           0.15560326219237958,
           0.2267893073869071,
           0.4838377556457504,
           0.05072624301257495,
           0.09250161906148596,
           1.0911057257840548,
           2.0371353304386344,
           1.0658242113529777,
           0.6386932021273728,
           0.4493453138242415,
           0.156907142691676,
           -0.7085523001255134,
           -0.057491812628214255,
           0.10881614991636882,
           0.33949486767099424,
           -0.1516876061961869,
           -0.06062880042561355,
           0.1139888734722201,
           -0.1504257230942749,
           0.13409640446860455,
           0.23183900008435765,
           0.49038366546061546,
           0.6593873875791526,
           0.7303587615217779,
           0.4686284411781936,
           0.11486457927797135,
           -0.25295694659122775,
           -0.8258637403313723,
           -0.2150313797902065,
           0.17562717438851974,
           0.7909049975999667,
           0.2247836635616999,
           0.14915104988032232,
           -0.06654117158358797,
           -0.009481878274426146,
           0.21053100562385776,
           0.5600066498902411,
           0.4497856920700532,
           0.021320732571190767,
           -0.6551891980344223,
           -2.9040951950670366,
           -0.8641420158217137,
           -0.09790690652509032,
           0.5383617615666286,
           0.8317009111325465,
           0.7667249925293126,
           -1.4523073585956745,
           -0.42489233782863933,
           0.08110849525165707,
           0.5341742374152781,
           0.08236935431060836,
           -0.5243685047449161,
           -3.196982228925787,
           -0.1775106334001789,
           0.36341357479693004,
           1.1567217960883234,
           1.495855700204494,
           1.0405360957463723,
           0.4204336739353226,
           0.4583380651312,
           -0.9502079579404127,
           -0.6667017533079939,
           -0.5586784717788698,
           -0.486694078925599,
           -1.5086864476700825,
           -2.985028112077831,
           -1.7278589790133485,
           -1.3093903570900252,
           -1.0776168416914282,
           -1.5687444083324467,
           -0.18577347078058715,
           -0.06205135428242655,
           -1.5965886289732203,
           0.42545854689599827,
           1.412219749935364,
           -0.5706545410921254,
           -2.178068428546963,
           -2.2016667598656032,
           -1.253263599702974,
           -1.3682431795036565,
           -0.5182392766526963,
           -5.007620324120566,
           -0.7181975190004877,
           -1.6179124833162521,
           -0.5288764399036708,
           -0.2491150263549942,
           -0.04145360465866746,
           -0.45832555763822164,
           -4.47759892473673,
           -1.7945371360390587,
           -1.1253495142125287,
           -1.7421081154454516,
           -1.518219021098041,
           -0.9135884736269148,
           0.451286880625608,
           0.5120854386236084,
           -0.6925405904967458,
           -0.33930868757911953,
           -0.10630072674982712,
           0.14093129122097778,
           -2.694051159607226,
           -3.9608375495854915,
           -0.23473989565275624,
           -0.20300441731962718,
           0.19255635173198793,
           0.23449505134082374,
           0.663705066071136,
           1.3221471831624634,
           2.397533072420796,
           1.2246482379951416,
           1.4052752362447436,
           0.2919242760883572,
           0.9104954425113755,
           0.5609851923739976,
           0.7718836751695195,
           0.587003415644175,
           1.0015167632148017,
           0.7517220799767936,
           0.030569951495596596,
           -0.5909914405775235
          ],
          "colorscale": [
           [
            0,
            "rgb(150,0,90)"
           ],
           [
            0.125,
            "rgb(0,0,200)"
           ],
           [
            0.25,
            "rgb(0,25,255)"
           ],
           [
            0.375,
            "rgb(0,152,255)"
           ],
           [
            0.5,
            "rgb(44,255,150)"
           ],
           [
            0.625,
            "rgb(151,255,0)"
           ],
           [
            0.75,
            "rgb(255,234,0)"
           ],
           [
            0.875,
            "rgb(255,111,0)"
           ],
           [
            1,
            "rgb(255,0,0)"
           ]
          ],
          "size": 4
         },
         "scene": "scene2",
         "type": "scatter3d",
         "x": [
          -0.19130156887392785,
          -0.06927596897801357,
          -0.07371015941520775,
          -0.03149301173880734,
          -0.00925132273629003,
          0.011081793853382272,
          0.07137889321487507,
          0.10871698848577745,
          0.1656053766907585,
          0.09210992309939697,
          -0.001762717338130063,
          0.0026878943705557173,
          -0.00340328661889326,
          0.07586490650205786,
          0.07306582469385561,
          0.17150863576774603,
          0.2591820358254115,
          0.4012395890052917,
          0.4733076456937942,
          0.4607159365047658,
          0.5232473297211839,
          0.5363562052930277,
          0.4999440468508017,
          0.43908953795752703,
          0.36397800586666906,
          0.2906614043399406,
          0.1544843432954331,
          0.15442029837777957,
          0.2353437109346533,
          0.3300639617153722,
          0.4685166636005329,
          0.6589539885757459,
          0.6228671152910673,
          0.7009719325729064,
          0.7244582593921665,
          0.680080437180717,
          0.5834970078374067,
          0.5735186847425737,
          0.4994674660132292,
          0.5848191948601262,
          0.7157740445757571,
          0.6999531100150801,
          0.7037599106350632,
          0.7161626260967049,
          0.708918660481486,
          0.6396091339503701,
          0.5285947460346241,
          0.5524310279332629,
          0.5694530072996098,
          0.6257471122613261,
          0.6046560278334168,
          0.5458356416146115,
          0.5534814687332295,
          0.5041414700064442,
          0.5571911158432534,
          0.5273328877921258,
          0.5361499379061653,
          0.5639345159213289,
          0.45799182306706165,
          0.40282700004861,
          0.37372106603465016,
          0.3129368340451463,
          0.22538591641900801,
          0.2460032816496673,
          0.22170610130418847,
          0.1915447552757476,
          0.14637190125568872,
          0.045873317396238754,
          -0.06678155348503466,
          -0.1762053494745007,
          -0.07322824422941307,
          0.016692243241129882,
          -0.026334595860653932,
          -0.08559716424522311,
          -0.2282341524605257,
          -0.28801389198311433,
          -0.3379995779543425,
          -0.3335067839638414,
          -0.3121767980246342,
          -0.29540214537256615,
          -0.2581196248757399,
          -0.2549655592306479,
          -0.2511789068208427,
          -0.3196760427537686,
          -0.33835511370350896,
          -0.17598306599848096,
          -0.286242676293527,
          -0.3508041507592117,
          -0.34857187091780584,
          -0.4039519759863936,
          -0.34015309922951337,
          -0.29370618781352104,
          -0.24014668226623842,
          -0.19898691605042554,
          -0.021052752166798274,
          0.047441702961175884,
          0.0005407810482406593,
          -0.02664236113900067,
          -0.15348269466838696,
          -0.09519835358942529,
          -0.042288208999898776,
          -0.12673769944465182,
          -0.15556257025348982,
          -0.27041595070998636,
          -0.3651636827861957,
          -0.3663897126673647,
          -0.33642251834836534,
          -0.28446571130806464,
          -0.21318006286510868,
          -0.10613005579095038,
          -0.04140892896052112,
          -0.06882327832643906,
          -0.03701995560834363,
          -0.08010889810629919,
          -0.02371756759747256,
          0.012655010838971564,
          0.09341682050256113,
          -0.012728548281491664,
          -0.1411777392669088,
          -0.18601373008936278,
          -0.26945247252545146,
          -0.20090107118660705,
          -0.22633368289542702,
          -0.19892896034969126,
          -0.24105685900911866,
          -0.18588696095538396,
          -0.0704815662429496,
          -0.008470925589876712,
          0.04093882431437533,
          0.036343166572581326,
          -0.007992028199383059,
          -0.050910845463824995,
          -0.051122026185604685,
          -0.17115826014887367,
          -0.09118246970738499,
          -0.013445613145280928,
          -0.031749655517481684,
          -0.042741971451273474,
          -0.06404634775936577,
          -0.19851772836482878,
          -0.28025498906555224,
          -0.22438376475317057,
          -0.23243025874866932,
          -0.22625467788260223,
          -0.1636835098069332,
          -0.13558610880325514,
          -0.17282491545533962,
          -0.2031947810358107,
          -0.1922149952300659,
          -0.2186248917870239,
          -0.1529318587714875,
          -0.13935676090901997,
          -0.13515024503706433,
          0.02397846953390829,
          0.03176854329287673,
          -0.07394790403878859,
          -0.24909184211929508,
          -0.29018963185815877,
          -0.2861899460269008,
          -0.2572650858420779,
          -0.195261234703497,
          -0.1844818799358389,
          -0.14630057080636638,
          -0.19082082541583797,
          -0.2342955669766066,
          -0.23253795951622128,
          -0.27457129604545827,
          -0.25466830131686674,
          -0.2921606938431162,
          -0.2816010706653664,
          -0.22733991662905026,
          -0.18708778738237652,
          -0.1528770558396681,
          -0.2102812059386119,
          -0.18929707299327958,
          -0.18338851841225595,
          -0.1816377164230012,
          -0.13731382289180571,
          -0.1989920629284888,
          -0.22380892602657632,
          -0.2550191493657016,
          -0.2224900684748028,
          -0.1611287597430105,
          -0.1880175315606706,
          -0.17224015575419552,
          -0.2282461203128638,
          -0.21556140600864185,
          -0.19730012923096188,
          -0.27900262102141765,
          -0.3586071941890415,
          -0.34984647764726423,
          -0.31548406346029495,
          -0.2847020475995255,
          -0.320995333707303,
          -0.2867425845751826,
          -0.2739100107018071,
          -0.25387110906855576,
          -0.2862393185722424,
          -0.3135067704578673,
          -0.3597577026691265,
          -0.31584965731279213,
          -0.37862083026781806
         ],
         "y": [
          0.13805460119741372,
          0.15598148937210154,
          0.09221835455288967,
          0.10199200287333403,
          -0.013204482298600197,
          -0.032675237681755696,
          -0.008720646525490873,
          -0.009940401865765473,
          -0.13918445163178983,
          -0.19820612570759877,
          -0.21769420088715008,
          -0.23471366452716214,
          -0.20319438660740557,
          -0.20505098695943597,
          -0.208851851532804,
          -0.34050995653887267,
          -0.3721226342055466,
          -0.3497801297012417,
          -0.42161179994341197,
          -0.40817055925974327,
          -0.4269805572766468,
          -0.4429938532046729,
          -0.5261141566168651,
          -0.5210476430616746,
          -0.5370449967558191,
          -0.47373530205334247,
          -0.4731768027021128,
          -0.42748526199737136,
          -0.4434403340497653,
          -0.4486008082791279,
          -0.3893522752944423,
          -0.3787908699644604,
          -0.43722766540960634,
          -0.3971761294159126,
          -0.3283012760409143,
          -0.27129554052933164,
          -0.2130675424103852,
          -0.26056131469338234,
          -0.2925403674112316,
          -0.32665747231851333,
          -0.31749662682852203,
          -0.34850785276823737,
          -0.3642667982508812,
          -0.36003886138102276,
          -0.4214997399040662,
          -0.4438979370394003,
          -0.47787651030449935,
          -0.4850408121727398,
          -0.4760663621817906,
          -0.44234102453612845,
          -0.4005349324679428,
          -0.4371209099288362,
          -0.4242768761001075,
          -0.36139524056454964,
          -0.23106503008429682,
          -0.23637854106642095,
          -0.24085239195151378,
          -0.14195036163324143,
          -0.135298682560992,
          -0.13213974884458596,
          -0.06297052939128073,
          -0.09454988662343004,
          -0.11854044868062061,
          0.04733031912164219,
          0.16595327997972548,
          0.17145064398035315,
          0.2156756055362771,
          0.23106206814293545,
          0.14755126688630948,
          0.1412815295834022,
          0.057342640220498356,
          0.08782836711017843,
          0.036842152884055894,
          0.08525492962002007,
          0.06051303394321934,
          0.11339993638790656,
          0.22648965704026813,
          0.31159964699633297,
          0.2995326950693132,
          0.2740368798360507,
          0.28509954468824533,
          0.36651863090804315,
          0.3520401262846405,
          0.3299383876077582,
          0.4158431202953449,
          0.3923322224197914,
          0.3569810897054939,
          0.31567029611868413,
          0.41450123036960274,
          0.43556154566684185,
          0.4092312713465309,
          0.33153984943358805,
          0.24692960346509527,
          0.2681032955082291,
          0.2624875329776021,
          0.34466616967296343,
          0.39193122488819526,
          0.519100625795966,
          0.5244899083297005,
          0.5873416886671258,
          0.7341688898135964,
          0.6694814162101014,
          0.6660317201977212,
          0.5448070522141342,
          0.4710250207233112,
          0.3722853999137964,
          0.375516670964683,
          0.4604409967077525,
          0.4023487979152176,
          0.2806453004526385,
          0.24321480021724498,
          0.1976790288822512,
          0.21981652198697021,
          0.2483794525343899,
          0.29367710767415467,
          0.3147400888450427,
          0.34678023252779333,
          0.4749369848437005,
          0.5181293695037676,
          0.4493383223511349,
          0.3587733351979387,
          0.3549310064478112,
          0.353706614660767,
          0.22292333434375433,
          0.24004699333067564,
          0.16971968303404297,
          0.1545506200420828,
          0.0941774004553764,
          0.0857787709863991,
          0.12278254898748724,
          -0.004884194411201685,
          -0.18882571240825663,
          -0.1920483265580708,
          -0.23790901243781162,
          -0.4350750091396126,
          -0.5214214974919892,
          -0.4769085460250747,
          -0.40273523537762346,
          -0.3130205654679007,
          -0.07292755662262504,
          0.08685342185811577,
          0.038328764233139766,
          0.13087320770525857,
          -0.008432340816660803,
          0.0020205382674269605,
          -0.053322108273985744,
          -0.1365379052171997,
          -0.1931490226466429,
          -0.19635584763032674,
          -0.16961501907467996,
          -0.18754058755063469,
          -0.144519193002568,
          -0.054247092515054704,
          0.013896694971172534,
          0.07883820435049456,
          0.12320104840128378,
          0.06507469908974964,
          -0.06947556675711651,
          -0.10774936744761124,
          -0.14774376457468583,
          -0.13641047464073147,
          -0.12334312999102537,
          -0.15516937442696882,
          -0.16781559291325915,
          -0.1468132760835061,
          -0.14096390464306996,
          -0.07201764190325165,
          -0.06609204422957476,
          0.02873263994374421,
          0.034375314254029975,
          -0.14567577526770606,
          -0.16614839119725028,
          -0.22809240405031517,
          -0.17875330330271477,
          -0.2001556935554331,
          -0.17877146414415457,
          -0.1470798895963128,
          -0.1638432258479518,
          -0.11304988294636206,
          -0.06797152016495034,
          0.06071437604303768,
          0.15303371898832663,
          0.15346094971324484,
          0.17371737463213985,
          0.2309652165586774,
          0.27831547581622196,
          0.3733867414112866,
          0.42940094365377673,
          0.404141786323431,
          0.3763704272782871,
          0.30184821980855503,
          0.2474283099087889,
          0.10520666553638862,
          -0.0013496230794753632,
          -0.022275895651466752,
          0.01676582105625424,
          -0.03158733691811723,
          -0.07704624011950581,
          -0.10950111257943448,
          0.018751836744350346,
          0.23661728562683193,
          0.37284554443785994
         ],
         "z": [
          0.004062286005665011,
          -0.12071759687188538,
          -0.2532742623742086,
          -0.23176498012674845,
          -0.3136094380366118,
          -0.40764655278154405,
          -0.5396089177648624,
          -0.5129987669101369,
          -0.4374748144033364,
          -0.30029348159323543,
          -0.28524478056943287,
          -0.20657950802022837,
          -0.12480595081780567,
          -0.028268523804035356,
          0.017905360640172664,
          0.014819268049124002,
          0.018419617147560467,
          -0.04824413553152798,
          -0.05063749348436924,
          -0.07979910107038288,
          -0.21709384897467726,
          -0.33346917664700454,
          -0.31072393085537336,
          -0.24944133313612388,
          -0.10367957295403685,
          -0.06811105958238482,
          0.018770757019973484,
          0.03548585459131208,
          0.05027043199051006,
          0.025085378065164442,
          -0.08537390906508996,
          -0.09228041403316341,
          -0.08218560328889983,
          -0.07359808868150214,
          -0.10082794746201511,
          -0.05738489177249508,
          -0.029807350620042382,
          -0.07633129645494789,
          -0.07991431757958979,
          -0.1755360354994774,
          -0.1926328181513876,
          -0.07518076564205138,
          -0.09808289087042031,
          -0.08352243359750307,
          -0.10187167556676151,
          -0.14269744649847446,
          -0.10804719137703887,
          -0.2164841765178891,
          -0.28850769932903725,
          -0.33770131297868333,
          -0.4413008694698985,
          -0.6290383570020965,
          -0.65353263606299,
          -0.6840439644562656,
          -0.7525266368131962,
          -0.7616541857405218,
          -0.7323601853266337,
          -0.7092071993126533,
          -0.7404942330023863,
          -0.7598683660689048,
          -0.776180364353189,
          -0.9450560382456691,
          -0.8990562021958477,
          -0.869319469997498,
          -0.7452719592957192,
          -0.7393704367807746,
          -0.62988423147225,
          -0.5598740112340105,
          -0.47648062136678343,
          -0.3878686429859124,
          -0.25684014004568056,
          -0.05529548983171228,
          0.0007869741957888218,
          0.048862211312759224,
          0.010545591849342095,
          0.035985937235702245,
          0.015649369411505368,
          0.03162683991959125,
          0.08897165844078145,
          0.10162523819336235,
          0.1331802840867519,
          0.17413548857675235,
          0.21481367850725053,
          0.2368375135653827,
          0.3161660959871542,
          0.3989486873403402,
          0.37133873682839247,
          0.27279507683533805,
          0.28605171186228484,
          0.23104499890048338,
          0.1644090953828022,
          0.11818895647053208,
          0.15080333808626753,
          0.15669850820695314,
          0.21993735180773244,
          0.26439994591809357,
          0.2944471180432049,
          0.31285374151668754,
          0.2643928357626837,
          0.3160864941550632,
          0.24823880616317942,
          0.26237793818246047,
          0.2521613663634904,
          0.16558140848275663,
          0.1721588527857936,
          0.1246267315409867,
          0.12499700256441662,
          0.14549690117434202,
          0.18004295982420132,
          0.1632613677407695,
          0.21300296961745285,
          0.2289060404967481,
          0.2665784425416893,
          0.2887597773974,
          0.32705667159563784,
          0.385927667620191,
          0.37650794812947397,
          0.38961265146308377,
          0.3676631623879934,
          0.35952018163308236,
          0.3405446948172345,
          0.428003102829549,
          0.39385956492297763,
          0.37460778549621415,
          0.24650879252862523,
          0.01680302055457064,
          -0.1374444332392079,
          -0.18010284911457383,
          -0.17107264400462946,
          -0.1005612131868137,
          -0.03335989374059177,
          -0.057920193082107115,
          0.0822474788213496,
          0.18335721021840143,
          0.21699279414472705,
          0.2623663815502255,
          0.3736213650822664,
          0.29121298814643487,
          0.2975686433782222,
          0.31888683050604,
          0.293883858715002,
          0.2863641495596479,
          0.14556904473456864,
          0.18958526804285605,
          0.2061486772160924,
          0.20403839126203135,
          0.18384065232725147,
          0.12209366707987009,
          0.07054732177048552,
          0.04498944174452845,
          -0.10479359879412205,
          -0.14513356711511086,
          -0.10613017915333836,
          -0.06712949499157139,
          -0.06904762107917656,
          -0.0652783195839216,
          -0.04343763344469117,
          0.04731261468822634,
          0.11145347409832555,
          0.13518487676258528,
          0.14859326322266156,
          0.18416996870452002,
          0.19086708307545538,
          0.1605870308920334,
          0.13819828398240416,
          0.08107216639476979,
          0.06530717590558155,
          0.041689941877437756,
          0.02705177360760979,
          0.03734854806873935,
          -0.12215084858774149,
          -0.0607467703548408,
          0.034701249603757305,
          0.08567934646149611,
          0.11703640975221893,
          0.127582534930175,
          0.1436939171632331,
          0.2197720836747945,
          0.22159294439299568,
          0.1994958533093436,
          0.14782883196194874,
          0.11940682467902768,
          0.20038794999423593,
          0.22974732783821566,
          0.273959831527826,
          0.3252407723799039,
          0.37690759371951305,
          0.4051541118887922,
          0.3501023154712812,
          0.2995131685502509,
          0.1618756194148797,
          0.07765455459830188,
          0.04384660068227668,
          0.036392229011022334,
          0.07781284061708323,
          0.134427532177269,
          0.2322039745517788,
          0.3522673348597076,
          0.38381615993154417,
          0.29255776378157206,
          0.20312590229805744,
          0.11514665593748015
         ]
        }
       ],
       "layout": {
        "height": 1000,
        "scene": {
         "domain": {
          "x": [
           0,
           0.45
          ],
          "y": [
           0,
           1
          ]
         }
        },
        "scene2": {
         "domain": {
          "x": [
           0.55,
           1
          ],
          "y": [
           0,
           1
          ]
         }
        },
        "template": {
         "data": {
          "bar": [
           {
            "error_x": {
             "color": "#2a3f5f"
            },
            "error_y": {
             "color": "#2a3f5f"
            },
            "marker": {
             "line": {
              "color": "#E5ECF6",
              "width": 0.5
             }
            },
            "type": "bar"
           }
          ],
          "barpolar": [
           {
            "marker": {
             "line": {
              "color": "#E5ECF6",
              "width": 0.5
             }
            },
            "type": "barpolar"
           }
          ],
          "carpet": [
           {
            "aaxis": {
             "endlinecolor": "#2a3f5f",
             "gridcolor": "white",
             "linecolor": "white",
             "minorgridcolor": "white",
             "startlinecolor": "#2a3f5f"
            },
            "baxis": {
             "endlinecolor": "#2a3f5f",
             "gridcolor": "white",
             "linecolor": "white",
             "minorgridcolor": "white",
             "startlinecolor": "#2a3f5f"
            },
            "type": "carpet"
           }
          ],
          "choropleth": [
           {
            "colorbar": {
             "outlinewidth": 0,
             "ticks": ""
            },
            "type": "choropleth"
           }
          ],
          "contour": [
           {
            "colorbar": {
             "outlinewidth": 0,
             "ticks": ""
            },
            "colorscale": [
             [
              0,
              "#0d0887"
             ],
             [
              0.1111111111111111,
              "#46039f"
             ],
             [
              0.2222222222222222,
              "#7201a8"
             ],
             [
              0.3333333333333333,
              "#9c179e"
             ],
             [
              0.4444444444444444,
              "#bd3786"
             ],
             [
              0.5555555555555556,
              "#d8576b"
             ],
             [
              0.6666666666666666,
              "#ed7953"
             ],
             [
              0.7777777777777778,
              "#fb9f3a"
             ],
             [
              0.8888888888888888,
              "#fdca26"
             ],
             [
              1,
              "#f0f921"
             ]
            ],
            "type": "contour"
           }
          ],
          "contourcarpet": [
           {
            "colorbar": {
             "outlinewidth": 0,
             "ticks": ""
            },
            "type": "contourcarpet"
           }
          ],
          "heatmap": [
           {
            "colorbar": {
             "outlinewidth": 0,
             "ticks": ""
            },
            "colorscale": [
             [
              0,
              "#0d0887"
             ],
             [
              0.1111111111111111,
              "#46039f"
             ],
             [
              0.2222222222222222,
              "#7201a8"
             ],
             [
              0.3333333333333333,
              "#9c179e"
             ],
             [
              0.4444444444444444,
              "#bd3786"
             ],
             [
              0.5555555555555556,
              "#d8576b"
             ],
             [
              0.6666666666666666,
              "#ed7953"
             ],
             [
              0.7777777777777778,
              "#fb9f3a"
             ],
             [
              0.8888888888888888,
              "#fdca26"
             ],
             [
              1,
              "#f0f921"
             ]
            ],
            "type": "heatmap"
           }
          ],
          "heatmapgl": [
           {
            "colorbar": {
             "outlinewidth": 0,
             "ticks": ""
            },
            "colorscale": [
             [
              0,
              "#0d0887"
             ],
             [
              0.1111111111111111,
              "#46039f"
             ],
             [
              0.2222222222222222,
              "#7201a8"
             ],
             [
              0.3333333333333333,
              "#9c179e"
             ],
             [
              0.4444444444444444,
              "#bd3786"
             ],
             [
              0.5555555555555556,
              "#d8576b"
             ],
             [
              0.6666666666666666,
              "#ed7953"
             ],
             [
              0.7777777777777778,
              "#fb9f3a"
             ],
             [
              0.8888888888888888,
              "#fdca26"
             ],
             [
              1,
              "#f0f921"
             ]
            ],
            "type": "heatmapgl"
           }
          ],
          "histogram": [
           {
            "marker": {
             "colorbar": {
              "outlinewidth": 0,
              "ticks": ""
             }
            },
            "type": "histogram"
           }
          ],
          "histogram2d": [
           {
            "colorbar": {
             "outlinewidth": 0,
             "ticks": ""
            },
            "colorscale": [
             [
              0,
              "#0d0887"
             ],
             [
              0.1111111111111111,
              "#46039f"
             ],
             [
              0.2222222222222222,
              "#7201a8"
             ],
             [
              0.3333333333333333,
              "#9c179e"
             ],
             [
              0.4444444444444444,
              "#bd3786"
             ],
             [
              0.5555555555555556,
              "#d8576b"
             ],
             [
              0.6666666666666666,
              "#ed7953"
             ],
             [
              0.7777777777777778,
              "#fb9f3a"
             ],
             [
              0.8888888888888888,
              "#fdca26"
             ],
             [
              1,
              "#f0f921"
             ]
            ],
            "type": "histogram2d"
           }
          ],
          "histogram2dcontour": [
           {
            "colorbar": {
             "outlinewidth": 0,
             "ticks": ""
            },
            "colorscale": [
             [
              0,
              "#0d0887"
             ],
             [
              0.1111111111111111,
              "#46039f"
             ],
             [
              0.2222222222222222,
              "#7201a8"
             ],
             [
              0.3333333333333333,
              "#9c179e"
             ],
             [
              0.4444444444444444,
              "#bd3786"
             ],
             [
              0.5555555555555556,
              "#d8576b"
             ],
             [
              0.6666666666666666,
              "#ed7953"
             ],
             [
              0.7777777777777778,
              "#fb9f3a"
             ],
             [
              0.8888888888888888,
              "#fdca26"
             ],
             [
              1,
              "#f0f921"
             ]
            ],
            "type": "histogram2dcontour"
           }
          ],
          "mesh3d": [
           {
            "colorbar": {
             "outlinewidth": 0,
             "ticks": ""
            },
            "type": "mesh3d"
           }
          ],
          "parcoords": [
           {
            "line": {
             "colorbar": {
              "outlinewidth": 0,
              "ticks": ""
             }
            },
            "type": "parcoords"
           }
          ],
          "pie": [
           {
            "automargin": true,
            "type": "pie"
           }
          ],
          "scatter": [
           {
            "marker": {
             "colorbar": {
              "outlinewidth": 0,
              "ticks": ""
             }
            },
            "type": "scatter"
           }
          ],
          "scatter3d": [
           {
            "line": {
             "colorbar": {
              "outlinewidth": 0,
              "ticks": ""
             }
            },
            "marker": {
             "colorbar": {
              "outlinewidth": 0,
              "ticks": ""
             }
            },
            "type": "scatter3d"
           }
          ],
          "scattercarpet": [
           {
            "marker": {
             "colorbar": {
              "outlinewidth": 0,
              "ticks": ""
             }
            },
            "type": "scattercarpet"
           }
          ],
          "scattergeo": [
           {
            "marker": {
             "colorbar": {
              "outlinewidth": 0,
              "ticks": ""
             }
            },
            "type": "scattergeo"
           }
          ],
          "scattergl": [
           {
            "marker": {
             "colorbar": {
              "outlinewidth": 0,
              "ticks": ""
             }
            },
            "type": "scattergl"
           }
          ],
          "scattermapbox": [
           {
            "marker": {
             "colorbar": {
              "outlinewidth": 0,
              "ticks": ""
             }
            },
            "type": "scattermapbox"
           }
          ],
          "scatterpolar": [
           {
            "marker": {
             "colorbar": {
              "outlinewidth": 0,
              "ticks": ""
             }
            },
            "type": "scatterpolar"
           }
          ],
          "scatterpolargl": [
           {
            "marker": {
             "colorbar": {
              "outlinewidth": 0,
              "ticks": ""
             }
            },
            "type": "scatterpolargl"
           }
          ],
          "scatterternary": [
           {
            "marker": {
             "colorbar": {
              "outlinewidth": 0,
              "ticks": ""
             }
            },
            "type": "scatterternary"
           }
          ],
          "surface": [
           {
            "colorbar": {
             "outlinewidth": 0,
             "ticks": ""
            },
            "colorscale": [
             [
              0,
              "#0d0887"
             ],
             [
              0.1111111111111111,
              "#46039f"
             ],
             [
              0.2222222222222222,
              "#7201a8"
             ],
             [
              0.3333333333333333,
              "#9c179e"
             ],
             [
              0.4444444444444444,
              "#bd3786"
             ],
             [
              0.5555555555555556,
              "#d8576b"
             ],
             [
              0.6666666666666666,
              "#ed7953"
             ],
             [
              0.7777777777777778,
              "#fb9f3a"
             ],
             [
              0.8888888888888888,
              "#fdca26"
             ],
             [
              1,
              "#f0f921"
             ]
            ],
            "type": "surface"
           }
          ],
          "table": [
           {
            "cells": {
             "fill": {
              "color": "#EBF0F8"
             },
             "line": {
              "color": "white"
             }
            },
            "header": {
             "fill": {
              "color": "#C8D4E3"
             },
             "line": {
              "color": "white"
             }
            },
            "type": "table"
           }
          ]
         },
         "layout": {
          "annotationdefaults": {
           "arrowcolor": "#2a3f5f",
           "arrowhead": 0,
           "arrowwidth": 1
          },
          "autotypenumbers": "strict",
          "coloraxis": {
           "colorbar": {
            "outlinewidth": 0,
            "ticks": ""
           }
          },
          "colorscale": {
           "diverging": [
            [
             0,
             "#8e0152"
            ],
            [
             0.1,
             "#c51b7d"
            ],
            [
             0.2,
             "#de77ae"
            ],
            [
             0.3,
             "#f1b6da"
            ],
            [
             0.4,
             "#fde0ef"
            ],
            [
             0.5,
             "#f7f7f7"
            ],
            [
             0.6,
             "#e6f5d0"
            ],
            [
             0.7,
             "#b8e186"
            ],
            [
             0.8,
             "#7fbc41"
            ],
            [
             0.9,
             "#4d9221"
            ],
            [
             1,
             "#276419"
            ]
           ],
           "sequential": [
            [
             0,
             "#0d0887"
            ],
            [
             0.1111111111111111,
             "#46039f"
            ],
            [
             0.2222222222222222,
             "#7201a8"
            ],
            [
             0.3333333333333333,
             "#9c179e"
            ],
            [
             0.4444444444444444,
             "#bd3786"
            ],
            [
             0.5555555555555556,
             "#d8576b"
            ],
            [
             0.6666666666666666,
             "#ed7953"
            ],
            [
             0.7777777777777778,
             "#fb9f3a"
            ],
            [
             0.8888888888888888,
             "#fdca26"
            ],
            [
             1,
             "#f0f921"
            ]
           ],
           "sequentialminus": [
            [
             0,
             "#0d0887"
            ],
            [
             0.1111111111111111,
             "#46039f"
            ],
            [
             0.2222222222222222,
             "#7201a8"
            ],
            [
             0.3333333333333333,
             "#9c179e"
            ],
            [
             0.4444444444444444,
             "#bd3786"
            ],
            [
             0.5555555555555556,
             "#d8576b"
            ],
            [
             0.6666666666666666,
             "#ed7953"
            ],
            [
             0.7777777777777778,
             "#fb9f3a"
            ],
            [
             0.8888888888888888,
             "#fdca26"
            ],
            [
             1,
             "#f0f921"
            ]
           ]
          },
          "colorway": [
           "#636efa",
           "#EF553B",
           "#00cc96",
           "#ab63fa",
           "#FFA15A",
           "#19d3f3",
           "#FF6692",
           "#B6E880",
           "#FF97FF",
           "#FECB52"
          ],
          "font": {
           "color": "#2a3f5f"
          },
          "geo": {
           "bgcolor": "white",
           "lakecolor": "white",
           "landcolor": "#E5ECF6",
           "showlakes": true,
           "showland": true,
           "subunitcolor": "white"
          },
          "hoverlabel": {
           "align": "left"
          },
          "hovermode": "closest",
          "mapbox": {
           "style": "light"
          },
          "paper_bgcolor": "white",
          "plot_bgcolor": "#E5ECF6",
          "polar": {
           "angularaxis": {
            "gridcolor": "white",
            "linecolor": "white",
            "ticks": ""
           },
           "bgcolor": "#E5ECF6",
           "radialaxis": {
            "gridcolor": "white",
            "linecolor": "white",
            "ticks": ""
           }
          },
          "scene": {
           "xaxis": {
            "backgroundcolor": "#E5ECF6",
            "gridcolor": "white",
            "gridwidth": 2,
            "linecolor": "white",
            "showbackground": true,
            "ticks": "",
            "zerolinecolor": "white"
           },
           "yaxis": {
            "backgroundcolor": "#E5ECF6",
            "gridcolor": "white",
            "gridwidth": 2,
            "linecolor": "white",
            "showbackground": true,
            "ticks": "",
            "zerolinecolor": "white"
           },
           "zaxis": {
            "backgroundcolor": "#E5ECF6",
            "gridcolor": "white",
            "gridwidth": 2,
            "linecolor": "white",
            "showbackground": true,
            "ticks": "",
            "zerolinecolor": "white"
           }
          },
          "shapedefaults": {
           "line": {
            "color": "#2a3f5f"
           }
          },
          "ternary": {
           "aaxis": {
            "gridcolor": "white",
            "linecolor": "white",
            "ticks": ""
           },
           "baxis": {
            "gridcolor": "white",
            "linecolor": "white",
            "ticks": ""
           },
           "bgcolor": "#E5ECF6",
           "caxis": {
            "gridcolor": "white",
            "linecolor": "white",
            "ticks": ""
           }
          },
          "title": {
           "x": 0.05
          },
          "xaxis": {
           "automargin": true,
           "gridcolor": "white",
           "linecolor": "white",
           "ticks": "",
           "title": {
            "standoff": 15
           },
           "zerolinecolor": "white",
           "zerolinewidth": 2
          },
          "yaxis": {
           "automargin": true,
           "gridcolor": "white",
           "linecolor": "white",
           "ticks": "",
           "title": {
            "standoff": 15
           },
           "zerolinecolor": "white",
           "zerolinewidth": 2
          }
         }
        },
        "width": 1300
       }
      }
     },
     "metadata": {},
     "output_type": "display_data"
    },
    {
     "name": "stdout",
     "output_type": "stream",
     "text": [
      "Kabsch distance is 0.07142510200677717\n"
     ]
    },
    {
     "data": {
      "text/plain": [
       "<Figure size 50000x50000 with 0 Axes>"
      ]
     },
     "metadata": {},
     "output_type": "display_data"
    }
   ],
   "source": [
    "test_true_structure = test_true_structures[GRAPH_TESTED]\n",
    "test_pred_structure = test_pred_structures[GRAPH_TESTED]\n",
    "\n",
    "test_pred_structure_superposed, test_true_structure_superposed = \\\n",
    "        kabsch_superimposition_numpy(test_pred_structure, test_true_structure, EMBEDDING_SIZE)\n",
    "\n",
    "x_pred = test_pred_structure_superposed[:, 0]  \n",
    "y_pred = test_pred_structure_superposed[:, 1]\n",
    "z_pred = test_pred_structure_superposed[:, 2]\n",
    "\n",
    "x_true = test_true_structure_superposed[:, 0]  \n",
    "y_true = test_true_structure_superposed[:, 1]\n",
    "z_true = test_true_structure_superposed[:, 2]\n",
    "pred_structure_unit_ball, true_structure_unit_ball = \\\n",
    "            kabsch_superimposition_numpy(test_pred_structure, test_true_structure, EMBEDDING_SIZE)\n",
    "d = np.negative(np.log(np.mean(np.divide(np.abs(pred_structure_unit_ball - true_structure_unit_ball),np.abs(true_structure_unit_ball)), axis=1)))\n",
    "\n",
    "colorscale1 = np.asarray(range(len(x_true)))\n",
    "colorscale2 = d\n",
    "color1 = 'Viridis'\n",
    "color2 = 'rainbow'\n",
    "plot_true_pred_structures(x_pred, y_pred, z_pred, x_true, y_true, z_true, colorscale1, colorscale2, color1, color2)\n",
    "\n",
    "# Shape comparison\n",
    "print('Kabsch distance is ' + str(kabsch_distance_numpy(test_pred_structure, test_true_structure, EMBEDDING_SIZE)))\n",
    "\n"
   ]
  },
  {
   "cell_type": "code",
   "execution_count": 17,
   "metadata": {},
   "outputs": [
    {
     "name": "stdout",
     "output_type": "stream",
     "text": [
      "tensor([0.7958], dtype=torch.float64)\n",
      "tensor([0.5416], dtype=torch.float64)\n"
     ]
    }
   ],
   "source": [
    "random_structure = np.random.random((202,3))\n",
    "test_true_structure = test_true_structures[GRAPH_TESTED]\n",
    "print(lddt(torch.from_numpy(test_pred_structure_superposed).unsqueeze(0), torch.from_numpy(test_true_structure_superposed).unsqueeze(0)))\n",
    "\n",
    "random_structure_superposed, true_to_random_structure_superposed = \\\n",
    "        kabsch_superimposition_numpy(random_structure, test_true_structure, EMBEDDING_SIZE)\n",
    "\n",
    "print(lddt(torch.from_numpy(random_structure_superposed).unsqueeze(0), torch.from_numpy(true_to_random_structure_superposed).unsqueeze(0)))\n",
    "#print(test_true_structures[GRAPH_TESTED].shape)\n"
   ]
  },
  {
   "cell_type": "code",
   "execution_count": 18,
   "metadata": {},
   "outputs": [],
   "source": [
    "make_gif(\"\", \"gifs/trussart_linear.gif\")"
   ]
  },
  {
   "cell_type": "code",
   "execution_count": 19,
   "metadata": {},
   "outputs": [
    {
     "data": {
      "application/vnd.plotly.v1+json": {
       "config": {
        "plotlyServerURL": "https://plot.ly"
       },
       "data": [
        {
         "line": {
          "color": "darkblue",
          "width": 2
         },
         "marker": {
          "color": [
           0,
           1,
           2,
           3,
           4,
           5,
           6,
           7,
           8,
           9,
           10,
           11,
           12,
           13,
           14,
           15,
           16,
           17,
           18,
           19,
           20,
           21,
           22,
           23,
           24,
           25,
           26,
           27,
           28,
           29,
           30,
           31,
           32,
           33,
           34,
           35,
           36,
           37,
           38,
           39,
           40,
           41,
           42,
           43,
           44,
           45,
           46,
           47,
           48,
           49,
           50,
           51,
           52,
           53,
           54,
           55,
           56,
           57,
           58,
           59,
           60,
           61,
           62,
           63,
           64,
           65,
           66,
           67,
           68,
           69,
           70,
           71,
           72,
           73,
           74,
           75,
           76,
           77,
           78,
           79,
           80,
           81,
           82,
           83,
           84,
           85,
           86,
           87,
           88,
           89,
           90,
           91,
           92,
           93,
           94,
           95,
           96,
           97,
           98,
           99,
           100,
           101,
           102,
           103,
           104,
           105,
           106,
           107,
           108,
           109,
           110,
           111,
           112,
           113,
           114,
           115,
           116,
           117,
           118,
           119,
           120,
           121,
           122,
           123,
           124,
           125,
           126,
           127,
           128,
           129,
           130,
           131,
           132,
           133,
           134,
           135,
           136,
           137,
           138,
           139,
           140,
           141,
           142,
           143,
           144,
           145,
           146,
           147,
           148,
           149,
           150,
           151,
           152,
           153,
           154,
           155,
           156,
           157,
           158,
           159,
           160,
           161,
           162,
           163,
           164,
           165,
           166,
           167,
           168,
           169,
           170,
           171,
           172,
           173,
           174,
           175,
           176,
           177,
           178,
           179,
           180,
           181,
           182,
           183,
           184,
           185,
           186,
           187,
           188,
           189,
           190,
           191,
           192,
           193,
           194,
           195,
           196,
           197,
           198,
           199,
           200,
           201
          ],
          "colorscale": [
           [
            0,
            "#440154"
           ],
           [
            0.1111111111111111,
            "#482878"
           ],
           [
            0.2222222222222222,
            "#3e4989"
           ],
           [
            0.3333333333333333,
            "#31688e"
           ],
           [
            0.4444444444444444,
            "#26828e"
           ],
           [
            0.5555555555555556,
            "#1f9e89"
           ],
           [
            0.6666666666666666,
            "#35b779"
           ],
           [
            0.7777777777777778,
            "#6ece58"
           ],
           [
            0.8888888888888888,
            "#b5de2b"
           ],
           [
            1,
            "#fde725"
           ]
          ],
          "size": 4
         },
         "scene": "scene",
         "type": "scatter3d",
         "x": [
          -0.11617447435855865,
          -0.03791821748018265,
          0.04670683667063713,
          0.13978135585784912,
          0.21786342561244965,
          0.2779562771320343,
          0.33708444237709045,
          0.38427045941352844,
          0.3807530403137207,
          0.3150673806667328,
          0.23885391652584076,
          0.15156598389148712,
          0.0769868940114975,
          0.020498061552643776,
          -0.030429817736148834,
          -0.029525181278586388,
          0.034680090844631195,
          0.10709412395954132,
          0.14884334802627563,
          0.2134513109922409,
          0.31550997495651245,
          0.36893129348754883,
          0.37515947222709656,
          0.41817790269851685,
          0.4840720295906067,
          0.5472744107246399,
          0.6268070936203003,
          0.6903325319290161,
          0.7529017925262451,
          0.801105797290802,
          0.8115475177764893,
          0.7648389935493469,
          0.6608444452285767,
          0.5548867583274841,
          0.4880940318107605,
          0.4807282090187073,
          0.4930410087108612,
          0.46825167536735535,
          0.38314536213874817,
          0.29053834080696106,
          0.19688716530799866,
          0.08741677552461624,
          -0.0021127176005393267,
          -0.06199466437101364,
          -0.08218128234148026,
          -0.11433529108762741,
          -0.1959468126296997,
          -0.29606926441192627,
          -0.40554285049438477,
          -0.5085029006004333,
          -0.5790907740592957,
          -0.5892248153686523,
          -0.527962327003479,
          -0.4748486578464508,
          -0.47052255272865295,
          -0.4990592300891876,
          -0.5149421095848083,
          -0.5274538397789001,
          -0.5681564807891846,
          -0.5679470300674438,
          -0.5570084452629089,
          -0.548595666885376,
          -0.5507451295852661,
          -0.5905041098594666,
          -0.6389787197113037,
          -0.6689842343330383,
          -0.67486172914505,
          -0.6482881307601929,
          -0.6002840399742126,
          -0.558573842048645,
          -0.495830774307251,
          -0.39958980679512024,
          -0.30579712986946106,
          -0.21815238893032074,
          -0.15734504163265228,
          -0.16126421093940735,
          -0.18848136067390442,
          -0.2504957914352417,
          -0.34184426069259644,
          -0.40205833315849304,
          -0.4127863943576813,
          -0.38963764905929565,
          -0.36868301033973694,
          -0.33054083585739136,
          -0.30159515142440796,
          -0.30301791429519653,
          -0.29788878560066223,
          -0.23774246871471405,
          -0.13075365126132965,
          -0.03620850667357445,
          0.05529852584004402,
          0.1623871624469757,
          0.22830073535442352,
          0.2598969042301178,
          0.31756365299224854,
          0.40321052074432373,
          0.47904109954833984,
          0.4961734414100647,
          0.48096582293510437,
          0.4402604401111603,
          0.35332679748535156,
          0.2716618776321411,
          0.19779075682163239,
          0.16831326484680176,
          0.1667747050523758,
          0.16374243795871735,
          0.15143708884716034,
          0.09772277623414993,
          0.02620856463909149,
          -0.0747554749250412,
          -0.16192710399627686,
          -0.18647699058055878,
          -0.1418759822845459,
          -0.05032235011458397,
          0.04975593090057373,
          0.15390858054161072,
          0.2393060177564621,
          0.30470964312553406,
          0.3932957053184509,
          0.47255197167396545,
          0.5545174479484558,
          0.6110402941703796,
          0.5719364881515503,
          0.5262590050697327,
          0.4842446744441986,
          0.4341636002063751,
          0.3661133348941803,
          0.26245781779289246,
          0.17612534761428833,
          0.08165481686592102,
          -0.0071396189741790295,
          -0.040169455111026764,
          -0.0004928436828777194,
          0.0689781978726387,
          0.11843700706958771,
          0.15375421941280365,
          0.21911579370498657,
          0.300586074590683,
          0.31245332956314087,
          0.29845061898231506,
          0.27475133538246155,
          0.21659766137599945,
          0.18014323711395264,
          0.2251301109790802,
          0.310329794883728,
          0.32799196243286133,
          0.28518280386924744,
          0.20526565611362457,
          0.10768815129995346,
          0.028870077803730965,
          0.02997404709458351,
          0.06375065445899963,
          0.11131700128316879,
          0.21647845208644867,
          0.31520676612854004,
          0.3869173526763916,
          0.46322470903396606,
          0.5268260836601257,
          0.5192321538925171,
          0.44961512088775635,
          0.3707701563835144,
          0.31225085258483887,
          0.25314927101135254,
          0.16950607299804688,
          0.06347664445638657,
          -0.04473896697163582,
          -0.1474660485982895,
          -0.24160709977149963,
          -0.32191628217697144,
          -0.38584014773368835,
          -0.43990612030029297,
          -0.4618932604789734,
          -0.4392291009426117,
          -0.41247251629829407,
          -0.39393100142478943,
          -0.356804758310318,
          -0.2860685884952545,
          -0.1966567188501358,
          -0.13455422222614288,
          -0.0996810793876648,
          -0.09654261916875839,
          -0.1651683747768402,
          -0.26332658529281616,
          -0.34172531962394714,
          -0.3839617371559143,
          -0.43135473132133484,
          -0.4918937385082245,
          -0.5613536238670349,
          -0.6317773461341858,
          -0.6438614726066589,
          -0.5855109095573425,
          -0.5008158683776855,
          -0.45847588777542114,
          -0.4599389433860779,
          -0.4394255578517914,
          -0.3731670379638672,
          -0.3345471918582916,
          -0.3575647175312042,
          -0.3643205761909485,
          -0.32028189301490784,
          -0.2560182213783264,
          -0.1860814094543457
         ],
         "y": [
          0.08944384008646011,
          0.10456705093383789,
          0.17024515569210052,
          0.1906794309616089,
          0.1639876812696457,
          0.12943466007709503,
          0.0637640431523323,
          -0.021527621895074844,
          -0.11860470473766327,
          -0.20944048464298248,
          -0.2648506462574005,
          -0.27936452627182007,
          -0.2918497622013092,
          -0.28507673740386963,
          -0.27077823877334595,
          -0.31209200620651245,
          -0.38138025999069214,
          -0.3876912295818329,
          -0.3447554111480713,
          -0.33904317021369934,
          -0.35171958804130554,
          -0.3652005195617676,
          -0.32231149077415466,
          -0.24067385494709015,
          -0.16297946870326996,
          -0.07863672822713852,
          -0.042407408356666565,
          -0.07883036136627197,
          -0.14399836957454681,
          -0.22695960104465485,
          -0.3393362760543823,
          -0.4030146598815918,
          -0.4075722396373749,
          -0.38767626881599426,
          -0.3426060378551483,
          -0.304920494556427,
          -0.3397584557533264,
          -0.43014150857925415,
          -0.49113357067108154,
          -0.5468339920043945,
          -0.5995942950248718,
          -0.6133477091789246,
          -0.5824869275093079,
          -0.5003607273101807,
          -0.4002910256385803,
          -0.3079233169555664,
          -0.26188573241233826,
          -0.25327935814857483,
          -0.2662299573421478,
          -0.2974162697792053,
          -0.2956964373588562,
          -0.23207983374595642,
          -0.16765131056308746,
          -0.20861339569091797,
          -0.31893083453178406,
          -0.4208136796951294,
          -0.5054690837860107,
          -0.5816763043403625,
          -0.6429061889648438,
          -0.6283171772956848,
          -0.5356317162513733,
          -0.4276777505874634,
          -0.32994091510772705,
          -0.24732047319412231,
          -0.1769239902496338,
          -0.10948801040649414,
          -0.022452285513281822,
          0.058561962097883224,
          0.07762019336223602,
          0.047900695353746414,
          0.06223253905773163,
          0.07548948377370834,
          0.01412722747772932,
          -0.05512925982475281,
          -0.12811556458473206,
          -0.19802318513393402,
          -0.2813737690448761,
          -0.35651257634162903,
          -0.39373794198036194,
          -0.3781268000602722,
          -0.2979300618171692,
          -0.21146048605442047,
          -0.1640245020389557,
          -0.15537643432617188,
          -0.1477801650762558,
          -0.09617730975151062,
          -0.011854184791445732,
          0.04596942663192749,
          0.045474857091903687,
          -0.011499599553644657,
          -0.07182607054710388,
          -0.09080544859170914,
          -0.13705003261566162,
          -0.2362939566373825,
          -0.32519838213920593,
          -0.3460320234298706,
          -0.2891803979873657,
          -0.19455398619174957,
          -0.10384543240070343,
          -0.048033617436885834,
          -0.04737265780568123,
          -0.09815527498722076,
          -0.1590769737958908,
          -0.23949792981147766,
          -0.34192514419555664,
          -0.4485032558441162,
          -0.5273098945617676,
          -0.5367690920829773,
          -0.5050246119499207,
          -0.4872592091560364,
          -0.4379856586456299,
          -0.34087586402893066,
          -0.25049617886543274,
          -0.22202256321907043,
          -0.26311007142066956,
          -0.2923086881637573,
          -0.29501041769981384,
          -0.31991517543792725,
          -0.3422630727291107,
          -0.3634049892425537,
          -0.40173083543777466,
          -0.36591026186943054,
          -0.27542853355407715,
          -0.20988929271697998,
          -0.13987746834754944,
          -0.06932556629180908,
          -0.029291648417711258,
          -0.00171661248896271,
          0.03076871670782566,
          0.04777258262038231,
          0.09442566335201263,
          0.18980374932289124,
          0.23490019142627716,
          0.24009782075881958,
          0.20724833011627197,
          0.1321128010749817,
          0.08672281354665756,
          0.10720702260732651,
          0.14340580999851227,
          0.12450236082077026,
          0.11353382468223572,
          0.15298992395401,
          0.22412486374378204,
          0.2880399823188782,
          0.34996238350868225,
          0.43252983689308167,
          0.5235256552696228,
          0.5935593843460083,
          0.6418600082397461,
          0.6364655494689941,
          0.5634911060333252,
          0.5230661034584045,
          0.4994216561317444,
          0.479474276304245,
          0.48645931482315063,
          0.47136497497558594,
          0.4434916079044342,
          0.41577982902526855,
          0.4275406301021576,
          0.4919506311416626,
          0.5221216678619385,
          0.5262734293937683,
          0.5622127056121826,
          0.5934078097343445,
          0.5974488854408264,
          0.6110447645187378,
          0.6389402151107788,
          0.68062824010849,
          0.7398400902748108,
          0.8018255233764648,
          0.8200320601463318,
          0.8043843507766724,
          0.8240656852722168,
          0.8155520558357239,
          0.7340626120567322,
          0.6390692591667175,
          0.5568426251411438,
          0.49106502532958984,
          0.45649421215057373,
          0.4639952778816223,
          0.43877360224723816,
          0.40775901079177856,
          0.4316701591014862,
          0.48603880405426025,
          0.5614582896232605,
          0.5862489342689514,
          0.5205937027931213,
          0.43908944725990295,
          0.3610502779483795,
          0.27939823269844055,
          0.2130986601114273,
          0.1721285730600357,
          0.1765373945236206,
          0.20296573638916016,
          0.24594762921333313,
          0.3072813153266907,
          0.3565193712711334,
          0.38340631127357483,
          0.36521443724632263,
          0.29151588678359985,
          0.20925965905189514,
          0.13662992417812347
         ],
         "z": [
          0.0015235014725476503,
          0.0710795670747757,
          0.09527832269668579,
          0.10775916278362274,
          0.17181305587291718,
          0.25904151797294617,
          0.3295414447784424,
          0.38760286569595337,
          0.40765181183815,
          0.3988074064254761,
          0.35320934653282166,
          0.2866070866584778,
          0.21113084256649017,
          0.118867889046669,
          0.02304605208337307,
          -0.07114555686712265,
          -0.1188393384218216,
          -0.08403432369232178,
          0.010931352153420448,
          0.08979623019695282,
          0.13861143589019775,
          0.21721293032169342,
          0.29195544123649597,
          0.3427621126174927,
          0.37634262442588806,
          0.4059906303882599,
          0.39808014035224915,
          0.32434600591659546,
          0.2613222599029541,
          0.22573857009410858,
          0.21586120128631592,
          0.23812969028949738,
          0.28376099467277527,
          0.3111441731452942,
          0.36278802156448364,
          0.4667399227619171,
          0.5568886399269104,
          0.6035128831863403,
          0.6293235421180725,
          0.6511960029602051,
          0.6471812725067139,
          0.6205459833145142,
          0.5739948749542236,
          0.5323333740234375,
          0.496381551027298,
          0.47673922777175903,
          0.5196296572685242,
          0.5649583339691162,
          0.5833212733268738,
          0.5673872232437134,
          0.4916791319847107,
          0.413148432970047,
          0.363716721534729,
          0.33949390053749084,
          0.35640162229537964,
          0.3764967620372772,
          0.3355758488178253,
          0.2634272873401642,
          0.18189090490341187,
          0.0889878049492836,
          0.05014576017856598,
          0.07541888952255249,
          0.12732481956481934,
          0.1928006112575531,
          0.26798728108406067,
          0.26162993907928467,
          0.19765417277812958,
          0.13598664104938507,
          0.04096229374408722,
          -0.05980957671999931,
          -0.10685364156961441,
          -0.1023545116186142,
          -0.1042095422744751,
          -0.09485973417758942,
          -0.04614120349287987,
          0.035280339419841766,
          0.08916141092777252,
          0.09596333652734756,
          0.056425295770168304,
          -0.022591955959796906,
          -0.09327483922243118,
          -0.16275116801261902,
          -0.25753113627433777,
          -0.3622768223285675,
          -0.46794968843460083,
          -0.5594713687896729,
          -0.6350038051605225,
          -0.6825443506240845,
          -0.6896320581436157,
          -0.6998043060302734,
          -0.7226849794387817,
          -0.7305716872215271,
          -0.7516896724700928,
          -0.7612461447715759,
          -0.7238020300865173,
          -0.6834284663200378,
          -0.6310440897941589,
          -0.5984575152397156,
          -0.5542627573013306,
          -0.46954089403152466,
          -0.4312991797924042,
          -0.4718100130558014,
          -0.4946734607219696,
          -0.4560239613056183,
          -0.42063501477241516,
          -0.3966008722782135,
          -0.4287864565849304,
          -0.5200901627540588,
          -0.5995749831199646,
          -0.6324400305747986,
          -0.6293631196022034,
          -0.6529648900032043,
          -0.6742022633552551,
          -0.6509743332862854,
          -0.6201382279396057,
          -0.6053112149238586,
          -0.5551913380622864,
          -0.4689936339855194,
          -0.4081385135650635,
          -0.3392731249332428,
          -0.2930269241333008,
          -0.3135232627391815,
          -0.3260691165924072,
          -0.2672232389450073,
          -0.21297357976436615,
          -0.16044235229492188,
          -0.10843795537948608,
          -0.1295686811208725,
          -0.19298624992370605,
          -0.2363925725221634,
          -0.24025239050388336,
          -0.26780498027801514,
          -0.3362596035003662,
          -0.4231570065021515,
          -0.5031384825706482,
          -0.5789008140563965,
          -0.6449452042579651,
          -0.6335415840148926,
          -0.5463868379592896,
          -0.44185683131217957,
          -0.34325629472732544,
          -0.256570965051651,
          -0.18090961873531342,
          -0.14018131792545319,
          -0.11446288228034973,
          -0.0577113963663578,
          -0.018912438303232193,
          -0.026293694972991943,
          -0.05704766511917114,
          -0.10915915668010712,
          -0.16258665919303894,
          -0.24124476313591003,
          -0.31774985790252686,
          -0.3336116671562195,
          -0.29145777225494385,
          -0.20825226604938507,
          -0.13199588656425476,
          -0.04960951581597328,
          0.04202871769666672,
          0.08896218240261078,
          0.140762597322464,
          0.23718708753585815,
          0.32274213433265686,
          0.3856574296951294,
          0.4170374274253845,
          0.4405893385410309,
          0.479013592004776,
          0.5230984687805176,
          0.5223917961120605,
          0.4549751579761505,
          0.3661012053489685,
          0.2623169422149658,
          0.15920566022396088,
          0.06724066287279129,
          -0.004784636665135622,
          -0.045288439840078354,
          -0.06690087914466858,
          -0.06966770440340042,
          -0.009762750007212162,
          0.09582382440567017,
          0.1859564334154129,
          0.24655179679393768,
          0.2962503135204315,
          0.35284048318862915,
          0.4219105541706085,
          0.5023722648620605,
          0.5387599468231201,
          0.5485315918922424,
          0.5443248748779297,
          0.5708574056625366,
          0.619621753692627,
          0.5830268859863281,
          0.48675402998924255,
          0.37645795941352844,
          0.28021514415740967,
          0.2153976857662201,
          0.1375533789396286,
          0.03129434585571289,
          -0.06791438162326813,
          -0.13172951340675354,
          -0.12197016179561615,
          -0.06899110972881317
         ]
        },
        {
         "line": {
          "color": "darkblue",
          "width": 2
         },
         "marker": {
          "color": [
           0,
           1,
           2,
           3,
           4,
           5,
           6,
           7,
           8,
           9,
           10,
           11,
           12,
           13,
           14,
           15,
           16,
           17,
           18,
           19,
           20,
           21,
           22,
           23,
           24,
           25,
           26,
           27,
           28,
           29,
           30,
           31,
           32,
           33,
           34,
           35,
           36,
           37,
           38,
           39,
           40,
           41,
           42,
           43,
           44,
           45,
           46,
           47,
           48,
           49,
           50,
           51,
           52,
           53,
           54,
           55,
           56,
           57,
           58,
           59,
           60,
           61,
           62,
           63,
           64,
           65,
           66,
           67,
           68,
           69,
           70,
           71,
           72,
           73,
           74,
           75,
           76,
           77,
           78,
           79,
           80,
           81,
           82,
           83,
           84,
           85,
           86,
           87,
           88,
           89,
           90,
           91,
           92,
           93,
           94,
           95,
           96,
           97,
           98,
           99,
           100,
           101,
           102,
           103,
           104,
           105,
           106,
           107,
           108,
           109,
           110,
           111,
           112,
           113,
           114,
           115,
           116,
           117,
           118,
           119,
           120,
           121,
           122,
           123,
           124,
           125,
           126,
           127,
           128,
           129,
           130,
           131,
           132,
           133,
           134,
           135,
           136,
           137,
           138,
           139,
           140,
           141,
           142,
           143,
           144,
           145,
           146,
           147,
           148,
           149,
           150,
           151,
           152,
           153,
           154,
           155,
           156,
           157,
           158,
           159,
           160,
           161,
           162,
           163,
           164,
           165,
           166,
           167,
           168,
           169,
           170,
           171,
           172,
           173,
           174,
           175,
           176,
           177,
           178,
           179,
           180,
           181,
           182,
           183,
           184,
           185,
           186,
           187,
           188,
           189,
           190,
           191,
           192,
           193,
           194,
           195,
           196,
           197,
           198,
           199,
           200,
           201
          ],
          "colorscale": [
           [
            0,
            "#440154"
           ],
           [
            0.1111111111111111,
            "#482878"
           ],
           [
            0.2222222222222222,
            "#3e4989"
           ],
           [
            0.3333333333333333,
            "#31688e"
           ],
           [
            0.4444444444444444,
            "#26828e"
           ],
           [
            0.5555555555555556,
            "#1f9e89"
           ],
           [
            0.6666666666666666,
            "#35b779"
           ],
           [
            0.7777777777777778,
            "#6ece58"
           ],
           [
            0.8888888888888888,
            "#b5de2b"
           ],
           [
            1,
            "#fde725"
           ]
          ],
          "size": 4
         },
         "scene": "scene2",
         "type": "scatter3d",
         "x": [
          -0.13858974127458587,
          -0.044895221469170535,
          0.127406162339736,
          0.1894549878833696,
          0.23538980122553224,
          0.2803520653666558,
          0.3118494054165787,
          0.34861295809259013,
          0.3607542038938959,
          0.3691402812519375,
          0.3591901721699866,
          0.3295499193762249,
          0.2727951266185531,
          0.14853736988291208,
          -0.0010525738234735229,
          -0.06810120528468777,
          -0.028879225726796215,
          0.08837242575428676,
          0.26749301272113907,
          0.3557017555414115,
          0.4058413190094657,
          0.43141585045279407,
          0.4006268334555321,
          0.3829140798153966,
          0.3629948682995054,
          0.4336165978261323,
          0.39839597135710025,
          0.4350789999488896,
          0.4211062189467189,
          0.4490459610569831,
          0.4555367764598961,
          0.4480561513018011,
          0.3815496806986034,
          0.4004987646225925,
          0.39631917244657894,
          0.3696899632960986,
          0.36653411251169565,
          0.33605936762976474,
          0.272560101670105,
          0.20241309428804327,
          0.18361159982922598,
          0.18027543325181883,
          0.13283051221926453,
          0.12504608089088481,
          0.01520373967875486,
          -0.042807653279323066,
          -0.20118318208921607,
          -0.383661059247031,
          -0.4726795808051448,
          -0.5169144704272474,
          -0.5536608177864856,
          -0.592522449021266,
          -0.5572432472180255,
          -0.5074325162709301,
          -0.4507422714751126,
          -0.44710989211211816,
          -0.4335853722094937,
          -0.43304521952964925,
          -0.48707592459615484,
          -0.481611555068245,
          -0.4467555082208214,
          -0.4728592559716681,
          -0.4380803830915519,
          -0.49150296316253056,
          -0.558367391092866,
          -0.6165368888822131,
          -0.6179635220832395,
          -0.5860349516661304,
          -0.5460639159852186,
          -0.4967082295326129,
          -0.4714510966540907,
          -0.4045840275328843,
          -0.3231873573072592,
          -0.22652857343787125,
          -0.15254681082288551,
          -0.14969557416534707,
          -0.1320418898962965,
          -0.17922053293064244,
          -0.24855457720716984,
          -0.2789232772472083,
          -0.31943317736862004,
          -0.34134249352854446,
          -0.2999290340555426,
          -0.24781423558669458,
          -0.15302789929652993,
          -0.13749453379753238,
          -0.14758801823387316,
          -0.13638575252186502,
          -0.060141421911746144,
          0.07730439847985203,
          0.1424168924756315,
          0.21510017828169217,
          0.2952475453673902,
          0.29745806360774646,
          0.34865258651725717,
          0.35736478849832964,
          0.3586352504086636,
          0.3701245005973784,
          0.3410805494201635,
          0.32628007142840026,
          0.29975054743261775,
          0.2692424014610705,
          0.22417494956692233,
          0.181099581527031,
          0.16266846172581867,
          0.1550743245636324,
          0.1850546776652957,
          0.20244456928388851,
          0.22053375611483705,
          0.18051751607228284,
          0.1614842666323786,
          0.09129258012124995,
          0.08064394098789604,
          0.07388094568265181,
          0.13256377320753254,
          0.19326727824682932,
          0.22255794993059944,
          0.23537227046426945,
          0.24637266755385268,
          0.3019296746439308,
          0.31792136063723364,
          0.3287643525892906,
          0.3252192991047944,
          0.35073610013169676,
          0.3433768566027831,
          0.31699407693411147,
          0.3175189417747052,
          0.29519142601680964,
          0.22883754129639014,
          0.17681732649784104,
          0.1481534895561071,
          0.12670025922850245,
          0.13871386432483856,
          0.1693379727343967,
          0.2282552054069314,
          0.24041276569734432,
          0.2698650934043269,
          0.3263190725466762,
          0.3255892460765592,
          0.2896134305617725,
          0.2895595778449718,
          0.2652076356983687,
          0.2474197059057479,
          0.2268187261015273,
          0.2711425714775594,
          0.2686955712879139,
          0.27063364296507053,
          0.2404330353171463,
          0.238946153758577,
          0.1680193396792475,
          0.1467937509563363,
          0.17140761348351644,
          0.2422266717064813,
          0.26050381260439237,
          0.2784974506133655,
          0.30359397453452336,
          0.30474656209832124,
          0.3489973369648733,
          0.34690827479952924,
          0.3141102788260369,
          0.2962194512791824,
          0.2680406472797972,
          0.2591843527777435,
          0.20891239195609307,
          -0.00014462469405077417,
          -0.07409386062317116,
          -0.17490302215216855,
          -0.27164141751221677,
          -0.2895044853120292,
          -0.347290301838619,
          -0.37543810927856164,
          -0.4689097506122258,
          -0.5327345696724783,
          -0.517939470023518,
          -0.5010758658001131,
          -0.4461775269179133,
          -0.32058272124255144,
          -0.23313317596782215,
          -0.0920878799947043,
          -0.14341809900217464,
          -0.16086376975699807,
          -0.2186016292082424,
          -0.2924374984054862,
          -0.3803305835582456,
          -0.42519819517404117,
          -0.4581456504393809,
          -0.5209348940780154,
          -0.5711419915334485,
          -0.6410168932651618,
          -0.6944712327905079,
          -0.6953965197638091,
          -0.5890667816035311,
          -0.49199145097576724,
          -0.42138167388531594,
          -0.41216788942563093,
          -0.463630213471478,
          -0.38207383086977337,
          -0.3763693278905603,
          -0.3692656342998127,
          -0.32875649589196737,
          -0.35747845760760394,
          -0.3194231767226541
         ],
         "y": [
          0.12757218767383835,
          0.14322596167542984,
          0.208069065312515,
          0.2570531855847516,
          0.23091992545318743,
          0.14982755556314148,
          0.087090152807555,
          -0.023218057510051546,
          -0.1081320816445283,
          -0.1474205276377611,
          -0.20148349349264957,
          -0.17998439826948395,
          -0.22833613291899624,
          -0.25586538828536026,
          -0.3072752105591404,
          -0.34756873053715315,
          -0.41421191821849884,
          -0.43387545979505665,
          -0.361620332333123,
          -0.31231729269291636,
          -0.30312653896484765,
          -0.31880954122438154,
          -0.30314666247014704,
          -0.22762884360906785,
          -0.1988655960444894,
          -0.1823958128421001,
          -0.09189725723949888,
          -0.0899035279189195,
          -0.1488421752133712,
          -0.1575009114655417,
          -0.2207782989681677,
          -0.3414592993834549,
          -0.37387412956625854,
          -0.36145952701431294,
          -0.34342826181723496,
          -0.28201353190517164,
          -0.34194219330020215,
          -0.39113917931008524,
          -0.5176140491761317,
          -0.571442002407419,
          -0.6165428221064578,
          -0.638024092612355,
          -0.6249621740746706,
          -0.5591469638265862,
          -0.4065130443763301,
          -0.24003802078278544,
          -0.2372166253516408,
          -0.23862905092699477,
          -0.1785579876732904,
          -0.24646986519862674,
          -0.279235905913191,
          -0.22293307606694554,
          -0.1685581685781335,
          -0.14836923477782119,
          -0.20554646598616602,
          -0.3557548602889576,
          -0.47669223830177143,
          -0.6179611378526347,
          -0.5876942083775792,
          -0.5959324310339473,
          -0.5433156010933784,
          -0.46791073708073944,
          -0.3911729681888261,
          -0.246578480638406,
          -0.13876084326593333,
          -0.1036585311513505,
          -0.06640056755155896,
          0.047982294500482706,
          0.09076449398058642,
          0.08671375256467666,
          0.08342091168240817,
          0.11543069026583881,
          0.06940211829135731,
          -0.013905522545158505,
          -0.15146002627303706,
          -0.2267350050100467,
          -0.3022296303296481,
          -0.3495146595199421,
          -0.42417911359622973,
          -0.41499430582165836,
          -0.3515519220071055,
          -0.2536920989719481,
          -0.20590957959008196,
          -0.17600836944170486,
          -0.14777823909750157,
          -0.07995774068296986,
          -0.019140682752359032,
          0.019624884504827047,
          0.07727288821376779,
          0.0011099031598478916,
          -0.11492973739060704,
          -0.15894790855127988,
          -0.1991327999458131,
          -0.1001387374367645,
          -0.21573922673145873,
          -0.17163825638812003,
          -0.2304526474673808,
          -0.24269389488554252,
          -0.19852257504265836,
          -0.11269148461402884,
          -0.09512291675637452,
          -0.10232690100862062,
          -0.16625157654361158,
          -0.24509002604637994,
          -0.3717916579068824,
          -0.41461966814056306,
          -0.4528477411170178,
          -0.41355492991858894,
          -0.43586689200296636,
          -0.3905853269411832,
          -0.4035483944757416,
          -0.32734308246437654,
          -0.2777000065559992,
          -0.28253084443518806,
          -0.2909779000389099,
          -0.3252491863612401,
          -0.3238856975493249,
          -0.33908037994738316,
          -0.39555839869512216,
          -0.3960638084482117,
          -0.42733401715772695,
          -0.4455687230877851,
          -0.38685156283722316,
          -0.24815527024664408,
          -0.16074794381362434,
          -0.08363767787028302,
          -0.05131420853320588,
          -0.01983109266144348,
          0.007456771770792241,
          0.05413631272820255,
          0.07535814471629738,
          0.11907693103749488,
          0.16184438201495865,
          0.17499855089329847,
          0.16874412763599156,
          0.15157485919617825,
          0.10609018496879861,
          0.14879411546336188,
          0.1508525266191857,
          0.10856266382044542,
          0.0793229460031596,
          0.06730766327195935,
          0.10977928778653795,
          0.2001168933696696,
          0.28456761209856285,
          0.38526795051944235,
          0.45627701328650494,
          0.5126936675685585,
          0.5572950920101764,
          0.5639993890229242,
          0.4937312701305005,
          0.4646362094184013,
          0.42334793347047245,
          0.4170706347761768,
          0.40542534409755343,
          0.42466248670334034,
          0.41333273754291566,
          0.39431083078975465,
          0.39775026404576264,
          0.4627551828088657,
          0.5064427893935479,
          0.5080405082439298,
          0.515766332028786,
          0.6263826640944606,
          0.5880286535491379,
          0.6290883018044325,
          0.6403800941805756,
          0.6833061708936164,
          0.7417441398218956,
          0.8206541449879802,
          0.8421873615761643,
          0.8223722600991418,
          0.8195920860256013,
          0.8462021802399016,
          0.7727851495092053,
          0.6548431660777496,
          0.5324844023645886,
          0.45103969562994767,
          0.40042214440728247,
          0.3974423526467504,
          0.39860280141902643,
          0.36668046647476693,
          0.39683557016278237,
          0.46433766365113843,
          0.5585682521183485,
          0.6337295744529045,
          0.6394129557874465,
          0.5651510546423624,
          0.4784924169472925,
          0.395960134445681,
          0.3133533282327882,
          0.24574966163305806,
          0.21351041073936805,
          0.21573957291009885,
          0.2447934076452664,
          0.27350840921373626,
          0.35415483226868244,
          0.3783680387315939,
          0.3580441762791632,
          0.30319313109360246,
          0.2547660810279565,
          0.2377512703434695
         ],
         "z": [
          -0.007347708940947765,
          0.054502253586130756,
          0.04263347060140325,
          0.0445524279473279,
          0.05992228724635208,
          0.0823456866606804,
          0.18235575181229524,
          0.23722353639767751,
          0.2961317062297997,
          0.2944310554093352,
          0.26166959816494106,
          0.24668989975643568,
          0.19435686347766085,
          0.11636280249543095,
          0.04099661857004416,
          0.01508825352656066,
          -0.036806199784059405,
          -0.1471526647396274,
          -0.044604547593993814,
          0.058421037467178076,
          0.07757067091135143,
          0.0945471060732115,
          0.18054220116422603,
          0.25129330754686385,
          0.2660756976627278,
          0.3055709193772228,
          0.3178547614590967,
          0.27908934823808285,
          0.2326515287868449,
          0.2090491320884163,
          0.16189638083202237,
          0.15103019255739325,
          0.20097798507282752,
          0.21943638746915134,
          0.2541973698898751,
          0.33526773049202824,
          0.42780423880495566,
          0.5109757047514485,
          0.5295514446483058,
          0.5406658988073824,
          0.5596506961608892,
          0.5406403766288764,
          0.536938844210272,
          0.4565890699576068,
          0.38533019464482393,
          0.34690930127065794,
          0.3579435189821198,
          0.39052409196294624,
          0.5429678775706269,
          0.5851579093450598,
          0.5608043596460727,
          0.5142229784697195,
          0.4027679369024462,
          0.344895278303807,
          0.2994332592511121,
          0.35997768897524984,
          0.37537952953171033,
          0.28001957378196984,
          0.1930531029217654,
          0.10900890903240308,
          0.07436246240869093,
          0.03795399684886866,
          0.015387494457833072,
          0.0791739805364993,
          0.24601665088410044,
          0.2813997852455117,
          0.29339064746716903,
          0.2715501745637572,
          0.18230116729917487,
          0.05519510962764511,
          -0.02340357624564618,
          -0.05881543055771403,
          -0.0869566994901546,
          -0.0788381035810398,
          -0.06454057470038407,
          -0.03809644831145873,
          -0.014585796383724776,
          -0.03514073372430707,
          -0.03016709625570041,
          -0.03634136608804031,
          -0.10007062558903737,
          -0.10070743687520771,
          -0.10415595223761802,
          -0.18468441944457184,
          -0.317485307130217,
          -0.39345794569471504,
          -0.4265641555821967,
          -0.4543053075504168,
          -0.4776621306229059,
          -0.5086324622713662,
          -0.5453369917731978,
          -0.638215441184056,
          -0.680548902647763,
          -0.7418515989208178,
          -0.7106362114361434,
          -0.6939790525898653,
          -0.701301447682995,
          -0.6807661351323291,
          -0.6494420979315135,
          -0.4682369995402178,
          -0.34894677214951986,
          -0.33131276494275524,
          -0.38114047102936754,
          -0.42486092152763183,
          -0.44016772874486815,
          -0.41556824745494886,
          -0.44907907313797796,
          -0.5334048929161412,
          -0.5846842757271102,
          -0.5910697158910017,
          -0.5762829355218377,
          -0.539915980560199,
          -0.5487339794334073,
          -0.5446215510579447,
          -0.5351472262015333,
          -0.580051623179201,
          -0.5815428819895767,
          -0.5524586213505716,
          -0.4804519398189346,
          -0.40846201928546894,
          -0.4195645517245519,
          -0.40943626922409443,
          -0.3986266356504954,
          -0.31391955122948817,
          -0.23889246374200396,
          -0.20121265172416772,
          -0.18982376659893044,
          -0.14160158256531893,
          -0.17083216287563155,
          -0.18367848114969135,
          -0.17979984191563939,
          -0.17912048910228484,
          -0.21876884679815176,
          -0.24809725765514465,
          -0.28652309504858103,
          -0.3314889574974854,
          -0.4117295388807679,
          -0.5616276085528035,
          -0.4563647162737327,
          -0.3387478822214063,
          -0.26886895515657955,
          -0.22666301143964313,
          -0.19572368051827516,
          -0.12673556503334574,
          -0.08381728506068056,
          -0.06174513153611066,
          -0.041530377621343866,
          -0.02568603671445931,
          -0.03262423817357258,
          0.016449527512247854,
          -0.024539118938648456,
          -0.09200569961067293,
          -0.15345971005236592,
          -0.19953989934520594,
          -0.20440774747648116,
          -0.1672894223921961,
          -0.12588902479484548,
          -0.07424076362233882,
          -0.00876664309617196,
          0.003855194141947259,
          0.02653453952769412,
          0.02972003398221009,
          0.08166007025780873,
          0.163536281054671,
          0.20952199313850506,
          0.27684353694167846,
          0.3071349167373739,
          0.3246765718655646,
          0.2797210224856392,
          0.25330039347402844,
          0.24766964210224288,
          0.18411815879350382,
          0.15375157901247813,
          0.1252222110682193,
          0.1381948443000172,
          0.17911673315699958,
          0.22026793059579486,
          0.17661056645706036,
          0.13245361470190348,
          0.12149227578037874,
          0.19737154266380763,
          0.2647598812273887,
          0.2845305318011981,
          0.316499987398577,
          0.34839532522546557,
          0.3208976764155372,
          0.3895630380230763,
          0.4067565967020771,
          0.4462312061945881,
          0.5642484726857078,
          0.626163496602865,
          0.6171933879630239,
          0.5697228416550488,
          0.43143769863641573,
          0.3733387681607892,
          0.2818809415322676,
          0.29521403338335805,
          0.2369335736518245,
          0.14975069243376996,
          0.005286218040037818,
          -0.0746366783946373,
          -0.03393792219458116
         ]
        }
       ],
       "layout": {
        "height": 1000,
        "scene": {
         "domain": {
          "x": [
           0,
           0.45
          ],
          "y": [
           0,
           1
          ]
         }
        },
        "scene2": {
         "domain": {
          "x": [
           0.55,
           1
          ],
          "y": [
           0,
           1
          ]
         }
        },
        "template": {
         "data": {
          "bar": [
           {
            "error_x": {
             "color": "#2a3f5f"
            },
            "error_y": {
             "color": "#2a3f5f"
            },
            "marker": {
             "line": {
              "color": "#E5ECF6",
              "width": 0.5
             }
            },
            "type": "bar"
           }
          ],
          "barpolar": [
           {
            "marker": {
             "line": {
              "color": "#E5ECF6",
              "width": 0.5
             }
            },
            "type": "barpolar"
           }
          ],
          "carpet": [
           {
            "aaxis": {
             "endlinecolor": "#2a3f5f",
             "gridcolor": "white",
             "linecolor": "white",
             "minorgridcolor": "white",
             "startlinecolor": "#2a3f5f"
            },
            "baxis": {
             "endlinecolor": "#2a3f5f",
             "gridcolor": "white",
             "linecolor": "white",
             "minorgridcolor": "white",
             "startlinecolor": "#2a3f5f"
            },
            "type": "carpet"
           }
          ],
          "choropleth": [
           {
            "colorbar": {
             "outlinewidth": 0,
             "ticks": ""
            },
            "type": "choropleth"
           }
          ],
          "contour": [
           {
            "colorbar": {
             "outlinewidth": 0,
             "ticks": ""
            },
            "colorscale": [
             [
              0,
              "#0d0887"
             ],
             [
              0.1111111111111111,
              "#46039f"
             ],
             [
              0.2222222222222222,
              "#7201a8"
             ],
             [
              0.3333333333333333,
              "#9c179e"
             ],
             [
              0.4444444444444444,
              "#bd3786"
             ],
             [
              0.5555555555555556,
              "#d8576b"
             ],
             [
              0.6666666666666666,
              "#ed7953"
             ],
             [
              0.7777777777777778,
              "#fb9f3a"
             ],
             [
              0.8888888888888888,
              "#fdca26"
             ],
             [
              1,
              "#f0f921"
             ]
            ],
            "type": "contour"
           }
          ],
          "contourcarpet": [
           {
            "colorbar": {
             "outlinewidth": 0,
             "ticks": ""
            },
            "type": "contourcarpet"
           }
          ],
          "heatmap": [
           {
            "colorbar": {
             "outlinewidth": 0,
             "ticks": ""
            },
            "colorscale": [
             [
              0,
              "#0d0887"
             ],
             [
              0.1111111111111111,
              "#46039f"
             ],
             [
              0.2222222222222222,
              "#7201a8"
             ],
             [
              0.3333333333333333,
              "#9c179e"
             ],
             [
              0.4444444444444444,
              "#bd3786"
             ],
             [
              0.5555555555555556,
              "#d8576b"
             ],
             [
              0.6666666666666666,
              "#ed7953"
             ],
             [
              0.7777777777777778,
              "#fb9f3a"
             ],
             [
              0.8888888888888888,
              "#fdca26"
             ],
             [
              1,
              "#f0f921"
             ]
            ],
            "type": "heatmap"
           }
          ],
          "heatmapgl": [
           {
            "colorbar": {
             "outlinewidth": 0,
             "ticks": ""
            },
            "colorscale": [
             [
              0,
              "#0d0887"
             ],
             [
              0.1111111111111111,
              "#46039f"
             ],
             [
              0.2222222222222222,
              "#7201a8"
             ],
             [
              0.3333333333333333,
              "#9c179e"
             ],
             [
              0.4444444444444444,
              "#bd3786"
             ],
             [
              0.5555555555555556,
              "#d8576b"
             ],
             [
              0.6666666666666666,
              "#ed7953"
             ],
             [
              0.7777777777777778,
              "#fb9f3a"
             ],
             [
              0.8888888888888888,
              "#fdca26"
             ],
             [
              1,
              "#f0f921"
             ]
            ],
            "type": "heatmapgl"
           }
          ],
          "histogram": [
           {
            "marker": {
             "colorbar": {
              "outlinewidth": 0,
              "ticks": ""
             }
            },
            "type": "histogram"
           }
          ],
          "histogram2d": [
           {
            "colorbar": {
             "outlinewidth": 0,
             "ticks": ""
            },
            "colorscale": [
             [
              0,
              "#0d0887"
             ],
             [
              0.1111111111111111,
              "#46039f"
             ],
             [
              0.2222222222222222,
              "#7201a8"
             ],
             [
              0.3333333333333333,
              "#9c179e"
             ],
             [
              0.4444444444444444,
              "#bd3786"
             ],
             [
              0.5555555555555556,
              "#d8576b"
             ],
             [
              0.6666666666666666,
              "#ed7953"
             ],
             [
              0.7777777777777778,
              "#fb9f3a"
             ],
             [
              0.8888888888888888,
              "#fdca26"
             ],
             [
              1,
              "#f0f921"
             ]
            ],
            "type": "histogram2d"
           }
          ],
          "histogram2dcontour": [
           {
            "colorbar": {
             "outlinewidth": 0,
             "ticks": ""
            },
            "colorscale": [
             [
              0,
              "#0d0887"
             ],
             [
              0.1111111111111111,
              "#46039f"
             ],
             [
              0.2222222222222222,
              "#7201a8"
             ],
             [
              0.3333333333333333,
              "#9c179e"
             ],
             [
              0.4444444444444444,
              "#bd3786"
             ],
             [
              0.5555555555555556,
              "#d8576b"
             ],
             [
              0.6666666666666666,
              "#ed7953"
             ],
             [
              0.7777777777777778,
              "#fb9f3a"
             ],
             [
              0.8888888888888888,
              "#fdca26"
             ],
             [
              1,
              "#f0f921"
             ]
            ],
            "type": "histogram2dcontour"
           }
          ],
          "mesh3d": [
           {
            "colorbar": {
             "outlinewidth": 0,
             "ticks": ""
            },
            "type": "mesh3d"
           }
          ],
          "parcoords": [
           {
            "line": {
             "colorbar": {
              "outlinewidth": 0,
              "ticks": ""
             }
            },
            "type": "parcoords"
           }
          ],
          "pie": [
           {
            "automargin": true,
            "type": "pie"
           }
          ],
          "scatter": [
           {
            "marker": {
             "colorbar": {
              "outlinewidth": 0,
              "ticks": ""
             }
            },
            "type": "scatter"
           }
          ],
          "scatter3d": [
           {
            "line": {
             "colorbar": {
              "outlinewidth": 0,
              "ticks": ""
             }
            },
            "marker": {
             "colorbar": {
              "outlinewidth": 0,
              "ticks": ""
             }
            },
            "type": "scatter3d"
           }
          ],
          "scattercarpet": [
           {
            "marker": {
             "colorbar": {
              "outlinewidth": 0,
              "ticks": ""
             }
            },
            "type": "scattercarpet"
           }
          ],
          "scattergeo": [
           {
            "marker": {
             "colorbar": {
              "outlinewidth": 0,
              "ticks": ""
             }
            },
            "type": "scattergeo"
           }
          ],
          "scattergl": [
           {
            "marker": {
             "colorbar": {
              "outlinewidth": 0,
              "ticks": ""
             }
            },
            "type": "scattergl"
           }
          ],
          "scattermapbox": [
           {
            "marker": {
             "colorbar": {
              "outlinewidth": 0,
              "ticks": ""
             }
            },
            "type": "scattermapbox"
           }
          ],
          "scatterpolar": [
           {
            "marker": {
             "colorbar": {
              "outlinewidth": 0,
              "ticks": ""
             }
            },
            "type": "scatterpolar"
           }
          ],
          "scatterpolargl": [
           {
            "marker": {
             "colorbar": {
              "outlinewidth": 0,
              "ticks": ""
             }
            },
            "type": "scatterpolargl"
           }
          ],
          "scatterternary": [
           {
            "marker": {
             "colorbar": {
              "outlinewidth": 0,
              "ticks": ""
             }
            },
            "type": "scatterternary"
           }
          ],
          "surface": [
           {
            "colorbar": {
             "outlinewidth": 0,
             "ticks": ""
            },
            "colorscale": [
             [
              0,
              "#0d0887"
             ],
             [
              0.1111111111111111,
              "#46039f"
             ],
             [
              0.2222222222222222,
              "#7201a8"
             ],
             [
              0.3333333333333333,
              "#9c179e"
             ],
             [
              0.4444444444444444,
              "#bd3786"
             ],
             [
              0.5555555555555556,
              "#d8576b"
             ],
             [
              0.6666666666666666,
              "#ed7953"
             ],
             [
              0.7777777777777778,
              "#fb9f3a"
             ],
             [
              0.8888888888888888,
              "#fdca26"
             ],
             [
              1,
              "#f0f921"
             ]
            ],
            "type": "surface"
           }
          ],
          "table": [
           {
            "cells": {
             "fill": {
              "color": "#EBF0F8"
             },
             "line": {
              "color": "white"
             }
            },
            "header": {
             "fill": {
              "color": "#C8D4E3"
             },
             "line": {
              "color": "white"
             }
            },
            "type": "table"
           }
          ]
         },
         "layout": {
          "annotationdefaults": {
           "arrowcolor": "#2a3f5f",
           "arrowhead": 0,
           "arrowwidth": 1
          },
          "autotypenumbers": "strict",
          "coloraxis": {
           "colorbar": {
            "outlinewidth": 0,
            "ticks": ""
           }
          },
          "colorscale": {
           "diverging": [
            [
             0,
             "#8e0152"
            ],
            [
             0.1,
             "#c51b7d"
            ],
            [
             0.2,
             "#de77ae"
            ],
            [
             0.3,
             "#f1b6da"
            ],
            [
             0.4,
             "#fde0ef"
            ],
            [
             0.5,
             "#f7f7f7"
            ],
            [
             0.6,
             "#e6f5d0"
            ],
            [
             0.7,
             "#b8e186"
            ],
            [
             0.8,
             "#7fbc41"
            ],
            [
             0.9,
             "#4d9221"
            ],
            [
             1,
             "#276419"
            ]
           ],
           "sequential": [
            [
             0,
             "#0d0887"
            ],
            [
             0.1111111111111111,
             "#46039f"
            ],
            [
             0.2222222222222222,
             "#7201a8"
            ],
            [
             0.3333333333333333,
             "#9c179e"
            ],
            [
             0.4444444444444444,
             "#bd3786"
            ],
            [
             0.5555555555555556,
             "#d8576b"
            ],
            [
             0.6666666666666666,
             "#ed7953"
            ],
            [
             0.7777777777777778,
             "#fb9f3a"
            ],
            [
             0.8888888888888888,
             "#fdca26"
            ],
            [
             1,
             "#f0f921"
            ]
           ],
           "sequentialminus": [
            [
             0,
             "#0d0887"
            ],
            [
             0.1111111111111111,
             "#46039f"
            ],
            [
             0.2222222222222222,
             "#7201a8"
            ],
            [
             0.3333333333333333,
             "#9c179e"
            ],
            [
             0.4444444444444444,
             "#bd3786"
            ],
            [
             0.5555555555555556,
             "#d8576b"
            ],
            [
             0.6666666666666666,
             "#ed7953"
            ],
            [
             0.7777777777777778,
             "#fb9f3a"
            ],
            [
             0.8888888888888888,
             "#fdca26"
            ],
            [
             1,
             "#f0f921"
            ]
           ]
          },
          "colorway": [
           "#636efa",
           "#EF553B",
           "#00cc96",
           "#ab63fa",
           "#FFA15A",
           "#19d3f3",
           "#FF6692",
           "#B6E880",
           "#FF97FF",
           "#FECB52"
          ],
          "font": {
           "color": "#2a3f5f"
          },
          "geo": {
           "bgcolor": "white",
           "lakecolor": "white",
           "landcolor": "#E5ECF6",
           "showlakes": true,
           "showland": true,
           "subunitcolor": "white"
          },
          "hoverlabel": {
           "align": "left"
          },
          "hovermode": "closest",
          "mapbox": {
           "style": "light"
          },
          "paper_bgcolor": "white",
          "plot_bgcolor": "#E5ECF6",
          "polar": {
           "angularaxis": {
            "gridcolor": "white",
            "linecolor": "white",
            "ticks": ""
           },
           "bgcolor": "#E5ECF6",
           "radialaxis": {
            "gridcolor": "white",
            "linecolor": "white",
            "ticks": ""
           }
          },
          "scene": {
           "xaxis": {
            "backgroundcolor": "#E5ECF6",
            "gridcolor": "white",
            "gridwidth": 2,
            "linecolor": "white",
            "showbackground": true,
            "ticks": "",
            "zerolinecolor": "white"
           },
           "yaxis": {
            "backgroundcolor": "#E5ECF6",
            "gridcolor": "white",
            "gridwidth": 2,
            "linecolor": "white",
            "showbackground": true,
            "ticks": "",
            "zerolinecolor": "white"
           },
           "zaxis": {
            "backgroundcolor": "#E5ECF6",
            "gridcolor": "white",
            "gridwidth": 2,
            "linecolor": "white",
            "showbackground": true,
            "ticks": "",
            "zerolinecolor": "white"
           }
          },
          "shapedefaults": {
           "line": {
            "color": "#2a3f5f"
           }
          },
          "ternary": {
           "aaxis": {
            "gridcolor": "white",
            "linecolor": "white",
            "ticks": ""
           },
           "baxis": {
            "gridcolor": "white",
            "linecolor": "white",
            "ticks": ""
           },
           "bgcolor": "#E5ECF6",
           "caxis": {
            "gridcolor": "white",
            "linecolor": "white",
            "ticks": ""
           }
          },
          "title": {
           "x": 0.05
          },
          "xaxis": {
           "automargin": true,
           "gridcolor": "white",
           "linecolor": "white",
           "ticks": "",
           "title": {
            "standoff": 15
           },
           "zerolinecolor": "white",
           "zerolinewidth": 2
          },
          "yaxis": {
           "automargin": true,
           "gridcolor": "white",
           "linecolor": "white",
           "ticks": "",
           "title": {
            "standoff": 15
           },
           "zerolinecolor": "white",
           "zerolinewidth": 2
          }
         }
        },
        "width": 1300
       }
      }
     },
     "metadata": {},
     "output_type": "display_data"
    },
    {
     "name": "stdout",
     "output_type": "stream",
     "text": [
      "Kabsch distance is 0.02719038468297398\n"
     ]
    },
    {
     "data": {
      "text/plain": [
       "<Figure size 50000x50000 with 0 Axes>"
      ]
     },
     "metadata": {},
     "output_type": "display_data"
    }
   ],
   "source": [
    "# Trussart perfect structure\n",
    "trussart_true_structure = np.mean(trussart_structures, axis=0)\n",
    "\n",
    "# Trussart predicted structure\n",
    "torch_trussart_hic = torch.FloatTensor(trussart_hic)\n",
    "torch_trussart_hic = torch.reshape(torch_trussart_hic, (1, NB_BINS, NB_BINS))\n",
    "torch_trussart_hic = torch.repeat_interleave(torch_trussart_hic, BATCH_SIZE, 0)\n",
    "\n",
    "trussart_pred_structure, trussart_pred_distance, trussart_pred_logits = model(torch_trussart_hic)\n",
    "trussart_pred_structure = trussart_pred_structure.detach().numpy()[0]\n",
    "\n",
    "# Superpose structure using Kabsch algorithm\n",
    "trussart_pred_structure_superposed, trussart_true_structure_superposed = \\\n",
    "        kabsch_superimposition_numpy(trussart_pred_structure, trussart_true_structure, EMBEDDING_SIZE)\n",
    "\n",
    "# Plot and compare the two structures\n",
    "x_pred = trussart_pred_structure_superposed[:, 0]  \n",
    "y_pred = trussart_pred_structure_superposed[:, 1]\n",
    "z_pred = trussart_pred_structure_superposed[:, 2]\n",
    "\n",
    "x_true = trussart_true_structure_superposed[:, 0]  \n",
    "y_true = trussart_true_structure_superposed[:, 1]\n",
    "z_true = trussart_true_structure_superposed[:, 2]\n",
    "\n",
    "colorscale1 = np.asarray(range(len(x_true)))\n",
    "colorscale2 = np.asarray(range(len(x_pred)))\n",
    "color1 = 'Viridis'\n",
    "color2 = 'Viridis'\n",
    "\n",
    "plot_true_pred_structures(x_pred, y_pred, z_pred, x_true, y_true, z_true, colorscale1, colorscale2, color1, color2)\n",
    "\n",
    "# Shape comparison\n",
    "print('Kabsch distance is ' + str(kabsch_distance_numpy(trussart_pred_structure, trussart_true_structure, EMBEDDING_SIZE)))"
   ]
  },
  {
   "cell_type": "code",
   "execution_count": 20,
   "metadata": {},
   "outputs": [
    {
     "name": "stdout",
     "output_type": "stream",
     "text": [
      "85.58350522747233\n",
      "tensor(0.8679, dtype=torch.float64)\n"
     ]
    }
   ],
   "source": [
    "confidence_metrics, pLLDTs = get_confidence_metrics(trussart_pred_logits.detach().numpy()[0])\n",
    "print(confidence_metrics)\n",
    "\n",
    "value = lddt(torch.from_numpy(trussart_pred_structure_superposed).unsqueeze(0),torch.from_numpy(trussart_true_structure_superposed).unsqueeze(0), per_residue=True)\n",
    "print(torch.mean(value))\n",
    "\n",
    "#print(pLLDTs)\n",
    "#print(value)"
   ]
  },
  {
   "cell_type": "code",
   "execution_count": 21,
   "metadata": {},
   "outputs": [
    {
     "data": {
      "application/vnd.plotly.v1+json": {
       "config": {
        "plotlyServerURL": "https://plot.ly"
       },
       "data": [
        {
         "line": {
          "color": "darkblue",
          "width": 2
         },
         "marker": {
          "color": [
           83.84861038372037,
           83.75568110347376,
           84.4157610060647,
           84.86923749600828,
           85.01640209091418,
           85.0423038184963,
           84.65944064050564,
           84.97138515389815,
           85.14401820437344,
           85.25764226738829,
           85.35718861428904,
           85.22095979886944,
           85.1549322395731,
           84.78116119433253,
           85.08168188863785,
           85.3122905552882,
           85.89850287183799,
           86.47757637531322,
           86.0091329072311,
           85.70858374108504,
           85.82550238063415,
           85.90742203423723,
           85.73467443230767,
           85.4956206959032,
           85.36169290062388,
           85.53648497290851,
           85.23293807712618,
           85.39677256831783,
           85.49725350821973,
           85.62137540271213,
           85.77927274974355,
           85.94599964326333,
           85.7750132701185,
           85.79670392475964,
           85.73052287840255,
           85.47778205729266,
           85.49609946661803,
           85.41094096509914,
           85.41063076400314,
           85.25355390836195,
           85.25596475988277,
           85.303840928711,
           85.10125684700324,
           85.00956913667324,
           84.1725698711234,
           83.30360593576914,
           83.30360593576914,
           83.48568698752206,
           83.30360593576914,
           83.30360593576914,
           83.30360593576914,
           83.48455602084867,
           83.76999061420793,
           83.83211857796414,
           84.10501323782955,
           84.3420064067468,
           84.65153070786619,
           85.49839455731853,
           85.87113830953604,
           86.1685612598958,
           86.08146995597782,
           86.07686102465959,
           85.88415587511552,
           85.37791312309857,
           84.48396205675091,
           84.36889962258284,
           84.17439626820851,
           83.72997749902426,
           83.91118285420815,
           84.42317544089747,
           84.73322222809657,
           84.79164885325008,
           84.85131090242066,
           84.58130414286279,
           84.75798951031173,
           84.87747848164874,
           85.12393264386628,
           85.40174156126157,
           85.69148960569875,
           85.76216965916682,
           85.92002942835097,
           85.7173029606056,
           85.49721221406072,
           85.5944589042483,
           86.1128910644402,
           86.543004021456,
           86.72721730153718,
           86.86017263211033,
           86.95071943586663,
           87.29348681234114,
           87.57751827883476,
           87.98720157178377,
           88.18827034721653,
           88.32590695110616,
           88.31361894968133,
           88.2421419075049,
           88.29707786872314,
           88.24527089421805,
           88.10912620264708,
           87.40561997008261,
           86.86572908575909,
           86.75696858122683,
           86.99462503008907,
           87.20873881805528,
           87.35173174543344,
           87.27407377259078,
           87.462823137379,
           87.76894324392833,
           87.97396783728483,
           87.94725012710296,
           87.89294280744706,
           87.66612326276298,
           87.65915219184079,
           87.64187589960966,
           87.65090134881484,
           87.87514387505234,
           87.89578525030902,
           87.80964515627055,
           87.5880214846675,
           87.34701234041859,
           87.424033837804,
           87.40457977323423,
           87.31861273377217,
           86.87809641788772,
           86.43544084138921,
           86.12109941415838,
           86.02279839735274,
           85.7564439106427,
           85.67958215680848,
           85.6052311006788,
           85.48782454949107,
           85.37484971151572,
           85.63891966744266,
           85.8826753430476,
           86.22220461842517,
           86.50169877793815,
           86.96221851614247,
           87.5884050366576,
           87.17217736153727,
           86.63692311384511,
           86.30023144625738,
           86.03370893870304,
           85.89806764177047,
           85.68616593850311,
           85.8168339748081,
           85.84876236001583,
           85.8700504929875,
           85.85231496415508,
           85.99480727200717,
           85.82480200670398,
           85.70880640047835,
           85.82920105418454,
           86.09175195336866,
           86.28785732233519,
           86.34871992679109,
           86.34455594013708,
           86.21680309026125,
           86.19436073761608,
           85.98880619679403,
           85.89556708650346,
           85.79645095610614,
           85.71240128515636,
           85.57974344145623,
           85.64237849935307,
           85.15762571459345,
           84.99563304494951,
           84.8095928549883,
           84.7990395037923,
           85.16194904764416,
           85.45881099780674,
           85.5182242554147,
           85.55138137945325,
           85.56988905800972,
           85.74703398285781,
           85.49617268975999,
           85.00593365513487,
           84.50379317096667,
           84.4381481524033,
           84.5834719291015,
           84.54656323359815,
           84.20715632106294,
           83.63027458504074,
           83.57160994852894,
           83.63527203185367,
           83.91053015214858,
           84.35368358885174,
           83.98182406616979,
           83.40558102278736,
           83.30360593576914,
           83.30360593576914,
           83.30360593576914,
           83.30360593576914,
           83.30360593576914,
           83.30360593576914,
           83.30360593576914,
           83.30360593576914,
           83.30360593576914,
           83.5707631938858,
           83.90710577563732,
           84.35058995743748,
           84.97189334043651,
           84.55613079105387
          ],
          "colorscale": [
           [
            0,
            "rgb(150,0,90)"
           ],
           [
            0.125,
            "rgb(0,0,200)"
           ],
           [
            0.25,
            "rgb(0,25,255)"
           ],
           [
            0.375,
            "rgb(0,152,255)"
           ],
           [
            0.5,
            "rgb(44,255,150)"
           ],
           [
            0.625,
            "rgb(151,255,0)"
           ],
           [
            0.75,
            "rgb(255,234,0)"
           ],
           [
            0.875,
            "rgb(255,111,0)"
           ],
           [
            1,
            "rgb(255,0,0)"
           ]
          ],
          "line": {
           "width": 3
          },
          "size": 6
         },
         "opacity": 0.7,
         "scene": "scene",
         "type": "scatter3d",
         "x": [
          -0.13858974127458587,
          -0.044895221469170535,
          0.127406162339736,
          0.1894549878833696,
          0.23538980122553224,
          0.2803520653666558,
          0.3118494054165787,
          0.34861295809259013,
          0.3607542038938959,
          0.3691402812519375,
          0.3591901721699866,
          0.3295499193762249,
          0.2727951266185531,
          0.14853736988291208,
          -0.0010525738234735229,
          -0.06810120528468777,
          -0.028879225726796215,
          0.08837242575428676,
          0.26749301272113907,
          0.3557017555414115,
          0.4058413190094657,
          0.43141585045279407,
          0.4006268334555321,
          0.3829140798153966,
          0.3629948682995054,
          0.4336165978261323,
          0.39839597135710025,
          0.4350789999488896,
          0.4211062189467189,
          0.4490459610569831,
          0.4555367764598961,
          0.4480561513018011,
          0.3815496806986034,
          0.4004987646225925,
          0.39631917244657894,
          0.3696899632960986,
          0.36653411251169565,
          0.33605936762976474,
          0.272560101670105,
          0.20241309428804327,
          0.18361159982922598,
          0.18027543325181883,
          0.13283051221926453,
          0.12504608089088481,
          0.01520373967875486,
          -0.042807653279323066,
          -0.20118318208921607,
          -0.383661059247031,
          -0.4726795808051448,
          -0.5169144704272474,
          -0.5536608177864856,
          -0.592522449021266,
          -0.5572432472180255,
          -0.5074325162709301,
          -0.4507422714751126,
          -0.44710989211211816,
          -0.4335853722094937,
          -0.43304521952964925,
          -0.48707592459615484,
          -0.481611555068245,
          -0.4467555082208214,
          -0.4728592559716681,
          -0.4380803830915519,
          -0.49150296316253056,
          -0.558367391092866,
          -0.6165368888822131,
          -0.6179635220832395,
          -0.5860349516661304,
          -0.5460639159852186,
          -0.4967082295326129,
          -0.4714510966540907,
          -0.4045840275328843,
          -0.3231873573072592,
          -0.22652857343787125,
          -0.15254681082288551,
          -0.14969557416534707,
          -0.1320418898962965,
          -0.17922053293064244,
          -0.24855457720716984,
          -0.2789232772472083,
          -0.31943317736862004,
          -0.34134249352854446,
          -0.2999290340555426,
          -0.24781423558669458,
          -0.15302789929652993,
          -0.13749453379753238,
          -0.14758801823387316,
          -0.13638575252186502,
          -0.060141421911746144,
          0.07730439847985203,
          0.1424168924756315,
          0.21510017828169217,
          0.2952475453673902,
          0.29745806360774646,
          0.34865258651725717,
          0.35736478849832964,
          0.3586352504086636,
          0.3701245005973784,
          0.3410805494201635,
          0.32628007142840026,
          0.29975054743261775,
          0.2692424014610705,
          0.22417494956692233,
          0.181099581527031,
          0.16266846172581867,
          0.1550743245636324,
          0.1850546776652957,
          0.20244456928388851,
          0.22053375611483705,
          0.18051751607228284,
          0.1614842666323786,
          0.09129258012124995,
          0.08064394098789604,
          0.07388094568265181,
          0.13256377320753254,
          0.19326727824682932,
          0.22255794993059944,
          0.23537227046426945,
          0.24637266755385268,
          0.3019296746439308,
          0.31792136063723364,
          0.3287643525892906,
          0.3252192991047944,
          0.35073610013169676,
          0.3433768566027831,
          0.31699407693411147,
          0.3175189417747052,
          0.29519142601680964,
          0.22883754129639014,
          0.17681732649784104,
          0.1481534895561071,
          0.12670025922850245,
          0.13871386432483856,
          0.1693379727343967,
          0.2282552054069314,
          0.24041276569734432,
          0.2698650934043269,
          0.3263190725466762,
          0.3255892460765592,
          0.2896134305617725,
          0.2895595778449718,
          0.2652076356983687,
          0.2474197059057479,
          0.2268187261015273,
          0.2711425714775594,
          0.2686955712879139,
          0.27063364296507053,
          0.2404330353171463,
          0.238946153758577,
          0.1680193396792475,
          0.1467937509563363,
          0.17140761348351644,
          0.2422266717064813,
          0.26050381260439237,
          0.2784974506133655,
          0.30359397453452336,
          0.30474656209832124,
          0.3489973369648733,
          0.34690827479952924,
          0.3141102788260369,
          0.2962194512791824,
          0.2680406472797972,
          0.2591843527777435,
          0.20891239195609307,
          -0.00014462469405077417,
          -0.07409386062317116,
          -0.17490302215216855,
          -0.27164141751221677,
          -0.2895044853120292,
          -0.347290301838619,
          -0.37543810927856164,
          -0.4689097506122258,
          -0.5327345696724783,
          -0.517939470023518,
          -0.5010758658001131,
          -0.4461775269179133,
          -0.32058272124255144,
          -0.23313317596782215,
          -0.0920878799947043,
          -0.14341809900217464,
          -0.16086376975699807,
          -0.2186016292082424,
          -0.2924374984054862,
          -0.3803305835582456,
          -0.42519819517404117,
          -0.4581456504393809,
          -0.5209348940780154,
          -0.5711419915334485,
          -0.6410168932651618,
          -0.6944712327905079,
          -0.6953965197638091,
          -0.5890667816035311,
          -0.49199145097576724,
          -0.42138167388531594,
          -0.41216788942563093,
          -0.463630213471478,
          -0.38207383086977337,
          -0.3763693278905603,
          -0.3692656342998127,
          -0.32875649589196737,
          -0.35747845760760394,
          -0.3194231767226541
         ],
         "y": [
          0.12757218767383835,
          0.14322596167542984,
          0.208069065312515,
          0.2570531855847516,
          0.23091992545318743,
          0.14982755556314148,
          0.087090152807555,
          -0.023218057510051546,
          -0.1081320816445283,
          -0.1474205276377611,
          -0.20148349349264957,
          -0.17998439826948395,
          -0.22833613291899624,
          -0.25586538828536026,
          -0.3072752105591404,
          -0.34756873053715315,
          -0.41421191821849884,
          -0.43387545979505665,
          -0.361620332333123,
          -0.31231729269291636,
          -0.30312653896484765,
          -0.31880954122438154,
          -0.30314666247014704,
          -0.22762884360906785,
          -0.1988655960444894,
          -0.1823958128421001,
          -0.09189725723949888,
          -0.0899035279189195,
          -0.1488421752133712,
          -0.1575009114655417,
          -0.2207782989681677,
          -0.3414592993834549,
          -0.37387412956625854,
          -0.36145952701431294,
          -0.34342826181723496,
          -0.28201353190517164,
          -0.34194219330020215,
          -0.39113917931008524,
          -0.5176140491761317,
          -0.571442002407419,
          -0.6165428221064578,
          -0.638024092612355,
          -0.6249621740746706,
          -0.5591469638265862,
          -0.4065130443763301,
          -0.24003802078278544,
          -0.2372166253516408,
          -0.23862905092699477,
          -0.1785579876732904,
          -0.24646986519862674,
          -0.279235905913191,
          -0.22293307606694554,
          -0.1685581685781335,
          -0.14836923477782119,
          -0.20554646598616602,
          -0.3557548602889576,
          -0.47669223830177143,
          -0.6179611378526347,
          -0.5876942083775792,
          -0.5959324310339473,
          -0.5433156010933784,
          -0.46791073708073944,
          -0.3911729681888261,
          -0.246578480638406,
          -0.13876084326593333,
          -0.1036585311513505,
          -0.06640056755155896,
          0.047982294500482706,
          0.09076449398058642,
          0.08671375256467666,
          0.08342091168240817,
          0.11543069026583881,
          0.06940211829135731,
          -0.013905522545158505,
          -0.15146002627303706,
          -0.2267350050100467,
          -0.3022296303296481,
          -0.3495146595199421,
          -0.42417911359622973,
          -0.41499430582165836,
          -0.3515519220071055,
          -0.2536920989719481,
          -0.20590957959008196,
          -0.17600836944170486,
          -0.14777823909750157,
          -0.07995774068296986,
          -0.019140682752359032,
          0.019624884504827047,
          0.07727288821376779,
          0.0011099031598478916,
          -0.11492973739060704,
          -0.15894790855127988,
          -0.1991327999458131,
          -0.1001387374367645,
          -0.21573922673145873,
          -0.17163825638812003,
          -0.2304526474673808,
          -0.24269389488554252,
          -0.19852257504265836,
          -0.11269148461402884,
          -0.09512291675637452,
          -0.10232690100862062,
          -0.16625157654361158,
          -0.24509002604637994,
          -0.3717916579068824,
          -0.41461966814056306,
          -0.4528477411170178,
          -0.41355492991858894,
          -0.43586689200296636,
          -0.3905853269411832,
          -0.4035483944757416,
          -0.32734308246437654,
          -0.2777000065559992,
          -0.28253084443518806,
          -0.2909779000389099,
          -0.3252491863612401,
          -0.3238856975493249,
          -0.33908037994738316,
          -0.39555839869512216,
          -0.3960638084482117,
          -0.42733401715772695,
          -0.4455687230877851,
          -0.38685156283722316,
          -0.24815527024664408,
          -0.16074794381362434,
          -0.08363767787028302,
          -0.05131420853320588,
          -0.01983109266144348,
          0.007456771770792241,
          0.05413631272820255,
          0.07535814471629738,
          0.11907693103749488,
          0.16184438201495865,
          0.17499855089329847,
          0.16874412763599156,
          0.15157485919617825,
          0.10609018496879861,
          0.14879411546336188,
          0.1508525266191857,
          0.10856266382044542,
          0.0793229460031596,
          0.06730766327195935,
          0.10977928778653795,
          0.2001168933696696,
          0.28456761209856285,
          0.38526795051944235,
          0.45627701328650494,
          0.5126936675685585,
          0.5572950920101764,
          0.5639993890229242,
          0.4937312701305005,
          0.4646362094184013,
          0.42334793347047245,
          0.4170706347761768,
          0.40542534409755343,
          0.42466248670334034,
          0.41333273754291566,
          0.39431083078975465,
          0.39775026404576264,
          0.4627551828088657,
          0.5064427893935479,
          0.5080405082439298,
          0.515766332028786,
          0.6263826640944606,
          0.5880286535491379,
          0.6290883018044325,
          0.6403800941805756,
          0.6833061708936164,
          0.7417441398218956,
          0.8206541449879802,
          0.8421873615761643,
          0.8223722600991418,
          0.8195920860256013,
          0.8462021802399016,
          0.7727851495092053,
          0.6548431660777496,
          0.5324844023645886,
          0.45103969562994767,
          0.40042214440728247,
          0.3974423526467504,
          0.39860280141902643,
          0.36668046647476693,
          0.39683557016278237,
          0.46433766365113843,
          0.5585682521183485,
          0.6337295744529045,
          0.6394129557874465,
          0.5651510546423624,
          0.4784924169472925,
          0.395960134445681,
          0.3133533282327882,
          0.24574966163305806,
          0.21351041073936805,
          0.21573957291009885,
          0.2447934076452664,
          0.27350840921373626,
          0.35415483226868244,
          0.3783680387315939,
          0.3580441762791632,
          0.30319313109360246,
          0.2547660810279565,
          0.2377512703434695
         ],
         "z": [
          -0.007347708940947765,
          0.054502253586130756,
          0.04263347060140325,
          0.0445524279473279,
          0.05992228724635208,
          0.0823456866606804,
          0.18235575181229524,
          0.23722353639767751,
          0.2961317062297997,
          0.2944310554093352,
          0.26166959816494106,
          0.24668989975643568,
          0.19435686347766085,
          0.11636280249543095,
          0.04099661857004416,
          0.01508825352656066,
          -0.036806199784059405,
          -0.1471526647396274,
          -0.044604547593993814,
          0.058421037467178076,
          0.07757067091135143,
          0.0945471060732115,
          0.18054220116422603,
          0.25129330754686385,
          0.2660756976627278,
          0.3055709193772228,
          0.3178547614590967,
          0.27908934823808285,
          0.2326515287868449,
          0.2090491320884163,
          0.16189638083202237,
          0.15103019255739325,
          0.20097798507282752,
          0.21943638746915134,
          0.2541973698898751,
          0.33526773049202824,
          0.42780423880495566,
          0.5109757047514485,
          0.5295514446483058,
          0.5406658988073824,
          0.5596506961608892,
          0.5406403766288764,
          0.536938844210272,
          0.4565890699576068,
          0.38533019464482393,
          0.34690930127065794,
          0.3579435189821198,
          0.39052409196294624,
          0.5429678775706269,
          0.5851579093450598,
          0.5608043596460727,
          0.5142229784697195,
          0.4027679369024462,
          0.344895278303807,
          0.2994332592511121,
          0.35997768897524984,
          0.37537952953171033,
          0.28001957378196984,
          0.1930531029217654,
          0.10900890903240308,
          0.07436246240869093,
          0.03795399684886866,
          0.015387494457833072,
          0.0791739805364993,
          0.24601665088410044,
          0.2813997852455117,
          0.29339064746716903,
          0.2715501745637572,
          0.18230116729917487,
          0.05519510962764511,
          -0.02340357624564618,
          -0.05881543055771403,
          -0.0869566994901546,
          -0.0788381035810398,
          -0.06454057470038407,
          -0.03809644831145873,
          -0.014585796383724776,
          -0.03514073372430707,
          -0.03016709625570041,
          -0.03634136608804031,
          -0.10007062558903737,
          -0.10070743687520771,
          -0.10415595223761802,
          -0.18468441944457184,
          -0.317485307130217,
          -0.39345794569471504,
          -0.4265641555821967,
          -0.4543053075504168,
          -0.4776621306229059,
          -0.5086324622713662,
          -0.5453369917731978,
          -0.638215441184056,
          -0.680548902647763,
          -0.7418515989208178,
          -0.7106362114361434,
          -0.6939790525898653,
          -0.701301447682995,
          -0.6807661351323291,
          -0.6494420979315135,
          -0.4682369995402178,
          -0.34894677214951986,
          -0.33131276494275524,
          -0.38114047102936754,
          -0.42486092152763183,
          -0.44016772874486815,
          -0.41556824745494886,
          -0.44907907313797796,
          -0.5334048929161412,
          -0.5846842757271102,
          -0.5910697158910017,
          -0.5762829355218377,
          -0.539915980560199,
          -0.5487339794334073,
          -0.5446215510579447,
          -0.5351472262015333,
          -0.580051623179201,
          -0.5815428819895767,
          -0.5524586213505716,
          -0.4804519398189346,
          -0.40846201928546894,
          -0.4195645517245519,
          -0.40943626922409443,
          -0.3986266356504954,
          -0.31391955122948817,
          -0.23889246374200396,
          -0.20121265172416772,
          -0.18982376659893044,
          -0.14160158256531893,
          -0.17083216287563155,
          -0.18367848114969135,
          -0.17979984191563939,
          -0.17912048910228484,
          -0.21876884679815176,
          -0.24809725765514465,
          -0.28652309504858103,
          -0.3314889574974854,
          -0.4117295388807679,
          -0.5616276085528035,
          -0.4563647162737327,
          -0.3387478822214063,
          -0.26886895515657955,
          -0.22666301143964313,
          -0.19572368051827516,
          -0.12673556503334574,
          -0.08381728506068056,
          -0.06174513153611066,
          -0.041530377621343866,
          -0.02568603671445931,
          -0.03262423817357258,
          0.016449527512247854,
          -0.024539118938648456,
          -0.09200569961067293,
          -0.15345971005236592,
          -0.19953989934520594,
          -0.20440774747648116,
          -0.1672894223921961,
          -0.12588902479484548,
          -0.07424076362233882,
          -0.00876664309617196,
          0.003855194141947259,
          0.02653453952769412,
          0.02972003398221009,
          0.08166007025780873,
          0.163536281054671,
          0.20952199313850506,
          0.27684353694167846,
          0.3071349167373739,
          0.3246765718655646,
          0.2797210224856392,
          0.25330039347402844,
          0.24766964210224288,
          0.18411815879350382,
          0.15375157901247813,
          0.1252222110682193,
          0.1381948443000172,
          0.17911673315699958,
          0.22026793059579486,
          0.17661056645706036,
          0.13245361470190348,
          0.12149227578037874,
          0.19737154266380763,
          0.2647598812273887,
          0.2845305318011981,
          0.316499987398577,
          0.34839532522546557,
          0.3208976764155372,
          0.3895630380230763,
          0.4067565967020771,
          0.4462312061945881,
          0.5642484726857078,
          0.626163496602865,
          0.6171933879630239,
          0.5697228416550488,
          0.43143769863641573,
          0.3733387681607892,
          0.2818809415322676,
          0.29521403338335805,
          0.2369335736518245,
          0.14975069243376996,
          0.005286218040037818,
          -0.0746366783946373,
          -0.03393792219458116
         ]
        }
       ],
       "layout": {
        "height": 1000,
        "scene": {
         "domain": {
          "x": [
           0,
           1
          ],
          "y": [
           0,
           1
          ]
         }
        },
        "template": {
         "data": {
          "bar": [
           {
            "error_x": {
             "color": "#2a3f5f"
            },
            "error_y": {
             "color": "#2a3f5f"
            },
            "marker": {
             "line": {
              "color": "#E5ECF6",
              "width": 0.5
             }
            },
            "type": "bar"
           }
          ],
          "barpolar": [
           {
            "marker": {
             "line": {
              "color": "#E5ECF6",
              "width": 0.5
             }
            },
            "type": "barpolar"
           }
          ],
          "carpet": [
           {
            "aaxis": {
             "endlinecolor": "#2a3f5f",
             "gridcolor": "white",
             "linecolor": "white",
             "minorgridcolor": "white",
             "startlinecolor": "#2a3f5f"
            },
            "baxis": {
             "endlinecolor": "#2a3f5f",
             "gridcolor": "white",
             "linecolor": "white",
             "minorgridcolor": "white",
             "startlinecolor": "#2a3f5f"
            },
            "type": "carpet"
           }
          ],
          "choropleth": [
           {
            "colorbar": {
             "outlinewidth": 0,
             "ticks": ""
            },
            "type": "choropleth"
           }
          ],
          "contour": [
           {
            "colorbar": {
             "outlinewidth": 0,
             "ticks": ""
            },
            "colorscale": [
             [
              0,
              "#0d0887"
             ],
             [
              0.1111111111111111,
              "#46039f"
             ],
             [
              0.2222222222222222,
              "#7201a8"
             ],
             [
              0.3333333333333333,
              "#9c179e"
             ],
             [
              0.4444444444444444,
              "#bd3786"
             ],
             [
              0.5555555555555556,
              "#d8576b"
             ],
             [
              0.6666666666666666,
              "#ed7953"
             ],
             [
              0.7777777777777778,
              "#fb9f3a"
             ],
             [
              0.8888888888888888,
              "#fdca26"
             ],
             [
              1,
              "#f0f921"
             ]
            ],
            "type": "contour"
           }
          ],
          "contourcarpet": [
           {
            "colorbar": {
             "outlinewidth": 0,
             "ticks": ""
            },
            "type": "contourcarpet"
           }
          ],
          "heatmap": [
           {
            "colorbar": {
             "outlinewidth": 0,
             "ticks": ""
            },
            "colorscale": [
             [
              0,
              "#0d0887"
             ],
             [
              0.1111111111111111,
              "#46039f"
             ],
             [
              0.2222222222222222,
              "#7201a8"
             ],
             [
              0.3333333333333333,
              "#9c179e"
             ],
             [
              0.4444444444444444,
              "#bd3786"
             ],
             [
              0.5555555555555556,
              "#d8576b"
             ],
             [
              0.6666666666666666,
              "#ed7953"
             ],
             [
              0.7777777777777778,
              "#fb9f3a"
             ],
             [
              0.8888888888888888,
              "#fdca26"
             ],
             [
              1,
              "#f0f921"
             ]
            ],
            "type": "heatmap"
           }
          ],
          "heatmapgl": [
           {
            "colorbar": {
             "outlinewidth": 0,
             "ticks": ""
            },
            "colorscale": [
             [
              0,
              "#0d0887"
             ],
             [
              0.1111111111111111,
              "#46039f"
             ],
             [
              0.2222222222222222,
              "#7201a8"
             ],
             [
              0.3333333333333333,
              "#9c179e"
             ],
             [
              0.4444444444444444,
              "#bd3786"
             ],
             [
              0.5555555555555556,
              "#d8576b"
             ],
             [
              0.6666666666666666,
              "#ed7953"
             ],
             [
              0.7777777777777778,
              "#fb9f3a"
             ],
             [
              0.8888888888888888,
              "#fdca26"
             ],
             [
              1,
              "#f0f921"
             ]
            ],
            "type": "heatmapgl"
           }
          ],
          "histogram": [
           {
            "marker": {
             "colorbar": {
              "outlinewidth": 0,
              "ticks": ""
             }
            },
            "type": "histogram"
           }
          ],
          "histogram2d": [
           {
            "colorbar": {
             "outlinewidth": 0,
             "ticks": ""
            },
            "colorscale": [
             [
              0,
              "#0d0887"
             ],
             [
              0.1111111111111111,
              "#46039f"
             ],
             [
              0.2222222222222222,
              "#7201a8"
             ],
             [
              0.3333333333333333,
              "#9c179e"
             ],
             [
              0.4444444444444444,
              "#bd3786"
             ],
             [
              0.5555555555555556,
              "#d8576b"
             ],
             [
              0.6666666666666666,
              "#ed7953"
             ],
             [
              0.7777777777777778,
              "#fb9f3a"
             ],
             [
              0.8888888888888888,
              "#fdca26"
             ],
             [
              1,
              "#f0f921"
             ]
            ],
            "type": "histogram2d"
           }
          ],
          "histogram2dcontour": [
           {
            "colorbar": {
             "outlinewidth": 0,
             "ticks": ""
            },
            "colorscale": [
             [
              0,
              "#0d0887"
             ],
             [
              0.1111111111111111,
              "#46039f"
             ],
             [
              0.2222222222222222,
              "#7201a8"
             ],
             [
              0.3333333333333333,
              "#9c179e"
             ],
             [
              0.4444444444444444,
              "#bd3786"
             ],
             [
              0.5555555555555556,
              "#d8576b"
             ],
             [
              0.6666666666666666,
              "#ed7953"
             ],
             [
              0.7777777777777778,
              "#fb9f3a"
             ],
             [
              0.8888888888888888,
              "#fdca26"
             ],
             [
              1,
              "#f0f921"
             ]
            ],
            "type": "histogram2dcontour"
           }
          ],
          "mesh3d": [
           {
            "colorbar": {
             "outlinewidth": 0,
             "ticks": ""
            },
            "type": "mesh3d"
           }
          ],
          "parcoords": [
           {
            "line": {
             "colorbar": {
              "outlinewidth": 0,
              "ticks": ""
             }
            },
            "type": "parcoords"
           }
          ],
          "pie": [
           {
            "automargin": true,
            "type": "pie"
           }
          ],
          "scatter": [
           {
            "marker": {
             "colorbar": {
              "outlinewidth": 0,
              "ticks": ""
             }
            },
            "type": "scatter"
           }
          ],
          "scatter3d": [
           {
            "line": {
             "colorbar": {
              "outlinewidth": 0,
              "ticks": ""
             }
            },
            "marker": {
             "colorbar": {
              "outlinewidth": 0,
              "ticks": ""
             }
            },
            "type": "scatter3d"
           }
          ],
          "scattercarpet": [
           {
            "marker": {
             "colorbar": {
              "outlinewidth": 0,
              "ticks": ""
             }
            },
            "type": "scattercarpet"
           }
          ],
          "scattergeo": [
           {
            "marker": {
             "colorbar": {
              "outlinewidth": 0,
              "ticks": ""
             }
            },
            "type": "scattergeo"
           }
          ],
          "scattergl": [
           {
            "marker": {
             "colorbar": {
              "outlinewidth": 0,
              "ticks": ""
             }
            },
            "type": "scattergl"
           }
          ],
          "scattermapbox": [
           {
            "marker": {
             "colorbar": {
              "outlinewidth": 0,
              "ticks": ""
             }
            },
            "type": "scattermapbox"
           }
          ],
          "scatterpolar": [
           {
            "marker": {
             "colorbar": {
              "outlinewidth": 0,
              "ticks": ""
             }
            },
            "type": "scatterpolar"
           }
          ],
          "scatterpolargl": [
           {
            "marker": {
             "colorbar": {
              "outlinewidth": 0,
              "ticks": ""
             }
            },
            "type": "scatterpolargl"
           }
          ],
          "scatterternary": [
           {
            "marker": {
             "colorbar": {
              "outlinewidth": 0,
              "ticks": ""
             }
            },
            "type": "scatterternary"
           }
          ],
          "surface": [
           {
            "colorbar": {
             "outlinewidth": 0,
             "ticks": ""
            },
            "colorscale": [
             [
              0,
              "#0d0887"
             ],
             [
              0.1111111111111111,
              "#46039f"
             ],
             [
              0.2222222222222222,
              "#7201a8"
             ],
             [
              0.3333333333333333,
              "#9c179e"
             ],
             [
              0.4444444444444444,
              "#bd3786"
             ],
             [
              0.5555555555555556,
              "#d8576b"
             ],
             [
              0.6666666666666666,
              "#ed7953"
             ],
             [
              0.7777777777777778,
              "#fb9f3a"
             ],
             [
              0.8888888888888888,
              "#fdca26"
             ],
             [
              1,
              "#f0f921"
             ]
            ],
            "type": "surface"
           }
          ],
          "table": [
           {
            "cells": {
             "fill": {
              "color": "#EBF0F8"
             },
             "line": {
              "color": "white"
             }
            },
            "header": {
             "fill": {
              "color": "#C8D4E3"
             },
             "line": {
              "color": "white"
             }
            },
            "type": "table"
           }
          ]
         },
         "layout": {
          "annotationdefaults": {
           "arrowcolor": "#2a3f5f",
           "arrowhead": 0,
           "arrowwidth": 1
          },
          "autotypenumbers": "strict",
          "coloraxis": {
           "colorbar": {
            "outlinewidth": 0,
            "ticks": ""
           }
          },
          "colorscale": {
           "diverging": [
            [
             0,
             "#8e0152"
            ],
            [
             0.1,
             "#c51b7d"
            ],
            [
             0.2,
             "#de77ae"
            ],
            [
             0.3,
             "#f1b6da"
            ],
            [
             0.4,
             "#fde0ef"
            ],
            [
             0.5,
             "#f7f7f7"
            ],
            [
             0.6,
             "#e6f5d0"
            ],
            [
             0.7,
             "#b8e186"
            ],
            [
             0.8,
             "#7fbc41"
            ],
            [
             0.9,
             "#4d9221"
            ],
            [
             1,
             "#276419"
            ]
           ],
           "sequential": [
            [
             0,
             "#0d0887"
            ],
            [
             0.1111111111111111,
             "#46039f"
            ],
            [
             0.2222222222222222,
             "#7201a8"
            ],
            [
             0.3333333333333333,
             "#9c179e"
            ],
            [
             0.4444444444444444,
             "#bd3786"
            ],
            [
             0.5555555555555556,
             "#d8576b"
            ],
            [
             0.6666666666666666,
             "#ed7953"
            ],
            [
             0.7777777777777778,
             "#fb9f3a"
            ],
            [
             0.8888888888888888,
             "#fdca26"
            ],
            [
             1,
             "#f0f921"
            ]
           ],
           "sequentialminus": [
            [
             0,
             "#0d0887"
            ],
            [
             0.1111111111111111,
             "#46039f"
            ],
            [
             0.2222222222222222,
             "#7201a8"
            ],
            [
             0.3333333333333333,
             "#9c179e"
            ],
            [
             0.4444444444444444,
             "#bd3786"
            ],
            [
             0.5555555555555556,
             "#d8576b"
            ],
            [
             0.6666666666666666,
             "#ed7953"
            ],
            [
             0.7777777777777778,
             "#fb9f3a"
            ],
            [
             0.8888888888888888,
             "#fdca26"
            ],
            [
             1,
             "#f0f921"
            ]
           ]
          },
          "colorway": [
           "#636efa",
           "#EF553B",
           "#00cc96",
           "#ab63fa",
           "#FFA15A",
           "#19d3f3",
           "#FF6692",
           "#B6E880",
           "#FF97FF",
           "#FECB52"
          ],
          "font": {
           "color": "#2a3f5f"
          },
          "geo": {
           "bgcolor": "white",
           "lakecolor": "white",
           "landcolor": "#E5ECF6",
           "showlakes": true,
           "showland": true,
           "subunitcolor": "white"
          },
          "hoverlabel": {
           "align": "left"
          },
          "hovermode": "closest",
          "mapbox": {
           "style": "light"
          },
          "paper_bgcolor": "white",
          "plot_bgcolor": "#E5ECF6",
          "polar": {
           "angularaxis": {
            "gridcolor": "white",
            "linecolor": "white",
            "ticks": ""
           },
           "bgcolor": "#E5ECF6",
           "radialaxis": {
            "gridcolor": "white",
            "linecolor": "white",
            "ticks": ""
           }
          },
          "scene": {
           "xaxis": {
            "backgroundcolor": "#E5ECF6",
            "gridcolor": "white",
            "gridwidth": 2,
            "linecolor": "white",
            "showbackground": true,
            "ticks": "",
            "zerolinecolor": "white"
           },
           "yaxis": {
            "backgroundcolor": "#E5ECF6",
            "gridcolor": "white",
            "gridwidth": 2,
            "linecolor": "white",
            "showbackground": true,
            "ticks": "",
            "zerolinecolor": "white"
           },
           "zaxis": {
            "backgroundcolor": "#E5ECF6",
            "gridcolor": "white",
            "gridwidth": 2,
            "linecolor": "white",
            "showbackground": true,
            "ticks": "",
            "zerolinecolor": "white"
           }
          },
          "shapedefaults": {
           "line": {
            "color": "#2a3f5f"
           }
          },
          "ternary": {
           "aaxis": {
            "gridcolor": "white",
            "linecolor": "white",
            "ticks": ""
           },
           "baxis": {
            "gridcolor": "white",
            "linecolor": "white",
            "ticks": ""
           },
           "bgcolor": "#E5ECF6",
           "caxis": {
            "gridcolor": "white",
            "linecolor": "white",
            "ticks": ""
           }
          },
          "title": {
           "x": 0.05
          },
          "xaxis": {
           "automargin": true,
           "gridcolor": "white",
           "linecolor": "white",
           "ticks": "",
           "title": {
            "standoff": 15
           },
           "zerolinecolor": "white",
           "zerolinewidth": 2
          },
          "yaxis": {
           "automargin": true,
           "gridcolor": "white",
           "linecolor": "white",
           "ticks": "",
           "title": {
            "standoff": 15
           },
           "zerolinecolor": "white",
           "zerolinewidth": 2
          }
         }
        },
        "width": 1000
       }
      }
     },
     "metadata": {},
     "output_type": "display_data"
    }
   ],
   "source": [
    "color = 'rainbow'\n",
    "plot_pred_conf(trussart_pred_structure_superposed, pLLDTs, color)"
   ]
  },
  {
   "cell_type": "code",
   "execution_count": 22,
   "metadata": {},
   "outputs": [
    {
     "name": "stdout",
     "output_type": "stream",
     "text": [
      "torch.Size([202])\n",
      "torch.return_types.topk(\n",
      "values=tensor([0.3198, 0.2922, 0.2787, 0.2610, 0.2288, 0.2120, 0.1993, 0.1986, 0.1974,\n",
      "        0.1819], dtype=torch.float64),\n",
      "indices=tensor([ 30,  29,  31,  28,  32,  27,  87,  86,  26, 111]))\n",
      "torch.return_types.topk(\n",
      "values=tensor([0.3205, 0.3023, 0.2841, 0.2837, 0.2464, 0.2362, 0.2232, 0.2219, 0.2202,\n",
      "        0.2185], dtype=torch.float64),\n",
      "indices=tensor([ 30,  29,  28,  31,  32,  27,  26, 111, 131, 135]))\n",
      "[194 195 189 190 191 192  45 188  48  50]\n",
      "torch.return_types.topk(\n",
      "values=tensor([0.6977, 0.7148, 0.7346, 0.7349, 0.7698, 0.7777, 0.7802, 0.7829, 0.7898,\n",
      "        0.7924], dtype=torch.float64),\n",
      "indices=tensor([30, 29, 31, 28, 32, 27, 86, 87, 26, 85]))\n"
     ]
    }
   ],
   "source": [
    "####Max error to confidence interval\n",
    "dmat_true = torch.sqrt(1e-10 + torch.sum(\n",
    "    (torch.from_numpy(trussart_true_structure_superposed).unsqueeze(0)[:, :, None] - torch.from_numpy(trussart_true_structure_superposed).unsqueeze(0)[:, None, :])**2, axis=-1))\n",
    "dmat_predicted = torch.sqrt(1e-10 + torch.sum(\n",
    "    (torch.from_numpy(trussart_pred_structure_superposed).unsqueeze(0)[:, :, None] -\n",
    "    torch.from_numpy(trussart_pred_structure_superposed).unsqueeze(0)[:, None, :])**2, axis=-1))\n",
    "\n",
    "dists_to_score = (\n",
    "    (dmat_true).type(torch.FloatTensor) *(1. - torch.eye(dmat_true.shape[1]))  \n",
    ")\n",
    "\n",
    "dist_l1 = torch.abs(dmat_true - dmat_predicted)\n",
    "relative_error = torch.mean(torch.div(dist_l1, torch.abs(dmat_true))[0], dim=0)\n",
    "\n",
    "print(relative_error.shape)\n",
    "print(torch.topk(torch.mean(dist_l1[0],dim=0), k=10))\n",
    "print(torch.topk(relative_error, k=10, largest=True))\n",
    "print(np.argpartition(pLLDTs, 10)[:10])\n",
    "print(torch.topk(value[0], k=10, largest=False))"
   ]
  },
  {
   "cell_type": "code",
   "execution_count": 23,
   "metadata": {},
   "outputs": [
    {
     "name": "stdout",
     "output_type": "stream",
     "text": [
      "Before temperature - NLL: 0.038\n",
      "tensor(0.7915, grad_fn=<MulBackward0>)\n",
      "tensor(0.7908, grad_fn=<MulBackward0>)\n",
      "tensor(0.7902, grad_fn=<MulBackward0>)\n",
      "tensor(0.7896, grad_fn=<MulBackward0>)\n",
      "tensor(0.7890, grad_fn=<MulBackward0>)\n",
      "tensor(0.7884, grad_fn=<MulBackward0>)\n",
      "tensor(0.7878, grad_fn=<MulBackward0>)\n",
      "tensor(0.7873, grad_fn=<MulBackward0>)\n",
      "tensor(0.7867, grad_fn=<MulBackward0>)\n",
      "tensor(0.7861, grad_fn=<MulBackward0>)\n",
      "tensor(0.7855, grad_fn=<MulBackward0>)\n",
      "tensor(0.7850, grad_fn=<MulBackward0>)\n",
      "tensor(0.7844, grad_fn=<MulBackward0>)\n",
      "tensor(0.7839, grad_fn=<MulBackward0>)\n",
      "tensor(0.7833, grad_fn=<MulBackward0>)\n",
      "tensor(0.7828, grad_fn=<MulBackward0>)\n",
      "tensor(0.7823, grad_fn=<MulBackward0>)\n",
      "tensor(0.7818, grad_fn=<MulBackward0>)\n",
      "tensor(0.7813, grad_fn=<MulBackward0>)\n",
      "tensor(0.7808, grad_fn=<MulBackward0>)\n",
      "tensor(0.7803, grad_fn=<MulBackward0>)\n",
      "tensor(0.7798, grad_fn=<MulBackward0>)\n",
      "tensor(0.7793, grad_fn=<MulBackward0>)\n",
      "tensor(0.7789, grad_fn=<MulBackward0>)\n",
      "tensor(0.7784, grad_fn=<MulBackward0>)\n",
      "tensor(0.7780, grad_fn=<MulBackward0>)\n",
      "tensor(0.7775, grad_fn=<MulBackward0>)\n",
      "tensor(0.7771, grad_fn=<MulBackward0>)\n",
      "tensor(0.7767, grad_fn=<MulBackward0>)\n",
      "tensor(0.7763, grad_fn=<MulBackward0>)\n",
      "tensor(0.7759, grad_fn=<MulBackward0>)\n",
      "tensor(0.7755, grad_fn=<MulBackward0>)\n",
      "tensor(0.7751, grad_fn=<MulBackward0>)\n",
      "tensor(0.7748, grad_fn=<MulBackward0>)\n",
      "tensor(0.7744, grad_fn=<MulBackward0>)\n",
      "tensor(0.7741, grad_fn=<MulBackward0>)\n",
      "tensor(0.7738, grad_fn=<MulBackward0>)\n",
      "tensor(0.7735, grad_fn=<MulBackward0>)\n",
      "tensor(0.7732, grad_fn=<MulBackward0>)\n",
      "tensor(0.7729, grad_fn=<MulBackward0>)\n",
      "tensor(0.7726, grad_fn=<MulBackward0>)\n",
      "tensor(0.7724, grad_fn=<MulBackward0>)\n",
      "tensor(0.7721, grad_fn=<MulBackward0>)\n",
      "tensor(0.7719, grad_fn=<MulBackward0>)\n",
      "tensor(0.7717, grad_fn=<MulBackward0>)\n",
      "tensor(0.7714, grad_fn=<MulBackward0>)\n",
      "tensor(0.7712, grad_fn=<MulBackward0>)\n",
      "tensor(0.7711, grad_fn=<MulBackward0>)\n",
      "tensor(0.7709, grad_fn=<MulBackward0>)\n",
      "tensor(0.7707, grad_fn=<MulBackward0>)\n",
      "tensor(0.7705, grad_fn=<MulBackward0>)\n",
      "tensor(0.7704, grad_fn=<MulBackward0>)\n",
      "tensor(0.7703, grad_fn=<MulBackward0>)\n",
      "tensor(0.7701, grad_fn=<MulBackward0>)\n",
      "tensor(0.7700, grad_fn=<MulBackward0>)\n",
      "tensor(0.7699, grad_fn=<MulBackward0>)\n",
      "tensor(0.7698, grad_fn=<MulBackward0>)\n",
      "tensor(0.7697, grad_fn=<MulBackward0>)\n",
      "tensor(0.7696, grad_fn=<MulBackward0>)\n",
      "tensor(0.7696, grad_fn=<MulBackward0>)\n",
      "tensor(0.7695, grad_fn=<MulBackward0>)\n",
      "tensor(0.7694, grad_fn=<MulBackward0>)\n",
      "tensor(0.7694, grad_fn=<MulBackward0>)\n",
      "tensor(0.7693, grad_fn=<MulBackward0>)\n",
      "tensor(0.7693, grad_fn=<MulBackward0>)\n",
      "tensor(0.7693, grad_fn=<MulBackward0>)\n",
      "tensor(0.7692, grad_fn=<MulBackward0>)\n",
      "tensor(0.7692, grad_fn=<MulBackward0>)\n",
      "tensor(0.7692, grad_fn=<MulBackward0>)\n",
      "tensor(0.7692, grad_fn=<MulBackward0>)\n",
      "tensor(0.7692, grad_fn=<MulBackward0>)\n",
      "tensor(0.7691, grad_fn=<MulBackward0>)\n",
      "tensor(0.7691, grad_fn=<MulBackward0>)\n",
      "tensor(0.7691, grad_fn=<MulBackward0>)\n",
      "tensor(0.7691, grad_fn=<MulBackward0>)\n",
      "tensor(0.7691, grad_fn=<MulBackward0>)\n",
      "tensor(0.7691, grad_fn=<MulBackward0>)\n",
      "tensor(0.7691, grad_fn=<MulBackward0>)\n",
      "tensor(0.7691, grad_fn=<MulBackward0>)\n",
      "tensor(0.7691, grad_fn=<MulBackward0>)\n",
      "tensor(0.7691, grad_fn=<MulBackward0>)\n",
      "tensor(0.7691, grad_fn=<MulBackward0>)\n",
      "tensor(0.7691, grad_fn=<MulBackward0>)\n",
      "tensor(0.7691, grad_fn=<MulBackward0>)\n",
      "tensor(0.7691, grad_fn=<MulBackward0>)\n",
      "tensor(0.7691, grad_fn=<MulBackward0>)\n",
      "tensor(0.7691, grad_fn=<MulBackward0>)\n",
      "tensor(0.7691, grad_fn=<MulBackward0>)\n",
      "tensor(0.7691, grad_fn=<MulBackward0>)\n",
      "tensor(0.7691, grad_fn=<MulBackward0>)\n",
      "tensor(0.7691, grad_fn=<MulBackward0>)\n",
      "tensor(0.7691, grad_fn=<MulBackward0>)\n",
      "tensor(0.7691, grad_fn=<MulBackward0>)\n",
      "tensor(0.7691, grad_fn=<MulBackward0>)\n",
      "tensor(0.7691, grad_fn=<MulBackward0>)\n",
      "tensor(0.7691, grad_fn=<MulBackward0>)\n",
      "tensor(0.7691, grad_fn=<MulBackward0>)\n",
      "tensor(0.7691, grad_fn=<MulBackward0>)\n",
      "tensor(0.7691, grad_fn=<MulBackward0>)\n",
      "tensor(0.7691, grad_fn=<MulBackward0>)\n",
      "Optimal temperature: 0.916\n",
      "After temperature - NLL: 0.038\n",
      "0.04009655490517616\n",
      "0.040216244757175446\n"
     ]
    }
   ],
   "source": [
    "orig_model = model\n",
    "valid_loader = test_train_calib_loader\n",
    "logits_test_temp, labels_test_temp = set_logits_data(test_test_calib_loader, device, model, BATCH_SIZE, NB_BINS, EMBEDDING_SIZE, NUM_BINS_LOGITS)\n",
    "scaled_model = ModelWithTemperature(orig_model, device, BATCH_SIZE, NB_BINS, EMBEDDING_SIZE, NUM_BINS_LOGITS)\n",
    "scaled_model.set_temperature(valid_loader)\n",
    "m = torch.nn.LogSoftmax(dim=1)\n",
    "nll_criterion = torch.nn.BCEWithLogitsLoss()\n",
    "print(nll_criterion(m(logits_test_temp), labels_test_temp).item())\n",
    "logits_test_temps_scaled = scaled_model.temperature_scale(logits_test_temp)\n",
    "\n",
    "print(nll_criterion(m(logits_test_temps_scaled), labels_test_temp).item())"
   ]
  },
  {
   "cell_type": "code",
   "execution_count": 24,
   "metadata": {},
   "outputs": [
    {
     "name": "stdout",
     "output_type": "stream",
     "text": [
      "86.01638385796403\n",
      "[84.54061572 84.46255591 85.01322006 85.38895231 85.50620018 85.51829203\n",
      " 85.19174218 85.44427389 85.58522405 85.67822821 85.75993095 85.64820199\n",
      " 85.59408953 85.28934087 85.571032   85.77917066 86.27475279 86.76802695\n",
      " 86.32554103 86.05046937 86.14809406 86.21687581 86.07220474 85.8739161\n",
      " 85.76361642 85.90771156 85.6579783  85.79248803 85.8752642  85.97800239\n",
      " 86.10943468 86.249394   86.10587286 86.12400665 86.0687242  85.85920663\n",
      " 85.87433623 85.80414998 85.80387377 85.67486704 85.67683808 85.71611754\n",
      " 85.55029543 85.47544064 84.79453024 84.08487495 84.08487495 84.24018727\n",
      " 84.08487495 84.08487495 84.08487495 84.23925352 84.48266376 84.53564079\n",
      " 84.76846457 84.97083133 85.23572997 85.96581515 86.29110395 86.55309558\n",
      " 86.47614806 86.47205906 86.30254772 85.86132289 85.09221728 84.99384911\n",
      " 84.82767316 84.44852804 84.60312057 85.04027851 85.30572695 85.35150877\n",
      " 85.40235838 85.17554024 85.32699218 85.42960649 85.6339246  85.87793275\n",
      " 86.13398045 86.19567868 86.33402801 86.1564957  85.96479362 86.04934881\n",
      " 86.49503265 86.86994801 87.03260474 87.15033883 87.22581858 87.52425355\n",
      " 87.78413085 88.17142417 88.36245257 88.49752628 88.48264475 88.41258301\n",
      " 88.46592106 88.41457513 88.2830429  87.60616157 87.10231206 87.0056629\n",
      " 87.22896805 87.43165377 87.56606206 87.49333003 87.66806211 87.95928888\n",
      " 88.15585661 88.13276328 88.08141716 87.8700316  87.86475347 87.84890991\n",
      " 87.8526784  88.06294845 88.08107497 87.99704642 87.78291768 87.54893811\n",
      " 87.62050756 87.60088006 87.520106   87.10609883 86.70238197 86.42518475\n",
      " 86.33829343 86.10962311 86.05248492 85.99772026 85.90182133 85.80918402\n",
      " 86.03495494 86.24187692 86.53194626 86.78061243 87.1978568  87.78386535\n",
      " 87.38900705 86.8964135  86.59145156 86.35766268 86.24370191 86.06972102\n",
      " 86.1838457  86.21825599 86.24119825 86.22974689 86.35320116 86.20594969\n",
      " 86.10610603 86.20978916 86.43212727 86.60113248 86.65259192 86.64836653\n",
      " 86.53569678 86.51176891 86.33367379 86.26022109 86.17967831 86.10916594\n",
      " 85.99543819 86.04907465 85.63667518 85.50000251 85.34361802 85.33473127\n",
      " 85.64034293 85.89222384 85.94291599 85.9712133  85.9869662  86.1389132\n",
      " 85.92405158 85.50873229 85.08733352 85.03243042 85.15401108 85.12311408\n",
      " 84.83938602 84.35791197 84.30889056 84.36204873 84.59182837 84.96181938\n",
      " 84.65134221 84.17010456 84.08487495 84.08487495 84.08487495 84.08487495\n",
      " 84.08487495 84.08487495 84.08487495 84.08487495 84.08487495 84.30817494\n",
      " 84.58897421 84.95924933 85.49138734 85.13783087]\n"
     ]
    }
   ],
   "source": [
    "confidence_metric_scaled, plddt_scaled = scale_logits(trussart_pred_logits, scaled_model, BATCH_SIZE, NB_BINS)\n",
    "print(confidence_metric_scaled)\n",
    "print(plddt_scaled)"
   ]
  },
  {
   "cell_type": "code",
   "execution_count": 25,
   "metadata": {},
   "outputs": [
    {
     "name": "stdout",
     "output_type": "stream",
     "text": [
      "22.771794411648127\n",
      "21.012991253142005\n"
     ]
    }
   ],
   "source": [
    "mse_unscalled, mse_scalled = mse_unscaled_scaled(value, pLLDTs, plddt_scaled)\n",
    "print(mse_unscalled)\n",
    "print(mse_scalled)"
   ]
  },
  {
   "cell_type": "code",
   "execution_count": 26,
   "metadata": {},
   "outputs": [],
   "source": [
    "valid_loader = test_train_calib_loader\n",
    "logits_test_temp, labels_test_temp = set_logits_data(test_train_calib_loader, device, model, BATCH_SIZE, NB_BINS, EMBEDDING_SIZE, NUM_BINS_LOGITS)"
   ]
  },
  {
   "cell_type": "code",
   "execution_count": 27,
   "metadata": {},
   "outputs": [
    {
     "name": "stdout",
     "output_type": "stream",
     "text": [
      "2.8878514987669632\n",
      "3.3354670832259425\n",
      "85.38048031105055\n",
      "[83.33558072 83.14080413 84.09478411 84.69705177 84.83671773 84.9160472\n",
      " 84.38033575 84.86350167 85.03814809 85.10769262 85.16100859 85.08956008\n",
      " 85.0596085  84.53886171 84.90731623 85.12243307 85.63249713 86.30268478\n",
      " 85.74398784 85.50582584 85.6115195  85.68624862 85.51901502 85.25720266\n",
      " 85.16294166 85.31882188 85.09496558 85.20156193 85.25786521 85.40074673\n",
      " 85.55519746 85.70798685 85.54826067 85.58855675 85.51747682 85.249818\n",
      " 85.25738906 85.22183798 85.22168276 85.10585352 85.10693639 85.1392385\n",
      " 85.01810075 84.89967965 83.64830108 83.17079376 83.17079376 82.75187674\n",
      " 83.17079376 83.17079376 83.17079376 82.75129838 83.26301991 83.33057438\n",
      " 83.67430431 84.11639759 84.48195193 85.17069407 85.58978776 85.94103491\n",
      " 85.8108934  85.80944861 85.60951388 85.08082763 84.26340639 84.14442792\n",
      " 83.7552247  83.1580987  83.39462501 84.18910064 84.5914906  84.63080258\n",
      " 84.65555637 84.40341116 84.60189499 84.6598364  84.95504324 85.10000736\n",
      " 85.33111944 85.41783792 85.64142415 85.37851287 85.17026513 85.21266871\n",
      " 85.85694562 86.46152522 86.71147816 86.82083236 86.89482818 87.1976151\n",
      " 87.63429478 87.95342718 88.50833832 88.60850057 88.61030156 88.56125904\n",
      " 88.56472602 88.56188328 88.030987   87.33251352 86.77448553 86.66385145\n",
      " 86.94013512 87.14794107 87.22281977 87.17682095 87.42127525 87.83849798\n",
      " 88.20571778 88.20220149 88.19769451 87.74595335 87.74449045 87.74214328\n",
      " 87.69714053 87.93213466 87.94172573 87.83608233 87.52900612 87.22161412\n",
      " 87.31794274 87.26485955 87.22037198 86.79977704 86.25622752 85.84462976\n",
      " 85.75372807 85.48196527 85.35979964 85.31544126 85.26517554 85.19764332\n",
      " 85.31980594 85.62544868 85.98893155 86.40956831 86.92466716 87.52139818\n",
      " 87.18755552 86.5620412  86.17425449 85.73257424 85.62070965 85.36037084\n",
      " 85.51335768 85.52919995 85.58369821 85.55732998 85.74745454 85.50932843\n",
      " 85.35792001 85.51082595 85.8829571  86.14884452 86.220242   86.2096742\n",
      " 86.07398464 85.96368925 85.69076142 85.5966851  85.49853464 85.35920092\n",
      " 85.2919654  85.33120769 84.97046163 84.79337433 84.62252914 84.61773399\n",
      " 84.98937446 85.23187806 85.25472101 85.26726888 85.28826934 85.45773727\n",
      " 85.24630384 84.80954053 84.18349221 84.12628503 84.29788277 84.28041457\n",
      " 83.85343361 82.93738969 82.86612945 82.94627235 83.43282379 84.0388427\n",
      " 83.47078252 82.66643859 83.17079376 83.17079376 83.17079376 83.17079376\n",
      " 83.17079376 83.17079376 83.17079376 83.17079376 83.17079376 82.86566426\n",
      " 83.43100962 84.03732876 84.76703589 84.33452505]\n"
     ]
    }
   ],
   "source": [
    "confidence_metric_iso, pLDDT_iso = isotonic_calibration(logits_test_temp, labels_test_temp, trussart_pred_logits)\n",
    "print(confidence_metric_iso)\n",
    "print(pLDDT_iso)"
   ]
  },
  {
   "cell_type": "code",
   "execution_count": 28,
   "metadata": {},
   "outputs": [
    {
     "name": "stdout",
     "output_type": "stream",
     "text": [
      "22.771794411648127\n",
      "23.83696438556323\n"
     ]
    }
   ],
   "source": [
    "mse_unscalled, mse_scalled = mse_unscaled_scaled(value, pLLDTs, pLDDT_iso)\n",
    "print(mse_unscalled)\n",
    "print(mse_scalled)"
   ]
  },
  {
   "cell_type": "code",
   "execution_count": 29,
   "metadata": {},
   "outputs": [],
   "source": [
    "valid_loader = test_train_calib_loader\n",
    "logits_test_temp, labels_test_temp = set_logits_data(test_train_calib_loader, device, model, BATCH_SIZE, NB_BINS, EMBEDDING_SIZE, NUM_BINS_LOGITS)"
   ]
  },
  {
   "cell_type": "code",
   "execution_count": 30,
   "metadata": {},
   "outputs": [
    {
     "name": "stdout",
     "output_type": "stream",
     "text": [
      "2.8878514987669632\n",
      "2.8815617158074582\n",
      "85.3155179697369\n",
      "[83.45494539 83.35845794 84.04493649 84.52174701 84.67671889 84.70215306\n",
      " 84.29425857 84.62318841 84.80707218 84.92881114 85.03594758 84.88943696\n",
      " 84.81871252 84.42193656 84.75413885 85.00806686 85.64419363 86.28126661\n",
      " 85.75201507 85.41782073 85.54616803 85.63649799 85.44642692 85.18569185\n",
      " 85.04078028 85.23011536 84.90229672 85.07869011 85.18748105 85.32254752\n",
      " 85.49534297 85.67913012 85.49069898 85.51453885 85.44185963 85.16633375\n",
      " 85.18620857 85.09399413 85.09364092 84.92439094 84.9269805  84.97849045\n",
      " 84.76141012 84.66377568 83.78646028 82.87789279 82.87789279 83.08070724\n",
      " 82.87789279 82.87789279 82.87789279 83.07954547 83.37775717 83.44283154\n",
      " 83.729483   83.97977312 84.30892731 85.22475845 85.6361794  85.9687227\n",
      " 85.87094075 85.8657478  85.65065071 85.09294266 84.13042919 84.00830233\n",
      " 83.80265983 83.33591486 83.52575776 84.06588523 84.39623293 84.45535534\n",
      " 84.51903299 84.23400889 84.42273908 84.55096208 84.81253801 85.11660898\n",
      " 85.43720565 85.51534525 85.69058003 85.4657374  85.22347555 85.33024384\n",
      " 85.89503169 86.36586462 86.56742433 86.71271284 86.80686649 87.18558857\n",
      " 87.50597677 87.96380059 88.18639021 88.33154296 88.32387761 88.23836715\n",
      " 88.30564067 88.24723333 88.09304792 87.30542978 86.70398026 86.58337612\n",
      " 86.85152673 87.0963836  87.26582273 87.18114295 87.39561255 87.73949051\n",
      " 87.97443267 87.94372874 87.8850435  87.6260169  87.61482128 87.59628753\n",
      " 87.60157036 87.85345054 87.87385769 87.77619989 87.52846328 87.25271177\n",
      " 87.34020954 87.31861949 87.2190856  86.71994482 86.2243108  85.87462214\n",
      " 85.7655003  85.4723021  85.38955901 85.31001751 85.18326696 85.06144759\n",
      " 85.34755764 85.61326549 85.98650555 86.29635901 86.80835084 87.4991166\n",
      " 87.0400435  86.44664978 86.07270817 85.77793302 85.62887336 85.39796877\n",
      " 85.54089948 85.57654335 85.6003172  85.58137103 85.7372173  85.55131692\n",
      " 85.42489861 85.55611969 85.84321467 86.05904252 86.12619667 86.1215775\n",
      " 85.98060335 85.95569221 85.72947372 85.62790126 85.52017322 85.42881521\n",
      " 85.28472702 85.35271368 84.83012418 84.65720973 84.45972823 84.44851062\n",
      " 84.83474938 85.15391916 85.21813797 85.25402329 85.27403704 85.46649197\n",
      " 85.19430358 84.6681993  84.13736229 84.06850522 84.22108877 84.18228628\n",
      " 83.82712209 83.22874676 83.1680756  83.23390258 83.51884543 83.9801142\n",
      " 83.59284052 82.9964068  82.87789279 82.87789279 82.87789279 82.87789279\n",
      " 82.87789279 82.87789279 82.87789279 82.87789279 82.87789279 83.16722987\n",
      " 83.51531874 83.97687678 84.63826861 84.19619973]\n"
     ]
    }
   ],
   "source": [
    "confidence_metric_beta, pLDDT_beta = beta_calibration(logits_test_temp, labels_test_temp, trussart_pred_logits)\n",
    "print(confidence_metric_beta)\n",
    "print(pLDDT_beta)"
   ]
  },
  {
   "cell_type": "code",
   "execution_count": 31,
   "metadata": {},
   "outputs": [
    {
     "name": "stdout",
     "output_type": "stream",
     "text": [
      "22.771794411648127\n",
      "23.92975783838049\n"
     ]
    }
   ],
   "source": [
    "mse_unscalled, mse_scalled = mse_unscaled_scaled(value, pLLDTs, pLDDT_beta)\n",
    "print(mse_unscalled)\n",
    "print(mse_scalled)"
   ]
  },
  {
   "cell_type": "code",
   "execution_count": 32,
   "metadata": {},
   "outputs": [
    {
     "data": {
      "application/vnd.plotly.v1+json": {
       "config": {
        "plotlyServerURL": "https://plot.ly"
       },
       "data": [
        {
         "line": {
          "color": "darkblue",
          "width": 2
         },
         "marker": {
          "color": [
           84.54061572323553,
           84.46255590656074,
           85.01322005873952,
           85.38895230638445,
           85.50620017852634,
           85.51829203126545,
           85.19174217950784,
           85.44427388513577,
           85.58522404644464,
           85.6782282078857,
           85.75993094694424,
           85.64820198702364,
           85.59408953226375,
           85.28934087067319,
           85.57103199687846,
           85.77917065546353,
           86.27475279137434,
           86.76802694690561,
           86.32554102954236,
           86.05046936710279,
           86.14809405906999,
           86.21687581010701,
           86.07220474053247,
           85.87391609941551,
           85.76361641554831,
           85.90771156258417,
           85.65797830027442,
           85.79248802944494,
           85.87526420167706,
           85.97800238851052,
           86.10943467733887,
           86.24939399534924,
           86.10587286263035,
           86.12400664981399,
           86.06872420098807,
           85.8592066293786,
           85.87433622904062,
           85.80414998492779,
           85.80387377065925,
           85.67486704236218,
           85.67683807788124,
           85.71611754009791,
           85.55029542977718,
           85.47544064374235,
           84.79453024205577,
           84.08487494927249,
           84.08487494927249,
           84.24018727487419,
           84.08487494927249,
           84.08487494927249,
           84.08487494927249,
           84.23925351764774,
           84.48266376034006,
           84.53564079283387,
           84.76846457262582,
           84.97083132737316,
           85.2357299669966,
           85.96581514948774,
           86.29110395343741,
           86.55309558407318,
           86.4761480629968,
           86.47205905846931,
           86.30254771514593,
           85.86132288789666,
           85.09221727649856,
           84.99384910636581,
           84.82767315808451,
           84.4485280358349,
           84.60312056986731,
           85.04027850581042,
           85.30572695453884,
           85.3515087695123,
           85.40235837717773,
           85.17554023889534,
           85.32699218465132,
           85.42960649162707,
           85.63392460075556,
           85.87793274593425,
           86.1339804469244,
           86.19567867509615,
           86.3340280125485,
           86.15649569555536,
           85.96479362195532,
           86.0493488121574,
           86.49503264837404,
           86.86994800763932,
           87.03260474482522,
           87.15033883165415,
           87.22581857587647,
           87.52425354994557,
           87.78413085463306,
           88.17142417211427,
           88.3624525668704,
           88.49752627809528,
           88.48264475110182,
           88.41258301211404,
           88.4659210589133,
           88.41457513014439,
           88.28304290433742,
           87.60616157256938,
           87.10231205788295,
           87.00566289845666,
           87.2289680518079,
           87.43165377418609,
           87.5660620649187,
           87.4933300347575,
           87.6680621073283,
           87.95928887519719,
           88.15585661453974,
           88.13276327904418,
           88.08141716302134,
           87.87003159961114,
           87.86475347154465,
           87.8489099147755,
           87.85267839782183,
           88.06294845032244,
           88.08107497364041,
           87.99704641995778,
           87.78291767525842,
           87.54893811370857,
           87.62050756293685,
           87.60088006145132,
           87.52010599686855,
           87.10609882624158,
           86.70238196950775,
           86.42518474977624,
           86.338293433706,
           86.10962311271578,
           86.05248492334795,
           85.99772026118443,
           85.90182132621705,
           85.80918401782401,
           86.03495493997616,
           86.24187691611587,
           86.53194625618562,
           86.7806124265335,
           87.19785680451787,
           87.78386534693027,
           87.38900704562275,
           86.89641350107559,
           86.59145156207524,
           86.3576626840404,
           86.24370191353593,
           86.06972102027794,
           86.18384569796035,
           86.2182559929206,
           86.24119824924492,
           86.22974689326657,
           86.35320116467119,
           86.2059496914444,
           86.10610602599628,
           86.20978916001332,
           86.43212727023274,
           86.60113248375274,
           86.65259192180018,
           86.64836652581288,
           86.5356967807893,
           86.51176891221984,
           86.33367379373156,
           86.26022108816687,
           86.17967831416172,
           86.10916593916045,
           85.99543819019891,
           86.04907465289578,
           85.63667518350849,
           85.50000250781886,
           85.34361801916384,
           85.33473126568424,
           85.64034292598808,
           85.89222383777813,
           85.94291598729616,
           85.97121329728543,
           85.98696619532711,
           86.13891320231052,
           85.92405158252949,
           85.5087322870968,
           85.08733351991397,
           85.03243041726819,
           85.15401107618528,
           85.12311407805828,
           84.83938602317357,
           84.35791196743956,
           84.3088905605546,
           84.3620487341832,
           84.59182836540276,
           84.96181937836809,
           84.65134221190237,
           84.17010456262507,
           84.08487494927249,
           84.08487494927249,
           84.08487494927249,
           84.08487494927249,
           84.08487494927249,
           84.08487494927249,
           84.08487494927249,
           84.08487494927249,
           84.08487494927249,
           84.30817494131043,
           84.5889742091531,
           84.95924932876368,
           85.49138734018197,
           85.13783087350022
          ],
          "colorscale": [
           [
            0,
            "rgb(150,0,90)"
           ],
           [
            0.125,
            "rgb(0,0,200)"
           ],
           [
            0.25,
            "rgb(0,25,255)"
           ],
           [
            0.375,
            "rgb(0,152,255)"
           ],
           [
            0.5,
            "rgb(44,255,150)"
           ],
           [
            0.625,
            "rgb(151,255,0)"
           ],
           [
            0.75,
            "rgb(255,234,0)"
           ],
           [
            0.875,
            "rgb(255,111,0)"
           ],
           [
            1,
            "rgb(255,0,0)"
           ]
          ],
          "line": {
           "width": 3
          },
          "size": 6
         },
         "opacity": 0.7,
         "scene": "scene",
         "type": "scatter3d",
         "x": [
          -0.13858974127458587,
          -0.044895221469170535,
          0.127406162339736,
          0.1894549878833696,
          0.23538980122553224,
          0.2803520653666558,
          0.3118494054165787,
          0.34861295809259013,
          0.3607542038938959,
          0.3691402812519375,
          0.3591901721699866,
          0.3295499193762249,
          0.2727951266185531,
          0.14853736988291208,
          -0.0010525738234735229,
          -0.06810120528468777,
          -0.028879225726796215,
          0.08837242575428676,
          0.26749301272113907,
          0.3557017555414115,
          0.4058413190094657,
          0.43141585045279407,
          0.4006268334555321,
          0.3829140798153966,
          0.3629948682995054,
          0.4336165978261323,
          0.39839597135710025,
          0.4350789999488896,
          0.4211062189467189,
          0.4490459610569831,
          0.4555367764598961,
          0.4480561513018011,
          0.3815496806986034,
          0.4004987646225925,
          0.39631917244657894,
          0.3696899632960986,
          0.36653411251169565,
          0.33605936762976474,
          0.272560101670105,
          0.20241309428804327,
          0.18361159982922598,
          0.18027543325181883,
          0.13283051221926453,
          0.12504608089088481,
          0.01520373967875486,
          -0.042807653279323066,
          -0.20118318208921607,
          -0.383661059247031,
          -0.4726795808051448,
          -0.5169144704272474,
          -0.5536608177864856,
          -0.592522449021266,
          -0.5572432472180255,
          -0.5074325162709301,
          -0.4507422714751126,
          -0.44710989211211816,
          -0.4335853722094937,
          -0.43304521952964925,
          -0.48707592459615484,
          -0.481611555068245,
          -0.4467555082208214,
          -0.4728592559716681,
          -0.4380803830915519,
          -0.49150296316253056,
          -0.558367391092866,
          -0.6165368888822131,
          -0.6179635220832395,
          -0.5860349516661304,
          -0.5460639159852186,
          -0.4967082295326129,
          -0.4714510966540907,
          -0.4045840275328843,
          -0.3231873573072592,
          -0.22652857343787125,
          -0.15254681082288551,
          -0.14969557416534707,
          -0.1320418898962965,
          -0.17922053293064244,
          -0.24855457720716984,
          -0.2789232772472083,
          -0.31943317736862004,
          -0.34134249352854446,
          -0.2999290340555426,
          -0.24781423558669458,
          -0.15302789929652993,
          -0.13749453379753238,
          -0.14758801823387316,
          -0.13638575252186502,
          -0.060141421911746144,
          0.07730439847985203,
          0.1424168924756315,
          0.21510017828169217,
          0.2952475453673902,
          0.29745806360774646,
          0.34865258651725717,
          0.35736478849832964,
          0.3586352504086636,
          0.3701245005973784,
          0.3410805494201635,
          0.32628007142840026,
          0.29975054743261775,
          0.2692424014610705,
          0.22417494956692233,
          0.181099581527031,
          0.16266846172581867,
          0.1550743245636324,
          0.1850546776652957,
          0.20244456928388851,
          0.22053375611483705,
          0.18051751607228284,
          0.1614842666323786,
          0.09129258012124995,
          0.08064394098789604,
          0.07388094568265181,
          0.13256377320753254,
          0.19326727824682932,
          0.22255794993059944,
          0.23537227046426945,
          0.24637266755385268,
          0.3019296746439308,
          0.31792136063723364,
          0.3287643525892906,
          0.3252192991047944,
          0.35073610013169676,
          0.3433768566027831,
          0.31699407693411147,
          0.3175189417747052,
          0.29519142601680964,
          0.22883754129639014,
          0.17681732649784104,
          0.1481534895561071,
          0.12670025922850245,
          0.13871386432483856,
          0.1693379727343967,
          0.2282552054069314,
          0.24041276569734432,
          0.2698650934043269,
          0.3263190725466762,
          0.3255892460765592,
          0.2896134305617725,
          0.2895595778449718,
          0.2652076356983687,
          0.2474197059057479,
          0.2268187261015273,
          0.2711425714775594,
          0.2686955712879139,
          0.27063364296507053,
          0.2404330353171463,
          0.238946153758577,
          0.1680193396792475,
          0.1467937509563363,
          0.17140761348351644,
          0.2422266717064813,
          0.26050381260439237,
          0.2784974506133655,
          0.30359397453452336,
          0.30474656209832124,
          0.3489973369648733,
          0.34690827479952924,
          0.3141102788260369,
          0.2962194512791824,
          0.2680406472797972,
          0.2591843527777435,
          0.20891239195609307,
          -0.00014462469405077417,
          -0.07409386062317116,
          -0.17490302215216855,
          -0.27164141751221677,
          -0.2895044853120292,
          -0.347290301838619,
          -0.37543810927856164,
          -0.4689097506122258,
          -0.5327345696724783,
          -0.517939470023518,
          -0.5010758658001131,
          -0.4461775269179133,
          -0.32058272124255144,
          -0.23313317596782215,
          -0.0920878799947043,
          -0.14341809900217464,
          -0.16086376975699807,
          -0.2186016292082424,
          -0.2924374984054862,
          -0.3803305835582456,
          -0.42519819517404117,
          -0.4581456504393809,
          -0.5209348940780154,
          -0.5711419915334485,
          -0.6410168932651618,
          -0.6944712327905079,
          -0.6953965197638091,
          -0.5890667816035311,
          -0.49199145097576724,
          -0.42138167388531594,
          -0.41216788942563093,
          -0.463630213471478,
          -0.38207383086977337,
          -0.3763693278905603,
          -0.3692656342998127,
          -0.32875649589196737,
          -0.35747845760760394,
          -0.3194231767226541
         ],
         "y": [
          0.12757218767383835,
          0.14322596167542984,
          0.208069065312515,
          0.2570531855847516,
          0.23091992545318743,
          0.14982755556314148,
          0.087090152807555,
          -0.023218057510051546,
          -0.1081320816445283,
          -0.1474205276377611,
          -0.20148349349264957,
          -0.17998439826948395,
          -0.22833613291899624,
          -0.25586538828536026,
          -0.3072752105591404,
          -0.34756873053715315,
          -0.41421191821849884,
          -0.43387545979505665,
          -0.361620332333123,
          -0.31231729269291636,
          -0.30312653896484765,
          -0.31880954122438154,
          -0.30314666247014704,
          -0.22762884360906785,
          -0.1988655960444894,
          -0.1823958128421001,
          -0.09189725723949888,
          -0.0899035279189195,
          -0.1488421752133712,
          -0.1575009114655417,
          -0.2207782989681677,
          -0.3414592993834549,
          -0.37387412956625854,
          -0.36145952701431294,
          -0.34342826181723496,
          -0.28201353190517164,
          -0.34194219330020215,
          -0.39113917931008524,
          -0.5176140491761317,
          -0.571442002407419,
          -0.6165428221064578,
          -0.638024092612355,
          -0.6249621740746706,
          -0.5591469638265862,
          -0.4065130443763301,
          -0.24003802078278544,
          -0.2372166253516408,
          -0.23862905092699477,
          -0.1785579876732904,
          -0.24646986519862674,
          -0.279235905913191,
          -0.22293307606694554,
          -0.1685581685781335,
          -0.14836923477782119,
          -0.20554646598616602,
          -0.3557548602889576,
          -0.47669223830177143,
          -0.6179611378526347,
          -0.5876942083775792,
          -0.5959324310339473,
          -0.5433156010933784,
          -0.46791073708073944,
          -0.3911729681888261,
          -0.246578480638406,
          -0.13876084326593333,
          -0.1036585311513505,
          -0.06640056755155896,
          0.047982294500482706,
          0.09076449398058642,
          0.08671375256467666,
          0.08342091168240817,
          0.11543069026583881,
          0.06940211829135731,
          -0.013905522545158505,
          -0.15146002627303706,
          -0.2267350050100467,
          -0.3022296303296481,
          -0.3495146595199421,
          -0.42417911359622973,
          -0.41499430582165836,
          -0.3515519220071055,
          -0.2536920989719481,
          -0.20590957959008196,
          -0.17600836944170486,
          -0.14777823909750157,
          -0.07995774068296986,
          -0.019140682752359032,
          0.019624884504827047,
          0.07727288821376779,
          0.0011099031598478916,
          -0.11492973739060704,
          -0.15894790855127988,
          -0.1991327999458131,
          -0.1001387374367645,
          -0.21573922673145873,
          -0.17163825638812003,
          -0.2304526474673808,
          -0.24269389488554252,
          -0.19852257504265836,
          -0.11269148461402884,
          -0.09512291675637452,
          -0.10232690100862062,
          -0.16625157654361158,
          -0.24509002604637994,
          -0.3717916579068824,
          -0.41461966814056306,
          -0.4528477411170178,
          -0.41355492991858894,
          -0.43586689200296636,
          -0.3905853269411832,
          -0.4035483944757416,
          -0.32734308246437654,
          -0.2777000065559992,
          -0.28253084443518806,
          -0.2909779000389099,
          -0.3252491863612401,
          -0.3238856975493249,
          -0.33908037994738316,
          -0.39555839869512216,
          -0.3960638084482117,
          -0.42733401715772695,
          -0.4455687230877851,
          -0.38685156283722316,
          -0.24815527024664408,
          -0.16074794381362434,
          -0.08363767787028302,
          -0.05131420853320588,
          -0.01983109266144348,
          0.007456771770792241,
          0.05413631272820255,
          0.07535814471629738,
          0.11907693103749488,
          0.16184438201495865,
          0.17499855089329847,
          0.16874412763599156,
          0.15157485919617825,
          0.10609018496879861,
          0.14879411546336188,
          0.1508525266191857,
          0.10856266382044542,
          0.0793229460031596,
          0.06730766327195935,
          0.10977928778653795,
          0.2001168933696696,
          0.28456761209856285,
          0.38526795051944235,
          0.45627701328650494,
          0.5126936675685585,
          0.5572950920101764,
          0.5639993890229242,
          0.4937312701305005,
          0.4646362094184013,
          0.42334793347047245,
          0.4170706347761768,
          0.40542534409755343,
          0.42466248670334034,
          0.41333273754291566,
          0.39431083078975465,
          0.39775026404576264,
          0.4627551828088657,
          0.5064427893935479,
          0.5080405082439298,
          0.515766332028786,
          0.6263826640944606,
          0.5880286535491379,
          0.6290883018044325,
          0.6403800941805756,
          0.6833061708936164,
          0.7417441398218956,
          0.8206541449879802,
          0.8421873615761643,
          0.8223722600991418,
          0.8195920860256013,
          0.8462021802399016,
          0.7727851495092053,
          0.6548431660777496,
          0.5324844023645886,
          0.45103969562994767,
          0.40042214440728247,
          0.3974423526467504,
          0.39860280141902643,
          0.36668046647476693,
          0.39683557016278237,
          0.46433766365113843,
          0.5585682521183485,
          0.6337295744529045,
          0.6394129557874465,
          0.5651510546423624,
          0.4784924169472925,
          0.395960134445681,
          0.3133533282327882,
          0.24574966163305806,
          0.21351041073936805,
          0.21573957291009885,
          0.2447934076452664,
          0.27350840921373626,
          0.35415483226868244,
          0.3783680387315939,
          0.3580441762791632,
          0.30319313109360246,
          0.2547660810279565,
          0.2377512703434695
         ],
         "z": [
          -0.007347708940947765,
          0.054502253586130756,
          0.04263347060140325,
          0.0445524279473279,
          0.05992228724635208,
          0.0823456866606804,
          0.18235575181229524,
          0.23722353639767751,
          0.2961317062297997,
          0.2944310554093352,
          0.26166959816494106,
          0.24668989975643568,
          0.19435686347766085,
          0.11636280249543095,
          0.04099661857004416,
          0.01508825352656066,
          -0.036806199784059405,
          -0.1471526647396274,
          -0.044604547593993814,
          0.058421037467178076,
          0.07757067091135143,
          0.0945471060732115,
          0.18054220116422603,
          0.25129330754686385,
          0.2660756976627278,
          0.3055709193772228,
          0.3178547614590967,
          0.27908934823808285,
          0.2326515287868449,
          0.2090491320884163,
          0.16189638083202237,
          0.15103019255739325,
          0.20097798507282752,
          0.21943638746915134,
          0.2541973698898751,
          0.33526773049202824,
          0.42780423880495566,
          0.5109757047514485,
          0.5295514446483058,
          0.5406658988073824,
          0.5596506961608892,
          0.5406403766288764,
          0.536938844210272,
          0.4565890699576068,
          0.38533019464482393,
          0.34690930127065794,
          0.3579435189821198,
          0.39052409196294624,
          0.5429678775706269,
          0.5851579093450598,
          0.5608043596460727,
          0.5142229784697195,
          0.4027679369024462,
          0.344895278303807,
          0.2994332592511121,
          0.35997768897524984,
          0.37537952953171033,
          0.28001957378196984,
          0.1930531029217654,
          0.10900890903240308,
          0.07436246240869093,
          0.03795399684886866,
          0.015387494457833072,
          0.0791739805364993,
          0.24601665088410044,
          0.2813997852455117,
          0.29339064746716903,
          0.2715501745637572,
          0.18230116729917487,
          0.05519510962764511,
          -0.02340357624564618,
          -0.05881543055771403,
          -0.0869566994901546,
          -0.0788381035810398,
          -0.06454057470038407,
          -0.03809644831145873,
          -0.014585796383724776,
          -0.03514073372430707,
          -0.03016709625570041,
          -0.03634136608804031,
          -0.10007062558903737,
          -0.10070743687520771,
          -0.10415595223761802,
          -0.18468441944457184,
          -0.317485307130217,
          -0.39345794569471504,
          -0.4265641555821967,
          -0.4543053075504168,
          -0.4776621306229059,
          -0.5086324622713662,
          -0.5453369917731978,
          -0.638215441184056,
          -0.680548902647763,
          -0.7418515989208178,
          -0.7106362114361434,
          -0.6939790525898653,
          -0.701301447682995,
          -0.6807661351323291,
          -0.6494420979315135,
          -0.4682369995402178,
          -0.34894677214951986,
          -0.33131276494275524,
          -0.38114047102936754,
          -0.42486092152763183,
          -0.44016772874486815,
          -0.41556824745494886,
          -0.44907907313797796,
          -0.5334048929161412,
          -0.5846842757271102,
          -0.5910697158910017,
          -0.5762829355218377,
          -0.539915980560199,
          -0.5487339794334073,
          -0.5446215510579447,
          -0.5351472262015333,
          -0.580051623179201,
          -0.5815428819895767,
          -0.5524586213505716,
          -0.4804519398189346,
          -0.40846201928546894,
          -0.4195645517245519,
          -0.40943626922409443,
          -0.3986266356504954,
          -0.31391955122948817,
          -0.23889246374200396,
          -0.20121265172416772,
          -0.18982376659893044,
          -0.14160158256531893,
          -0.17083216287563155,
          -0.18367848114969135,
          -0.17979984191563939,
          -0.17912048910228484,
          -0.21876884679815176,
          -0.24809725765514465,
          -0.28652309504858103,
          -0.3314889574974854,
          -0.4117295388807679,
          -0.5616276085528035,
          -0.4563647162737327,
          -0.3387478822214063,
          -0.26886895515657955,
          -0.22666301143964313,
          -0.19572368051827516,
          -0.12673556503334574,
          -0.08381728506068056,
          -0.06174513153611066,
          -0.041530377621343866,
          -0.02568603671445931,
          -0.03262423817357258,
          0.016449527512247854,
          -0.024539118938648456,
          -0.09200569961067293,
          -0.15345971005236592,
          -0.19953989934520594,
          -0.20440774747648116,
          -0.1672894223921961,
          -0.12588902479484548,
          -0.07424076362233882,
          -0.00876664309617196,
          0.003855194141947259,
          0.02653453952769412,
          0.02972003398221009,
          0.08166007025780873,
          0.163536281054671,
          0.20952199313850506,
          0.27684353694167846,
          0.3071349167373739,
          0.3246765718655646,
          0.2797210224856392,
          0.25330039347402844,
          0.24766964210224288,
          0.18411815879350382,
          0.15375157901247813,
          0.1252222110682193,
          0.1381948443000172,
          0.17911673315699958,
          0.22026793059579486,
          0.17661056645706036,
          0.13245361470190348,
          0.12149227578037874,
          0.19737154266380763,
          0.2647598812273887,
          0.2845305318011981,
          0.316499987398577,
          0.34839532522546557,
          0.3208976764155372,
          0.3895630380230763,
          0.4067565967020771,
          0.4462312061945881,
          0.5642484726857078,
          0.626163496602865,
          0.6171933879630239,
          0.5697228416550488,
          0.43143769863641573,
          0.3733387681607892,
          0.2818809415322676,
          0.29521403338335805,
          0.2369335736518245,
          0.14975069243376996,
          0.005286218040037818,
          -0.0746366783946373,
          -0.03393792219458116
         ]
        }
       ],
       "layout": {
        "height": 1000,
        "scene": {
         "domain": {
          "x": [
           0,
           1
          ],
          "y": [
           0,
           1
          ]
         }
        },
        "template": {
         "data": {
          "bar": [
           {
            "error_x": {
             "color": "#2a3f5f"
            },
            "error_y": {
             "color": "#2a3f5f"
            },
            "marker": {
             "line": {
              "color": "#E5ECF6",
              "width": 0.5
             }
            },
            "type": "bar"
           }
          ],
          "barpolar": [
           {
            "marker": {
             "line": {
              "color": "#E5ECF6",
              "width": 0.5
             }
            },
            "type": "barpolar"
           }
          ],
          "carpet": [
           {
            "aaxis": {
             "endlinecolor": "#2a3f5f",
             "gridcolor": "white",
             "linecolor": "white",
             "minorgridcolor": "white",
             "startlinecolor": "#2a3f5f"
            },
            "baxis": {
             "endlinecolor": "#2a3f5f",
             "gridcolor": "white",
             "linecolor": "white",
             "minorgridcolor": "white",
             "startlinecolor": "#2a3f5f"
            },
            "type": "carpet"
           }
          ],
          "choropleth": [
           {
            "colorbar": {
             "outlinewidth": 0,
             "ticks": ""
            },
            "type": "choropleth"
           }
          ],
          "contour": [
           {
            "colorbar": {
             "outlinewidth": 0,
             "ticks": ""
            },
            "colorscale": [
             [
              0,
              "#0d0887"
             ],
             [
              0.1111111111111111,
              "#46039f"
             ],
             [
              0.2222222222222222,
              "#7201a8"
             ],
             [
              0.3333333333333333,
              "#9c179e"
             ],
             [
              0.4444444444444444,
              "#bd3786"
             ],
             [
              0.5555555555555556,
              "#d8576b"
             ],
             [
              0.6666666666666666,
              "#ed7953"
             ],
             [
              0.7777777777777778,
              "#fb9f3a"
             ],
             [
              0.8888888888888888,
              "#fdca26"
             ],
             [
              1,
              "#f0f921"
             ]
            ],
            "type": "contour"
           }
          ],
          "contourcarpet": [
           {
            "colorbar": {
             "outlinewidth": 0,
             "ticks": ""
            },
            "type": "contourcarpet"
           }
          ],
          "heatmap": [
           {
            "colorbar": {
             "outlinewidth": 0,
             "ticks": ""
            },
            "colorscale": [
             [
              0,
              "#0d0887"
             ],
             [
              0.1111111111111111,
              "#46039f"
             ],
             [
              0.2222222222222222,
              "#7201a8"
             ],
             [
              0.3333333333333333,
              "#9c179e"
             ],
             [
              0.4444444444444444,
              "#bd3786"
             ],
             [
              0.5555555555555556,
              "#d8576b"
             ],
             [
              0.6666666666666666,
              "#ed7953"
             ],
             [
              0.7777777777777778,
              "#fb9f3a"
             ],
             [
              0.8888888888888888,
              "#fdca26"
             ],
             [
              1,
              "#f0f921"
             ]
            ],
            "type": "heatmap"
           }
          ],
          "heatmapgl": [
           {
            "colorbar": {
             "outlinewidth": 0,
             "ticks": ""
            },
            "colorscale": [
             [
              0,
              "#0d0887"
             ],
             [
              0.1111111111111111,
              "#46039f"
             ],
             [
              0.2222222222222222,
              "#7201a8"
             ],
             [
              0.3333333333333333,
              "#9c179e"
             ],
             [
              0.4444444444444444,
              "#bd3786"
             ],
             [
              0.5555555555555556,
              "#d8576b"
             ],
             [
              0.6666666666666666,
              "#ed7953"
             ],
             [
              0.7777777777777778,
              "#fb9f3a"
             ],
             [
              0.8888888888888888,
              "#fdca26"
             ],
             [
              1,
              "#f0f921"
             ]
            ],
            "type": "heatmapgl"
           }
          ],
          "histogram": [
           {
            "marker": {
             "colorbar": {
              "outlinewidth": 0,
              "ticks": ""
             }
            },
            "type": "histogram"
           }
          ],
          "histogram2d": [
           {
            "colorbar": {
             "outlinewidth": 0,
             "ticks": ""
            },
            "colorscale": [
             [
              0,
              "#0d0887"
             ],
             [
              0.1111111111111111,
              "#46039f"
             ],
             [
              0.2222222222222222,
              "#7201a8"
             ],
             [
              0.3333333333333333,
              "#9c179e"
             ],
             [
              0.4444444444444444,
              "#bd3786"
             ],
             [
              0.5555555555555556,
              "#d8576b"
             ],
             [
              0.6666666666666666,
              "#ed7953"
             ],
             [
              0.7777777777777778,
              "#fb9f3a"
             ],
             [
              0.8888888888888888,
              "#fdca26"
             ],
             [
              1,
              "#f0f921"
             ]
            ],
            "type": "histogram2d"
           }
          ],
          "histogram2dcontour": [
           {
            "colorbar": {
             "outlinewidth": 0,
             "ticks": ""
            },
            "colorscale": [
             [
              0,
              "#0d0887"
             ],
             [
              0.1111111111111111,
              "#46039f"
             ],
             [
              0.2222222222222222,
              "#7201a8"
             ],
             [
              0.3333333333333333,
              "#9c179e"
             ],
             [
              0.4444444444444444,
              "#bd3786"
             ],
             [
              0.5555555555555556,
              "#d8576b"
             ],
             [
              0.6666666666666666,
              "#ed7953"
             ],
             [
              0.7777777777777778,
              "#fb9f3a"
             ],
             [
              0.8888888888888888,
              "#fdca26"
             ],
             [
              1,
              "#f0f921"
             ]
            ],
            "type": "histogram2dcontour"
           }
          ],
          "mesh3d": [
           {
            "colorbar": {
             "outlinewidth": 0,
             "ticks": ""
            },
            "type": "mesh3d"
           }
          ],
          "parcoords": [
           {
            "line": {
             "colorbar": {
              "outlinewidth": 0,
              "ticks": ""
             }
            },
            "type": "parcoords"
           }
          ],
          "pie": [
           {
            "automargin": true,
            "type": "pie"
           }
          ],
          "scatter": [
           {
            "marker": {
             "colorbar": {
              "outlinewidth": 0,
              "ticks": ""
             }
            },
            "type": "scatter"
           }
          ],
          "scatter3d": [
           {
            "line": {
             "colorbar": {
              "outlinewidth": 0,
              "ticks": ""
             }
            },
            "marker": {
             "colorbar": {
              "outlinewidth": 0,
              "ticks": ""
             }
            },
            "type": "scatter3d"
           }
          ],
          "scattercarpet": [
           {
            "marker": {
             "colorbar": {
              "outlinewidth": 0,
              "ticks": ""
             }
            },
            "type": "scattercarpet"
           }
          ],
          "scattergeo": [
           {
            "marker": {
             "colorbar": {
              "outlinewidth": 0,
              "ticks": ""
             }
            },
            "type": "scattergeo"
           }
          ],
          "scattergl": [
           {
            "marker": {
             "colorbar": {
              "outlinewidth": 0,
              "ticks": ""
             }
            },
            "type": "scattergl"
           }
          ],
          "scattermapbox": [
           {
            "marker": {
             "colorbar": {
              "outlinewidth": 0,
              "ticks": ""
             }
            },
            "type": "scattermapbox"
           }
          ],
          "scatterpolar": [
           {
            "marker": {
             "colorbar": {
              "outlinewidth": 0,
              "ticks": ""
             }
            },
            "type": "scatterpolar"
           }
          ],
          "scatterpolargl": [
           {
            "marker": {
             "colorbar": {
              "outlinewidth": 0,
              "ticks": ""
             }
            },
            "type": "scatterpolargl"
           }
          ],
          "scatterternary": [
           {
            "marker": {
             "colorbar": {
              "outlinewidth": 0,
              "ticks": ""
             }
            },
            "type": "scatterternary"
           }
          ],
          "surface": [
           {
            "colorbar": {
             "outlinewidth": 0,
             "ticks": ""
            },
            "colorscale": [
             [
              0,
              "#0d0887"
             ],
             [
              0.1111111111111111,
              "#46039f"
             ],
             [
              0.2222222222222222,
              "#7201a8"
             ],
             [
              0.3333333333333333,
              "#9c179e"
             ],
             [
              0.4444444444444444,
              "#bd3786"
             ],
             [
              0.5555555555555556,
              "#d8576b"
             ],
             [
              0.6666666666666666,
              "#ed7953"
             ],
             [
              0.7777777777777778,
              "#fb9f3a"
             ],
             [
              0.8888888888888888,
              "#fdca26"
             ],
             [
              1,
              "#f0f921"
             ]
            ],
            "type": "surface"
           }
          ],
          "table": [
           {
            "cells": {
             "fill": {
              "color": "#EBF0F8"
             },
             "line": {
              "color": "white"
             }
            },
            "header": {
             "fill": {
              "color": "#C8D4E3"
             },
             "line": {
              "color": "white"
             }
            },
            "type": "table"
           }
          ]
         },
         "layout": {
          "annotationdefaults": {
           "arrowcolor": "#2a3f5f",
           "arrowhead": 0,
           "arrowwidth": 1
          },
          "autotypenumbers": "strict",
          "coloraxis": {
           "colorbar": {
            "outlinewidth": 0,
            "ticks": ""
           }
          },
          "colorscale": {
           "diverging": [
            [
             0,
             "#8e0152"
            ],
            [
             0.1,
             "#c51b7d"
            ],
            [
             0.2,
             "#de77ae"
            ],
            [
             0.3,
             "#f1b6da"
            ],
            [
             0.4,
             "#fde0ef"
            ],
            [
             0.5,
             "#f7f7f7"
            ],
            [
             0.6,
             "#e6f5d0"
            ],
            [
             0.7,
             "#b8e186"
            ],
            [
             0.8,
             "#7fbc41"
            ],
            [
             0.9,
             "#4d9221"
            ],
            [
             1,
             "#276419"
            ]
           ],
           "sequential": [
            [
             0,
             "#0d0887"
            ],
            [
             0.1111111111111111,
             "#46039f"
            ],
            [
             0.2222222222222222,
             "#7201a8"
            ],
            [
             0.3333333333333333,
             "#9c179e"
            ],
            [
             0.4444444444444444,
             "#bd3786"
            ],
            [
             0.5555555555555556,
             "#d8576b"
            ],
            [
             0.6666666666666666,
             "#ed7953"
            ],
            [
             0.7777777777777778,
             "#fb9f3a"
            ],
            [
             0.8888888888888888,
             "#fdca26"
            ],
            [
             1,
             "#f0f921"
            ]
           ],
           "sequentialminus": [
            [
             0,
             "#0d0887"
            ],
            [
             0.1111111111111111,
             "#46039f"
            ],
            [
             0.2222222222222222,
             "#7201a8"
            ],
            [
             0.3333333333333333,
             "#9c179e"
            ],
            [
             0.4444444444444444,
             "#bd3786"
            ],
            [
             0.5555555555555556,
             "#d8576b"
            ],
            [
             0.6666666666666666,
             "#ed7953"
            ],
            [
             0.7777777777777778,
             "#fb9f3a"
            ],
            [
             0.8888888888888888,
             "#fdca26"
            ],
            [
             1,
             "#f0f921"
            ]
           ]
          },
          "colorway": [
           "#636efa",
           "#EF553B",
           "#00cc96",
           "#ab63fa",
           "#FFA15A",
           "#19d3f3",
           "#FF6692",
           "#B6E880",
           "#FF97FF",
           "#FECB52"
          ],
          "font": {
           "color": "#2a3f5f"
          },
          "geo": {
           "bgcolor": "white",
           "lakecolor": "white",
           "landcolor": "#E5ECF6",
           "showlakes": true,
           "showland": true,
           "subunitcolor": "white"
          },
          "hoverlabel": {
           "align": "left"
          },
          "hovermode": "closest",
          "mapbox": {
           "style": "light"
          },
          "paper_bgcolor": "white",
          "plot_bgcolor": "#E5ECF6",
          "polar": {
           "angularaxis": {
            "gridcolor": "white",
            "linecolor": "white",
            "ticks": ""
           },
           "bgcolor": "#E5ECF6",
           "radialaxis": {
            "gridcolor": "white",
            "linecolor": "white",
            "ticks": ""
           }
          },
          "scene": {
           "xaxis": {
            "backgroundcolor": "#E5ECF6",
            "gridcolor": "white",
            "gridwidth": 2,
            "linecolor": "white",
            "showbackground": true,
            "ticks": "",
            "zerolinecolor": "white"
           },
           "yaxis": {
            "backgroundcolor": "#E5ECF6",
            "gridcolor": "white",
            "gridwidth": 2,
            "linecolor": "white",
            "showbackground": true,
            "ticks": "",
            "zerolinecolor": "white"
           },
           "zaxis": {
            "backgroundcolor": "#E5ECF6",
            "gridcolor": "white",
            "gridwidth": 2,
            "linecolor": "white",
            "showbackground": true,
            "ticks": "",
            "zerolinecolor": "white"
           }
          },
          "shapedefaults": {
           "line": {
            "color": "#2a3f5f"
           }
          },
          "ternary": {
           "aaxis": {
            "gridcolor": "white",
            "linecolor": "white",
            "ticks": ""
           },
           "baxis": {
            "gridcolor": "white",
            "linecolor": "white",
            "ticks": ""
           },
           "bgcolor": "#E5ECF6",
           "caxis": {
            "gridcolor": "white",
            "linecolor": "white",
            "ticks": ""
           }
          },
          "title": {
           "x": 0.05
          },
          "xaxis": {
           "automargin": true,
           "gridcolor": "white",
           "linecolor": "white",
           "ticks": "",
           "title": {
            "standoff": 15
           },
           "zerolinecolor": "white",
           "zerolinewidth": 2
          },
          "yaxis": {
           "automargin": true,
           "gridcolor": "white",
           "linecolor": "white",
           "ticks": "",
           "title": {
            "standoff": 15
           },
           "zerolinecolor": "white",
           "zerolinewidth": 2
          }
         }
        },
        "width": 1000
       }
      }
     },
     "metadata": {},
     "output_type": "display_data"
    }
   ],
   "source": [
    "color = 'rainbow'\n",
    "plot_pred_conf(trussart_pred_structure_superposed, plddt_scaled, color)"
   ]
  },
  {
   "cell_type": "code",
   "execution_count": 33,
   "metadata": {},
   "outputs": [
    {
     "data": {
      "image/png": "[encoded data removed]",
      "text/plain": [
       "<Figure size 640x480 with 1 Axes>"
      ]
     },
     "metadata": {},
     "output_type": "display_data"
    },
    {
     "name": "stdout",
     "output_type": "stream",
     "text": [
      "mean: 0.08570700227259902\n",
      "median: 0.0778820532410772\n",
      "variance: 0.002228803311545499\n"
     ]
    }
   ],
   "source": [
    "plot_hist_kabsch_distances(test_size, test_true_structures, test_pred_structures, EMBEDDING_SIZE)"
   ]
  },
  {
   "cell_type": "code",
   "execution_count": 34,
   "metadata": {},
   "outputs": [],
   "source": [
    "RESULTS_ROOT = '../../saved_results/synthetic_biological_trussart_uniform_conf/linear/'\n",
    "LAMBDA_CONFIGURATION = str(LAMBDA_BIO) + '_' + str(LAMBDA_KABSCH)"
   ]
  },
  {
   "cell_type": "code",
   "execution_count": 35,
   "metadata": {},
   "outputs": [],
   "source": [
    "np.savetxt(RESULTS_ROOT + 'synthetic_biological_trussart_uniform_conf_linear_losses_' + LAMBDA_CONFIGURATION + '.txt', losses)\n",
    "\n",
    "np.savetxt(RESULTS_ROOT + 'synthetic_biological_trussart_uniform_conf_linear_train_biological_losses_all_epochs_' +\n",
    "               LAMBDA_CONFIGURATION + '.txt', train_biological_losses_all_epochs)\n",
    "np.savetxt(RESULTS_ROOT + 'synthetic_biological_trussart_uniform_conf_linear_test_biological_losses_all_epochs_' +\n",
    "               LAMBDA_CONFIGURATION + '.txt', test_biological_losses_all_epochs)\n",
    "\n",
    "np.savetxt(RESULTS_ROOT + 'synthetic_biological_trussart_uniform_conf_linear_train_kabsch_losses_all_epochs_' + \n",
    "           LAMBDA_CONFIGURATION + '.txt', train_kabsch_losses_all_epochs)\n",
    "np.savetxt(RESULTS_ROOT + 'synthetic_biological_trussart_uniform_conf_linear_test_kabsch_losses_all_epochs_' + \n",
    "           LAMBDA_CONFIGURATION + '.txt', test_kabsch_losses_all_epochs)\n",
    "\n",
    "np.savetxt(RESULTS_ROOT + 'synthetic_biological_trussart_uniform_conf_linear_train_distance_losses_all_epochs_' +\n",
    "           LAMBDA_CONFIGURATION + '.txt', train_distance_losses_all_epochs)\n",
    "np.savetxt(RESULTS_ROOT + 'synthetic_biological_trussart_uniform_conf_linear_test_distance_losses_all_epochs_' + \n",
    "           LAMBDA_CONFIGURATION + '.txt', test_distance_losses_all_epochs)\n",
    "\n",
    "np.savetxt(RESULTS_ROOT + 'synthetic_biological_trussart_uniform_conf_linear_trussart_test_kabsch_losses_all_epochs_' +\n",
    "               LAMBDA_CONFIGURATION + '.txt', trussart_test_kabsch_losses_all_epochs)"
   ]
  },
  {
   "cell_type": "code",
   "execution_count": 36,
   "metadata": {},
   "outputs": [],
   "source": [
    "torch.save(model, \n",
    "           '../../saved_models/synthetic_biological_trussart_uniform_conf/linear/synthetic_biological_trussart_uniform_linear_model_' + \n",
    "           LAMBDA_CONFIGURATION + '.pt')"
   ]
  },
  {
   "cell_type": "code",
   "execution_count": null,
   "metadata": {},
   "outputs": [],
   "source": []
  }
 ],
 "metadata": {
  "kernelspec": {
   "display_name": "Python 3.8.9 ('3dChromenv': venv)",
   "language": "python",
   "name": "python3"
  },
  "language_info": {
   "codemirror_mode": {
    "name": "ipython",
    "version": 3
   },
   "file_extension": ".py",
   "mimetype": "text/x-python",
   "name": "python",
   "nbconvert_exporter": "python",
   "pygments_lexer": "ipython3",
   "version": "3.8.9"
  },
  "orig_nbformat": 4,
  "vscode": {
   "interpreter": {
    "hash": "8e29b1289806ba3b1e0a7887101d89831cef42814f60b4617646c178e24bc9ec"
   }
  }
 },
 "nbformat": 4,
 "nbformat_minor": 2
}
