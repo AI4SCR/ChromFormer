{
 "cells": [
  {
   "cell_type": "code",
   "execution_count": 1,
   "metadata": {},
   "outputs": [],
   "source": [
    "%load_ext autoreload\n",
    "%autoreload 2"
   ]
  },
  {
   "cell_type": "code",
   "execution_count": 2,
   "metadata": {},
   "outputs": [],
   "source": [
    "import torch\n",
    "import random\n",
    "import numpy as np\n",
    "import os \n",
    "from torch_geometric.loader import DataLoader\n",
    "\n",
    "from ChromFormer.Data_Tools.Data_Access import get_data_from_path, VanillaDataset, set_logits_data\n",
    "from ChromFormer.Data_Tools.Data_Plotting import plot_structure_in_sphere, plot_hic, plot_optimal_transport, plot_losses, plot_test_distance_matrix, plot_true_pred_structures, plot_hist_kabsch_distances, plot_grad_flow, plot_pred_conf\n",
    "from ChromFormer.Model.model import UniformLinear, train_uniform_linear, evaluate_uniform_linear, ConfLinear, train_conf_linear, evaluate_conf_linear, TransConf, train_trans_conf, evaluate_trans_conf\n",
    "from ChromFormer.Model.losses import compute_trussart_test_kabsch_loss, biological_loss_fct, kabsch_loss_fct\n",
    "from ChromFormer.Data_Tools.Data_Calculation import save_structure, import_trussart_data, kabsch_superimposition_numpy, kabsch_distance_numpy, make_gif, scale_logits, mse_unscaled_scaled\n",
    "from ChromFormer.Model.lddt_tools import lddt, get_confidence_metrics\n",
    "from ChromFormer.Model.calibration_nn import ModelWithTemperature, isotonic_calibration, beta_calibration\n",
    "from scipy.spatial import distance_matrix\n",
    "from sklearn.preprocessing import MinMaxScaler\n",
    "from sklearn.model_selection import train_test_split\n",
    "from sklearn.metrics import mean_squared_error\n",
    "\n",
    "NB_HEAD = 2\n",
    "NB_HIDDEN = 100\n",
    "#100\n",
    "NB_LAYERS = 1\n",
    "DROPOUT = 0.1\n",
    "SECD_HID = 48\n",
    "#48\n",
    "ZERO_INIT = False\n",
    "EXPONENT = 1\n",
    "NUM_BINS_LOGITS = 100\n",
    "NB_EPOCHS = 96\n",
    "##91\n",
    "##47\n",
    "SEED = 2\n",
    "BATCH_SIZE = 10\n",
    "NB_BINS = 202\n",
    "EMBEDDING_SIZE = 3\n",
    "ANGLE_PRED = 3\n",
    "LAMBDA_BIO = 0.1\n",
    "LAMBDA_KABSCH = 0.1\n",
    "#0.1\n",
    "LAMBDA_LDDT = 0.1\n",
    "\n",
    "device = torch.device('cuda' if torch.cuda.is_available() else 'cpu')\n",
    "torch.manual_seed(SEED)\n",
    "random.seed(SEED)\n",
    "np.random.seed(SEED)\n",
    "DATA_DIR = os.environ.get('DATA_TECH')\n",
    "DATA_PATH=f'{DATA_DIR}/synthetic_random'\n",
    "TRAIN_DATASET_SIZE = 800\n",
    "TEST_DATASET_SIZE = 200\n",
    "\n"
   ]
  },
  {
   "cell_type": "code",
   "execution_count": 3,
   "metadata": {},
   "outputs": [],
   "source": [
    "train_transfer_learning_hics, test_transfer_learning_hics, train_transfer_learning_structures, test_transfer_learning_structures, train_transfer_learning_distances, test_transfer_learning_distances = get_data_from_path(DATA_PATH)\n"
   ]
  },
  {
   "cell_type": "code",
   "execution_count": 4,
   "metadata": {},
   "outputs": [
    {
     "name": "stderr",
     "output_type": "stream",
     "text": [
      "100%|██████████| 800/800 [00:00<00:00, 37571.17it/s]"
     ]
    },
    {
     "name": "stdout",
     "output_type": "stream",
     "text": [
      "Processing...\n"
     ]
    },
    {
     "name": "stderr",
     "output_type": "stream",
     "text": [
      "\n"
     ]
    },
    {
     "name": "stdout",
     "output_type": "stream",
     "text": [
      "Done!\n",
      "800\n"
     ]
    }
   ],
   "source": [
    "train_dataset = VanillaDataset(root = '', is_training = True, dataset_size = TRAIN_DATASET_SIZE, hics = train_transfer_learning_hics, structures = train_transfer_learning_structures, distances = train_transfer_learning_distances)\n",
    "train_dataset = train_dataset.shuffle()\n",
    "train_size = len(train_dataset)\n",
    "print(train_size)\n",
    "train_loader = DataLoader(train_dataset, batch_size=BATCH_SIZE)"
   ]
  },
  {
   "cell_type": "code",
   "execution_count": 5,
   "metadata": {},
   "outputs": [
    {
     "name": "stderr",
     "output_type": "stream",
     "text": [
      "100%|██████████| 200/200 [00:00<00:00, 43140.18it/s]"
     ]
    },
    {
     "name": "stdout",
     "output_type": "stream",
     "text": [
      "Processing...\n",
      "Done!\n"
     ]
    },
    {
     "name": "stderr",
     "output_type": "stream",
     "text": [
      "\n"
     ]
    }
   ],
   "source": [
    "test_dataset = VanillaDataset(root = '', is_training = False, dataset_size = TEST_DATASET_SIZE, hics = test_transfer_learning_hics, structures = test_transfer_learning_structures, distances = test_transfer_learning_distances)\n",
    "test_dataset = test_dataset.shuffle()\n",
    "\n",
    "test_train_idx, test_test_idx = train_test_split(list(range(len(test_dataset))), test_size=0.1)\n",
    "test_train_calib = test_dataset.index_select(test_train_idx)\n",
    "test_test_calib= test_dataset.index_select(test_test_idx)\n",
    "\n",
    "test_size = len(test_dataset)\n",
    "\n",
    "test_loader = DataLoader(test_dataset, batch_size=BATCH_SIZE)\n",
    "test_train_calib_loader = DataLoader(test_train_calib, batch_size=BATCH_SIZE)\n",
    "test_test_calib_loader = DataLoader(test_test_calib, batch_size=BATCH_SIZE)"
   ]
  },
  {
   "cell_type": "code",
   "execution_count": 6,
   "metadata": {},
   "outputs": [],
   "source": [
    "trussart_hic, trussart_structures = import_trussart_data(DATA_DIR)"
   ]
  },
  {
   "cell_type": "code",
   "execution_count": 7,
   "metadata": {},
   "outputs": [],
   "source": [
    "distance_loss_fct = torch.nn.MSELoss()"
   ]
  },
  {
   "cell_type": "code",
   "execution_count": 8,
   "metadata": {},
   "outputs": [],
   "source": [
    "device = torch.device('cpu')\n",
    "model = TransConf(NB_BINS, ANGLE_PRED, BATCH_SIZE, NUM_BINS_LOGITS, ZERO_INIT, NB_HEAD, NB_HIDDEN, NB_LAYERS, DROPOUT, SECD_HID).to(device)\n",
    "optimizer = torch.optim.AdamW(model.parameters(), lr=0.0005, weight_decay=1e-5)\n",
    "#optimizer = torch.optim.Adagrad(model.parameters(), lr=0.001)"
   ]
  },
  {
   "cell_type": "code",
   "execution_count": 9,
   "metadata": {},
   "outputs": [
    {
     "name": "stdout",
     "output_type": "stream",
     "text": [
      "E: 001, Tr B: 0.0433, Tr K: 0.0934, Tr D: 0.0463, Te B: 0.0437, Te K: 0.0928, Te D: 0.0479, Tr LD: 0.3626, Te LD: 0.3636, Trus: 0.2000\n",
      "E: 002, Tr B: 0.0441, Tr K: 0.0871, Tr D: 0.0304, Te B: 0.0439, Te K: 0.0848, Te D: 0.0313, Tr LD: 0.3447, Te LD: 0.3502, Trus: 0.1380\n",
      "E: 003, Tr B: 0.0494, Tr K: 0.0791, Tr D: 0.0200, Te B: 0.0483, Te K: 0.0752, Te D: 0.0201, Tr LD: 0.3229, Te LD: 0.3282, Trus: 0.1233\n",
      "E: 004, Tr B: 0.0517, Tr K: 0.0734, Tr D: 0.0172, Te B: 0.0492, Te K: 0.0691, Te D: 0.0170, Tr LD: 0.3123, Te LD: 0.3142, Trus: 0.1207\n",
      "E: 005, Tr B: 0.0527, Tr K: 0.0688, Tr D: 0.0163, Te B: 0.0516, Te K: 0.0648, Te D: 0.0162, Tr LD: 0.3096, Te LD: 0.3112, Trus: 0.1065\n",
      "E: 006, Tr B: 0.0524, Tr K: 0.0669, Tr D: 0.0153, Te B: 0.0505, Te K: 0.0634, Te D: 0.0152, Tr LD: 0.2979, Te LD: 0.3011, Trus: 0.1015\n",
      "E: 007, Tr B: 0.0529, Tr K: 0.0641, Tr D: 0.0144, Te B: 0.0504, Te K: 0.0605, Te D: 0.0142, Tr LD: 0.2979, Te LD: 0.2998, Trus: 0.1030\n",
      "E: 008, Tr B: 0.0523, Tr K: 0.0632, Tr D: 0.0131, Te B: 0.0503, Te K: 0.0597, Te D: 0.0131, Tr LD: 0.2959, Te LD: 0.2985, Trus: 0.0948\n",
      "E: 009, Tr B: 0.0533, Tr K: 0.0605, Tr D: 0.0131, Te B: 0.0506, Te K: 0.0573, Te D: 0.0131, Tr LD: 0.2901, Te LD: 0.2903, Trus: 0.0985\n",
      "E: 010, Tr B: 0.0526, Tr K: 0.0616, Tr D: 0.0137, Te B: 0.0505, Te K: 0.0586, Te D: 0.0141, Tr LD: 0.2883, Te LD: 0.2909, Trus: 0.0915\n",
      "E: 011, Tr B: 0.0532, Tr K: 0.0593, Tr D: 0.0124, Te B: 0.0496, Te K: 0.0566, Te D: 0.0125, Tr LD: 0.2872, Te LD: 0.2902, Trus: 0.0891\n",
      "E: 012, Tr B: 0.0523, Tr K: 0.0607, Tr D: 0.0138, Te B: 0.0504, Te K: 0.0580, Te D: 0.0142, Tr LD: 0.2861, Te LD: 0.2877, Trus: 0.0912\n",
      "E: 013, Tr B: 0.0526, Tr K: 0.0575, Tr D: 0.0118, Te B: 0.0511, Te K: 0.0549, Te D: 0.0120, Tr LD: 0.2780, Te LD: 0.2802, Trus: 0.0942\n",
      "E: 014, Tr B: 0.0525, Tr K: 0.0560, Tr D: 0.0113, Te B: 0.0505, Te K: 0.0536, Te D: 0.0115, Tr LD: 0.2804, Te LD: 0.2826, Trus: 0.0931\n",
      "E: 015, Tr B: 0.0528, Tr K: 0.0573, Tr D: 0.0105, Te B: 0.0503, Te K: 0.0548, Te D: 0.0108, Tr LD: 0.2800, Te LD: 0.2814, Trus: 0.0894\n",
      "E: 016, Tr B: 0.0529, Tr K: 0.0554, Tr D: 0.0109, Te B: 0.0504, Te K: 0.0531, Te D: 0.0113, Tr LD: 0.2747, Te LD: 0.2774, Trus: 0.0938\n",
      "E: 017, Tr B: 0.0531, Tr K: 0.0536, Tr D: 0.0105, Te B: 0.0506, Te K: 0.0517, Te D: 0.0108, Tr LD: 0.2792, Te LD: 0.2807, Trus: 0.1000\n",
      "E: 018, Tr B: 0.0530, Tr K: 0.0541, Tr D: 0.0117, Te B: 0.0507, Te K: 0.0521, Te D: 0.0122, Tr LD: 0.2824, Te LD: 0.2835, Trus: 0.0994\n",
      "E: 019, Tr B: 0.0528, Tr K: 0.0550, Tr D: 0.0107, Te B: 0.0510, Te K: 0.0529, Te D: 0.0111, Tr LD: 0.2792, Te LD: 0.2790, Trus: 0.0920\n",
      "E: 020, Tr B: 0.0519, Tr K: 0.0536, Tr D: 0.0123, Te B: 0.0505, Te K: 0.0517, Te D: 0.0127, Tr LD: 0.2929, Te LD: 0.2958, Trus: 0.0951\n",
      "E: 021, Tr B: 0.0526, Tr K: 0.0537, Tr D: 0.0100, Te B: 0.0505, Te K: 0.0516, Te D: 0.0103, Tr LD: 0.2756, Te LD: 0.2746, Trus: 0.0973\n",
      "E: 022, Tr B: 0.0520, Tr K: 0.0526, Tr D: 0.0125, Te B: 0.0502, Te K: 0.0510, Te D: 0.0129, Tr LD: 0.2861, Te LD: 0.2869, Trus: 0.1000\n",
      "E: 023, Tr B: 0.0530, Tr K: 0.0515, Tr D: 0.0093, Te B: 0.0509, Te K: 0.0497, Te D: 0.0097, Tr LD: 0.2803, Te LD: 0.2824, Trus: 0.1024\n",
      "E: 024, Tr B: 0.0526, Tr K: 0.0533, Tr D: 0.0100, Te B: 0.0499, Te K: 0.0512, Te D: 0.0102, Tr LD: 0.2699, Te LD: 0.2701, Trus: 0.1005\n",
      "E: 025, Tr B: 0.0531, Tr K: 0.0517, Tr D: 0.0084, Te B: 0.0513, Te K: 0.0495, Te D: 0.0089, Tr LD: 0.2844, Te LD: 0.2848, Trus: 0.1077\n",
      "E: 026, Tr B: 0.0519, Tr K: 0.0508, Tr D: 0.0098, Te B: 0.0504, Te K: 0.0489, Te D: 0.0103, Tr LD: 0.2729, Te LD: 0.2732, Trus: 0.1068\n",
      "E: 027, Tr B: 0.0519, Tr K: 0.0515, Tr D: 0.0098, Te B: 0.0505, Te K: 0.0496, Te D: 0.0102, Tr LD: 0.2711, Te LD: 0.2690, Trus: 0.1043\n",
      "E: 028, Tr B: 0.0516, Tr K: 0.0494, Tr D: 0.0100, Te B: 0.0505, Te K: 0.0479, Te D: 0.0104, Tr LD: 0.2718, Te LD: 0.2707, Trus: 0.1105\n",
      "E: 029, Tr B: 0.0521, Tr K: 0.0498, Tr D: 0.0084, Te B: 0.0505, Te K: 0.0479, Te D: 0.0088, Tr LD: 0.2682, Te LD: 0.2682, Trus: 0.1067\n",
      "E: 030, Tr B: 0.0522, Tr K: 0.0509, Tr D: 0.0081, Te B: 0.0509, Te K: 0.0488, Te D: 0.0085, Tr LD: 0.2718, Te LD: 0.2697, Trus: 0.1032\n",
      "E: 031, Tr B: 0.0519, Tr K: 0.0489, Tr D: 0.0097, Te B: 0.0501, Te K: 0.0472, Te D: 0.0103, Tr LD: 0.2686, Te LD: 0.2693, Trus: 0.1129\n",
      "E: 032, Tr B: 0.0522, Tr K: 0.0496, Tr D: 0.0081, Te B: 0.0503, Te K: 0.0477, Te D: 0.0085, Tr LD: 0.2694, Te LD: 0.2683, Trus: 0.1069\n",
      "E: 033, Tr B: 0.0524, Tr K: 0.0500, Tr D: 0.0079, Te B: 0.0508, Te K: 0.0479, Te D: 0.0083, Tr LD: 0.2668, Te LD: 0.2638, Trus: 0.1063\n",
      "E: 034, Tr B: 0.0521, Tr K: 0.0499, Tr D: 0.0081, Te B: 0.0508, Te K: 0.0479, Te D: 0.0086, Tr LD: 0.2634, Te LD: 0.2601, Trus: 0.1020\n",
      "E: 035, Tr B: 0.0522, Tr K: 0.0491, Tr D: 0.0078, Te B: 0.0497, Te K: 0.0470, Te D: 0.0082, Tr LD: 0.2722, Te LD: 0.2679, Trus: 0.1036\n",
      "E: 036, Tr B: 0.0518, Tr K: 0.0488, Tr D: 0.0080, Te B: 0.0508, Te K: 0.0468, Te D: 0.0084, Tr LD: 0.2661, Te LD: 0.2628, Trus: 0.1070\n",
      "E: 037, Tr B: 0.0517, Tr K: 0.0467, Tr D: 0.0082, Te B: 0.0503, Te K: 0.0450, Te D: 0.0085, Tr LD: 0.2692, Te LD: 0.2669, Trus: 0.1148\n",
      "E: 038, Tr B: 0.0524, Tr K: 0.0483, Tr D: 0.0079, Te B: 0.0504, Te K: 0.0463, Te D: 0.0083, Tr LD: 0.2629, Te LD: 0.2598, Trus: 0.1123\n",
      "E: 039, Tr B: 0.0516, Tr K: 0.0478, Tr D: 0.0078, Te B: 0.0503, Te K: 0.0460, Te D: 0.0081, Tr LD: 0.2668, Te LD: 0.2664, Trus: 0.1093\n",
      "E: 040, Tr B: 0.0515, Tr K: 0.0475, Tr D: 0.0077, Te B: 0.0501, Te K: 0.0457, Te D: 0.0081, Tr LD: 0.2575, Te LD: 0.2546, Trus: 0.1066\n",
      "E: 041, Tr B: 0.0522, Tr K: 0.0471, Tr D: 0.0087, Te B: 0.0507, Te K: 0.0453, Te D: 0.0091, Tr LD: 0.2616, Te LD: 0.2594, Trus: 0.1095\n",
      "E: 042, Tr B: 0.0525, Tr K: 0.0475, Tr D: 0.0074, Te B: 0.0499, Te K: 0.0456, Te D: 0.0078, Tr LD: 0.2641, Te LD: 0.2609, Trus: 0.1074\n",
      "E: 043, Tr B: 0.0519, Tr K: 0.0474, Tr D: 0.0079, Te B: 0.0496, Te K: 0.0456, Te D: 0.0083, Tr LD: 0.2561, Te LD: 0.2520, Trus: 0.1020\n",
      "E: 044, Tr B: 0.0519, Tr K: 0.0473, Tr D: 0.0074, Te B: 0.0499, Te K: 0.0453, Te D: 0.0077, Tr LD: 0.2586, Te LD: 0.2549, Trus: 0.0984\n",
      "E: 045, Tr B: 0.0519, Tr K: 0.0474, Tr D: 0.0080, Te B: 0.0503, Te K: 0.0453, Te D: 0.0083, Tr LD: 0.2568, Te LD: 0.2562, Trus: 0.0991\n",
      "E: 046, Tr B: 0.0510, Tr K: 0.0472, Tr D: 0.0077, Te B: 0.0501, Te K: 0.0452, Te D: 0.0081, Tr LD: 0.2536, Te LD: 0.2496, Trus: 0.1043\n",
      "E: 047, Tr B: 0.0516, Tr K: 0.0454, Tr D: 0.0072, Te B: 0.0500, Te K: 0.0435, Te D: 0.0076, Tr LD: 0.2636, Te LD: 0.2602, Trus: 0.1081\n",
      "E: 048, Tr B: 0.0519, Tr K: 0.0471, Tr D: 0.0082, Te B: 0.0495, Te K: 0.0450, Te D: 0.0086, Tr LD: 0.2542, Te LD: 0.2536, Trus: 0.1004\n",
      "E: 049, Tr B: 0.0521, Tr K: 0.0451, Tr D: 0.0070, Te B: 0.0501, Te K: 0.0432, Te D: 0.0073, Tr LD: 0.2605, Te LD: 0.2591, Trus: 0.1022\n",
      "E: 050, Tr B: 0.0519, Tr K: 0.0445, Tr D: 0.0069, Te B: 0.0500, Te K: 0.0429, Te D: 0.0072, Tr LD: 0.2687, Te LD: 0.2659, Trus: 0.1052\n",
      "E: 051, Tr B: 0.0517, Tr K: 0.0440, Tr D: 0.0074, Te B: 0.0502, Te K: 0.0423, Te D: 0.0078, Tr LD: 0.2694, Te LD: 0.2697, Trus: 0.0973\n",
      "E: 052, Tr B: 0.0515, Tr K: 0.0450, Tr D: 0.0067, Te B: 0.0503, Te K: 0.0432, Te D: 0.0070, Tr LD: 0.2625, Te LD: 0.2606, Trus: 0.0894\n",
      "E: 053, Tr B: 0.0514, Tr K: 0.0449, Tr D: 0.0073, Te B: 0.0502, Te K: 0.0430, Te D: 0.0076, Tr LD: 0.2582, Te LD: 0.2557, Trus: 0.0910\n",
      "E: 054, Tr B: 0.0515, Tr K: 0.0434, Tr D: 0.0087, Te B: 0.0496, Te K: 0.0418, Te D: 0.0090, Tr LD: 0.2699, Te LD: 0.2689, Trus: 0.1020\n",
      "E: 055, Tr B: 0.0514, Tr K: 0.0453, Tr D: 0.0070, Te B: 0.0496, Te K: 0.0432, Te D: 0.0074, Tr LD: 0.2544, Te LD: 0.2501, Trus: 0.0888\n",
      "E: 056, Tr B: 0.0509, Tr K: 0.0438, Tr D: 0.0081, Te B: 0.0497, Te K: 0.0421, Te D: 0.0084, Tr LD: 0.2624, Te LD: 0.2618, Trus: 0.0953\n",
      "E: 057, Tr B: 0.0509, Tr K: 0.0438, Tr D: 0.0061, Te B: 0.0490, Te K: 0.0418, Te D: 0.0065, Tr LD: 0.2725, Te LD: 0.2700, Trus: 0.0896\n",
      "E: 058, Tr B: 0.0516, Tr K: 0.0444, Tr D: 0.0064, Te B: 0.0504, Te K: 0.0423, Te D: 0.0067, Tr LD: 0.2584, Te LD: 0.2537, Trus: 0.0907\n",
      "E: 059, Tr B: 0.0515, Tr K: 0.0443, Tr D: 0.0080, Te B: 0.0491, Te K: 0.0425, Te D: 0.0082, Tr LD: 0.2617, Te LD: 0.2600, Trus: 0.0902\n",
      "E: 060, Tr B: 0.0507, Tr K: 0.0442, Tr D: 0.0063, Te B: 0.0498, Te K: 0.0421, Te D: 0.0066, Tr LD: 0.2646, Te LD: 0.2637, Trus: 0.0885\n",
      "E: 061, Tr B: 0.0510, Tr K: 0.0441, Tr D: 0.0067, Te B: 0.0499, Te K: 0.0420, Te D: 0.0070, Tr LD: 0.2625, Te LD: 0.2598, Trus: 0.0839\n",
      "E: 062, Tr B: 0.0504, Tr K: 0.0435, Tr D: 0.0059, Te B: 0.0489, Te K: 0.0415, Te D: 0.0062, Tr LD: 0.2717, Te LD: 0.2672, Trus: 0.0815\n",
      "E: 063, Tr B: 0.0509, Tr K: 0.0428, Tr D: 0.0062, Te B: 0.0503, Te K: 0.0409, Te D: 0.0065, Tr LD: 0.2628, Te LD: 0.2589, Trus: 0.0814\n",
      "E: 064, Tr B: 0.0514, Tr K: 0.0444, Tr D: 0.0071, Te B: 0.0490, Te K: 0.0423, Te D: 0.0074, Tr LD: 0.2543, Te LD: 0.2514, Trus: 0.0744\n",
      "E: 065, Tr B: 0.0515, Tr K: 0.0418, Tr D: 0.0061, Te B: 0.0500, Te K: 0.0399, Te D: 0.0064, Tr LD: 0.2600, Te LD: 0.2584, Trus: 0.0760\n",
      "E: 066, Tr B: 0.0508, Tr K: 0.0425, Tr D: 0.0061, Te B: 0.0499, Te K: 0.0405, Te D: 0.0064, Tr LD: 0.2565, Te LD: 0.2534, Trus: 0.0769\n",
      "E: 067, Tr B: 0.0511, Tr K: 0.0432, Tr D: 0.0061, Te B: 0.0494, Te K: 0.0412, Te D: 0.0064, Tr LD: 0.2587, Te LD: 0.2513, Trus: 0.0753\n",
      "E: 068, Tr B: 0.0507, Tr K: 0.0418, Tr D: 0.0071, Te B: 0.0493, Te K: 0.0399, Te D: 0.0073, Tr LD: 0.2538, Te LD: 0.2523, Trus: 0.0791\n",
      "E: 069, Tr B: 0.0507, Tr K: 0.0434, Tr D: 0.0057, Te B: 0.0491, Te K: 0.0412, Te D: 0.0060, Tr LD: 0.2846, Te LD: 0.2791, Trus: 0.0657\n",
      "E: 070, Tr B: 0.0513, Tr K: 0.0421, Tr D: 0.0056, Te B: 0.0500, Te K: 0.0400, Te D: 0.0059, Tr LD: 0.2634, Te LD: 0.2589, Trus: 0.0707\n",
      "E: 071, Tr B: 0.0515, Tr K: 0.0413, Tr D: 0.0060, Te B: 0.0493, Te K: 0.0394, Te D: 0.0063, Tr LD: 0.2535, Te LD: 0.2512, Trus: 0.0730\n",
      "E: 072, Tr B: 0.0510, Tr K: 0.0422, Tr D: 0.0063, Te B: 0.0495, Te K: 0.0401, Te D: 0.0066, Tr LD: 0.2570, Te LD: 0.2526, Trus: 0.0693\n",
      "E: 073, Tr B: 0.0510, Tr K: 0.0417, Tr D: 0.0061, Te B: 0.0497, Te K: 0.0396, Te D: 0.0063, Tr LD: 0.2586, Te LD: 0.2565, Trus: 0.0668\n",
      "E: 074, Tr B: 0.0515, Tr K: 0.0422, Tr D: 0.0057, Te B: 0.0490, Te K: 0.0400, Te D: 0.0060, Tr LD: 0.2696, Te LD: 0.2653, Trus: 0.0634\n",
      "E: 075, Tr B: 0.0513, Tr K: 0.0413, Tr D: 0.0058, Te B: 0.0496, Te K: 0.0392, Te D: 0.0061, Tr LD: 0.2631, Te LD: 0.2600, Trus: 0.0648\n",
      "E: 076, Tr B: 0.0510, Tr K: 0.0405, Tr D: 0.0060, Te B: 0.0499, Te K: 0.0386, Te D: 0.0063, Tr LD: 0.2551, Te LD: 0.2534, Trus: 0.0683\n",
      "E: 077, Tr B: 0.0510, Tr K: 0.0412, Tr D: 0.0055, Te B: 0.0500, Te K: 0.0390, Te D: 0.0059, Tr LD: 0.2626, Te LD: 0.2553, Trus: 0.0644\n",
      "E: 078, Tr B: 0.0516, Tr K: 0.0421, Tr D: 0.0054, Te B: 0.0494, Te K: 0.0397, Te D: 0.0057, Tr LD: 0.2630, Te LD: 0.2617, Trus: 0.0586\n",
      "E: 079, Tr B: 0.0507, Tr K: 0.0400, Tr D: 0.0061, Te B: 0.0494, Te K: 0.0381, Te D: 0.0064, Tr LD: 0.2446, Te LD: 0.2407, Trus: 0.0631\n",
      "E: 080, Tr B: 0.0506, Tr K: 0.0405, Tr D: 0.0055, Te B: 0.0507, Te K: 0.0385, Te D: 0.0059, Tr LD: 0.2715, Te LD: 0.2647, Trus: 0.0614\n",
      "E: 081, Tr B: 0.0506, Tr K: 0.0417, Tr D: 0.0055, Te B: 0.0499, Te K: 0.0394, Te D: 0.0057, Tr LD: 0.2765, Te LD: 0.2732, Trus: 0.0530\n",
      "E: 082, Tr B: 0.0506, Tr K: 0.0408, Tr D: 0.0054, Te B: 0.0504, Te K: 0.0387, Te D: 0.0057, Tr LD: 0.2670, Te LD: 0.2593, Trus: 0.0549\n",
      "E: 083, Tr B: 0.0505, Tr K: 0.0413, Tr D: 0.0053, Te B: 0.0498, Te K: 0.0391, Te D: 0.0056, Tr LD: 0.2676, Te LD: 0.2612, Trus: 0.0544\n",
      "E: 084, Tr B: 0.0513, Tr K: 0.0402, Tr D: 0.0055, Te B: 0.0507, Te K: 0.0381, Te D: 0.0058, Tr LD: 0.2587, Te LD: 0.2560, Trus: 0.0604\n",
      "E: 085, Tr B: 0.0516, Tr K: 0.0410, Tr D: 0.0056, Te B: 0.0504, Te K: 0.0389, Te D: 0.0060, Tr LD: 0.2587, Te LD: 0.2516, Trus: 0.0474\n",
      "E: 086, Tr B: 0.0509, Tr K: 0.0401, Tr D: 0.0052, Te B: 0.0502, Te K: 0.0379, Te D: 0.0056, Tr LD: 0.2621, Te LD: 0.2546, Trus: 0.0545\n",
      "E: 087, Tr B: 0.0513, Tr K: 0.0400, Tr D: 0.0056, Te B: 0.0503, Te K: 0.0380, Te D: 0.0058, Tr LD: 0.2562, Te LD: 0.2567, Trus: 0.0549\n",
      "E: 088, Tr B: 0.0508, Tr K: 0.0404, Tr D: 0.0052, Te B: 0.0501, Te K: 0.0383, Te D: 0.0055, Tr LD: 0.2623, Te LD: 0.2551, Trus: 0.0526\n",
      "E: 089, Tr B: 0.0507, Tr K: 0.0398, Tr D: 0.0052, Te B: 0.0496, Te K: 0.0377, Te D: 0.0056, Tr LD: 0.2711, Te LD: 0.2642, Trus: 0.0549\n",
      "E: 090, Tr B: 0.0508, Tr K: 0.0408, Tr D: 0.0053, Te B: 0.0509, Te K: 0.0387, Te D: 0.0056, Tr LD: 0.2546, Te LD: 0.2477, Trus: 0.0453\n",
      "E: 091, Tr B: 0.0503, Tr K: 0.0402, Tr D: 0.0053, Te B: 0.0502, Te K: 0.0380, Te D: 0.0057, Tr LD: 0.2576, Te LD: 0.2497, Trus: 0.0461\n",
      "E: 092, Tr B: 0.0506, Tr K: 0.0409, Tr D: 0.0051, Te B: 0.0506, Te K: 0.0388, Te D: 0.0054, Tr LD: 0.2655, Te LD: 0.2617, Trus: 0.0434\n",
      "E: 093, Tr B: 0.0510, Tr K: 0.0401, Tr D: 0.0050, Te B: 0.0506, Te K: 0.0378, Te D: 0.0053, Tr LD: 0.2712, Te LD: 0.2653, Trus: 0.0442\n",
      "E: 094, Tr B: 0.0505, Tr K: 0.0392, Tr D: 0.0056, Te B: 0.0506, Te K: 0.0371, Te D: 0.0058, Tr LD: 0.2648, Te LD: 0.2601, Trus: 0.0510\n",
      "E: 095, Tr B: 0.0512, Tr K: 0.0399, Tr D: 0.0051, Te B: 0.0509, Te K: 0.0377, Te D: 0.0054, Tr LD: 0.2606, Te LD: 0.2530, Trus: 0.0414\n",
      "E: 096, Tr B: 0.0504, Tr K: 0.0391, Tr D: 0.0052, Te B: 0.0496, Te K: 0.0370, Te D: 0.0054, Tr LD: 0.2485, Te LD: 0.2457, Trus: 0.0457\n"
     ]
    }
   ],
   "source": [
    "train_biological_losses_all_epochs = []\n",
    "train_kabsch_losses_all_epochs = []\n",
    "train_distance_losses_all_epochs = []\n",
    "train_lddt_losses_all_epochs = []\n",
    "\n",
    "test_biological_losses_all_epochs = []\n",
    "test_kabsch_losses_all_epochs = []\n",
    "test_distance_losses_all_epochs = []\n",
    "test_lddt_losses_all_epochs = []\n",
    "\n",
    "losses = []\n",
    "\n",
    "trussart_test_kabsch_losses_all_epochs = []\n",
    "\n",
    "for epoch in range(1, NB_EPOCHS+1):\n",
    "    loss = train_trans_conf(model, train_loader, train_dataset, optimizer, device, BATCH_SIZE,  NB_BINS, EMBEDDING_SIZE, LAMBDA_BIO, LAMBDA_KABSCH, distance_loss_fct, LAMBDA_LDDT, NUM_BINS_LOGITS)\n",
    "    losses.append(loss)\n",
    "    \n",
    "    ### Training\n",
    "    train_mean_biological_loss, train_mean_kabsch_loss, train_mean_distance_loss, train_true_hics, \\\n",
    "        train_pred_structures, train_true_structures, train_pred_distances, \\\n",
    "            train_true_distances, train_mean_lddt_loss = evaluate_trans_conf(train_loader, model, device, BATCH_SIZE, NB_BINS, EMBEDDING_SIZE, distance_loss_fct, NUM_BINS_LOGITS) \n",
    "\n",
    "    \n",
    "    # Store results\n",
    "    train_biological_losses_all_epochs.append(train_mean_biological_loss)\n",
    "    train_kabsch_losses_all_epochs.append(train_mean_kabsch_loss)    \n",
    "    train_distance_losses_all_epochs.append(train_mean_distance_loss)\n",
    "    train_lddt_losses_all_epochs.append(train_mean_lddt_loss)\n",
    "\n",
    "    ### Testing\n",
    "    test_mean_biological_loss, test_mean_kabsch_loss, test_mean_distance_loss, test_true_hics, \\\n",
    "        test_pred_structures, test_true_structures, test_pred_distances, \\\n",
    "            test_true_distances, test_mean_lddt_loss = evaluate_trans_conf(test_loader, model, device, BATCH_SIZE, NB_BINS, EMBEDDING_SIZE, distance_loss_fct, NUM_BINS_LOGITS) \n",
    "\n",
    "    \n",
    "    ### Trussart test\n",
    "    trussart_test_kabsch_loss = compute_trussart_test_kabsch_loss(trussart_hic, trussart_structures, model, NB_BINS, BATCH_SIZE, EMBEDDING_SIZE, True)\n",
    "    save_structure(model, epoch, trussart_structures, trussart_hic, NB_BINS, BATCH_SIZE, EMBEDDING_SIZE, True)\n",
    "    # Store results\n",
    "    test_biological_losses_all_epochs.append(test_mean_biological_loss)\n",
    "    test_kabsch_losses_all_epochs.append(test_mean_kabsch_loss)    \n",
    "    test_distance_losses_all_epochs.append(test_mean_distance_loss)\n",
    "    test_lddt_losses_all_epochs.append(test_mean_lddt_loss)\n",
    "\n",
    "    \n",
    "    trussart_test_kabsch_losses_all_epochs.append(trussart_test_kabsch_loss)\n",
    "\n",
    "    print('E: {:03d}, Tr B: {:.4f}, Tr K: {:.4f}, Tr D: {:.4f}, Te B: {:.4f}, Te K: {:.4f}, Te D: {:.4f}, Tr LD: {:.4f}, Te LD: {:.4f}, Trus: {:.4f}'.format(\\\n",
    "        epoch, train_mean_biological_loss, train_mean_kabsch_loss, train_mean_distance_loss, \\\n",
    "            test_mean_biological_loss, test_mean_kabsch_loss, test_mean_distance_loss,train_mean_lddt_loss, test_mean_lddt_loss, trussart_test_kabsch_loss))"
   ]
  },
  {
   "cell_type": "code",
   "execution_count": 10,
   "metadata": {},
   "outputs": [
    {
     "name": "stdout",
     "output_type": "stream",
     "text": [
      "(array([94]),)\n",
      "0.04138563391101974\n"
     ]
    }
   ],
   "source": [
    "print(np.where(trussart_test_kabsch_losses_all_epochs == min(trussart_test_kabsch_losses_all_epochs)))\n",
    "print(min(trussart_test_kabsch_losses_all_epochs))"
   ]
  },
  {
   "cell_type": "code",
   "execution_count": 11,
   "metadata": {},
   "outputs": [
    {
     "data": {
      "image/png": "[encoded data removed]",
      "text/plain": [
       "<Figure size 1000x1000 with 4 Axes>"
      ]
     },
     "metadata": {},
     "output_type": "display_data"
    }
   ],
   "source": [
    "plot_losses(losses, train_biological_losses_all_epochs, test_biological_losses_all_epochs, train_kabsch_losses_all_epochs, test_kabsch_losses_all_epochs, trussart_test_kabsch_losses_all_epochs, train_distance_losses_all_epochs, test_distance_losses_all_epochs)\n"
   ]
  },
  {
   "cell_type": "code",
   "execution_count": 12,
   "metadata": {},
   "outputs": [],
   "source": [
    "kabsch_distances = []\n",
    "\n",
    "for graph_index in range(test_size):\n",
    "\n",
    "    test_true_structure = test_true_structures[graph_index,:,:]\n",
    "    test_pred_structure = test_pred_structures[graph_index,:,:]\n",
    "    \n",
    "    d = kabsch_distance_numpy(test_pred_structure, test_true_structure, EMBEDDING_SIZE)\n",
    "    kabsch_distances.append(d)"
   ]
  },
  {
   "cell_type": "code",
   "execution_count": 13,
   "metadata": {},
   "outputs": [],
   "source": [
    "GRAPH_TESTED = np.argmin(kabsch_distances)"
   ]
  },
  {
   "cell_type": "code",
   "execution_count": 14,
   "metadata": {},
   "outputs": [
    {
     "data": {
      "image/png": "[encoded data removed]",
      "text/plain": [
       "<Figure size 1500x1500 with 2 Axes>"
      ]
     },
     "metadata": {},
     "output_type": "display_data"
    }
   ],
   "source": [
    "ground_truth_matrix = test_true_distances[GRAPH_TESTED*NB_BINS:GRAPH_TESTED*NB_BINS+NB_BINS, :]\n",
    "reconstruction_matrix = test_pred_distances[GRAPH_TESTED*NB_BINS:GRAPH_TESTED*NB_BINS+NB_BINS, :]\n",
    "plot_test_distance_matrix(ground_truth_matrix, reconstruction_matrix)"
   ]
  },
  {
   "cell_type": "code",
   "execution_count": 15,
   "metadata": {},
   "outputs": [
    {
     "data": {
      "application/vnd.plotly.v1+json": {
       "config": {
        "plotlyServerURL": "https://plot.ly"
       },
       "data": [
        {
         "line": {
          "color": "darkblue",
          "width": 2
         },
         "marker": {
          "color": [
           0,
           1,
           2,
           3,
           4,
           5,
           6,
           7,
           8,
           9,
           10,
           11,
           12,
           13,
           14,
           15,
           16,
           17,
           18,
           19,
           20,
           21,
           22,
           23,
           24,
           25,
           26,
           27,
           28,
           29,
           30,
           31,
           32,
           33,
           34,
           35,
           36,
           37,
           38,
           39,
           40,
           41,
           42,
           43,
           44,
           45,
           46,
           47,
           48,
           49,
           50,
           51,
           52,
           53,
           54,
           55,
           56,
           57,
           58,
           59,
           60,
           61,
           62,
           63,
           64,
           65,
           66,
           67,
           68,
           69,
           70,
           71,
           72,
           73,
           74,
           75,
           76,
           77,
           78,
           79,
           80,
           81,
           82,
           83,
           84,
           85,
           86,
           87,
           88,
           89,
           90,
           91,
           92,
           93,
           94,
           95,
           96,
           97,
           98,
           99,
           100,
           101,
           102,
           103,
           104,
           105,
           106,
           107,
           108,
           109,
           110,
           111,
           112,
           113,
           114,
           115,
           116,
           117,
           118,
           119,
           120,
           121,
           122,
           123,
           124,
           125,
           126,
           127,
           128,
           129,
           130,
           131,
           132,
           133,
           134,
           135,
           136,
           137,
           138,
           139,
           140,
           141,
           142,
           143,
           144,
           145,
           146,
           147,
           148,
           149,
           150,
           151,
           152,
           153,
           154,
           155,
           156,
           157,
           158,
           159,
           160,
           161,
           162,
           163,
           164,
           165,
           166,
           167,
           168,
           169,
           170,
           171,
           172,
           173,
           174,
           175,
           176,
           177,
           178,
           179,
           180,
           181,
           182,
           183,
           184,
           185,
           186,
           187,
           188,
           189,
           190,
           191,
           192,
           193,
           194,
           195,
           196,
           197,
           198,
           199,
           200,
           201
          ],
          "colorscale": [
           [
            0,
            "#440154"
           ],
           [
            0.1111111111111111,
            "#482878"
           ],
           [
            0.2222222222222222,
            "#3e4989"
           ],
           [
            0.3333333333333333,
            "#31688e"
           ],
           [
            0.4444444444444444,
            "#26828e"
           ],
           [
            0.5555555555555556,
            "#1f9e89"
           ],
           [
            0.6666666666666666,
            "#35b779"
           ],
           [
            0.7777777777777778,
            "#6ece58"
           ],
           [
            0.8888888888888888,
            "#b5de2b"
           ],
           [
            1,
            "#fde725"
           ]
          ],
          "size": 4
         },
         "scene": "scene",
         "type": "scatter3d",
         "x": [
          0.19996468722820282,
          0.19996468722820282,
          0.12153197079896927,
          0.12153197079896927,
          0.19996468722820282,
          0.12153197079896927,
          0.043099239468574524,
          0.12153197079896927,
          0.19996468722820282,
          0.27839741110801697,
          0.27839741110801697,
          0.27839741110801697,
          0.27839741110801697,
          0.27839741110801697,
          0.19996468722820282,
          0.27839741110801697,
          0.27839741110801697,
          0.3568301498889923,
          0.27839741110801697,
          0.19996468722820282,
          0.27839741110801697,
          0.19996468722820282,
          0.27839741110801697,
          0.27839741110801697,
          0.3568301498889923,
          0.43526285886764526,
          0.5136955976486206,
          0.43526285886764526,
          0.43526285886764526,
          0.3568301498889923,
          0.27839741110801697,
          0.3568301498889923,
          0.3568301498889923,
          0.43526285886764526,
          0.5136955976486206,
          0.43526285886764526,
          0.43526285886764526,
          0.5136955976486206,
          0.43526285886764526,
          0.43526285886764526,
          0.3568301498889923,
          0.43526285886764526,
          0.43526285886764526,
          0.43526285886764526,
          0.3568301498889923,
          0.3568301498889923,
          0.3568301498889923,
          0.27839741110801697,
          0.27839741110801697,
          0.19996468722820282,
          0.27839741110801697,
          0.27839741110801697,
          0.3568301498889923,
          0.43526285886764526,
          0.3568301498889923,
          0.27839741110801697,
          0.27839741110801697,
          0.19996468722820282,
          0.19996468722820282,
          0.19996468722820282,
          0.12153197079896927,
          0.12153197079896927,
          0.043099239468574524,
          0.12153197079896927,
          0.12153197079896927,
          0.043099239468574524,
          -0.03533348813652992,
          -0.03533348813652992,
          -0.11376621574163437,
          -0.11376621574163437,
          -0.11376621574163437,
          -0.11376621574163437,
          -0.1921989470720291,
          -0.27063167095184326,
          -0.1921989470720291,
          -0.1921989470720291,
          -0.11376621574163437,
          -0.1921989470720291,
          -0.27063167095184326,
          -0.27063167095184326,
          -0.1921989470720291,
          -0.27063167095184326,
          -0.27063167095184326,
          -0.3490644097328186,
          -0.42749714851379395,
          -0.42749714851379395,
          -0.3490644097328186,
          -0.27063167095184326,
          -0.1921989470720291,
          -0.1921989470720291,
          -0.1921989470720291,
          -0.11376621574163437,
          -0.03533348813652992,
          -0.03533348813652992,
          0.043099239468574524,
          -0.03533348813652992,
          -0.11376621574163437,
          -0.11376621574163437,
          -0.1921989470720291,
          -0.27063167095184326,
          -0.27063167095184326,
          -0.27063167095184326,
          -0.27063167095184326,
          -0.1921989470720291,
          -0.11376621574163437,
          -0.11376621574163437,
          -0.03533348813652992,
          -0.03533348813652992,
          -0.03533348813652992,
          -0.11376621574163437,
          -0.03533348813652992,
          0.043099239468574524,
          0.12153197079896927,
          0.12153197079896927,
          0.12153197079896927,
          0.043099239468574524,
          0.12153197079896927,
          0.19996468722820282,
          0.19996468722820282,
          0.19996468722820282,
          0.19996468722820282,
          0.19996468722820282,
          0.27839741110801697,
          0.3568301498889923,
          0.43526285886764526,
          0.43526285886764526,
          0.3568301498889923,
          0.27839741110801697,
          0.19996468722820282,
          0.19996468722820282,
          0.19996468722820282,
          0.19996468722820282,
          0.12153197079896927,
          0.19996468722820282,
          0.12153197079896927,
          0.043099239468574524,
          0.043099239468574524,
          0.12153197079896927,
          0.043099239468574524,
          0.043099239468574524,
          0.12153197079896927,
          0.043099239468574524,
          -0.03533348813652992,
          -0.11376621574163437,
          -0.11376621574163437,
          -0.11376621574163437,
          -0.11376621574163437,
          -0.1921989470720291,
          -0.1921989470720291,
          -0.11376621574163437,
          -0.11376621574163437,
          -0.11376621574163437,
          -0.11376621574163437,
          -0.1921989470720291,
          -0.11376621574163437,
          -0.1921989470720291,
          -0.1921989470720291,
          -0.1921989470720291,
          -0.11376621574163437,
          -0.11376621574163437,
          -0.03533348813652992,
          -0.11376621574163437,
          -0.03533348813652992,
          -0.03533348813652992,
          -0.11376621574163437,
          -0.1921989470720291,
          -0.27063167095184326,
          -0.27063167095184326,
          -0.27063167095184326,
          -0.3490644097328186,
          -0.3490644097328186,
          -0.3490644097328186,
          -0.27063167095184326,
          -0.3490644097328186,
          -0.42749714851379395,
          -0.3490644097328186,
          -0.27063167095184326,
          -0.27063167095184326,
          -0.3490644097328186,
          -0.27063167095184326,
          -0.3490644097328186,
          -0.27063167095184326,
          -0.27063167095184326,
          -0.27063167095184326,
          -0.3490644097328186,
          -0.42749714851379395,
          -0.5059298872947693,
          -0.5843625664710999,
          -0.6627953052520752,
          -0.6627953052520752,
          -0.5843625664710999,
          -0.5843625664710999,
          -0.5059298872947693,
          -0.5843625664710999,
          -0.5059298872947693,
          -0.42749714851379395,
          -0.42749714851379395,
          -0.3490644097328186,
          -0.27063167095184326,
          -0.27063167095184326,
          -0.1921989470720291,
          -0.27063167095184326
         ],
         "y": [
          0.35605350136756897,
          0.27762076258659363,
          0.27762076258659363,
          0.27762076258659363,
          0.19918805360794067,
          0.12075532227754593,
          0.19918805360794067,
          0.19918805360794067,
          0.12075532227754593,
          0.04232259467244148,
          -0.036110132932662964,
          -0.036110132932662964,
          0.04232259467244148,
          -0.036110132932662964,
          -0.11454285681247711,
          -0.11454285681247711,
          -0.19297558069229126,
          -0.19297558069229126,
          -0.19297558069229126,
          -0.19297558069229126,
          -0.19297558069229126,
          -0.11454285681247711,
          -0.19297558069229126,
          -0.11454285681247711,
          -0.036110132932662964,
          -0.036110132932662964,
          -0.036110132932662964,
          0.04232259467244148,
          0.12075532227754593,
          0.19918805360794067,
          0.12075532227754593,
          0.19918805360794067,
          0.27762076258659363,
          0.27762076258659363,
          0.27762076258659363,
          0.35605350136756897,
          0.4344862103462219,
          0.4344862103462219,
          0.35605350136756897,
          0.4344862103462219,
          0.4344862103462219,
          0.4344862103462219,
          0.35605350136756897,
          0.27762076258659363,
          0.27762076258659363,
          0.35605350136756897,
          0.27762076258659363,
          0.35605350136756897,
          0.4344862103462219,
          0.35605350136756897,
          0.27762076258659363,
          0.19918805360794067,
          0.27762076258659363,
          0.35605350136756897,
          0.27762076258659363,
          0.27762076258659363,
          0.35605350136756897,
          0.4344862103462219,
          0.35605350136756897,
          0.35605350136756897,
          0.4344862103462219,
          0.5129189491271973,
          0.5129189491271973,
          0.4344862103462219,
          0.35605350136756897,
          0.4344862103462219,
          0.35605350136756897,
          0.4344862103462219,
          0.4344862103462219,
          0.35605350136756897,
          0.27762076258659363,
          0.19918805360794067,
          0.27762076258659363,
          0.27762076258659363,
          0.19918805360794067,
          0.19918805360794067,
          0.27762076258659363,
          0.27762076258659363,
          0.27762076258659363,
          0.27762076258659363,
          0.35605350136756897,
          0.35605350136756897,
          0.27762076258659363,
          0.27762076258659363,
          0.27762076258659363,
          0.27762076258659363,
          0.35605350136756897,
          0.27762076258659363,
          0.19918805360794067,
          0.19918805360794067,
          0.27762076258659363,
          0.27762076258659363,
          0.19918805360794067,
          0.12075532227754593,
          0.19918805360794067,
          0.12075532227754593,
          0.12075532227754593,
          0.19918805360794067,
          0.12075532227754593,
          0.04232259467244148,
          -0.036110132932662964,
          0.04232259467244148,
          -0.036110132932662964,
          -0.11454285681247711,
          -0.036110132932662964,
          -0.11454285681247711,
          -0.19297558069229126,
          -0.2714083194732666,
          -0.19297558069229126,
          -0.19297558069229126,
          -0.19297558069229126,
          -0.2714083194732666,
          -0.34984105825424194,
          -0.4282737970352173,
          -0.34984105825424194,
          -0.2714083194732666,
          -0.19297558069229126,
          -0.2714083194732666,
          -0.19297558069229126,
          -0.2714083194732666,
          -0.2714083194732666,
          -0.34984105825424194,
          -0.34984105825424194,
          -0.34984105825424194,
          -0.4282737970352173,
          -0.4282737970352173,
          -0.5067064762115479,
          -0.5067064762115479,
          -0.5067064762115479,
          -0.5851392149925232,
          -0.6635719537734985,
          -0.6635719537734985,
          -0.6635719537734985,
          -0.6635719537734985,
          -0.7420046925544739,
          -0.7420046925544739,
          -0.6635719537734985,
          -0.5851392149925232,
          -0.5067064762115479,
          -0.4282737970352173,
          -0.4282737970352173,
          -0.5067064762115479,
          -0.4282737970352173,
          -0.34984105825424194,
          -0.2714083194732666,
          -0.34984105825424194,
          -0.34984105825424194,
          -0.4282737970352173,
          -0.34984105825424194,
          -0.34984105825424194,
          -0.34984105825424194,
          -0.4282737970352173,
          -0.5067064762115479,
          -0.4282737970352173,
          -0.5067064762115479,
          -0.4282737970352173,
          -0.4282737970352173,
          -0.34984105825424194,
          -0.2714083194732666,
          -0.19297558069229126,
          -0.19297558069229126,
          -0.11454285681247711,
          -0.11454285681247711,
          -0.036110132932662964,
          -0.036110132932662964,
          -0.11454285681247711,
          -0.11454285681247711,
          -0.19297558069229126,
          -0.2714083194732666,
          -0.34984105825424194,
          -0.34984105825424194,
          -0.34984105825424194,
          -0.2714083194732666,
          -0.2714083194732666,
          -0.19297558069229126,
          -0.19297558069229126,
          -0.19297558069229126,
          -0.11454285681247711,
          -0.036110132932662964,
          -0.11454285681247711,
          -0.11454285681247711,
          -0.11454285681247711,
          -0.11454285681247711,
          -0.11454285681247711,
          -0.11454285681247711,
          -0.11454285681247711,
          -0.036110132932662964,
          0.04232259467244148,
          0.12075532227754593,
          0.12075532227754593,
          0.19918805360794067,
          0.27762076258659363,
          0.19918805360794067,
          0.27762076258659363,
          0.19918805360794067,
          0.27762076258659363,
          0.35605350136756897,
          0.4344862103462219,
          0.5129189491271973,
          0.5129189491271973,
          0.5913516879081726,
          0.5913516879081726
         ],
         "z": [
          -0.11531945317983627,
          -0.19375218451023102,
          -0.2721848785877228,
          -0.2721848785877228,
          -0.19375218451023102,
          -0.11531945317983627,
          -0.11531945317983627,
          -0.19375218451023102,
          -0.11531945317983627,
          -0.11531945317983627,
          -0.19375218451023102,
          -0.11531945317983627,
          -0.19375218451023102,
          -0.2721848785877228,
          -0.3506176173686981,
          -0.42905035614967346,
          -0.42905035614967346,
          -0.3506176173686981,
          -0.42905035614967346,
          -0.3506176173686981,
          -0.42905035614967346,
          -0.42905035614967346,
          -0.3506176173686981,
          -0.3506176173686981,
          -0.3506176173686981,
          -0.3506176173686981,
          -0.2721848785877228,
          -0.3506176173686981,
          -0.2721848785877228,
          -0.19375218451023102,
          -0.11531945317983627,
          -0.19375218451023102,
          -0.19375218451023102,
          -0.19375218451023102,
          -0.11531945317983627,
          -0.03688671812415123,
          -0.03688671812415123,
          -0.03688671812415123,
          0.04154600948095322,
          0.04154600948095322,
          -0.03688671812415123,
          -0.03688671812415123,
          0.04154600948095322,
          0.04154600948095322,
          -0.03688671812415123,
          -0.11531945317983627,
          -0.19375218451023102,
          -0.2721848785877228,
          -0.2721848785877228,
          -0.2721848785877228,
          -0.3506176173686981,
          -0.3506176173686981,
          -0.2721848785877228,
          -0.19375218451023102,
          -0.19375218451023102,
          -0.19375218451023102,
          -0.11531945317983627,
          -0.11531945317983627,
          -0.03688671812415123,
          -0.11531945317983627,
          -0.19375218451023102,
          -0.2721848785877228,
          -0.19375218451023102,
          -0.2721848785877228,
          -0.19375218451023102,
          -0.11531945317983627,
          -0.19375218451023102,
          -0.11531945317983627,
          -0.19375218451023102,
          -0.11531945317983627,
          -0.03688671812415123,
          -0.11531945317983627,
          -0.19375218451023102,
          -0.19375218451023102,
          -0.11531945317983627,
          -0.11531945317983627,
          -0.11531945317983627,
          -0.03688671812415123,
          0.04154600948095322,
          0.11997873336076736,
          0.11997873336076736,
          0.1984114646911621,
          0.1984114646911621,
          0.11997873336076736,
          0.11997873336076736,
          0.1984114646911621,
          0.1984114646911621,
          0.27684420347213745,
          0.1984114646911621,
          0.11997873336076736,
          0.11997873336076736,
          0.04154600948095322,
          0.11997873336076736,
          0.04154600948095322,
          0.04154600948095322,
          0.04154600948095322,
          0.11997873336076736,
          0.11997873336076736,
          0.1984114646911621,
          0.1984114646911621,
          0.27684420347213745,
          0.3552769422531128,
          0.43370965123176575,
          0.3552769422531128,
          0.27684420347213745,
          0.27684420347213745,
          0.27684420347213745,
          0.27684420347213745,
          0.3552769422531128,
          0.27684420347213745,
          0.1984114646911621,
          0.27684420347213745,
          0.3552769422531128,
          0.43370965123176575,
          0.5121423602104187,
          0.590575098991394,
          0.590575098991394,
          0.5121423602104187,
          0.5121423602104187,
          0.43370965123176575,
          0.3552769422531128,
          0.27684420347213745,
          0.27684420347213745,
          0.1984114646911621,
          0.1984114646911621,
          0.11997873336076736,
          0.1984114646911621,
          0.27684420347213745,
          0.3552769422531128,
          0.43370965123176575,
          0.5121423602104187,
          0.43370965123176575,
          0.43370965123176575,
          0.5121423602104187,
          0.590575098991394,
          0.6690078377723694,
          0.590575098991394,
          0.5121423602104187,
          0.43370965123176575,
          0.43370965123176575,
          0.3552769422531128,
          0.27684420347213745,
          0.1984114646911621,
          0.1984114646911621,
          0.11997873336076736,
          0.1984114646911621,
          0.11997873336076736,
          0.04154600948095322,
          0.04154600948095322,
          0.04154600948095322,
          0.11997873336076736,
          0.11997873336076736,
          0.11997873336076736,
          0.11997873336076736,
          0.11997873336076736,
          0.11997873336076736,
          0.1984114646911621,
          0.11997873336076736,
          0.11997873336076736,
          0.11997873336076736,
          0.1984114646911621,
          0.1984114646911621,
          0.1984114646911621,
          0.11997873336076736,
          0.04154600948095322,
          -0.03688671812415123,
          -0.11531945317983627,
          -0.03688671812415123,
          -0.11531945317983627,
          -0.19375218451023102,
          -0.2721848785877228,
          -0.19375218451023102,
          -0.19375218451023102,
          -0.11531945317983627,
          -0.11531945317983627,
          -0.11531945317983627,
          -0.03688671812415123,
          -0.11531945317983627,
          -0.03688671812415123,
          -0.03688671812415123,
          0.04154600948095322,
          -0.03688671812415123,
          -0.03688671812415123,
          -0.11531945317983627,
          -0.19375218451023102,
          -0.11531945317983627,
          -0.03688671812415123,
          0.04154600948095322,
          -0.03688671812415123,
          -0.11531945317983627,
          -0.19375218451023102,
          -0.19375218451023102,
          -0.2721848785877228,
          -0.3506176173686981,
          -0.3506176173686981,
          -0.42905035614967346,
          -0.42905035614967346,
          -0.42905035614967346,
          -0.42905035614967346,
          -0.5074831247329712,
          -0.5859158635139465,
          -0.5859158635139465
         ]
        },
        {
         "line": {
          "color": "darkblue",
          "width": 2
         },
         "marker": {
          "color": [
           0,
           1,
           2,
           3,
           4,
           5,
           6,
           7,
           8,
           9,
           10,
           11,
           12,
           13,
           14,
           15,
           16,
           17,
           18,
           19,
           20,
           21,
           22,
           23,
           24,
           25,
           26,
           27,
           28,
           29,
           30,
           31,
           32,
           33,
           34,
           35,
           36,
           37,
           38,
           39,
           40,
           41,
           42,
           43,
           44,
           45,
           46,
           47,
           48,
           49,
           50,
           51,
           52,
           53,
           54,
           55,
           56,
           57,
           58,
           59,
           60,
           61,
           62,
           63,
           64,
           65,
           66,
           67,
           68,
           69,
           70,
           71,
           72,
           73,
           74,
           75,
           76,
           77,
           78,
           79,
           80,
           81,
           82,
           83,
           84,
           85,
           86,
           87,
           88,
           89,
           90,
           91,
           92,
           93,
           94,
           95,
           96,
           97,
           98,
           99,
           100,
           101,
           102,
           103,
           104,
           105,
           106,
           107,
           108,
           109,
           110,
           111,
           112,
           113,
           114,
           115,
           116,
           117,
           118,
           119,
           120,
           121,
           122,
           123,
           124,
           125,
           126,
           127,
           128,
           129,
           130,
           131,
           132,
           133,
           134,
           135,
           136,
           137,
           138,
           139,
           140,
           141,
           142,
           143,
           144,
           145,
           146,
           147,
           148,
           149,
           150,
           151,
           152,
           153,
           154,
           155,
           156,
           157,
           158,
           159,
           160,
           161,
           162,
           163,
           164,
           165,
           166,
           167,
           168,
           169,
           170,
           171,
           172,
           173,
           174,
           175,
           176,
           177,
           178,
           179,
           180,
           181,
           182,
           183,
           184,
           185,
           186,
           187,
           188,
           189,
           190,
           191,
           192,
           193,
           194,
           195,
           196,
           197,
           198,
           199,
           200,
           201
          ],
          "colorscale": [
           [
            0,
            "#440154"
           ],
           [
            0.1111111111111111,
            "#482878"
           ],
           [
            0.2222222222222222,
            "#3e4989"
           ],
           [
            0.3333333333333333,
            "#31688e"
           ],
           [
            0.4444444444444444,
            "#26828e"
           ],
           [
            0.5555555555555556,
            "#1f9e89"
           ],
           [
            0.6666666666666666,
            "#35b779"
           ],
           [
            0.7777777777777778,
            "#6ece58"
           ],
           [
            0.8888888888888888,
            "#b5de2b"
           ],
           [
            1,
            "#fde725"
           ]
          ],
          "size": 4
         },
         "scene": "scene2",
         "type": "scatter3d",
         "x": [
          0.19505304570786233,
          0.19757293235315995,
          0.11420089714001694,
          0.1132243348457958,
          0.20068924368173058,
          0.1313601183745611,
          0.057085719522831396,
          0.14710955945257262,
          0.1953929048612821,
          0.2635164961310549,
          0.2798826344498247,
          0.25083888993874814,
          0.2602920795237199,
          0.27946108269168585,
          0.2540831758227281,
          0.3317318889600294,
          0.34392354166886235,
          0.3758697083243161,
          0.35264805758924966,
          0.2778103215599661,
          0.3756067707988148,
          0.29233976495671826,
          0.3415007108895623,
          0.3300411390837503,
          0.3777772954843951,
          0.44654716291413465,
          0.5230406447129677,
          0.46029823328904673,
          0.4606663865523832,
          0.34980325470421386,
          0.29279994011742905,
          0.34813974050627905,
          0.3691613323502556,
          0.40478720320513545,
          0.5161247329201418,
          0.4418401299718086,
          0.4518468308965112,
          0.5290766431700429,
          0.4758135426776086,
          0.4985774622460322,
          0.3926296057139709,
          0.4579204609583356,
          0.45952638078000024,
          0.43986967863695176,
          0.37871511459765994,
          0.3709166115841315,
          0.37365262723293846,
          0.28437749663451267,
          0.27454848239003043,
          0.25204277436643774,
          0.29877306848599194,
          0.3082203099263754,
          0.3638938570199382,
          0.42546743604254,
          0.3813964578261599,
          0.32046513643870767,
          0.3378261712092227,
          0.25036841766466494,
          0.26568557045483643,
          0.22509698525261676,
          0.09724667315042448,
          0.008348889988513514,
          -0.04780373634854316,
          0.0588095234850823,
          0.14892505877074763,
          0.010213700489647027,
          -0.0544569732418693,
          -0.07939721902934108,
          -0.1771902365597469,
          -0.12513833995466267,
          -0.09315854046926195,
          -0.09017474723834208,
          -0.18680396696144966,
          -0.2728908587360027,
          -0.15714024614756933,
          -0.15782677140780293,
          -0.0869593081383099,
          -0.15968306935731644,
          -0.23725860902716298,
          -0.24292434951758843,
          -0.18660567847499607,
          -0.3022806059668896,
          -0.2690584635209063,
          -0.33147948936287136,
          -0.40795045857529744,
          -0.4298884979212207,
          -0.36313010080538677,
          -0.29326060944885507,
          -0.16047993107578154,
          -0.15297180710336825,
          -0.1559877316858628,
          -0.07531603076615122,
          -0.031471527732387865,
          -0.04674979881142116,
          0.04321050718229371,
          -0.04526425790673272,
          -0.09349523444607437,
          -0.09564805535377881,
          -0.16095397947795292,
          -0.22927411249082144,
          -0.23415163821849472,
          -0.24138502569377637,
          -0.2596920104284164,
          -0.15206584701236436,
          -0.10148523301405028,
          -0.1106613255154957,
          -0.06502686497079833,
          -0.0360430151760871,
          -0.027542935431860132,
          -0.09064117472254857,
          -0.048823521730709814,
          0.02396344217724033,
          0.124814681596906,
          0.11914325395490265,
          0.13517022665952402,
          0.10548708842619714,
          0.21338451033200606,
          0.253578167721335,
          0.2727649573218205,
          0.21707575635185825,
          0.20789094977478756,
          0.18781852731553017,
          0.26573792203812285,
          0.3372192669281494,
          0.40912785121789014,
          0.4254061291860591,
          0.3682311293855924,
          0.2904346951955594,
          0.21272998076408478,
          0.16126479759722628,
          0.09019936809602791,
          0.11859346989208523,
          0.08253225881779398,
          0.08775434280720697,
          -0.003803085028793939,
          -0.1032865238435349,
          -0.04475000880464283,
          0.04893033977896254,
          0.0525426743353056,
          0.053654579359212674,
          0.13027411285821883,
          0.09741503033353242,
          -0.0032761608115414163,
          -0.05899872917721882,
          -0.09373249051590941,
          -0.05933837124597398,
          -0.08607718825117522,
          -0.1231934795239906,
          -0.1597871220013757,
          -0.101455975503493,
          -0.1059802516039048,
          -0.08662608598786639,
          -0.06692772127862621,
          -0.1210814668115771,
          -0.06998072980189263,
          -0.12144444877917855,
          -0.12445124492027528,
          -0.14811189994725704,
          -0.12569116918174536,
          -0.14230169581396263,
          -0.07601197828907433,
          -0.11814035254889904,
          -0.07945073293986138,
          -0.06823549129224915,
          -0.1284044686726089,
          -0.2502391618609321,
          -0.30678989444097715,
          -0.31336690615856483,
          -0.3143080639152445,
          -0.36317532389714513,
          -0.36292797684450323,
          -0.3503482815582277,
          -0.29787080788740095,
          -0.3525027076743304,
          -0.41183970734471714,
          -0.3517135393754116,
          -0.3043896114339937,
          -0.30260863635939517,
          -0.3385130123998059,
          -0.29013226482636456,
          -0.3367409071053297,
          -0.29492226049652764,
          -0.29477076667729024,
          -0.3089965226083503,
          -0.3555090641017051,
          -0.4130246056815621,
          -0.5075948862609894,
          -0.6224533625105837,
          -0.6972469055127236,
          -0.705500949132258,
          -0.6185143975923569,
          -0.6189051321175645,
          -0.5685438324962895,
          -0.5971083608085073,
          -0.5525171794399457,
          -0.4805237569644228,
          -0.480042632133497,
          -0.4207190814989072,
          -0.39931255105335317,
          -0.41742355390202734,
          -0.3937300996776894,
          -0.445865850799076
         ],
         "y": [
          0.2698140175781283,
          0.21120550730267043,
          0.2576448211753129,
          0.25523426474550626,
          0.14648738306138812,
          0.0719642314919802,
          0.12850815743096355,
          0.131693004022336,
          0.08642586871706887,
          0.056012489468724606,
          0.00923591188373908,
          -0.02851919971140425,
          0.038192848990700905,
          -0.006143190489485785,
          -0.04535684744130671,
          -0.02690874195323696,
          -0.11272442813936234,
          -0.08500602587842142,
          -0.1068417422316998,
          -0.09136390434741577,
          -0.1115560693112951,
          -0.035934869980892147,
          -0.06971557960709557,
          -0.03553797141762758,
          0.0019575378644677106,
          0.012215957881812341,
          -0.002234436026893303,
          0.08019196477132848,
          0.14166097501093616,
          0.2183432163608662,
          0.08574194579473687,
          0.23154725516832583,
          0.28980821648444466,
          0.3268414371813706,
          0.31301161307580355,
          0.3315052531169857,
          0.41241881869601404,
          0.44640180252566586,
          0.3561994674195732,
          0.4185309969320307,
          0.4237009863178808,
          0.4282908523468846,
          0.36042337362170196,
          0.29507211718925075,
          0.24361957979507828,
          0.33551143587459303,
          0.26767473785967694,
          0.36269123461435426,
          0.45256811228587956,
          0.31075201292300464,
          0.29571592274428893,
          0.2190181211283411,
          0.2963612091503283,
          0.3794584334707634,
          0.27025571438296675,
          0.24270688577312383,
          0.2878905691457213,
          0.38784781235177956,
          0.2892063576584006,
          0.3208457835862032,
          0.40871112958752853,
          0.529456310885644,
          0.512363981191853,
          0.4357150355849664,
          0.3093573305190662,
          0.4088529165932565,
          0.34583494716481605,
          0.4134759773449859,
          0.41515213317626215,
          0.3336533068806388,
          0.25198945539403284,
          0.20042666043003987,
          0.302571939897001,
          0.3112067006971956,
          0.2002648763184293,
          0.20173755344236996,
          0.27013124718286374,
          0.2647952627779568,
          0.2839762132858429,
          0.2790877672442713,
          0.3570221152454933,
          0.3850793752274342,
          0.3021676453140683,
          0.3237286035129799,
          0.35529954564085076,
          0.3528368133028537,
          0.39388340895694074,
          0.2995818457670667,
          0.16614362316061188,
          0.16452584159378145,
          0.24685377732144823,
          0.23719130167599628,
          0.14112625744373963,
          0.08171864511005848,
          0.14581174763064472,
          0.0757878067406397,
          0.06107699802203781,
          0.1413368037305784,
          0.0813325871529706,
          0.025437207512412612,
          -0.02698590019772483,
          0.0734266752908864,
          0.006174981880522847,
          -0.09295460196665532,
          -0.08583692995035312,
          -0.15362301644691503,
          -0.22038573425996716,
          -0.2857932001047838,
          -0.2161744107590112,
          -0.21804762926832022,
          -0.2369710592676685,
          -0.2857939967302678,
          -0.3559102793488781,
          -0.3912192937358255,
          -0.31083061123198397,
          -0.26044017140430414,
          -0.21009724918504272,
          -0.2841530616120025,
          -0.2315568382003951,
          -0.2865914011475338,
          -0.3049571955733075,
          -0.3661610048723915,
          -0.3625817293264408,
          -0.37108798561121903,
          -0.4359571612270174,
          -0.4403473367728245,
          -0.509186348466064,
          -0.5097581465552395,
          -0.5104265861552801,
          -0.5647025027151733,
          -0.6540407819154392,
          -0.6194389087749463,
          -0.6227942954393744,
          -0.6658632260775605,
          -0.779991905092429,
          -0.8125831814593835,
          -0.7051386246172044,
          -0.5895025956503904,
          -0.5147708549460605,
          -0.44023898284792196,
          -0.4229095680632929,
          -0.511133319021112,
          -0.44795580832906523,
          -0.36766036482855025,
          -0.30410797697601366,
          -0.36629102360830645,
          -0.37109909847226225,
          -0.4230582582160157,
          -0.3574393874498504,
          -0.3588222868181931,
          -0.3647873962961545,
          -0.42708926702268746,
          -0.5089155274679715,
          -0.43133491295927534,
          -0.4978662420513086,
          -0.42536886570018523,
          -0.4331561704839051,
          -0.3495020494315018,
          -0.2869618989534499,
          -0.22111783745045666,
          -0.2216699832532895,
          -0.15890185586754316,
          -0.1756543135686408,
          -0.10039373657573548,
          -0.0878515874314522,
          -0.1341539242468484,
          -0.1112264135686182,
          -0.18688908705607513,
          -0.24039721671695022,
          -0.3011547383440851,
          -0.299533067451525,
          -0.30161219879468304,
          -0.2572850906259252,
          -0.266991868603487,
          -0.19188515540329998,
          -0.2001804658604696,
          -0.20271257535199988,
          -0.12008294749563059,
          -0.07472217937964613,
          -0.16226195818228503,
          -0.13565493607984186,
          -0.15857925029439468,
          -0.15389768228192982,
          -0.10196284274198915,
          -0.13046897711303954,
          -0.12027820070661982,
          -0.0017424603682339992,
          0.10431145583833658,
          0.19453065239151698,
          0.1930583913035639,
          0.25507597734571497,
          0.32330935211655626,
          0.24990903527474995,
          0.36460581271643755,
          0.3103830926863799,
          0.37402196297370033,
          0.4178393089114002,
          0.46372835798377726,
          0.5074011204306237,
          0.4880661820289314,
          0.539680192432201,
          0.4848250589095012
         ],
         "z": [
          -0.1720737097473814,
          -0.19827517759991256,
          -0.25346752064713307,
          -0.2534971736739213,
          -0.21512319119155246,
          -0.14975240207964383,
          -0.12017513574348736,
          -0.2183714871311885,
          -0.1793193788190018,
          -0.18631225255754522,
          -0.22760005752742687,
          -0.19232299101429612,
          -0.2338628722586184,
          -0.27084288043638466,
          -0.3083268762375958,
          -0.3429757600010563,
          -0.3667870353056813,
          -0.3200855917875063,
          -0.35288541551769076,
          -0.31112874718786293,
          -0.34755869643276843,
          -0.35038303402364085,
          -0.29292095582833066,
          -0.2871041709013606,
          -0.29126810506515377,
          -0.3003621663906972,
          -0.2553913754838899,
          -0.3019324960137851,
          -0.24866757909468903,
          -0.19565295829626064,
          -0.15965090558615716,
          -0.18630425982461213,
          -0.1925424449937613,
          -0.18490326548456945,
          -0.08991681929223003,
          -0.08673282025004797,
          -0.09374553047654352,
          -0.09516078063297749,
          -0.03083751357023226,
          -0.05290124831941587,
          -0.10781400008773331,
          -0.08892567474069492,
          -0.022733435315050718,
          -0.042812320477016594,
          -0.08610973982055961,
          -0.14052908462869151,
          -0.195214850438163,
          -0.2427911414603334,
          -0.22575018304058983,
          -0.22937334663602446,
          -0.2765574782756359,
          -0.27525158281828105,
          -0.22328654076384888,
          -0.18885557235675074,
          -0.17205644565318406,
          -0.17445668505002657,
          -0.11889390679993249,
          -0.12545900619261205,
          -0.08035823470515951,
          -0.13367482785614582,
          -0.213539839754212,
          -0.3082129515001697,
          -0.26552515085178263,
          -0.28073061770706603,
          -0.2130236111836882,
          -0.16795204028201835,
          -0.2047115141737695,
          -0.18526754936350917,
          -0.2668585782044161,
          -0.13460905129942843,
          -0.013091562257151532,
          -0.06976205994859848,
          -0.1537046465601713,
          -0.15935469620875997,
          -0.053136328191361444,
          -0.05575982675524356,
          -0.0813266573291021,
          0.011402657303361204,
          0.09542241536039388,
          0.1525569663681487,
          0.11743656675018137,
          0.1774671096868172,
          0.19223106140574237,
          0.16063564497683008,
          0.1693424664032042,
          0.22792321501092633,
          0.2074965197330275,
          0.2628178767072773,
          0.20333324684233758,
          0.14383001929742958,
          0.13177221303572254,
          0.06202747160806927,
          0.1135486665140244,
          0.041718630187638724,
          -0.0007889470702908073,
          0.022270348101399343,
          0.09997548715591117,
          0.11566179702707648,
          0.17354024677144414,
          0.1892499694609282,
          0.26683949309419874,
          0.3498067289163187,
          0.41368168971890923,
          0.3165435680891872,
          0.2201878783096215,
          0.21103762067669543,
          0.2139697750081826,
          0.21635075374899282,
          0.29324719125510407,
          0.20724058108550789,
          0.12431353096497484,
          0.23854542917708796,
          0.34373598030873237,
          0.4585499762498166,
          0.5572650035123667,
          0.6445496268106634,
          0.6282600058549944,
          0.5252845740714476,
          0.5365906492892552,
          0.46990106664941167,
          0.3796128391628808,
          0.3377858764957506,
          0.3650732521359639,
          0.31228075767270613,
          0.31709588230394803,
          0.2710453313517948,
          0.312557165524655,
          0.3491784690604104,
          0.3967978945659791,
          0.4615613327575129,
          0.5170065937007421,
          0.47237000065878476,
          0.47881057254942894,
          0.5145397603491414,
          0.5296951204654003,
          0.5736205489377728,
          0.5719889405705754,
          0.533946066613212,
          0.448380471866664,
          0.43689598879765823,
          0.3783879144108886,
          0.27638163370783503,
          0.16404071750459207,
          0.15047106509623256,
          0.09482876548726,
          0.15678267991217146,
          0.10829392848086283,
          0.04822224270138672,
          0.02770821184555718,
          0.041325906699694916,
          0.08822852101491058,
          0.07976693049573957,
          0.07967144565391464,
          0.08304270552414007,
          0.09821472129541498,
          0.08466683474983573,
          0.14263224486446868,
          0.09404587721137628,
          0.08559063787483717,
          0.08300720498448046,
          0.1229214928205113,
          0.13137716819875336,
          0.12269648217382353,
          0.06009009005803302,
          0.008704970622171562,
          -0.0617006717659564,
          -0.09156387747693143,
          -0.05904112853524311,
          -0.10008446181314204,
          -0.15009055518357395,
          -0.19721266522172962,
          -0.1550865061105914,
          -0.14220719855775962,
          -0.08729850866689508,
          -0.08219127116794539,
          -0.09027768506253214,
          -0.04941904646400462,
          -0.08404750013150444,
          -0.034729182459663555,
          -0.03637398303447175,
          0.030256318472008496,
          -0.033913870575651144,
          -0.03772000451261473,
          -0.08122652508804702,
          -0.12514097917335776,
          -0.08440494782649038,
          -0.02632367130583557,
          0.016759689599569166,
          -0.04282150591619486,
          -0.10746164158240984,
          -0.17939514935201978,
          -0.19317848867068999,
          -0.21790429231821182,
          -0.3395551517650871,
          -0.30042387352400396,
          -0.3933313819866152,
          -0.41825416667510407,
          -0.45507067799005135,
          -0.4847113610271747,
          -0.5702954757833448,
          -0.670398401809149,
          -0.6676842028330267
         ]
        }
       ],
       "layout": {
        "height": 1000,
        "scene": {
         "domain": {
          "x": [
           0,
           0.45
          ],
          "y": [
           0,
           1
          ]
         }
        },
        "scene2": {
         "domain": {
          "x": [
           0.55,
           1
          ],
          "y": [
           0,
           1
          ]
         }
        },
        "template": {
         "data": {
          "bar": [
           {
            "error_x": {
             "color": "#2a3f5f"
            },
            "error_y": {
             "color": "#2a3f5f"
            },
            "marker": {
             "line": {
              "color": "#E5ECF6",
              "width": 0.5
             }
            },
            "type": "bar"
           }
          ],
          "barpolar": [
           {
            "marker": {
             "line": {
              "color": "#E5ECF6",
              "width": 0.5
             }
            },
            "type": "barpolar"
           }
          ],
          "carpet": [
           {
            "aaxis": {
             "endlinecolor": "#2a3f5f",
             "gridcolor": "white",
             "linecolor": "white",
             "minorgridcolor": "white",
             "startlinecolor": "#2a3f5f"
            },
            "baxis": {
             "endlinecolor": "#2a3f5f",
             "gridcolor": "white",
             "linecolor": "white",
             "minorgridcolor": "white",
             "startlinecolor": "#2a3f5f"
            },
            "type": "carpet"
           }
          ],
          "choropleth": [
           {
            "colorbar": {
             "outlinewidth": 0,
             "ticks": ""
            },
            "type": "choropleth"
           }
          ],
          "contour": [
           {
            "colorbar": {
             "outlinewidth": 0,
             "ticks": ""
            },
            "colorscale": [
             [
              0,
              "#0d0887"
             ],
             [
              0.1111111111111111,
              "#46039f"
             ],
             [
              0.2222222222222222,
              "#7201a8"
             ],
             [
              0.3333333333333333,
              "#9c179e"
             ],
             [
              0.4444444444444444,
              "#bd3786"
             ],
             [
              0.5555555555555556,
              "#d8576b"
             ],
             [
              0.6666666666666666,
              "#ed7953"
             ],
             [
              0.7777777777777778,
              "#fb9f3a"
             ],
             [
              0.8888888888888888,
              "#fdca26"
             ],
             [
              1,
              "#f0f921"
             ]
            ],
            "type": "contour"
           }
          ],
          "contourcarpet": [
           {
            "colorbar": {
             "outlinewidth": 0,
             "ticks": ""
            },
            "type": "contourcarpet"
           }
          ],
          "heatmap": [
           {
            "colorbar": {
             "outlinewidth": 0,
             "ticks": ""
            },
            "colorscale": [
             [
              0,
              "#0d0887"
             ],
             [
              0.1111111111111111,
              "#46039f"
             ],
             [
              0.2222222222222222,
              "#7201a8"
             ],
             [
              0.3333333333333333,
              "#9c179e"
             ],
             [
              0.4444444444444444,
              "#bd3786"
             ],
             [
              0.5555555555555556,
              "#d8576b"
             ],
             [
              0.6666666666666666,
              "#ed7953"
             ],
             [
              0.7777777777777778,
              "#fb9f3a"
             ],
             [
              0.8888888888888888,
              "#fdca26"
             ],
             [
              1,
              "#f0f921"
             ]
            ],
            "type": "heatmap"
           }
          ],
          "heatmapgl": [
           {
            "colorbar": {
             "outlinewidth": 0,
             "ticks": ""
            },
            "colorscale": [
             [
              0,
              "#0d0887"
             ],
             [
              0.1111111111111111,
              "#46039f"
             ],
             [
              0.2222222222222222,
              "#7201a8"
             ],
             [
              0.3333333333333333,
              "#9c179e"
             ],
             [
              0.4444444444444444,
              "#bd3786"
             ],
             [
              0.5555555555555556,
              "#d8576b"
             ],
             [
              0.6666666666666666,
              "#ed7953"
             ],
             [
              0.7777777777777778,
              "#fb9f3a"
             ],
             [
              0.8888888888888888,
              "#fdca26"
             ],
             [
              1,
              "#f0f921"
             ]
            ],
            "type": "heatmapgl"
           }
          ],
          "histogram": [
           {
            "marker": {
             "colorbar": {
              "outlinewidth": 0,
              "ticks": ""
             }
            },
            "type": "histogram"
           }
          ],
          "histogram2d": [
           {
            "colorbar": {
             "outlinewidth": 0,
             "ticks": ""
            },
            "colorscale": [
             [
              0,
              "#0d0887"
             ],
             [
              0.1111111111111111,
              "#46039f"
             ],
             [
              0.2222222222222222,
              "#7201a8"
             ],
             [
              0.3333333333333333,
              "#9c179e"
             ],
             [
              0.4444444444444444,
              "#bd3786"
             ],
             [
              0.5555555555555556,
              "#d8576b"
             ],
             [
              0.6666666666666666,
              "#ed7953"
             ],
             [
              0.7777777777777778,
              "#fb9f3a"
             ],
             [
              0.8888888888888888,
              "#fdca26"
             ],
             [
              1,
              "#f0f921"
             ]
            ],
            "type": "histogram2d"
           }
          ],
          "histogram2dcontour": [
           {
            "colorbar": {
             "outlinewidth": 0,
             "ticks": ""
            },
            "colorscale": [
             [
              0,
              "#0d0887"
             ],
             [
              0.1111111111111111,
              "#46039f"
             ],
             [
              0.2222222222222222,
              "#7201a8"
             ],
             [
              0.3333333333333333,
              "#9c179e"
             ],
             [
              0.4444444444444444,
              "#bd3786"
             ],
             [
              0.5555555555555556,
              "#d8576b"
             ],
             [
              0.6666666666666666,
              "#ed7953"
             ],
             [
              0.7777777777777778,
              "#fb9f3a"
             ],
             [
              0.8888888888888888,
              "#fdca26"
             ],
             [
              1,
              "#f0f921"
             ]
            ],
            "type": "histogram2dcontour"
           }
          ],
          "mesh3d": [
           {
            "colorbar": {
             "outlinewidth": 0,
             "ticks": ""
            },
            "type": "mesh3d"
           }
          ],
          "parcoords": [
           {
            "line": {
             "colorbar": {
              "outlinewidth": 0,
              "ticks": ""
             }
            },
            "type": "parcoords"
           }
          ],
          "pie": [
           {
            "automargin": true,
            "type": "pie"
           }
          ],
          "scatter": [
           {
            "marker": {
             "colorbar": {
              "outlinewidth": 0,
              "ticks": ""
             }
            },
            "type": "scatter"
           }
          ],
          "scatter3d": [
           {
            "line": {
             "colorbar": {
              "outlinewidth": 0,
              "ticks": ""
             }
            },
            "marker": {
             "colorbar": {
              "outlinewidth": 0,
              "ticks": ""
             }
            },
            "type": "scatter3d"
           }
          ],
          "scattercarpet": [
           {
            "marker": {
             "colorbar": {
              "outlinewidth": 0,
              "ticks": ""
             }
            },
            "type": "scattercarpet"
           }
          ],
          "scattergeo": [
           {
            "marker": {
             "colorbar": {
              "outlinewidth": 0,
              "ticks": ""
             }
            },
            "type": "scattergeo"
           }
          ],
          "scattergl": [
           {
            "marker": {
             "colorbar": {
              "outlinewidth": 0,
              "ticks": ""
             }
            },
            "type": "scattergl"
           }
          ],
          "scattermapbox": [
           {
            "marker": {
             "colorbar": {
              "outlinewidth": 0,
              "ticks": ""
             }
            },
            "type": "scattermapbox"
           }
          ],
          "scatterpolar": [
           {
            "marker": {
             "colorbar": {
              "outlinewidth": 0,
              "ticks": ""
             }
            },
            "type": "scatterpolar"
           }
          ],
          "scatterpolargl": [
           {
            "marker": {
             "colorbar": {
              "outlinewidth": 0,
              "ticks": ""
             }
            },
            "type": "scatterpolargl"
           }
          ],
          "scatterternary": [
           {
            "marker": {
             "colorbar": {
              "outlinewidth": 0,
              "ticks": ""
             }
            },
            "type": "scatterternary"
           }
          ],
          "surface": [
           {
            "colorbar": {
             "outlinewidth": 0,
             "ticks": ""
            },
            "colorscale": [
             [
              0,
              "#0d0887"
             ],
             [
              0.1111111111111111,
              "#46039f"
             ],
             [
              0.2222222222222222,
              "#7201a8"
             ],
             [
              0.3333333333333333,
              "#9c179e"
             ],
             [
              0.4444444444444444,
              "#bd3786"
             ],
             [
              0.5555555555555556,
              "#d8576b"
             ],
             [
              0.6666666666666666,
              "#ed7953"
             ],
             [
              0.7777777777777778,
              "#fb9f3a"
             ],
             [
              0.8888888888888888,
              "#fdca26"
             ],
             [
              1,
              "#f0f921"
             ]
            ],
            "type": "surface"
           }
          ],
          "table": [
           {
            "cells": {
             "fill": {
              "color": "#EBF0F8"
             },
             "line": {
              "color": "white"
             }
            },
            "header": {
             "fill": {
              "color": "#C8D4E3"
             },
             "line": {
              "color": "white"
             }
            },
            "type": "table"
           }
          ]
         },
         "layout": {
          "annotationdefaults": {
           "arrowcolor": "#2a3f5f",
           "arrowhead": 0,
           "arrowwidth": 1
          },
          "autotypenumbers": "strict",
          "coloraxis": {
           "colorbar": {
            "outlinewidth": 0,
            "ticks": ""
           }
          },
          "colorscale": {
           "diverging": [
            [
             0,
             "#8e0152"
            ],
            [
             0.1,
             "#c51b7d"
            ],
            [
             0.2,
             "#de77ae"
            ],
            [
             0.3,
             "#f1b6da"
            ],
            [
             0.4,
             "#fde0ef"
            ],
            [
             0.5,
             "#f7f7f7"
            ],
            [
             0.6,
             "#e6f5d0"
            ],
            [
             0.7,
             "#b8e186"
            ],
            [
             0.8,
             "#7fbc41"
            ],
            [
             0.9,
             "#4d9221"
            ],
            [
             1,
             "#276419"
            ]
           ],
           "sequential": [
            [
             0,
             "#0d0887"
            ],
            [
             0.1111111111111111,
             "#46039f"
            ],
            [
             0.2222222222222222,
             "#7201a8"
            ],
            [
             0.3333333333333333,
             "#9c179e"
            ],
            [
             0.4444444444444444,
             "#bd3786"
            ],
            [
             0.5555555555555556,
             "#d8576b"
            ],
            [
             0.6666666666666666,
             "#ed7953"
            ],
            [
             0.7777777777777778,
             "#fb9f3a"
            ],
            [
             0.8888888888888888,
             "#fdca26"
            ],
            [
             1,
             "#f0f921"
            ]
           ],
           "sequentialminus": [
            [
             0,
             "#0d0887"
            ],
            [
             0.1111111111111111,
             "#46039f"
            ],
            [
             0.2222222222222222,
             "#7201a8"
            ],
            [
             0.3333333333333333,
             "#9c179e"
            ],
            [
             0.4444444444444444,
             "#bd3786"
            ],
            [
             0.5555555555555556,
             "#d8576b"
            ],
            [
             0.6666666666666666,
             "#ed7953"
            ],
            [
             0.7777777777777778,
             "#fb9f3a"
            ],
            [
             0.8888888888888888,
             "#fdca26"
            ],
            [
             1,
             "#f0f921"
            ]
           ]
          },
          "colorway": [
           "#636efa",
           "#EF553B",
           "#00cc96",
           "#ab63fa",
           "#FFA15A",
           "#19d3f3",
           "#FF6692",
           "#B6E880",
           "#FF97FF",
           "#FECB52"
          ],
          "font": {
           "color": "#2a3f5f"
          },
          "geo": {
           "bgcolor": "white",
           "lakecolor": "white",
           "landcolor": "#E5ECF6",
           "showlakes": true,
           "showland": true,
           "subunitcolor": "white"
          },
          "hoverlabel": {
           "align": "left"
          },
          "hovermode": "closest",
          "mapbox": {
           "style": "light"
          },
          "paper_bgcolor": "white",
          "plot_bgcolor": "#E5ECF6",
          "polar": {
           "angularaxis": {
            "gridcolor": "white",
            "linecolor": "white",
            "ticks": ""
           },
           "bgcolor": "#E5ECF6",
           "radialaxis": {
            "gridcolor": "white",
            "linecolor": "white",
            "ticks": ""
           }
          },
          "scene": {
           "xaxis": {
            "backgroundcolor": "#E5ECF6",
            "gridcolor": "white",
            "gridwidth": 2,
            "linecolor": "white",
            "showbackground": true,
            "ticks": "",
            "zerolinecolor": "white"
           },
           "yaxis": {
            "backgroundcolor": "#E5ECF6",
            "gridcolor": "white",
            "gridwidth": 2,
            "linecolor": "white",
            "showbackground": true,
            "ticks": "",
            "zerolinecolor": "white"
           },
           "zaxis": {
            "backgroundcolor": "#E5ECF6",
            "gridcolor": "white",
            "gridwidth": 2,
            "linecolor": "white",
            "showbackground": true,
            "ticks": "",
            "zerolinecolor": "white"
           }
          },
          "shapedefaults": {
           "line": {
            "color": "#2a3f5f"
           }
          },
          "ternary": {
           "aaxis": {
            "gridcolor": "white",
            "linecolor": "white",
            "ticks": ""
           },
           "baxis": {
            "gridcolor": "white",
            "linecolor": "white",
            "ticks": ""
           },
           "bgcolor": "#E5ECF6",
           "caxis": {
            "gridcolor": "white",
            "linecolor": "white",
            "ticks": ""
           }
          },
          "title": {
           "x": 0.05
          },
          "xaxis": {
           "automargin": true,
           "gridcolor": "white",
           "linecolor": "white",
           "ticks": "",
           "title": {
            "standoff": 15
           },
           "zerolinecolor": "white",
           "zerolinewidth": 2
          },
          "yaxis": {
           "automargin": true,
           "gridcolor": "white",
           "linecolor": "white",
           "ticks": "",
           "title": {
            "standoff": 15
           },
           "zerolinecolor": "white",
           "zerolinewidth": 2
          }
         }
        },
        "width": 1300
       }
      }
     },
     "metadata": {},
     "output_type": "display_data"
    },
    {
     "name": "stdout",
     "output_type": "stream",
     "text": [
      "Kabsch distance is 0.005977556635513775\n"
     ]
    },
    {
     "data": {
      "text/plain": [
       "<Figure size 50000x50000 with 0 Axes>"
      ]
     },
     "metadata": {},
     "output_type": "display_data"
    }
   ],
   "source": [
    "test_true_structure = test_true_structures[GRAPH_TESTED]\n",
    "test_pred_structure = test_pred_structures[GRAPH_TESTED]\n",
    "\n",
    "test_pred_structure_superposed, test_true_structure_superposed = \\\n",
    "        kabsch_superimposition_numpy(test_pred_structure, test_true_structure, EMBEDDING_SIZE)\n",
    "\n",
    "x_pred = test_pred_structure_superposed[:, 0]  \n",
    "y_pred = test_pred_structure_superposed[:, 1]\n",
    "z_pred = test_pred_structure_superposed[:, 2]\n",
    "\n",
    "x_true = test_true_structure_superposed[:, 0]  \n",
    "y_true = test_true_structure_superposed[:, 1]\n",
    "z_true = test_true_structure_superposed[:, 2]\n",
    "\n",
    "colorscale1 = np.asarray(range(len(x_true)))\n",
    "colorscale2 = np.asarray(range(len(x_pred)))\n",
    "color1 = 'Viridis'\n",
    "color2 = 'Viridis'\n",
    "\n",
    "plot_true_pred_structures(x_pred, y_pred, z_pred, x_true, y_true, z_true, colorscale1, colorscale2, color1, color2)\n",
    "\n",
    "# Shape comparison\n",
    "print('Kabsch distance is ' + str(kabsch_distance_numpy(test_pred_structure, test_true_structure, EMBEDDING_SIZE)))\n",
    "\n"
   ]
  },
  {
   "cell_type": "code",
   "execution_count": 16,
   "metadata": {},
   "outputs": [
    {
     "data": {
      "application/vnd.plotly.v1+json": {
       "config": {
        "plotlyServerURL": "https://plot.ly"
       },
       "data": [
        {
         "line": {
          "color": "darkblue",
          "width": 2
         },
         "marker": {
          "color": [
           0,
           1,
           2,
           3,
           4,
           5,
           6,
           7,
           8,
           9,
           10,
           11,
           12,
           13,
           14,
           15,
           16,
           17,
           18,
           19,
           20,
           21,
           22,
           23,
           24,
           25,
           26,
           27,
           28,
           29,
           30,
           31,
           32,
           33,
           34,
           35,
           36,
           37,
           38,
           39,
           40,
           41,
           42,
           43,
           44,
           45,
           46,
           47,
           48,
           49,
           50,
           51,
           52,
           53,
           54,
           55,
           56,
           57,
           58,
           59,
           60,
           61,
           62,
           63,
           64,
           65,
           66,
           67,
           68,
           69,
           70,
           71,
           72,
           73,
           74,
           75,
           76,
           77,
           78,
           79,
           80,
           81,
           82,
           83,
           84,
           85,
           86,
           87,
           88,
           89,
           90,
           91,
           92,
           93,
           94,
           95,
           96,
           97,
           98,
           99,
           100,
           101,
           102,
           103,
           104,
           105,
           106,
           107,
           108,
           109,
           110,
           111,
           112,
           113,
           114,
           115,
           116,
           117,
           118,
           119,
           120,
           121,
           122,
           123,
           124,
           125,
           126,
           127,
           128,
           129,
           130,
           131,
           132,
           133,
           134,
           135,
           136,
           137,
           138,
           139,
           140,
           141,
           142,
           143,
           144,
           145,
           146,
           147,
           148,
           149,
           150,
           151,
           152,
           153,
           154,
           155,
           156,
           157,
           158,
           159,
           160,
           161,
           162,
           163,
           164,
           165,
           166,
           167,
           168,
           169,
           170,
           171,
           172,
           173,
           174,
           175,
           176,
           177,
           178,
           179,
           180,
           181,
           182,
           183,
           184,
           185,
           186,
           187,
           188,
           189,
           190,
           191,
           192,
           193,
           194,
           195,
           196,
           197,
           198,
           199,
           200,
           201
          ],
          "colorscale": [
           [
            0,
            "#440154"
           ],
           [
            0.1111111111111111,
            "#482878"
           ],
           [
            0.2222222222222222,
            "#3e4989"
           ],
           [
            0.3333333333333333,
            "#31688e"
           ],
           [
            0.4444444444444444,
            "#26828e"
           ],
           [
            0.5555555555555556,
            "#1f9e89"
           ],
           [
            0.6666666666666666,
            "#35b779"
           ],
           [
            0.7777777777777778,
            "#6ece58"
           ],
           [
            0.8888888888888888,
            "#b5de2b"
           ],
           [
            1,
            "#fde725"
           ]
          ],
          "size": 4
         },
         "scene": "scene",
         "type": "scatter3d",
         "x": [
          0.19996468722820282,
          0.19996468722820282,
          0.12153197079896927,
          0.12153197079896927,
          0.19996468722820282,
          0.12153197079896927,
          0.043099239468574524,
          0.12153197079896927,
          0.19996468722820282,
          0.27839741110801697,
          0.27839741110801697,
          0.27839741110801697,
          0.27839741110801697,
          0.27839741110801697,
          0.19996468722820282,
          0.27839741110801697,
          0.27839741110801697,
          0.3568301498889923,
          0.27839741110801697,
          0.19996468722820282,
          0.27839741110801697,
          0.19996468722820282,
          0.27839741110801697,
          0.27839741110801697,
          0.3568301498889923,
          0.43526285886764526,
          0.5136955976486206,
          0.43526285886764526,
          0.43526285886764526,
          0.3568301498889923,
          0.27839741110801697,
          0.3568301498889923,
          0.3568301498889923,
          0.43526285886764526,
          0.5136955976486206,
          0.43526285886764526,
          0.43526285886764526,
          0.5136955976486206,
          0.43526285886764526,
          0.43526285886764526,
          0.3568301498889923,
          0.43526285886764526,
          0.43526285886764526,
          0.43526285886764526,
          0.3568301498889923,
          0.3568301498889923,
          0.3568301498889923,
          0.27839741110801697,
          0.27839741110801697,
          0.19996468722820282,
          0.27839741110801697,
          0.27839741110801697,
          0.3568301498889923,
          0.43526285886764526,
          0.3568301498889923,
          0.27839741110801697,
          0.27839741110801697,
          0.19996468722820282,
          0.19996468722820282,
          0.19996468722820282,
          0.12153197079896927,
          0.12153197079896927,
          0.043099239468574524,
          0.12153197079896927,
          0.12153197079896927,
          0.043099239468574524,
          -0.03533348813652992,
          -0.03533348813652992,
          -0.11376621574163437,
          -0.11376621574163437,
          -0.11376621574163437,
          -0.11376621574163437,
          -0.1921989470720291,
          -0.27063167095184326,
          -0.1921989470720291,
          -0.1921989470720291,
          -0.11376621574163437,
          -0.1921989470720291,
          -0.27063167095184326,
          -0.27063167095184326,
          -0.1921989470720291,
          -0.27063167095184326,
          -0.27063167095184326,
          -0.3490644097328186,
          -0.42749714851379395,
          -0.42749714851379395,
          -0.3490644097328186,
          -0.27063167095184326,
          -0.1921989470720291,
          -0.1921989470720291,
          -0.1921989470720291,
          -0.11376621574163437,
          -0.03533348813652992,
          -0.03533348813652992,
          0.043099239468574524,
          -0.03533348813652992,
          -0.11376621574163437,
          -0.11376621574163437,
          -0.1921989470720291,
          -0.27063167095184326,
          -0.27063167095184326,
          -0.27063167095184326,
          -0.27063167095184326,
          -0.1921989470720291,
          -0.11376621574163437,
          -0.11376621574163437,
          -0.03533348813652992,
          -0.03533348813652992,
          -0.03533348813652992,
          -0.11376621574163437,
          -0.03533348813652992,
          0.043099239468574524,
          0.12153197079896927,
          0.12153197079896927,
          0.12153197079896927,
          0.043099239468574524,
          0.12153197079896927,
          0.19996468722820282,
          0.19996468722820282,
          0.19996468722820282,
          0.19996468722820282,
          0.19996468722820282,
          0.27839741110801697,
          0.3568301498889923,
          0.43526285886764526,
          0.43526285886764526,
          0.3568301498889923,
          0.27839741110801697,
          0.19996468722820282,
          0.19996468722820282,
          0.19996468722820282,
          0.19996468722820282,
          0.12153197079896927,
          0.19996468722820282,
          0.12153197079896927,
          0.043099239468574524,
          0.043099239468574524,
          0.12153197079896927,
          0.043099239468574524,
          0.043099239468574524,
          0.12153197079896927,
          0.043099239468574524,
          -0.03533348813652992,
          -0.11376621574163437,
          -0.11376621574163437,
          -0.11376621574163437,
          -0.11376621574163437,
          -0.1921989470720291,
          -0.1921989470720291,
          -0.11376621574163437,
          -0.11376621574163437,
          -0.11376621574163437,
          -0.11376621574163437,
          -0.1921989470720291,
          -0.11376621574163437,
          -0.1921989470720291,
          -0.1921989470720291,
          -0.1921989470720291,
          -0.11376621574163437,
          -0.11376621574163437,
          -0.03533348813652992,
          -0.11376621574163437,
          -0.03533348813652992,
          -0.03533348813652992,
          -0.11376621574163437,
          -0.1921989470720291,
          -0.27063167095184326,
          -0.27063167095184326,
          -0.27063167095184326,
          -0.3490644097328186,
          -0.3490644097328186,
          -0.3490644097328186,
          -0.27063167095184326,
          -0.3490644097328186,
          -0.42749714851379395,
          -0.3490644097328186,
          -0.27063167095184326,
          -0.27063167095184326,
          -0.3490644097328186,
          -0.27063167095184326,
          -0.3490644097328186,
          -0.27063167095184326,
          -0.27063167095184326,
          -0.27063167095184326,
          -0.3490644097328186,
          -0.42749714851379395,
          -0.5059298872947693,
          -0.5843625664710999,
          -0.6627953052520752,
          -0.6627953052520752,
          -0.5843625664710999,
          -0.5843625664710999,
          -0.5059298872947693,
          -0.5843625664710999,
          -0.5059298872947693,
          -0.42749714851379395,
          -0.42749714851379395,
          -0.3490644097328186,
          -0.27063167095184326,
          -0.27063167095184326,
          -0.1921989470720291,
          -0.27063167095184326
         ],
         "y": [
          0.35605350136756897,
          0.27762076258659363,
          0.27762076258659363,
          0.27762076258659363,
          0.19918805360794067,
          0.12075532227754593,
          0.19918805360794067,
          0.19918805360794067,
          0.12075532227754593,
          0.04232259467244148,
          -0.036110132932662964,
          -0.036110132932662964,
          0.04232259467244148,
          -0.036110132932662964,
          -0.11454285681247711,
          -0.11454285681247711,
          -0.19297558069229126,
          -0.19297558069229126,
          -0.19297558069229126,
          -0.19297558069229126,
          -0.19297558069229126,
          -0.11454285681247711,
          -0.19297558069229126,
          -0.11454285681247711,
          -0.036110132932662964,
          -0.036110132932662964,
          -0.036110132932662964,
          0.04232259467244148,
          0.12075532227754593,
          0.19918805360794067,
          0.12075532227754593,
          0.19918805360794067,
          0.27762076258659363,
          0.27762076258659363,
          0.27762076258659363,
          0.35605350136756897,
          0.4344862103462219,
          0.4344862103462219,
          0.35605350136756897,
          0.4344862103462219,
          0.4344862103462219,
          0.4344862103462219,
          0.35605350136756897,
          0.27762076258659363,
          0.27762076258659363,
          0.35605350136756897,
          0.27762076258659363,
          0.35605350136756897,
          0.4344862103462219,
          0.35605350136756897,
          0.27762076258659363,
          0.19918805360794067,
          0.27762076258659363,
          0.35605350136756897,
          0.27762076258659363,
          0.27762076258659363,
          0.35605350136756897,
          0.4344862103462219,
          0.35605350136756897,
          0.35605350136756897,
          0.4344862103462219,
          0.5129189491271973,
          0.5129189491271973,
          0.4344862103462219,
          0.35605350136756897,
          0.4344862103462219,
          0.35605350136756897,
          0.4344862103462219,
          0.4344862103462219,
          0.35605350136756897,
          0.27762076258659363,
          0.19918805360794067,
          0.27762076258659363,
          0.27762076258659363,
          0.19918805360794067,
          0.19918805360794067,
          0.27762076258659363,
          0.27762076258659363,
          0.27762076258659363,
          0.27762076258659363,
          0.35605350136756897,
          0.35605350136756897,
          0.27762076258659363,
          0.27762076258659363,
          0.27762076258659363,
          0.27762076258659363,
          0.35605350136756897,
          0.27762076258659363,
          0.19918805360794067,
          0.19918805360794067,
          0.27762076258659363,
          0.27762076258659363,
          0.19918805360794067,
          0.12075532227754593,
          0.19918805360794067,
          0.12075532227754593,
          0.12075532227754593,
          0.19918805360794067,
          0.12075532227754593,
          0.04232259467244148,
          -0.036110132932662964,
          0.04232259467244148,
          -0.036110132932662964,
          -0.11454285681247711,
          -0.036110132932662964,
          -0.11454285681247711,
          -0.19297558069229126,
          -0.2714083194732666,
          -0.19297558069229126,
          -0.19297558069229126,
          -0.19297558069229126,
          -0.2714083194732666,
          -0.34984105825424194,
          -0.4282737970352173,
          -0.34984105825424194,
          -0.2714083194732666,
          -0.19297558069229126,
          -0.2714083194732666,
          -0.19297558069229126,
          -0.2714083194732666,
          -0.2714083194732666,
          -0.34984105825424194,
          -0.34984105825424194,
          -0.34984105825424194,
          -0.4282737970352173,
          -0.4282737970352173,
          -0.5067064762115479,
          -0.5067064762115479,
          -0.5067064762115479,
          -0.5851392149925232,
          -0.6635719537734985,
          -0.6635719537734985,
          -0.6635719537734985,
          -0.6635719537734985,
          -0.7420046925544739,
          -0.7420046925544739,
          -0.6635719537734985,
          -0.5851392149925232,
          -0.5067064762115479,
          -0.4282737970352173,
          -0.4282737970352173,
          -0.5067064762115479,
          -0.4282737970352173,
          -0.34984105825424194,
          -0.2714083194732666,
          -0.34984105825424194,
          -0.34984105825424194,
          -0.4282737970352173,
          -0.34984105825424194,
          -0.34984105825424194,
          -0.34984105825424194,
          -0.4282737970352173,
          -0.5067064762115479,
          -0.4282737970352173,
          -0.5067064762115479,
          -0.4282737970352173,
          -0.4282737970352173,
          -0.34984105825424194,
          -0.2714083194732666,
          -0.19297558069229126,
          -0.19297558069229126,
          -0.11454285681247711,
          -0.11454285681247711,
          -0.036110132932662964,
          -0.036110132932662964,
          -0.11454285681247711,
          -0.11454285681247711,
          -0.19297558069229126,
          -0.2714083194732666,
          -0.34984105825424194,
          -0.34984105825424194,
          -0.34984105825424194,
          -0.2714083194732666,
          -0.2714083194732666,
          -0.19297558069229126,
          -0.19297558069229126,
          -0.19297558069229126,
          -0.11454285681247711,
          -0.036110132932662964,
          -0.11454285681247711,
          -0.11454285681247711,
          -0.11454285681247711,
          -0.11454285681247711,
          -0.11454285681247711,
          -0.11454285681247711,
          -0.11454285681247711,
          -0.036110132932662964,
          0.04232259467244148,
          0.12075532227754593,
          0.12075532227754593,
          0.19918805360794067,
          0.27762076258659363,
          0.19918805360794067,
          0.27762076258659363,
          0.19918805360794067,
          0.27762076258659363,
          0.35605350136756897,
          0.4344862103462219,
          0.5129189491271973,
          0.5129189491271973,
          0.5913516879081726,
          0.5913516879081726
         ],
         "z": [
          -0.11531945317983627,
          -0.19375218451023102,
          -0.2721848785877228,
          -0.2721848785877228,
          -0.19375218451023102,
          -0.11531945317983627,
          -0.11531945317983627,
          -0.19375218451023102,
          -0.11531945317983627,
          -0.11531945317983627,
          -0.19375218451023102,
          -0.11531945317983627,
          -0.19375218451023102,
          -0.2721848785877228,
          -0.3506176173686981,
          -0.42905035614967346,
          -0.42905035614967346,
          -0.3506176173686981,
          -0.42905035614967346,
          -0.3506176173686981,
          -0.42905035614967346,
          -0.42905035614967346,
          -0.3506176173686981,
          -0.3506176173686981,
          -0.3506176173686981,
          -0.3506176173686981,
          -0.2721848785877228,
          -0.3506176173686981,
          -0.2721848785877228,
          -0.19375218451023102,
          -0.11531945317983627,
          -0.19375218451023102,
          -0.19375218451023102,
          -0.19375218451023102,
          -0.11531945317983627,
          -0.03688671812415123,
          -0.03688671812415123,
          -0.03688671812415123,
          0.04154600948095322,
          0.04154600948095322,
          -0.03688671812415123,
          -0.03688671812415123,
          0.04154600948095322,
          0.04154600948095322,
          -0.03688671812415123,
          -0.11531945317983627,
          -0.19375218451023102,
          -0.2721848785877228,
          -0.2721848785877228,
          -0.2721848785877228,
          -0.3506176173686981,
          -0.3506176173686981,
          -0.2721848785877228,
          -0.19375218451023102,
          -0.19375218451023102,
          -0.19375218451023102,
          -0.11531945317983627,
          -0.11531945317983627,
          -0.03688671812415123,
          -0.11531945317983627,
          -0.19375218451023102,
          -0.2721848785877228,
          -0.19375218451023102,
          -0.2721848785877228,
          -0.19375218451023102,
          -0.11531945317983627,
          -0.19375218451023102,
          -0.11531945317983627,
          -0.19375218451023102,
          -0.11531945317983627,
          -0.03688671812415123,
          -0.11531945317983627,
          -0.19375218451023102,
          -0.19375218451023102,
          -0.11531945317983627,
          -0.11531945317983627,
          -0.11531945317983627,
          -0.03688671812415123,
          0.04154600948095322,
          0.11997873336076736,
          0.11997873336076736,
          0.1984114646911621,
          0.1984114646911621,
          0.11997873336076736,
          0.11997873336076736,
          0.1984114646911621,
          0.1984114646911621,
          0.27684420347213745,
          0.1984114646911621,
          0.11997873336076736,
          0.11997873336076736,
          0.04154600948095322,
          0.11997873336076736,
          0.04154600948095322,
          0.04154600948095322,
          0.04154600948095322,
          0.11997873336076736,
          0.11997873336076736,
          0.1984114646911621,
          0.1984114646911621,
          0.27684420347213745,
          0.3552769422531128,
          0.43370965123176575,
          0.3552769422531128,
          0.27684420347213745,
          0.27684420347213745,
          0.27684420347213745,
          0.27684420347213745,
          0.3552769422531128,
          0.27684420347213745,
          0.1984114646911621,
          0.27684420347213745,
          0.3552769422531128,
          0.43370965123176575,
          0.5121423602104187,
          0.590575098991394,
          0.590575098991394,
          0.5121423602104187,
          0.5121423602104187,
          0.43370965123176575,
          0.3552769422531128,
          0.27684420347213745,
          0.27684420347213745,
          0.1984114646911621,
          0.1984114646911621,
          0.11997873336076736,
          0.1984114646911621,
          0.27684420347213745,
          0.3552769422531128,
          0.43370965123176575,
          0.5121423602104187,
          0.43370965123176575,
          0.43370965123176575,
          0.5121423602104187,
          0.590575098991394,
          0.6690078377723694,
          0.590575098991394,
          0.5121423602104187,
          0.43370965123176575,
          0.43370965123176575,
          0.3552769422531128,
          0.27684420347213745,
          0.1984114646911621,
          0.1984114646911621,
          0.11997873336076736,
          0.1984114646911621,
          0.11997873336076736,
          0.04154600948095322,
          0.04154600948095322,
          0.04154600948095322,
          0.11997873336076736,
          0.11997873336076736,
          0.11997873336076736,
          0.11997873336076736,
          0.11997873336076736,
          0.11997873336076736,
          0.1984114646911621,
          0.11997873336076736,
          0.11997873336076736,
          0.11997873336076736,
          0.1984114646911621,
          0.1984114646911621,
          0.1984114646911621,
          0.11997873336076736,
          0.04154600948095322,
          -0.03688671812415123,
          -0.11531945317983627,
          -0.03688671812415123,
          -0.11531945317983627,
          -0.19375218451023102,
          -0.2721848785877228,
          -0.19375218451023102,
          -0.19375218451023102,
          -0.11531945317983627,
          -0.11531945317983627,
          -0.11531945317983627,
          -0.03688671812415123,
          -0.11531945317983627,
          -0.03688671812415123,
          -0.03688671812415123,
          0.04154600948095322,
          -0.03688671812415123,
          -0.03688671812415123,
          -0.11531945317983627,
          -0.19375218451023102,
          -0.11531945317983627,
          -0.03688671812415123,
          0.04154600948095322,
          -0.03688671812415123,
          -0.11531945317983627,
          -0.19375218451023102,
          -0.19375218451023102,
          -0.2721848785877228,
          -0.3506176173686981,
          -0.3506176173686981,
          -0.42905035614967346,
          -0.42905035614967346,
          -0.42905035614967346,
          -0.42905035614967346,
          -0.5074831247329712,
          -0.5859158635139465,
          -0.5859158635139465
         ]
        },
        {
         "line": {
          "color": "darkblue",
          "width": 2
         },
         "marker": {
          "color": [
           1.374471139715746,
           2.391287905188753,
           2.7028471685762843,
           2.6234668003835764,
           2.0701472287284877,
           1.342589442839085,
           1.4250845014602824,
           1.4896175738774728,
           1.2469594644998163,
           1.1061042372092795,
           0.7368885187840639,
           1.1219350538637725,
           2.093858315520311,
           1.2746010231177047,
           1.1033468646666202,
           0.9525481655860484,
           1.3263292239924236,
           1.4553776475393543,
           1.214502494521492,
           1.0705346807823446,
           1.1383662204799416,
           0.8122423948874317,
           1.0690950856710777,
           1.0437531614617435,
           0.850046672311011,
           0.6881221182982573,
           1.0807602720546194,
           1.0113781089420444,
           2.2446632640593336,
           3.1727152538175165,
           1.4186663338988021,
           2.5891545735750774,
           3.567240587138222,
           2.326254210568269,
           2.1413497802200667,
           0.7371786942975258,
           0.6098269391909313,
           0.6056382419017672,
           0.49111922451084783,
           0.2002810129387867,
           0.381753497431921,
           0.7085372315859654,
           0.6191506647784655,
           0.3548080545108198,
           0.6810587825897734,
           2.251330201025517,
           3.5008043331933787,
           3.008380483596979,
           2.585647256105737,
           1.7056604929223032,
           2.149588835654671,
           1.9622389462752794,
           2.4193036868606748,
           3.274463600448215,
           2.671950429348426,
           2.0755655012669503,
           1.9289464451815725,
           1.9030700280351798,
           0.5709760480650651,
           2.0564109075038974,
           2.116719210446756,
           1.007026508337182,
           0.1900820292221767,
           1.6958615070001883,
           1.8838488368779023,
           0.8529852812000184,
           1.5662324015202087,
           0.4557078269907603,
           1.119517164601749,
           2.2068389786999227,
           1.1835681652574634,
           1.595140466253628,
           2.223652387160465,
           2.2799791617271206,
           1.417386908749472,
           1.443766699116304,
           1.6831208096170462,
           0.6769441522347511,
           0.7318901271422327,
           2.068309628646302,
           4.035880459247081,
           2.2892543734471187,
           3.1750082527797066,
           1.686810345378851,
           1.4038302977297743,
           1.9536552726220324,
           2.7471435702989058,
           2.6432698396949803,
           2.13218491099418,
           1.6486812732643483,
           2.02110957519715,
           1.1223042838067743,
           1.8874204285309542,
           1.5285839834612087,
           0.8443261053594444,
           0.9876049959056564,
           1.2740222587154004,
           1.8208299243876396,
           1.5857452061869597,
           1.6128412601751958,
           1.9575491698637628,
           1.2513048188389027,
           0.8694030968993192,
           1.7792255314145904,
           0.5740690226458457,
           1.599193619878837,
           0.9083840442549264,
           2.3310101028008807,
           1.7616216796528041,
           1.6354234029776895,
           1.1155221251846137,
           1.5522101111309052,
           3.664590063367007,
           2.90986207625884,
           2.263895885543569,
           0.6416023458937553,
           1.1947662434465924,
           2.1752660109642004,
           1.590074748971781,
           2.590451708305291,
           2.560721126347862,
           2.2148154600965513,
           2.0134369698923074,
           1.470260945625442,
           1.4899412535881082,
           0.8286247749699261,
           1.5894020973536236,
           2.2680489828096757,
           2.769666374368758,
           2.3272972664360614,
           1.6558575502065402,
           1.6738430741795827,
           1.8194568501720156,
           1.6619866281138163,
           0.9283850917911665,
           -0.191771277740343,
           0.34135777461051925,
           1.5333760135498622,
           2.412211232795505,
           2.370890075568497,
           2.999013156165976,
           0.8590783767502003,
           0.9795277665756659,
           1.3548469434576316,
           1.7794412814457161,
           1.40615702044676,
           2.011058390909612,
           1.729903726389101,
           1.7459683339543508,
           3.070624037536507,
           2.077327761289164,
           1.64941977776537,
           1.3836026238324377,
           1.476915893715872,
           1.6369498215542668,
           1.500236145698125,
           1.5370916514332584,
           1.9049352623498803,
           1.8999127536505123,
           1.4484399561435228,
           0.5795570546218127,
           1.368358429797323,
           0.3267803221506438,
           -0.06783144742932418,
           0.24333662735716716,
           0.9624232453327582,
           2.0967681330558854,
           1.3342635439696908,
           1.9956936895059167,
           2.002629321762311,
           1.8773942782661128,
           2.174192099202788,
           1.9691587103268848,
           2.4112555369572055,
           2.2086407857790875,
           2.4377320577811483,
           1.7623045522373793,
           1.9248327268865133,
           0.9519143329019673,
           1.7866507686154796,
           1.8091908299635147,
           1.6877552477057702,
           1.8852628549103934,
           1.7015031214726548,
           1.768782044003318,
           2.1427283466725755,
           0.8823713712845818,
           0.3441545377329338,
           1.2924150158861516,
           1.4115042327210934,
           1.9826256748024182,
           2.582985054578999,
           1.6470978530794784,
           2.1018613843892866,
           1.3299365991561964,
           1.6882439215557667,
           2.233037944291406,
           2.1975481473254552,
           1.5831662975075,
           1.434601853511907,
           0.8516565875418881,
           1.131964338661994
          ],
          "colorscale": [
           [
            0,
            "#000004"
           ],
           [
            0.1111111111111111,
            "#180f3d"
           ],
           [
            0.2222222222222222,
            "#440f76"
           ],
           [
            0.3333333333333333,
            "#721f81"
           ],
           [
            0.4444444444444444,
            "#9e2f7f"
           ],
           [
            0.5555555555555556,
            "#cd4071"
           ],
           [
            0.6666666666666666,
            "#f1605d"
           ],
           [
            0.7777777777777778,
            "#fd9668"
           ],
           [
            0.8888888888888888,
            "#feca8d"
           ],
           [
            1,
            "#fcfdbf"
           ]
          ],
          "size": 4
         },
         "scene": "scene2",
         "type": "scatter3d",
         "x": [
          0.19505304570786233,
          0.19757293235315995,
          0.11420089714001694,
          0.1132243348457958,
          0.20068924368173058,
          0.1313601183745611,
          0.057085719522831396,
          0.14710955945257262,
          0.1953929048612821,
          0.2635164961310549,
          0.2798826344498247,
          0.25083888993874814,
          0.2602920795237199,
          0.27946108269168585,
          0.2540831758227281,
          0.3317318889600294,
          0.34392354166886235,
          0.3758697083243161,
          0.35264805758924966,
          0.2778103215599661,
          0.3756067707988148,
          0.29233976495671826,
          0.3415007108895623,
          0.3300411390837503,
          0.3777772954843951,
          0.44654716291413465,
          0.5230406447129677,
          0.46029823328904673,
          0.4606663865523832,
          0.34980325470421386,
          0.29279994011742905,
          0.34813974050627905,
          0.3691613323502556,
          0.40478720320513545,
          0.5161247329201418,
          0.4418401299718086,
          0.4518468308965112,
          0.5290766431700429,
          0.4758135426776086,
          0.4985774622460322,
          0.3926296057139709,
          0.4579204609583356,
          0.45952638078000024,
          0.43986967863695176,
          0.37871511459765994,
          0.3709166115841315,
          0.37365262723293846,
          0.28437749663451267,
          0.27454848239003043,
          0.25204277436643774,
          0.29877306848599194,
          0.3082203099263754,
          0.3638938570199382,
          0.42546743604254,
          0.3813964578261599,
          0.32046513643870767,
          0.3378261712092227,
          0.25036841766466494,
          0.26568557045483643,
          0.22509698525261676,
          0.09724667315042448,
          0.008348889988513514,
          -0.04780373634854316,
          0.0588095234850823,
          0.14892505877074763,
          0.010213700489647027,
          -0.0544569732418693,
          -0.07939721902934108,
          -0.1771902365597469,
          -0.12513833995466267,
          -0.09315854046926195,
          -0.09017474723834208,
          -0.18680396696144966,
          -0.2728908587360027,
          -0.15714024614756933,
          -0.15782677140780293,
          -0.0869593081383099,
          -0.15968306935731644,
          -0.23725860902716298,
          -0.24292434951758843,
          -0.18660567847499607,
          -0.3022806059668896,
          -0.2690584635209063,
          -0.33147948936287136,
          -0.40795045857529744,
          -0.4298884979212207,
          -0.36313010080538677,
          -0.29326060944885507,
          -0.16047993107578154,
          -0.15297180710336825,
          -0.1559877316858628,
          -0.07531603076615122,
          -0.031471527732387865,
          -0.04674979881142116,
          0.04321050718229371,
          -0.04526425790673272,
          -0.09349523444607437,
          -0.09564805535377881,
          -0.16095397947795292,
          -0.22927411249082144,
          -0.23415163821849472,
          -0.24138502569377637,
          -0.2596920104284164,
          -0.15206584701236436,
          -0.10148523301405028,
          -0.1106613255154957,
          -0.06502686497079833,
          -0.0360430151760871,
          -0.027542935431860132,
          -0.09064117472254857,
          -0.048823521730709814,
          0.02396344217724033,
          0.124814681596906,
          0.11914325395490265,
          0.13517022665952402,
          0.10548708842619714,
          0.21338451033200606,
          0.253578167721335,
          0.2727649573218205,
          0.21707575635185825,
          0.20789094977478756,
          0.18781852731553017,
          0.26573792203812285,
          0.3372192669281494,
          0.40912785121789014,
          0.4254061291860591,
          0.3682311293855924,
          0.2904346951955594,
          0.21272998076408478,
          0.16126479759722628,
          0.09019936809602791,
          0.11859346989208523,
          0.08253225881779398,
          0.08775434280720697,
          -0.003803085028793939,
          -0.1032865238435349,
          -0.04475000880464283,
          0.04893033977896254,
          0.0525426743353056,
          0.053654579359212674,
          0.13027411285821883,
          0.09741503033353242,
          -0.0032761608115414163,
          -0.05899872917721882,
          -0.09373249051590941,
          -0.05933837124597398,
          -0.08607718825117522,
          -0.1231934795239906,
          -0.1597871220013757,
          -0.101455975503493,
          -0.1059802516039048,
          -0.08662608598786639,
          -0.06692772127862621,
          -0.1210814668115771,
          -0.06998072980189263,
          -0.12144444877917855,
          -0.12445124492027528,
          -0.14811189994725704,
          -0.12569116918174536,
          -0.14230169581396263,
          -0.07601197828907433,
          -0.11814035254889904,
          -0.07945073293986138,
          -0.06823549129224915,
          -0.1284044686726089,
          -0.2502391618609321,
          -0.30678989444097715,
          -0.31336690615856483,
          -0.3143080639152445,
          -0.36317532389714513,
          -0.36292797684450323,
          -0.3503482815582277,
          -0.29787080788740095,
          -0.3525027076743304,
          -0.41183970734471714,
          -0.3517135393754116,
          -0.3043896114339937,
          -0.30260863635939517,
          -0.3385130123998059,
          -0.29013226482636456,
          -0.3367409071053297,
          -0.29492226049652764,
          -0.29477076667729024,
          -0.3089965226083503,
          -0.3555090641017051,
          -0.4130246056815621,
          -0.5075948862609894,
          -0.6224533625105837,
          -0.6972469055127236,
          -0.705500949132258,
          -0.6185143975923569,
          -0.6189051321175645,
          -0.5685438324962895,
          -0.5971083608085073,
          -0.5525171794399457,
          -0.4805237569644228,
          -0.480042632133497,
          -0.4207190814989072,
          -0.39931255105335317,
          -0.41742355390202734,
          -0.3937300996776894,
          -0.445865850799076
         ],
         "y": [
          0.2698140175781283,
          0.21120550730267043,
          0.2576448211753129,
          0.25523426474550626,
          0.14648738306138812,
          0.0719642314919802,
          0.12850815743096355,
          0.131693004022336,
          0.08642586871706887,
          0.056012489468724606,
          0.00923591188373908,
          -0.02851919971140425,
          0.038192848990700905,
          -0.006143190489485785,
          -0.04535684744130671,
          -0.02690874195323696,
          -0.11272442813936234,
          -0.08500602587842142,
          -0.1068417422316998,
          -0.09136390434741577,
          -0.1115560693112951,
          -0.035934869980892147,
          -0.06971557960709557,
          -0.03553797141762758,
          0.0019575378644677106,
          0.012215957881812341,
          -0.002234436026893303,
          0.08019196477132848,
          0.14166097501093616,
          0.2183432163608662,
          0.08574194579473687,
          0.23154725516832583,
          0.28980821648444466,
          0.3268414371813706,
          0.31301161307580355,
          0.3315052531169857,
          0.41241881869601404,
          0.44640180252566586,
          0.3561994674195732,
          0.4185309969320307,
          0.4237009863178808,
          0.4282908523468846,
          0.36042337362170196,
          0.29507211718925075,
          0.24361957979507828,
          0.33551143587459303,
          0.26767473785967694,
          0.36269123461435426,
          0.45256811228587956,
          0.31075201292300464,
          0.29571592274428893,
          0.2190181211283411,
          0.2963612091503283,
          0.3794584334707634,
          0.27025571438296675,
          0.24270688577312383,
          0.2878905691457213,
          0.38784781235177956,
          0.2892063576584006,
          0.3208457835862032,
          0.40871112958752853,
          0.529456310885644,
          0.512363981191853,
          0.4357150355849664,
          0.3093573305190662,
          0.4088529165932565,
          0.34583494716481605,
          0.4134759773449859,
          0.41515213317626215,
          0.3336533068806388,
          0.25198945539403284,
          0.20042666043003987,
          0.302571939897001,
          0.3112067006971956,
          0.2002648763184293,
          0.20173755344236996,
          0.27013124718286374,
          0.2647952627779568,
          0.2839762132858429,
          0.2790877672442713,
          0.3570221152454933,
          0.3850793752274342,
          0.3021676453140683,
          0.3237286035129799,
          0.35529954564085076,
          0.3528368133028537,
          0.39388340895694074,
          0.2995818457670667,
          0.16614362316061188,
          0.16452584159378145,
          0.24685377732144823,
          0.23719130167599628,
          0.14112625744373963,
          0.08171864511005848,
          0.14581174763064472,
          0.0757878067406397,
          0.06107699802203781,
          0.1413368037305784,
          0.0813325871529706,
          0.025437207512412612,
          -0.02698590019772483,
          0.0734266752908864,
          0.006174981880522847,
          -0.09295460196665532,
          -0.08583692995035312,
          -0.15362301644691503,
          -0.22038573425996716,
          -0.2857932001047838,
          -0.2161744107590112,
          -0.21804762926832022,
          -0.2369710592676685,
          -0.2857939967302678,
          -0.3559102793488781,
          -0.3912192937358255,
          -0.31083061123198397,
          -0.26044017140430414,
          -0.21009724918504272,
          -0.2841530616120025,
          -0.2315568382003951,
          -0.2865914011475338,
          -0.3049571955733075,
          -0.3661610048723915,
          -0.3625817293264408,
          -0.37108798561121903,
          -0.4359571612270174,
          -0.4403473367728245,
          -0.509186348466064,
          -0.5097581465552395,
          -0.5104265861552801,
          -0.5647025027151733,
          -0.6540407819154392,
          -0.6194389087749463,
          -0.6227942954393744,
          -0.6658632260775605,
          -0.779991905092429,
          -0.8125831814593835,
          -0.7051386246172044,
          -0.5895025956503904,
          -0.5147708549460605,
          -0.44023898284792196,
          -0.4229095680632929,
          -0.511133319021112,
          -0.44795580832906523,
          -0.36766036482855025,
          -0.30410797697601366,
          -0.36629102360830645,
          -0.37109909847226225,
          -0.4230582582160157,
          -0.3574393874498504,
          -0.3588222868181931,
          -0.3647873962961545,
          -0.42708926702268746,
          -0.5089155274679715,
          -0.43133491295927534,
          -0.4978662420513086,
          -0.42536886570018523,
          -0.4331561704839051,
          -0.3495020494315018,
          -0.2869618989534499,
          -0.22111783745045666,
          -0.2216699832532895,
          -0.15890185586754316,
          -0.1756543135686408,
          -0.10039373657573548,
          -0.0878515874314522,
          -0.1341539242468484,
          -0.1112264135686182,
          -0.18688908705607513,
          -0.24039721671695022,
          -0.3011547383440851,
          -0.299533067451525,
          -0.30161219879468304,
          -0.2572850906259252,
          -0.266991868603487,
          -0.19188515540329998,
          -0.2001804658604696,
          -0.20271257535199988,
          -0.12008294749563059,
          -0.07472217937964613,
          -0.16226195818228503,
          -0.13565493607984186,
          -0.15857925029439468,
          -0.15389768228192982,
          -0.10196284274198915,
          -0.13046897711303954,
          -0.12027820070661982,
          -0.0017424603682339992,
          0.10431145583833658,
          0.19453065239151698,
          0.1930583913035639,
          0.25507597734571497,
          0.32330935211655626,
          0.24990903527474995,
          0.36460581271643755,
          0.3103830926863799,
          0.37402196297370033,
          0.4178393089114002,
          0.46372835798377726,
          0.5074011204306237,
          0.4880661820289314,
          0.539680192432201,
          0.4848250589095012
         ],
         "z": [
          -0.1720737097473814,
          -0.19827517759991256,
          -0.25346752064713307,
          -0.2534971736739213,
          -0.21512319119155246,
          -0.14975240207964383,
          -0.12017513574348736,
          -0.2183714871311885,
          -0.1793193788190018,
          -0.18631225255754522,
          -0.22760005752742687,
          -0.19232299101429612,
          -0.2338628722586184,
          -0.27084288043638466,
          -0.3083268762375958,
          -0.3429757600010563,
          -0.3667870353056813,
          -0.3200855917875063,
          -0.35288541551769076,
          -0.31112874718786293,
          -0.34755869643276843,
          -0.35038303402364085,
          -0.29292095582833066,
          -0.2871041709013606,
          -0.29126810506515377,
          -0.3003621663906972,
          -0.2553913754838899,
          -0.3019324960137851,
          -0.24866757909468903,
          -0.19565295829626064,
          -0.15965090558615716,
          -0.18630425982461213,
          -0.1925424449937613,
          -0.18490326548456945,
          -0.08991681929223003,
          -0.08673282025004797,
          -0.09374553047654352,
          -0.09516078063297749,
          -0.03083751357023226,
          -0.05290124831941587,
          -0.10781400008773331,
          -0.08892567474069492,
          -0.022733435315050718,
          -0.042812320477016594,
          -0.08610973982055961,
          -0.14052908462869151,
          -0.195214850438163,
          -0.2427911414603334,
          -0.22575018304058983,
          -0.22937334663602446,
          -0.2765574782756359,
          -0.27525158281828105,
          -0.22328654076384888,
          -0.18885557235675074,
          -0.17205644565318406,
          -0.17445668505002657,
          -0.11889390679993249,
          -0.12545900619261205,
          -0.08035823470515951,
          -0.13367482785614582,
          -0.213539839754212,
          -0.3082129515001697,
          -0.26552515085178263,
          -0.28073061770706603,
          -0.2130236111836882,
          -0.16795204028201835,
          -0.2047115141737695,
          -0.18526754936350917,
          -0.2668585782044161,
          -0.13460905129942843,
          -0.013091562257151532,
          -0.06976205994859848,
          -0.1537046465601713,
          -0.15935469620875997,
          -0.053136328191361444,
          -0.05575982675524356,
          -0.0813266573291021,
          0.011402657303361204,
          0.09542241536039388,
          0.1525569663681487,
          0.11743656675018137,
          0.1774671096868172,
          0.19223106140574237,
          0.16063564497683008,
          0.1693424664032042,
          0.22792321501092633,
          0.2074965197330275,
          0.2628178767072773,
          0.20333324684233758,
          0.14383001929742958,
          0.13177221303572254,
          0.06202747160806927,
          0.1135486665140244,
          0.041718630187638724,
          -0.0007889470702908073,
          0.022270348101399343,
          0.09997548715591117,
          0.11566179702707648,
          0.17354024677144414,
          0.1892499694609282,
          0.26683949309419874,
          0.3498067289163187,
          0.41368168971890923,
          0.3165435680891872,
          0.2201878783096215,
          0.21103762067669543,
          0.2139697750081826,
          0.21635075374899282,
          0.29324719125510407,
          0.20724058108550789,
          0.12431353096497484,
          0.23854542917708796,
          0.34373598030873237,
          0.4585499762498166,
          0.5572650035123667,
          0.6445496268106634,
          0.6282600058549944,
          0.5252845740714476,
          0.5365906492892552,
          0.46990106664941167,
          0.3796128391628808,
          0.3377858764957506,
          0.3650732521359639,
          0.31228075767270613,
          0.31709588230394803,
          0.2710453313517948,
          0.312557165524655,
          0.3491784690604104,
          0.3967978945659791,
          0.4615613327575129,
          0.5170065937007421,
          0.47237000065878476,
          0.47881057254942894,
          0.5145397603491414,
          0.5296951204654003,
          0.5736205489377728,
          0.5719889405705754,
          0.533946066613212,
          0.448380471866664,
          0.43689598879765823,
          0.3783879144108886,
          0.27638163370783503,
          0.16404071750459207,
          0.15047106509623256,
          0.09482876548726,
          0.15678267991217146,
          0.10829392848086283,
          0.04822224270138672,
          0.02770821184555718,
          0.041325906699694916,
          0.08822852101491058,
          0.07976693049573957,
          0.07967144565391464,
          0.08304270552414007,
          0.09821472129541498,
          0.08466683474983573,
          0.14263224486446868,
          0.09404587721137628,
          0.08559063787483717,
          0.08300720498448046,
          0.1229214928205113,
          0.13137716819875336,
          0.12269648217382353,
          0.06009009005803302,
          0.008704970622171562,
          -0.0617006717659564,
          -0.09156387747693143,
          -0.05904112853524311,
          -0.10008446181314204,
          -0.15009055518357395,
          -0.19721266522172962,
          -0.1550865061105914,
          -0.14220719855775962,
          -0.08729850866689508,
          -0.08219127116794539,
          -0.09027768506253214,
          -0.04941904646400462,
          -0.08404750013150444,
          -0.034729182459663555,
          -0.03637398303447175,
          0.030256318472008496,
          -0.033913870575651144,
          -0.03772000451261473,
          -0.08122652508804702,
          -0.12514097917335776,
          -0.08440494782649038,
          -0.02632367130583557,
          0.016759689599569166,
          -0.04282150591619486,
          -0.10746164158240984,
          -0.17939514935201978,
          -0.19317848867068999,
          -0.21790429231821182,
          -0.3395551517650871,
          -0.30042387352400396,
          -0.3933313819866152,
          -0.41825416667510407,
          -0.45507067799005135,
          -0.4847113610271747,
          -0.5702954757833448,
          -0.670398401809149,
          -0.6676842028330267
         ]
        }
       ],
       "layout": {
        "height": 1000,
        "scene": {
         "domain": {
          "x": [
           0,
           0.45
          ],
          "y": [
           0,
           1
          ]
         }
        },
        "scene2": {
         "domain": {
          "x": [
           0.55,
           1
          ],
          "y": [
           0,
           1
          ]
         }
        },
        "template": {
         "data": {
          "bar": [
           {
            "error_x": {
             "color": "#2a3f5f"
            },
            "error_y": {
             "color": "#2a3f5f"
            },
            "marker": {
             "line": {
              "color": "#E5ECF6",
              "width": 0.5
             }
            },
            "type": "bar"
           }
          ],
          "barpolar": [
           {
            "marker": {
             "line": {
              "color": "#E5ECF6",
              "width": 0.5
             }
            },
            "type": "barpolar"
           }
          ],
          "carpet": [
           {
            "aaxis": {
             "endlinecolor": "#2a3f5f",
             "gridcolor": "white",
             "linecolor": "white",
             "minorgridcolor": "white",
             "startlinecolor": "#2a3f5f"
            },
            "baxis": {
             "endlinecolor": "#2a3f5f",
             "gridcolor": "white",
             "linecolor": "white",
             "minorgridcolor": "white",
             "startlinecolor": "#2a3f5f"
            },
            "type": "carpet"
           }
          ],
          "choropleth": [
           {
            "colorbar": {
             "outlinewidth": 0,
             "ticks": ""
            },
            "type": "choropleth"
           }
          ],
          "contour": [
           {
            "colorbar": {
             "outlinewidth": 0,
             "ticks": ""
            },
            "colorscale": [
             [
              0,
              "#0d0887"
             ],
             [
              0.1111111111111111,
              "#46039f"
             ],
             [
              0.2222222222222222,
              "#7201a8"
             ],
             [
              0.3333333333333333,
              "#9c179e"
             ],
             [
              0.4444444444444444,
              "#bd3786"
             ],
             [
              0.5555555555555556,
              "#d8576b"
             ],
             [
              0.6666666666666666,
              "#ed7953"
             ],
             [
              0.7777777777777778,
              "#fb9f3a"
             ],
             [
              0.8888888888888888,
              "#fdca26"
             ],
             [
              1,
              "#f0f921"
             ]
            ],
            "type": "contour"
           }
          ],
          "contourcarpet": [
           {
            "colorbar": {
             "outlinewidth": 0,
             "ticks": ""
            },
            "type": "contourcarpet"
           }
          ],
          "heatmap": [
           {
            "colorbar": {
             "outlinewidth": 0,
             "ticks": ""
            },
            "colorscale": [
             [
              0,
              "#0d0887"
             ],
             [
              0.1111111111111111,
              "#46039f"
             ],
             [
              0.2222222222222222,
              "#7201a8"
             ],
             [
              0.3333333333333333,
              "#9c179e"
             ],
             [
              0.4444444444444444,
              "#bd3786"
             ],
             [
              0.5555555555555556,
              "#d8576b"
             ],
             [
              0.6666666666666666,
              "#ed7953"
             ],
             [
              0.7777777777777778,
              "#fb9f3a"
             ],
             [
              0.8888888888888888,
              "#fdca26"
             ],
             [
              1,
              "#f0f921"
             ]
            ],
            "type": "heatmap"
           }
          ],
          "heatmapgl": [
           {
            "colorbar": {
             "outlinewidth": 0,
             "ticks": ""
            },
            "colorscale": [
             [
              0,
              "#0d0887"
             ],
             [
              0.1111111111111111,
              "#46039f"
             ],
             [
              0.2222222222222222,
              "#7201a8"
             ],
             [
              0.3333333333333333,
              "#9c179e"
             ],
             [
              0.4444444444444444,
              "#bd3786"
             ],
             [
              0.5555555555555556,
              "#d8576b"
             ],
             [
              0.6666666666666666,
              "#ed7953"
             ],
             [
              0.7777777777777778,
              "#fb9f3a"
             ],
             [
              0.8888888888888888,
              "#fdca26"
             ],
             [
              1,
              "#f0f921"
             ]
            ],
            "type": "heatmapgl"
           }
          ],
          "histogram": [
           {
            "marker": {
             "colorbar": {
              "outlinewidth": 0,
              "ticks": ""
             }
            },
            "type": "histogram"
           }
          ],
          "histogram2d": [
           {
            "colorbar": {
             "outlinewidth": 0,
             "ticks": ""
            },
            "colorscale": [
             [
              0,
              "#0d0887"
             ],
             [
              0.1111111111111111,
              "#46039f"
             ],
             [
              0.2222222222222222,
              "#7201a8"
             ],
             [
              0.3333333333333333,
              "#9c179e"
             ],
             [
              0.4444444444444444,
              "#bd3786"
             ],
             [
              0.5555555555555556,
              "#d8576b"
             ],
             [
              0.6666666666666666,
              "#ed7953"
             ],
             [
              0.7777777777777778,
              "#fb9f3a"
             ],
             [
              0.8888888888888888,
              "#fdca26"
             ],
             [
              1,
              "#f0f921"
             ]
            ],
            "type": "histogram2d"
           }
          ],
          "histogram2dcontour": [
           {
            "colorbar": {
             "outlinewidth": 0,
             "ticks": ""
            },
            "colorscale": [
             [
              0,
              "#0d0887"
             ],
             [
              0.1111111111111111,
              "#46039f"
             ],
             [
              0.2222222222222222,
              "#7201a8"
             ],
             [
              0.3333333333333333,
              "#9c179e"
             ],
             [
              0.4444444444444444,
              "#bd3786"
             ],
             [
              0.5555555555555556,
              "#d8576b"
             ],
             [
              0.6666666666666666,
              "#ed7953"
             ],
             [
              0.7777777777777778,
              "#fb9f3a"
             ],
             [
              0.8888888888888888,
              "#fdca26"
             ],
             [
              1,
              "#f0f921"
             ]
            ],
            "type": "histogram2dcontour"
           }
          ],
          "mesh3d": [
           {
            "colorbar": {
             "outlinewidth": 0,
             "ticks": ""
            },
            "type": "mesh3d"
           }
          ],
          "parcoords": [
           {
            "line": {
             "colorbar": {
              "outlinewidth": 0,
              "ticks": ""
             }
            },
            "type": "parcoords"
           }
          ],
          "pie": [
           {
            "automargin": true,
            "type": "pie"
           }
          ],
          "scatter": [
           {
            "marker": {
             "colorbar": {
              "outlinewidth": 0,
              "ticks": ""
             }
            },
            "type": "scatter"
           }
          ],
          "scatter3d": [
           {
            "line": {
             "colorbar": {
              "outlinewidth": 0,
              "ticks": ""
             }
            },
            "marker": {
             "colorbar": {
              "outlinewidth": 0,
              "ticks": ""
             }
            },
            "type": "scatter3d"
           }
          ],
          "scattercarpet": [
           {
            "marker": {
             "colorbar": {
              "outlinewidth": 0,
              "ticks": ""
             }
            },
            "type": "scattercarpet"
           }
          ],
          "scattergeo": [
           {
            "marker": {
             "colorbar": {
              "outlinewidth": 0,
              "ticks": ""
             }
            },
            "type": "scattergeo"
           }
          ],
          "scattergl": [
           {
            "marker": {
             "colorbar": {
              "outlinewidth": 0,
              "ticks": ""
             }
            },
            "type": "scattergl"
           }
          ],
          "scattermapbox": [
           {
            "marker": {
             "colorbar": {
              "outlinewidth": 0,
              "ticks": ""
             }
            },
            "type": "scattermapbox"
           }
          ],
          "scatterpolar": [
           {
            "marker": {
             "colorbar": {
              "outlinewidth": 0,
              "ticks": ""
             }
            },
            "type": "scatterpolar"
           }
          ],
          "scatterpolargl": [
           {
            "marker": {
             "colorbar": {
              "outlinewidth": 0,
              "ticks": ""
             }
            },
            "type": "scatterpolargl"
           }
          ],
          "scatterternary": [
           {
            "marker": {
             "colorbar": {
              "outlinewidth": 0,
              "ticks": ""
             }
            },
            "type": "scatterternary"
           }
          ],
          "surface": [
           {
            "colorbar": {
             "outlinewidth": 0,
             "ticks": ""
            },
            "colorscale": [
             [
              0,
              "#0d0887"
             ],
             [
              0.1111111111111111,
              "#46039f"
             ],
             [
              0.2222222222222222,
              "#7201a8"
             ],
             [
              0.3333333333333333,
              "#9c179e"
             ],
             [
              0.4444444444444444,
              "#bd3786"
             ],
             [
              0.5555555555555556,
              "#d8576b"
             ],
             [
              0.6666666666666666,
              "#ed7953"
             ],
             [
              0.7777777777777778,
              "#fb9f3a"
             ],
             [
              0.8888888888888888,
              "#fdca26"
             ],
             [
              1,
              "#f0f921"
             ]
            ],
            "type": "surface"
           }
          ],
          "table": [
           {
            "cells": {
             "fill": {
              "color": "#EBF0F8"
             },
             "line": {
              "color": "white"
             }
            },
            "header": {
             "fill": {
              "color": "#C8D4E3"
             },
             "line": {
              "color": "white"
             }
            },
            "type": "table"
           }
          ]
         },
         "layout": {
          "annotationdefaults": {
           "arrowcolor": "#2a3f5f",
           "arrowhead": 0,
           "arrowwidth": 1
          },
          "autotypenumbers": "strict",
          "coloraxis": {
           "colorbar": {
            "outlinewidth": 0,
            "ticks": ""
           }
          },
          "colorscale": {
           "diverging": [
            [
             0,
             "#8e0152"
            ],
            [
             0.1,
             "#c51b7d"
            ],
            [
             0.2,
             "#de77ae"
            ],
            [
             0.3,
             "#f1b6da"
            ],
            [
             0.4,
             "#fde0ef"
            ],
            [
             0.5,
             "#f7f7f7"
            ],
            [
             0.6,
             "#e6f5d0"
            ],
            [
             0.7,
             "#b8e186"
            ],
            [
             0.8,
             "#7fbc41"
            ],
            [
             0.9,
             "#4d9221"
            ],
            [
             1,
             "#276419"
            ]
           ],
           "sequential": [
            [
             0,
             "#0d0887"
            ],
            [
             0.1111111111111111,
             "#46039f"
            ],
            [
             0.2222222222222222,
             "#7201a8"
            ],
            [
             0.3333333333333333,
             "#9c179e"
            ],
            [
             0.4444444444444444,
             "#bd3786"
            ],
            [
             0.5555555555555556,
             "#d8576b"
            ],
            [
             0.6666666666666666,
             "#ed7953"
            ],
            [
             0.7777777777777778,
             "#fb9f3a"
            ],
            [
             0.8888888888888888,
             "#fdca26"
            ],
            [
             1,
             "#f0f921"
            ]
           ],
           "sequentialminus": [
            [
             0,
             "#0d0887"
            ],
            [
             0.1111111111111111,
             "#46039f"
            ],
            [
             0.2222222222222222,
             "#7201a8"
            ],
            [
             0.3333333333333333,
             "#9c179e"
            ],
            [
             0.4444444444444444,
             "#bd3786"
            ],
            [
             0.5555555555555556,
             "#d8576b"
            ],
            [
             0.6666666666666666,
             "#ed7953"
            ],
            [
             0.7777777777777778,
             "#fb9f3a"
            ],
            [
             0.8888888888888888,
             "#fdca26"
            ],
            [
             1,
             "#f0f921"
            ]
           ]
          },
          "colorway": [
           "#636efa",
           "#EF553B",
           "#00cc96",
           "#ab63fa",
           "#FFA15A",
           "#19d3f3",
           "#FF6692",
           "#B6E880",
           "#FF97FF",
           "#FECB52"
          ],
          "font": {
           "color": "#2a3f5f"
          },
          "geo": {
           "bgcolor": "white",
           "lakecolor": "white",
           "landcolor": "#E5ECF6",
           "showlakes": true,
           "showland": true,
           "subunitcolor": "white"
          },
          "hoverlabel": {
           "align": "left"
          },
          "hovermode": "closest",
          "mapbox": {
           "style": "light"
          },
          "paper_bgcolor": "white",
          "plot_bgcolor": "#E5ECF6",
          "polar": {
           "angularaxis": {
            "gridcolor": "white",
            "linecolor": "white",
            "ticks": ""
           },
           "bgcolor": "#E5ECF6",
           "radialaxis": {
            "gridcolor": "white",
            "linecolor": "white",
            "ticks": ""
           }
          },
          "scene": {
           "xaxis": {
            "backgroundcolor": "#E5ECF6",
            "gridcolor": "white",
            "gridwidth": 2,
            "linecolor": "white",
            "showbackground": true,
            "ticks": "",
            "zerolinecolor": "white"
           },
           "yaxis": {
            "backgroundcolor": "#E5ECF6",
            "gridcolor": "white",
            "gridwidth": 2,
            "linecolor": "white",
            "showbackground": true,
            "ticks": "",
            "zerolinecolor": "white"
           },
           "zaxis": {
            "backgroundcolor": "#E5ECF6",
            "gridcolor": "white",
            "gridwidth": 2,
            "linecolor": "white",
            "showbackground": true,
            "ticks": "",
            "zerolinecolor": "white"
           }
          },
          "shapedefaults": {
           "line": {
            "color": "#2a3f5f"
           }
          },
          "ternary": {
           "aaxis": {
            "gridcolor": "white",
            "linecolor": "white",
            "ticks": ""
           },
           "baxis": {
            "gridcolor": "white",
            "linecolor": "white",
            "ticks": ""
           },
           "bgcolor": "#E5ECF6",
           "caxis": {
            "gridcolor": "white",
            "linecolor": "white",
            "ticks": ""
           }
          },
          "title": {
           "x": 0.05
          },
          "xaxis": {
           "automargin": true,
           "gridcolor": "white",
           "linecolor": "white",
           "ticks": "",
           "title": {
            "standoff": 15
           },
           "zerolinecolor": "white",
           "zerolinewidth": 2
          },
          "yaxis": {
           "automargin": true,
           "gridcolor": "white",
           "linecolor": "white",
           "ticks": "",
           "title": {
            "standoff": 15
           },
           "zerolinecolor": "white",
           "zerolinewidth": 2
          }
         }
        },
        "width": 1300
       }
      }
     },
     "metadata": {},
     "output_type": "display_data"
    },
    {
     "name": "stdout",
     "output_type": "stream",
     "text": [
      "Kabsch distance is 0.005977556635513775\n"
     ]
    },
    {
     "data": {
      "text/plain": [
       "<Figure size 50000x50000 with 0 Axes>"
      ]
     },
     "metadata": {},
     "output_type": "display_data"
    }
   ],
   "source": [
    "test_true_structure = test_true_structures[GRAPH_TESTED]\n",
    "test_pred_structure = test_pred_structures[GRAPH_TESTED]\n",
    "\n",
    "test_pred_structure_superposed, test_true_structure_superposed = \\\n",
    "        kabsch_superimposition_numpy(test_pred_structure, test_true_structure, EMBEDDING_SIZE)\n",
    "\n",
    "x_pred = test_pred_structure_superposed[:, 0]  \n",
    "y_pred = test_pred_structure_superposed[:, 1]\n",
    "z_pred = test_pred_structure_superposed[:, 2]\n",
    "\n",
    "x_true = test_true_structure_superposed[:, 0]  \n",
    "y_true = test_true_structure_superposed[:, 1]\n",
    "z_true = test_true_structure_superposed[:, 2]\n",
    "pred_structure_unit_ball, true_structure_unit_ball = \\\n",
    "            kabsch_superimposition_numpy(test_pred_structure, test_true_structure, EMBEDDING_SIZE)\n",
    "d = np.negative(np.log(np.mean(np.divide(np.abs(pred_structure_unit_ball - true_structure_unit_ball),np.abs(true_structure_unit_ball)), axis=1)))\n",
    "\n",
    "colorscale1 = np.asarray(range(len(x_true)))\n",
    "colorscale2 = d\n",
    "color1 = 'Viridis'\n",
    "color2 = 'magma'\n",
    "plot_true_pred_structures(x_pred, y_pred, z_pred, x_true, y_true, z_true, colorscale1, colorscale2, color1, color2)\n",
    "\n",
    "# Shape comparison\n",
    "print('Kabsch distance is ' + str(kabsch_distance_numpy(test_pred_structure, test_true_structure, EMBEDDING_SIZE)))\n",
    "\n"
   ]
  },
  {
   "cell_type": "code",
   "execution_count": 17,
   "metadata": {},
   "outputs": [
    {
     "name": "stdout",
     "output_type": "stream",
     "text": [
      "tensor([0.9359], dtype=torch.float64)\n",
      "tensor([0.5622], dtype=torch.float64)\n"
     ]
    }
   ],
   "source": [
    "random_structure = np.random.random((202,3))\n",
    "test_true_structure = test_true_structures[GRAPH_TESTED]\n",
    "print(lddt(torch.from_numpy(test_pred_structure_superposed).unsqueeze(0), torch.from_numpy(test_true_structure_superposed).unsqueeze(0)))\n",
    "\n",
    "random_structure_superposed, true_to_random_structure_superposed = \\\n",
    "        kabsch_superimposition_numpy(random_structure, test_true_structure, EMBEDDING_SIZE)\n",
    "\n",
    "print(lddt(torch.from_numpy(random_structure_superposed).unsqueeze(0), torch.from_numpy(true_to_random_structure_superposed).unsqueeze(0)))\n",
    "#print(test_true_structures[GRAPH_TESTED].shape)\n"
   ]
  },
  {
   "cell_type": "code",
   "execution_count": 21,
   "metadata": {},
   "outputs": [
    {
     "data": {
      "application/vnd.plotly.v1+json": {
       "config": {
        "plotlyServerURL": "https://plot.ly"
       },
       "data": [
        {
         "line": {
          "color": "darkblue",
          "width": 2
         },
         "marker": {
          "color": [
           0,
           1,
           2,
           3,
           4,
           5,
           6,
           7,
           8,
           9,
           10,
           11,
           12,
           13,
           14,
           15,
           16,
           17,
           18,
           19,
           20,
           21,
           22,
           23,
           24,
           25,
           26,
           27,
           28,
           29,
           30,
           31,
           32,
           33,
           34,
           35,
           36,
           37,
           38,
           39,
           40,
           41,
           42,
           43,
           44,
           45,
           46,
           47,
           48,
           49,
           50,
           51,
           52,
           53,
           54,
           55,
           56,
           57,
           58,
           59,
           60,
           61,
           62,
           63,
           64,
           65,
           66,
           67,
           68,
           69,
           70,
           71,
           72,
           73,
           74,
           75,
           76,
           77,
           78,
           79,
           80,
           81,
           82,
           83,
           84,
           85,
           86,
           87,
           88,
           89,
           90,
           91,
           92,
           93,
           94,
           95,
           96,
           97,
           98,
           99,
           100,
           101,
           102,
           103,
           104,
           105,
           106,
           107,
           108,
           109,
           110,
           111,
           112,
           113,
           114,
           115,
           116,
           117,
           118,
           119,
           120,
           121,
           122,
           123,
           124,
           125,
           126,
           127,
           128,
           129,
           130,
           131,
           132,
           133,
           134,
           135,
           136,
           137,
           138,
           139,
           140,
           141,
           142,
           143,
           144,
           145,
           146,
           147,
           148,
           149,
           150,
           151,
           152,
           153,
           154,
           155,
           156,
           157,
           158,
           159,
           160,
           161,
           162,
           163,
           164,
           165,
           166,
           167,
           168,
           169,
           170,
           171,
           172,
           173,
           174,
           175,
           176,
           177,
           178,
           179,
           180,
           181,
           182,
           183,
           184,
           185,
           186,
           187,
           188,
           189,
           190,
           191,
           192,
           193,
           194,
           195,
           196,
           197,
           198,
           199,
           200,
           201
          ],
          "colorscale": [
           [
            0,
            "#440154"
           ],
           [
            0.1111111111111111,
            "#482878"
           ],
           [
            0.2222222222222222,
            "#3e4989"
           ],
           [
            0.3333333333333333,
            "#31688e"
           ],
           [
            0.4444444444444444,
            "#26828e"
           ],
           [
            0.5555555555555556,
            "#1f9e89"
           ],
           [
            0.6666666666666666,
            "#35b779"
           ],
           [
            0.7777777777777778,
            "#6ece58"
           ],
           [
            0.8888888888888888,
            "#b5de2b"
           ],
           [
            1,
            "#fde725"
           ]
          ],
          "size": 4
         },
         "scene": "scene",
         "type": "scatter3d",
         "x": [
          -0.11617447435855865,
          -0.03791821748018265,
          0.04670683667063713,
          0.13978135585784912,
          0.21786342561244965,
          0.2779562771320343,
          0.33708444237709045,
          0.38427045941352844,
          0.3807530403137207,
          0.3150673806667328,
          0.23885391652584076,
          0.15156598389148712,
          0.0769868940114975,
          0.020498061552643776,
          -0.030429817736148834,
          -0.029525181278586388,
          0.034680090844631195,
          0.10709412395954132,
          0.14884334802627563,
          0.2134513109922409,
          0.31550997495651245,
          0.36893129348754883,
          0.37515947222709656,
          0.41817790269851685,
          0.4840720295906067,
          0.5472744107246399,
          0.6268070936203003,
          0.6903325319290161,
          0.7529017925262451,
          0.801105797290802,
          0.8115475177764893,
          0.7648389935493469,
          0.6608444452285767,
          0.5548867583274841,
          0.4880940318107605,
          0.4807282090187073,
          0.4930410087108612,
          0.46825167536735535,
          0.38314536213874817,
          0.29053834080696106,
          0.19688716530799866,
          0.08741677552461624,
          -0.0021127176005393267,
          -0.06199466437101364,
          -0.08218128234148026,
          -0.11433529108762741,
          -0.1959468126296997,
          -0.29606926441192627,
          -0.40554285049438477,
          -0.5085029006004333,
          -0.5790907740592957,
          -0.5892248153686523,
          -0.527962327003479,
          -0.4748486578464508,
          -0.47052255272865295,
          -0.4990592300891876,
          -0.5149421095848083,
          -0.5274538397789001,
          -0.5681564807891846,
          -0.5679470300674438,
          -0.5570084452629089,
          -0.548595666885376,
          -0.5507451295852661,
          -0.5905041098594666,
          -0.6389787197113037,
          -0.6689842343330383,
          -0.67486172914505,
          -0.6482881307601929,
          -0.6002840399742126,
          -0.558573842048645,
          -0.495830774307251,
          -0.39958980679512024,
          -0.30579712986946106,
          -0.21815238893032074,
          -0.15734504163265228,
          -0.16126421093940735,
          -0.18848136067390442,
          -0.2504957914352417,
          -0.34184426069259644,
          -0.40205833315849304,
          -0.4127863943576813,
          -0.38963764905929565,
          -0.36868301033973694,
          -0.33054083585739136,
          -0.30159515142440796,
          -0.30301791429519653,
          -0.29788878560066223,
          -0.23774246871471405,
          -0.13075365126132965,
          -0.03620850667357445,
          0.05529852584004402,
          0.1623871624469757,
          0.22830073535442352,
          0.2598969042301178,
          0.31756365299224854,
          0.40321052074432373,
          0.47904109954833984,
          0.4961734414100647,
          0.48096582293510437,
          0.4402604401111603,
          0.35332679748535156,
          0.2716618776321411,
          0.19779075682163239,
          0.16831326484680176,
          0.1667747050523758,
          0.16374243795871735,
          0.15143708884716034,
          0.09772277623414993,
          0.02620856463909149,
          -0.0747554749250412,
          -0.16192710399627686,
          -0.18647699058055878,
          -0.1418759822845459,
          -0.05032235011458397,
          0.04975593090057373,
          0.15390858054161072,
          0.2393060177564621,
          0.30470964312553406,
          0.3932957053184509,
          0.47255197167396545,
          0.5545174479484558,
          0.6110402941703796,
          0.5719364881515503,
          0.5262590050697327,
          0.4842446744441986,
          0.4341636002063751,
          0.3661133348941803,
          0.26245781779289246,
          0.17612534761428833,
          0.08165481686592102,
          -0.0071396189741790295,
          -0.040169455111026764,
          -0.0004928436828777194,
          0.0689781978726387,
          0.11843700706958771,
          0.15375421941280365,
          0.21911579370498657,
          0.300586074590683,
          0.31245332956314087,
          0.29845061898231506,
          0.27475133538246155,
          0.21659766137599945,
          0.18014323711395264,
          0.2251301109790802,
          0.310329794883728,
          0.32799196243286133,
          0.28518280386924744,
          0.20526565611362457,
          0.10768815129995346,
          0.028870077803730965,
          0.02997404709458351,
          0.06375065445899963,
          0.11131700128316879,
          0.21647845208644867,
          0.31520676612854004,
          0.3869173526763916,
          0.46322470903396606,
          0.5268260836601257,
          0.5192321538925171,
          0.44961512088775635,
          0.3707701563835144,
          0.31225085258483887,
          0.25314927101135254,
          0.16950607299804688,
          0.06347664445638657,
          -0.04473896697163582,
          -0.1474660485982895,
          -0.24160709977149963,
          -0.32191628217697144,
          -0.38584014773368835,
          -0.43990612030029297,
          -0.4618932604789734,
          -0.4392291009426117,
          -0.41247251629829407,
          -0.39393100142478943,
          -0.356804758310318,
          -0.2860685884952545,
          -0.1966567188501358,
          -0.13455422222614288,
          -0.0996810793876648,
          -0.09654261916875839,
          -0.1651683747768402,
          -0.26332658529281616,
          -0.34172531962394714,
          -0.3839617371559143,
          -0.43135473132133484,
          -0.4918937385082245,
          -0.5613536238670349,
          -0.6317773461341858,
          -0.6438614726066589,
          -0.5855109095573425,
          -0.5008158683776855,
          -0.45847588777542114,
          -0.4599389433860779,
          -0.4394255578517914,
          -0.3731670379638672,
          -0.3345471918582916,
          -0.3575647175312042,
          -0.3643205761909485,
          -0.32028189301490784,
          -0.2560182213783264,
          -0.1860814094543457
         ],
         "y": [
          0.08944384008646011,
          0.10456705093383789,
          0.17024515569210052,
          0.1906794309616089,
          0.1639876812696457,
          0.12943466007709503,
          0.0637640431523323,
          -0.021527621895074844,
          -0.11860470473766327,
          -0.20944048464298248,
          -0.2648506462574005,
          -0.27936452627182007,
          -0.2918497622013092,
          -0.28507673740386963,
          -0.27077823877334595,
          -0.31209200620651245,
          -0.38138025999069214,
          -0.3876912295818329,
          -0.3447554111480713,
          -0.33904317021369934,
          -0.35171958804130554,
          -0.3652005195617676,
          -0.32231149077415466,
          -0.24067385494709015,
          -0.16297946870326996,
          -0.07863672822713852,
          -0.042407408356666565,
          -0.07883036136627197,
          -0.14399836957454681,
          -0.22695960104465485,
          -0.3393362760543823,
          -0.4030146598815918,
          -0.4075722396373749,
          -0.38767626881599426,
          -0.3426060378551483,
          -0.304920494556427,
          -0.3397584557533264,
          -0.43014150857925415,
          -0.49113357067108154,
          -0.5468339920043945,
          -0.5995942950248718,
          -0.6133477091789246,
          -0.5824869275093079,
          -0.5003607273101807,
          -0.4002910256385803,
          -0.3079233169555664,
          -0.26188573241233826,
          -0.25327935814857483,
          -0.2662299573421478,
          -0.2974162697792053,
          -0.2956964373588562,
          -0.23207983374595642,
          -0.16765131056308746,
          -0.20861339569091797,
          -0.31893083453178406,
          -0.4208136796951294,
          -0.5054690837860107,
          -0.5816763043403625,
          -0.6429061889648438,
          -0.6283171772956848,
          -0.5356317162513733,
          -0.4276777505874634,
          -0.32994091510772705,
          -0.24732047319412231,
          -0.1769239902496338,
          -0.10948801040649414,
          -0.022452285513281822,
          0.058561962097883224,
          0.07762019336223602,
          0.047900695353746414,
          0.06223253905773163,
          0.07548948377370834,
          0.01412722747772932,
          -0.05512925982475281,
          -0.12811556458473206,
          -0.19802318513393402,
          -0.2813737690448761,
          -0.35651257634162903,
          -0.39373794198036194,
          -0.3781268000602722,
          -0.2979300618171692,
          -0.21146048605442047,
          -0.1640245020389557,
          -0.15537643432617188,
          -0.1477801650762558,
          -0.09617730975151062,
          -0.011854184791445732,
          0.04596942663192749,
          0.045474857091903687,
          -0.011499599553644657,
          -0.07182607054710388,
          -0.09080544859170914,
          -0.13705003261566162,
          -0.2362939566373825,
          -0.32519838213920593,
          -0.3460320234298706,
          -0.2891803979873657,
          -0.19455398619174957,
          -0.10384543240070343,
          -0.048033617436885834,
          -0.04737265780568123,
          -0.09815527498722076,
          -0.1590769737958908,
          -0.23949792981147766,
          -0.34192514419555664,
          -0.4485032558441162,
          -0.5273098945617676,
          -0.5367690920829773,
          -0.5050246119499207,
          -0.4872592091560364,
          -0.4379856586456299,
          -0.34087586402893066,
          -0.25049617886543274,
          -0.22202256321907043,
          -0.26311007142066956,
          -0.2923086881637573,
          -0.29501041769981384,
          -0.31991517543792725,
          -0.3422630727291107,
          -0.3634049892425537,
          -0.40173083543777466,
          -0.36591026186943054,
          -0.27542853355407715,
          -0.20988929271697998,
          -0.13987746834754944,
          -0.06932556629180908,
          -0.029291648417711258,
          -0.00171661248896271,
          0.03076871670782566,
          0.04777258262038231,
          0.09442566335201263,
          0.18980374932289124,
          0.23490019142627716,
          0.24009782075881958,
          0.20724833011627197,
          0.1321128010749817,
          0.08672281354665756,
          0.10720702260732651,
          0.14340580999851227,
          0.12450236082077026,
          0.11353382468223572,
          0.15298992395401,
          0.22412486374378204,
          0.2880399823188782,
          0.34996238350868225,
          0.43252983689308167,
          0.5235256552696228,
          0.5935593843460083,
          0.6418600082397461,
          0.6364655494689941,
          0.5634911060333252,
          0.5230661034584045,
          0.4994216561317444,
          0.479474276304245,
          0.48645931482315063,
          0.47136497497558594,
          0.4434916079044342,
          0.41577982902526855,
          0.4275406301021576,
          0.4919506311416626,
          0.5221216678619385,
          0.5262734293937683,
          0.5622127056121826,
          0.5934078097343445,
          0.5974488854408264,
          0.6110447645187378,
          0.6389402151107788,
          0.68062824010849,
          0.7398400902748108,
          0.8018255233764648,
          0.8200320601463318,
          0.8043843507766724,
          0.8240656852722168,
          0.8155520558357239,
          0.7340626120567322,
          0.6390692591667175,
          0.5568426251411438,
          0.49106502532958984,
          0.45649421215057373,
          0.4639952778816223,
          0.43877360224723816,
          0.40775901079177856,
          0.4316701591014862,
          0.48603880405426025,
          0.5614582896232605,
          0.5862489342689514,
          0.5205937027931213,
          0.43908944725990295,
          0.3610502779483795,
          0.27939823269844055,
          0.2130986601114273,
          0.1721285730600357,
          0.1765373945236206,
          0.20296573638916016,
          0.24594762921333313,
          0.3072813153266907,
          0.3565193712711334,
          0.38340631127357483,
          0.36521443724632263,
          0.29151588678359985,
          0.20925965905189514,
          0.13662992417812347
         ],
         "z": [
          0.0015235014725476503,
          0.0710795670747757,
          0.09527832269668579,
          0.10775916278362274,
          0.17181305587291718,
          0.25904151797294617,
          0.3295414447784424,
          0.38760286569595337,
          0.40765181183815,
          0.3988074064254761,
          0.35320934653282166,
          0.2866070866584778,
          0.21113084256649017,
          0.118867889046669,
          0.02304605208337307,
          -0.07114555686712265,
          -0.1188393384218216,
          -0.08403432369232178,
          0.010931352153420448,
          0.08979623019695282,
          0.13861143589019775,
          0.21721293032169342,
          0.29195544123649597,
          0.3427621126174927,
          0.37634262442588806,
          0.4059906303882599,
          0.39808014035224915,
          0.32434600591659546,
          0.2613222599029541,
          0.22573857009410858,
          0.21586120128631592,
          0.23812969028949738,
          0.28376099467277527,
          0.3111441731452942,
          0.36278802156448364,
          0.4667399227619171,
          0.5568886399269104,
          0.6035128831863403,
          0.6293235421180725,
          0.6511960029602051,
          0.6471812725067139,
          0.6205459833145142,
          0.5739948749542236,
          0.5323333740234375,
          0.496381551027298,
          0.47673922777175903,
          0.5196296572685242,
          0.5649583339691162,
          0.5833212733268738,
          0.5673872232437134,
          0.4916791319847107,
          0.413148432970047,
          0.363716721534729,
          0.33949390053749084,
          0.35640162229537964,
          0.3764967620372772,
          0.3355758488178253,
          0.2634272873401642,
          0.18189090490341187,
          0.0889878049492836,
          0.05014576017856598,
          0.07541888952255249,
          0.12732481956481934,
          0.1928006112575531,
          0.26798728108406067,
          0.26162993907928467,
          0.19765417277812958,
          0.13598664104938507,
          0.04096229374408722,
          -0.05980957671999931,
          -0.10685364156961441,
          -0.1023545116186142,
          -0.1042095422744751,
          -0.09485973417758942,
          -0.04614120349287987,
          0.035280339419841766,
          0.08916141092777252,
          0.09596333652734756,
          0.056425295770168304,
          -0.022591955959796906,
          -0.09327483922243118,
          -0.16275116801261902,
          -0.25753113627433777,
          -0.3622768223285675,
          -0.46794968843460083,
          -0.5594713687896729,
          -0.6350038051605225,
          -0.6825443506240845,
          -0.6896320581436157,
          -0.6998043060302734,
          -0.7226849794387817,
          -0.7305716872215271,
          -0.7516896724700928,
          -0.7612461447715759,
          -0.7238020300865173,
          -0.6834284663200378,
          -0.6310440897941589,
          -0.5984575152397156,
          -0.5542627573013306,
          -0.46954089403152466,
          -0.4312991797924042,
          -0.4718100130558014,
          -0.4946734607219696,
          -0.4560239613056183,
          -0.42063501477241516,
          -0.3966008722782135,
          -0.4287864565849304,
          -0.5200901627540588,
          -0.5995749831199646,
          -0.6324400305747986,
          -0.6293631196022034,
          -0.6529648900032043,
          -0.6742022633552551,
          -0.6509743332862854,
          -0.6201382279396057,
          -0.6053112149238586,
          -0.5551913380622864,
          -0.4689936339855194,
          -0.4081385135650635,
          -0.3392731249332428,
          -0.2930269241333008,
          -0.3135232627391815,
          -0.3260691165924072,
          -0.2672232389450073,
          -0.21297357976436615,
          -0.16044235229492188,
          -0.10843795537948608,
          -0.1295686811208725,
          -0.19298624992370605,
          -0.2363925725221634,
          -0.24025239050388336,
          -0.26780498027801514,
          -0.3362596035003662,
          -0.4231570065021515,
          -0.5031384825706482,
          -0.5789008140563965,
          -0.6449452042579651,
          -0.6335415840148926,
          -0.5463868379592896,
          -0.44185683131217957,
          -0.34325629472732544,
          -0.256570965051651,
          -0.18090961873531342,
          -0.14018131792545319,
          -0.11446288228034973,
          -0.0577113963663578,
          -0.018912438303232193,
          -0.026293694972991943,
          -0.05704766511917114,
          -0.10915915668010712,
          -0.16258665919303894,
          -0.24124476313591003,
          -0.31774985790252686,
          -0.3336116671562195,
          -0.29145777225494385,
          -0.20825226604938507,
          -0.13199588656425476,
          -0.04960951581597328,
          0.04202871769666672,
          0.08896218240261078,
          0.140762597322464,
          0.23718708753585815,
          0.32274213433265686,
          0.3856574296951294,
          0.4170374274253845,
          0.4405893385410309,
          0.479013592004776,
          0.5230984687805176,
          0.5223917961120605,
          0.4549751579761505,
          0.3661012053489685,
          0.2623169422149658,
          0.15920566022396088,
          0.06724066287279129,
          -0.004784636665135622,
          -0.045288439840078354,
          -0.06690087914466858,
          -0.06966770440340042,
          -0.009762750007212162,
          0.09582382440567017,
          0.1859564334154129,
          0.24655179679393768,
          0.2962503135204315,
          0.35284048318862915,
          0.4219105541706085,
          0.5023722648620605,
          0.5387599468231201,
          0.5485315918922424,
          0.5443248748779297,
          0.5708574056625366,
          0.619621753692627,
          0.5830268859863281,
          0.48675402998924255,
          0.37645795941352844,
          0.28021514415740967,
          0.2153976857662201,
          0.1375533789396286,
          0.03129434585571289,
          -0.06791438162326813,
          -0.13172951340675354,
          -0.12197016179561615,
          -0.06899110972881317
         ]
        },
        {
         "line": {
          "color": "darkblue",
          "width": 2
         },
         "marker": {
          "color": [
           0,
           1,
           2,
           3,
           4,
           5,
           6,
           7,
           8,
           9,
           10,
           11,
           12,
           13,
           14,
           15,
           16,
           17,
           18,
           19,
           20,
           21,
           22,
           23,
           24,
           25,
           26,
           27,
           28,
           29,
           30,
           31,
           32,
           33,
           34,
           35,
           36,
           37,
           38,
           39,
           40,
           41,
           42,
           43,
           44,
           45,
           46,
           47,
           48,
           49,
           50,
           51,
           52,
           53,
           54,
           55,
           56,
           57,
           58,
           59,
           60,
           61,
           62,
           63,
           64,
           65,
           66,
           67,
           68,
           69,
           70,
           71,
           72,
           73,
           74,
           75,
           76,
           77,
           78,
           79,
           80,
           81,
           82,
           83,
           84,
           85,
           86,
           87,
           88,
           89,
           90,
           91,
           92,
           93,
           94,
           95,
           96,
           97,
           98,
           99,
           100,
           101,
           102,
           103,
           104,
           105,
           106,
           107,
           108,
           109,
           110,
           111,
           112,
           113,
           114,
           115,
           116,
           117,
           118,
           119,
           120,
           121,
           122,
           123,
           124,
           125,
           126,
           127,
           128,
           129,
           130,
           131,
           132,
           133,
           134,
           135,
           136,
           137,
           138,
           139,
           140,
           141,
           142,
           143,
           144,
           145,
           146,
           147,
           148,
           149,
           150,
           151,
           152,
           153,
           154,
           155,
           156,
           157,
           158,
           159,
           160,
           161,
           162,
           163,
           164,
           165,
           166,
           167,
           168,
           169,
           170,
           171,
           172,
           173,
           174,
           175,
           176,
           177,
           178,
           179,
           180,
           181,
           182,
           183,
           184,
           185,
           186,
           187,
           188,
           189,
           190,
           191,
           192,
           193,
           194,
           195,
           196,
           197,
           198,
           199,
           200,
           201
          ],
          "colorscale": [
           [
            0,
            "#440154"
           ],
           [
            0.1111111111111111,
            "#482878"
           ],
           [
            0.2222222222222222,
            "#3e4989"
           ],
           [
            0.3333333333333333,
            "#31688e"
           ],
           [
            0.4444444444444444,
            "#26828e"
           ],
           [
            0.5555555555555556,
            "#1f9e89"
           ],
           [
            0.6666666666666666,
            "#35b779"
           ],
           [
            0.7777777777777778,
            "#6ece58"
           ],
           [
            0.8888888888888888,
            "#b5de2b"
           ],
           [
            1,
            "#fde725"
           ]
          ],
          "size": 4
         },
         "scene": "scene2",
         "type": "scatter3d",
         "x": [
          -0.09740575080352591,
          -0.06153632823122002,
          -0.008529973479189297,
          0.07015243537294201,
          0.13285636855521815,
          0.1839349435065649,
          0.21983222746759415,
          0.27629117975430284,
          0.327364175512017,
          0.3419605844265412,
          0.27213080285046376,
          0.15854600645309627,
          0.09149296940170425,
          0.0658727398907413,
          0.04212082533810812,
          0.0445633095510515,
          0.08073789395521586,
          0.12255581858202087,
          0.15279507761630848,
          0.18330312164308388,
          0.25947217595977556,
          0.32788667107658137,
          0.394389384670118,
          0.40613777915436117,
          0.42178088660167096,
          0.4477398333943678,
          0.4445066677301257,
          0.46316197954371685,
          0.46662121856151545,
          0.5135400191761458,
          0.5450401374624798,
          0.5412564673856592,
          0.5143764688516669,
          0.510086097173539,
          0.49205103025620184,
          0.48070044661024425,
          0.43385855419033365,
          0.38322726674406554,
          0.3712649015021778,
          0.33725902743917674,
          0.30527399956837126,
          0.21641493806172676,
          0.1174517551413661,
          -0.0008100916550211931,
          -0.08478591258041436,
          -0.17792597762447857,
          -0.2776052077288073,
          -0.374797560216585,
          -0.42109418656902414,
          -0.43749130608184494,
          -0.46074259317946015,
          -0.46870575991066393,
          -0.4780505415921054,
          -0.47494155131316146,
          -0.44026688511175943,
          -0.4128221289550717,
          -0.353105543506881,
          -0.3070558232567255,
          -0.28555541922101446,
          -0.27912305554867867,
          -0.28001847327211987,
          -0.30220532171883463,
          -0.3755113437392358,
          -0.46390274129117015,
          -0.5173644995560892,
          -0.5527103905346842,
          -0.5729120749914262,
          -0.577581131290401,
          -0.5281983549978839,
          -0.46984472728574583,
          -0.3831335937003167,
          -0.30791437916536735,
          -0.22253888341832614,
          -0.1321052155210755,
          -0.07873231057421415,
          -0.06913351682119476,
          -0.10171400374881853,
          -0.17115801912810014,
          -0.1984106871457468,
          -0.23323292162429396,
          -0.2405035689006566,
          -0.2243806711772404,
          -0.15521410268735628,
          -0.09814033462153876,
          -0.07226261344877088,
          -0.09124752671903062,
          -0.1437426047803448,
          -0.15815880574938557,
          -0.129147500155507,
          -0.06140098916799919,
          -0.0029029465172538773,
          0.02405560377550409,
          0.023430832946416555,
          0.02635634706510599,
          0.058452805069167196,
          0.09121996175358386,
          0.14407682137035518,
          0.13515544682988415,
          0.1529782471231084,
          0.2008653093701532,
          0.21508261707526558,
          0.2194848826707772,
          0.18662998238884235,
          0.1825822100517358,
          0.19388069414992967,
          0.1908266627109563,
          0.1884607185671485,
          0.19202011912349556,
          0.17628776704648336,
          0.12891995404220488,
          0.08512172276101575,
          0.031438986511238366,
          -0.011921396036713236,
          -0.010271677437320733,
          0.025236731957879278,
          0.07966760001830826,
          0.12553465358242893,
          0.18239089111118853,
          0.21551698841620526,
          0.240028137187271,
          0.26445434450470856,
          0.26594431930280227,
          0.2752293472208334,
          0.25785609304445517,
          0.2540695164999823,
          0.25648229006465273,
          0.2648234487532326,
          0.2282048390803193,
          0.182832093048506,
          0.13892292183515248,
          0.08089668802176853,
          0.04252451079165123,
          0.04510845755821124,
          0.055813343681272054,
          0.0753174138581724,
          0.04180867601175137,
          -0.001715126705125029,
          -0.0022211793722047607,
          0.025805056681426273,
          0.11552725782741038,
          0.17619530246223877,
          0.17569903892756691,
          0.16034964460018059,
          0.1620594402317148,
          0.20959057418615573,
          0.23939891047484596,
          0.24739128309535402,
          0.22444786721309512,
          0.1974532327403336,
          0.14467169003717897,
          0.103042424067318,
          0.09588719293537507,
          0.11161137454002971,
          0.14430179054139125,
          0.2059344690322074,
          0.24415429550361428,
          0.2735349773154483,
          0.2987791750716941,
          0.3018421359869676,
          0.3163835576725496,
          0.28790794289738064,
          0.2682036517377152,
          0.2646895502291834,
          0.222694965149454,
          0.14857766642037662,
          0.07394344509983684,
          0.0023133774905805546,
          -0.08499308119790709,
          -0.1796840002204772,
          -0.19850850409738965,
          -0.23989053087289577,
          -0.2531080101764668,
          -0.2522163046297473,
          -0.23207217906243768,
          -0.2339743649378722,
          -0.22253810458684523,
          -0.16859455304500612,
          -0.09416879696586515,
          -0.03714576664974929,
          -0.004723359652811534,
          -0.008257059668405778,
          -0.09224448053157976,
          -0.18987354913530674,
          -0.24953307476326636,
          -0.2758450799584964,
          -0.32391921378023314,
          -0.36700067187085444,
          -0.48177028819604645,
          -0.5209187048946641,
          -0.5831592809595294,
          -0.5654662219649126,
          -0.5451679961133361,
          -0.5275892159398592,
          -0.543368615949791,
          -0.5300401994216616,
          -0.49260763626074666,
          -0.41149502552109246,
          -0.36752888409920625,
          -0.32705038225665106,
          -0.2585374343262388,
          -0.19926400806573535,
          -0.14222832989754283
         ],
         "y": [
          0.09886204971601144,
          0.10150590890402625,
          0.13934664797847257,
          0.2013450861891102,
          0.21574590858242693,
          0.19906074970346496,
          0.151712711930746,
          0.038631066487196844,
          -0.08613396255846856,
          -0.20792872745425625,
          -0.34297070315518813,
          -0.3749826441925546,
          -0.3488822151326494,
          -0.31243418805686923,
          -0.268083228479963,
          -0.2637718230682826,
          -0.2931805775888596,
          -0.3193050878815621,
          -0.3186293987112676,
          -0.3191292887748376,
          -0.34487205729612874,
          -0.3720710199847962,
          -0.3943752109561426,
          -0.35161535199030675,
          -0.26795245071651647,
          -0.18060069560811862,
          -0.12202835348417189,
          -0.12113107549832536,
          -0.17129987733929566,
          -0.24476047409579071,
          -0.3501890908130574,
          -0.43347029830836037,
          -0.4534895081333502,
          -0.4906846110376188,
          -0.4796981911516748,
          -0.4977504966109284,
          -0.5769491914409978,
          -0.6226926243714884,
          -0.6617727402801447,
          -0.6616665694558904,
          -0.6798136469627787,
          -0.716511602503572,
          -0.7334889351718011,
          -0.7205033018769954,
          -0.6955902932894648,
          -0.6253245266927273,
          -0.5236598344280391,
          -0.38682694174490073,
          -0.3795754525213996,
          -0.4864621434968813,
          -0.5003322764082624,
          -0.4574845494617036,
          -0.34235997678744645,
          -0.2715466112141438,
          -0.44211054150476164,
          -0.5648794731786865,
          -0.6273735845053844,
          -0.6618188253322745,
          -0.6501248501539297,
          -0.6615569598253942,
          -0.6614894876764413,
          -0.6095632336881699,
          -0.5861742140651104,
          -0.47146516469638067,
          -0.32669950715311286,
          -0.23086365740537504,
          -0.12958566806827468,
          0.013384063335342054,
          0.049935894526396574,
          0.052247232024441474,
          0.04204161429559329,
          0.055898544925251294,
          0.03805212772917478,
          0.011435671427286067,
          -0.06982097897944485,
          -0.13337180979308322,
          -0.22267641020370135,
          -0.4325484367146494,
          -0.5245373698836974,
          -0.5423948968349951,
          -0.4768967851478357,
          -0.3217258181173326,
          -0.18228954954561616,
          -0.17909517427235408,
          -0.1982292114425802,
          -0.17764118303330678,
          -0.09456527497705615,
          -0.013156633794119478,
          0.041542812755950544,
          0.026027349187376404,
          0.004688047792668389,
          0.008884720780646267,
          0.01856017214860229,
          -0.005494562951001341,
          -0.05925292569293858,
          -0.11283888226453741,
          -0.09792697458938207,
          -0.0861272985368688,
          -0.03526461285669018,
          -0.014920861245423439,
          -0.012216042298708934,
          -0.04127875142047518,
          -0.09799404867919578,
          -0.16939304617825315,
          -0.2476353322259473,
          -0.3068222872632421,
          -0.36482669075178326,
          -0.41190787810359336,
          -0.40489961281986026,
          -0.41693081128683757,
          -0.428367158344517,
          -0.3821056918919974,
          -0.2862588562223571,
          -0.2175343373135215,
          -0.2041092510970812,
          -0.20813561271347786,
          -0.22594581354409,
          -0.22528394425011786,
          -0.23654124796699422,
          -0.23149943911526027,
          -0.25705235441918306,
          -0.2514027151150303,
          -0.22503153048158053,
          -0.16159660363667314,
          -0.11912557455474486,
          -0.059682255918753896,
          -0.010952257331465829,
          0.015212443724806837,
          0.0345663213643774,
          0.04958961084076607,
          0.0697026225920766,
          0.13739284072572502,
          0.1851098117302911,
          0.21259484154099892,
          0.20618612238719902,
          0.18163641598007366,
          0.144438170783304,
          0.14154463886846866,
          0.16377955829120597,
          0.1548971221591332,
          0.12832058963089418,
          0.13501350487185548,
          0.1811358871885736,
          0.23844939692153666,
          0.32064425347089986,
          0.3991506932121375,
          0.48749875858947045,
          0.56251585619222,
          0.6383860364865575,
          0.6550582464140211,
          0.585383096431298,
          0.510690972440991,
          0.4873767330284637,
          0.45577327086088726,
          0.47636297476549827,
          0.46353594647900026,
          0.4459703718252522,
          0.42961493082024105,
          0.41700558048342035,
          0.46610552993243654,
          0.5082749132462192,
          0.5387281565144006,
          0.6065688112148193,
          0.6520457638215716,
          0.6821943538361632,
          0.7317413856009837,
          0.773852104195447,
          0.8454930032557338,
          0.9259933817311117,
          0.949221137263012,
          0.9678442780363099,
          0.9368066465130676,
          0.9142028374927297,
          0.9225708376192274,
          0.9050703302141865,
          0.830728391867291,
          0.6903104133578413,
          0.5658133339594462,
          0.464933143362545,
          0.4677842288657559,
          0.49407881763090505,
          0.47806202843554474,
          0.489283943060302,
          0.5708643549170492,
          0.7011499821078331,
          0.8108743503440692,
          0.8176997591802377,
          0.7433570972754017,
          0.6124098671596052,
          0.46713786547641484,
          0.37114994429292975,
          0.27742039026088994,
          0.22627471222094384,
          0.18735336269421363,
          0.18997962778304747,
          0.230616801504692,
          0.2752827448821471,
          0.29766779594388687,
          0.27354740424685603,
          0.2273620330373362,
          0.15267965970455336,
          0.11900861917491153
         ],
         "z": [
          -0.017308440091284457,
          0.010203482214598433,
          0.028591557519986398,
          0.0537192637501799,
          0.08705357043107942,
          0.1554525706692806,
          0.22778566482158874,
          0.2996230295066086,
          0.3771411169295744,
          0.4251035530099271,
          0.32807063631890626,
          0.18676135374864664,
          0.10352154245108582,
          0.04660571690177797,
          -0.02035261361803019,
          -0.06659241427725086,
          -0.1069256428867063,
          -0.1122131908762104,
          -0.0730355972412253,
          -0.02172225086917375,
          0.025068908319544468,
          0.09835754784902237,
          0.21792110142370258,
          0.30226762204237173,
          0.36941975977105085,
          0.4402456951382202,
          0.47103377022773985,
          0.42540513228568594,
          0.3647941133837765,
          0.36378619533784845,
          0.3469331307780323,
          0.34135839807123197,
          0.33858194097514216,
          0.3652763321767755,
          0.3767791456672035,
          0.4492851096587868,
          0.5338950481083415,
          0.5584547570273045,
          0.5700849247430819,
          0.5321059391807906,
          0.5258379948682872,
          0.4707774849446947,
          0.4209284652016979,
          0.36300840411273455,
          0.34399159175593336,
          0.3772567151195203,
          0.4554702644457433,
          0.4737766922866751,
          0.44626006907148796,
          0.38845278923007,
          0.3075437811074902,
          0.25475043919995294,
          0.2468718644162175,
          0.25253239229547586,
          0.2813100710347424,
          0.29082549979562505,
          0.2532346524126561,
          0.2082919154697718,
          0.16282281089678494,
          0.13825180580352764,
          0.12114428084738027,
          0.12693181632598555,
          0.17155138123674238,
          0.19769571890912632,
          0.17898586195947364,
          0.14601750531492083,
          0.12596895722150506,
          0.15399970441348668,
          0.10819786314875014,
          0.033132761285305415,
          -0.027746843596704894,
          -0.03183202806384513,
          -0.02191738026215574,
          -0.01964102059555259,
          -0.02682774899424516,
          -0.007638875778458827,
          0.013050865910832047,
          0.036753226363256605,
          0.06325348847891088,
          0.05500051993543422,
          -0.006481106288068642,
          -0.08499049397796381,
          -0.1163187788308774,
          -0.1651230631068713,
          -0.28750554107088117,
          -0.41195580339378346,
          -0.5185042532098875,
          -0.5856988057899822,
          -0.6308159403682922,
          -0.625928981118656,
          -0.6447650530734513,
          -0.6496684212040058,
          -0.6709625794388532,
          -0.6741617754913063,
          -0.6811535587076591,
          -0.6312375663087703,
          -0.5895378672512264,
          -0.5736489968232836,
          -0.5296132784859885,
          -0.4520988925001984,
          -0.3395585614965638,
          -0.3373654679333301,
          -0.34738074405311464,
          -0.32994485258865713,
          -0.2839687195026838,
          -0.24949739996469092,
          -0.23749076845391534,
          -0.25868902435051333,
          -0.3315743461945402,
          -0.3872373884485053,
          -0.4073561575845924,
          -0.4575654279788815,
          -0.5219862952064197,
          -0.545950448731475,
          -0.5084139897529348,
          -0.46390911538792584,
          -0.46581493640529953,
          -0.3498100487287896,
          -0.2843958313608534,
          -0.2360933176154587,
          -0.21342811924541452,
          -0.20422775245946592,
          -0.21987127863791364,
          -0.2133712067520408,
          -0.18781643282040025,
          -0.15143123155640464,
          -0.10551604744507533,
          -0.09160814398968421,
          -0.11436374447355338,
          -0.1258183031013435,
          -0.11805487859142341,
          -0.11295289237796736,
          -0.1549735477606373,
          -0.2738816414381083,
          -0.35278650558172076,
          -0.45690889633671194,
          -0.5684810646408364,
          -0.6078628922350939,
          -0.5660817075828969,
          -0.4045486525118037,
          -0.2537765857816292,
          -0.18823192520873686,
          -0.1328060183211237,
          -0.09794741966948983,
          -0.06916269542038783,
          -0.03291018272349531,
          -0.01627905125842149,
          -0.014142543805570132,
          -0.04917510775708682,
          -0.0913954544399925,
          -0.12578189085134187,
          -0.16769054215455054,
          -0.2295707002283373,
          -0.2520267622449464,
          -0.24144418103102888,
          -0.17464913129604606,
          -0.1054587360877558,
          -0.035527935396224605,
          0.025310466886694753,
          0.07724208562917158,
          0.09938752251410002,
          0.1252722338165482,
          0.20713852578818673,
          0.22866851915511244,
          0.27160829375279816,
          0.3101850417953977,
          0.31213592933959494,
          0.26805618854325536,
          0.17698507633409546,
          0.10927307089523004,
          0.07569700449020815,
          0.0686051841438769,
          0.05587991932150769,
          0.04187424321940445,
          0.01948162371664567,
          -0.038142943680505255,
          -0.08315311556621276,
          -0.10064948770086735,
          -0.048187262014935964,
          0.00979609894142914,
          0.0761279783536178,
          0.1598990754602784,
          0.25854478214779825,
          0.3402782714698148,
          0.29675224378236853,
          0.23161122727972971,
          0.21435385152410874,
          0.2655458114495851,
          0.29393745544187877,
          0.32780761008433945,
          0.40656703595330834,
          0.46629966824675523,
          0.43708051396787545,
          0.3668176234894681,
          0.2957459294813954,
          0.22812964153845003,
          0.17000343575549764,
          0.06409807833338556,
          -0.02386708675749621,
          -0.06817504005860966,
          -0.059767661095556736,
          -0.024928760791623986
         ]
        }
       ],
       "layout": {
        "height": 1000,
        "scene": {
         "domain": {
          "x": [
           0,
           0.45
          ],
          "y": [
           0,
           1
          ]
         }
        },
        "scene2": {
         "domain": {
          "x": [
           0.55,
           1
          ],
          "y": [
           0,
           1
          ]
         }
        },
        "template": {
         "data": {
          "bar": [
           {
            "error_x": {
             "color": "#2a3f5f"
            },
            "error_y": {
             "color": "#2a3f5f"
            },
            "marker": {
             "line": {
              "color": "#E5ECF6",
              "width": 0.5
             }
            },
            "type": "bar"
           }
          ],
          "barpolar": [
           {
            "marker": {
             "line": {
              "color": "#E5ECF6",
              "width": 0.5
             }
            },
            "type": "barpolar"
           }
          ],
          "carpet": [
           {
            "aaxis": {
             "endlinecolor": "#2a3f5f",
             "gridcolor": "white",
             "linecolor": "white",
             "minorgridcolor": "white",
             "startlinecolor": "#2a3f5f"
            },
            "baxis": {
             "endlinecolor": "#2a3f5f",
             "gridcolor": "white",
             "linecolor": "white",
             "minorgridcolor": "white",
             "startlinecolor": "#2a3f5f"
            },
            "type": "carpet"
           }
          ],
          "choropleth": [
           {
            "colorbar": {
             "outlinewidth": 0,
             "ticks": ""
            },
            "type": "choropleth"
           }
          ],
          "contour": [
           {
            "colorbar": {
             "outlinewidth": 0,
             "ticks": ""
            },
            "colorscale": [
             [
              0,
              "#0d0887"
             ],
             [
              0.1111111111111111,
              "#46039f"
             ],
             [
              0.2222222222222222,
              "#7201a8"
             ],
             [
              0.3333333333333333,
              "#9c179e"
             ],
             [
              0.4444444444444444,
              "#bd3786"
             ],
             [
              0.5555555555555556,
              "#d8576b"
             ],
             [
              0.6666666666666666,
              "#ed7953"
             ],
             [
              0.7777777777777778,
              "#fb9f3a"
             ],
             [
              0.8888888888888888,
              "#fdca26"
             ],
             [
              1,
              "#f0f921"
             ]
            ],
            "type": "contour"
           }
          ],
          "contourcarpet": [
           {
            "colorbar": {
             "outlinewidth": 0,
             "ticks": ""
            },
            "type": "contourcarpet"
           }
          ],
          "heatmap": [
           {
            "colorbar": {
             "outlinewidth": 0,
             "ticks": ""
            },
            "colorscale": [
             [
              0,
              "#0d0887"
             ],
             [
              0.1111111111111111,
              "#46039f"
             ],
             [
              0.2222222222222222,
              "#7201a8"
             ],
             [
              0.3333333333333333,
              "#9c179e"
             ],
             [
              0.4444444444444444,
              "#bd3786"
             ],
             [
              0.5555555555555556,
              "#d8576b"
             ],
             [
              0.6666666666666666,
              "#ed7953"
             ],
             [
              0.7777777777777778,
              "#fb9f3a"
             ],
             [
              0.8888888888888888,
              "#fdca26"
             ],
             [
              1,
              "#f0f921"
             ]
            ],
            "type": "heatmap"
           }
          ],
          "heatmapgl": [
           {
            "colorbar": {
             "outlinewidth": 0,
             "ticks": ""
            },
            "colorscale": [
             [
              0,
              "#0d0887"
             ],
             [
              0.1111111111111111,
              "#46039f"
             ],
             [
              0.2222222222222222,
              "#7201a8"
             ],
             [
              0.3333333333333333,
              "#9c179e"
             ],
             [
              0.4444444444444444,
              "#bd3786"
             ],
             [
              0.5555555555555556,
              "#d8576b"
             ],
             [
              0.6666666666666666,
              "#ed7953"
             ],
             [
              0.7777777777777778,
              "#fb9f3a"
             ],
             [
              0.8888888888888888,
              "#fdca26"
             ],
             [
              1,
              "#f0f921"
             ]
            ],
            "type": "heatmapgl"
           }
          ],
          "histogram": [
           {
            "marker": {
             "colorbar": {
              "outlinewidth": 0,
              "ticks": ""
             }
            },
            "type": "histogram"
           }
          ],
          "histogram2d": [
           {
            "colorbar": {
             "outlinewidth": 0,
             "ticks": ""
            },
            "colorscale": [
             [
              0,
              "#0d0887"
             ],
             [
              0.1111111111111111,
              "#46039f"
             ],
             [
              0.2222222222222222,
              "#7201a8"
             ],
             [
              0.3333333333333333,
              "#9c179e"
             ],
             [
              0.4444444444444444,
              "#bd3786"
             ],
             [
              0.5555555555555556,
              "#d8576b"
             ],
             [
              0.6666666666666666,
              "#ed7953"
             ],
             [
              0.7777777777777778,
              "#fb9f3a"
             ],
             [
              0.8888888888888888,
              "#fdca26"
             ],
             [
              1,
              "#f0f921"
             ]
            ],
            "type": "histogram2d"
           }
          ],
          "histogram2dcontour": [
           {
            "colorbar": {
             "outlinewidth": 0,
             "ticks": ""
            },
            "colorscale": [
             [
              0,
              "#0d0887"
             ],
             [
              0.1111111111111111,
              "#46039f"
             ],
             [
              0.2222222222222222,
              "#7201a8"
             ],
             [
              0.3333333333333333,
              "#9c179e"
             ],
             [
              0.4444444444444444,
              "#bd3786"
             ],
             [
              0.5555555555555556,
              "#d8576b"
             ],
             [
              0.6666666666666666,
              "#ed7953"
             ],
             [
              0.7777777777777778,
              "#fb9f3a"
             ],
             [
              0.8888888888888888,
              "#fdca26"
             ],
             [
              1,
              "#f0f921"
             ]
            ],
            "type": "histogram2dcontour"
           }
          ],
          "mesh3d": [
           {
            "colorbar": {
             "outlinewidth": 0,
             "ticks": ""
            },
            "type": "mesh3d"
           }
          ],
          "parcoords": [
           {
            "line": {
             "colorbar": {
              "outlinewidth": 0,
              "ticks": ""
             }
            },
            "type": "parcoords"
           }
          ],
          "pie": [
           {
            "automargin": true,
            "type": "pie"
           }
          ],
          "scatter": [
           {
            "marker": {
             "colorbar": {
              "outlinewidth": 0,
              "ticks": ""
             }
            },
            "type": "scatter"
           }
          ],
          "scatter3d": [
           {
            "line": {
             "colorbar": {
              "outlinewidth": 0,
              "ticks": ""
             }
            },
            "marker": {
             "colorbar": {
              "outlinewidth": 0,
              "ticks": ""
             }
            },
            "type": "scatter3d"
           }
          ],
          "scattercarpet": [
           {
            "marker": {
             "colorbar": {
              "outlinewidth": 0,
              "ticks": ""
             }
            },
            "type": "scattercarpet"
           }
          ],
          "scattergeo": [
           {
            "marker": {
             "colorbar": {
              "outlinewidth": 0,
              "ticks": ""
             }
            },
            "type": "scattergeo"
           }
          ],
          "scattergl": [
           {
            "marker": {
             "colorbar": {
              "outlinewidth": 0,
              "ticks": ""
             }
            },
            "type": "scattergl"
           }
          ],
          "scattermapbox": [
           {
            "marker": {
             "colorbar": {
              "outlinewidth": 0,
              "ticks": ""
             }
            },
            "type": "scattermapbox"
           }
          ],
          "scatterpolar": [
           {
            "marker": {
             "colorbar": {
              "outlinewidth": 0,
              "ticks": ""
             }
            },
            "type": "scatterpolar"
           }
          ],
          "scatterpolargl": [
           {
            "marker": {
             "colorbar": {
              "outlinewidth": 0,
              "ticks": ""
             }
            },
            "type": "scatterpolargl"
           }
          ],
          "scatterternary": [
           {
            "marker": {
             "colorbar": {
              "outlinewidth": 0,
              "ticks": ""
             }
            },
            "type": "scatterternary"
           }
          ],
          "surface": [
           {
            "colorbar": {
             "outlinewidth": 0,
             "ticks": ""
            },
            "colorscale": [
             [
              0,
              "#0d0887"
             ],
             [
              0.1111111111111111,
              "#46039f"
             ],
             [
              0.2222222222222222,
              "#7201a8"
             ],
             [
              0.3333333333333333,
              "#9c179e"
             ],
             [
              0.4444444444444444,
              "#bd3786"
             ],
             [
              0.5555555555555556,
              "#d8576b"
             ],
             [
              0.6666666666666666,
              "#ed7953"
             ],
             [
              0.7777777777777778,
              "#fb9f3a"
             ],
             [
              0.8888888888888888,
              "#fdca26"
             ],
             [
              1,
              "#f0f921"
             ]
            ],
            "type": "surface"
           }
          ],
          "table": [
           {
            "cells": {
             "fill": {
              "color": "#EBF0F8"
             },
             "line": {
              "color": "white"
             }
            },
            "header": {
             "fill": {
              "color": "#C8D4E3"
             },
             "line": {
              "color": "white"
             }
            },
            "type": "table"
           }
          ]
         },
         "layout": {
          "annotationdefaults": {
           "arrowcolor": "#2a3f5f",
           "arrowhead": 0,
           "arrowwidth": 1
          },
          "autotypenumbers": "strict",
          "coloraxis": {
           "colorbar": {
            "outlinewidth": 0,
            "ticks": ""
           }
          },
          "colorscale": {
           "diverging": [
            [
             0,
             "#8e0152"
            ],
            [
             0.1,
             "#c51b7d"
            ],
            [
             0.2,
             "#de77ae"
            ],
            [
             0.3,
             "#f1b6da"
            ],
            [
             0.4,
             "#fde0ef"
            ],
            [
             0.5,
             "#f7f7f7"
            ],
            [
             0.6,
             "#e6f5d0"
            ],
            [
             0.7,
             "#b8e186"
            ],
            [
             0.8,
             "#7fbc41"
            ],
            [
             0.9,
             "#4d9221"
            ],
            [
             1,
             "#276419"
            ]
           ],
           "sequential": [
            [
             0,
             "#0d0887"
            ],
            [
             0.1111111111111111,
             "#46039f"
            ],
            [
             0.2222222222222222,
             "#7201a8"
            ],
            [
             0.3333333333333333,
             "#9c179e"
            ],
            [
             0.4444444444444444,
             "#bd3786"
            ],
            [
             0.5555555555555556,
             "#d8576b"
            ],
            [
             0.6666666666666666,
             "#ed7953"
            ],
            [
             0.7777777777777778,
             "#fb9f3a"
            ],
            [
             0.8888888888888888,
             "#fdca26"
            ],
            [
             1,
             "#f0f921"
            ]
           ],
           "sequentialminus": [
            [
             0,
             "#0d0887"
            ],
            [
             0.1111111111111111,
             "#46039f"
            ],
            [
             0.2222222222222222,
             "#7201a8"
            ],
            [
             0.3333333333333333,
             "#9c179e"
            ],
            [
             0.4444444444444444,
             "#bd3786"
            ],
            [
             0.5555555555555556,
             "#d8576b"
            ],
            [
             0.6666666666666666,
             "#ed7953"
            ],
            [
             0.7777777777777778,
             "#fb9f3a"
            ],
            [
             0.8888888888888888,
             "#fdca26"
            ],
            [
             1,
             "#f0f921"
            ]
           ]
          },
          "colorway": [
           "#636efa",
           "#EF553B",
           "#00cc96",
           "#ab63fa",
           "#FFA15A",
           "#19d3f3",
           "#FF6692",
           "#B6E880",
           "#FF97FF",
           "#FECB52"
          ],
          "font": {
           "color": "#2a3f5f"
          },
          "geo": {
           "bgcolor": "white",
           "lakecolor": "white",
           "landcolor": "#E5ECF6",
           "showlakes": true,
           "showland": true,
           "subunitcolor": "white"
          },
          "hoverlabel": {
           "align": "left"
          },
          "hovermode": "closest",
          "mapbox": {
           "style": "light"
          },
          "paper_bgcolor": "white",
          "plot_bgcolor": "#E5ECF6",
          "polar": {
           "angularaxis": {
            "gridcolor": "white",
            "linecolor": "white",
            "ticks": ""
           },
           "bgcolor": "#E5ECF6",
           "radialaxis": {
            "gridcolor": "white",
            "linecolor": "white",
            "ticks": ""
           }
          },
          "scene": {
           "xaxis": {
            "backgroundcolor": "#E5ECF6",
            "gridcolor": "white",
            "gridwidth": 2,
            "linecolor": "white",
            "showbackground": true,
            "ticks": "",
            "zerolinecolor": "white"
           },
           "yaxis": {
            "backgroundcolor": "#E5ECF6",
            "gridcolor": "white",
            "gridwidth": 2,
            "linecolor": "white",
            "showbackground": true,
            "ticks": "",
            "zerolinecolor": "white"
           },
           "zaxis": {
            "backgroundcolor": "#E5ECF6",
            "gridcolor": "white",
            "gridwidth": 2,
            "linecolor": "white",
            "showbackground": true,
            "ticks": "",
            "zerolinecolor": "white"
           }
          },
          "shapedefaults": {
           "line": {
            "color": "#2a3f5f"
           }
          },
          "ternary": {
           "aaxis": {
            "gridcolor": "white",
            "linecolor": "white",
            "ticks": ""
           },
           "baxis": {
            "gridcolor": "white",
            "linecolor": "white",
            "ticks": ""
           },
           "bgcolor": "#E5ECF6",
           "caxis": {
            "gridcolor": "white",
            "linecolor": "white",
            "ticks": ""
           }
          },
          "title": {
           "x": 0.05
          },
          "xaxis": {
           "automargin": true,
           "gridcolor": "white",
           "linecolor": "white",
           "ticks": "",
           "title": {
            "standoff": 15
           },
           "zerolinecolor": "white",
           "zerolinewidth": 2
          },
          "yaxis": {
           "automargin": true,
           "gridcolor": "white",
           "linecolor": "white",
           "ticks": "",
           "title": {
            "standoff": 15
           },
           "zerolinecolor": "white",
           "zerolinewidth": 2
          }
         }
        },
        "width": 1300
       }
      }
     },
     "metadata": {},
     "output_type": "display_data"
    },
    {
     "name": "stdout",
     "output_type": "stream",
     "text": [
      "Kabsch distance is 0.015115258930803096\n"
     ]
    },
    {
     "data": {
      "text/plain": [
       "<Figure size 50000x50000 with 0 Axes>"
      ]
     },
     "metadata": {},
     "output_type": "display_data"
    }
   ],
   "source": [
    "# Trussart perfect structure\n",
    "trussart_true_structure = np.mean(trussart_structures, axis=0)\n",
    "\n",
    "# Trussart predicted structure\n",
    "torch_trussart_hic = torch.FloatTensor(trussart_hic)\n",
    "torch_trussart_hic = torch.reshape(torch_trussart_hic, (1, NB_BINS, NB_BINS))\n",
    "torch_trussart_hic = torch.repeat_interleave(torch_trussart_hic, BATCH_SIZE, 0)\n",
    "\n",
    "trussart_pred_structure, trussart_pred_distance, trussart_pred_logits = model(torch_trussart_hic)\n",
    "trussart_pred_structure = trussart_pred_structure.detach().numpy()[0]\n",
    "\n",
    "# Superpose structure using Kabsch algorithm\n",
    "trussart_pred_structure_superposed, trussart_true_structure_superposed = \\\n",
    "        kabsch_superimposition_numpy(trussart_pred_structure, trussart_true_structure, EMBEDDING_SIZE)\n",
    "\n",
    "# Plot and compare the two structures\n",
    "x_pred = trussart_pred_structure_superposed[:, 0]  \n",
    "y_pred = trussart_pred_structure_superposed[:, 1]\n",
    "z_pred = trussart_pred_structure_superposed[:, 2]\n",
    "\n",
    "x_true = trussart_true_structure_superposed[:, 0]  \n",
    "y_true = trussart_true_structure_superposed[:, 1]\n",
    "z_true = trussart_true_structure_superposed[:, 2]\n",
    "\n",
    "colorscale1 = np.asarray(range(len(x_true)))\n",
    "colorscale2 = np.asarray(range(len(x_pred)))\n",
    "color1 = 'Viridis'\n",
    "color2 = 'Viridis'\n",
    "\n",
    "plot_true_pred_structures(x_pred, y_pred, z_pred, x_true, y_true, z_true, colorscale1, colorscale2, color1, color2)\n",
    "\n",
    "# Shape comparison\n",
    "print('Kabsch distance is ' + str(kabsch_distance_numpy(trussart_pred_structure, trussart_true_structure, EMBEDDING_SIZE)/3))"
   ]
  },
  {
   "cell_type": "code",
   "execution_count": 19,
   "metadata": {},
   "outputs": [],
   "source": [
    "np.savetxt('non_ae_synthetic_random_linear_trussart_test_structure_150.txt', trussart_pred_structure)"
   ]
  },
  {
   "cell_type": "code",
   "execution_count": null,
   "metadata": {},
   "outputs": [],
   "source": []
  }
 ],
 "metadata": {
  "kernelspec": {
   "display_name": "Python 3.8.15 64-bit ('blaenv')",
   "language": "python",
   "name": "python3"
  },
  "language_info": {
   "codemirror_mode": {
    "name": "ipython",
    "version": 3
   },
   "file_extension": ".py",
   "mimetype": "text/x-python",
   "name": "python",
   "nbconvert_exporter": "python",
   "pygments_lexer": "ipython3",
   "version": "3.8.15"
  },
  "orig_nbformat": 4,
  "vscode": {
   "interpreter": {
    "hash": "1332eaeb75df64c764d664ce90a83adb72db7bc35c8e71eb42235920a3fb9784"
   }
  }
 },
 "nbformat": 4,
 "nbformat_minor": 2
}
