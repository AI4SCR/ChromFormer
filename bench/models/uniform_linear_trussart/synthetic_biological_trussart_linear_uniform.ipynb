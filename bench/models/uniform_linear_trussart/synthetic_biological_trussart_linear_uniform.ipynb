{
 "cells": [
  {
   "cell_type": "code",
   "execution_count": 1,
   "metadata": {},
   "outputs": [],
   "source": [
    "%load_ext autoreload\n",
    "%autoreload 2"
   ]
  },
  {
   "cell_type": "code",
   "execution_count": 2,
   "metadata": {},
   "outputs": [],
   "source": [
    "import torch\n",
    "import random\n",
    "import numpy as np\n",
    "import os\n",
    "from torch_geometric.loader import DataLoader\n",
    "\n",
    "from ChromFormer.Data_Tools.Data_Access import get_data_from_path, VanillaDataset\n",
    "from ChromFormer.Data_Tools.Data_Plotting import plot_structure_in_sphere, plot_hic, plot_optimal_transport, plot_losses, plot_test_distance_matrix, plot_true_pred_structures, plot_hist_kabsch_distances\n",
    "from ChromFormer.Model.model import UniformLinear, train_uniform_linear, evaluate_uniform_linear\n",
    "from ChromFormer.Model.losses import compute_trussart_test_kabsch_loss, biological_loss_fct, kabsch_loss_fct\n",
    "from ChromFormer.Data_Tools.Data_Calculation import save_structure, import_trussart_data, kabsch_superimposition_numpy, kabsch_distance_numpy, make_gif\n",
    "\n",
    "\n",
    "NB_EPOCHS = 91\n",
    "SEED = 2\n",
    "BATCH_SIZE = 10\n",
    "NB_BINS = 202\n",
    "EMBEDDING_SIZE = 3\n",
    "LAMBDA_BIO = 0\n",
    "LAMBDA_KABSCH = 0\n",
    "\n",
    "device = torch.device('cuda' if torch.cuda.is_available() else 'cpu')\n",
    "torch.manual_seed(SEED)\n",
    "random.seed(SEED)\n",
    "np.random.seed(SEED)\n",
    "DATA_DIR = os.environ.get('DATA_DIR')\n",
    "DATA_PATH=f'{DATA_DIR}/biological_trussart_uniform'\n",
    "TRAIN_DATASET_SIZE = 800\n",
    "TEST_DATASET_SIZE = 200\n",
    "\n"
   ]
  },
  {
   "cell_type": "code",
   "execution_count": 3,
   "metadata": {},
   "outputs": [],
   "source": [
    "train_transfer_learning_hics, test_transfer_learning_hics, train_transfer_learning_structures, test_transfer_learning_structures, train_transfer_learning_distances, test_transfer_learning_distances = get_data_from_path(DATA_PATH)\n"
   ]
  },
  {
   "cell_type": "code",
   "execution_count": 4,
   "metadata": {},
   "outputs": [
    {
     "name": "stdout",
     "output_type": "stream",
     "text": [
      "800\n"
     ]
    }
   ],
   "source": [
    "train_dataset = VanillaDataset(root = '', is_training = True, dataset_size = TRAIN_DATASET_SIZE, hics = train_transfer_learning_hics, structures = train_transfer_learning_structures, distances = train_transfer_learning_distances)\n",
    "train_dataset = train_dataset.shuffle()\n",
    "train_size = len(train_dataset)\n",
    "print(train_size)\n",
    "train_loader = DataLoader(train_dataset, batch_size=BATCH_SIZE)"
   ]
  },
  {
   "cell_type": "code",
   "execution_count": 5,
   "metadata": {},
   "outputs": [
    {
     "name": "stdout",
     "output_type": "stream",
     "text": [
      "200\n"
     ]
    }
   ],
   "source": [
    "test_dataset = VanillaDataset(root = '', is_training = False, dataset_size = TEST_DATASET_SIZE, hics = test_transfer_learning_hics, structures = test_transfer_learning_structures, distances = test_transfer_learning_distances)\n",
    "test_dataset = test_dataset.shuffle()\n",
    "test_size = len(test_dataset)\n",
    "print(test_size)\n",
    "test_loader = DataLoader(test_dataset, batch_size=BATCH_SIZE)"
   ]
  },
  {
   "cell_type": "code",
   "execution_count": null,
   "metadata": {},
   "outputs": [],
   "source": []
  },
  {
   "cell_type": "code",
   "execution_count": 6,
   "metadata": {},
   "outputs": [],
   "source": [
    "trussart_hic, trussart_structures = import_trussart_data(DATA_DIR)"
   ]
  },
  {
   "cell_type": "code",
   "execution_count": 7,
   "metadata": {},
   "outputs": [],
   "source": [
    "distance_loss_fct = torch.nn.MSELoss()"
   ]
  },
  {
   "cell_type": "code",
   "execution_count": 8,
   "metadata": {},
   "outputs": [],
   "source": [
    "device = torch.device('cpu')\n",
    "model = UniformLinear(NB_BINS, EMBEDDING_SIZE, BATCH_SIZE).to(device)\n",
    "optimizer = torch.optim.Adam(model.parameters(), lr=0.001)"
   ]
  },
  {
   "cell_type": "code",
   "execution_count": 9,
   "metadata": {},
   "outputs": [
    {
     "name": "stdout",
     "output_type": "stream",
     "text": [
      "E: 001, Tr B: 0.0537, Tr K: 0.1263, Tr D: 0.0454, Te B: 0.0545, Te K: 0.1261, Te D: 0.0452, Trus: 0.0903\n",
      "E: 002, Tr B: 0.0534, Tr K: 0.1167, Tr D: 0.0372, Te B: 0.0535, Te K: 0.1159, Te D: 0.0376, Trus: 0.0730\n",
      "E: 003, Tr B: 0.0530, Tr K: 0.1081, Tr D: 0.0327, Te B: 0.0532, Te K: 0.1069, Te D: 0.0331, Trus: 0.0488\n",
      "E: 004, Tr B: 0.0526, Tr K: 0.1078, Tr D: 0.0305, Te B: 0.0530, Te K: 0.1072, Te D: 0.0308, Trus: 0.0356\n",
      "E: 005, Tr B: 0.0524, Tr K: 0.1049, Tr D: 0.0279, Te B: 0.0529, Te K: 0.1042, Te D: 0.0282, Trus: 0.0345\n",
      "E: 006, Tr B: 0.0523, Tr K: 0.1022, Tr D: 0.0270, Te B: 0.0528, Te K: 0.1006, Te D: 0.0272, Trus: 0.0352\n",
      "E: 007, Tr B: 0.0522, Tr K: 0.1016, Tr D: 0.0259, Te B: 0.0528, Te K: 0.0999, Te D: 0.0262, Trus: 0.0355\n",
      "E: 008, Tr B: 0.0522, Tr K: 0.0985, Tr D: 0.0247, Te B: 0.0526, Te K: 0.0971, Te D: 0.0250, Trus: 0.0338\n",
      "E: 009, Tr B: 0.0521, Tr K: 0.0986, Tr D: 0.0250, Te B: 0.0528, Te K: 0.0970, Te D: 0.0253, Trus: 0.0353\n",
      "E: 010, Tr B: 0.0520, Tr K: 0.0975, Tr D: 0.0244, Te B: 0.0525, Te K: 0.0962, Te D: 0.0249, Trus: 0.0316\n",
      "E: 011, Tr B: 0.0521, Tr K: 0.0965, Tr D: 0.0237, Te B: 0.0526, Te K: 0.0945, Te D: 0.0241, Trus: 0.0304\n",
      "E: 012, Tr B: 0.0520, Tr K: 0.0956, Tr D: 0.0229, Te B: 0.0525, Te K: 0.0945, Te D: 0.0235, Trus: 0.0335\n",
      "E: 013, Tr B: 0.0520, Tr K: 0.0948, Tr D: 0.0227, Te B: 0.0524, Te K: 0.0938, Te D: 0.0231, Trus: 0.0274\n",
      "E: 014, Tr B: 0.0519, Tr K: 0.0946, Tr D: 0.0221, Te B: 0.0524, Te K: 0.0934, Te D: 0.0226, Trus: 0.0303\n",
      "E: 015, Tr B: 0.0518, Tr K: 0.0940, Tr D: 0.0220, Te B: 0.0522, Te K: 0.0925, Te D: 0.0226, Trus: 0.0305\n",
      "E: 016, Tr B: 0.0518, Tr K: 0.0936, Tr D: 0.0210, Te B: 0.0523, Te K: 0.0924, Te D: 0.0216, Trus: 0.0274\n",
      "E: 017, Tr B: 0.0520, Tr K: 0.0932, Tr D: 0.0224, Te B: 0.0524, Te K: 0.0920, Te D: 0.0225, Trus: 0.0296\n",
      "E: 018, Tr B: 0.0517, Tr K: 0.0930, Tr D: 0.0225, Te B: 0.0523, Te K: 0.0917, Te D: 0.0230, Trus: 0.0296\n",
      "E: 019, Tr B: 0.0517, Tr K: 0.0925, Tr D: 0.0209, Te B: 0.0522, Te K: 0.0908, Te D: 0.0212, Trus: 0.0291\n",
      "E: 020, Tr B: 0.0518, Tr K: 0.0928, Tr D: 0.0205, Te B: 0.0522, Te K: 0.0914, Te D: 0.0215, Trus: 0.0333\n",
      "E: 021, Tr B: 0.0519, Tr K: 0.0911, Tr D: 0.0200, Te B: 0.0521, Te K: 0.0895, Te D: 0.0206, Trus: 0.0289\n",
      "E: 022, Tr B: 0.0518, Tr K: 0.0915, Tr D: 0.0200, Te B: 0.0522, Te K: 0.0898, Te D: 0.0204, Trus: 0.0318\n",
      "E: 023, Tr B: 0.0517, Tr K: 0.0912, Tr D: 0.0202, Te B: 0.0521, Te K: 0.0902, Te D: 0.0208, Trus: 0.0288\n",
      "E: 024, Tr B: 0.0518, Tr K: 0.0914, Tr D: 0.0193, Te B: 0.0523, Te K: 0.0904, Te D: 0.0198, Trus: 0.0322\n",
      "E: 025, Tr B: 0.0516, Tr K: 0.0931, Tr D: 0.0195, Te B: 0.0521, Te K: 0.0919, Te D: 0.0199, Trus: 0.0266\n",
      "E: 026, Tr B: 0.0517, Tr K: 0.0920, Tr D: 0.0192, Te B: 0.0521, Te K: 0.0905, Te D: 0.0194, Trus: 0.0289\n",
      "E: 027, Tr B: 0.0516, Tr K: 0.0922, Tr D: 0.0195, Te B: 0.0522, Te K: 0.0910, Te D: 0.0199, Trus: 0.0282\n",
      "E: 028, Tr B: 0.0516, Tr K: 0.0916, Tr D: 0.0184, Te B: 0.0522, Te K: 0.0900, Te D: 0.0188, Trus: 0.0276\n",
      "E: 029, Tr B: 0.0516, Tr K: 0.0925, Tr D: 0.0182, Te B: 0.0521, Te K: 0.0904, Te D: 0.0183, Trus: 0.0289\n",
      "E: 030, Tr B: 0.0516, Tr K: 0.0912, Tr D: 0.0183, Te B: 0.0522, Te K: 0.0895, Te D: 0.0186, Trus: 0.0271\n",
      "E: 031, Tr B: 0.0516, Tr K: 0.0910, Tr D: 0.0178, Te B: 0.0521, Te K: 0.0893, Te D: 0.0180, Trus: 0.0260\n",
      "E: 032, Tr B: 0.0516, Tr K: 0.0909, Tr D: 0.0179, Te B: 0.0522, Te K: 0.0895, Te D: 0.0182, Trus: 0.0283\n",
      "E: 033, Tr B: 0.0516, Tr K: 0.0921, Tr D: 0.0182, Te B: 0.0522, Te K: 0.0908, Te D: 0.0186, Trus: 0.0310\n",
      "E: 034, Tr B: 0.0515, Tr K: 0.0909, Tr D: 0.0183, Te B: 0.0520, Te K: 0.0892, Te D: 0.0187, Trus: 0.0272\n",
      "E: 035, Tr B: 0.0516, Tr K: 0.0916, Tr D: 0.0172, Te B: 0.0522, Te K: 0.0900, Te D: 0.0175, Trus: 0.0281\n",
      "E: 036, Tr B: 0.0515, Tr K: 0.0903, Tr D: 0.0174, Te B: 0.0522, Te K: 0.0883, Te D: 0.0177, Trus: 0.0268\n",
      "E: 037, Tr B: 0.0516, Tr K: 0.0914, Tr D: 0.0176, Te B: 0.0522, Te K: 0.0895, Te D: 0.0180, Trus: 0.0336\n",
      "E: 038, Tr B: 0.0514, Tr K: 0.0918, Tr D: 0.0179, Te B: 0.0522, Te K: 0.0900, Te D: 0.0182, Trus: 0.0329\n",
      "E: 039, Tr B: 0.0516, Tr K: 0.0910, Tr D: 0.0173, Te B: 0.0522, Te K: 0.0888, Te D: 0.0174, Trus: 0.0263\n",
      "E: 040, Tr B: 0.0515, Tr K: 0.0911, Tr D: 0.0171, Te B: 0.0522, Te K: 0.0887, Te D: 0.0174, Trus: 0.0282\n",
      "E: 041, Tr B: 0.0516, Tr K: 0.0911, Tr D: 0.0172, Te B: 0.0523, Te K: 0.0887, Te D: 0.0174, Trus: 0.0279\n",
      "E: 042, Tr B: 0.0515, Tr K: 0.0904, Tr D: 0.0170, Te B: 0.0523, Te K: 0.0880, Te D: 0.0170, Trus: 0.0282\n",
      "E: 043, Tr B: 0.0515, Tr K: 0.0904, Tr D: 0.0177, Te B: 0.0522, Te K: 0.0882, Te D: 0.0181, Trus: 0.0329\n",
      "E: 044, Tr B: 0.0515, Tr K: 0.0906, Tr D: 0.0171, Te B: 0.0521, Te K: 0.0884, Te D: 0.0172, Trus: 0.0325\n",
      "E: 045, Tr B: 0.0514, Tr K: 0.0902, Tr D: 0.0172, Te B: 0.0522, Te K: 0.0878, Te D: 0.0172, Trus: 0.0307\n",
      "E: 046, Tr B: 0.0514, Tr K: 0.0913, Tr D: 0.0194, Te B: 0.0520, Te K: 0.0891, Te D: 0.0197, Trus: 0.0289\n",
      "E: 047, Tr B: 0.0516, Tr K: 0.0917, Tr D: 0.0180, Te B: 0.0523, Te K: 0.0896, Te D: 0.0185, Trus: 0.0313\n",
      "E: 048, Tr B: 0.0515, Tr K: 0.0910, Tr D: 0.0173, Te B: 0.0523, Te K: 0.0888, Te D: 0.0174, Trus: 0.0310\n",
      "E: 049, Tr B: 0.0515, Tr K: 0.0902, Tr D: 0.0165, Te B: 0.0524, Te K: 0.0884, Te D: 0.0167, Trus: 0.0318\n",
      "E: 050, Tr B: 0.0515, Tr K: 0.0907, Tr D: 0.0167, Te B: 0.0523, Te K: 0.0882, Te D: 0.0168, Trus: 0.0315\n",
      "E: 051, Tr B: 0.0514, Tr K: 0.0902, Tr D: 0.0168, Te B: 0.0525, Te K: 0.0880, Te D: 0.0169, Trus: 0.0305\n",
      "E: 052, Tr B: 0.0515, Tr K: 0.0895, Tr D: 0.0168, Te B: 0.0523, Te K: 0.0871, Te D: 0.0170, Trus: 0.0344\n",
      "E: 053, Tr B: 0.0515, Tr K: 0.0886, Tr D: 0.0174, Te B: 0.0522, Te K: 0.0864, Te D: 0.0176, Trus: 0.0310\n",
      "E: 054, Tr B: 0.0515, Tr K: 0.0895, Tr D: 0.0169, Te B: 0.0524, Te K: 0.0873, Te D: 0.0171, Trus: 0.0293\n",
      "E: 055, Tr B: 0.0515, Tr K: 0.0912, Tr D: 0.0181, Te B: 0.0523, Te K: 0.0890, Te D: 0.0184, Trus: 0.0305\n",
      "E: 056, Tr B: 0.0514, Tr K: 0.0899, Tr D: 0.0163, Te B: 0.0524, Te K: 0.0877, Te D: 0.0164, Trus: 0.0286\n",
      "E: 057, Tr B: 0.0516, Tr K: 0.0893, Tr D: 0.0167, Te B: 0.0523, Te K: 0.0868, Te D: 0.0167, Trus: 0.0293\n",
      "E: 058, Tr B: 0.0515, Tr K: 0.0893, Tr D: 0.0167, Te B: 0.0525, Te K: 0.0875, Te D: 0.0168, Trus: 0.0285\n",
      "E: 059, Tr B: 0.0515, Tr K: 0.0892, Tr D: 0.0171, Te B: 0.0523, Te K: 0.0873, Te D: 0.0172, Trus: 0.0289\n",
      "E: 060, Tr B: 0.0515, Tr K: 0.0900, Tr D: 0.0172, Te B: 0.0523, Te K: 0.0881, Te D: 0.0172, Trus: 0.0303\n",
      "E: 061, Tr B: 0.0514, Tr K: 0.0893, Tr D: 0.0168, Te B: 0.0522, Te K: 0.0875, Te D: 0.0167, Trus: 0.0278\n",
      "E: 062, Tr B: 0.0515, Tr K: 0.0897, Tr D: 0.0169, Te B: 0.0521, Te K: 0.0881, Te D: 0.0169, Trus: 0.0289\n",
      "E: 063, Tr B: 0.0515, Tr K: 0.0887, Tr D: 0.0172, Te B: 0.0522, Te K: 0.0873, Te D: 0.0173, Trus: 0.0276\n",
      "E: 064, Tr B: 0.0514, Tr K: 0.0897, Tr D: 0.0182, Te B: 0.0523, Te K: 0.0884, Te D: 0.0181, Trus: 0.0288\n",
      "E: 065, Tr B: 0.0515, Tr K: 0.0898, Tr D: 0.0162, Te B: 0.0523, Te K: 0.0882, Te D: 0.0161, Trus: 0.0287\n",
      "E: 066, Tr B: 0.0514, Tr K: 0.0893, Tr D: 0.0158, Te B: 0.0523, Te K: 0.0877, Te D: 0.0158, Trus: 0.0277\n",
      "E: 067, Tr B: 0.0514, Tr K: 0.0899, Tr D: 0.0159, Te B: 0.0522, Te K: 0.0880, Te D: 0.0159, Trus: 0.0278\n",
      "E: 068, Tr B: 0.0514, Tr K: 0.0901, Tr D: 0.0160, Te B: 0.0522, Te K: 0.0882, Te D: 0.0161, Trus: 0.0298\n",
      "E: 069, Tr B: 0.0513, Tr K: 0.0896, Tr D: 0.0159, Te B: 0.0521, Te K: 0.0882, Te D: 0.0159, Trus: 0.0284\n",
      "E: 070, Tr B: 0.0514, Tr K: 0.0891, Tr D: 0.0154, Te B: 0.0522, Te K: 0.0872, Te D: 0.0154, Trus: 0.0279\n",
      "E: 071, Tr B: 0.0515, Tr K: 0.0884, Tr D: 0.0157, Te B: 0.0522, Te K: 0.0870, Te D: 0.0158, Trus: 0.0281\n",
      "E: 072, Tr B: 0.0514, Tr K: 0.0894, Tr D: 0.0151, Te B: 0.0523, Te K: 0.0877, Te D: 0.0152, Trus: 0.0261\n",
      "E: 073, Tr B: 0.0513, Tr K: 0.0886, Tr D: 0.0153, Te B: 0.0522, Te K: 0.0871, Te D: 0.0154, Trus: 0.0271\n",
      "E: 074, Tr B: 0.0515, Tr K: 0.0891, Tr D: 0.0151, Te B: 0.0524, Te K: 0.0874, Te D: 0.0152, Trus: 0.0274\n",
      "E: 075, Tr B: 0.0515, Tr K: 0.0905, Tr D: 0.0156, Te B: 0.0522, Te K: 0.0883, Te D: 0.0156, Trus: 0.0296\n",
      "E: 076, Tr B: 0.0514, Tr K: 0.0896, Tr D: 0.0152, Te B: 0.0523, Te K: 0.0878, Te D: 0.0153, Trus: 0.0259\n",
      "E: 077, Tr B: 0.0514, Tr K: 0.0890, Tr D: 0.0161, Te B: 0.0521, Te K: 0.0877, Te D: 0.0163, Trus: 0.0273\n",
      "E: 078, Tr B: 0.0513, Tr K: 0.0888, Tr D: 0.0154, Te B: 0.0521, Te K: 0.0871, Te D: 0.0156, Trus: 0.0263\n",
      "E: 079, Tr B: 0.0514, Tr K: 0.0885, Tr D: 0.0150, Te B: 0.0521, Te K: 0.0869, Te D: 0.0152, Trus: 0.0308\n",
      "E: 080, Tr B: 0.0514, Tr K: 0.0895, Tr D: 0.0153, Te B: 0.0522, Te K: 0.0878, Te D: 0.0154, Trus: 0.0284\n",
      "E: 081, Tr B: 0.0515, Tr K: 0.0892, Tr D: 0.0150, Te B: 0.0522, Te K: 0.0872, Te D: 0.0150, Trus: 0.0286\n",
      "E: 082, Tr B: 0.0514, Tr K: 0.0893, Tr D: 0.0150, Te B: 0.0522, Te K: 0.0870, Te D: 0.0151, Trus: 0.0285\n",
      "E: 083, Tr B: 0.0515, Tr K: 0.0879, Tr D: 0.0159, Te B: 0.0524, Te K: 0.0856, Te D: 0.0160, Trus: 0.0325\n",
      "E: 084, Tr B: 0.0513, Tr K: 0.0882, Tr D: 0.0167, Te B: 0.0520, Te K: 0.0861, Te D: 0.0169, Trus: 0.0361\n",
      "E: 085, Tr B: 0.0513, Tr K: 0.0888, Tr D: 0.0157, Te B: 0.0522, Te K: 0.0874, Te D: 0.0159, Trus: 0.0285\n",
      "E: 086, Tr B: 0.0513, Tr K: 0.0898, Tr D: 0.0154, Te B: 0.0521, Te K: 0.0885, Te D: 0.0156, Trus: 0.0289\n",
      "E: 087, Tr B: 0.0515, Tr K: 0.0902, Tr D: 0.0153, Te B: 0.0523, Te K: 0.0881, Te D: 0.0155, Trus: 0.0270\n",
      "E: 088, Tr B: 0.0514, Tr K: 0.0896, Tr D: 0.0156, Te B: 0.0522, Te K: 0.0876, Te D: 0.0157, Trus: 0.0284\n",
      "E: 089, Tr B: 0.0514, Tr K: 0.0888, Tr D: 0.0154, Te B: 0.0522, Te K: 0.0868, Te D: 0.0155, Trus: 0.0320\n",
      "E: 090, Tr B: 0.0514, Tr K: 0.0904, Tr D: 0.0164, Te B: 0.0522, Te K: 0.0889, Te D: 0.0168, Trus: 0.0286\n",
      "E: 091, Tr B: 0.0515, Tr K: 0.0896, Tr D: 0.0151, Te B: 0.0522, Te K: 0.0881, Te D: 0.0152, Trus: 0.0244\n"
     ]
    }
   ],
   "source": [
    "\n",
    "\n",
    "train_biological_losses_all_epochs = []\n",
    "train_kabsch_losses_all_epochs = []\n",
    "train_distance_losses_all_epochs = []\n",
    "\n",
    "test_biological_losses_all_epochs = []\n",
    "test_kabsch_losses_all_epochs = []\n",
    "test_distance_losses_all_epochs = []\n",
    "\n",
    "losses = []\n",
    "\n",
    "trussart_test_kabsch_losses_all_epochs = []\n",
    "\n",
    "for epoch in range(1, NB_EPOCHS+1):\n",
    "\n",
    "    loss = train_uniform_linear(model, train_loader, train_dataset, optimizer, device, BATCH_SIZE,  NB_BINS, EMBEDDING_SIZE, LAMBDA_BIO, LAMBDA_KABSCH, distance_loss_fct)\n",
    "    losses.append(loss)\n",
    "    \n",
    "    ### Training\n",
    "    train_mean_biological_loss, train_mean_kabsch_loss, train_mean_distance_loss, train_true_hics, \\\n",
    "        train_pred_structures, train_true_structures, train_pred_distances, \\\n",
    "            train_true_distances = evaluate_uniform_linear(train_loader, model, device, BATCH_SIZE, NB_BINS, EMBEDDING_SIZE, distance_loss_fct) \n",
    "    \n",
    "    # Store results\n",
    "    train_biological_losses_all_epochs.append(train_mean_biological_loss)\n",
    "    train_kabsch_losses_all_epochs.append(train_mean_kabsch_loss)    \n",
    "    train_distance_losses_all_epochs.append(train_mean_distance_loss)\n",
    "    \n",
    "    ### Testing\n",
    "    test_mean_biological_loss, test_mean_kabsch_loss, test_mean_distance_loss, test_true_hics, \\\n",
    "        test_pred_structures, test_true_structures, test_pred_distances, \\\n",
    "            test_true_distances = evaluate_uniform_linear(test_loader, model, device, BATCH_SIZE, NB_BINS, EMBEDDING_SIZE, distance_loss_fct)\n",
    "    \n",
    "    ### Trussart test\n",
    "    trussart_test_kabsch_loss = compute_trussart_test_kabsch_loss(trussart_hic, trussart_structures, model, NB_BINS, BATCH_SIZE, EMBEDDING_SIZE)\n",
    "    save_structure(model, epoch, trussart_structures, trussart_hic, NB_BINS, BATCH_SIZE, EMBEDDING_SIZE)\n",
    "    # Store results\n",
    "    test_biological_losses_all_epochs.append(test_mean_biological_loss)\n",
    "    test_kabsch_losses_all_epochs.append(test_mean_kabsch_loss)    \n",
    "    test_distance_losses_all_epochs.append(test_mean_distance_loss)\n",
    "    \n",
    "    trussart_test_kabsch_losses_all_epochs.append(trussart_test_kabsch_loss)\n",
    "    \n",
    "    print('E: {:03d}, Tr B: {:.4f}, Tr K: {:.4f}, Tr D: {:.4f}, Te B: {:.4f}, Te K: {:.4f}, Te D: {:.4f}, Trus: {:.4f}'.format(\\\n",
    "        epoch, train_mean_biological_loss, train_mean_kabsch_loss, train_mean_distance_loss, \\\n",
    "            test_mean_biological_loss, test_mean_kabsch_loss, test_mean_distance_loss, trussart_test_kabsch_loss))"
   ]
  },
  {
   "cell_type": "code",
   "execution_count": 10,
   "metadata": {},
   "outputs": [
    {
     "name": "stdout",
     "output_type": "stream",
     "text": [
      "90\n"
     ]
    }
   ],
   "source": [
    "print(np.argmin(trussart_test_kabsch_losses_all_epochs))"
   ]
  },
  {
   "cell_type": "code",
   "execution_count": 11,
   "metadata": {},
   "outputs": [
    {
     "data": {
      "image/png": "[encoded data removed]",
      "text/plain": [
       "<Figure size 1000x1000 with 4 Axes>"
      ]
     },
     "metadata": {},
     "output_type": "display_data"
    }
   ],
   "source": [
    "plot_losses(losses, train_biological_losses_all_epochs, test_biological_losses_all_epochs, train_kabsch_losses_all_epochs, test_kabsch_losses_all_epochs, trussart_test_kabsch_losses_all_epochs, train_distance_losses_all_epochs, test_distance_losses_all_epochs)\n"
   ]
  },
  {
   "cell_type": "code",
   "execution_count": 12,
   "metadata": {},
   "outputs": [],
   "source": [
    "GRAPH_TESTED = 0"
   ]
  },
  {
   "cell_type": "code",
   "execution_count": 13,
   "metadata": {},
   "outputs": [
    {
     "data": {
      "image/png": "[encoded data removed]",
      "text/plain": [
       "<Figure size 1500x1500 with 2 Axes>"
      ]
     },
     "metadata": {},
     "output_type": "display_data"
    }
   ],
   "source": [
    "ground_truth_matrix = test_true_distances[GRAPH_TESTED*NB_BINS:GRAPH_TESTED*NB_BINS+NB_BINS, :]\n",
    "reconstruction_matrix = test_pred_distances[GRAPH_TESTED*NB_BINS:GRAPH_TESTED*NB_BINS+NB_BINS, :]\n",
    "plot_test_distance_matrix(ground_truth_matrix, reconstruction_matrix)"
   ]
  },
  {
   "cell_type": "code",
   "execution_count": 14,
   "metadata": {},
   "outputs": [
    {
     "data": {
      "application/vnd.plotly.v1+json": {
       "config": {
        "plotlyServerURL": "https://plot.ly"
       },
       "data": [
        {
         "line": {
          "color": "darkblue",
          "width": 2
         },
         "marker": {
          "color": [
           0,
           1,
           2,
           3,
           4,
           5,
           6,
           7,
           8,
           9,
           10,
           11,
           12,
           13,
           14,
           15,
           16,
           17,
           18,
           19,
           20,
           21,
           22,
           23,
           24,
           25,
           26,
           27,
           28,
           29,
           30,
           31,
           32,
           33,
           34,
           35,
           36,
           37,
           38,
           39,
           40,
           41,
           42,
           43,
           44,
           45,
           46,
           47,
           48,
           49,
           50,
           51,
           52,
           53,
           54,
           55,
           56,
           57,
           58,
           59,
           60,
           61,
           62,
           63,
           64,
           65,
           66,
           67,
           68,
           69,
           70,
           71,
           72,
           73,
           74,
           75,
           76,
           77,
           78,
           79,
           80,
           81,
           82,
           83,
           84,
           85,
           86,
           87,
           88,
           89,
           90,
           91,
           92,
           93,
           94,
           95,
           96,
           97,
           98,
           99,
           100,
           101,
           102,
           103,
           104,
           105,
           106,
           107,
           108,
           109,
           110,
           111,
           112,
           113,
           114,
           115,
           116,
           117,
           118,
           119,
           120,
           121,
           122,
           123,
           124,
           125,
           126,
           127,
           128,
           129,
           130,
           131,
           132,
           133,
           134,
           135,
           136,
           137,
           138,
           139,
           140,
           141,
           142,
           143,
           144,
           145,
           146,
           147,
           148,
           149,
           150,
           151,
           152,
           153,
           154,
           155,
           156,
           157,
           158,
           159,
           160,
           161,
           162,
           163,
           164,
           165,
           166,
           167,
           168,
           169,
           170,
           171,
           172,
           173,
           174,
           175,
           176,
           177,
           178,
           179,
           180,
           181,
           182,
           183,
           184,
           185,
           186,
           187,
           188,
           189,
           190,
           191,
           192,
           193,
           194,
           195,
           196,
           197,
           198,
           199,
           200,
           201
          ],
          "colorscale": [
           [
            0,
            "#440154"
           ],
           [
            0.1111111111111111,
            "#482878"
           ],
           [
            0.2222222222222222,
            "#3e4989"
           ],
           [
            0.3333333333333333,
            "#31688e"
           ],
           [
            0.4444444444444444,
            "#26828e"
           ],
           [
            0.5555555555555556,
            "#1f9e89"
           ],
           [
            0.6666666666666666,
            "#35b779"
           ],
           [
            0.7777777777777778,
            "#6ece58"
           ],
           [
            0.8888888888888888,
            "#b5de2b"
           ],
           [
            1,
            "#fde725"
           ]
          ],
          "size": 4
         },
         "scene": "scene",
         "type": "scatter3d",
         "x": [
          -0.2440069615840912,
          -0.24971476197242737,
          -0.22575637698173523,
          -0.15791219472885132,
          -0.08745020627975464,
          -0.049672577530145645,
          0.0048335217870771885,
          0.07794509828090668,
          0.16472990810871124,
          0.19864165782928467,
          0.21473927795886993,
          0.20827771723270416,
          0.14475859701633453,
          0.1551104038953781,
          0.1762247532606125,
          0.22440983355045319,
          0.30880722403526306,
          0.36295080184936523,
          0.4123528003692627,
          0.3459973633289337,
          0.37527990341186523,
          0.3458091616630554,
          0.27922630310058594,
          0.1936168223619461,
          0.19977793097496033,
          0.2006254345178604,
          0.14676856994628906,
          0.14506903290748596,
          0.2144513577222824,
          0.2916596233844757,
          0.3860745131969452,
          0.47437942028045654,
          0.506697416305542,
          0.5739186406135559,
          0.5790305137634277,
          0.5807982087135315,
          0.5265365839004517,
          0.526723325252533,
          0.5156735777854919,
          0.5548375248908997,
          0.6204276084899902,
          0.6039999723434448,
          0.6261360049247742,
          0.5974709391593933,
          0.5731455087661743,
          0.5110703110694885,
          0.4483693540096283,
          0.4527043402194977,
          0.4617798626422882,
          0.5348901152610779,
          0.5697596073150635,
          0.5401798486709595,
          0.5976337194442749,
          0.592781126499176,
          0.5699869394302368,
          0.5085241794586182,
          0.4386388659477234,
          0.41428476572036743,
          0.35188519954681396,
          0.30985668301582336,
          0.22810623049736023,
          0.18999913334846497,
          0.129010871052742,
          0.03734329715371132,
          -0.03208591416478157,
          -0.1267559975385666,
          -0.19279946386814117,
          -0.2609157860279083,
          -0.26877954602241516,
          -0.28324568271636963,
          -0.23603588342666626,
          -0.24178695678710938,
          -0.24487696588039398,
          -0.30190324783325195,
          -0.32476457953453064,
          -0.3164939880371094,
          -0.35793542861938477,
          -0.3601352870464325,
          -0.29100146889686584,
          -0.20453687012195587,
          -0.13703635334968567,
          -0.11197444051504135,
          -0.0772058442234993,
          -0.10006636381149292,
          -0.16155819594860077,
          -0.2164326161146164,
          -0.2933965027332306,
          -0.2784481644630432,
          -0.3106202781200409,
          -0.27931416034698486,
          -0.223647803068161,
          -0.14922212064266205,
          -0.09181984513998032,
          -0.036574676632881165,
          0.05599220097064972,
          0.11640752851963043,
          0.09570477157831192,
          0.021028202027082443,
          -0.06065317615866661,
          -0.13030554354190826,
          -0.20348311960697174,
          -0.2671099007129669,
          -0.3563912510871887,
          -0.37310904264450073,
          -0.33926478028297424,
          -0.2815711796283722,
          -0.20161055028438568,
          -0.16136164963245392,
          -0.07828834652900696,
          -0.021052978932857513,
          0.06852812319993973,
          0.06896185129880905,
          0.11924310028553009,
          0.10204870253801346,
          0.1236826702952385,
          0.10976966470479965,
          0.07247344404459,
          -0.015056595206260681,
          -0.09458232671022415,
          -0.16535194218158722,
          -0.23915058374404907,
          -0.33015719056129456,
          -0.3898787498474121,
          -0.37859952449798584,
          -0.3249819278717041,
          -0.3202285170555115,
          -0.2969417870044708,
          -0.22935791313648224,
          -0.21614058315753937,
          -0.25661301612854004,
          -0.24895864725112915,
          -0.25039032101631165,
          -0.27420639991760254,
          -0.27032002806663513,
          -0.25228187441825867,
          -0.20092879235744476,
          -0.18835845589637756,
          -0.12387977540493011,
          -0.12169896811246872,
          -0.15629711747169495,
          -0.196954607963562,
          -0.15700657665729523,
          -0.10517062246799469,
          -0.034681688994169235,
          0.05168091133236885,
          0.09526681900024414,
          0.0730351135134697,
          0.01673946902155876,
          -0.018497390672564507,
          -0.025971433147788048,
          0.030683284625411034,
          -0.01165764220058918,
          -0.0976959764957428,
          -0.15843847393989563,
          -0.23933444917201996,
          -0.2876540720462799,
          -0.2660023868083954,
          -0.18561077117919922,
          -0.09532317519187927,
          -0.014288298785686493,
          0.05981160327792168,
          0.05161355808377266,
          0.06261870265007019,
          4.2777517228387296E-4,
          -0.07212924212217331,
          -0.09554090350866318,
          -0.15002486109733582,
          -0.12774935364723206,
          -0.13923941552639008,
          -0.07722966372966766,
          -8.640228770673275E-4,
          0.012974477373063564,
          0.053210169076919556,
          -0.022424474358558655,
          -0.027131035923957825,
          -0.06741970777511597,
          -0.08915457874536514,
          -0.058439891785383224,
          -0.0292416550219059,
          -0.06148373708128929,
          -0.08647967129945755,
          -0.07845959067344666,
          -0.003578397212550044,
          -0.0011906226864084601,
          -0.04533222317695618,
          -0.08749114722013474,
          -0.14504940807819366,
          -0.24008841812610626,
          -0.30643126368522644,
          -0.36314743757247925,
          -0.3419414758682251,
          -0.3178386688232422,
          -0.2596273720264435,
          -0.1952095478773117,
          -0.20859575271606445,
          -0.23549069464206696,
          -0.2040622979402542,
          -0.23113591969013214,
          -0.29467952251434326,
          -0.30961355566978455,
          -0.3635134696960449,
          -0.4108564853668213
         ],
         "y": [
          0.19168901443481445,
          0.17784342169761658,
          0.11383163183927536,
          0.048972681164741516,
          0.002955951262265444,
          0.020369021221995354,
          0.08392370492219925,
          0.14576272666454315,
          0.13743016123771667,
          0.14299708604812622,
          0.07577991485595703,
          0.07723163813352585,
          0.03103642538189888,
          -0.037103645503520966,
          -0.08922620862722397,
          -0.16981756687164307,
          -0.19968628883361816,
          -0.2695968747138977,
          -0.3356565833091736,
          -0.3655443489551544,
          -0.41215047240257263,
          -0.48940134048461914,
          -0.5527621507644653,
          -0.513069748878479,
          -0.45653036236763,
          -0.3691910207271576,
          -0.2986518442630768,
          -0.3036558926105499,
          -0.33513426780700684,
          -0.3516119420528412,
          -0.3491452932357788,
          -0.3536005914211273,
          -0.4053707420825958,
          -0.3438405692577362,
          -0.25534161925315857,
          -0.1605498492717743,
          -0.09760908037424088,
          -0.09711191058158875,
          -0.10093432664871216,
          -0.16686198115348816,
          -0.22231478989124298,
          -0.2461048662662506,
          -0.25964006781578064,
          -0.3410291075706482,
          -0.40355730056762695,
          -0.4249676465988159,
          -0.496275931596756,
          -0.5093390345573425,
          -0.4548754096031189,
          -0.4062129259109497,
          -0.4153105914592743,
          -0.46503451466560364,
          -0.5043685436248779,
          -0.5523815155029297,
          -0.5359948873519897,
          -0.46932268142700195,
          -0.4127455949783325,
          -0.3268297612667084,
          -0.2617104649543762,
          -0.17875945568084717,
          -0.12883979082107544,
          -0.041631948202848434,
          0.025690004229545593,
          0.05242491513490677,
          0.024578075855970383,
          0.03009289875626564,
          -0.015888812020421028,
          0.008846122771501541,
          0.0837835967540741,
          0.11358384042978287,
          0.1183944121003151,
          0.09398678690195084,
          0.041646040976047516,
          -0.017940081655979156,
          -0.018910428509116173,
          -0.010914173908531666,
          0.023710360750555992,
          0.08176519721746445,
          0.09060442447662354,
          0.11161601543426514,
          0.17798878252506256,
          0.2688015401363373,
          0.34935644268989563,
          0.37702298164367676,
          0.4418562948703766,
          0.4726296663284302,
          0.41646188497543335,
          0.34279561042785645,
          0.3685038387775421,
          0.34201085567474365,
          0.27143606543540955,
          0.25053998827934265,
          0.1746625006198883,
          0.1304401159286499,
          0.11198494583368301,
          0.12997430562973022,
          0.22345413267612457,
          0.28053200244903564,
          0.24367111921310425,
          0.1990673542022705,
          0.23769953846931458,
          0.2610713839530945,
          0.29265904426574707,
          0.2828039824962616,
          0.24332955479621887,
          0.23819565773010254,
          0.23982208967208862,
          0.2046283781528473,
          0.15772299468517303,
          0.08740154653787613,
          0.09057274460792542,
          0.15512730181217194,
          0.22206750512123108,
          0.29730960726737976,
          0.3767125904560089,
          0.46901029348373413,
          0.5556067228317261,
          0.5917201638221741,
          0.5631625652313232,
          0.5102400779724121,
          0.46377110481262207,
          0.44843170046806335,
          0.4066081643104553,
          0.35230085253715515,
          0.3039388954639435,
          0.2236996442079544,
          0.16670410335063934,
          0.10180105268955231,
          0.007012738846242428,
          -0.06558385491371155,
          -0.1524801105260849,
          -0.24718734622001648,
          -0.31383687257766724,
          -0.3376167118549347,
          -0.41265368461608887,
          -0.4489835500717163,
          -0.4502987265586853,
          -0.4129818081855774,
          -0.36640822887420654,
          -0.2797297239303589,
          -0.19352737069129944,
          -0.10657953470945358,
          -0.026130078360438347,
          -0.007916344329714775,
          0.03119245171546936,
          0.046226102858781815,
          0.018266014754772186,
          -0.010814464651048183,
          0.04309159517288208,
          0.13302023708820343,
          0.13432294130325317,
          0.07061763852834702,
          0.03192177414894104,
          -0.04196920618414879,
          0.005630670115351677,
          0.07692421227693558,
          0.08470948040485382,
          0.06920666992664337,
          0.07057812809944153,
          0.11536835134029388,
          0.08394233882427216,
          0.02258063293993473,
          -0.06783013045787811,
          -0.11240260303020477,
          -0.06336569041013718,
          -0.012137558311223984,
          0.06458688527345657,
          0.14464308321475983,
          0.21618115901947021,
          0.2890602946281433,
          0.23177997767925262,
          0.15140609443187714,
          0.07697570323944092,
          0.03850044682621956,
          -0.05636913701891899,
          -0.1287575662136078,
          -0.19284862279891968,
          -0.20727597177028656,
          -0.11712976545095444,
          -0.027508631348609924,
          0.030790813267230988,
          0.12545736134052277,
          0.18226851522922516,
          0.24982790648937225,
          0.33323171734809875,
          0.4071089029312134,
          0.4815329313278198,
          0.49291151762008667,
          0.4250892996788025,
          0.3532954454421997,
          0.259931743144989,
          0.1742154061794281,
          0.12632441520690918,
          0.05542750284075737,
          -0.03351946175098419,
          -0.11432790756225586,
          -0.16092632710933685,
          -0.2481435090303421,
          -0.2774522602558136,
          -0.2387569099664688,
          -0.18637356162071228,
          -0.10313349217176437
         ],
         "z": [
          -0.17582425475120544,
          -0.27045732736587524,
          -0.33760035037994385,
          -0.3568403720855713,
          -0.4026362895965576,
          -0.48894578218460083,
          -0.5355245471000671,
          -0.5387386083602905,
          -0.4990062713623047,
          -0.4095708131790161,
          -0.34322014451026917,
          -0.247638538479805,
          -0.19276580214500427,
          -0.12621155381202698,
          -0.048641469329595566,
          -0.029590830206871033,
          0.004535940010100603,
          0.04142335429787636,
          -0.007313198409974575,
          -0.06962992250919342,
          -0.14805249869823456,
          -0.19646191596984863,
          -0.1694096028804779,
          -0.1528196632862091,
          -0.07571560889482498,
          -0.03633521497249603,
          -2.33115439186804E-4,
          0.09543175250291824,
          0.15352565050125122,
          0.09923876821994781,
          0.08313163369894028,
          0.12003817409276962,
          0.19389678537845612,
          0.22347790002822876,
          0.18712542951107025,
          0.17330187559127808,
          0.1256171613931656,
          0.029807906597852707,
          -0.06528672575950623,
          -0.12272732704877853,
          -0.08026992529630661,
          0.011074814945459366,
          0.10330545157194138,
          0.14494477212429047,
          0.07654746621847153,
          0.006776688154786825,
          -0.006006778217852116,
          -0.10082376003265381,
          -0.17912475764751434,
          -0.2174203097820282,
          -0.30619558691978455,
          -0.38256487250328064,
          -0.44837960600852966,
          -0.5311497449874878,
          -0.6227554678916931,
          -0.6536883115768433,
          -0.6867756843566895,
          -0.652061939239502,
          -0.6843956708908081,
          -0.7074701189994812,
          -0.709612250328064,
          -0.7206727862358093,
          -0.7511339783668518,
          -0.7432602643966675,
          -0.6833950877189636,
          -0.6970647573471069,
          -0.6450682282447815,
          -0.5823940634727478,
          -0.5232144594192505,
          -0.43331244587898254,
          -0.35007911920547485,
          -0.2576080858707428,
          -0.1774170994758606,
          -0.12866061925888062,
          -0.035622380673885345,
          0.059495195746421814,
          0.13863711059093475,
          0.21482433378696442,
          0.28056684136390686,
          0.31609266996383667,
          0.33085861802101135,
          0.3483124375343323,
          0.30981898307800293,
          0.22098399698734283,
          0.18641388416290283,
          0.11415398120880127,
          0.10408245027065277,
          0.16349223256111145,
          0.25000080466270447,
          0.33659034967422485,
          0.36975884437561035,
          0.3131561279296875,
          0.3244379758834839,
          0.3890293836593628,
          0.40547552704811096,
          0.477628618478775,
          0.48118025064468384,
          0.49976035952568054,
          0.5336591005325317,
          0.5820196866989136,
          0.630313515663147,
          0.5626002550125122,
          0.5480828881263733,
          0.4542580842971802,
          0.37378427386283875,
          0.297463983297348,
          0.3502214848995209,
          0.4297269582748413,
          0.43858179450035095,
          0.40761885046958923,
          0.3737829923629761,
          0.3029859662055969,
          0.2563973069190979,
          0.19962874054908752,
          0.15056927502155304,
          0.12895312905311584,
          0.11193108558654785,
          0.12656007707118988,
          0.17172440886497498,
          0.13470326364040375,
          0.09502843022346497,
          0.069295234978199,
          0.007135577499866486,
          -0.07098735868930817,
          -0.13396328687667847,
          -0.18610502779483795,
          -0.25951439142227173,
          -0.2795071005821228,
          -0.28399866819381714,
          -0.23633931577205658,
          -0.19671423733234406,
          -0.21114285290241241,
          -0.14656472206115723,
          -0.05383333936333656,
          0.002944953739643097,
          0.07521320879459381,
          0.17018663883209229,
          0.23043318092823029,
          0.31413406133651733,
          0.33580201864242554,
          0.3260132372379303,
          0.32112208008766174,
          0.316581666469574,
          0.2542979121208191,
          0.240452378988266,
          0.15646454691886902,
          0.06756190210580826,
          -0.004304792732000351,
          -0.07524276524782181,
          -0.10744020342826843,
          -0.18469460308551788,
          -0.24238842725753784,
          -0.22566328942775726,
          -0.23115582764148712,
          -0.2119259089231491,
          -0.16994807124137878,
          -0.07694113254547119,
          -0.02717619389295578,
          0.004854514729231596,
          -0.019780410453677177,
          0.03219367936253548,
          0.10531842708587646,
          0.13505858182907104,
          0.07739334553480148,
          0.0385274812579155,
          -0.03897909075021744,
          -0.056994471698999405,
          -0.10468623042106628,
          -0.16737577319145203,
          -0.17218373715877533,
          -0.18036584556102753,
          -0.1300843507051468,
          -0.08512987941503525,
          -0.04064672067761421,
          -0.028104539960622787,
          0.02002480998635292,
          0.08784536272287369,
          0.17744533717632294,
          0.19161638617515564,
          0.1812146008014679,
          0.25302040576934814,
          0.26541468501091003,
          0.24684065580368042,
          0.17894570529460907,
          0.16236214339733124,
          0.11826586723327637,
          0.13637137413024902,
          0.13215093314647675,
          0.1455102562904358,
          0.173946350812912,
          0.1775825321674347,
          0.1422065943479538,
          0.08306614309549332,
          0.0849815234541893,
          0.051982391625642776,
          0.09587262570858002,
          0.17346476018428802,
          0.20244543254375458,
          0.2678893208503723,
          0.354256808757782,
          0.41367465257644653,
          0.41674453020095825
         ]
        },
        {
         "line": {
          "color": "darkblue",
          "width": 2
         },
         "marker": {
          "color": [
           0,
           1,
           2,
           3,
           4,
           5,
           6,
           7,
           8,
           9,
           10,
           11,
           12,
           13,
           14,
           15,
           16,
           17,
           18,
           19,
           20,
           21,
           22,
           23,
           24,
           25,
           26,
           27,
           28,
           29,
           30,
           31,
           32,
           33,
           34,
           35,
           36,
           37,
           38,
           39,
           40,
           41,
           42,
           43,
           44,
           45,
           46,
           47,
           48,
           49,
           50,
           51,
           52,
           53,
           54,
           55,
           56,
           57,
           58,
           59,
           60,
           61,
           62,
           63,
           64,
           65,
           66,
           67,
           68,
           69,
           70,
           71,
           72,
           73,
           74,
           75,
           76,
           77,
           78,
           79,
           80,
           81,
           82,
           83,
           84,
           85,
           86,
           87,
           88,
           89,
           90,
           91,
           92,
           93,
           94,
           95,
           96,
           97,
           98,
           99,
           100,
           101,
           102,
           103,
           104,
           105,
           106,
           107,
           108,
           109,
           110,
           111,
           112,
           113,
           114,
           115,
           116,
           117,
           118,
           119,
           120,
           121,
           122,
           123,
           124,
           125,
           126,
           127,
           128,
           129,
           130,
           131,
           132,
           133,
           134,
           135,
           136,
           137,
           138,
           139,
           140,
           141,
           142,
           143,
           144,
           145,
           146,
           147,
           148,
           149,
           150,
           151,
           152,
           153,
           154,
           155,
           156,
           157,
           158,
           159,
           160,
           161,
           162,
           163,
           164,
           165,
           166,
           167,
           168,
           169,
           170,
           171,
           172,
           173,
           174,
           175,
           176,
           177,
           178,
           179,
           180,
           181,
           182,
           183,
           184,
           185,
           186,
           187,
           188,
           189,
           190,
           191,
           192,
           193,
           194,
           195,
           196,
           197,
           198,
           199,
           200,
           201
          ],
          "colorscale": [
           [
            0,
            "#440154"
           ],
           [
            0.1111111111111111,
            "#482878"
           ],
           [
            0.2222222222222222,
            "#3e4989"
           ],
           [
            0.3333333333333333,
            "#31688e"
           ],
           [
            0.4444444444444444,
            "#26828e"
           ],
           [
            0.5555555555555556,
            "#1f9e89"
           ],
           [
            0.6666666666666666,
            "#35b779"
           ],
           [
            0.7777777777777778,
            "#6ece58"
           ],
           [
            0.8888888888888888,
            "#b5de2b"
           ],
           [
            1,
            "#fde725"
           ]
          ],
          "size": 4
         },
         "scene": "scene2",
         "type": "scatter3d",
         "x": [
          -0.30802258848765685,
          -0.29394189640670254,
          -0.20991291129194523,
          -0.10240870857795961,
          0.0667267692288809,
          0.1802932947309701,
          0.18641300294225233,
          0.20967661931749654,
          0.22589384739404425,
          0.15950182205121186,
          0.11499281411986699,
          0.05129950939922494,
          0.05098486380608535,
          0.07392871517306777,
          0.07687609840272538,
          0.17484728697141888,
          0.31843978280905716,
          0.4626117629015812,
          0.5631483607610339,
          0.5430591759849998,
          0.6579604780095677,
          0.6263482608638453,
          0.6043060566370795,
          0.5068269803537614,
          0.40863550026682055,
          0.3500772536209463,
          0.13022439078140052,
          0.09611118788109699,
          0.2700241792411708,
          0.40727800396038855,
          0.5325137277975354,
          0.6529576219409984,
          0.6380210518959422,
          0.6716009548869067,
          0.6282959274272432,
          0.678061058874084,
          0.5721478702700096,
          0.5962425335560414,
          0.6096036966509657,
          0.6943898249575173,
          0.7243183592913935,
          0.6829516202835607,
          0.704033664394571,
          0.6992811826599584,
          0.7385684354316129,
          0.7166332930221446,
          0.6674430168381444,
          0.6566077604816635,
          0.667195019138933,
          0.816834468866408,
          0.6802366527006892,
          0.6745767724751041,
          0.6210019297837662,
          0.5504699931001356,
          0.5153351790388713,
          0.4819933398190904,
          0.512636991801743,
          0.6237322908471351,
          0.4250416543696541,
          0.3729962243707461,
          0.3451550933104058,
          0.3564052425132484,
          0.3094138182881646,
          0.26505951540222844,
          0.23795961808252625,
          0.14298245984997215,
          0.18366254224971254,
          0.15179157395401113,
          0.10673217186013993,
          -0.17955632664028795,
          -0.27795204949746416,
          -0.24002737567340857,
          -0.2836935554409343,
          -0.27069747369797664,
          -0.3419793755372133,
          -0.3643296323352703,
          -0.3493508801479298,
          -0.3403708127240419,
          -0.2954955816185198,
          -0.3205301403587877,
          -0.26228247694071666,
          -0.22491746387566974,
          -0.29494365241243786,
          -0.3635242179134415,
          -0.35292261717740936,
          -0.1980906710682964,
          -0.28686110279067034,
          -0.452388914766062,
          -0.4219029832363685,
          -0.34713378406028284,
          -0.24482624205371686,
          -0.28615987401433346,
          -0.27396232639394913,
          -0.2652705627020902,
          -0.1466731478895684,
          0.026618489891554666,
          -0.04697345842610539,
          -0.001194399505389769,
          -0.013130195369980672,
          0.03862622791204035,
          0.032891835895723524,
          -0.08917198070109958,
          -0.002405796904965812,
          -0.08708841654914783,
          -0.22403201365990882,
          -0.2643184246561495,
          -0.2575687096532574,
          -0.19997231695955245,
          -0.2079883210434318,
          -0.2536610096035508,
          -0.09990988926083733,
          -0.15745830611906034,
          -0.037684540765207504,
          -0.05349600837734553,
          0.02658167677418895,
          0.05056530525535256,
          0.1878291443085369,
          0.10298567707943225,
          -0.10092888783611313,
          -0.1993276403256989,
          -0.24106148517758091,
          -0.24319503605511344,
          -0.10858758010607414,
          -0.18349833479893415,
          -0.15845120385770806,
          -0.30793466598702374,
          -0.295550550041261,
          -0.1772940006624044,
          -0.09546339019463887,
          -0.09594477450528643,
          -0.05756744253004043,
          -0.08362254175902903,
          -0.09070606739059761,
          -0.13880652318417092,
          -0.07958023960359766,
          -0.09303904445306362,
          -0.05629255882184021,
          -0.028686807566543553,
          -0.01110209601683792,
          -0.11618436966989668,
          -0.26909393618378724,
          -0.3298672944601667,
          -0.3195012218152155,
          -0.25720987786771154,
          -0.14563073117354153,
          -0.14780925655210256,
          -0.17902769614320788,
          -0.22035241998330915,
          -0.2540978457159875,
          -0.2625386488105011,
          -0.15179252142850433,
          -0.10598915076594982,
          -0.12646422095774879,
          -0.0741261182012135,
          -0.19903356538248168,
          -0.22887072134807093,
          -0.3106165443165728,
          -0.35107726096536673,
          -0.3459656688862479,
          -0.30303884931748337,
          -0.17903818451082162,
          -0.19704935343827876,
          -0.16602333101022843,
          -0.1951887561507666,
          -0.29211053886299737,
          -0.3079198440036434,
          -0.3397058656213153,
          -0.3304385029139983,
          -0.2860153039142978,
          -0.28625093707326077,
          -0.2754215225440738,
          -0.2107194944429728,
          -0.139199885103344,
          -0.25921176804308127,
          -0.20374431935112378,
          -0.20463928028225353,
          -0.169880738589368,
          -0.1622980134270394,
          -0.23162896985677944,
          -0.27924421060177246,
          -0.29872249619665353,
          -0.26088340744581534,
          -0.22160820435513587,
          -0.18238734760860079,
          -0.231198006564269,
          -0.1680971506361726,
          -0.1348485721910847,
          -0.1889288520765834,
          -0.3144264464352289,
          -0.333105099471283,
          -0.3076613000133014,
          -0.3673660463686365,
          -0.3231122544756772,
          -0.3413382922612136,
          -0.34510867558711283,
          -0.3671396676215173,
          -0.36900156439942333,
          -0.32698684027665353,
          -0.3016059996221355,
          -0.3180593863971664,
          -0.25294817652164,
          -0.07609268054166943
         ],
         "y": [
          0.10834449059206666,
          0.1345404170843205,
          0.07804482150824474,
          0.023324144308707304,
          -0.08165077842752629,
          -0.00909259818012819,
          0.052469063028015496,
          0.03700415821950527,
          -0.03196013402417404,
          -0.08549748214587059,
          -0.14210479774160722,
          -0.23036551211089606,
          -0.24021888628025279,
          -0.2464869586029425,
          -0.323863747633949,
          -0.3505913271237336,
          -0.36466526107390035,
          -0.4211499101157994,
          -0.4669734902133194,
          -0.45232709251318115,
          -0.4363247897194291,
          -0.4767393664596898,
          -0.4603074549238538,
          -0.48449140370657784,
          -0.5126547002300987,
          -0.4535134945198275,
          -0.39534507260303775,
          -0.4276818158148674,
          -0.41530856396941385,
          -0.44016877210970595,
          -0.4646774781631726,
          -0.4829301333944819,
          -0.45404157499327846,
          -0.44657454351917014,
          -0.42758982522525685,
          -0.32302153136167855,
          -0.3165470061689091,
          -0.32781259022799725,
          -0.35706734579740657,
          -0.4097836572703202,
          -0.4257145997145507,
          -0.4354262180154784,
          -0.43288597936058465,
          -0.4361324783038077,
          -0.4839286336713651,
          -0.5081587341494122,
          -0.48960937072939065,
          -0.48105627166096554,
          -0.4676633783083422,
          -0.49230426607073935,
          -0.4260328078640431,
          -0.36183028645831605,
          -0.3151501662811209,
          -0.27923963376119726,
          -0.1650671537291393,
          -0.16642196546663326,
          -0.17036816634254076,
          -0.13847674759389011,
          -0.1401909923840586,
          -0.11622943811036708,
          -0.07208492760021172,
          -0.04870113969236426,
          0.029511242621527146,
          0.0946618270197411,
          0.15880670468856464,
          0.18091273610416192,
          0.18747890008377383,
          0.155997197477831,
          0.061147428573052894,
          0.04229070137817957,
          0.0783358923428353,
          0.03213337635246884,
          0.07307956630043425,
          0.07529565694783764,
          0.02246785524618341,
          0.12526049786507468,
          0.2416530334429356,
          0.320029204661868,
          0.29992407954132666,
          0.2979473021856394,
          0.3163978419582047,
          0.41193367740938325,
          0.40687978876824393,
          0.3294021706958234,
          0.3620846681221064,
          0.39058744774780174,
          0.3969104755934019,
          0.3855174576167389,
          0.45277089997777425,
          0.5086287898702688,
          0.48995921813964655,
          0.35624879724567815,
          0.278500038748918,
          0.34790785479683156,
          0.2579893981272608,
          0.2964139438240841,
          0.4057203188578674,
          0.5142326562228178,
          0.577653508748998,
          0.5784686886575267,
          0.6398622930413905,
          0.7008150722735774,
          0.7125708002916936,
          0.6325654629845995,
          0.524794525089735,
          0.4261789308118914,
          0.42801853928230205,
          0.4706033349499505,
          0.40426073515311317,
          0.2930017398743962,
          0.1887747150208277,
          0.16840202019142897,
          0.15208405782573364,
          0.17371025857886882,
          0.20732880010614102,
          0.2850808278776158,
          0.2816648965157872,
          0.32245974967716495,
          0.39041455755948573,
          0.4153986860077928,
          0.3978165252758887,
          0.4479454125473371,
          0.39512022528938784,
          0.23745453637897546,
          0.1021852549391184,
          0.11144203528287308,
          0.1825040356887834,
          0.06015426621696315,
          0.03184200428319815,
          0.04085894128090181,
          -0.08617883540772367,
          -0.21488886934425955,
          -0.2875102050153743,
          -0.21666365296383994,
          -0.29900869190421725,
          -0.453166153177265,
          -0.41472031976767815,
          -0.40495991175430945,
          -0.3162071470527455,
          -0.22479678441094486,
          -0.04892390416474032,
          0.04071048698344146,
          0.12732651889378158,
          0.03857387621526335,
          1.7371311932059999E-4,
          -0.1076640833843201,
          -0.15320135706883922,
          -0.1641512531032528,
          -0.13758646795511895,
          -0.1109148103532127,
          -0.1375337415907756,
          -0.15179387018231685,
          -0.09088694353800936,
          -0.027699616500722748,
          0.122308869295487,
          0.10037498209916794,
          0.05813943508708865,
          0.004722455972313758,
          -0.027850409657951904,
          -0.0928705795276745,
          -0.14883246311685894,
          -0.1420564052219921,
          -0.16538875287647825,
          -0.14626153923599303,
          -0.07668183180540862,
          -0.05685577382226847,
          -0.0041227479196715485,
          -0.06210790854946077,
          -0.017504632608663688,
          -0.03570739212116349,
          -0.07176293549924137,
          -0.14199607276027698,
          -0.17261423124717476,
          -0.13278676183673824,
          -0.1396124368640001,
          -0.11929017966312001,
          -0.12376620562931237,
          -0.1464115348230866,
          -0.12414241718811196,
          -0.024751548319791514,
          0.06744696676460002,
          0.18382978318917947,
          0.1877232746938448,
          0.1706607599265532,
          0.24215366395406326,
          0.2826675328060918,
          0.41784038273549434,
          0.46476945915597845,
          0.43667724404645425,
          0.43799085783853536,
          0.3960328966268617,
          0.3075555479745248,
          0.17452239121084284,
          0.059677560645673866,
          0.022738428800887472,
          0.03776597415366409,
          -0.008038125287309175,
          -0.12310506768190087,
          -0.11113090131430846,
          -0.039661198992627746,
          0.12328596602762193,
          0.21011952104396475
         ],
         "z": [
          -0.04878826118410923,
          -0.2550827076853133,
          -0.33343114048861205,
          -0.33947971458409504,
          -0.3842194763367137,
          -0.41524417017351467,
          -0.4805911017894056,
          -0.4788920809489575,
          -0.48486678334048167,
          -0.4437781026770115,
          -0.35974733854817104,
          -0.21992988979709852,
          -0.056572248524886036,
          -0.008096225597946451,
          0.04055845006447764,
          0.053189479016366115,
          -0.0017302853914214784,
          -0.011698614919054006,
          -0.07981601361989912,
          -0.0939553708283907,
          -0.20411835393282274,
          -0.3269863287548678,
          -0.4003573956173759,
          -0.285585670062184,
          -0.136380516267737,
          -0.0854083478623422,
          0.023091186854835636,
          0.10308408634963546,
          0.027428521042891164,
          -0.026774604215472314,
          -0.029059228433997764,
          -0.08809555944847826,
          -0.13350306319242955,
          -0.11932499716547894,
          -0.11122353545229466,
          -0.06494638669344717,
          0.028788191089551333,
          0.014984454663716399,
          -0.012247980140048915,
          -0.11828041117495998,
          -0.11476865631066338,
          -0.10520020123077795,
          -0.13923353452514378,
          -0.13776836750073312,
          -0.14556702807016692,
          -0.14409944608794856,
          -0.1687361055261444,
          -0.2805905931029854,
          -0.27830408206919044,
          -0.28570916753641284,
          -0.3679692476024907,
          -0.4175472117831056,
          -0.5169042009733504,
          -0.6818036560327853,
          -0.7350434390855288,
          -0.7676331719336342,
          -0.7767066545982108,
          -0.7692738930952341,
          -0.7340998313268344,
          -0.7652239226254894,
          -0.7391441788003981,
          -0.7630594871105806,
          -0.7418549418415922,
          -0.6789366130770688,
          -0.5354192718769445,
          -0.5501845938425497,
          -0.4864001240622298,
          -0.5043687423610083,
          -0.5000000039777086,
          -0.39997825361174866,
          -0.2935006920649735,
          -0.2182877137968916,
          -0.1768468130775231,
          -0.0794516719895818,
          -0.04557417884862859,
          -0.012664576490916953,
          -0.010525983853703989,
          0.054137205086095555,
          0.07900466278478502,
          0.13772781378793267,
          0.2039289246000219,
          0.17872901143135134,
          0.22088560437237828,
          0.17201833129716693,
          0.3336484999886358,
          0.43542341398339945,
          0.38572268271230936,
          0.13287756608183277,
          0.15887111306069635,
          0.20756772829434833,
          0.16854463931010052,
          0.17754280392961308,
          0.2590400232404868,
          0.18934158871637172,
          0.2635317107464512,
          0.32926602618782735,
          0.31619831952444943,
          0.2898186321521209,
          0.23625803988454297,
          0.31231776272385536,
          0.4297574609126454,
          0.3561223281775056,
          0.3027337657724258,
          0.25940204294347885,
          0.1631299421293591,
          0.10177258152848126,
          0.15346303363539163,
          0.19202949693495733,
          0.22846622411978362,
          0.22796480187770768,
          0.2738634331063382,
          0.26647739667425624,
          0.30012674526636945,
          0.34769924392881335,
          0.3917103378935667,
          0.45036023514160667,
          0.4421882509510566,
          0.4978644354134715,
          0.4766470615214503,
          0.3923953339845458,
          0.35517924535500084,
          0.4134795658463516,
          0.4292284852642491,
          0.4442437780985638,
          0.28487395512987046,
          -0.06099319818040104,
          -0.25901346277574094,
          -0.30132583443742245,
          -0.3400459092616257,
          -0.24879828278013102,
          -0.060983554427456406,
          0.029859744843699392,
          0.15030179038098723,
          0.2936033208834991,
          0.35066373444482335,
          0.3038690887571077,
          0.44652312431148017,
          0.4135108074657632,
          0.48638727876742777,
          0.4794897750149569,
          0.38610017469239216,
          0.2227674264775761,
          0.20178964913859715,
          0.17814776792762885,
          0.193126780275268,
          0.12898802313155605,
          0.07769187849789487,
          0.04144438413899846,
          -0.014692321008433717,
          -0.0657851334379868,
          -0.1208103565650091,
          -0.19789503171888365,
          -0.13342158261615164,
          -0.20731161174617183,
          -0.287040022373242,
          -0.18561087814159424,
          -0.02236633222153446,
          -0.004377219017105237,
          0.006424695198946521,
          0.03429811804589862,
          0.07880977892640743,
          0.1155936297703843,
          0.13266127789863563,
          0.09988399673106446,
          0.04016250191667455,
          0.0017392043619507411,
          0.013030727614606183,
          -0.005091037976458874,
          -0.06482205128226375,
          -0.050651487303013686,
          -0.15772974374710189,
          -0.09451384180196208,
          -0.04236208064872342,
          -0.0011449925377842972,
          0.04542969762460496,
          0.08799673006522991,
          0.15622807419751866,
          0.23542987104897123,
          0.18421975704780788,
          0.12890425758921506,
          0.17516509194105695,
          0.19780177785290023,
          0.22636482778497086,
          0.18835968296573438,
          0.22817003200269523,
          0.3216708350753154,
          0.40443537320516815,
          0.4442864755795763,
          0.3376943964829868,
          0.22148064466558734,
          0.0978529775206518,
          0.018137467049169763,
          0.007243119136751097,
          0.00957944316037888,
          -0.004596416791022579,
          0.04857692000564328,
          0.17909689938570364,
          0.37421430660254185,
          0.47538192212942415,
          0.4607885043107161,
          0.38206569429973103,
          0.37982482703195614
         ]
        }
       ],
       "layout": {
        "height": 1000,
        "scene": {
         "domain": {
          "x": [
           0,
           0.45
          ],
          "y": [
           0,
           1
          ]
         }
        },
        "scene2": {
         "domain": {
          "x": [
           0.55,
           1
          ],
          "y": [
           0,
           1
          ]
         }
        },
        "template": {
         "data": {
          "bar": [
           {
            "error_x": {
             "color": "#2a3f5f"
            },
            "error_y": {
             "color": "#2a3f5f"
            },
            "marker": {
             "line": {
              "color": "#E5ECF6",
              "width": 0.5
             }
            },
            "type": "bar"
           }
          ],
          "barpolar": [
           {
            "marker": {
             "line": {
              "color": "#E5ECF6",
              "width": 0.5
             }
            },
            "type": "barpolar"
           }
          ],
          "carpet": [
           {
            "aaxis": {
             "endlinecolor": "#2a3f5f",
             "gridcolor": "white",
             "linecolor": "white",
             "minorgridcolor": "white",
             "startlinecolor": "#2a3f5f"
            },
            "baxis": {
             "endlinecolor": "#2a3f5f",
             "gridcolor": "white",
             "linecolor": "white",
             "minorgridcolor": "white",
             "startlinecolor": "#2a3f5f"
            },
            "type": "carpet"
           }
          ],
          "choropleth": [
           {
            "colorbar": {
             "outlinewidth": 0,
             "ticks": ""
            },
            "type": "choropleth"
           }
          ],
          "contour": [
           {
            "colorbar": {
             "outlinewidth": 0,
             "ticks": ""
            },
            "colorscale": [
             [
              0,
              "#0d0887"
             ],
             [
              0.1111111111111111,
              "#46039f"
             ],
             [
              0.2222222222222222,
              "#7201a8"
             ],
             [
              0.3333333333333333,
              "#9c179e"
             ],
             [
              0.4444444444444444,
              "#bd3786"
             ],
             [
              0.5555555555555556,
              "#d8576b"
             ],
             [
              0.6666666666666666,
              "#ed7953"
             ],
             [
              0.7777777777777778,
              "#fb9f3a"
             ],
             [
              0.8888888888888888,
              "#fdca26"
             ],
             [
              1,
              "#f0f921"
             ]
            ],
            "type": "contour"
           }
          ],
          "contourcarpet": [
           {
            "colorbar": {
             "outlinewidth": 0,
             "ticks": ""
            },
            "type": "contourcarpet"
           }
          ],
          "heatmap": [
           {
            "colorbar": {
             "outlinewidth": 0,
             "ticks": ""
            },
            "colorscale": [
             [
              0,
              "#0d0887"
             ],
             [
              0.1111111111111111,
              "#46039f"
             ],
             [
              0.2222222222222222,
              "#7201a8"
             ],
             [
              0.3333333333333333,
              "#9c179e"
             ],
             [
              0.4444444444444444,
              "#bd3786"
             ],
             [
              0.5555555555555556,
              "#d8576b"
             ],
             [
              0.6666666666666666,
              "#ed7953"
             ],
             [
              0.7777777777777778,
              "#fb9f3a"
             ],
             [
              0.8888888888888888,
              "#fdca26"
             ],
             [
              1,
              "#f0f921"
             ]
            ],
            "type": "heatmap"
           }
          ],
          "heatmapgl": [
           {
            "colorbar": {
             "outlinewidth": 0,
             "ticks": ""
            },
            "colorscale": [
             [
              0,
              "#0d0887"
             ],
             [
              0.1111111111111111,
              "#46039f"
             ],
             [
              0.2222222222222222,
              "#7201a8"
             ],
             [
              0.3333333333333333,
              "#9c179e"
             ],
             [
              0.4444444444444444,
              "#bd3786"
             ],
             [
              0.5555555555555556,
              "#d8576b"
             ],
             [
              0.6666666666666666,
              "#ed7953"
             ],
             [
              0.7777777777777778,
              "#fb9f3a"
             ],
             [
              0.8888888888888888,
              "#fdca26"
             ],
             [
              1,
              "#f0f921"
             ]
            ],
            "type": "heatmapgl"
           }
          ],
          "histogram": [
           {
            "marker": {
             "colorbar": {
              "outlinewidth": 0,
              "ticks": ""
             }
            },
            "type": "histogram"
           }
          ],
          "histogram2d": [
           {
            "colorbar": {
             "outlinewidth": 0,
             "ticks": ""
            },
            "colorscale": [
             [
              0,
              "#0d0887"
             ],
             [
              0.1111111111111111,
              "#46039f"
             ],
             [
              0.2222222222222222,
              "#7201a8"
             ],
             [
              0.3333333333333333,
              "#9c179e"
             ],
             [
              0.4444444444444444,
              "#bd3786"
             ],
             [
              0.5555555555555556,
              "#d8576b"
             ],
             [
              0.6666666666666666,
              "#ed7953"
             ],
             [
              0.7777777777777778,
              "#fb9f3a"
             ],
             [
              0.8888888888888888,
              "#fdca26"
             ],
             [
              1,
              "#f0f921"
             ]
            ],
            "type": "histogram2d"
           }
          ],
          "histogram2dcontour": [
           {
            "colorbar": {
             "outlinewidth": 0,
             "ticks": ""
            },
            "colorscale": [
             [
              0,
              "#0d0887"
             ],
             [
              0.1111111111111111,
              "#46039f"
             ],
             [
              0.2222222222222222,
              "#7201a8"
             ],
             [
              0.3333333333333333,
              "#9c179e"
             ],
             [
              0.4444444444444444,
              "#bd3786"
             ],
             [
              0.5555555555555556,
              "#d8576b"
             ],
             [
              0.6666666666666666,
              "#ed7953"
             ],
             [
              0.7777777777777778,
              "#fb9f3a"
             ],
             [
              0.8888888888888888,
              "#fdca26"
             ],
             [
              1,
              "#f0f921"
             ]
            ],
            "type": "histogram2dcontour"
           }
          ],
          "mesh3d": [
           {
            "colorbar": {
             "outlinewidth": 0,
             "ticks": ""
            },
            "type": "mesh3d"
           }
          ],
          "parcoords": [
           {
            "line": {
             "colorbar": {
              "outlinewidth": 0,
              "ticks": ""
             }
            },
            "type": "parcoords"
           }
          ],
          "pie": [
           {
            "automargin": true,
            "type": "pie"
           }
          ],
          "scatter": [
           {
            "marker": {
             "colorbar": {
              "outlinewidth": 0,
              "ticks": ""
             }
            },
            "type": "scatter"
           }
          ],
          "scatter3d": [
           {
            "line": {
             "colorbar": {
              "outlinewidth": 0,
              "ticks": ""
             }
            },
            "marker": {
             "colorbar": {
              "outlinewidth": 0,
              "ticks": ""
             }
            },
            "type": "scatter3d"
           }
          ],
          "scattercarpet": [
           {
            "marker": {
             "colorbar": {
              "outlinewidth": 0,
              "ticks": ""
             }
            },
            "type": "scattercarpet"
           }
          ],
          "scattergeo": [
           {
            "marker": {
             "colorbar": {
              "outlinewidth": 0,
              "ticks": ""
             }
            },
            "type": "scattergeo"
           }
          ],
          "scattergl": [
           {
            "marker": {
             "colorbar": {
              "outlinewidth": 0,
              "ticks": ""
             }
            },
            "type": "scattergl"
           }
          ],
          "scattermapbox": [
           {
            "marker": {
             "colorbar": {
              "outlinewidth": 0,
              "ticks": ""
             }
            },
            "type": "scattermapbox"
           }
          ],
          "scatterpolar": [
           {
            "marker": {
             "colorbar": {
              "outlinewidth": 0,
              "ticks": ""
             }
            },
            "type": "scatterpolar"
           }
          ],
          "scatterpolargl": [
           {
            "marker": {
             "colorbar": {
              "outlinewidth": 0,
              "ticks": ""
             }
            },
            "type": "scatterpolargl"
           }
          ],
          "scatterternary": [
           {
            "marker": {
             "colorbar": {
              "outlinewidth": 0,
              "ticks": ""
             }
            },
            "type": "scatterternary"
           }
          ],
          "surface": [
           {
            "colorbar": {
             "outlinewidth": 0,
             "ticks": ""
            },
            "colorscale": [
             [
              0,
              "#0d0887"
             ],
             [
              0.1111111111111111,
              "#46039f"
             ],
             [
              0.2222222222222222,
              "#7201a8"
             ],
             [
              0.3333333333333333,
              "#9c179e"
             ],
             [
              0.4444444444444444,
              "#bd3786"
             ],
             [
              0.5555555555555556,
              "#d8576b"
             ],
             [
              0.6666666666666666,
              "#ed7953"
             ],
             [
              0.7777777777777778,
              "#fb9f3a"
             ],
             [
              0.8888888888888888,
              "#fdca26"
             ],
             [
              1,
              "#f0f921"
             ]
            ],
            "type": "surface"
           }
          ],
          "table": [
           {
            "cells": {
             "fill": {
              "color": "#EBF0F8"
             },
             "line": {
              "color": "white"
             }
            },
            "header": {
             "fill": {
              "color": "#C8D4E3"
             },
             "line": {
              "color": "white"
             }
            },
            "type": "table"
           }
          ]
         },
         "layout": {
          "annotationdefaults": {
           "arrowcolor": "#2a3f5f",
           "arrowhead": 0,
           "arrowwidth": 1
          },
          "autotypenumbers": "strict",
          "coloraxis": {
           "colorbar": {
            "outlinewidth": 0,
            "ticks": ""
           }
          },
          "colorscale": {
           "diverging": [
            [
             0,
             "#8e0152"
            ],
            [
             0.1,
             "#c51b7d"
            ],
            [
             0.2,
             "#de77ae"
            ],
            [
             0.3,
             "#f1b6da"
            ],
            [
             0.4,
             "#fde0ef"
            ],
            [
             0.5,
             "#f7f7f7"
            ],
            [
             0.6,
             "#e6f5d0"
            ],
            [
             0.7,
             "#b8e186"
            ],
            [
             0.8,
             "#7fbc41"
            ],
            [
             0.9,
             "#4d9221"
            ],
            [
             1,
             "#276419"
            ]
           ],
           "sequential": [
            [
             0,
             "#0d0887"
            ],
            [
             0.1111111111111111,
             "#46039f"
            ],
            [
             0.2222222222222222,
             "#7201a8"
            ],
            [
             0.3333333333333333,
             "#9c179e"
            ],
            [
             0.4444444444444444,
             "#bd3786"
            ],
            [
             0.5555555555555556,
             "#d8576b"
            ],
            [
             0.6666666666666666,
             "#ed7953"
            ],
            [
             0.7777777777777778,
             "#fb9f3a"
            ],
            [
             0.8888888888888888,
             "#fdca26"
            ],
            [
             1,
             "#f0f921"
            ]
           ],
           "sequentialminus": [
            [
             0,
             "#0d0887"
            ],
            [
             0.1111111111111111,
             "#46039f"
            ],
            [
             0.2222222222222222,
             "#7201a8"
            ],
            [
             0.3333333333333333,
             "#9c179e"
            ],
            [
             0.4444444444444444,
             "#bd3786"
            ],
            [
             0.5555555555555556,
             "#d8576b"
            ],
            [
             0.6666666666666666,
             "#ed7953"
            ],
            [
             0.7777777777777778,
             "#fb9f3a"
            ],
            [
             0.8888888888888888,
             "#fdca26"
            ],
            [
             1,
             "#f0f921"
            ]
           ]
          },
          "colorway": [
           "#636efa",
           "#EF553B",
           "#00cc96",
           "#ab63fa",
           "#FFA15A",
           "#19d3f3",
           "#FF6692",
           "#B6E880",
           "#FF97FF",
           "#FECB52"
          ],
          "font": {
           "color": "#2a3f5f"
          },
          "geo": {
           "bgcolor": "white",
           "lakecolor": "white",
           "landcolor": "#E5ECF6",
           "showlakes": true,
           "showland": true,
           "subunitcolor": "white"
          },
          "hoverlabel": {
           "align": "left"
          },
          "hovermode": "closest",
          "mapbox": {
           "style": "light"
          },
          "paper_bgcolor": "white",
          "plot_bgcolor": "#E5ECF6",
          "polar": {
           "angularaxis": {
            "gridcolor": "white",
            "linecolor": "white",
            "ticks": ""
           },
           "bgcolor": "#E5ECF6",
           "radialaxis": {
            "gridcolor": "white",
            "linecolor": "white",
            "ticks": ""
           }
          },
          "scene": {
           "xaxis": {
            "backgroundcolor": "#E5ECF6",
            "gridcolor": "white",
            "gridwidth": 2,
            "linecolor": "white",
            "showbackground": true,
            "ticks": "",
            "zerolinecolor": "white"
           },
           "yaxis": {
            "backgroundcolor": "#E5ECF6",
            "gridcolor": "white",
            "gridwidth": 2,
            "linecolor": "white",
            "showbackground": true,
            "ticks": "",
            "zerolinecolor": "white"
           },
           "zaxis": {
            "backgroundcolor": "#E5ECF6",
            "gridcolor": "white",
            "gridwidth": 2,
            "linecolor": "white",
            "showbackground": true,
            "ticks": "",
            "zerolinecolor": "white"
           }
          },
          "shapedefaults": {
           "line": {
            "color": "#2a3f5f"
           }
          },
          "ternary": {
           "aaxis": {
            "gridcolor": "white",
            "linecolor": "white",
            "ticks": ""
           },
           "baxis": {
            "gridcolor": "white",
            "linecolor": "white",
            "ticks": ""
           },
           "bgcolor": "#E5ECF6",
           "caxis": {
            "gridcolor": "white",
            "linecolor": "white",
            "ticks": ""
           }
          },
          "title": {
           "x": 0.05
          },
          "xaxis": {
           "automargin": true,
           "gridcolor": "white",
           "linecolor": "white",
           "ticks": "",
           "title": {
            "standoff": 15
           },
           "zerolinecolor": "white",
           "zerolinewidth": 2
          },
          "yaxis": {
           "automargin": true,
           "gridcolor": "white",
           "linecolor": "white",
           "ticks": "",
           "title": {
            "standoff": 15
           },
           "zerolinecolor": "white",
           "zerolinewidth": 2
          }
         }
        },
        "width": 1300
       }
      }
     },
     "metadata": {},
     "output_type": "display_data"
    },
    {
     "name": "stdout",
     "output_type": "stream",
     "text": [
      "Kabsch distance is 0.07701220169626749\n"
     ]
    },
    {
     "data": {
      "text/plain": [
       "<Figure size 50000x50000 with 0 Axes>"
      ]
     },
     "metadata": {},
     "output_type": "display_data"
    }
   ],
   "source": [
    "test_true_structure = test_true_structures[GRAPH_TESTED]\n",
    "test_pred_structure = test_pred_structures[GRAPH_TESTED]\n",
    "\n",
    "test_pred_structure_superposed, test_true_structure_superposed = \\\n",
    "        kabsch_superimposition_numpy(test_pred_structure, test_true_structure, EMBEDDING_SIZE)\n",
    "\n",
    "x_pred = test_pred_structure_superposed[:, 0]  \n",
    "y_pred = test_pred_structure_superposed[:, 1]\n",
    "z_pred = test_pred_structure_superposed[:, 2]\n",
    "\n",
    "x_true = test_true_structure_superposed[:, 0]  \n",
    "y_true = test_true_structure_superposed[:, 1]\n",
    "z_true = test_true_structure_superposed[:, 2]\n",
    "\n",
    "colorscale1 = np.asarray(range(len(x_true)))\n",
    "colorscale2 = np.asarray(range(len(x_pred)))\n",
    "color1 = 'Viridis'\n",
    "color2 = 'Viridis'\n",
    "\n",
    "plot_true_pred_structures(x_pred, y_pred, z_pred, x_true, y_true, z_true, colorscale1, colorscale2, color1, color2)\n",
    "\n",
    "# Shape comparison\n",
    "print('Kabsch distance is ' + str(kabsch_distance_numpy(test_pred_structure, test_true_structure, EMBEDDING_SIZE)))\n",
    "\n"
   ]
  },
  {
   "cell_type": "code",
   "execution_count": 15,
   "metadata": {},
   "outputs": [],
   "source": [
    "make_gif(\"\", \"gifs/trussart_uniform_linear.gif\")"
   ]
  },
  {
   "cell_type": "code",
   "execution_count": 16,
   "metadata": {},
   "outputs": [
    {
     "data": {
      "application/vnd.plotly.v1+json": {
       "config": {
        "plotlyServerURL": "https://plot.ly"
       },
       "data": [
        {
         "line": {
          "color": "darkblue",
          "width": 2
         },
         "marker": {
          "color": [
           0,
           1,
           2,
           3,
           4,
           5,
           6,
           7,
           8,
           9,
           10,
           11,
           12,
           13,
           14,
           15,
           16,
           17,
           18,
           19,
           20,
           21,
           22,
           23,
           24,
           25,
           26,
           27,
           28,
           29,
           30,
           31,
           32,
           33,
           34,
           35,
           36,
           37,
           38,
           39,
           40,
           41,
           42,
           43,
           44,
           45,
           46,
           47,
           48,
           49,
           50,
           51,
           52,
           53,
           54,
           55,
           56,
           57,
           58,
           59,
           60,
           61,
           62,
           63,
           64,
           65,
           66,
           67,
           68,
           69,
           70,
           71,
           72,
           73,
           74,
           75,
           76,
           77,
           78,
           79,
           80,
           81,
           82,
           83,
           84,
           85,
           86,
           87,
           88,
           89,
           90,
           91,
           92,
           93,
           94,
           95,
           96,
           97,
           98,
           99,
           100,
           101,
           102,
           103,
           104,
           105,
           106,
           107,
           108,
           109,
           110,
           111,
           112,
           113,
           114,
           115,
           116,
           117,
           118,
           119,
           120,
           121,
           122,
           123,
           124,
           125,
           126,
           127,
           128,
           129,
           130,
           131,
           132,
           133,
           134,
           135,
           136,
           137,
           138,
           139,
           140,
           141,
           142,
           143,
           144,
           145,
           146,
           147,
           148,
           149,
           150,
           151,
           152,
           153,
           154,
           155,
           156,
           157,
           158,
           159,
           160,
           161,
           162,
           163,
           164,
           165,
           166,
           167,
           168,
           169,
           170,
           171,
           172,
           173,
           174,
           175,
           176,
           177,
           178,
           179,
           180,
           181,
           182,
           183,
           184,
           185,
           186,
           187,
           188,
           189,
           190,
           191,
           192,
           193,
           194,
           195,
           196,
           197,
           198,
           199,
           200,
           201
          ],
          "colorscale": [
           [
            0,
            "#440154"
           ],
           [
            0.1111111111111111,
            "#482878"
           ],
           [
            0.2222222222222222,
            "#3e4989"
           ],
           [
            0.3333333333333333,
            "#31688e"
           ],
           [
            0.4444444444444444,
            "#26828e"
           ],
           [
            0.5555555555555556,
            "#1f9e89"
           ],
           [
            0.6666666666666666,
            "#35b779"
           ],
           [
            0.7777777777777778,
            "#6ece58"
           ],
           [
            0.8888888888888888,
            "#b5de2b"
           ],
           [
            1,
            "#fde725"
           ]
          ],
          "size": 4
         },
         "scene": "scene",
         "type": "scatter3d",
         "x": [
          -0.11617447435855865,
          -0.03791821748018265,
          0.04670683667063713,
          0.13978135585784912,
          0.21786342561244965,
          0.2779562771320343,
          0.33708444237709045,
          0.38427045941352844,
          0.3807530403137207,
          0.3150673806667328,
          0.23885391652584076,
          0.15156598389148712,
          0.0769868940114975,
          0.020498061552643776,
          -0.030429817736148834,
          -0.029525181278586388,
          0.034680090844631195,
          0.10709412395954132,
          0.14884334802627563,
          0.2134513109922409,
          0.31550997495651245,
          0.36893129348754883,
          0.37515947222709656,
          0.41817790269851685,
          0.4840720295906067,
          0.5472744107246399,
          0.6268070936203003,
          0.6903325319290161,
          0.7529017925262451,
          0.801105797290802,
          0.8115475177764893,
          0.7648389935493469,
          0.6608444452285767,
          0.5548867583274841,
          0.4880940318107605,
          0.4807282090187073,
          0.4930410087108612,
          0.46825167536735535,
          0.38314536213874817,
          0.29053834080696106,
          0.19688716530799866,
          0.08741677552461624,
          -0.0021127176005393267,
          -0.06199466437101364,
          -0.08218128234148026,
          -0.11433529108762741,
          -0.1959468126296997,
          -0.29606926441192627,
          -0.40554285049438477,
          -0.5085029006004333,
          -0.5790907740592957,
          -0.5892248153686523,
          -0.527962327003479,
          -0.4748486578464508,
          -0.47052255272865295,
          -0.4990592300891876,
          -0.5149421095848083,
          -0.5274538397789001,
          -0.5681564807891846,
          -0.5679470300674438,
          -0.5570084452629089,
          -0.548595666885376,
          -0.5507451295852661,
          -0.5905041098594666,
          -0.6389787197113037,
          -0.6689842343330383,
          -0.67486172914505,
          -0.6482881307601929,
          -0.6002840399742126,
          -0.558573842048645,
          -0.495830774307251,
          -0.39958980679512024,
          -0.30579712986946106,
          -0.21815238893032074,
          -0.15734504163265228,
          -0.16126421093940735,
          -0.18848136067390442,
          -0.2504957914352417,
          -0.34184426069259644,
          -0.40205833315849304,
          -0.4127863943576813,
          -0.38963764905929565,
          -0.36868301033973694,
          -0.33054083585739136,
          -0.30159515142440796,
          -0.30301791429519653,
          -0.29788878560066223,
          -0.23774246871471405,
          -0.13075365126132965,
          -0.03620850667357445,
          0.05529852584004402,
          0.1623871624469757,
          0.22830073535442352,
          0.2598969042301178,
          0.31756365299224854,
          0.40321052074432373,
          0.47904109954833984,
          0.4961734414100647,
          0.48096582293510437,
          0.4402604401111603,
          0.35332679748535156,
          0.2716618776321411,
          0.19779075682163239,
          0.16831326484680176,
          0.1667747050523758,
          0.16374243795871735,
          0.15143708884716034,
          0.09772277623414993,
          0.02620856463909149,
          -0.0747554749250412,
          -0.16192710399627686,
          -0.18647699058055878,
          -0.1418759822845459,
          -0.05032235011458397,
          0.04975593090057373,
          0.15390858054161072,
          0.2393060177564621,
          0.30470964312553406,
          0.3932957053184509,
          0.47255197167396545,
          0.5545174479484558,
          0.6110402941703796,
          0.5719364881515503,
          0.5262590050697327,
          0.4842446744441986,
          0.4341636002063751,
          0.3661133348941803,
          0.26245781779289246,
          0.17612534761428833,
          0.08165481686592102,
          -0.0071396189741790295,
          -0.040169455111026764,
          -4.928436828777194E-4,
          0.0689781978726387,
          0.11843700706958771,
          0.15375421941280365,
          0.21911579370498657,
          0.300586074590683,
          0.31245332956314087,
          0.29845061898231506,
          0.27475133538246155,
          0.21659766137599945,
          0.18014323711395264,
          0.2251301109790802,
          0.310329794883728,
          0.32799196243286133,
          0.28518280386924744,
          0.20526565611362457,
          0.10768815129995346,
          0.028870077803730965,
          0.02997404709458351,
          0.06375065445899963,
          0.11131700128316879,
          0.21647845208644867,
          0.31520676612854004,
          0.3869173526763916,
          0.46322470903396606,
          0.5268260836601257,
          0.5192321538925171,
          0.44961512088775635,
          0.3707701563835144,
          0.31225085258483887,
          0.25314927101135254,
          0.16950607299804688,
          0.06347664445638657,
          -0.04473896697163582,
          -0.1474660485982895,
          -0.24160709977149963,
          -0.32191628217697144,
          -0.38584014773368835,
          -0.43990612030029297,
          -0.4618932604789734,
          -0.4392291009426117,
          -0.41247251629829407,
          -0.39393100142478943,
          -0.356804758310318,
          -0.2860685884952545,
          -0.1966567188501358,
          -0.13455422222614288,
          -0.0996810793876648,
          -0.09654261916875839,
          -0.1651683747768402,
          -0.26332658529281616,
          -0.34172531962394714,
          -0.3839617371559143,
          -0.43135473132133484,
          -0.4918937385082245,
          -0.5613536238670349,
          -0.6317773461341858,
          -0.6438614726066589,
          -0.5855109095573425,
          -0.5008158683776855,
          -0.45847588777542114,
          -0.4599389433860779,
          -0.4394255578517914,
          -0.3731670379638672,
          -0.3345471918582916,
          -0.3575647175312042,
          -0.3643205761909485,
          -0.32028189301490784,
          -0.2560182213783264,
          -0.1860814094543457
         ],
         "y": [
          0.08944384008646011,
          0.10456705093383789,
          0.17024515569210052,
          0.1906794309616089,
          0.1639876812696457,
          0.12943466007709503,
          0.0637640431523323,
          -0.021527621895074844,
          -0.11860470473766327,
          -0.20944048464298248,
          -0.2648506462574005,
          -0.27936452627182007,
          -0.2918497622013092,
          -0.28507673740386963,
          -0.27077823877334595,
          -0.31209200620651245,
          -0.38138025999069214,
          -0.3876912295818329,
          -0.3447554111480713,
          -0.33904317021369934,
          -0.35171958804130554,
          -0.3652005195617676,
          -0.32231149077415466,
          -0.24067385494709015,
          -0.16297946870326996,
          -0.07863672822713852,
          -0.042407408356666565,
          -0.07883036136627197,
          -0.14399836957454681,
          -0.22695960104465485,
          -0.3393362760543823,
          -0.4030146598815918,
          -0.4075722396373749,
          -0.38767626881599426,
          -0.3426060378551483,
          -0.304920494556427,
          -0.3397584557533264,
          -0.43014150857925415,
          -0.49113357067108154,
          -0.5468339920043945,
          -0.5995942950248718,
          -0.6133477091789246,
          -0.5824869275093079,
          -0.5003607273101807,
          -0.4002910256385803,
          -0.3079233169555664,
          -0.26188573241233826,
          -0.25327935814857483,
          -0.2662299573421478,
          -0.2974162697792053,
          -0.2956964373588562,
          -0.23207983374595642,
          -0.16765131056308746,
          -0.20861339569091797,
          -0.31893083453178406,
          -0.4208136796951294,
          -0.5054690837860107,
          -0.5816763043403625,
          -0.6429061889648438,
          -0.6283171772956848,
          -0.5356317162513733,
          -0.4276777505874634,
          -0.32994091510772705,
          -0.24732047319412231,
          -0.1769239902496338,
          -0.10948801040649414,
          -0.022452285513281822,
          0.058561962097883224,
          0.07762019336223602,
          0.047900695353746414,
          0.06223253905773163,
          0.07548948377370834,
          0.01412722747772932,
          -0.05512925982475281,
          -0.12811556458473206,
          -0.19802318513393402,
          -0.2813737690448761,
          -0.35651257634162903,
          -0.39373794198036194,
          -0.3781268000602722,
          -0.2979300618171692,
          -0.21146048605442047,
          -0.1640245020389557,
          -0.15537643432617188,
          -0.1477801650762558,
          -0.09617730975151062,
          -0.011854184791445732,
          0.04596942663192749,
          0.045474857091903687,
          -0.011499599553644657,
          -0.07182607054710388,
          -0.09080544859170914,
          -0.13705003261566162,
          -0.2362939566373825,
          -0.32519838213920593,
          -0.3460320234298706,
          -0.2891803979873657,
          -0.19455398619174957,
          -0.10384543240070343,
          -0.048033617436885834,
          -0.04737265780568123,
          -0.09815527498722076,
          -0.1590769737958908,
          -0.23949792981147766,
          -0.34192514419555664,
          -0.4485032558441162,
          -0.5273098945617676,
          -0.5367690920829773,
          -0.5050246119499207,
          -0.4872592091560364,
          -0.4379856586456299,
          -0.34087586402893066,
          -0.25049617886543274,
          -0.22202256321907043,
          -0.26311007142066956,
          -0.2923086881637573,
          -0.29501041769981384,
          -0.31991517543792725,
          -0.3422630727291107,
          -0.3634049892425537,
          -0.40173083543777466,
          -0.36591026186943054,
          -0.27542853355407715,
          -0.20988929271697998,
          -0.13987746834754944,
          -0.06932556629180908,
          -0.029291648417711258,
          -0.00171661248896271,
          0.03076871670782566,
          0.04777258262038231,
          0.09442566335201263,
          0.18980374932289124,
          0.23490019142627716,
          0.24009782075881958,
          0.20724833011627197,
          0.1321128010749817,
          0.08672281354665756,
          0.10720702260732651,
          0.14340580999851227,
          0.12450236082077026,
          0.11353382468223572,
          0.15298992395401,
          0.22412486374378204,
          0.2880399823188782,
          0.34996238350868225,
          0.43252983689308167,
          0.5235256552696228,
          0.5935593843460083,
          0.6418600082397461,
          0.6364655494689941,
          0.5634911060333252,
          0.5230661034584045,
          0.4994216561317444,
          0.479474276304245,
          0.48645931482315063,
          0.47136497497558594,
          0.4434916079044342,
          0.41577982902526855,
          0.4275406301021576,
          0.4919506311416626,
          0.5221216678619385,
          0.5262734293937683,
          0.5622127056121826,
          0.5934078097343445,
          0.5974488854408264,
          0.6110447645187378,
          0.6389402151107788,
          0.68062824010849,
          0.7398400902748108,
          0.8018255233764648,
          0.8200320601463318,
          0.8043843507766724,
          0.8240656852722168,
          0.8155520558357239,
          0.7340626120567322,
          0.6390692591667175,
          0.5568426251411438,
          0.49106502532958984,
          0.45649421215057373,
          0.4639952778816223,
          0.43877360224723816,
          0.40775901079177856,
          0.4316701591014862,
          0.48603880405426025,
          0.5614582896232605,
          0.5862489342689514,
          0.5205937027931213,
          0.43908944725990295,
          0.3610502779483795,
          0.27939823269844055,
          0.2130986601114273,
          0.1721285730600357,
          0.1765373945236206,
          0.20296573638916016,
          0.24594762921333313,
          0.3072813153266907,
          0.3565193712711334,
          0.38340631127357483,
          0.36521443724632263,
          0.29151588678359985,
          0.20925965905189514,
          0.13662992417812347
         ],
         "z": [
          0.0015235014725476503,
          0.0710795670747757,
          0.09527832269668579,
          0.10775916278362274,
          0.17181305587291718,
          0.25904151797294617,
          0.3295414447784424,
          0.38760286569595337,
          0.40765181183815,
          0.3988074064254761,
          0.35320934653282166,
          0.2866070866584778,
          0.21113084256649017,
          0.118867889046669,
          0.02304605208337307,
          -0.07114555686712265,
          -0.1188393384218216,
          -0.08403432369232178,
          0.010931352153420448,
          0.08979623019695282,
          0.13861143589019775,
          0.21721293032169342,
          0.29195544123649597,
          0.3427621126174927,
          0.37634262442588806,
          0.4059906303882599,
          0.39808014035224915,
          0.32434600591659546,
          0.2613222599029541,
          0.22573857009410858,
          0.21586120128631592,
          0.23812969028949738,
          0.28376099467277527,
          0.3111441731452942,
          0.36278802156448364,
          0.4667399227619171,
          0.5568886399269104,
          0.6035128831863403,
          0.6293235421180725,
          0.6511960029602051,
          0.6471812725067139,
          0.6205459833145142,
          0.5739948749542236,
          0.5323333740234375,
          0.496381551027298,
          0.47673922777175903,
          0.5196296572685242,
          0.5649583339691162,
          0.5833212733268738,
          0.5673872232437134,
          0.4916791319847107,
          0.413148432970047,
          0.363716721534729,
          0.33949390053749084,
          0.35640162229537964,
          0.3764967620372772,
          0.3355758488178253,
          0.2634272873401642,
          0.18189090490341187,
          0.0889878049492836,
          0.05014576017856598,
          0.07541888952255249,
          0.12732481956481934,
          0.1928006112575531,
          0.26798728108406067,
          0.26162993907928467,
          0.19765417277812958,
          0.13598664104938507,
          0.04096229374408722,
          -0.05980957671999931,
          -0.10685364156961441,
          -0.1023545116186142,
          -0.1042095422744751,
          -0.09485973417758942,
          -0.04614120349287987,
          0.035280339419841766,
          0.08916141092777252,
          0.09596333652734756,
          0.056425295770168304,
          -0.022591955959796906,
          -0.09327483922243118,
          -0.16275116801261902,
          -0.25753113627433777,
          -0.3622768223285675,
          -0.46794968843460083,
          -0.5594713687896729,
          -0.6350038051605225,
          -0.6825443506240845,
          -0.6896320581436157,
          -0.6998043060302734,
          -0.7226849794387817,
          -0.7305716872215271,
          -0.7516896724700928,
          -0.7612461447715759,
          -0.7238020300865173,
          -0.6834284663200378,
          -0.6310440897941589,
          -0.5984575152397156,
          -0.5542627573013306,
          -0.46954089403152466,
          -0.4312991797924042,
          -0.4718100130558014,
          -0.4946734607219696,
          -0.4560239613056183,
          -0.42063501477241516,
          -0.3966008722782135,
          -0.4287864565849304,
          -0.5200901627540588,
          -0.5995749831199646,
          -0.6324400305747986,
          -0.6293631196022034,
          -0.6529648900032043,
          -0.6742022633552551,
          -0.6509743332862854,
          -0.6201382279396057,
          -0.6053112149238586,
          -0.5551913380622864,
          -0.4689936339855194,
          -0.4081385135650635,
          -0.3392731249332428,
          -0.2930269241333008,
          -0.3135232627391815,
          -0.3260691165924072,
          -0.2672232389450073,
          -0.21297357976436615,
          -0.16044235229492188,
          -0.10843795537948608,
          -0.1295686811208725,
          -0.19298624992370605,
          -0.2363925725221634,
          -0.24025239050388336,
          -0.26780498027801514,
          -0.3362596035003662,
          -0.4231570065021515,
          -0.5031384825706482,
          -0.5789008140563965,
          -0.6449452042579651,
          -0.6335415840148926,
          -0.5463868379592896,
          -0.44185683131217957,
          -0.34325629472732544,
          -0.256570965051651,
          -0.18090961873531342,
          -0.14018131792545319,
          -0.11446288228034973,
          -0.0577113963663578,
          -0.018912438303232193,
          -0.026293694972991943,
          -0.05704766511917114,
          -0.10915915668010712,
          -0.16258665919303894,
          -0.24124476313591003,
          -0.31774985790252686,
          -0.3336116671562195,
          -0.29145777225494385,
          -0.20825226604938507,
          -0.13199588656425476,
          -0.04960951581597328,
          0.04202871769666672,
          0.08896218240261078,
          0.140762597322464,
          0.23718708753585815,
          0.32274213433265686,
          0.3856574296951294,
          0.4170374274253845,
          0.4405893385410309,
          0.479013592004776,
          0.5230984687805176,
          0.5223917961120605,
          0.4549751579761505,
          0.3661012053489685,
          0.2623169422149658,
          0.15920566022396088,
          0.06724066287279129,
          -0.004784636665135622,
          -0.045288439840078354,
          -0.06690087914466858,
          -0.06966770440340042,
          -0.009762750007212162,
          0.09582382440567017,
          0.1859564334154129,
          0.24655179679393768,
          0.2962503135204315,
          0.35284048318862915,
          0.4219105541706085,
          0.5023722648620605,
          0.5387599468231201,
          0.5485315918922424,
          0.5443248748779297,
          0.5708574056625366,
          0.619621753692627,
          0.5830268859863281,
          0.48675402998924255,
          0.37645795941352844,
          0.28021514415740967,
          0.2153976857662201,
          0.1375533789396286,
          0.03129434585571289,
          -0.06791438162326813,
          -0.13172951340675354,
          -0.12197016179561615,
          -0.06899110972881317
         ]
        },
        {
         "line": {
          "color": "darkblue",
          "width": 2
         },
         "marker": {
          "color": [
           0,
           1,
           2,
           3,
           4,
           5,
           6,
           7,
           8,
           9,
           10,
           11,
           12,
           13,
           14,
           15,
           16,
           17,
           18,
           19,
           20,
           21,
           22,
           23,
           24,
           25,
           26,
           27,
           28,
           29,
           30,
           31,
           32,
           33,
           34,
           35,
           36,
           37,
           38,
           39,
           40,
           41,
           42,
           43,
           44,
           45,
           46,
           47,
           48,
           49,
           50,
           51,
           52,
           53,
           54,
           55,
           56,
           57,
           58,
           59,
           60,
           61,
           62,
           63,
           64,
           65,
           66,
           67,
           68,
           69,
           70,
           71,
           72,
           73,
           74,
           75,
           76,
           77,
           78,
           79,
           80,
           81,
           82,
           83,
           84,
           85,
           86,
           87,
           88,
           89,
           90,
           91,
           92,
           93,
           94,
           95,
           96,
           97,
           98,
           99,
           100,
           101,
           102,
           103,
           104,
           105,
           106,
           107,
           108,
           109,
           110,
           111,
           112,
           113,
           114,
           115,
           116,
           117,
           118,
           119,
           120,
           121,
           122,
           123,
           124,
           125,
           126,
           127,
           128,
           129,
           130,
           131,
           132,
           133,
           134,
           135,
           136,
           137,
           138,
           139,
           140,
           141,
           142,
           143,
           144,
           145,
           146,
           147,
           148,
           149,
           150,
           151,
           152,
           153,
           154,
           155,
           156,
           157,
           158,
           159,
           160,
           161,
           162,
           163,
           164,
           165,
           166,
           167,
           168,
           169,
           170,
           171,
           172,
           173,
           174,
           175,
           176,
           177,
           178,
           179,
           180,
           181,
           182,
           183,
           184,
           185,
           186,
           187,
           188,
           189,
           190,
           191,
           192,
           193,
           194,
           195,
           196,
           197,
           198,
           199,
           200,
           201
          ],
          "colorscale": [
           [
            0,
            "#440154"
           ],
           [
            0.1111111111111111,
            "#482878"
           ],
           [
            0.2222222222222222,
            "#3e4989"
           ],
           [
            0.3333333333333333,
            "#31688e"
           ],
           [
            0.4444444444444444,
            "#26828e"
           ],
           [
            0.5555555555555556,
            "#1f9e89"
           ],
           [
            0.6666666666666666,
            "#35b779"
           ],
           [
            0.7777777777777778,
            "#6ece58"
           ],
           [
            0.8888888888888888,
            "#b5de2b"
           ],
           [
            1,
            "#fde725"
           ]
          ],
          "size": 4
         },
         "scene": "scene2",
         "type": "scatter3d",
         "x": [
          -0.11521552366258324,
          -0.03366477654397568,
          0.046037991582808205,
          0.1861267129141734,
          0.23623949255955748,
          0.2517197863778978,
          0.27888657602498107,
          0.32634699760816105,
          0.35983519871688263,
          0.3337186742691382,
          0.29254426143816387,
          0.27160240178731015,
          0.18067665971704389,
          0.10981656791812801,
          0.09059700586513961,
          0.11760410716500164,
          0.19012109551912443,
          0.2254775658010191,
          0.23992260735256013,
          0.26183476130852873,
          0.3066073594943145,
          0.3325989177701738,
          0.34005864761899235,
          0.3724645947636544,
          0.3828214514543111,
          0.42227064506621564,
          0.45817003038608617,
          0.4932313564371027,
          0.4356315416825541,
          0.4802149179623501,
          0.5099855221235525,
          0.5299446630851825,
          0.5207420380515815,
          0.44601198300291345,
          0.39917407186229004,
          0.40391455187208636,
          0.4908501508209262,
          0.5079053728741435,
          0.5450988000060007,
          0.44627331334622083,
          0.3534200587976552,
          0.2234451905614002,
          0.1423824685536112,
          0.014838343878698285,
          -0.07504448474721694,
          -0.12831842344314345,
          -0.24577206911005814,
          -0.3696266325252262,
          -0.42801224928423903,
          -0.5415115025407766,
          -0.6445942015185222,
          -0.657802467983202,
          -0.6066070606069941,
          -0.5480962903986805,
          -0.525853579397949,
          -0.5298892223673024,
          -0.5237234743889677,
          -0.5612809649908569,
          -0.550489852448046,
          -0.541174236560218,
          -0.523403938612349,
          -0.5215373845956318,
          -0.4920146291200379,
          -0.5543722291243184,
          -0.6123193040924555,
          -0.6300568971757783,
          -0.6591757222570367,
          -0.6203364017443436,
          -0.5555224452998404,
          -0.49560734486459324,
          -0.4383478469624142,
          -0.3769408512565724,
          -0.32787113007993635,
          -0.18841260401190613,
          -0.012408936986084487,
          -0.018933408222623554,
          -0.03680493691515754,
          -0.11628303703029072,
          -0.21187193363305165,
          -0.30855533659906864,
          -0.3684257600522325,
          -0.3583554296447828,
          -0.33356814755113534,
          -0.27374663233733787,
          -0.15716247951414816,
          -0.059034635374490226,
          -0.11481696588921939,
          -0.1123860992236475,
          -0.02103526495349626,
          0.11481095371568453,
          0.20195604942523174,
          0.26940120526706174,
          0.3098445063872386,
          0.3111065890161375,
          0.2514844107748763,
          0.2780932930022685,
          0.30634290623056776,
          0.31507413665452993,
          0.35688378924258257,
          0.3233293559296506,
          0.2968243805938455,
          0.30093930664541696,
          0.30455398311387527,
          0.2850640209704206,
          0.261908353574502,
          0.24292631648800495,
          0.23578148432940696,
          0.21359394445099777,
          0.16217983725304308,
          0.04723845039744906,
          -0.021818619030178274,
          -0.06259746910543502,
          -0.06899702434843259,
          -0.011167360442198843,
          0.07785758842150722,
          0.17055422889328303,
          0.25918205360856905,
          0.27669469434242283,
          0.26611776297101647,
          0.23910511327358133,
          0.266249664723413,
          0.22074954737968933,
          0.23171365130498148,
          0.2563904980189894,
          0.25612192822798985,
          0.24816719741068358,
          0.2629187556282196,
          0.24797423178971617,
          0.23625405358668655,
          0.23867236506229314,
          0.1841058841686188,
          0.18372763060471856,
          0.18746590535231727,
          0.190147363697639,
          0.20043687362106255,
          0.21816090694837095,
          0.21127232352652026,
          0.2862908750585953,
          0.2730812945891899,
          0.31328051741475943,
          0.2945773580806578,
          0.28784034382559215,
          0.25477883197184914,
          0.27862726561616147,
          0.2636209924953449,
          0.2712785121440359,
          0.23977738554420328,
          0.19327557013223345,
          0.17339084770839144,
          0.04959535229430429,
          0.03665960063563171,
          0.09971624847640612,
          0.17018851050517253,
          0.22118824556285102,
          0.2885338801096944,
          0.30164161420994684,
          0.300052061336592,
          0.3456063969815114,
          0.3319229321448704,
          0.35022640694709073,
          0.3116290934666645,
          0.3008429164577358,
          0.3262627873917821,
          0.303096176780908,
          0.03186143581187594,
          -0.11430156607457595,
          -0.22793111602955135,
          -0.3738876154696502,
          -0.42335307766970776,
          -0.42985702828213074,
          -0.4475995035820647,
          -0.404384507222604,
          -0.4287524489264093,
          -0.467838273980252,
          -0.43161097879583954,
          -0.4008149667560251,
          -0.3284100187521841,
          -0.27953403808960103,
          -0.1448767657884094,
          -0.14214250736186934,
          -0.16882913924114626,
          -0.22581310317747397,
          -0.27461135796507213,
          -0.3121001822987967,
          -0.4042855866878447,
          -0.436718853676022,
          -0.4623761823228648,
          -0.4538369970337675,
          -0.5021708966000267,
          -0.597503625261718,
          -0.5312382349242494,
          -0.510948070763192,
          -0.4699895982397463,
          -0.44959839940752133,
          -0.4476688951546295,
          -0.4348826215909707,
          -0.3761744965644637,
          -0.35322107846253287,
          -0.3840300305065121,
          -0.34995440245770154,
          -0.3151148414187919,
          -0.17845591338036057
         ],
         "y": [
          0.10512269993413743,
          0.07452150450475564,
          0.1334519271615361,
          0.14569264965496262,
          0.14279035383562444,
          0.12516015477102702,
          0.0874943757542635,
          0.01355511461974344,
          -0.07833290258734439,
          -0.1738643880964057,
          -0.2387899944146652,
          -0.2000056340652413,
          -0.2330014324044408,
          -0.26435775161192404,
          -0.29851409745280205,
          -0.31949425097538,
          -0.36162137364577446,
          -0.3764009708818946,
          -0.3510212611110463,
          -0.28187989402817504,
          -0.28760962140201585,
          -0.3031808822542549,
          -0.32495511246178493,
          -0.26707435181153005,
          -0.2258308469820415,
          -0.14116294414823616,
          -0.08995597626745043,
          -0.16334034769416506,
          -0.28964794614501754,
          -0.3202971474508486,
          -0.356868040442652,
          -0.4664219205523989,
          -0.4379632719911233,
          -0.45415914022644227,
          -0.427906108211867,
          -0.37212834399042277,
          -0.3456821367121778,
          -0.4528607276859269,
          -0.5545697893658865,
          -0.6554935778413151,
          -0.5596312873025376,
          -0.49422679492291066,
          -0.5310275618786969,
          -0.4767597274334185,
          -0.35111370011327714,
          -0.29101645590269826,
          -0.22652047702889583,
          -0.2657876834911225,
          -0.2070914037122316,
          -0.2035553801823603,
          -0.20725521562337396,
          -0.16808715708561003,
          -0.12913922493128926,
          -0.15155722554797516,
          -0.20712626398253037,
          -0.29868856507888225,
          -0.4130620961173172,
          -0.47487116055076817,
          -0.5320832139839259,
          -0.547359083693265,
          -0.5130680619126938,
          -0.47978899710467565,
          -0.4032963586576503,
          -0.2665562498185211,
          -0.16079867326907693,
          -0.14330254127265196,
          -0.11935996147870717,
          -0.060787928567549686,
          -0.003100660763139944,
          0.01660102269271185,
          0.02719206871722022,
          0.05054123566858257,
          0.05227595671370905,
          0.030163299827308292,
          -0.04929324844965189,
          -0.1486784506850464,
          -0.22323725222124133,
          -0.36309630516743197,
          -0.4439774998849989,
          -0.4290817915690785,
          -0.384404047746189,
          -0.2924244474142777,
          -0.20104122432306373,
          -0.1911932145128841,
          -0.20415367372540696,
          -0.10445875528348408,
          -0.017670337891359193,
          0.012226519169309297,
          0.07674773195666859,
          0.08133658079556984,
          -0.03557622799844002,
          -0.09960621199109612,
          -0.08973562916735707,
          -0.1800474998535261,
          -0.19313581519782622,
          -0.21428627219404167,
          -0.20857797801031902,
          -0.16855801513374305,
          -0.09214972475890584,
          0.011919743008197857,
          0.056470295172706325,
          0.04626419810943904,
          -0.037276988001632226,
          -0.14595508008929123,
          -0.331641296346609,
          -0.42345796391254553,
          -0.4742459593981406,
          -0.4838911673805074,
          -0.4725308061835546,
          -0.4365763651310049,
          -0.4257484121807545,
          -0.3098465425299145,
          -0.2766208610432736,
          -0.29547270300532985,
          -0.2890899232231417,
          -0.326945543008153,
          -0.31488842449922294,
          -0.3113741588788564,
          -0.3422666762941186,
          -0.32159322210596514,
          -0.3623987289689065,
          -0.35387549417893654,
          -0.3041370267275326,
          -0.12012476716257466,
          -0.0010565111265518603,
          0.03284591406673421,
          0.05524651254375398,
          0.05650795987073253,
          0.07497679632563871,
          0.07499926549171566,
          0.0892360096121559,
          0.16540363048180617,
          0.2043794667556477,
          0.22951404898336603,
          0.20745443696389615,
          0.2073629551703666,
          0.21397647617942744,
          0.16075563561511505,
          0.18860299833171484,
          0.1624586618154499,
          0.14471990082780609,
          0.09801229198131772,
          0.1369354870316235,
          0.17627018480580084,
          0.22763886217948318,
          0.3096458981582417,
          0.4232271606470578,
          0.47367274622737565,
          0.5543402092129703,
          0.5691025331291739,
          0.5040877621643374,
          0.4326925102903306,
          0.3865288589835999,
          0.3560955210993,
          0.34068169786256014,
          0.3535540022984163,
          0.3715641429241833,
          0.35709898300545734,
          0.3288962171110972,
          0.38356625201564737,
          0.4164640595654145,
          0.46101015584925625,
          0.5194739061213424,
          0.6216168720953599,
          0.5785821702315768,
          0.5979326521264529,
          0.632051067058056,
          0.697268122789303,
          0.7871914113573116,
          0.8594989922597618,
          0.8686925201248323,
          0.8126421043426509,
          0.7738329307292405,
          0.7925388702069888,
          0.7526608502459328,
          0.6189634091004967,
          0.5100245903780518,
          0.43310677909524337,
          0.39029987060361626,
          0.3802848445937175,
          0.38625486602893633,
          0.36009699500506753,
          0.36001800852971466,
          0.4367959703973845,
          0.5217509170541935,
          0.6089206433473574,
          0.6187106584271987,
          0.5582662271184642,
          0.4526843238441769,
          0.38086214069405117,
          0.2981893307395152,
          0.23300572913957945,
          0.2210926024435846,
          0.19829406223414686,
          0.2243228700137204,
          0.25152920106706894,
          0.28979052236796093,
          0.32129073093641564,
          0.308772250435928,
          0.26825532472299646,
          0.2182103887864749,
          0.13298559687537082
         ],
         "z": [
          -0.007968968247500891,
          0.10172654114758703,
          0.1671319116656158,
          0.15167208654747605,
          0.19507044361730344,
          0.2149184349747504,
          0.21888555912170293,
          0.2444918029226621,
          0.27771626015580203,
          0.285501120036872,
          0.2553665045014966,
          0.17631232658519524,
          0.1371743152188243,
          0.10510814332882493,
          0.04321810201434029,
          0.008872044561196068,
          -0.04934578286524055,
          -0.10061522360381901,
          -0.05806997153739157,
          0.05514754780807072,
          0.10967351528497228,
          0.13508963989249517,
          0.1697260702397346,
          0.21517751270393387,
          0.2406915655084207,
          0.2627688914455376,
          0.3032825704889814,
          0.24374816766689125,
          0.28413783727837505,
          0.24251582428589594,
          0.20884837085756539,
          0.1850158038153277,
          0.22938651840040877,
          0.29057772241777896,
          0.28373256816882647,
          0.36856046492617967,
          0.43744825344118393,
          0.4622639744793511,
          0.4939387197305024,
          0.5225779032939244,
          0.557731701320353,
          0.6037294254305249,
          0.5474593930664087,
          0.48231067030604824,
          0.4368212866437184,
          0.39651785664149414,
          0.35897359989113387,
          0.3793017296589664,
          0.4888411438531415,
          0.5309699291678426,
          0.46881893925068047,
          0.3888201358155279,
          0.3231075214560546,
          0.2645929350956744,
          0.24122703915476473,
          0.24701745076202125,
          0.2771397962653908,
          0.22888925634805168,
          0.1393742294646033,
          0.11728643667929088,
          0.06906531417657881,
          0.03502189962424972,
          -0.0025808223028944903,
          0.04938269851732198,
          0.20247068709260452,
          0.2795204984028489,
          0.21097144523144262,
          0.22308282751693193,
          0.1540850531183936,
          0.06892809498814317,
          7.616379678603218E-4,
          -0.016926176239008717,
          -0.029679528704529633,
          0.01552720527183421,
          0.0708477413271566,
          0.10875779893274774,
          0.11016420670038712,
          0.10946272710486143,
          0.11203435840086108,
          0.01701640210689694,
          -0.03903380264523183,
          -0.053081597655427123,
          -0.07189687766869741,
          -0.13340109084117593,
          -0.2540830831449464,
          -0.3937278040702407,
          -0.4565296230925417,
          -0.4765598728951851,
          -0.5146117423747799,
          -0.5630045926214501,
          -0.6127217690468424,
          -0.6651829124567958,
          -0.7149335791706388,
          -0.7488422794393943,
          -0.7162560352762012,
          -0.6914262234540884,
          -0.656375656589303,
          -0.6304163302893222,
          -0.6167345434683201,
          -0.48726562242714067,
          -0.40411462301723977,
          -0.3851730962575953,
          -0.40352687548929134,
          -0.3752779760728415,
          -0.32480666271009423,
          -0.29987923247178466,
          -0.3184305195880745,
          -0.3864584864197813,
          -0.4597306076398563,
          -0.5612450869209722,
          -0.5600644725642883,
          -0.5529535254420155,
          -0.5665576402377224,
          -0.5442041414496012,
          -0.5215483066119894,
          -0.5150237979720099,
          -0.5040268191391094,
          -0.46394733729619053,
          -0.40305431667882063,
          -0.3587451470573803,
          -0.35106296003842474,
          -0.3590268396232702,
          -0.347346446741467,
          -0.283224374757804,
          -0.2572235521726258,
          -0.20254489385634472,
          -0.1562220202684946,
          -0.13406254815406707,
          -0.14266518049843577,
          -0.18089064386838505,
          -0.1750937943344966,
          -0.19086431637607543,
          -0.23261532803227944,
          -0.30052922937166116,
          -0.36339725849512144,
          -0.45032075136464617,
          -0.538554308963756,
          -0.6377411458407019,
          -0.5705782148086085,
          -0.4581747538432504,
          -0.3399670509388975,
          -0.2260910185055691,
          -0.19013782405266955,
          -0.141578380477493,
          -0.12654335500870192,
          -0.07216050079623844,
          -0.07490204299065892,
          -0.01788895562157166,
          -0.0422685252011833,
          -0.10731361369634528,
          -0.10923987227085155,
          -0.14687524063306046,
          -0.20777949271015328,
          -0.2870393149058184,
          -0.2677266667252472,
          -0.23028016897412826,
          -0.1783417773929889,
          -0.09576475002111162,
          0.049752764025383804,
          0.11560606538573988,
          0.14001353428586968,
          0.15976701971030033,
          0.22070891422523306,
          0.16271815914176352,
          0.2980147304374754,
          0.36356471068971935,
          0.3793769584018328,
          0.4051721890516951,
          0.3042274405511051,
          0.2468104526091831,
          0.2121983216386882,
          0.18790406329821083,
          0.12709107953206772,
          0.10937172473155077,
          0.06824809273411488,
          0.00767689295446643,
          -0.040873584386581875,
          -0.06183570222200842,
          0.00641570620425724,
          0.055209047394356496,
          0.1508030203513234,
          0.26019188744361965,
          0.3010211328590122,
          0.3725278640022379,
          0.40932995035376585,
          0.38128237044470487,
          0.4099067843354743,
          0.4884894662758497,
          0.5387315603771361,
          0.5804376889164394,
          0.6410916958460945,
          0.6268118084216433,
          0.5378013723575195,
          0.3976620330087565,
          0.3142162020356219,
          0.2122632218137472,
          0.15127620043095633,
          0.06796848765613075,
          -0.033768932448381694,
          -0.08793763696948845,
          -0.08281289165607573,
          0.06614306452539725
         ]
        }
       ],
       "layout": {
        "height": 1000,
        "scene": {
         "domain": {
          "x": [
           0,
           0.45
          ],
          "y": [
           0,
           1
          ]
         }
        },
        "scene2": {
         "domain": {
          "x": [
           0.55,
           1
          ],
          "y": [
           0,
           1
          ]
         }
        },
        "template": {
         "data": {
          "bar": [
           {
            "error_x": {
             "color": "#2a3f5f"
            },
            "error_y": {
             "color": "#2a3f5f"
            },
            "marker": {
             "line": {
              "color": "#E5ECF6",
              "width": 0.5
             }
            },
            "type": "bar"
           }
          ],
          "barpolar": [
           {
            "marker": {
             "line": {
              "color": "#E5ECF6",
              "width": 0.5
             }
            },
            "type": "barpolar"
           }
          ],
          "carpet": [
           {
            "aaxis": {
             "endlinecolor": "#2a3f5f",
             "gridcolor": "white",
             "linecolor": "white",
             "minorgridcolor": "white",
             "startlinecolor": "#2a3f5f"
            },
            "baxis": {
             "endlinecolor": "#2a3f5f",
             "gridcolor": "white",
             "linecolor": "white",
             "minorgridcolor": "white",
             "startlinecolor": "#2a3f5f"
            },
            "type": "carpet"
           }
          ],
          "choropleth": [
           {
            "colorbar": {
             "outlinewidth": 0,
             "ticks": ""
            },
            "type": "choropleth"
           }
          ],
          "contour": [
           {
            "colorbar": {
             "outlinewidth": 0,
             "ticks": ""
            },
            "colorscale": [
             [
              0,
              "#0d0887"
             ],
             [
              0.1111111111111111,
              "#46039f"
             ],
             [
              0.2222222222222222,
              "#7201a8"
             ],
             [
              0.3333333333333333,
              "#9c179e"
             ],
             [
              0.4444444444444444,
              "#bd3786"
             ],
             [
              0.5555555555555556,
              "#d8576b"
             ],
             [
              0.6666666666666666,
              "#ed7953"
             ],
             [
              0.7777777777777778,
              "#fb9f3a"
             ],
             [
              0.8888888888888888,
              "#fdca26"
             ],
             [
              1,
              "#f0f921"
             ]
            ],
            "type": "contour"
           }
          ],
          "contourcarpet": [
           {
            "colorbar": {
             "outlinewidth": 0,
             "ticks": ""
            },
            "type": "contourcarpet"
           }
          ],
          "heatmap": [
           {
            "colorbar": {
             "outlinewidth": 0,
             "ticks": ""
            },
            "colorscale": [
             [
              0,
              "#0d0887"
             ],
             [
              0.1111111111111111,
              "#46039f"
             ],
             [
              0.2222222222222222,
              "#7201a8"
             ],
             [
              0.3333333333333333,
              "#9c179e"
             ],
             [
              0.4444444444444444,
              "#bd3786"
             ],
             [
              0.5555555555555556,
              "#d8576b"
             ],
             [
              0.6666666666666666,
              "#ed7953"
             ],
             [
              0.7777777777777778,
              "#fb9f3a"
             ],
             [
              0.8888888888888888,
              "#fdca26"
             ],
             [
              1,
              "#f0f921"
             ]
            ],
            "type": "heatmap"
           }
          ],
          "heatmapgl": [
           {
            "colorbar": {
             "outlinewidth": 0,
             "ticks": ""
            },
            "colorscale": [
             [
              0,
              "#0d0887"
             ],
             [
              0.1111111111111111,
              "#46039f"
             ],
             [
              0.2222222222222222,
              "#7201a8"
             ],
             [
              0.3333333333333333,
              "#9c179e"
             ],
             [
              0.4444444444444444,
              "#bd3786"
             ],
             [
              0.5555555555555556,
              "#d8576b"
             ],
             [
              0.6666666666666666,
              "#ed7953"
             ],
             [
              0.7777777777777778,
              "#fb9f3a"
             ],
             [
              0.8888888888888888,
              "#fdca26"
             ],
             [
              1,
              "#f0f921"
             ]
            ],
            "type": "heatmapgl"
           }
          ],
          "histogram": [
           {
            "marker": {
             "colorbar": {
              "outlinewidth": 0,
              "ticks": ""
             }
            },
            "type": "histogram"
           }
          ],
          "histogram2d": [
           {
            "colorbar": {
             "outlinewidth": 0,
             "ticks": ""
            },
            "colorscale": [
             [
              0,
              "#0d0887"
             ],
             [
              0.1111111111111111,
              "#46039f"
             ],
             [
              0.2222222222222222,
              "#7201a8"
             ],
             [
              0.3333333333333333,
              "#9c179e"
             ],
             [
              0.4444444444444444,
              "#bd3786"
             ],
             [
              0.5555555555555556,
              "#d8576b"
             ],
             [
              0.6666666666666666,
              "#ed7953"
             ],
             [
              0.7777777777777778,
              "#fb9f3a"
             ],
             [
              0.8888888888888888,
              "#fdca26"
             ],
             [
              1,
              "#f0f921"
             ]
            ],
            "type": "histogram2d"
           }
          ],
          "histogram2dcontour": [
           {
            "colorbar": {
             "outlinewidth": 0,
             "ticks": ""
            },
            "colorscale": [
             [
              0,
              "#0d0887"
             ],
             [
              0.1111111111111111,
              "#46039f"
             ],
             [
              0.2222222222222222,
              "#7201a8"
             ],
             [
              0.3333333333333333,
              "#9c179e"
             ],
             [
              0.4444444444444444,
              "#bd3786"
             ],
             [
              0.5555555555555556,
              "#d8576b"
             ],
             [
              0.6666666666666666,
              "#ed7953"
             ],
             [
              0.7777777777777778,
              "#fb9f3a"
             ],
             [
              0.8888888888888888,
              "#fdca26"
             ],
             [
              1,
              "#f0f921"
             ]
            ],
            "type": "histogram2dcontour"
           }
          ],
          "mesh3d": [
           {
            "colorbar": {
             "outlinewidth": 0,
             "ticks": ""
            },
            "type": "mesh3d"
           }
          ],
          "parcoords": [
           {
            "line": {
             "colorbar": {
              "outlinewidth": 0,
              "ticks": ""
             }
            },
            "type": "parcoords"
           }
          ],
          "pie": [
           {
            "automargin": true,
            "type": "pie"
           }
          ],
          "scatter": [
           {
            "marker": {
             "colorbar": {
              "outlinewidth": 0,
              "ticks": ""
             }
            },
            "type": "scatter"
           }
          ],
          "scatter3d": [
           {
            "line": {
             "colorbar": {
              "outlinewidth": 0,
              "ticks": ""
             }
            },
            "marker": {
             "colorbar": {
              "outlinewidth": 0,
              "ticks": ""
             }
            },
            "type": "scatter3d"
           }
          ],
          "scattercarpet": [
           {
            "marker": {
             "colorbar": {
              "outlinewidth": 0,
              "ticks": ""
             }
            },
            "type": "scattercarpet"
           }
          ],
          "scattergeo": [
           {
            "marker": {
             "colorbar": {
              "outlinewidth": 0,
              "ticks": ""
             }
            },
            "type": "scattergeo"
           }
          ],
          "scattergl": [
           {
            "marker": {
             "colorbar": {
              "outlinewidth": 0,
              "ticks": ""
             }
            },
            "type": "scattergl"
           }
          ],
          "scattermapbox": [
           {
            "marker": {
             "colorbar": {
              "outlinewidth": 0,
              "ticks": ""
             }
            },
            "type": "scattermapbox"
           }
          ],
          "scatterpolar": [
           {
            "marker": {
             "colorbar": {
              "outlinewidth": 0,
              "ticks": ""
             }
            },
            "type": "scatterpolar"
           }
          ],
          "scatterpolargl": [
           {
            "marker": {
             "colorbar": {
              "outlinewidth": 0,
              "ticks": ""
             }
            },
            "type": "scatterpolargl"
           }
          ],
          "scatterternary": [
           {
            "marker": {
             "colorbar": {
              "outlinewidth": 0,
              "ticks": ""
             }
            },
            "type": "scatterternary"
           }
          ],
          "surface": [
           {
            "colorbar": {
             "outlinewidth": 0,
             "ticks": ""
            },
            "colorscale": [
             [
              0,
              "#0d0887"
             ],
             [
              0.1111111111111111,
              "#46039f"
             ],
             [
              0.2222222222222222,
              "#7201a8"
             ],
             [
              0.3333333333333333,
              "#9c179e"
             ],
             [
              0.4444444444444444,
              "#bd3786"
             ],
             [
              0.5555555555555556,
              "#d8576b"
             ],
             [
              0.6666666666666666,
              "#ed7953"
             ],
             [
              0.7777777777777778,
              "#fb9f3a"
             ],
             [
              0.8888888888888888,
              "#fdca26"
             ],
             [
              1,
              "#f0f921"
             ]
            ],
            "type": "surface"
           }
          ],
          "table": [
           {
            "cells": {
             "fill": {
              "color": "#EBF0F8"
             },
             "line": {
              "color": "white"
             }
            },
            "header": {
             "fill": {
              "color": "#C8D4E3"
             },
             "line": {
              "color": "white"
             }
            },
            "type": "table"
           }
          ]
         },
         "layout": {
          "annotationdefaults": {
           "arrowcolor": "#2a3f5f",
           "arrowhead": 0,
           "arrowwidth": 1
          },
          "autotypenumbers": "strict",
          "coloraxis": {
           "colorbar": {
            "outlinewidth": 0,
            "ticks": ""
           }
          },
          "colorscale": {
           "diverging": [
            [
             0,
             "#8e0152"
            ],
            [
             0.1,
             "#c51b7d"
            ],
            [
             0.2,
             "#de77ae"
            ],
            [
             0.3,
             "#f1b6da"
            ],
            [
             0.4,
             "#fde0ef"
            ],
            [
             0.5,
             "#f7f7f7"
            ],
            [
             0.6,
             "#e6f5d0"
            ],
            [
             0.7,
             "#b8e186"
            ],
            [
             0.8,
             "#7fbc41"
            ],
            [
             0.9,
             "#4d9221"
            ],
            [
             1,
             "#276419"
            ]
           ],
           "sequential": [
            [
             0,
             "#0d0887"
            ],
            [
             0.1111111111111111,
             "#46039f"
            ],
            [
             0.2222222222222222,
             "#7201a8"
            ],
            [
             0.3333333333333333,
             "#9c179e"
            ],
            [
             0.4444444444444444,
             "#bd3786"
            ],
            [
             0.5555555555555556,
             "#d8576b"
            ],
            [
             0.6666666666666666,
             "#ed7953"
            ],
            [
             0.7777777777777778,
             "#fb9f3a"
            ],
            [
             0.8888888888888888,
             "#fdca26"
            ],
            [
             1,
             "#f0f921"
            ]
           ],
           "sequentialminus": [
            [
             0,
             "#0d0887"
            ],
            [
             0.1111111111111111,
             "#46039f"
            ],
            [
             0.2222222222222222,
             "#7201a8"
            ],
            [
             0.3333333333333333,
             "#9c179e"
            ],
            [
             0.4444444444444444,
             "#bd3786"
            ],
            [
             0.5555555555555556,
             "#d8576b"
            ],
            [
             0.6666666666666666,
             "#ed7953"
            ],
            [
             0.7777777777777778,
             "#fb9f3a"
            ],
            [
             0.8888888888888888,
             "#fdca26"
            ],
            [
             1,
             "#f0f921"
            ]
           ]
          },
          "colorway": [
           "#636efa",
           "#EF553B",
           "#00cc96",
           "#ab63fa",
           "#FFA15A",
           "#19d3f3",
           "#FF6692",
           "#B6E880",
           "#FF97FF",
           "#FECB52"
          ],
          "font": {
           "color": "#2a3f5f"
          },
          "geo": {
           "bgcolor": "white",
           "lakecolor": "white",
           "landcolor": "#E5ECF6",
           "showlakes": true,
           "showland": true,
           "subunitcolor": "white"
          },
          "hoverlabel": {
           "align": "left"
          },
          "hovermode": "closest",
          "mapbox": {
           "style": "light"
          },
          "paper_bgcolor": "white",
          "plot_bgcolor": "#E5ECF6",
          "polar": {
           "angularaxis": {
            "gridcolor": "white",
            "linecolor": "white",
            "ticks": ""
           },
           "bgcolor": "#E5ECF6",
           "radialaxis": {
            "gridcolor": "white",
            "linecolor": "white",
            "ticks": ""
           }
          },
          "scene": {
           "xaxis": {
            "backgroundcolor": "#E5ECF6",
            "gridcolor": "white",
            "gridwidth": 2,
            "linecolor": "white",
            "showbackground": true,
            "ticks": "",
            "zerolinecolor": "white"
           },
           "yaxis": {
            "backgroundcolor": "#E5ECF6",
            "gridcolor": "white",
            "gridwidth": 2,
            "linecolor": "white",
            "showbackground": true,
            "ticks": "",
            "zerolinecolor": "white"
           },
           "zaxis": {
            "backgroundcolor": "#E5ECF6",
            "gridcolor": "white",
            "gridwidth": 2,
            "linecolor": "white",
            "showbackground": true,
            "ticks": "",
            "zerolinecolor": "white"
           }
          },
          "shapedefaults": {
           "line": {
            "color": "#2a3f5f"
           }
          },
          "ternary": {
           "aaxis": {
            "gridcolor": "white",
            "linecolor": "white",
            "ticks": ""
           },
           "baxis": {
            "gridcolor": "white",
            "linecolor": "white",
            "ticks": ""
           },
           "bgcolor": "#E5ECF6",
           "caxis": {
            "gridcolor": "white",
            "linecolor": "white",
            "ticks": ""
           }
          },
          "title": {
           "x": 0.05
          },
          "xaxis": {
           "automargin": true,
           "gridcolor": "white",
           "linecolor": "white",
           "ticks": "",
           "title": {
            "standoff": 15
           },
           "zerolinecolor": "white",
           "zerolinewidth": 2
          },
          "yaxis": {
           "automargin": true,
           "gridcolor": "white",
           "linecolor": "white",
           "ticks": "",
           "title": {
            "standoff": 15
           },
           "zerolinecolor": "white",
           "zerolinewidth": 2
          }
         }
        },
        "width": 1300
       }
      }
     },
     "metadata": {},
     "output_type": "display_data"
    },
    {
     "name": "stdout",
     "output_type": "stream",
     "text": [
      "Kabsch distance is 0.02390525352449881\n"
     ]
    },
    {
     "data": {
      "text/plain": [
       "<Figure size 50000x50000 with 0 Axes>"
      ]
     },
     "metadata": {},
     "output_type": "display_data"
    }
   ],
   "source": [
    "# Trussart perfect structure\n",
    "trussart_true_structure = np.mean(trussart_structures, axis=0)\n",
    "\n",
    "# Trussart predicted structure\n",
    "torch_trussart_hic = torch.FloatTensor(trussart_hic)\n",
    "torch_trussart_hic = torch.reshape(torch_trussart_hic, (1, NB_BINS, NB_BINS))\n",
    "torch_trussart_hic = torch.repeat_interleave(torch_trussart_hic, BATCH_SIZE, 0)\n",
    "\n",
    "trussart_pred_structure, _ = model(torch_trussart_hic)\n",
    "trussart_pred_structure = trussart_pred_structure.detach().numpy()[0]\n",
    "\n",
    "# Superpose structure using Kabsch algorithm\n",
    "trussart_pred_structure_superposed, trussart_true_structure_superposed = \\\n",
    "        kabsch_superimposition_numpy(trussart_pred_structure, trussart_true_structure, EMBEDDING_SIZE)\n",
    "\n",
    "# Plot and compare the two structures\n",
    "x_pred = trussart_pred_structure_superposed[:, 0]  \n",
    "y_pred = trussart_pred_structure_superposed[:, 1]\n",
    "z_pred = trussart_pred_structure_superposed[:, 2]\n",
    "\n",
    "x_true = trussart_true_structure_superposed[:, 0]  \n",
    "y_true = trussart_true_structure_superposed[:, 1]\n",
    "z_true = trussart_true_structure_superposed[:, 2]\n",
    "colorscale1 = np.asarray(range(len(x_true)))\n",
    "colorscale2 = np.asarray(range(len(x_pred)))\n",
    "color1 = 'Viridis'\n",
    "color2 = 'Viridis'\n",
    "\n",
    "plot_true_pred_structures(x_pred, y_pred, z_pred, x_true, y_true, z_true, colorscale1, colorscale2, color1, color2)\n",
    "\n",
    "# Shape comparison\n",
    "print('Kabsch distance is ' + str(kabsch_distance_numpy(trussart_pred_structure, trussart_true_structure, EMBEDDING_SIZE)))"
   ]
  },
  {
   "cell_type": "code",
   "execution_count": 17,
   "metadata": {},
   "outputs": [
    {
     "data": {
      "image/png": "[encoded data removed]",
      "text/plain": [
       "<Figure size 640x480 with 1 Axes>"
      ]
     },
     "metadata": {},
     "output_type": "display_data"
    },
    {
     "name": "stdout",
     "output_type": "stream",
     "text": [
      "mean: 0.08813911742416447\n",
      "median: 0.07756332512278678\n",
      "variance: 0.0024399080361770255\n"
     ]
    }
   ],
   "source": [
    "plot_hist_kabsch_distances(test_size, test_true_structures, test_pred_structures, EMBEDDING_SIZE)"
   ]
  },
  {
   "cell_type": "code",
   "execution_count": 20,
   "metadata": {},
   "outputs": [],
   "source": [
    "RESULTS_ROOT = '../../saved_results/synthetic_biological_trussart_uniform/linear/'\n",
    "LAMBDA_CONFIGURATION = str(LAMBDA_BIO) + '_' + str(LAMBDA_KABSCH)"
   ]
  },
  {
   "cell_type": "code",
   "execution_count": 21,
   "metadata": {},
   "outputs": [],
   "source": [
    "np.savetxt(RESULTS_ROOT + 'synthetic_biological_trussart_linear_uniform_losses_' + LAMBDA_CONFIGURATION + '.txt', losses)\n",
    "\n",
    "np.savetxt(RESULTS_ROOT + 'synthetic_biological_trussart_linear_uniform_train_biological_losses_all_epochs_' +\n",
    "               LAMBDA_CONFIGURATION + '.txt', train_biological_losses_all_epochs)\n",
    "np.savetxt(RESULTS_ROOT + 'synthetic_biological_trussart_linear_uniform_test_biological_losses_all_epochs_' +\n",
    "               LAMBDA_CONFIGURATION + '.txt', test_biological_losses_all_epochs)\n",
    "\n",
    "np.savetxt(RESULTS_ROOT + 'synthetic_biological_trussart_linear_uniform_train_kabsch_losses_all_epochs_' + \n",
    "           LAMBDA_CONFIGURATION + '.txt', train_kabsch_losses_all_epochs)\n",
    "np.savetxt(RESULTS_ROOT + 'synthetic_biological_trussart_linear_uniform_test_kabsch_losses_all_epochs_' + \n",
    "           LAMBDA_CONFIGURATION + '.txt', test_kabsch_losses_all_epochs)\n",
    "\n",
    "np.savetxt(RESULTS_ROOT + 'synthetic_biological_trussart_linear_uniform_train_distance_losses_all_epochs_' +\n",
    "           LAMBDA_CONFIGURATION + '.txt', train_distance_losses_all_epochs)\n",
    "np.savetxt(RESULTS_ROOT + 'synthetic_biological_trussart_linear_uniform_test_distance_losses_all_epochs_' + \n",
    "           LAMBDA_CONFIGURATION + '.txt', test_distance_losses_all_epochs)\n",
    "\n",
    "np.savetxt(RESULTS_ROOT + 'synthetic_biological_trussart_linear_uniform_trussart_test_kabsch_losses_all_epochs_' +\n",
    "               LAMBDA_CONFIGURATION + '.txt', trussart_test_kabsch_losses_all_epochs)"
   ]
  },
  {
   "cell_type": "code",
   "execution_count": 22,
   "metadata": {},
   "outputs": [],
   "source": [
    "torch.save(model, \n",
    "           '../../saved_models/synthetic_biological_trussart_uniform/linear/synthetic_biological_trussart_uniform_linear_model_' + \n",
    "           LAMBDA_CONFIGURATION + '.pt')"
   ]
  },
  {
   "cell_type": "code",
   "execution_count": null,
   "metadata": {},
   "outputs": [],
   "source": []
  }
 ],
 "metadata": {
  "kernelspec": {
   "display_name": "Python 3.8.9 ('3dChromenv': venv)",
   "language": "python",
   "name": "python3"
  },
  "language_info": {
   "codemirror_mode": {
    "name": "ipython",
    "version": 3
   },
   "file_extension": ".py",
   "mimetype": "text/x-python",
   "name": "python",
   "nbconvert_exporter": "python",
   "pygments_lexer": "ipython3",
   "version": "3.8.9"
  },
  "orig_nbformat": 4,
  "vscode": {
   "interpreter": {
    "hash": "8e29b1289806ba3b1e0a7887101d89831cef42814f60b4617646c178e24bc9ec"
   }
  }
 },
 "nbformat": 4,
 "nbformat_minor": 2
}
