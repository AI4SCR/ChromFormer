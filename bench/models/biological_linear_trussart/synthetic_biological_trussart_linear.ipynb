{
 "cells": [
  {
   "cell_type": "code",
   "execution_count": 1,
   "metadata": {},
   "outputs": [],
   "source": [
    "%load_ext autoreload\n",
    "%autoreload 2"
   ]
  },
  {
   "cell_type": "code",
   "execution_count": 2,
   "metadata": {},
   "outputs": [],
   "source": [
    "import torch\n",
    "import random\n",
    "import numpy as np\n",
    "import os \n",
    "from torch_geometric.data import DataLoader\n",
    "\n",
    "from Chromatin3D.Data_Tools.Data_Access import get_data_from_path, VanillaDataset\n",
    "from Chromatin3D.Data_Tools.Data_Plotting import plot_structure_in_sphere, plot_hic, plot_optimal_transport, plot_losses, plot_test_distance_matrix, plot_true_pred_structures, plot_hist_kabsch_distances\n",
    "from Chromatin3D.Model.model import UniformLinear, train_uniform_linear, evaluate_uniform_linear\n",
    "from Chromatin3D.Model.losses import compute_trussart_test_kabsch_loss, biological_loss_fct, kabsch_loss_fct\n",
    "from Chromatin3D.Data_Tools.Data_Calculation import save_structure, import_trussart_data, kabsch_superimposition_numpy, kabsch_distance_numpy, make_gif\n",
    "\n",
    "\n",
    "NB_EPOCHS = 97\n",
    "SEED = 0\n",
    "BATCH_SIZE = 10\n",
    "NB_BINS = 202\n",
    "EMBEDDING_SIZE = 3\n",
    "LAMBDA_BIO = 0\n",
    "LAMBDA_KABSCH = 0\n",
    "\n",
    "device = torch.device('cuda' if torch.cuda.is_available() else 'cpu')\n",
    "torch.manual_seed(SEED)\n",
    "random.seed(SEED)\n",
    "np.random.seed(SEED)\n",
    "DATA_DIR = os.environ.get('DATA_DIR')\n",
    "DATA_PATH=f'{DATA_DIR}/biological_trussart'\n",
    "TRAIN_DATASET_SIZE = 800\n",
    "TEST_DATASET_SIZE = 200\n",
    "\n"
   ]
  },
  {
   "cell_type": "code",
   "execution_count": 3,
   "metadata": {},
   "outputs": [],
   "source": [
    "train_transfer_learning_hics, test_transfer_learning_hics, train_transfer_learning_structures, test_transfer_learning_structures, train_transfer_learning_distances, test_transfer_learning_distances = get_data_from_path(DATA_PATH)\n"
   ]
  },
  {
   "cell_type": "code",
   "execution_count": 4,
   "metadata": {},
   "outputs": [
    {
     "name": "stdout",
     "output_type": "stream",
     "text": [
      "800\n"
     ]
    }
   ],
   "source": [
    "train_dataset = VanillaDataset(root = '', is_training = True, dataset_size = TRAIN_DATASET_SIZE, hics = train_transfer_learning_hics, structures = train_transfer_learning_structures, distances = train_transfer_learning_distances)\n",
    "train_dataset = train_dataset.shuffle()\n",
    "train_size = len(train_dataset)\n",
    "print(train_size)\n",
    "train_loader = DataLoader(train_dataset, batch_size=BATCH_SIZE)"
   ]
  },
  {
   "cell_type": "code",
   "execution_count": 5,
   "metadata": {},
   "outputs": [
    {
     "name": "stdout",
     "output_type": "stream",
     "text": [
      "200\n"
     ]
    }
   ],
   "source": [
    "test_dataset = VanillaDataset(root = '', is_training = False, dataset_size = TEST_DATASET_SIZE, hics = test_transfer_learning_hics, structures = test_transfer_learning_structures, distances = test_transfer_learning_distances)\n",
    "test_dataset = test_dataset.shuffle()\n",
    "test_size = len(test_dataset)\n",
    "print(test_size)\n",
    "test_loader = DataLoader(test_dataset, batch_size=BATCH_SIZE)"
   ]
  },
  {
   "cell_type": "code",
   "execution_count": 6,
   "metadata": {},
   "outputs": [],
   "source": [
    "trussart_hic, trussart_structures = import_trussart_data(DATA_DIR)"
   ]
  },
  {
   "cell_type": "code",
   "execution_count": 7,
   "metadata": {},
   "outputs": [],
   "source": [
    "distance_loss_fct = torch.nn.MSELoss()"
   ]
  },
  {
   "cell_type": "code",
   "execution_count": 8,
   "metadata": {},
   "outputs": [],
   "source": [
    "device = torch.device('cpu')\n",
    "model = UniformLinear(NB_BINS, EMBEDDING_SIZE, BATCH_SIZE).to(device)\n",
    "optimizer = torch.optim.Adam(model.parameters(), lr=0.001)"
   ]
  },
  {
   "cell_type": "code",
   "execution_count": 9,
   "metadata": {},
   "outputs": [
    {
     "name": "stdout",
     "output_type": "stream",
     "text": [
      "E: 001, Tr B: 0.0579, Tr K: 0.1184, Tr D: 0.0479, Te B: 0.0551, Te K: 0.1178, Te D: 0.0472, Trus: 0.0913\n",
      "E: 002, Tr B: 0.0566, Tr K: 0.0967, Tr D: 0.0315, Te B: 0.0554, Te K: 0.0983, Te D: 0.0322, Trus: 0.0662\n",
      "E: 003, Tr B: 0.0536, Tr K: 0.0892, Tr D: 0.0263, Te B: 0.0538, Te K: 0.0879, Te D: 0.0253, Trus: 0.0594\n",
      "E: 004, Tr B: 0.0533, Tr K: 0.0822, Tr D: 0.0202, Te B: 0.0532, Te K: 0.0835, Te D: 0.0196, Trus: 0.0669\n",
      "E: 005, Tr B: 0.0532, Tr K: 0.0802, Tr D: 0.0187, Te B: 0.0533, Te K: 0.0812, Te D: 0.0180, Trus: 0.0788\n",
      "E: 006, Tr B: 0.0531, Tr K: 0.0767, Tr D: 0.0168, Te B: 0.0531, Te K: 0.0777, Te D: 0.0160, Trus: 0.0767\n",
      "E: 007, Tr B: 0.0529, Tr K: 0.0732, Tr D: 0.0169, Te B: 0.0527, Te K: 0.0739, Te D: 0.0164, Trus: 0.0878\n",
      "E: 008, Tr B: 0.0526, Tr K: 0.0735, Tr D: 0.0165, Te B: 0.0526, Te K: 0.0740, Te D: 0.0158, Trus: 0.0778\n",
      "E: 009, Tr B: 0.0527, Tr K: 0.0728, Tr D: 0.0166, Te B: 0.0526, Te K: 0.0735, Te D: 0.0162, Trus: 0.0860\n",
      "E: 010, Tr B: 0.0526, Tr K: 0.0723, Tr D: 0.0161, Te B: 0.0526, Te K: 0.0731, Te D: 0.0155, Trus: 0.0805\n",
      "E: 011, Tr B: 0.0527, Tr K: 0.0733, Tr D: 0.0157, Te B: 0.0525, Te K: 0.0744, Te D: 0.0150, Trus: 0.0787\n",
      "E: 012, Tr B: 0.0527, Tr K: 0.0728, Tr D: 0.0150, Te B: 0.0525, Te K: 0.0743, Te D: 0.0143, Trus: 0.0752\n",
      "E: 013, Tr B: 0.0527, Tr K: 0.0728, Tr D: 0.0150, Te B: 0.0525, Te K: 0.0746, Te D: 0.0143, Trus: 0.0735\n",
      "E: 014, Tr B: 0.0528, Tr K: 0.0732, Tr D: 0.0153, Te B: 0.0528, Te K: 0.0750, Te D: 0.0149, Trus: 0.0761\n",
      "E: 015, Tr B: 0.0528, Tr K: 0.0745, Tr D: 0.0148, Te B: 0.0528, Te K: 0.0768, Te D: 0.0146, Trus: 0.0719\n",
      "E: 016, Tr B: 0.0529, Tr K: 0.0742, Tr D: 0.0147, Te B: 0.0526, Te K: 0.0764, Te D: 0.0145, Trus: 0.0718\n",
      "E: 017, Tr B: 0.0528, Tr K: 0.0747, Tr D: 0.0149, Te B: 0.0525, Te K: 0.0770, Te D: 0.0148, Trus: 0.0767\n",
      "E: 018, Tr B: 0.0530, Tr K: 0.0756, Tr D: 0.0158, Te B: 0.0525, Te K: 0.0779, Te D: 0.0157, Trus: 0.0741\n",
      "E: 019, Tr B: 0.0530, Tr K: 0.0752, Tr D: 0.0151, Te B: 0.0524, Te K: 0.0772, Te D: 0.0150, Trus: 0.0726\n",
      "E: 020, Tr B: 0.0530, Tr K: 0.0732, Tr D: 0.0147, Te B: 0.0525, Te K: 0.0750, Te D: 0.0144, Trus: 0.0698\n",
      "E: 021, Tr B: 0.0530, Tr K: 0.0735, Tr D: 0.0145, Te B: 0.0525, Te K: 0.0754, Te D: 0.0143, Trus: 0.0717\n",
      "E: 022, Tr B: 0.0528, Tr K: 0.0713, Tr D: 0.0133, Te B: 0.0523, Te K: 0.0730, Te D: 0.0130, Trus: 0.0741\n",
      "E: 023, Tr B: 0.0529, Tr K: 0.0713, Tr D: 0.0133, Te B: 0.0523, Te K: 0.0729, Te D: 0.0131, Trus: 0.0732\n",
      "E: 024, Tr B: 0.0528, Tr K: 0.0715, Tr D: 0.0132, Te B: 0.0523, Te K: 0.0731, Te D: 0.0129, Trus: 0.0708\n",
      "E: 025, Tr B: 0.0528, Tr K: 0.0713, Tr D: 0.0135, Te B: 0.0523, Te K: 0.0730, Te D: 0.0132, Trus: 0.0749\n",
      "E: 026, Tr B: 0.0529, Tr K: 0.0709, Tr D: 0.0134, Te B: 0.0524, Te K: 0.0726, Te D: 0.0130, Trus: 0.0785\n",
      "E: 027, Tr B: 0.0530, Tr K: 0.0714, Tr D: 0.0133, Te B: 0.0524, Te K: 0.0732, Te D: 0.0130, Trus: 0.0737\n",
      "E: 028, Tr B: 0.0530, Tr K: 0.0712, Tr D: 0.0131, Te B: 0.0523, Te K: 0.0727, Te D: 0.0127, Trus: 0.0763\n",
      "E: 029, Tr B: 0.0529, Tr K: 0.0710, Tr D: 0.0131, Te B: 0.0524, Te K: 0.0722, Te D: 0.0128, Trus: 0.0769\n",
      "E: 030, Tr B: 0.0528, Tr K: 0.0696, Tr D: 0.0129, Te B: 0.0523, Te K: 0.0709, Te D: 0.0126, Trus: 0.0787\n",
      "E: 031, Tr B: 0.0529, Tr K: 0.0699, Tr D: 0.0130, Te B: 0.0523, Te K: 0.0713, Te D: 0.0127, Trus: 0.0804\n",
      "E: 032, Tr B: 0.0529, Tr K: 0.0694, Tr D: 0.0125, Te B: 0.0523, Te K: 0.0709, Te D: 0.0123, Trus: 0.0717\n",
      "E: 033, Tr B: 0.0528, Tr K: 0.0690, Tr D: 0.0129, Te B: 0.0522, Te K: 0.0704, Te D: 0.0127, Trus: 0.0810\n",
      "E: 034, Tr B: 0.0529, Tr K: 0.0698, Tr D: 0.0130, Te B: 0.0523, Te K: 0.0714, Te D: 0.0129, Trus: 0.0742\n",
      "E: 035, Tr B: 0.0527, Tr K: 0.0688, Tr D: 0.0125, Te B: 0.0522, Te K: 0.0704, Te D: 0.0122, Trus: 0.0765\n",
      "E: 036, Tr B: 0.0528, Tr K: 0.0664, Tr D: 0.0129, Te B: 0.0523, Te K: 0.0676, Te D: 0.0127, Trus: 0.0820\n",
      "E: 037, Tr B: 0.0529, Tr K: 0.0672, Tr D: 0.0137, Te B: 0.0524, Te K: 0.0688, Te D: 0.0135, Trus: 0.0776\n",
      "E: 038, Tr B: 0.0526, Tr K: 0.0687, Tr D: 0.0138, Te B: 0.0522, Te K: 0.0705, Te D: 0.0136, Trus: 0.0715\n",
      "E: 039, Tr B: 0.0528, Tr K: 0.0725, Tr D: 0.0151, Te B: 0.0524, Te K: 0.0743, Te D: 0.0146, Trus: 0.0630\n",
      "E: 040, Tr B: 0.0531, Tr K: 0.0744, Tr D: 0.0172, Te B: 0.0525, Te K: 0.0764, Te D: 0.0169, Trus: 0.0717\n",
      "E: 041, Tr B: 0.0527, Tr K: 0.0737, Tr D: 0.0159, Te B: 0.0524, Te K: 0.0753, Te D: 0.0155, Trus: 0.0675\n",
      "E: 042, Tr B: 0.0528, Tr K: 0.0711, Tr D: 0.0149, Te B: 0.0525, Te K: 0.0726, Te D: 0.0145, Trus: 0.0714\n",
      "E: 043, Tr B: 0.0529, Tr K: 0.0721, Tr D: 0.0147, Te B: 0.0525, Te K: 0.0741, Te D: 0.0144, Trus: 0.0821\n",
      "E: 044, Tr B: 0.0528, Tr K: 0.0711, Tr D: 0.0134, Te B: 0.0524, Te K: 0.0729, Te D: 0.0129, Trus: 0.0866\n",
      "E: 045, Tr B: 0.0526, Tr K: 0.0697, Tr D: 0.0130, Te B: 0.0522, Te K: 0.0712, Te D: 0.0126, Trus: 0.0846\n",
      "E: 046, Tr B: 0.0526, Tr K: 0.0705, Tr D: 0.0120, Te B: 0.0522, Te K: 0.0719, Te D: 0.0117, Trus: 0.0948\n",
      "E: 047, Tr B: 0.0526, Tr K: 0.0688, Tr D: 0.0117, Te B: 0.0521, Te K: 0.0702, Te D: 0.0113, Trus: 0.0947\n",
      "E: 048, Tr B: 0.0527, Tr K: 0.0688, Tr D: 0.0115, Te B: 0.0521, Te K: 0.0704, Te D: 0.0110, Trus: 0.0872\n",
      "E: 049, Tr B: 0.0528, Tr K: 0.0684, Tr D: 0.0114, Te B: 0.0521, Te K: 0.0701, Te D: 0.0110, Trus: 0.0887\n",
      "E: 050, Tr B: 0.0528, Tr K: 0.0674, Tr D: 0.0114, Te B: 0.0521, Te K: 0.0691, Te D: 0.0110, Trus: 0.0904\n",
      "E: 051, Tr B: 0.0529, Tr K: 0.0672, Tr D: 0.0113, Te B: 0.0520, Te K: 0.0689, Te D: 0.0110, Trus: 0.0869\n",
      "E: 052, Tr B: 0.0529, Tr K: 0.0679, Tr D: 0.0112, Te B: 0.0521, Te K: 0.0696, Te D: 0.0108, Trus: 0.0864\n",
      "E: 053, Tr B: 0.0529, Tr K: 0.0677, Tr D: 0.0112, Te B: 0.0521, Te K: 0.0694, Te D: 0.0108, Trus: 0.0859\n",
      "E: 054, Tr B: 0.0529, Tr K: 0.0675, Tr D: 0.0111, Te B: 0.0521, Te K: 0.0693, Te D: 0.0107, Trus: 0.0838\n",
      "E: 055, Tr B: 0.0529, Tr K: 0.0673, Tr D: 0.0111, Te B: 0.0521, Te K: 0.0691, Te D: 0.0107, Trus: 0.0853\n",
      "E: 056, Tr B: 0.0530, Tr K: 0.0669, Tr D: 0.0111, Te B: 0.0521, Te K: 0.0687, Te D: 0.0108, Trus: 0.0835\n",
      "E: 057, Tr B: 0.0530, Tr K: 0.0668, Tr D: 0.0111, Te B: 0.0521, Te K: 0.0686, Te D: 0.0107, Trus: 0.0834\n",
      "E: 058, Tr B: 0.0531, Tr K: 0.0665, Tr D: 0.0109, Te B: 0.0522, Te K: 0.0682, Te D: 0.0105, Trus: 0.0824\n",
      "E: 059, Tr B: 0.0531, Tr K: 0.0663, Tr D: 0.0110, Te B: 0.0521, Te K: 0.0682, Te D: 0.0107, Trus: 0.0812\n",
      "E: 060, Tr B: 0.0532, Tr K: 0.0664, Tr D: 0.0108, Te B: 0.0521, Te K: 0.0680, Te D: 0.0105, Trus: 0.0790\n",
      "E: 061, Tr B: 0.0532, Tr K: 0.0664, Tr D: 0.0107, Te B: 0.0522, Te K: 0.0681, Te D: 0.0104, Trus: 0.0830\n",
      "E: 062, Tr B: 0.0532, Tr K: 0.0655, Tr D: 0.0106, Te B: 0.0522, Te K: 0.0671, Te D: 0.0102, Trus: 0.0771\n",
      "E: 063, Tr B: 0.0531, Tr K: 0.0658, Tr D: 0.0107, Te B: 0.0522, Te K: 0.0675, Te D: 0.0103, Trus: 0.0776\n",
      "E: 064, Tr B: 0.0533, Tr K: 0.0664, Tr D: 0.0106, Te B: 0.0523, Te K: 0.0683, Te D: 0.0102, Trus: 0.0767\n",
      "E: 065, Tr B: 0.0533, Tr K: 0.0666, Tr D: 0.0110, Te B: 0.0522, Te K: 0.0684, Te D: 0.0106, Trus: 0.0797\n",
      "E: 066, Tr B: 0.0533, Tr K: 0.0665, Tr D: 0.0110, Te B: 0.0522, Te K: 0.0684, Te D: 0.0106, Trus: 0.0764\n",
      "E: 067, Tr B: 0.0532, Tr K: 0.0654, Tr D: 0.0106, Te B: 0.0522, Te K: 0.0671, Te D: 0.0102, Trus: 0.0796\n",
      "E: 068, Tr B: 0.0532, Tr K: 0.0661, Tr D: 0.0108, Te B: 0.0523, Te K: 0.0680, Te D: 0.0105, Trus: 0.0876\n",
      "E: 069, Tr B: 0.0534, Tr K: 0.0644, Tr D: 0.0104, Te B: 0.0522, Te K: 0.0659, Te D: 0.0100, Trus: 0.0709\n",
      "E: 070, Tr B: 0.0533, Tr K: 0.0651, Tr D: 0.0109, Te B: 0.0522, Te K: 0.0670, Te D: 0.0104, Trus: 0.0743\n",
      "E: 071, Tr B: 0.0534, Tr K: 0.0652, Tr D: 0.0104, Te B: 0.0523, Te K: 0.0670, Te D: 0.0101, Trus: 0.0751\n",
      "E: 072, Tr B: 0.0533, Tr K: 0.0653, Tr D: 0.0103, Te B: 0.0524, Te K: 0.0669, Te D: 0.0099, Trus: 0.0759\n",
      "E: 073, Tr B: 0.0533, Tr K: 0.0650, Tr D: 0.0105, Te B: 0.0523, Te K: 0.0664, Te D: 0.0102, Trus: 0.0788\n",
      "E: 074, Tr B: 0.0533, Tr K: 0.0647, Tr D: 0.0103, Te B: 0.0523, Te K: 0.0662, Te D: 0.0099, Trus: 0.0752\n",
      "E: 075, Tr B: 0.0532, Tr K: 0.0642, Tr D: 0.0106, Te B: 0.0523, Te K: 0.0656, Te D: 0.0103, Trus: 0.0811\n",
      "E: 076, Tr B: 0.0533, Tr K: 0.0651, Tr D: 0.0104, Te B: 0.0522, Te K: 0.0663, Te D: 0.0100, Trus: 0.0700\n",
      "E: 077, Tr B: 0.0535, Tr K: 0.0638, Tr D: 0.0109, Te B: 0.0523, Te K: 0.0651, Te D: 0.0107, Trus: 0.0843\n",
      "E: 078, Tr B: 0.0534, Tr K: 0.0638, Tr D: 0.0102, Te B: 0.0524, Te K: 0.0653, Te D: 0.0098, Trus: 0.0804\n",
      "E: 079, Tr B: 0.0532, Tr K: 0.0636, Tr D: 0.0103, Te B: 0.0522, Te K: 0.0650, Te D: 0.0099, Trus: 0.0808\n",
      "E: 080, Tr B: 0.0533, Tr K: 0.0639, Tr D: 0.0105, Te B: 0.0523, Te K: 0.0652, Te D: 0.0102, Trus: 0.0791\n",
      "E: 081, Tr B: 0.0534, Tr K: 0.0650, Tr D: 0.0105, Te B: 0.0523, Te K: 0.0663, Te D: 0.0102, Trus: 0.0715\n",
      "E: 082, Tr B: 0.0531, Tr K: 0.0634, Tr D: 0.0105, Te B: 0.0523, Te K: 0.0647, Te D: 0.0102, Trus: 0.0711\n",
      "E: 083, Tr B: 0.0534, Tr K: 0.0647, Tr D: 0.0105, Te B: 0.0525, Te K: 0.0663, Te D: 0.0103, Trus: 0.0742\n",
      "E: 084, Tr B: 0.0531, Tr K: 0.0643, Tr D: 0.0106, Te B: 0.0524, Te K: 0.0662, Te D: 0.0104, Trus: 0.0695\n",
      "E: 085, Tr B: 0.0532, Tr K: 0.0644, Tr D: 0.0113, Te B: 0.0525, Te K: 0.0661, Te D: 0.0110, Trus: 0.0679\n",
      "E: 086, Tr B: 0.0533, Tr K: 0.0650, Tr D: 0.0116, Te B: 0.0525, Te K: 0.0668, Te D: 0.0112, Trus: 0.0658\n",
      "E: 087, Tr B: 0.0530, Tr K: 0.0639, Tr D: 0.0119, Te B: 0.0524, Te K: 0.0652, Te D: 0.0114, Trus: 0.0710\n",
      "E: 088, Tr B: 0.0529, Tr K: 0.0641, Tr D: 0.0117, Te B: 0.0523, Te K: 0.0655, Te D: 0.0114, Trus: 0.0727\n",
      "E: 089, Tr B: 0.0532, Tr K: 0.0656, Tr D: 0.0116, Te B: 0.0524, Te K: 0.0670, Te D: 0.0112, Trus: 0.0707\n",
      "E: 090, Tr B: 0.0534, Tr K: 0.0688, Tr D: 0.0127, Te B: 0.0524, Te K: 0.0704, Te D: 0.0121, Trus: 0.0687\n",
      "E: 091, Tr B: 0.0535, Tr K: 0.0701, Tr D: 0.0136, Te B: 0.0527, Te K: 0.0720, Te D: 0.0131, Trus: 0.0640\n",
      "E: 092, Tr B: 0.0535, Tr K: 0.0693, Tr D: 0.0117, Te B: 0.0526, Te K: 0.0713, Te D: 0.0114, Trus: 0.0649\n",
      "E: 093, Tr B: 0.0536, Tr K: 0.0684, Tr D: 0.0108, Te B: 0.0524, Te K: 0.0704, Te D: 0.0104, Trus: 0.0650\n",
      "E: 094, Tr B: 0.0533, Tr K: 0.0665, Tr D: 0.0104, Te B: 0.0526, Te K: 0.0685, Te D: 0.0101, Trus: 0.0616\n",
      "E: 095, Tr B: 0.0534, Tr K: 0.0675, Tr D: 0.0103, Te B: 0.0526, Te K: 0.0692, Te D: 0.0099, Trus: 0.0666\n",
      "E: 096, Tr B: 0.0532, Tr K: 0.0678, Tr D: 0.0105, Te B: 0.0527, Te K: 0.0696, Te D: 0.0101, Trus: 0.0643\n",
      "E: 097, Tr B: 0.0533, Tr K: 0.0682, Tr D: 0.0105, Te B: 0.0528, Te K: 0.0701, Te D: 0.0101, Trus: 0.0600\n"
     ]
    }
   ],
   "source": [
    "\n",
    "\n",
    "train_biological_losses_all_epochs = []\n",
    "train_kabsch_losses_all_epochs = []\n",
    "train_distance_losses_all_epochs = []\n",
    "\n",
    "test_biological_losses_all_epochs = []\n",
    "test_kabsch_losses_all_epochs = []\n",
    "test_distance_losses_all_epochs = []\n",
    "\n",
    "losses = []\n",
    "\n",
    "trussart_test_kabsch_losses_all_epochs = []\n",
    "\n",
    "for epoch in range(1, NB_EPOCHS+1):\n",
    "\n",
    "    loss = train_uniform_linear(model, train_loader, train_dataset, optimizer, device, BATCH_SIZE,  NB_BINS, EMBEDDING_SIZE, LAMBDA_BIO, LAMBDA_KABSCH, distance_loss_fct)\n",
    "    losses.append(loss)\n",
    "    \n",
    "    ### Training\n",
    "    train_mean_biological_loss, train_mean_kabsch_loss, train_mean_distance_loss, train_true_hics, \\\n",
    "        train_pred_structures, train_true_structures, train_pred_distances, \\\n",
    "            train_true_distances = evaluate_uniform_linear(train_loader, model, device, BATCH_SIZE, NB_BINS, EMBEDDING_SIZE, distance_loss_fct) \n",
    "    \n",
    "    # Store results\n",
    "    train_biological_losses_all_epochs.append(train_mean_biological_loss)\n",
    "    train_kabsch_losses_all_epochs.append(train_mean_kabsch_loss)    \n",
    "    train_distance_losses_all_epochs.append(train_mean_distance_loss)\n",
    "    \n",
    "    ### Testing\n",
    "    test_mean_biological_loss, test_mean_kabsch_loss, test_mean_distance_loss, test_true_hics, \\\n",
    "        test_pred_structures, test_true_structures, test_pred_distances, \\\n",
    "            test_true_distances = evaluate_uniform_linear(test_loader, model, device, BATCH_SIZE, NB_BINS, EMBEDDING_SIZE, distance_loss_fct)\n",
    "    \n",
    "    ### Trussart test\n",
    "    trussart_test_kabsch_loss = compute_trussart_test_kabsch_loss(trussart_hic, trussart_structures, model, NB_BINS, BATCH_SIZE, EMBEDDING_SIZE)\n",
    "    save_structure(model, epoch, trussart_structures, trussart_hic, NB_BINS, BATCH_SIZE, EMBEDDING_SIZE)\n",
    "    # Store results\n",
    "    test_biological_losses_all_epochs.append(test_mean_biological_loss)\n",
    "    test_kabsch_losses_all_epochs.append(test_mean_kabsch_loss)    \n",
    "    test_distance_losses_all_epochs.append(test_mean_distance_loss)\n",
    "    \n",
    "    trussart_test_kabsch_losses_all_epochs.append(trussart_test_kabsch_loss)\n",
    "    \n",
    "    print('E: {:03d}, Tr B: {:.4f}, Tr K: {:.4f}, Tr D: {:.4f}, Te B: {:.4f}, Te K: {:.4f}, Te D: {:.4f}, Trus: {:.4f}'.format(\\\n",
    "        epoch, train_mean_biological_loss, train_mean_kabsch_loss, train_mean_distance_loss, \\\n",
    "            test_mean_biological_loss, test_mean_kabsch_loss, test_mean_distance_loss, trussart_test_kabsch_loss))"
   ]
  },
  {
   "cell_type": "code",
   "execution_count": 10,
   "metadata": {},
   "outputs": [
    {
     "name": "stdout",
     "output_type": "stream",
     "text": [
      "96\n"
     ]
    }
   ],
   "source": [
    "print(np.argmin(trussart_test_kabsch_losses_all_epochs[3:])+3)"
   ]
  },
  {
   "cell_type": "code",
   "execution_count": 11,
   "metadata": {},
   "outputs": [
    {
     "data": {
      "image/png": "[encoded data removed]",
      "text/plain": [
       "<Figure size 1000x1000 with 4 Axes>"
      ]
     },
     "metadata": {},
     "output_type": "display_data"
    }
   ],
   "source": [
    "plot_losses(losses, train_biological_losses_all_epochs, test_biological_losses_all_epochs, train_kabsch_losses_all_epochs, test_kabsch_losses_all_epochs, trussart_test_kabsch_losses_all_epochs, train_distance_losses_all_epochs, test_distance_losses_all_epochs)\n"
   ]
  },
  {
   "cell_type": "code",
   "execution_count": 12,
   "metadata": {},
   "outputs": [],
   "source": [
    "GRAPH_TESTED = 0"
   ]
  },
  {
   "cell_type": "code",
   "execution_count": 13,
   "metadata": {},
   "outputs": [
    {
     "data": {
      "image/png": "[encoded data removed]",
      "text/plain": [
       "<Figure size 1500x1500 with 2 Axes>"
      ]
     },
     "metadata": {},
     "output_type": "display_data"
    }
   ],
   "source": [
    "ground_truth_matrix = test_true_distances[GRAPH_TESTED*NB_BINS:GRAPH_TESTED*NB_BINS+NB_BINS, :]\n",
    "reconstruction_matrix = test_pred_distances[GRAPH_TESTED*NB_BINS:GRAPH_TESTED*NB_BINS+NB_BINS, :]\n",
    "plot_test_distance_matrix(ground_truth_matrix, reconstruction_matrix)"
   ]
  },
  {
   "cell_type": "code",
   "execution_count": 14,
   "metadata": {},
   "outputs": [
    {
     "data": {
      "application/vnd.plotly.v1+json": {
       "config": {
        "plotlyServerURL": "https://plot.ly"
       },
       "data": [
        {
         "line": {
          "color": "darkblue",
          "width": 2
         },
         "marker": {
          "color": [
           0,
           1,
           2,
           3,
           4,
           5,
           6,
           7,
           8,
           9,
           10,
           11,
           12,
           13,
           14,
           15,
           16,
           17,
           18,
           19,
           20,
           21,
           22,
           23,
           24,
           25,
           26,
           27,
           28,
           29,
           30,
           31,
           32,
           33,
           34,
           35,
           36,
           37,
           38,
           39,
           40,
           41,
           42,
           43,
           44,
           45,
           46,
           47,
           48,
           49,
           50,
           51,
           52,
           53,
           54,
           55,
           56,
           57,
           58,
           59,
           60,
           61,
           62,
           63,
           64,
           65,
           66,
           67,
           68,
           69,
           70,
           71,
           72,
           73,
           74,
           75,
           76,
           77,
           78,
           79,
           80,
           81,
           82,
           83,
           84,
           85,
           86,
           87,
           88,
           89,
           90,
           91,
           92,
           93,
           94,
           95,
           96,
           97,
           98,
           99,
           100,
           101,
           102,
           103,
           104,
           105,
           106,
           107,
           108,
           109,
           110,
           111,
           112,
           113,
           114,
           115,
           116,
           117,
           118,
           119,
           120,
           121,
           122,
           123,
           124,
           125,
           126,
           127,
           128,
           129,
           130,
           131,
           132,
           133,
           134,
           135,
           136,
           137,
           138,
           139,
           140,
           141,
           142,
           143,
           144,
           145,
           146,
           147,
           148,
           149,
           150,
           151,
           152,
           153,
           154,
           155,
           156,
           157,
           158,
           159,
           160,
           161,
           162,
           163,
           164,
           165,
           166,
           167,
           168,
           169,
           170,
           171,
           172,
           173,
           174,
           175,
           176,
           177,
           178,
           179,
           180,
           181,
           182,
           183,
           184,
           185,
           186,
           187,
           188,
           189,
           190,
           191,
           192,
           193,
           194,
           195,
           196,
           197,
           198,
           199,
           200,
           201
          ],
          "colorscale": [
           [
            0,
            "#440154"
           ],
           [
            0.1111111111111111,
            "#482878"
           ],
           [
            0.2222222222222222,
            "#3e4989"
           ],
           [
            0.3333333333333333,
            "#31688e"
           ],
           [
            0.4444444444444444,
            "#26828e"
           ],
           [
            0.5555555555555556,
            "#1f9e89"
           ],
           [
            0.6666666666666666,
            "#35b779"
           ],
           [
            0.7777777777777778,
            "#6ece58"
           ],
           [
            0.8888888888888888,
            "#b5de2b"
           ],
           [
            1,
            "#fde725"
           ]
          ],
          "size": 4
         },
         "scene": "scene",
         "type": "scatter3d",
         "x": [
          0.6760488748550415,
          0.6532321572303772,
          0.6430389881134033,
          0.6067496538162231,
          0.6342563629150391,
          0.5294178128242493,
          0.5361047387123108,
          0.5990920066833496,
          0.6049293279647827,
          0.5506659150123596,
          0.4412376582622528,
          0.5084898471832275,
          0.4141539931297302,
          0.30032071471214294,
          0.33502665162086487,
          0.3936694860458374,
          0.43801331520080566,
          0.38423803448677063,
          0.44649794697761536,
          0.4851686656475067,
          0.4045330286026001,
          0.3039188086986542,
          0.34954631328582764,
          0.38352715969085693,
          0.3531455397605896,
          0.396233469247818,
          0.34741514921188354,
          0.30438628792762756,
          0.32857608795166016,
          0.26718229055404663,
          0.3548988997936249,
          0.304593563079834,
          0.27465131878852844,
          0.3072456419467926,
          0.1954660564661026,
          0.26002684235572815,
          0.25160303711891174,
          0.22822673618793488,
          0.24322642385959625,
          0.2626786231994629,
          0.23717302083969116,
          0.20512919127941132,
          0.2231445461511612,
          0.16470468044281006,
          0.1761418730020523,
          0.0656677633523941,
          0.07438568770885468,
          0.05254543945193291,
          0.04148062318563461,
          0.07215391099452972,
          0.13338689506053925,
          0.1280549168586731,
          0.1627388596534729,
          0.15921872854232788,
          0.16068091988563538,
          0.16171742975711823,
          0.1438477337360382,
          0.0696997195482254,
          0.06280097365379333,
          0.08147406578063965,
          0.17321236431598663,
          0.28676286339759827,
          0.2697000503540039,
          0.1843535453081131,
          0.15148286521434784,
          0.22963537275791168,
          0.11784899234771729,
          0.15276432037353516,
          0.09908769279718399,
          0.10412546247243881,
          0.1597796082496643,
          0.12720510363578796,
          0.18299441039562225,
          0.17033617198467255,
          0.23992589116096497,
          0.28018543124198914,
          0.2746105194091797,
          0.2757791578769684,
          0.38161423802375793,
          0.2869292199611664,
          0.2894148528575897,
          0.359904021024704,
          0.3272951543331146,
          0.21559882164001465,
          0.12337686866521835,
          0.20987828075885773,
          0.2995881140232086,
          0.3207157552242279,
          0.20559246838092804,
          0.15925909578800201,
          0.10014232248067856,
          0.15598195791244507,
          0.06992224603891373,
          0.10645733773708344,
          0.07300039380788803,
          0.13277991116046906,
          0.09375536441802979,
          0.10213364660739899,
          0.09177900850772858,
          0.08789870887994766,
          0.06243199482560158,
          0.05954925715923309,
          -0.025049177929759026,
          -0.06060438230633736,
          -0.05480888485908508,
          -0.008987166918814182,
          -0.038703639060258865,
          -0.09380354732275009,
          -0.10213418304920197,
          -0.14206618070602417,
          -0.21913118660449982,
          -0.18276284635066986,
          -0.15030860900878906,
          -0.03775918111205101,
          -0.1335914134979248,
          -0.10428269952535629,
          -0.04495267942547798,
          -0.04328467696905136,
          -0.10633625090122223,
          -0.07567930221557617,
          -0.18837153911590576,
          -0.20941129326820374,
          -0.22062136232852936,
          -0.2236577570438385,
          -0.24553509056568146,
          -0.2534697651863098,
          -0.24959711730480194,
          -0.22069820761680603,
          -0.247804656624794,
          -0.24250391125679016,
          -0.23189038038253784,
          -0.1588524729013443,
          -0.16224993765354156,
          -0.2587246000766754,
          -0.17671512067317963,
          -0.18645420670509338,
          -0.2662630081176758,
          -0.25505736470222473,
          -0.26659220457077026,
          -0.285235732793808,
          -0.35971054434776306,
          -0.4036138951778412,
          -0.33116257190704346,
          -0.35596251487731934,
          -0.4049309194087982,
          -0.3516674339771271,
          -0.3313608765602112,
          -0.3753221929073334,
          -0.4368998408317566,
          -0.47652289271354675,
          -0.5112132430076599,
          -0.47930365800857544,
          -0.5311321020126343,
          -0.49966153502464294,
          -0.4870111346244812,
          -0.4358978569507599,
          -0.3892941176891327,
          -0.3187015652656555,
          -0.2583034932613373,
          -0.37054237723350525,
          -0.35845667123794556,
          -0.2786024808883667,
          -0.3196924328804016,
          -0.24615895748138428,
          -0.3050054609775543,
          -0.40058133006095886,
          -0.48499566316604614,
          -0.4975138008594513,
          -0.46320873498916626,
          -0.4734368324279785,
          -0.393037885427475,
          -0.4529089033603668,
          -0.4107123613357544,
          -0.49641820788383484,
          -0.4486522078514099,
          -0.36807048320770264,
          -0.34369346499443054,
          -0.30480456352233887,
          -0.30973926186561584,
          -0.344379186630249,
          -0.4359998404979706,
          -0.43940499424934387,
          -0.428716242313385,
          -0.4284094572067261,
          -0.4117954671382904,
          -0.34313005208969116,
          -0.2685582935810089,
          -0.18357639014720917,
          -0.22271224856376648,
          -0.24439634382724762,
          -0.15336500108242035,
          -0.1926143914461136,
          -0.19998371601104736,
          -0.11224149912595749,
          -0.09537201374769211,
          -0.008054723963141441,
          -0.11327483505010605,
          -0.026819007471203804,
          -0.044693633913993835,
          -0.04572806507349014,
          -0.11594108492136002,
          -0.17534105479717255
         ],
         "y": [
          -0.6712568998336792,
          -0.5891881585121155,
          -0.6583493947982788,
          -0.5483797192573547,
          -0.59993577003479,
          -0.6327195763587952,
          -0.5371905565261841,
          -0.4524190425872803,
          -0.42366528511047363,
          -0.5172359347343445,
          -0.5548263192176819,
          -0.5913909673690796,
          -0.5684397220611572,
          -0.5638884902000427,
          -0.4534073770046234,
          -0.5481144785881042,
          -0.6072697043418884,
          -0.5251819491386414,
          -0.499197393655777,
          -0.4079878628253937,
          -0.4209836423397064,
          -0.365373432636261,
          -0.42378008365631104,
          -0.43890580534935,
          -0.41371071338653564,
          -0.3513838052749634,
          -0.452653169631958,
          -0.4462636113166809,
          -0.4177125096321106,
          -0.4916905462741852,
          -0.5667288899421692,
          -0.5101197361946106,
          -0.4349121153354645,
          -0.3618907630443573,
          -0.3438663184642792,
          -0.30417394638061523,
          -0.23407185077667236,
          -0.13844776153564453,
          -0.029792971909046173,
          -0.07806902378797531,
          -0.023606931790709496,
          -0.1344272345304489,
          -0.04376622289419174,
          -0.1350516527891159,
          -0.17907609045505524,
          -0.1543077975511551,
          -0.06942052394151688,
          -0.16058610379695892,
          -0.1455162763595581,
          -0.2532002925872803,
          -0.3373989164829254,
          -0.286143034696579,
          -0.17648719251155853,
          -0.29189857840538025,
          -0.2113603949546814,
          -0.1609089970588684,
          -0.09615601599216461,
          -0.014802035875618458,
          0.026823559775948524,
          0.0175106693059206,
          0.08410462737083435,
          0.10599201172590256,
          0.21896396577358246,
          0.21429038047790527,
          0.1660870611667633,
          0.24853868782520294,
          0.22160860896110535,
          0.11313752084970474,
          0.1959422081708908,
          0.2849041819572449,
          0.33595219254493713,
          0.4307290017604828,
          0.5211359858512878,
          0.4949739873409271,
          0.41444826126098633,
          0.5024356842041016,
          0.3908006548881531,
          0.41371795535087585,
          0.458139032125473,
          0.5070073008537292,
          0.5345557928085327,
          0.4490066468715668,
          0.41245296597480774,
          0.3819068372249603,
          0.363869309425354,
          0.29957589507102966,
          0.22683903574943542,
          0.218979611992836,
          0.2254229635000229,
          0.2810985743999481,
          0.3785701394081116,
          0.4022239148616791,
          0.35482338070869446,
          0.40803512930870056,
          0.3690831661224365,
          0.4580772817134857,
          0.36923947930336,
          0.4390943646430969,
          0.329525351524353,
          0.27547740936279297,
          0.3707410395145416,
          0.35297003388404846,
          0.34411484003067017,
          0.26679593324661255,
          0.35494768619537354,
          0.37538793683052063,
          0.39678552746772766,
          0.49766555428504944,
          0.3950098156929016,
          0.4652141332626343,
          0.4467390179634094,
          0.5533265471458435,
          0.5716070532798767,
          0.5928881168365479,
          0.6549810171127319,
          0.5487997531890869,
          0.45682764053344727,
          0.3756673336029053,
          0.42998364567756653,
          0.3558148741722107,
          0.3341678977012634,
          0.2699165642261505,
          0.16950327157974243,
          0.2359696328639984,
          0.16995017230510712,
          0.18079844117164612,
          0.16931098699569702,
          0.065938800573349,
          0.08836307376623154,
          0.16148458421230316,
          0.13891610503196716,
          0.12470801174640656,
          0.23268817365169525,
          0.18015384674072266,
          0.12215746194124222,
          0.17278675734996796,
          0.17595472931861877,
          0.26194629073143005,
          0.1501007378101349,
          0.14357396960258484,
          0.0951295867562294,
          0.03112000785768032,
          0.013193817809224129,
          0.06896036863327026,
          -0.021289678290486336,
          -0.11779838055372238,
          -0.09528696537017822,
          -0.07994597405195236,
          0.012496822513639927,
          -0.04826091229915619,
          0.021706821396946907,
          0.04049069061875343,
          -0.04728937894105911,
          -0.0280555859208107,
          -0.1324840635061264,
          -0.09319547563791275,
          -0.06035999208688736,
          -0.15209107100963593,
          -0.10081605613231659,
          -0.09369957447052002,
          -0.14089839160442352,
          -0.09581530094146729,
          -0.07763230800628662,
          -0.13996078073978424,
          -0.05813248082995415,
          -0.05525839328765869,
          0.007758313324302435,
          -0.047360777854919434,
          -0.06278832256793976,
          -0.07986228913068771,
          -0.15051807463169098,
          -0.0708564817905426,
          -0.10698997974395752,
          -0.03457862138748169,
          -0.1395481675863266,
          -0.18596477806568146,
          -0.16873043775558472,
          -0.09889522194862366,
          -0.10927800834178925,
          -0.1648281365633011,
          -0.20975995063781738,
          -0.15374885499477386,
          -0.04152496159076691,
          -0.061777763068675995,
          -0.17638236284255981,
          -0.11865285038948059,
          -0.17591586709022522,
          -0.09767091274261475,
          -0.2030584067106247,
          -0.10997763276100159,
          -0.16622154414653778,
          -0.09068857878446579,
          -0.02996184676885605,
          0.04425610229372978,
          -0.0702553242444992,
          0.004638779442757368,
          -0.00981740653514862,
          -0.08668427169322968,
          -0.03667881339788437,
          -0.08354146778583527,
          -0.11811728775501251,
          -0.09191693365573883
         ],
         "z": [
          0.30392777919769287,
          0.3823838233947754,
          0.29005804657936096,
          0.2910515367984772,
          0.39103445410728455,
          0.4277132451534271,
          0.36259233951568604,
          0.4101067781448364,
          0.298078328371048,
          0.33944541215896606,
          0.3345833718776703,
          0.4214821457862854,
          0.3583536148071289,
          0.3375568389892578,
          0.3367508351802826,
          0.36841800808906555,
          0.2792803943157196,
          0.3407706618309021,
          0.2466444969177246,
          0.3066163659095764,
          0.22451743483543396,
          0.23850016295909882,
          0.14951688051223755,
          0.03984580934047699,
          0.14871910214424133,
          0.061140455305576324,
          0.08893466740846634,
          -0.01839156076312065,
          0.0912027657032013,
          0.15577274560928345,
          0.16506077349185944,
          0.25267359614372253,
          0.3354896903038025,
          0.4192555546760559,
          0.44357994198799133,
          0.35601481795310974,
          0.4478078782558441,
          0.5088063478469849,
          0.5459597706794739,
          0.4425079822540283,
          0.5414755940437317,
          0.5516384840011597,
          0.4818727374076843,
          0.5226524472236633,
          0.6291525363922119,
          0.6047961711883545,
          0.5265058279037476,
          0.4585126042366028,
          0.34422481060028076,
          0.3146522343158722,
          0.2639339566230774,
          0.1602245718240738,
          0.17378374934196472,
          0.16489270329475403,
          0.0816899836063385,
          0.18592439591884613,
          0.09159012883901596,
          0.05560634657740593,
          -0.0522405207157135,
          -0.1661519706249237,
          -0.14247581362724304,
          -0.1362747848033905,
          -0.15518055856227875,
          -0.07704374939203262,
          0.022992189973592758,
          0.045467618852853775,
          0.03169059753417969,
          0.05233457684516907,
          -0.008274284191429615,
          -0.08224464952945709,
          0.005550250876694918,
          -0.05247984081506729,
          -0.09858153015375137,
          0.013519100844860077,
          -0.03213293105363846,
          0.03149580582976341,
          0.001200937433168292,
          0.11471156030893326,
          0.1301044076681137,
          0.08474059402942657,
          -0.027714421972632408,
          -0.06123838946223259,
          0.04369835555553436,
          0.04225039482116699,
          -0.025432612746953964,
          -0.06780111789703369,
          -0.059273239225149155,
          -0.17286497354507446,
          -0.1620785892009735,
          -0.07172001153230667,
          -0.0513305626809597,
          0.04732877016067505,
          -0.013974960893392563,
          -0.11012551188468933,
          -0.006324707064777613,
          0.037466663867235184,
          -0.025748495012521744,
          -0.11773398518562317,
          -0.08169729262590408,
          0.02065013349056244,
          0.08137505501508713,
          0.19577397406101227,
          0.11718694120645523,
          0.038644939661026,
          -0.03623439371585846,
          -0.14060774445533752,
          -0.030742807313799858,
          -0.016655638813972473,
          -0.06960491836071014,
          0.013389160856604576,
          -0.07105540484189987,
          -0.04407990351319313,
          -0.15373288094997406,
          -0.17079077661037445,
          -0.19007501006126404,
          -0.1543290764093399,
          -0.11648324131965637,
          -0.03389113023877144,
          -0.11442355066537857,
          -0.03093477338552475,
          -0.015343216247856617,
          0.07867980003356934,
          0.02208714745938778,
          -0.07269804924726486,
          0.019898081198334694,
          0.13492237031459808,
          0.2500929832458496,
          0.20661568641662598,
          0.09628154337406158,
          0.006635698024183512,
          -0.10645385831594467,
          -0.1951940506696701,
          -0.15348108112812042,
          -0.1168203130364418,
          -0.17445792257785797,
          -0.07076098024845123,
          0.013094539754092693,
          -0.06365905702114105,
          -0.09138539433479309,
          -0.2054952085018158,
          -0.2797775864601135,
          -0.3657223582267761,
          -0.277174711227417,
          -0.3755936324596405,
          -0.3220375180244446,
          -0.28653684258461,
          -0.39830493927001953,
          -0.5043392777442932,
          -0.5371074676513672,
          -0.6273833513259888,
          -0.5418712496757507,
          -0.43214350938796997,
          -0.48709535598754883,
          -0.37731876969337463,
          -0.32888439297676086,
          -0.23268111050128937,
          -0.33348366618156433,
          -0.3298324942588806,
          -0.24536845088005066,
          -0.27299124002456665,
          -0.37805044651031494,
          -0.30732524394989014,
          -0.20059089362621307,
          -0.2647720277309418,
          -0.3218022584915161,
          -0.256470650434494,
          -0.3045783042907715,
          -0.20350204408168793,
          -0.31303003430366516,
          -0.42711377143859863,
          -0.38289836049079895,
          -0.3239006996154785,
          -0.4255129396915436,
          -0.39683666825294495,
          -0.38629940152168274,
          -0.4553161561489105,
          -0.3434234857559204,
          -0.259626567363739,
          -0.14439168572425842,
          -0.23991911113262177,
          -0.18516497313976288,
          -0.08386151492595673,
          -0.11037149280309677,
          -0.22439324855804443,
          -0.2233983278274536,
          -0.1501617729663849,
          -0.08255092799663544,
          -0.07436344027519226,
          -0.04655894264578819,
          -0.11195771396160126,
          -0.15624256432056427,
          -0.07772194594144821,
          0.020610079169273376,
          0.034900978207588196,
          0.038613636046648026,
          0.051947541534900665,
          0.005785051267594099,
          0.011086340993642807,
          -0.09182713180780411,
          0.014069289900362492,
          -0.07128804922103882,
          0.024609895423054695
         ]
        },
        {
         "line": {
          "color": "darkblue",
          "width": 2
         },
         "marker": {
          "color": [
           0,
           1,
           2,
           3,
           4,
           5,
           6,
           7,
           8,
           9,
           10,
           11,
           12,
           13,
           14,
           15,
           16,
           17,
           18,
           19,
           20,
           21,
           22,
           23,
           24,
           25,
           26,
           27,
           28,
           29,
           30,
           31,
           32,
           33,
           34,
           35,
           36,
           37,
           38,
           39,
           40,
           41,
           42,
           43,
           44,
           45,
           46,
           47,
           48,
           49,
           50,
           51,
           52,
           53,
           54,
           55,
           56,
           57,
           58,
           59,
           60,
           61,
           62,
           63,
           64,
           65,
           66,
           67,
           68,
           69,
           70,
           71,
           72,
           73,
           74,
           75,
           76,
           77,
           78,
           79,
           80,
           81,
           82,
           83,
           84,
           85,
           86,
           87,
           88,
           89,
           90,
           91,
           92,
           93,
           94,
           95,
           96,
           97,
           98,
           99,
           100,
           101,
           102,
           103,
           104,
           105,
           106,
           107,
           108,
           109,
           110,
           111,
           112,
           113,
           114,
           115,
           116,
           117,
           118,
           119,
           120,
           121,
           122,
           123,
           124,
           125,
           126,
           127,
           128,
           129,
           130,
           131,
           132,
           133,
           134,
           135,
           136,
           137,
           138,
           139,
           140,
           141,
           142,
           143,
           144,
           145,
           146,
           147,
           148,
           149,
           150,
           151,
           152,
           153,
           154,
           155,
           156,
           157,
           158,
           159,
           160,
           161,
           162,
           163,
           164,
           165,
           166,
           167,
           168,
           169,
           170,
           171,
           172,
           173,
           174,
           175,
           176,
           177,
           178,
           179,
           180,
           181,
           182,
           183,
           184,
           185,
           186,
           187,
           188,
           189,
           190,
           191,
           192,
           193,
           194,
           195,
           196,
           197,
           198,
           199,
           200,
           201
          ],
          "colorscale": [
           [
            0,
            "#440154"
           ],
           [
            0.1111111111111111,
            "#482878"
           ],
           [
            0.2222222222222222,
            "#3e4989"
           ],
           [
            0.3333333333333333,
            "#31688e"
           ],
           [
            0.4444444444444444,
            "#26828e"
           ],
           [
            0.5555555555555556,
            "#1f9e89"
           ],
           [
            0.6666666666666666,
            "#35b779"
           ],
           [
            0.7777777777777778,
            "#6ece58"
           ],
           [
            0.8888888888888888,
            "#b5de2b"
           ],
           [
            1,
            "#fde725"
           ]
          ],
          "size": 4
         },
         "scene": "scene2",
         "type": "scatter3d",
         "x": [
          0.3292957545518226,
          0.26924381951834675,
          0.21382806492103537,
          0.2607995706144779,
          0.22401199625400867,
          0.3264834142797815,
          0.19373001259651051,
          0.31413423264090784,
          0.27864318075692407,
          0.18208728409142177,
          0.23987313946518046,
          0.26569738622413697,
          0.29843477088040826,
          0.376227389013154,
          0.4020971696953111,
          0.2606199754392103,
          0.27066016659070297,
          0.30004296280647635,
          0.29777100075480545,
          0.26110017301230765,
          0.2891398705968994,
          0.3635637515041866,
          0.2697371625914954,
          0.2871080429541331,
          0.3352239722544349,
          0.27106549246703304,
          0.28025038846589534,
          0.2644415277951722,
          0.2763513559932475,
          0.275354188952954,
          0.3093946469973628,
          0.3049746010612096,
          0.3499468929998587,
          0.4171381979191217,
          0.46835417049841876,
          0.4108210547713011,
          0.47010663683357434,
          0.549977435643999,
          0.5849798456923682,
          0.4757344145787265,
          0.606146775405658,
          0.6008072492191121,
          0.5278245813240502,
          0.5202964761667158,
          0.613985772072405,
          0.5730700470794733,
          0.48129264234202657,
          0.4319133875390804,
          0.3863766478620766,
          0.3620106206005639,
          0.3195953257729288,
          0.33419123291854036,
          0.3509939280819058,
          0.306819443491039,
          0.3189623940052812,
          0.32909236971290684,
          0.2930518102895526,
          0.18393500784841915,
          0.152844006256997,
          0.18678242452768531,
          0.25216693040626315,
          0.2993302052744746,
          0.2046443816916976,
          0.19837005628885584,
          0.22820389915235098,
          0.23616605556620918,
          0.1509319135178143,
          0.23689330692699967,
          0.15768762573459355,
          0.10618209054002292,
          0.17150972187366653,
          0.12418837579935824,
          0.1275634631442403,
          0.18406033014595666,
          0.22756819858577212,
          0.28060994934487565,
          0.2710600604183561,
          0.23021653494444844,
          0.36514518097392756,
          0.26424658829056086,
          0.28565479555745976,
          0.3019501449255304,
          0.3026345336348337,
          0.23136076624147894,
          0.16684792347135619,
          0.2091374948545962,
          0.29778176621876684,
          0.2880708260027971,
          0.24318172172790462,
          0.17258257388975146,
          0.1365422893317293,
          0.19528401033891904,
          0.11675780973779853,
          0.0666782971170794,
          0.1305414025422334,
          0.15807417335153687,
          0.12879692725581832,
          0.10171189416615595,
          0.11578309165968849,
          0.13961479209409378,
          0.058149327038512964,
          0.11671338717005514,
          0.0025758402843961414,
          -0.07281672979682605,
          -0.08686898805282654,
          -0.07119306138798373,
          -0.07437396466360888,
          -0.15192630534769008,
          -0.1475883631243929,
          -0.18601528710755746,
          -0.22791923485020762,
          -0.17262176834983123,
          -0.16707103546337848,
          -0.04126035957188666,
          -0.16308849608319606,
          -0.21029818542367118,
          -0.10870703779623574,
          -0.049724706022190104,
          -0.16779245964061446,
          -0.07636905509600274,
          -0.1780795083670595,
          -0.16815561037504906,
          -0.22883726610042235,
          -0.2676294372565179,
          -0.2680260679412553,
          -0.1822033443777349,
          -0.108564636757199,
          -0.07574234516312214,
          -0.1472125260635362,
          -0.2611610896515891,
          -0.28433293123374975,
          -0.28747034382168674,
          -0.1979776986156821,
          -0.3158079644689141,
          -0.24829716201522542,
          -0.2153846235736453,
          -0.27201310133619244,
          -0.26280952075524383,
          -0.31787241593263177,
          -0.4042412361834236,
          -0.4539007011262438,
          -0.5353502483744977,
          -0.42356239687966457,
          -0.505823117025889,
          -0.4765877957862382,
          -0.38233140274037586,
          -0.4784577938680362,
          -0.596545643303284,
          -0.6501072447281715,
          -0.6263185000008408,
          -0.7068087952376247,
          -0.6253290358905406,
          -0.6429592231208269,
          -0.5521870585034542,
          -0.5107678643801175,
          -0.44163504665883613,
          -0.46289535237908513,
          -0.4334865330067688,
          -0.3400508011752036,
          -0.4097875708606875,
          -0.4538392262341178,
          -0.3908844151669487,
          -0.32364736209745687,
          -0.34001407160621633,
          -0.42340864541801154,
          -0.4269440462217794,
          -0.5467021367265108,
          -0.48540894561351994,
          -0.49766511057518875,
          -0.5879243510758803,
          -0.49101606264130176,
          -0.5091086745498924,
          -0.5129252789379044,
          -0.5695219153419868,
          -0.5536005880227454,
          -0.5519838107403594,
          -0.4587100009309234,
          -0.37015760311561785,
          -0.2280037811549798,
          -0.388399549044461,
          -0.35635081757625786,
          -0.3368873540821952,
          -0.3568933947104949,
          -0.4724066536222493,
          -0.43219751129460454,
          -0.30431446533879036,
          -0.14336725941708608,
          -0.11749400670450211,
          -0.09179373157285413,
          -0.18750662989469433,
          -0.11235032904325877,
          -0.1401175647405114,
          -0.08399962179402629,
          0.009035578569558956,
          0.03906481641729116,
          0.16431119899903115,
          -0.006420432310417593,
          0.09715379486655086,
          0.05161887781416347,
          0.08186521580141962,
          -0.014265640407247177,
          -0.036076888969049904
         ],
         "y": [
          -0.7179392871805312,
          -0.6930553064169437,
          -0.726179640138472,
          -0.5562719161786369,
          -0.5822686205440974,
          -0.5648464036036054,
          -0.45280021363615885,
          -0.5752750496139282,
          -0.47310313993627606,
          -0.5076752820024951,
          -0.41937919259602807,
          -0.585750768625645,
          -0.48843961610944664,
          -0.5037688467755495,
          -0.38417702184344177,
          -0.4181719582924507,
          -0.49545342572281337,
          -0.39212496507247896,
          -0.4988515014341591,
          -0.41776624634874554,
          -0.4050352097871047,
          -0.3352888563146418,
          -0.38028610315518296,
          -0.46379463391423764,
          -0.3597507839676935,
          -0.4155652096052104,
          -0.43468889148284906,
          -0.47132198250604473,
          -0.44822538267728806,
          -0.4719892583304789,
          -0.5164985751452212,
          -0.3977900930843234,
          -0.3690033354745804,
          -0.3816362046050658,
          -0.35560567355882244,
          -0.26138898600934707,
          -0.3076284654052095,
          -0.16213480094402485,
          -0.16310897612028583,
          -0.21555787165325055,
          -0.15098171855141604,
          -0.23647516145694042,
          -0.16125890788540406,
          -0.19510622883575676,
          -0.23823994167352466,
          -0.3343564878262441,
          -0.17301878913454413,
          -0.20978979536526624,
          -0.20223077355753794,
          -0.2862456027535696,
          -0.3450343283247692,
          -0.24650524644542732,
          -0.15839673091634865,
          -0.2903597871656182,
          -0.20560251860308923,
          -0.1958457707394161,
          -0.12108491543694043,
          -0.011488378930386305,
          0.04304297550963277,
          0.05362510616355092,
          0.15036640347023228,
          0.2149509619765646,
          0.323426260707801,
          0.2866935902112169,
          0.1752584104066689,
          0.2729214614751272,
          0.28610632390825697,
          0.13491520475069424,
          0.196064435031077,
          0.31162392187409826,
          0.401489719907904,
          0.5074638576290327,
          0.6112720403822461,
          0.5334494623005201,
          0.4910152675927811,
          0.5810045139848442,
          0.4877516399411418,
          0.5424651313700491,
          0.5241695374670581,
          0.578131867739081,
          0.5602693831819313,
          0.5684215727119658,
          0.4986922142044356,
          0.48066880194328204,
          0.41707392949076133,
          0.3422131800861278,
          0.3135649122136287,
          0.35130873370656446,
          0.26572344660223496,
          0.32248614919163476,
          0.42080309301042357,
          0.45781026186566903,
          0.40810431708431494,
          0.44918169067092956,
          0.4181786796552323,
          0.5296583213918957,
          0.43239622512512693,
          0.47369712276033044,
          0.36652011244774685,
          0.29162141841209166,
          0.4315680528395005,
          0.4300512722575669,
          0.3832480267356407,
          0.30639679359330124,
          0.3915997438983606,
          0.4320457026427665,
          0.4537200085512399,
          0.5221274696551222,
          0.4176477143139316,
          0.507633704541548,
          0.5025082915229384,
          0.5853613896864142,
          0.6109396162442424,
          0.6329597500448821,
          0.6831760438569237,
          0.6050361662510773,
          0.4989380716265757,
          0.4191735581991454,
          0.4697972667680357,
          0.41444284081367677,
          0.3688447349316223,
          0.3440419103059674,
          0.18090350404946948,
          0.22919280785552362,
          0.17883570055233422,
          0.22931073976194094,
          0.22245958697126847,
          0.03328524421432151,
          0.10798794349322635,
          0.1629141392427801,
          0.12537885922855396,
          0.18346688638522066,
          0.34711878949622305,
          0.21893036188133588,
          0.1338252401807126,
          0.1601493039086865,
          0.17745955046772388,
          0.2730864154496166,
          0.13319313761455667,
          0.03384676700246305,
          -0.017779081145934628,
          -0.031959606388755,
          -0.08659672792261117,
          -0.03652081671431198,
          -0.04271392093360168,
          -0.14307380311815962,
          -0.20607052159319147,
          -0.142815539339275,
          -0.01985315553644106,
          -0.16976000412020167,
          -0.03848992309612358,
          -0.047694113507716296,
          -0.11311016886158858,
          -0.07436462146190163,
          -0.1966201356078251,
          -0.13381712042377647,
          -0.11870972951321568,
          -0.19661932642833482,
          -0.20393315430901643,
          -0.12005817477790343,
          -0.1432878982454431,
          -0.1360213612544834,
          -0.14586029435007972,
          -0.1737712704216312,
          -0.10887410819211897,
          -0.1399064713246392,
          -0.08335989270628864,
          -0.17215388352513755,
          -0.1031490524304889,
          -0.13529890856431429,
          -0.16681892120017358,
          -0.08017127566762886,
          -0.06855176741823904,
          -0.09607664845150077,
          -0.16230168603614004,
          -0.19699214206798524,
          -0.12975444247277312,
          -0.1314990195906969,
          -0.17607401664859867,
          -0.19919507891415578,
          -0.2346138941130835,
          -0.20672122974271376,
          -0.14830566504620332,
          -0.16889437363963497,
          -0.20604110855998323,
          -0.18527701347255454,
          -0.19715943626569046,
          -0.16224326991728819,
          -0.25872989579586164,
          -0.18773866515462403,
          -0.24277397181773133,
          -0.17243595069303796,
          -0.10800951201361288,
          -0.001761900264203232,
          -0.09245750154417132,
          0.0376405345238254,
          -0.05174277088406891,
          -0.12311334866048951,
          -0.07078549258648613,
          -0.09999785797503549,
          -0.14361545023918607,
          -0.17213045844188507
         ],
         "z": [
          0.6132923591778207,
          0.55777746547173,
          0.555662944257075,
          0.6013123721540724,
          0.6520851608495385,
          0.6090764634520197,
          0.696484191185394,
          0.5345059320652786,
          0.578052847757435,
          0.5913693852019193,
          0.5725867734784262,
          0.5641888839551717,
          0.4893794270202425,
          0.37866410903032616,
          0.3907564432098719,
          0.5604263916400836,
          0.5667311386458354,
          0.49150374107915984,
          0.3865937705761199,
          0.5277228437855103,
          0.385813560120825,
          0.24661837289522898,
          0.3290804967878215,
          0.2916693173212668,
          0.3321509697702198,
          0.2689942611089867,
          0.2899620988949683,
          0.22948857482027227,
          0.24525483577063625,
          0.2317042998899044,
          0.3791379270043175,
          0.3753576051783933,
          0.3295824111554616,
          0.290281205951436,
          0.19179467193991165,
          0.2437100564337013,
          0.20339315827462556,
          0.19413214126815348,
          0.22024988105155016,
          0.15117553557833563,
          0.20550946141785448,
          0.20535293920519293,
          0.1421220143984151,
          0.1850463984439765,
          0.2075914705002858,
          0.14400919411748492,
          0.09601029161795539,
          0.07598109836155593,
          0.02643074250192917,
          0.024578991291185896,
          0.12716868728708575,
          0.012959448009238634,
          0.014039843005676456,
          0.05836097886139274,
          -0.021648284592750974,
          -0.02977915523448746,
          -0.12336922478188324,
          -0.13639373175388864,
          -0.14533249622260433,
          -0.14621856165233296,
          -0.05048251235913778,
          0.05970612493631931,
          0.11086148826767982,
          -0.03307898572046879,
          -0.02442564979776979,
          0.06313877532623917,
          0.04245357344985389,
          0.03973305258581476,
          0.014107368512650688,
          0.0459178398950247,
          0.07701988914178176,
          0.06617190836737032,
          0.12395994832894361,
          0.10937450387859642,
          0.08225128465144282,
          0.03191710877549058,
          0.08114945342714229,
          0.09664034066401239,
          0.13704112606310442,
          0.17322918677877336,
          0.11379637509195259,
          0.10493538249537167,
          0.14003162948450415,
          0.0882750445565401,
          0.02091048418120187,
          0.09529248977794058,
          0.07739161225603242,
          0.04794535815629766,
          -0.001026651585649585,
          0.019285207253387258,
          0.04536828625460144,
          0.07875506672359872,
          0.01918453154197984,
          0.0670569354164037,
          -0.0092118811608134,
          0.0742222358972245,
          0.019094531802569106,
          0.05339429200304154,
          0.00043318722661365717,
          0.06743917371341136,
          0.06699710602362584,
          0.1293177500246834,
          0.06928843854943835,
          0.008524302499531828,
          0.01971877840940127,
          0.0024639234011540074,
          0.03223723709407947,
          0.09332287876104732,
          0.0034992648510938245,
          0.06310651328332527,
          0.011763095872051195,
          0.0713117235145024,
          0.060744514130458074,
          0.08072635652261048,
          0.12215607060025921,
          0.08128557722540293,
          0.017079579392047253,
          0.032370267644862526,
          0.03983274910493672,
          0.005711352120749137,
          0.042265429632951095,
          -0.08001187198669173,
          -0.09417800994241851,
          -0.06540541672023001,
          -0.07993773745088407,
          -0.07305245850969372,
          -0.07394583313897427,
          -0.14416014812108838,
          -0.18273202470464434,
          -0.0935884622929781,
          -0.15424118524535835,
          -0.12493434548987017,
          -0.12098321184760011,
          -0.08853203153714971,
          -0.1444877756064788,
          -0.065324445750673,
          -0.0920516770484423,
          -0.004612925645565391,
          -0.14286155160470804,
          -0.14885318272898446,
          -0.230677761961003,
          -0.234050987051988,
          -0.2579184294896272,
          -0.24579855093267589,
          -0.27871527183673395,
          -0.3581691010794484,
          -0.29086543891145866,
          -0.3122657083714589,
          -0.2372643675495176,
          -0.32701689773102105,
          -0.23965062674175466,
          -0.26315090820675036,
          -0.34196815838997624,
          -0.28267828377382404,
          -0.34470172638063795,
          -0.35892026933949056,
          -0.30971435036099504,
          -0.3246294678270693,
          -0.3218834484362611,
          -0.3454644419828413,
          -0.3338950774348168,
          -0.3355437431744645,
          -0.3433759601675479,
          -0.31893000627735635,
          -0.2899598292910659,
          -0.30646371872086375,
          -0.28537295473552543,
          -0.3057186533321322,
          -0.31285402063569256,
          -0.28722225958649755,
          -0.32029640455263875,
          -0.29217193358400895,
          -0.31575606288658226,
          -0.28422649661166294,
          -0.3037427447740297,
          -0.32116213791967807,
          -0.3260564935248053,
          -0.3104724894961442,
          -0.3547655068684107,
          -0.3317025276844472,
          -0.3912960118517245,
          -0.38095331621354905,
          -0.32975031325851145,
          -0.2824708314419244,
          -0.33552152794239015,
          -0.33263135184717557,
          -0.34354164305415125,
          -0.33327333862781566,
          -0.3315442055475207,
          -0.342909607834095,
          -0.3146117663692804,
          -0.3286725021989108,
          -0.2710014835404494,
          -0.21661441946473883,
          -0.25006603417528056,
          -0.13164027330557918,
          -0.2677861267639229,
          -0.259132100795002,
          -0.2461609441587222,
          -0.2611301594997756,
          -0.28869819650405576,
          -0.2946325134965118
         ]
        }
       ],
       "layout": {
        "height": 1000,
        "scene": {
         "domain": {
          "x": [
           0,
           0.45
          ],
          "y": [
           0,
           1
          ]
         }
        },
        "scene2": {
         "domain": {
          "x": [
           0.55,
           1
          ],
          "y": [
           0,
           1
          ]
         }
        },
        "template": {
         "data": {
          "bar": [
           {
            "error_x": {
             "color": "#2a3f5f"
            },
            "error_y": {
             "color": "#2a3f5f"
            },
            "marker": {
             "line": {
              "color": "#E5ECF6",
              "width": 0.5
             }
            },
            "type": "bar"
           }
          ],
          "barpolar": [
           {
            "marker": {
             "line": {
              "color": "#E5ECF6",
              "width": 0.5
             }
            },
            "type": "barpolar"
           }
          ],
          "carpet": [
           {
            "aaxis": {
             "endlinecolor": "#2a3f5f",
             "gridcolor": "white",
             "linecolor": "white",
             "minorgridcolor": "white",
             "startlinecolor": "#2a3f5f"
            },
            "baxis": {
             "endlinecolor": "#2a3f5f",
             "gridcolor": "white",
             "linecolor": "white",
             "minorgridcolor": "white",
             "startlinecolor": "#2a3f5f"
            },
            "type": "carpet"
           }
          ],
          "choropleth": [
           {
            "colorbar": {
             "outlinewidth": 0,
             "ticks": ""
            },
            "type": "choropleth"
           }
          ],
          "contour": [
           {
            "colorbar": {
             "outlinewidth": 0,
             "ticks": ""
            },
            "colorscale": [
             [
              0,
              "#0d0887"
             ],
             [
              0.1111111111111111,
              "#46039f"
             ],
             [
              0.2222222222222222,
              "#7201a8"
             ],
             [
              0.3333333333333333,
              "#9c179e"
             ],
             [
              0.4444444444444444,
              "#bd3786"
             ],
             [
              0.5555555555555556,
              "#d8576b"
             ],
             [
              0.6666666666666666,
              "#ed7953"
             ],
             [
              0.7777777777777778,
              "#fb9f3a"
             ],
             [
              0.8888888888888888,
              "#fdca26"
             ],
             [
              1,
              "#f0f921"
             ]
            ],
            "type": "contour"
           }
          ],
          "contourcarpet": [
           {
            "colorbar": {
             "outlinewidth": 0,
             "ticks": ""
            },
            "type": "contourcarpet"
           }
          ],
          "heatmap": [
           {
            "colorbar": {
             "outlinewidth": 0,
             "ticks": ""
            },
            "colorscale": [
             [
              0,
              "#0d0887"
             ],
             [
              0.1111111111111111,
              "#46039f"
             ],
             [
              0.2222222222222222,
              "#7201a8"
             ],
             [
              0.3333333333333333,
              "#9c179e"
             ],
             [
              0.4444444444444444,
              "#bd3786"
             ],
             [
              0.5555555555555556,
              "#d8576b"
             ],
             [
              0.6666666666666666,
              "#ed7953"
             ],
             [
              0.7777777777777778,
              "#fb9f3a"
             ],
             [
              0.8888888888888888,
              "#fdca26"
             ],
             [
              1,
              "#f0f921"
             ]
            ],
            "type": "heatmap"
           }
          ],
          "heatmapgl": [
           {
            "colorbar": {
             "outlinewidth": 0,
             "ticks": ""
            },
            "colorscale": [
             [
              0,
              "#0d0887"
             ],
             [
              0.1111111111111111,
              "#46039f"
             ],
             [
              0.2222222222222222,
              "#7201a8"
             ],
             [
              0.3333333333333333,
              "#9c179e"
             ],
             [
              0.4444444444444444,
              "#bd3786"
             ],
             [
              0.5555555555555556,
              "#d8576b"
             ],
             [
              0.6666666666666666,
              "#ed7953"
             ],
             [
              0.7777777777777778,
              "#fb9f3a"
             ],
             [
              0.8888888888888888,
              "#fdca26"
             ],
             [
              1,
              "#f0f921"
             ]
            ],
            "type": "heatmapgl"
           }
          ],
          "histogram": [
           {
            "marker": {
             "colorbar": {
              "outlinewidth": 0,
              "ticks": ""
             }
            },
            "type": "histogram"
           }
          ],
          "histogram2d": [
           {
            "colorbar": {
             "outlinewidth": 0,
             "ticks": ""
            },
            "colorscale": [
             [
              0,
              "#0d0887"
             ],
             [
              0.1111111111111111,
              "#46039f"
             ],
             [
              0.2222222222222222,
              "#7201a8"
             ],
             [
              0.3333333333333333,
              "#9c179e"
             ],
             [
              0.4444444444444444,
              "#bd3786"
             ],
             [
              0.5555555555555556,
              "#d8576b"
             ],
             [
              0.6666666666666666,
              "#ed7953"
             ],
             [
              0.7777777777777778,
              "#fb9f3a"
             ],
             [
              0.8888888888888888,
              "#fdca26"
             ],
             [
              1,
              "#f0f921"
             ]
            ],
            "type": "histogram2d"
           }
          ],
          "histogram2dcontour": [
           {
            "colorbar": {
             "outlinewidth": 0,
             "ticks": ""
            },
            "colorscale": [
             [
              0,
              "#0d0887"
             ],
             [
              0.1111111111111111,
              "#46039f"
             ],
             [
              0.2222222222222222,
              "#7201a8"
             ],
             [
              0.3333333333333333,
              "#9c179e"
             ],
             [
              0.4444444444444444,
              "#bd3786"
             ],
             [
              0.5555555555555556,
              "#d8576b"
             ],
             [
              0.6666666666666666,
              "#ed7953"
             ],
             [
              0.7777777777777778,
              "#fb9f3a"
             ],
             [
              0.8888888888888888,
              "#fdca26"
             ],
             [
              1,
              "#f0f921"
             ]
            ],
            "type": "histogram2dcontour"
           }
          ],
          "mesh3d": [
           {
            "colorbar": {
             "outlinewidth": 0,
             "ticks": ""
            },
            "type": "mesh3d"
           }
          ],
          "parcoords": [
           {
            "line": {
             "colorbar": {
              "outlinewidth": 0,
              "ticks": ""
             }
            },
            "type": "parcoords"
           }
          ],
          "pie": [
           {
            "automargin": true,
            "type": "pie"
           }
          ],
          "scatter": [
           {
            "marker": {
             "colorbar": {
              "outlinewidth": 0,
              "ticks": ""
             }
            },
            "type": "scatter"
           }
          ],
          "scatter3d": [
           {
            "line": {
             "colorbar": {
              "outlinewidth": 0,
              "ticks": ""
             }
            },
            "marker": {
             "colorbar": {
              "outlinewidth": 0,
              "ticks": ""
             }
            },
            "type": "scatter3d"
           }
          ],
          "scattercarpet": [
           {
            "marker": {
             "colorbar": {
              "outlinewidth": 0,
              "ticks": ""
             }
            },
            "type": "scattercarpet"
           }
          ],
          "scattergeo": [
           {
            "marker": {
             "colorbar": {
              "outlinewidth": 0,
              "ticks": ""
             }
            },
            "type": "scattergeo"
           }
          ],
          "scattergl": [
           {
            "marker": {
             "colorbar": {
              "outlinewidth": 0,
              "ticks": ""
             }
            },
            "type": "scattergl"
           }
          ],
          "scattermapbox": [
           {
            "marker": {
             "colorbar": {
              "outlinewidth": 0,
              "ticks": ""
             }
            },
            "type": "scattermapbox"
           }
          ],
          "scatterpolar": [
           {
            "marker": {
             "colorbar": {
              "outlinewidth": 0,
              "ticks": ""
             }
            },
            "type": "scatterpolar"
           }
          ],
          "scatterpolargl": [
           {
            "marker": {
             "colorbar": {
              "outlinewidth": 0,
              "ticks": ""
             }
            },
            "type": "scatterpolargl"
           }
          ],
          "scatterternary": [
           {
            "marker": {
             "colorbar": {
              "outlinewidth": 0,
              "ticks": ""
             }
            },
            "type": "scatterternary"
           }
          ],
          "surface": [
           {
            "colorbar": {
             "outlinewidth": 0,
             "ticks": ""
            },
            "colorscale": [
             [
              0,
              "#0d0887"
             ],
             [
              0.1111111111111111,
              "#46039f"
             ],
             [
              0.2222222222222222,
              "#7201a8"
             ],
             [
              0.3333333333333333,
              "#9c179e"
             ],
             [
              0.4444444444444444,
              "#bd3786"
             ],
             [
              0.5555555555555556,
              "#d8576b"
             ],
             [
              0.6666666666666666,
              "#ed7953"
             ],
             [
              0.7777777777777778,
              "#fb9f3a"
             ],
             [
              0.8888888888888888,
              "#fdca26"
             ],
             [
              1,
              "#f0f921"
             ]
            ],
            "type": "surface"
           }
          ],
          "table": [
           {
            "cells": {
             "fill": {
              "color": "#EBF0F8"
             },
             "line": {
              "color": "white"
             }
            },
            "header": {
             "fill": {
              "color": "#C8D4E3"
             },
             "line": {
              "color": "white"
             }
            },
            "type": "table"
           }
          ]
         },
         "layout": {
          "annotationdefaults": {
           "arrowcolor": "#2a3f5f",
           "arrowhead": 0,
           "arrowwidth": 1
          },
          "autotypenumbers": "strict",
          "coloraxis": {
           "colorbar": {
            "outlinewidth": 0,
            "ticks": ""
           }
          },
          "colorscale": {
           "diverging": [
            [
             0,
             "#8e0152"
            ],
            [
             0.1,
             "#c51b7d"
            ],
            [
             0.2,
             "#de77ae"
            ],
            [
             0.3,
             "#f1b6da"
            ],
            [
             0.4,
             "#fde0ef"
            ],
            [
             0.5,
             "#f7f7f7"
            ],
            [
             0.6,
             "#e6f5d0"
            ],
            [
             0.7,
             "#b8e186"
            ],
            [
             0.8,
             "#7fbc41"
            ],
            [
             0.9,
             "#4d9221"
            ],
            [
             1,
             "#276419"
            ]
           ],
           "sequential": [
            [
             0,
             "#0d0887"
            ],
            [
             0.1111111111111111,
             "#46039f"
            ],
            [
             0.2222222222222222,
             "#7201a8"
            ],
            [
             0.3333333333333333,
             "#9c179e"
            ],
            [
             0.4444444444444444,
             "#bd3786"
            ],
            [
             0.5555555555555556,
             "#d8576b"
            ],
            [
             0.6666666666666666,
             "#ed7953"
            ],
            [
             0.7777777777777778,
             "#fb9f3a"
            ],
            [
             0.8888888888888888,
             "#fdca26"
            ],
            [
             1,
             "#f0f921"
            ]
           ],
           "sequentialminus": [
            [
             0,
             "#0d0887"
            ],
            [
             0.1111111111111111,
             "#46039f"
            ],
            [
             0.2222222222222222,
             "#7201a8"
            ],
            [
             0.3333333333333333,
             "#9c179e"
            ],
            [
             0.4444444444444444,
             "#bd3786"
            ],
            [
             0.5555555555555556,
             "#d8576b"
            ],
            [
             0.6666666666666666,
             "#ed7953"
            ],
            [
             0.7777777777777778,
             "#fb9f3a"
            ],
            [
             0.8888888888888888,
             "#fdca26"
            ],
            [
             1,
             "#f0f921"
            ]
           ]
          },
          "colorway": [
           "#636efa",
           "#EF553B",
           "#00cc96",
           "#ab63fa",
           "#FFA15A",
           "#19d3f3",
           "#FF6692",
           "#B6E880",
           "#FF97FF",
           "#FECB52"
          ],
          "font": {
           "color": "#2a3f5f"
          },
          "geo": {
           "bgcolor": "white",
           "lakecolor": "white",
           "landcolor": "#E5ECF6",
           "showlakes": true,
           "showland": true,
           "subunitcolor": "white"
          },
          "hoverlabel": {
           "align": "left"
          },
          "hovermode": "closest",
          "mapbox": {
           "style": "light"
          },
          "paper_bgcolor": "white",
          "plot_bgcolor": "#E5ECF6",
          "polar": {
           "angularaxis": {
            "gridcolor": "white",
            "linecolor": "white",
            "ticks": ""
           },
           "bgcolor": "#E5ECF6",
           "radialaxis": {
            "gridcolor": "white",
            "linecolor": "white",
            "ticks": ""
           }
          },
          "scene": {
           "xaxis": {
            "backgroundcolor": "#E5ECF6",
            "gridcolor": "white",
            "gridwidth": 2,
            "linecolor": "white",
            "showbackground": true,
            "ticks": "",
            "zerolinecolor": "white"
           },
           "yaxis": {
            "backgroundcolor": "#E5ECF6",
            "gridcolor": "white",
            "gridwidth": 2,
            "linecolor": "white",
            "showbackground": true,
            "ticks": "",
            "zerolinecolor": "white"
           },
           "zaxis": {
            "backgroundcolor": "#E5ECF6",
            "gridcolor": "white",
            "gridwidth": 2,
            "linecolor": "white",
            "showbackground": true,
            "ticks": "",
            "zerolinecolor": "white"
           }
          },
          "shapedefaults": {
           "line": {
            "color": "#2a3f5f"
           }
          },
          "ternary": {
           "aaxis": {
            "gridcolor": "white",
            "linecolor": "white",
            "ticks": ""
           },
           "baxis": {
            "gridcolor": "white",
            "linecolor": "white",
            "ticks": ""
           },
           "bgcolor": "#E5ECF6",
           "caxis": {
            "gridcolor": "white",
            "linecolor": "white",
            "ticks": ""
           }
          },
          "title": {
           "x": 0.05
          },
          "xaxis": {
           "automargin": true,
           "gridcolor": "white",
           "linecolor": "white",
           "ticks": "",
           "title": {
            "standoff": 15
           },
           "zerolinecolor": "white",
           "zerolinewidth": 2
          },
          "yaxis": {
           "automargin": true,
           "gridcolor": "white",
           "linecolor": "white",
           "ticks": "",
           "title": {
            "standoff": 15
           },
           "zerolinecolor": "white",
           "zerolinewidth": 2
          }
         }
        },
        "width": 1300
       }
      }
     },
     "metadata": {},
     "output_type": "display_data"
    },
    {
     "name": "stdout",
     "output_type": "stream",
     "text": [
      "Kabsch distance is 0.05955479416364035\n"
     ]
    },
    {
     "data": {
      "text/plain": [
       "<Figure size 50000x50000 with 0 Axes>"
      ]
     },
     "metadata": {},
     "output_type": "display_data"
    }
   ],
   "source": [
    "test_true_structure = test_true_structures[GRAPH_TESTED]\n",
    "test_pred_structure = test_pred_structures[GRAPH_TESTED]\n",
    "\n",
    "test_pred_structure_superposed, test_true_structure_superposed = \\\n",
    "        kabsch_superimposition_numpy(test_pred_structure, test_true_structure, EMBEDDING_SIZE)\n",
    "\n",
    "x_pred = test_pred_structure_superposed[:, 0]  \n",
    "y_pred = test_pred_structure_superposed[:, 1]\n",
    "z_pred = test_pred_structure_superposed[:, 2]\n",
    "\n",
    "x_true = test_true_structure_superposed[:, 0]  \n",
    "y_true = test_true_structure_superposed[:, 1]\n",
    "z_true = test_true_structure_superposed[:, 2]\n",
    "\n",
    "colorscale1 = np.asarray(range(len(x_true)))\n",
    "colorscale2 = np.asarray(range(len(x_pred)))\n",
    "color1 = 'Viridis'\n",
    "color2 = 'Viridis'\n",
    "\n",
    "plot_true_pred_structures(x_pred, y_pred, z_pred, x_true, y_true, z_true, colorscale1, colorscale2, color1, color2)\n",
    "\n",
    "# Shape comparison\n",
    "print('Kabsch distance is ' + str(kabsch_distance_numpy(test_pred_structure, test_true_structure, EMBEDDING_SIZE)))\n",
    "\n"
   ]
  },
  {
   "cell_type": "code",
   "execution_count": 15,
   "metadata": {},
   "outputs": [],
   "source": [
    "make_gif(\"\", \"gifs/trussart_linear.gif\")"
   ]
  },
  {
   "cell_type": "code",
   "execution_count": 16,
   "metadata": {},
   "outputs": [
    {
     "data": {
      "application/vnd.plotly.v1+json": {
       "config": {
        "plotlyServerURL": "https://plot.ly"
       },
       "data": [
        {
         "line": {
          "color": "darkblue",
          "width": 2
         },
         "marker": {
          "color": [
           0,
           1,
           2,
           3,
           4,
           5,
           6,
           7,
           8,
           9,
           10,
           11,
           12,
           13,
           14,
           15,
           16,
           17,
           18,
           19,
           20,
           21,
           22,
           23,
           24,
           25,
           26,
           27,
           28,
           29,
           30,
           31,
           32,
           33,
           34,
           35,
           36,
           37,
           38,
           39,
           40,
           41,
           42,
           43,
           44,
           45,
           46,
           47,
           48,
           49,
           50,
           51,
           52,
           53,
           54,
           55,
           56,
           57,
           58,
           59,
           60,
           61,
           62,
           63,
           64,
           65,
           66,
           67,
           68,
           69,
           70,
           71,
           72,
           73,
           74,
           75,
           76,
           77,
           78,
           79,
           80,
           81,
           82,
           83,
           84,
           85,
           86,
           87,
           88,
           89,
           90,
           91,
           92,
           93,
           94,
           95,
           96,
           97,
           98,
           99,
           100,
           101,
           102,
           103,
           104,
           105,
           106,
           107,
           108,
           109,
           110,
           111,
           112,
           113,
           114,
           115,
           116,
           117,
           118,
           119,
           120,
           121,
           122,
           123,
           124,
           125,
           126,
           127,
           128,
           129,
           130,
           131,
           132,
           133,
           134,
           135,
           136,
           137,
           138,
           139,
           140,
           141,
           142,
           143,
           144,
           145,
           146,
           147,
           148,
           149,
           150,
           151,
           152,
           153,
           154,
           155,
           156,
           157,
           158,
           159,
           160,
           161,
           162,
           163,
           164,
           165,
           166,
           167,
           168,
           169,
           170,
           171,
           172,
           173,
           174,
           175,
           176,
           177,
           178,
           179,
           180,
           181,
           182,
           183,
           184,
           185,
           186,
           187,
           188,
           189,
           190,
           191,
           192,
           193,
           194,
           195,
           196,
           197,
           198,
           199,
           200,
           201
          ],
          "colorscale": [
           [
            0,
            "#440154"
           ],
           [
            0.1111111111111111,
            "#482878"
           ],
           [
            0.2222222222222222,
            "#3e4989"
           ],
           [
            0.3333333333333333,
            "#31688e"
           ],
           [
            0.4444444444444444,
            "#26828e"
           ],
           [
            0.5555555555555556,
            "#1f9e89"
           ],
           [
            0.6666666666666666,
            "#35b779"
           ],
           [
            0.7777777777777778,
            "#6ece58"
           ],
           [
            0.8888888888888888,
            "#b5de2b"
           ],
           [
            1,
            "#fde725"
           ]
          ],
          "size": 4
         },
         "scene": "scene",
         "type": "scatter3d",
         "x": [
          -0.11617447435855865,
          -0.03791821748018265,
          0.04670683667063713,
          0.13978135585784912,
          0.21786342561244965,
          0.2779562771320343,
          0.33708444237709045,
          0.38427045941352844,
          0.3807530403137207,
          0.3150673806667328,
          0.23885391652584076,
          0.15156598389148712,
          0.0769868940114975,
          0.020498061552643776,
          -0.030429817736148834,
          -0.029525181278586388,
          0.034680090844631195,
          0.10709412395954132,
          0.14884334802627563,
          0.2134513109922409,
          0.31550997495651245,
          0.36893129348754883,
          0.37515947222709656,
          0.41817790269851685,
          0.4840720295906067,
          0.5472744107246399,
          0.6268070936203003,
          0.6903325319290161,
          0.7529017925262451,
          0.801105797290802,
          0.8115475177764893,
          0.7648389935493469,
          0.6608444452285767,
          0.5548867583274841,
          0.4880940318107605,
          0.4807282090187073,
          0.4930410087108612,
          0.46825167536735535,
          0.38314536213874817,
          0.29053834080696106,
          0.19688716530799866,
          0.08741677552461624,
          -0.0021127176005393267,
          -0.06199466437101364,
          -0.08218128234148026,
          -0.11433529108762741,
          -0.1959468126296997,
          -0.29606926441192627,
          -0.40554285049438477,
          -0.5085029006004333,
          -0.5790907740592957,
          -0.5892248153686523,
          -0.527962327003479,
          -0.4748486578464508,
          -0.47052255272865295,
          -0.4990592300891876,
          -0.5149421095848083,
          -0.5274538397789001,
          -0.5681564807891846,
          -0.5679470300674438,
          -0.5570084452629089,
          -0.548595666885376,
          -0.5507451295852661,
          -0.5905041098594666,
          -0.6389787197113037,
          -0.6689842343330383,
          -0.67486172914505,
          -0.6482881307601929,
          -0.6002840399742126,
          -0.558573842048645,
          -0.495830774307251,
          -0.39958980679512024,
          -0.30579712986946106,
          -0.21815238893032074,
          -0.15734504163265228,
          -0.16126421093940735,
          -0.18848136067390442,
          -0.2504957914352417,
          -0.34184426069259644,
          -0.40205833315849304,
          -0.4127863943576813,
          -0.38963764905929565,
          -0.36868301033973694,
          -0.33054083585739136,
          -0.30159515142440796,
          -0.30301791429519653,
          -0.29788878560066223,
          -0.23774246871471405,
          -0.13075365126132965,
          -0.03620850667357445,
          0.05529852584004402,
          0.1623871624469757,
          0.22830073535442352,
          0.2598969042301178,
          0.31756365299224854,
          0.40321052074432373,
          0.47904109954833984,
          0.4961734414100647,
          0.48096582293510437,
          0.4402604401111603,
          0.35332679748535156,
          0.2716618776321411,
          0.19779075682163239,
          0.16831326484680176,
          0.1667747050523758,
          0.16374243795871735,
          0.15143708884716034,
          0.09772277623414993,
          0.02620856463909149,
          -0.0747554749250412,
          -0.16192710399627686,
          -0.18647699058055878,
          -0.1418759822845459,
          -0.05032235011458397,
          0.04975593090057373,
          0.15390858054161072,
          0.2393060177564621,
          0.30470964312553406,
          0.3932957053184509,
          0.47255197167396545,
          0.5545174479484558,
          0.6110402941703796,
          0.5719364881515503,
          0.5262590050697327,
          0.4842446744441986,
          0.4341636002063751,
          0.3661133348941803,
          0.26245781779289246,
          0.17612534761428833,
          0.08165481686592102,
          -0.0071396189741790295,
          -0.040169455111026764,
          -0.0004928436828777194,
          0.0689781978726387,
          0.11843700706958771,
          0.15375421941280365,
          0.21911579370498657,
          0.300586074590683,
          0.31245332956314087,
          0.29845061898231506,
          0.27475133538246155,
          0.21659766137599945,
          0.18014323711395264,
          0.2251301109790802,
          0.310329794883728,
          0.32799196243286133,
          0.28518280386924744,
          0.20526565611362457,
          0.10768815129995346,
          0.028870077803730965,
          0.02997404709458351,
          0.06375065445899963,
          0.11131700128316879,
          0.21647845208644867,
          0.31520676612854004,
          0.3869173526763916,
          0.46322470903396606,
          0.5268260836601257,
          0.5192321538925171,
          0.44961512088775635,
          0.3707701563835144,
          0.31225085258483887,
          0.25314927101135254,
          0.16950607299804688,
          0.06347664445638657,
          -0.04473896697163582,
          -0.1474660485982895,
          -0.24160709977149963,
          -0.32191628217697144,
          -0.38584014773368835,
          -0.43990612030029297,
          -0.4618932604789734,
          -0.4392291009426117,
          -0.41247251629829407,
          -0.39393100142478943,
          -0.356804758310318,
          -0.2860685884952545,
          -0.1966567188501358,
          -0.13455422222614288,
          -0.0996810793876648,
          -0.09654261916875839,
          -0.1651683747768402,
          -0.26332658529281616,
          -0.34172531962394714,
          -0.3839617371559143,
          -0.43135473132133484,
          -0.4918937385082245,
          -0.5613536238670349,
          -0.6317773461341858,
          -0.6438614726066589,
          -0.5855109095573425,
          -0.5008158683776855,
          -0.45847588777542114,
          -0.4599389433860779,
          -0.4394255578517914,
          -0.3731670379638672,
          -0.3345471918582916,
          -0.3575647175312042,
          -0.3643205761909485,
          -0.32028189301490784,
          -0.2560182213783264,
          -0.1860814094543457
         ],
         "y": [
          0.08944384008646011,
          0.10456705093383789,
          0.17024515569210052,
          0.1906794309616089,
          0.1639876812696457,
          0.12943466007709503,
          0.0637640431523323,
          -0.021527621895074844,
          -0.11860470473766327,
          -0.20944048464298248,
          -0.2648506462574005,
          -0.27936452627182007,
          -0.2918497622013092,
          -0.28507673740386963,
          -0.27077823877334595,
          -0.31209200620651245,
          -0.38138025999069214,
          -0.3876912295818329,
          -0.3447554111480713,
          -0.33904317021369934,
          -0.35171958804130554,
          -0.3652005195617676,
          -0.32231149077415466,
          -0.24067385494709015,
          -0.16297946870326996,
          -0.07863672822713852,
          -0.042407408356666565,
          -0.07883036136627197,
          -0.14399836957454681,
          -0.22695960104465485,
          -0.3393362760543823,
          -0.4030146598815918,
          -0.4075722396373749,
          -0.38767626881599426,
          -0.3426060378551483,
          -0.304920494556427,
          -0.3397584557533264,
          -0.43014150857925415,
          -0.49113357067108154,
          -0.5468339920043945,
          -0.5995942950248718,
          -0.6133477091789246,
          -0.5824869275093079,
          -0.5003607273101807,
          -0.4002910256385803,
          -0.3079233169555664,
          -0.26188573241233826,
          -0.25327935814857483,
          -0.2662299573421478,
          -0.2974162697792053,
          -0.2956964373588562,
          -0.23207983374595642,
          -0.16765131056308746,
          -0.20861339569091797,
          -0.31893083453178406,
          -0.4208136796951294,
          -0.5054690837860107,
          -0.5816763043403625,
          -0.6429061889648438,
          -0.6283171772956848,
          -0.5356317162513733,
          -0.4276777505874634,
          -0.32994091510772705,
          -0.24732047319412231,
          -0.1769239902496338,
          -0.10948801040649414,
          -0.022452285513281822,
          0.058561962097883224,
          0.07762019336223602,
          0.047900695353746414,
          0.06223253905773163,
          0.07548948377370834,
          0.01412722747772932,
          -0.05512925982475281,
          -0.12811556458473206,
          -0.19802318513393402,
          -0.2813737690448761,
          -0.35651257634162903,
          -0.39373794198036194,
          -0.3781268000602722,
          -0.2979300618171692,
          -0.21146048605442047,
          -0.1640245020389557,
          -0.15537643432617188,
          -0.1477801650762558,
          -0.09617730975151062,
          -0.011854184791445732,
          0.04596942663192749,
          0.045474857091903687,
          -0.011499599553644657,
          -0.07182607054710388,
          -0.09080544859170914,
          -0.13705003261566162,
          -0.2362939566373825,
          -0.32519838213920593,
          -0.3460320234298706,
          -0.2891803979873657,
          -0.19455398619174957,
          -0.10384543240070343,
          -0.048033617436885834,
          -0.04737265780568123,
          -0.09815527498722076,
          -0.1590769737958908,
          -0.23949792981147766,
          -0.34192514419555664,
          -0.4485032558441162,
          -0.5273098945617676,
          -0.5367690920829773,
          -0.5050246119499207,
          -0.4872592091560364,
          -0.4379856586456299,
          -0.34087586402893066,
          -0.25049617886543274,
          -0.22202256321907043,
          -0.26311007142066956,
          -0.2923086881637573,
          -0.29501041769981384,
          -0.31991517543792725,
          -0.3422630727291107,
          -0.3634049892425537,
          -0.40173083543777466,
          -0.36591026186943054,
          -0.27542853355407715,
          -0.20988929271697998,
          -0.13987746834754944,
          -0.06932556629180908,
          -0.029291648417711258,
          -0.00171661248896271,
          0.03076871670782566,
          0.04777258262038231,
          0.09442566335201263,
          0.18980374932289124,
          0.23490019142627716,
          0.24009782075881958,
          0.20724833011627197,
          0.1321128010749817,
          0.08672281354665756,
          0.10720702260732651,
          0.14340580999851227,
          0.12450236082077026,
          0.11353382468223572,
          0.15298992395401,
          0.22412486374378204,
          0.2880399823188782,
          0.34996238350868225,
          0.43252983689308167,
          0.5235256552696228,
          0.5935593843460083,
          0.6418600082397461,
          0.6364655494689941,
          0.5634911060333252,
          0.5230661034584045,
          0.4994216561317444,
          0.479474276304245,
          0.48645931482315063,
          0.47136497497558594,
          0.4434916079044342,
          0.41577982902526855,
          0.4275406301021576,
          0.4919506311416626,
          0.5221216678619385,
          0.5262734293937683,
          0.5622127056121826,
          0.5934078097343445,
          0.5974488854408264,
          0.6110447645187378,
          0.6389402151107788,
          0.68062824010849,
          0.7398400902748108,
          0.8018255233764648,
          0.8200320601463318,
          0.8043843507766724,
          0.8240656852722168,
          0.8155520558357239,
          0.7340626120567322,
          0.6390692591667175,
          0.5568426251411438,
          0.49106502532958984,
          0.45649421215057373,
          0.4639952778816223,
          0.43877360224723816,
          0.40775901079177856,
          0.4316701591014862,
          0.48603880405426025,
          0.5614582896232605,
          0.5862489342689514,
          0.5205937027931213,
          0.43908944725990295,
          0.3610502779483795,
          0.27939823269844055,
          0.2130986601114273,
          0.1721285730600357,
          0.1765373945236206,
          0.20296573638916016,
          0.24594762921333313,
          0.3072813153266907,
          0.3565193712711334,
          0.38340631127357483,
          0.36521443724632263,
          0.29151588678359985,
          0.20925965905189514,
          0.13662992417812347
         ],
         "z": [
          0.0015235014725476503,
          0.0710795670747757,
          0.09527832269668579,
          0.10775916278362274,
          0.17181305587291718,
          0.25904151797294617,
          0.3295414447784424,
          0.38760286569595337,
          0.40765181183815,
          0.3988074064254761,
          0.35320934653282166,
          0.2866070866584778,
          0.21113084256649017,
          0.118867889046669,
          0.02304605208337307,
          -0.07114555686712265,
          -0.1188393384218216,
          -0.08403432369232178,
          0.010931352153420448,
          0.08979623019695282,
          0.13861143589019775,
          0.21721293032169342,
          0.29195544123649597,
          0.3427621126174927,
          0.37634262442588806,
          0.4059906303882599,
          0.39808014035224915,
          0.32434600591659546,
          0.2613222599029541,
          0.22573857009410858,
          0.21586120128631592,
          0.23812969028949738,
          0.28376099467277527,
          0.3111441731452942,
          0.36278802156448364,
          0.4667399227619171,
          0.5568886399269104,
          0.6035128831863403,
          0.6293235421180725,
          0.6511960029602051,
          0.6471812725067139,
          0.6205459833145142,
          0.5739948749542236,
          0.5323333740234375,
          0.496381551027298,
          0.47673922777175903,
          0.5196296572685242,
          0.5649583339691162,
          0.5833212733268738,
          0.5673872232437134,
          0.4916791319847107,
          0.413148432970047,
          0.363716721534729,
          0.33949390053749084,
          0.35640162229537964,
          0.3764967620372772,
          0.3355758488178253,
          0.2634272873401642,
          0.18189090490341187,
          0.0889878049492836,
          0.05014576017856598,
          0.07541888952255249,
          0.12732481956481934,
          0.1928006112575531,
          0.26798728108406067,
          0.26162993907928467,
          0.19765417277812958,
          0.13598664104938507,
          0.04096229374408722,
          -0.05980957671999931,
          -0.10685364156961441,
          -0.1023545116186142,
          -0.1042095422744751,
          -0.09485973417758942,
          -0.04614120349287987,
          0.035280339419841766,
          0.08916141092777252,
          0.09596333652734756,
          0.056425295770168304,
          -0.022591955959796906,
          -0.09327483922243118,
          -0.16275116801261902,
          -0.25753113627433777,
          -0.3622768223285675,
          -0.46794968843460083,
          -0.5594713687896729,
          -0.6350038051605225,
          -0.6825443506240845,
          -0.6896320581436157,
          -0.6998043060302734,
          -0.7226849794387817,
          -0.7305716872215271,
          -0.7516896724700928,
          -0.7612461447715759,
          -0.7238020300865173,
          -0.6834284663200378,
          -0.6310440897941589,
          -0.5984575152397156,
          -0.5542627573013306,
          -0.46954089403152466,
          -0.4312991797924042,
          -0.4718100130558014,
          -0.4946734607219696,
          -0.4560239613056183,
          -0.42063501477241516,
          -0.3966008722782135,
          -0.4287864565849304,
          -0.5200901627540588,
          -0.5995749831199646,
          -0.6324400305747986,
          -0.6293631196022034,
          -0.6529648900032043,
          -0.6742022633552551,
          -0.6509743332862854,
          -0.6201382279396057,
          -0.6053112149238586,
          -0.5551913380622864,
          -0.4689936339855194,
          -0.4081385135650635,
          -0.3392731249332428,
          -0.2930269241333008,
          -0.3135232627391815,
          -0.3260691165924072,
          -0.2672232389450073,
          -0.21297357976436615,
          -0.16044235229492188,
          -0.10843795537948608,
          -0.1295686811208725,
          -0.19298624992370605,
          -0.2363925725221634,
          -0.24025239050388336,
          -0.26780498027801514,
          -0.3362596035003662,
          -0.4231570065021515,
          -0.5031384825706482,
          -0.5789008140563965,
          -0.6449452042579651,
          -0.6335415840148926,
          -0.5463868379592896,
          -0.44185683131217957,
          -0.34325629472732544,
          -0.256570965051651,
          -0.18090961873531342,
          -0.14018131792545319,
          -0.11446288228034973,
          -0.0577113963663578,
          -0.018912438303232193,
          -0.026293694972991943,
          -0.05704766511917114,
          -0.10915915668010712,
          -0.16258665919303894,
          -0.24124476313591003,
          -0.31774985790252686,
          -0.3336116671562195,
          -0.29145777225494385,
          -0.20825226604938507,
          -0.13199588656425476,
          -0.04960951581597328,
          0.04202871769666672,
          0.08896218240261078,
          0.140762597322464,
          0.23718708753585815,
          0.32274213433265686,
          0.3856574296951294,
          0.4170374274253845,
          0.4405893385410309,
          0.479013592004776,
          0.5230984687805176,
          0.5223917961120605,
          0.4549751579761505,
          0.3661012053489685,
          0.2623169422149658,
          0.15920566022396088,
          0.06724066287279129,
          -0.004784636665135622,
          -0.045288439840078354,
          -0.06690087914466858,
          -0.06966770440340042,
          -0.009762750007212162,
          0.09582382440567017,
          0.1859564334154129,
          0.24655179679393768,
          0.2962503135204315,
          0.35284048318862915,
          0.4219105541706085,
          0.5023722648620605,
          0.5387599468231201,
          0.5485315918922424,
          0.5443248748779297,
          0.5708574056625366,
          0.619621753692627,
          0.5830268859863281,
          0.48675402998924255,
          0.37645795941352844,
          0.28021514415740967,
          0.2153976857662201,
          0.1375533789396286,
          0.03129434585571289,
          -0.06791438162326813,
          -0.13172951340675354,
          -0.12197016179561615,
          -0.06899110972881317
         ]
        },
        {
         "line": {
          "color": "darkblue",
          "width": 2
         },
         "marker": {
          "color": [
           0,
           1,
           2,
           3,
           4,
           5,
           6,
           7,
           8,
           9,
           10,
           11,
           12,
           13,
           14,
           15,
           16,
           17,
           18,
           19,
           20,
           21,
           22,
           23,
           24,
           25,
           26,
           27,
           28,
           29,
           30,
           31,
           32,
           33,
           34,
           35,
           36,
           37,
           38,
           39,
           40,
           41,
           42,
           43,
           44,
           45,
           46,
           47,
           48,
           49,
           50,
           51,
           52,
           53,
           54,
           55,
           56,
           57,
           58,
           59,
           60,
           61,
           62,
           63,
           64,
           65,
           66,
           67,
           68,
           69,
           70,
           71,
           72,
           73,
           74,
           75,
           76,
           77,
           78,
           79,
           80,
           81,
           82,
           83,
           84,
           85,
           86,
           87,
           88,
           89,
           90,
           91,
           92,
           93,
           94,
           95,
           96,
           97,
           98,
           99,
           100,
           101,
           102,
           103,
           104,
           105,
           106,
           107,
           108,
           109,
           110,
           111,
           112,
           113,
           114,
           115,
           116,
           117,
           118,
           119,
           120,
           121,
           122,
           123,
           124,
           125,
           126,
           127,
           128,
           129,
           130,
           131,
           132,
           133,
           134,
           135,
           136,
           137,
           138,
           139,
           140,
           141,
           142,
           143,
           144,
           145,
           146,
           147,
           148,
           149,
           150,
           151,
           152,
           153,
           154,
           155,
           156,
           157,
           158,
           159,
           160,
           161,
           162,
           163,
           164,
           165,
           166,
           167,
           168,
           169,
           170,
           171,
           172,
           173,
           174,
           175,
           176,
           177,
           178,
           179,
           180,
           181,
           182,
           183,
           184,
           185,
           186,
           187,
           188,
           189,
           190,
           191,
           192,
           193,
           194,
           195,
           196,
           197,
           198,
           199,
           200,
           201
          ],
          "colorscale": [
           [
            0,
            "#440154"
           ],
           [
            0.1111111111111111,
            "#482878"
           ],
           [
            0.2222222222222222,
            "#3e4989"
           ],
           [
            0.3333333333333333,
            "#31688e"
           ],
           [
            0.4444444444444444,
            "#26828e"
           ],
           [
            0.5555555555555556,
            "#1f9e89"
           ],
           [
            0.6666666666666666,
            "#35b779"
           ],
           [
            0.7777777777777778,
            "#6ece58"
           ],
           [
            0.8888888888888888,
            "#b5de2b"
           ],
           [
            1,
            "#fde725"
           ]
          ],
          "size": 4
         },
         "scene": "scene2",
         "type": "scatter3d",
         "x": [
          -0.2104606188059106,
          -0.14140486327310045,
          0.0030019320909871246,
          0.0856386463547023,
          0.13731779310069353,
          0.17028612476448415,
          0.2021971339090745,
          0.17901432771370626,
          0.2240185937979454,
          0.22692143521629823,
          0.20202993422629312,
          0.15902862579686264,
          0.11141664705277798,
          0.07214687199371184,
          0.037203761258333315,
          0.04859338599350438,
          0.1749734864200106,
          0.2538053999873097,
          0.24779142207074548,
          0.25015883288567176,
          0.2959765042030356,
          0.3093625771190161,
          0.32525593263264335,
          0.29747691352616873,
          0.2905043737712892,
          0.29767163347470216,
          0.32505242304098547,
          0.3449257797377838,
          0.35974045117500564,
          0.4095518512337377,
          0.3953316545428226,
          0.39073396465363025,
          0.34726981709139465,
          0.31294889112298135,
          0.28195851608363853,
          0.2922067177913894,
          0.2261567485262493,
          0.1607229725022544,
          0.10616166564055429,
          0.08206431800436798,
          0.0696792087562755,
          0.0207593671346557,
          -0.024222541323770913,
          -0.07700814587525019,
          -0.12430037195198684,
          -0.16445254329579753,
          -0.2526273036223351,
          -0.36306210901671215,
          -0.427652631590245,
          -0.4630384954428176,
          -0.49113112950689525,
          -0.5141487625798927,
          -0.5226933858064446,
          -0.49260265194928976,
          -0.4511132656183399,
          -0.3932191007866038,
          -0.3287328538409864,
          -0.27700722762819413,
          -0.2559528732174501,
          -0.21741451963670894,
          -0.2206202515473023,
          -0.25156982331732336,
          -0.37207186647662305,
          -0.4471894438870446,
          -0.5008727538877279,
          -0.5262037262530188,
          -0.5381739449779309,
          -0.5427970030415401,
          -0.5072688199525524,
          -0.5137178098006238,
          -0.4340646844059825,
          -0.42419477573016257,
          -0.3572460238635083,
          -0.2569079649479541,
          -0.1943765916165582,
          -0.14744927838201963,
          -0.11427621943045167,
          -0.13534027745420496,
          -0.16986618661574393,
          -0.19954218092618606,
          -0.2716399268013069,
          -0.27828214673786716,
          -0.24562233075735804,
          -0.21736921294262534,
          -0.17266267163621754,
          -0.08305732351595967,
          -0.11025795498594675,
          -0.12487187857594373,
          -0.09796237606844524,
          -0.03441863864601693,
          0.0828017468077484,
          0.08730595806112279,
          0.08487097705024219,
          0.09040550014943276,
          0.11749778485752713,
          0.1550619906400052,
          0.2203366145742515,
          0.24732434537531714,
          0.2400271934617485,
          0.28646096711771885,
          0.304042094985762,
          0.32253897861013264,
          0.2940839476894928,
          0.3214629714085624,
          0.360448142347139,
          0.3858602612591858,
          0.4122117240845079,
          0.40574784176885065,
          0.29325315781613787,
          0.20697153698128049,
          0.14957393715275424,
          0.0932674588811812,
          0.04964543850772115,
          0.06456417974979704,
          0.1551294032084918,
          0.21910366981688634,
          0.23804906396516787,
          0.3594360907043857,
          0.4424177676663143,
          0.47277412796360685,
          0.4627773699696924,
          0.5023695891297846,
          0.4477816452185483,
          0.49875448957998036,
          0.44350273461458806,
          0.41039884107068497,
          0.36746569364896203,
          0.2983808153081467,
          0.25077274631315133,
          0.1635194300957426,
          0.09730100603134471,
          0.05661057000419911,
          0.031176676007943376,
          0.04837883633879738,
          0.046678981963711175,
          0.02017285862285962,
          0.11075955775223442,
          0.07451124047766115,
          0.09265032945098944,
          0.15405368325269989,
          0.20766367295387428,
          0.21095561763943652,
          0.19722861768553748,
          0.15756849061606104,
          0.1789121813129275,
          0.13406131631437496,
          0.12996117142963307,
          0.11693703111805485,
          0.04600478817162347,
          0.043943150372099074,
          -0.011230924224918106,
          0.001541460132102075,
          0.0023046190072729374,
          0.05227063644738462,
          0.10057619135538824,
          0.09788712463594322,
          0.15985193689861282,
          0.17423055964722364,
          0.183284740077517,
          0.1931394096486679,
          0.15870288419543524,
          0.1627671621301665,
          0.1496839360868913,
          0.10921375447922585,
          0.09486285109681632,
          0.04478000100022265,
          -0.021642195919290654,
          -0.035446083078176385,
          -0.10391810288902509,
          -0.07882207482758881,
          -0.1047081433445094,
          -0.1670149109294602,
          -0.13423385656271944,
          -0.12728734915810036,
          -0.1593864976404273,
          -0.20076809691862585,
          -0.23508220979823083,
          -0.166306169487281,
          -0.10030498589758559,
          -0.07378499274547266,
          -0.07084085583513702,
          -0.07399275807034425,
          -0.11662532853013463,
          -0.2616460660531822,
          -0.24036417484422556,
          -0.23311156577422928,
          -0.26293795600505854,
          -0.3871939095106884,
          -0.4751425720134858,
          -0.5126113257320339,
          -0.4830357170436723,
          -0.46457631184928067,
          -0.45011845019577623,
          -0.44652122739221806,
          -0.4322157990676199,
          -0.38545117747568847,
          -0.32747735193282435,
          -0.32987330052931463,
          -0.3557337464531595,
          -0.3225639647655005,
          -0.30637244633227606,
          -0.23560123979087955
         ],
         "y": [
          0.06619996601610645,
          0.10255527012635979,
          0.21443377326081756,
          0.22109609702148572,
          0.2201073527959303,
          0.20130608996346336,
          0.2036075894544688,
          0.12570525570850935,
          -0.012909191774381913,
          -0.13724439330971117,
          -0.24366357202285985,
          -0.2310672676714527,
          -0.19865161003585777,
          -0.18041101917403923,
          -0.15670569870997866,
          -0.14757949813480578,
          -0.1820460916183588,
          -0.20218671210634617,
          -0.16258841347164443,
          -0.17335542125564224,
          -0.18051685790811786,
          -0.23109124661044034,
          -0.3050015883324758,
          -0.31599575954156606,
          -0.21688606140764916,
          -0.17115664037380476,
          -0.1016212811344357,
          -0.12540236135347174,
          -0.14590613181829465,
          -0.2704798479934951,
          -0.3260849853793874,
          -0.421265995998986,
          -0.40703967577508654,
          -0.43655507624406603,
          -0.4299857883629096,
          -0.4620872210060576,
          -0.534746861639381,
          -0.6503103410017252,
          -0.7490544249775205,
          -0.7242874706568503,
          -0.7250940250397193,
          -0.6936442898642647,
          -0.6710864279673734,
          -0.6162912248166202,
          -0.5214595398478358,
          -0.41395229384081683,
          -0.32919794234477606,
          -0.265100496769208,
          -0.29766680368148796,
          -0.30133738342781635,
          -0.2979255668172003,
          -0.297377842527509,
          -0.22755019871985765,
          -0.2069908127697563,
          -0.26831471067641066,
          -0.42377483461719984,
          -0.45618647516425204,
          -0.47653329751163054,
          -0.4755447543784641,
          -0.4960251470844954,
          -0.48987501438438025,
          -0.469635998964908,
          -0.4127744956978998,
          -0.29805428925852484,
          -0.217425409337433,
          -0.19409994362106894,
          -0.15267241357369776,
          -0.023322089506576483,
          -0.014240815319829465,
          0.012532387943416922,
          0.014526990984749605,
          0.02524305187458441,
          0.01703773282371956,
          -0.004329998113804723,
          -0.025928754706202095,
          -0.05437675863769179,
          -0.13166464364327202,
          -0.2452368087682484,
          -0.3250498342967853,
          -0.3704848660968736,
          -0.25287050004313993,
          -0.16367950746193216,
          -0.09890628650570407,
          -0.08673204970201816,
          -0.06382032797403457,
          -0.08893245453113224,
          -0.05603327686740834,
          -0.025537527270266393,
          -0.030658059177461845,
          -0.05077529870846324,
          -0.1069753078477274,
          -0.0938106906992293,
          -0.11586629415109079,
          -0.13103484799842932,
          -0.21435630200070255,
          -0.25575808898325925,
          -0.26894899440892184,
          -0.20719842577223507,
          -0.14446611567857456,
          -0.13002326319435942,
          -0.05797110655490566,
          -0.06248684483238235,
          -0.09830276493410954,
          -0.13863432297162231,
          -0.1980248824362364,
          -0.2584355709290055,
          -0.3110977598974666,
          -0.328547660164709,
          -0.36915765790547844,
          -0.3453190563969941,
          -0.3641445004289726,
          -0.2990514185355452,
          -0.2677145479478247,
          -0.21676423350034876,
          -0.21877802930348988,
          -0.19914856393820665,
          -0.2220008604308125,
          -0.24046055421356874,
          -0.23143605789555294,
          -0.22438459632928118,
          -0.26817309450732446,
          -0.2424824610991488,
          -0.2385783056671319,
          -0.16010021368978788,
          -0.07865263842497804,
          -0.017917318082591466,
          0.034768965613964156,
          0.0709219518572921,
          0.09221360826342201,
          0.10103502853749398,
          0.13132435586294447,
          0.14860316333821674,
          0.16998881538154215,
          0.15816831665956088,
          0.1350958959154325,
          0.08061757811308472,
          -0.0023440886273790214,
          -0.013169277811332487,
          0.01945191574656212,
          0.05270301976869069,
          0.12684128211759424,
          0.15556650484082427,
          0.21094982974449838,
          0.2544533066567718,
          0.3148296787443224,
          0.37162627719124997,
          0.4295129920644282,
          0.5139719489272596,
          0.5347690542243292,
          0.5443170416455458,
          0.4914723117376874,
          0.4237285483048771,
          0.38070002836225847,
          0.3706968283192939,
          0.38237539557122063,
          0.4142296840422327,
          0.41104504671989817,
          0.44032950500934703,
          0.41388570397454066,
          0.4821616583390243,
          0.48626301903878916,
          0.4882213898477109,
          0.5049690608983439,
          0.49473140417941425,
          0.4973309111232018,
          0.5647332608850928,
          0.6198891157343276,
          0.7867167121030949,
          0.8554950901538895,
          0.986726475863251,
          0.9717318542826322,
          0.856966058602279,
          0.8249746209655566,
          0.8193698398666981,
          0.7306817831850126,
          0.5731700804318584,
          0.42625382075004203,
          0.3830681639669274,
          0.37389600309829973,
          0.37626224797273095,
          0.3711571864718425,
          0.3568720416630382,
          0.3495520509146076,
          0.3711788911063886,
          0.5099489484585658,
          0.697960503942196,
          0.7360772765304935,
          0.6048175866354201,
          0.3946539518224364,
          0.22632692929930834,
          0.1311143810127972,
          0.05774445859687202,
          0.0637417622965326,
          0.09565805148825704,
          0.13161598390123494,
          0.17364007560669517,
          0.24078690619706414,
          0.2543700124147829,
          0.23563823335224016,
          0.2014160578936738,
          0.1604153531851837,
          0.11092861053570453
         ],
         "z": [
          0.08806854264961789,
          0.10681691036282213,
          0.14212116776919909,
          0.13136328929879298,
          0.1258004739244612,
          0.16656528380338134,
          0.1994092964619033,
          0.23524037059747147,
          0.22947942300604926,
          0.24776286196454614,
          0.177143029029927,
          0.13778030154628787,
          0.10704950081604617,
          0.07355587337699254,
          0.015002835384648942,
          -0.04200911234090484,
          -0.10404240238495395,
          -0.13987876084925888,
          -0.05640161943204089,
          -0.052393337196861386,
          -0.017428019777812002,
          0.0317220016295495,
          0.07308427700254908,
          0.13217110832238452,
          0.19117755889773302,
          0.2229710588254514,
          0.21868186387378394,
          0.2008608246976147,
          0.152730138893073,
          0.09357981465097326,
          0.09044878571369679,
          0.06424373698394878,
          0.11580966799514555,
          0.17011644312593768,
          0.19532455546051186,
          0.22257913111801056,
          0.3366690558580547,
          0.4781596160508491,
          0.5675480277877956,
          0.5498149143977576,
          0.5470183432354633,
          0.5235238717302539,
          0.5397023467928457,
          0.3904354135582788,
          0.3159524724113003,
          0.31873145582739254,
          0.31486842212268423,
          0.3453756711381661,
          0.35505786166805803,
          0.39419222213279215,
          0.3834002442521538,
          0.34359377078769987,
          0.34383547749880533,
          0.30869494781221934,
          0.31797876999711283,
          0.3025489542764531,
          0.2797866797096183,
          0.22795908726458552,
          0.15179377979996206,
          0.1447872924449715,
          0.11895652176480459,
          0.10206059114140337,
          0.16660056920828772,
          0.24476143228599787,
          0.28681000713639315,
          0.2975166254380864,
          0.28940276589345143,
          0.2837258015429406,
          0.1969832735022913,
          0.13979231336920406,
          0.07230097832569918,
          0.06016357838580979,
          0.05303608877918616,
          0.06116955496390275,
          0.050540122782634686,
          0.0551492389615579,
          0.0650933223377361,
          0.0724046553708237,
          0.08718149255828238,
          0.038269879548040335,
          0.005317862437883479,
          0.006015621611885909,
          -0.0030020658213784183,
          -0.07452256071414834,
          -0.17229985706139833,
          -0.2814411924330498,
          -0.3286324857393979,
          -0.3889657299544214,
          -0.4289153624497742,
          -0.4623647979057114,
          -0.5211615054985222,
          -0.5370977257309162,
          -0.5792386033845,
          -0.5896914670103529,
          -0.6069688421713307,
          -0.622612713094926,
          -0.5488460465332429,
          -0.5205833750108315,
          -0.5102043328601464,
          -0.43056016152628995,
          -0.328634355961834,
          -0.30555228105863336,
          -0.3320912428592851,
          -0.32067850300516376,
          -0.3022271487392176,
          -0.30390034016554707,
          -0.30248804899178366,
          -0.3223361741635275,
          -0.4072170519315876,
          -0.452573898121953,
          -0.4683630688846305,
          -0.46948273569210675,
          -0.4794994089634147,
          -0.4768413599740429,
          -0.46918141722073675,
          -0.4592009447965956,
          -0.45720896908436653,
          -0.38639638048599,
          -0.3400255457097039,
          -0.3060427237193001,
          -0.3119677942419906,
          -0.2997603277097809,
          -0.303768114995585,
          -0.2780466074436007,
          -0.219990579215055,
          -0.16049748012217369,
          -0.09564096344431854,
          -0.07240091188370883,
          -0.064793441871332,
          -0.08477656041533019,
          -0.04133160955489454,
          -0.06945042090055632,
          -0.09704252354317616,
          -0.20174788095916896,
          -0.25986850104718795,
          -0.36641229183103435,
          -0.4512039345275603,
          -0.5167479204791766,
          -0.48882676838578737,
          -0.3585023399868203,
          -0.2183428100083859,
          -0.13125080024906113,
          -0.09565697562149776,
          -0.06582161508014288,
          -0.0663292128357004,
          -0.047077236150777524,
          -0.031273347480426865,
          -0.027397499644401295,
          -0.037374242600765904,
          -0.03353917161317954,
          -0.05579845045440327,
          -0.08251410933539585,
          -0.15081436272495777,
          -0.1603588211431587,
          -0.18672257395314668,
          -0.15356734030024502,
          -0.1147369991590215,
          -0.09439997057718673,
          -0.0796305446421615,
          -0.03314061909243562,
          0.002029856291225327,
          0.0810746341348096,
          0.10169508014843986,
          0.15853000441100393,
          0.16883285977783827,
          0.1970007122797411,
          0.21832049813592697,
          0.24264411317696166,
          0.1752523436354566,
          0.14197882675854495,
          0.14064707318703856,
          0.11708993544168694,
          0.09544166855520451,
          0.0654246597091172,
          0.004306168934873566,
          -0.03930008133849254,
          -0.01839643339190131,
          0.022797501824791386,
          0.07864514665432096,
          0.09253957935499939,
          0.12942672755455847,
          0.19126315730421764,
          0.20417207684614327,
          0.20362164954058898,
          0.192451116503388,
          0.20642321821480902,
          0.2070805132447957,
          0.20238982975139808,
          0.1983391793912648,
          0.22933285719066948,
          0.2995825041501181,
          0.349218684034745,
          0.3617410647924486,
          0.35139006554016333,
          0.30874710474789585,
          0.2691648586329982,
          0.18777724018644723,
          0.11532043835967018,
          0.05838506715427509,
          0.025561125158544855,
          0.03185890594672378,
          0.05458182805381091
         ]
        }
       ],
       "layout": {
        "height": 1000,
        "scene": {
         "domain": {
          "x": [
           0,
           0.45
          ],
          "y": [
           0,
           1
          ]
         }
        },
        "scene2": {
         "domain": {
          "x": [
           0.55,
           1
          ],
          "y": [
           0,
           1
          ]
         }
        },
        "template": {
         "data": {
          "bar": [
           {
            "error_x": {
             "color": "#2a3f5f"
            },
            "error_y": {
             "color": "#2a3f5f"
            },
            "marker": {
             "line": {
              "color": "#E5ECF6",
              "width": 0.5
             }
            },
            "type": "bar"
           }
          ],
          "barpolar": [
           {
            "marker": {
             "line": {
              "color": "#E5ECF6",
              "width": 0.5
             }
            },
            "type": "barpolar"
           }
          ],
          "carpet": [
           {
            "aaxis": {
             "endlinecolor": "#2a3f5f",
             "gridcolor": "white",
             "linecolor": "white",
             "minorgridcolor": "white",
             "startlinecolor": "#2a3f5f"
            },
            "baxis": {
             "endlinecolor": "#2a3f5f",
             "gridcolor": "white",
             "linecolor": "white",
             "minorgridcolor": "white",
             "startlinecolor": "#2a3f5f"
            },
            "type": "carpet"
           }
          ],
          "choropleth": [
           {
            "colorbar": {
             "outlinewidth": 0,
             "ticks": ""
            },
            "type": "choropleth"
           }
          ],
          "contour": [
           {
            "colorbar": {
             "outlinewidth": 0,
             "ticks": ""
            },
            "colorscale": [
             [
              0,
              "#0d0887"
             ],
             [
              0.1111111111111111,
              "#46039f"
             ],
             [
              0.2222222222222222,
              "#7201a8"
             ],
             [
              0.3333333333333333,
              "#9c179e"
             ],
             [
              0.4444444444444444,
              "#bd3786"
             ],
             [
              0.5555555555555556,
              "#d8576b"
             ],
             [
              0.6666666666666666,
              "#ed7953"
             ],
             [
              0.7777777777777778,
              "#fb9f3a"
             ],
             [
              0.8888888888888888,
              "#fdca26"
             ],
             [
              1,
              "#f0f921"
             ]
            ],
            "type": "contour"
           }
          ],
          "contourcarpet": [
           {
            "colorbar": {
             "outlinewidth": 0,
             "ticks": ""
            },
            "type": "contourcarpet"
           }
          ],
          "heatmap": [
           {
            "colorbar": {
             "outlinewidth": 0,
             "ticks": ""
            },
            "colorscale": [
             [
              0,
              "#0d0887"
             ],
             [
              0.1111111111111111,
              "#46039f"
             ],
             [
              0.2222222222222222,
              "#7201a8"
             ],
             [
              0.3333333333333333,
              "#9c179e"
             ],
             [
              0.4444444444444444,
              "#bd3786"
             ],
             [
              0.5555555555555556,
              "#d8576b"
             ],
             [
              0.6666666666666666,
              "#ed7953"
             ],
             [
              0.7777777777777778,
              "#fb9f3a"
             ],
             [
              0.8888888888888888,
              "#fdca26"
             ],
             [
              1,
              "#f0f921"
             ]
            ],
            "type": "heatmap"
           }
          ],
          "heatmapgl": [
           {
            "colorbar": {
             "outlinewidth": 0,
             "ticks": ""
            },
            "colorscale": [
             [
              0,
              "#0d0887"
             ],
             [
              0.1111111111111111,
              "#46039f"
             ],
             [
              0.2222222222222222,
              "#7201a8"
             ],
             [
              0.3333333333333333,
              "#9c179e"
             ],
             [
              0.4444444444444444,
              "#bd3786"
             ],
             [
              0.5555555555555556,
              "#d8576b"
             ],
             [
              0.6666666666666666,
              "#ed7953"
             ],
             [
              0.7777777777777778,
              "#fb9f3a"
             ],
             [
              0.8888888888888888,
              "#fdca26"
             ],
             [
              1,
              "#f0f921"
             ]
            ],
            "type": "heatmapgl"
           }
          ],
          "histogram": [
           {
            "marker": {
             "colorbar": {
              "outlinewidth": 0,
              "ticks": ""
             }
            },
            "type": "histogram"
           }
          ],
          "histogram2d": [
           {
            "colorbar": {
             "outlinewidth": 0,
             "ticks": ""
            },
            "colorscale": [
             [
              0,
              "#0d0887"
             ],
             [
              0.1111111111111111,
              "#46039f"
             ],
             [
              0.2222222222222222,
              "#7201a8"
             ],
             [
              0.3333333333333333,
              "#9c179e"
             ],
             [
              0.4444444444444444,
              "#bd3786"
             ],
             [
              0.5555555555555556,
              "#d8576b"
             ],
             [
              0.6666666666666666,
              "#ed7953"
             ],
             [
              0.7777777777777778,
              "#fb9f3a"
             ],
             [
              0.8888888888888888,
              "#fdca26"
             ],
             [
              1,
              "#f0f921"
             ]
            ],
            "type": "histogram2d"
           }
          ],
          "histogram2dcontour": [
           {
            "colorbar": {
             "outlinewidth": 0,
             "ticks": ""
            },
            "colorscale": [
             [
              0,
              "#0d0887"
             ],
             [
              0.1111111111111111,
              "#46039f"
             ],
             [
              0.2222222222222222,
              "#7201a8"
             ],
             [
              0.3333333333333333,
              "#9c179e"
             ],
             [
              0.4444444444444444,
              "#bd3786"
             ],
             [
              0.5555555555555556,
              "#d8576b"
             ],
             [
              0.6666666666666666,
              "#ed7953"
             ],
             [
              0.7777777777777778,
              "#fb9f3a"
             ],
             [
              0.8888888888888888,
              "#fdca26"
             ],
             [
              1,
              "#f0f921"
             ]
            ],
            "type": "histogram2dcontour"
           }
          ],
          "mesh3d": [
           {
            "colorbar": {
             "outlinewidth": 0,
             "ticks": ""
            },
            "type": "mesh3d"
           }
          ],
          "parcoords": [
           {
            "line": {
             "colorbar": {
              "outlinewidth": 0,
              "ticks": ""
             }
            },
            "type": "parcoords"
           }
          ],
          "pie": [
           {
            "automargin": true,
            "type": "pie"
           }
          ],
          "scatter": [
           {
            "marker": {
             "colorbar": {
              "outlinewidth": 0,
              "ticks": ""
             }
            },
            "type": "scatter"
           }
          ],
          "scatter3d": [
           {
            "line": {
             "colorbar": {
              "outlinewidth": 0,
              "ticks": ""
             }
            },
            "marker": {
             "colorbar": {
              "outlinewidth": 0,
              "ticks": ""
             }
            },
            "type": "scatter3d"
           }
          ],
          "scattercarpet": [
           {
            "marker": {
             "colorbar": {
              "outlinewidth": 0,
              "ticks": ""
             }
            },
            "type": "scattercarpet"
           }
          ],
          "scattergeo": [
           {
            "marker": {
             "colorbar": {
              "outlinewidth": 0,
              "ticks": ""
             }
            },
            "type": "scattergeo"
           }
          ],
          "scattergl": [
           {
            "marker": {
             "colorbar": {
              "outlinewidth": 0,
              "ticks": ""
             }
            },
            "type": "scattergl"
           }
          ],
          "scattermapbox": [
           {
            "marker": {
             "colorbar": {
              "outlinewidth": 0,
              "ticks": ""
             }
            },
            "type": "scattermapbox"
           }
          ],
          "scatterpolar": [
           {
            "marker": {
             "colorbar": {
              "outlinewidth": 0,
              "ticks": ""
             }
            },
            "type": "scatterpolar"
           }
          ],
          "scatterpolargl": [
           {
            "marker": {
             "colorbar": {
              "outlinewidth": 0,
              "ticks": ""
             }
            },
            "type": "scatterpolargl"
           }
          ],
          "scatterternary": [
           {
            "marker": {
             "colorbar": {
              "outlinewidth": 0,
              "ticks": ""
             }
            },
            "type": "scatterternary"
           }
          ],
          "surface": [
           {
            "colorbar": {
             "outlinewidth": 0,
             "ticks": ""
            },
            "colorscale": [
             [
              0,
              "#0d0887"
             ],
             [
              0.1111111111111111,
              "#46039f"
             ],
             [
              0.2222222222222222,
              "#7201a8"
             ],
             [
              0.3333333333333333,
              "#9c179e"
             ],
             [
              0.4444444444444444,
              "#bd3786"
             ],
             [
              0.5555555555555556,
              "#d8576b"
             ],
             [
              0.6666666666666666,
              "#ed7953"
             ],
             [
              0.7777777777777778,
              "#fb9f3a"
             ],
             [
              0.8888888888888888,
              "#fdca26"
             ],
             [
              1,
              "#f0f921"
             ]
            ],
            "type": "surface"
           }
          ],
          "table": [
           {
            "cells": {
             "fill": {
              "color": "#EBF0F8"
             },
             "line": {
              "color": "white"
             }
            },
            "header": {
             "fill": {
              "color": "#C8D4E3"
             },
             "line": {
              "color": "white"
             }
            },
            "type": "table"
           }
          ]
         },
         "layout": {
          "annotationdefaults": {
           "arrowcolor": "#2a3f5f",
           "arrowhead": 0,
           "arrowwidth": 1
          },
          "autotypenumbers": "strict",
          "coloraxis": {
           "colorbar": {
            "outlinewidth": 0,
            "ticks": ""
           }
          },
          "colorscale": {
           "diverging": [
            [
             0,
             "#8e0152"
            ],
            [
             0.1,
             "#c51b7d"
            ],
            [
             0.2,
             "#de77ae"
            ],
            [
             0.3,
             "#f1b6da"
            ],
            [
             0.4,
             "#fde0ef"
            ],
            [
             0.5,
             "#f7f7f7"
            ],
            [
             0.6,
             "#e6f5d0"
            ],
            [
             0.7,
             "#b8e186"
            ],
            [
             0.8,
             "#7fbc41"
            ],
            [
             0.9,
             "#4d9221"
            ],
            [
             1,
             "#276419"
            ]
           ],
           "sequential": [
            [
             0,
             "#0d0887"
            ],
            [
             0.1111111111111111,
             "#46039f"
            ],
            [
             0.2222222222222222,
             "#7201a8"
            ],
            [
             0.3333333333333333,
             "#9c179e"
            ],
            [
             0.4444444444444444,
             "#bd3786"
            ],
            [
             0.5555555555555556,
             "#d8576b"
            ],
            [
             0.6666666666666666,
             "#ed7953"
            ],
            [
             0.7777777777777778,
             "#fb9f3a"
            ],
            [
             0.8888888888888888,
             "#fdca26"
            ],
            [
             1,
             "#f0f921"
            ]
           ],
           "sequentialminus": [
            [
             0,
             "#0d0887"
            ],
            [
             0.1111111111111111,
             "#46039f"
            ],
            [
             0.2222222222222222,
             "#7201a8"
            ],
            [
             0.3333333333333333,
             "#9c179e"
            ],
            [
             0.4444444444444444,
             "#bd3786"
            ],
            [
             0.5555555555555556,
             "#d8576b"
            ],
            [
             0.6666666666666666,
             "#ed7953"
            ],
            [
             0.7777777777777778,
             "#fb9f3a"
            ],
            [
             0.8888888888888888,
             "#fdca26"
            ],
            [
             1,
             "#f0f921"
            ]
           ]
          },
          "colorway": [
           "#636efa",
           "#EF553B",
           "#00cc96",
           "#ab63fa",
           "#FFA15A",
           "#19d3f3",
           "#FF6692",
           "#B6E880",
           "#FF97FF",
           "#FECB52"
          ],
          "font": {
           "color": "#2a3f5f"
          },
          "geo": {
           "bgcolor": "white",
           "lakecolor": "white",
           "landcolor": "#E5ECF6",
           "showlakes": true,
           "showland": true,
           "subunitcolor": "white"
          },
          "hoverlabel": {
           "align": "left"
          },
          "hovermode": "closest",
          "mapbox": {
           "style": "light"
          },
          "paper_bgcolor": "white",
          "plot_bgcolor": "#E5ECF6",
          "polar": {
           "angularaxis": {
            "gridcolor": "white",
            "linecolor": "white",
            "ticks": ""
           },
           "bgcolor": "#E5ECF6",
           "radialaxis": {
            "gridcolor": "white",
            "linecolor": "white",
            "ticks": ""
           }
          },
          "scene": {
           "xaxis": {
            "backgroundcolor": "#E5ECF6",
            "gridcolor": "white",
            "gridwidth": 2,
            "linecolor": "white",
            "showbackground": true,
            "ticks": "",
            "zerolinecolor": "white"
           },
           "yaxis": {
            "backgroundcolor": "#E5ECF6",
            "gridcolor": "white",
            "gridwidth": 2,
            "linecolor": "white",
            "showbackground": true,
            "ticks": "",
            "zerolinecolor": "white"
           },
           "zaxis": {
            "backgroundcolor": "#E5ECF6",
            "gridcolor": "white",
            "gridwidth": 2,
            "linecolor": "white",
            "showbackground": true,
            "ticks": "",
            "zerolinecolor": "white"
           }
          },
          "shapedefaults": {
           "line": {
            "color": "#2a3f5f"
           }
          },
          "ternary": {
           "aaxis": {
            "gridcolor": "white",
            "linecolor": "white",
            "ticks": ""
           },
           "baxis": {
            "gridcolor": "white",
            "linecolor": "white",
            "ticks": ""
           },
           "bgcolor": "#E5ECF6",
           "caxis": {
            "gridcolor": "white",
            "linecolor": "white",
            "ticks": ""
           }
          },
          "title": {
           "x": 0.05
          },
          "xaxis": {
           "automargin": true,
           "gridcolor": "white",
           "linecolor": "white",
           "ticks": "",
           "title": {
            "standoff": 15
           },
           "zerolinecolor": "white",
           "zerolinewidth": 2
          },
          "yaxis": {
           "automargin": true,
           "gridcolor": "white",
           "linecolor": "white",
           "ticks": "",
           "title": {
            "standoff": 15
           },
           "zerolinecolor": "white",
           "zerolinewidth": 2
          }
         }
        },
        "width": 1300
       }
      }
     },
     "metadata": {},
     "output_type": "display_data"
    },
    {
     "name": "stdout",
     "output_type": "stream",
     "text": [
      "Kabsch distance is 0.06032915279454354\n"
     ]
    },
    {
     "data": {
      "text/plain": [
       "<Figure size 50000x50000 with 0 Axes>"
      ]
     },
     "metadata": {},
     "output_type": "display_data"
    }
   ],
   "source": [
    "# Trussart perfect structure\n",
    "trussart_true_structure = np.mean(trussart_structures, axis=0)\n",
    "\n",
    "# Trussart predicted structure\n",
    "torch_trussart_hic = torch.FloatTensor(trussart_hic)\n",
    "torch_trussart_hic = torch.reshape(torch_trussart_hic, (1, NB_BINS, NB_BINS))\n",
    "torch_trussart_hic = torch.repeat_interleave(torch_trussart_hic, BATCH_SIZE, 0)\n",
    "\n",
    "trussart_pred_structure, _ = model(torch_trussart_hic)\n",
    "trussart_pred_structure = trussart_pred_structure.detach().numpy()[0]\n",
    "\n",
    "# Superpose structure using Kabsch algorithm\n",
    "trussart_pred_structure_superposed, trussart_true_structure_superposed = \\\n",
    "        kabsch_superimposition_numpy(trussart_pred_structure, trussart_true_structure, EMBEDDING_SIZE)\n",
    "\n",
    "# Plot and compare the two structures\n",
    "x_pred = trussart_pred_structure_superposed[:, 0]  \n",
    "y_pred = trussart_pred_structure_superposed[:, 1]\n",
    "z_pred = trussart_pred_structure_superposed[:, 2]\n",
    "\n",
    "x_true = trussart_true_structure_superposed[:, 0]  \n",
    "y_true = trussart_true_structure_superposed[:, 1]\n",
    "z_true = trussart_true_structure_superposed[:, 2]\n",
    "\n",
    "colorscale1 = np.asarray(range(len(x_true)))\n",
    "colorscale2 = np.asarray(range(len(x_pred)))\n",
    "color1 = 'Viridis'\n",
    "color2 = 'Viridis'\n",
    "\n",
    "plot_true_pred_structures(x_pred, y_pred, z_pred, x_true, y_true, z_true, colorscale1, colorscale2, color1, color2)\n",
    "\n",
    "# Shape comparison\n",
    "print('Kabsch distance is ' + str(kabsch_distance_numpy(trussart_pred_structure, trussart_true_structure, EMBEDDING_SIZE)))"
   ]
  },
  {
   "cell_type": "code",
   "execution_count": 17,
   "metadata": {},
   "outputs": [
    {
     "data": {
      "image/png": "[encoded data removed]",
      "text/plain": [
       "<Figure size 640x480 with 1 Axes>"
      ]
     },
     "metadata": {},
     "output_type": "display_data"
    },
    {
     "name": "stdout",
     "output_type": "stream",
     "text": [
      "mean: 0.07011849862320788\n",
      "median: 0.05066559085138847\n",
      "variance: 0.003179335232343277\n"
     ]
    }
   ],
   "source": [
    "plot_hist_kabsch_distances(test_size, test_true_structures, test_pred_structures, EMBEDDING_SIZE)"
   ]
  },
  {
   "cell_type": "code",
   "execution_count": 18,
   "metadata": {},
   "outputs": [],
   "source": [
    "RESULTS_ROOT = '../../saved_results/synthetic_biological_trussart/linear/'\n",
    "LAMBDA_CONFIGURATION = str(LAMBDA_BIO) + '_' + str(LAMBDA_KABSCH)"
   ]
  },
  {
   "cell_type": "code",
   "execution_count": 19,
   "metadata": {},
   "outputs": [],
   "source": [
    "np.savetxt(RESULTS_ROOT + 'synthetic_biological_trussart_linear_losses_' + LAMBDA_CONFIGURATION + '.txt', losses)\n",
    "\n",
    "np.savetxt(RESULTS_ROOT + 'synthetic_biological_trussart_linear_train_biological_losses_all_epochs_' +\n",
    "               LAMBDA_CONFIGURATION + '.txt', train_biological_losses_all_epochs)\n",
    "np.savetxt(RESULTS_ROOT + 'synthetic_biological_trussart_linear_test_biological_losses_all_epochs_' +\n",
    "               LAMBDA_CONFIGURATION + '.txt', test_biological_losses_all_epochs)\n",
    "\n",
    "np.savetxt(RESULTS_ROOT + 'synthetic_biological_trussart_linear_train_kabsch_losses_all_epochs_' + \n",
    "           LAMBDA_CONFIGURATION + '.txt', train_kabsch_losses_all_epochs)\n",
    "np.savetxt(RESULTS_ROOT + 'synthetic_biological_trussart_linear_test_kabsch_losses_all_epochs_' + \n",
    "           LAMBDA_CONFIGURATION + '.txt', test_kabsch_losses_all_epochs)\n",
    "\n",
    "np.savetxt(RESULTS_ROOT + 'synthetic_biological_trussart_linear_train_distance_losses_all_epochs_' +\n",
    "           LAMBDA_CONFIGURATION + '.txt', train_distance_losses_all_epochs)\n",
    "np.savetxt(RESULTS_ROOT + 'synthetic_biological_trussart_linear_test_distance_losses_all_epochs_' + \n",
    "           LAMBDA_CONFIGURATION + '.txt', test_distance_losses_all_epochs)\n",
    "\n",
    "np.savetxt(RESULTS_ROOT + 'synthetic_biological_trussart_linear_trussart_test_kabsch_losses_all_epochs_' +\n",
    "               LAMBDA_CONFIGURATION + '.txt', trussart_test_kabsch_losses_all_epochs)"
   ]
  },
  {
   "cell_type": "code",
   "execution_count": 20,
   "metadata": {},
   "outputs": [],
   "source": [
    "torch.save(model, \n",
    "           '../../saved_models/synthetic_biological_trussart/linear/synthetic_biological_trussart_uniform_linear_model_' + \n",
    "           LAMBDA_CONFIGURATION + '.pt')"
   ]
  }
 ],
 "metadata": {
  "kernelspec": {
   "display_name": "Python 3.8.9 ('3dChromenv': venv)",
   "language": "python",
   "name": "python3"
  },
  "language_info": {
   "codemirror_mode": {
    "name": "ipython",
    "version": 3
   },
   "file_extension": ".py",
   "mimetype": "text/x-python",
   "name": "python",
   "nbconvert_exporter": "python",
   "pygments_lexer": "ipython3",
   "version": "3.8.9"
  },
  "orig_nbformat": 4,
  "vscode": {
   "interpreter": {
    "hash": "8e29b1289806ba3b1e0a7887101d89831cef42814f60b4617646c178e24bc9ec"
   }
  }
 },
 "nbformat": 4,
 "nbformat_minor": 2
}
