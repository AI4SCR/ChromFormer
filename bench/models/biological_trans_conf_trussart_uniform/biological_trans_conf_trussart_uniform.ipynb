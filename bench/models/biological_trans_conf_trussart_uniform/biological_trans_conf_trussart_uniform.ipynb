{
 "cells": [
  {
   "cell_type": "code",
   "execution_count": 1,
   "metadata": {},
   "outputs": [],
   "source": [
    "%load_ext autoreload\n",
    "%autoreload 2"
   ]
  },
  {
   "cell_type": "code",
   "execution_count": 2,
   "metadata": {},
   "outputs": [],
   "source": [
    "import torch\n",
    "import random\n",
    "import numpy as np\n",
    "import os \n",
    "from torch_geometric.data import DataLoader\n",
    "\n",
    "from Chromatin3D.Data_Tools.Data_Access import get_data_from_path, VanillaDataset, set_logits_data\n",
    "from Chromatin3D.Data_Tools.Data_Plotting import plot_structure_in_sphere, plot_hic, plot_optimal_transport, plot_losses, plot_test_distance_matrix, plot_true_pred_structures, plot_hist_kabsch_distances, plot_grad_flow, plot_pred_conf\n",
    "from Chromatin3D.Model.model import UniformLinear, train_uniform_linear, evaluate_uniform_linear, ConfLinear, train_conf_linear, evaluate_conf_linear, TransConf, train_trans_conf, evaluate_trans_conf\n",
    "from Chromatin3D.Model.losses import compute_trussart_test_kabsch_loss, biological_loss_fct, kabsch_loss_fct\n",
    "from Chromatin3D.Data_Tools.Data_Calculation import save_structure, import_trussart_data, kabsch_superimposition_numpy, kabsch_distance_numpy, make_gif, scale_logits, mse_unscaled_scaled\n",
    "from Chromatin3D.Model.lddt_tools import lddt, get_confidence_metrics\n",
    "from Chromatin3D.Model.calibration_nn import ModelWithTemperature, isotonic_calibration, beta_calibration\n",
    "from scipy.spatial import distance_matrix\n",
    "from sklearn.preprocessing import MinMaxScaler\n",
    "from sklearn.model_selection import train_test_split\n",
    "from sklearn.metrics import mean_squared_error\n",
    "\n",
    "NB_HEAD = 2\n",
    "NB_HIDDEN = 100\n",
    "NB_LAYERS = 1\n",
    "DROPOUT = 0.1\n",
    "SECD_HID = 48\n",
    "ZERO_INIT = False\n",
    "EXPONENT = 1\n",
    "NUM_BINS_LOGITS = 100\n",
    "NB_EPOCHS = 91\n",
    "##47\n",
    "SEED = 2\n",
    "BATCH_SIZE = 10\n",
    "NB_BINS = 202\n",
    "EMBEDDING_SIZE = 3\n",
    "ANGLE_PRED = 3\n",
    "LAMBDA_BIO = 0\n",
    "LAMBDA_KABSCH = 0.1\n",
    "LAMBDA_LDDT = 0.1\n",
    "\n",
    "device = torch.device('cuda' if torch.cuda.is_available() else 'cpu')\n",
    "torch.manual_seed(SEED)\n",
    "random.seed(SEED)\n",
    "np.random.seed(SEED)\n",
    "DATA_DIR = os.environ.get('DATA_DIR')\n",
    "DATA_PATH=f'{DATA_DIR}/biological_trussart_uniform'\n",
    "TRAIN_DATASET_SIZE = 800\n",
    "TEST_DATASET_SIZE = 200\n",
    "\n"
   ]
  },
  {
   "cell_type": "code",
   "execution_count": 3,
   "metadata": {},
   "outputs": [],
   "source": [
    "train_transfer_learning_hics, test_transfer_learning_hics, train_transfer_learning_structures, test_transfer_learning_structures, train_transfer_learning_distances, test_transfer_learning_distances = get_data_from_path(DATA_PATH)\n"
   ]
  },
  {
   "cell_type": "code",
   "execution_count": 4,
   "metadata": {},
   "outputs": [
    {
     "name": "stdout",
     "output_type": "stream",
     "text": [
      "800\n"
     ]
    }
   ],
   "source": [
    "train_dataset = VanillaDataset(root = '', is_training = True, dataset_size = TRAIN_DATASET_SIZE, hics = train_transfer_learning_hics, structures = train_transfer_learning_structures, distances = train_transfer_learning_distances)\n",
    "train_dataset = train_dataset.shuffle()\n",
    "train_size = len(train_dataset)\n",
    "print(train_size)\n",
    "train_loader = DataLoader(train_dataset, batch_size=BATCH_SIZE)"
   ]
  },
  {
   "cell_type": "code",
   "execution_count": 5,
   "metadata": {},
   "outputs": [],
   "source": [
    "test_dataset = VanillaDataset(root = '', is_training = False, dataset_size = TEST_DATASET_SIZE, hics = test_transfer_learning_hics, structures = test_transfer_learning_structures, distances = test_transfer_learning_distances)\n",
    "test_dataset = test_dataset.shuffle()\n",
    "\n",
    "test_train_idx, test_test_idx = train_test_split(list(range(len(test_dataset))), test_size=0.1)\n",
    "test_train_calib = test_dataset.index_select(test_train_idx)\n",
    "test_test_calib= test_dataset.index_select(test_test_idx)\n",
    "\n",
    "test_size = len(test_dataset)\n",
    "\n",
    "test_loader = DataLoader(test_dataset, batch_size=BATCH_SIZE)\n",
    "test_train_calib_loader = DataLoader(test_train_calib, batch_size=BATCH_SIZE)\n",
    "test_test_calib_loader = DataLoader(test_test_calib, batch_size=BATCH_SIZE)"
   ]
  },
  {
   "cell_type": "code",
   "execution_count": 6,
   "metadata": {},
   "outputs": [],
   "source": [
    "trussart_hic, trussart_structures = import_trussart_data(DATA_DIR)"
   ]
  },
  {
   "cell_type": "code",
   "execution_count": 7,
   "metadata": {},
   "outputs": [],
   "source": [
    "distance_loss_fct = torch.nn.MSELoss()"
   ]
  },
  {
   "cell_type": "code",
   "execution_count": 8,
   "metadata": {},
   "outputs": [],
   "source": [
    "device = torch.device('cpu')\n",
    "model = TransConf(NB_BINS, ANGLE_PRED, BATCH_SIZE, NUM_BINS_LOGITS, ZERO_INIT, NB_HEAD, NB_HIDDEN, NB_LAYERS, DROPOUT, SECD_HID).to(device)\n",
    "optimizer = torch.optim.AdamW(model.parameters(), lr=0.0005, weight_decay=1e-5)\n",
    "#optimizer = torch.optim.Adagrad(model.parameters(), lr=0.001)"
   ]
  },
  {
   "cell_type": "code",
   "execution_count": 9,
   "metadata": {},
   "outputs": [
    {
     "name": "stdout",
     "output_type": "stream",
     "text": [
      "E: 001, Tr B: 0.0517, Tr K: 0.1555, Tr D: 0.0688, Te B: 0.0522, Te K: 0.1614, Te D: 0.0686, Tr LD: 0.3746, Te LD: 0.3767, Trus: 0.1580\n",
      "E: 002, Tr B: 0.0515, Tr K: 0.1252, Tr D: 0.0419, Te B: 0.0517, Te K: 0.1275, Te D: 0.0411, Tr LD: 0.3492, Te LD: 0.3471, Trus: 0.1532\n",
      "E: 003, Tr B: 0.0515, Tr K: 0.1184, Tr D: 0.0404, Te B: 0.0517, Te K: 0.1221, Te D: 0.0404, Tr LD: 0.3438, Te LD: 0.3424, Trus: 0.1356\n",
      "E: 004, Tr B: 0.0514, Tr K: 0.1146, Tr D: 0.0356, Te B: 0.0517, Te K: 0.1176, Te D: 0.0353, Tr LD: 0.3382, Te LD: 0.3368, Trus: 0.1292\n",
      "E: 005, Tr B: 0.0515, Tr K: 0.1105, Tr D: 0.0356, Te B: 0.0518, Te K: 0.1137, Te D: 0.0349, Tr LD: 0.3368, Te LD: 0.3353, Trus: 0.1156\n",
      "E: 006, Tr B: 0.0514, Tr K: 0.1073, Tr D: 0.0328, Te B: 0.0516, Te K: 0.1100, Te D: 0.0324, Tr LD: 0.3315, Te LD: 0.3307, Trus: 0.1044\n",
      "E: 007, Tr B: 0.0515, Tr K: 0.1067, Tr D: 0.0329, Te B: 0.0516, Te K: 0.1090, Te D: 0.0324, Tr LD: 0.3319, Te LD: 0.3319, Trus: 0.0965\n",
      "E: 008, Tr B: 0.0514, Tr K: 0.1029, Tr D: 0.0313, Te B: 0.0516, Te K: 0.1052, Te D: 0.0309, Tr LD: 0.3289, Te LD: 0.3289, Trus: 0.0795\n",
      "E: 009, Tr B: 0.0515, Tr K: 0.1018, Tr D: 0.0307, Te B: 0.0516, Te K: 0.1038, Te D: 0.0303, Tr LD: 0.3260, Te LD: 0.3263, Trus: 0.0649\n",
      "E: 010, Tr B: 0.0514, Tr K: 0.1018, Tr D: 0.0288, Te B: 0.0516, Te K: 0.1034, Te D: 0.0286, Tr LD: 0.3228, Te LD: 0.3225, Trus: 0.0497\n",
      "E: 011, Tr B: 0.0513, Tr K: 0.0972, Tr D: 0.0288, Te B: 0.0516, Te K: 0.0978, Te D: 0.0283, Tr LD: 0.3211, Te LD: 0.3199, Trus: 0.0469\n",
      "E: 012, Tr B: 0.0512, Tr K: 0.0969, Tr D: 0.0281, Te B: 0.0514, Te K: 0.0972, Te D: 0.0282, Tr LD: 0.3235, Te LD: 0.3244, Trus: 0.0385\n",
      "E: 013, Tr B: 0.0513, Tr K: 0.0963, Tr D: 0.0269, Te B: 0.0516, Te K: 0.0970, Te D: 0.0273, Tr LD: 0.3151, Te LD: 0.3151, Trus: 0.0396\n",
      "E: 014, Tr B: 0.0513, Tr K: 0.0945, Tr D: 0.0278, Te B: 0.0515, Te K: 0.0946, Te D: 0.0276, Tr LD: 0.3186, Te LD: 0.3182, Trus: 0.0328\n",
      "E: 015, Tr B: 0.0512, Tr K: 0.0931, Tr D: 0.0257, Te B: 0.0514, Te K: 0.0932, Te D: 0.0260, Tr LD: 0.3152, Te LD: 0.3156, Trus: 0.0342\n",
      "E: 016, Tr B: 0.0512, Tr K: 0.0925, Tr D: 0.0245, Te B: 0.0515, Te K: 0.0926, Te D: 0.0248, Tr LD: 0.3108, Te LD: 0.3123, Trus: 0.0373\n",
      "E: 017, Tr B: 0.0511, Tr K: 0.0907, Tr D: 0.0238, Te B: 0.0514, Te K: 0.0908, Te D: 0.0242, Tr LD: 0.3088, Te LD: 0.3103, Trus: 0.0377\n",
      "E: 018, Tr B: 0.0512, Tr K: 0.0903, Tr D: 0.0270, Te B: 0.0514, Te K: 0.0905, Te D: 0.0272, Tr LD: 0.3146, Te LD: 0.3168, Trus: 0.0361\n",
      "E: 019, Tr B: 0.0511, Tr K: 0.0891, Tr D: 0.0240, Te B: 0.0513, Te K: 0.0891, Te D: 0.0239, Tr LD: 0.3066, Te LD: 0.3076, Trus: 0.0362\n",
      "E: 020, Tr B: 0.0511, Tr K: 0.0900, Tr D: 0.0225, Te B: 0.0513, Te K: 0.0902, Te D: 0.0226, Tr LD: 0.3098, Te LD: 0.3109, Trus: 0.0360\n",
      "E: 021, Tr B: 0.0511, Tr K: 0.0882, Tr D: 0.0235, Te B: 0.0513, Te K: 0.0883, Te D: 0.0238, Tr LD: 0.3050, Te LD: 0.3075, Trus: 0.0413\n",
      "E: 022, Tr B: 0.0512, Tr K: 0.0876, Tr D: 0.0223, Te B: 0.0513, Te K: 0.0871, Te D: 0.0224, Tr LD: 0.3036, Te LD: 0.3055, Trus: 0.0367\n",
      "E: 023, Tr B: 0.0510, Tr K: 0.0868, Tr D: 0.0220, Te B: 0.0511, Te K: 0.0864, Te D: 0.0221, Tr LD: 0.3057, Te LD: 0.3056, Trus: 0.0342\n",
      "E: 024, Tr B: 0.0510, Tr K: 0.0873, Tr D: 0.0209, Te B: 0.0513, Te K: 0.0869, Te D: 0.0212, Tr LD: 0.3083, Te LD: 0.3079, Trus: 0.0318\n",
      "E: 025, Tr B: 0.0510, Tr K: 0.0868, Tr D: 0.0245, Te B: 0.0512, Te K: 0.0868, Te D: 0.0245, Tr LD: 0.3074, Te LD: 0.3089, Trus: 0.0428\n",
      "E: 026, Tr B: 0.0511, Tr K: 0.0856, Tr D: 0.0211, Te B: 0.0512, Te K: 0.0849, Te D: 0.0210, Tr LD: 0.2995, Te LD: 0.2982, Trus: 0.0351\n",
      "E: 027, Tr B: 0.0510, Tr K: 0.0855, Tr D: 0.0207, Te B: 0.0510, Te K: 0.0848, Te D: 0.0206, Tr LD: 0.2978, Te LD: 0.2986, Trus: 0.0329\n",
      "E: 028, Tr B: 0.0510, Tr K: 0.0857, Tr D: 0.0205, Te B: 0.0512, Te K: 0.0848, Te D: 0.0207, Tr LD: 0.2977, Te LD: 0.2996, Trus: 0.0336\n",
      "E: 029, Tr B: 0.0510, Tr K: 0.0842, Tr D: 0.0207, Te B: 0.0512, Te K: 0.0835, Te D: 0.0209, Tr LD: 0.2991, Te LD: 0.2999, Trus: 0.0316\n",
      "E: 030, Tr B: 0.0510, Tr K: 0.0842, Tr D: 0.0205, Te B: 0.0512, Te K: 0.0835, Te D: 0.0206, Tr LD: 0.3010, Te LD: 0.3013, Trus: 0.0306\n",
      "E: 031, Tr B: 0.0510, Tr K: 0.0834, Tr D: 0.0206, Te B: 0.0512, Te K: 0.0827, Te D: 0.0209, Tr LD: 0.2994, Te LD: 0.3013, Trus: 0.0305\n",
      "E: 032, Tr B: 0.0509, Tr K: 0.0832, Tr D: 0.0190, Te B: 0.0510, Te K: 0.0824, Te D: 0.0193, Tr LD: 0.2976, Te LD: 0.2980, Trus: 0.0259\n",
      "E: 033, Tr B: 0.0510, Tr K: 0.0823, Tr D: 0.0192, Te B: 0.0512, Te K: 0.0817, Te D: 0.0193, Tr LD: 0.3012, Te LD: 0.3019, Trus: 0.0269\n",
      "E: 034, Tr B: 0.0510, Tr K: 0.0833, Tr D: 0.0183, Te B: 0.0512, Te K: 0.0827, Te D: 0.0186, Tr LD: 0.2968, Te LD: 0.2984, Trus: 0.0273\n",
      "E: 035, Tr B: 0.0510, Tr K: 0.0822, Tr D: 0.0188, Te B: 0.0512, Te K: 0.0812, Te D: 0.0189, Tr LD: 0.2964, Te LD: 0.3004, Trus: 0.0301\n",
      "E: 036, Tr B: 0.0509, Tr K: 0.0825, Tr D: 0.0181, Te B: 0.0511, Te K: 0.0815, Te D: 0.0187, Tr LD: 0.2950, Te LD: 0.2986, Trus: 0.0277\n",
      "E: 037, Tr B: 0.0509, Tr K: 0.0814, Tr D: 0.0180, Te B: 0.0509, Te K: 0.0799, Te D: 0.0181, Tr LD: 0.2962, Te LD: 0.2971, Trus: 0.0298\n",
      "E: 038, Tr B: 0.0510, Tr K: 0.0820, Tr D: 0.0173, Te B: 0.0511, Te K: 0.0811, Te D: 0.0176, Tr LD: 0.2942, Te LD: 0.2962, Trus: 0.0289\n",
      "E: 039, Tr B: 0.0509, Tr K: 0.0814, Tr D: 0.0174, Te B: 0.0511, Te K: 0.0802, Te D: 0.0178, Tr LD: 0.2917, Te LD: 0.2935, Trus: 0.0276\n",
      "E: 040, Tr B: 0.0510, Tr K: 0.0807, Tr D: 0.0171, Te B: 0.0510, Te K: 0.0802, Te D: 0.0176, Tr LD: 0.2933, Te LD: 0.2964, Trus: 0.0297\n",
      "E: 041, Tr B: 0.0509, Tr K: 0.0798, Tr D: 0.0166, Te B: 0.0511, Te K: 0.0785, Te D: 0.0170, Tr LD: 0.2893, Te LD: 0.2913, Trus: 0.0266\n",
      "E: 042, Tr B: 0.0509, Tr K: 0.0798, Tr D: 0.0163, Te B: 0.0512, Te K: 0.0789, Te D: 0.0166, Tr LD: 0.2899, Te LD: 0.2918, Trus: 0.0300\n",
      "E: 043, Tr B: 0.0509, Tr K: 0.0795, Tr D: 0.0165, Te B: 0.0511, Te K: 0.0782, Te D: 0.0168, Tr LD: 0.2926, Te LD: 0.2940, Trus: 0.0236\n",
      "E: 044, Tr B: 0.0509, Tr K: 0.0785, Tr D: 0.0161, Te B: 0.0511, Te K: 0.0774, Te D: 0.0164, Tr LD: 0.2909, Te LD: 0.2914, Trus: 0.0277\n",
      "E: 045, Tr B: 0.0509, Tr K: 0.0798, Tr D: 0.0164, Te B: 0.0511, Te K: 0.0782, Te D: 0.0165, Tr LD: 0.2930, Te LD: 0.2934, Trus: 0.0242\n",
      "E: 046, Tr B: 0.0509, Tr K: 0.0795, Tr D: 0.0162, Te B: 0.0511, Te K: 0.0781, Te D: 0.0164, Tr LD: 0.2913, Te LD: 0.2929, Trus: 0.0242\n",
      "E: 047, Tr B: 0.0509, Tr K: 0.0789, Tr D: 0.0164, Te B: 0.0510, Te K: 0.0774, Te D: 0.0166, Tr LD: 0.2958, Te LD: 0.2976, Trus: 0.0245\n",
      "E: 048, Tr B: 0.0509, Tr K: 0.0776, Tr D: 0.0160, Te B: 0.0511, Te K: 0.0767, Te D: 0.0162, Tr LD: 0.2913, Te LD: 0.2901, Trus: 0.0219\n",
      "E: 049, Tr B: 0.0508, Tr K: 0.0779, Tr D: 0.0155, Te B: 0.0511, Te K: 0.0766, Te D: 0.0157, Tr LD: 0.2916, Te LD: 0.2909, Trus: 0.0244\n",
      "E: 050, Tr B: 0.0509, Tr K: 0.0768, Tr D: 0.0155, Te B: 0.0512, Te K: 0.0756, Te D: 0.0159, Tr LD: 0.2862, Te LD: 0.2872, Trus: 0.0223\n",
      "E: 051, Tr B: 0.0509, Tr K: 0.0768, Tr D: 0.0151, Te B: 0.0510, Te K: 0.0755, Te D: 0.0155, Tr LD: 0.2870, Te LD: 0.2876, Trus: 0.0221\n",
      "E: 052, Tr B: 0.0509, Tr K: 0.0774, Tr D: 0.0152, Te B: 0.0512, Te K: 0.0766, Te D: 0.0157, Tr LD: 0.2927, Te LD: 0.2935, Trus: 0.0226\n",
      "E: 053, Tr B: 0.0509, Tr K: 0.0769, Tr D: 0.0150, Te B: 0.0511, Te K: 0.0756, Te D: 0.0152, Tr LD: 0.2865, Te LD: 0.2882, Trus: 0.0207\n",
      "E: 054, Tr B: 0.0508, Tr K: 0.0765, Tr D: 0.0154, Te B: 0.0511, Te K: 0.0752, Te D: 0.0155, Tr LD: 0.2858, Te LD: 0.2857, Trus: 0.0257\n",
      "E: 055, Tr B: 0.0509, Tr K: 0.0760, Tr D: 0.0146, Te B: 0.0511, Te K: 0.0747, Te D: 0.0148, Tr LD: 0.2838, Te LD: 0.2841, Trus: 0.0241\n",
      "E: 056, Tr B: 0.0509, Tr K: 0.0767, Tr D: 0.0150, Te B: 0.0511, Te K: 0.0756, Te D: 0.0154, Tr LD: 0.2865, Te LD: 0.2890, Trus: 0.0214\n",
      "E: 057, Tr B: 0.0510, Tr K: 0.0753, Tr D: 0.0145, Te B: 0.0512, Te K: 0.0744, Te D: 0.0147, Tr LD: 0.2879, Te LD: 0.2883, Trus: 0.0216\n",
      "E: 058, Tr B: 0.0509, Tr K: 0.0746, Tr D: 0.0143, Te B: 0.0510, Te K: 0.0732, Te D: 0.0144, Tr LD: 0.2828, Te LD: 0.2830, Trus: 0.0209\n",
      "E: 059, Tr B: 0.0510, Tr K: 0.0749, Tr D: 0.0140, Te B: 0.0511, Te K: 0.0739, Te D: 0.0143, Tr LD: 0.2888, Te LD: 0.2876, Trus: 0.0243\n",
      "E: 060, Tr B: 0.0509, Tr K: 0.0738, Tr D: 0.0140, Te B: 0.0511, Te K: 0.0731, Te D: 0.0144, Tr LD: 0.2787, Te LD: 0.2803, Trus: 0.0235\n",
      "E: 061, Tr B: 0.0508, Tr K: 0.0748, Tr D: 0.0144, Te B: 0.0511, Te K: 0.0739, Te D: 0.0145, Tr LD: 0.2854, Te LD: 0.2864, Trus: 0.0205\n",
      "E: 062, Tr B: 0.0508, Tr K: 0.0754, Tr D: 0.0145, Te B: 0.0511, Te K: 0.0740, Te D: 0.0144, Tr LD: 0.2844, Te LD: 0.2841, Trus: 0.0261\n",
      "E: 063, Tr B: 0.0509, Tr K: 0.0740, Tr D: 0.0140, Te B: 0.0511, Te K: 0.0731, Te D: 0.0141, Tr LD: 0.2813, Te LD: 0.2820, Trus: 0.0241\n",
      "E: 064, Tr B: 0.0508, Tr K: 0.0750, Tr D: 0.0145, Te B: 0.0511, Te K: 0.0740, Te D: 0.0147, Tr LD: 0.2898, Te LD: 0.2896, Trus: 0.0217\n",
      "E: 065, Tr B: 0.0509, Tr K: 0.0742, Tr D: 0.0139, Te B: 0.0511, Te K: 0.0733, Te D: 0.0141, Tr LD: 0.2826, Te LD: 0.2812, Trus: 0.0228\n",
      "E: 066, Tr B: 0.0508, Tr K: 0.0729, Tr D: 0.0140, Te B: 0.0511, Te K: 0.0723, Te D: 0.0144, Tr LD: 0.2805, Te LD: 0.2792, Trus: 0.0219\n",
      "E: 067, Tr B: 0.0509, Tr K: 0.0729, Tr D: 0.0134, Te B: 0.0511, Te K: 0.0724, Te D: 0.0139, Tr LD: 0.2786, Te LD: 0.2785, Trus: 0.0211\n",
      "E: 068, Tr B: 0.0509, Tr K: 0.0737, Tr D: 0.0134, Te B: 0.0512, Te K: 0.0727, Te D: 0.0139, Tr LD: 0.2923, Te LD: 0.2894, Trus: 0.0208\n",
      "E: 069, Tr B: 0.0508, Tr K: 0.0715, Tr D: 0.0138, Te B: 0.0511, Te K: 0.0706, Te D: 0.0139, Tr LD: 0.2821, Te LD: 0.2811, Trus: 0.0255\n",
      "E: 070, Tr B: 0.0508, Tr K: 0.0727, Tr D: 0.0134, Te B: 0.0511, Te K: 0.0714, Te D: 0.0136, Tr LD: 0.2818, Te LD: 0.2801, Trus: 0.0223\n",
      "E: 071, Tr B: 0.0508, Tr K: 0.0716, Tr D: 0.0128, Te B: 0.0510, Te K: 0.0706, Te D: 0.0131, Tr LD: 0.2856, Te LD: 0.2835, Trus: 0.0212\n",
      "E: 072, Tr B: 0.0509, Tr K: 0.0721, Tr D: 0.0126, Te B: 0.0511, Te K: 0.0709, Te D: 0.0128, Tr LD: 0.2846, Te LD: 0.2831, Trus: 0.0202\n",
      "E: 073, Tr B: 0.0508, Tr K: 0.0708, Tr D: 0.0129, Te B: 0.0511, Te K: 0.0702, Te D: 0.0131, Tr LD: 0.2764, Te LD: 0.2755, Trus: 0.0222\n",
      "E: 074, Tr B: 0.0508, Tr K: 0.0710, Tr D: 0.0126, Te B: 0.0510, Te K: 0.0702, Te D: 0.0128, Tr LD: 0.2818, Te LD: 0.2789, Trus: 0.0240\n",
      "E: 075, Tr B: 0.0508, Tr K: 0.0718, Tr D: 0.0130, Te B: 0.0511, Te K: 0.0713, Te D: 0.0133, Tr LD: 0.2808, Te LD: 0.2790, Trus: 0.0219\n",
      "E: 076, Tr B: 0.0509, Tr K: 0.0707, Tr D: 0.0131, Te B: 0.0511, Te K: 0.0699, Te D: 0.0134, Tr LD: 0.2848, Te LD: 0.2849, Trus: 0.0212\n",
      "E: 077, Tr B: 0.0508, Tr K: 0.0710, Tr D: 0.0127, Te B: 0.0511, Te K: 0.0707, Te D: 0.0130, Tr LD: 0.2827, Te LD: 0.2836, Trus: 0.0222\n",
      "E: 078, Tr B: 0.0507, Tr K: 0.0707, Tr D: 0.0125, Te B: 0.0511, Te K: 0.0700, Te D: 0.0129, Tr LD: 0.2746, Te LD: 0.2748, Trus: 0.0229\n",
      "E: 079, Tr B: 0.0508, Tr K: 0.0690, Tr D: 0.0129, Te B: 0.0510, Te K: 0.0683, Te D: 0.0129, Tr LD: 0.2824, Te LD: 0.2817, Trus: 0.0230\n",
      "E: 080, Tr B: 0.0507, Tr K: 0.0687, Tr D: 0.0127, Te B: 0.0511, Te K: 0.0677, Te D: 0.0128, Tr LD: 0.2768, Te LD: 0.2755, Trus: 0.0229\n",
      "E: 081, Tr B: 0.0507, Tr K: 0.0687, Tr D: 0.0126, Te B: 0.0511, Te K: 0.0678, Te D: 0.0126, Tr LD: 0.2814, Te LD: 0.2823, Trus: 0.0248\n",
      "E: 082, Tr B: 0.0506, Tr K: 0.0686, Tr D: 0.0123, Te B: 0.0511, Te K: 0.0682, Te D: 0.0127, Tr LD: 0.2793, Te LD: 0.2774, Trus: 0.0233\n",
      "E: 083, Tr B: 0.0507, Tr K: 0.0705, Tr D: 0.0127, Te B: 0.0513, Te K: 0.0701, Te D: 0.0128, Tr LD: 0.2821, Te LD: 0.2826, Trus: 0.0237\n",
      "E: 084, Tr B: 0.0507, Tr K: 0.0696, Tr D: 0.0123, Te B: 0.0511, Te K: 0.0692, Te D: 0.0127, Tr LD: 0.2777, Te LD: 0.2769, Trus: 0.0227\n",
      "E: 085, Tr B: 0.0507, Tr K: 0.0687, Tr D: 0.0124, Te B: 0.0511, Te K: 0.0682, Te D: 0.0129, Tr LD: 0.2768, Te LD: 0.2762, Trus: 0.0222\n",
      "E: 086, Tr B: 0.0508, Tr K: 0.0683, Tr D: 0.0116, Te B: 0.0511, Te K: 0.0683, Te D: 0.0120, Tr LD: 0.2764, Te LD: 0.2745, Trus: 0.0208\n",
      "E: 087, Tr B: 0.0507, Tr K: 0.0686, Tr D: 0.0118, Te B: 0.0510, Te K: 0.0681, Te D: 0.0122, Tr LD: 0.2776, Te LD: 0.2747, Trus: 0.0258\n",
      "E: 088, Tr B: 0.0507, Tr K: 0.0681, Tr D: 0.0119, Te B: 0.0510, Te K: 0.0675, Te D: 0.0122, Tr LD: 0.2739, Te LD: 0.2721, Trus: 0.0224\n",
      "E: 089, Tr B: 0.0507, Tr K: 0.0684, Tr D: 0.0115, Te B: 0.0511, Te K: 0.0680, Te D: 0.0118, Tr LD: 0.2757, Te LD: 0.2734, Trus: 0.0257\n",
      "E: 090, Tr B: 0.0508, Tr K: 0.0682, Tr D: 0.0115, Te B: 0.0511, Te K: 0.0671, Te D: 0.0118, Tr LD: 0.2780, Te LD: 0.2765, Trus: 0.0225\n",
      "E: 091, Tr B: 0.0507, Tr K: 0.0679, Tr D: 0.0121, Te B: 0.0510, Te K: 0.0670, Te D: 0.0124, Tr LD: 0.2769, Te LD: 0.2736, Trus: 0.0205\n"
     ]
    }
   ],
   "source": [
    "train_biological_losses_all_epochs = []\n",
    "train_kabsch_losses_all_epochs = []\n",
    "train_distance_losses_all_epochs = []\n",
    "train_lddt_losses_all_epochs = []\n",
    "\n",
    "test_biological_losses_all_epochs = []\n",
    "test_kabsch_losses_all_epochs = []\n",
    "test_distance_losses_all_epochs = []\n",
    "test_lddt_losses_all_epochs = []\n",
    "\n",
    "losses = []\n",
    "\n",
    "trussart_test_kabsch_losses_all_epochs = []\n",
    "\n",
    "for epoch in range(1, NB_EPOCHS+1):\n",
    "    loss = train_trans_conf(model, train_loader, train_dataset, optimizer, device, BATCH_SIZE,  NB_BINS, EMBEDDING_SIZE, LAMBDA_BIO, LAMBDA_KABSCH, distance_loss_fct, LAMBDA_LDDT, NUM_BINS_LOGITS)\n",
    "    losses.append(loss)\n",
    "    \n",
    "    ### Training\n",
    "    train_mean_biological_loss, train_mean_kabsch_loss, train_mean_distance_loss, train_true_hics, \\\n",
    "        train_pred_structures, train_true_structures, train_pred_distances, \\\n",
    "            train_true_distances, train_mean_lddt_loss = evaluate_trans_conf(train_loader, model, device, BATCH_SIZE, NB_BINS, EMBEDDING_SIZE, distance_loss_fct, NUM_BINS_LOGITS) \n",
    "\n",
    "    \n",
    "    # Store results\n",
    "    train_biological_losses_all_epochs.append(train_mean_biological_loss)\n",
    "    train_kabsch_losses_all_epochs.append(train_mean_kabsch_loss)    \n",
    "    train_distance_losses_all_epochs.append(train_mean_distance_loss)\n",
    "    train_lddt_losses_all_epochs.append(train_mean_lddt_loss)\n",
    "\n",
    "    ### Testing\n",
    "    test_mean_biological_loss, test_mean_kabsch_loss, test_mean_distance_loss, test_true_hics, \\\n",
    "        test_pred_structures, test_true_structures, test_pred_distances, \\\n",
    "            test_true_distances, test_mean_lddt_loss = evaluate_trans_conf(test_loader, model, device, BATCH_SIZE, NB_BINS, EMBEDDING_SIZE, distance_loss_fct, NUM_BINS_LOGITS) \n",
    "\n",
    "    \n",
    "    ### Trussart test\n",
    "    trussart_test_kabsch_loss = compute_trussart_test_kabsch_loss(trussart_hic, trussart_structures, model, NB_BINS, BATCH_SIZE, EMBEDDING_SIZE, True)\n",
    "    save_structure(model, epoch, trussart_structures, trussart_hic, NB_BINS, BATCH_SIZE, EMBEDDING_SIZE, True)\n",
    "    # Store results\n",
    "    test_biological_losses_all_epochs.append(test_mean_biological_loss)\n",
    "    test_kabsch_losses_all_epochs.append(test_mean_kabsch_loss)    \n",
    "    test_distance_losses_all_epochs.append(test_mean_distance_loss)\n",
    "    test_lddt_losses_all_epochs.append(test_mean_lddt_loss)\n",
    "\n",
    "    \n",
    "    trussart_test_kabsch_losses_all_epochs.append(trussart_test_kabsch_loss)\n",
    "\n",
    "    print('E: {:03d}, Tr B: {:.4f}, Tr K: {:.4f}, Tr D: {:.4f}, Te B: {:.4f}, Te K: {:.4f}, Te D: {:.4f}, Tr LD: {:.4f}, Te LD: {:.4f}, Trus: {:.4f}'.format(\\\n",
    "        epoch, train_mean_biological_loss, train_mean_kabsch_loss, train_mean_distance_loss, \\\n",
    "            test_mean_biological_loss, test_mean_kabsch_loss, test_mean_distance_loss,train_mean_lddt_loss, test_mean_lddt_loss, trussart_test_kabsch_loss))"
   ]
  },
  {
   "cell_type": "code",
   "execution_count": 10,
   "metadata": {},
   "outputs": [
    {
     "name": "stdout",
     "output_type": "stream",
     "text": [
      "(array([71]),)\n",
      "0.020190032094693198\n"
     ]
    }
   ],
   "source": [
    "print(np.where(trussart_test_kabsch_losses_all_epochs == min(trussart_test_kabsch_losses_all_epochs)))\n",
    "print(min(trussart_test_kabsch_losses_all_epochs))"
   ]
  },
  {
   "cell_type": "code",
   "execution_count": 11,
   "metadata": {},
   "outputs": [
    {
     "data": {
      "image/png": "[encoded data removed]",
      "text/plain": [
       "<Figure size 1000x1000 with 4 Axes>"
      ]
     },
     "metadata": {},
     "output_type": "display_data"
    }
   ],
   "source": [
    "plot_losses(losses, train_biological_losses_all_epochs, test_biological_losses_all_epochs, train_kabsch_losses_all_epochs, test_kabsch_losses_all_epochs, trussart_test_kabsch_losses_all_epochs, train_distance_losses_all_epochs, test_distance_losses_all_epochs)\n"
   ]
  },
  {
   "cell_type": "code",
   "execution_count": 12,
   "metadata": {},
   "outputs": [
    {
     "name": "stdout",
     "output_type": "stream",
     "text": [
      "tensor(0.0001)\n",
      "transformer_encoder.encoder_layers.self_attn.in_proj_weight\n",
      "tensor(9.3022e-05)\n",
      "transformer_encoder.encoder_layers.self_attn.out_proj.weight\n",
      "tensor(0.0001)\n",
      "transformer_encoder.encoder_layers.linear1.weight\n",
      "tensor(9.7442e-05)\n",
      "transformer_encoder.encoder_layers.linear2.weight\n",
      "tensor(0.0003)\n",
      "transformer_encoder.encoder_layers.norm1.weight\n",
      "tensor(0.0003)\n",
      "transformer_encoder.encoder_layers.norm2.weight\n",
      "tensor(0.0001)\n",
      "transformer_encoder.encoder_layers2.self_attn.in_proj_weight\n",
      "tensor(5.6714e-05)\n",
      "transformer_encoder.encoder_layers2.self_attn.out_proj.weight\n",
      "tensor(0.0001)\n",
      "transformer_encoder.encoder_layers2.linear1.weight\n",
      "tensor(4.6857e-05)\n",
      "transformer_encoder.encoder_layers2.linear2.weight\n",
      "tensor(0.0002)\n",
      "transformer_encoder.encoder_layers2.norm1.weight\n",
      "tensor(0.0002)\n",
      "transformer_encoder.encoder_layers2.norm2.weight\n",
      "tensor(0.0001)\n",
      "transformer_encoder.encoder.weight\n",
      "tensor(0.0019)\n",
      "transformer_encoder.decoder.weight\n",
      "tensor(2.3553e-05)\n",
      "linear_bin_layer.weight\n",
      "tensor(1.2350e-05)\n",
      "linear_bin_layer2.weight\n"
     ]
    },
    {
     "name": "stderr",
     "output_type": "stream",
     "text": [
      "/Users/hva/Documents/3D-Chromatin/Chromatin3D/Data_Tools/Data_Plotting.py:107: UserWarning:\n",
      "\n",
      "Attempted to set non-positive bottom ylim on a log-scaled axis.\n",
      "Invalid limit will be ignored.\n",
      "\n"
     ]
    },
    {
     "data": {
      "image/png": "[encoded data removed]",
      "text/plain": [
       "<Figure size 640x480 with 1 Axes>"
      ]
     },
     "metadata": {},
     "output_type": "display_data"
    }
   ],
   "source": [
    "plot_grad_flow(model.named_parameters())"
   ]
  },
  {
   "cell_type": "code",
   "execution_count": 13,
   "metadata": {},
   "outputs": [],
   "source": [
    "GRAPH_TESTED = 0"
   ]
  },
  {
   "cell_type": "code",
   "execution_count": 14,
   "metadata": {},
   "outputs": [
    {
     "data": {
      "image/png": "[encoded data removed]",
      "text/plain": [
       "<Figure size 1500x1500 with 2 Axes>"
      ]
     },
     "metadata": {},
     "output_type": "display_data"
    }
   ],
   "source": [
    "ground_truth_matrix = test_true_distances[GRAPH_TESTED*NB_BINS:GRAPH_TESTED*NB_BINS+NB_BINS, :]\n",
    "reconstruction_matrix = test_pred_distances[GRAPH_TESTED*NB_BINS:GRAPH_TESTED*NB_BINS+NB_BINS, :]\n",
    "plot_test_distance_matrix(ground_truth_matrix, reconstruction_matrix)"
   ]
  },
  {
   "cell_type": "code",
   "execution_count": 15,
   "metadata": {},
   "outputs": [
    {
     "data": {
      "application/vnd.plotly.v1+json": {
       "config": {
        "plotlyServerURL": "https://plot.ly"
       },
       "data": [
        {
         "line": {
          "color": "darkblue",
          "width": 2
         },
         "marker": {
          "color": [
           0,
           1,
           2,
           3,
           4,
           5,
           6,
           7,
           8,
           9,
           10,
           11,
           12,
           13,
           14,
           15,
           16,
           17,
           18,
           19,
           20,
           21,
           22,
           23,
           24,
           25,
           26,
           27,
           28,
           29,
           30,
           31,
           32,
           33,
           34,
           35,
           36,
           37,
           38,
           39,
           40,
           41,
           42,
           43,
           44,
           45,
           46,
           47,
           48,
           49,
           50,
           51,
           52,
           53,
           54,
           55,
           56,
           57,
           58,
           59,
           60,
           61,
           62,
           63,
           64,
           65,
           66,
           67,
           68,
           69,
           70,
           71,
           72,
           73,
           74,
           75,
           76,
           77,
           78,
           79,
           80,
           81,
           82,
           83,
           84,
           85,
           86,
           87,
           88,
           89,
           90,
           91,
           92,
           93,
           94,
           95,
           96,
           97,
           98,
           99,
           100,
           101,
           102,
           103,
           104,
           105,
           106,
           107,
           108,
           109,
           110,
           111,
           112,
           113,
           114,
           115,
           116,
           117,
           118,
           119,
           120,
           121,
           122,
           123,
           124,
           125,
           126,
           127,
           128,
           129,
           130,
           131,
           132,
           133,
           134,
           135,
           136,
           137,
           138,
           139,
           140,
           141,
           142,
           143,
           144,
           145,
           146,
           147,
           148,
           149,
           150,
           151,
           152,
           153,
           154,
           155,
           156,
           157,
           158,
           159,
           160,
           161,
           162,
           163,
           164,
           165,
           166,
           167,
           168,
           169,
           170,
           171,
           172,
           173,
           174,
           175,
           176,
           177,
           178,
           179,
           180,
           181,
           182,
           183,
           184,
           185,
           186,
           187,
           188,
           189,
           190,
           191,
           192,
           193,
           194,
           195,
           196,
           197,
           198,
           199,
           200,
           201
          ],
          "colorscale": [
           [
            0,
            "#440154"
           ],
           [
            0.1111111111111111,
            "#482878"
           ],
           [
            0.2222222222222222,
            "#3e4989"
           ],
           [
            0.3333333333333333,
            "#31688e"
           ],
           [
            0.4444444444444444,
            "#26828e"
           ],
           [
            0.5555555555555556,
            "#1f9e89"
           ],
           [
            0.6666666666666666,
            "#35b779"
           ],
           [
            0.7777777777777778,
            "#6ece58"
           ],
           [
            0.8888888888888888,
            "#b5de2b"
           ],
           [
            1,
            "#fde725"
           ]
          ],
          "size": 4
         },
         "scene": "scene",
         "type": "scatter3d",
         "x": [
          -0.2440069615840912,
          -0.24971476197242737,
          -0.22575637698173523,
          -0.15791219472885132,
          -0.08745020627975464,
          -0.049672577530145645,
          0.0048335217870771885,
          0.07794509828090668,
          0.16472990810871124,
          0.19864165782928467,
          0.21473927795886993,
          0.20827771723270416,
          0.14475859701633453,
          0.1551104038953781,
          0.1762247532606125,
          0.22440983355045319,
          0.30880722403526306,
          0.36295080184936523,
          0.4123528003692627,
          0.3459973633289337,
          0.37527990341186523,
          0.3458091616630554,
          0.27922630310058594,
          0.1936168223619461,
          0.19977793097496033,
          0.2006254345178604,
          0.14676856994628906,
          0.14506903290748596,
          0.2144513577222824,
          0.2916596233844757,
          0.3860745131969452,
          0.47437942028045654,
          0.506697416305542,
          0.5739186406135559,
          0.5790305137634277,
          0.5807982087135315,
          0.5265365839004517,
          0.526723325252533,
          0.5156735777854919,
          0.5548375248908997,
          0.6204276084899902,
          0.6039999723434448,
          0.6261360049247742,
          0.5974709391593933,
          0.5731455087661743,
          0.5110703110694885,
          0.4483693540096283,
          0.4527043402194977,
          0.4617798626422882,
          0.5348901152610779,
          0.5697596073150635,
          0.5401798486709595,
          0.5976337194442749,
          0.592781126499176,
          0.5699869394302368,
          0.5085241794586182,
          0.4386388659477234,
          0.41428476572036743,
          0.35188519954681396,
          0.30985668301582336,
          0.22810623049736023,
          0.18999913334846497,
          0.129010871052742,
          0.03734329715371132,
          -0.03208591416478157,
          -0.1267559975385666,
          -0.19279946386814117,
          -0.2609157860279083,
          -0.26877954602241516,
          -0.28324568271636963,
          -0.23603588342666626,
          -0.24178695678710938,
          -0.24487696588039398,
          -0.30190324783325195,
          -0.32476457953453064,
          -0.3164939880371094,
          -0.35793542861938477,
          -0.3601352870464325,
          -0.29100146889686584,
          -0.20453687012195587,
          -0.13703635334968567,
          -0.11197444051504135,
          -0.0772058442234993,
          -0.10006636381149292,
          -0.16155819594860077,
          -0.2164326161146164,
          -0.2933965027332306,
          -0.2784481644630432,
          -0.3106202781200409,
          -0.27931416034698486,
          -0.223647803068161,
          -0.14922212064266205,
          -0.09181984513998032,
          -0.036574676632881165,
          0.05599220097064972,
          0.11640752851963043,
          0.09570477157831192,
          0.021028202027082443,
          -0.06065317615866661,
          -0.13030554354190826,
          -0.20348311960697174,
          -0.2671099007129669,
          -0.3563912510871887,
          -0.37310904264450073,
          -0.33926478028297424,
          -0.2815711796283722,
          -0.20161055028438568,
          -0.16136164963245392,
          -0.07828834652900696,
          -0.021052978932857513,
          0.06852812319993973,
          0.06896185129880905,
          0.11924310028553009,
          0.10204870253801346,
          0.1236826702952385,
          0.10976966470479965,
          0.07247344404459,
          -0.015056595206260681,
          -0.09458232671022415,
          -0.16535194218158722,
          -0.23915058374404907,
          -0.33015719056129456,
          -0.3898787498474121,
          -0.37859952449798584,
          -0.3249819278717041,
          -0.3202285170555115,
          -0.2969417870044708,
          -0.22935791313648224,
          -0.21614058315753937,
          -0.25661301612854004,
          -0.24895864725112915,
          -0.25039032101631165,
          -0.27420639991760254,
          -0.27032002806663513,
          -0.25228187441825867,
          -0.20092879235744476,
          -0.18835845589637756,
          -0.12387977540493011,
          -0.12169896811246872,
          -0.15629711747169495,
          -0.196954607963562,
          -0.15700657665729523,
          -0.10517062246799469,
          -0.034681688994169235,
          0.05168091133236885,
          0.09526681900024414,
          0.0730351135134697,
          0.01673946902155876,
          -0.018497390672564507,
          -0.025971433147788048,
          0.030683284625411034,
          -0.01165764220058918,
          -0.0976959764957428,
          -0.15843847393989563,
          -0.23933444917201996,
          -0.2876540720462799,
          -0.2660023868083954,
          -0.18561077117919922,
          -0.09532317519187927,
          -0.014288298785686493,
          0.05981160327792168,
          0.05161355808377266,
          0.06261870265007019,
          0.00042777517228387296,
          -0.07212924212217331,
          -0.09554090350866318,
          -0.15002486109733582,
          -0.12774935364723206,
          -0.13923941552639008,
          -0.07722966372966766,
          -0.0008640228770673275,
          0.012974477373063564,
          0.053210169076919556,
          -0.022424474358558655,
          -0.027131035923957825,
          -0.06741970777511597,
          -0.08915457874536514,
          -0.058439891785383224,
          -0.0292416550219059,
          -0.06148373708128929,
          -0.08647967129945755,
          -0.07845959067344666,
          -0.003578397212550044,
          -0.0011906226864084601,
          -0.04533222317695618,
          -0.08749114722013474,
          -0.14504940807819366,
          -0.24008841812610626,
          -0.30643126368522644,
          -0.36314743757247925,
          -0.3419414758682251,
          -0.3178386688232422,
          -0.2596273720264435,
          -0.1952095478773117,
          -0.20859575271606445,
          -0.23549069464206696,
          -0.2040622979402542,
          -0.23113591969013214,
          -0.29467952251434326,
          -0.30961355566978455,
          -0.3635134696960449,
          -0.4108564853668213
         ],
         "y": [
          0.19168901443481445,
          0.17784342169761658,
          0.11383163183927536,
          0.048972681164741516,
          0.002955951262265444,
          0.020369021221995354,
          0.08392370492219925,
          0.14576272666454315,
          0.13743016123771667,
          0.14299708604812622,
          0.07577991485595703,
          0.07723163813352585,
          0.03103642538189888,
          -0.037103645503520966,
          -0.08922620862722397,
          -0.16981756687164307,
          -0.19968628883361816,
          -0.2695968747138977,
          -0.3356565833091736,
          -0.3655443489551544,
          -0.41215047240257263,
          -0.48940134048461914,
          -0.5527621507644653,
          -0.513069748878479,
          -0.45653036236763,
          -0.3691910207271576,
          -0.2986518442630768,
          -0.3036558926105499,
          -0.33513426780700684,
          -0.3516119420528412,
          -0.3491452932357788,
          -0.3536005914211273,
          -0.4053707420825958,
          -0.3438405692577362,
          -0.25534161925315857,
          -0.1605498492717743,
          -0.09760908037424088,
          -0.09711191058158875,
          -0.10093432664871216,
          -0.16686198115348816,
          -0.22231478989124298,
          -0.2461048662662506,
          -0.25964006781578064,
          -0.3410291075706482,
          -0.40355730056762695,
          -0.4249676465988159,
          -0.496275931596756,
          -0.5093390345573425,
          -0.4548754096031189,
          -0.4062129259109497,
          -0.4153105914592743,
          -0.46503451466560364,
          -0.5043685436248779,
          -0.5523815155029297,
          -0.5359948873519897,
          -0.46932268142700195,
          -0.4127455949783325,
          -0.3268297612667084,
          -0.2617104649543762,
          -0.17875945568084717,
          -0.12883979082107544,
          -0.041631948202848434,
          0.025690004229545593,
          0.05242491513490677,
          0.024578075855970383,
          0.03009289875626564,
          -0.015888812020421028,
          0.008846122771501541,
          0.0837835967540741,
          0.11358384042978287,
          0.1183944121003151,
          0.09398678690195084,
          0.041646040976047516,
          -0.017940081655979156,
          -0.018910428509116173,
          -0.010914173908531666,
          0.023710360750555992,
          0.08176519721746445,
          0.09060442447662354,
          0.11161601543426514,
          0.17798878252506256,
          0.2688015401363373,
          0.34935644268989563,
          0.37702298164367676,
          0.4418562948703766,
          0.4726296663284302,
          0.41646188497543335,
          0.34279561042785645,
          0.3685038387775421,
          0.34201085567474365,
          0.27143606543540955,
          0.25053998827934265,
          0.1746625006198883,
          0.1304401159286499,
          0.11198494583368301,
          0.12997430562973022,
          0.22345413267612457,
          0.28053200244903564,
          0.24367111921310425,
          0.1990673542022705,
          0.23769953846931458,
          0.2610713839530945,
          0.29265904426574707,
          0.2828039824962616,
          0.24332955479621887,
          0.23819565773010254,
          0.23982208967208862,
          0.2046283781528473,
          0.15772299468517303,
          0.08740154653787613,
          0.09057274460792542,
          0.15512730181217194,
          0.22206750512123108,
          0.29730960726737976,
          0.3767125904560089,
          0.46901029348373413,
          0.5556067228317261,
          0.5917201638221741,
          0.5631625652313232,
          0.5102400779724121,
          0.46377110481262207,
          0.44843170046806335,
          0.4066081643104553,
          0.35230085253715515,
          0.3039388954639435,
          0.2236996442079544,
          0.16670410335063934,
          0.10180105268955231,
          0.007012738846242428,
          -0.06558385491371155,
          -0.1524801105260849,
          -0.24718734622001648,
          -0.31383687257766724,
          -0.3376167118549347,
          -0.41265368461608887,
          -0.4489835500717163,
          -0.4502987265586853,
          -0.4129818081855774,
          -0.36640822887420654,
          -0.2797297239303589,
          -0.19352737069129944,
          -0.10657953470945358,
          -0.026130078360438347,
          -0.007916344329714775,
          0.03119245171546936,
          0.046226102858781815,
          0.018266014754772186,
          -0.010814464651048183,
          0.04309159517288208,
          0.13302023708820343,
          0.13432294130325317,
          0.07061763852834702,
          0.03192177414894104,
          -0.04196920618414879,
          0.005630670115351677,
          0.07692421227693558,
          0.08470948040485382,
          0.06920666992664337,
          0.07057812809944153,
          0.11536835134029388,
          0.08394233882427216,
          0.02258063293993473,
          -0.06783013045787811,
          -0.11240260303020477,
          -0.06336569041013718,
          -0.012137558311223984,
          0.06458688527345657,
          0.14464308321475983,
          0.21618115901947021,
          0.2890602946281433,
          0.23177997767925262,
          0.15140609443187714,
          0.07697570323944092,
          0.03850044682621956,
          -0.05636913701891899,
          -0.1287575662136078,
          -0.19284862279891968,
          -0.20727597177028656,
          -0.11712976545095444,
          -0.027508631348609924,
          0.030790813267230988,
          0.12545736134052277,
          0.18226851522922516,
          0.24982790648937225,
          0.33323171734809875,
          0.4071089029312134,
          0.4815329313278198,
          0.49291151762008667,
          0.4250892996788025,
          0.3532954454421997,
          0.259931743144989,
          0.1742154061794281,
          0.12632441520690918,
          0.05542750284075737,
          -0.03351946175098419,
          -0.11432790756225586,
          -0.16092632710933685,
          -0.2481435090303421,
          -0.2774522602558136,
          -0.2387569099664688,
          -0.18637356162071228,
          -0.10313349217176437
         ],
         "z": [
          -0.17582425475120544,
          -0.27045732736587524,
          -0.33760035037994385,
          -0.3568403720855713,
          -0.4026362895965576,
          -0.48894578218460083,
          -0.5355245471000671,
          -0.5387386083602905,
          -0.4990062713623047,
          -0.4095708131790161,
          -0.34322014451026917,
          -0.247638538479805,
          -0.19276580214500427,
          -0.12621155381202698,
          -0.048641469329595566,
          -0.029590830206871033,
          0.004535940010100603,
          0.04142335429787636,
          -0.007313198409974575,
          -0.06962992250919342,
          -0.14805249869823456,
          -0.19646191596984863,
          -0.1694096028804779,
          -0.1528196632862091,
          -0.07571560889482498,
          -0.03633521497249603,
          -0.000233115439186804,
          0.09543175250291824,
          0.15352565050125122,
          0.09923876821994781,
          0.08313163369894028,
          0.12003817409276962,
          0.19389678537845612,
          0.22347790002822876,
          0.18712542951107025,
          0.17330187559127808,
          0.1256171613931656,
          0.029807906597852707,
          -0.06528672575950623,
          -0.12272732704877853,
          -0.08026992529630661,
          0.011074814945459366,
          0.10330545157194138,
          0.14494477212429047,
          0.07654746621847153,
          0.006776688154786825,
          -0.006006778217852116,
          -0.10082376003265381,
          -0.17912475764751434,
          -0.2174203097820282,
          -0.30619558691978455,
          -0.38256487250328064,
          -0.44837960600852966,
          -0.5311497449874878,
          -0.6227554678916931,
          -0.6536883115768433,
          -0.6867756843566895,
          -0.652061939239502,
          -0.6843956708908081,
          -0.7074701189994812,
          -0.709612250328064,
          -0.7206727862358093,
          -0.7511339783668518,
          -0.7432602643966675,
          -0.6833950877189636,
          -0.6970647573471069,
          -0.6450682282447815,
          -0.5823940634727478,
          -0.5232144594192505,
          -0.43331244587898254,
          -0.35007911920547485,
          -0.2576080858707428,
          -0.1774170994758606,
          -0.12866061925888062,
          -0.035622380673885345,
          0.059495195746421814,
          0.13863711059093475,
          0.21482433378696442,
          0.28056684136390686,
          0.31609266996383667,
          0.33085861802101135,
          0.3483124375343323,
          0.30981898307800293,
          0.22098399698734283,
          0.18641388416290283,
          0.11415398120880127,
          0.10408245027065277,
          0.16349223256111145,
          0.25000080466270447,
          0.33659034967422485,
          0.36975884437561035,
          0.3131561279296875,
          0.3244379758834839,
          0.3890293836593628,
          0.40547552704811096,
          0.477628618478775,
          0.48118025064468384,
          0.49976035952568054,
          0.5336591005325317,
          0.5820196866989136,
          0.630313515663147,
          0.5626002550125122,
          0.5480828881263733,
          0.4542580842971802,
          0.37378427386283875,
          0.297463983297348,
          0.3502214848995209,
          0.4297269582748413,
          0.43858179450035095,
          0.40761885046958923,
          0.3737829923629761,
          0.3029859662055969,
          0.2563973069190979,
          0.19962874054908752,
          0.15056927502155304,
          0.12895312905311584,
          0.11193108558654785,
          0.12656007707118988,
          0.17172440886497498,
          0.13470326364040375,
          0.09502843022346497,
          0.069295234978199,
          0.007135577499866486,
          -0.07098735868930817,
          -0.13396328687667847,
          -0.18610502779483795,
          -0.25951439142227173,
          -0.2795071005821228,
          -0.28399866819381714,
          -0.23633931577205658,
          -0.19671423733234406,
          -0.21114285290241241,
          -0.14656472206115723,
          -0.05383333936333656,
          0.002944953739643097,
          0.07521320879459381,
          0.17018663883209229,
          0.23043318092823029,
          0.31413406133651733,
          0.33580201864242554,
          0.3260132372379303,
          0.32112208008766174,
          0.316581666469574,
          0.2542979121208191,
          0.240452378988266,
          0.15646454691886902,
          0.06756190210580826,
          -0.004304792732000351,
          -0.07524276524782181,
          -0.10744020342826843,
          -0.18469460308551788,
          -0.24238842725753784,
          -0.22566328942775726,
          -0.23115582764148712,
          -0.2119259089231491,
          -0.16994807124137878,
          -0.07694113254547119,
          -0.02717619389295578,
          0.004854514729231596,
          -0.019780410453677177,
          0.03219367936253548,
          0.10531842708587646,
          0.13505858182907104,
          0.07739334553480148,
          0.0385274812579155,
          -0.03897909075021744,
          -0.056994471698999405,
          -0.10468623042106628,
          -0.16737577319145203,
          -0.17218373715877533,
          -0.18036584556102753,
          -0.1300843507051468,
          -0.08512987941503525,
          -0.04064672067761421,
          -0.028104539960622787,
          0.02002480998635292,
          0.08784536272287369,
          0.17744533717632294,
          0.19161638617515564,
          0.1812146008014679,
          0.25302040576934814,
          0.26541468501091003,
          0.24684065580368042,
          0.17894570529460907,
          0.16236214339733124,
          0.11826586723327637,
          0.13637137413024902,
          0.13215093314647675,
          0.1455102562904358,
          0.173946350812912,
          0.1775825321674347,
          0.1422065943479538,
          0.08306614309549332,
          0.0849815234541893,
          0.051982391625642776,
          0.09587262570858002,
          0.17346476018428802,
          0.20244543254375458,
          0.2678893208503723,
          0.354256808757782,
          0.41367465257644653,
          0.41674453020095825
         ]
        },
        {
         "line": {
          "color": "darkblue",
          "width": 2
         },
         "marker": {
          "color": [
           0,
           1,
           2,
           3,
           4,
           5,
           6,
           7,
           8,
           9,
           10,
           11,
           12,
           13,
           14,
           15,
           16,
           17,
           18,
           19,
           20,
           21,
           22,
           23,
           24,
           25,
           26,
           27,
           28,
           29,
           30,
           31,
           32,
           33,
           34,
           35,
           36,
           37,
           38,
           39,
           40,
           41,
           42,
           43,
           44,
           45,
           46,
           47,
           48,
           49,
           50,
           51,
           52,
           53,
           54,
           55,
           56,
           57,
           58,
           59,
           60,
           61,
           62,
           63,
           64,
           65,
           66,
           67,
           68,
           69,
           70,
           71,
           72,
           73,
           74,
           75,
           76,
           77,
           78,
           79,
           80,
           81,
           82,
           83,
           84,
           85,
           86,
           87,
           88,
           89,
           90,
           91,
           92,
           93,
           94,
           95,
           96,
           97,
           98,
           99,
           100,
           101,
           102,
           103,
           104,
           105,
           106,
           107,
           108,
           109,
           110,
           111,
           112,
           113,
           114,
           115,
           116,
           117,
           118,
           119,
           120,
           121,
           122,
           123,
           124,
           125,
           126,
           127,
           128,
           129,
           130,
           131,
           132,
           133,
           134,
           135,
           136,
           137,
           138,
           139,
           140,
           141,
           142,
           143,
           144,
           145,
           146,
           147,
           148,
           149,
           150,
           151,
           152,
           153,
           154,
           155,
           156,
           157,
           158,
           159,
           160,
           161,
           162,
           163,
           164,
           165,
           166,
           167,
           168,
           169,
           170,
           171,
           172,
           173,
           174,
           175,
           176,
           177,
           178,
           179,
           180,
           181,
           182,
           183,
           184,
           185,
           186,
           187,
           188,
           189,
           190,
           191,
           192,
           193,
           194,
           195,
           196,
           197,
           198,
           199,
           200,
           201
          ],
          "colorscale": [
           [
            0,
            "#440154"
           ],
           [
            0.1111111111111111,
            "#482878"
           ],
           [
            0.2222222222222222,
            "#3e4989"
           ],
           [
            0.3333333333333333,
            "#31688e"
           ],
           [
            0.4444444444444444,
            "#26828e"
           ],
           [
            0.5555555555555556,
            "#1f9e89"
           ],
           [
            0.6666666666666666,
            "#35b779"
           ],
           [
            0.7777777777777778,
            "#6ece58"
           ],
           [
            0.8888888888888888,
            "#b5de2b"
           ],
           [
            1,
            "#fde725"
           ]
          ],
          "size": 4
         },
         "scene": "scene2",
         "type": "scatter3d",
         "x": [
          0.009178371226836153,
          0.024658280479898428,
          0.04471305283555486,
          0.06982006368656354,
          0.09537173573137396,
          0.048331492751606024,
          0.008287433479963868,
          0.01698619663848407,
          0.08364366145291424,
          0.10888880106165921,
          0.17419827211265249,
          0.1777169619643172,
          0.14974413642213816,
          0.1786146715589585,
          0.2010418789745669,
          0.277189006840503,
          0.2911008560159616,
          0.30521574465531226,
          0.33455152127546645,
          0.33973113495240465,
          0.34811102363021484,
          0.3806884518902159,
          0.41696312581559575,
          0.4505263705170638,
          0.4292722829728488,
          0.36382063249407864,
          0.31744198753467123,
          0.3108218216826026,
          0.33905316198481966,
          0.37781482292378094,
          0.34733111469079386,
          0.3522528439442373,
          0.3898117728239944,
          0.3201408114559104,
          0.32768383139438945,
          0.3129319050269999,
          0.24408025331304742,
          0.2948157212086391,
          0.2584736326747614,
          0.27899977702397655,
          0.2730754432795297,
          0.2593406982631877,
          0.2826471790979392,
          0.31583939882071327,
          0.3241774182760179,
          0.3243016232657463,
          0.34874233716706665,
          0.357883427772278,
          0.32849701593481023,
          0.3117996357130207,
          0.3670391416012863,
          0.41493074450932627,
          0.4640992293966088,
          0.5551626687274807,
          0.5488133687838292,
          0.5171165885270026,
          0.4999016478201025,
          0.4136631804853245,
          0.36851833783876115,
          0.2698070839389305,
          0.2119828111208623,
          0.11696339470823049,
          0.05749893283901917,
          0.0640815231746078,
          0.03351436303892506,
          0.04670112424106037,
          0.04911763800477035,
          0.07856286000031226,
          0.051601592888784735,
          0.054762579924314304,
          0.051269179277328034,
          0.04484913378357614,
          0.033601009100468954,
          0.003633963108030595,
          -0.11194890942223042,
          -0.19996668261784684,
          -0.28020402423862206,
          -0.3429109162547788,
          -0.32694022898674757,
          -0.2985328715719117,
          -0.32969875707692586,
          -0.4001497045530947,
          -0.4158342111719688,
          -0.3584703510889898,
          -0.3402982684894913,
          -0.29121418662548004,
          -0.30078577682407387,
          -0.34340981995790953,
          -0.4145793905588109,
          -0.45984137033222044,
          -0.4484040426291768,
          -0.39529478759522957,
          -0.30494311576208033,
          -0.27875152871608877,
          -0.24778072983241092,
          -0.33854733179847596,
          -0.41557697173904024,
          -0.46796885370604135,
          -0.5115898730312812,
          -0.4935585551149579,
          -0.5824695829219863,
          -0.5654470284888521,
          -0.6152301766304379,
          -0.5455113605503996,
          -0.49809653642181384,
          -0.43460437751900927,
          -0.4167816565488362,
          -0.41229428418939745,
          -0.32463256481142566,
          -0.21229721145358268,
          -0.15633585344955286,
          -0.19463490760185934,
          -0.230750061713057,
          -0.26986896175989494,
          -0.3106080490303327,
          -0.36555578812433515,
          -0.40398808589332774,
          -0.3773842548094042,
          -0.36202492860440905,
          -0.32493884471570134,
          -0.30225945950303584,
          -0.28071999356390964,
          -0.2336236860822786,
          -0.14090131000897985,
          -0.06471887119713868,
          -0.03104465266771575,
          -0.007196274996551562,
          0.0279107329729567,
          0.06672772024311896,
          0.10295035502665213,
          0.15495472238316457,
          0.25661519535201416,
          0.3161090902131552,
          0.3261612595725127,
          0.3639307259767277,
          0.3687087749654532,
          0.36102572938927047,
          0.3165219987324485,
          0.24651945372552303,
          0.11265808497232173,
          0.004737469017679265,
          -0.07217300433573232,
          -0.13037096019229769,
          -0.08796520227674208,
          -0.03646436976383881,
          0.029519047434142413,
          0.062453706094907864,
          0.06621072738657999,
          0.05541384794294968,
          0.034680010607510026,
          0.08538882526385645,
          0.07510522461492251,
          0.053511875081078776,
          0.07890147002512007,
          0.033367502360489805,
          -0.01863500112603551,
          -0.08958332502487353,
          -0.09741247706715073,
          -0.0656585816758241,
          0.011333604527508463,
          0.050503716167533894,
          0.02635275116388373,
          0.09044148004313432,
          0.07431804519830093,
          0.007207801528989942,
          0.021468623345776882,
          -0.02617865295212504,
          -0.0074559659763396525,
          -0.00248281307105974,
          -0.0064942508598890576,
          0.04796667903028024,
          0.0738281278427927,
          0.10870597574253694,
          0.05620831772825757,
          0.09044862401119173,
          0.09065847917986668,
          0.10094017680999515,
          0.12404419677608407,
          0.051521058254476816,
          -0.05613382762808754,
          -0.14538675706840112,
          -0.23206614407338502,
          -0.22264659377375326,
          -0.23788948561378764,
          -0.29818536829798054,
          -0.28315765571416235,
          -0.29931738579264855,
          -0.2956766237890054,
          -0.3340754231225532,
          -0.36511771735232407,
          -0.37543516256439774,
          -0.3226021967163464,
          -0.2482691862568216,
          -0.18463219934496472,
          -0.11132237978816682,
          -0.0811531252811032,
          -0.024933878901342982,
          0.05634707145865508,
          0.04775782277595349,
          -0.03294266437325668,
          -0.15223831111799618,
          -0.24847385623696866
         ],
         "y": [
          0.19151874858800275,
          0.167159675009149,
          0.13654248511433348,
          0.10331213010339647,
          0.05144746340150043,
          0.003959235582532872,
          -0.026615033955185653,
          -0.027511372067543238,
          -0.06672948895266159,
          -0.0959335327585247,
          -0.144580106128133,
          -0.16117807779721827,
          -0.14512462962105152,
          -0.1535828318560032,
          -0.18181936788087003,
          -0.21859064177381593,
          -0.2724238374246788,
          -0.314517984377613,
          -0.3465976726992843,
          -0.32198967496945635,
          -0.35638433341502546,
          -0.36029410603030887,
          -0.3530102410625051,
          -0.3084053157090299,
          -0.2830310910953786,
          -0.25022079243929246,
          -0.2141922178888714,
          -0.20318432784882284,
          -0.23755654902926604,
          -0.32197161187791284,
          -0.39007534853454,
          -0.4608887043215754,
          -0.516417428099145,
          -0.5645265820813566,
          -0.47052687450185715,
          -0.4654069398858278,
          -0.4460443219574086,
          -0.47183508589529616,
          -0.46832355454557095,
          -0.49806803727499993,
          -0.5587357004755509,
          -0.5241509721706274,
          -0.5716957201336698,
          -0.6070341187496612,
          -0.5864038239647127,
          -0.5296116962222783,
          -0.5167311911122453,
          -0.5470086291686702,
          -0.5557972050225548,
          -0.5828817156418299,
          -0.6479582579572328,
          -0.6147152579548516,
          -0.6509544962130538,
          -0.5639525759134262,
          -0.5319274043535234,
          -0.4797721815715512,
          -0.4087480918574556,
          -0.28146356270984835,
          -0.19692776392121103,
          -0.0634459854496634,
          -0.05021614101467819,
          -0.05252847927852323,
          -0.04843649153038921,
          -0.025818770809357152,
          -0.012608313481730336,
          0.020773193174903157,
          0.06500963868897566,
          0.12684923931696718,
          0.18609065064805352,
          0.19194116129483801,
          0.16248293111399434,
          0.14962764821183894,
          0.11948786089397735,
          0.1480840055669808,
          0.1209748961608027,
          0.08749472664946059,
          0.1297482510093988,
          0.16146022398047177,
          0.17499556725679558,
          0.18491043168926208,
          0.21311044132345355,
          0.25600019592458895,
          0.2609588016605612,
          0.2250811827929292,
          0.2660442481553383,
          0.28682278767919583,
          0.2633755727500487,
          0.21069281416405408,
          0.23862962146850275,
          0.27968555065312395,
          0.2784070479507839,
          0.21466463525105856,
          0.18697149114726697,
          0.21610190050473865,
          0.22741222955845306,
          0.2879842405781343,
          0.32328371647950116,
          0.3590196157406487,
          0.362633318607361,
          0.3958523107808223,
          0.4171349169816571,
          0.3782113161292341,
          0.35114026493978673,
          0.31946723656779746,
          0.2630772140257731,
          0.20870322165661856,
          0.24395663436697726,
          0.28007184642942634,
          0.2723290496844755,
          0.23160023691668583,
          0.21695909121922421,
          0.1864177107507083,
          0.19389413976719908,
          0.19594652820371233,
          0.25925904531220717,
          0.33683485396918195,
          0.3836130922555165,
          0.40717443240254175,
          0.36838783303763467,
          0.31970652291842183,
          0.2877967753869371,
          0.3200380659260991,
          0.3497363555448457,
          0.32126517066158605,
          0.26289774696883167,
          0.20148025875290715,
          0.1689209762176096,
          0.14014360459438943,
          0.14048596137204214,
          0.17482515605773966,
          0.15812294313812195,
          0.11301567348031825,
          0.07122627973147332,
          0.027994921418282456,
          -0.03368265371349805,
          -0.07241915265469917,
          -0.0700833837156885,
          -0.09188353036359177,
          -0.06560760886067882,
          -0.0030078902225443714,
          0.034422326599863724,
          0.058388991533947304,
          0.08888933873556412,
          0.054458071840095844,
          0.0694280840411958,
          -0.0076602927785831675,
          -0.06773048455490521,
          -0.07946692633666373,
          -0.05443582696095102,
          -0.015861570612182664,
          -0.021012542052180165,
          -0.0032668732233920098,
          0.05020814887159378,
          0.12040284254430385,
          0.14899202696598726,
          0.1518252869427834,
          0.1131701956186516,
          0.03455776466863135,
          -0.017613888442907556,
          -0.014071883693577253,
          -0.022832237961044773,
          -0.01682470542880713,
          -0.04324139150935912,
          -0.07223598391710317,
          -0.055581056510178,
          -0.0371851727534017,
          0.02180818397407149,
          0.0524065212292085,
          0.10934705312961429,
          0.13485943589490648,
          0.052220633046872744,
          0.0013252426952094542,
          -0.04894777428452291,
          -0.05352744521089741,
          -0.05570178753703177,
          -0.05064033875269802,
          -0.03367242590296116,
          -0.022524191725576233,
          -0.002109214116865901,
          0.035306588868155776,
          0.12375822391186139,
          0.17995174268042713,
          0.19340586938966634,
          0.18410877040955825,
          0.2110448859520411,
          0.2625135209776923,
          0.3208804867594741,
          0.34066396660595266,
          0.3050612885567608,
          0.2942564889082235,
          0.25472663574241716,
          0.2001776567375019,
          0.11613942856733928,
          0.050340706578240836,
          0.025771265161383207,
          0.03744389021160313,
          0.02109551786964372,
          0.023651475336643992,
          0.05020800986035097,
          0.07201403645365535,
          0.10357354873671079,
          0.14866858153289841
         ],
         "z": [
          -0.030434786813191183,
          -0.11078473511134884,
          -0.1636375656999172,
          -0.19494466553425008,
          -0.26499154718735574,
          -0.402743157488963,
          -0.47929876557848844,
          -0.5152873568006848,
          -0.5113305256589437,
          -0.4516074887912197,
          -0.37717917679395685,
          -0.23133234898137708,
          -0.09691813529244983,
          -0.06864227290352895,
          -0.03142587261759925,
          -0.07812450942007929,
          -0.1316354606108896,
          -0.1445393769280218,
          -0.20106871366646625,
          -0.2111870023618781,
          -0.28643575906778135,
          -0.32556198055912156,
          -0.27264620879126195,
          -0.1833803832427031,
          -0.09924293061510743,
          -0.045902126073100465,
          0.03818168895931674,
          0.12427834298395324,
          0.10350825713624312,
          0.011163069776193236,
          -0.06324736018276687,
          -0.09547412438407597,
          -0.02044418036342283,
          -0.05214906270346327,
          -0.08230282031866931,
          -0.14413171105886238,
          -0.13257056481537724,
          -0.19932961582585348,
          -0.26370704035229836,
          -0.2951352793870852,
          -0.2393940573727791,
          -0.1537691103910206,
          -0.13124608900143536,
          -0.1530811380108164,
          -0.2389408921753839,
          -0.2812065184342384,
          -0.23815437331522019,
          -0.3286529440929965,
          -0.3900863573430443,
          -0.4511258099537536,
          -0.5348021155880779,
          -0.5489395178165272,
          -0.5698027054012887,
          -0.6113525687968673,
          -0.6282526617037862,
          -0.6603701225284158,
          -0.7025379140668442,
          -0.7349624628881097,
          -0.769483617564979,
          -0.7807682039358681,
          -0.7447297072368393,
          -0.7354241275392842,
          -0.7323754007076217,
          -0.6983255862990695,
          -0.6304385305713675,
          -0.6293941033414471,
          -0.5711380587845354,
          -0.5136734097373933,
          -0.42823735557563647,
          -0.2800276449411806,
          -0.17453645470894738,
          -0.06797216821630428,
          0.019672298943086475,
          0.07128359216021658,
          0.17695265949069333,
          0.24665597705949455,
          0.2892408081415795,
          0.31380189299923317,
          0.28951049273663393,
          0.2355092526668374,
          0.19390126401006982,
          0.1854625940842411,
          0.20314005880526498,
          0.2168003246132223,
          0.24461946134603907,
          0.24883021206354047,
          0.2537338702051193,
          0.2786460198884282,
          0.3118117226655334,
          0.2977264736978232,
          0.25731867742512343,
          0.20349199780942642,
          0.19214006593265406,
          0.1991074853208358,
          0.19268885681710124,
          0.16110502936110535,
          0.18503403749418043,
          0.22131645691680005,
          0.24845531075488056,
          0.2906770349664224,
          0.2738820680183892,
          0.28090411566045315,
          0.32315330111205426,
          0.3217271268172484,
          0.2693535431125613,
          0.23441664010123975,
          0.2106597632480745,
          0.2009114407604794,
          0.1768495548924654,
          0.1582325955443294,
          0.11898134856465888,
          0.12745757697063387,
          0.09732771071621663,
          0.09499998599588866,
          0.029975556780306854,
          0.03356684205693786,
          0.0575169670725283,
          0.159771109676604,
          0.17857045052537543,
          0.19231112135883585,
          0.18886529630788096,
          0.21539361584358033,
          0.19113044625735245,
          0.11497197805546043,
          0.03446175023139149,
          -0.021075789893050173,
          -0.11804100765363167,
          -0.13189909339326866,
          -0.13811680777824709,
          -0.09402659807686076,
          -0.04330964351868464,
          -0.014234029255502047,
          0.10641272557578654,
          0.19266968311741126,
          0.2612811388480988,
          0.275099250722315,
          0.3211671197159464,
          0.3257191461096658,
          0.37659970121360525,
          0.385648608773251,
          0.3681717246531373,
          0.30993194179579014,
          0.23953108772239903,
          0.19668069683538983,
          0.140570340748035,
          0.09399371864382922,
          0.10452480304810474,
          0.11441551983966124,
          0.10291622613033131,
          0.07876171820632127,
          -0.006162871842071062,
          -0.06365817174916319,
          -0.05901220081456656,
          -0.09972067996646679,
          -0.07157415576603449,
          -0.027790015922677703,
          0.07840938272693347,
          0.14393929466246771,
          0.17099104576055937,
          0.13705421895619327,
          0.131154304541804,
          0.14974598983470458,
          0.14510746978784145,
          0.1439754378669718,
          0.17031552634696392,
          0.1266611532557568,
          0.12104370212409821,
          0.06392406632555471,
          -0.013493361886317974,
          -0.03836780002474595,
          -0.04769168090409672,
          0.01782950184952433,
          0.02873744586034719,
          0.09322118109561485,
          0.07685810232468185,
          0.11257540370200701,
          0.1849062711856744,
          0.21857183833307925,
          0.21196205926299624,
          0.21572422195364044,
          0.20765951955459852,
          0.17053737284301662,
          0.14602907205177898,
          0.1407320588647357,
          0.161578569719585,
          0.18393478220593448,
          0.2474568782014727,
          0.2709616491977989,
          0.2696012769579925,
          0.29124814416532735,
          0.26388123471537733,
          0.21930429761390288,
          0.19798637908849928,
          0.20229364027647972,
          0.2057768692588654,
          0.2549424793497751,
          0.2901071885763566,
          0.3503678542161816,
          0.4290663886901215,
          0.4838145301107791,
          0.5457653320562825,
          0.5391440432348312
         ]
        }
       ],
       "layout": {
        "height": 1000,
        "scene": {
         "domain": {
          "x": [
           0,
           0.45
          ],
          "y": [
           0,
           1
          ]
         }
        },
        "scene2": {
         "domain": {
          "x": [
           0.55,
           1
          ],
          "y": [
           0,
           1
          ]
         }
        },
        "template": {
         "data": {
          "bar": [
           {
            "error_x": {
             "color": "#2a3f5f"
            },
            "error_y": {
             "color": "#2a3f5f"
            },
            "marker": {
             "line": {
              "color": "#E5ECF6",
              "width": 0.5
             }
            },
            "type": "bar"
           }
          ],
          "barpolar": [
           {
            "marker": {
             "line": {
              "color": "#E5ECF6",
              "width": 0.5
             }
            },
            "type": "barpolar"
           }
          ],
          "carpet": [
           {
            "aaxis": {
             "endlinecolor": "#2a3f5f",
             "gridcolor": "white",
             "linecolor": "white",
             "minorgridcolor": "white",
             "startlinecolor": "#2a3f5f"
            },
            "baxis": {
             "endlinecolor": "#2a3f5f",
             "gridcolor": "white",
             "linecolor": "white",
             "minorgridcolor": "white",
             "startlinecolor": "#2a3f5f"
            },
            "type": "carpet"
           }
          ],
          "choropleth": [
           {
            "colorbar": {
             "outlinewidth": 0,
             "ticks": ""
            },
            "type": "choropleth"
           }
          ],
          "contour": [
           {
            "colorbar": {
             "outlinewidth": 0,
             "ticks": ""
            },
            "colorscale": [
             [
              0,
              "#0d0887"
             ],
             [
              0.1111111111111111,
              "#46039f"
             ],
             [
              0.2222222222222222,
              "#7201a8"
             ],
             [
              0.3333333333333333,
              "#9c179e"
             ],
             [
              0.4444444444444444,
              "#bd3786"
             ],
             [
              0.5555555555555556,
              "#d8576b"
             ],
             [
              0.6666666666666666,
              "#ed7953"
             ],
             [
              0.7777777777777778,
              "#fb9f3a"
             ],
             [
              0.8888888888888888,
              "#fdca26"
             ],
             [
              1,
              "#f0f921"
             ]
            ],
            "type": "contour"
           }
          ],
          "contourcarpet": [
           {
            "colorbar": {
             "outlinewidth": 0,
             "ticks": ""
            },
            "type": "contourcarpet"
           }
          ],
          "heatmap": [
           {
            "colorbar": {
             "outlinewidth": 0,
             "ticks": ""
            },
            "colorscale": [
             [
              0,
              "#0d0887"
             ],
             [
              0.1111111111111111,
              "#46039f"
             ],
             [
              0.2222222222222222,
              "#7201a8"
             ],
             [
              0.3333333333333333,
              "#9c179e"
             ],
             [
              0.4444444444444444,
              "#bd3786"
             ],
             [
              0.5555555555555556,
              "#d8576b"
             ],
             [
              0.6666666666666666,
              "#ed7953"
             ],
             [
              0.7777777777777778,
              "#fb9f3a"
             ],
             [
              0.8888888888888888,
              "#fdca26"
             ],
             [
              1,
              "#f0f921"
             ]
            ],
            "type": "heatmap"
           }
          ],
          "heatmapgl": [
           {
            "colorbar": {
             "outlinewidth": 0,
             "ticks": ""
            },
            "colorscale": [
             [
              0,
              "#0d0887"
             ],
             [
              0.1111111111111111,
              "#46039f"
             ],
             [
              0.2222222222222222,
              "#7201a8"
             ],
             [
              0.3333333333333333,
              "#9c179e"
             ],
             [
              0.4444444444444444,
              "#bd3786"
             ],
             [
              0.5555555555555556,
              "#d8576b"
             ],
             [
              0.6666666666666666,
              "#ed7953"
             ],
             [
              0.7777777777777778,
              "#fb9f3a"
             ],
             [
              0.8888888888888888,
              "#fdca26"
             ],
             [
              1,
              "#f0f921"
             ]
            ],
            "type": "heatmapgl"
           }
          ],
          "histogram": [
           {
            "marker": {
             "colorbar": {
              "outlinewidth": 0,
              "ticks": ""
             }
            },
            "type": "histogram"
           }
          ],
          "histogram2d": [
           {
            "colorbar": {
             "outlinewidth": 0,
             "ticks": ""
            },
            "colorscale": [
             [
              0,
              "#0d0887"
             ],
             [
              0.1111111111111111,
              "#46039f"
             ],
             [
              0.2222222222222222,
              "#7201a8"
             ],
             [
              0.3333333333333333,
              "#9c179e"
             ],
             [
              0.4444444444444444,
              "#bd3786"
             ],
             [
              0.5555555555555556,
              "#d8576b"
             ],
             [
              0.6666666666666666,
              "#ed7953"
             ],
             [
              0.7777777777777778,
              "#fb9f3a"
             ],
             [
              0.8888888888888888,
              "#fdca26"
             ],
             [
              1,
              "#f0f921"
             ]
            ],
            "type": "histogram2d"
           }
          ],
          "histogram2dcontour": [
           {
            "colorbar": {
             "outlinewidth": 0,
             "ticks": ""
            },
            "colorscale": [
             [
              0,
              "#0d0887"
             ],
             [
              0.1111111111111111,
              "#46039f"
             ],
             [
              0.2222222222222222,
              "#7201a8"
             ],
             [
              0.3333333333333333,
              "#9c179e"
             ],
             [
              0.4444444444444444,
              "#bd3786"
             ],
             [
              0.5555555555555556,
              "#d8576b"
             ],
             [
              0.6666666666666666,
              "#ed7953"
             ],
             [
              0.7777777777777778,
              "#fb9f3a"
             ],
             [
              0.8888888888888888,
              "#fdca26"
             ],
             [
              1,
              "#f0f921"
             ]
            ],
            "type": "histogram2dcontour"
           }
          ],
          "mesh3d": [
           {
            "colorbar": {
             "outlinewidth": 0,
             "ticks": ""
            },
            "type": "mesh3d"
           }
          ],
          "parcoords": [
           {
            "line": {
             "colorbar": {
              "outlinewidth": 0,
              "ticks": ""
             }
            },
            "type": "parcoords"
           }
          ],
          "pie": [
           {
            "automargin": true,
            "type": "pie"
           }
          ],
          "scatter": [
           {
            "marker": {
             "colorbar": {
              "outlinewidth": 0,
              "ticks": ""
             }
            },
            "type": "scatter"
           }
          ],
          "scatter3d": [
           {
            "line": {
             "colorbar": {
              "outlinewidth": 0,
              "ticks": ""
             }
            },
            "marker": {
             "colorbar": {
              "outlinewidth": 0,
              "ticks": ""
             }
            },
            "type": "scatter3d"
           }
          ],
          "scattercarpet": [
           {
            "marker": {
             "colorbar": {
              "outlinewidth": 0,
              "ticks": ""
             }
            },
            "type": "scattercarpet"
           }
          ],
          "scattergeo": [
           {
            "marker": {
             "colorbar": {
              "outlinewidth": 0,
              "ticks": ""
             }
            },
            "type": "scattergeo"
           }
          ],
          "scattergl": [
           {
            "marker": {
             "colorbar": {
              "outlinewidth": 0,
              "ticks": ""
             }
            },
            "type": "scattergl"
           }
          ],
          "scattermapbox": [
           {
            "marker": {
             "colorbar": {
              "outlinewidth": 0,
              "ticks": ""
             }
            },
            "type": "scattermapbox"
           }
          ],
          "scatterpolar": [
           {
            "marker": {
             "colorbar": {
              "outlinewidth": 0,
              "ticks": ""
             }
            },
            "type": "scatterpolar"
           }
          ],
          "scatterpolargl": [
           {
            "marker": {
             "colorbar": {
              "outlinewidth": 0,
              "ticks": ""
             }
            },
            "type": "scatterpolargl"
           }
          ],
          "scatterternary": [
           {
            "marker": {
             "colorbar": {
              "outlinewidth": 0,
              "ticks": ""
             }
            },
            "type": "scatterternary"
           }
          ],
          "surface": [
           {
            "colorbar": {
             "outlinewidth": 0,
             "ticks": ""
            },
            "colorscale": [
             [
              0,
              "#0d0887"
             ],
             [
              0.1111111111111111,
              "#46039f"
             ],
             [
              0.2222222222222222,
              "#7201a8"
             ],
             [
              0.3333333333333333,
              "#9c179e"
             ],
             [
              0.4444444444444444,
              "#bd3786"
             ],
             [
              0.5555555555555556,
              "#d8576b"
             ],
             [
              0.6666666666666666,
              "#ed7953"
             ],
             [
              0.7777777777777778,
              "#fb9f3a"
             ],
             [
              0.8888888888888888,
              "#fdca26"
             ],
             [
              1,
              "#f0f921"
             ]
            ],
            "type": "surface"
           }
          ],
          "table": [
           {
            "cells": {
             "fill": {
              "color": "#EBF0F8"
             },
             "line": {
              "color": "white"
             }
            },
            "header": {
             "fill": {
              "color": "#C8D4E3"
             },
             "line": {
              "color": "white"
             }
            },
            "type": "table"
           }
          ]
         },
         "layout": {
          "annotationdefaults": {
           "arrowcolor": "#2a3f5f",
           "arrowhead": 0,
           "arrowwidth": 1
          },
          "autotypenumbers": "strict",
          "coloraxis": {
           "colorbar": {
            "outlinewidth": 0,
            "ticks": ""
           }
          },
          "colorscale": {
           "diverging": [
            [
             0,
             "#8e0152"
            ],
            [
             0.1,
             "#c51b7d"
            ],
            [
             0.2,
             "#de77ae"
            ],
            [
             0.3,
             "#f1b6da"
            ],
            [
             0.4,
             "#fde0ef"
            ],
            [
             0.5,
             "#f7f7f7"
            ],
            [
             0.6,
             "#e6f5d0"
            ],
            [
             0.7,
             "#b8e186"
            ],
            [
             0.8,
             "#7fbc41"
            ],
            [
             0.9,
             "#4d9221"
            ],
            [
             1,
             "#276419"
            ]
           ],
           "sequential": [
            [
             0,
             "#0d0887"
            ],
            [
             0.1111111111111111,
             "#46039f"
            ],
            [
             0.2222222222222222,
             "#7201a8"
            ],
            [
             0.3333333333333333,
             "#9c179e"
            ],
            [
             0.4444444444444444,
             "#bd3786"
            ],
            [
             0.5555555555555556,
             "#d8576b"
            ],
            [
             0.6666666666666666,
             "#ed7953"
            ],
            [
             0.7777777777777778,
             "#fb9f3a"
            ],
            [
             0.8888888888888888,
             "#fdca26"
            ],
            [
             1,
             "#f0f921"
            ]
           ],
           "sequentialminus": [
            [
             0,
             "#0d0887"
            ],
            [
             0.1111111111111111,
             "#46039f"
            ],
            [
             0.2222222222222222,
             "#7201a8"
            ],
            [
             0.3333333333333333,
             "#9c179e"
            ],
            [
             0.4444444444444444,
             "#bd3786"
            ],
            [
             0.5555555555555556,
             "#d8576b"
            ],
            [
             0.6666666666666666,
             "#ed7953"
            ],
            [
             0.7777777777777778,
             "#fb9f3a"
            ],
            [
             0.8888888888888888,
             "#fdca26"
            ],
            [
             1,
             "#f0f921"
            ]
           ]
          },
          "colorway": [
           "#636efa",
           "#EF553B",
           "#00cc96",
           "#ab63fa",
           "#FFA15A",
           "#19d3f3",
           "#FF6692",
           "#B6E880",
           "#FF97FF",
           "#FECB52"
          ],
          "font": {
           "color": "#2a3f5f"
          },
          "geo": {
           "bgcolor": "white",
           "lakecolor": "white",
           "landcolor": "#E5ECF6",
           "showlakes": true,
           "showland": true,
           "subunitcolor": "white"
          },
          "hoverlabel": {
           "align": "left"
          },
          "hovermode": "closest",
          "mapbox": {
           "style": "light"
          },
          "paper_bgcolor": "white",
          "plot_bgcolor": "#E5ECF6",
          "polar": {
           "angularaxis": {
            "gridcolor": "white",
            "linecolor": "white",
            "ticks": ""
           },
           "bgcolor": "#E5ECF6",
           "radialaxis": {
            "gridcolor": "white",
            "linecolor": "white",
            "ticks": ""
           }
          },
          "scene": {
           "xaxis": {
            "backgroundcolor": "#E5ECF6",
            "gridcolor": "white",
            "gridwidth": 2,
            "linecolor": "white",
            "showbackground": true,
            "ticks": "",
            "zerolinecolor": "white"
           },
           "yaxis": {
            "backgroundcolor": "#E5ECF6",
            "gridcolor": "white",
            "gridwidth": 2,
            "linecolor": "white",
            "showbackground": true,
            "ticks": "",
            "zerolinecolor": "white"
           },
           "zaxis": {
            "backgroundcolor": "#E5ECF6",
            "gridcolor": "white",
            "gridwidth": 2,
            "linecolor": "white",
            "showbackground": true,
            "ticks": "",
            "zerolinecolor": "white"
           }
          },
          "shapedefaults": {
           "line": {
            "color": "#2a3f5f"
           }
          },
          "ternary": {
           "aaxis": {
            "gridcolor": "white",
            "linecolor": "white",
            "ticks": ""
           },
           "baxis": {
            "gridcolor": "white",
            "linecolor": "white",
            "ticks": ""
           },
           "bgcolor": "#E5ECF6",
           "caxis": {
            "gridcolor": "white",
            "linecolor": "white",
            "ticks": ""
           }
          },
          "title": {
           "x": 0.05
          },
          "xaxis": {
           "automargin": true,
           "gridcolor": "white",
           "linecolor": "white",
           "ticks": "",
           "title": {
            "standoff": 15
           },
           "zerolinecolor": "white",
           "zerolinewidth": 2
          },
          "yaxis": {
           "automargin": true,
           "gridcolor": "white",
           "linecolor": "white",
           "ticks": "",
           "title": {
            "standoff": 15
           },
           "zerolinecolor": "white",
           "zerolinewidth": 2
          }
         }
        },
        "width": 1300
       }
      }
     },
     "metadata": {},
     "output_type": "display_data"
    },
    {
     "name": "stdout",
     "output_type": "stream",
     "text": [
      "Kabsch distance is 0.10004350321807871\n"
     ]
    },
    {
     "data": {
      "text/plain": [
       "<Figure size 50000x50000 with 0 Axes>"
      ]
     },
     "metadata": {},
     "output_type": "display_data"
    }
   ],
   "source": [
    "test_true_structure = test_true_structures[GRAPH_TESTED]\n",
    "test_pred_structure = test_pred_structures[GRAPH_TESTED]\n",
    "\n",
    "test_pred_structure_superposed, test_true_structure_superposed = \\\n",
    "        kabsch_superimposition_numpy(test_pred_structure, test_true_structure, EMBEDDING_SIZE)\n",
    "\n",
    "x_pred = test_pred_structure_superposed[:, 0]  \n",
    "y_pred = test_pred_structure_superposed[:, 1]\n",
    "z_pred = test_pred_structure_superposed[:, 2]\n",
    "\n",
    "x_true = test_true_structure_superposed[:, 0]  \n",
    "y_true = test_true_structure_superposed[:, 1]\n",
    "z_true = test_true_structure_superposed[:, 2]\n",
    "\n",
    "colorscale1 = np.asarray(range(len(x_true)))\n",
    "colorscale2 = np.asarray(range(len(x_pred)))\n",
    "color1 = 'Viridis'\n",
    "color2 = 'Viridis'\n",
    "\n",
    "plot_true_pred_structures(x_pred, y_pred, z_pred, x_true, y_true, z_true, colorscale1, colorscale2, color1, color2)\n",
    "\n",
    "# Shape comparison\n",
    "print('Kabsch distance is ' + str(kabsch_distance_numpy(test_pred_structure, test_true_structure, EMBEDDING_SIZE)))\n",
    "\n"
   ]
  },
  {
   "cell_type": "code",
   "execution_count": 16,
   "metadata": {},
   "outputs": [
    {
     "data": {
      "application/vnd.plotly.v1+json": {
       "config": {
        "plotlyServerURL": "https://plot.ly"
       },
       "data": [
        {
         "line": {
          "color": "darkblue",
          "width": 2
         },
         "marker": {
          "color": [
           0,
           1,
           2,
           3,
           4,
           5,
           6,
           7,
           8,
           9,
           10,
           11,
           12,
           13,
           14,
           15,
           16,
           17,
           18,
           19,
           20,
           21,
           22,
           23,
           24,
           25,
           26,
           27,
           28,
           29,
           30,
           31,
           32,
           33,
           34,
           35,
           36,
           37,
           38,
           39,
           40,
           41,
           42,
           43,
           44,
           45,
           46,
           47,
           48,
           49,
           50,
           51,
           52,
           53,
           54,
           55,
           56,
           57,
           58,
           59,
           60,
           61,
           62,
           63,
           64,
           65,
           66,
           67,
           68,
           69,
           70,
           71,
           72,
           73,
           74,
           75,
           76,
           77,
           78,
           79,
           80,
           81,
           82,
           83,
           84,
           85,
           86,
           87,
           88,
           89,
           90,
           91,
           92,
           93,
           94,
           95,
           96,
           97,
           98,
           99,
           100,
           101,
           102,
           103,
           104,
           105,
           106,
           107,
           108,
           109,
           110,
           111,
           112,
           113,
           114,
           115,
           116,
           117,
           118,
           119,
           120,
           121,
           122,
           123,
           124,
           125,
           126,
           127,
           128,
           129,
           130,
           131,
           132,
           133,
           134,
           135,
           136,
           137,
           138,
           139,
           140,
           141,
           142,
           143,
           144,
           145,
           146,
           147,
           148,
           149,
           150,
           151,
           152,
           153,
           154,
           155,
           156,
           157,
           158,
           159,
           160,
           161,
           162,
           163,
           164,
           165,
           166,
           167,
           168,
           169,
           170,
           171,
           172,
           173,
           174,
           175,
           176,
           177,
           178,
           179,
           180,
           181,
           182,
           183,
           184,
           185,
           186,
           187,
           188,
           189,
           190,
           191,
           192,
           193,
           194,
           195,
           196,
           197,
           198,
           199,
           200,
           201
          ],
          "colorscale": [
           [
            0,
            "#440154"
           ],
           [
            0.1111111111111111,
            "#482878"
           ],
           [
            0.2222222222222222,
            "#3e4989"
           ],
           [
            0.3333333333333333,
            "#31688e"
           ],
           [
            0.4444444444444444,
            "#26828e"
           ],
           [
            0.5555555555555556,
            "#1f9e89"
           ],
           [
            0.6666666666666666,
            "#35b779"
           ],
           [
            0.7777777777777778,
            "#6ece58"
           ],
           [
            0.8888888888888888,
            "#b5de2b"
           ],
           [
            1,
            "#fde725"
           ]
          ],
          "size": 4
         },
         "scene": "scene",
         "type": "scatter3d",
         "x": [
          -0.2440069615840912,
          -0.24971476197242737,
          -0.22575637698173523,
          -0.15791219472885132,
          -0.08745020627975464,
          -0.049672577530145645,
          0.0048335217870771885,
          0.07794509828090668,
          0.16472990810871124,
          0.19864165782928467,
          0.21473927795886993,
          0.20827771723270416,
          0.14475859701633453,
          0.1551104038953781,
          0.1762247532606125,
          0.22440983355045319,
          0.30880722403526306,
          0.36295080184936523,
          0.4123528003692627,
          0.3459973633289337,
          0.37527990341186523,
          0.3458091616630554,
          0.27922630310058594,
          0.1936168223619461,
          0.19977793097496033,
          0.2006254345178604,
          0.14676856994628906,
          0.14506903290748596,
          0.2144513577222824,
          0.2916596233844757,
          0.3860745131969452,
          0.47437942028045654,
          0.506697416305542,
          0.5739186406135559,
          0.5790305137634277,
          0.5807982087135315,
          0.5265365839004517,
          0.526723325252533,
          0.5156735777854919,
          0.5548375248908997,
          0.6204276084899902,
          0.6039999723434448,
          0.6261360049247742,
          0.5974709391593933,
          0.5731455087661743,
          0.5110703110694885,
          0.4483693540096283,
          0.4527043402194977,
          0.4617798626422882,
          0.5348901152610779,
          0.5697596073150635,
          0.5401798486709595,
          0.5976337194442749,
          0.592781126499176,
          0.5699869394302368,
          0.5085241794586182,
          0.4386388659477234,
          0.41428476572036743,
          0.35188519954681396,
          0.30985668301582336,
          0.22810623049736023,
          0.18999913334846497,
          0.129010871052742,
          0.03734329715371132,
          -0.03208591416478157,
          -0.1267559975385666,
          -0.19279946386814117,
          -0.2609157860279083,
          -0.26877954602241516,
          -0.28324568271636963,
          -0.23603588342666626,
          -0.24178695678710938,
          -0.24487696588039398,
          -0.30190324783325195,
          -0.32476457953453064,
          -0.3164939880371094,
          -0.35793542861938477,
          -0.3601352870464325,
          -0.29100146889686584,
          -0.20453687012195587,
          -0.13703635334968567,
          -0.11197444051504135,
          -0.0772058442234993,
          -0.10006636381149292,
          -0.16155819594860077,
          -0.2164326161146164,
          -0.2933965027332306,
          -0.2784481644630432,
          -0.3106202781200409,
          -0.27931416034698486,
          -0.223647803068161,
          -0.14922212064266205,
          -0.09181984513998032,
          -0.036574676632881165,
          0.05599220097064972,
          0.11640752851963043,
          0.09570477157831192,
          0.021028202027082443,
          -0.06065317615866661,
          -0.13030554354190826,
          -0.20348311960697174,
          -0.2671099007129669,
          -0.3563912510871887,
          -0.37310904264450073,
          -0.33926478028297424,
          -0.2815711796283722,
          -0.20161055028438568,
          -0.16136164963245392,
          -0.07828834652900696,
          -0.021052978932857513,
          0.06852812319993973,
          0.06896185129880905,
          0.11924310028553009,
          0.10204870253801346,
          0.1236826702952385,
          0.10976966470479965,
          0.07247344404459,
          -0.015056595206260681,
          -0.09458232671022415,
          -0.16535194218158722,
          -0.23915058374404907,
          -0.33015719056129456,
          -0.3898787498474121,
          -0.37859952449798584,
          -0.3249819278717041,
          -0.3202285170555115,
          -0.2969417870044708,
          -0.22935791313648224,
          -0.21614058315753937,
          -0.25661301612854004,
          -0.24895864725112915,
          -0.25039032101631165,
          -0.27420639991760254,
          -0.27032002806663513,
          -0.25228187441825867,
          -0.20092879235744476,
          -0.18835845589637756,
          -0.12387977540493011,
          -0.12169896811246872,
          -0.15629711747169495,
          -0.196954607963562,
          -0.15700657665729523,
          -0.10517062246799469,
          -0.034681688994169235,
          0.05168091133236885,
          0.09526681900024414,
          0.0730351135134697,
          0.01673946902155876,
          -0.018497390672564507,
          -0.025971433147788048,
          0.030683284625411034,
          -0.01165764220058918,
          -0.0976959764957428,
          -0.15843847393989563,
          -0.23933444917201996,
          -0.2876540720462799,
          -0.2660023868083954,
          -0.18561077117919922,
          -0.09532317519187927,
          -0.014288298785686493,
          0.05981160327792168,
          0.05161355808377266,
          0.06261870265007019,
          0.00042777517228387296,
          -0.07212924212217331,
          -0.09554090350866318,
          -0.15002486109733582,
          -0.12774935364723206,
          -0.13923941552639008,
          -0.07722966372966766,
          -0.0008640228770673275,
          0.012974477373063564,
          0.053210169076919556,
          -0.022424474358558655,
          -0.027131035923957825,
          -0.06741970777511597,
          -0.08915457874536514,
          -0.058439891785383224,
          -0.0292416550219059,
          -0.06148373708128929,
          -0.08647967129945755,
          -0.07845959067344666,
          -0.003578397212550044,
          -0.0011906226864084601,
          -0.04533222317695618,
          -0.08749114722013474,
          -0.14504940807819366,
          -0.24008841812610626,
          -0.30643126368522644,
          -0.36314743757247925,
          -0.3419414758682251,
          -0.3178386688232422,
          -0.2596273720264435,
          -0.1952095478773117,
          -0.20859575271606445,
          -0.23549069464206696,
          -0.2040622979402542,
          -0.23113591969013214,
          -0.29467952251434326,
          -0.30961355566978455,
          -0.3635134696960449,
          -0.4108564853668213
         ],
         "y": [
          0.19168901443481445,
          0.17784342169761658,
          0.11383163183927536,
          0.048972681164741516,
          0.002955951262265444,
          0.020369021221995354,
          0.08392370492219925,
          0.14576272666454315,
          0.13743016123771667,
          0.14299708604812622,
          0.07577991485595703,
          0.07723163813352585,
          0.03103642538189888,
          -0.037103645503520966,
          -0.08922620862722397,
          -0.16981756687164307,
          -0.19968628883361816,
          -0.2695968747138977,
          -0.3356565833091736,
          -0.3655443489551544,
          -0.41215047240257263,
          -0.48940134048461914,
          -0.5527621507644653,
          -0.513069748878479,
          -0.45653036236763,
          -0.3691910207271576,
          -0.2986518442630768,
          -0.3036558926105499,
          -0.33513426780700684,
          -0.3516119420528412,
          -0.3491452932357788,
          -0.3536005914211273,
          -0.4053707420825958,
          -0.3438405692577362,
          -0.25534161925315857,
          -0.1605498492717743,
          -0.09760908037424088,
          -0.09711191058158875,
          -0.10093432664871216,
          -0.16686198115348816,
          -0.22231478989124298,
          -0.2461048662662506,
          -0.25964006781578064,
          -0.3410291075706482,
          -0.40355730056762695,
          -0.4249676465988159,
          -0.496275931596756,
          -0.5093390345573425,
          -0.4548754096031189,
          -0.4062129259109497,
          -0.4153105914592743,
          -0.46503451466560364,
          -0.5043685436248779,
          -0.5523815155029297,
          -0.5359948873519897,
          -0.46932268142700195,
          -0.4127455949783325,
          -0.3268297612667084,
          -0.2617104649543762,
          -0.17875945568084717,
          -0.12883979082107544,
          -0.041631948202848434,
          0.025690004229545593,
          0.05242491513490677,
          0.024578075855970383,
          0.03009289875626564,
          -0.015888812020421028,
          0.008846122771501541,
          0.0837835967540741,
          0.11358384042978287,
          0.1183944121003151,
          0.09398678690195084,
          0.041646040976047516,
          -0.017940081655979156,
          -0.018910428509116173,
          -0.010914173908531666,
          0.023710360750555992,
          0.08176519721746445,
          0.09060442447662354,
          0.11161601543426514,
          0.17798878252506256,
          0.2688015401363373,
          0.34935644268989563,
          0.37702298164367676,
          0.4418562948703766,
          0.4726296663284302,
          0.41646188497543335,
          0.34279561042785645,
          0.3685038387775421,
          0.34201085567474365,
          0.27143606543540955,
          0.25053998827934265,
          0.1746625006198883,
          0.1304401159286499,
          0.11198494583368301,
          0.12997430562973022,
          0.22345413267612457,
          0.28053200244903564,
          0.24367111921310425,
          0.1990673542022705,
          0.23769953846931458,
          0.2610713839530945,
          0.29265904426574707,
          0.2828039824962616,
          0.24332955479621887,
          0.23819565773010254,
          0.23982208967208862,
          0.2046283781528473,
          0.15772299468517303,
          0.08740154653787613,
          0.09057274460792542,
          0.15512730181217194,
          0.22206750512123108,
          0.29730960726737976,
          0.3767125904560089,
          0.46901029348373413,
          0.5556067228317261,
          0.5917201638221741,
          0.5631625652313232,
          0.5102400779724121,
          0.46377110481262207,
          0.44843170046806335,
          0.4066081643104553,
          0.35230085253715515,
          0.3039388954639435,
          0.2236996442079544,
          0.16670410335063934,
          0.10180105268955231,
          0.007012738846242428,
          -0.06558385491371155,
          -0.1524801105260849,
          -0.24718734622001648,
          -0.31383687257766724,
          -0.3376167118549347,
          -0.41265368461608887,
          -0.4489835500717163,
          -0.4502987265586853,
          -0.4129818081855774,
          -0.36640822887420654,
          -0.2797297239303589,
          -0.19352737069129944,
          -0.10657953470945358,
          -0.026130078360438347,
          -0.007916344329714775,
          0.03119245171546936,
          0.046226102858781815,
          0.018266014754772186,
          -0.010814464651048183,
          0.04309159517288208,
          0.13302023708820343,
          0.13432294130325317,
          0.07061763852834702,
          0.03192177414894104,
          -0.04196920618414879,
          0.005630670115351677,
          0.07692421227693558,
          0.08470948040485382,
          0.06920666992664337,
          0.07057812809944153,
          0.11536835134029388,
          0.08394233882427216,
          0.02258063293993473,
          -0.06783013045787811,
          -0.11240260303020477,
          -0.06336569041013718,
          -0.012137558311223984,
          0.06458688527345657,
          0.14464308321475983,
          0.21618115901947021,
          0.2890602946281433,
          0.23177997767925262,
          0.15140609443187714,
          0.07697570323944092,
          0.03850044682621956,
          -0.05636913701891899,
          -0.1287575662136078,
          -0.19284862279891968,
          -0.20727597177028656,
          -0.11712976545095444,
          -0.027508631348609924,
          0.030790813267230988,
          0.12545736134052277,
          0.18226851522922516,
          0.24982790648937225,
          0.33323171734809875,
          0.4071089029312134,
          0.4815329313278198,
          0.49291151762008667,
          0.4250892996788025,
          0.3532954454421997,
          0.259931743144989,
          0.1742154061794281,
          0.12632441520690918,
          0.05542750284075737,
          -0.03351946175098419,
          -0.11432790756225586,
          -0.16092632710933685,
          -0.2481435090303421,
          -0.2774522602558136,
          -0.2387569099664688,
          -0.18637356162071228,
          -0.10313349217176437
         ],
         "z": [
          -0.17582425475120544,
          -0.27045732736587524,
          -0.33760035037994385,
          -0.3568403720855713,
          -0.4026362895965576,
          -0.48894578218460083,
          -0.5355245471000671,
          -0.5387386083602905,
          -0.4990062713623047,
          -0.4095708131790161,
          -0.34322014451026917,
          -0.247638538479805,
          -0.19276580214500427,
          -0.12621155381202698,
          -0.048641469329595566,
          -0.029590830206871033,
          0.004535940010100603,
          0.04142335429787636,
          -0.007313198409974575,
          -0.06962992250919342,
          -0.14805249869823456,
          -0.19646191596984863,
          -0.1694096028804779,
          -0.1528196632862091,
          -0.07571560889482498,
          -0.03633521497249603,
          -0.000233115439186804,
          0.09543175250291824,
          0.15352565050125122,
          0.09923876821994781,
          0.08313163369894028,
          0.12003817409276962,
          0.19389678537845612,
          0.22347790002822876,
          0.18712542951107025,
          0.17330187559127808,
          0.1256171613931656,
          0.029807906597852707,
          -0.06528672575950623,
          -0.12272732704877853,
          -0.08026992529630661,
          0.011074814945459366,
          0.10330545157194138,
          0.14494477212429047,
          0.07654746621847153,
          0.006776688154786825,
          -0.006006778217852116,
          -0.10082376003265381,
          -0.17912475764751434,
          -0.2174203097820282,
          -0.30619558691978455,
          -0.38256487250328064,
          -0.44837960600852966,
          -0.5311497449874878,
          -0.6227554678916931,
          -0.6536883115768433,
          -0.6867756843566895,
          -0.652061939239502,
          -0.6843956708908081,
          -0.7074701189994812,
          -0.709612250328064,
          -0.7206727862358093,
          -0.7511339783668518,
          -0.7432602643966675,
          -0.6833950877189636,
          -0.6970647573471069,
          -0.6450682282447815,
          -0.5823940634727478,
          -0.5232144594192505,
          -0.43331244587898254,
          -0.35007911920547485,
          -0.2576080858707428,
          -0.1774170994758606,
          -0.12866061925888062,
          -0.035622380673885345,
          0.059495195746421814,
          0.13863711059093475,
          0.21482433378696442,
          0.28056684136390686,
          0.31609266996383667,
          0.33085861802101135,
          0.3483124375343323,
          0.30981898307800293,
          0.22098399698734283,
          0.18641388416290283,
          0.11415398120880127,
          0.10408245027065277,
          0.16349223256111145,
          0.25000080466270447,
          0.33659034967422485,
          0.36975884437561035,
          0.3131561279296875,
          0.3244379758834839,
          0.3890293836593628,
          0.40547552704811096,
          0.477628618478775,
          0.48118025064468384,
          0.49976035952568054,
          0.5336591005325317,
          0.5820196866989136,
          0.630313515663147,
          0.5626002550125122,
          0.5480828881263733,
          0.4542580842971802,
          0.37378427386283875,
          0.297463983297348,
          0.3502214848995209,
          0.4297269582748413,
          0.43858179450035095,
          0.40761885046958923,
          0.3737829923629761,
          0.3029859662055969,
          0.2563973069190979,
          0.19962874054908752,
          0.15056927502155304,
          0.12895312905311584,
          0.11193108558654785,
          0.12656007707118988,
          0.17172440886497498,
          0.13470326364040375,
          0.09502843022346497,
          0.069295234978199,
          0.007135577499866486,
          -0.07098735868930817,
          -0.13396328687667847,
          -0.18610502779483795,
          -0.25951439142227173,
          -0.2795071005821228,
          -0.28399866819381714,
          -0.23633931577205658,
          -0.19671423733234406,
          -0.21114285290241241,
          -0.14656472206115723,
          -0.05383333936333656,
          0.002944953739643097,
          0.07521320879459381,
          0.17018663883209229,
          0.23043318092823029,
          0.31413406133651733,
          0.33580201864242554,
          0.3260132372379303,
          0.32112208008766174,
          0.316581666469574,
          0.2542979121208191,
          0.240452378988266,
          0.15646454691886902,
          0.06756190210580826,
          -0.004304792732000351,
          -0.07524276524782181,
          -0.10744020342826843,
          -0.18469460308551788,
          -0.24238842725753784,
          -0.22566328942775726,
          -0.23115582764148712,
          -0.2119259089231491,
          -0.16994807124137878,
          -0.07694113254547119,
          -0.02717619389295578,
          0.004854514729231596,
          -0.019780410453677177,
          0.03219367936253548,
          0.10531842708587646,
          0.13505858182907104,
          0.07739334553480148,
          0.0385274812579155,
          -0.03897909075021744,
          -0.056994471698999405,
          -0.10468623042106628,
          -0.16737577319145203,
          -0.17218373715877533,
          -0.18036584556102753,
          -0.1300843507051468,
          -0.08512987941503525,
          -0.04064672067761421,
          -0.028104539960622787,
          0.02002480998635292,
          0.08784536272287369,
          0.17744533717632294,
          0.19161638617515564,
          0.1812146008014679,
          0.25302040576934814,
          0.26541468501091003,
          0.24684065580368042,
          0.17894570529460907,
          0.16236214339733124,
          0.11826586723327637,
          0.13637137413024902,
          0.13215093314647675,
          0.1455102562904358,
          0.173946350812912,
          0.1775825321674347,
          0.1422065943479538,
          0.08306614309549332,
          0.0849815234541893,
          0.051982391625642776,
          0.09587262570858002,
          0.17346476018428802,
          0.20244543254375458,
          0.2678893208503723,
          0.354256808757782,
          0.41367465257644653,
          0.41674453020095825
         ]
        },
        {
         "line": {
          "color": "darkblue",
          "width": 2
         },
         "marker": {
          "color": [
           0.47513374179796924,
           0.5394539414231269,
           0.4500108931403014,
           -0.0018063866897228128,
           -1.8372186059794946,
           0.015137600157635335,
           0.3393496017271678,
           0.3983179239410762,
           0.40422231039301115,
           0.29869967499595246,
           -0.0631716462234623,
           -0.09516507697983043,
           -0.7271635309789013,
           -0.22233200848233062,
           0.6717184635389986,
           0.32732000649088494,
           -2.3172156792977,
           -0.4731269729054174,
           -2.1866212595279597,
           0.3237685999904073,
           0.9654879144904721,
           1.077051961871337,
           0.7174117098075576,
           0.4432824631770803,
           0.48910822341401194,
           0.7628733090508478,
           -4.014786782980572,
           0.5244027320831202,
           0.9179773223128093,
           0.8617963742199429,
           0.41632829898763885,
           0.24155122332344792,
           0.6223418369421064,
           0.25818233906041466,
           0.09921510450180249,
           -0.33449770508517557,
           -0.7197074812000419,
           -1.3851350448161464,
           -0.8723893688646326,
           -0.25899079945699105,
           -0.3014582598863898,
           -1.709885848803541,
           -0.2929007128708567,
           -0.09758450035537435,
           -0.512613910295823,
           -2.6650926785443163,
           -2.5626652531760667,
           0.1652325244840481,
           0.5749310469673906,
           0.4427019702496753,
           0.5902413820757507,
           1.110049062655779,
           1.3408424027962906,
           2.545051371765859,
           4.025502740326854,
           4.10675061357081,
           2.8571196352927144,
           2.4174605013044683,
           1.968186235525392,
           1.2287960129014202,
           1.4127538936940478,
           1.5041713115019308,
           -0.14401513924735682,
           0.2792915780789241,
           -0.19199686539602046,
           0.5246932687213696,
           -0.7671569654879381,
           -1.5932157558759126,
           0.1451807424547633,
           0.2934971726620429,
           0.3609539909231295,
           0.17688088972047114,
           -0.3165674564380523,
           -1.3712185186837715,
           -1.5418731543919584,
           -1.4295621428543148,
           -0.6550470680192366,
           0.7043792187319953,
           1.01537337416887,
           0.7829572983581362,
           0.39690572959709275,
           -0.029152272868121557,
           -0.5075005705222481,
           -0.0014197367577330844,
           0.5017097415348974,
           0.44710512309680706,
           0.4939744246705743,
           0.8187059641695659,
           1.1665039182082726,
           1.156221766110793,
           0.8098843367992299,
           0.33667709814120717,
           0.06922463220246415,
           -0.9511871011693931,
           -0.8445504466157189,
           -0.6569487815696952,
           -0.7583878038696106,
           -2.0832376909998302,
           -1.0364193924919667,
           -0.35459471006785037,
           -0.059168437498217326,
           0.37285225345929335,
           0.8085595587844302,
           1.2225170112815291,
           1.2864993222453711,
           1.2272836350910377,
           0.7045473868900944,
           0.19997766763162603,
           -0.39878173969980313,
           -1.3302181504129929,
           -0.5800595800747848,
           -0.4281812594478678,
           -0.20495084848317793,
           -0.40758786579688727,
           -0.4326552936544055,
           -0.5788062527674054,
           -0.8988041632086283,
           -2.1057050873486665,
           -0.06869932929994943,
           0.529771154265407,
           0.6095472481803497,
           0.16471659392864452,
           -2.171952672314417,
           -0.10602281796218892,
           0.313281365902814,
           0.46249333759544153,
           0.6705965670073678,
           0.392334773157543,
           -1.9389987481698165,
           -0.6364034538309353,
           -0.3918738810774313,
           -0.38631695081666806,
           -0.5317675182346452,
           -0.9642547474921941,
           -3.4131542349664166,
           -0.7468962331859735,
           -0.43786863358400613,
           -0.4587096686299547,
           -0.29897894985807344,
           0.04832158976513331,
           0.2522133154557589,
           0.34577744682299444,
           -0.4875156974641359,
           -1.1675294159715284,
           -0.10937960199154075,
           0.2854081709096323,
           -0.5877836057707541,
           -2.509117014937935,
           -1.0562628821560405,
           -0.5476647353115128,
           -0.26389521759385,
           -1.1234357168903173,
           0.04811141000505071,
           -0.682327504900329,
           -2.2068992685079727,
           0.08868685626242033,
           -0.006077050884392224,
           -0.8854683924588879,
           -2.478884764947813,
           -1.2849966663416066,
           -0.40580591403356464,
           0.12165673590651223,
           1.2250498682430848,
           -4.060151054884175,
           -0.4368358500860727,
           -0.9213201118730052,
           -0.4299685935901376,
           -0.0613914516214351,
           0.22492036180132574,
           0.29816571802855274,
           -2.9622754626957617,
           -0.8210369707396173,
           -0.29177685788663515,
           -1.1195381779037081,
           -0.9908204879098547,
           -0.9260013706941327,
           -0.30318474055378386,
           -0.34729368614955264,
           -0.24948113562692537,
           0.15824508369690896,
           -0.2571629237130789,
           0.0871520606667745,
           -3.023495836108888,
           -4.19609450435422,
           -0.684657555362333,
           -0.047791654210868964,
           0.3048225286173435,
           0.6343743113588888,
           0.8953678960533913,
           1.264795534359916,
           1.6028921593511105,
           1.4465202031541315,
           0.6879259527686905,
           0.6756995646499498,
           -0.5488451528879186,
           -0.19394247060046865,
           0.1123002082074045,
           -0.022991967980206553,
           0.018611006135589876,
           0.15823853433070148,
           0.19997870523047986,
           -0.04256432620419071
          ],
          "colorscale": [
           [
            0,
            "#000004"
           ],
           [
            0.1111111111111111,
            "#180f3d"
           ],
           [
            0.2222222222222222,
            "#440f76"
           ],
           [
            0.3333333333333333,
            "#721f81"
           ],
           [
            0.4444444444444444,
            "#9e2f7f"
           ],
           [
            0.5555555555555556,
            "#cd4071"
           ],
           [
            0.6666666666666666,
            "#f1605d"
           ],
           [
            0.7777777777777778,
            "#fd9668"
           ],
           [
            0.8888888888888888,
            "#feca8d"
           ],
           [
            1,
            "#fcfdbf"
           ]
          ],
          "size": 4
         },
         "scene": "scene2",
         "type": "scatter3d",
         "x": [
          0.009178371226836153,
          0.024658280479898428,
          0.04471305283555486,
          0.06982006368656354,
          0.09537173573137396,
          0.048331492751606024,
          0.008287433479963868,
          0.01698619663848407,
          0.08364366145291424,
          0.10888880106165921,
          0.17419827211265249,
          0.1777169619643172,
          0.14974413642213816,
          0.1786146715589585,
          0.2010418789745669,
          0.277189006840503,
          0.2911008560159616,
          0.30521574465531226,
          0.33455152127546645,
          0.33973113495240465,
          0.34811102363021484,
          0.3806884518902159,
          0.41696312581559575,
          0.4505263705170638,
          0.4292722829728488,
          0.36382063249407864,
          0.31744198753467123,
          0.3108218216826026,
          0.33905316198481966,
          0.37781482292378094,
          0.34733111469079386,
          0.3522528439442373,
          0.3898117728239944,
          0.3201408114559104,
          0.32768383139438945,
          0.3129319050269999,
          0.24408025331304742,
          0.2948157212086391,
          0.2584736326747614,
          0.27899977702397655,
          0.2730754432795297,
          0.2593406982631877,
          0.2826471790979392,
          0.31583939882071327,
          0.3241774182760179,
          0.3243016232657463,
          0.34874233716706665,
          0.357883427772278,
          0.32849701593481023,
          0.3117996357130207,
          0.3670391416012863,
          0.41493074450932627,
          0.4640992293966088,
          0.5551626687274807,
          0.5488133687838292,
          0.5171165885270026,
          0.4999016478201025,
          0.4136631804853245,
          0.36851833783876115,
          0.2698070839389305,
          0.2119828111208623,
          0.11696339470823049,
          0.05749893283901917,
          0.0640815231746078,
          0.03351436303892506,
          0.04670112424106037,
          0.04911763800477035,
          0.07856286000031226,
          0.051601592888784735,
          0.054762579924314304,
          0.051269179277328034,
          0.04484913378357614,
          0.033601009100468954,
          0.003633963108030595,
          -0.11194890942223042,
          -0.19996668261784684,
          -0.28020402423862206,
          -0.3429109162547788,
          -0.32694022898674757,
          -0.2985328715719117,
          -0.32969875707692586,
          -0.4001497045530947,
          -0.4158342111719688,
          -0.3584703510889898,
          -0.3402982684894913,
          -0.29121418662548004,
          -0.30078577682407387,
          -0.34340981995790953,
          -0.4145793905588109,
          -0.45984137033222044,
          -0.4484040426291768,
          -0.39529478759522957,
          -0.30494311576208033,
          -0.27875152871608877,
          -0.24778072983241092,
          -0.33854733179847596,
          -0.41557697173904024,
          -0.46796885370604135,
          -0.5115898730312812,
          -0.4935585551149579,
          -0.5824695829219863,
          -0.5654470284888521,
          -0.6152301766304379,
          -0.5455113605503996,
          -0.49809653642181384,
          -0.43460437751900927,
          -0.4167816565488362,
          -0.41229428418939745,
          -0.32463256481142566,
          -0.21229721145358268,
          -0.15633585344955286,
          -0.19463490760185934,
          -0.230750061713057,
          -0.26986896175989494,
          -0.3106080490303327,
          -0.36555578812433515,
          -0.40398808589332774,
          -0.3773842548094042,
          -0.36202492860440905,
          -0.32493884471570134,
          -0.30225945950303584,
          -0.28071999356390964,
          -0.2336236860822786,
          -0.14090131000897985,
          -0.06471887119713868,
          -0.03104465266771575,
          -0.007196274996551562,
          0.0279107329729567,
          0.06672772024311896,
          0.10295035502665213,
          0.15495472238316457,
          0.25661519535201416,
          0.3161090902131552,
          0.3261612595725127,
          0.3639307259767277,
          0.3687087749654532,
          0.36102572938927047,
          0.3165219987324485,
          0.24651945372552303,
          0.11265808497232173,
          0.004737469017679265,
          -0.07217300433573232,
          -0.13037096019229769,
          -0.08796520227674208,
          -0.03646436976383881,
          0.029519047434142413,
          0.062453706094907864,
          0.06621072738657999,
          0.05541384794294968,
          0.034680010607510026,
          0.08538882526385645,
          0.07510522461492251,
          0.053511875081078776,
          0.07890147002512007,
          0.033367502360489805,
          -0.01863500112603551,
          -0.08958332502487353,
          -0.09741247706715073,
          -0.0656585816758241,
          0.011333604527508463,
          0.050503716167533894,
          0.02635275116388373,
          0.09044148004313432,
          0.07431804519830093,
          0.007207801528989942,
          0.021468623345776882,
          -0.02617865295212504,
          -0.0074559659763396525,
          -0.00248281307105974,
          -0.0064942508598890576,
          0.04796667903028024,
          0.0738281278427927,
          0.10870597574253694,
          0.05620831772825757,
          0.09044862401119173,
          0.09065847917986668,
          0.10094017680999515,
          0.12404419677608407,
          0.051521058254476816,
          -0.05613382762808754,
          -0.14538675706840112,
          -0.23206614407338502,
          -0.22264659377375326,
          -0.23788948561378764,
          -0.29818536829798054,
          -0.28315765571416235,
          -0.29931738579264855,
          -0.2956766237890054,
          -0.3340754231225532,
          -0.36511771735232407,
          -0.37543516256439774,
          -0.3226021967163464,
          -0.2482691862568216,
          -0.18463219934496472,
          -0.11132237978816682,
          -0.0811531252811032,
          -0.024933878901342982,
          0.05634707145865508,
          0.04775782277595349,
          -0.03294266437325668,
          -0.15223831111799618,
          -0.24847385623696866
         ],
         "y": [
          0.19151874858800275,
          0.167159675009149,
          0.13654248511433348,
          0.10331213010339647,
          0.05144746340150043,
          0.003959235582532872,
          -0.026615033955185653,
          -0.027511372067543238,
          -0.06672948895266159,
          -0.0959335327585247,
          -0.144580106128133,
          -0.16117807779721827,
          -0.14512462962105152,
          -0.1535828318560032,
          -0.18181936788087003,
          -0.21859064177381593,
          -0.2724238374246788,
          -0.314517984377613,
          -0.3465976726992843,
          -0.32198967496945635,
          -0.35638433341502546,
          -0.36029410603030887,
          -0.3530102410625051,
          -0.3084053157090299,
          -0.2830310910953786,
          -0.25022079243929246,
          -0.2141922178888714,
          -0.20318432784882284,
          -0.23755654902926604,
          -0.32197161187791284,
          -0.39007534853454,
          -0.4608887043215754,
          -0.516417428099145,
          -0.5645265820813566,
          -0.47052687450185715,
          -0.4654069398858278,
          -0.4460443219574086,
          -0.47183508589529616,
          -0.46832355454557095,
          -0.49806803727499993,
          -0.5587357004755509,
          -0.5241509721706274,
          -0.5716957201336698,
          -0.6070341187496612,
          -0.5864038239647127,
          -0.5296116962222783,
          -0.5167311911122453,
          -0.5470086291686702,
          -0.5557972050225548,
          -0.5828817156418299,
          -0.6479582579572328,
          -0.6147152579548516,
          -0.6509544962130538,
          -0.5639525759134262,
          -0.5319274043535234,
          -0.4797721815715512,
          -0.4087480918574556,
          -0.28146356270984835,
          -0.19692776392121103,
          -0.0634459854496634,
          -0.05021614101467819,
          -0.05252847927852323,
          -0.04843649153038921,
          -0.025818770809357152,
          -0.012608313481730336,
          0.020773193174903157,
          0.06500963868897566,
          0.12684923931696718,
          0.18609065064805352,
          0.19194116129483801,
          0.16248293111399434,
          0.14962764821183894,
          0.11948786089397735,
          0.1480840055669808,
          0.1209748961608027,
          0.08749472664946059,
          0.1297482510093988,
          0.16146022398047177,
          0.17499556725679558,
          0.18491043168926208,
          0.21311044132345355,
          0.25600019592458895,
          0.2609588016605612,
          0.2250811827929292,
          0.2660442481553383,
          0.28682278767919583,
          0.2633755727500487,
          0.21069281416405408,
          0.23862962146850275,
          0.27968555065312395,
          0.2784070479507839,
          0.21466463525105856,
          0.18697149114726697,
          0.21610190050473865,
          0.22741222955845306,
          0.2879842405781343,
          0.32328371647950116,
          0.3590196157406487,
          0.362633318607361,
          0.3958523107808223,
          0.4171349169816571,
          0.3782113161292341,
          0.35114026493978673,
          0.31946723656779746,
          0.2630772140257731,
          0.20870322165661856,
          0.24395663436697726,
          0.28007184642942634,
          0.2723290496844755,
          0.23160023691668583,
          0.21695909121922421,
          0.1864177107507083,
          0.19389413976719908,
          0.19594652820371233,
          0.25925904531220717,
          0.33683485396918195,
          0.3836130922555165,
          0.40717443240254175,
          0.36838783303763467,
          0.31970652291842183,
          0.2877967753869371,
          0.3200380659260991,
          0.3497363555448457,
          0.32126517066158605,
          0.26289774696883167,
          0.20148025875290715,
          0.1689209762176096,
          0.14014360459438943,
          0.14048596137204214,
          0.17482515605773966,
          0.15812294313812195,
          0.11301567348031825,
          0.07122627973147332,
          0.027994921418282456,
          -0.03368265371349805,
          -0.07241915265469917,
          -0.0700833837156885,
          -0.09188353036359177,
          -0.06560760886067882,
          -0.0030078902225443714,
          0.034422326599863724,
          0.058388991533947304,
          0.08888933873556412,
          0.054458071840095844,
          0.0694280840411958,
          -0.0076602927785831675,
          -0.06773048455490521,
          -0.07946692633666373,
          -0.05443582696095102,
          -0.015861570612182664,
          -0.021012542052180165,
          -0.0032668732233920098,
          0.05020814887159378,
          0.12040284254430385,
          0.14899202696598726,
          0.1518252869427834,
          0.1131701956186516,
          0.03455776466863135,
          -0.017613888442907556,
          -0.014071883693577253,
          -0.022832237961044773,
          -0.01682470542880713,
          -0.04324139150935912,
          -0.07223598391710317,
          -0.055581056510178,
          -0.0371851727534017,
          0.02180818397407149,
          0.0524065212292085,
          0.10934705312961429,
          0.13485943589490648,
          0.052220633046872744,
          0.0013252426952094542,
          -0.04894777428452291,
          -0.05352744521089741,
          -0.05570178753703177,
          -0.05064033875269802,
          -0.03367242590296116,
          -0.022524191725576233,
          -0.002109214116865901,
          0.035306588868155776,
          0.12375822391186139,
          0.17995174268042713,
          0.19340586938966634,
          0.18410877040955825,
          0.2110448859520411,
          0.2625135209776923,
          0.3208804867594741,
          0.34066396660595266,
          0.3050612885567608,
          0.2942564889082235,
          0.25472663574241716,
          0.2001776567375019,
          0.11613942856733928,
          0.050340706578240836,
          0.025771265161383207,
          0.03744389021160313,
          0.02109551786964372,
          0.023651475336643992,
          0.05020800986035097,
          0.07201403645365535,
          0.10357354873671079,
          0.14866858153289841
         ],
         "z": [
          -0.030434786813191183,
          -0.11078473511134884,
          -0.1636375656999172,
          -0.19494466553425008,
          -0.26499154718735574,
          -0.402743157488963,
          -0.47929876557848844,
          -0.5152873568006848,
          -0.5113305256589437,
          -0.4516074887912197,
          -0.37717917679395685,
          -0.23133234898137708,
          -0.09691813529244983,
          -0.06864227290352895,
          -0.03142587261759925,
          -0.07812450942007929,
          -0.1316354606108896,
          -0.1445393769280218,
          -0.20106871366646625,
          -0.2111870023618781,
          -0.28643575906778135,
          -0.32556198055912156,
          -0.27264620879126195,
          -0.1833803832427031,
          -0.09924293061510743,
          -0.045902126073100465,
          0.03818168895931674,
          0.12427834298395324,
          0.10350825713624312,
          0.011163069776193236,
          -0.06324736018276687,
          -0.09547412438407597,
          -0.02044418036342283,
          -0.05214906270346327,
          -0.08230282031866931,
          -0.14413171105886238,
          -0.13257056481537724,
          -0.19932961582585348,
          -0.26370704035229836,
          -0.2951352793870852,
          -0.2393940573727791,
          -0.1537691103910206,
          -0.13124608900143536,
          -0.1530811380108164,
          -0.2389408921753839,
          -0.2812065184342384,
          -0.23815437331522019,
          -0.3286529440929965,
          -0.3900863573430443,
          -0.4511258099537536,
          -0.5348021155880779,
          -0.5489395178165272,
          -0.5698027054012887,
          -0.6113525687968673,
          -0.6282526617037862,
          -0.6603701225284158,
          -0.7025379140668442,
          -0.7349624628881097,
          -0.769483617564979,
          -0.7807682039358681,
          -0.7447297072368393,
          -0.7354241275392842,
          -0.7323754007076217,
          -0.6983255862990695,
          -0.6304385305713675,
          -0.6293941033414471,
          -0.5711380587845354,
          -0.5136734097373933,
          -0.42823735557563647,
          -0.2800276449411806,
          -0.17453645470894738,
          -0.06797216821630428,
          0.019672298943086475,
          0.07128359216021658,
          0.17695265949069333,
          0.24665597705949455,
          0.2892408081415795,
          0.31380189299923317,
          0.28951049273663393,
          0.2355092526668374,
          0.19390126401006982,
          0.1854625940842411,
          0.20314005880526498,
          0.2168003246132223,
          0.24461946134603907,
          0.24883021206354047,
          0.2537338702051193,
          0.2786460198884282,
          0.3118117226655334,
          0.2977264736978232,
          0.25731867742512343,
          0.20349199780942642,
          0.19214006593265406,
          0.1991074853208358,
          0.19268885681710124,
          0.16110502936110535,
          0.18503403749418043,
          0.22131645691680005,
          0.24845531075488056,
          0.2906770349664224,
          0.2738820680183892,
          0.28090411566045315,
          0.32315330111205426,
          0.3217271268172484,
          0.2693535431125613,
          0.23441664010123975,
          0.2106597632480745,
          0.2009114407604794,
          0.1768495548924654,
          0.1582325955443294,
          0.11898134856465888,
          0.12745757697063387,
          0.09732771071621663,
          0.09499998599588866,
          0.029975556780306854,
          0.03356684205693786,
          0.0575169670725283,
          0.159771109676604,
          0.17857045052537543,
          0.19231112135883585,
          0.18886529630788096,
          0.21539361584358033,
          0.19113044625735245,
          0.11497197805546043,
          0.03446175023139149,
          -0.021075789893050173,
          -0.11804100765363167,
          -0.13189909339326866,
          -0.13811680777824709,
          -0.09402659807686076,
          -0.04330964351868464,
          -0.014234029255502047,
          0.10641272557578654,
          0.19266968311741126,
          0.2612811388480988,
          0.275099250722315,
          0.3211671197159464,
          0.3257191461096658,
          0.37659970121360525,
          0.385648608773251,
          0.3681717246531373,
          0.30993194179579014,
          0.23953108772239903,
          0.19668069683538983,
          0.140570340748035,
          0.09399371864382922,
          0.10452480304810474,
          0.11441551983966124,
          0.10291622613033131,
          0.07876171820632127,
          -0.006162871842071062,
          -0.06365817174916319,
          -0.05901220081456656,
          -0.09972067996646679,
          -0.07157415576603449,
          -0.027790015922677703,
          0.07840938272693347,
          0.14393929466246771,
          0.17099104576055937,
          0.13705421895619327,
          0.131154304541804,
          0.14974598983470458,
          0.14510746978784145,
          0.1439754378669718,
          0.17031552634696392,
          0.1266611532557568,
          0.12104370212409821,
          0.06392406632555471,
          -0.013493361886317974,
          -0.03836780002474595,
          -0.04769168090409672,
          0.01782950184952433,
          0.02873744586034719,
          0.09322118109561485,
          0.07685810232468185,
          0.11257540370200701,
          0.1849062711856744,
          0.21857183833307925,
          0.21196205926299624,
          0.21572422195364044,
          0.20765951955459852,
          0.17053737284301662,
          0.14602907205177898,
          0.1407320588647357,
          0.161578569719585,
          0.18393478220593448,
          0.2474568782014727,
          0.2709616491977989,
          0.2696012769579925,
          0.29124814416532735,
          0.26388123471537733,
          0.21930429761390288,
          0.19798637908849928,
          0.20229364027647972,
          0.2057768692588654,
          0.2549424793497751,
          0.2901071885763566,
          0.3503678542161816,
          0.4290663886901215,
          0.4838145301107791,
          0.5457653320562825,
          0.5391440432348312
         ]
        }
       ],
       "layout": {
        "height": 1000,
        "scene": {
         "domain": {
          "x": [
           0,
           0.45
          ],
          "y": [
           0,
           1
          ]
         }
        },
        "scene2": {
         "domain": {
          "x": [
           0.55,
           1
          ],
          "y": [
           0,
           1
          ]
         }
        },
        "template": {
         "data": {
          "bar": [
           {
            "error_x": {
             "color": "#2a3f5f"
            },
            "error_y": {
             "color": "#2a3f5f"
            },
            "marker": {
             "line": {
              "color": "#E5ECF6",
              "width": 0.5
             }
            },
            "type": "bar"
           }
          ],
          "barpolar": [
           {
            "marker": {
             "line": {
              "color": "#E5ECF6",
              "width": 0.5
             }
            },
            "type": "barpolar"
           }
          ],
          "carpet": [
           {
            "aaxis": {
             "endlinecolor": "#2a3f5f",
             "gridcolor": "white",
             "linecolor": "white",
             "minorgridcolor": "white",
             "startlinecolor": "#2a3f5f"
            },
            "baxis": {
             "endlinecolor": "#2a3f5f",
             "gridcolor": "white",
             "linecolor": "white",
             "minorgridcolor": "white",
             "startlinecolor": "#2a3f5f"
            },
            "type": "carpet"
           }
          ],
          "choropleth": [
           {
            "colorbar": {
             "outlinewidth": 0,
             "ticks": ""
            },
            "type": "choropleth"
           }
          ],
          "contour": [
           {
            "colorbar": {
             "outlinewidth": 0,
             "ticks": ""
            },
            "colorscale": [
             [
              0,
              "#0d0887"
             ],
             [
              0.1111111111111111,
              "#46039f"
             ],
             [
              0.2222222222222222,
              "#7201a8"
             ],
             [
              0.3333333333333333,
              "#9c179e"
             ],
             [
              0.4444444444444444,
              "#bd3786"
             ],
             [
              0.5555555555555556,
              "#d8576b"
             ],
             [
              0.6666666666666666,
              "#ed7953"
             ],
             [
              0.7777777777777778,
              "#fb9f3a"
             ],
             [
              0.8888888888888888,
              "#fdca26"
             ],
             [
              1,
              "#f0f921"
             ]
            ],
            "type": "contour"
           }
          ],
          "contourcarpet": [
           {
            "colorbar": {
             "outlinewidth": 0,
             "ticks": ""
            },
            "type": "contourcarpet"
           }
          ],
          "heatmap": [
           {
            "colorbar": {
             "outlinewidth": 0,
             "ticks": ""
            },
            "colorscale": [
             [
              0,
              "#0d0887"
             ],
             [
              0.1111111111111111,
              "#46039f"
             ],
             [
              0.2222222222222222,
              "#7201a8"
             ],
             [
              0.3333333333333333,
              "#9c179e"
             ],
             [
              0.4444444444444444,
              "#bd3786"
             ],
             [
              0.5555555555555556,
              "#d8576b"
             ],
             [
              0.6666666666666666,
              "#ed7953"
             ],
             [
              0.7777777777777778,
              "#fb9f3a"
             ],
             [
              0.8888888888888888,
              "#fdca26"
             ],
             [
              1,
              "#f0f921"
             ]
            ],
            "type": "heatmap"
           }
          ],
          "heatmapgl": [
           {
            "colorbar": {
             "outlinewidth": 0,
             "ticks": ""
            },
            "colorscale": [
             [
              0,
              "#0d0887"
             ],
             [
              0.1111111111111111,
              "#46039f"
             ],
             [
              0.2222222222222222,
              "#7201a8"
             ],
             [
              0.3333333333333333,
              "#9c179e"
             ],
             [
              0.4444444444444444,
              "#bd3786"
             ],
             [
              0.5555555555555556,
              "#d8576b"
             ],
             [
              0.6666666666666666,
              "#ed7953"
             ],
             [
              0.7777777777777778,
              "#fb9f3a"
             ],
             [
              0.8888888888888888,
              "#fdca26"
             ],
             [
              1,
              "#f0f921"
             ]
            ],
            "type": "heatmapgl"
           }
          ],
          "histogram": [
           {
            "marker": {
             "colorbar": {
              "outlinewidth": 0,
              "ticks": ""
             }
            },
            "type": "histogram"
           }
          ],
          "histogram2d": [
           {
            "colorbar": {
             "outlinewidth": 0,
             "ticks": ""
            },
            "colorscale": [
             [
              0,
              "#0d0887"
             ],
             [
              0.1111111111111111,
              "#46039f"
             ],
             [
              0.2222222222222222,
              "#7201a8"
             ],
             [
              0.3333333333333333,
              "#9c179e"
             ],
             [
              0.4444444444444444,
              "#bd3786"
             ],
             [
              0.5555555555555556,
              "#d8576b"
             ],
             [
              0.6666666666666666,
              "#ed7953"
             ],
             [
              0.7777777777777778,
              "#fb9f3a"
             ],
             [
              0.8888888888888888,
              "#fdca26"
             ],
             [
              1,
              "#f0f921"
             ]
            ],
            "type": "histogram2d"
           }
          ],
          "histogram2dcontour": [
           {
            "colorbar": {
             "outlinewidth": 0,
             "ticks": ""
            },
            "colorscale": [
             [
              0,
              "#0d0887"
             ],
             [
              0.1111111111111111,
              "#46039f"
             ],
             [
              0.2222222222222222,
              "#7201a8"
             ],
             [
              0.3333333333333333,
              "#9c179e"
             ],
             [
              0.4444444444444444,
              "#bd3786"
             ],
             [
              0.5555555555555556,
              "#d8576b"
             ],
             [
              0.6666666666666666,
              "#ed7953"
             ],
             [
              0.7777777777777778,
              "#fb9f3a"
             ],
             [
              0.8888888888888888,
              "#fdca26"
             ],
             [
              1,
              "#f0f921"
             ]
            ],
            "type": "histogram2dcontour"
           }
          ],
          "mesh3d": [
           {
            "colorbar": {
             "outlinewidth": 0,
             "ticks": ""
            },
            "type": "mesh3d"
           }
          ],
          "parcoords": [
           {
            "line": {
             "colorbar": {
              "outlinewidth": 0,
              "ticks": ""
             }
            },
            "type": "parcoords"
           }
          ],
          "pie": [
           {
            "automargin": true,
            "type": "pie"
           }
          ],
          "scatter": [
           {
            "marker": {
             "colorbar": {
              "outlinewidth": 0,
              "ticks": ""
             }
            },
            "type": "scatter"
           }
          ],
          "scatter3d": [
           {
            "line": {
             "colorbar": {
              "outlinewidth": 0,
              "ticks": ""
             }
            },
            "marker": {
             "colorbar": {
              "outlinewidth": 0,
              "ticks": ""
             }
            },
            "type": "scatter3d"
           }
          ],
          "scattercarpet": [
           {
            "marker": {
             "colorbar": {
              "outlinewidth": 0,
              "ticks": ""
             }
            },
            "type": "scattercarpet"
           }
          ],
          "scattergeo": [
           {
            "marker": {
             "colorbar": {
              "outlinewidth": 0,
              "ticks": ""
             }
            },
            "type": "scattergeo"
           }
          ],
          "scattergl": [
           {
            "marker": {
             "colorbar": {
              "outlinewidth": 0,
              "ticks": ""
             }
            },
            "type": "scattergl"
           }
          ],
          "scattermapbox": [
           {
            "marker": {
             "colorbar": {
              "outlinewidth": 0,
              "ticks": ""
             }
            },
            "type": "scattermapbox"
           }
          ],
          "scatterpolar": [
           {
            "marker": {
             "colorbar": {
              "outlinewidth": 0,
              "ticks": ""
             }
            },
            "type": "scatterpolar"
           }
          ],
          "scatterpolargl": [
           {
            "marker": {
             "colorbar": {
              "outlinewidth": 0,
              "ticks": ""
             }
            },
            "type": "scatterpolargl"
           }
          ],
          "scatterternary": [
           {
            "marker": {
             "colorbar": {
              "outlinewidth": 0,
              "ticks": ""
             }
            },
            "type": "scatterternary"
           }
          ],
          "surface": [
           {
            "colorbar": {
             "outlinewidth": 0,
             "ticks": ""
            },
            "colorscale": [
             [
              0,
              "#0d0887"
             ],
             [
              0.1111111111111111,
              "#46039f"
             ],
             [
              0.2222222222222222,
              "#7201a8"
             ],
             [
              0.3333333333333333,
              "#9c179e"
             ],
             [
              0.4444444444444444,
              "#bd3786"
             ],
             [
              0.5555555555555556,
              "#d8576b"
             ],
             [
              0.6666666666666666,
              "#ed7953"
             ],
             [
              0.7777777777777778,
              "#fb9f3a"
             ],
             [
              0.8888888888888888,
              "#fdca26"
             ],
             [
              1,
              "#f0f921"
             ]
            ],
            "type": "surface"
           }
          ],
          "table": [
           {
            "cells": {
             "fill": {
              "color": "#EBF0F8"
             },
             "line": {
              "color": "white"
             }
            },
            "header": {
             "fill": {
              "color": "#C8D4E3"
             },
             "line": {
              "color": "white"
             }
            },
            "type": "table"
           }
          ]
         },
         "layout": {
          "annotationdefaults": {
           "arrowcolor": "#2a3f5f",
           "arrowhead": 0,
           "arrowwidth": 1
          },
          "autotypenumbers": "strict",
          "coloraxis": {
           "colorbar": {
            "outlinewidth": 0,
            "ticks": ""
           }
          },
          "colorscale": {
           "diverging": [
            [
             0,
             "#8e0152"
            ],
            [
             0.1,
             "#c51b7d"
            ],
            [
             0.2,
             "#de77ae"
            ],
            [
             0.3,
             "#f1b6da"
            ],
            [
             0.4,
             "#fde0ef"
            ],
            [
             0.5,
             "#f7f7f7"
            ],
            [
             0.6,
             "#e6f5d0"
            ],
            [
             0.7,
             "#b8e186"
            ],
            [
             0.8,
             "#7fbc41"
            ],
            [
             0.9,
             "#4d9221"
            ],
            [
             1,
             "#276419"
            ]
           ],
           "sequential": [
            [
             0,
             "#0d0887"
            ],
            [
             0.1111111111111111,
             "#46039f"
            ],
            [
             0.2222222222222222,
             "#7201a8"
            ],
            [
             0.3333333333333333,
             "#9c179e"
            ],
            [
             0.4444444444444444,
             "#bd3786"
            ],
            [
             0.5555555555555556,
             "#d8576b"
            ],
            [
             0.6666666666666666,
             "#ed7953"
            ],
            [
             0.7777777777777778,
             "#fb9f3a"
            ],
            [
             0.8888888888888888,
             "#fdca26"
            ],
            [
             1,
             "#f0f921"
            ]
           ],
           "sequentialminus": [
            [
             0,
             "#0d0887"
            ],
            [
             0.1111111111111111,
             "#46039f"
            ],
            [
             0.2222222222222222,
             "#7201a8"
            ],
            [
             0.3333333333333333,
             "#9c179e"
            ],
            [
             0.4444444444444444,
             "#bd3786"
            ],
            [
             0.5555555555555556,
             "#d8576b"
            ],
            [
             0.6666666666666666,
             "#ed7953"
            ],
            [
             0.7777777777777778,
             "#fb9f3a"
            ],
            [
             0.8888888888888888,
             "#fdca26"
            ],
            [
             1,
             "#f0f921"
            ]
           ]
          },
          "colorway": [
           "#636efa",
           "#EF553B",
           "#00cc96",
           "#ab63fa",
           "#FFA15A",
           "#19d3f3",
           "#FF6692",
           "#B6E880",
           "#FF97FF",
           "#FECB52"
          ],
          "font": {
           "color": "#2a3f5f"
          },
          "geo": {
           "bgcolor": "white",
           "lakecolor": "white",
           "landcolor": "#E5ECF6",
           "showlakes": true,
           "showland": true,
           "subunitcolor": "white"
          },
          "hoverlabel": {
           "align": "left"
          },
          "hovermode": "closest",
          "mapbox": {
           "style": "light"
          },
          "paper_bgcolor": "white",
          "plot_bgcolor": "#E5ECF6",
          "polar": {
           "angularaxis": {
            "gridcolor": "white",
            "linecolor": "white",
            "ticks": ""
           },
           "bgcolor": "#E5ECF6",
           "radialaxis": {
            "gridcolor": "white",
            "linecolor": "white",
            "ticks": ""
           }
          },
          "scene": {
           "xaxis": {
            "backgroundcolor": "#E5ECF6",
            "gridcolor": "white",
            "gridwidth": 2,
            "linecolor": "white",
            "showbackground": true,
            "ticks": "",
            "zerolinecolor": "white"
           },
           "yaxis": {
            "backgroundcolor": "#E5ECF6",
            "gridcolor": "white",
            "gridwidth": 2,
            "linecolor": "white",
            "showbackground": true,
            "ticks": "",
            "zerolinecolor": "white"
           },
           "zaxis": {
            "backgroundcolor": "#E5ECF6",
            "gridcolor": "white",
            "gridwidth": 2,
            "linecolor": "white",
            "showbackground": true,
            "ticks": "",
            "zerolinecolor": "white"
           }
          },
          "shapedefaults": {
           "line": {
            "color": "#2a3f5f"
           }
          },
          "ternary": {
           "aaxis": {
            "gridcolor": "white",
            "linecolor": "white",
            "ticks": ""
           },
           "baxis": {
            "gridcolor": "white",
            "linecolor": "white",
            "ticks": ""
           },
           "bgcolor": "#E5ECF6",
           "caxis": {
            "gridcolor": "white",
            "linecolor": "white",
            "ticks": ""
           }
          },
          "title": {
           "x": 0.05
          },
          "xaxis": {
           "automargin": true,
           "gridcolor": "white",
           "linecolor": "white",
           "ticks": "",
           "title": {
            "standoff": 15
           },
           "zerolinecolor": "white",
           "zerolinewidth": 2
          },
          "yaxis": {
           "automargin": true,
           "gridcolor": "white",
           "linecolor": "white",
           "ticks": "",
           "title": {
            "standoff": 15
           },
           "zerolinecolor": "white",
           "zerolinewidth": 2
          }
         }
        },
        "width": 1300
       }
      }
     },
     "metadata": {},
     "output_type": "display_data"
    },
    {
     "name": "stdout",
     "output_type": "stream",
     "text": [
      "Kabsch distance is 0.10004350321807871\n"
     ]
    },
    {
     "data": {
      "text/plain": [
       "<Figure size 50000x50000 with 0 Axes>"
      ]
     },
     "metadata": {},
     "output_type": "display_data"
    }
   ],
   "source": [
    "test_true_structure = test_true_structures[GRAPH_TESTED]\n",
    "test_pred_structure = test_pred_structures[GRAPH_TESTED]\n",
    "\n",
    "test_pred_structure_superposed, test_true_structure_superposed = \\\n",
    "        kabsch_superimposition_numpy(test_pred_structure, test_true_structure, EMBEDDING_SIZE)\n",
    "\n",
    "x_pred = test_pred_structure_superposed[:, 0]  \n",
    "y_pred = test_pred_structure_superposed[:, 1]\n",
    "z_pred = test_pred_structure_superposed[:, 2]\n",
    "\n",
    "x_true = test_true_structure_superposed[:, 0]  \n",
    "y_true = test_true_structure_superposed[:, 1]\n",
    "z_true = test_true_structure_superposed[:, 2]\n",
    "pred_structure_unit_ball, true_structure_unit_ball = \\\n",
    "            kabsch_superimposition_numpy(test_pred_structure, test_true_structure, EMBEDDING_SIZE)\n",
    "d = np.negative(np.log(np.mean(np.divide(np.abs(pred_structure_unit_ball - true_structure_unit_ball),np.abs(true_structure_unit_ball)), axis=1)))\n",
    "\n",
    "colorscale1 = np.asarray(range(len(x_true)))\n",
    "colorscale2 = d\n",
    "color1 = 'Viridis'\n",
    "color2 = 'magma'\n",
    "plot_true_pred_structures(x_pred, y_pred, z_pred, x_true, y_true, z_true, colorscale1, colorscale2, color1, color2)\n",
    "\n",
    "# Shape comparison\n",
    "print('Kabsch distance is ' + str(kabsch_distance_numpy(test_pred_structure, test_true_structure, EMBEDDING_SIZE)))\n",
    "\n"
   ]
  },
  {
   "cell_type": "code",
   "execution_count": 17,
   "metadata": {},
   "outputs": [
    {
     "name": "stdout",
     "output_type": "stream",
     "text": [
      "tensor([0.8260], dtype=torch.float64)\n",
      "tensor([0.5416], dtype=torch.float64)\n"
     ]
    }
   ],
   "source": [
    "random_structure = np.random.random((202,3))\n",
    "test_true_structure = test_true_structures[GRAPH_TESTED]\n",
    "print(lddt(torch.from_numpy(test_pred_structure_superposed).unsqueeze(0), torch.from_numpy(test_true_structure_superposed).unsqueeze(0)))\n",
    "\n",
    "random_structure_superposed, true_to_random_structure_superposed = \\\n",
    "        kabsch_superimposition_numpy(random_structure, test_true_structure, EMBEDDING_SIZE)\n",
    "\n",
    "print(lddt(torch.from_numpy(random_structure_superposed).unsqueeze(0), torch.from_numpy(true_to_random_structure_superposed).unsqueeze(0)))\n",
    "#print(test_true_structures[GRAPH_TESTED].shape)\n"
   ]
  },
  {
   "cell_type": "code",
   "execution_count": 18,
   "metadata": {},
   "outputs": [],
   "source": [
    "make_gif(\"\", \"gifs/trussart_linear.gif\")"
   ]
  },
  {
   "cell_type": "code",
   "execution_count": null,
   "metadata": {},
   "outputs": [],
   "source": []
  },
  {
   "cell_type": "code",
   "execution_count": 19,
   "metadata": {},
   "outputs": [
    {
     "data": {
      "application/vnd.plotly.v1+json": {
       "config": {
        "plotlyServerURL": "https://plot.ly"
       },
       "data": [
        {
         "line": {
          "color": "darkblue",
          "width": 2
         },
         "marker": {
          "color": [
           0,
           1,
           2,
           3,
           4,
           5,
           6,
           7,
           8,
           9,
           10,
           11,
           12,
           13,
           14,
           15,
           16,
           17,
           18,
           19,
           20,
           21,
           22,
           23,
           24,
           25,
           26,
           27,
           28,
           29,
           30,
           31,
           32,
           33,
           34,
           35,
           36,
           37,
           38,
           39,
           40,
           41,
           42,
           43,
           44,
           45,
           46,
           47,
           48,
           49,
           50,
           51,
           52,
           53,
           54,
           55,
           56,
           57,
           58,
           59,
           60,
           61,
           62,
           63,
           64,
           65,
           66,
           67,
           68,
           69,
           70,
           71,
           72,
           73,
           74,
           75,
           76,
           77,
           78,
           79,
           80,
           81,
           82,
           83,
           84,
           85,
           86,
           87,
           88,
           89,
           90,
           91,
           92,
           93,
           94,
           95,
           96,
           97,
           98,
           99,
           100,
           101,
           102,
           103,
           104,
           105,
           106,
           107,
           108,
           109,
           110,
           111,
           112,
           113,
           114,
           115,
           116,
           117,
           118,
           119,
           120,
           121,
           122,
           123,
           124,
           125,
           126,
           127,
           128,
           129,
           130,
           131,
           132,
           133,
           134,
           135,
           136,
           137,
           138,
           139,
           140,
           141,
           142,
           143,
           144,
           145,
           146,
           147,
           148,
           149,
           150,
           151,
           152,
           153,
           154,
           155,
           156,
           157,
           158,
           159,
           160,
           161,
           162,
           163,
           164,
           165,
           166,
           167,
           168,
           169,
           170,
           171,
           172,
           173,
           174,
           175,
           176,
           177,
           178,
           179,
           180,
           181,
           182,
           183,
           184,
           185,
           186,
           187,
           188,
           189,
           190,
           191,
           192,
           193,
           194,
           195,
           196,
           197,
           198,
           199,
           200,
           201
          ],
          "colorscale": [
           [
            0,
            "#440154"
           ],
           [
            0.1111111111111111,
            "#482878"
           ],
           [
            0.2222222222222222,
            "#3e4989"
           ],
           [
            0.3333333333333333,
            "#31688e"
           ],
           [
            0.4444444444444444,
            "#26828e"
           ],
           [
            0.5555555555555556,
            "#1f9e89"
           ],
           [
            0.6666666666666666,
            "#35b779"
           ],
           [
            0.7777777777777778,
            "#6ece58"
           ],
           [
            0.8888888888888888,
            "#b5de2b"
           ],
           [
            1,
            "#fde725"
           ]
          ],
          "size": 4
         },
         "scene": "scene",
         "type": "scatter3d",
         "x": [
          -0.11617447435855865,
          -0.03791821748018265,
          0.04670683667063713,
          0.13978135585784912,
          0.21786342561244965,
          0.2779562771320343,
          0.33708444237709045,
          0.38427045941352844,
          0.3807530403137207,
          0.3150673806667328,
          0.23885391652584076,
          0.15156598389148712,
          0.0769868940114975,
          0.020498061552643776,
          -0.030429817736148834,
          -0.029525181278586388,
          0.034680090844631195,
          0.10709412395954132,
          0.14884334802627563,
          0.2134513109922409,
          0.31550997495651245,
          0.36893129348754883,
          0.37515947222709656,
          0.41817790269851685,
          0.4840720295906067,
          0.5472744107246399,
          0.6268070936203003,
          0.6903325319290161,
          0.7529017925262451,
          0.801105797290802,
          0.8115475177764893,
          0.7648389935493469,
          0.6608444452285767,
          0.5548867583274841,
          0.4880940318107605,
          0.4807282090187073,
          0.4930410087108612,
          0.46825167536735535,
          0.38314536213874817,
          0.29053834080696106,
          0.19688716530799866,
          0.08741677552461624,
          -0.0021127176005393267,
          -0.06199466437101364,
          -0.08218128234148026,
          -0.11433529108762741,
          -0.1959468126296997,
          -0.29606926441192627,
          -0.40554285049438477,
          -0.5085029006004333,
          -0.5790907740592957,
          -0.5892248153686523,
          -0.527962327003479,
          -0.4748486578464508,
          -0.47052255272865295,
          -0.4990592300891876,
          -0.5149421095848083,
          -0.5274538397789001,
          -0.5681564807891846,
          -0.5679470300674438,
          -0.5570084452629089,
          -0.548595666885376,
          -0.5507451295852661,
          -0.5905041098594666,
          -0.6389787197113037,
          -0.6689842343330383,
          -0.67486172914505,
          -0.6482881307601929,
          -0.6002840399742126,
          -0.558573842048645,
          -0.495830774307251,
          -0.39958980679512024,
          -0.30579712986946106,
          -0.21815238893032074,
          -0.15734504163265228,
          -0.16126421093940735,
          -0.18848136067390442,
          -0.2504957914352417,
          -0.34184426069259644,
          -0.40205833315849304,
          -0.4127863943576813,
          -0.38963764905929565,
          -0.36868301033973694,
          -0.33054083585739136,
          -0.30159515142440796,
          -0.30301791429519653,
          -0.29788878560066223,
          -0.23774246871471405,
          -0.13075365126132965,
          -0.03620850667357445,
          0.05529852584004402,
          0.1623871624469757,
          0.22830073535442352,
          0.2598969042301178,
          0.31756365299224854,
          0.40321052074432373,
          0.47904109954833984,
          0.4961734414100647,
          0.48096582293510437,
          0.4402604401111603,
          0.35332679748535156,
          0.2716618776321411,
          0.19779075682163239,
          0.16831326484680176,
          0.1667747050523758,
          0.16374243795871735,
          0.15143708884716034,
          0.09772277623414993,
          0.02620856463909149,
          -0.0747554749250412,
          -0.16192710399627686,
          -0.18647699058055878,
          -0.1418759822845459,
          -0.05032235011458397,
          0.04975593090057373,
          0.15390858054161072,
          0.2393060177564621,
          0.30470964312553406,
          0.3932957053184509,
          0.47255197167396545,
          0.5545174479484558,
          0.6110402941703796,
          0.5719364881515503,
          0.5262590050697327,
          0.4842446744441986,
          0.4341636002063751,
          0.3661133348941803,
          0.26245781779289246,
          0.17612534761428833,
          0.08165481686592102,
          -0.0071396189741790295,
          -0.040169455111026764,
          -0.0004928436828777194,
          0.0689781978726387,
          0.11843700706958771,
          0.15375421941280365,
          0.21911579370498657,
          0.300586074590683,
          0.31245332956314087,
          0.29845061898231506,
          0.27475133538246155,
          0.21659766137599945,
          0.18014323711395264,
          0.2251301109790802,
          0.310329794883728,
          0.32799196243286133,
          0.28518280386924744,
          0.20526565611362457,
          0.10768815129995346,
          0.028870077803730965,
          0.02997404709458351,
          0.06375065445899963,
          0.11131700128316879,
          0.21647845208644867,
          0.31520676612854004,
          0.3869173526763916,
          0.46322470903396606,
          0.5268260836601257,
          0.5192321538925171,
          0.44961512088775635,
          0.3707701563835144,
          0.31225085258483887,
          0.25314927101135254,
          0.16950607299804688,
          0.06347664445638657,
          -0.04473896697163582,
          -0.1474660485982895,
          -0.24160709977149963,
          -0.32191628217697144,
          -0.38584014773368835,
          -0.43990612030029297,
          -0.4618932604789734,
          -0.4392291009426117,
          -0.41247251629829407,
          -0.39393100142478943,
          -0.356804758310318,
          -0.2860685884952545,
          -0.1966567188501358,
          -0.13455422222614288,
          -0.0996810793876648,
          -0.09654261916875839,
          -0.1651683747768402,
          -0.26332658529281616,
          -0.34172531962394714,
          -0.3839617371559143,
          -0.43135473132133484,
          -0.4918937385082245,
          -0.5613536238670349,
          -0.6317773461341858,
          -0.6438614726066589,
          -0.5855109095573425,
          -0.5008158683776855,
          -0.45847588777542114,
          -0.4599389433860779,
          -0.4394255578517914,
          -0.3731670379638672,
          -0.3345471918582916,
          -0.3575647175312042,
          -0.3643205761909485,
          -0.32028189301490784,
          -0.2560182213783264,
          -0.1860814094543457
         ],
         "y": [
          0.08944384008646011,
          0.10456705093383789,
          0.17024515569210052,
          0.1906794309616089,
          0.1639876812696457,
          0.12943466007709503,
          0.0637640431523323,
          -0.021527621895074844,
          -0.11860470473766327,
          -0.20944048464298248,
          -0.2648506462574005,
          -0.27936452627182007,
          -0.2918497622013092,
          -0.28507673740386963,
          -0.27077823877334595,
          -0.31209200620651245,
          -0.38138025999069214,
          -0.3876912295818329,
          -0.3447554111480713,
          -0.33904317021369934,
          -0.35171958804130554,
          -0.3652005195617676,
          -0.32231149077415466,
          -0.24067385494709015,
          -0.16297946870326996,
          -0.07863672822713852,
          -0.042407408356666565,
          -0.07883036136627197,
          -0.14399836957454681,
          -0.22695960104465485,
          -0.3393362760543823,
          -0.4030146598815918,
          -0.4075722396373749,
          -0.38767626881599426,
          -0.3426060378551483,
          -0.304920494556427,
          -0.3397584557533264,
          -0.43014150857925415,
          -0.49113357067108154,
          -0.5468339920043945,
          -0.5995942950248718,
          -0.6133477091789246,
          -0.5824869275093079,
          -0.5003607273101807,
          -0.4002910256385803,
          -0.3079233169555664,
          -0.26188573241233826,
          -0.25327935814857483,
          -0.2662299573421478,
          -0.2974162697792053,
          -0.2956964373588562,
          -0.23207983374595642,
          -0.16765131056308746,
          -0.20861339569091797,
          -0.31893083453178406,
          -0.4208136796951294,
          -0.5054690837860107,
          -0.5816763043403625,
          -0.6429061889648438,
          -0.6283171772956848,
          -0.5356317162513733,
          -0.4276777505874634,
          -0.32994091510772705,
          -0.24732047319412231,
          -0.1769239902496338,
          -0.10948801040649414,
          -0.022452285513281822,
          0.058561962097883224,
          0.07762019336223602,
          0.047900695353746414,
          0.06223253905773163,
          0.07548948377370834,
          0.01412722747772932,
          -0.05512925982475281,
          -0.12811556458473206,
          -0.19802318513393402,
          -0.2813737690448761,
          -0.35651257634162903,
          -0.39373794198036194,
          -0.3781268000602722,
          -0.2979300618171692,
          -0.21146048605442047,
          -0.1640245020389557,
          -0.15537643432617188,
          -0.1477801650762558,
          -0.09617730975151062,
          -0.011854184791445732,
          0.04596942663192749,
          0.045474857091903687,
          -0.011499599553644657,
          -0.07182607054710388,
          -0.09080544859170914,
          -0.13705003261566162,
          -0.2362939566373825,
          -0.32519838213920593,
          -0.3460320234298706,
          -0.2891803979873657,
          -0.19455398619174957,
          -0.10384543240070343,
          -0.048033617436885834,
          -0.04737265780568123,
          -0.09815527498722076,
          -0.1590769737958908,
          -0.23949792981147766,
          -0.34192514419555664,
          -0.4485032558441162,
          -0.5273098945617676,
          -0.5367690920829773,
          -0.5050246119499207,
          -0.4872592091560364,
          -0.4379856586456299,
          -0.34087586402893066,
          -0.25049617886543274,
          -0.22202256321907043,
          -0.26311007142066956,
          -0.2923086881637573,
          -0.29501041769981384,
          -0.31991517543792725,
          -0.3422630727291107,
          -0.3634049892425537,
          -0.40173083543777466,
          -0.36591026186943054,
          -0.27542853355407715,
          -0.20988929271697998,
          -0.13987746834754944,
          -0.06932556629180908,
          -0.029291648417711258,
          -0.00171661248896271,
          0.03076871670782566,
          0.04777258262038231,
          0.09442566335201263,
          0.18980374932289124,
          0.23490019142627716,
          0.24009782075881958,
          0.20724833011627197,
          0.1321128010749817,
          0.08672281354665756,
          0.10720702260732651,
          0.14340580999851227,
          0.12450236082077026,
          0.11353382468223572,
          0.15298992395401,
          0.22412486374378204,
          0.2880399823188782,
          0.34996238350868225,
          0.43252983689308167,
          0.5235256552696228,
          0.5935593843460083,
          0.6418600082397461,
          0.6364655494689941,
          0.5634911060333252,
          0.5230661034584045,
          0.4994216561317444,
          0.479474276304245,
          0.48645931482315063,
          0.47136497497558594,
          0.4434916079044342,
          0.41577982902526855,
          0.4275406301021576,
          0.4919506311416626,
          0.5221216678619385,
          0.5262734293937683,
          0.5622127056121826,
          0.5934078097343445,
          0.5974488854408264,
          0.6110447645187378,
          0.6389402151107788,
          0.68062824010849,
          0.7398400902748108,
          0.8018255233764648,
          0.8200320601463318,
          0.8043843507766724,
          0.8240656852722168,
          0.8155520558357239,
          0.7340626120567322,
          0.6390692591667175,
          0.5568426251411438,
          0.49106502532958984,
          0.45649421215057373,
          0.4639952778816223,
          0.43877360224723816,
          0.40775901079177856,
          0.4316701591014862,
          0.48603880405426025,
          0.5614582896232605,
          0.5862489342689514,
          0.5205937027931213,
          0.43908944725990295,
          0.3610502779483795,
          0.27939823269844055,
          0.2130986601114273,
          0.1721285730600357,
          0.1765373945236206,
          0.20296573638916016,
          0.24594762921333313,
          0.3072813153266907,
          0.3565193712711334,
          0.38340631127357483,
          0.36521443724632263,
          0.29151588678359985,
          0.20925965905189514,
          0.13662992417812347
         ],
         "z": [
          0.0015235014725476503,
          0.0710795670747757,
          0.09527832269668579,
          0.10775916278362274,
          0.17181305587291718,
          0.25904151797294617,
          0.3295414447784424,
          0.38760286569595337,
          0.40765181183815,
          0.3988074064254761,
          0.35320934653282166,
          0.2866070866584778,
          0.21113084256649017,
          0.118867889046669,
          0.02304605208337307,
          -0.07114555686712265,
          -0.1188393384218216,
          -0.08403432369232178,
          0.010931352153420448,
          0.08979623019695282,
          0.13861143589019775,
          0.21721293032169342,
          0.29195544123649597,
          0.3427621126174927,
          0.37634262442588806,
          0.4059906303882599,
          0.39808014035224915,
          0.32434600591659546,
          0.2613222599029541,
          0.22573857009410858,
          0.21586120128631592,
          0.23812969028949738,
          0.28376099467277527,
          0.3111441731452942,
          0.36278802156448364,
          0.4667399227619171,
          0.5568886399269104,
          0.6035128831863403,
          0.6293235421180725,
          0.6511960029602051,
          0.6471812725067139,
          0.6205459833145142,
          0.5739948749542236,
          0.5323333740234375,
          0.496381551027298,
          0.47673922777175903,
          0.5196296572685242,
          0.5649583339691162,
          0.5833212733268738,
          0.5673872232437134,
          0.4916791319847107,
          0.413148432970047,
          0.363716721534729,
          0.33949390053749084,
          0.35640162229537964,
          0.3764967620372772,
          0.3355758488178253,
          0.2634272873401642,
          0.18189090490341187,
          0.0889878049492836,
          0.05014576017856598,
          0.07541888952255249,
          0.12732481956481934,
          0.1928006112575531,
          0.26798728108406067,
          0.26162993907928467,
          0.19765417277812958,
          0.13598664104938507,
          0.04096229374408722,
          -0.05980957671999931,
          -0.10685364156961441,
          -0.1023545116186142,
          -0.1042095422744751,
          -0.09485973417758942,
          -0.04614120349287987,
          0.035280339419841766,
          0.08916141092777252,
          0.09596333652734756,
          0.056425295770168304,
          -0.022591955959796906,
          -0.09327483922243118,
          -0.16275116801261902,
          -0.25753113627433777,
          -0.3622768223285675,
          -0.46794968843460083,
          -0.5594713687896729,
          -0.6350038051605225,
          -0.6825443506240845,
          -0.6896320581436157,
          -0.6998043060302734,
          -0.7226849794387817,
          -0.7305716872215271,
          -0.7516896724700928,
          -0.7612461447715759,
          -0.7238020300865173,
          -0.6834284663200378,
          -0.6310440897941589,
          -0.5984575152397156,
          -0.5542627573013306,
          -0.46954089403152466,
          -0.4312991797924042,
          -0.4718100130558014,
          -0.4946734607219696,
          -0.4560239613056183,
          -0.42063501477241516,
          -0.3966008722782135,
          -0.4287864565849304,
          -0.5200901627540588,
          -0.5995749831199646,
          -0.6324400305747986,
          -0.6293631196022034,
          -0.6529648900032043,
          -0.6742022633552551,
          -0.6509743332862854,
          -0.6201382279396057,
          -0.6053112149238586,
          -0.5551913380622864,
          -0.4689936339855194,
          -0.4081385135650635,
          -0.3392731249332428,
          -0.2930269241333008,
          -0.3135232627391815,
          -0.3260691165924072,
          -0.2672232389450073,
          -0.21297357976436615,
          -0.16044235229492188,
          -0.10843795537948608,
          -0.1295686811208725,
          -0.19298624992370605,
          -0.2363925725221634,
          -0.24025239050388336,
          -0.26780498027801514,
          -0.3362596035003662,
          -0.4231570065021515,
          -0.5031384825706482,
          -0.5789008140563965,
          -0.6449452042579651,
          -0.6335415840148926,
          -0.5463868379592896,
          -0.44185683131217957,
          -0.34325629472732544,
          -0.256570965051651,
          -0.18090961873531342,
          -0.14018131792545319,
          -0.11446288228034973,
          -0.0577113963663578,
          -0.018912438303232193,
          -0.026293694972991943,
          -0.05704766511917114,
          -0.10915915668010712,
          -0.16258665919303894,
          -0.24124476313591003,
          -0.31774985790252686,
          -0.3336116671562195,
          -0.29145777225494385,
          -0.20825226604938507,
          -0.13199588656425476,
          -0.04960951581597328,
          0.04202871769666672,
          0.08896218240261078,
          0.140762597322464,
          0.23718708753585815,
          0.32274213433265686,
          0.3856574296951294,
          0.4170374274253845,
          0.4405893385410309,
          0.479013592004776,
          0.5230984687805176,
          0.5223917961120605,
          0.4549751579761505,
          0.3661012053489685,
          0.2623169422149658,
          0.15920566022396088,
          0.06724066287279129,
          -0.004784636665135622,
          -0.045288439840078354,
          -0.06690087914466858,
          -0.06966770440340042,
          -0.009762750007212162,
          0.09582382440567017,
          0.1859564334154129,
          0.24655179679393768,
          0.2962503135204315,
          0.35284048318862915,
          0.4219105541706085,
          0.5023722648620605,
          0.5387599468231201,
          0.5485315918922424,
          0.5443248748779297,
          0.5708574056625366,
          0.619621753692627,
          0.5830268859863281,
          0.48675402998924255,
          0.37645795941352844,
          0.28021514415740967,
          0.2153976857662201,
          0.1375533789396286,
          0.03129434585571289,
          -0.06791438162326813,
          -0.13172951340675354,
          -0.12197016179561615,
          -0.06899110972881317
         ]
        },
        {
         "line": {
          "color": "darkblue",
          "width": 2
         },
         "marker": {
          "color": [
           0,
           1,
           2,
           3,
           4,
           5,
           6,
           7,
           8,
           9,
           10,
           11,
           12,
           13,
           14,
           15,
           16,
           17,
           18,
           19,
           20,
           21,
           22,
           23,
           24,
           25,
           26,
           27,
           28,
           29,
           30,
           31,
           32,
           33,
           34,
           35,
           36,
           37,
           38,
           39,
           40,
           41,
           42,
           43,
           44,
           45,
           46,
           47,
           48,
           49,
           50,
           51,
           52,
           53,
           54,
           55,
           56,
           57,
           58,
           59,
           60,
           61,
           62,
           63,
           64,
           65,
           66,
           67,
           68,
           69,
           70,
           71,
           72,
           73,
           74,
           75,
           76,
           77,
           78,
           79,
           80,
           81,
           82,
           83,
           84,
           85,
           86,
           87,
           88,
           89,
           90,
           91,
           92,
           93,
           94,
           95,
           96,
           97,
           98,
           99,
           100,
           101,
           102,
           103,
           104,
           105,
           106,
           107,
           108,
           109,
           110,
           111,
           112,
           113,
           114,
           115,
           116,
           117,
           118,
           119,
           120,
           121,
           122,
           123,
           124,
           125,
           126,
           127,
           128,
           129,
           130,
           131,
           132,
           133,
           134,
           135,
           136,
           137,
           138,
           139,
           140,
           141,
           142,
           143,
           144,
           145,
           146,
           147,
           148,
           149,
           150,
           151,
           152,
           153,
           154,
           155,
           156,
           157,
           158,
           159,
           160,
           161,
           162,
           163,
           164,
           165,
           166,
           167,
           168,
           169,
           170,
           171,
           172,
           173,
           174,
           175,
           176,
           177,
           178,
           179,
           180,
           181,
           182,
           183,
           184,
           185,
           186,
           187,
           188,
           189,
           190,
           191,
           192,
           193,
           194,
           195,
           196,
           197,
           198,
           199,
           200,
           201
          ],
          "colorscale": [
           [
            0,
            "#440154"
           ],
           [
            0.1111111111111111,
            "#482878"
           ],
           [
            0.2222222222222222,
            "#3e4989"
           ],
           [
            0.3333333333333333,
            "#31688e"
           ],
           [
            0.4444444444444444,
            "#26828e"
           ],
           [
            0.5555555555555556,
            "#1f9e89"
           ],
           [
            0.6666666666666666,
            "#35b779"
           ],
           [
            0.7777777777777778,
            "#6ece58"
           ],
           [
            0.8888888888888888,
            "#b5de2b"
           ],
           [
            1,
            "#fde725"
           ]
          ],
          "size": 4
         },
         "scene": "scene2",
         "type": "scatter3d",
         "x": [
          -0.09576555410629702,
          -0.049168986112957905,
          0.008280412184234077,
          0.09440638831895075,
          0.17160643829121033,
          0.24714675864438124,
          0.3083585841542053,
          0.3826855629628412,
          0.4246682635581703,
          0.4177807200432401,
          0.34124475313457775,
          0.2687133714790043,
          0.17565400094317046,
          0.10395447494709667,
          0.04045128179619611,
          0.021537031097362894,
          0.0881884386960236,
          0.1595273880061205,
          0.2240628161744536,
          0.2763352022824858,
          0.3509191280815313,
          0.4091431322217348,
          0.4206932441818189,
          0.4469966293383684,
          0.48213223308520137,
          0.5220117907240308,
          0.5548617045038825,
          0.5747467439554342,
          0.5312987161058443,
          0.5449704180290799,
          0.5273421088106027,
          0.5072463285572025,
          0.5036711636526213,
          0.4775940643136805,
          0.47775109848726327,
          0.45680351864360863,
          0.4308790310915698,
          0.3912399833986713,
          0.31313710433492115,
          0.25939079533136467,
          0.2237376614255672,
          0.15346290598696818,
          0.09319537149726058,
          0.01807466282615306,
          -0.06723869017046533,
          -0.12057942563159621,
          -0.19346727877035305,
          -0.2982773825627355,
          -0.39046788535614246,
          -0.47777856655756135,
          -0.5135273617423842,
          -0.547387526607843,
          -0.5631888983220518,
          -0.517770738232255,
          -0.4782522109590843,
          -0.4659688831830093,
          -0.47145715250165704,
          -0.4728516497924704,
          -0.46341356136126366,
          -0.48433612451162394,
          -0.5067029883572336,
          -0.49325781669247015,
          -0.522438110717478,
          -0.5333421392632715,
          -0.5787088105621389,
          -0.6045760353498834,
          -0.6343220995049621,
          -0.6128829727375384,
          -0.5740364734704803,
          -0.5265806824365854,
          -0.4664736827397166,
          -0.4045935171298136,
          -0.3398003310386716,
          -0.23631479992570262,
          -0.17237132424242918,
          -0.13888619781745692,
          -0.1540877507907684,
          -0.1823973560581654,
          -0.2625534626480067,
          -0.3232307367915954,
          -0.3442856828592005,
          -0.3426237162469333,
          -0.29693535965762097,
          -0.23775291451854164,
          -0.17776521675524673,
          -0.1500258838492593,
          -0.15606436364641418,
          -0.11967696425578714,
          -0.04765381245691781,
          0.026449089003847136,
          0.10276076888913352,
          0.14968354205612336,
          0.1688495536433663,
          0.16206036458342835,
          0.19803558771270008,
          0.24063047424942371,
          0.29093682794342623,
          0.2923695852232179,
          0.2750806407593207,
          0.31305473968379965,
          0.2981302698600328,
          0.2886924316385082,
          0.23502096337109937,
          0.2141359979495307,
          0.21046224204459904,
          0.21414770217186746,
          0.22712151766497385,
          0.21771869788258988,
          0.19032663630776545,
          0.14711604648378734,
          0.09640097602964533,
          0.03509877190254505,
          0.025943697849442844,
          0.06614391910792508,
          0.1395110659971102,
          0.20624342480831406,
          0.2527759842833292,
          0.2919805352989945,
          0.3231295938966945,
          0.3699757331629979,
          0.37845264156093733,
          0.3828656558246569,
          0.3841139691941539,
          0.36438615569971067,
          0.36213103609743574,
          0.3704115769962851,
          0.37027312211667274,
          0.31740952764739117,
          0.2664615173312675,
          0.20499084666543418,
          0.12718565753998964,
          0.07627530080439604,
          0.09351233431968672,
          0.14309418907001145,
          0.18151736237291144,
          0.18596701975785976,
          0.17495363496179736,
          0.17911897575381044,
          0.21820625579182548,
          0.2512781541145656,
          0.26908648463232254,
          0.26089737746156355,
          0.244063069281895,
          0.234577024413815,
          0.29728129498932365,
          0.3121472383212381,
          0.30481828918830156,
          0.28264603459772597,
          0.21004457716747207,
          0.12293933188828272,
          0.09622386763648882,
          0.12765251353377347,
          0.18160337632954646,
          0.25708759575461115,
          0.3038055875527731,
          0.3452335386934956,
          0.39283722699510026,
          0.45548732349328314,
          0.4621366113024638,
          0.45726267863858644,
          0.3738128441104935,
          0.281612473903599,
          0.23065802763914156,
          0.1364564101663583,
          0.02266890475548603,
          -0.11515002102837144,
          -0.21009877765675958,
          -0.3248257244382712,
          -0.40628581921313833,
          -0.3994157040498548,
          -0.46930338072846134,
          -0.45815033688684775,
          -0.43920187370283037,
          -0.3969830122888632,
          -0.3635849749956647,
          -0.3628762858857652,
          -0.2994370395092231,
          -0.22110301238146018,
          -0.15788322979532574,
          -0.14072273451080247,
          -0.14747713553849806,
          -0.2331739439816521,
          -0.32926641295995973,
          -0.4259486736557506,
          -0.49575131115498255,
          -0.5395672841945539,
          -0.5495033703906058,
          -0.6223111565304758,
          -0.6289871584023387,
          -0.6341216772857032,
          -0.6063108433427611,
          -0.5782763251305046,
          -0.5491441089858642,
          -0.5392237948898317,
          -0.5157426740383426,
          -0.48206829170620974,
          -0.39830008797977956,
          -0.3851403913155884,
          -0.35645186832763165,
          -0.31950128214380674,
          -0.2691221148140521,
          -0.2098816985312698
         ],
         "y": [
          0.1221019629764487,
          0.1199870302395959,
          0.1700503185493182,
          0.20896375845363951,
          0.20931802156708354,
          0.17987110746501148,
          0.13052099662241112,
          0.03587955013511764,
          -0.10372172864078028,
          -0.1987546103690382,
          -0.28760641064522446,
          -0.29347940078669904,
          -0.2713427052510565,
          -0.25266991902985386,
          -0.21247889193272074,
          -0.18774706033438127,
          -0.238271021370118,
          -0.2752857613463886,
          -0.2894387849037506,
          -0.291982751033545,
          -0.33143069524298796,
          -0.38076652949219186,
          -0.40267222561470584,
          -0.3783386727558783,
          -0.30751558803796614,
          -0.23653282448544594,
          -0.19550067343641828,
          -0.16922858493063056,
          -0.23437132795492457,
          -0.2952895336939625,
          -0.41769455400855426,
          -0.5055450202967177,
          -0.48572780210782907,
          -0.4888415494408299,
          -0.46012360619203535,
          -0.44211868052556363,
          -0.46083562466838485,
          -0.4830157158126138,
          -0.5436439915434201,
          -0.5573595347257079,
          -0.5941633510338679,
          -0.6036782887444836,
          -0.5679326996783045,
          -0.5195009990485258,
          -0.4381210233176319,
          -0.34713152196147196,
          -0.2895309875839552,
          -0.280782295952989,
          -0.2805021693179111,
          -0.3152741557854481,
          -0.3066673246929936,
          -0.27587222478633094,
          -0.22004694414228704,
          -0.19986085411360288,
          -0.271978987469349,
          -0.36417031570441216,
          -0.41547492974344813,
          -0.4656801465404841,
          -0.49775497012360737,
          -0.5116078180692594,
          -0.4968846812253474,
          -0.4259102255235861,
          -0.37291715128794717,
          -0.2913736651633026,
          -0.23584382998400916,
          -0.18644391139051344,
          -0.13010003783595123,
          -0.01320285643708116,
          0.017810007950030574,
          0.016854474695494656,
          0.008359004105212852,
          0.033017050927158356,
          0.03171240934209122,
          0.009905902775448873,
          -0.04598156449530523,
          -0.10257772372985079,
          -0.18255808894517989,
          -0.27868094847701147,
          -0.30282175196590694,
          -0.3183206022550001,
          -0.2776959955293054,
          -0.2057271696196474,
          -0.15600622033532147,
          -0.13616458698302314,
          -0.14802621774013797,
          -0.12365223585227762,
          -0.05745365220039381,
          0.000875757552937471,
          0.032081424807748025,
          0.02249416221980528,
          -0.04750255421659286,
          -0.07055041901057675,
          -0.06545543731203643,
          -0.09866161543850539,
          -0.1986326896050383,
          -0.2572912081668763,
          -0.2533449642214916,
          -0.19829935130459045,
          -0.10434383655736884,
          -0.049141525069343266,
          -0.03797531172511325,
          -0.06987885074937021,
          -0.10061330958469605,
          -0.16158907056214772,
          -0.2560747244871574,
          -0.3181227283802578,
          -0.3988541424136881,
          -0.4389081467841324,
          -0.4370939006870715,
          -0.4384606059440893,
          -0.4155748763037261,
          -0.36534576916405104,
          -0.29017704166408204,
          -0.2446377037395426,
          -0.23609873633404618,
          -0.2452794588665218,
          -0.2732386425604648,
          -0.2888584770112245,
          -0.2938410402808558,
          -0.3057617408605146,
          -0.34604720025456553,
          -0.3275373297162752,
          -0.2925387373907955,
          -0.20205695822303707,
          -0.1251696060828635,
          -0.05806291949128312,
          -0.01621583098953504,
          0.009694706782445496,
          0.030295454328751085,
          0.05433964114177812,
          0.07116338035599501,
          0.13796673477251536,
          0.16308530073250396,
          0.16166404090133865,
          0.14988265900949527,
          0.11618898987953913,
          0.09032210774044362,
          0.09286660794797522,
          0.110211667363723,
          0.11580933873332556,
          0.10150697360394699,
          0.11958518695218015,
          0.1634738691997637,
          0.22434010645165248,
          0.2892306367044855,
          0.35660008974042373,
          0.4530907156177575,
          0.5232068792603541,
          0.5791823729066491,
          0.5746551062556502,
          0.5183702580631327,
          0.4568498362921086,
          0.4179892372564906,
          0.3887864580917053,
          0.4087027971562327,
          0.4207910966113716,
          0.4230848787236726,
          0.414857285698239,
          0.4134356599525338,
          0.4559129698347841,
          0.5124967768893025,
          0.535483641482246,
          0.5913280221694668,
          0.617388794990455,
          0.626869836704612,
          0.6320556382943364,
          0.640095562744846,
          0.6954111775129436,
          0.7459561911064237,
          0.7983085571440837,
          0.8287026728104129,
          0.7799239618804416,
          0.7725617501910607,
          0.8128455233784825,
          0.7506902077242057,
          0.6332387716050545,
          0.5356249035716528,
          0.47622332675523593,
          0.4454178475861384,
          0.4465738511626018,
          0.45952221893842393,
          0.4441274836760464,
          0.43757566952508203,
          0.46737812411014523,
          0.5498481047271808,
          0.6218927944801983,
          0.6278318936879655,
          0.547145629788851,
          0.44866359258210164,
          0.36728832208619483,
          0.3175066876083087,
          0.2647289047607108,
          0.23080663885117045,
          0.2222050368184914,
          0.23298366662916403,
          0.2724414972279327,
          0.3110094780780459,
          0.30722118712987345,
          0.28885562570928264,
          0.25138464589492626,
          0.19902428886547058,
          0.1570570940359208
         ],
         "z": [
          -0.06062900714806216,
          -0.004392468540475012,
          0.030936336598305404,
          0.045309238383258836,
          0.06624309280883993,
          0.1385345266107868,
          0.2183805444603695,
          0.277970349504173,
          0.327783055826587,
          0.33188960828894776,
          0.27317198906135787,
          0.2172935753500594,
          0.16664071440514852,
          0.08834862853969846,
          0.009995936263500541,
          -0.059715022788148636,
          -0.13955176348480677,
          -0.15573525247157444,
          -0.09396275266012623,
          -0.009306116184033512,
          0.05025435495094156,
          0.09424261038763054,
          0.16191614904403206,
          0.20496178624856848,
          0.24539328984215084,
          0.2994729071335282,
          0.3275158971304008,
          0.3096679767838138,
          0.2573715314512862,
          0.23325080325139966,
          0.22075432612477267,
          0.2226743312357325,
          0.22796206043860254,
          0.2628813859308527,
          0.2585302136590671,
          0.3125916355942945,
          0.42573154818205927,
          0.5315050168045675,
          0.6516756419563237,
          0.5888663824815323,
          0.5950183974206834,
          0.5704053943638955,
          0.5594787161872289,
          0.5104970424393963,
          0.49065952759275033,
          0.432950842222461,
          0.43921040877968165,
          0.4509735054767585,
          0.47995675878141136,
          0.510025512312406,
          0.4764598561608858,
          0.4423807379909209,
          0.38795904418606325,
          0.3494838668524354,
          0.3522022038500705,
          0.38074763837023434,
          0.38725951472039816,
          0.37914463465184634,
          0.3403851266589016,
          0.2903570340503252,
          0.24447432841931208,
          0.1987972408117624,
          0.21712615413123423,
          0.23102355133950775,
          0.2772068667404321,
          0.2784143880022886,
          0.23335486436390454,
          0.16543068917961956,
          0.09618762786555454,
          0.04286761926733762,
          -0.01810146824491233,
          -0.053930687067710564,
          -0.07810082632644684,
          -0.10550741790611388,
          -0.0929145845035885,
          -0.03261475036373535,
          0.03636356609154373,
          0.09347239619079366,
          0.08995595240247903,
          0.05437666643192576,
          -0.021444709506124527,
          -0.08112978476744921,
          -0.1358002334351566,
          -0.22425313845801428,
          -0.343152398181803,
          -0.3972684555019578,
          -0.45958162469523506,
          -0.5079411309273686,
          -0.5501042431813519,
          -0.5897142954371543,
          -0.64918326504057,
          -0.6540619775411539,
          -0.6915162534181377,
          -0.718158817485007,
          -0.7570375912963571,
          -0.6809027089333283,
          -0.6222845231481885,
          -0.5903975457112008,
          -0.5660064061018948,
          -0.49709423946298414,
          -0.4300839427058715,
          -0.4265797414501056,
          -0.4463813421691809,
          -0.4494219693733365,
          -0.44167858149788847,
          -0.3977707205111111,
          -0.38385098277756213,
          -0.4091281378292054,
          -0.4564164282690282,
          -0.4879490276233707,
          -0.4904270026189249,
          -0.513053472669752,
          -0.5324230102757798,
          -0.5490473498449563,
          -0.536119793146671,
          -0.5281454816645532,
          -0.5305417983353374,
          -0.48733388940028105,
          -0.4271834277943348,
          -0.35617955010489694,
          -0.32224437134801764,
          -0.2947042986375698,
          -0.32148992524520664,
          -0.30610753094065685,
          -0.2611630291725299,
          -0.21766409952849267,
          -0.16906942300953112,
          -0.1593352880950412,
          -0.18859661237297132,
          -0.21366117222591305,
          -0.20773466767141413,
          -0.20877335149221826,
          -0.23141626475350854,
          -0.29128851788986426,
          -0.345905999661224,
          -0.4185771557696057,
          -0.49750179028365354,
          -0.5340118215517142,
          -0.49646485941278834,
          -0.4070463580626864,
          -0.32667173749359907,
          -0.26405976679332444,
          -0.19032488572818795,
          -0.14913028490042327,
          -0.11014721226042642,
          -0.0658560756037433,
          -0.020873375519020167,
          -0.002866541042384432,
          0.0011423052309481561,
          0.008533112565259526,
          -0.04373826033041895,
          -0.0938700771615815,
          -0.15331146028475887,
          -0.21308243209505942,
          -0.23473753062987526,
          -0.2019783597135212,
          -0.15278103629187303,
          -0.06463979142057777,
          0.007995381407510308,
          0.07075312712254957,
          0.14147184722674236,
          0.14479881486001625,
          0.22422636197485044,
          0.2618353729292036,
          0.3091540677317014,
          0.34599157599149616,
          0.3595882917862264,
          0.3776512432685354,
          0.3759779413051808,
          0.36865219709377467,
          0.3049692906730597,
          0.2721215051302272,
          0.24420638374599002,
          0.22986628310942334,
          0.17383760850050373,
          0.08315933979460714,
          0.0337617331187173,
          0.014065481435462676,
          0.004126527901835048,
          0.040152992799117306,
          0.08003085731660539,
          0.13812750495315404,
          0.17838342832523033,
          0.2285971773652843,
          0.27144628627796,
          0.30170509980644117,
          0.332971808010186,
          0.3659432818911121,
          0.3740279572257636,
          0.38871277004930826,
          0.43599422516773556,
          0.42316142767646825,
          0.362110384352188,
          0.29366506821092053,
          0.23472141965867496,
          0.19079347612872413,
          0.1627462765933186,
          0.10021921940814957,
          0.03807130194264342,
          -0.015598130528160462,
          -0.06747106129686219,
          -0.07868608267296523
         ]
        }
       ],
       "layout": {
        "height": 1000,
        "scene": {
         "domain": {
          "x": [
           0,
           0.45
          ],
          "y": [
           0,
           1
          ]
         }
        },
        "scene2": {
         "domain": {
          "x": [
           0.55,
           1
          ],
          "y": [
           0,
           1
          ]
         }
        },
        "template": {
         "data": {
          "bar": [
           {
            "error_x": {
             "color": "#2a3f5f"
            },
            "error_y": {
             "color": "#2a3f5f"
            },
            "marker": {
             "line": {
              "color": "#E5ECF6",
              "width": 0.5
             }
            },
            "type": "bar"
           }
          ],
          "barpolar": [
           {
            "marker": {
             "line": {
              "color": "#E5ECF6",
              "width": 0.5
             }
            },
            "type": "barpolar"
           }
          ],
          "carpet": [
           {
            "aaxis": {
             "endlinecolor": "#2a3f5f",
             "gridcolor": "white",
             "linecolor": "white",
             "minorgridcolor": "white",
             "startlinecolor": "#2a3f5f"
            },
            "baxis": {
             "endlinecolor": "#2a3f5f",
             "gridcolor": "white",
             "linecolor": "white",
             "minorgridcolor": "white",
             "startlinecolor": "#2a3f5f"
            },
            "type": "carpet"
           }
          ],
          "choropleth": [
           {
            "colorbar": {
             "outlinewidth": 0,
             "ticks": ""
            },
            "type": "choropleth"
           }
          ],
          "contour": [
           {
            "colorbar": {
             "outlinewidth": 0,
             "ticks": ""
            },
            "colorscale": [
             [
              0,
              "#0d0887"
             ],
             [
              0.1111111111111111,
              "#46039f"
             ],
             [
              0.2222222222222222,
              "#7201a8"
             ],
             [
              0.3333333333333333,
              "#9c179e"
             ],
             [
              0.4444444444444444,
              "#bd3786"
             ],
             [
              0.5555555555555556,
              "#d8576b"
             ],
             [
              0.6666666666666666,
              "#ed7953"
             ],
             [
              0.7777777777777778,
              "#fb9f3a"
             ],
             [
              0.8888888888888888,
              "#fdca26"
             ],
             [
              1,
              "#f0f921"
             ]
            ],
            "type": "contour"
           }
          ],
          "contourcarpet": [
           {
            "colorbar": {
             "outlinewidth": 0,
             "ticks": ""
            },
            "type": "contourcarpet"
           }
          ],
          "heatmap": [
           {
            "colorbar": {
             "outlinewidth": 0,
             "ticks": ""
            },
            "colorscale": [
             [
              0,
              "#0d0887"
             ],
             [
              0.1111111111111111,
              "#46039f"
             ],
             [
              0.2222222222222222,
              "#7201a8"
             ],
             [
              0.3333333333333333,
              "#9c179e"
             ],
             [
              0.4444444444444444,
              "#bd3786"
             ],
             [
              0.5555555555555556,
              "#d8576b"
             ],
             [
              0.6666666666666666,
              "#ed7953"
             ],
             [
              0.7777777777777778,
              "#fb9f3a"
             ],
             [
              0.8888888888888888,
              "#fdca26"
             ],
             [
              1,
              "#f0f921"
             ]
            ],
            "type": "heatmap"
           }
          ],
          "heatmapgl": [
           {
            "colorbar": {
             "outlinewidth": 0,
             "ticks": ""
            },
            "colorscale": [
             [
              0,
              "#0d0887"
             ],
             [
              0.1111111111111111,
              "#46039f"
             ],
             [
              0.2222222222222222,
              "#7201a8"
             ],
             [
              0.3333333333333333,
              "#9c179e"
             ],
             [
              0.4444444444444444,
              "#bd3786"
             ],
             [
              0.5555555555555556,
              "#d8576b"
             ],
             [
              0.6666666666666666,
              "#ed7953"
             ],
             [
              0.7777777777777778,
              "#fb9f3a"
             ],
             [
              0.8888888888888888,
              "#fdca26"
             ],
             [
              1,
              "#f0f921"
             ]
            ],
            "type": "heatmapgl"
           }
          ],
          "histogram": [
           {
            "marker": {
             "colorbar": {
              "outlinewidth": 0,
              "ticks": ""
             }
            },
            "type": "histogram"
           }
          ],
          "histogram2d": [
           {
            "colorbar": {
             "outlinewidth": 0,
             "ticks": ""
            },
            "colorscale": [
             [
              0,
              "#0d0887"
             ],
             [
              0.1111111111111111,
              "#46039f"
             ],
             [
              0.2222222222222222,
              "#7201a8"
             ],
             [
              0.3333333333333333,
              "#9c179e"
             ],
             [
              0.4444444444444444,
              "#bd3786"
             ],
             [
              0.5555555555555556,
              "#d8576b"
             ],
             [
              0.6666666666666666,
              "#ed7953"
             ],
             [
              0.7777777777777778,
              "#fb9f3a"
             ],
             [
              0.8888888888888888,
              "#fdca26"
             ],
             [
              1,
              "#f0f921"
             ]
            ],
            "type": "histogram2d"
           }
          ],
          "histogram2dcontour": [
           {
            "colorbar": {
             "outlinewidth": 0,
             "ticks": ""
            },
            "colorscale": [
             [
              0,
              "#0d0887"
             ],
             [
              0.1111111111111111,
              "#46039f"
             ],
             [
              0.2222222222222222,
              "#7201a8"
             ],
             [
              0.3333333333333333,
              "#9c179e"
             ],
             [
              0.4444444444444444,
              "#bd3786"
             ],
             [
              0.5555555555555556,
              "#d8576b"
             ],
             [
              0.6666666666666666,
              "#ed7953"
             ],
             [
              0.7777777777777778,
              "#fb9f3a"
             ],
             [
              0.8888888888888888,
              "#fdca26"
             ],
             [
              1,
              "#f0f921"
             ]
            ],
            "type": "histogram2dcontour"
           }
          ],
          "mesh3d": [
           {
            "colorbar": {
             "outlinewidth": 0,
             "ticks": ""
            },
            "type": "mesh3d"
           }
          ],
          "parcoords": [
           {
            "line": {
             "colorbar": {
              "outlinewidth": 0,
              "ticks": ""
             }
            },
            "type": "parcoords"
           }
          ],
          "pie": [
           {
            "automargin": true,
            "type": "pie"
           }
          ],
          "scatter": [
           {
            "marker": {
             "colorbar": {
              "outlinewidth": 0,
              "ticks": ""
             }
            },
            "type": "scatter"
           }
          ],
          "scatter3d": [
           {
            "line": {
             "colorbar": {
              "outlinewidth": 0,
              "ticks": ""
             }
            },
            "marker": {
             "colorbar": {
              "outlinewidth": 0,
              "ticks": ""
             }
            },
            "type": "scatter3d"
           }
          ],
          "scattercarpet": [
           {
            "marker": {
             "colorbar": {
              "outlinewidth": 0,
              "ticks": ""
             }
            },
            "type": "scattercarpet"
           }
          ],
          "scattergeo": [
           {
            "marker": {
             "colorbar": {
              "outlinewidth": 0,
              "ticks": ""
             }
            },
            "type": "scattergeo"
           }
          ],
          "scattergl": [
           {
            "marker": {
             "colorbar": {
              "outlinewidth": 0,
              "ticks": ""
             }
            },
            "type": "scattergl"
           }
          ],
          "scattermapbox": [
           {
            "marker": {
             "colorbar": {
              "outlinewidth": 0,
              "ticks": ""
             }
            },
            "type": "scattermapbox"
           }
          ],
          "scatterpolar": [
           {
            "marker": {
             "colorbar": {
              "outlinewidth": 0,
              "ticks": ""
             }
            },
            "type": "scatterpolar"
           }
          ],
          "scatterpolargl": [
           {
            "marker": {
             "colorbar": {
              "outlinewidth": 0,
              "ticks": ""
             }
            },
            "type": "scatterpolargl"
           }
          ],
          "scatterternary": [
           {
            "marker": {
             "colorbar": {
              "outlinewidth": 0,
              "ticks": ""
             }
            },
            "type": "scatterternary"
           }
          ],
          "surface": [
           {
            "colorbar": {
             "outlinewidth": 0,
             "ticks": ""
            },
            "colorscale": [
             [
              0,
              "#0d0887"
             ],
             [
              0.1111111111111111,
              "#46039f"
             ],
             [
              0.2222222222222222,
              "#7201a8"
             ],
             [
              0.3333333333333333,
              "#9c179e"
             ],
             [
              0.4444444444444444,
              "#bd3786"
             ],
             [
              0.5555555555555556,
              "#d8576b"
             ],
             [
              0.6666666666666666,
              "#ed7953"
             ],
             [
              0.7777777777777778,
              "#fb9f3a"
             ],
             [
              0.8888888888888888,
              "#fdca26"
             ],
             [
              1,
              "#f0f921"
             ]
            ],
            "type": "surface"
           }
          ],
          "table": [
           {
            "cells": {
             "fill": {
              "color": "#EBF0F8"
             },
             "line": {
              "color": "white"
             }
            },
            "header": {
             "fill": {
              "color": "#C8D4E3"
             },
             "line": {
              "color": "white"
             }
            },
            "type": "table"
           }
          ]
         },
         "layout": {
          "annotationdefaults": {
           "arrowcolor": "#2a3f5f",
           "arrowhead": 0,
           "arrowwidth": 1
          },
          "autotypenumbers": "strict",
          "coloraxis": {
           "colorbar": {
            "outlinewidth": 0,
            "ticks": ""
           }
          },
          "colorscale": {
           "diverging": [
            [
             0,
             "#8e0152"
            ],
            [
             0.1,
             "#c51b7d"
            ],
            [
             0.2,
             "#de77ae"
            ],
            [
             0.3,
             "#f1b6da"
            ],
            [
             0.4,
             "#fde0ef"
            ],
            [
             0.5,
             "#f7f7f7"
            ],
            [
             0.6,
             "#e6f5d0"
            ],
            [
             0.7,
             "#b8e186"
            ],
            [
             0.8,
             "#7fbc41"
            ],
            [
             0.9,
             "#4d9221"
            ],
            [
             1,
             "#276419"
            ]
           ],
           "sequential": [
            [
             0,
             "#0d0887"
            ],
            [
             0.1111111111111111,
             "#46039f"
            ],
            [
             0.2222222222222222,
             "#7201a8"
            ],
            [
             0.3333333333333333,
             "#9c179e"
            ],
            [
             0.4444444444444444,
             "#bd3786"
            ],
            [
             0.5555555555555556,
             "#d8576b"
            ],
            [
             0.6666666666666666,
             "#ed7953"
            ],
            [
             0.7777777777777778,
             "#fb9f3a"
            ],
            [
             0.8888888888888888,
             "#fdca26"
            ],
            [
             1,
             "#f0f921"
            ]
           ],
           "sequentialminus": [
            [
             0,
             "#0d0887"
            ],
            [
             0.1111111111111111,
             "#46039f"
            ],
            [
             0.2222222222222222,
             "#7201a8"
            ],
            [
             0.3333333333333333,
             "#9c179e"
            ],
            [
             0.4444444444444444,
             "#bd3786"
            ],
            [
             0.5555555555555556,
             "#d8576b"
            ],
            [
             0.6666666666666666,
             "#ed7953"
            ],
            [
             0.7777777777777778,
             "#fb9f3a"
            ],
            [
             0.8888888888888888,
             "#fdca26"
            ],
            [
             1,
             "#f0f921"
            ]
           ]
          },
          "colorway": [
           "#636efa",
           "#EF553B",
           "#00cc96",
           "#ab63fa",
           "#FFA15A",
           "#19d3f3",
           "#FF6692",
           "#B6E880",
           "#FF97FF",
           "#FECB52"
          ],
          "font": {
           "color": "#2a3f5f"
          },
          "geo": {
           "bgcolor": "white",
           "lakecolor": "white",
           "landcolor": "#E5ECF6",
           "showlakes": true,
           "showland": true,
           "subunitcolor": "white"
          },
          "hoverlabel": {
           "align": "left"
          },
          "hovermode": "closest",
          "mapbox": {
           "style": "light"
          },
          "paper_bgcolor": "white",
          "plot_bgcolor": "#E5ECF6",
          "polar": {
           "angularaxis": {
            "gridcolor": "white",
            "linecolor": "white",
            "ticks": ""
           },
           "bgcolor": "#E5ECF6",
           "radialaxis": {
            "gridcolor": "white",
            "linecolor": "white",
            "ticks": ""
           }
          },
          "scene": {
           "xaxis": {
            "backgroundcolor": "#E5ECF6",
            "gridcolor": "white",
            "gridwidth": 2,
            "linecolor": "white",
            "showbackground": true,
            "ticks": "",
            "zerolinecolor": "white"
           },
           "yaxis": {
            "backgroundcolor": "#E5ECF6",
            "gridcolor": "white",
            "gridwidth": 2,
            "linecolor": "white",
            "showbackground": true,
            "ticks": "",
            "zerolinecolor": "white"
           },
           "zaxis": {
            "backgroundcolor": "#E5ECF6",
            "gridcolor": "white",
            "gridwidth": 2,
            "linecolor": "white",
            "showbackground": true,
            "ticks": "",
            "zerolinecolor": "white"
           }
          },
          "shapedefaults": {
           "line": {
            "color": "#2a3f5f"
           }
          },
          "ternary": {
           "aaxis": {
            "gridcolor": "white",
            "linecolor": "white",
            "ticks": ""
           },
           "baxis": {
            "gridcolor": "white",
            "linecolor": "white",
            "ticks": ""
           },
           "bgcolor": "#E5ECF6",
           "caxis": {
            "gridcolor": "white",
            "linecolor": "white",
            "ticks": ""
           }
          },
          "title": {
           "x": 0.05
          },
          "xaxis": {
           "automargin": true,
           "gridcolor": "white",
           "linecolor": "white",
           "ticks": "",
           "title": {
            "standoff": 15
           },
           "zerolinecolor": "white",
           "zerolinewidth": 2
          },
          "yaxis": {
           "automargin": true,
           "gridcolor": "white",
           "linecolor": "white",
           "ticks": "",
           "title": {
            "standoff": 15
           },
           "zerolinecolor": "white",
           "zerolinewidth": 2
          }
         }
        },
        "width": 1300
       }
      }
     },
     "metadata": {},
     "output_type": "display_data"
    },
    {
     "name": "stdout",
     "output_type": "stream",
     "text": [
      "Kabsch distance is 0.01981913456383467\n"
     ]
    },
    {
     "data": {
      "text/plain": [
       "<Figure size 50000x50000 with 0 Axes>"
      ]
     },
     "metadata": {},
     "output_type": "display_data"
    }
   ],
   "source": [
    "# Trussart perfect structure\n",
    "trussart_true_structure = np.mean(trussart_structures, axis=0)\n",
    "\n",
    "# Trussart predicted structure\n",
    "torch_trussart_hic = torch.FloatTensor(trussart_hic)\n",
    "torch_trussart_hic = torch.reshape(torch_trussart_hic, (1, NB_BINS, NB_BINS))\n",
    "torch_trussart_hic = torch.repeat_interleave(torch_trussart_hic, BATCH_SIZE, 0)\n",
    "\n",
    "trussart_pred_structure, trussart_pred_distance, trussart_pred_logits = model(torch_trussart_hic)\n",
    "trussart_pred_structure = trussart_pred_structure.detach().numpy()[0]\n",
    "\n",
    "# Superpose structure using Kabsch algorithm\n",
    "trussart_pred_structure_superposed, trussart_true_structure_superposed = \\\n",
    "        kabsch_superimposition_numpy(trussart_pred_structure, trussart_true_structure, EMBEDDING_SIZE)\n",
    "\n",
    "# Plot and compare the two structures\n",
    "x_pred = trussart_pred_structure_superposed[:, 0]  \n",
    "y_pred = trussart_pred_structure_superposed[:, 1]\n",
    "z_pred = trussart_pred_structure_superposed[:, 2]\n",
    "\n",
    "x_true = trussart_true_structure_superposed[:, 0]  \n",
    "y_true = trussart_true_structure_superposed[:, 1]\n",
    "z_true = trussart_true_structure_superposed[:, 2]\n",
    "\n",
    "colorscale1 = np.asarray(range(len(x_true)))\n",
    "colorscale2 = np.asarray(range(len(x_pred)))\n",
    "color1 = 'Viridis'\n",
    "color2 = 'Viridis'\n",
    "\n",
    "plot_true_pred_structures(x_pred, y_pred, z_pred, x_true, y_true, z_true, colorscale1, colorscale2, color1, color2)\n",
    "\n",
    "# Shape comparison\n",
    "print('Kabsch distance is ' + str(kabsch_distance_numpy(trussart_pred_structure, trussart_true_structure, EMBEDDING_SIZE)))"
   ]
  },
  {
   "cell_type": "code",
   "execution_count": 20,
   "metadata": {},
   "outputs": [
    {
     "name": "stdout",
     "output_type": "stream",
     "text": [
      "87.40189346993512\n",
      "tensor(0.8890, dtype=torch.float64)\n"
     ]
    }
   ],
   "source": [
    "confidence_metrics, pLLDTs = get_confidence_metrics(trussart_pred_logits.detach().numpy()[0])\n",
    "print(confidence_metrics)\n",
    "\n",
    "value = lddt(torch.from_numpy(trussart_pred_structure_superposed).unsqueeze(0),torch.from_numpy(trussart_true_structure_superposed).unsqueeze(0), per_residue=True)\n",
    "print(torch.mean(value))\n",
    "\n",
    "#print(pLLDTs)\n",
    "#print(value)"
   ]
  },
  {
   "cell_type": "code",
   "execution_count": 21,
   "metadata": {},
   "outputs": [
    {
     "data": {
      "application/vnd.plotly.v1+json": {
       "config": {
        "plotlyServerURL": "https://plot.ly"
       },
       "data": [
        {
         "line": {
          "color": "darkblue",
          "width": 2
         },
         "marker": {
          "color": [
           85.37217463096952,
           85.75621883060896,
           86.14625225208536,
           85.92594723335858,
           85.71734495275365,
           85.72720742385536,
           85.86252767208364,
           86.53178626066207,
           87.24300184113403,
           87.45567901464455,
           87.5748174468718,
           87.11460042969583,
           86.46083819150586,
           86.06193615428963,
           85.82352347788772,
           85.56212181797709,
           85.88171596363615,
           86.06436434820394,
           86.33449185671725,
           86.81861621731868,
           87.14124957761516,
           87.62652978616947,
           87.76212988347774,
           87.76513581970323,
           87.67124515339133,
           87.71444240424302,
           87.79844798088138,
           87.73412712166459,
           87.57083858487636,
           87.46672300122238,
           87.73121519259038,
           88.05062201645384,
           88.23108213822788,
           88.35282801779798,
           88.43282259181527,
           88.49313043090302,
           88.8482920608164,
           89.32731632392002,
           89.73656712962779,
           89.73858638187534,
           89.85681161196479,
           89.60393182000058,
           89.18156185949236,
           88.64519741460413,
           87.99229898870064,
           87.38342595018352,
           87.05680051659628,
           87.58516728847277,
           87.65181210698282,
           87.63904568420293,
           87.6373992930561,
           87.53244196180539,
           87.23449052628283,
           87.08628126111681,
           87.27843506595804,
           87.70633737892565,
           88.24125180997716,
           88.4954372856852,
           88.76607099889408,
           88.41993488834781,
           88.02416442286597,
           87.66089043401591,
           87.29452358189337,
           87.23347775794865,
           87.41056867287266,
           87.59124853383035,
           87.15494329585732,
           86.86194345816567,
           86.88779599979782,
           86.54681713370063,
           86.40809646415194,
           86.15438089947264,
           85.91140057252022,
           85.39311717561804,
           84.96093252302029,
           84.9295032233503,
           84.91710113695567,
           85.56707515162375,
           86.15407249291246,
           86.15318848411552,
           86.11649973668996,
           86.0059340626789,
           85.88768601770232,
           85.91569926606162,
           86.48066326436522,
           86.60077703727667,
           86.72763900721833,
           86.85228196660421,
           86.84806370199244,
           87.23696127001035,
           87.76067852231705,
           87.98363454921882,
           88.28682716886802,
           88.44465116147173,
           88.70652632262552,
           88.53716341173488,
           88.22301854590708,
           87.6731739540458,
           87.36001360789612,
           86.92327066987056,
           86.81421082883958,
           86.8024019436319,
           86.82572910274632,
           86.65312320871378,
           86.67472616997343,
           86.60847203159491,
           86.83458819486755,
           87.45334587652239,
           87.62821185682108,
           87.96464672105797,
           87.78805100427834,
           87.6430424124832,
           87.6876750855219,
           87.62789059138423,
           87.66930483291064,
           87.69816526192217,
           87.85209152666968,
           87.84196991520302,
           87.8290932747122,
           87.76726928789431,
           87.70911470227153,
           87.66672427868309,
           87.53670497756045,
           87.29339090138077,
           87.06238561813993,
           86.85379514383258,
           86.6135890693247,
           86.40393293472285,
           86.2470000259138,
           86.11727263825036,
           86.23510756272783,
           85.98092166100048,
           86.26694447115712,
           86.6260124378614,
           86.91410493370103,
           87.22482593196851,
           87.69548984753847,
           87.77869309417753,
           87.71452763476341,
           87.41732771706448,
           87.0459660214682,
           86.92440863124726,
           86.76780479362142,
           86.56632849280507,
           87.01369119939953,
           87.26099043722967,
           87.6684783177525,
           88.14050958224237,
           88.06106618276652,
           87.6884341418871,
           87.24791462793505,
           87.03694839593103,
           86.83288188157539,
           86.95698871487242,
           87.10527190309475,
           87.27996283452833,
           87.41153487170796,
           87.44037213911818,
           87.69613367715021,
           87.67529430975122,
           88.09284352123213,
           87.77803310153284,
           87.8678985483684,
           87.81838693141506,
           88.18300822453288,
           88.47994976324789,
           88.91872321610285,
           89.70692441806291,
           89.77409723888194,
           89.91184239721952,
           89.91556492332955,
           89.71879136609007,
           89.70705360934683,
           89.60204889695366,
           89.08834907160623,
           88.57219945331217,
           87.85594854158413,
           87.16863723898904,
           86.63329164189359,
           86.47074823187035,
           86.31274158397588,
           86.82429522105224,
           87.43476778253002,
           88.13252705668569,
           88.70434263553531,
           89.09406301713165,
           89.1865691062695,
           88.86303615341127,
           88.72701710779228,
           88.47832313298002,
           88.42478974028415,
           88.00326767472336,
           87.74456434922932,
           87.45819106527857,
           87.37255781433537,
           87.19463699451038,
           87.12768983777632,
           86.69919509149523,
           86.62985329751568,
           86.57662424576029,
           86.43320049410183,
           86.24399533904511
          ],
          "colorscale": [
           [
            0,
            "#000004"
           ],
           [
            0.1111111111111111,
            "#180f3d"
           ],
           [
            0.2222222222222222,
            "#440f76"
           ],
           [
            0.3333333333333333,
            "#721f81"
           ],
           [
            0.4444444444444444,
            "#9e2f7f"
           ],
           [
            0.5555555555555556,
            "#cd4071"
           ],
           [
            0.6666666666666666,
            "#f1605d"
           ],
           [
            0.7777777777777778,
            "#fd9668"
           ],
           [
            0.8888888888888888,
            "#feca8d"
           ],
           [
            1,
            "#fcfdbf"
           ]
          ],
          "line": {
           "width": 3
          },
          "size": 6
         },
         "opacity": 0.7,
         "scene": "scene",
         "type": "scatter3d",
         "x": [
          -0.09576555410629702,
          -0.049168986112957905,
          0.008280412184234077,
          0.09440638831895075,
          0.17160643829121033,
          0.24714675864438124,
          0.3083585841542053,
          0.3826855629628412,
          0.4246682635581703,
          0.4177807200432401,
          0.34124475313457775,
          0.2687133714790043,
          0.17565400094317046,
          0.10395447494709667,
          0.04045128179619611,
          0.021537031097362894,
          0.0881884386960236,
          0.1595273880061205,
          0.2240628161744536,
          0.2763352022824858,
          0.3509191280815313,
          0.4091431322217348,
          0.4206932441818189,
          0.4469966293383684,
          0.48213223308520137,
          0.5220117907240308,
          0.5548617045038825,
          0.5747467439554342,
          0.5312987161058443,
          0.5449704180290799,
          0.5273421088106027,
          0.5072463285572025,
          0.5036711636526213,
          0.4775940643136805,
          0.47775109848726327,
          0.45680351864360863,
          0.4308790310915698,
          0.3912399833986713,
          0.31313710433492115,
          0.25939079533136467,
          0.2237376614255672,
          0.15346290598696818,
          0.09319537149726058,
          0.01807466282615306,
          -0.06723869017046533,
          -0.12057942563159621,
          -0.19346727877035305,
          -0.2982773825627355,
          -0.39046788535614246,
          -0.47777856655756135,
          -0.5135273617423842,
          -0.547387526607843,
          -0.5631888983220518,
          -0.517770738232255,
          -0.4782522109590843,
          -0.4659688831830093,
          -0.47145715250165704,
          -0.4728516497924704,
          -0.46341356136126366,
          -0.48433612451162394,
          -0.5067029883572336,
          -0.49325781669247015,
          -0.522438110717478,
          -0.5333421392632715,
          -0.5787088105621389,
          -0.6045760353498834,
          -0.6343220995049621,
          -0.6128829727375384,
          -0.5740364734704803,
          -0.5265806824365854,
          -0.4664736827397166,
          -0.4045935171298136,
          -0.3398003310386716,
          -0.23631479992570262,
          -0.17237132424242918,
          -0.13888619781745692,
          -0.1540877507907684,
          -0.1823973560581654,
          -0.2625534626480067,
          -0.3232307367915954,
          -0.3442856828592005,
          -0.3426237162469333,
          -0.29693535965762097,
          -0.23775291451854164,
          -0.17776521675524673,
          -0.1500258838492593,
          -0.15606436364641418,
          -0.11967696425578714,
          -0.04765381245691781,
          0.026449089003847136,
          0.10276076888913352,
          0.14968354205612336,
          0.1688495536433663,
          0.16206036458342835,
          0.19803558771270008,
          0.24063047424942371,
          0.29093682794342623,
          0.2923695852232179,
          0.2750806407593207,
          0.31305473968379965,
          0.2981302698600328,
          0.2886924316385082,
          0.23502096337109937,
          0.2141359979495307,
          0.21046224204459904,
          0.21414770217186746,
          0.22712151766497385,
          0.21771869788258988,
          0.19032663630776545,
          0.14711604648378734,
          0.09640097602964533,
          0.03509877190254505,
          0.025943697849442844,
          0.06614391910792508,
          0.1395110659971102,
          0.20624342480831406,
          0.2527759842833292,
          0.2919805352989945,
          0.3231295938966945,
          0.3699757331629979,
          0.37845264156093733,
          0.3828656558246569,
          0.3841139691941539,
          0.36438615569971067,
          0.36213103609743574,
          0.3704115769962851,
          0.37027312211667274,
          0.31740952764739117,
          0.2664615173312675,
          0.20499084666543418,
          0.12718565753998964,
          0.07627530080439604,
          0.09351233431968672,
          0.14309418907001145,
          0.18151736237291144,
          0.18596701975785976,
          0.17495363496179736,
          0.17911897575381044,
          0.21820625579182548,
          0.2512781541145656,
          0.26908648463232254,
          0.26089737746156355,
          0.244063069281895,
          0.234577024413815,
          0.29728129498932365,
          0.3121472383212381,
          0.30481828918830156,
          0.28264603459772597,
          0.21004457716747207,
          0.12293933188828272,
          0.09622386763648882,
          0.12765251353377347,
          0.18160337632954646,
          0.25708759575461115,
          0.3038055875527731,
          0.3452335386934956,
          0.39283722699510026,
          0.45548732349328314,
          0.4621366113024638,
          0.45726267863858644,
          0.3738128441104935,
          0.281612473903599,
          0.23065802763914156,
          0.1364564101663583,
          0.02266890475548603,
          -0.11515002102837144,
          -0.21009877765675958,
          -0.3248257244382712,
          -0.40628581921313833,
          -0.3994157040498548,
          -0.46930338072846134,
          -0.45815033688684775,
          -0.43920187370283037,
          -0.3969830122888632,
          -0.3635849749956647,
          -0.3628762858857652,
          -0.2994370395092231,
          -0.22110301238146018,
          -0.15788322979532574,
          -0.14072273451080247,
          -0.14747713553849806,
          -0.2331739439816521,
          -0.32926641295995973,
          -0.4259486736557506,
          -0.49575131115498255,
          -0.5395672841945539,
          -0.5495033703906058,
          -0.6223111565304758,
          -0.6289871584023387,
          -0.6341216772857032,
          -0.6063108433427611,
          -0.5782763251305046,
          -0.5491441089858642,
          -0.5392237948898317,
          -0.5157426740383426,
          -0.48206829170620974,
          -0.39830008797977956,
          -0.3851403913155884,
          -0.35645186832763165,
          -0.31950128214380674,
          -0.2691221148140521,
          -0.2098816985312698
         ],
         "y": [
          0.1221019629764487,
          0.1199870302395959,
          0.1700503185493182,
          0.20896375845363951,
          0.20931802156708354,
          0.17987110746501148,
          0.13052099662241112,
          0.03587955013511764,
          -0.10372172864078028,
          -0.1987546103690382,
          -0.28760641064522446,
          -0.29347940078669904,
          -0.2713427052510565,
          -0.25266991902985386,
          -0.21247889193272074,
          -0.18774706033438127,
          -0.238271021370118,
          -0.2752857613463886,
          -0.2894387849037506,
          -0.291982751033545,
          -0.33143069524298796,
          -0.38076652949219186,
          -0.40267222561470584,
          -0.3783386727558783,
          -0.30751558803796614,
          -0.23653282448544594,
          -0.19550067343641828,
          -0.16922858493063056,
          -0.23437132795492457,
          -0.2952895336939625,
          -0.41769455400855426,
          -0.5055450202967177,
          -0.48572780210782907,
          -0.4888415494408299,
          -0.46012360619203535,
          -0.44211868052556363,
          -0.46083562466838485,
          -0.4830157158126138,
          -0.5436439915434201,
          -0.5573595347257079,
          -0.5941633510338679,
          -0.6036782887444836,
          -0.5679326996783045,
          -0.5195009990485258,
          -0.4381210233176319,
          -0.34713152196147196,
          -0.2895309875839552,
          -0.280782295952989,
          -0.2805021693179111,
          -0.3152741557854481,
          -0.3066673246929936,
          -0.27587222478633094,
          -0.22004694414228704,
          -0.19986085411360288,
          -0.271978987469349,
          -0.36417031570441216,
          -0.41547492974344813,
          -0.4656801465404841,
          -0.49775497012360737,
          -0.5116078180692594,
          -0.4968846812253474,
          -0.4259102255235861,
          -0.37291715128794717,
          -0.2913736651633026,
          -0.23584382998400916,
          -0.18644391139051344,
          -0.13010003783595123,
          -0.01320285643708116,
          0.017810007950030574,
          0.016854474695494656,
          0.008359004105212852,
          0.033017050927158356,
          0.03171240934209122,
          0.009905902775448873,
          -0.04598156449530523,
          -0.10257772372985079,
          -0.18255808894517989,
          -0.27868094847701147,
          -0.30282175196590694,
          -0.3183206022550001,
          -0.2776959955293054,
          -0.2057271696196474,
          -0.15600622033532147,
          -0.13616458698302314,
          -0.14802621774013797,
          -0.12365223585227762,
          -0.05745365220039381,
          0.000875757552937471,
          0.032081424807748025,
          0.02249416221980528,
          -0.04750255421659286,
          -0.07055041901057675,
          -0.06545543731203643,
          -0.09866161543850539,
          -0.1986326896050383,
          -0.2572912081668763,
          -0.2533449642214916,
          -0.19829935130459045,
          -0.10434383655736884,
          -0.049141525069343266,
          -0.03797531172511325,
          -0.06987885074937021,
          -0.10061330958469605,
          -0.16158907056214772,
          -0.2560747244871574,
          -0.3181227283802578,
          -0.3988541424136881,
          -0.4389081467841324,
          -0.4370939006870715,
          -0.4384606059440893,
          -0.4155748763037261,
          -0.36534576916405104,
          -0.29017704166408204,
          -0.2446377037395426,
          -0.23609873633404618,
          -0.2452794588665218,
          -0.2732386425604648,
          -0.2888584770112245,
          -0.2938410402808558,
          -0.3057617408605146,
          -0.34604720025456553,
          -0.3275373297162752,
          -0.2925387373907955,
          -0.20205695822303707,
          -0.1251696060828635,
          -0.05806291949128312,
          -0.01621583098953504,
          0.009694706782445496,
          0.030295454328751085,
          0.05433964114177812,
          0.07116338035599501,
          0.13796673477251536,
          0.16308530073250396,
          0.16166404090133865,
          0.14988265900949527,
          0.11618898987953913,
          0.09032210774044362,
          0.09286660794797522,
          0.110211667363723,
          0.11580933873332556,
          0.10150697360394699,
          0.11958518695218015,
          0.1634738691997637,
          0.22434010645165248,
          0.2892306367044855,
          0.35660008974042373,
          0.4530907156177575,
          0.5232068792603541,
          0.5791823729066491,
          0.5746551062556502,
          0.5183702580631327,
          0.4568498362921086,
          0.4179892372564906,
          0.3887864580917053,
          0.4087027971562327,
          0.4207910966113716,
          0.4230848787236726,
          0.414857285698239,
          0.4134356599525338,
          0.4559129698347841,
          0.5124967768893025,
          0.535483641482246,
          0.5913280221694668,
          0.617388794990455,
          0.626869836704612,
          0.6320556382943364,
          0.640095562744846,
          0.6954111775129436,
          0.7459561911064237,
          0.7983085571440837,
          0.8287026728104129,
          0.7799239618804416,
          0.7725617501910607,
          0.8128455233784825,
          0.7506902077242057,
          0.6332387716050545,
          0.5356249035716528,
          0.47622332675523593,
          0.4454178475861384,
          0.4465738511626018,
          0.45952221893842393,
          0.4441274836760464,
          0.43757566952508203,
          0.46737812411014523,
          0.5498481047271808,
          0.6218927944801983,
          0.6278318936879655,
          0.547145629788851,
          0.44866359258210164,
          0.36728832208619483,
          0.3175066876083087,
          0.2647289047607108,
          0.23080663885117045,
          0.2222050368184914,
          0.23298366662916403,
          0.2724414972279327,
          0.3110094780780459,
          0.30722118712987345,
          0.28885562570928264,
          0.25138464589492626,
          0.19902428886547058,
          0.1570570940359208
         ],
         "z": [
          -0.06062900714806216,
          -0.004392468540475012,
          0.030936336598305404,
          0.045309238383258836,
          0.06624309280883993,
          0.1385345266107868,
          0.2183805444603695,
          0.277970349504173,
          0.327783055826587,
          0.33188960828894776,
          0.27317198906135787,
          0.2172935753500594,
          0.16664071440514852,
          0.08834862853969846,
          0.009995936263500541,
          -0.059715022788148636,
          -0.13955176348480677,
          -0.15573525247157444,
          -0.09396275266012623,
          -0.009306116184033512,
          0.05025435495094156,
          0.09424261038763054,
          0.16191614904403206,
          0.20496178624856848,
          0.24539328984215084,
          0.2994729071335282,
          0.3275158971304008,
          0.3096679767838138,
          0.2573715314512862,
          0.23325080325139966,
          0.22075432612477267,
          0.2226743312357325,
          0.22796206043860254,
          0.2628813859308527,
          0.2585302136590671,
          0.3125916355942945,
          0.42573154818205927,
          0.5315050168045675,
          0.6516756419563237,
          0.5888663824815323,
          0.5950183974206834,
          0.5704053943638955,
          0.5594787161872289,
          0.5104970424393963,
          0.49065952759275033,
          0.432950842222461,
          0.43921040877968165,
          0.4509735054767585,
          0.47995675878141136,
          0.510025512312406,
          0.4764598561608858,
          0.4423807379909209,
          0.38795904418606325,
          0.3494838668524354,
          0.3522022038500705,
          0.38074763837023434,
          0.38725951472039816,
          0.37914463465184634,
          0.3403851266589016,
          0.2903570340503252,
          0.24447432841931208,
          0.1987972408117624,
          0.21712615413123423,
          0.23102355133950775,
          0.2772068667404321,
          0.2784143880022886,
          0.23335486436390454,
          0.16543068917961956,
          0.09618762786555454,
          0.04286761926733762,
          -0.01810146824491233,
          -0.053930687067710564,
          -0.07810082632644684,
          -0.10550741790611388,
          -0.0929145845035885,
          -0.03261475036373535,
          0.03636356609154373,
          0.09347239619079366,
          0.08995595240247903,
          0.05437666643192576,
          -0.021444709506124527,
          -0.08112978476744921,
          -0.1358002334351566,
          -0.22425313845801428,
          -0.343152398181803,
          -0.3972684555019578,
          -0.45958162469523506,
          -0.5079411309273686,
          -0.5501042431813519,
          -0.5897142954371543,
          -0.64918326504057,
          -0.6540619775411539,
          -0.6915162534181377,
          -0.718158817485007,
          -0.7570375912963571,
          -0.6809027089333283,
          -0.6222845231481885,
          -0.5903975457112008,
          -0.5660064061018948,
          -0.49709423946298414,
          -0.4300839427058715,
          -0.4265797414501056,
          -0.4463813421691809,
          -0.4494219693733365,
          -0.44167858149788847,
          -0.3977707205111111,
          -0.38385098277756213,
          -0.4091281378292054,
          -0.4564164282690282,
          -0.4879490276233707,
          -0.4904270026189249,
          -0.513053472669752,
          -0.5324230102757798,
          -0.5490473498449563,
          -0.536119793146671,
          -0.5281454816645532,
          -0.5305417983353374,
          -0.48733388940028105,
          -0.4271834277943348,
          -0.35617955010489694,
          -0.32224437134801764,
          -0.2947042986375698,
          -0.32148992524520664,
          -0.30610753094065685,
          -0.2611630291725299,
          -0.21766409952849267,
          -0.16906942300953112,
          -0.1593352880950412,
          -0.18859661237297132,
          -0.21366117222591305,
          -0.20773466767141413,
          -0.20877335149221826,
          -0.23141626475350854,
          -0.29128851788986426,
          -0.345905999661224,
          -0.4185771557696057,
          -0.49750179028365354,
          -0.5340118215517142,
          -0.49646485941278834,
          -0.4070463580626864,
          -0.32667173749359907,
          -0.26405976679332444,
          -0.19032488572818795,
          -0.14913028490042327,
          -0.11014721226042642,
          -0.0658560756037433,
          -0.020873375519020167,
          -0.002866541042384432,
          0.0011423052309481561,
          0.008533112565259526,
          -0.04373826033041895,
          -0.0938700771615815,
          -0.15331146028475887,
          -0.21308243209505942,
          -0.23473753062987526,
          -0.2019783597135212,
          -0.15278103629187303,
          -0.06463979142057777,
          0.007995381407510308,
          0.07075312712254957,
          0.14147184722674236,
          0.14479881486001625,
          0.22422636197485044,
          0.2618353729292036,
          0.3091540677317014,
          0.34599157599149616,
          0.3595882917862264,
          0.3776512432685354,
          0.3759779413051808,
          0.36865219709377467,
          0.3049692906730597,
          0.2721215051302272,
          0.24420638374599002,
          0.22986628310942334,
          0.17383760850050373,
          0.08315933979460714,
          0.0337617331187173,
          0.014065481435462676,
          0.004126527901835048,
          0.040152992799117306,
          0.08003085731660539,
          0.13812750495315404,
          0.17838342832523033,
          0.2285971773652843,
          0.27144628627796,
          0.30170509980644117,
          0.332971808010186,
          0.3659432818911121,
          0.3740279572257636,
          0.38871277004930826,
          0.43599422516773556,
          0.42316142767646825,
          0.362110384352188,
          0.29366506821092053,
          0.23472141965867496,
          0.19079347612872413,
          0.1627462765933186,
          0.10021921940814957,
          0.03807130194264342,
          -0.015598130528160462,
          -0.06747106129686219,
          -0.07868608267296523
         ]
        }
       ],
       "layout": {
        "height": 1000,
        "scene": {
         "domain": {
          "x": [
           0,
           1
          ],
          "y": [
           0,
           1
          ]
         }
        },
        "template": {
         "data": {
          "bar": [
           {
            "error_x": {
             "color": "#2a3f5f"
            },
            "error_y": {
             "color": "#2a3f5f"
            },
            "marker": {
             "line": {
              "color": "#E5ECF6",
              "width": 0.5
             }
            },
            "type": "bar"
           }
          ],
          "barpolar": [
           {
            "marker": {
             "line": {
              "color": "#E5ECF6",
              "width": 0.5
             }
            },
            "type": "barpolar"
           }
          ],
          "carpet": [
           {
            "aaxis": {
             "endlinecolor": "#2a3f5f",
             "gridcolor": "white",
             "linecolor": "white",
             "minorgridcolor": "white",
             "startlinecolor": "#2a3f5f"
            },
            "baxis": {
             "endlinecolor": "#2a3f5f",
             "gridcolor": "white",
             "linecolor": "white",
             "minorgridcolor": "white",
             "startlinecolor": "#2a3f5f"
            },
            "type": "carpet"
           }
          ],
          "choropleth": [
           {
            "colorbar": {
             "outlinewidth": 0,
             "ticks": ""
            },
            "type": "choropleth"
           }
          ],
          "contour": [
           {
            "colorbar": {
             "outlinewidth": 0,
             "ticks": ""
            },
            "colorscale": [
             [
              0,
              "#0d0887"
             ],
             [
              0.1111111111111111,
              "#46039f"
             ],
             [
              0.2222222222222222,
              "#7201a8"
             ],
             [
              0.3333333333333333,
              "#9c179e"
             ],
             [
              0.4444444444444444,
              "#bd3786"
             ],
             [
              0.5555555555555556,
              "#d8576b"
             ],
             [
              0.6666666666666666,
              "#ed7953"
             ],
             [
              0.7777777777777778,
              "#fb9f3a"
             ],
             [
              0.8888888888888888,
              "#fdca26"
             ],
             [
              1,
              "#f0f921"
             ]
            ],
            "type": "contour"
           }
          ],
          "contourcarpet": [
           {
            "colorbar": {
             "outlinewidth": 0,
             "ticks": ""
            },
            "type": "contourcarpet"
           }
          ],
          "heatmap": [
           {
            "colorbar": {
             "outlinewidth": 0,
             "ticks": ""
            },
            "colorscale": [
             [
              0,
              "#0d0887"
             ],
             [
              0.1111111111111111,
              "#46039f"
             ],
             [
              0.2222222222222222,
              "#7201a8"
             ],
             [
              0.3333333333333333,
              "#9c179e"
             ],
             [
              0.4444444444444444,
              "#bd3786"
             ],
             [
              0.5555555555555556,
              "#d8576b"
             ],
             [
              0.6666666666666666,
              "#ed7953"
             ],
             [
              0.7777777777777778,
              "#fb9f3a"
             ],
             [
              0.8888888888888888,
              "#fdca26"
             ],
             [
              1,
              "#f0f921"
             ]
            ],
            "type": "heatmap"
           }
          ],
          "heatmapgl": [
           {
            "colorbar": {
             "outlinewidth": 0,
             "ticks": ""
            },
            "colorscale": [
             [
              0,
              "#0d0887"
             ],
             [
              0.1111111111111111,
              "#46039f"
             ],
             [
              0.2222222222222222,
              "#7201a8"
             ],
             [
              0.3333333333333333,
              "#9c179e"
             ],
             [
              0.4444444444444444,
              "#bd3786"
             ],
             [
              0.5555555555555556,
              "#d8576b"
             ],
             [
              0.6666666666666666,
              "#ed7953"
             ],
             [
              0.7777777777777778,
              "#fb9f3a"
             ],
             [
              0.8888888888888888,
              "#fdca26"
             ],
             [
              1,
              "#f0f921"
             ]
            ],
            "type": "heatmapgl"
           }
          ],
          "histogram": [
           {
            "marker": {
             "colorbar": {
              "outlinewidth": 0,
              "ticks": ""
             }
            },
            "type": "histogram"
           }
          ],
          "histogram2d": [
           {
            "colorbar": {
             "outlinewidth": 0,
             "ticks": ""
            },
            "colorscale": [
             [
              0,
              "#0d0887"
             ],
             [
              0.1111111111111111,
              "#46039f"
             ],
             [
              0.2222222222222222,
              "#7201a8"
             ],
             [
              0.3333333333333333,
              "#9c179e"
             ],
             [
              0.4444444444444444,
              "#bd3786"
             ],
             [
              0.5555555555555556,
              "#d8576b"
             ],
             [
              0.6666666666666666,
              "#ed7953"
             ],
             [
              0.7777777777777778,
              "#fb9f3a"
             ],
             [
              0.8888888888888888,
              "#fdca26"
             ],
             [
              1,
              "#f0f921"
             ]
            ],
            "type": "histogram2d"
           }
          ],
          "histogram2dcontour": [
           {
            "colorbar": {
             "outlinewidth": 0,
             "ticks": ""
            },
            "colorscale": [
             [
              0,
              "#0d0887"
             ],
             [
              0.1111111111111111,
              "#46039f"
             ],
             [
              0.2222222222222222,
              "#7201a8"
             ],
             [
              0.3333333333333333,
              "#9c179e"
             ],
             [
              0.4444444444444444,
              "#bd3786"
             ],
             [
              0.5555555555555556,
              "#d8576b"
             ],
             [
              0.6666666666666666,
              "#ed7953"
             ],
             [
              0.7777777777777778,
              "#fb9f3a"
             ],
             [
              0.8888888888888888,
              "#fdca26"
             ],
             [
              1,
              "#f0f921"
             ]
            ],
            "type": "histogram2dcontour"
           }
          ],
          "mesh3d": [
           {
            "colorbar": {
             "outlinewidth": 0,
             "ticks": ""
            },
            "type": "mesh3d"
           }
          ],
          "parcoords": [
           {
            "line": {
             "colorbar": {
              "outlinewidth": 0,
              "ticks": ""
             }
            },
            "type": "parcoords"
           }
          ],
          "pie": [
           {
            "automargin": true,
            "type": "pie"
           }
          ],
          "scatter": [
           {
            "marker": {
             "colorbar": {
              "outlinewidth": 0,
              "ticks": ""
             }
            },
            "type": "scatter"
           }
          ],
          "scatter3d": [
           {
            "line": {
             "colorbar": {
              "outlinewidth": 0,
              "ticks": ""
             }
            },
            "marker": {
             "colorbar": {
              "outlinewidth": 0,
              "ticks": ""
             }
            },
            "type": "scatter3d"
           }
          ],
          "scattercarpet": [
           {
            "marker": {
             "colorbar": {
              "outlinewidth": 0,
              "ticks": ""
             }
            },
            "type": "scattercarpet"
           }
          ],
          "scattergeo": [
           {
            "marker": {
             "colorbar": {
              "outlinewidth": 0,
              "ticks": ""
             }
            },
            "type": "scattergeo"
           }
          ],
          "scattergl": [
           {
            "marker": {
             "colorbar": {
              "outlinewidth": 0,
              "ticks": ""
             }
            },
            "type": "scattergl"
           }
          ],
          "scattermapbox": [
           {
            "marker": {
             "colorbar": {
              "outlinewidth": 0,
              "ticks": ""
             }
            },
            "type": "scattermapbox"
           }
          ],
          "scatterpolar": [
           {
            "marker": {
             "colorbar": {
              "outlinewidth": 0,
              "ticks": ""
             }
            },
            "type": "scatterpolar"
           }
          ],
          "scatterpolargl": [
           {
            "marker": {
             "colorbar": {
              "outlinewidth": 0,
              "ticks": ""
             }
            },
            "type": "scatterpolargl"
           }
          ],
          "scatterternary": [
           {
            "marker": {
             "colorbar": {
              "outlinewidth": 0,
              "ticks": ""
             }
            },
            "type": "scatterternary"
           }
          ],
          "surface": [
           {
            "colorbar": {
             "outlinewidth": 0,
             "ticks": ""
            },
            "colorscale": [
             [
              0,
              "#0d0887"
             ],
             [
              0.1111111111111111,
              "#46039f"
             ],
             [
              0.2222222222222222,
              "#7201a8"
             ],
             [
              0.3333333333333333,
              "#9c179e"
             ],
             [
              0.4444444444444444,
              "#bd3786"
             ],
             [
              0.5555555555555556,
              "#d8576b"
             ],
             [
              0.6666666666666666,
              "#ed7953"
             ],
             [
              0.7777777777777778,
              "#fb9f3a"
             ],
             [
              0.8888888888888888,
              "#fdca26"
             ],
             [
              1,
              "#f0f921"
             ]
            ],
            "type": "surface"
           }
          ],
          "table": [
           {
            "cells": {
             "fill": {
              "color": "#EBF0F8"
             },
             "line": {
              "color": "white"
             }
            },
            "header": {
             "fill": {
              "color": "#C8D4E3"
             },
             "line": {
              "color": "white"
             }
            },
            "type": "table"
           }
          ]
         },
         "layout": {
          "annotationdefaults": {
           "arrowcolor": "#2a3f5f",
           "arrowhead": 0,
           "arrowwidth": 1
          },
          "autotypenumbers": "strict",
          "coloraxis": {
           "colorbar": {
            "outlinewidth": 0,
            "ticks": ""
           }
          },
          "colorscale": {
           "diverging": [
            [
             0,
             "#8e0152"
            ],
            [
             0.1,
             "#c51b7d"
            ],
            [
             0.2,
             "#de77ae"
            ],
            [
             0.3,
             "#f1b6da"
            ],
            [
             0.4,
             "#fde0ef"
            ],
            [
             0.5,
             "#f7f7f7"
            ],
            [
             0.6,
             "#e6f5d0"
            ],
            [
             0.7,
             "#b8e186"
            ],
            [
             0.8,
             "#7fbc41"
            ],
            [
             0.9,
             "#4d9221"
            ],
            [
             1,
             "#276419"
            ]
           ],
           "sequential": [
            [
             0,
             "#0d0887"
            ],
            [
             0.1111111111111111,
             "#46039f"
            ],
            [
             0.2222222222222222,
             "#7201a8"
            ],
            [
             0.3333333333333333,
             "#9c179e"
            ],
            [
             0.4444444444444444,
             "#bd3786"
            ],
            [
             0.5555555555555556,
             "#d8576b"
            ],
            [
             0.6666666666666666,
             "#ed7953"
            ],
            [
             0.7777777777777778,
             "#fb9f3a"
            ],
            [
             0.8888888888888888,
             "#fdca26"
            ],
            [
             1,
             "#f0f921"
            ]
           ],
           "sequentialminus": [
            [
             0,
             "#0d0887"
            ],
            [
             0.1111111111111111,
             "#46039f"
            ],
            [
             0.2222222222222222,
             "#7201a8"
            ],
            [
             0.3333333333333333,
             "#9c179e"
            ],
            [
             0.4444444444444444,
             "#bd3786"
            ],
            [
             0.5555555555555556,
             "#d8576b"
            ],
            [
             0.6666666666666666,
             "#ed7953"
            ],
            [
             0.7777777777777778,
             "#fb9f3a"
            ],
            [
             0.8888888888888888,
             "#fdca26"
            ],
            [
             1,
             "#f0f921"
            ]
           ]
          },
          "colorway": [
           "#636efa",
           "#EF553B",
           "#00cc96",
           "#ab63fa",
           "#FFA15A",
           "#19d3f3",
           "#FF6692",
           "#B6E880",
           "#FF97FF",
           "#FECB52"
          ],
          "font": {
           "color": "#2a3f5f"
          },
          "geo": {
           "bgcolor": "white",
           "lakecolor": "white",
           "landcolor": "#E5ECF6",
           "showlakes": true,
           "showland": true,
           "subunitcolor": "white"
          },
          "hoverlabel": {
           "align": "left"
          },
          "hovermode": "closest",
          "mapbox": {
           "style": "light"
          },
          "paper_bgcolor": "white",
          "plot_bgcolor": "#E5ECF6",
          "polar": {
           "angularaxis": {
            "gridcolor": "white",
            "linecolor": "white",
            "ticks": ""
           },
           "bgcolor": "#E5ECF6",
           "radialaxis": {
            "gridcolor": "white",
            "linecolor": "white",
            "ticks": ""
           }
          },
          "scene": {
           "xaxis": {
            "backgroundcolor": "#E5ECF6",
            "gridcolor": "white",
            "gridwidth": 2,
            "linecolor": "white",
            "showbackground": true,
            "ticks": "",
            "zerolinecolor": "white"
           },
           "yaxis": {
            "backgroundcolor": "#E5ECF6",
            "gridcolor": "white",
            "gridwidth": 2,
            "linecolor": "white",
            "showbackground": true,
            "ticks": "",
            "zerolinecolor": "white"
           },
           "zaxis": {
            "backgroundcolor": "#E5ECF6",
            "gridcolor": "white",
            "gridwidth": 2,
            "linecolor": "white",
            "showbackground": true,
            "ticks": "",
            "zerolinecolor": "white"
           }
          },
          "shapedefaults": {
           "line": {
            "color": "#2a3f5f"
           }
          },
          "ternary": {
           "aaxis": {
            "gridcolor": "white",
            "linecolor": "white",
            "ticks": ""
           },
           "baxis": {
            "gridcolor": "white",
            "linecolor": "white",
            "ticks": ""
           },
           "bgcolor": "#E5ECF6",
           "caxis": {
            "gridcolor": "white",
            "linecolor": "white",
            "ticks": ""
           }
          },
          "title": {
           "x": 0.05
          },
          "xaxis": {
           "automargin": true,
           "gridcolor": "white",
           "linecolor": "white",
           "ticks": "",
           "title": {
            "standoff": 15
           },
           "zerolinecolor": "white",
           "zerolinewidth": 2
          },
          "yaxis": {
           "automargin": true,
           "gridcolor": "white",
           "linecolor": "white",
           "ticks": "",
           "title": {
            "standoff": 15
           },
           "zerolinecolor": "white",
           "zerolinewidth": 2
          }
         }
        },
        "width": 1000
       }
      }
     },
     "metadata": {},
     "output_type": "display_data"
    }
   ],
   "source": [
    "color = 'magma'\n",
    "plot_pred_conf(trussart_pred_structure_superposed, pLLDTs, color)"
   ]
  },
  {
   "cell_type": "code",
   "execution_count": 22,
   "metadata": {},
   "outputs": [
    {
     "name": "stdout",
     "output_type": "stream",
     "text": [
      "torch.Size([202])\n",
      "torch.return_types.topk(\n",
      "values=tensor([0.1942, 0.1908, 0.1869, 0.1796, 0.1764, 0.1679, 0.1666, 0.1608, 0.1585,\n",
      "        0.1524], dtype=torch.float64),\n",
      "indices=tensor([ 30,  29, 121,  86,  87,  28,  85, 110,  31, 109]))\n",
      "torch.return_types.topk(\n",
      "values=tensor([0.2213, 0.2022, 0.2015, 0.1993, 0.1951, 0.1921, 0.1888, 0.1887, 0.1845,\n",
      "        0.1839], dtype=torch.float64),\n",
      "indices=tensor([121,  29,  30,  86,  87,  85, 120, 110, 136, 122]))\n",
      "[74 75 73 76 15  0 77  5  4  1]\n",
      "torch.return_types.topk(\n",
      "values=tensor([0.8012, 0.8024, 0.8070, 0.8079, 0.8137, 0.8164, 0.8295, 0.8320, 0.8325,\n",
      "        0.8352], dtype=torch.float64),\n",
      "indices=tensor([ 86, 121,  85,  87,  29,  30,  28, 110,  84, 134]))\n"
     ]
    }
   ],
   "source": [
    "####Max error to confidence interval\n",
    "dmat_true = torch.sqrt(1e-10 + torch.sum(\n",
    "    (torch.from_numpy(trussart_true_structure_superposed).unsqueeze(0)[:, :, None] - torch.from_numpy(trussart_true_structure_superposed).unsqueeze(0)[:, None, :])**2, axis=-1))\n",
    "dmat_predicted = torch.sqrt(1e-10 + torch.sum(\n",
    "    (torch.from_numpy(trussart_pred_structure_superposed).unsqueeze(0)[:, :, None] -\n",
    "    torch.from_numpy(trussart_pred_structure_superposed).unsqueeze(0)[:, None, :])**2, axis=-1))\n",
    "\n",
    "dists_to_score = (\n",
    "    (dmat_true).type(torch.FloatTensor) *(1. - torch.eye(dmat_true.shape[1]))  \n",
    ")\n",
    "\n",
    "dist_l1 = torch.abs(dmat_true - dmat_predicted)\n",
    "relative_error = torch.mean(torch.div(dist_l1, torch.abs(dmat_true))[0], dim=0)\n",
    "\n",
    "print(relative_error.shape)\n",
    "print(torch.topk(torch.mean(dist_l1[0],dim=0), k=10))\n",
    "print(torch.topk(relative_error, k=10, largest=True))\n",
    "print(np.argpartition(pLLDTs, 10)[:10])\n",
    "print(torch.topk(value[0], k=10, largest=False))"
   ]
  },
  {
   "cell_type": "code",
   "execution_count": 23,
   "metadata": {},
   "outputs": [
    {
     "data": {
      "application/vnd.plotly.v1+json": {
       "config": {
        "plotlyServerURL": "https://plot.ly"
       },
       "data": [
        {
         "line": {
          "color": "darkblue",
          "width": 2
         },
         "marker": {
          "color": [
           -0.11226746444280725,
           -0.1150274613477579,
           -0.1125367136796584,
           -0.11593979722634505,
           -0.14296739649518214,
           -0.15164130527470138,
           -0.1523463106867054,
           -0.1475461224803962,
           -0.12821396919023076,
           -0.125641197139147,
           -0.13108497225566287,
           -0.1375090445465695,
           -0.12434018867858554,
           -0.11967566889938375,
           -0.12261567206484336,
           -0.14346748143061844,
           -0.16149175578375113,
           -0.15598036210648436,
           -0.15117425209819899,
           -0.13183919790910895,
           -0.11443071169616037,
           -0.12260804840962322,
           -0.13365489837921857,
           -0.15363804587286714,
           -0.15451732951145974,
           -0.15071689057234997,
           -0.14211493340035236,
           -0.12460341530714139,
           -0.18360402475509632,
           -0.20216226865960096,
           -0.20150191398213715,
           -0.17007153420241897,
           -0.14037009855784482,
           -0.11041781959482165,
           -0.11857573557373324,
           -0.14091359829040254,
           -0.12458575921693946,
           -0.10238444265537058,
           -0.09293744381690057,
           -0.0925672069848568,
           -0.08754337796086209,
           -0.08920242687681931,
           -0.08873627283443565,
           -0.09301792301017367,
           -0.09262205928218596,
           -0.10401340047493453,
           -0.11243100236895158,
           -0.1267584345505187,
           -0.12356280714000296,
           -0.10352451170393245,
           -0.09817497060166508,
           -0.08030969057824176,
           -0.08899867109303546,
           -0.0870326260072842,
           -0.09873372772067253,
           -0.1068617660173368,
           -0.1120482860222158,
           -0.11836414672696256,
           -0.14293776533085817,
           -0.13574172057349337,
           -0.11658445401920824,
           -0.09737978603683578,
           -0.08490645465994508,
           -0.07807197163186229,
           -0.08572805711439634,
           -0.086528569653424,
           -0.08023060267423583,
           -0.07874613297636994,
           -0.08007501927728967,
           -0.09381723302728766,
           -0.09791563758498961,
           -0.08561069104899963,
           -0.08324341330949268,
           -0.09872963063412783,
           -0.12221409766218544,
           -0.14660740404262942,
           -0.14326569606666167,
           -0.1218070563952592,
           -0.12833056222761688,
           -0.11748559949731296,
           -0.10195601956638964,
           -0.10012201169259251,
           -0.13369115211634847,
           -0.15863997163371343,
           -0.16678042526182899,
           -0.19213732218274085,
           -0.1992551049070215,
           -0.19510597858241335,
           -0.16535450526375844,
           -0.14484199554579197,
           -0.1226719208279924,
           -0.12910964964865898,
           -0.12123125458094271,
           -0.12774916566657404,
           -0.08949645773692419,
           -0.13619712140649445,
           -0.15623390941005957,
           -0.1659765811562749,
           -0.1642533332140428,
           -0.13538394590902864,
           -0.12551883235278155,
           -0.12669305283029386,
           -0.13527873700631016,
           -0.13164322383334212,
           -0.136372490929839,
           -0.16302201724024598,
           -0.16900052993497444,
           -0.16903631854343026,
           -0.1725267801357237,
           -0.1790409915917238,
           -0.18872261675509314,
           -0.17795986073069958,
           -0.1731272821651852,
           -0.15046066102489225,
           -0.14765329855568435,
           -0.14904839975547443,
           -0.11792875140125872,
           -0.10567023542883805,
           -0.13517350318375215,
           -0.15864599148170952,
           -0.18877608352273817,
           -0.22129099438109573,
           -0.18389786524718968,
           -0.17478820325245606,
           -0.1592116036221688,
           -0.12971644337517452,
           -0.10991535997743888,
           -0.11757406353477726,
           -0.13277495681531049,
           -0.15479052722141343,
           -0.1724413690983172,
           -0.17156916099762784,
           -0.1736406236442774,
           -0.18075689040063844,
           -0.18315263854978103,
           -0.18202903717918856,
           -0.18453156690776798,
           -0.17304489949120908,
           -0.1474886864704348,
           -0.12862690413682507,
           -0.11992033937886741,
           -0.12494705806342331,
           -0.14129236592509917,
           -0.12623249279839366,
           -0.11682462495298403,
           -0.12142400632661442,
           -0.10914651982159172,
           -0.1107519389346016,
           -0.10968951406181424,
           -0.111841798713093,
           -0.11000161274447512,
           -0.13230659092398925,
           -0.15344201913648586,
           -0.15205983761918368,
           -0.13273683740920836,
           -0.11222307772643884,
           -0.11057999435503181,
           -0.1076169825965458,
           -0.10509731962475444,
           -0.08120372456221793,
           -0.07154336060406757,
           -0.10068444186747336,
           -0.09280478878178187,
           -0.10168340452585965,
           -0.09221729857350504,
           -0.08928117073656981,
           -0.0967545991083567,
           -0.09659252544382743,
           -0.09202895302083411,
           -0.0783971616307873,
           -0.06708690142378601,
           -0.07951193780422453,
           -0.08882744458100628,
           -0.08851201790178023,
           -0.10136722093851118,
           -0.09767815918056474,
           -0.10046859300658217,
           -0.09907077959611862,
           -0.08857599013613378,
           -0.09518372388287379,
           -0.10279152569842753,
           -0.105473729291726,
           -0.100849667359435,
           -0.09909025881756185,
           -0.10148506482916819,
           -0.09972935693487846,
           -0.10275537452534345,
           -0.09538206331572092,
           -0.11232908151227554,
           -0.12608935578586936,
           -0.12834139150333312,
           -0.11854726106268187,
           -0.10789452041517328,
           -0.09409876837073036,
           -0.08487542202680232,
           -0.09867252023805571,
           -0.08953538776450201,
           -0.10909222546528373,
           -0.12536882467175148,
           -0.1171315596111732,
           -0.09351444187201577,
           -0.08727038579558906
          ],
          "colorscale": [
           [
            0,
            "#000004"
           ],
           [
            0.1111111111111111,
            "#180f3d"
           ],
           [
            0.2222222222222222,
            "#440f76"
           ],
           [
            0.3333333333333333,
            "#721f81"
           ],
           [
            0.4444444444444444,
            "#9e2f7f"
           ],
           [
            0.5555555555555556,
            "#cd4071"
           ],
           [
            0.6666666666666666,
            "#f1605d"
           ],
           [
            0.7777777777777778,
            "#fd9668"
           ],
           [
            0.8888888888888888,
            "#feca8d"
           ],
           [
            1,
            "#fcfdbf"
           ]
          ],
          "size": 4
         },
         "scene": "scene",
         "type": "scatter3d",
         "x": [
          -0.09576555410629702,
          -0.049168986112957905,
          0.008280412184234077,
          0.09440638831895075,
          0.17160643829121033,
          0.24714675864438124,
          0.3083585841542053,
          0.3826855629628412,
          0.4246682635581703,
          0.4177807200432401,
          0.34124475313457775,
          0.2687133714790043,
          0.17565400094317046,
          0.10395447494709667,
          0.04045128179619611,
          0.021537031097362894,
          0.0881884386960236,
          0.1595273880061205,
          0.2240628161744536,
          0.2763352022824858,
          0.3509191280815313,
          0.4091431322217348,
          0.4206932441818189,
          0.4469966293383684,
          0.48213223308520137,
          0.5220117907240308,
          0.5548617045038825,
          0.5747467439554342,
          0.5312987161058443,
          0.5449704180290799,
          0.5273421088106027,
          0.5072463285572025,
          0.5036711636526213,
          0.4775940643136805,
          0.47775109848726327,
          0.45680351864360863,
          0.4308790310915698,
          0.3912399833986713,
          0.31313710433492115,
          0.25939079533136467,
          0.2237376614255672,
          0.15346290598696818,
          0.09319537149726058,
          0.01807466282615306,
          -0.06723869017046533,
          -0.12057942563159621,
          -0.19346727877035305,
          -0.2982773825627355,
          -0.39046788535614246,
          -0.47777856655756135,
          -0.5135273617423842,
          -0.547387526607843,
          -0.5631888983220518,
          -0.517770738232255,
          -0.4782522109590843,
          -0.4659688831830093,
          -0.47145715250165704,
          -0.4728516497924704,
          -0.46341356136126366,
          -0.48433612451162394,
          -0.5067029883572336,
          -0.49325781669247015,
          -0.522438110717478,
          -0.5333421392632715,
          -0.5787088105621389,
          -0.6045760353498834,
          -0.6343220995049621,
          -0.6128829727375384,
          -0.5740364734704803,
          -0.5265806824365854,
          -0.4664736827397166,
          -0.4045935171298136,
          -0.3398003310386716,
          -0.23631479992570262,
          -0.17237132424242918,
          -0.13888619781745692,
          -0.1540877507907684,
          -0.1823973560581654,
          -0.2625534626480067,
          -0.3232307367915954,
          -0.3442856828592005,
          -0.3426237162469333,
          -0.29693535965762097,
          -0.23775291451854164,
          -0.17776521675524673,
          -0.1500258838492593,
          -0.15606436364641418,
          -0.11967696425578714,
          -0.04765381245691781,
          0.026449089003847136,
          0.10276076888913352,
          0.14968354205612336,
          0.1688495536433663,
          0.16206036458342835,
          0.19803558771270008,
          0.24063047424942371,
          0.29093682794342623,
          0.2923695852232179,
          0.2750806407593207,
          0.31305473968379965,
          0.2981302698600328,
          0.2886924316385082,
          0.23502096337109937,
          0.2141359979495307,
          0.21046224204459904,
          0.21414770217186746,
          0.22712151766497385,
          0.21771869788258988,
          0.19032663630776545,
          0.14711604648378734,
          0.09640097602964533,
          0.03509877190254505,
          0.025943697849442844,
          0.06614391910792508,
          0.1395110659971102,
          0.20624342480831406,
          0.2527759842833292,
          0.2919805352989945,
          0.3231295938966945,
          0.3699757331629979,
          0.37845264156093733,
          0.3828656558246569,
          0.3841139691941539,
          0.36438615569971067,
          0.36213103609743574,
          0.3704115769962851,
          0.37027312211667274,
          0.31740952764739117,
          0.2664615173312675,
          0.20499084666543418,
          0.12718565753998964,
          0.07627530080439604,
          0.09351233431968672,
          0.14309418907001145,
          0.18151736237291144,
          0.18596701975785976,
          0.17495363496179736,
          0.17911897575381044,
          0.21820625579182548,
          0.2512781541145656,
          0.26908648463232254,
          0.26089737746156355,
          0.244063069281895,
          0.234577024413815,
          0.29728129498932365,
          0.3121472383212381,
          0.30481828918830156,
          0.28264603459772597,
          0.21004457716747207,
          0.12293933188828272,
          0.09622386763648882,
          0.12765251353377347,
          0.18160337632954646,
          0.25708759575461115,
          0.3038055875527731,
          0.3452335386934956,
          0.39283722699510026,
          0.45548732349328314,
          0.4621366113024638,
          0.45726267863858644,
          0.3738128441104935,
          0.281612473903599,
          0.23065802763914156,
          0.1364564101663583,
          0.02266890475548603,
          -0.11515002102837144,
          -0.21009877765675958,
          -0.3248257244382712,
          -0.40628581921313833,
          -0.3994157040498548,
          -0.46930338072846134,
          -0.45815033688684775,
          -0.43920187370283037,
          -0.3969830122888632,
          -0.3635849749956647,
          -0.3628762858857652,
          -0.2994370395092231,
          -0.22110301238146018,
          -0.15788322979532574,
          -0.14072273451080247,
          -0.14747713553849806,
          -0.2331739439816521,
          -0.32926641295995973,
          -0.4259486736557506,
          -0.49575131115498255,
          -0.5395672841945539,
          -0.5495033703906058,
          -0.6223111565304758,
          -0.6289871584023387,
          -0.6341216772857032,
          -0.6063108433427611,
          -0.5782763251305046,
          -0.5491441089858642,
          -0.5392237948898317,
          -0.5157426740383426,
          -0.48206829170620974,
          -0.39830008797977956,
          -0.3851403913155884,
          -0.35645186832763165,
          -0.31950128214380674,
          -0.2691221148140521,
          -0.2098816985312698
         ],
         "y": [
          0.1221019629764487,
          0.1199870302395959,
          0.1700503185493182,
          0.20896375845363951,
          0.20931802156708354,
          0.17987110746501148,
          0.13052099662241112,
          0.03587955013511764,
          -0.10372172864078028,
          -0.1987546103690382,
          -0.28760641064522446,
          -0.29347940078669904,
          -0.2713427052510565,
          -0.25266991902985386,
          -0.21247889193272074,
          -0.18774706033438127,
          -0.238271021370118,
          -0.2752857613463886,
          -0.2894387849037506,
          -0.291982751033545,
          -0.33143069524298796,
          -0.38076652949219186,
          -0.40267222561470584,
          -0.3783386727558783,
          -0.30751558803796614,
          -0.23653282448544594,
          -0.19550067343641828,
          -0.16922858493063056,
          -0.23437132795492457,
          -0.2952895336939625,
          -0.41769455400855426,
          -0.5055450202967177,
          -0.48572780210782907,
          -0.4888415494408299,
          -0.46012360619203535,
          -0.44211868052556363,
          -0.46083562466838485,
          -0.4830157158126138,
          -0.5436439915434201,
          -0.5573595347257079,
          -0.5941633510338679,
          -0.6036782887444836,
          -0.5679326996783045,
          -0.5195009990485258,
          -0.4381210233176319,
          -0.34713152196147196,
          -0.2895309875839552,
          -0.280782295952989,
          -0.2805021693179111,
          -0.3152741557854481,
          -0.3066673246929936,
          -0.27587222478633094,
          -0.22004694414228704,
          -0.19986085411360288,
          -0.271978987469349,
          -0.36417031570441216,
          -0.41547492974344813,
          -0.4656801465404841,
          -0.49775497012360737,
          -0.5116078180692594,
          -0.4968846812253474,
          -0.4259102255235861,
          -0.37291715128794717,
          -0.2913736651633026,
          -0.23584382998400916,
          -0.18644391139051344,
          -0.13010003783595123,
          -0.01320285643708116,
          0.017810007950030574,
          0.016854474695494656,
          0.008359004105212852,
          0.033017050927158356,
          0.03171240934209122,
          0.009905902775448873,
          -0.04598156449530523,
          -0.10257772372985079,
          -0.18255808894517989,
          -0.27868094847701147,
          -0.30282175196590694,
          -0.3183206022550001,
          -0.2776959955293054,
          -0.2057271696196474,
          -0.15600622033532147,
          -0.13616458698302314,
          -0.14802621774013797,
          -0.12365223585227762,
          -0.05745365220039381,
          0.000875757552937471,
          0.032081424807748025,
          0.02249416221980528,
          -0.04750255421659286,
          -0.07055041901057675,
          -0.06545543731203643,
          -0.09866161543850539,
          -0.1986326896050383,
          -0.2572912081668763,
          -0.2533449642214916,
          -0.19829935130459045,
          -0.10434383655736884,
          -0.049141525069343266,
          -0.03797531172511325,
          -0.06987885074937021,
          -0.10061330958469605,
          -0.16158907056214772,
          -0.2560747244871574,
          -0.3181227283802578,
          -0.3988541424136881,
          -0.4389081467841324,
          -0.4370939006870715,
          -0.4384606059440893,
          -0.4155748763037261,
          -0.36534576916405104,
          -0.29017704166408204,
          -0.2446377037395426,
          -0.23609873633404618,
          -0.2452794588665218,
          -0.2732386425604648,
          -0.2888584770112245,
          -0.2938410402808558,
          -0.3057617408605146,
          -0.34604720025456553,
          -0.3275373297162752,
          -0.2925387373907955,
          -0.20205695822303707,
          -0.1251696060828635,
          -0.05806291949128312,
          -0.01621583098953504,
          0.009694706782445496,
          0.030295454328751085,
          0.05433964114177812,
          0.07116338035599501,
          0.13796673477251536,
          0.16308530073250396,
          0.16166404090133865,
          0.14988265900949527,
          0.11618898987953913,
          0.09032210774044362,
          0.09286660794797522,
          0.110211667363723,
          0.11580933873332556,
          0.10150697360394699,
          0.11958518695218015,
          0.1634738691997637,
          0.22434010645165248,
          0.2892306367044855,
          0.35660008974042373,
          0.4530907156177575,
          0.5232068792603541,
          0.5791823729066491,
          0.5746551062556502,
          0.5183702580631327,
          0.4568498362921086,
          0.4179892372564906,
          0.3887864580917053,
          0.4087027971562327,
          0.4207910966113716,
          0.4230848787236726,
          0.414857285698239,
          0.4134356599525338,
          0.4559129698347841,
          0.5124967768893025,
          0.535483641482246,
          0.5913280221694668,
          0.617388794990455,
          0.626869836704612,
          0.6320556382943364,
          0.640095562744846,
          0.6954111775129436,
          0.7459561911064237,
          0.7983085571440837,
          0.8287026728104129,
          0.7799239618804416,
          0.7725617501910607,
          0.8128455233784825,
          0.7506902077242057,
          0.6332387716050545,
          0.5356249035716528,
          0.47622332675523593,
          0.4454178475861384,
          0.4465738511626018,
          0.45952221893842393,
          0.4441274836760464,
          0.43757566952508203,
          0.46737812411014523,
          0.5498481047271808,
          0.6218927944801983,
          0.6278318936879655,
          0.547145629788851,
          0.44866359258210164,
          0.36728832208619483,
          0.3175066876083087,
          0.2647289047607108,
          0.23080663885117045,
          0.2222050368184914,
          0.23298366662916403,
          0.2724414972279327,
          0.3110094780780459,
          0.30722118712987345,
          0.28885562570928264,
          0.25138464589492626,
          0.19902428886547058,
          0.1570570940359208
         ],
         "z": [
          -0.06062900714806216,
          -0.004392468540475012,
          0.030936336598305404,
          0.045309238383258836,
          0.06624309280883993,
          0.1385345266107868,
          0.2183805444603695,
          0.277970349504173,
          0.327783055826587,
          0.33188960828894776,
          0.27317198906135787,
          0.2172935753500594,
          0.16664071440514852,
          0.08834862853969846,
          0.009995936263500541,
          -0.059715022788148636,
          -0.13955176348480677,
          -0.15573525247157444,
          -0.09396275266012623,
          -0.009306116184033512,
          0.05025435495094156,
          0.09424261038763054,
          0.16191614904403206,
          0.20496178624856848,
          0.24539328984215084,
          0.2994729071335282,
          0.3275158971304008,
          0.3096679767838138,
          0.2573715314512862,
          0.23325080325139966,
          0.22075432612477267,
          0.2226743312357325,
          0.22796206043860254,
          0.2628813859308527,
          0.2585302136590671,
          0.3125916355942945,
          0.42573154818205927,
          0.5315050168045675,
          0.6516756419563237,
          0.5888663824815323,
          0.5950183974206834,
          0.5704053943638955,
          0.5594787161872289,
          0.5104970424393963,
          0.49065952759275033,
          0.432950842222461,
          0.43921040877968165,
          0.4509735054767585,
          0.47995675878141136,
          0.510025512312406,
          0.4764598561608858,
          0.4423807379909209,
          0.38795904418606325,
          0.3494838668524354,
          0.3522022038500705,
          0.38074763837023434,
          0.38725951472039816,
          0.37914463465184634,
          0.3403851266589016,
          0.2903570340503252,
          0.24447432841931208,
          0.1987972408117624,
          0.21712615413123423,
          0.23102355133950775,
          0.2772068667404321,
          0.2784143880022886,
          0.23335486436390454,
          0.16543068917961956,
          0.09618762786555454,
          0.04286761926733762,
          -0.01810146824491233,
          -0.053930687067710564,
          -0.07810082632644684,
          -0.10550741790611388,
          -0.0929145845035885,
          -0.03261475036373535,
          0.03636356609154373,
          0.09347239619079366,
          0.08995595240247903,
          0.05437666643192576,
          -0.021444709506124527,
          -0.08112978476744921,
          -0.1358002334351566,
          -0.22425313845801428,
          -0.343152398181803,
          -0.3972684555019578,
          -0.45958162469523506,
          -0.5079411309273686,
          -0.5501042431813519,
          -0.5897142954371543,
          -0.64918326504057,
          -0.6540619775411539,
          -0.6915162534181377,
          -0.718158817485007,
          -0.7570375912963571,
          -0.6809027089333283,
          -0.6222845231481885,
          -0.5903975457112008,
          -0.5660064061018948,
          -0.49709423946298414,
          -0.4300839427058715,
          -0.4265797414501056,
          -0.4463813421691809,
          -0.4494219693733365,
          -0.44167858149788847,
          -0.3977707205111111,
          -0.38385098277756213,
          -0.4091281378292054,
          -0.4564164282690282,
          -0.4879490276233707,
          -0.4904270026189249,
          -0.513053472669752,
          -0.5324230102757798,
          -0.5490473498449563,
          -0.536119793146671,
          -0.5281454816645532,
          -0.5305417983353374,
          -0.48733388940028105,
          -0.4271834277943348,
          -0.35617955010489694,
          -0.32224437134801764,
          -0.2947042986375698,
          -0.32148992524520664,
          -0.30610753094065685,
          -0.2611630291725299,
          -0.21766409952849267,
          -0.16906942300953112,
          -0.1593352880950412,
          -0.18859661237297132,
          -0.21366117222591305,
          -0.20773466767141413,
          -0.20877335149221826,
          -0.23141626475350854,
          -0.29128851788986426,
          -0.345905999661224,
          -0.4185771557696057,
          -0.49750179028365354,
          -0.5340118215517142,
          -0.49646485941278834,
          -0.4070463580626864,
          -0.32667173749359907,
          -0.26405976679332444,
          -0.19032488572818795,
          -0.14913028490042327,
          -0.11014721226042642,
          -0.0658560756037433,
          -0.020873375519020167,
          -0.002866541042384432,
          0.0011423052309481561,
          0.008533112565259526,
          -0.04373826033041895,
          -0.0938700771615815,
          -0.15331146028475887,
          -0.21308243209505942,
          -0.23473753062987526,
          -0.2019783597135212,
          -0.15278103629187303,
          -0.06463979142057777,
          0.007995381407510308,
          0.07075312712254957,
          0.14147184722674236,
          0.14479881486001625,
          0.22422636197485044,
          0.2618353729292036,
          0.3091540677317014,
          0.34599157599149616,
          0.3595882917862264,
          0.3776512432685354,
          0.3759779413051808,
          0.36865219709377467,
          0.3049692906730597,
          0.2721215051302272,
          0.24420638374599002,
          0.22986628310942334,
          0.17383760850050373,
          0.08315933979460714,
          0.0337617331187173,
          0.014065481435462676,
          0.004126527901835048,
          0.040152992799117306,
          0.08003085731660539,
          0.13812750495315404,
          0.17838342832523033,
          0.2285971773652843,
          0.27144628627796,
          0.30170509980644117,
          0.332971808010186,
          0.3659432818911121,
          0.3740279572257636,
          0.38871277004930826,
          0.43599422516773556,
          0.42316142767646825,
          0.362110384352188,
          0.29366506821092053,
          0.23472141965867496,
          0.19079347612872413,
          0.1627462765933186,
          0.10021921940814957,
          0.03807130194264342,
          -0.015598130528160462,
          -0.06747106129686219,
          -0.07868608267296523
         ]
        },
        {
         "line": {
          "color": "darkblue",
          "width": 2
         },
         "marker": {
          "color": [
           85.37217463096952,
           85.75621883060896,
           86.14625225208536,
           85.92594723335858,
           85.71734495275365,
           85.72720742385536,
           85.86252767208364,
           86.53178626066207,
           87.24300184113403,
           87.45567901464455,
           87.5748174468718,
           87.11460042969583,
           86.46083819150586,
           86.06193615428963,
           85.82352347788772,
           85.56212181797709,
           85.88171596363615,
           86.06436434820394,
           86.33449185671725,
           86.81861621731868,
           87.14124957761516,
           87.62652978616947,
           87.76212988347774,
           87.76513581970323,
           87.67124515339133,
           87.71444240424302,
           87.79844798088138,
           87.73412712166459,
           87.57083858487636,
           87.46672300122238,
           87.73121519259038,
           88.05062201645384,
           88.23108213822788,
           88.35282801779798,
           88.43282259181527,
           88.49313043090302,
           88.8482920608164,
           89.32731632392002,
           89.73656712962779,
           89.73858638187534,
           89.85681161196479,
           89.60393182000058,
           89.18156185949236,
           88.64519741460413,
           87.99229898870064,
           87.38342595018352,
           87.05680051659628,
           87.58516728847277,
           87.65181210698282,
           87.63904568420293,
           87.6373992930561,
           87.53244196180539,
           87.23449052628283,
           87.08628126111681,
           87.27843506595804,
           87.70633737892565,
           88.24125180997716,
           88.4954372856852,
           88.76607099889408,
           88.41993488834781,
           88.02416442286597,
           87.66089043401591,
           87.29452358189337,
           87.23347775794865,
           87.41056867287266,
           87.59124853383035,
           87.15494329585732,
           86.86194345816567,
           86.88779599979782,
           86.54681713370063,
           86.40809646415194,
           86.15438089947264,
           85.91140057252022,
           85.39311717561804,
           84.96093252302029,
           84.9295032233503,
           84.91710113695567,
           85.56707515162375,
           86.15407249291246,
           86.15318848411552,
           86.11649973668996,
           86.0059340626789,
           85.88768601770232,
           85.91569926606162,
           86.48066326436522,
           86.60077703727667,
           86.72763900721833,
           86.85228196660421,
           86.84806370199244,
           87.23696127001035,
           87.76067852231705,
           87.98363454921882,
           88.28682716886802,
           88.44465116147173,
           88.70652632262552,
           88.53716341173488,
           88.22301854590708,
           87.6731739540458,
           87.36001360789612,
           86.92327066987056,
           86.81421082883958,
           86.8024019436319,
           86.82572910274632,
           86.65312320871378,
           86.67472616997343,
           86.60847203159491,
           86.83458819486755,
           87.45334587652239,
           87.62821185682108,
           87.96464672105797,
           87.78805100427834,
           87.6430424124832,
           87.6876750855219,
           87.62789059138423,
           87.66930483291064,
           87.69816526192217,
           87.85209152666968,
           87.84196991520302,
           87.8290932747122,
           87.76726928789431,
           87.70911470227153,
           87.66672427868309,
           87.53670497756045,
           87.29339090138077,
           87.06238561813993,
           86.85379514383258,
           86.6135890693247,
           86.40393293472285,
           86.2470000259138,
           86.11727263825036,
           86.23510756272783,
           85.98092166100048,
           86.26694447115712,
           86.6260124378614,
           86.91410493370103,
           87.22482593196851,
           87.69548984753847,
           87.77869309417753,
           87.71452763476341,
           87.41732771706448,
           87.0459660214682,
           86.92440863124726,
           86.76780479362142,
           86.56632849280507,
           87.01369119939953,
           87.26099043722967,
           87.6684783177525,
           88.14050958224237,
           88.06106618276652,
           87.6884341418871,
           87.24791462793505,
           87.03694839593103,
           86.83288188157539,
           86.95698871487242,
           87.10527190309475,
           87.27996283452833,
           87.41153487170796,
           87.44037213911818,
           87.69613367715021,
           87.67529430975122,
           88.09284352123213,
           87.77803310153284,
           87.8678985483684,
           87.81838693141506,
           88.18300822453288,
           88.47994976324789,
           88.91872321610285,
           89.70692441806291,
           89.77409723888194,
           89.91184239721952,
           89.91556492332955,
           89.71879136609007,
           89.70705360934683,
           89.60204889695366,
           89.08834907160623,
           88.57219945331217,
           87.85594854158413,
           87.16863723898904,
           86.63329164189359,
           86.47074823187035,
           86.31274158397588,
           86.82429522105224,
           87.43476778253002,
           88.13252705668569,
           88.70434263553531,
           89.09406301713165,
           89.1865691062695,
           88.86303615341127,
           88.72701710779228,
           88.47832313298002,
           88.42478974028415,
           88.00326767472336,
           87.74456434922932,
           87.45819106527857,
           87.37255781433537,
           87.19463699451038,
           87.12768983777632,
           86.69919509149523,
           86.62985329751568,
           86.57662424576029,
           86.43320049410183,
           86.24399533904511
          ],
          "colorscale": [
           [
            0,
            "#000004"
           ],
           [
            0.1111111111111111,
            "#180f3d"
           ],
           [
            0.2222222222222222,
            "#440f76"
           ],
           [
            0.3333333333333333,
            "#721f81"
           ],
           [
            0.4444444444444444,
            "#9e2f7f"
           ],
           [
            0.5555555555555556,
            "#cd4071"
           ],
           [
            0.6666666666666666,
            "#f1605d"
           ],
           [
            0.7777777777777778,
            "#fd9668"
           ],
           [
            0.8888888888888888,
            "#feca8d"
           ],
           [
            1,
            "#fcfdbf"
           ]
          ],
          "size": 4
         },
         "scene": "scene2",
         "type": "scatter3d",
         "x": [
          -0.09576555410629702,
          -0.049168986112957905,
          0.008280412184234077,
          0.09440638831895075,
          0.17160643829121033,
          0.24714675864438124,
          0.3083585841542053,
          0.3826855629628412,
          0.4246682635581703,
          0.4177807200432401,
          0.34124475313457775,
          0.2687133714790043,
          0.17565400094317046,
          0.10395447494709667,
          0.04045128179619611,
          0.021537031097362894,
          0.0881884386960236,
          0.1595273880061205,
          0.2240628161744536,
          0.2763352022824858,
          0.3509191280815313,
          0.4091431322217348,
          0.4206932441818189,
          0.4469966293383684,
          0.48213223308520137,
          0.5220117907240308,
          0.5548617045038825,
          0.5747467439554342,
          0.5312987161058443,
          0.5449704180290799,
          0.5273421088106027,
          0.5072463285572025,
          0.5036711636526213,
          0.4775940643136805,
          0.47775109848726327,
          0.45680351864360863,
          0.4308790310915698,
          0.3912399833986713,
          0.31313710433492115,
          0.25939079533136467,
          0.2237376614255672,
          0.15346290598696818,
          0.09319537149726058,
          0.01807466282615306,
          -0.06723869017046533,
          -0.12057942563159621,
          -0.19346727877035305,
          -0.2982773825627355,
          -0.39046788535614246,
          -0.47777856655756135,
          -0.5135273617423842,
          -0.547387526607843,
          -0.5631888983220518,
          -0.517770738232255,
          -0.4782522109590843,
          -0.4659688831830093,
          -0.47145715250165704,
          -0.4728516497924704,
          -0.46341356136126366,
          -0.48433612451162394,
          -0.5067029883572336,
          -0.49325781669247015,
          -0.522438110717478,
          -0.5333421392632715,
          -0.5787088105621389,
          -0.6045760353498834,
          -0.6343220995049621,
          -0.6128829727375384,
          -0.5740364734704803,
          -0.5265806824365854,
          -0.4664736827397166,
          -0.4045935171298136,
          -0.3398003310386716,
          -0.23631479992570262,
          -0.17237132424242918,
          -0.13888619781745692,
          -0.1540877507907684,
          -0.1823973560581654,
          -0.2625534626480067,
          -0.3232307367915954,
          -0.3442856828592005,
          -0.3426237162469333,
          -0.29693535965762097,
          -0.23775291451854164,
          -0.17776521675524673,
          -0.1500258838492593,
          -0.15606436364641418,
          -0.11967696425578714,
          -0.04765381245691781,
          0.026449089003847136,
          0.10276076888913352,
          0.14968354205612336,
          0.1688495536433663,
          0.16206036458342835,
          0.19803558771270008,
          0.24063047424942371,
          0.29093682794342623,
          0.2923695852232179,
          0.2750806407593207,
          0.31305473968379965,
          0.2981302698600328,
          0.2886924316385082,
          0.23502096337109937,
          0.2141359979495307,
          0.21046224204459904,
          0.21414770217186746,
          0.22712151766497385,
          0.21771869788258988,
          0.19032663630776545,
          0.14711604648378734,
          0.09640097602964533,
          0.03509877190254505,
          0.025943697849442844,
          0.06614391910792508,
          0.1395110659971102,
          0.20624342480831406,
          0.2527759842833292,
          0.2919805352989945,
          0.3231295938966945,
          0.3699757331629979,
          0.37845264156093733,
          0.3828656558246569,
          0.3841139691941539,
          0.36438615569971067,
          0.36213103609743574,
          0.3704115769962851,
          0.37027312211667274,
          0.31740952764739117,
          0.2664615173312675,
          0.20499084666543418,
          0.12718565753998964,
          0.07627530080439604,
          0.09351233431968672,
          0.14309418907001145,
          0.18151736237291144,
          0.18596701975785976,
          0.17495363496179736,
          0.17911897575381044,
          0.21820625579182548,
          0.2512781541145656,
          0.26908648463232254,
          0.26089737746156355,
          0.244063069281895,
          0.234577024413815,
          0.29728129498932365,
          0.3121472383212381,
          0.30481828918830156,
          0.28264603459772597,
          0.21004457716747207,
          0.12293933188828272,
          0.09622386763648882,
          0.12765251353377347,
          0.18160337632954646,
          0.25708759575461115,
          0.3038055875527731,
          0.3452335386934956,
          0.39283722699510026,
          0.45548732349328314,
          0.4621366113024638,
          0.45726267863858644,
          0.3738128441104935,
          0.281612473903599,
          0.23065802763914156,
          0.1364564101663583,
          0.02266890475548603,
          -0.11515002102837144,
          -0.21009877765675958,
          -0.3248257244382712,
          -0.40628581921313833,
          -0.3994157040498548,
          -0.46930338072846134,
          -0.45815033688684775,
          -0.43920187370283037,
          -0.3969830122888632,
          -0.3635849749956647,
          -0.3628762858857652,
          -0.2994370395092231,
          -0.22110301238146018,
          -0.15788322979532574,
          -0.14072273451080247,
          -0.14747713553849806,
          -0.2331739439816521,
          -0.32926641295995973,
          -0.4259486736557506,
          -0.49575131115498255,
          -0.5395672841945539,
          -0.5495033703906058,
          -0.6223111565304758,
          -0.6289871584023387,
          -0.6341216772857032,
          -0.6063108433427611,
          -0.5782763251305046,
          -0.5491441089858642,
          -0.5392237948898317,
          -0.5157426740383426,
          -0.48206829170620974,
          -0.39830008797977956,
          -0.3851403913155884,
          -0.35645186832763165,
          -0.31950128214380674,
          -0.2691221148140521,
          -0.2098816985312698
         ],
         "y": [
          0.1221019629764487,
          0.1199870302395959,
          0.1700503185493182,
          0.20896375845363951,
          0.20931802156708354,
          0.17987110746501148,
          0.13052099662241112,
          0.03587955013511764,
          -0.10372172864078028,
          -0.1987546103690382,
          -0.28760641064522446,
          -0.29347940078669904,
          -0.2713427052510565,
          -0.25266991902985386,
          -0.21247889193272074,
          -0.18774706033438127,
          -0.238271021370118,
          -0.2752857613463886,
          -0.2894387849037506,
          -0.291982751033545,
          -0.33143069524298796,
          -0.38076652949219186,
          -0.40267222561470584,
          -0.3783386727558783,
          -0.30751558803796614,
          -0.23653282448544594,
          -0.19550067343641828,
          -0.16922858493063056,
          -0.23437132795492457,
          -0.2952895336939625,
          -0.41769455400855426,
          -0.5055450202967177,
          -0.48572780210782907,
          -0.4888415494408299,
          -0.46012360619203535,
          -0.44211868052556363,
          -0.46083562466838485,
          -0.4830157158126138,
          -0.5436439915434201,
          -0.5573595347257079,
          -0.5941633510338679,
          -0.6036782887444836,
          -0.5679326996783045,
          -0.5195009990485258,
          -0.4381210233176319,
          -0.34713152196147196,
          -0.2895309875839552,
          -0.280782295952989,
          -0.2805021693179111,
          -0.3152741557854481,
          -0.3066673246929936,
          -0.27587222478633094,
          -0.22004694414228704,
          -0.19986085411360288,
          -0.271978987469349,
          -0.36417031570441216,
          -0.41547492974344813,
          -0.4656801465404841,
          -0.49775497012360737,
          -0.5116078180692594,
          -0.4968846812253474,
          -0.4259102255235861,
          -0.37291715128794717,
          -0.2913736651633026,
          -0.23584382998400916,
          -0.18644391139051344,
          -0.13010003783595123,
          -0.01320285643708116,
          0.017810007950030574,
          0.016854474695494656,
          0.008359004105212852,
          0.033017050927158356,
          0.03171240934209122,
          0.009905902775448873,
          -0.04598156449530523,
          -0.10257772372985079,
          -0.18255808894517989,
          -0.27868094847701147,
          -0.30282175196590694,
          -0.3183206022550001,
          -0.2776959955293054,
          -0.2057271696196474,
          -0.15600622033532147,
          -0.13616458698302314,
          -0.14802621774013797,
          -0.12365223585227762,
          -0.05745365220039381,
          0.000875757552937471,
          0.032081424807748025,
          0.02249416221980528,
          -0.04750255421659286,
          -0.07055041901057675,
          -0.06545543731203643,
          -0.09866161543850539,
          -0.1986326896050383,
          -0.2572912081668763,
          -0.2533449642214916,
          -0.19829935130459045,
          -0.10434383655736884,
          -0.049141525069343266,
          -0.03797531172511325,
          -0.06987885074937021,
          -0.10061330958469605,
          -0.16158907056214772,
          -0.2560747244871574,
          -0.3181227283802578,
          -0.3988541424136881,
          -0.4389081467841324,
          -0.4370939006870715,
          -0.4384606059440893,
          -0.4155748763037261,
          -0.36534576916405104,
          -0.29017704166408204,
          -0.2446377037395426,
          -0.23609873633404618,
          -0.2452794588665218,
          -0.2732386425604648,
          -0.2888584770112245,
          -0.2938410402808558,
          -0.3057617408605146,
          -0.34604720025456553,
          -0.3275373297162752,
          -0.2925387373907955,
          -0.20205695822303707,
          -0.1251696060828635,
          -0.05806291949128312,
          -0.01621583098953504,
          0.009694706782445496,
          0.030295454328751085,
          0.05433964114177812,
          0.07116338035599501,
          0.13796673477251536,
          0.16308530073250396,
          0.16166404090133865,
          0.14988265900949527,
          0.11618898987953913,
          0.09032210774044362,
          0.09286660794797522,
          0.110211667363723,
          0.11580933873332556,
          0.10150697360394699,
          0.11958518695218015,
          0.1634738691997637,
          0.22434010645165248,
          0.2892306367044855,
          0.35660008974042373,
          0.4530907156177575,
          0.5232068792603541,
          0.5791823729066491,
          0.5746551062556502,
          0.5183702580631327,
          0.4568498362921086,
          0.4179892372564906,
          0.3887864580917053,
          0.4087027971562327,
          0.4207910966113716,
          0.4230848787236726,
          0.414857285698239,
          0.4134356599525338,
          0.4559129698347841,
          0.5124967768893025,
          0.535483641482246,
          0.5913280221694668,
          0.617388794990455,
          0.626869836704612,
          0.6320556382943364,
          0.640095562744846,
          0.6954111775129436,
          0.7459561911064237,
          0.7983085571440837,
          0.8287026728104129,
          0.7799239618804416,
          0.7725617501910607,
          0.8128455233784825,
          0.7506902077242057,
          0.6332387716050545,
          0.5356249035716528,
          0.47622332675523593,
          0.4454178475861384,
          0.4465738511626018,
          0.45952221893842393,
          0.4441274836760464,
          0.43757566952508203,
          0.46737812411014523,
          0.5498481047271808,
          0.6218927944801983,
          0.6278318936879655,
          0.547145629788851,
          0.44866359258210164,
          0.36728832208619483,
          0.3175066876083087,
          0.2647289047607108,
          0.23080663885117045,
          0.2222050368184914,
          0.23298366662916403,
          0.2724414972279327,
          0.3110094780780459,
          0.30722118712987345,
          0.28885562570928264,
          0.25138464589492626,
          0.19902428886547058,
          0.1570570940359208
         ],
         "z": [
          -0.06062900714806216,
          -0.004392468540475012,
          0.030936336598305404,
          0.045309238383258836,
          0.06624309280883993,
          0.1385345266107868,
          0.2183805444603695,
          0.277970349504173,
          0.327783055826587,
          0.33188960828894776,
          0.27317198906135787,
          0.2172935753500594,
          0.16664071440514852,
          0.08834862853969846,
          0.009995936263500541,
          -0.059715022788148636,
          -0.13955176348480677,
          -0.15573525247157444,
          -0.09396275266012623,
          -0.009306116184033512,
          0.05025435495094156,
          0.09424261038763054,
          0.16191614904403206,
          0.20496178624856848,
          0.24539328984215084,
          0.2994729071335282,
          0.3275158971304008,
          0.3096679767838138,
          0.2573715314512862,
          0.23325080325139966,
          0.22075432612477267,
          0.2226743312357325,
          0.22796206043860254,
          0.2628813859308527,
          0.2585302136590671,
          0.3125916355942945,
          0.42573154818205927,
          0.5315050168045675,
          0.6516756419563237,
          0.5888663824815323,
          0.5950183974206834,
          0.5704053943638955,
          0.5594787161872289,
          0.5104970424393963,
          0.49065952759275033,
          0.432950842222461,
          0.43921040877968165,
          0.4509735054767585,
          0.47995675878141136,
          0.510025512312406,
          0.4764598561608858,
          0.4423807379909209,
          0.38795904418606325,
          0.3494838668524354,
          0.3522022038500705,
          0.38074763837023434,
          0.38725951472039816,
          0.37914463465184634,
          0.3403851266589016,
          0.2903570340503252,
          0.24447432841931208,
          0.1987972408117624,
          0.21712615413123423,
          0.23102355133950775,
          0.2772068667404321,
          0.2784143880022886,
          0.23335486436390454,
          0.16543068917961956,
          0.09618762786555454,
          0.04286761926733762,
          -0.01810146824491233,
          -0.053930687067710564,
          -0.07810082632644684,
          -0.10550741790611388,
          -0.0929145845035885,
          -0.03261475036373535,
          0.03636356609154373,
          0.09347239619079366,
          0.08995595240247903,
          0.05437666643192576,
          -0.021444709506124527,
          -0.08112978476744921,
          -0.1358002334351566,
          -0.22425313845801428,
          -0.343152398181803,
          -0.3972684555019578,
          -0.45958162469523506,
          -0.5079411309273686,
          -0.5501042431813519,
          -0.5897142954371543,
          -0.64918326504057,
          -0.6540619775411539,
          -0.6915162534181377,
          -0.718158817485007,
          -0.7570375912963571,
          -0.6809027089333283,
          -0.6222845231481885,
          -0.5903975457112008,
          -0.5660064061018948,
          -0.49709423946298414,
          -0.4300839427058715,
          -0.4265797414501056,
          -0.4463813421691809,
          -0.4494219693733365,
          -0.44167858149788847,
          -0.3977707205111111,
          -0.38385098277756213,
          -0.4091281378292054,
          -0.4564164282690282,
          -0.4879490276233707,
          -0.4904270026189249,
          -0.513053472669752,
          -0.5324230102757798,
          -0.5490473498449563,
          -0.536119793146671,
          -0.5281454816645532,
          -0.5305417983353374,
          -0.48733388940028105,
          -0.4271834277943348,
          -0.35617955010489694,
          -0.32224437134801764,
          -0.2947042986375698,
          -0.32148992524520664,
          -0.30610753094065685,
          -0.2611630291725299,
          -0.21766409952849267,
          -0.16906942300953112,
          -0.1593352880950412,
          -0.18859661237297132,
          -0.21366117222591305,
          -0.20773466767141413,
          -0.20877335149221826,
          -0.23141626475350854,
          -0.29128851788986426,
          -0.345905999661224,
          -0.4185771557696057,
          -0.49750179028365354,
          -0.5340118215517142,
          -0.49646485941278834,
          -0.4070463580626864,
          -0.32667173749359907,
          -0.26405976679332444,
          -0.19032488572818795,
          -0.14913028490042327,
          -0.11014721226042642,
          -0.0658560756037433,
          -0.020873375519020167,
          -0.002866541042384432,
          0.0011423052309481561,
          0.008533112565259526,
          -0.04373826033041895,
          -0.0938700771615815,
          -0.15331146028475887,
          -0.21308243209505942,
          -0.23473753062987526,
          -0.2019783597135212,
          -0.15278103629187303,
          -0.06463979142057777,
          0.007995381407510308,
          0.07075312712254957,
          0.14147184722674236,
          0.14479881486001625,
          0.22422636197485044,
          0.2618353729292036,
          0.3091540677317014,
          0.34599157599149616,
          0.3595882917862264,
          0.3776512432685354,
          0.3759779413051808,
          0.36865219709377467,
          0.3049692906730597,
          0.2721215051302272,
          0.24420638374599002,
          0.22986628310942334,
          0.17383760850050373,
          0.08315933979460714,
          0.0337617331187173,
          0.014065481435462676,
          0.004126527901835048,
          0.040152992799117306,
          0.08003085731660539,
          0.13812750495315404,
          0.17838342832523033,
          0.2285971773652843,
          0.27144628627796,
          0.30170509980644117,
          0.332971808010186,
          0.3659432818911121,
          0.3740279572257636,
          0.38871277004930826,
          0.43599422516773556,
          0.42316142767646825,
          0.362110384352188,
          0.29366506821092053,
          0.23472141965867496,
          0.19079347612872413,
          0.1627462765933186,
          0.10021921940814957,
          0.03807130194264342,
          -0.015598130528160462,
          -0.06747106129686219,
          -0.07868608267296523
         ]
        }
       ],
       "layout": {
        "height": 1000,
        "scene": {
         "domain": {
          "x": [
           0,
           0.45
          ],
          "y": [
           0,
           1
          ]
         }
        },
        "scene2": {
         "domain": {
          "x": [
           0.55,
           1
          ],
          "y": [
           0,
           1
          ]
         }
        },
        "template": {
         "data": {
          "bar": [
           {
            "error_x": {
             "color": "#2a3f5f"
            },
            "error_y": {
             "color": "#2a3f5f"
            },
            "marker": {
             "line": {
              "color": "#E5ECF6",
              "width": 0.5
             }
            },
            "type": "bar"
           }
          ],
          "barpolar": [
           {
            "marker": {
             "line": {
              "color": "#E5ECF6",
              "width": 0.5
             }
            },
            "type": "barpolar"
           }
          ],
          "carpet": [
           {
            "aaxis": {
             "endlinecolor": "#2a3f5f",
             "gridcolor": "white",
             "linecolor": "white",
             "minorgridcolor": "white",
             "startlinecolor": "#2a3f5f"
            },
            "baxis": {
             "endlinecolor": "#2a3f5f",
             "gridcolor": "white",
             "linecolor": "white",
             "minorgridcolor": "white",
             "startlinecolor": "#2a3f5f"
            },
            "type": "carpet"
           }
          ],
          "choropleth": [
           {
            "colorbar": {
             "outlinewidth": 0,
             "ticks": ""
            },
            "type": "choropleth"
           }
          ],
          "contour": [
           {
            "colorbar": {
             "outlinewidth": 0,
             "ticks": ""
            },
            "colorscale": [
             [
              0,
              "#0d0887"
             ],
             [
              0.1111111111111111,
              "#46039f"
             ],
             [
              0.2222222222222222,
              "#7201a8"
             ],
             [
              0.3333333333333333,
              "#9c179e"
             ],
             [
              0.4444444444444444,
              "#bd3786"
             ],
             [
              0.5555555555555556,
              "#d8576b"
             ],
             [
              0.6666666666666666,
              "#ed7953"
             ],
             [
              0.7777777777777778,
              "#fb9f3a"
             ],
             [
              0.8888888888888888,
              "#fdca26"
             ],
             [
              1,
              "#f0f921"
             ]
            ],
            "type": "contour"
           }
          ],
          "contourcarpet": [
           {
            "colorbar": {
             "outlinewidth": 0,
             "ticks": ""
            },
            "type": "contourcarpet"
           }
          ],
          "heatmap": [
           {
            "colorbar": {
             "outlinewidth": 0,
             "ticks": ""
            },
            "colorscale": [
             [
              0,
              "#0d0887"
             ],
             [
              0.1111111111111111,
              "#46039f"
             ],
             [
              0.2222222222222222,
              "#7201a8"
             ],
             [
              0.3333333333333333,
              "#9c179e"
             ],
             [
              0.4444444444444444,
              "#bd3786"
             ],
             [
              0.5555555555555556,
              "#d8576b"
             ],
             [
              0.6666666666666666,
              "#ed7953"
             ],
             [
              0.7777777777777778,
              "#fb9f3a"
             ],
             [
              0.8888888888888888,
              "#fdca26"
             ],
             [
              1,
              "#f0f921"
             ]
            ],
            "type": "heatmap"
           }
          ],
          "heatmapgl": [
           {
            "colorbar": {
             "outlinewidth": 0,
             "ticks": ""
            },
            "colorscale": [
             [
              0,
              "#0d0887"
             ],
             [
              0.1111111111111111,
              "#46039f"
             ],
             [
              0.2222222222222222,
              "#7201a8"
             ],
             [
              0.3333333333333333,
              "#9c179e"
             ],
             [
              0.4444444444444444,
              "#bd3786"
             ],
             [
              0.5555555555555556,
              "#d8576b"
             ],
             [
              0.6666666666666666,
              "#ed7953"
             ],
             [
              0.7777777777777778,
              "#fb9f3a"
             ],
             [
              0.8888888888888888,
              "#fdca26"
             ],
             [
              1,
              "#f0f921"
             ]
            ],
            "type": "heatmapgl"
           }
          ],
          "histogram": [
           {
            "marker": {
             "colorbar": {
              "outlinewidth": 0,
              "ticks": ""
             }
            },
            "type": "histogram"
           }
          ],
          "histogram2d": [
           {
            "colorbar": {
             "outlinewidth": 0,
             "ticks": ""
            },
            "colorscale": [
             [
              0,
              "#0d0887"
             ],
             [
              0.1111111111111111,
              "#46039f"
             ],
             [
              0.2222222222222222,
              "#7201a8"
             ],
             [
              0.3333333333333333,
              "#9c179e"
             ],
             [
              0.4444444444444444,
              "#bd3786"
             ],
             [
              0.5555555555555556,
              "#d8576b"
             ],
             [
              0.6666666666666666,
              "#ed7953"
             ],
             [
              0.7777777777777778,
              "#fb9f3a"
             ],
             [
              0.8888888888888888,
              "#fdca26"
             ],
             [
              1,
              "#f0f921"
             ]
            ],
            "type": "histogram2d"
           }
          ],
          "histogram2dcontour": [
           {
            "colorbar": {
             "outlinewidth": 0,
             "ticks": ""
            },
            "colorscale": [
             [
              0,
              "#0d0887"
             ],
             [
              0.1111111111111111,
              "#46039f"
             ],
             [
              0.2222222222222222,
              "#7201a8"
             ],
             [
              0.3333333333333333,
              "#9c179e"
             ],
             [
              0.4444444444444444,
              "#bd3786"
             ],
             [
              0.5555555555555556,
              "#d8576b"
             ],
             [
              0.6666666666666666,
              "#ed7953"
             ],
             [
              0.7777777777777778,
              "#fb9f3a"
             ],
             [
              0.8888888888888888,
              "#fdca26"
             ],
             [
              1,
              "#f0f921"
             ]
            ],
            "type": "histogram2dcontour"
           }
          ],
          "mesh3d": [
           {
            "colorbar": {
             "outlinewidth": 0,
             "ticks": ""
            },
            "type": "mesh3d"
           }
          ],
          "parcoords": [
           {
            "line": {
             "colorbar": {
              "outlinewidth": 0,
              "ticks": ""
             }
            },
            "type": "parcoords"
           }
          ],
          "pie": [
           {
            "automargin": true,
            "type": "pie"
           }
          ],
          "scatter": [
           {
            "marker": {
             "colorbar": {
              "outlinewidth": 0,
              "ticks": ""
             }
            },
            "type": "scatter"
           }
          ],
          "scatter3d": [
           {
            "line": {
             "colorbar": {
              "outlinewidth": 0,
              "ticks": ""
             }
            },
            "marker": {
             "colorbar": {
              "outlinewidth": 0,
              "ticks": ""
             }
            },
            "type": "scatter3d"
           }
          ],
          "scattercarpet": [
           {
            "marker": {
             "colorbar": {
              "outlinewidth": 0,
              "ticks": ""
             }
            },
            "type": "scattercarpet"
           }
          ],
          "scattergeo": [
           {
            "marker": {
             "colorbar": {
              "outlinewidth": 0,
              "ticks": ""
             }
            },
            "type": "scattergeo"
           }
          ],
          "scattergl": [
           {
            "marker": {
             "colorbar": {
              "outlinewidth": 0,
              "ticks": ""
             }
            },
            "type": "scattergl"
           }
          ],
          "scattermapbox": [
           {
            "marker": {
             "colorbar": {
              "outlinewidth": 0,
              "ticks": ""
             }
            },
            "type": "scattermapbox"
           }
          ],
          "scatterpolar": [
           {
            "marker": {
             "colorbar": {
              "outlinewidth": 0,
              "ticks": ""
             }
            },
            "type": "scatterpolar"
           }
          ],
          "scatterpolargl": [
           {
            "marker": {
             "colorbar": {
              "outlinewidth": 0,
              "ticks": ""
             }
            },
            "type": "scatterpolargl"
           }
          ],
          "scatterternary": [
           {
            "marker": {
             "colorbar": {
              "outlinewidth": 0,
              "ticks": ""
             }
            },
            "type": "scatterternary"
           }
          ],
          "surface": [
           {
            "colorbar": {
             "outlinewidth": 0,
             "ticks": ""
            },
            "colorscale": [
             [
              0,
              "#0d0887"
             ],
             [
              0.1111111111111111,
              "#46039f"
             ],
             [
              0.2222222222222222,
              "#7201a8"
             ],
             [
              0.3333333333333333,
              "#9c179e"
             ],
             [
              0.4444444444444444,
              "#bd3786"
             ],
             [
              0.5555555555555556,
              "#d8576b"
             ],
             [
              0.6666666666666666,
              "#ed7953"
             ],
             [
              0.7777777777777778,
              "#fb9f3a"
             ],
             [
              0.8888888888888888,
              "#fdca26"
             ],
             [
              1,
              "#f0f921"
             ]
            ],
            "type": "surface"
           }
          ],
          "table": [
           {
            "cells": {
             "fill": {
              "color": "#EBF0F8"
             },
             "line": {
              "color": "white"
             }
            },
            "header": {
             "fill": {
              "color": "#C8D4E3"
             },
             "line": {
              "color": "white"
             }
            },
            "type": "table"
           }
          ]
         },
         "layout": {
          "annotationdefaults": {
           "arrowcolor": "#2a3f5f",
           "arrowhead": 0,
           "arrowwidth": 1
          },
          "autotypenumbers": "strict",
          "coloraxis": {
           "colorbar": {
            "outlinewidth": 0,
            "ticks": ""
           }
          },
          "colorscale": {
           "diverging": [
            [
             0,
             "#8e0152"
            ],
            [
             0.1,
             "#c51b7d"
            ],
            [
             0.2,
             "#de77ae"
            ],
            [
             0.3,
             "#f1b6da"
            ],
            [
             0.4,
             "#fde0ef"
            ],
            [
             0.5,
             "#f7f7f7"
            ],
            [
             0.6,
             "#e6f5d0"
            ],
            [
             0.7,
             "#b8e186"
            ],
            [
             0.8,
             "#7fbc41"
            ],
            [
             0.9,
             "#4d9221"
            ],
            [
             1,
             "#276419"
            ]
           ],
           "sequential": [
            [
             0,
             "#0d0887"
            ],
            [
             0.1111111111111111,
             "#46039f"
            ],
            [
             0.2222222222222222,
             "#7201a8"
            ],
            [
             0.3333333333333333,
             "#9c179e"
            ],
            [
             0.4444444444444444,
             "#bd3786"
            ],
            [
             0.5555555555555556,
             "#d8576b"
            ],
            [
             0.6666666666666666,
             "#ed7953"
            ],
            [
             0.7777777777777778,
             "#fb9f3a"
            ],
            [
             0.8888888888888888,
             "#fdca26"
            ],
            [
             1,
             "#f0f921"
            ]
           ],
           "sequentialminus": [
            [
             0,
             "#0d0887"
            ],
            [
             0.1111111111111111,
             "#46039f"
            ],
            [
             0.2222222222222222,
             "#7201a8"
            ],
            [
             0.3333333333333333,
             "#9c179e"
            ],
            [
             0.4444444444444444,
             "#bd3786"
            ],
            [
             0.5555555555555556,
             "#d8576b"
            ],
            [
             0.6666666666666666,
             "#ed7953"
            ],
            [
             0.7777777777777778,
             "#fb9f3a"
            ],
            [
             0.8888888888888888,
             "#fdca26"
            ],
            [
             1,
             "#f0f921"
            ]
           ]
          },
          "colorway": [
           "#636efa",
           "#EF553B",
           "#00cc96",
           "#ab63fa",
           "#FFA15A",
           "#19d3f3",
           "#FF6692",
           "#B6E880",
           "#FF97FF",
           "#FECB52"
          ],
          "font": {
           "color": "#2a3f5f"
          },
          "geo": {
           "bgcolor": "white",
           "lakecolor": "white",
           "landcolor": "#E5ECF6",
           "showlakes": true,
           "showland": true,
           "subunitcolor": "white"
          },
          "hoverlabel": {
           "align": "left"
          },
          "hovermode": "closest",
          "mapbox": {
           "style": "light"
          },
          "paper_bgcolor": "white",
          "plot_bgcolor": "#E5ECF6",
          "polar": {
           "angularaxis": {
            "gridcolor": "white",
            "linecolor": "white",
            "ticks": ""
           },
           "bgcolor": "#E5ECF6",
           "radialaxis": {
            "gridcolor": "white",
            "linecolor": "white",
            "ticks": ""
           }
          },
          "scene": {
           "xaxis": {
            "backgroundcolor": "#E5ECF6",
            "gridcolor": "white",
            "gridwidth": 2,
            "linecolor": "white",
            "showbackground": true,
            "ticks": "",
            "zerolinecolor": "white"
           },
           "yaxis": {
            "backgroundcolor": "#E5ECF6",
            "gridcolor": "white",
            "gridwidth": 2,
            "linecolor": "white",
            "showbackground": true,
            "ticks": "",
            "zerolinecolor": "white"
           },
           "zaxis": {
            "backgroundcolor": "#E5ECF6",
            "gridcolor": "white",
            "gridwidth": 2,
            "linecolor": "white",
            "showbackground": true,
            "ticks": "",
            "zerolinecolor": "white"
           }
          },
          "shapedefaults": {
           "line": {
            "color": "#2a3f5f"
           }
          },
          "ternary": {
           "aaxis": {
            "gridcolor": "white",
            "linecolor": "white",
            "ticks": ""
           },
           "baxis": {
            "gridcolor": "white",
            "linecolor": "white",
            "ticks": ""
           },
           "bgcolor": "#E5ECF6",
           "caxis": {
            "gridcolor": "white",
            "linecolor": "white",
            "ticks": ""
           }
          },
          "title": {
           "x": 0.05
          },
          "xaxis": {
           "automargin": true,
           "gridcolor": "white",
           "linecolor": "white",
           "ticks": "",
           "title": {
            "standoff": 15
           },
           "zerolinecolor": "white",
           "zerolinewidth": 2
          },
          "yaxis": {
           "automargin": true,
           "gridcolor": "white",
           "linecolor": "white",
           "ticks": "",
           "title": {
            "standoff": 15
           },
           "zerolinecolor": "white",
           "zerolinewidth": 2
          }
         }
        },
        "width": 1300
       }
      }
     },
     "metadata": {},
     "output_type": "display_data"
    },
    {
     "name": "stdout",
     "output_type": "stream",
     "text": [
      "Kabsch distance is 0.01981913456383467\n"
     ]
    },
    {
     "data": {
      "text/plain": [
       "<Figure size 50000x50000 with 0 Axes>"
      ]
     },
     "metadata": {},
     "output_type": "display_data"
    }
   ],
   "source": [
    "\n",
    "\n",
    "colorscale1 = -relative_error\n",
    "colorscale2 = pLLDTs\n",
    "color1 = 'magma'\n",
    "color2 = 'magma'\n",
    "\n",
    "plot_true_pred_structures(x_pred, y_pred, z_pred, x_pred, y_pred, z_pred, colorscale1, colorscale2, color1, color2)\n",
    "\n",
    "# Shape comparison\n",
    "print('Kabsch distance is ' + str(kabsch_distance_numpy(trussart_pred_structure, trussart_true_structure, EMBEDDING_SIZE)))"
   ]
  },
  {
   "cell_type": "code",
   "execution_count": 24,
   "metadata": {},
   "outputs": [
    {
     "name": "stdout",
     "output_type": "stream",
     "text": [
      "Before temperature - NLL: 0.037\n",
      "tensor(0.7392, grad_fn=<MulBackward0>)\n",
      "tensor(0.7390, grad_fn=<MulBackward0>)\n",
      "tensor(0.7388, grad_fn=<MulBackward0>)\n",
      "tensor(0.7386, grad_fn=<MulBackward0>)\n",
      "tensor(0.7384, grad_fn=<MulBackward0>)\n",
      "tensor(0.7382, grad_fn=<MulBackward0>)\n",
      "tensor(0.7380, grad_fn=<MulBackward0>)\n",
      "tensor(0.7378, grad_fn=<MulBackward0>)\n",
      "tensor(0.7376, grad_fn=<MulBackward0>)\n",
      "tensor(0.7375, grad_fn=<MulBackward0>)\n",
      "tensor(0.7373, grad_fn=<MulBackward0>)\n",
      "tensor(0.7371, grad_fn=<MulBackward0>)\n",
      "tensor(0.7370, grad_fn=<MulBackward0>)\n",
      "tensor(0.7368, grad_fn=<MulBackward0>)\n",
      "tensor(0.7367, grad_fn=<MulBackward0>)\n",
      "tensor(0.7365, grad_fn=<MulBackward0>)\n",
      "tensor(0.7364, grad_fn=<MulBackward0>)\n",
      "tensor(0.7363, grad_fn=<MulBackward0>)\n",
      "tensor(0.7362, grad_fn=<MulBackward0>)\n",
      "tensor(0.7360, grad_fn=<MulBackward0>)\n",
      "tensor(0.7359, grad_fn=<MulBackward0>)\n",
      "tensor(0.7358, grad_fn=<MulBackward0>)\n",
      "tensor(0.7357, grad_fn=<MulBackward0>)\n",
      "tensor(0.7356, grad_fn=<MulBackward0>)\n",
      "tensor(0.7356, grad_fn=<MulBackward0>)\n",
      "tensor(0.7355, grad_fn=<MulBackward0>)\n",
      "tensor(0.7354, grad_fn=<MulBackward0>)\n",
      "tensor(0.7353, grad_fn=<MulBackward0>)\n",
      "tensor(0.7353, grad_fn=<MulBackward0>)\n",
      "tensor(0.7352, grad_fn=<MulBackward0>)\n",
      "tensor(0.7352, grad_fn=<MulBackward0>)\n",
      "tensor(0.7351, grad_fn=<MulBackward0>)\n",
      "tensor(0.7351, grad_fn=<MulBackward0>)\n",
      "tensor(0.7351, grad_fn=<MulBackward0>)\n",
      "tensor(0.7350, grad_fn=<MulBackward0>)\n",
      "tensor(0.7350, grad_fn=<MulBackward0>)\n",
      "tensor(0.7350, grad_fn=<MulBackward0>)\n",
      "tensor(0.7350, grad_fn=<MulBackward0>)\n",
      "tensor(0.7350, grad_fn=<MulBackward0>)\n",
      "tensor(0.7349, grad_fn=<MulBackward0>)\n",
      "tensor(0.7349, grad_fn=<MulBackward0>)\n",
      "tensor(0.7349, grad_fn=<MulBackward0>)\n",
      "tensor(0.7349, grad_fn=<MulBackward0>)\n",
      "tensor(0.7349, grad_fn=<MulBackward0>)\n",
      "tensor(0.7349, grad_fn=<MulBackward0>)\n",
      "tensor(0.7349, grad_fn=<MulBackward0>)\n",
      "tensor(0.7349, grad_fn=<MulBackward0>)\n",
      "tensor(0.7349, grad_fn=<MulBackward0>)\n",
      "tensor(0.7349, grad_fn=<MulBackward0>)\n",
      "tensor(0.7349, grad_fn=<MulBackward0>)\n",
      "tensor(0.7349, grad_fn=<MulBackward0>)\n",
      "tensor(0.7349, grad_fn=<MulBackward0>)\n",
      "tensor(0.7349, grad_fn=<MulBackward0>)\n",
      "tensor(0.7349, grad_fn=<MulBackward0>)\n",
      "tensor(0.7349, grad_fn=<MulBackward0>)\n",
      "tensor(0.7349, grad_fn=<MulBackward0>)\n",
      "tensor(0.7349, grad_fn=<MulBackward0>)\n",
      "tensor(0.7349, grad_fn=<MulBackward0>)\n",
      "tensor(0.7349, grad_fn=<MulBackward0>)\n",
      "tensor(0.7349, grad_fn=<MulBackward0>)\n",
      "tensor(0.7349, grad_fn=<MulBackward0>)\n",
      "tensor(0.7349, grad_fn=<MulBackward0>)\n",
      "tensor(0.7349, grad_fn=<MulBackward0>)\n",
      "tensor(0.7349, grad_fn=<MulBackward0>)\n",
      "tensor(0.7349, grad_fn=<MulBackward0>)\n",
      "tensor(0.7349, grad_fn=<MulBackward0>)\n",
      "tensor(0.7349, grad_fn=<MulBackward0>)\n",
      "tensor(0.7349, grad_fn=<MulBackward0>)\n",
      "tensor(0.7349, grad_fn=<MulBackward0>)\n",
      "tensor(0.7349, grad_fn=<MulBackward0>)\n",
      "tensor(0.7349, grad_fn=<MulBackward0>)\n",
      "tensor(0.7349, grad_fn=<MulBackward0>)\n",
      "tensor(0.7349, grad_fn=<MulBackward0>)\n",
      "tensor(0.7349, grad_fn=<MulBackward0>)\n",
      "tensor(0.7349, grad_fn=<MulBackward0>)\n",
      "tensor(0.7349, grad_fn=<MulBackward0>)\n",
      "tensor(0.7349, grad_fn=<MulBackward0>)\n",
      "tensor(0.7349, grad_fn=<MulBackward0>)\n",
      "tensor(0.7349, grad_fn=<MulBackward0>)\n",
      "tensor(0.7349, grad_fn=<MulBackward0>)\n",
      "tensor(0.7349, grad_fn=<MulBackward0>)\n",
      "tensor(0.7349, grad_fn=<MulBackward0>)\n",
      "tensor(0.7349, grad_fn=<MulBackward0>)\n",
      "tensor(0.7349, grad_fn=<MulBackward0>)\n",
      "tensor(0.7349, grad_fn=<MulBackward0>)\n",
      "tensor(0.7349, grad_fn=<MulBackward0>)\n",
      "tensor(0.7349, grad_fn=<MulBackward0>)\n",
      "tensor(0.7349, grad_fn=<MulBackward0>)\n",
      "tensor(0.7349, grad_fn=<MulBackward0>)\n",
      "tensor(0.7349, grad_fn=<MulBackward0>)\n",
      "tensor(0.7349, grad_fn=<MulBackward0>)\n",
      "tensor(0.7349, grad_fn=<MulBackward0>)\n",
      "tensor(0.7349, grad_fn=<MulBackward0>)\n",
      "tensor(0.7349, grad_fn=<MulBackward0>)\n",
      "tensor(0.7349, grad_fn=<MulBackward0>)\n",
      "tensor(0.7349, grad_fn=<MulBackward0>)\n",
      "tensor(0.7349, grad_fn=<MulBackward0>)\n",
      "tensor(0.7349, grad_fn=<MulBackward0>)\n",
      "tensor(0.7349, grad_fn=<MulBackward0>)\n",
      "tensor(0.7349, grad_fn=<MulBackward0>)\n",
      "Optimal temperature: 1.152\n",
      "After temperature - NLL: 0.037\n",
      "0.03812963142991066\n",
      "0.03792615607380867\n"
     ]
    }
   ],
   "source": [
    "orig_model = model\n",
    "valid_loader = test_train_calib_loader\n",
    "logits_test_temp, labels_test_temp = set_logits_data(test_test_calib_loader, device, model, BATCH_SIZE, NB_BINS, EMBEDDING_SIZE, NUM_BINS_LOGITS)\n",
    "scaled_model = ModelWithTemperature(orig_model, device, BATCH_SIZE, NB_BINS, EMBEDDING_SIZE, NUM_BINS_LOGITS)\n",
    "scaled_model.set_temperature(valid_loader)\n",
    "m = torch.nn.LogSoftmax(dim=1)\n",
    "nll_criterion = torch.nn.BCEWithLogitsLoss()\n",
    "print(nll_criterion(m(logits_test_temp), labels_test_temp).item())\n",
    "logits_test_temps_scaled = scaled_model.temperature_scale(logits_test_temp)\n",
    "\n",
    "print(nll_criterion(m(logits_test_temps_scaled), labels_test_temp).item())"
   ]
  },
  {
   "cell_type": "code",
   "execution_count": 25,
   "metadata": {},
   "outputs": [
    {
     "name": "stdout",
     "output_type": "stream",
     "text": [
      "87.16359724411674\n",
      "[85.11408839 85.51448705 85.90448494 85.66894221 85.45541231 85.47178075\n",
      " 85.60807896 86.2953406  87.02389567 87.24149134 87.37299474 86.90871528\n",
      " 86.24442301 85.85047242 85.61419405 85.34138527 85.66350208 85.84507754\n",
      " 86.11938171 86.61601977 86.93941779 87.42913889 87.56574761 87.56708108\n",
      " 87.46424113 87.5038012  87.57854605 87.50598935 87.3456141  87.22992816\n",
      " 87.49263413 87.8237813  88.02641529 88.15031835 88.23551709 88.28648107\n",
      " 88.6308311  89.10924046 89.52424219 89.53397569 89.64855991 89.39439864\n",
      " 88.96564209 88.4269665  87.76422029 87.15612605 86.8130569  87.3634239\n",
      " 87.41791555 87.38838568 87.39839838 87.29375226 86.99338892 86.85461796\n",
      " 87.04491314 87.46147905 87.99518625 88.25156061 88.53794529 88.17147253\n",
      " 87.76244837 87.42413498 87.0385426  86.98806348 87.16431955 87.34622688\n",
      " 86.90178917 86.6251102  86.65947652 86.31417299 86.17800115 85.91668814\n",
      " 85.67043086 85.13884564 84.70918554 84.68301056 84.66695998 85.32717924\n",
      " 85.9330899  85.92338839 85.87987837 85.75610589 85.6363827  85.65472268\n",
      " 86.22667198 86.34333343 86.47776582 86.62036816 86.62025738 87.00988517\n",
      " 87.52707914 87.74183876 88.04182879 88.18405757 88.4300158  88.26008628\n",
      " 87.95217437 87.39615756 87.09950024 86.67019279 86.57660017 86.5594289\n",
      " 86.57339375 86.393826   86.4023092  86.35083353 86.57793856 87.19351374\n",
      " 87.34821295 87.6843516  87.49165353 87.35112691 87.41683157 87.37109529\n",
      " 87.41519497 87.44337204 87.58132206 87.57267052 87.58454586 87.5373385\n",
      " 87.4842107  87.44049573 87.299789   87.05759357 86.83773287 86.63627237\n",
      " 86.39804102 86.17826002 86.00943701 85.86683851 85.99756062 85.73201397\n",
      " 86.02097096 86.38582133 86.67625626 86.98994855 87.46893222 87.55168347\n",
      " 87.48762368 87.19223969 86.82006633 86.70167374 86.54884177 86.34408532\n",
      " 86.80154629 87.04397624 87.43758159 87.90312191 87.79789345 87.41401774\n",
      " 86.97685936 86.77770444 86.58088138 86.70840651 86.85247793 87.02598885\n",
      " 87.15572232 87.1802101  87.44206206 87.41146082 87.84930025 87.53563904\n",
      " 87.62189252 87.56670698 87.94943534 88.24427822 88.6859363  89.47863769\n",
      " 89.52299638 89.66619528 89.66498711 89.48278353 89.47024776 89.34921269\n",
      " 88.83244099 88.33410639 87.60769064 86.90015128 86.35415071 86.19254317\n",
      " 86.03321244 86.56880504 87.18651221 87.89741999 88.47222709 88.86473019\n",
      " 88.95755666 88.6332937  88.51195311 88.25960597 88.21230103 87.77488721\n",
      " 87.51679793 87.23664708 87.16091708 86.98422687 86.91244866 86.47660947\n",
      " 86.40735114 86.34846155 86.1939486  86.00765166]\n"
     ]
    }
   ],
   "source": [
    "confidence_metric_scaled, plddt_scaled = scale_logits(trussart_pred_logits, scaled_model, BATCH_SIZE, NB_BINS)\n",
    "print(confidence_metric_scaled)\n",
    "print(plddt_scaled)"
   ]
  },
  {
   "cell_type": "code",
   "execution_count": 26,
   "metadata": {},
   "outputs": [
    {
     "name": "stdout",
     "output_type": "stream",
     "text": [
      "10.393983995163895\n",
      "11.167240289515755\n"
     ]
    }
   ],
   "source": [
    "mse_unscalled, mse_scalled = mse_unscaled_scaled(value, pLLDTs, plddt_scaled)\n",
    "print(mse_unscalled)\n",
    "print(mse_scalled)"
   ]
  },
  {
   "cell_type": "code",
   "execution_count": 27,
   "metadata": {},
   "outputs": [],
   "source": [
    "valid_loader = test_train_calib_loader\n",
    "logits_test_temp, labels_test_temp = set_logits_data(test_train_calib_loader, device, model, BATCH_SIZE, NB_BINS, EMBEDDING_SIZE, NUM_BINS_LOGITS)"
   ]
  },
  {
   "cell_type": "code",
   "execution_count": 28,
   "metadata": {},
   "outputs": [
    {
     "name": "stdout",
     "output_type": "stream",
     "text": [
      "2.756900640243482\n",
      "2.697112961997031\n",
      "88.2449977498551\n",
      "[86.26994307 86.69946038 87.14500983 86.98640928 86.81191321 86.8057179\n",
      " 87.03431412 87.58347057 88.19287325 88.33188703 88.3884157  88.09584225\n",
      " 87.37313105 86.98903285 86.69328317 86.47612945 86.87522892 87.17435168\n",
      " 87.3570584  87.63147455 88.08357608 88.40127475 88.48778034 88.46386208\n",
      " 88.44045836 88.52117886 88.51072476 88.50246921 88.44411193 88.40881319\n",
      " 88.55231596 88.68223901 88.79550457 88.80203471 88.88592011 88.94205288\n",
      " 89.26111877 89.66627434 90.10252568 90.15340071 90.25017086 89.88833873\n",
      " 89.50108537 89.14733629 88.69259985 88.36450574 88.12990587 88.45288667\n",
      " 88.56922151 88.62252373 88.59909718 88.52111206 88.25969137 88.14533568\n",
      " 88.31208245 88.57389901 88.96693885 89.0951346  89.21460044 89.04134433\n",
      " 88.76877761 88.50945919 88.33554021 88.30445689 88.38740077 88.54289641\n",
      " 88.2324647  87.92780641 87.90499742 87.51075088 87.41160719 87.26677742\n",
      " 87.07196153 86.40862478 85.9796735  85.96424128 85.89163951 86.55625068\n",
      " 87.2327836  87.30663601 87.25078912 87.09634113 87.05155094 87.09177597\n",
      " 87.69721697 87.70722504 87.74904574 87.83363039 87.83015611 88.18768363\n",
      " 88.56911629 88.67574173 88.80959126 89.0144245  89.17162385 89.07054512\n",
      " 88.98062742 88.6128838  88.37973616 87.98449378 87.93748962 87.88182763\n",
      " 87.94947319 87.86640286 87.86975362 87.8440822  87.89436435 88.39784269\n",
      " 88.51612891 88.62729708 88.57106961 88.55929851 88.5363551  88.5270585\n",
      " 88.52725499 88.5272576  88.59215375 88.61833336 88.58638712 88.5711083\n",
      " 88.56051519 88.54263569 88.43861034 88.25653115 88.02352884 87.75008295\n",
      " 87.50649342 87.38979369 87.28574893 87.1997795  87.23775792 87.07263187\n",
      " 87.32254152 87.72567311 87.79560269 88.18469629 88.42990405 88.53505636\n",
      " 88.49748649 88.32473248 87.99255658 87.86634374 87.70648266 87.54927269\n",
      " 87.94810508 88.18717659 88.42396385 88.73530562 88.69138259 88.55304736\n",
      " 88.1972007  88.02533122 87.82279875 87.96129229 88.10343588 88.205607\n",
      " 88.34086502 88.37932021 88.58369812 88.5765863  88.73406765 88.46453557\n",
      " 88.61581488 88.61111444 88.78279421 88.92200762 89.31340161 89.98796895\n",
      " 90.08038946 90.21511929 90.22573961 89.99891607 89.93435412 89.84192262\n",
      " 89.46088048 89.025705   88.58863316 88.14973427 87.81995109 87.65521442\n",
      " 87.62405476 87.90110913 88.39179095 88.74569335 89.10150826 89.44083836\n",
      " 89.60844623 89.25001486 89.1743882  89.11939899 89.0933273  88.66217867\n",
      " 88.56202758 88.35986854 88.27773449 88.12149366 88.07758412 87.81997749\n",
      " 87.58149382 87.52566491 87.36167786 87.28115716]\n"
     ]
    }
   ],
   "source": [
    "confidence_metric_iso, pLDDT_iso = isotonic_calibration(logits_test_temp, labels_test_temp, trussart_pred_logits)\n",
    "print(confidence_metric_iso)\n",
    "print(pLDDT_iso)"
   ]
  },
  {
   "cell_type": "code",
   "execution_count": 29,
   "metadata": {},
   "outputs": [
    {
     "name": "stdout",
     "output_type": "stream",
     "text": [
      "10.393983995163895\n",
      "8.644801410046824\n"
     ]
    }
   ],
   "source": [
    "mse_unscalled, mse_scalled = mse_unscaled_scaled(value, pLLDTs, pLDDT_iso)\n",
    "print(mse_unscalled)\n",
    "print(mse_scalled)"
   ]
  },
  {
   "cell_type": "code",
   "execution_count": 30,
   "metadata": {},
   "outputs": [],
   "source": [
    "valid_loader = test_train_calib_loader\n",
    "logits_test_temp, labels_test_temp = set_logits_data(test_train_calib_loader, device, model, BATCH_SIZE, NB_BINS, EMBEDDING_SIZE, NUM_BINS_LOGITS)"
   ]
  },
  {
   "cell_type": "code",
   "execution_count": 31,
   "metadata": {},
   "outputs": [
    {
     "name": "stdout",
     "output_type": "stream",
     "text": [
      "2.756900640243482\n",
      "2.666184155887241\n",
      "88.17117947667309\n",
      "[86.39771495 86.70989154 87.05607688 86.90239782 86.75349302 86.74870214\n",
      " 86.87770012 87.45499496 88.04336331 88.22093146 88.2857261  87.89255593\n",
      " 87.32298613 86.93751487 86.69790807 86.49512069 86.82074337 86.99857485\n",
      " 87.22101716 87.60999999 87.90093752 88.31388679 88.42818983 88.43709678\n",
      " 88.37251112 88.41208968 88.4933501  88.45866243 88.3214043  88.25750624\n",
      " 88.47057081 88.7112188  88.82884597 88.91864962 88.96849974 89.02238804\n",
      " 89.29513204 89.66465378 89.99042414 89.98269107 90.0700332  89.89784533\n",
      " 89.6033227  89.21562724 88.73362457 88.20870222 87.96889065 88.38336191\n",
      " 88.49275279 88.54824596 88.51411665 88.40864708 88.16725587 87.9980567\n",
      " 88.16332756 88.52702935 88.92307816 89.1131226  89.27814307 89.0502029\n",
      " 88.76723785 88.44231125 88.20222821 88.12677143 88.29787137 88.4357844\n",
      " 88.10123453 87.79053837 87.75738705 87.45449842 87.32992308 87.11910448\n",
      " 86.90125629 86.46076476 86.06182517 85.97576424 85.96679    86.58386266\n",
      " 87.10757887 87.12983622 87.09747501 87.00294679 86.87679837 86.92439651\n",
      " 87.42459423 87.5271949  87.62186189 87.71223582 87.71786905 88.05160483\n",
      " 88.48928044 88.67136913 88.90608363 89.05026729 89.28417746 89.16970622\n",
      " 88.93309178 88.52651962 88.24540481 87.87335498 87.73723925 87.74025368\n",
      " 87.77700249 87.64759106 87.68203595 87.60477589 87.79181352 88.28008656\n",
      " 88.45509499 88.70512495 88.59566948 88.47663446 88.47723253 88.40430824\n",
      " 88.4501189  88.46766738 88.59932775 88.57826614 88.54871301 88.49340363\n",
      " 88.45079719 88.42620251 88.31833562 88.1093353  87.88322493 87.68183665\n",
      " 87.46242719 87.28478998 87.16138626 87.06713046 87.13286381 86.93566183\n",
      " 87.19997537 87.51441527 87.75934129 88.02272827 88.3903578  88.46316488\n",
      " 88.42431    88.17658918 87.86445269 87.75310613 87.59080407 87.41398053\n",
      " 87.80069489 88.03136031 88.37842403 88.74297872 88.71029079 88.43523686\n",
      " 88.07530372 87.89742608 87.72247091 87.8311575  87.97110273 88.12033853\n",
      " 88.23876749 88.26982034 88.45468555 88.46055786 88.72508232 88.46458845\n",
      " 88.54675761 88.53182455 88.80198237 89.04516089 89.36004878 89.91524381\n",
      " 89.98094201 90.08513995 90.09471007 89.9486022  89.9288718  89.86995481\n",
      " 89.51791494 89.10092097 88.55421296 88.02813273 87.6276862  87.48845276\n",
      " 87.37822726 87.74911227 88.22687972 88.76011238 89.20407168 89.4911353\n",
      " 89.5700897  89.37141801 89.25204483 89.09585078 89.04536072 88.73738614\n",
      " 88.50546181 88.25951268 88.15380036 87.99737724 87.9214447  87.58164331\n",
      " 87.50511241 87.45301492 87.32892986 87.15353452]\n"
     ]
    }
   ],
   "source": [
    "confidence_metric_beta, pLDDT_beta = beta_calibration(logits_test_temp, labels_test_temp, trussart_pred_logits)\n",
    "print(confidence_metric_beta)\n",
    "print(pLDDT_beta)"
   ]
  },
  {
   "cell_type": "code",
   "execution_count": 32,
   "metadata": {},
   "outputs": [
    {
     "name": "stdout",
     "output_type": "stream",
     "text": [
      "10.393983995163895\n",
      "8.719861338993798\n"
     ]
    }
   ],
   "source": [
    "mse_unscalled, mse_scalled = mse_unscaled_scaled(value, pLLDTs, pLDDT_beta)\n",
    "print(mse_unscalled)\n",
    "print(mse_scalled)"
   ]
  },
  {
   "cell_type": "code",
   "execution_count": 33,
   "metadata": {},
   "outputs": [
    {
     "data": {
      "application/vnd.plotly.v1+json": {
       "config": {
        "plotlyServerURL": "https://plot.ly"
       },
       "data": [
        {
         "line": {
          "color": "darkblue",
          "width": 2
         },
         "marker": {
          "color": [
           86.26994307442519,
           86.69946037887686,
           87.14500982869662,
           86.98640927557808,
           86.81191320530074,
           86.80571789974651,
           87.03431411772227,
           87.58347056759355,
           88.19287325173988,
           88.33188702853276,
           88.3884157048872,
           88.09584225458154,
           87.37313104844765,
           86.98903284794086,
           86.69328317013397,
           86.47612945056385,
           86.87522892175332,
           87.17435168136554,
           87.35705839762974,
           87.6314745509572,
           88.08357608199226,
           88.40127474947865,
           88.48778034416847,
           88.46386208443471,
           88.44045836417214,
           88.52117885651438,
           88.51072475575135,
           88.5024692114753,
           88.44411192558707,
           88.40881318926583,
           88.55231596388525,
           88.68223900752184,
           88.79550456957071,
           88.8020347072897,
           88.88592011471852,
           88.94205287893386,
           89.26111877015953,
           89.66627433657814,
           90.102525680657,
           90.15340071354277,
           90.25017085607287,
           89.8883387288087,
           89.50108536610142,
           89.14733629099213,
           88.69259984761396,
           88.36450574056485,
           88.12990587483588,
           88.45288667407974,
           88.56922150600191,
           88.62252373128004,
           88.59909718149369,
           88.52111205552586,
           88.25969136620789,
           88.14533568246239,
           88.31208244706148,
           88.5738990102725,
           88.9669388533532,
           89.09513460443185,
           89.21460044371065,
           89.04134432691654,
           88.76877761418864,
           88.50945919037622,
           88.33554021013528,
           88.30445689086551,
           88.3874007709347,
           88.54289641434285,
           88.23246470466384,
           87.92780640981194,
           87.90499741958683,
           87.5107508762409,
           87.41160719127808,
           87.26677742217734,
           87.07196153042354,
           86.40862478445642,
           85.97967350308807,
           85.96424128357964,
           85.8916395123061,
           86.55625068288069,
           87.23278360198711,
           87.30663601373882,
           87.25078912287344,
           87.09634113436452,
           87.05155094332727,
           87.09177597210811,
           87.69721697007314,
           87.70722503792722,
           87.74904573803148,
           87.83363038844017,
           87.83015611036569,
           88.18768362838503,
           88.56911628683073,
           88.67574172823795,
           88.80959125756262,
           89.01442449548802,
           89.1716238479679,
           89.07054511544696,
           88.98062741905196,
           88.61288380415992,
           88.37973616288222,
           87.9844937842313,
           87.93748962156633,
           87.8818276320579,
           87.9494731872559,
           87.86640285964835,
           87.86975362235154,
           87.84408220122025,
           87.89436435423134,
           88.3978426928714,
           88.51612890868627,
           88.62729708118884,
           88.57106961421438,
           88.55929850995241,
           88.53635510486481,
           88.52705850110864,
           88.52725498553518,
           88.52725759854363,
           88.59215374709936,
           88.61833335779089,
           88.58638712211952,
           88.57110830077904,
           88.56051519499721,
           88.54263569003895,
           88.43861033898594,
           88.25653115169257,
           88.02352883900151,
           87.7500829534808,
           87.50649341951711,
           87.38979369190906,
           87.2857489252745,
           87.1997794980326,
           87.23775791962716,
           87.07263186708407,
           87.32254152190144,
           87.72567310967872,
           87.79560269154092,
           88.18469629379865,
           88.42990404696197,
           88.53505635761695,
           88.49748648750749,
           88.32473248079617,
           87.99255658132176,
           87.86634374037581,
           87.70648265591781,
           87.54927268907994,
           87.94810507841642,
           88.18717659343851,
           88.4239638526546,
           88.73530562056817,
           88.69138259161527,
           88.55304735813272,
           88.19720069837106,
           88.02533122133698,
           87.82279874835233,
           87.9612922883748,
           88.10343587556272,
           88.20560699683818,
           88.34086502464721,
           88.37932020979967,
           88.58369811865776,
           88.57658630429513,
           88.73406765072707,
           88.46453556929218,
           88.61581487759031,
           88.61111444378811,
           88.78279421183326,
           88.92200761585349,
           89.31340161080136,
           89.98796895053052,
           90.0803894603059,
           90.21511929337217,
           90.22573960753081,
           89.99891606667227,
           89.93435411661375,
           89.84192262357868,
           89.46088047863276,
           89.0257050019711,
           88.58863316496917,
           88.14973427233373,
           87.819951088014,
           87.6552144189983,
           87.62405475762056,
           87.90110913350634,
           88.3917909522348,
           88.74569335416412,
           89.10150826077161,
           89.44083836227182,
           89.60844622964348,
           89.25001485657049,
           89.1743882032366,
           89.11939899292301,
           89.09332729524489,
           88.66217866752905,
           88.5620275842834,
           88.35986853911434,
           88.27773449143926,
           88.12149365997897,
           88.07758411770523,
           87.81997748645371,
           87.58149381602482,
           87.52566491239976,
           87.3616778573715,
           87.28115716176679
          ],
          "colorscale": [
           [
            0,
            "#000004"
           ],
           [
            0.1111111111111111,
            "#180f3d"
           ],
           [
            0.2222222222222222,
            "#440f76"
           ],
           [
            0.3333333333333333,
            "#721f81"
           ],
           [
            0.4444444444444444,
            "#9e2f7f"
           ],
           [
            0.5555555555555556,
            "#cd4071"
           ],
           [
            0.6666666666666666,
            "#f1605d"
           ],
           [
            0.7777777777777778,
            "#fd9668"
           ],
           [
            0.8888888888888888,
            "#feca8d"
           ],
           [
            1,
            "#fcfdbf"
           ]
          ],
          "line": {
           "width": 3
          },
          "size": 6
         },
         "opacity": 0.7,
         "scene": "scene",
         "type": "scatter3d",
         "x": [
          -0.09576555410629702,
          -0.049168986112957905,
          0.008280412184234077,
          0.09440638831895075,
          0.17160643829121033,
          0.24714675864438124,
          0.3083585841542053,
          0.3826855629628412,
          0.4246682635581703,
          0.4177807200432401,
          0.34124475313457775,
          0.2687133714790043,
          0.17565400094317046,
          0.10395447494709667,
          0.04045128179619611,
          0.021537031097362894,
          0.0881884386960236,
          0.1595273880061205,
          0.2240628161744536,
          0.2763352022824858,
          0.3509191280815313,
          0.4091431322217348,
          0.4206932441818189,
          0.4469966293383684,
          0.48213223308520137,
          0.5220117907240308,
          0.5548617045038825,
          0.5747467439554342,
          0.5312987161058443,
          0.5449704180290799,
          0.5273421088106027,
          0.5072463285572025,
          0.5036711636526213,
          0.4775940643136805,
          0.47775109848726327,
          0.45680351864360863,
          0.4308790310915698,
          0.3912399833986713,
          0.31313710433492115,
          0.25939079533136467,
          0.2237376614255672,
          0.15346290598696818,
          0.09319537149726058,
          0.01807466282615306,
          -0.06723869017046533,
          -0.12057942563159621,
          -0.19346727877035305,
          -0.2982773825627355,
          -0.39046788535614246,
          -0.47777856655756135,
          -0.5135273617423842,
          -0.547387526607843,
          -0.5631888983220518,
          -0.517770738232255,
          -0.4782522109590843,
          -0.4659688831830093,
          -0.47145715250165704,
          -0.4728516497924704,
          -0.46341356136126366,
          -0.48433612451162394,
          -0.5067029883572336,
          -0.49325781669247015,
          -0.522438110717478,
          -0.5333421392632715,
          -0.5787088105621389,
          -0.6045760353498834,
          -0.6343220995049621,
          -0.6128829727375384,
          -0.5740364734704803,
          -0.5265806824365854,
          -0.4664736827397166,
          -0.4045935171298136,
          -0.3398003310386716,
          -0.23631479992570262,
          -0.17237132424242918,
          -0.13888619781745692,
          -0.1540877507907684,
          -0.1823973560581654,
          -0.2625534626480067,
          -0.3232307367915954,
          -0.3442856828592005,
          -0.3426237162469333,
          -0.29693535965762097,
          -0.23775291451854164,
          -0.17776521675524673,
          -0.1500258838492593,
          -0.15606436364641418,
          -0.11967696425578714,
          -0.04765381245691781,
          0.026449089003847136,
          0.10276076888913352,
          0.14968354205612336,
          0.1688495536433663,
          0.16206036458342835,
          0.19803558771270008,
          0.24063047424942371,
          0.29093682794342623,
          0.2923695852232179,
          0.2750806407593207,
          0.31305473968379965,
          0.2981302698600328,
          0.2886924316385082,
          0.23502096337109937,
          0.2141359979495307,
          0.21046224204459904,
          0.21414770217186746,
          0.22712151766497385,
          0.21771869788258988,
          0.19032663630776545,
          0.14711604648378734,
          0.09640097602964533,
          0.03509877190254505,
          0.025943697849442844,
          0.06614391910792508,
          0.1395110659971102,
          0.20624342480831406,
          0.2527759842833292,
          0.2919805352989945,
          0.3231295938966945,
          0.3699757331629979,
          0.37845264156093733,
          0.3828656558246569,
          0.3841139691941539,
          0.36438615569971067,
          0.36213103609743574,
          0.3704115769962851,
          0.37027312211667274,
          0.31740952764739117,
          0.2664615173312675,
          0.20499084666543418,
          0.12718565753998964,
          0.07627530080439604,
          0.09351233431968672,
          0.14309418907001145,
          0.18151736237291144,
          0.18596701975785976,
          0.17495363496179736,
          0.17911897575381044,
          0.21820625579182548,
          0.2512781541145656,
          0.26908648463232254,
          0.26089737746156355,
          0.244063069281895,
          0.234577024413815,
          0.29728129498932365,
          0.3121472383212381,
          0.30481828918830156,
          0.28264603459772597,
          0.21004457716747207,
          0.12293933188828272,
          0.09622386763648882,
          0.12765251353377347,
          0.18160337632954646,
          0.25708759575461115,
          0.3038055875527731,
          0.3452335386934956,
          0.39283722699510026,
          0.45548732349328314,
          0.4621366113024638,
          0.45726267863858644,
          0.3738128441104935,
          0.281612473903599,
          0.23065802763914156,
          0.1364564101663583,
          0.02266890475548603,
          -0.11515002102837144,
          -0.21009877765675958,
          -0.3248257244382712,
          -0.40628581921313833,
          -0.3994157040498548,
          -0.46930338072846134,
          -0.45815033688684775,
          -0.43920187370283037,
          -0.3969830122888632,
          -0.3635849749956647,
          -0.3628762858857652,
          -0.2994370395092231,
          -0.22110301238146018,
          -0.15788322979532574,
          -0.14072273451080247,
          -0.14747713553849806,
          -0.2331739439816521,
          -0.32926641295995973,
          -0.4259486736557506,
          -0.49575131115498255,
          -0.5395672841945539,
          -0.5495033703906058,
          -0.6223111565304758,
          -0.6289871584023387,
          -0.6341216772857032,
          -0.6063108433427611,
          -0.5782763251305046,
          -0.5491441089858642,
          -0.5392237948898317,
          -0.5157426740383426,
          -0.48206829170620974,
          -0.39830008797977956,
          -0.3851403913155884,
          -0.35645186832763165,
          -0.31950128214380674,
          -0.2691221148140521,
          -0.2098816985312698
         ],
         "y": [
          0.1221019629764487,
          0.1199870302395959,
          0.1700503185493182,
          0.20896375845363951,
          0.20931802156708354,
          0.17987110746501148,
          0.13052099662241112,
          0.03587955013511764,
          -0.10372172864078028,
          -0.1987546103690382,
          -0.28760641064522446,
          -0.29347940078669904,
          -0.2713427052510565,
          -0.25266991902985386,
          -0.21247889193272074,
          -0.18774706033438127,
          -0.238271021370118,
          -0.2752857613463886,
          -0.2894387849037506,
          -0.291982751033545,
          -0.33143069524298796,
          -0.38076652949219186,
          -0.40267222561470584,
          -0.3783386727558783,
          -0.30751558803796614,
          -0.23653282448544594,
          -0.19550067343641828,
          -0.16922858493063056,
          -0.23437132795492457,
          -0.2952895336939625,
          -0.41769455400855426,
          -0.5055450202967177,
          -0.48572780210782907,
          -0.4888415494408299,
          -0.46012360619203535,
          -0.44211868052556363,
          -0.46083562466838485,
          -0.4830157158126138,
          -0.5436439915434201,
          -0.5573595347257079,
          -0.5941633510338679,
          -0.6036782887444836,
          -0.5679326996783045,
          -0.5195009990485258,
          -0.4381210233176319,
          -0.34713152196147196,
          -0.2895309875839552,
          -0.280782295952989,
          -0.2805021693179111,
          -0.3152741557854481,
          -0.3066673246929936,
          -0.27587222478633094,
          -0.22004694414228704,
          -0.19986085411360288,
          -0.271978987469349,
          -0.36417031570441216,
          -0.41547492974344813,
          -0.4656801465404841,
          -0.49775497012360737,
          -0.5116078180692594,
          -0.4968846812253474,
          -0.4259102255235861,
          -0.37291715128794717,
          -0.2913736651633026,
          -0.23584382998400916,
          -0.18644391139051344,
          -0.13010003783595123,
          -0.01320285643708116,
          0.017810007950030574,
          0.016854474695494656,
          0.008359004105212852,
          0.033017050927158356,
          0.03171240934209122,
          0.009905902775448873,
          -0.04598156449530523,
          -0.10257772372985079,
          -0.18255808894517989,
          -0.27868094847701147,
          -0.30282175196590694,
          -0.3183206022550001,
          -0.2776959955293054,
          -0.2057271696196474,
          -0.15600622033532147,
          -0.13616458698302314,
          -0.14802621774013797,
          -0.12365223585227762,
          -0.05745365220039381,
          0.000875757552937471,
          0.032081424807748025,
          0.02249416221980528,
          -0.04750255421659286,
          -0.07055041901057675,
          -0.06545543731203643,
          -0.09866161543850539,
          -0.1986326896050383,
          -0.2572912081668763,
          -0.2533449642214916,
          -0.19829935130459045,
          -0.10434383655736884,
          -0.049141525069343266,
          -0.03797531172511325,
          -0.06987885074937021,
          -0.10061330958469605,
          -0.16158907056214772,
          -0.2560747244871574,
          -0.3181227283802578,
          -0.3988541424136881,
          -0.4389081467841324,
          -0.4370939006870715,
          -0.4384606059440893,
          -0.4155748763037261,
          -0.36534576916405104,
          -0.29017704166408204,
          -0.2446377037395426,
          -0.23609873633404618,
          -0.2452794588665218,
          -0.2732386425604648,
          -0.2888584770112245,
          -0.2938410402808558,
          -0.3057617408605146,
          -0.34604720025456553,
          -0.3275373297162752,
          -0.2925387373907955,
          -0.20205695822303707,
          -0.1251696060828635,
          -0.05806291949128312,
          -0.01621583098953504,
          0.009694706782445496,
          0.030295454328751085,
          0.05433964114177812,
          0.07116338035599501,
          0.13796673477251536,
          0.16308530073250396,
          0.16166404090133865,
          0.14988265900949527,
          0.11618898987953913,
          0.09032210774044362,
          0.09286660794797522,
          0.110211667363723,
          0.11580933873332556,
          0.10150697360394699,
          0.11958518695218015,
          0.1634738691997637,
          0.22434010645165248,
          0.2892306367044855,
          0.35660008974042373,
          0.4530907156177575,
          0.5232068792603541,
          0.5791823729066491,
          0.5746551062556502,
          0.5183702580631327,
          0.4568498362921086,
          0.4179892372564906,
          0.3887864580917053,
          0.4087027971562327,
          0.4207910966113716,
          0.4230848787236726,
          0.414857285698239,
          0.4134356599525338,
          0.4559129698347841,
          0.5124967768893025,
          0.535483641482246,
          0.5913280221694668,
          0.617388794990455,
          0.626869836704612,
          0.6320556382943364,
          0.640095562744846,
          0.6954111775129436,
          0.7459561911064237,
          0.7983085571440837,
          0.8287026728104129,
          0.7799239618804416,
          0.7725617501910607,
          0.8128455233784825,
          0.7506902077242057,
          0.6332387716050545,
          0.5356249035716528,
          0.47622332675523593,
          0.4454178475861384,
          0.4465738511626018,
          0.45952221893842393,
          0.4441274836760464,
          0.43757566952508203,
          0.46737812411014523,
          0.5498481047271808,
          0.6218927944801983,
          0.6278318936879655,
          0.547145629788851,
          0.44866359258210164,
          0.36728832208619483,
          0.3175066876083087,
          0.2647289047607108,
          0.23080663885117045,
          0.2222050368184914,
          0.23298366662916403,
          0.2724414972279327,
          0.3110094780780459,
          0.30722118712987345,
          0.28885562570928264,
          0.25138464589492626,
          0.19902428886547058,
          0.1570570940359208
         ],
         "z": [
          -0.06062900714806216,
          -0.004392468540475012,
          0.030936336598305404,
          0.045309238383258836,
          0.06624309280883993,
          0.1385345266107868,
          0.2183805444603695,
          0.277970349504173,
          0.327783055826587,
          0.33188960828894776,
          0.27317198906135787,
          0.2172935753500594,
          0.16664071440514852,
          0.08834862853969846,
          0.009995936263500541,
          -0.059715022788148636,
          -0.13955176348480677,
          -0.15573525247157444,
          -0.09396275266012623,
          -0.009306116184033512,
          0.05025435495094156,
          0.09424261038763054,
          0.16191614904403206,
          0.20496178624856848,
          0.24539328984215084,
          0.2994729071335282,
          0.3275158971304008,
          0.3096679767838138,
          0.2573715314512862,
          0.23325080325139966,
          0.22075432612477267,
          0.2226743312357325,
          0.22796206043860254,
          0.2628813859308527,
          0.2585302136590671,
          0.3125916355942945,
          0.42573154818205927,
          0.5315050168045675,
          0.6516756419563237,
          0.5888663824815323,
          0.5950183974206834,
          0.5704053943638955,
          0.5594787161872289,
          0.5104970424393963,
          0.49065952759275033,
          0.432950842222461,
          0.43921040877968165,
          0.4509735054767585,
          0.47995675878141136,
          0.510025512312406,
          0.4764598561608858,
          0.4423807379909209,
          0.38795904418606325,
          0.3494838668524354,
          0.3522022038500705,
          0.38074763837023434,
          0.38725951472039816,
          0.37914463465184634,
          0.3403851266589016,
          0.2903570340503252,
          0.24447432841931208,
          0.1987972408117624,
          0.21712615413123423,
          0.23102355133950775,
          0.2772068667404321,
          0.2784143880022886,
          0.23335486436390454,
          0.16543068917961956,
          0.09618762786555454,
          0.04286761926733762,
          -0.01810146824491233,
          -0.053930687067710564,
          -0.07810082632644684,
          -0.10550741790611388,
          -0.0929145845035885,
          -0.03261475036373535,
          0.03636356609154373,
          0.09347239619079366,
          0.08995595240247903,
          0.05437666643192576,
          -0.021444709506124527,
          -0.08112978476744921,
          -0.1358002334351566,
          -0.22425313845801428,
          -0.343152398181803,
          -0.3972684555019578,
          -0.45958162469523506,
          -0.5079411309273686,
          -0.5501042431813519,
          -0.5897142954371543,
          -0.64918326504057,
          -0.6540619775411539,
          -0.6915162534181377,
          -0.718158817485007,
          -0.7570375912963571,
          -0.6809027089333283,
          -0.6222845231481885,
          -0.5903975457112008,
          -0.5660064061018948,
          -0.49709423946298414,
          -0.4300839427058715,
          -0.4265797414501056,
          -0.4463813421691809,
          -0.4494219693733365,
          -0.44167858149788847,
          -0.3977707205111111,
          -0.38385098277756213,
          -0.4091281378292054,
          -0.4564164282690282,
          -0.4879490276233707,
          -0.4904270026189249,
          -0.513053472669752,
          -0.5324230102757798,
          -0.5490473498449563,
          -0.536119793146671,
          -0.5281454816645532,
          -0.5305417983353374,
          -0.48733388940028105,
          -0.4271834277943348,
          -0.35617955010489694,
          -0.32224437134801764,
          -0.2947042986375698,
          -0.32148992524520664,
          -0.30610753094065685,
          -0.2611630291725299,
          -0.21766409952849267,
          -0.16906942300953112,
          -0.1593352880950412,
          -0.18859661237297132,
          -0.21366117222591305,
          -0.20773466767141413,
          -0.20877335149221826,
          -0.23141626475350854,
          -0.29128851788986426,
          -0.345905999661224,
          -0.4185771557696057,
          -0.49750179028365354,
          -0.5340118215517142,
          -0.49646485941278834,
          -0.4070463580626864,
          -0.32667173749359907,
          -0.26405976679332444,
          -0.19032488572818795,
          -0.14913028490042327,
          -0.11014721226042642,
          -0.0658560756037433,
          -0.020873375519020167,
          -0.002866541042384432,
          0.0011423052309481561,
          0.008533112565259526,
          -0.04373826033041895,
          -0.0938700771615815,
          -0.15331146028475887,
          -0.21308243209505942,
          -0.23473753062987526,
          -0.2019783597135212,
          -0.15278103629187303,
          -0.06463979142057777,
          0.007995381407510308,
          0.07075312712254957,
          0.14147184722674236,
          0.14479881486001625,
          0.22422636197485044,
          0.2618353729292036,
          0.3091540677317014,
          0.34599157599149616,
          0.3595882917862264,
          0.3776512432685354,
          0.3759779413051808,
          0.36865219709377467,
          0.3049692906730597,
          0.2721215051302272,
          0.24420638374599002,
          0.22986628310942334,
          0.17383760850050373,
          0.08315933979460714,
          0.0337617331187173,
          0.014065481435462676,
          0.004126527901835048,
          0.040152992799117306,
          0.08003085731660539,
          0.13812750495315404,
          0.17838342832523033,
          0.2285971773652843,
          0.27144628627796,
          0.30170509980644117,
          0.332971808010186,
          0.3659432818911121,
          0.3740279572257636,
          0.38871277004930826,
          0.43599422516773556,
          0.42316142767646825,
          0.362110384352188,
          0.29366506821092053,
          0.23472141965867496,
          0.19079347612872413,
          0.1627462765933186,
          0.10021921940814957,
          0.03807130194264342,
          -0.015598130528160462,
          -0.06747106129686219,
          -0.07868608267296523
         ]
        }
       ],
       "layout": {
        "height": 1000,
        "scene": {
         "domain": {
          "x": [
           0,
           1
          ],
          "y": [
           0,
           1
          ]
         }
        },
        "template": {
         "data": {
          "bar": [
           {
            "error_x": {
             "color": "#2a3f5f"
            },
            "error_y": {
             "color": "#2a3f5f"
            },
            "marker": {
             "line": {
              "color": "#E5ECF6",
              "width": 0.5
             }
            },
            "type": "bar"
           }
          ],
          "barpolar": [
           {
            "marker": {
             "line": {
              "color": "#E5ECF6",
              "width": 0.5
             }
            },
            "type": "barpolar"
           }
          ],
          "carpet": [
           {
            "aaxis": {
             "endlinecolor": "#2a3f5f",
             "gridcolor": "white",
             "linecolor": "white",
             "minorgridcolor": "white",
             "startlinecolor": "#2a3f5f"
            },
            "baxis": {
             "endlinecolor": "#2a3f5f",
             "gridcolor": "white",
             "linecolor": "white",
             "minorgridcolor": "white",
             "startlinecolor": "#2a3f5f"
            },
            "type": "carpet"
           }
          ],
          "choropleth": [
           {
            "colorbar": {
             "outlinewidth": 0,
             "ticks": ""
            },
            "type": "choropleth"
           }
          ],
          "contour": [
           {
            "colorbar": {
             "outlinewidth": 0,
             "ticks": ""
            },
            "colorscale": [
             [
              0,
              "#0d0887"
             ],
             [
              0.1111111111111111,
              "#46039f"
             ],
             [
              0.2222222222222222,
              "#7201a8"
             ],
             [
              0.3333333333333333,
              "#9c179e"
             ],
             [
              0.4444444444444444,
              "#bd3786"
             ],
             [
              0.5555555555555556,
              "#d8576b"
             ],
             [
              0.6666666666666666,
              "#ed7953"
             ],
             [
              0.7777777777777778,
              "#fb9f3a"
             ],
             [
              0.8888888888888888,
              "#fdca26"
             ],
             [
              1,
              "#f0f921"
             ]
            ],
            "type": "contour"
           }
          ],
          "contourcarpet": [
           {
            "colorbar": {
             "outlinewidth": 0,
             "ticks": ""
            },
            "type": "contourcarpet"
           }
          ],
          "heatmap": [
           {
            "colorbar": {
             "outlinewidth": 0,
             "ticks": ""
            },
            "colorscale": [
             [
              0,
              "#0d0887"
             ],
             [
              0.1111111111111111,
              "#46039f"
             ],
             [
              0.2222222222222222,
              "#7201a8"
             ],
             [
              0.3333333333333333,
              "#9c179e"
             ],
             [
              0.4444444444444444,
              "#bd3786"
             ],
             [
              0.5555555555555556,
              "#d8576b"
             ],
             [
              0.6666666666666666,
              "#ed7953"
             ],
             [
              0.7777777777777778,
              "#fb9f3a"
             ],
             [
              0.8888888888888888,
              "#fdca26"
             ],
             [
              1,
              "#f0f921"
             ]
            ],
            "type": "heatmap"
           }
          ],
          "heatmapgl": [
           {
            "colorbar": {
             "outlinewidth": 0,
             "ticks": ""
            },
            "colorscale": [
             [
              0,
              "#0d0887"
             ],
             [
              0.1111111111111111,
              "#46039f"
             ],
             [
              0.2222222222222222,
              "#7201a8"
             ],
             [
              0.3333333333333333,
              "#9c179e"
             ],
             [
              0.4444444444444444,
              "#bd3786"
             ],
             [
              0.5555555555555556,
              "#d8576b"
             ],
             [
              0.6666666666666666,
              "#ed7953"
             ],
             [
              0.7777777777777778,
              "#fb9f3a"
             ],
             [
              0.8888888888888888,
              "#fdca26"
             ],
             [
              1,
              "#f0f921"
             ]
            ],
            "type": "heatmapgl"
           }
          ],
          "histogram": [
           {
            "marker": {
             "colorbar": {
              "outlinewidth": 0,
              "ticks": ""
             }
            },
            "type": "histogram"
           }
          ],
          "histogram2d": [
           {
            "colorbar": {
             "outlinewidth": 0,
             "ticks": ""
            },
            "colorscale": [
             [
              0,
              "#0d0887"
             ],
             [
              0.1111111111111111,
              "#46039f"
             ],
             [
              0.2222222222222222,
              "#7201a8"
             ],
             [
              0.3333333333333333,
              "#9c179e"
             ],
             [
              0.4444444444444444,
              "#bd3786"
             ],
             [
              0.5555555555555556,
              "#d8576b"
             ],
             [
              0.6666666666666666,
              "#ed7953"
             ],
             [
              0.7777777777777778,
              "#fb9f3a"
             ],
             [
              0.8888888888888888,
              "#fdca26"
             ],
             [
              1,
              "#f0f921"
             ]
            ],
            "type": "histogram2d"
           }
          ],
          "histogram2dcontour": [
           {
            "colorbar": {
             "outlinewidth": 0,
             "ticks": ""
            },
            "colorscale": [
             [
              0,
              "#0d0887"
             ],
             [
              0.1111111111111111,
              "#46039f"
             ],
             [
              0.2222222222222222,
              "#7201a8"
             ],
             [
              0.3333333333333333,
              "#9c179e"
             ],
             [
              0.4444444444444444,
              "#bd3786"
             ],
             [
              0.5555555555555556,
              "#d8576b"
             ],
             [
              0.6666666666666666,
              "#ed7953"
             ],
             [
              0.7777777777777778,
              "#fb9f3a"
             ],
             [
              0.8888888888888888,
              "#fdca26"
             ],
             [
              1,
              "#f0f921"
             ]
            ],
            "type": "histogram2dcontour"
           }
          ],
          "mesh3d": [
           {
            "colorbar": {
             "outlinewidth": 0,
             "ticks": ""
            },
            "type": "mesh3d"
           }
          ],
          "parcoords": [
           {
            "line": {
             "colorbar": {
              "outlinewidth": 0,
              "ticks": ""
             }
            },
            "type": "parcoords"
           }
          ],
          "pie": [
           {
            "automargin": true,
            "type": "pie"
           }
          ],
          "scatter": [
           {
            "marker": {
             "colorbar": {
              "outlinewidth": 0,
              "ticks": ""
             }
            },
            "type": "scatter"
           }
          ],
          "scatter3d": [
           {
            "line": {
             "colorbar": {
              "outlinewidth": 0,
              "ticks": ""
             }
            },
            "marker": {
             "colorbar": {
              "outlinewidth": 0,
              "ticks": ""
             }
            },
            "type": "scatter3d"
           }
          ],
          "scattercarpet": [
           {
            "marker": {
             "colorbar": {
              "outlinewidth": 0,
              "ticks": ""
             }
            },
            "type": "scattercarpet"
           }
          ],
          "scattergeo": [
           {
            "marker": {
             "colorbar": {
              "outlinewidth": 0,
              "ticks": ""
             }
            },
            "type": "scattergeo"
           }
          ],
          "scattergl": [
           {
            "marker": {
             "colorbar": {
              "outlinewidth": 0,
              "ticks": ""
             }
            },
            "type": "scattergl"
           }
          ],
          "scattermapbox": [
           {
            "marker": {
             "colorbar": {
              "outlinewidth": 0,
              "ticks": ""
             }
            },
            "type": "scattermapbox"
           }
          ],
          "scatterpolar": [
           {
            "marker": {
             "colorbar": {
              "outlinewidth": 0,
              "ticks": ""
             }
            },
            "type": "scatterpolar"
           }
          ],
          "scatterpolargl": [
           {
            "marker": {
             "colorbar": {
              "outlinewidth": 0,
              "ticks": ""
             }
            },
            "type": "scatterpolargl"
           }
          ],
          "scatterternary": [
           {
            "marker": {
             "colorbar": {
              "outlinewidth": 0,
              "ticks": ""
             }
            },
            "type": "scatterternary"
           }
          ],
          "surface": [
           {
            "colorbar": {
             "outlinewidth": 0,
             "ticks": ""
            },
            "colorscale": [
             [
              0,
              "#0d0887"
             ],
             [
              0.1111111111111111,
              "#46039f"
             ],
             [
              0.2222222222222222,
              "#7201a8"
             ],
             [
              0.3333333333333333,
              "#9c179e"
             ],
             [
              0.4444444444444444,
              "#bd3786"
             ],
             [
              0.5555555555555556,
              "#d8576b"
             ],
             [
              0.6666666666666666,
              "#ed7953"
             ],
             [
              0.7777777777777778,
              "#fb9f3a"
             ],
             [
              0.8888888888888888,
              "#fdca26"
             ],
             [
              1,
              "#f0f921"
             ]
            ],
            "type": "surface"
           }
          ],
          "table": [
           {
            "cells": {
             "fill": {
              "color": "#EBF0F8"
             },
             "line": {
              "color": "white"
             }
            },
            "header": {
             "fill": {
              "color": "#C8D4E3"
             },
             "line": {
              "color": "white"
             }
            },
            "type": "table"
           }
          ]
         },
         "layout": {
          "annotationdefaults": {
           "arrowcolor": "#2a3f5f",
           "arrowhead": 0,
           "arrowwidth": 1
          },
          "autotypenumbers": "strict",
          "coloraxis": {
           "colorbar": {
            "outlinewidth": 0,
            "ticks": ""
           }
          },
          "colorscale": {
           "diverging": [
            [
             0,
             "#8e0152"
            ],
            [
             0.1,
             "#c51b7d"
            ],
            [
             0.2,
             "#de77ae"
            ],
            [
             0.3,
             "#f1b6da"
            ],
            [
             0.4,
             "#fde0ef"
            ],
            [
             0.5,
             "#f7f7f7"
            ],
            [
             0.6,
             "#e6f5d0"
            ],
            [
             0.7,
             "#b8e186"
            ],
            [
             0.8,
             "#7fbc41"
            ],
            [
             0.9,
             "#4d9221"
            ],
            [
             1,
             "#276419"
            ]
           ],
           "sequential": [
            [
             0,
             "#0d0887"
            ],
            [
             0.1111111111111111,
             "#46039f"
            ],
            [
             0.2222222222222222,
             "#7201a8"
            ],
            [
             0.3333333333333333,
             "#9c179e"
            ],
            [
             0.4444444444444444,
             "#bd3786"
            ],
            [
             0.5555555555555556,
             "#d8576b"
            ],
            [
             0.6666666666666666,
             "#ed7953"
            ],
            [
             0.7777777777777778,
             "#fb9f3a"
            ],
            [
             0.8888888888888888,
             "#fdca26"
            ],
            [
             1,
             "#f0f921"
            ]
           ],
           "sequentialminus": [
            [
             0,
             "#0d0887"
            ],
            [
             0.1111111111111111,
             "#46039f"
            ],
            [
             0.2222222222222222,
             "#7201a8"
            ],
            [
             0.3333333333333333,
             "#9c179e"
            ],
            [
             0.4444444444444444,
             "#bd3786"
            ],
            [
             0.5555555555555556,
             "#d8576b"
            ],
            [
             0.6666666666666666,
             "#ed7953"
            ],
            [
             0.7777777777777778,
             "#fb9f3a"
            ],
            [
             0.8888888888888888,
             "#fdca26"
            ],
            [
             1,
             "#f0f921"
            ]
           ]
          },
          "colorway": [
           "#636efa",
           "#EF553B",
           "#00cc96",
           "#ab63fa",
           "#FFA15A",
           "#19d3f3",
           "#FF6692",
           "#B6E880",
           "#FF97FF",
           "#FECB52"
          ],
          "font": {
           "color": "#2a3f5f"
          },
          "geo": {
           "bgcolor": "white",
           "lakecolor": "white",
           "landcolor": "#E5ECF6",
           "showlakes": true,
           "showland": true,
           "subunitcolor": "white"
          },
          "hoverlabel": {
           "align": "left"
          },
          "hovermode": "closest",
          "mapbox": {
           "style": "light"
          },
          "paper_bgcolor": "white",
          "plot_bgcolor": "#E5ECF6",
          "polar": {
           "angularaxis": {
            "gridcolor": "white",
            "linecolor": "white",
            "ticks": ""
           },
           "bgcolor": "#E5ECF6",
           "radialaxis": {
            "gridcolor": "white",
            "linecolor": "white",
            "ticks": ""
           }
          },
          "scene": {
           "xaxis": {
            "backgroundcolor": "#E5ECF6",
            "gridcolor": "white",
            "gridwidth": 2,
            "linecolor": "white",
            "showbackground": true,
            "ticks": "",
            "zerolinecolor": "white"
           },
           "yaxis": {
            "backgroundcolor": "#E5ECF6",
            "gridcolor": "white",
            "gridwidth": 2,
            "linecolor": "white",
            "showbackground": true,
            "ticks": "",
            "zerolinecolor": "white"
           },
           "zaxis": {
            "backgroundcolor": "#E5ECF6",
            "gridcolor": "white",
            "gridwidth": 2,
            "linecolor": "white",
            "showbackground": true,
            "ticks": "",
            "zerolinecolor": "white"
           }
          },
          "shapedefaults": {
           "line": {
            "color": "#2a3f5f"
           }
          },
          "ternary": {
           "aaxis": {
            "gridcolor": "white",
            "linecolor": "white",
            "ticks": ""
           },
           "baxis": {
            "gridcolor": "white",
            "linecolor": "white",
            "ticks": ""
           },
           "bgcolor": "#E5ECF6",
           "caxis": {
            "gridcolor": "white",
            "linecolor": "white",
            "ticks": ""
           }
          },
          "title": {
           "x": 0.05
          },
          "xaxis": {
           "automargin": true,
           "gridcolor": "white",
           "linecolor": "white",
           "ticks": "",
           "title": {
            "standoff": 15
           },
           "zerolinecolor": "white",
           "zerolinewidth": 2
          },
          "yaxis": {
           "automargin": true,
           "gridcolor": "white",
           "linecolor": "white",
           "ticks": "",
           "title": {
            "standoff": 15
           },
           "zerolinecolor": "white",
           "zerolinewidth": 2
          }
         }
        },
        "width": 1000
       }
      }
     },
     "metadata": {},
     "output_type": "display_data"
    }
   ],
   "source": [
    "color = 'magma'\n",
    "plot_pred_conf(trussart_pred_structure_superposed, pLDDT_iso, color)"
   ]
  },
  {
   "cell_type": "code",
   "execution_count": 34,
   "metadata": {},
   "outputs": [
    {
     "data": {
      "image/png": "[encoded data removed]",
      "text/plain": [
       "<Figure size 640x480 with 1 Axes>"
      ]
     },
     "metadata": {},
     "output_type": "display_data"
    },
    {
     "name": "stdout",
     "output_type": "stream",
     "text": [
      "mean: 0.06701403159808708\n",
      "median: 0.05358150138096568\n",
      "variance: 0.002255476050665103\n"
     ]
    }
   ],
   "source": [
    "plot_hist_kabsch_distances(test_size, test_true_structures, test_pred_structures, EMBEDDING_SIZE)"
   ]
  },
  {
   "cell_type": "code",
   "execution_count": 35,
   "metadata": {},
   "outputs": [],
   "source": [
    "RESULTS_ROOT = '../../saved_results/synthetic_biological_trussart_uniform_trans_conf/trans/'\n",
    "LAMBDA_CONFIGURATION = str(LAMBDA_BIO) + '_' + str(LAMBDA_KABSCH)"
   ]
  },
  {
   "cell_type": "code",
   "execution_count": 36,
   "metadata": {},
   "outputs": [],
   "source": [
    "np.savetxt(RESULTS_ROOT + 'synthetic_biological_trussart_uniform_trans_conf_trans_losses_' + LAMBDA_CONFIGURATION + '.txt', losses)\n",
    "\n",
    "np.savetxt(RESULTS_ROOT + 'synthetic_biological_trussart_uniform_trans_conf_trans_train_biological_losses_all_epochs_' +\n",
    "               LAMBDA_CONFIGURATION + '.txt', train_biological_losses_all_epochs)\n",
    "np.savetxt(RESULTS_ROOT + 'synthetic_biological_trussart_uniform_trans_conf_trans_test_biological_losses_all_epochs_' +\n",
    "               LAMBDA_CONFIGURATION + '.txt', test_biological_losses_all_epochs)\n",
    "\n",
    "np.savetxt(RESULTS_ROOT + 'synthetic_biological_trussart_uniform_trans_conf_trans_train_kabsch_losses_all_epochs_' + \n",
    "           LAMBDA_CONFIGURATION + '.txt', train_kabsch_losses_all_epochs)\n",
    "np.savetxt(RESULTS_ROOT + 'synthetic_biological_trussart_uniform_trans_conf_trans_test_kabsch_losses_all_epochs_' + \n",
    "           LAMBDA_CONFIGURATION + '.txt', test_kabsch_losses_all_epochs)\n",
    "\n",
    "np.savetxt(RESULTS_ROOT + 'synthetic_biological_trussart_uniform_trans_conf_trans_train_distance_losses_all_epochs_' +\n",
    "           LAMBDA_CONFIGURATION + '.txt', train_distance_losses_all_epochs)\n",
    "np.savetxt(RESULTS_ROOT + 'synthetic_biological_trussart_uniform_trans_conf_trans_test_distance_losses_all_epochs_' + \n",
    "           LAMBDA_CONFIGURATION + '.txt', test_distance_losses_all_epochs)\n",
    "\n",
    "np.savetxt(RESULTS_ROOT + 'synthetic_biological_trussart_uniform_trans_conf_trans_trussart_test_kabsch_losses_all_epochs_' +\n",
    "               LAMBDA_CONFIGURATION + '.txt', trussart_test_kabsch_losses_all_epochs)"
   ]
  },
  {
   "cell_type": "code",
   "execution_count": 37,
   "metadata": {},
   "outputs": [],
   "source": [
    "torch.save(model, \n",
    "           '../../saved_models/synthetic_biological_trussart_uniform_trans_conf/trans/synthetic_biological_trussart_uniform_linear_model_' + \n",
    "           LAMBDA_CONFIGURATION + '.pt')"
   ]
  },
  {
   "cell_type": "code",
   "execution_count": null,
   "metadata": {},
   "outputs": [],
   "source": []
  }
 ],
 "metadata": {
  "kernelspec": {
   "display_name": "Python 3.8.9 ('3dChromenv': venv)",
   "language": "python",
   "name": "python3"
  },
  "language_info": {
   "codemirror_mode": {
    "name": "ipython",
    "version": 3
   },
   "file_extension": ".py",
   "mimetype": "text/x-python",
   "name": "python",
   "nbconvert_exporter": "python",
   "pygments_lexer": "ipython3",
   "version": "3.8.9"
  },
  "orig_nbformat": 4,
  "vscode": {
   "interpreter": {
    "hash": "8e29b1289806ba3b1e0a7887101d89831cef42814f60b4617646c178e24bc9ec"
   }
  }
 },
 "nbformat": 4,
 "nbformat_minor": 2
}
