{
 "cells": [
  {
   "cell_type": "code",
   "execution_count": 1,
   "metadata": {},
   "outputs": [],
   "source": [
    "%load_ext autoreload\n",
    "%autoreload 2"
   ]
  },
  {
   "cell_type": "code",
   "execution_count": 2,
   "metadata": {},
   "outputs": [],
   "source": [
    "import torch\n",
    "import random\n",
    "import numpy as np\n",
    "import os \n",
    "from torch_geometric.data import DataLoader\n",
    "\n",
    "from Chromatin3D.Data_Tools.Data_Access import get_data_from_path, VanillaDataset, set_logits_data\n",
    "from Chromatin3D.Data_Tools.Data_Plotting import plot_structure_in_sphere, plot_hic, plot_optimal_transport, plot_losses, plot_test_distance_matrix, plot_true_pred_structures, plot_hist_kabsch_distances, plot_grad_flow, plot_pred_conf\n",
    "from Chromatin3D.Model.model import UniformLinear, train_uniform_linear, evaluate_uniform_linear, ConfLinear, train_conf_linear, evaluate_conf_linear\n",
    "from Chromatin3D.Model.losses import compute_trussart_test_kabsch_loss, biological_loss_fct, kabsch_loss_fct\n",
    "from Chromatin3D.Data_Tools.Data_Calculation import save_structure, import_trussart_data, kabsch_superimposition_numpy, kabsch_distance_numpy, make_gif, scale_logits, mse_unscaled_scaled\n",
    "from Chromatin3D.Model.lddt_tools import lddt, get_confidence_metrics\n",
    "from Chromatin3D.Model.calibration_nn import ModelWithTemperature, isotonic_calibration, beta_calibration\n",
    "from scipy.spatial import distance_matrix\n",
    "from sklearn.preprocessing import MinMaxScaler\n",
    "from sklearn.model_selection import train_test_split\n",
    "from sklearn.metrics import mean_squared_error\n",
    "\n",
    "\n",
    "ZERO_INIT = True\n",
    "EXPONENT = 1\n",
    "NUM_BINS_LOGITS = 100\n",
    "NB_EPOCHS = 100\n",
    "SEED = 0\n",
    "BATCH_SIZE = 10\n",
    "NB_BINS = 202\n",
    "EMBEDDING_SIZE = 3\n",
    "LAMBDA_BIO = 0\n",
    "LAMBDA_KABSCH = 0\n",
    "LAMBDA_LDDT = 0.1\n",
    "\n",
    "device = torch.device('cuda' if torch.cuda.is_available() else 'cpu')\n",
    "torch.manual_seed(SEED)\n",
    "random.seed(SEED)\n",
    "np.random.seed(SEED)\n",
    "DATA_DIR = os.environ.get('DATA_DIR')\n",
    "DATA_PATH=f'{DATA_DIR}/biological_trussart_special_values'\n",
    "TRAIN_DATASET_SIZE = 800\n",
    "TEST_DATASET_SIZE = 200\n",
    "\n"
   ]
  },
  {
   "cell_type": "code",
   "execution_count": 3,
   "metadata": {},
   "outputs": [],
   "source": [
    "train_transfer_learning_hics, test_transfer_learning_hics, train_transfer_learning_structures, test_transfer_learning_structures, train_transfer_learning_distances, test_transfer_learning_distances = get_data_from_path(DATA_PATH)\n"
   ]
  },
  {
   "cell_type": "code",
   "execution_count": 4,
   "metadata": {},
   "outputs": [
    {
     "name": "stdout",
     "output_type": "stream",
     "text": [
      "800\n"
     ]
    }
   ],
   "source": [
    "train_dataset = VanillaDataset(root = '', is_training = True, dataset_size = TRAIN_DATASET_SIZE, hics = train_transfer_learning_hics, structures = train_transfer_learning_structures, distances = train_transfer_learning_distances)\n",
    "train_dataset = train_dataset.shuffle()\n",
    "train_size = len(train_dataset)\n",
    "print(train_size)\n",
    "train_loader = DataLoader(train_dataset, batch_size=BATCH_SIZE)"
   ]
  },
  {
   "cell_type": "code",
   "execution_count": 5,
   "metadata": {},
   "outputs": [],
   "source": [
    "test_dataset = VanillaDataset(root = '', is_training = False, dataset_size = TEST_DATASET_SIZE, hics = test_transfer_learning_hics, structures = test_transfer_learning_structures, distances = test_transfer_learning_distances)\n",
    "test_dataset = test_dataset.shuffle()\n",
    "\n",
    "test_train_idx, test_test_idx = train_test_split(list(range(len(test_dataset))), test_size=0.1)\n",
    "test_train_calib = test_dataset.index_select(test_train_idx)\n",
    "test_test_calib= test_dataset.index_select(test_test_idx)\n",
    "\n",
    "test_size = len(test_dataset)\n",
    "\n",
    "test_loader = DataLoader(test_dataset, batch_size=BATCH_SIZE)\n",
    "test_train_calib_loader = DataLoader(test_train_calib, batch_size=BATCH_SIZE)\n",
    "test_test_calib_loader = DataLoader(test_test_calib, batch_size=BATCH_SIZE)"
   ]
  },
  {
   "cell_type": "code",
   "execution_count": 6,
   "metadata": {},
   "outputs": [],
   "source": [
    "trussart_structures = []\n",
    "file_list = os.listdir(f\"{DATA_DIR}/trussart/structure_matrices/\")\n",
    "file_list = filter(lambda f: f.endswith('.xyz'), file_list)\n",
    "\n",
    "for file_name in file_list:\n",
    "    current_trussart_structure = np.loadtxt(f\"{DATA_DIR}/trussart/structure_matrices/\" + file_name, dtype='f', delimiter='\\t')\n",
    "    current_trussart_structure = current_trussart_structure[:,1:]\n",
    "    trussart_structures.append(current_trussart_structure)"
   ]
  },
  {
   "cell_type": "code",
   "execution_count": null,
   "metadata": {},
   "outputs": [],
   "source": []
  },
  {
   "cell_type": "code",
   "execution_count": 7,
   "metadata": {},
   "outputs": [],
   "source": [
    "def compute_hic_matrix(distance_matrix, alpha):\n",
    "        \n",
    "    distance_matrix = np.where(distance_matrix == 0, np.inf, distance_matrix)\n",
    "    \n",
    "    hic_matrix = np.zeros((len(distance_matrix), len(distance_matrix)))\n",
    "    hic_matrix = np.where(distance_matrix == np.inf, hic_matrix, np.power(distance_matrix, -alpha))\n",
    "    \n",
    "    return hic_matrix"
   ]
  },
  {
   "cell_type": "code",
   "execution_count": 8,
   "metadata": {},
   "outputs": [],
   "source": [
    "precomputed_distances = distance_matrix(trussart_structures[0], trussart_structures[0])\n",
    "for structure in trussart_structures[1:]:\n",
    "    precomputed_distances += distance_matrix(structure, structure)\n",
    "precomputed_distances /= len(trussart_structures)\n",
    "\n",
    "trussart_hic = compute_hic_matrix(precomputed_distances, EXPONENT) \n",
    "# Min Max scaling\n",
    "scaler = MinMaxScaler()\n",
    "trussart_hic = scaler.fit_transform(trussart_hic)"
   ]
  },
  {
   "cell_type": "code",
   "execution_count": 9,
   "metadata": {},
   "outputs": [],
   "source": [
    "distance_loss_fct = torch.nn.MSELoss()"
   ]
  },
  {
   "cell_type": "code",
   "execution_count": 10,
   "metadata": {},
   "outputs": [],
   "source": [
    "device = torch.device('cpu')\n",
    "model = ConfLinear(NB_BINS, EMBEDDING_SIZE, BATCH_SIZE, NUM_BINS_LOGITS, ZERO_INIT).to(device)\n",
    "optimizer = torch.optim.Adam(model.parameters(), lr=0.001)"
   ]
  },
  {
   "cell_type": "code",
   "execution_count": 11,
   "metadata": {},
   "outputs": [
    {
     "name": "stdout",
     "output_type": "stream",
     "text": [
      "E: 001, Tr B: 0.0607, Tr K: 0.1077, Tr D: 0.0379, Te B: 0.0560, Te K: 0.1086, Te D: 0.0368, Tr LD: 0.4509, Te LD: 0.4510, Trus: 0.0745\n",
      "E: 002, Tr B: 0.0586, Tr K: 0.0998, Tr D: 0.0299, Te B: 0.0547, Te K: 0.1009, Te D: 0.0298, Tr LD: 0.4359, Te LD: 0.4359, Trus: 0.0524\n",
      "E: 003, Tr B: 0.0586, Tr K: 0.0842, Tr D: 0.0206, Te B: 0.0535, Te K: 0.0847, Te D: 0.0203, Tr LD: 0.4215, Te LD: 0.4218, Trus: 0.0365\n",
      "E: 004, Tr B: 0.0569, Tr K: 0.0798, Tr D: 0.0174, Te B: 0.0530, Te K: 0.0808, Te D: 0.0174, Tr LD: 0.4084, Te LD: 0.4089, Trus: 0.0304\n",
      "E: 005, Tr B: 0.0568, Tr K: 0.0775, Tr D: 0.0153, Te B: 0.0528, Te K: 0.0786, Te D: 0.0153, Tr LD: 0.3960, Te LD: 0.3970, Trus: 0.0325\n",
      "E: 006, Tr B: 0.0564, Tr K: 0.0768, Tr D: 0.0148, Te B: 0.0524, Te K: 0.0779, Te D: 0.0146, Tr LD: 0.3842, Te LD: 0.3845, Trus: 0.0285\n",
      "E: 007, Tr B: 0.0566, Tr K: 0.0771, Tr D: 0.0145, Te B: 0.0524, Te K: 0.0782, Te D: 0.0145, Tr LD: 0.3725, Te LD: 0.3737, Trus: 0.0304\n",
      "E: 008, Tr B: 0.0564, Tr K: 0.0758, Tr D: 0.0137, Te B: 0.0522, Te K: 0.0768, Te D: 0.0137, Tr LD: 0.3634, Te LD: 0.3643, Trus: 0.0295\n",
      "E: 009, Tr B: 0.0563, Tr K: 0.0740, Tr D: 0.0135, Te B: 0.0523, Te K: 0.0752, Te D: 0.0135, Tr LD: 0.3543, Te LD: 0.3553, Trus: 0.0286\n",
      "E: 010, Tr B: 0.0561, Tr K: 0.0732, Tr D: 0.0128, Te B: 0.0522, Te K: 0.0746, Te D: 0.0129, Tr LD: 0.3460, Te LD: 0.3474, Trus: 0.0302\n",
      "E: 011, Tr B: 0.0559, Tr K: 0.0718, Tr D: 0.0123, Te B: 0.0522, Te K: 0.0732, Te D: 0.0123, Tr LD: 0.3391, Te LD: 0.3406, Trus: 0.0305\n",
      "E: 012, Tr B: 0.0560, Tr K: 0.0707, Tr D: 0.0119, Te B: 0.0521, Te K: 0.0721, Te D: 0.0120, Tr LD: 0.3330, Te LD: 0.3349, Trus: 0.0332\n",
      "E: 013, Tr B: 0.0561, Tr K: 0.0704, Tr D: 0.0121, Te B: 0.0521, Te K: 0.0716, Te D: 0.0120, Tr LD: 0.3278, Te LD: 0.3295, Trus: 0.0326\n",
      "E: 014, Tr B: 0.0557, Tr K: 0.0710, Tr D: 0.0120, Te B: 0.0522, Te K: 0.0721, Te D: 0.0119, Tr LD: 0.3229, Te LD: 0.3247, Trus: 0.0319\n",
      "E: 015, Tr B: 0.0558, Tr K: 0.0709, Tr D: 0.0121, Te B: 0.0521, Te K: 0.0721, Te D: 0.0120, Tr LD: 0.3176, Te LD: 0.3194, Trus: 0.0318\n",
      "E: 016, Tr B: 0.0558, Tr K: 0.0712, Tr D: 0.0122, Te B: 0.0521, Te K: 0.0724, Te D: 0.0121, Tr LD: 0.3141, Te LD: 0.3159, Trus: 0.0323\n",
      "E: 017, Tr B: 0.0559, Tr K: 0.0721, Tr D: 0.0126, Te B: 0.0520, Te K: 0.0733, Te D: 0.0126, Tr LD: 0.3128, Te LD: 0.3144, Trus: 0.0325\n",
      "E: 018, Tr B: 0.0560, Tr K: 0.0711, Tr D: 0.0123, Te B: 0.0518, Te K: 0.0722, Te D: 0.0122, Tr LD: 0.3090, Te LD: 0.3100, Trus: 0.0297\n",
      "E: 019, Tr B: 0.0557, Tr K: 0.0728, Tr D: 0.0141, Te B: 0.0520, Te K: 0.0736, Te D: 0.0138, Tr LD: 0.3157, Te LD: 0.3147, Trus: 0.0310\n",
      "E: 020, Tr B: 0.0557, Tr K: 0.0716, Tr D: 0.0141, Te B: 0.0520, Te K: 0.0724, Te D: 0.0137, Tr LD: 0.3129, Te LD: 0.3112, Trus: 0.0304\n",
      "E: 021, Tr B: 0.0557, Tr K: 0.0693, Tr D: 0.0124, Te B: 0.0520, Te K: 0.0700, Te D: 0.0123, Tr LD: 0.3024, Te LD: 0.3032, Trus: 0.0320\n",
      "E: 022, Tr B: 0.0557, Tr K: 0.0682, Tr D: 0.0114, Te B: 0.0520, Te K: 0.0694, Te D: 0.0115, Tr LD: 0.2978, Te LD: 0.2991, Trus: 0.0293\n",
      "E: 023, Tr B: 0.0557, Tr K: 0.0678, Tr D: 0.0112, Te B: 0.0519, Te K: 0.0690, Te D: 0.0113, Tr LD: 0.2954, Te LD: 0.2969, Trus: 0.0283\n",
      "E: 024, Tr B: 0.0552, Tr K: 0.0662, Tr D: 0.0111, Te B: 0.0520, Te K: 0.0673, Te D: 0.0113, Tr LD: 0.2950, Te LD: 0.2964, Trus: 0.0261\n",
      "E: 025, Tr B: 0.0556, Tr K: 0.0657, Tr D: 0.0110, Te B: 0.0520, Te K: 0.0664, Te D: 0.0112, Tr LD: 0.2929, Te LD: 0.2941, Trus: 0.0265\n",
      "E: 026, Tr B: 0.0555, Tr K: 0.0647, Tr D: 0.0110, Te B: 0.0518, Te K: 0.0654, Te D: 0.0112, Tr LD: 0.2929, Te LD: 0.2941, Trus: 0.0282\n",
      "E: 027, Tr B: 0.0554, Tr K: 0.0647, Tr D: 0.0107, Te B: 0.0519, Te K: 0.0652, Te D: 0.0108, Tr LD: 0.2902, Te LD: 0.2921, Trus: 0.0295\n",
      "E: 028, Tr B: 0.0555, Tr K: 0.0648, Tr D: 0.0108, Te B: 0.0518, Te K: 0.0653, Te D: 0.0109, Tr LD: 0.2888, Te LD: 0.2910, Trus: 0.0307\n",
      "E: 029, Tr B: 0.0555, Tr K: 0.0637, Tr D: 0.0109, Te B: 0.0516, Te K: 0.0645, Te D: 0.0110, Tr LD: 0.2876, Te LD: 0.2895, Trus: 0.0286\n",
      "E: 030, Tr B: 0.0554, Tr K: 0.0634, Tr D: 0.0107, Te B: 0.0517, Te K: 0.0641, Te D: 0.0108, Tr LD: 0.2861, Te LD: 0.2880, Trus: 0.0308\n",
      "E: 031, Tr B: 0.0554, Tr K: 0.0634, Tr D: 0.0105, Te B: 0.0518, Te K: 0.0641, Te D: 0.0106, Tr LD: 0.2843, Te LD: 0.2866, Trus: 0.0299\n",
      "E: 032, Tr B: 0.0556, Tr K: 0.0635, Tr D: 0.0104, Te B: 0.0518, Te K: 0.0643, Te D: 0.0105, Tr LD: 0.2836, Te LD: 0.2855, Trus: 0.0311\n",
      "E: 033, Tr B: 0.0555, Tr K: 0.0637, Tr D: 0.0104, Te B: 0.0518, Te K: 0.0645, Te D: 0.0106, Tr LD: 0.2825, Te LD: 0.2849, Trus: 0.0297\n",
      "E: 034, Tr B: 0.0555, Tr K: 0.0636, Tr D: 0.0103, Te B: 0.0517, Te K: 0.0644, Te D: 0.0104, Tr LD: 0.2810, Te LD: 0.2832, Trus: 0.0329\n",
      "E: 035, Tr B: 0.0555, Tr K: 0.0639, Tr D: 0.0101, Te B: 0.0518, Te K: 0.0647, Te D: 0.0103, Tr LD: 0.2799, Te LD: 0.2829, Trus: 0.0330\n",
      "E: 036, Tr B: 0.0555, Tr K: 0.0634, Tr D: 0.0100, Te B: 0.0519, Te K: 0.0643, Te D: 0.0101, Tr LD: 0.2790, Te LD: 0.2817, Trus: 0.0332\n",
      "E: 037, Tr B: 0.0553, Tr K: 0.0644, Tr D: 0.0100, Te B: 0.0518, Te K: 0.0652, Te D: 0.0101, Tr LD: 0.2781, Te LD: 0.2807, Trus: 0.0320\n",
      "E: 038, Tr B: 0.0556, Tr K: 0.0634, Tr D: 0.0098, Te B: 0.0518, Te K: 0.0642, Te D: 0.0099, Tr LD: 0.2772, Te LD: 0.2799, Trus: 0.0313\n",
      "E: 039, Tr B: 0.0554, Tr K: 0.0638, Tr D: 0.0100, Te B: 0.0518, Te K: 0.0647, Te D: 0.0101, Tr LD: 0.2769, Te LD: 0.2794, Trus: 0.0312\n",
      "E: 040, Tr B: 0.0555, Tr K: 0.0639, Tr D: 0.0099, Te B: 0.0519, Te K: 0.0648, Te D: 0.0101, Tr LD: 0.2768, Te LD: 0.2799, Trus: 0.0310\n",
      "E: 041, Tr B: 0.0554, Tr K: 0.0627, Tr D: 0.0102, Te B: 0.0517, Te K: 0.0636, Te D: 0.0103, Tr LD: 0.2785, Te LD: 0.2813, Trus: 0.0321\n",
      "E: 042, Tr B: 0.0553, Tr K: 0.0641, Tr D: 0.0100, Te B: 0.0519, Te K: 0.0649, Te D: 0.0102, Tr LD: 0.2765, Te LD: 0.2793, Trus: 0.0312\n",
      "E: 043, Tr B: 0.0552, Tr K: 0.0633, Tr D: 0.0100, Te B: 0.0518, Te K: 0.0642, Te D: 0.0101, Tr LD: 0.2757, Te LD: 0.2776, Trus: 0.0318\n",
      "E: 044, Tr B: 0.0553, Tr K: 0.0651, Tr D: 0.0101, Te B: 0.0519, Te K: 0.0658, Te D: 0.0102, Tr LD: 0.2754, Te LD: 0.2768, Trus: 0.0294\n",
      "E: 045, Tr B: 0.0551, Tr K: 0.0631, Tr D: 0.0101, Te B: 0.0518, Te K: 0.0642, Te D: 0.0102, Tr LD: 0.2760, Te LD: 0.2786, Trus: 0.0319\n",
      "E: 046, Tr B: 0.0552, Tr K: 0.0621, Tr D: 0.0101, Te B: 0.0517, Te K: 0.0631, Te D: 0.0103, Tr LD: 0.2758, Te LD: 0.2780, Trus: 0.0279\n",
      "E: 047, Tr B: 0.0553, Tr K: 0.0623, Tr D: 0.0102, Te B: 0.0517, Te K: 0.0632, Te D: 0.0103, Tr LD: 0.2761, Te LD: 0.2780, Trus: 0.0286\n",
      "E: 048, Tr B: 0.0554, Tr K: 0.0622, Tr D: 0.0106, Te B: 0.0518, Te K: 0.0631, Te D: 0.0107, Tr LD: 0.2796, Te LD: 0.2811, Trus: 0.0302\n",
      "E: 049, Tr B: 0.0554, Tr K: 0.0613, Tr D: 0.0109, Te B: 0.0517, Te K: 0.0620, Te D: 0.0109, Tr LD: 0.2818, Te LD: 0.2831, Trus: 0.0298\n",
      "E: 050, Tr B: 0.0553, Tr K: 0.0608, Tr D: 0.0113, Te B: 0.0518, Te K: 0.0614, Te D: 0.0113, Tr LD: 0.2855, Te LD: 0.2871, Trus: 0.0308\n",
      "E: 051, Tr B: 0.0550, Tr K: 0.0615, Tr D: 0.0099, Te B: 0.0517, Te K: 0.0623, Te D: 0.0101, Tr LD: 0.2746, Te LD: 0.2763, Trus: 0.0289\n",
      "E: 052, Tr B: 0.0551, Tr K: 0.0628, Tr D: 0.0101, Te B: 0.0518, Te K: 0.0638, Te D: 0.0102, Tr LD: 0.2749, Te LD: 0.2766, Trus: 0.0327\n",
      "E: 053, Tr B: 0.0552, Tr K: 0.0626, Tr D: 0.0102, Te B: 0.0517, Te K: 0.0637, Te D: 0.0103, Tr LD: 0.2758, Te LD: 0.2775, Trus: 0.0301\n",
      "E: 054, Tr B: 0.0552, Tr K: 0.0636, Tr D: 0.0101, Te B: 0.0519, Te K: 0.0648, Te D: 0.0102, Tr LD: 0.2744, Te LD: 0.2768, Trus: 0.0344\n",
      "E: 055, Tr B: 0.0553, Tr K: 0.0628, Tr D: 0.0097, Te B: 0.0516, Te K: 0.0638, Te D: 0.0099, Tr LD: 0.2718, Te LD: 0.2738, Trus: 0.0285\n",
      "E: 056, Tr B: 0.0555, Tr K: 0.0617, Tr D: 0.0098, Te B: 0.0517, Te K: 0.0629, Te D: 0.0100, Tr LD: 0.2733, Te LD: 0.2772, Trus: 0.0308\n",
      "E: 057, Tr B: 0.0553, Tr K: 0.0609, Tr D: 0.0103, Te B: 0.0517, Te K: 0.0622, Te D: 0.0104, Tr LD: 0.2763, Te LD: 0.2786, Trus: 0.0286\n",
      "E: 058, Tr B: 0.0553, Tr K: 0.0626, Tr D: 0.0099, Te B: 0.0518, Te K: 0.0637, Te D: 0.0100, Tr LD: 0.2733, Te LD: 0.2753, Trus: 0.0318\n",
      "E: 059, Tr B: 0.0553, Tr K: 0.0609, Tr D: 0.0099, Te B: 0.0516, Te K: 0.0618, Te D: 0.0102, Tr LD: 0.2755, Te LD: 0.2789, Trus: 0.0269\n",
      "E: 060, Tr B: 0.0553, Tr K: 0.0610, Tr D: 0.0105, Te B: 0.0518, Te K: 0.0621, Te D: 0.0107, Tr LD: 0.2780, Te LD: 0.2809, Trus: 0.0260\n",
      "E: 061, Tr B: 0.0554, Tr K: 0.0603, Tr D: 0.0104, Te B: 0.0516, Te K: 0.0611, Te D: 0.0108, Tr LD: 0.2766, Te LD: 0.2817, Trus: 0.0251\n",
      "E: 062, Tr B: 0.0553, Tr K: 0.0606, Tr D: 0.0103, Te B: 0.0517, Te K: 0.0615, Te D: 0.0106, Tr LD: 0.2770, Te LD: 0.2803, Trus: 0.0233\n",
      "E: 063, Tr B: 0.0554, Tr K: 0.0620, Tr D: 0.0101, Te B: 0.0518, Te K: 0.0629, Te D: 0.0104, Tr LD: 0.2756, Te LD: 0.2793, Trus: 0.0253\n",
      "E: 064, Tr B: 0.0550, Tr K: 0.0623, Tr D: 0.0100, Te B: 0.0519, Te K: 0.0633, Te D: 0.0101, Tr LD: 0.2737, Te LD: 0.2764, Trus: 0.0244\n",
      "E: 065, Tr B: 0.0554, Tr K: 0.0620, Tr D: 0.0104, Te B: 0.0519, Te K: 0.0626, Te D: 0.0106, Tr LD: 0.2762, Te LD: 0.2800, Trus: 0.0255\n",
      "E: 066, Tr B: 0.0555, Tr K: 0.0626, Tr D: 0.0102, Te B: 0.0517, Te K: 0.0634, Te D: 0.0103, Tr LD: 0.2747, Te LD: 0.2767, Trus: 0.0265\n",
      "E: 067, Tr B: 0.0555, Tr K: 0.0621, Tr D: 0.0098, Te B: 0.0517, Te K: 0.0629, Te D: 0.0101, Tr LD: 0.2708, Te LD: 0.2746, Trus: 0.0263\n",
      "E: 068, Tr B: 0.0550, Tr K: 0.0620, Tr D: 0.0096, Te B: 0.0517, Te K: 0.0629, Te D: 0.0099, Tr LD: 0.2691, Te LD: 0.2729, Trus: 0.0289\n",
      "E: 069, Tr B: 0.0550, Tr K: 0.0641, Tr D: 0.0099, Te B: 0.0516, Te K: 0.0653, Te D: 0.0103, Tr LD: 0.2692, Te LD: 0.2736, Trus: 0.0330\n",
      "E: 070, Tr B: 0.0551, Tr K: 0.0632, Tr D: 0.0102, Te B: 0.0517, Te K: 0.0641, Te D: 0.0105, Tr LD: 0.2693, Te LD: 0.2733, Trus: 0.0342\n",
      "E: 071, Tr B: 0.0552, Tr K: 0.0629, Tr D: 0.0102, Te B: 0.0517, Te K: 0.0636, Te D: 0.0104, Tr LD: 0.2709, Te LD: 0.2747, Trus: 0.0341\n",
      "E: 072, Tr B: 0.0551, Tr K: 0.0621, Tr D: 0.0101, Te B: 0.0517, Te K: 0.0628, Te D: 0.0103, Tr LD: 0.2717, Te LD: 0.2761, Trus: 0.0335\n",
      "E: 073, Tr B: 0.0552, Tr K: 0.0615, Tr D: 0.0101, Te B: 0.0518, Te K: 0.0622, Te D: 0.0103, Tr LD: 0.2711, Te LD: 0.2750, Trus: 0.0317\n",
      "E: 074, Tr B: 0.0551, Tr K: 0.0621, Tr D: 0.0093, Te B: 0.0517, Te K: 0.0627, Te D: 0.0096, Tr LD: 0.2668, Te LD: 0.2705, Trus: 0.0312\n",
      "E: 075, Tr B: 0.0549, Tr K: 0.0620, Tr D: 0.0093, Te B: 0.0517, Te K: 0.0626, Te D: 0.0096, Tr LD: 0.2655, Te LD: 0.2692, Trus: 0.0287\n",
      "E: 076, Tr B: 0.0550, Tr K: 0.0616, Tr D: 0.0093, Te B: 0.0518, Te K: 0.0623, Te D: 0.0097, Tr LD: 0.2658, Te LD: 0.2701, Trus: 0.0305\n",
      "E: 077, Tr B: 0.0551, Tr K: 0.0619, Tr D: 0.0091, Te B: 0.0518, Te K: 0.0627, Te D: 0.0095, Tr LD: 0.2650, Te LD: 0.2692, Trus: 0.0304\n",
      "E: 078, Tr B: 0.0551, Tr K: 0.0617, Tr D: 0.0091, Te B: 0.0518, Te K: 0.0624, Te D: 0.0094, Tr LD: 0.2649, Te LD: 0.2688, Trus: 0.0310\n",
      "E: 079, Tr B: 0.0551, Tr K: 0.0617, Tr D: 0.0091, Te B: 0.0518, Te K: 0.0624, Te D: 0.0094, Tr LD: 0.2647, Te LD: 0.2688, Trus: 0.0303\n",
      "E: 080, Tr B: 0.0551, Tr K: 0.0624, Tr D: 0.0091, Te B: 0.0518, Te K: 0.0631, Te D: 0.0093, Tr LD: 0.2638, Te LD: 0.2675, Trus: 0.0290\n",
      "E: 081, Tr B: 0.0551, Tr K: 0.0625, Tr D: 0.0090, Te B: 0.0518, Te K: 0.0634, Te D: 0.0093, Tr LD: 0.2635, Te LD: 0.2673, Trus: 0.0297\n",
      "E: 082, Tr B: 0.0549, Tr K: 0.0630, Tr D: 0.0090, Te B: 0.0518, Te K: 0.0639, Te D: 0.0093, Tr LD: 0.2632, Te LD: 0.2664, Trus: 0.0294\n",
      "E: 083, Tr B: 0.0552, Tr K: 0.0632, Tr D: 0.0091, Te B: 0.0519, Te K: 0.0641, Te D: 0.0094, Tr LD: 0.2646, Te LD: 0.2684, Trus: 0.0286\n",
      "E: 084, Tr B: 0.0551, Tr K: 0.0645, Tr D: 0.0098, Te B: 0.0518, Te K: 0.0653, Te D: 0.0101, Tr LD: 0.2714, Te LD: 0.2740, Trus: 0.0289\n",
      "E: 085, Tr B: 0.0551, Tr K: 0.0648, Tr D: 0.0100, Te B: 0.0519, Te K: 0.0656, Te D: 0.0103, Tr LD: 0.2731, Te LD: 0.2761, Trus: 0.0296\n",
      "E: 086, Tr B: 0.0551, Tr K: 0.0653, Tr D: 0.0103, Te B: 0.0519, Te K: 0.0664, Te D: 0.0107, Tr LD: 0.2764, Te LD: 0.2811, Trus: 0.0296\n",
      "E: 087, Tr B: 0.0553, Tr K: 0.0674, Tr D: 0.0110, Te B: 0.0521, Te K: 0.0683, Te D: 0.0112, Tr LD: 0.2823, Te LD: 0.2841, Trus: 0.0338\n",
      "E: 088, Tr B: 0.0552, Tr K: 0.0673, Tr D: 0.0107, Te B: 0.0521, Te K: 0.0683, Te D: 0.0108, Tr LD: 0.2774, Te LD: 0.2800, Trus: 0.0325\n",
      "E: 089, Tr B: 0.0551, Tr K: 0.0659, Tr D: 0.0095, Te B: 0.0520, Te K: 0.0667, Te D: 0.0095, Tr LD: 0.2651, Te LD: 0.2658, Trus: 0.0324\n",
      "E: 090, Tr B: 0.0552, Tr K: 0.0669, Tr D: 0.0095, Te B: 0.0519, Te K: 0.0678, Te D: 0.0096, Tr LD: 0.2636, Te LD: 0.2655, Trus: 0.0310\n",
      "E: 091, Tr B: 0.0555, Tr K: 0.0657, Tr D: 0.0094, Te B: 0.0519, Te K: 0.0664, Te D: 0.0095, Tr LD: 0.2635, Te LD: 0.2652, Trus: 0.0287\n",
      "E: 092, Tr B: 0.0554, Tr K: 0.0648, Tr D: 0.0093, Te B: 0.0518, Te K: 0.0656, Te D: 0.0094, Tr LD: 0.2638, Te LD: 0.2652, Trus: 0.0295\n",
      "E: 093, Tr B: 0.0554, Tr K: 0.0633, Tr D: 0.0092, Te B: 0.0519, Te K: 0.0640, Te D: 0.0093, Tr LD: 0.2636, Te LD: 0.2662, Trus: 0.0292\n",
      "E: 094, Tr B: 0.0553, Tr K: 0.0638, Tr D: 0.0094, Te B: 0.0520, Te K: 0.0646, Te D: 0.0095, Tr LD: 0.2658, Te LD: 0.2685, Trus: 0.0298\n",
      "E: 095, Tr B: 0.0555, Tr K: 0.0637, Tr D: 0.0096, Te B: 0.0521, Te K: 0.0646, Te D: 0.0096, Tr LD: 0.2678, Te LD: 0.2696, Trus: 0.0290\n",
      "E: 096, Tr B: 0.0553, Tr K: 0.0632, Tr D: 0.0093, Te B: 0.0520, Te K: 0.0641, Te D: 0.0094, Tr LD: 0.2658, Te LD: 0.2687, Trus: 0.0284\n",
      "E: 097, Tr B: 0.0554, Tr K: 0.0635, Tr D: 0.0091, Te B: 0.0519, Te K: 0.0644, Te D: 0.0092, Tr LD: 0.2653, Te LD: 0.2676, Trus: 0.0292\n",
      "E: 098, Tr B: 0.0554, Tr K: 0.0631, Tr D: 0.0089, Te B: 0.0520, Te K: 0.0640, Te D: 0.0090, Tr LD: 0.2623, Te LD: 0.2652, Trus: 0.0311\n",
      "E: 099, Tr B: 0.0553, Tr K: 0.0630, Tr D: 0.0088, Te B: 0.0519, Te K: 0.0640, Te D: 0.0089, Tr LD: 0.2620, Te LD: 0.2648, Trus: 0.0305\n",
      "E: 100, Tr B: 0.0555, Tr K: 0.0631, Tr D: 0.0088, Te B: 0.0520, Te K: 0.0642, Te D: 0.0090, Tr LD: 0.2622, Te LD: 0.2650, Trus: 0.0274\n"
     ]
    }
   ],
   "source": [
    "train_biological_losses_all_epochs = []\n",
    "train_kabsch_losses_all_epochs = []\n",
    "train_distance_losses_all_epochs = []\n",
    "train_lddt_losses_all_epochs = []\n",
    "\n",
    "test_biological_losses_all_epochs = []\n",
    "test_kabsch_losses_all_epochs = []\n",
    "test_distance_losses_all_epochs = []\n",
    "test_lddt_losses_all_epochs = []\n",
    "\n",
    "losses = []\n",
    "\n",
    "trussart_test_kabsch_losses_all_epochs = []\n",
    "\n",
    "for epoch in range(1, NB_EPOCHS+1):\n",
    "    loss = train_conf_linear(model, train_loader, train_dataset, optimizer, device, BATCH_SIZE,  NB_BINS, EMBEDDING_SIZE, LAMBDA_BIO, LAMBDA_KABSCH, distance_loss_fct, LAMBDA_LDDT, NUM_BINS_LOGITS)\n",
    "    losses.append(loss)\n",
    "    \n",
    "    ### Training\n",
    "    train_mean_biological_loss, train_mean_kabsch_loss, train_mean_distance_loss, train_true_hics, \\\n",
    "        train_pred_structures, train_true_structures, train_pred_distances, \\\n",
    "            train_true_distances, train_mean_lddt_loss = evaluate_conf_linear(train_loader, model, device, BATCH_SIZE, NB_BINS, EMBEDDING_SIZE, distance_loss_fct, NUM_BINS_LOGITS) \n",
    "    \n",
    "    # Store results\n",
    "    train_biological_losses_all_epochs.append(train_mean_biological_loss)\n",
    "    train_kabsch_losses_all_epochs.append(train_mean_kabsch_loss)    \n",
    "    train_distance_losses_all_epochs.append(train_mean_distance_loss)\n",
    "    train_lddt_losses_all_epochs.append(train_mean_lddt_loss)\n",
    "\n",
    "    ### Testing\n",
    "    test_mean_biological_loss, test_mean_kabsch_loss, test_mean_distance_loss, test_true_hics, \\\n",
    "        test_pred_structures, test_true_structures, test_pred_distances, \\\n",
    "            test_true_distances, test_mean_lddt_loss = evaluate_conf_linear(test_loader, model, device, BATCH_SIZE, NB_BINS, EMBEDDING_SIZE, distance_loss_fct, NUM_BINS_LOGITS) \n",
    "    \n",
    "    ### Trussart test\n",
    "    trussart_test_kabsch_loss = compute_trussart_test_kabsch_loss(trussart_hic, trussart_structures, model, NB_BINS, BATCH_SIZE, EMBEDDING_SIZE, True)\n",
    "    save_structure(model, epoch, trussart_structures, trussart_hic, NB_BINS, BATCH_SIZE, EMBEDDING_SIZE, True)\n",
    "    # Store results\n",
    "    test_biological_losses_all_epochs.append(test_mean_biological_loss)\n",
    "    test_kabsch_losses_all_epochs.append(test_mean_kabsch_loss)    \n",
    "    test_distance_losses_all_epochs.append(test_mean_distance_loss)\n",
    "    test_lddt_losses_all_epochs.append(test_mean_lddt_loss)\n",
    "\n",
    "    \n",
    "    trussart_test_kabsch_losses_all_epochs.append(trussart_test_kabsch_loss)\n",
    "    \n",
    "    print('E: {:03d}, Tr B: {:.4f}, Tr K: {:.4f}, Tr D: {:.4f}, Te B: {:.4f}, Te K: {:.4f}, Te D: {:.4f}, Tr LD: {:.4f}, Te LD: {:.4f}, Trus: {:.4f}'.format(\\\n",
    "        epoch, train_mean_biological_loss, train_mean_kabsch_loss, train_mean_distance_loss, \\\n",
    "            test_mean_biological_loss, test_mean_kabsch_loss, test_mean_distance_loss,train_mean_lddt_loss, test_mean_lddt_loss, trussart_test_kabsch_loss))"
   ]
  },
  {
   "cell_type": "markdown",
   "metadata": {},
   "source": []
  },
  {
   "cell_type": "code",
   "execution_count": 12,
   "metadata": {},
   "outputs": [
    {
     "name": "stdout",
     "output_type": "stream",
     "text": [
      "(array([61]),)\n",
      "0.023309953599428678\n"
     ]
    }
   ],
   "source": [
    "print(np.where(trussart_test_kabsch_losses_all_epochs == min(trussart_test_kabsch_losses_all_epochs)))\n",
    "print(min(trussart_test_kabsch_losses_all_epochs))"
   ]
  },
  {
   "cell_type": "code",
   "execution_count": 13,
   "metadata": {},
   "outputs": [
    {
     "data": {
      "image/png": "[encoded data removed]",
      "text/plain": [
       "<Figure size 1000x1000 with 4 Axes>"
      ]
     },
     "metadata": {},
     "output_type": "display_data"
    }
   ],
   "source": [
    "plot_losses(losses, train_biological_losses_all_epochs, test_biological_losses_all_epochs, train_kabsch_losses_all_epochs, test_kabsch_losses_all_epochs, trussart_test_kabsch_losses_all_epochs, train_distance_losses_all_epochs, test_distance_losses_all_epochs)\n"
   ]
  },
  {
   "cell_type": "code",
   "execution_count": 14,
   "metadata": {},
   "outputs": [
    {
     "name": "stdout",
     "output_type": "stream",
     "text": [
      "tensor(0.0001)\n",
      "linear_encoder_layer_1.weight\n",
      "tensor(0.0002)\n",
      "linear_encoder_layer_2.weight\n",
      "tensor(0.0011)\n",
      "linear_encoder_layer_3.weight\n",
      "tensor(3.4706e-06)\n",
      "linear_bin_layer.weight\n"
     ]
    },
    {
     "name": "stderr",
     "output_type": "stream",
     "text": [
      "/Users/hva/Documents/3D-Chromatin/Chromatin3D/Data_Tools/Data_Plotting.py:107: UserWarning:\n",
      "\n",
      "Attempted to set non-positive bottom ylim on a log-scaled axis.\n",
      "Invalid limit will be ignored.\n",
      "\n"
     ]
    },
    {
     "data": {
      "image/png": "[encoded data removed]",
      "text/plain": [
       "<Figure size 640x480 with 1 Axes>"
      ]
     },
     "metadata": {},
     "output_type": "display_data"
    }
   ],
   "source": [
    "plot_grad_flow(model.named_parameters())"
   ]
  },
  {
   "cell_type": "code",
   "execution_count": 15,
   "metadata": {},
   "outputs": [],
   "source": [
    "GRAPH_TESTED = 0"
   ]
  },
  {
   "cell_type": "code",
   "execution_count": 16,
   "metadata": {},
   "outputs": [
    {
     "data": {
      "image/png": "[encoded data removed]",
      "text/plain": [
       "<Figure size 1500x1500 with 2 Axes>"
      ]
     },
     "metadata": {},
     "output_type": "display_data"
    }
   ],
   "source": [
    "ground_truth_matrix = test_true_distances[GRAPH_TESTED*NB_BINS:GRAPH_TESTED*NB_BINS+NB_BINS, :]\n",
    "reconstruction_matrix = test_pred_distances[GRAPH_TESTED*NB_BINS:GRAPH_TESTED*NB_BINS+NB_BINS, :]\n",
    "plot_test_distance_matrix(ground_truth_matrix, reconstruction_matrix)"
   ]
  },
  {
   "cell_type": "code",
   "execution_count": 17,
   "metadata": {},
   "outputs": [
    {
     "data": {
      "application/vnd.plotly.v1+json": {
       "config": {
        "plotlyServerURL": "https://plot.ly"
       },
       "data": [
        {
         "line": {
          "color": "darkblue",
          "width": 2
         },
         "marker": {
          "color": [
           0,
           1,
           2,
           3,
           4,
           5,
           6,
           7,
           8,
           9,
           10,
           11,
           12,
           13,
           14,
           15,
           16,
           17,
           18,
           19,
           20,
           21,
           22,
           23,
           24,
           25,
           26,
           27,
           28,
           29,
           30,
           31,
           32,
           33,
           34,
           35,
           36,
           37,
           38,
           39,
           40,
           41,
           42,
           43,
           44,
           45,
           46,
           47,
           48,
           49,
           50,
           51,
           52,
           53,
           54,
           55,
           56,
           57,
           58,
           59,
           60,
           61,
           62,
           63,
           64,
           65,
           66,
           67,
           68,
           69,
           70,
           71,
           72,
           73,
           74,
           75,
           76,
           77,
           78,
           79,
           80,
           81,
           82,
           83,
           84,
           85,
           86,
           87,
           88,
           89,
           90,
           91,
           92,
           93,
           94,
           95,
           96,
           97,
           98,
           99,
           100,
           101,
           102,
           103,
           104,
           105,
           106,
           107,
           108,
           109,
           110,
           111,
           112,
           113,
           114,
           115,
           116,
           117,
           118,
           119,
           120,
           121,
           122,
           123,
           124,
           125,
           126,
           127,
           128,
           129,
           130,
           131,
           132,
           133,
           134,
           135,
           136,
           137,
           138,
           139,
           140,
           141,
           142,
           143,
           144,
           145,
           146,
           147,
           148,
           149,
           150,
           151,
           152,
           153,
           154,
           155,
           156,
           157,
           158,
           159,
           160,
           161,
           162,
           163,
           164,
           165,
           166,
           167,
           168,
           169,
           170,
           171,
           172,
           173,
           174,
           175,
           176,
           177,
           178,
           179,
           180,
           181,
           182,
           183,
           184,
           185,
           186,
           187,
           188,
           189,
           190,
           191,
           192,
           193,
           194,
           195,
           196,
           197,
           198,
           199,
           200,
           201
          ],
          "colorscale": [
           [
            0,
            "#440154"
           ],
           [
            0.1111111111111111,
            "#482878"
           ],
           [
            0.2222222222222222,
            "#3e4989"
           ],
           [
            0.3333333333333333,
            "#31688e"
           ],
           [
            0.4444444444444444,
            "#26828e"
           ],
           [
            0.5555555555555556,
            "#1f9e89"
           ],
           [
            0.6666666666666666,
            "#35b779"
           ],
           [
            0.7777777777777778,
            "#6ece58"
           ],
           [
            0.8888888888888888,
            "#b5de2b"
           ],
           [
            1,
            "#fde725"
           ]
          ],
          "size": 4
         },
         "scene": "scene",
         "type": "scatter3d",
         "x": [
          0.9930968880653381,
          0.9909803867340088,
          0.9983958601951599,
          0.9964322447776794,
          0.9175460934638977,
          0.8971960544586182,
          0.839956521987915,
          0.8058918714523315,
          0.7466644048690796,
          0.7150923013687134,
          0.7365792989730835,
          0.6729572415351868,
          0.6033930778503418,
          0.6208248734474182,
          0.5538291931152344,
          0.47783127427101135,
          0.4227962791919708,
          0.43599650263786316,
          0.46541035175323486,
          0.52203768491745,
          0.4569229781627655,
          0.474241703748703,
          0.456265926361084,
          0.47487571835517883,
          0.48077481985092163,
          0.5101697444915771,
          0.5636564493179321,
          0.5550363659858704,
          0.4689851403236389,
          0.4381818175315857,
          0.47751545906066895,
          0.5460690855979919,
          0.5374953150749207,
          0.5561511516571045,
          0.5348008871078491,
          0.47674015164375305,
          0.3961412012577057,
          0.365234911441803,
          0.35764312744140625,
          0.32866615056991577,
          0.32040682435035706,
          0.32188189029693604,
          0.3282366991043091,
          0.3275550305843353,
          0.2522255480289459,
          0.1991346776485443,
          0.22298790514469147,
          0.16513916850090027,
          0.07765528559684753,
          0.012405132874846458,
          0.07631155848503113,
          0.053670890629291534,
          0.028941253200173378,
          0.03479717671871185,
          0.09258253127336502,
          0.03615769371390343,
          0.025354545563459396,
          -0.05460247024893761,
          -0.0638880506157875,
          -0.08774195611476898,
          -0.13122576475143433,
          -0.061662718653678894,
          -0.10878139734268188,
          -0.1362079381942749,
          -0.12703947722911835,
          -0.07647369801998138,
          -0.09228762984275818,
          -0.1296926736831665,
          -0.1200375035405159,
          -0.05915045365691185,
          0.01380567904561758,
          0.08354543894529343,
          0.11251793801784515,
          0.16036935150623322,
          0.15688171982765198,
          0.14512871205806732,
          0.16861113905906677,
          0.21262824535369873,
          0.15089118480682373,
          0.12690001726150513,
          0.08380937576293945,
          0.1348809003829956,
          0.115265853703022,
          0.11078979074954987,
          0.05436164513230324,
          -0.008244513534009457,
          -0.041595302522182465,
          -0.13434994220733643,
          -0.19357077777385712,
          -0.2578299939632416,
          -0.21661260724067688,
          -0.12826314568519592,
          -0.16008123755455017,
          -0.11770950257778168,
          -0.08922997117042542,
          -0.12831172347068787,
          -0.1146138459444046,
          -0.19854159653186798,
          -0.14726370573043823,
          -0.06898228824138641,
          -0.10779506713151932,
          -0.07645120471715927,
          -0.11899834126234055,
          -0.1585172712802887,
          -0.10219019651412964,
          -0.05684445798397064,
          -0.01843111217021942,
          -0.10947078466415405,
          -0.09168539196252823,
          -0.1206865906715393,
          -0.12047495692968369,
          -0.17046041786670685,
          -0.248344287276268,
          -0.2907838821411133,
          -0.2710603177547455,
          -0.20208464562892914,
          -0.27498823404312134,
          -0.27326229214668274,
          -0.26384401321411133,
          -0.2729262113571167,
          -0.3527071177959442,
          -0.3041858971118927,
          -0.24626734852790833,
          -0.22047095000743866,
          -0.23495779931545258,
          -0.23601330816745758,
          -0.26631730794906616,
          -0.2019430249929428,
          -0.287005752325058,
          -0.24454328417778015,
          -0.18571291863918304,
          -0.10924648493528366,
          -0.1696901023387909,
          -0.10824748873710632,
          -0.11745089292526245,
          -0.15500839054584503,
          -0.1711108237504959,
          -0.14888997375965118,
          -0.14619697630405426,
          -0.1461675763130188,
          -0.2349742352962494,
          -0.22570736706256866,
          -0.30670496821403503,
          -0.2701994478702545,
          -0.19842424988746643,
          -0.21923436224460602,
          -0.2538899779319763,
          -0.32836583256721497,
          -0.4113646149635315,
          -0.43096664547920227,
          -0.4010525345802307,
          -0.32467880845069885,
          -0.327765554189682,
          -0.3818926215171814,
          -0.39952924847602844,
          -0.37298744916915894,
          -0.39058616757392883,
          -0.3700890839099884,
          -0.31182023882865906,
          -0.3959495723247528,
          -0.45370492339134216,
          -0.3957078754901886,
          -0.34338197112083435,
          -0.39906367659568787,
          -0.39788079261779785,
          -0.3403606712818146,
          -0.2959222197532654,
          -0.2132849395275116,
          -0.17548736929893494,
          -0.1335163116455078,
          -0.2160181701183319,
          -0.30027857422828674,
          -0.35734814405441284,
          -0.32939574122428894,
          -0.3366563320159912,
          -0.2985740900039673,
          -0.2183973789215088,
          -0.2927047908306122,
          -0.31663578748703003,
          -0.31355011463165283,
          -0.24029920995235443,
          -0.1868162304162979,
          -0.19744934141635895,
          -0.18508654832839966,
          -0.19904465973377228,
          -0.2038423717021942,
          -0.19564634561538696,
          -0.17678561806678772,
          -0.26960989832878113,
          -0.24410665035247803,
          -0.22305281460285187,
          -0.225676491856575,
          -0.30241069197654724,
          -0.2787836790084839,
          -0.28681713342666626,
          -0.2716570496559143,
          -0.25600090622901917,
          -0.19243735074996948,
          -0.15375137329101562,
          -0.16418936848640442,
          -0.1967473030090332,
          -0.2846144139766693
         ],
         "y": [
          0.019054222851991653,
          -0.0791996493935585,
          0.01879965513944626,
          0.06629344075918198,
          0.05190427601337433,
          0.11643283069133759,
          0.045116979628801346,
          0.030064791440963745,
          -0.006018861662596464,
          0.06692333519458771,
          -0.013878639787435532,
          0.0271296463906765,
          -0.03805863484740257,
          -0.1309279203414917,
          -0.16287992894649506,
          -0.1103191003203392,
          -0.15367166697978973,
          -0.07782816886901855,
          0.004850355442613363,
          0.03363972157239914,
          -0.022987859323620796,
          0.03729206323623657,
          -0.05254640430212021,
          -0.12171623110771179,
          -0.030388951301574707,
          0.04154716432094574,
          0.11674202233552933,
          0.0777478963136673,
          0.12506559491157532,
          0.032032035291194916,
          -0.05773952975869179,
          -0.11148014664649963,
          -0.05288974940776825,
          0.01265629194676876,
          0.0014345895033329725,
          -0.06407028436660767,
          -0.11123944073915482,
          -0.057219941169023514,
          0.0407656729221344,
          0.0031013053376227617,
          -0.09277237951755524,
          -0.005181401502341032,
          -0.08753100037574768,
          0.009186919778585434,
          -0.049581486731767654,
          0.023032421246170998,
          -0.06495406478643417,
          0.009647898375988007,
          0.03748222813010216,
          0.009679468348622322,
          -0.06309961527585983,
          0.03247087448835373,
          -0.05949384346604347,
          -0.10738468170166016,
          -0.1676604300737381,
          -0.12129436433315277,
          -0.20449209213256836,
          -0.16667842864990234,
          -0.09291777014732361,
          -0.010389243252575397,
          -0.06323595345020294,
          -0.13252469897270203,
          -0.11551827192306519,
          -0.1808556765317917,
          -0.08782324194908142,
          -0.0345754399895668,
          -0.1313355416059494,
          -0.18325017392635345,
          -0.2611415684223175,
          -0.32876113057136536,
          -0.3645554482936859,
          -0.3886008858680725,
          -0.43786993622779846,
          -0.5023998618125916,
          -0.42274409532546997,
          -0.33898940682411194,
          -0.28092390298843384,
          -0.2070968747138977,
          -0.2220367193222046,
          -0.13439221680164337,
          -0.2187228798866272,
          -0.3015158772468567,
          -0.21726086735725403,
          -0.13309042155742645,
          -0.13523755967617035,
          -0.059989187866449356,
          -0.09355895966291428,
          -0.08764680474996567,
          -0.16507588326931,
          -0.21276509761810303,
          -0.27128520607948303,
          -0.3100414276123047,
          -0.26256465911865234,
          -0.18888546526432037,
          -0.10827434062957764,
          -0.04788452386856079,
          0.03323788568377495,
          -0.01763870008289814,
          -0.1011960431933403,
          -0.1540578007698059,
          -0.24207770824432373,
          -0.29052603244781494,
          -0.250305712223053,
          -0.16942551732063293,
          -0.09723678231239319,
          -0.011696167290210724,
          0.02396923303604126,
          0.02439265511929989,
          0.059884801506996155,
          0.136254221200943,
          0.23347420990467072,
          0.27448341250419617,
          0.23797184228897095,
          0.1631772667169571,
          0.23015408217906952,
          0.2956286668777466,
          0.2354789823293686,
          0.28969231247901917,
          0.381559282541275,
          0.44076457619667053,
          0.39795777201652527,
          0.31954294443130493,
          0.2796311676502228,
          0.2465076446533203,
          0.28846654295921326,
          0.37812569737434387,
          0.4658462703227997,
          0.5183876156806946,
          0.5136821866035461,
          0.45706063508987427,
          0.3790048062801361,
          0.3267095685005188,
          0.24930837750434875,
          0.17546850442886353,
          0.25229933857917786,
          0.2507301867008209,
          0.22836992144584656,
          0.3180919885635376,
          0.23490753769874573,
          0.29926812648773193,
          0.3400527238845825,
          0.2564131021499634,
          0.29965269565582275,
          0.22675321996212006,
          0.15987388789653778,
          0.23652076721191406,
          0.327678382396698,
          0.2689789831638336,
          0.22595812380313873,
          0.14346081018447876,
          0.07039789110422134,
          0.03830590844154358,
          -0.040866948664188385,
          -0.04021124541759491,
          -0.03247860446572304,
          0.048188887536525726,
          0.019240403547883034,
          0.11488039046525955,
          0.17081761360168457,
          0.16712327301502228,
          0.09346072375774384,
          0.015168469399213791,
          -0.03795274347066879,
          -0.00431174598634243,
          -0.042659975588321686,
          -0.11143840104341507,
          -0.18032203614711761,
          -0.22997386753559113,
          -0.28246796131134033,
          -0.37072181701660156,
          -0.40145158767700195,
          -0.4161628782749176,
          -0.3769904673099518,
          -0.46273818612098694,
          -0.41688117384910583,
          -0.3626115918159485,
          -0.3062179982662201,
          -0.31133726239204407,
          -0.24757562577724457,
          -0.1507052332162857,
          -0.08642233908176422,
          -0.048931267112493515,
          0.03080889768898487,
          -0.036184895783662796,
          -0.11062035709619522,
          -0.17279106378555298,
          -0.12053649127483368,
          -0.026495881378650665,
          -0.05765358731150627,
          0.02431424707174301,
          0.049073975533246994,
          0.12417158484458923,
          0.17258226871490479,
          0.12195707857608795,
          0.19695481657981873,
          0.2665086090564728,
          0.299818754196167,
          0.3626413345336914,
          0.42200562357902527,
          0.34376242756843567,
          0.4262913465499878,
          0.40739598870277405
         ],
         "z": [
          -0.034338340163230896,
          -0.03356243297457695,
          -0.03379036858677864,
          0.05222933739423752,
          -0.004593435674905777,
          -0.0758734866976738,
          -0.11188172549009323,
          -0.2028319090604782,
          -0.2724665403366089,
          -0.3302726149559021,
          -0.2786174714565277,
          -0.34130287170410156,
          -0.31742367148399353,
          -0.2903990149497986,
          -0.3548160195350647,
          -0.38829097151756287,
          -0.45721563696861267,
          -0.3961220979690552,
          -0.4403713047504425,
          -0.36538180708885193,
          -0.31834676861763,
          -0.24268105626106262,
          -0.20711667835712433,
          -0.2744079530239105,
          -0.23858290910720825,
          -0.1784161627292633,
          -0.2122364342212677,
          -0.3020365536212921,
          -0.2981472909450531,
          -0.290743350982666,
          -0.28347450494766235,
          -0.3289855420589447,
          -0.25054726004600525,
          -0.17973355948925018,
          -0.08445949852466583,
          -0.12914687395095825,
          -0.0985235944390297,
          -0.022460471838712692,
          -0.022161005064845085,
          -0.10818794369697571,
          -0.12816104292869568,
          -0.08361276239156723,
          -0.030348647385835648,
          -0.01291060633957386,
          0.010125226341187954,
          -0.029466258361935616,
          -0.06618556380271912,
          -0.038854699581861496,
          -0.07393637299537659,
          -0.005904549732804298,
          -0.022580254822969437,
          -0.01903238520026207,
          0.005254251416772604,
          0.09087599068880081,
          0.14270833134651184,
          0.20847557485103607,
          0.1572863757610321,
          0.11443888396024704,
          0.05015787109732628,
          0.09789610654115677,
          0.1684318333864212,
          0.16407783329486847,
          0.07952301949262619,
          0.011422252282500267,
          0.04175061732530594,
          -0.02356920950114727,
          -0.03037402592599392,
          0.044222477823495865,
          -0.014926613308489323,
          0.022211914882063866,
          0.077484630048275,
          0.14242374897003174,
          0.2223741114139557,
          0.2789871394634247,
          0.22152669727802277,
          0.2715858817100525,
          0.19585032761096954,
          0.14819560945034027,
          0.07320068031549454,
          0.03576047345995903,
          0.062036726623773575,
          0.0760340467095375,
          0.12267361581325531,
          0.17321276664733887,
          0.25365006923675537,
          0.2624282240867615,
          0.3485659062862396,
          0.3166201710700989,
          0.3041088581085205,
          0.24705278873443604,
          0.17970721423625946,
          0.19844846427440643,
          0.11849553883075714,
          0.06915061175823212,
          0.1176239624619484,
          0.05065685510635376,
          0.10441956669092178,
          0.1095781922340393,
          0.11648128181695938,
          0.14362093806266785,
          0.1637447625398636,
          0.24330122768878937,
          0.3222377300262451,
          0.36167827248573303,
          0.325971782207489,
          0.3428677022457123,
          0.2597334682941437,
          0.2227131873369217,
          0.13280828297138214,
          0.0781681165099144,
          0.06377594918012619,
          -0.010241632349789143,
          0.037296880036592484,
          0.0848737433552742,
          0.1540401428937912,
          0.12925437092781067,
          0.1561984419822693,
          0.07424211502075195,
          0.04061683267354965,
          -0.03730076178908348,
          -0.07553014904260635,
          -0.1095258817076683,
          -0.0408862940967083,
          0.04797473922371864,
          0.13565875589847565,
          0.09542160481214523,
          0.06308474391698837,
          0.11556582897901535,
          0.1645667999982834,
          0.23275654017925262,
          0.24301248788833618,
          0.27583011984825134,
          0.27201858162879944,
          0.29278838634490967,
          0.23219776153564453,
          0.14139093458652496,
          0.04705306515097618,
          0.08044596016407013,
          0.028177447617053986,
          -0.04609648138284683,
          -0.03566090390086174,
          0.015107635408639908,
          0.050159454345703125,
          -0.004721456672996283,
          0.0011420785449445248,
          -0.05674661323428154,
          -0.06891944259405136,
          -0.043100230395793915,
          -0.07342033088207245,
          -0.023732701316475868,
          -0.08226355910301208,
          -0.13514135777950287,
          -0.19328804314136505,
          -0.27531692385673523,
          -0.37169149518013,
          -0.32222238183021545,
          -0.22996632754802704,
          -0.220386803150177,
          -0.16439862549304962,
          -0.11372797191143036,
          -0.08377710729837418,
          -0.07090970873832703,
          -0.1349334716796875,
          -0.06126708909869194,
          0.029214506968855858,
          -0.011033069342374802,
          -0.06524721533060074,
          -0.08434384316205978,
          -0.15833450853824615,
          -0.1687554121017456,
          -0.12507441639900208,
          -0.1734754741191864,
          -0.24324288964271545,
          -0.20419298112392426,
          -0.11757125705480576,
          -0.04502153769135475,
          -0.03792514279484749,
          -0.1020430475473404,
          -0.03118639439344406,
          -0.014891882427036762,
          -0.0022065876983106136,
          -0.07564292848110199,
          -0.01918632537126541,
          -0.0900234505534172,
          -0.027386095374822617,
          0.048578958958387375,
          0.13141125440597534,
          0.10997430980205536,
          0.10150346904993057,
          0.149354949593544,
          0.2421051263809204,
          0.17876185476779938,
          0.21653978526592255,
          0.13568337261676788,
          0.19868901371955872,
          0.13092955946922302,
          0.03980203717947006,
          -0.0010868682293221354,
          0.0670173168182373,
          0.12556606531143188,
          0.08328291028738022,
          0.04351809248328209
         ]
        },
        {
         "line": {
          "color": "darkblue",
          "width": 2
         },
         "marker": {
          "color": [
           0,
           1,
           2,
           3,
           4,
           5,
           6,
           7,
           8,
           9,
           10,
           11,
           12,
           13,
           14,
           15,
           16,
           17,
           18,
           19,
           20,
           21,
           22,
           23,
           24,
           25,
           26,
           27,
           28,
           29,
           30,
           31,
           32,
           33,
           34,
           35,
           36,
           37,
           38,
           39,
           40,
           41,
           42,
           43,
           44,
           45,
           46,
           47,
           48,
           49,
           50,
           51,
           52,
           53,
           54,
           55,
           56,
           57,
           58,
           59,
           60,
           61,
           62,
           63,
           64,
           65,
           66,
           67,
           68,
           69,
           70,
           71,
           72,
           73,
           74,
           75,
           76,
           77,
           78,
           79,
           80,
           81,
           82,
           83,
           84,
           85,
           86,
           87,
           88,
           89,
           90,
           91,
           92,
           93,
           94,
           95,
           96,
           97,
           98,
           99,
           100,
           101,
           102,
           103,
           104,
           105,
           106,
           107,
           108,
           109,
           110,
           111,
           112,
           113,
           114,
           115,
           116,
           117,
           118,
           119,
           120,
           121,
           122,
           123,
           124,
           125,
           126,
           127,
           128,
           129,
           130,
           131,
           132,
           133,
           134,
           135,
           136,
           137,
           138,
           139,
           140,
           141,
           142,
           143,
           144,
           145,
           146,
           147,
           148,
           149,
           150,
           151,
           152,
           153,
           154,
           155,
           156,
           157,
           158,
           159,
           160,
           161,
           162,
           163,
           164,
           165,
           166,
           167,
           168,
           169,
           170,
           171,
           172,
           173,
           174,
           175,
           176,
           177,
           178,
           179,
           180,
           181,
           182,
           183,
           184,
           185,
           186,
           187,
           188,
           189,
           190,
           191,
           192,
           193,
           194,
           195,
           196,
           197,
           198,
           199,
           200,
           201
          ],
          "colorscale": [
           [
            0,
            "#440154"
           ],
           [
            0.1111111111111111,
            "#482878"
           ],
           [
            0.2222222222222222,
            "#3e4989"
           ],
           [
            0.3333333333333333,
            "#31688e"
           ],
           [
            0.4444444444444444,
            "#26828e"
           ],
           [
            0.5555555555555556,
            "#1f9e89"
           ],
           [
            0.6666666666666666,
            "#35b779"
           ],
           [
            0.7777777777777778,
            "#6ece58"
           ],
           [
            0.8888888888888888,
            "#b5de2b"
           ],
           [
            1,
            "#fde725"
           ]
          ],
          "size": 4
         },
         "scene": "scene2",
         "type": "scatter3d",
         "x": [
          0.9212188896324619,
          0.9911239573291145,
          0.9038302995354995,
          0.9415280808696149,
          0.8702685362496481,
          0.864672397999256,
          0.8277891721115217,
          0.7853718474448856,
          0.7491327509822128,
          0.7419400894693199,
          0.7333289843321817,
          0.6952134083079756,
          0.6503216026876821,
          0.669122572975237,
          0.6658474732716986,
          0.6166049290687913,
          0.6281243910369456,
          0.5732127962736316,
          0.6290951135589158,
          0.6237351044941658,
          0.5382134134466224,
          0.5228695244695231,
          0.48217172204678116,
          0.5494792186195588,
          0.5673686928255459,
          0.5255648227425953,
          0.6111751706416464,
          0.6185482605377769,
          0.5609296390630647,
          0.5196756218785035,
          0.5522314727509395,
          0.6048001018479408,
          0.564641772575909,
          0.5510424781748778,
          0.5292129436985207,
          0.48749591937536957,
          0.41031114425753173,
          0.3497031166190297,
          0.37072988212658065,
          0.3485376363645922,
          0.3797100430138948,
          0.33942501802355945,
          0.32548644303658947,
          0.33384757489931527,
          0.2366804683076395,
          0.23878771258541984,
          0.22189269424705885,
          0.20415139154686998,
          0.15808585401345557,
          0.058055084209279184,
          0.09660448093695294,
          0.08569175417352534,
          0.06429549999981388,
          -0.020789094209742506,
          -0.00006456527829019844,
          -0.09047106321375917,
          -0.0489671341259198,
          -0.11282468951451813,
          -0.07033042826892578,
          -0.06451368117615645,
          -0.1741302113966455,
          -0.12585342996578486,
          -0.08033832492060022,
          -0.15637050436731337,
          -0.0853600848225787,
          -0.030462005705259403,
          -0.04644451854033671,
          -0.14338901532314804,
          -0.12558636743649385,
          -0.03467383417701913,
          -0.03109072494725006,
          -0.02166637974772725,
          -0.0697423228975455,
          -0.09261119159824809,
          -0.04002539302527144,
          -0.0699992404843453,
          -0.007701560650409427,
          0.028916114420843058,
          0.015296389804034723,
          0.08832454423720475,
          0.03855114302801024,
          0.03283115613203115,
          0.03819902482952204,
          0.010347102001061566,
          -0.07839956437513598,
          -0.1608870486545879,
          -0.25532987528849116,
          -0.2680276237429043,
          -0.25957667299487347,
          -0.26492029892863156,
          -0.1830234706911182,
          -0.1636611791782959,
          -0.17972034146233523,
          -0.15304007758420446,
          -0.12191505941219086,
          -0.07056535327292895,
          -0.07532177967621724,
          -0.12267444792148308,
          -0.14743865130574524,
          -0.12069802122941867,
          -0.14214834293983575,
          -0.19953737728410018,
          -0.23558870353868555,
          -0.2891461108867266,
          -0.24406336675495818,
          -0.26698956942201707,
          -0.17940190013472856,
          -0.19854448683651588,
          -0.11971150262908925,
          -0.17548673913016924,
          -0.21926180774546616,
          -0.24377788280559357,
          -0.24779851771892358,
          -0.26254842802779266,
          -0.3532853079087376,
          -0.32724682117380127,
          -0.32278767455806584,
          -0.28913672442749494,
          -0.3851758889048609,
          -0.3850289736029454,
          -0.3847418593112206,
          -0.2505763215601294,
          -0.22688862120373102,
          -0.25481308549342124,
          -0.3440408465570588,
          -0.40496495553430634,
          -0.45327835640128783,
          -0.4425040115483884,
          -0.4824945974566914,
          -0.48981824050918804,
          -0.42253991918201356,
          -0.4012862543639959,
          -0.3825285439991795,
          -0.3473718367407443,
          -0.32285718131789853,
          -0.2724652299098168,
          -0.2191241547874422,
          -0.3138709379155838,
          -0.213324481644939,
          -0.24184288430001333,
          -0.2964142535240878,
          -0.2601959042353855,
          -0.3553133464274513,
          -0.22450591589288843,
          -0.17249526363454157,
          -0.21200938891374202,
          -0.30140898804133404,
          -0.2899096882348699,
          -0.257568706267926,
          -0.2427398697151938,
          -0.17593331390709172,
          -0.16440991724311962,
          -0.09311039297650756,
          -0.11446380018128274,
          -0.07687173645382608,
          -0.10934527743996207,
          -0.12837970009577537,
          -0.16157601928385332,
          -0.15267332386317056,
          -0.2173137534401264,
          -0.22402004041329948,
          -0.12650896164941816,
          -0.09451145406712953,
          -0.15397071095749326,
          -0.22387974806786293,
          -0.1341012113455352,
          -0.1252146664339666,
          -0.11397049638219803,
          -0.08137025697050979,
          -0.05727489054656797,
          -0.08310854740070993,
          -0.11958030461094286,
          -0.1354517556502134,
          -0.12620677658807572,
          -0.1464898744409334,
          -0.12351392730823774,
          -0.12354135849405545,
          -0.12175537565637552,
          -0.14268018339481464,
          -0.14506003051774619,
          -0.13920340356093838,
          -0.08534130160788225,
          -0.10629978655094446,
          -0.08571344390728088,
          -0.11453514877308237,
          -0.13472797121491747,
          -0.18100956272803317,
          -0.13667533718270303,
          -0.14658905497980346,
          -0.18832058004449728,
          -0.27399714845401957,
          -0.2681915864596725,
          -0.4001777203388858,
          -0.2552980983119532,
          -0.37330984214402935,
          -0.33585017867353756,
          -0.3010766488997154,
          -0.31566700016604826,
          -0.38390777290565375,
          -0.33861309041300924,
          -0.41539085093934425,
          -0.4260099457388971
         ],
         "y": [
          -0.02774576667208487,
          0.014748441489817044,
          0.030367572004422295,
          0.0022982914827886195,
          -0.10394768398817975,
          0.04063172212788651,
          -0.022988591159387946,
          0.03597044292861035,
          0.024578674347540165,
          0.05037466017090583,
          0.08235230171923562,
          0.13549624874979832,
          0.028830983516644388,
          0.002916582402240061,
          -0.03899770167352925,
          0.07911857860181018,
          0.024604522137020187,
          0.07222701119645297,
          0.10990423088841,
          0.09221697596204233,
          0.029476727654689366,
          0.0031458045792050796,
          0.008298042445778411,
          -0.04259650296882592,
          -0.004629449544187748,
          -0.02234194361097654,
          0.02098433617728318,
          0.04753519856112958,
          0.12177968896285882,
          0.05334699762605798,
          0.04933075839129572,
          0.07050276048190347,
          0.027887562338413222,
          -0.007090441182935042,
          -0.05719237413304212,
          -0.07346115921833524,
          -0.12276373213388703,
          -0.141240860058242,
          -0.1265075538113214,
          -0.07665514492666882,
          -0.11845880838835542,
          -0.13333972601084856,
          -0.17651210631402153,
          -0.165086405699877,
          -0.18365084070564014,
          -0.14913748995658285,
          -0.16417609916210352,
          -0.1684319993692625,
          -0.15428491706529038,
          -0.1781767230043397,
          -0.19239715118251263,
          -0.1812724012594495,
          -0.16334313329248373,
          -0.1561989190254167,
          -0.23147275845260792,
          -0.21097951068243162,
          -0.23758108612362902,
          -0.17154423609719816,
          -0.14519553574354777,
          -0.09868464168088095,
          -0.11811992897941102,
          -0.17086159115056954,
          -0.12003481722752428,
          -0.17366565523343955,
          -0.13932004013250496,
          -0.1434573538512268,
          -0.1759611238708006,
          -0.19177305514609413,
          -0.18650725504183857,
          -0.2670933297581785,
          -0.3065628302742123,
          -0.35040507596793014,
          -0.40101188126185994,
          -0.4955110165752803,
          -0.4109487928424559,
          -0.39828591334062746,
          -0.3413811654141967,
          -0.2613913869007067,
          -0.25258669013256546,
          -0.23191316880491328,
          -0.23438473728773124,
          -0.2904242130511385,
          -0.2780189173715434,
          -0.24622166248275154,
          -0.2360797826743915,
          -0.1653430925628814,
          -0.2303084284441825,
          -0.18736821686337052,
          -0.294747754950579,
          -0.2996689140599076,
          -0.2770852955233607,
          -0.308490505968877,
          -0.2529579185571581,
          -0.18158582091715156,
          -0.1570310395224559,
          -0.13587590334385305,
          -0.08169386631784287,
          -0.062493369571819744,
          -0.15765109425586327,
          -0.18741679159649607,
          -0.2673586503124626,
          -0.3114740169522743,
          -0.331132588406181,
          -0.3283102582054473,
          -0.2437780726089205,
          -0.18925377534327345,
          -0.13609448612216998,
          -0.12442393768679634,
          -0.07997238992541048,
          0.04851936784371105,
          0.17121559411730908,
          0.2180955500364796,
          0.20801203072978372,
          0.0888609836599254,
          0.17512987073055583,
          0.20894113749291696,
          0.17903037446763914,
          0.22069753699616163,
          0.3039229656482326,
          0.36597574937656463,
          0.3848054656252344,
          0.36928068239061873,
          0.2637401691759288,
          0.17202034534716462,
          0.19812218151627353,
          0.26067254942761364,
          0.33029997264049477,
          0.3668898033842958,
          0.4032087947156802,
          0.34356048466240835,
          0.3106968244956291,
          0.23847033952458885,
          0.23048510398397412,
          0.053427261260671495,
          0.22074343818923844,
          0.1711393170713486,
          0.17151838287541726,
          0.20048523354797934,
          0.17894761150814,
          0.22971222849722725,
          0.2608447491177002,
          0.20791284056299145,
          0.21500094492310268,
          0.2213397470267865,
          0.1321931938856214,
          0.22929640221928904,
          0.2767416558563615,
          0.28454323976556334,
          0.3602522914128752,
          0.3097586118033799,
          0.2633501356705546,
          0.2005663368196941,
          0.24681106816123943,
          0.3187905618083425,
          0.4372398236818235,
          0.41966384035254045,
          0.3471541843078679,
          0.37559411880294985,
          0.32614400996430715,
          0.37027132808249386,
          0.3092506808669941,
          0.16744011047525098,
          0.17689824798350612,
          0.142561156356746,
          0.06456292506899176,
          0.026095417829662015,
          -0.005708697510435776,
          -0.17318803041346872,
          -0.15291903467551596,
          -0.1927841340823402,
          -0.14580124940754302,
          0.017714186608088565,
          -0.0012950852645678896,
          0.03073640965853371,
          -0.06125514254677319,
          -0.1392621881124172,
          -0.10526704204223652,
          -0.08715023707886888,
          -0.07606767320880785,
          -0.009788788034393618,
          -0.026503087604677494,
          -0.02095124227237694,
          0.019726669162608918,
          -0.022690056752103005,
          -0.07343623331625776,
          -0.12388583004272435,
          -0.13131192034766218,
          -0.08542326803258907,
          -0.039578092197716755,
          -0.024861158773281516,
          -0.08949209864650112,
          0.028309064443391495,
          0.0650198607791153,
          0.05751300203235331,
          0.11756712425626335,
          0.1956297785740389,
          0.26293338274991834,
          0.26946824839984646,
          0.30806540939897176,
          0.24374295010440872,
          0.27800406277312767,
          0.3198841200004482
         ],
         "z": [
          -0.34304613334380424,
          -0.13212072974577438,
          -0.41084302682893314,
          -0.1583388397122011,
          -0.2653180636161518,
          -0.23324004175255794,
          -0.1656820806505463,
          -0.2244262631281042,
          -0.23388390261711237,
          -0.2178560749318277,
          -0.2511632276577263,
          -0.2872287655645849,
          -0.1817942301604711,
          -0.1472371084755061,
          -0.13761327991748598,
          -0.15878424276480388,
          -0.12464581428222864,
          -0.17556139069298005,
          -0.11367759014806715,
          -0.23035842466193904,
          -0.2684774791819605,
          -0.24584843523279942,
          -0.23535543994459343,
          -0.14933530867524736,
          -0.1738108041547441,
          -0.21561221876999853,
          -0.15373054276487055,
          -0.2304128592164897,
          -0.16298950914284274,
          -0.19929205779993134,
          -0.23641952634075564,
          -0.27585676056135056,
          -0.2724509987958339,
          -0.24324365478391458,
          -0.13932195366465905,
          -0.15966927236013762,
          -0.06999142266522189,
          -0.07710913056980788,
          -0.06634633690281867,
          -0.049127710305682824,
          -0.04902896531561602,
          -0.08764751990699035,
          -0.05327715368670091,
          -0.07503194559903842,
          -0.030167417792727334,
          -0.029816881291098277,
          -0.016341746648556598,
          0.023223235514603317,
          0.028193844209356254,
          -0.008557866592083225,
          0.002552227319862721,
          0.03723498160651237,
          -0.011665284601537314,
          -0.07785813760710977,
          -0.09386326666733565,
          -0.07790487589998095,
          -0.012745287014485898,
          -0.049079476532520226,
          -0.006537923291701221,
          0.01263081143840311,
          0.011579202017170446,
          -0.059955013784307606,
          -0.005981964601208095,
          0.0659208719483274,
          0.01766144656239181,
          0.08998012880418861,
          0.06495549472618922,
          0.02433820646050141,
          0.13240921226140437,
          0.11554323495631647,
          0.08433686970564443,
          0.047598493450526386,
          0.005516691045600348,
          -0.028464659037447982,
          -0.00691545158769517,
          -0.04223734084123663,
          -0.005201218028990081,
          -0.08372841506885216,
          -0.06221451293859369,
          0.02239958025388207,
          -0.017312212208991453,
          0.005089034014880202,
          -0.024919803293709034,
          -0.04198206993357259,
          -0.05299485279488605,
          -0.09510094459303588,
          -0.07094370905871393,
          -0.08169831285517659,
          0.0034482219484830777,
          0.15839015063591563,
          0.12436471324695317,
          0.06836660859468606,
          0.09170759204399352,
          0.016436066317620637,
          -0.046781164951249676,
          0.023208743008205707,
          0.09057716681115731,
          0.14149024530160892,
          0.06603672159263972,
          -0.03708654861078905,
          0.07239956471494452,
          0.027621271452985607,
          0.022994771870382846,
          0.05052864693742346,
          -0.036927329056179486,
          -0.05781067953669727,
          -0.054024048233694735,
          0.029630458290934004,
          0.01148604593263185,
          0.03212758168105474,
          -0.03297482519536087,
          -0.009033984065035219,
          0.02294835366575956,
          0.08185995761265266,
          -0.005848032796882188,
          -0.05868915011108452,
          -0.04752476682543019,
          -0.0203500133128747,
          -0.11963919138977984,
          -0.0744626172879007,
          -0.015284087606302841,
          0.02370912876811954,
          -0.0003618092018874497,
          -0.0025008420155577292,
          -0.08193505732748207,
          -0.11074749600561153,
          -0.12333858777475423,
          -0.14753198929614636,
          -0.1642497467624497,
          -0.12097320644313773,
          -0.13752955274974576,
          -0.11937800368854955,
          -0.09474845815682043,
          -0.07300894164762961,
          -0.11305670051736322,
          -0.05275105298705769,
          0.014447554860769273,
          -0.06681935493061242,
          -0.016507480629042337,
          -0.04399071238128083,
          -0.02962151164707424,
          -0.01339444303423153,
          -0.003138967884591967,
          0.038782005770223,
          0.05864442397872164,
          0.018613695098667452,
          -0.03567481477060434,
          0.029957253625489986,
          0.12041278272350404,
          0.14492317642599142,
          0.1739674378286573,
          0.18413792341940916,
          0.23038841652168762,
          0.2678319386030011,
          0.25465595860127543,
          0.22494920581119607,
          0.22320155939897537,
          0.17311849186429498,
          0.13150187603852187,
          0.12230630578866379,
          0.19192233177727738,
          0.2357038871156977,
          0.2201371062165791,
          0.22719753666928505,
          0.24121423415449317,
          0.2562041662691614,
          0.2777301631993409,
          0.20163111975911205,
          0.27992927070571233,
          0.28859822365018495,
          0.34611881350791296,
          0.4089213367857327,
          0.41850486714972784,
          0.4445199249692582,
          0.4081652366327894,
          0.3200047593647682,
          0.25928099281273614,
          0.34322617636259184,
          0.2683307773890227,
          0.24568830323994723,
          0.18243929603718811,
          0.1810055127441889,
          0.14043165995793774,
          0.1872516539874291,
          0.14734113427266773,
          0.11741122227504118,
          0.08000426691334592,
          0.10296478169802971,
          0.1812563244218207,
          0.12490225047111553,
          0.06326415076188469,
          0.053005562708146145,
          0.04343362607978594,
          0.09023795997077343,
          0.026476224616684984,
          -0.0415575662569458,
          -0.06039292281359832,
          -0.08513545628028592,
          -0.1522733149500708,
          -0.09126837996034877,
          -0.09919949999512914,
          -0.0928722968440069
         ]
        }
       ],
       "layout": {
        "height": 1000,
        "scene": {
         "domain": {
          "x": [
           0,
           0.45
          ],
          "y": [
           0,
           1
          ]
         }
        },
        "scene2": {
         "domain": {
          "x": [
           0.55,
           1
          ],
          "y": [
           0,
           1
          ]
         }
        },
        "template": {
         "data": {
          "bar": [
           {
            "error_x": {
             "color": "#2a3f5f"
            },
            "error_y": {
             "color": "#2a3f5f"
            },
            "marker": {
             "line": {
              "color": "#E5ECF6",
              "width": 0.5
             }
            },
            "type": "bar"
           }
          ],
          "barpolar": [
           {
            "marker": {
             "line": {
              "color": "#E5ECF6",
              "width": 0.5
             }
            },
            "type": "barpolar"
           }
          ],
          "carpet": [
           {
            "aaxis": {
             "endlinecolor": "#2a3f5f",
             "gridcolor": "white",
             "linecolor": "white",
             "minorgridcolor": "white",
             "startlinecolor": "#2a3f5f"
            },
            "baxis": {
             "endlinecolor": "#2a3f5f",
             "gridcolor": "white",
             "linecolor": "white",
             "minorgridcolor": "white",
             "startlinecolor": "#2a3f5f"
            },
            "type": "carpet"
           }
          ],
          "choropleth": [
           {
            "colorbar": {
             "outlinewidth": 0,
             "ticks": ""
            },
            "type": "choropleth"
           }
          ],
          "contour": [
           {
            "colorbar": {
             "outlinewidth": 0,
             "ticks": ""
            },
            "colorscale": [
             [
              0,
              "#0d0887"
             ],
             [
              0.1111111111111111,
              "#46039f"
             ],
             [
              0.2222222222222222,
              "#7201a8"
             ],
             [
              0.3333333333333333,
              "#9c179e"
             ],
             [
              0.4444444444444444,
              "#bd3786"
             ],
             [
              0.5555555555555556,
              "#d8576b"
             ],
             [
              0.6666666666666666,
              "#ed7953"
             ],
             [
              0.7777777777777778,
              "#fb9f3a"
             ],
             [
              0.8888888888888888,
              "#fdca26"
             ],
             [
              1,
              "#f0f921"
             ]
            ],
            "type": "contour"
           }
          ],
          "contourcarpet": [
           {
            "colorbar": {
             "outlinewidth": 0,
             "ticks": ""
            },
            "type": "contourcarpet"
           }
          ],
          "heatmap": [
           {
            "colorbar": {
             "outlinewidth": 0,
             "ticks": ""
            },
            "colorscale": [
             [
              0,
              "#0d0887"
             ],
             [
              0.1111111111111111,
              "#46039f"
             ],
             [
              0.2222222222222222,
              "#7201a8"
             ],
             [
              0.3333333333333333,
              "#9c179e"
             ],
             [
              0.4444444444444444,
              "#bd3786"
             ],
             [
              0.5555555555555556,
              "#d8576b"
             ],
             [
              0.6666666666666666,
              "#ed7953"
             ],
             [
              0.7777777777777778,
              "#fb9f3a"
             ],
             [
              0.8888888888888888,
              "#fdca26"
             ],
             [
              1,
              "#f0f921"
             ]
            ],
            "type": "heatmap"
           }
          ],
          "heatmapgl": [
           {
            "colorbar": {
             "outlinewidth": 0,
             "ticks": ""
            },
            "colorscale": [
             [
              0,
              "#0d0887"
             ],
             [
              0.1111111111111111,
              "#46039f"
             ],
             [
              0.2222222222222222,
              "#7201a8"
             ],
             [
              0.3333333333333333,
              "#9c179e"
             ],
             [
              0.4444444444444444,
              "#bd3786"
             ],
             [
              0.5555555555555556,
              "#d8576b"
             ],
             [
              0.6666666666666666,
              "#ed7953"
             ],
             [
              0.7777777777777778,
              "#fb9f3a"
             ],
             [
              0.8888888888888888,
              "#fdca26"
             ],
             [
              1,
              "#f0f921"
             ]
            ],
            "type": "heatmapgl"
           }
          ],
          "histogram": [
           {
            "marker": {
             "colorbar": {
              "outlinewidth": 0,
              "ticks": ""
             }
            },
            "type": "histogram"
           }
          ],
          "histogram2d": [
           {
            "colorbar": {
             "outlinewidth": 0,
             "ticks": ""
            },
            "colorscale": [
             [
              0,
              "#0d0887"
             ],
             [
              0.1111111111111111,
              "#46039f"
             ],
             [
              0.2222222222222222,
              "#7201a8"
             ],
             [
              0.3333333333333333,
              "#9c179e"
             ],
             [
              0.4444444444444444,
              "#bd3786"
             ],
             [
              0.5555555555555556,
              "#d8576b"
             ],
             [
              0.6666666666666666,
              "#ed7953"
             ],
             [
              0.7777777777777778,
              "#fb9f3a"
             ],
             [
              0.8888888888888888,
              "#fdca26"
             ],
             [
              1,
              "#f0f921"
             ]
            ],
            "type": "histogram2d"
           }
          ],
          "histogram2dcontour": [
           {
            "colorbar": {
             "outlinewidth": 0,
             "ticks": ""
            },
            "colorscale": [
             [
              0,
              "#0d0887"
             ],
             [
              0.1111111111111111,
              "#46039f"
             ],
             [
              0.2222222222222222,
              "#7201a8"
             ],
             [
              0.3333333333333333,
              "#9c179e"
             ],
             [
              0.4444444444444444,
              "#bd3786"
             ],
             [
              0.5555555555555556,
              "#d8576b"
             ],
             [
              0.6666666666666666,
              "#ed7953"
             ],
             [
              0.7777777777777778,
              "#fb9f3a"
             ],
             [
              0.8888888888888888,
              "#fdca26"
             ],
             [
              1,
              "#f0f921"
             ]
            ],
            "type": "histogram2dcontour"
           }
          ],
          "mesh3d": [
           {
            "colorbar": {
             "outlinewidth": 0,
             "ticks": ""
            },
            "type": "mesh3d"
           }
          ],
          "parcoords": [
           {
            "line": {
             "colorbar": {
              "outlinewidth": 0,
              "ticks": ""
             }
            },
            "type": "parcoords"
           }
          ],
          "pie": [
           {
            "automargin": true,
            "type": "pie"
           }
          ],
          "scatter": [
           {
            "marker": {
             "colorbar": {
              "outlinewidth": 0,
              "ticks": ""
             }
            },
            "type": "scatter"
           }
          ],
          "scatter3d": [
           {
            "line": {
             "colorbar": {
              "outlinewidth": 0,
              "ticks": ""
             }
            },
            "marker": {
             "colorbar": {
              "outlinewidth": 0,
              "ticks": ""
             }
            },
            "type": "scatter3d"
           }
          ],
          "scattercarpet": [
           {
            "marker": {
             "colorbar": {
              "outlinewidth": 0,
              "ticks": ""
             }
            },
            "type": "scattercarpet"
           }
          ],
          "scattergeo": [
           {
            "marker": {
             "colorbar": {
              "outlinewidth": 0,
              "ticks": ""
             }
            },
            "type": "scattergeo"
           }
          ],
          "scattergl": [
           {
            "marker": {
             "colorbar": {
              "outlinewidth": 0,
              "ticks": ""
             }
            },
            "type": "scattergl"
           }
          ],
          "scattermapbox": [
           {
            "marker": {
             "colorbar": {
              "outlinewidth": 0,
              "ticks": ""
             }
            },
            "type": "scattermapbox"
           }
          ],
          "scatterpolar": [
           {
            "marker": {
             "colorbar": {
              "outlinewidth": 0,
              "ticks": ""
             }
            },
            "type": "scatterpolar"
           }
          ],
          "scatterpolargl": [
           {
            "marker": {
             "colorbar": {
              "outlinewidth": 0,
              "ticks": ""
             }
            },
            "type": "scatterpolargl"
           }
          ],
          "scatterternary": [
           {
            "marker": {
             "colorbar": {
              "outlinewidth": 0,
              "ticks": ""
             }
            },
            "type": "scatterternary"
           }
          ],
          "surface": [
           {
            "colorbar": {
             "outlinewidth": 0,
             "ticks": ""
            },
            "colorscale": [
             [
              0,
              "#0d0887"
             ],
             [
              0.1111111111111111,
              "#46039f"
             ],
             [
              0.2222222222222222,
              "#7201a8"
             ],
             [
              0.3333333333333333,
              "#9c179e"
             ],
             [
              0.4444444444444444,
              "#bd3786"
             ],
             [
              0.5555555555555556,
              "#d8576b"
             ],
             [
              0.6666666666666666,
              "#ed7953"
             ],
             [
              0.7777777777777778,
              "#fb9f3a"
             ],
             [
              0.8888888888888888,
              "#fdca26"
             ],
             [
              1,
              "#f0f921"
             ]
            ],
            "type": "surface"
           }
          ],
          "table": [
           {
            "cells": {
             "fill": {
              "color": "#EBF0F8"
             },
             "line": {
              "color": "white"
             }
            },
            "header": {
             "fill": {
              "color": "#C8D4E3"
             },
             "line": {
              "color": "white"
             }
            },
            "type": "table"
           }
          ]
         },
         "layout": {
          "annotationdefaults": {
           "arrowcolor": "#2a3f5f",
           "arrowhead": 0,
           "arrowwidth": 1
          },
          "autotypenumbers": "strict",
          "coloraxis": {
           "colorbar": {
            "outlinewidth": 0,
            "ticks": ""
           }
          },
          "colorscale": {
           "diverging": [
            [
             0,
             "#8e0152"
            ],
            [
             0.1,
             "#c51b7d"
            ],
            [
             0.2,
             "#de77ae"
            ],
            [
             0.3,
             "#f1b6da"
            ],
            [
             0.4,
             "#fde0ef"
            ],
            [
             0.5,
             "#f7f7f7"
            ],
            [
             0.6,
             "#e6f5d0"
            ],
            [
             0.7,
             "#b8e186"
            ],
            [
             0.8,
             "#7fbc41"
            ],
            [
             0.9,
             "#4d9221"
            ],
            [
             1,
             "#276419"
            ]
           ],
           "sequential": [
            [
             0,
             "#0d0887"
            ],
            [
             0.1111111111111111,
             "#46039f"
            ],
            [
             0.2222222222222222,
             "#7201a8"
            ],
            [
             0.3333333333333333,
             "#9c179e"
            ],
            [
             0.4444444444444444,
             "#bd3786"
            ],
            [
             0.5555555555555556,
             "#d8576b"
            ],
            [
             0.6666666666666666,
             "#ed7953"
            ],
            [
             0.7777777777777778,
             "#fb9f3a"
            ],
            [
             0.8888888888888888,
             "#fdca26"
            ],
            [
             1,
             "#f0f921"
            ]
           ],
           "sequentialminus": [
            [
             0,
             "#0d0887"
            ],
            [
             0.1111111111111111,
             "#46039f"
            ],
            [
             0.2222222222222222,
             "#7201a8"
            ],
            [
             0.3333333333333333,
             "#9c179e"
            ],
            [
             0.4444444444444444,
             "#bd3786"
            ],
            [
             0.5555555555555556,
             "#d8576b"
            ],
            [
             0.6666666666666666,
             "#ed7953"
            ],
            [
             0.7777777777777778,
             "#fb9f3a"
            ],
            [
             0.8888888888888888,
             "#fdca26"
            ],
            [
             1,
             "#f0f921"
            ]
           ]
          },
          "colorway": [
           "#636efa",
           "#EF553B",
           "#00cc96",
           "#ab63fa",
           "#FFA15A",
           "#19d3f3",
           "#FF6692",
           "#B6E880",
           "#FF97FF",
           "#FECB52"
          ],
          "font": {
           "color": "#2a3f5f"
          },
          "geo": {
           "bgcolor": "white",
           "lakecolor": "white",
           "landcolor": "#E5ECF6",
           "showlakes": true,
           "showland": true,
           "subunitcolor": "white"
          },
          "hoverlabel": {
           "align": "left"
          },
          "hovermode": "closest",
          "mapbox": {
           "style": "light"
          },
          "paper_bgcolor": "white",
          "plot_bgcolor": "#E5ECF6",
          "polar": {
           "angularaxis": {
            "gridcolor": "white",
            "linecolor": "white",
            "ticks": ""
           },
           "bgcolor": "#E5ECF6",
           "radialaxis": {
            "gridcolor": "white",
            "linecolor": "white",
            "ticks": ""
           }
          },
          "scene": {
           "xaxis": {
            "backgroundcolor": "#E5ECF6",
            "gridcolor": "white",
            "gridwidth": 2,
            "linecolor": "white",
            "showbackground": true,
            "ticks": "",
            "zerolinecolor": "white"
           },
           "yaxis": {
            "backgroundcolor": "#E5ECF6",
            "gridcolor": "white",
            "gridwidth": 2,
            "linecolor": "white",
            "showbackground": true,
            "ticks": "",
            "zerolinecolor": "white"
           },
           "zaxis": {
            "backgroundcolor": "#E5ECF6",
            "gridcolor": "white",
            "gridwidth": 2,
            "linecolor": "white",
            "showbackground": true,
            "ticks": "",
            "zerolinecolor": "white"
           }
          },
          "shapedefaults": {
           "line": {
            "color": "#2a3f5f"
           }
          },
          "ternary": {
           "aaxis": {
            "gridcolor": "white",
            "linecolor": "white",
            "ticks": ""
           },
           "baxis": {
            "gridcolor": "white",
            "linecolor": "white",
            "ticks": ""
           },
           "bgcolor": "#E5ECF6",
           "caxis": {
            "gridcolor": "white",
            "linecolor": "white",
            "ticks": ""
           }
          },
          "title": {
           "x": 0.05
          },
          "xaxis": {
           "automargin": true,
           "gridcolor": "white",
           "linecolor": "white",
           "ticks": "",
           "title": {
            "standoff": 15
           },
           "zerolinecolor": "white",
           "zerolinewidth": 2
          },
          "yaxis": {
           "automargin": true,
           "gridcolor": "white",
           "linecolor": "white",
           "ticks": "",
           "title": {
            "standoff": 15
           },
           "zerolinecolor": "white",
           "zerolinewidth": 2
          }
         }
        },
        "width": 1300
       }
      }
     },
     "metadata": {},
     "output_type": "display_data"
    },
    {
     "name": "stdout",
     "output_type": "stream",
     "text": [
      "Kabsch distance is 0.08407879052457376\n"
     ]
    },
    {
     "data": {
      "text/plain": [
       "<Figure size 50000x50000 with 0 Axes>"
      ]
     },
     "metadata": {},
     "output_type": "display_data"
    }
   ],
   "source": [
    "test_true_structure = test_true_structures[GRAPH_TESTED]\n",
    "test_pred_structure = test_pred_structures[GRAPH_TESTED]\n",
    "\n",
    "test_pred_structure_superposed, test_true_structure_superposed = \\\n",
    "        kabsch_superimposition_numpy(test_pred_structure, test_true_structure, EMBEDDING_SIZE)\n",
    "\n",
    "x_pred = test_pred_structure_superposed[:, 0]  \n",
    "y_pred = test_pred_structure_superposed[:, 1]\n",
    "z_pred = test_pred_structure_superposed[:, 2]\n",
    "\n",
    "x_true = test_true_structure_superposed[:, 0]  \n",
    "y_true = test_true_structure_superposed[:, 1]\n",
    "z_true = test_true_structure_superposed[:, 2]\n",
    "\n",
    "colorscale1 = np.asarray(range(len(x_true)))\n",
    "colorscale2 = np.asarray(range(len(x_pred)))\n",
    "color1 = 'Viridis'\n",
    "color2 = 'Viridis'\n",
    "\n",
    "plot_true_pred_structures(x_pred, y_pred, z_pred, x_true, y_true, z_true, colorscale1, colorscale2, color1, color2)\n",
    "\n",
    "# Shape comparison\n",
    "print('Kabsch distance is ' + str(kabsch_distance_numpy(test_pred_structure, test_true_structure, EMBEDDING_SIZE)))\n",
    "\n"
   ]
  },
  {
   "cell_type": "code",
   "execution_count": 18,
   "metadata": {},
   "outputs": [
    {
     "data": {
      "application/vnd.plotly.v1+json": {
       "config": {
        "plotlyServerURL": "https://plot.ly"
       },
       "data": [
        {
         "line": {
          "color": "darkblue",
          "width": 2
         },
         "marker": {
          "color": [
           0,
           1,
           2,
           3,
           4,
           5,
           6,
           7,
           8,
           9,
           10,
           11,
           12,
           13,
           14,
           15,
           16,
           17,
           18,
           19,
           20,
           21,
           22,
           23,
           24,
           25,
           26,
           27,
           28,
           29,
           30,
           31,
           32,
           33,
           34,
           35,
           36,
           37,
           38,
           39,
           40,
           41,
           42,
           43,
           44,
           45,
           46,
           47,
           48,
           49,
           50,
           51,
           52,
           53,
           54,
           55,
           56,
           57,
           58,
           59,
           60,
           61,
           62,
           63,
           64,
           65,
           66,
           67,
           68,
           69,
           70,
           71,
           72,
           73,
           74,
           75,
           76,
           77,
           78,
           79,
           80,
           81,
           82,
           83,
           84,
           85,
           86,
           87,
           88,
           89,
           90,
           91,
           92,
           93,
           94,
           95,
           96,
           97,
           98,
           99,
           100,
           101,
           102,
           103,
           104,
           105,
           106,
           107,
           108,
           109,
           110,
           111,
           112,
           113,
           114,
           115,
           116,
           117,
           118,
           119,
           120,
           121,
           122,
           123,
           124,
           125,
           126,
           127,
           128,
           129,
           130,
           131,
           132,
           133,
           134,
           135,
           136,
           137,
           138,
           139,
           140,
           141,
           142,
           143,
           144,
           145,
           146,
           147,
           148,
           149,
           150,
           151,
           152,
           153,
           154,
           155,
           156,
           157,
           158,
           159,
           160,
           161,
           162,
           163,
           164,
           165,
           166,
           167,
           168,
           169,
           170,
           171,
           172,
           173,
           174,
           175,
           176,
           177,
           178,
           179,
           180,
           181,
           182,
           183,
           184,
           185,
           186,
           187,
           188,
           189,
           190,
           191,
           192,
           193,
           194,
           195,
           196,
           197,
           198,
           199,
           200,
           201
          ],
          "colorscale": [
           [
            0,
            "#440154"
           ],
           [
            0.1111111111111111,
            "#482878"
           ],
           [
            0.2222222222222222,
            "#3e4989"
           ],
           [
            0.3333333333333333,
            "#31688e"
           ],
           [
            0.4444444444444444,
            "#26828e"
           ],
           [
            0.5555555555555556,
            "#1f9e89"
           ],
           [
            0.6666666666666666,
            "#35b779"
           ],
           [
            0.7777777777777778,
            "#6ece58"
           ],
           [
            0.8888888888888888,
            "#b5de2b"
           ],
           [
            1,
            "#fde725"
           ]
          ],
          "size": 4
         },
         "scene": "scene",
         "type": "scatter3d",
         "x": [
          0.9930968880653381,
          0.9909803867340088,
          0.9983958601951599,
          0.9964322447776794,
          0.9175460934638977,
          0.8971960544586182,
          0.839956521987915,
          0.8058918714523315,
          0.7466644048690796,
          0.7150923013687134,
          0.7365792989730835,
          0.6729572415351868,
          0.6033930778503418,
          0.6208248734474182,
          0.5538291931152344,
          0.47783127427101135,
          0.4227962791919708,
          0.43599650263786316,
          0.46541035175323486,
          0.52203768491745,
          0.4569229781627655,
          0.474241703748703,
          0.456265926361084,
          0.47487571835517883,
          0.48077481985092163,
          0.5101697444915771,
          0.5636564493179321,
          0.5550363659858704,
          0.4689851403236389,
          0.4381818175315857,
          0.47751545906066895,
          0.5460690855979919,
          0.5374953150749207,
          0.5561511516571045,
          0.5348008871078491,
          0.47674015164375305,
          0.3961412012577057,
          0.365234911441803,
          0.35764312744140625,
          0.32866615056991577,
          0.32040682435035706,
          0.32188189029693604,
          0.3282366991043091,
          0.3275550305843353,
          0.2522255480289459,
          0.1991346776485443,
          0.22298790514469147,
          0.16513916850090027,
          0.07765528559684753,
          0.012405132874846458,
          0.07631155848503113,
          0.053670890629291534,
          0.028941253200173378,
          0.03479717671871185,
          0.09258253127336502,
          0.03615769371390343,
          0.025354545563459396,
          -0.05460247024893761,
          -0.0638880506157875,
          -0.08774195611476898,
          -0.13122576475143433,
          -0.061662718653678894,
          -0.10878139734268188,
          -0.1362079381942749,
          -0.12703947722911835,
          -0.07647369801998138,
          -0.09228762984275818,
          -0.1296926736831665,
          -0.1200375035405159,
          -0.05915045365691185,
          0.01380567904561758,
          0.08354543894529343,
          0.11251793801784515,
          0.16036935150623322,
          0.15688171982765198,
          0.14512871205806732,
          0.16861113905906677,
          0.21262824535369873,
          0.15089118480682373,
          0.12690001726150513,
          0.08380937576293945,
          0.1348809003829956,
          0.115265853703022,
          0.11078979074954987,
          0.05436164513230324,
          -0.008244513534009457,
          -0.041595302522182465,
          -0.13434994220733643,
          -0.19357077777385712,
          -0.2578299939632416,
          -0.21661260724067688,
          -0.12826314568519592,
          -0.16008123755455017,
          -0.11770950257778168,
          -0.08922997117042542,
          -0.12831172347068787,
          -0.1146138459444046,
          -0.19854159653186798,
          -0.14726370573043823,
          -0.06898228824138641,
          -0.10779506713151932,
          -0.07645120471715927,
          -0.11899834126234055,
          -0.1585172712802887,
          -0.10219019651412964,
          -0.05684445798397064,
          -0.01843111217021942,
          -0.10947078466415405,
          -0.09168539196252823,
          -0.1206865906715393,
          -0.12047495692968369,
          -0.17046041786670685,
          -0.248344287276268,
          -0.2907838821411133,
          -0.2710603177547455,
          -0.20208464562892914,
          -0.27498823404312134,
          -0.27326229214668274,
          -0.26384401321411133,
          -0.2729262113571167,
          -0.3527071177959442,
          -0.3041858971118927,
          -0.24626734852790833,
          -0.22047095000743866,
          -0.23495779931545258,
          -0.23601330816745758,
          -0.26631730794906616,
          -0.2019430249929428,
          -0.287005752325058,
          -0.24454328417778015,
          -0.18571291863918304,
          -0.10924648493528366,
          -0.1696901023387909,
          -0.10824748873710632,
          -0.11745089292526245,
          -0.15500839054584503,
          -0.1711108237504959,
          -0.14888997375965118,
          -0.14619697630405426,
          -0.1461675763130188,
          -0.2349742352962494,
          -0.22570736706256866,
          -0.30670496821403503,
          -0.2701994478702545,
          -0.19842424988746643,
          -0.21923436224460602,
          -0.2538899779319763,
          -0.32836583256721497,
          -0.4113646149635315,
          -0.43096664547920227,
          -0.4010525345802307,
          -0.32467880845069885,
          -0.327765554189682,
          -0.3818926215171814,
          -0.39952924847602844,
          -0.37298744916915894,
          -0.39058616757392883,
          -0.3700890839099884,
          -0.31182023882865906,
          -0.3959495723247528,
          -0.45370492339134216,
          -0.3957078754901886,
          -0.34338197112083435,
          -0.39906367659568787,
          -0.39788079261779785,
          -0.3403606712818146,
          -0.2959222197532654,
          -0.2132849395275116,
          -0.17548736929893494,
          -0.1335163116455078,
          -0.2160181701183319,
          -0.30027857422828674,
          -0.35734814405441284,
          -0.32939574122428894,
          -0.3366563320159912,
          -0.2985740900039673,
          -0.2183973789215088,
          -0.2927047908306122,
          -0.31663578748703003,
          -0.31355011463165283,
          -0.24029920995235443,
          -0.1868162304162979,
          -0.19744934141635895,
          -0.18508654832839966,
          -0.19904465973377228,
          -0.2038423717021942,
          -0.19564634561538696,
          -0.17678561806678772,
          -0.26960989832878113,
          -0.24410665035247803,
          -0.22305281460285187,
          -0.225676491856575,
          -0.30241069197654724,
          -0.2787836790084839,
          -0.28681713342666626,
          -0.2716570496559143,
          -0.25600090622901917,
          -0.19243735074996948,
          -0.15375137329101562,
          -0.16418936848640442,
          -0.1967473030090332,
          -0.2846144139766693
         ],
         "y": [
          0.019054222851991653,
          -0.0791996493935585,
          0.01879965513944626,
          0.06629344075918198,
          0.05190427601337433,
          0.11643283069133759,
          0.045116979628801346,
          0.030064791440963745,
          -0.006018861662596464,
          0.06692333519458771,
          -0.013878639787435532,
          0.0271296463906765,
          -0.03805863484740257,
          -0.1309279203414917,
          -0.16287992894649506,
          -0.1103191003203392,
          -0.15367166697978973,
          -0.07782816886901855,
          0.004850355442613363,
          0.03363972157239914,
          -0.022987859323620796,
          0.03729206323623657,
          -0.05254640430212021,
          -0.12171623110771179,
          -0.030388951301574707,
          0.04154716432094574,
          0.11674202233552933,
          0.0777478963136673,
          0.12506559491157532,
          0.032032035291194916,
          -0.05773952975869179,
          -0.11148014664649963,
          -0.05288974940776825,
          0.01265629194676876,
          0.0014345895033329725,
          -0.06407028436660767,
          -0.11123944073915482,
          -0.057219941169023514,
          0.0407656729221344,
          0.0031013053376227617,
          -0.09277237951755524,
          -0.005181401502341032,
          -0.08753100037574768,
          0.009186919778585434,
          -0.049581486731767654,
          0.023032421246170998,
          -0.06495406478643417,
          0.009647898375988007,
          0.03748222813010216,
          0.009679468348622322,
          -0.06309961527585983,
          0.03247087448835373,
          -0.05949384346604347,
          -0.10738468170166016,
          -0.1676604300737381,
          -0.12129436433315277,
          -0.20449209213256836,
          -0.16667842864990234,
          -0.09291777014732361,
          -0.010389243252575397,
          -0.06323595345020294,
          -0.13252469897270203,
          -0.11551827192306519,
          -0.1808556765317917,
          -0.08782324194908142,
          -0.0345754399895668,
          -0.1313355416059494,
          -0.18325017392635345,
          -0.2611415684223175,
          -0.32876113057136536,
          -0.3645554482936859,
          -0.3886008858680725,
          -0.43786993622779846,
          -0.5023998618125916,
          -0.42274409532546997,
          -0.33898940682411194,
          -0.28092390298843384,
          -0.2070968747138977,
          -0.2220367193222046,
          -0.13439221680164337,
          -0.2187228798866272,
          -0.3015158772468567,
          -0.21726086735725403,
          -0.13309042155742645,
          -0.13523755967617035,
          -0.059989187866449356,
          -0.09355895966291428,
          -0.08764680474996567,
          -0.16507588326931,
          -0.21276509761810303,
          -0.27128520607948303,
          -0.3100414276123047,
          -0.26256465911865234,
          -0.18888546526432037,
          -0.10827434062957764,
          -0.04788452386856079,
          0.03323788568377495,
          -0.01763870008289814,
          -0.1011960431933403,
          -0.1540578007698059,
          -0.24207770824432373,
          -0.29052603244781494,
          -0.250305712223053,
          -0.16942551732063293,
          -0.09723678231239319,
          -0.011696167290210724,
          0.02396923303604126,
          0.02439265511929989,
          0.059884801506996155,
          0.136254221200943,
          0.23347420990467072,
          0.27448341250419617,
          0.23797184228897095,
          0.1631772667169571,
          0.23015408217906952,
          0.2956286668777466,
          0.2354789823293686,
          0.28969231247901917,
          0.381559282541275,
          0.44076457619667053,
          0.39795777201652527,
          0.31954294443130493,
          0.2796311676502228,
          0.2465076446533203,
          0.28846654295921326,
          0.37812569737434387,
          0.4658462703227997,
          0.5183876156806946,
          0.5136821866035461,
          0.45706063508987427,
          0.3790048062801361,
          0.3267095685005188,
          0.24930837750434875,
          0.17546850442886353,
          0.25229933857917786,
          0.2507301867008209,
          0.22836992144584656,
          0.3180919885635376,
          0.23490753769874573,
          0.29926812648773193,
          0.3400527238845825,
          0.2564131021499634,
          0.29965269565582275,
          0.22675321996212006,
          0.15987388789653778,
          0.23652076721191406,
          0.327678382396698,
          0.2689789831638336,
          0.22595812380313873,
          0.14346081018447876,
          0.07039789110422134,
          0.03830590844154358,
          -0.040866948664188385,
          -0.04021124541759491,
          -0.03247860446572304,
          0.048188887536525726,
          0.019240403547883034,
          0.11488039046525955,
          0.17081761360168457,
          0.16712327301502228,
          0.09346072375774384,
          0.015168469399213791,
          -0.03795274347066879,
          -0.00431174598634243,
          -0.042659975588321686,
          -0.11143840104341507,
          -0.18032203614711761,
          -0.22997386753559113,
          -0.28246796131134033,
          -0.37072181701660156,
          -0.40145158767700195,
          -0.4161628782749176,
          -0.3769904673099518,
          -0.46273818612098694,
          -0.41688117384910583,
          -0.3626115918159485,
          -0.3062179982662201,
          -0.31133726239204407,
          -0.24757562577724457,
          -0.1507052332162857,
          -0.08642233908176422,
          -0.048931267112493515,
          0.03080889768898487,
          -0.036184895783662796,
          -0.11062035709619522,
          -0.17279106378555298,
          -0.12053649127483368,
          -0.026495881378650665,
          -0.05765358731150627,
          0.02431424707174301,
          0.049073975533246994,
          0.12417158484458923,
          0.17258226871490479,
          0.12195707857608795,
          0.19695481657981873,
          0.2665086090564728,
          0.299818754196167,
          0.3626413345336914,
          0.42200562357902527,
          0.34376242756843567,
          0.4262913465499878,
          0.40739598870277405
         ],
         "z": [
          -0.034338340163230896,
          -0.03356243297457695,
          -0.03379036858677864,
          0.05222933739423752,
          -0.004593435674905777,
          -0.0758734866976738,
          -0.11188172549009323,
          -0.2028319090604782,
          -0.2724665403366089,
          -0.3302726149559021,
          -0.2786174714565277,
          -0.34130287170410156,
          -0.31742367148399353,
          -0.2903990149497986,
          -0.3548160195350647,
          -0.38829097151756287,
          -0.45721563696861267,
          -0.3961220979690552,
          -0.4403713047504425,
          -0.36538180708885193,
          -0.31834676861763,
          -0.24268105626106262,
          -0.20711667835712433,
          -0.2744079530239105,
          -0.23858290910720825,
          -0.1784161627292633,
          -0.2122364342212677,
          -0.3020365536212921,
          -0.2981472909450531,
          -0.290743350982666,
          -0.28347450494766235,
          -0.3289855420589447,
          -0.25054726004600525,
          -0.17973355948925018,
          -0.08445949852466583,
          -0.12914687395095825,
          -0.0985235944390297,
          -0.022460471838712692,
          -0.022161005064845085,
          -0.10818794369697571,
          -0.12816104292869568,
          -0.08361276239156723,
          -0.030348647385835648,
          -0.01291060633957386,
          0.010125226341187954,
          -0.029466258361935616,
          -0.06618556380271912,
          -0.038854699581861496,
          -0.07393637299537659,
          -0.005904549732804298,
          -0.022580254822969437,
          -0.01903238520026207,
          0.005254251416772604,
          0.09087599068880081,
          0.14270833134651184,
          0.20847557485103607,
          0.1572863757610321,
          0.11443888396024704,
          0.05015787109732628,
          0.09789610654115677,
          0.1684318333864212,
          0.16407783329486847,
          0.07952301949262619,
          0.011422252282500267,
          0.04175061732530594,
          -0.02356920950114727,
          -0.03037402592599392,
          0.044222477823495865,
          -0.014926613308489323,
          0.022211914882063866,
          0.077484630048275,
          0.14242374897003174,
          0.2223741114139557,
          0.2789871394634247,
          0.22152669727802277,
          0.2715858817100525,
          0.19585032761096954,
          0.14819560945034027,
          0.07320068031549454,
          0.03576047345995903,
          0.062036726623773575,
          0.0760340467095375,
          0.12267361581325531,
          0.17321276664733887,
          0.25365006923675537,
          0.2624282240867615,
          0.3485659062862396,
          0.3166201710700989,
          0.3041088581085205,
          0.24705278873443604,
          0.17970721423625946,
          0.19844846427440643,
          0.11849553883075714,
          0.06915061175823212,
          0.1176239624619484,
          0.05065685510635376,
          0.10441956669092178,
          0.1095781922340393,
          0.11648128181695938,
          0.14362093806266785,
          0.1637447625398636,
          0.24330122768878937,
          0.3222377300262451,
          0.36167827248573303,
          0.325971782207489,
          0.3428677022457123,
          0.2597334682941437,
          0.2227131873369217,
          0.13280828297138214,
          0.0781681165099144,
          0.06377594918012619,
          -0.010241632349789143,
          0.037296880036592484,
          0.0848737433552742,
          0.1540401428937912,
          0.12925437092781067,
          0.1561984419822693,
          0.07424211502075195,
          0.04061683267354965,
          -0.03730076178908348,
          -0.07553014904260635,
          -0.1095258817076683,
          -0.0408862940967083,
          0.04797473922371864,
          0.13565875589847565,
          0.09542160481214523,
          0.06308474391698837,
          0.11556582897901535,
          0.1645667999982834,
          0.23275654017925262,
          0.24301248788833618,
          0.27583011984825134,
          0.27201858162879944,
          0.29278838634490967,
          0.23219776153564453,
          0.14139093458652496,
          0.04705306515097618,
          0.08044596016407013,
          0.028177447617053986,
          -0.04609648138284683,
          -0.03566090390086174,
          0.015107635408639908,
          0.050159454345703125,
          -0.004721456672996283,
          0.0011420785449445248,
          -0.05674661323428154,
          -0.06891944259405136,
          -0.043100230395793915,
          -0.07342033088207245,
          -0.023732701316475868,
          -0.08226355910301208,
          -0.13514135777950287,
          -0.19328804314136505,
          -0.27531692385673523,
          -0.37169149518013,
          -0.32222238183021545,
          -0.22996632754802704,
          -0.220386803150177,
          -0.16439862549304962,
          -0.11372797191143036,
          -0.08377710729837418,
          -0.07090970873832703,
          -0.1349334716796875,
          -0.06126708909869194,
          0.029214506968855858,
          -0.011033069342374802,
          -0.06524721533060074,
          -0.08434384316205978,
          -0.15833450853824615,
          -0.1687554121017456,
          -0.12507441639900208,
          -0.1734754741191864,
          -0.24324288964271545,
          -0.20419298112392426,
          -0.11757125705480576,
          -0.04502153769135475,
          -0.03792514279484749,
          -0.1020430475473404,
          -0.03118639439344406,
          -0.014891882427036762,
          -0.0022065876983106136,
          -0.07564292848110199,
          -0.01918632537126541,
          -0.0900234505534172,
          -0.027386095374822617,
          0.048578958958387375,
          0.13141125440597534,
          0.10997430980205536,
          0.10150346904993057,
          0.149354949593544,
          0.2421051263809204,
          0.17876185476779938,
          0.21653978526592255,
          0.13568337261676788,
          0.19868901371955872,
          0.13092955946922302,
          0.03980203717947006,
          -0.0010868682293221354,
          0.0670173168182373,
          0.12556606531143188,
          0.08328291028738022,
          0.04351809248328209
         ]
        },
        {
         "line": {
          "color": "darkblue",
          "width": 2
         },
         "marker": {
          "color": [
           -1.3453598270755056,
           -0.317951620710029,
           -1.3752862668868788,
           -0.5211797492625031,
           -2.9926353500208243,
           0.08289472021967978,
           0.4030246695718268,
           2.212264302193321,
           -0.5555158384046487,
           1.568299806082502,
           -0.8525262496047998,
           -0.3331105089534315,
           0.2820987386097644,
           0.6329582922691617,
           0.6443625367418778,
           0.1436116553415081,
           0.23440050365895723,
           0.06915347614151925,
           -2.026065602062616,
           0.2632447975421693,
           0.13664749958370212,
           1.067856348259563,
           0.7977387328458796,
           0.865180786204738,
           0.8368173808335666,
           0.5240209057910796,
           0.9329126828214471,
           1.3994978603877624,
           1.4906939760289164,
           0.9450750975398005,
           0.3207430049239855,
           0.455985295723203,
           0.588663255641517,
           0.44484376560319416,
           -2.6277251982200025,
           2.0013177699799676,
           1.9449893273336867,
           -0.2735868338440865,
           -0.7151875688919345,
           -2.1718468759864384,
           1.0222017723975503,
           -2.1137243706235473,
           0.521746682842296,
           -2.071097890076151,
           -0.81020158927965,
           -0.9408060413439099,
           0.27199427456494174,
           -1.9116059598760207,
           -0.9207181772745056,
           -2.0599609320432437,
           -0.13338016611103992,
           -1.2174448110641418,
           -0.7238856295245233,
           -0.264608220662388,
           -0.012926088582733072,
           -0.6268673868202416,
           -0.33029583535629015,
           0.17262623384067557,
           0.5142707605713789,
           -1.166732280221165,
           0.34430986531389784,
           0.1069602595351785,
           0.7795833310455169,
           -0.5026020596173724,
           0.6988779156837994,
           -1.0494776621524504,
           -0.2814239646551355,
           1.6065131932943046,
           -1.2240407327780176,
           -0.47067786034012815,
           -0.15401795278674946,
           0.3938213015018028,
           0.11309382954291547,
           0.10787207530252335,
           0.2595266223366297,
           0.06444331749366965,
           0.27117801625649945,
           0.10863933806735067,
           0.03869466968757021,
           0.7598217681877958,
           0.46167371572860183,
           0.5525468322517472,
           0.3324960175932959,
           0.0003294657548535865,
           -0.3822605181089213,
           -1.9756095489930179,
           -0.9559729121072825,
           -0.1224515674264699,
           0.3494718516028401,
           1.3282382305328835,
           1.8234466912416225,
           1.1642431735120204,
           2.0522484160034997,
           1.0022922491708255,
           0.3036638996426336,
           0.058524298061144744,
           -0.27085131666129003,
           -0.06962481747996116,
           1.106507250197423,
           0.2990996316541398,
           1.1178207035766068,
           0.15526176027392297,
           0.29602003415634087,
           0.13461920357122614,
           -0.28984588722187443,
           -1.8994318360708216,
           -1.711965936397051,
           -0.9531380679769786,
           -0.1696381847116981,
           0.5756787022569698,
           0.14168582825868875,
           1.3816881945618502,
           1.7664714063206832,
           1.629567433139868,
           0.6409434122853523,
           0.23713867830799595,
           0.5575674604130396,
           0.6473065287087024,
           -0.4293748065792479,
           0.643278453377981,
           1.180345913086488,
           0.6614141578984566,
           0.9793467407917628,
           0.6864590502819472,
           0.23090944709815744,
           -0.06049540479277378,
           -0.27462645809146324,
           -0.2258294714764782,
           0.035880297516735576,
           0.07938250653864008,
           -0.007107252892397148,
           -0.37754538043793934,
           0.11350642447317127,
           -0.3254416318881762,
           -0.1135789857769054,
           0.20323149458634,
           0.8977186841054352,
           -0.0978555226041384,
           0.2730259107659493,
           1.1683259804514994,
           1.50844665359271,
           0.29726032510466777,
           0.6907732545575406,
           -1.1428392426595093,
           -2.826379632997738,
           0.7682199277513491,
           1.2910078484299696,
           0.4726534809724062,
           -0.18460965337509402,
           -1.0649885555208152,
           -0.7603320510527505,
           -0.8603680754525985,
           -1.1986836536509253,
           -1.3524773963092562,
           -1.7319573928711698,
           -1.2152770306148333,
           -1.8812384016491266,
           -0.4314296719359534,
           -0.07064115247745191,
           -0.22104660134288354,
           -0.7106588169317877,
           -1.61229997999321,
           -1.100524412708606,
           -2.5747961883282606,
           -1.2245016241342048,
           -2.161852544304539,
           -0.8185736080922968,
           -0.3131426834483827,
           -0.2265808225351345,
           -0.22611517330982786,
           -0.5146958210143896,
           -0.5111381384495883,
           -0.3688103781649862,
           -0.48247479192026915,
           -0.6745711850335221,
           -1.13248564426443,
           -1.0904921128787848,
           -0.6361630289882437,
           -1.2852056607716995,
           -1.8442752476194932,
           -3.3416056042730977,
           -0.4072185773188878,
           -1.1141253143989176,
           -0.2851473403818739,
           -0.8672211130379862,
           0.38615070747178165,
           1.68667954388464,
           0.17648062668196257,
           0.6567981649226197,
           0.2170177412314454,
           -0.2339393270915846,
           0.5894533500587268,
           0.5413049729842684,
           1.1524390066069707,
           0.6466571024792648,
           0.49996297906142356,
           0.06314055952798873,
           -3.2610188534579976,
           -0.5186121332780604,
           -0.026363837001788522,
           -0.19618617410504724,
           -0.2483465765647916
          ],
          "colorscale": [
           [
            0,
            "rgb(150,0,90)"
           ],
           [
            0.125,
            "rgb(0,0,200)"
           ],
           [
            0.25,
            "rgb(0,25,255)"
           ],
           [
            0.375,
            "rgb(0,152,255)"
           ],
           [
            0.5,
            "rgb(44,255,150)"
           ],
           [
            0.625,
            "rgb(151,255,0)"
           ],
           [
            0.75,
            "rgb(255,234,0)"
           ],
           [
            0.875,
            "rgb(255,111,0)"
           ],
           [
            1,
            "rgb(255,0,0)"
           ]
          ],
          "size": 4
         },
         "scene": "scene2",
         "type": "scatter3d",
         "x": [
          0.9212188896324619,
          0.9911239573291145,
          0.9038302995354995,
          0.9415280808696149,
          0.8702685362496481,
          0.864672397999256,
          0.8277891721115217,
          0.7853718474448856,
          0.7491327509822128,
          0.7419400894693199,
          0.7333289843321817,
          0.6952134083079756,
          0.6503216026876821,
          0.669122572975237,
          0.6658474732716986,
          0.6166049290687913,
          0.6281243910369456,
          0.5732127962736316,
          0.6290951135589158,
          0.6237351044941658,
          0.5382134134466224,
          0.5228695244695231,
          0.48217172204678116,
          0.5494792186195588,
          0.5673686928255459,
          0.5255648227425953,
          0.6111751706416464,
          0.6185482605377769,
          0.5609296390630647,
          0.5196756218785035,
          0.5522314727509395,
          0.6048001018479408,
          0.564641772575909,
          0.5510424781748778,
          0.5292129436985207,
          0.48749591937536957,
          0.41031114425753173,
          0.3497031166190297,
          0.37072988212658065,
          0.3485376363645922,
          0.3797100430138948,
          0.33942501802355945,
          0.32548644303658947,
          0.33384757489931527,
          0.2366804683076395,
          0.23878771258541984,
          0.22189269424705885,
          0.20415139154686998,
          0.15808585401345557,
          0.058055084209279184,
          0.09660448093695294,
          0.08569175417352534,
          0.06429549999981388,
          -0.020789094209742506,
          -0.00006456527829019844,
          -0.09047106321375917,
          -0.0489671341259198,
          -0.11282468951451813,
          -0.07033042826892578,
          -0.06451368117615645,
          -0.1741302113966455,
          -0.12585342996578486,
          -0.08033832492060022,
          -0.15637050436731337,
          -0.0853600848225787,
          -0.030462005705259403,
          -0.04644451854033671,
          -0.14338901532314804,
          -0.12558636743649385,
          -0.03467383417701913,
          -0.03109072494725006,
          -0.02166637974772725,
          -0.0697423228975455,
          -0.09261119159824809,
          -0.04002539302527144,
          -0.0699992404843453,
          -0.007701560650409427,
          0.028916114420843058,
          0.015296389804034723,
          0.08832454423720475,
          0.03855114302801024,
          0.03283115613203115,
          0.03819902482952204,
          0.010347102001061566,
          -0.07839956437513598,
          -0.1608870486545879,
          -0.25532987528849116,
          -0.2680276237429043,
          -0.25957667299487347,
          -0.26492029892863156,
          -0.1830234706911182,
          -0.1636611791782959,
          -0.17972034146233523,
          -0.15304007758420446,
          -0.12191505941219086,
          -0.07056535327292895,
          -0.07532177967621724,
          -0.12267444792148308,
          -0.14743865130574524,
          -0.12069802122941867,
          -0.14214834293983575,
          -0.19953737728410018,
          -0.23558870353868555,
          -0.2891461108867266,
          -0.24406336675495818,
          -0.26698956942201707,
          -0.17940190013472856,
          -0.19854448683651588,
          -0.11971150262908925,
          -0.17548673913016924,
          -0.21926180774546616,
          -0.24377788280559357,
          -0.24779851771892358,
          -0.26254842802779266,
          -0.3532853079087376,
          -0.32724682117380127,
          -0.32278767455806584,
          -0.28913672442749494,
          -0.3851758889048609,
          -0.3850289736029454,
          -0.3847418593112206,
          -0.2505763215601294,
          -0.22688862120373102,
          -0.25481308549342124,
          -0.3440408465570588,
          -0.40496495553430634,
          -0.45327835640128783,
          -0.4425040115483884,
          -0.4824945974566914,
          -0.48981824050918804,
          -0.42253991918201356,
          -0.4012862543639959,
          -0.3825285439991795,
          -0.3473718367407443,
          -0.32285718131789853,
          -0.2724652299098168,
          -0.2191241547874422,
          -0.3138709379155838,
          -0.213324481644939,
          -0.24184288430001333,
          -0.2964142535240878,
          -0.2601959042353855,
          -0.3553133464274513,
          -0.22450591589288843,
          -0.17249526363454157,
          -0.21200938891374202,
          -0.30140898804133404,
          -0.2899096882348699,
          -0.257568706267926,
          -0.2427398697151938,
          -0.17593331390709172,
          -0.16440991724311962,
          -0.09311039297650756,
          -0.11446380018128274,
          -0.07687173645382608,
          -0.10934527743996207,
          -0.12837970009577537,
          -0.16157601928385332,
          -0.15267332386317056,
          -0.2173137534401264,
          -0.22402004041329948,
          -0.12650896164941816,
          -0.09451145406712953,
          -0.15397071095749326,
          -0.22387974806786293,
          -0.1341012113455352,
          -0.1252146664339666,
          -0.11397049638219803,
          -0.08137025697050979,
          -0.05727489054656797,
          -0.08310854740070993,
          -0.11958030461094286,
          -0.1354517556502134,
          -0.12620677658807572,
          -0.1464898744409334,
          -0.12351392730823774,
          -0.12354135849405545,
          -0.12175537565637552,
          -0.14268018339481464,
          -0.14506003051774619,
          -0.13920340356093838,
          -0.08534130160788225,
          -0.10629978655094446,
          -0.08571344390728088,
          -0.11453514877308237,
          -0.13472797121491747,
          -0.18100956272803317,
          -0.13667533718270303,
          -0.14658905497980346,
          -0.18832058004449728,
          -0.27399714845401957,
          -0.2681915864596725,
          -0.4001777203388858,
          -0.2552980983119532,
          -0.37330984214402935,
          -0.33585017867353756,
          -0.3010766488997154,
          -0.31566700016604826,
          -0.38390777290565375,
          -0.33861309041300924,
          -0.41539085093934425,
          -0.4260099457388971
         ],
         "y": [
          -0.02774576667208487,
          0.014748441489817044,
          0.030367572004422295,
          0.0022982914827886195,
          -0.10394768398817975,
          0.04063172212788651,
          -0.022988591159387946,
          0.03597044292861035,
          0.024578674347540165,
          0.05037466017090583,
          0.08235230171923562,
          0.13549624874979832,
          0.028830983516644388,
          0.002916582402240061,
          -0.03899770167352925,
          0.07911857860181018,
          0.024604522137020187,
          0.07222701119645297,
          0.10990423088841,
          0.09221697596204233,
          0.029476727654689366,
          0.0031458045792050796,
          0.008298042445778411,
          -0.04259650296882592,
          -0.004629449544187748,
          -0.02234194361097654,
          0.02098433617728318,
          0.04753519856112958,
          0.12177968896285882,
          0.05334699762605798,
          0.04933075839129572,
          0.07050276048190347,
          0.027887562338413222,
          -0.007090441182935042,
          -0.05719237413304212,
          -0.07346115921833524,
          -0.12276373213388703,
          -0.141240860058242,
          -0.1265075538113214,
          -0.07665514492666882,
          -0.11845880838835542,
          -0.13333972601084856,
          -0.17651210631402153,
          -0.165086405699877,
          -0.18365084070564014,
          -0.14913748995658285,
          -0.16417609916210352,
          -0.1684319993692625,
          -0.15428491706529038,
          -0.1781767230043397,
          -0.19239715118251263,
          -0.1812724012594495,
          -0.16334313329248373,
          -0.1561989190254167,
          -0.23147275845260792,
          -0.21097951068243162,
          -0.23758108612362902,
          -0.17154423609719816,
          -0.14519553574354777,
          -0.09868464168088095,
          -0.11811992897941102,
          -0.17086159115056954,
          -0.12003481722752428,
          -0.17366565523343955,
          -0.13932004013250496,
          -0.1434573538512268,
          -0.1759611238708006,
          -0.19177305514609413,
          -0.18650725504183857,
          -0.2670933297581785,
          -0.3065628302742123,
          -0.35040507596793014,
          -0.40101188126185994,
          -0.4955110165752803,
          -0.4109487928424559,
          -0.39828591334062746,
          -0.3413811654141967,
          -0.2613913869007067,
          -0.25258669013256546,
          -0.23191316880491328,
          -0.23438473728773124,
          -0.2904242130511385,
          -0.2780189173715434,
          -0.24622166248275154,
          -0.2360797826743915,
          -0.1653430925628814,
          -0.2303084284441825,
          -0.18736821686337052,
          -0.294747754950579,
          -0.2996689140599076,
          -0.2770852955233607,
          -0.308490505968877,
          -0.2529579185571581,
          -0.18158582091715156,
          -0.1570310395224559,
          -0.13587590334385305,
          -0.08169386631784287,
          -0.062493369571819744,
          -0.15765109425586327,
          -0.18741679159649607,
          -0.2673586503124626,
          -0.3114740169522743,
          -0.331132588406181,
          -0.3283102582054473,
          -0.2437780726089205,
          -0.18925377534327345,
          -0.13609448612216998,
          -0.12442393768679634,
          -0.07997238992541048,
          0.04851936784371105,
          0.17121559411730908,
          0.2180955500364796,
          0.20801203072978372,
          0.0888609836599254,
          0.17512987073055583,
          0.20894113749291696,
          0.17903037446763914,
          0.22069753699616163,
          0.3039229656482326,
          0.36597574937656463,
          0.3848054656252344,
          0.36928068239061873,
          0.2637401691759288,
          0.17202034534716462,
          0.19812218151627353,
          0.26067254942761364,
          0.33029997264049477,
          0.3668898033842958,
          0.4032087947156802,
          0.34356048466240835,
          0.3106968244956291,
          0.23847033952458885,
          0.23048510398397412,
          0.053427261260671495,
          0.22074343818923844,
          0.1711393170713486,
          0.17151838287541726,
          0.20048523354797934,
          0.17894761150814,
          0.22971222849722725,
          0.2608447491177002,
          0.20791284056299145,
          0.21500094492310268,
          0.2213397470267865,
          0.1321931938856214,
          0.22929640221928904,
          0.2767416558563615,
          0.28454323976556334,
          0.3602522914128752,
          0.3097586118033799,
          0.2633501356705546,
          0.2005663368196941,
          0.24681106816123943,
          0.3187905618083425,
          0.4372398236818235,
          0.41966384035254045,
          0.3471541843078679,
          0.37559411880294985,
          0.32614400996430715,
          0.37027132808249386,
          0.3092506808669941,
          0.16744011047525098,
          0.17689824798350612,
          0.142561156356746,
          0.06456292506899176,
          0.026095417829662015,
          -0.005708697510435776,
          -0.17318803041346872,
          -0.15291903467551596,
          -0.1927841340823402,
          -0.14580124940754302,
          0.017714186608088565,
          -0.0012950852645678896,
          0.03073640965853371,
          -0.06125514254677319,
          -0.1392621881124172,
          -0.10526704204223652,
          -0.08715023707886888,
          -0.07606767320880785,
          -0.009788788034393618,
          -0.026503087604677494,
          -0.02095124227237694,
          0.019726669162608918,
          -0.022690056752103005,
          -0.07343623331625776,
          -0.12388583004272435,
          -0.13131192034766218,
          -0.08542326803258907,
          -0.039578092197716755,
          -0.024861158773281516,
          -0.08949209864650112,
          0.028309064443391495,
          0.0650198607791153,
          0.05751300203235331,
          0.11756712425626335,
          0.1956297785740389,
          0.26293338274991834,
          0.26946824839984646,
          0.30806540939897176,
          0.24374295010440872,
          0.27800406277312767,
          0.3198841200004482
         ],
         "z": [
          -0.34304613334380424,
          -0.13212072974577438,
          -0.41084302682893314,
          -0.1583388397122011,
          -0.2653180636161518,
          -0.23324004175255794,
          -0.1656820806505463,
          -0.2244262631281042,
          -0.23388390261711237,
          -0.2178560749318277,
          -0.2511632276577263,
          -0.2872287655645849,
          -0.1817942301604711,
          -0.1472371084755061,
          -0.13761327991748598,
          -0.15878424276480388,
          -0.12464581428222864,
          -0.17556139069298005,
          -0.11367759014806715,
          -0.23035842466193904,
          -0.2684774791819605,
          -0.24584843523279942,
          -0.23535543994459343,
          -0.14933530867524736,
          -0.1738108041547441,
          -0.21561221876999853,
          -0.15373054276487055,
          -0.2304128592164897,
          -0.16298950914284274,
          -0.19929205779993134,
          -0.23641952634075564,
          -0.27585676056135056,
          -0.2724509987958339,
          -0.24324365478391458,
          -0.13932195366465905,
          -0.15966927236013762,
          -0.06999142266522189,
          -0.07710913056980788,
          -0.06634633690281867,
          -0.049127710305682824,
          -0.04902896531561602,
          -0.08764751990699035,
          -0.05327715368670091,
          -0.07503194559903842,
          -0.030167417792727334,
          -0.029816881291098277,
          -0.016341746648556598,
          0.023223235514603317,
          0.028193844209356254,
          -0.008557866592083225,
          0.002552227319862721,
          0.03723498160651237,
          -0.011665284601537314,
          -0.07785813760710977,
          -0.09386326666733565,
          -0.07790487589998095,
          -0.012745287014485898,
          -0.049079476532520226,
          -0.006537923291701221,
          0.01263081143840311,
          0.011579202017170446,
          -0.059955013784307606,
          -0.005981964601208095,
          0.0659208719483274,
          0.01766144656239181,
          0.08998012880418861,
          0.06495549472618922,
          0.02433820646050141,
          0.13240921226140437,
          0.11554323495631647,
          0.08433686970564443,
          0.047598493450526386,
          0.005516691045600348,
          -0.028464659037447982,
          -0.00691545158769517,
          -0.04223734084123663,
          -0.005201218028990081,
          -0.08372841506885216,
          -0.06221451293859369,
          0.02239958025388207,
          -0.017312212208991453,
          0.005089034014880202,
          -0.024919803293709034,
          -0.04198206993357259,
          -0.05299485279488605,
          -0.09510094459303588,
          -0.07094370905871393,
          -0.08169831285517659,
          0.0034482219484830777,
          0.15839015063591563,
          0.12436471324695317,
          0.06836660859468606,
          0.09170759204399352,
          0.016436066317620637,
          -0.046781164951249676,
          0.023208743008205707,
          0.09057716681115731,
          0.14149024530160892,
          0.06603672159263972,
          -0.03708654861078905,
          0.07239956471494452,
          0.027621271452985607,
          0.022994771870382846,
          0.05052864693742346,
          -0.036927329056179486,
          -0.05781067953669727,
          -0.054024048233694735,
          0.029630458290934004,
          0.01148604593263185,
          0.03212758168105474,
          -0.03297482519536087,
          -0.009033984065035219,
          0.02294835366575956,
          0.08185995761265266,
          -0.005848032796882188,
          -0.05868915011108452,
          -0.04752476682543019,
          -0.0203500133128747,
          -0.11963919138977984,
          -0.0744626172879007,
          -0.015284087606302841,
          0.02370912876811954,
          -0.0003618092018874497,
          -0.0025008420155577292,
          -0.08193505732748207,
          -0.11074749600561153,
          -0.12333858777475423,
          -0.14753198929614636,
          -0.1642497467624497,
          -0.12097320644313773,
          -0.13752955274974576,
          -0.11937800368854955,
          -0.09474845815682043,
          -0.07300894164762961,
          -0.11305670051736322,
          -0.05275105298705769,
          0.014447554860769273,
          -0.06681935493061242,
          -0.016507480629042337,
          -0.04399071238128083,
          -0.02962151164707424,
          -0.01339444303423153,
          -0.003138967884591967,
          0.038782005770223,
          0.05864442397872164,
          0.018613695098667452,
          -0.03567481477060434,
          0.029957253625489986,
          0.12041278272350404,
          0.14492317642599142,
          0.1739674378286573,
          0.18413792341940916,
          0.23038841652168762,
          0.2678319386030011,
          0.25465595860127543,
          0.22494920581119607,
          0.22320155939897537,
          0.17311849186429498,
          0.13150187603852187,
          0.12230630578866379,
          0.19192233177727738,
          0.2357038871156977,
          0.2201371062165791,
          0.22719753666928505,
          0.24121423415449317,
          0.2562041662691614,
          0.2777301631993409,
          0.20163111975911205,
          0.27992927070571233,
          0.28859822365018495,
          0.34611881350791296,
          0.4089213367857327,
          0.41850486714972784,
          0.4445199249692582,
          0.4081652366327894,
          0.3200047593647682,
          0.25928099281273614,
          0.34322617636259184,
          0.2683307773890227,
          0.24568830323994723,
          0.18243929603718811,
          0.1810055127441889,
          0.14043165995793774,
          0.1872516539874291,
          0.14734113427266773,
          0.11741122227504118,
          0.08000426691334592,
          0.10296478169802971,
          0.1812563244218207,
          0.12490225047111553,
          0.06326415076188469,
          0.053005562708146145,
          0.04343362607978594,
          0.09023795997077343,
          0.026476224616684984,
          -0.0415575662569458,
          -0.06039292281359832,
          -0.08513545628028592,
          -0.1522733149500708,
          -0.09126837996034877,
          -0.09919949999512914,
          -0.0928722968440069
         ]
        }
       ],
       "layout": {
        "height": 1000,
        "scene": {
         "domain": {
          "x": [
           0,
           0.45
          ],
          "y": [
           0,
           1
          ]
         }
        },
        "scene2": {
         "domain": {
          "x": [
           0.55,
           1
          ],
          "y": [
           0,
           1
          ]
         }
        },
        "template": {
         "data": {
          "bar": [
           {
            "error_x": {
             "color": "#2a3f5f"
            },
            "error_y": {
             "color": "#2a3f5f"
            },
            "marker": {
             "line": {
              "color": "#E5ECF6",
              "width": 0.5
             }
            },
            "type": "bar"
           }
          ],
          "barpolar": [
           {
            "marker": {
             "line": {
              "color": "#E5ECF6",
              "width": 0.5
             }
            },
            "type": "barpolar"
           }
          ],
          "carpet": [
           {
            "aaxis": {
             "endlinecolor": "#2a3f5f",
             "gridcolor": "white",
             "linecolor": "white",
             "minorgridcolor": "white",
             "startlinecolor": "#2a3f5f"
            },
            "baxis": {
             "endlinecolor": "#2a3f5f",
             "gridcolor": "white",
             "linecolor": "white",
             "minorgridcolor": "white",
             "startlinecolor": "#2a3f5f"
            },
            "type": "carpet"
           }
          ],
          "choropleth": [
           {
            "colorbar": {
             "outlinewidth": 0,
             "ticks": ""
            },
            "type": "choropleth"
           }
          ],
          "contour": [
           {
            "colorbar": {
             "outlinewidth": 0,
             "ticks": ""
            },
            "colorscale": [
             [
              0,
              "#0d0887"
             ],
             [
              0.1111111111111111,
              "#46039f"
             ],
             [
              0.2222222222222222,
              "#7201a8"
             ],
             [
              0.3333333333333333,
              "#9c179e"
             ],
             [
              0.4444444444444444,
              "#bd3786"
             ],
             [
              0.5555555555555556,
              "#d8576b"
             ],
             [
              0.6666666666666666,
              "#ed7953"
             ],
             [
              0.7777777777777778,
              "#fb9f3a"
             ],
             [
              0.8888888888888888,
              "#fdca26"
             ],
             [
              1,
              "#f0f921"
             ]
            ],
            "type": "contour"
           }
          ],
          "contourcarpet": [
           {
            "colorbar": {
             "outlinewidth": 0,
             "ticks": ""
            },
            "type": "contourcarpet"
           }
          ],
          "heatmap": [
           {
            "colorbar": {
             "outlinewidth": 0,
             "ticks": ""
            },
            "colorscale": [
             [
              0,
              "#0d0887"
             ],
             [
              0.1111111111111111,
              "#46039f"
             ],
             [
              0.2222222222222222,
              "#7201a8"
             ],
             [
              0.3333333333333333,
              "#9c179e"
             ],
             [
              0.4444444444444444,
              "#bd3786"
             ],
             [
              0.5555555555555556,
              "#d8576b"
             ],
             [
              0.6666666666666666,
              "#ed7953"
             ],
             [
              0.7777777777777778,
              "#fb9f3a"
             ],
             [
              0.8888888888888888,
              "#fdca26"
             ],
             [
              1,
              "#f0f921"
             ]
            ],
            "type": "heatmap"
           }
          ],
          "heatmapgl": [
           {
            "colorbar": {
             "outlinewidth": 0,
             "ticks": ""
            },
            "colorscale": [
             [
              0,
              "#0d0887"
             ],
             [
              0.1111111111111111,
              "#46039f"
             ],
             [
              0.2222222222222222,
              "#7201a8"
             ],
             [
              0.3333333333333333,
              "#9c179e"
             ],
             [
              0.4444444444444444,
              "#bd3786"
             ],
             [
              0.5555555555555556,
              "#d8576b"
             ],
             [
              0.6666666666666666,
              "#ed7953"
             ],
             [
              0.7777777777777778,
              "#fb9f3a"
             ],
             [
              0.8888888888888888,
              "#fdca26"
             ],
             [
              1,
              "#f0f921"
             ]
            ],
            "type": "heatmapgl"
           }
          ],
          "histogram": [
           {
            "marker": {
             "colorbar": {
              "outlinewidth": 0,
              "ticks": ""
             }
            },
            "type": "histogram"
           }
          ],
          "histogram2d": [
           {
            "colorbar": {
             "outlinewidth": 0,
             "ticks": ""
            },
            "colorscale": [
             [
              0,
              "#0d0887"
             ],
             [
              0.1111111111111111,
              "#46039f"
             ],
             [
              0.2222222222222222,
              "#7201a8"
             ],
             [
              0.3333333333333333,
              "#9c179e"
             ],
             [
              0.4444444444444444,
              "#bd3786"
             ],
             [
              0.5555555555555556,
              "#d8576b"
             ],
             [
              0.6666666666666666,
              "#ed7953"
             ],
             [
              0.7777777777777778,
              "#fb9f3a"
             ],
             [
              0.8888888888888888,
              "#fdca26"
             ],
             [
              1,
              "#f0f921"
             ]
            ],
            "type": "histogram2d"
           }
          ],
          "histogram2dcontour": [
           {
            "colorbar": {
             "outlinewidth": 0,
             "ticks": ""
            },
            "colorscale": [
             [
              0,
              "#0d0887"
             ],
             [
              0.1111111111111111,
              "#46039f"
             ],
             [
              0.2222222222222222,
              "#7201a8"
             ],
             [
              0.3333333333333333,
              "#9c179e"
             ],
             [
              0.4444444444444444,
              "#bd3786"
             ],
             [
              0.5555555555555556,
              "#d8576b"
             ],
             [
              0.6666666666666666,
              "#ed7953"
             ],
             [
              0.7777777777777778,
              "#fb9f3a"
             ],
             [
              0.8888888888888888,
              "#fdca26"
             ],
             [
              1,
              "#f0f921"
             ]
            ],
            "type": "histogram2dcontour"
           }
          ],
          "mesh3d": [
           {
            "colorbar": {
             "outlinewidth": 0,
             "ticks": ""
            },
            "type": "mesh3d"
           }
          ],
          "parcoords": [
           {
            "line": {
             "colorbar": {
              "outlinewidth": 0,
              "ticks": ""
             }
            },
            "type": "parcoords"
           }
          ],
          "pie": [
           {
            "automargin": true,
            "type": "pie"
           }
          ],
          "scatter": [
           {
            "marker": {
             "colorbar": {
              "outlinewidth": 0,
              "ticks": ""
             }
            },
            "type": "scatter"
           }
          ],
          "scatter3d": [
           {
            "line": {
             "colorbar": {
              "outlinewidth": 0,
              "ticks": ""
             }
            },
            "marker": {
             "colorbar": {
              "outlinewidth": 0,
              "ticks": ""
             }
            },
            "type": "scatter3d"
           }
          ],
          "scattercarpet": [
           {
            "marker": {
             "colorbar": {
              "outlinewidth": 0,
              "ticks": ""
             }
            },
            "type": "scattercarpet"
           }
          ],
          "scattergeo": [
           {
            "marker": {
             "colorbar": {
              "outlinewidth": 0,
              "ticks": ""
             }
            },
            "type": "scattergeo"
           }
          ],
          "scattergl": [
           {
            "marker": {
             "colorbar": {
              "outlinewidth": 0,
              "ticks": ""
             }
            },
            "type": "scattergl"
           }
          ],
          "scattermapbox": [
           {
            "marker": {
             "colorbar": {
              "outlinewidth": 0,
              "ticks": ""
             }
            },
            "type": "scattermapbox"
           }
          ],
          "scatterpolar": [
           {
            "marker": {
             "colorbar": {
              "outlinewidth": 0,
              "ticks": ""
             }
            },
            "type": "scatterpolar"
           }
          ],
          "scatterpolargl": [
           {
            "marker": {
             "colorbar": {
              "outlinewidth": 0,
              "ticks": ""
             }
            },
            "type": "scatterpolargl"
           }
          ],
          "scatterternary": [
           {
            "marker": {
             "colorbar": {
              "outlinewidth": 0,
              "ticks": ""
             }
            },
            "type": "scatterternary"
           }
          ],
          "surface": [
           {
            "colorbar": {
             "outlinewidth": 0,
             "ticks": ""
            },
            "colorscale": [
             [
              0,
              "#0d0887"
             ],
             [
              0.1111111111111111,
              "#46039f"
             ],
             [
              0.2222222222222222,
              "#7201a8"
             ],
             [
              0.3333333333333333,
              "#9c179e"
             ],
             [
              0.4444444444444444,
              "#bd3786"
             ],
             [
              0.5555555555555556,
              "#d8576b"
             ],
             [
              0.6666666666666666,
              "#ed7953"
             ],
             [
              0.7777777777777778,
              "#fb9f3a"
             ],
             [
              0.8888888888888888,
              "#fdca26"
             ],
             [
              1,
              "#f0f921"
             ]
            ],
            "type": "surface"
           }
          ],
          "table": [
           {
            "cells": {
             "fill": {
              "color": "#EBF0F8"
             },
             "line": {
              "color": "white"
             }
            },
            "header": {
             "fill": {
              "color": "#C8D4E3"
             },
             "line": {
              "color": "white"
             }
            },
            "type": "table"
           }
          ]
         },
         "layout": {
          "annotationdefaults": {
           "arrowcolor": "#2a3f5f",
           "arrowhead": 0,
           "arrowwidth": 1
          },
          "autotypenumbers": "strict",
          "coloraxis": {
           "colorbar": {
            "outlinewidth": 0,
            "ticks": ""
           }
          },
          "colorscale": {
           "diverging": [
            [
             0,
             "#8e0152"
            ],
            [
             0.1,
             "#c51b7d"
            ],
            [
             0.2,
             "#de77ae"
            ],
            [
             0.3,
             "#f1b6da"
            ],
            [
             0.4,
             "#fde0ef"
            ],
            [
             0.5,
             "#f7f7f7"
            ],
            [
             0.6,
             "#e6f5d0"
            ],
            [
             0.7,
             "#b8e186"
            ],
            [
             0.8,
             "#7fbc41"
            ],
            [
             0.9,
             "#4d9221"
            ],
            [
             1,
             "#276419"
            ]
           ],
           "sequential": [
            [
             0,
             "#0d0887"
            ],
            [
             0.1111111111111111,
             "#46039f"
            ],
            [
             0.2222222222222222,
             "#7201a8"
            ],
            [
             0.3333333333333333,
             "#9c179e"
            ],
            [
             0.4444444444444444,
             "#bd3786"
            ],
            [
             0.5555555555555556,
             "#d8576b"
            ],
            [
             0.6666666666666666,
             "#ed7953"
            ],
            [
             0.7777777777777778,
             "#fb9f3a"
            ],
            [
             0.8888888888888888,
             "#fdca26"
            ],
            [
             1,
             "#f0f921"
            ]
           ],
           "sequentialminus": [
            [
             0,
             "#0d0887"
            ],
            [
             0.1111111111111111,
             "#46039f"
            ],
            [
             0.2222222222222222,
             "#7201a8"
            ],
            [
             0.3333333333333333,
             "#9c179e"
            ],
            [
             0.4444444444444444,
             "#bd3786"
            ],
            [
             0.5555555555555556,
             "#d8576b"
            ],
            [
             0.6666666666666666,
             "#ed7953"
            ],
            [
             0.7777777777777778,
             "#fb9f3a"
            ],
            [
             0.8888888888888888,
             "#fdca26"
            ],
            [
             1,
             "#f0f921"
            ]
           ]
          },
          "colorway": [
           "#636efa",
           "#EF553B",
           "#00cc96",
           "#ab63fa",
           "#FFA15A",
           "#19d3f3",
           "#FF6692",
           "#B6E880",
           "#FF97FF",
           "#FECB52"
          ],
          "font": {
           "color": "#2a3f5f"
          },
          "geo": {
           "bgcolor": "white",
           "lakecolor": "white",
           "landcolor": "#E5ECF6",
           "showlakes": true,
           "showland": true,
           "subunitcolor": "white"
          },
          "hoverlabel": {
           "align": "left"
          },
          "hovermode": "closest",
          "mapbox": {
           "style": "light"
          },
          "paper_bgcolor": "white",
          "plot_bgcolor": "#E5ECF6",
          "polar": {
           "angularaxis": {
            "gridcolor": "white",
            "linecolor": "white",
            "ticks": ""
           },
           "bgcolor": "#E5ECF6",
           "radialaxis": {
            "gridcolor": "white",
            "linecolor": "white",
            "ticks": ""
           }
          },
          "scene": {
           "xaxis": {
            "backgroundcolor": "#E5ECF6",
            "gridcolor": "white",
            "gridwidth": 2,
            "linecolor": "white",
            "showbackground": true,
            "ticks": "",
            "zerolinecolor": "white"
           },
           "yaxis": {
            "backgroundcolor": "#E5ECF6",
            "gridcolor": "white",
            "gridwidth": 2,
            "linecolor": "white",
            "showbackground": true,
            "ticks": "",
            "zerolinecolor": "white"
           },
           "zaxis": {
            "backgroundcolor": "#E5ECF6",
            "gridcolor": "white",
            "gridwidth": 2,
            "linecolor": "white",
            "showbackground": true,
            "ticks": "",
            "zerolinecolor": "white"
           }
          },
          "shapedefaults": {
           "line": {
            "color": "#2a3f5f"
           }
          },
          "ternary": {
           "aaxis": {
            "gridcolor": "white",
            "linecolor": "white",
            "ticks": ""
           },
           "baxis": {
            "gridcolor": "white",
            "linecolor": "white",
            "ticks": ""
           },
           "bgcolor": "#E5ECF6",
           "caxis": {
            "gridcolor": "white",
            "linecolor": "white",
            "ticks": ""
           }
          },
          "title": {
           "x": 0.05
          },
          "xaxis": {
           "automargin": true,
           "gridcolor": "white",
           "linecolor": "white",
           "ticks": "",
           "title": {
            "standoff": 15
           },
           "zerolinecolor": "white",
           "zerolinewidth": 2
          },
          "yaxis": {
           "automargin": true,
           "gridcolor": "white",
           "linecolor": "white",
           "ticks": "",
           "title": {
            "standoff": 15
           },
           "zerolinecolor": "white",
           "zerolinewidth": 2
          }
         }
        },
        "width": 1300
       }
      }
     },
     "metadata": {},
     "output_type": "display_data"
    },
    {
     "name": "stdout",
     "output_type": "stream",
     "text": [
      "Kabsch distance is 0.08407879052457376\n"
     ]
    },
    {
     "data": {
      "text/plain": [
       "<Figure size 50000x50000 with 0 Axes>"
      ]
     },
     "metadata": {},
     "output_type": "display_data"
    }
   ],
   "source": [
    "test_true_structure = test_true_structures[GRAPH_TESTED]\n",
    "test_pred_structure = test_pred_structures[GRAPH_TESTED]\n",
    "\n",
    "test_pred_structure_superposed, test_true_structure_superposed = \\\n",
    "        kabsch_superimposition_numpy(test_pred_structure, test_true_structure, EMBEDDING_SIZE)\n",
    "\n",
    "x_pred = test_pred_structure_superposed[:, 0]  \n",
    "y_pred = test_pred_structure_superposed[:, 1]\n",
    "z_pred = test_pred_structure_superposed[:, 2]\n",
    "\n",
    "x_true = test_true_structure_superposed[:, 0]  \n",
    "y_true = test_true_structure_superposed[:, 1]\n",
    "z_true = test_true_structure_superposed[:, 2]\n",
    "pred_structure_unit_ball, true_structure_unit_ball = \\\n",
    "            kabsch_superimposition_numpy(test_pred_structure, test_true_structure, EMBEDDING_SIZE)\n",
    "d = np.negative(np.log(np.mean(np.divide(np.abs(pred_structure_unit_ball - true_structure_unit_ball),np.abs(true_structure_unit_ball)), axis=1)))\n",
    "\n",
    "colorscale1 = np.asarray(range(len(x_true)))\n",
    "colorscale2 = d\n",
    "color1 = 'Viridis'\n",
    "color2 = 'rainbow'\n",
    "plot_true_pred_structures(x_pred, y_pred, z_pred, x_true, y_true, z_true, colorscale1, colorscale2, color1, color2)\n",
    "\n",
    "# Shape comparison\n",
    "print('Kabsch distance is ' + str(kabsch_distance_numpy(test_pred_structure, test_true_structure, EMBEDDING_SIZE)))\n",
    "\n"
   ]
  },
  {
   "cell_type": "code",
   "execution_count": 19,
   "metadata": {},
   "outputs": [
    {
     "name": "stdout",
     "output_type": "stream",
     "text": [
      "tensor([0.8891], dtype=torch.float64)\n",
      "tensor([0.5074], dtype=torch.float64)\n"
     ]
    }
   ],
   "source": [
    "random_structure = np.random.random((202,3))\n",
    "test_true_structure = test_true_structures[GRAPH_TESTED]\n",
    "print(lddt(torch.from_numpy(test_pred_structure_superposed).unsqueeze(0), torch.from_numpy(test_true_structure_superposed).unsqueeze(0)))\n",
    "\n",
    "random_structure_superposed, true_to_random_structure_superposed = \\\n",
    "        kabsch_superimposition_numpy(random_structure, test_true_structure, EMBEDDING_SIZE)\n",
    "\n",
    "print(lddt(torch.from_numpy(random_structure_superposed).unsqueeze(0), torch.from_numpy(true_to_random_structure_superposed).unsqueeze(0)))\n",
    "#print(test_true_structures[GRAPH_TESTED].shape)\n"
   ]
  },
  {
   "cell_type": "code",
   "execution_count": 20,
   "metadata": {},
   "outputs": [],
   "source": [
    "make_gif(\"\", \"gifs/trussart_linear.gif\")"
   ]
  },
  {
   "cell_type": "code",
   "execution_count": 21,
   "metadata": {},
   "outputs": [
    {
     "data": {
      "application/vnd.plotly.v1+json": {
       "config": {
        "plotlyServerURL": "https://plot.ly"
       },
       "data": [
        {
         "line": {
          "color": "darkblue",
          "width": 2
         },
         "marker": {
          "color": [
           0,
           1,
           2,
           3,
           4,
           5,
           6,
           7,
           8,
           9,
           10,
           11,
           12,
           13,
           14,
           15,
           16,
           17,
           18,
           19,
           20,
           21,
           22,
           23,
           24,
           25,
           26,
           27,
           28,
           29,
           30,
           31,
           32,
           33,
           34,
           35,
           36,
           37,
           38,
           39,
           40,
           41,
           42,
           43,
           44,
           45,
           46,
           47,
           48,
           49,
           50,
           51,
           52,
           53,
           54,
           55,
           56,
           57,
           58,
           59,
           60,
           61,
           62,
           63,
           64,
           65,
           66,
           67,
           68,
           69,
           70,
           71,
           72,
           73,
           74,
           75,
           76,
           77,
           78,
           79,
           80,
           81,
           82,
           83,
           84,
           85,
           86,
           87,
           88,
           89,
           90,
           91,
           92,
           93,
           94,
           95,
           96,
           97,
           98,
           99,
           100,
           101,
           102,
           103,
           104,
           105,
           106,
           107,
           108,
           109,
           110,
           111,
           112,
           113,
           114,
           115,
           116,
           117,
           118,
           119,
           120,
           121,
           122,
           123,
           124,
           125,
           126,
           127,
           128,
           129,
           130,
           131,
           132,
           133,
           134,
           135,
           136,
           137,
           138,
           139,
           140,
           141,
           142,
           143,
           144,
           145,
           146,
           147,
           148,
           149,
           150,
           151,
           152,
           153,
           154,
           155,
           156,
           157,
           158,
           159,
           160,
           161,
           162,
           163,
           164,
           165,
           166,
           167,
           168,
           169,
           170,
           171,
           172,
           173,
           174,
           175,
           176,
           177,
           178,
           179,
           180,
           181,
           182,
           183,
           184,
           185,
           186,
           187,
           188,
           189,
           190,
           191,
           192,
           193,
           194,
           195,
           196,
           197,
           198,
           199,
           200,
           201
          ],
          "colorscale": [
           [
            0,
            "#440154"
           ],
           [
            0.1111111111111111,
            "#482878"
           ],
           [
            0.2222222222222222,
            "#3e4989"
           ],
           [
            0.3333333333333333,
            "#31688e"
           ],
           [
            0.4444444444444444,
            "#26828e"
           ],
           [
            0.5555555555555556,
            "#1f9e89"
           ],
           [
            0.6666666666666666,
            "#35b779"
           ],
           [
            0.7777777777777778,
            "#6ece58"
           ],
           [
            0.8888888888888888,
            "#b5de2b"
           ],
           [
            1,
            "#fde725"
           ]
          ],
          "size": 4
         },
         "scene": "scene",
         "type": "scatter3d",
         "x": [
          -0.11617447435855865,
          -0.03791821748018265,
          0.04670683667063713,
          0.13978135585784912,
          0.21786342561244965,
          0.2779562771320343,
          0.33708444237709045,
          0.38427045941352844,
          0.3807530403137207,
          0.3150673806667328,
          0.23885391652584076,
          0.15156598389148712,
          0.0769868940114975,
          0.020498061552643776,
          -0.030429817736148834,
          -0.029525181278586388,
          0.034680090844631195,
          0.10709412395954132,
          0.14884334802627563,
          0.2134513109922409,
          0.31550997495651245,
          0.36893129348754883,
          0.37515947222709656,
          0.41817790269851685,
          0.4840720295906067,
          0.5472744107246399,
          0.6268070936203003,
          0.6903325319290161,
          0.7529017925262451,
          0.801105797290802,
          0.8115475177764893,
          0.7648389935493469,
          0.6608444452285767,
          0.5548867583274841,
          0.4880940318107605,
          0.4807282090187073,
          0.4930410087108612,
          0.46825167536735535,
          0.38314536213874817,
          0.29053834080696106,
          0.19688716530799866,
          0.08741677552461624,
          -0.0021127176005393267,
          -0.06199466437101364,
          -0.08218128234148026,
          -0.11433529108762741,
          -0.1959468126296997,
          -0.29606926441192627,
          -0.40554285049438477,
          -0.5085029006004333,
          -0.5790907740592957,
          -0.5892248153686523,
          -0.527962327003479,
          -0.4748486578464508,
          -0.47052255272865295,
          -0.4990592300891876,
          -0.5149421095848083,
          -0.5274538397789001,
          -0.5681564807891846,
          -0.5679470300674438,
          -0.5570084452629089,
          -0.548595666885376,
          -0.5507451295852661,
          -0.5905041098594666,
          -0.6389787197113037,
          -0.6689842343330383,
          -0.67486172914505,
          -0.6482881307601929,
          -0.6002840399742126,
          -0.558573842048645,
          -0.495830774307251,
          -0.39958980679512024,
          -0.30579712986946106,
          -0.21815238893032074,
          -0.15734504163265228,
          -0.16126421093940735,
          -0.18848136067390442,
          -0.2504957914352417,
          -0.34184426069259644,
          -0.40205833315849304,
          -0.4127863943576813,
          -0.38963764905929565,
          -0.36868301033973694,
          -0.33054083585739136,
          -0.30159515142440796,
          -0.30301791429519653,
          -0.29788878560066223,
          -0.23774246871471405,
          -0.13075365126132965,
          -0.03620850667357445,
          0.05529852584004402,
          0.1623871624469757,
          0.22830073535442352,
          0.2598969042301178,
          0.31756365299224854,
          0.40321052074432373,
          0.47904109954833984,
          0.4961734414100647,
          0.48096582293510437,
          0.4402604401111603,
          0.35332679748535156,
          0.2716618776321411,
          0.19779075682163239,
          0.16831326484680176,
          0.1667747050523758,
          0.16374243795871735,
          0.15143708884716034,
          0.09772277623414993,
          0.02620856463909149,
          -0.0747554749250412,
          -0.16192710399627686,
          -0.18647699058055878,
          -0.1418759822845459,
          -0.05032235011458397,
          0.04975593090057373,
          0.15390858054161072,
          0.2393060177564621,
          0.30470964312553406,
          0.3932957053184509,
          0.47255197167396545,
          0.5545174479484558,
          0.6110402941703796,
          0.5719364881515503,
          0.5262590050697327,
          0.4842446744441986,
          0.4341636002063751,
          0.3661133348941803,
          0.26245781779289246,
          0.17612534761428833,
          0.08165481686592102,
          -0.0071396189741790295,
          -0.040169455111026764,
          -0.0004928436828777194,
          0.0689781978726387,
          0.11843700706958771,
          0.15375421941280365,
          0.21911579370498657,
          0.300586074590683,
          0.31245332956314087,
          0.29845061898231506,
          0.27475133538246155,
          0.21659766137599945,
          0.18014323711395264,
          0.2251301109790802,
          0.310329794883728,
          0.32799196243286133,
          0.28518280386924744,
          0.20526565611362457,
          0.10768815129995346,
          0.028870077803730965,
          0.02997404709458351,
          0.06375065445899963,
          0.11131700128316879,
          0.21647845208644867,
          0.31520676612854004,
          0.3869173526763916,
          0.46322470903396606,
          0.5268260836601257,
          0.5192321538925171,
          0.44961512088775635,
          0.3707701563835144,
          0.31225085258483887,
          0.25314927101135254,
          0.16950607299804688,
          0.06347664445638657,
          -0.04473896697163582,
          -0.1474660485982895,
          -0.24160709977149963,
          -0.32191628217697144,
          -0.38584014773368835,
          -0.43990612030029297,
          -0.4618932604789734,
          -0.4392291009426117,
          -0.41247251629829407,
          -0.39393100142478943,
          -0.356804758310318,
          -0.2860685884952545,
          -0.1966567188501358,
          -0.13455422222614288,
          -0.0996810793876648,
          -0.09654261916875839,
          -0.1651683747768402,
          -0.26332658529281616,
          -0.34172531962394714,
          -0.3839617371559143,
          -0.43135473132133484,
          -0.4918937385082245,
          -0.5613536238670349,
          -0.6317773461341858,
          -0.6438614726066589,
          -0.5855109095573425,
          -0.5008158683776855,
          -0.45847588777542114,
          -0.4599389433860779,
          -0.4394255578517914,
          -0.3731670379638672,
          -0.3345471918582916,
          -0.3575647175312042,
          -0.3643205761909485,
          -0.32028189301490784,
          -0.2560182213783264,
          -0.1860814094543457
         ],
         "y": [
          0.08944384008646011,
          0.10456705093383789,
          0.17024515569210052,
          0.1906794309616089,
          0.1639876812696457,
          0.12943466007709503,
          0.0637640431523323,
          -0.021527621895074844,
          -0.11860470473766327,
          -0.20944048464298248,
          -0.2648506462574005,
          -0.27936452627182007,
          -0.2918497622013092,
          -0.28507673740386963,
          -0.27077823877334595,
          -0.31209200620651245,
          -0.38138025999069214,
          -0.3876912295818329,
          -0.3447554111480713,
          -0.33904317021369934,
          -0.35171958804130554,
          -0.3652005195617676,
          -0.32231149077415466,
          -0.24067385494709015,
          -0.16297946870326996,
          -0.07863672822713852,
          -0.042407408356666565,
          -0.07883036136627197,
          -0.14399836957454681,
          -0.22695960104465485,
          -0.3393362760543823,
          -0.4030146598815918,
          -0.4075722396373749,
          -0.38767626881599426,
          -0.3426060378551483,
          -0.304920494556427,
          -0.3397584557533264,
          -0.43014150857925415,
          -0.49113357067108154,
          -0.5468339920043945,
          -0.5995942950248718,
          -0.6133477091789246,
          -0.5824869275093079,
          -0.5003607273101807,
          -0.4002910256385803,
          -0.3079233169555664,
          -0.26188573241233826,
          -0.25327935814857483,
          -0.2662299573421478,
          -0.2974162697792053,
          -0.2956964373588562,
          -0.23207983374595642,
          -0.16765131056308746,
          -0.20861339569091797,
          -0.31893083453178406,
          -0.4208136796951294,
          -0.5054690837860107,
          -0.5816763043403625,
          -0.6429061889648438,
          -0.6283171772956848,
          -0.5356317162513733,
          -0.4276777505874634,
          -0.32994091510772705,
          -0.24732047319412231,
          -0.1769239902496338,
          -0.10948801040649414,
          -0.022452285513281822,
          0.058561962097883224,
          0.07762019336223602,
          0.047900695353746414,
          0.06223253905773163,
          0.07548948377370834,
          0.01412722747772932,
          -0.05512925982475281,
          -0.12811556458473206,
          -0.19802318513393402,
          -0.2813737690448761,
          -0.35651257634162903,
          -0.39373794198036194,
          -0.3781268000602722,
          -0.2979300618171692,
          -0.21146048605442047,
          -0.1640245020389557,
          -0.15537643432617188,
          -0.1477801650762558,
          -0.09617730975151062,
          -0.011854184791445732,
          0.04596942663192749,
          0.045474857091903687,
          -0.011499599553644657,
          -0.07182607054710388,
          -0.09080544859170914,
          -0.13705003261566162,
          -0.2362939566373825,
          -0.32519838213920593,
          -0.3460320234298706,
          -0.2891803979873657,
          -0.19455398619174957,
          -0.10384543240070343,
          -0.048033617436885834,
          -0.04737265780568123,
          -0.09815527498722076,
          -0.1590769737958908,
          -0.23949792981147766,
          -0.34192514419555664,
          -0.4485032558441162,
          -0.5273098945617676,
          -0.5367690920829773,
          -0.5050246119499207,
          -0.4872592091560364,
          -0.4379856586456299,
          -0.34087586402893066,
          -0.25049617886543274,
          -0.22202256321907043,
          -0.26311007142066956,
          -0.2923086881637573,
          -0.29501041769981384,
          -0.31991517543792725,
          -0.3422630727291107,
          -0.3634049892425537,
          -0.40173083543777466,
          -0.36591026186943054,
          -0.27542853355407715,
          -0.20988929271697998,
          -0.13987746834754944,
          -0.06932556629180908,
          -0.029291648417711258,
          -0.00171661248896271,
          0.03076871670782566,
          0.04777258262038231,
          0.09442566335201263,
          0.18980374932289124,
          0.23490019142627716,
          0.24009782075881958,
          0.20724833011627197,
          0.1321128010749817,
          0.08672281354665756,
          0.10720702260732651,
          0.14340580999851227,
          0.12450236082077026,
          0.11353382468223572,
          0.15298992395401,
          0.22412486374378204,
          0.2880399823188782,
          0.34996238350868225,
          0.43252983689308167,
          0.5235256552696228,
          0.5935593843460083,
          0.6418600082397461,
          0.6364655494689941,
          0.5634911060333252,
          0.5230661034584045,
          0.4994216561317444,
          0.479474276304245,
          0.48645931482315063,
          0.47136497497558594,
          0.4434916079044342,
          0.41577982902526855,
          0.4275406301021576,
          0.4919506311416626,
          0.5221216678619385,
          0.5262734293937683,
          0.5622127056121826,
          0.5934078097343445,
          0.5974488854408264,
          0.6110447645187378,
          0.6389402151107788,
          0.68062824010849,
          0.7398400902748108,
          0.8018255233764648,
          0.8200320601463318,
          0.8043843507766724,
          0.8240656852722168,
          0.8155520558357239,
          0.7340626120567322,
          0.6390692591667175,
          0.5568426251411438,
          0.49106502532958984,
          0.45649421215057373,
          0.4639952778816223,
          0.43877360224723816,
          0.40775901079177856,
          0.4316701591014862,
          0.48603880405426025,
          0.5614582896232605,
          0.5862489342689514,
          0.5205937027931213,
          0.43908944725990295,
          0.3610502779483795,
          0.27939823269844055,
          0.2130986601114273,
          0.1721285730600357,
          0.1765373945236206,
          0.20296573638916016,
          0.24594762921333313,
          0.3072813153266907,
          0.3565193712711334,
          0.38340631127357483,
          0.36521443724632263,
          0.29151588678359985,
          0.20925965905189514,
          0.13662992417812347
         ],
         "z": [
          0.0015235014725476503,
          0.0710795670747757,
          0.09527832269668579,
          0.10775916278362274,
          0.17181305587291718,
          0.25904151797294617,
          0.3295414447784424,
          0.38760286569595337,
          0.40765181183815,
          0.3988074064254761,
          0.35320934653282166,
          0.2866070866584778,
          0.21113084256649017,
          0.118867889046669,
          0.02304605208337307,
          -0.07114555686712265,
          -0.1188393384218216,
          -0.08403432369232178,
          0.010931352153420448,
          0.08979623019695282,
          0.13861143589019775,
          0.21721293032169342,
          0.29195544123649597,
          0.3427621126174927,
          0.37634262442588806,
          0.4059906303882599,
          0.39808014035224915,
          0.32434600591659546,
          0.2613222599029541,
          0.22573857009410858,
          0.21586120128631592,
          0.23812969028949738,
          0.28376099467277527,
          0.3111441731452942,
          0.36278802156448364,
          0.4667399227619171,
          0.5568886399269104,
          0.6035128831863403,
          0.6293235421180725,
          0.6511960029602051,
          0.6471812725067139,
          0.6205459833145142,
          0.5739948749542236,
          0.5323333740234375,
          0.496381551027298,
          0.47673922777175903,
          0.5196296572685242,
          0.5649583339691162,
          0.5833212733268738,
          0.5673872232437134,
          0.4916791319847107,
          0.413148432970047,
          0.363716721534729,
          0.33949390053749084,
          0.35640162229537964,
          0.3764967620372772,
          0.3355758488178253,
          0.2634272873401642,
          0.18189090490341187,
          0.0889878049492836,
          0.05014576017856598,
          0.07541888952255249,
          0.12732481956481934,
          0.1928006112575531,
          0.26798728108406067,
          0.26162993907928467,
          0.19765417277812958,
          0.13598664104938507,
          0.04096229374408722,
          -0.05980957671999931,
          -0.10685364156961441,
          -0.1023545116186142,
          -0.1042095422744751,
          -0.09485973417758942,
          -0.04614120349287987,
          0.035280339419841766,
          0.08916141092777252,
          0.09596333652734756,
          0.056425295770168304,
          -0.022591955959796906,
          -0.09327483922243118,
          -0.16275116801261902,
          -0.25753113627433777,
          -0.3622768223285675,
          -0.46794968843460083,
          -0.5594713687896729,
          -0.6350038051605225,
          -0.6825443506240845,
          -0.6896320581436157,
          -0.6998043060302734,
          -0.7226849794387817,
          -0.7305716872215271,
          -0.7516896724700928,
          -0.7612461447715759,
          -0.7238020300865173,
          -0.6834284663200378,
          -0.6310440897941589,
          -0.5984575152397156,
          -0.5542627573013306,
          -0.46954089403152466,
          -0.4312991797924042,
          -0.4718100130558014,
          -0.4946734607219696,
          -0.4560239613056183,
          -0.42063501477241516,
          -0.3966008722782135,
          -0.4287864565849304,
          -0.5200901627540588,
          -0.5995749831199646,
          -0.6324400305747986,
          -0.6293631196022034,
          -0.6529648900032043,
          -0.6742022633552551,
          -0.6509743332862854,
          -0.6201382279396057,
          -0.6053112149238586,
          -0.5551913380622864,
          -0.4689936339855194,
          -0.4081385135650635,
          -0.3392731249332428,
          -0.2930269241333008,
          -0.3135232627391815,
          -0.3260691165924072,
          -0.2672232389450073,
          -0.21297357976436615,
          -0.16044235229492188,
          -0.10843795537948608,
          -0.1295686811208725,
          -0.19298624992370605,
          -0.2363925725221634,
          -0.24025239050388336,
          -0.26780498027801514,
          -0.3362596035003662,
          -0.4231570065021515,
          -0.5031384825706482,
          -0.5789008140563965,
          -0.6449452042579651,
          -0.6335415840148926,
          -0.5463868379592896,
          -0.44185683131217957,
          -0.34325629472732544,
          -0.256570965051651,
          -0.18090961873531342,
          -0.14018131792545319,
          -0.11446288228034973,
          -0.0577113963663578,
          -0.018912438303232193,
          -0.026293694972991943,
          -0.05704766511917114,
          -0.10915915668010712,
          -0.16258665919303894,
          -0.24124476313591003,
          -0.31774985790252686,
          -0.3336116671562195,
          -0.29145777225494385,
          -0.20825226604938507,
          -0.13199588656425476,
          -0.04960951581597328,
          0.04202871769666672,
          0.08896218240261078,
          0.140762597322464,
          0.23718708753585815,
          0.32274213433265686,
          0.3856574296951294,
          0.4170374274253845,
          0.4405893385410309,
          0.479013592004776,
          0.5230984687805176,
          0.5223917961120605,
          0.4549751579761505,
          0.3661012053489685,
          0.2623169422149658,
          0.15920566022396088,
          0.06724066287279129,
          -0.004784636665135622,
          -0.045288439840078354,
          -0.06690087914466858,
          -0.06966770440340042,
          -0.009762750007212162,
          0.09582382440567017,
          0.1859564334154129,
          0.24655179679393768,
          0.2962503135204315,
          0.35284048318862915,
          0.4219105541706085,
          0.5023722648620605,
          0.5387599468231201,
          0.5485315918922424,
          0.5443248748779297,
          0.5708574056625366,
          0.619621753692627,
          0.5830268859863281,
          0.48675402998924255,
          0.37645795941352844,
          0.28021514415740967,
          0.2153976857662201,
          0.1375533789396286,
          0.03129434585571289,
          -0.06791438162326813,
          -0.13172951340675354,
          -0.12197016179561615,
          -0.06899110972881317
         ]
        },
        {
         "line": {
          "color": "darkblue",
          "width": 2
         },
         "marker": {
          "color": [
           0,
           1,
           2,
           3,
           4,
           5,
           6,
           7,
           8,
           9,
           10,
           11,
           12,
           13,
           14,
           15,
           16,
           17,
           18,
           19,
           20,
           21,
           22,
           23,
           24,
           25,
           26,
           27,
           28,
           29,
           30,
           31,
           32,
           33,
           34,
           35,
           36,
           37,
           38,
           39,
           40,
           41,
           42,
           43,
           44,
           45,
           46,
           47,
           48,
           49,
           50,
           51,
           52,
           53,
           54,
           55,
           56,
           57,
           58,
           59,
           60,
           61,
           62,
           63,
           64,
           65,
           66,
           67,
           68,
           69,
           70,
           71,
           72,
           73,
           74,
           75,
           76,
           77,
           78,
           79,
           80,
           81,
           82,
           83,
           84,
           85,
           86,
           87,
           88,
           89,
           90,
           91,
           92,
           93,
           94,
           95,
           96,
           97,
           98,
           99,
           100,
           101,
           102,
           103,
           104,
           105,
           106,
           107,
           108,
           109,
           110,
           111,
           112,
           113,
           114,
           115,
           116,
           117,
           118,
           119,
           120,
           121,
           122,
           123,
           124,
           125,
           126,
           127,
           128,
           129,
           130,
           131,
           132,
           133,
           134,
           135,
           136,
           137,
           138,
           139,
           140,
           141,
           142,
           143,
           144,
           145,
           146,
           147,
           148,
           149,
           150,
           151,
           152,
           153,
           154,
           155,
           156,
           157,
           158,
           159,
           160,
           161,
           162,
           163,
           164,
           165,
           166,
           167,
           168,
           169,
           170,
           171,
           172,
           173,
           174,
           175,
           176,
           177,
           178,
           179,
           180,
           181,
           182,
           183,
           184,
           185,
           186,
           187,
           188,
           189,
           190,
           191,
           192,
           193,
           194,
           195,
           196,
           197,
           198,
           199,
           200,
           201
          ],
          "colorscale": [
           [
            0,
            "#440154"
           ],
           [
            0.1111111111111111,
            "#482878"
           ],
           [
            0.2222222222222222,
            "#3e4989"
           ],
           [
            0.3333333333333333,
            "#31688e"
           ],
           [
            0.4444444444444444,
            "#26828e"
           ],
           [
            0.5555555555555556,
            "#1f9e89"
           ],
           [
            0.6666666666666666,
            "#35b779"
           ],
           [
            0.7777777777777778,
            "#6ece58"
           ],
           [
            0.8888888888888888,
            "#b5de2b"
           ],
           [
            1,
            "#fde725"
           ]
          ],
          "size": 4
         },
         "scene": "scene2",
         "type": "scatter3d",
         "x": [
          -0.18800731987198713,
          -0.13253629001032569,
          -0.03160422797930006,
          0.11218960778754967,
          0.24735584898941862,
          0.3232609820777716,
          0.3662821694870437,
          0.46228054344883895,
          0.3959899560429007,
          0.3598463299627355,
          0.3438050986398444,
          0.258301805998165,
          0.23389434678223428,
          0.20685687060169736,
          0.0428777012032085,
          0.15729959442796443,
          0.2899942169803416,
          0.3355579583354674,
          0.34482312489161837,
          0.3326411455730831,
          0.47911432058651876,
          0.40127125258070234,
          0.3598925561286297,
          0.4159458071780995,
          0.43013248337731785,
          0.6067314228833557,
          0.5151516893602489,
          0.5994041721461981,
          0.6540737589112063,
          0.5980060873792858,
          0.596274317887605,
          0.591961959856167,
          0.5417743036237829,
          0.5826457793148904,
          0.44284533838463486,
          0.4251969144884997,
          0.45678854173458694,
          0.38016865298769226,
          0.28834339066104553,
          0.1944370232255862,
          0.2334259033499225,
          0.015407296957783501,
          -0.0028246316244424268,
          -0.12906803387474294,
          -0.16430647595481934,
          -0.19630512608278947,
          -0.3429918513487796,
          -0.5247492402160776,
          -0.5938913405366776,
          -0.6621283936704744,
          -0.7698324727293226,
          -0.7300355724264234,
          -0.6518387506816425,
          -0.5491698864944553,
          -0.625889262818909,
          -0.6332188362526983,
          -0.7198484536938295,
          -0.6738737347381805,
          -0.7365080538407728,
          -0.744208110482345,
          -0.7269698492453314,
          -0.6408028848748262,
          -0.6303251022451717,
          -0.6964601030497015,
          -0.6241278550454614,
          -0.7522436028055631,
          -0.7329388281572815,
          -0.7213196672427346,
          -0.6512391220143797,
          -0.626794874980605,
          -0.5887079399636933,
          -0.5059555935632108,
          -0.361760043101749,
          -0.25809669333798496,
          -0.18091078723976958,
          -0.16107353995219667,
          -0.15865774334274008,
          -0.27869316533098254,
          -0.4187908512461063,
          -0.5184904698160346,
          -0.43145205276952836,
          -0.45648011232247915,
          -0.38966582849669257,
          -0.2758827106472149,
          -0.3174467776269998,
          -0.17396665551322435,
          -0.24656803593298054,
          -0.07470344886378988,
          -0.039687275259072195,
          0.01762359714650242,
          0.01867787893999889,
          0.08556948364934659,
          0.03774186662082096,
          0.22465700867382293,
          0.2715288021635555,
          0.30153509413459284,
          0.3484974546578345,
          0.4528781301394118,
          0.38299367741948076,
          0.347382481864829,
          0.2586122176092735,
          0.17150584299882063,
          0.08107906505169313,
          0.13966455561617996,
          0.17727001710709386,
          0.3017479194784964,
          0.2791676239990482,
          0.2869950327015314,
          0.20261292887333832,
          0.13726256170512538,
          0.1661996915586091,
          0.06578044345507392,
          -0.06438394598282941,
          0.08499690151406067,
          0.0360535026704093,
          0.11864148016886886,
          0.14098370529674292,
          0.2571790086092386,
          0.38197626809979035,
          0.47129829253231365,
          0.5718622805542982,
          0.5509035670361332,
          0.5685659188652822,
          0.5336344021592553,
          0.4625429559325938,
          0.4292530774381111,
          0.3415859571281995,
          0.2311397357412066,
          0.18883464969339292,
          0.11542052322299326,
          0.08507111873915689,
          0.08112177129572731,
          0.15361435740833113,
          0.17988275889136332,
          0.25714813014705806,
          0.23470702907019061,
          0.2705075634914121,
          0.3563917075756768,
          0.34757055173712237,
          0.27258459118263806,
          0.20050861653859378,
          0.21089646916873828,
          0.21040976398609362,
          0.32268547505716816,
          0.4081865504199571,
          0.41670182101602504,
          0.33332193206257354,
          0.29331892303816975,
          0.17871089355407754,
          0.1148005533646373,
          0.1500815041787069,
          0.20519672977291067,
          0.31596288205948037,
          0.363939644899316,
          0.4485186064589314,
          0.46230024537257314,
          0.5292886316995776,
          0.5946904720490276,
          0.5266396016286479,
          0.45924881158571607,
          0.3776395889143477,
          0.3342322993818012,
          0.20531011578407354,
          0.18783490451883786,
          0.06891554339436794,
          -0.012716794750031608,
          -0.12425762656809242,
          -0.1433808753980093,
          -0.2217801114389449,
          -0.20503121572612418,
          -0.2383053618686742,
          -0.22182236762473187,
          -0.2692663215239405,
          -0.1709172933985552,
          -0.21461318942652183,
          -0.2961797314410867,
          -0.2109909395459936,
          -0.23249232828455155,
          -0.22109727948862823,
          -0.18258779369240072,
          -0.22951196789273898,
          -0.25907799312297014,
          -0.2920719008030545,
          -0.3342098517294125,
          -0.30826246404276614,
          -0.3418872227974993,
          -0.3861408769521922,
          -0.46052053661195563,
          -0.5909461216664951,
          -0.6682382552612119,
          -0.6385757866085038,
          -0.6049747892495423,
          -0.5704328993717599,
          -0.5907400792945741,
          -0.506030263029835,
          -0.4441545363680723,
          -0.40246984695262433,
          -0.38081585264086787,
          -0.44826069827819975,
          -0.435953894518621,
          -0.3773534181032802,
          -0.27854001553376057
         ],
         "y": [
          0.109970005437556,
          0.14003726979769257,
          0.19802410814752788,
          0.2186819080461205,
          0.17678564769085156,
          0.16294061257306167,
          0.06649756845057046,
          -0.04251862995756162,
          -0.10009197976638408,
          -0.17403743006884417,
          -0.1912141792768982,
          -0.15741144043732275,
          -0.17143363883452417,
          -0.1727461315747098,
          -0.2554103874896273,
          -0.174712923521284,
          -0.2717742801997275,
          -0.20418240312873556,
          -0.1960736020398598,
          -0.17074015929280767,
          -0.1863169524446289,
          -0.25762556137660814,
          -0.16033791818231283,
          -0.18992671678037093,
          -0.11753386170032579,
          -0.09038257809456579,
          -0.07707055603748436,
          -0.08201227972264885,
          -0.17739502626435033,
          -0.2734021092248347,
          -0.35946837409821303,
          -0.40349513257037706,
          -0.3218105060820994,
          -0.27829327258655945,
          -0.26434778483389565,
          -0.2544943729996456,
          -0.22834591218567402,
          -0.3502183788724519,
          -0.45721252478575786,
          -0.46141830377527177,
          -0.6299973270695962,
          -0.6547809858007402,
          -0.5597296030353724,
          -0.4908672041824981,
          -0.3809999066223725,
          -0.27737537098385573,
          -0.29462898498692425,
          -0.21004114957239473,
          -0.31615470552325364,
          -0.36691397973259343,
          -0.3330431460632367,
          -0.3270136350764216,
          -0.2867650148973541,
          -0.3284723365533916,
          -0.37119467463544786,
          -0.45776188276651447,
          -0.5117552164580393,
          -0.5761347205267446,
          -0.5948595504516316,
          -0.5718925905324669,
          -0.4954043224186018,
          -0.4951806407251177,
          -0.35149250508280444,
          -0.358538391976574,
          -0.4177289841607107,
          -0.28978342875309926,
          -0.18878303204814317,
          -0.12735921649422233,
          -0.10363657798316707,
          -0.12698792022770533,
          -0.16018393017425905,
          -0.02008371270436095,
          -0.08085206228527685,
          -0.11412238614524217,
          -0.15300421994631064,
          -0.22784806117951345,
          -0.31532094412937295,
          -0.43377567646324366,
          -0.4312770799094655,
          -0.37738555697815596,
          -0.41765645801440193,
          -0.32025967947461365,
          -0.2649332198154611,
          -0.2769629580176526,
          -0.2184577571455956,
          -0.19432293424785316,
          -0.20320966507734947,
          -0.16982954781649054,
          -0.14257375464369992,
          -0.12111548776790618,
          -0.16065200307592917,
          -0.20907054045081724,
          -0.25749262281699253,
          -0.2895558084448063,
          -0.3626258606247246,
          -0.35280571143069545,
          -0.3442656126772842,
          -0.2042218944520997,
          -0.13675661390940202,
          -0.005159884514212966,
          0.01635875387743604,
          -0.03536625130663295,
          -0.09782528852791546,
          -0.14693855478722115,
          -0.18893882458779873,
          -0.28794823303481487,
          -0.33375328214459293,
          -0.4089642532572013,
          -0.39575282664893385,
          -0.3844340484229702,
          -0.40813208740469553,
          -0.35030682548224884,
          -0.2920492375739439,
          -0.24648827994930625,
          -0.24921579049826365,
          -0.21331736416215574,
          -0.2523739083587328,
          -0.20709611397539085,
          -0.20921417394443995,
          -0.2215233240625477,
          -0.2681000388859251,
          -0.24507223652316198,
          -0.13650994609217598,
          -0.13728412298210813,
          -0.03164559875569438,
          0.028230789019766896,
          0.057557294809927356,
          0.06660176944697116,
          0.1009746138644854,
          0.1006232883759213,
          0.09886896512226098,
          0.16268915776120202,
          0.18544689880914536,
          0.1880715581853478,
          0.15148057873193915,
          0.06600732121717645,
          0.007708447623681538,
          0.01848978522677444,
          0.09548806407161198,
          0.13407768295161687,
          0.1690793044087214,
          0.14898705674669455,
          0.2484048997172755,
          0.28200350740609165,
          0.3663309024848336,
          0.41934582207471527,
          0.4953709974156765,
          0.5547638837168526,
          0.5826987852220548,
          0.5825227431223701,
          0.5389017446291432,
          0.48679484987191923,
          0.46215529627669366,
          0.4373789425657322,
          0.43818443559106307,
          0.4885054983776285,
          0.42662916211869056,
          0.42267593051156827,
          0.4258145226718348,
          0.4869371126221542,
          0.518448807099429,
          0.5109998825332579,
          0.5687926172551944,
          0.5789481986853405,
          0.58722273328379,
          0.5965884673342935,
          0.657920488138428,
          0.7209389384785508,
          0.7846145543138018,
          0.8593378734566088,
          0.7984477001749979,
          0.8087339442646587,
          0.7640116641897952,
          0.7685429830992172,
          0.6730137280017847,
          0.5630027838653552,
          0.5309069568509063,
          0.4544761581629002,
          0.4226123826325973,
          0.4255169666883046,
          0.44010728784504,
          0.37947774664323974,
          0.4504820748817934,
          0.4710317741511751,
          0.5623007382217201,
          0.5987114251495538,
          0.6121902173378202,
          0.5583325159668797,
          0.5107940842932973,
          0.4275996923167045,
          0.36149822693236633,
          0.2959015663846511,
          0.20872173357586235,
          0.17749929127098224,
          0.20913208119696725,
          0.28047283324740546,
          0.2915750287646697,
          0.3442756742337462,
          0.27430007968252973,
          0.1898128272786831,
          0.13818849828268046,
          0.09218650275851364
         ],
         "z": [
          0.009061989320552714,
          0.049502567547578175,
          0.0663970566281516,
          0.047362116207251094,
          0.16877988641572628,
          0.21928063834258119,
          0.33458415810735903,
          0.33070560381519615,
          0.38394396244713214,
          0.3816843060394097,
          0.29250079096363857,
          0.2463450047711818,
          0.19938454526671967,
          0.032195935465083654,
          0.05810368217745923,
          -0.06166370414462609,
          -0.15096142845324717,
          -0.09664546772011563,
          -0.05169587108644535,
          0.06340200846525927,
          0.07898113949055059,
          0.22301949871476892,
          0.33714010793145593,
          0.3495598935312719,
          0.4394300283131842,
          0.3603138316013661,
          0.5137921821395262,
          0.38965747592187006,
          0.38395126693813,
          0.3933078775583969,
          0.3947156331716219,
          0.4156070975339124,
          0.3751646661740412,
          0.34715169400531537,
          0.43541746219036054,
          0.4577873989337885,
          0.5472216991901984,
          0.6035666378637733,
          0.5824644304446106,
          0.6530037232530798,
          0.5009663754532494,
          0.531765597522786,
          0.5694844524316436,
          0.5807948284304636,
          0.5593689155997698,
          0.5169100354710217,
          0.5609711685610764,
          0.5784827774006318,
          0.5765838979228343,
          0.5417358337122871,
          0.48736465878126745,
          0.41715470604555654,
          0.3877323215114187,
          0.377396400166033,
          0.4070889682463432,
          0.4068003516266631,
          0.38424318399838314,
          0.38326778580148757,
          0.3220217454031417,
          0.2796151256966656,
          0.188864688831239,
          0.17436281753322289,
          0.2457515543221257,
          0.2910575643216701,
          0.24013899860317955,
          0.2972837507021593,
          0.23373989930361203,
          0.24185759517059413,
          0.1395380170417496,
          0.13823069619764494,
          0.04271553417732888,
          0.08722213656388136,
          -0.06504333918223879,
          -0.06527634130523084,
          -0.0435016476414432,
          -0.006681185418503781,
          0.1204043838070431,
          0.10656388890547147,
          0.08704452418540332,
          0.10394342492585978,
          -0.09943935766905466,
          -0.07996822369513093,
          -0.1806748685313806,
          -0.3588461201015966,
          -0.45523219981010743,
          -0.5376797932782426,
          -0.6617344263124805,
          -0.6550549488918931,
          -0.6674533624682384,
          -0.6971074457144876,
          -0.703987597828142,
          -0.7433796836418531,
          -0.7393128516544372,
          -0.8357314950301032,
          -0.7722040760905007,
          -0.7930338118995927,
          -0.7916596467712956,
          -0.6323536292337558,
          -0.6553809933958269,
          -0.4795201111834248,
          -0.4483977058104278,
          -0.47868027724955187,
          -0.5326020314629679,
          -0.5084035183663185,
          -0.49882913038225285,
          -0.49617441007635454,
          -0.6224471272239207,
          -0.6693198164424606,
          -0.7640758875466132,
          -0.7388686756676025,
          -0.734675357120412,
          -0.7576746361095693,
          -0.7490461358629146,
          -0.6871659159154051,
          -0.6574967801896975,
          -0.6444906166014914,
          -0.6486271980351553,
          -0.5765524726919873,
          -0.5683908635501247,
          -0.5121425219731334,
          -0.5352290292937165,
          -0.5307632325343165,
          -0.48470354426514284,
          -0.41191012240986746,
          -0.30496143589133395,
          -0.23590228630374152,
          -0.2111688730971147,
          -0.22062962717556964,
          -0.2808548564334221,
          -0.29444616093128984,
          -0.2729888032149716,
          -0.29988274832025696,
          -0.3454803303703526,
          -0.38619882535354116,
          -0.43777714232937787,
          -0.5169898475863579,
          -0.6008395428953424,
          -0.5584975785181114,
          -0.5075952354917224,
          -0.42646941759540236,
          -0.39326097913465025,
          -0.32686749983033325,
          -0.24786228384183936,
          -0.1875654837989542,
          -0.12005925702961774,
          -0.09241932800887946,
          -0.025128551576042654,
          -0.01762219323592389,
          -0.022008270787958993,
          -0.016187931722060286,
          -0.09789009875241056,
          -0.1797045847323399,
          -0.24069075657192007,
          -0.28914042568765363,
          -0.23724917308798427,
          -0.22932021987716933,
          -0.17615089841618714,
          -0.043478651307687986,
          0.019645374269049144,
          0.056364177733204984,
          0.05094456558023496,
          0.1593201801882824,
          0.2576983121833853,
          0.28784184473827873,
          0.3210947466225819,
          0.3304733294278342,
          0.3690786933345994,
          0.3859708528865134,
          0.4075595402863598,
          0.33729565072966433,
          0.4039985454534795,
          0.337463891748045,
          0.2787732218002397,
          0.27404501196861997,
          0.19326009205886405,
          0.17674323155112628,
          0.1382814071862203,
          0.06249757695309575,
          0.0491673100883359,
          0.10154809185875961,
          0.20465812339041234,
          0.24402087282297832,
          0.293413128556731,
          0.3536629055302693,
          0.39030318818337084,
          0.49666740346339133,
          0.5270150148749184,
          0.5244220734451105,
          0.5354895799521583,
          0.5391374089710065,
          0.5705841150263135,
          0.4951455360643954,
          0.4100305874256269,
          0.374241719995177,
          0.3082988131119212,
          0.23822863400784505,
          0.2208194588415394,
          0.15302021475465838,
          0.07179278420776306,
          0.005599176600828326,
          -0.007635939773503644,
          -0.039753141606454497
         ]
        }
       ],
       "layout": {
        "height": 1000,
        "scene": {
         "domain": {
          "x": [
           0,
           0.45
          ],
          "y": [
           0,
           1
          ]
         }
        },
        "scene2": {
         "domain": {
          "x": [
           0.55,
           1
          ],
          "y": [
           0,
           1
          ]
         }
        },
        "template": {
         "data": {
          "bar": [
           {
            "error_x": {
             "color": "#2a3f5f"
            },
            "error_y": {
             "color": "#2a3f5f"
            },
            "marker": {
             "line": {
              "color": "#E5ECF6",
              "width": 0.5
             }
            },
            "type": "bar"
           }
          ],
          "barpolar": [
           {
            "marker": {
             "line": {
              "color": "#E5ECF6",
              "width": 0.5
             }
            },
            "type": "barpolar"
           }
          ],
          "carpet": [
           {
            "aaxis": {
             "endlinecolor": "#2a3f5f",
             "gridcolor": "white",
             "linecolor": "white",
             "minorgridcolor": "white",
             "startlinecolor": "#2a3f5f"
            },
            "baxis": {
             "endlinecolor": "#2a3f5f",
             "gridcolor": "white",
             "linecolor": "white",
             "minorgridcolor": "white",
             "startlinecolor": "#2a3f5f"
            },
            "type": "carpet"
           }
          ],
          "choropleth": [
           {
            "colorbar": {
             "outlinewidth": 0,
             "ticks": ""
            },
            "type": "choropleth"
           }
          ],
          "contour": [
           {
            "colorbar": {
             "outlinewidth": 0,
             "ticks": ""
            },
            "colorscale": [
             [
              0,
              "#0d0887"
             ],
             [
              0.1111111111111111,
              "#46039f"
             ],
             [
              0.2222222222222222,
              "#7201a8"
             ],
             [
              0.3333333333333333,
              "#9c179e"
             ],
             [
              0.4444444444444444,
              "#bd3786"
             ],
             [
              0.5555555555555556,
              "#d8576b"
             ],
             [
              0.6666666666666666,
              "#ed7953"
             ],
             [
              0.7777777777777778,
              "#fb9f3a"
             ],
             [
              0.8888888888888888,
              "#fdca26"
             ],
             [
              1,
              "#f0f921"
             ]
            ],
            "type": "contour"
           }
          ],
          "contourcarpet": [
           {
            "colorbar": {
             "outlinewidth": 0,
             "ticks": ""
            },
            "type": "contourcarpet"
           }
          ],
          "heatmap": [
           {
            "colorbar": {
             "outlinewidth": 0,
             "ticks": ""
            },
            "colorscale": [
             [
              0,
              "#0d0887"
             ],
             [
              0.1111111111111111,
              "#46039f"
             ],
             [
              0.2222222222222222,
              "#7201a8"
             ],
             [
              0.3333333333333333,
              "#9c179e"
             ],
             [
              0.4444444444444444,
              "#bd3786"
             ],
             [
              0.5555555555555556,
              "#d8576b"
             ],
             [
              0.6666666666666666,
              "#ed7953"
             ],
             [
              0.7777777777777778,
              "#fb9f3a"
             ],
             [
              0.8888888888888888,
              "#fdca26"
             ],
             [
              1,
              "#f0f921"
             ]
            ],
            "type": "heatmap"
           }
          ],
          "heatmapgl": [
           {
            "colorbar": {
             "outlinewidth": 0,
             "ticks": ""
            },
            "colorscale": [
             [
              0,
              "#0d0887"
             ],
             [
              0.1111111111111111,
              "#46039f"
             ],
             [
              0.2222222222222222,
              "#7201a8"
             ],
             [
              0.3333333333333333,
              "#9c179e"
             ],
             [
              0.4444444444444444,
              "#bd3786"
             ],
             [
              0.5555555555555556,
              "#d8576b"
             ],
             [
              0.6666666666666666,
              "#ed7953"
             ],
             [
              0.7777777777777778,
              "#fb9f3a"
             ],
             [
              0.8888888888888888,
              "#fdca26"
             ],
             [
              1,
              "#f0f921"
             ]
            ],
            "type": "heatmapgl"
           }
          ],
          "histogram": [
           {
            "marker": {
             "colorbar": {
              "outlinewidth": 0,
              "ticks": ""
             }
            },
            "type": "histogram"
           }
          ],
          "histogram2d": [
           {
            "colorbar": {
             "outlinewidth": 0,
             "ticks": ""
            },
            "colorscale": [
             [
              0,
              "#0d0887"
             ],
             [
              0.1111111111111111,
              "#46039f"
             ],
             [
              0.2222222222222222,
              "#7201a8"
             ],
             [
              0.3333333333333333,
              "#9c179e"
             ],
             [
              0.4444444444444444,
              "#bd3786"
             ],
             [
              0.5555555555555556,
              "#d8576b"
             ],
             [
              0.6666666666666666,
              "#ed7953"
             ],
             [
              0.7777777777777778,
              "#fb9f3a"
             ],
             [
              0.8888888888888888,
              "#fdca26"
             ],
             [
              1,
              "#f0f921"
             ]
            ],
            "type": "histogram2d"
           }
          ],
          "histogram2dcontour": [
           {
            "colorbar": {
             "outlinewidth": 0,
             "ticks": ""
            },
            "colorscale": [
             [
              0,
              "#0d0887"
             ],
             [
              0.1111111111111111,
              "#46039f"
             ],
             [
              0.2222222222222222,
              "#7201a8"
             ],
             [
              0.3333333333333333,
              "#9c179e"
             ],
             [
              0.4444444444444444,
              "#bd3786"
             ],
             [
              0.5555555555555556,
              "#d8576b"
             ],
             [
              0.6666666666666666,
              "#ed7953"
             ],
             [
              0.7777777777777778,
              "#fb9f3a"
             ],
             [
              0.8888888888888888,
              "#fdca26"
             ],
             [
              1,
              "#f0f921"
             ]
            ],
            "type": "histogram2dcontour"
           }
          ],
          "mesh3d": [
           {
            "colorbar": {
             "outlinewidth": 0,
             "ticks": ""
            },
            "type": "mesh3d"
           }
          ],
          "parcoords": [
           {
            "line": {
             "colorbar": {
              "outlinewidth": 0,
              "ticks": ""
             }
            },
            "type": "parcoords"
           }
          ],
          "pie": [
           {
            "automargin": true,
            "type": "pie"
           }
          ],
          "scatter": [
           {
            "marker": {
             "colorbar": {
              "outlinewidth": 0,
              "ticks": ""
             }
            },
            "type": "scatter"
           }
          ],
          "scatter3d": [
           {
            "line": {
             "colorbar": {
              "outlinewidth": 0,
              "ticks": ""
             }
            },
            "marker": {
             "colorbar": {
              "outlinewidth": 0,
              "ticks": ""
             }
            },
            "type": "scatter3d"
           }
          ],
          "scattercarpet": [
           {
            "marker": {
             "colorbar": {
              "outlinewidth": 0,
              "ticks": ""
             }
            },
            "type": "scattercarpet"
           }
          ],
          "scattergeo": [
           {
            "marker": {
             "colorbar": {
              "outlinewidth": 0,
              "ticks": ""
             }
            },
            "type": "scattergeo"
           }
          ],
          "scattergl": [
           {
            "marker": {
             "colorbar": {
              "outlinewidth": 0,
              "ticks": ""
             }
            },
            "type": "scattergl"
           }
          ],
          "scattermapbox": [
           {
            "marker": {
             "colorbar": {
              "outlinewidth": 0,
              "ticks": ""
             }
            },
            "type": "scattermapbox"
           }
          ],
          "scatterpolar": [
           {
            "marker": {
             "colorbar": {
              "outlinewidth": 0,
              "ticks": ""
             }
            },
            "type": "scatterpolar"
           }
          ],
          "scatterpolargl": [
           {
            "marker": {
             "colorbar": {
              "outlinewidth": 0,
              "ticks": ""
             }
            },
            "type": "scatterpolargl"
           }
          ],
          "scatterternary": [
           {
            "marker": {
             "colorbar": {
              "outlinewidth": 0,
              "ticks": ""
             }
            },
            "type": "scatterternary"
           }
          ],
          "surface": [
           {
            "colorbar": {
             "outlinewidth": 0,
             "ticks": ""
            },
            "colorscale": [
             [
              0,
              "#0d0887"
             ],
             [
              0.1111111111111111,
              "#46039f"
             ],
             [
              0.2222222222222222,
              "#7201a8"
             ],
             [
              0.3333333333333333,
              "#9c179e"
             ],
             [
              0.4444444444444444,
              "#bd3786"
             ],
             [
              0.5555555555555556,
              "#d8576b"
             ],
             [
              0.6666666666666666,
              "#ed7953"
             ],
             [
              0.7777777777777778,
              "#fb9f3a"
             ],
             [
              0.8888888888888888,
              "#fdca26"
             ],
             [
              1,
              "#f0f921"
             ]
            ],
            "type": "surface"
           }
          ],
          "table": [
           {
            "cells": {
             "fill": {
              "color": "#EBF0F8"
             },
             "line": {
              "color": "white"
             }
            },
            "header": {
             "fill": {
              "color": "#C8D4E3"
             },
             "line": {
              "color": "white"
             }
            },
            "type": "table"
           }
          ]
         },
         "layout": {
          "annotationdefaults": {
           "arrowcolor": "#2a3f5f",
           "arrowhead": 0,
           "arrowwidth": 1
          },
          "autotypenumbers": "strict",
          "coloraxis": {
           "colorbar": {
            "outlinewidth": 0,
            "ticks": ""
           }
          },
          "colorscale": {
           "diverging": [
            [
             0,
             "#8e0152"
            ],
            [
             0.1,
             "#c51b7d"
            ],
            [
             0.2,
             "#de77ae"
            ],
            [
             0.3,
             "#f1b6da"
            ],
            [
             0.4,
             "#fde0ef"
            ],
            [
             0.5,
             "#f7f7f7"
            ],
            [
             0.6,
             "#e6f5d0"
            ],
            [
             0.7,
             "#b8e186"
            ],
            [
             0.8,
             "#7fbc41"
            ],
            [
             0.9,
             "#4d9221"
            ],
            [
             1,
             "#276419"
            ]
           ],
           "sequential": [
            [
             0,
             "#0d0887"
            ],
            [
             0.1111111111111111,
             "#46039f"
            ],
            [
             0.2222222222222222,
             "#7201a8"
            ],
            [
             0.3333333333333333,
             "#9c179e"
            ],
            [
             0.4444444444444444,
             "#bd3786"
            ],
            [
             0.5555555555555556,
             "#d8576b"
            ],
            [
             0.6666666666666666,
             "#ed7953"
            ],
            [
             0.7777777777777778,
             "#fb9f3a"
            ],
            [
             0.8888888888888888,
             "#fdca26"
            ],
            [
             1,
             "#f0f921"
            ]
           ],
           "sequentialminus": [
            [
             0,
             "#0d0887"
            ],
            [
             0.1111111111111111,
             "#46039f"
            ],
            [
             0.2222222222222222,
             "#7201a8"
            ],
            [
             0.3333333333333333,
             "#9c179e"
            ],
            [
             0.4444444444444444,
             "#bd3786"
            ],
            [
             0.5555555555555556,
             "#d8576b"
            ],
            [
             0.6666666666666666,
             "#ed7953"
            ],
            [
             0.7777777777777778,
             "#fb9f3a"
            ],
            [
             0.8888888888888888,
             "#fdca26"
            ],
            [
             1,
             "#f0f921"
            ]
           ]
          },
          "colorway": [
           "#636efa",
           "#EF553B",
           "#00cc96",
           "#ab63fa",
           "#FFA15A",
           "#19d3f3",
           "#FF6692",
           "#B6E880",
           "#FF97FF",
           "#FECB52"
          ],
          "font": {
           "color": "#2a3f5f"
          },
          "geo": {
           "bgcolor": "white",
           "lakecolor": "white",
           "landcolor": "#E5ECF6",
           "showlakes": true,
           "showland": true,
           "subunitcolor": "white"
          },
          "hoverlabel": {
           "align": "left"
          },
          "hovermode": "closest",
          "mapbox": {
           "style": "light"
          },
          "paper_bgcolor": "white",
          "plot_bgcolor": "#E5ECF6",
          "polar": {
           "angularaxis": {
            "gridcolor": "white",
            "linecolor": "white",
            "ticks": ""
           },
           "bgcolor": "#E5ECF6",
           "radialaxis": {
            "gridcolor": "white",
            "linecolor": "white",
            "ticks": ""
           }
          },
          "scene": {
           "xaxis": {
            "backgroundcolor": "#E5ECF6",
            "gridcolor": "white",
            "gridwidth": 2,
            "linecolor": "white",
            "showbackground": true,
            "ticks": "",
            "zerolinecolor": "white"
           },
           "yaxis": {
            "backgroundcolor": "#E5ECF6",
            "gridcolor": "white",
            "gridwidth": 2,
            "linecolor": "white",
            "showbackground": true,
            "ticks": "",
            "zerolinecolor": "white"
           },
           "zaxis": {
            "backgroundcolor": "#E5ECF6",
            "gridcolor": "white",
            "gridwidth": 2,
            "linecolor": "white",
            "showbackground": true,
            "ticks": "",
            "zerolinecolor": "white"
           }
          },
          "shapedefaults": {
           "line": {
            "color": "#2a3f5f"
           }
          },
          "ternary": {
           "aaxis": {
            "gridcolor": "white",
            "linecolor": "white",
            "ticks": ""
           },
           "baxis": {
            "gridcolor": "white",
            "linecolor": "white",
            "ticks": ""
           },
           "bgcolor": "#E5ECF6",
           "caxis": {
            "gridcolor": "white",
            "linecolor": "white",
            "ticks": ""
           }
          },
          "title": {
           "x": 0.05
          },
          "xaxis": {
           "automargin": true,
           "gridcolor": "white",
           "linecolor": "white",
           "ticks": "",
           "title": {
            "standoff": 15
           },
           "zerolinecolor": "white",
           "zerolinewidth": 2
          },
          "yaxis": {
           "automargin": true,
           "gridcolor": "white",
           "linecolor": "white",
           "ticks": "",
           "title": {
            "standoff": 15
           },
           "zerolinecolor": "white",
           "zerolinewidth": 2
          }
         }
        },
        "width": 1300
       }
      }
     },
     "metadata": {},
     "output_type": "display_data"
    },
    {
     "name": "stdout",
     "output_type": "stream",
     "text": [
      "Kabsch distance is 0.02629470898870716\n"
     ]
    },
    {
     "data": {
      "text/plain": [
       "<Figure size 50000x50000 with 0 Axes>"
      ]
     },
     "metadata": {},
     "output_type": "display_data"
    }
   ],
   "source": [
    "# Trussart perfect structure\n",
    "trussart_true_structure = np.mean(trussart_structures, axis=0)\n",
    "\n",
    "# Trussart predicted structure\n",
    "torch_trussart_hic = torch.FloatTensor(trussart_hic)\n",
    "torch_trussart_hic = torch.reshape(torch_trussart_hic, (1, NB_BINS, NB_BINS))\n",
    "torch_trussart_hic = torch.repeat_interleave(torch_trussart_hic, BATCH_SIZE, 0)\n",
    "\n",
    "trussart_pred_structure, trussart_pred_distance, trussart_pred_logits = model(torch_trussart_hic)\n",
    "trussart_pred_structure = trussart_pred_structure.detach().numpy()[0]\n",
    "\n",
    "# Superpose structure using Kabsch algorithm\n",
    "trussart_pred_structure_superposed, trussart_true_structure_superposed = \\\n",
    "        kabsch_superimposition_numpy(trussart_pred_structure, trussart_true_structure, EMBEDDING_SIZE)\n",
    "\n",
    "# Plot and compare the two structures\n",
    "x_pred = trussart_pred_structure_superposed[:, 0]  \n",
    "y_pred = trussart_pred_structure_superposed[:, 1]\n",
    "z_pred = trussart_pred_structure_superposed[:, 2]\n",
    "\n",
    "x_true = trussart_true_structure_superposed[:, 0]  \n",
    "y_true = trussart_true_structure_superposed[:, 1]\n",
    "z_true = trussart_true_structure_superposed[:, 2]\n",
    "\n",
    "colorscale1 = np.asarray(range(len(x_true)))\n",
    "colorscale2 = np.asarray(range(len(x_pred)))\n",
    "color1 = 'Viridis'\n",
    "color2 = 'Viridis'\n",
    "\n",
    "plot_true_pred_structures(x_pred, y_pred, z_pred, x_true, y_true, z_true, colorscale1, colorscale2, color1, color2)\n",
    "\n",
    "# Shape comparison\n",
    "print('Kabsch distance is ' + str(kabsch_distance_numpy(trussart_pred_structure, trussart_true_structure, EMBEDDING_SIZE)))"
   ]
  },
  {
   "cell_type": "code",
   "execution_count": 22,
   "metadata": {},
   "outputs": [
    {
     "name": "stdout",
     "output_type": "stream",
     "text": [
      "88.76820159107015\n",
      "tensor(0.8873, dtype=torch.float64)\n"
     ]
    }
   ],
   "source": [
    "confidence_metrics, pLLDTs = get_confidence_metrics(trussart_pred_logits.detach().numpy()[0])\n",
    "print(confidence_metrics)\n",
    "\n",
    "value = lddt(torch.from_numpy(trussart_pred_structure_superposed).unsqueeze(0),torch.from_numpy(trussart_true_structure_superposed).unsqueeze(0), per_residue=True)\n",
    "print(torch.mean(value))\n",
    "\n",
    "#print(pLLDTs)\n",
    "#print(value)"
   ]
  },
  {
   "cell_type": "code",
   "execution_count": 23,
   "metadata": {},
   "outputs": [
    {
     "data": {
      "application/vnd.plotly.v1+json": {
       "config": {
        "plotlyServerURL": "https://plot.ly"
       },
       "data": [
        {
         "line": {
          "color": "darkblue",
          "width": 2
         },
         "marker": {
          "color": [
           86.55660294741394,
           87.06894228399324,
           87.87948030172265,
           88.4966382879793,
           89.90612596740903,
           90.51468753489644,
           91.03590450557931,
           91.26182029803431,
           91.15652167803091,
           90.89629055053867,
           90.38900147315871,
           89.71893691709556,
           89.30586237765966,
           88.58681290940876,
           88.13568785061217,
           88.06738593033513,
           88.63202332342372,
           88.78249020921247,
           88.9334483614057,
           89.35578291023192,
           90.17271553276942,
           90.27550143811186,
           90.7173716986872,
           90.98107432981033,
           91.48382463243252,
           91.74050923756101,
           92.01538745308336,
           91.82149059321091,
           91.85376080988217,
           91.66601733962739,
           91.58744198556886,
           91.60956589446573,
           91.38942578394108,
           91.45745600848024,
           91.35395753241026,
           91.39417026897081,
           91.84275701550678,
           91.73654179384675,
           91.65546869058745,
           91.64210850150084,
           91.61087324683196,
           91.18093864537606,
           91.0448242206485,
           90.52461999617846,
           90.01523742324208,
           89.39407449387727,
           89.07365711174862,
           88.1082489074397,
           88.15968027903,
           87.84561495656817,
           86.9250814517727,
           86.69001194891462,
           86.74294490515604,
           87.31829512511467,
           87.28401026637586,
           87.56051469258091,
           87.23075437727675,
           87.66805367500638,
           87.10625343397986,
           86.7444980788132,
           86.54816909327928,
           86.54816909327928,
           86.54816909327928,
           86.54816909327928,
           86.54816909327928,
           86.54816909327928,
           86.54816909327928,
           86.54816909327928,
           86.54816909327928,
           86.54816909327928,
           86.54816909327928,
           86.54816909327928,
           86.54816909327928,
           86.54816909327928,
           86.54816909327928,
           86.59235246364551,
           87.63871309758544,
           87.43752093781951,
           86.66263623998384,
           86.54816909327928,
           86.54816909327928,
           86.54816909327928,
           86.54816909327928,
           87.14676188770683,
           87.22555508168443,
           87.57463007645858,
           87.65520299393212,
           87.80982129530275,
           87.84324262121845,
           87.91026510054964,
           87.9294643378471,
           88.02164355140847,
           87.99979008966967,
           88.1811832720382,
           88.1849628561099,
           88.20975837097194,
           88.23040170443505,
           88.16587648615632,
           88.12626574373644,
           88.41480021802637,
           88.23297722262942,
           87.80826086862909,
           87.80277032520462,
           87.8495422117594,
           87.88669918022242,
           88.00704414740267,
           88.09203000478692,
           88.14333051763742,
           88.15088448786992,
           88.09567273228959,
           88.11544705422511,
           88.0561763003343,
           87.944541338803,
           87.98993902349866,
           87.9316082868754,
           87.9711911924087,
           88.0011383153078,
           88.01390554800582,
           88.08768564273669,
           88.17031334114472,
           88.49784267187647,
           88.4046758330619,
           88.75279829434044,
           88.8051726255162,
           88.95396181313482,
           89.10943198536097,
           88.75975933432801,
           88.31335717131697,
           88.32033900339046,
           88.04888438908166,
           87.90750752170425,
           88.19359800223536,
           88.5615232301443,
           88.65695561009488,
           88.74023950942956,
           88.3517960060326,
           88.24569892578712,
           88.51948027549997,
           88.77192240028262,
           88.71950605135135,
           88.64479911133185,
           88.59748689302614,
           89.00599183186752,
           89.46755373011365,
           90.00340587084202,
           90.21637058735224,
           90.34657446768051,
           90.47601303240027,
           90.3334160929562,
           90.19389161426535,
           90.05670224779261,
           89.95346543238793,
           90.08016822811622,
           90.06916928132115,
           90.25902730288044,
           90.44214306074652,
           90.39802796088384,
           90.99376919059955,
           90.96905360259939,
           90.92749472455012,
           90.63610569616685,
           90.82538725774202,
           90.6842187325019,
           90.72707074293066,
           90.31781665472136,
           90.17646054343096,
           90.18479079532337,
           90.39032161015894,
           90.46646629743465,
           90.71464302337881,
           90.47910657676039,
           90.51125633372523,
           90.20926613926532,
           90.43825539228965,
           89.91536060607541,
           89.17374477423073,
           89.23209095972562,
           88.699514130647,
           88.54593186440614,
           88.7363331906672,
           88.75715332198888,
           88.3501103372364,
           88.69141163099995,
           88.72241900410154,
           89.30727881659186,
           89.47043039102755,
           89.4345925235757,
           88.94322364677647,
           88.25429975957377,
           87.43652814126108,
           87.13368186227308,
           86.70931833745271,
           86.54816909327928,
           86.54816909327928,
           86.54816909327928,
           86.98394298263884,
           87.2173087285919,
           87.58895311538072,
           86.72153866286682,
           86.54816909327928,
           86.54816909327928,
           86.54816909327928
          ],
          "colorscale": [
           [
            0,
            "rgb(150,0,90)"
           ],
           [
            0.125,
            "rgb(0,0,200)"
           ],
           [
            0.25,
            "rgb(0,25,255)"
           ],
           [
            0.375,
            "rgb(0,152,255)"
           ],
           [
            0.5,
            "rgb(44,255,150)"
           ],
           [
            0.625,
            "rgb(151,255,0)"
           ],
           [
            0.75,
            "rgb(255,234,0)"
           ],
           [
            0.875,
            "rgb(255,111,0)"
           ],
           [
            1,
            "rgb(255,0,0)"
           ]
          ],
          "line": {
           "width": 3
          },
          "size": 6
         },
         "opacity": 0.7,
         "scene": "scene",
         "type": "scatter3d",
         "x": [
          -0.18800731987198713,
          -0.13253629001032569,
          -0.03160422797930006,
          0.11218960778754967,
          0.24735584898941862,
          0.3232609820777716,
          0.3662821694870437,
          0.46228054344883895,
          0.3959899560429007,
          0.3598463299627355,
          0.3438050986398444,
          0.258301805998165,
          0.23389434678223428,
          0.20685687060169736,
          0.0428777012032085,
          0.15729959442796443,
          0.2899942169803416,
          0.3355579583354674,
          0.34482312489161837,
          0.3326411455730831,
          0.47911432058651876,
          0.40127125258070234,
          0.3598925561286297,
          0.4159458071780995,
          0.43013248337731785,
          0.6067314228833557,
          0.5151516893602489,
          0.5994041721461981,
          0.6540737589112063,
          0.5980060873792858,
          0.596274317887605,
          0.591961959856167,
          0.5417743036237829,
          0.5826457793148904,
          0.44284533838463486,
          0.4251969144884997,
          0.45678854173458694,
          0.38016865298769226,
          0.28834339066104553,
          0.1944370232255862,
          0.2334259033499225,
          0.015407296957783501,
          -0.0028246316244424268,
          -0.12906803387474294,
          -0.16430647595481934,
          -0.19630512608278947,
          -0.3429918513487796,
          -0.5247492402160776,
          -0.5938913405366776,
          -0.6621283936704744,
          -0.7698324727293226,
          -0.7300355724264234,
          -0.6518387506816425,
          -0.5491698864944553,
          -0.625889262818909,
          -0.6332188362526983,
          -0.7198484536938295,
          -0.6738737347381805,
          -0.7365080538407728,
          -0.744208110482345,
          -0.7269698492453314,
          -0.6408028848748262,
          -0.6303251022451717,
          -0.6964601030497015,
          -0.6241278550454614,
          -0.7522436028055631,
          -0.7329388281572815,
          -0.7213196672427346,
          -0.6512391220143797,
          -0.626794874980605,
          -0.5887079399636933,
          -0.5059555935632108,
          -0.361760043101749,
          -0.25809669333798496,
          -0.18091078723976958,
          -0.16107353995219667,
          -0.15865774334274008,
          -0.27869316533098254,
          -0.4187908512461063,
          -0.5184904698160346,
          -0.43145205276952836,
          -0.45648011232247915,
          -0.38966582849669257,
          -0.2758827106472149,
          -0.3174467776269998,
          -0.17396665551322435,
          -0.24656803593298054,
          -0.07470344886378988,
          -0.039687275259072195,
          0.01762359714650242,
          0.01867787893999889,
          0.08556948364934659,
          0.03774186662082096,
          0.22465700867382293,
          0.2715288021635555,
          0.30153509413459284,
          0.3484974546578345,
          0.4528781301394118,
          0.38299367741948076,
          0.347382481864829,
          0.2586122176092735,
          0.17150584299882063,
          0.08107906505169313,
          0.13966455561617996,
          0.17727001710709386,
          0.3017479194784964,
          0.2791676239990482,
          0.2869950327015314,
          0.20261292887333832,
          0.13726256170512538,
          0.1661996915586091,
          0.06578044345507392,
          -0.06438394598282941,
          0.08499690151406067,
          0.0360535026704093,
          0.11864148016886886,
          0.14098370529674292,
          0.2571790086092386,
          0.38197626809979035,
          0.47129829253231365,
          0.5718622805542982,
          0.5509035670361332,
          0.5685659188652822,
          0.5336344021592553,
          0.4625429559325938,
          0.4292530774381111,
          0.3415859571281995,
          0.2311397357412066,
          0.18883464969339292,
          0.11542052322299326,
          0.08507111873915689,
          0.08112177129572731,
          0.15361435740833113,
          0.17988275889136332,
          0.25714813014705806,
          0.23470702907019061,
          0.2705075634914121,
          0.3563917075756768,
          0.34757055173712237,
          0.27258459118263806,
          0.20050861653859378,
          0.21089646916873828,
          0.21040976398609362,
          0.32268547505716816,
          0.4081865504199571,
          0.41670182101602504,
          0.33332193206257354,
          0.29331892303816975,
          0.17871089355407754,
          0.1148005533646373,
          0.1500815041787069,
          0.20519672977291067,
          0.31596288205948037,
          0.363939644899316,
          0.4485186064589314,
          0.46230024537257314,
          0.5292886316995776,
          0.5946904720490276,
          0.5266396016286479,
          0.45924881158571607,
          0.3776395889143477,
          0.3342322993818012,
          0.20531011578407354,
          0.18783490451883786,
          0.06891554339436794,
          -0.012716794750031608,
          -0.12425762656809242,
          -0.1433808753980093,
          -0.2217801114389449,
          -0.20503121572612418,
          -0.2383053618686742,
          -0.22182236762473187,
          -0.2692663215239405,
          -0.1709172933985552,
          -0.21461318942652183,
          -0.2961797314410867,
          -0.2109909395459936,
          -0.23249232828455155,
          -0.22109727948862823,
          -0.18258779369240072,
          -0.22951196789273898,
          -0.25907799312297014,
          -0.2920719008030545,
          -0.3342098517294125,
          -0.30826246404276614,
          -0.3418872227974993,
          -0.3861408769521922,
          -0.46052053661195563,
          -0.5909461216664951,
          -0.6682382552612119,
          -0.6385757866085038,
          -0.6049747892495423,
          -0.5704328993717599,
          -0.5907400792945741,
          -0.506030263029835,
          -0.4441545363680723,
          -0.40246984695262433,
          -0.38081585264086787,
          -0.44826069827819975,
          -0.435953894518621,
          -0.3773534181032802,
          -0.27854001553376057
         ],
         "y": [
          0.109970005437556,
          0.14003726979769257,
          0.19802410814752788,
          0.2186819080461205,
          0.17678564769085156,
          0.16294061257306167,
          0.06649756845057046,
          -0.04251862995756162,
          -0.10009197976638408,
          -0.17403743006884417,
          -0.1912141792768982,
          -0.15741144043732275,
          -0.17143363883452417,
          -0.1727461315747098,
          -0.2554103874896273,
          -0.174712923521284,
          -0.2717742801997275,
          -0.20418240312873556,
          -0.1960736020398598,
          -0.17074015929280767,
          -0.1863169524446289,
          -0.25762556137660814,
          -0.16033791818231283,
          -0.18992671678037093,
          -0.11753386170032579,
          -0.09038257809456579,
          -0.07707055603748436,
          -0.08201227972264885,
          -0.17739502626435033,
          -0.2734021092248347,
          -0.35946837409821303,
          -0.40349513257037706,
          -0.3218105060820994,
          -0.27829327258655945,
          -0.26434778483389565,
          -0.2544943729996456,
          -0.22834591218567402,
          -0.3502183788724519,
          -0.45721252478575786,
          -0.46141830377527177,
          -0.6299973270695962,
          -0.6547809858007402,
          -0.5597296030353724,
          -0.4908672041824981,
          -0.3809999066223725,
          -0.27737537098385573,
          -0.29462898498692425,
          -0.21004114957239473,
          -0.31615470552325364,
          -0.36691397973259343,
          -0.3330431460632367,
          -0.3270136350764216,
          -0.2867650148973541,
          -0.3284723365533916,
          -0.37119467463544786,
          -0.45776188276651447,
          -0.5117552164580393,
          -0.5761347205267446,
          -0.5948595504516316,
          -0.5718925905324669,
          -0.4954043224186018,
          -0.4951806407251177,
          -0.35149250508280444,
          -0.358538391976574,
          -0.4177289841607107,
          -0.28978342875309926,
          -0.18878303204814317,
          -0.12735921649422233,
          -0.10363657798316707,
          -0.12698792022770533,
          -0.16018393017425905,
          -0.02008371270436095,
          -0.08085206228527685,
          -0.11412238614524217,
          -0.15300421994631064,
          -0.22784806117951345,
          -0.31532094412937295,
          -0.43377567646324366,
          -0.4312770799094655,
          -0.37738555697815596,
          -0.41765645801440193,
          -0.32025967947461365,
          -0.2649332198154611,
          -0.2769629580176526,
          -0.2184577571455956,
          -0.19432293424785316,
          -0.20320966507734947,
          -0.16982954781649054,
          -0.14257375464369992,
          -0.12111548776790618,
          -0.16065200307592917,
          -0.20907054045081724,
          -0.25749262281699253,
          -0.2895558084448063,
          -0.3626258606247246,
          -0.35280571143069545,
          -0.3442656126772842,
          -0.2042218944520997,
          -0.13675661390940202,
          -0.005159884514212966,
          0.01635875387743604,
          -0.03536625130663295,
          -0.09782528852791546,
          -0.14693855478722115,
          -0.18893882458779873,
          -0.28794823303481487,
          -0.33375328214459293,
          -0.4089642532572013,
          -0.39575282664893385,
          -0.3844340484229702,
          -0.40813208740469553,
          -0.35030682548224884,
          -0.2920492375739439,
          -0.24648827994930625,
          -0.24921579049826365,
          -0.21331736416215574,
          -0.2523739083587328,
          -0.20709611397539085,
          -0.20921417394443995,
          -0.2215233240625477,
          -0.2681000388859251,
          -0.24507223652316198,
          -0.13650994609217598,
          -0.13728412298210813,
          -0.03164559875569438,
          0.028230789019766896,
          0.057557294809927356,
          0.06660176944697116,
          0.1009746138644854,
          0.1006232883759213,
          0.09886896512226098,
          0.16268915776120202,
          0.18544689880914536,
          0.1880715581853478,
          0.15148057873193915,
          0.06600732121717645,
          0.007708447623681538,
          0.01848978522677444,
          0.09548806407161198,
          0.13407768295161687,
          0.1690793044087214,
          0.14898705674669455,
          0.2484048997172755,
          0.28200350740609165,
          0.3663309024848336,
          0.41934582207471527,
          0.4953709974156765,
          0.5547638837168526,
          0.5826987852220548,
          0.5825227431223701,
          0.5389017446291432,
          0.48679484987191923,
          0.46215529627669366,
          0.4373789425657322,
          0.43818443559106307,
          0.4885054983776285,
          0.42662916211869056,
          0.42267593051156827,
          0.4258145226718348,
          0.4869371126221542,
          0.518448807099429,
          0.5109998825332579,
          0.5687926172551944,
          0.5789481986853405,
          0.58722273328379,
          0.5965884673342935,
          0.657920488138428,
          0.7209389384785508,
          0.7846145543138018,
          0.8593378734566088,
          0.7984477001749979,
          0.8087339442646587,
          0.7640116641897952,
          0.7685429830992172,
          0.6730137280017847,
          0.5630027838653552,
          0.5309069568509063,
          0.4544761581629002,
          0.4226123826325973,
          0.4255169666883046,
          0.44010728784504,
          0.37947774664323974,
          0.4504820748817934,
          0.4710317741511751,
          0.5623007382217201,
          0.5987114251495538,
          0.6121902173378202,
          0.5583325159668797,
          0.5107940842932973,
          0.4275996923167045,
          0.36149822693236633,
          0.2959015663846511,
          0.20872173357586235,
          0.17749929127098224,
          0.20913208119696725,
          0.28047283324740546,
          0.2915750287646697,
          0.3442756742337462,
          0.27430007968252973,
          0.1898128272786831,
          0.13818849828268046,
          0.09218650275851364
         ],
         "z": [
          0.009061989320552714,
          0.049502567547578175,
          0.0663970566281516,
          0.047362116207251094,
          0.16877988641572628,
          0.21928063834258119,
          0.33458415810735903,
          0.33070560381519615,
          0.38394396244713214,
          0.3816843060394097,
          0.29250079096363857,
          0.2463450047711818,
          0.19938454526671967,
          0.032195935465083654,
          0.05810368217745923,
          -0.06166370414462609,
          -0.15096142845324717,
          -0.09664546772011563,
          -0.05169587108644535,
          0.06340200846525927,
          0.07898113949055059,
          0.22301949871476892,
          0.33714010793145593,
          0.3495598935312719,
          0.4394300283131842,
          0.3603138316013661,
          0.5137921821395262,
          0.38965747592187006,
          0.38395126693813,
          0.3933078775583969,
          0.3947156331716219,
          0.4156070975339124,
          0.3751646661740412,
          0.34715169400531537,
          0.43541746219036054,
          0.4577873989337885,
          0.5472216991901984,
          0.6035666378637733,
          0.5824644304446106,
          0.6530037232530798,
          0.5009663754532494,
          0.531765597522786,
          0.5694844524316436,
          0.5807948284304636,
          0.5593689155997698,
          0.5169100354710217,
          0.5609711685610764,
          0.5784827774006318,
          0.5765838979228343,
          0.5417358337122871,
          0.48736465878126745,
          0.41715470604555654,
          0.3877323215114187,
          0.377396400166033,
          0.4070889682463432,
          0.4068003516266631,
          0.38424318399838314,
          0.38326778580148757,
          0.3220217454031417,
          0.2796151256966656,
          0.188864688831239,
          0.17436281753322289,
          0.2457515543221257,
          0.2910575643216701,
          0.24013899860317955,
          0.2972837507021593,
          0.23373989930361203,
          0.24185759517059413,
          0.1395380170417496,
          0.13823069619764494,
          0.04271553417732888,
          0.08722213656388136,
          -0.06504333918223879,
          -0.06527634130523084,
          -0.0435016476414432,
          -0.006681185418503781,
          0.1204043838070431,
          0.10656388890547147,
          0.08704452418540332,
          0.10394342492585978,
          -0.09943935766905466,
          -0.07996822369513093,
          -0.1806748685313806,
          -0.3588461201015966,
          -0.45523219981010743,
          -0.5376797932782426,
          -0.6617344263124805,
          -0.6550549488918931,
          -0.6674533624682384,
          -0.6971074457144876,
          -0.703987597828142,
          -0.7433796836418531,
          -0.7393128516544372,
          -0.8357314950301032,
          -0.7722040760905007,
          -0.7930338118995927,
          -0.7916596467712956,
          -0.6323536292337558,
          -0.6553809933958269,
          -0.4795201111834248,
          -0.4483977058104278,
          -0.47868027724955187,
          -0.5326020314629679,
          -0.5084035183663185,
          -0.49882913038225285,
          -0.49617441007635454,
          -0.6224471272239207,
          -0.6693198164424606,
          -0.7640758875466132,
          -0.7388686756676025,
          -0.734675357120412,
          -0.7576746361095693,
          -0.7490461358629146,
          -0.6871659159154051,
          -0.6574967801896975,
          -0.6444906166014914,
          -0.6486271980351553,
          -0.5765524726919873,
          -0.5683908635501247,
          -0.5121425219731334,
          -0.5352290292937165,
          -0.5307632325343165,
          -0.48470354426514284,
          -0.41191012240986746,
          -0.30496143589133395,
          -0.23590228630374152,
          -0.2111688730971147,
          -0.22062962717556964,
          -0.2808548564334221,
          -0.29444616093128984,
          -0.2729888032149716,
          -0.29988274832025696,
          -0.3454803303703526,
          -0.38619882535354116,
          -0.43777714232937787,
          -0.5169898475863579,
          -0.6008395428953424,
          -0.5584975785181114,
          -0.5075952354917224,
          -0.42646941759540236,
          -0.39326097913465025,
          -0.32686749983033325,
          -0.24786228384183936,
          -0.1875654837989542,
          -0.12005925702961774,
          -0.09241932800887946,
          -0.025128551576042654,
          -0.01762219323592389,
          -0.022008270787958993,
          -0.016187931722060286,
          -0.09789009875241056,
          -0.1797045847323399,
          -0.24069075657192007,
          -0.28914042568765363,
          -0.23724917308798427,
          -0.22932021987716933,
          -0.17615089841618714,
          -0.043478651307687986,
          0.019645374269049144,
          0.056364177733204984,
          0.05094456558023496,
          0.1593201801882824,
          0.2576983121833853,
          0.28784184473827873,
          0.3210947466225819,
          0.3304733294278342,
          0.3690786933345994,
          0.3859708528865134,
          0.4075595402863598,
          0.33729565072966433,
          0.4039985454534795,
          0.337463891748045,
          0.2787732218002397,
          0.27404501196861997,
          0.19326009205886405,
          0.17674323155112628,
          0.1382814071862203,
          0.06249757695309575,
          0.0491673100883359,
          0.10154809185875961,
          0.20465812339041234,
          0.24402087282297832,
          0.293413128556731,
          0.3536629055302693,
          0.39030318818337084,
          0.49666740346339133,
          0.5270150148749184,
          0.5244220734451105,
          0.5354895799521583,
          0.5391374089710065,
          0.5705841150263135,
          0.4951455360643954,
          0.4100305874256269,
          0.374241719995177,
          0.3082988131119212,
          0.23822863400784505,
          0.2208194588415394,
          0.15302021475465838,
          0.07179278420776306,
          0.005599176600828326,
          -0.007635939773503644,
          -0.039753141606454497
         ]
        }
       ],
       "layout": {
        "height": 1000,
        "scene": {
         "domain": {
          "x": [
           0,
           1
          ],
          "y": [
           0,
           1
          ]
         }
        },
        "template": {
         "data": {
          "bar": [
           {
            "error_x": {
             "color": "#2a3f5f"
            },
            "error_y": {
             "color": "#2a3f5f"
            },
            "marker": {
             "line": {
              "color": "#E5ECF6",
              "width": 0.5
             }
            },
            "type": "bar"
           }
          ],
          "barpolar": [
           {
            "marker": {
             "line": {
              "color": "#E5ECF6",
              "width": 0.5
             }
            },
            "type": "barpolar"
           }
          ],
          "carpet": [
           {
            "aaxis": {
             "endlinecolor": "#2a3f5f",
             "gridcolor": "white",
             "linecolor": "white",
             "minorgridcolor": "white",
             "startlinecolor": "#2a3f5f"
            },
            "baxis": {
             "endlinecolor": "#2a3f5f",
             "gridcolor": "white",
             "linecolor": "white",
             "minorgridcolor": "white",
             "startlinecolor": "#2a3f5f"
            },
            "type": "carpet"
           }
          ],
          "choropleth": [
           {
            "colorbar": {
             "outlinewidth": 0,
             "ticks": ""
            },
            "type": "choropleth"
           }
          ],
          "contour": [
           {
            "colorbar": {
             "outlinewidth": 0,
             "ticks": ""
            },
            "colorscale": [
             [
              0,
              "#0d0887"
             ],
             [
              0.1111111111111111,
              "#46039f"
             ],
             [
              0.2222222222222222,
              "#7201a8"
             ],
             [
              0.3333333333333333,
              "#9c179e"
             ],
             [
              0.4444444444444444,
              "#bd3786"
             ],
             [
              0.5555555555555556,
              "#d8576b"
             ],
             [
              0.6666666666666666,
              "#ed7953"
             ],
             [
              0.7777777777777778,
              "#fb9f3a"
             ],
             [
              0.8888888888888888,
              "#fdca26"
             ],
             [
              1,
              "#f0f921"
             ]
            ],
            "type": "contour"
           }
          ],
          "contourcarpet": [
           {
            "colorbar": {
             "outlinewidth": 0,
             "ticks": ""
            },
            "type": "contourcarpet"
           }
          ],
          "heatmap": [
           {
            "colorbar": {
             "outlinewidth": 0,
             "ticks": ""
            },
            "colorscale": [
             [
              0,
              "#0d0887"
             ],
             [
              0.1111111111111111,
              "#46039f"
             ],
             [
              0.2222222222222222,
              "#7201a8"
             ],
             [
              0.3333333333333333,
              "#9c179e"
             ],
             [
              0.4444444444444444,
              "#bd3786"
             ],
             [
              0.5555555555555556,
              "#d8576b"
             ],
             [
              0.6666666666666666,
              "#ed7953"
             ],
             [
              0.7777777777777778,
              "#fb9f3a"
             ],
             [
              0.8888888888888888,
              "#fdca26"
             ],
             [
              1,
              "#f0f921"
             ]
            ],
            "type": "heatmap"
           }
          ],
          "heatmapgl": [
           {
            "colorbar": {
             "outlinewidth": 0,
             "ticks": ""
            },
            "colorscale": [
             [
              0,
              "#0d0887"
             ],
             [
              0.1111111111111111,
              "#46039f"
             ],
             [
              0.2222222222222222,
              "#7201a8"
             ],
             [
              0.3333333333333333,
              "#9c179e"
             ],
             [
              0.4444444444444444,
              "#bd3786"
             ],
             [
              0.5555555555555556,
              "#d8576b"
             ],
             [
              0.6666666666666666,
              "#ed7953"
             ],
             [
              0.7777777777777778,
              "#fb9f3a"
             ],
             [
              0.8888888888888888,
              "#fdca26"
             ],
             [
              1,
              "#f0f921"
             ]
            ],
            "type": "heatmapgl"
           }
          ],
          "histogram": [
           {
            "marker": {
             "colorbar": {
              "outlinewidth": 0,
              "ticks": ""
             }
            },
            "type": "histogram"
           }
          ],
          "histogram2d": [
           {
            "colorbar": {
             "outlinewidth": 0,
             "ticks": ""
            },
            "colorscale": [
             [
              0,
              "#0d0887"
             ],
             [
              0.1111111111111111,
              "#46039f"
             ],
             [
              0.2222222222222222,
              "#7201a8"
             ],
             [
              0.3333333333333333,
              "#9c179e"
             ],
             [
              0.4444444444444444,
              "#bd3786"
             ],
             [
              0.5555555555555556,
              "#d8576b"
             ],
             [
              0.6666666666666666,
              "#ed7953"
             ],
             [
              0.7777777777777778,
              "#fb9f3a"
             ],
             [
              0.8888888888888888,
              "#fdca26"
             ],
             [
              1,
              "#f0f921"
             ]
            ],
            "type": "histogram2d"
           }
          ],
          "histogram2dcontour": [
           {
            "colorbar": {
             "outlinewidth": 0,
             "ticks": ""
            },
            "colorscale": [
             [
              0,
              "#0d0887"
             ],
             [
              0.1111111111111111,
              "#46039f"
             ],
             [
              0.2222222222222222,
              "#7201a8"
             ],
             [
              0.3333333333333333,
              "#9c179e"
             ],
             [
              0.4444444444444444,
              "#bd3786"
             ],
             [
              0.5555555555555556,
              "#d8576b"
             ],
             [
              0.6666666666666666,
              "#ed7953"
             ],
             [
              0.7777777777777778,
              "#fb9f3a"
             ],
             [
              0.8888888888888888,
              "#fdca26"
             ],
             [
              1,
              "#f0f921"
             ]
            ],
            "type": "histogram2dcontour"
           }
          ],
          "mesh3d": [
           {
            "colorbar": {
             "outlinewidth": 0,
             "ticks": ""
            },
            "type": "mesh3d"
           }
          ],
          "parcoords": [
           {
            "line": {
             "colorbar": {
              "outlinewidth": 0,
              "ticks": ""
             }
            },
            "type": "parcoords"
           }
          ],
          "pie": [
           {
            "automargin": true,
            "type": "pie"
           }
          ],
          "scatter": [
           {
            "marker": {
             "colorbar": {
              "outlinewidth": 0,
              "ticks": ""
             }
            },
            "type": "scatter"
           }
          ],
          "scatter3d": [
           {
            "line": {
             "colorbar": {
              "outlinewidth": 0,
              "ticks": ""
             }
            },
            "marker": {
             "colorbar": {
              "outlinewidth": 0,
              "ticks": ""
             }
            },
            "type": "scatter3d"
           }
          ],
          "scattercarpet": [
           {
            "marker": {
             "colorbar": {
              "outlinewidth": 0,
              "ticks": ""
             }
            },
            "type": "scattercarpet"
           }
          ],
          "scattergeo": [
           {
            "marker": {
             "colorbar": {
              "outlinewidth": 0,
              "ticks": ""
             }
            },
            "type": "scattergeo"
           }
          ],
          "scattergl": [
           {
            "marker": {
             "colorbar": {
              "outlinewidth": 0,
              "ticks": ""
             }
            },
            "type": "scattergl"
           }
          ],
          "scattermapbox": [
           {
            "marker": {
             "colorbar": {
              "outlinewidth": 0,
              "ticks": ""
             }
            },
            "type": "scattermapbox"
           }
          ],
          "scatterpolar": [
           {
            "marker": {
             "colorbar": {
              "outlinewidth": 0,
              "ticks": ""
             }
            },
            "type": "scatterpolar"
           }
          ],
          "scatterpolargl": [
           {
            "marker": {
             "colorbar": {
              "outlinewidth": 0,
              "ticks": ""
             }
            },
            "type": "scatterpolargl"
           }
          ],
          "scatterternary": [
           {
            "marker": {
             "colorbar": {
              "outlinewidth": 0,
              "ticks": ""
             }
            },
            "type": "scatterternary"
           }
          ],
          "surface": [
           {
            "colorbar": {
             "outlinewidth": 0,
             "ticks": ""
            },
            "colorscale": [
             [
              0,
              "#0d0887"
             ],
             [
              0.1111111111111111,
              "#46039f"
             ],
             [
              0.2222222222222222,
              "#7201a8"
             ],
             [
              0.3333333333333333,
              "#9c179e"
             ],
             [
              0.4444444444444444,
              "#bd3786"
             ],
             [
              0.5555555555555556,
              "#d8576b"
             ],
             [
              0.6666666666666666,
              "#ed7953"
             ],
             [
              0.7777777777777778,
              "#fb9f3a"
             ],
             [
              0.8888888888888888,
              "#fdca26"
             ],
             [
              1,
              "#f0f921"
             ]
            ],
            "type": "surface"
           }
          ],
          "table": [
           {
            "cells": {
             "fill": {
              "color": "#EBF0F8"
             },
             "line": {
              "color": "white"
             }
            },
            "header": {
             "fill": {
              "color": "#C8D4E3"
             },
             "line": {
              "color": "white"
             }
            },
            "type": "table"
           }
          ]
         },
         "layout": {
          "annotationdefaults": {
           "arrowcolor": "#2a3f5f",
           "arrowhead": 0,
           "arrowwidth": 1
          },
          "autotypenumbers": "strict",
          "coloraxis": {
           "colorbar": {
            "outlinewidth": 0,
            "ticks": ""
           }
          },
          "colorscale": {
           "diverging": [
            [
             0,
             "#8e0152"
            ],
            [
             0.1,
             "#c51b7d"
            ],
            [
             0.2,
             "#de77ae"
            ],
            [
             0.3,
             "#f1b6da"
            ],
            [
             0.4,
             "#fde0ef"
            ],
            [
             0.5,
             "#f7f7f7"
            ],
            [
             0.6,
             "#e6f5d0"
            ],
            [
             0.7,
             "#b8e186"
            ],
            [
             0.8,
             "#7fbc41"
            ],
            [
             0.9,
             "#4d9221"
            ],
            [
             1,
             "#276419"
            ]
           ],
           "sequential": [
            [
             0,
             "#0d0887"
            ],
            [
             0.1111111111111111,
             "#46039f"
            ],
            [
             0.2222222222222222,
             "#7201a8"
            ],
            [
             0.3333333333333333,
             "#9c179e"
            ],
            [
             0.4444444444444444,
             "#bd3786"
            ],
            [
             0.5555555555555556,
             "#d8576b"
            ],
            [
             0.6666666666666666,
             "#ed7953"
            ],
            [
             0.7777777777777778,
             "#fb9f3a"
            ],
            [
             0.8888888888888888,
             "#fdca26"
            ],
            [
             1,
             "#f0f921"
            ]
           ],
           "sequentialminus": [
            [
             0,
             "#0d0887"
            ],
            [
             0.1111111111111111,
             "#46039f"
            ],
            [
             0.2222222222222222,
             "#7201a8"
            ],
            [
             0.3333333333333333,
             "#9c179e"
            ],
            [
             0.4444444444444444,
             "#bd3786"
            ],
            [
             0.5555555555555556,
             "#d8576b"
            ],
            [
             0.6666666666666666,
             "#ed7953"
            ],
            [
             0.7777777777777778,
             "#fb9f3a"
            ],
            [
             0.8888888888888888,
             "#fdca26"
            ],
            [
             1,
             "#f0f921"
            ]
           ]
          },
          "colorway": [
           "#636efa",
           "#EF553B",
           "#00cc96",
           "#ab63fa",
           "#FFA15A",
           "#19d3f3",
           "#FF6692",
           "#B6E880",
           "#FF97FF",
           "#FECB52"
          ],
          "font": {
           "color": "#2a3f5f"
          },
          "geo": {
           "bgcolor": "white",
           "lakecolor": "white",
           "landcolor": "#E5ECF6",
           "showlakes": true,
           "showland": true,
           "subunitcolor": "white"
          },
          "hoverlabel": {
           "align": "left"
          },
          "hovermode": "closest",
          "mapbox": {
           "style": "light"
          },
          "paper_bgcolor": "white",
          "plot_bgcolor": "#E5ECF6",
          "polar": {
           "angularaxis": {
            "gridcolor": "white",
            "linecolor": "white",
            "ticks": ""
           },
           "bgcolor": "#E5ECF6",
           "radialaxis": {
            "gridcolor": "white",
            "linecolor": "white",
            "ticks": ""
           }
          },
          "scene": {
           "xaxis": {
            "backgroundcolor": "#E5ECF6",
            "gridcolor": "white",
            "gridwidth": 2,
            "linecolor": "white",
            "showbackground": true,
            "ticks": "",
            "zerolinecolor": "white"
           },
           "yaxis": {
            "backgroundcolor": "#E5ECF6",
            "gridcolor": "white",
            "gridwidth": 2,
            "linecolor": "white",
            "showbackground": true,
            "ticks": "",
            "zerolinecolor": "white"
           },
           "zaxis": {
            "backgroundcolor": "#E5ECF6",
            "gridcolor": "white",
            "gridwidth": 2,
            "linecolor": "white",
            "showbackground": true,
            "ticks": "",
            "zerolinecolor": "white"
           }
          },
          "shapedefaults": {
           "line": {
            "color": "#2a3f5f"
           }
          },
          "ternary": {
           "aaxis": {
            "gridcolor": "white",
            "linecolor": "white",
            "ticks": ""
           },
           "baxis": {
            "gridcolor": "white",
            "linecolor": "white",
            "ticks": ""
           },
           "bgcolor": "#E5ECF6",
           "caxis": {
            "gridcolor": "white",
            "linecolor": "white",
            "ticks": ""
           }
          },
          "title": {
           "x": 0.05
          },
          "xaxis": {
           "automargin": true,
           "gridcolor": "white",
           "linecolor": "white",
           "ticks": "",
           "title": {
            "standoff": 15
           },
           "zerolinecolor": "white",
           "zerolinewidth": 2
          },
          "yaxis": {
           "automargin": true,
           "gridcolor": "white",
           "linecolor": "white",
           "ticks": "",
           "title": {
            "standoff": 15
           },
           "zerolinecolor": "white",
           "zerolinewidth": 2
          }
         }
        },
        "width": 1000
       }
      }
     },
     "metadata": {},
     "output_type": "display_data"
    }
   ],
   "source": [
    "color = 'rainbow'\n",
    "plot_pred_conf(trussart_pred_structure_superposed, pLLDTs, color)"
   ]
  },
  {
   "cell_type": "code",
   "execution_count": 24,
   "metadata": {},
   "outputs": [
    {
     "name": "stdout",
     "output_type": "stream",
     "text": [
      "torch.Size([202])\n",
      "torch.return_types.topk(\n",
      "values=tensor([0.1570, 0.1527, 0.1521, 0.1501, 0.1485, 0.1466, 0.1458, 0.1448, 0.1431,\n",
      "        0.1421], dtype=torch.float64),\n",
      "indices=tensor([ 56, 110,  59, 106,  63,  50,  17,  70,  54,  69]))\n",
      "torch.return_types.topk(\n",
      "values=tensor([0.2180, 0.2161, 0.2156, 0.2152, 0.2068, 0.2038, 0.1996, 0.1965, 0.1918,\n",
      "        0.1915], dtype=torch.float64),\n",
      "indices=tensor([ 13,  15,  17,  16,  70, 106, 110, 132,  71,  69]))\n",
      "[67 65 70 69 68 72 66 62 63 73]\n",
      "torch.return_types.topk(\n",
      "values=tensor([0.7996, 0.8067, 0.8072, 0.8081, 0.8154, 0.8182, 0.8257, 0.8268, 0.8307,\n",
      "        0.8310], dtype=torch.float64),\n",
      "indices=tensor([ 17,  16,  13,  15,  70,  18,  69,  71,  63, 106]))\n"
     ]
    }
   ],
   "source": [
    "####Max error to confidence interval\n",
    "dmat_true = torch.sqrt(1e-10 + torch.sum(\n",
    "    (torch.from_numpy(trussart_true_structure_superposed).unsqueeze(0)[:, :, None] - torch.from_numpy(trussart_true_structure_superposed).unsqueeze(0)[:, None, :])**2, axis=-1))\n",
    "dmat_predicted = torch.sqrt(1e-10 + torch.sum(\n",
    "    (torch.from_numpy(trussart_pred_structure_superposed).unsqueeze(0)[:, :, None] -\n",
    "    torch.from_numpy(trussart_pred_structure_superposed).unsqueeze(0)[:, None, :])**2, axis=-1))\n",
    "\n",
    "dists_to_score = (\n",
    "    (dmat_true).type(torch.FloatTensor) *(1. - torch.eye(dmat_true.shape[1]))  \n",
    ")\n",
    "\n",
    "dist_l1 = torch.abs(dmat_true - dmat_predicted)\n",
    "relative_error = torch.mean(torch.div(dist_l1, torch.abs(dmat_true))[0], dim=0)\n",
    "\n",
    "print(relative_error.shape)\n",
    "print(torch.topk(torch.mean(dist_l1[0],dim=0), k=10))\n",
    "print(torch.topk(relative_error, k=10, largest=True))\n",
    "print(np.argpartition(pLLDTs, 10)[:10])\n",
    "print(torch.topk(value[0], k=10, largest=False))"
   ]
  },
  {
   "cell_type": "code",
   "execution_count": 25,
   "metadata": {},
   "outputs": [
    {
     "name": "stdout",
     "output_type": "stream",
     "text": [
      "Before temperature - NLL: 0.036\n",
      "tensor(0.7394, grad_fn=<MulBackward0>)\n",
      "tensor(0.7389, grad_fn=<MulBackward0>)\n",
      "tensor(0.7383, grad_fn=<MulBackward0>)\n",
      "tensor(0.7377, grad_fn=<MulBackward0>)\n",
      "tensor(0.7372, grad_fn=<MulBackward0>)\n",
      "tensor(0.7367, grad_fn=<MulBackward0>)\n",
      "tensor(0.7361, grad_fn=<MulBackward0>)\n",
      "tensor(0.7356, grad_fn=<MulBackward0>)\n",
      "tensor(0.7351, grad_fn=<MulBackward0>)\n",
      "tensor(0.7345, grad_fn=<MulBackward0>)\n",
      "tensor(0.7340, grad_fn=<MulBackward0>)\n",
      "tensor(0.7335, grad_fn=<MulBackward0>)\n",
      "tensor(0.7330, grad_fn=<MulBackward0>)\n",
      "tensor(0.7326, grad_fn=<MulBackward0>)\n",
      "tensor(0.7321, grad_fn=<MulBackward0>)\n",
      "tensor(0.7316, grad_fn=<MulBackward0>)\n",
      "tensor(0.7312, grad_fn=<MulBackward0>)\n",
      "tensor(0.7307, grad_fn=<MulBackward0>)\n",
      "tensor(0.7303, grad_fn=<MulBackward0>)\n",
      "tensor(0.7298, grad_fn=<MulBackward0>)\n",
      "tensor(0.7294, grad_fn=<MulBackward0>)\n",
      "tensor(0.7290, grad_fn=<MulBackward0>)\n",
      "tensor(0.7286, grad_fn=<MulBackward0>)\n",
      "tensor(0.7282, grad_fn=<MulBackward0>)\n",
      "tensor(0.7278, grad_fn=<MulBackward0>)\n",
      "tensor(0.7275, grad_fn=<MulBackward0>)\n",
      "tensor(0.7271, grad_fn=<MulBackward0>)\n",
      "tensor(0.7267, grad_fn=<MulBackward0>)\n",
      "tensor(0.7264, grad_fn=<MulBackward0>)\n",
      "tensor(0.7261, grad_fn=<MulBackward0>)\n",
      "tensor(0.7258, grad_fn=<MulBackward0>)\n",
      "tensor(0.7255, grad_fn=<MulBackward0>)\n",
      "tensor(0.7252, grad_fn=<MulBackward0>)\n",
      "tensor(0.7249, grad_fn=<MulBackward0>)\n",
      "tensor(0.7246, grad_fn=<MulBackward0>)\n",
      "tensor(0.7244, grad_fn=<MulBackward0>)\n",
      "tensor(0.7241, grad_fn=<MulBackward0>)\n",
      "tensor(0.7239, grad_fn=<MulBackward0>)\n",
      "tensor(0.7237, grad_fn=<MulBackward0>)\n",
      "tensor(0.7234, grad_fn=<MulBackward0>)\n",
      "tensor(0.7232, grad_fn=<MulBackward0>)\n",
      "tensor(0.7230, grad_fn=<MulBackward0>)\n",
      "tensor(0.7229, grad_fn=<MulBackward0>)\n",
      "tensor(0.7227, grad_fn=<MulBackward0>)\n",
      "tensor(0.7225, grad_fn=<MulBackward0>)\n",
      "tensor(0.7224, grad_fn=<MulBackward0>)\n",
      "tensor(0.7223, grad_fn=<MulBackward0>)\n",
      "tensor(0.7221, grad_fn=<MulBackward0>)\n",
      "tensor(0.7220, grad_fn=<MulBackward0>)\n",
      "tensor(0.7219, grad_fn=<MulBackward0>)\n",
      "tensor(0.7218, grad_fn=<MulBackward0>)\n",
      "tensor(0.7217, grad_fn=<MulBackward0>)\n",
      "tensor(0.7216, grad_fn=<MulBackward0>)\n",
      "tensor(0.7216, grad_fn=<MulBackward0>)\n",
      "tensor(0.7215, grad_fn=<MulBackward0>)\n",
      "tensor(0.7214, grad_fn=<MulBackward0>)\n",
      "tensor(0.7214, grad_fn=<MulBackward0>)\n",
      "tensor(0.7213, grad_fn=<MulBackward0>)\n",
      "tensor(0.7213, grad_fn=<MulBackward0>)\n",
      "tensor(0.7212, grad_fn=<MulBackward0>)\n",
      "tensor(0.7212, grad_fn=<MulBackward0>)\n",
      "tensor(0.7212, grad_fn=<MulBackward0>)\n",
      "tensor(0.7212, grad_fn=<MulBackward0>)\n",
      "tensor(0.7211, grad_fn=<MulBackward0>)\n",
      "tensor(0.7211, grad_fn=<MulBackward0>)\n",
      "tensor(0.7211, grad_fn=<MulBackward0>)\n",
      "tensor(0.7211, grad_fn=<MulBackward0>)\n",
      "tensor(0.7211, grad_fn=<MulBackward0>)\n",
      "tensor(0.7211, grad_fn=<MulBackward0>)\n",
      "tensor(0.7211, grad_fn=<MulBackward0>)\n",
      "tensor(0.7211, grad_fn=<MulBackward0>)\n",
      "tensor(0.7211, grad_fn=<MulBackward0>)\n",
      "tensor(0.7211, grad_fn=<MulBackward0>)\n",
      "tensor(0.7211, grad_fn=<MulBackward0>)\n",
      "tensor(0.7211, grad_fn=<MulBackward0>)\n",
      "tensor(0.7211, grad_fn=<MulBackward0>)\n",
      "tensor(0.7211, grad_fn=<MulBackward0>)\n",
      "tensor(0.7211, grad_fn=<MulBackward0>)\n",
      "tensor(0.7211, grad_fn=<MulBackward0>)\n",
      "tensor(0.7211, grad_fn=<MulBackward0>)\n",
      "tensor(0.7211, grad_fn=<MulBackward0>)\n",
      "tensor(0.7211, grad_fn=<MulBackward0>)\n",
      "tensor(0.7211, grad_fn=<MulBackward0>)\n",
      "tensor(0.7211, grad_fn=<MulBackward0>)\n",
      "tensor(0.7211, grad_fn=<MulBackward0>)\n",
      "tensor(0.7211, grad_fn=<MulBackward0>)\n",
      "tensor(0.7211, grad_fn=<MulBackward0>)\n",
      "tensor(0.7211, grad_fn=<MulBackward0>)\n",
      "tensor(0.7211, grad_fn=<MulBackward0>)\n",
      "tensor(0.7211, grad_fn=<MulBackward0>)\n",
      "tensor(0.7211, grad_fn=<MulBackward0>)\n",
      "tensor(0.7211, grad_fn=<MulBackward0>)\n",
      "tensor(0.7211, grad_fn=<MulBackward0>)\n",
      "tensor(0.7211, grad_fn=<MulBackward0>)\n",
      "tensor(0.7211, grad_fn=<MulBackward0>)\n",
      "tensor(0.7211, grad_fn=<MulBackward0>)\n",
      "tensor(0.7211, grad_fn=<MulBackward0>)\n",
      "tensor(0.7211, grad_fn=<MulBackward0>)\n",
      "tensor(0.7211, grad_fn=<MulBackward0>)\n",
      "tensor(0.7211, grad_fn=<MulBackward0>)\n",
      "Optimal temperature: 0.963\n",
      "After temperature - NLL: 0.036\n",
      "0.03623385354876518\n",
      "0.036241933703422546\n"
     ]
    }
   ],
   "source": [
    "orig_model = model\n",
    "valid_loader = test_train_calib_loader\n",
    "logits_test_temp, labels_test_temp = set_logits_data(test_test_calib_loader, device, model, BATCH_SIZE, NB_BINS, EMBEDDING_SIZE, NUM_BINS_LOGITS)\n",
    "scaled_model = ModelWithTemperature(orig_model, device, BATCH_SIZE, NB_BINS, EMBEDDING_SIZE, NUM_BINS_LOGITS)\n",
    "scaled_model.set_temperature(valid_loader)\n",
    "m = torch.nn.LogSoftmax(dim=1)\n",
    "nll_criterion = torch.nn.BCEWithLogitsLoss()\n",
    "print(nll_criterion(m(logits_test_temp), labels_test_temp).item())\n",
    "logits_test_temps_scaled = scaled_model.temperature_scale(logits_test_temp)\n",
    "\n",
    "print(nll_criterion(m(logits_test_temps_scaled), labels_test_temp).item())"
   ]
  },
  {
   "cell_type": "code",
   "execution_count": 26,
   "metadata": {},
   "outputs": [
    {
     "name": "stdout",
     "output_type": "stream",
     "text": [
      "88.90426786402055\n",
      "[86.81059956 87.29731487 88.07024151 88.6615639  90.02857242 90.61829364\n",
      " 91.12906169 91.34258482 91.24978899 91.00063145 90.49853301 89.85296213\n",
      " 89.4480464  88.7245449  88.31309122 88.21048339 88.7331663  88.8847235\n",
      " 89.03689047 89.46457519 90.25627172 90.37342564 90.82168566 91.0737568\n",
      " 91.56926606 91.8033634  92.08292489 91.88396951 91.91301902 91.73271924\n",
      " 91.6561525  91.67929007 91.46445503 91.52706153 91.44218224 91.48509138\n",
      " 91.92136051 91.82379824 91.74502781 91.73204094 91.7016386  91.28366113\n",
      " 91.15127846 90.64562575 90.15071738 89.54801216 89.23747793 88.30405993\n",
      " 88.35369998 88.05061868 87.16453122 86.93878547 86.98960407 87.54266698\n",
      " 87.50967626 87.77587765 87.45840463 87.87947332 87.33871438 86.99105609\n",
      " 86.80262618 86.80262618 86.80262618 86.80262618 86.80262618 86.80262618\n",
      " 86.80262618 86.80262618 86.80262618 86.80262618 86.80262618 86.80262618\n",
      " 86.80262618 86.80262618 86.80262618 86.84501789 87.85123481 87.65740838\n",
      " 86.91242102 86.80262618 86.80262618 86.80262618 86.80262618 87.32760996\n",
      " 87.39656649 87.70278601 87.77390329 87.91129813 87.94124853 88.00161036\n",
      " 88.01898558 88.10291729 88.08293152 88.25079625 88.2543795  88.2776553\n",
      " 88.2971284  88.23646726 88.19952987 88.49705984 88.32490328 87.90992722\n",
      " 87.90502882 87.94692943 87.9803925  88.08953528 88.16775872 88.21544418\n",
      " 88.22246423 88.17113405 88.18949079 88.13466009 88.03265358 88.07395624\n",
      " 88.0208991  88.05684069 88.08419018 88.09584322 88.16373985 88.24457808\n",
      " 88.56591785 88.47411384 88.82241002 88.87805032 89.03407456 89.19400838\n",
      " 88.85640717 88.42715239 88.4330437  88.17457887 88.04369541 88.32132267\n",
      " 88.66870702 88.75670621 88.82890546 88.44008813 88.32736532 88.5969247\n",
      " 88.85098279 88.80791756 88.74213604 88.69970064 89.1101741  89.5605751\n",
      " 90.08840774 90.29967826 90.43718    90.56784579 90.43534362 90.30001307\n",
      " 90.16382748 90.05043754 90.16379384 90.14816944 90.33422441 90.51515161\n",
      " 90.47063428 91.0594932  91.03957606 91.00352736 90.72267606 90.91431668\n",
      " 90.7766352  90.81834275 90.420169   90.28310641 90.29115945 90.49050646\n",
      " 90.56439974 90.80515864 90.57661338 90.6078268  90.31495904 90.53704697\n",
      " 90.03010926 89.31324147 89.36950831 88.8564974  88.70891983 88.89190184\n",
      " 88.91194219 88.52097992 88.84869719 88.87848721 89.44208049 89.59964142\n",
      " 89.56503348 89.09104968 88.42903603 87.64736111 87.35892859 86.95556242\n",
      " 86.80262618 86.80262618 86.80262618 87.21648076 87.43848802 87.79274146\n",
      " 86.96715073 86.80262618 86.80262618 86.80262618]\n"
     ]
    }
   ],
   "source": [
    "confidence_metric_scaled, plddt_scaled = scale_logits(trussart_pred_logits, scaled_model, BATCH_SIZE, NB_BINS)\n",
    "print(confidence_metric_scaled)\n",
    "print(plddt_scaled)"
   ]
  },
  {
   "cell_type": "code",
   "execution_count": 27,
   "metadata": {},
   "outputs": [
    {
     "name": "stdout",
     "output_type": "stream",
     "text": [
      "8.724723069496806\n",
      "8.677985591199405\n"
     ]
    }
   ],
   "source": [
    "mse_unscalled, mse_scalled = mse_unscaled_scaled(value, pLLDTs, plddt_scaled)\n",
    "print(mse_unscalled)\n",
    "print(mse_scalled)"
   ]
  },
  {
   "cell_type": "code",
   "execution_count": 28,
   "metadata": {},
   "outputs": [],
   "source": [
    "valid_loader = test_train_calib_loader\n",
    "logits_test_temp, labels_test_temp = set_logits_data(test_train_calib_loader, device, model, BATCH_SIZE, NB_BINS, EMBEDDING_SIZE, NUM_BINS_LOGITS)"
   ]
  },
  {
   "cell_type": "code",
   "execution_count": 29,
   "metadata": {},
   "outputs": [
    {
     "name": "stdout",
     "output_type": "stream",
     "text": [
      "2.639982406095047\n",
      "3.2795623763821964\n",
      "88.54661250166428\n",
      "[86.09927455 86.50404399 87.06054392 87.8023311  89.56517498 90.24246565\n",
      " 90.73151093 91.13616725 90.80611172 90.52402216 89.92676    89.18595463\n",
      " 88.69251999 87.91877484 87.40662621 87.26461915 88.00782078 88.06895289\n",
      " 88.29403687 88.76495931 89.76062022 89.81485398 90.41828409 90.62807259\n",
      " 91.65311921 91.95708604 92.27423191 92.06647961 92.10118611 91.85516318\n",
      " 91.74323723 91.8255367  91.3479889  91.54160153 91.30320824 91.2898923\n",
      " 92.45709237 92.35167356 92.28329684 92.25158346 92.11435745 91.18052635\n",
      " 90.77726865 90.04027451 89.49881701 88.80008288 88.34897186 87.38043621\n",
      " 87.46880955 87.10941186 86.43135528 86.26937383 86.30145006 86.76009601\n",
      " 86.74843848 86.9281797  86.64288308 86.98140838 86.49221825 86.30185764\n",
      " 87.54180187 87.54180187 87.54180187 87.54180187 87.54180187 87.54180187\n",
      " 87.54180187 87.54180187 87.54180187 87.54180187 87.54180187 87.54180187\n",
      " 87.54180187 87.54180187 87.54180187 86.14081891 86.95665186 86.83122098\n",
      " 86.26099157 87.54180187 87.54180187 87.54180187 87.54180187 86.80482514\n",
      " 86.90831183 87.26430658 87.33754705 87.39762537 87.42110181 87.46674675\n",
      " 87.48269119 87.63272856 87.60308406 87.68252869 87.57774824 87.82228401\n",
      " 87.86181827 87.65668409 87.73549164 87.93424742 87.75171569 87.39237061\n",
      " 87.38866405 87.42339322 87.47636906 87.60502978 87.71285187 87.72941449\n",
      " 87.65682907 87.71360471 87.73546751 87.65687944 87.50730582 87.54278383\n",
      " 87.48335256 87.50225085 87.6034609  87.60686119 87.71193894 87.76346374\n",
      " 88.01040509 88.00434959 88.23702079 88.16895376 88.33444988 88.47765507\n",
      " 88.0841875  87.67397695 87.68223413 87.36759447 87.30660528 87.47120629\n",
      " 87.97652494 88.01699466 88.08246014 87.86901837 87.80014346 88.07996155\n",
      " 88.16211024 88.08285501 88.02151387 87.99326887 88.44927143 88.80015347\n",
      " 89.49689928 89.82546484 90.14670551 90.37224573 90.19278746 90.03909403\n",
      " 89.73777058 89.48909294 89.57808396 89.56065288 89.7650842  90.22745857\n",
      " 90.17929233 90.94205935 90.78573021 90.79933807 90.57620804 90.60548993\n",
      " 90.588104   90.59070099 90.19141229 89.95496761 89.95557061 90.25200718\n",
      " 90.34402715 90.59350123 90.34996325 90.38352408 90.04362327 90.26660133\n",
      " 89.56626127 88.57405791 88.59318655 88.04004759 87.83289604 88.08290538\n",
      " 88.15547317 87.50096681 88.03841291 88.06921427 88.71004465 88.90464715\n",
      " 88.89940948 88.40109357 87.38862276 86.73275642 86.57720115 86.30330852\n",
      " 87.54180187 87.54180187 87.54180187 86.47552018 86.62995468 86.85435343\n",
      " 86.30741149 87.54180187 87.54180187 87.54180187]\n"
     ]
    }
   ],
   "source": [
    "confidence_metric_iso, pLDDT_iso = isotonic_calibration(logits_test_temp, labels_test_temp, trussart_pred_logits)\n",
    "print(confidence_metric_iso)\n",
    "print(pLDDT_iso)"
   ]
  },
  {
   "cell_type": "code",
   "execution_count": 30,
   "metadata": {},
   "outputs": [
    {
     "name": "stdout",
     "output_type": "stream",
     "text": [
      "8.724723069496806\n",
      "8.784060066680096\n"
     ]
    }
   ],
   "source": [
    "mse_unscalled, mse_scalled = mse_unscaled_scaled(value, pLLDTs, pLDDT_iso)\n",
    "print(mse_unscalled)\n",
    "print(mse_scalled)"
   ]
  },
  {
   "cell_type": "code",
   "execution_count": 31,
   "metadata": {},
   "outputs": [],
   "source": [
    "valid_loader = test_train_calib_loader\n",
    "logits_test_temp, labels_test_temp = set_logits_data(test_train_calib_loader, device, model, BATCH_SIZE, NB_BINS, EMBEDDING_SIZE, NUM_BINS_LOGITS)"
   ]
  },
  {
   "cell_type": "code",
   "execution_count": 32,
   "metadata": {},
   "outputs": [
    {
     "name": "stdout",
     "output_type": "stream",
     "text": [
      "2.639982406095047\n",
      "2.624145609842013\n",
      "88.35116631498718\n",
      "[86.1351695  86.59643364 87.33940246 87.92750035 89.38391339 90.08799688\n",
      " 90.70709715 90.98476644 90.85187432 90.54646076 89.91623313 89.16145632\n",
      " 88.71791761 88.02176681 87.57024205 87.55810112 88.11665058 88.25025356\n",
      " 88.38718123 88.78923855 89.68927315 89.77815499 90.31190925 90.62876157\n",
      " 91.26800176 91.59084849 91.92748666 91.68609583 91.72626938 91.48275879\n",
      " 91.38248285 91.41414523 91.13306969 91.22219989 91.12298058 91.19917151\n",
      " 91.77582169 91.81525017 91.69927772 91.68025056 91.63569476 91.03336675\n",
      " 90.84743104 90.16276304 89.53556257 88.82831308 88.48601905 87.52891175\n",
      " 87.57756279 87.28365407 86.45680875 86.25115397 86.29730591 86.80497434\n",
      " 86.77437061 87.0228585  86.72690208 87.12063115 86.6164846  86.29863879\n",
      " 86.12761214 86.12761214 86.12761214 86.12761214 86.12761214 86.12761214\n",
      " 86.12761214 86.12761214 86.12761214 86.12761214 86.12761214 86.12761214\n",
      " 86.12761214 86.12761214 86.12761214 86.16603223 87.09390016 86.91184089\n",
      " 86.22721344 86.12761214 86.12761214 86.12761214 86.12761214 86.73916203\n",
      " 86.81945895 87.17570907 87.25821076 87.41698586 87.45146439 87.5206705\n",
      " 87.54053183 87.6361278  87.61343863 87.8026113  87.80660465 87.83259932\n",
      " 87.85428877 87.78660726 87.74518128 87.96708558 87.7903168  87.41538523\n",
      " 87.40977887 87.45792767 87.49632442 87.62094162 87.70943762 87.76303904\n",
      " 87.77093063 87.71323457 87.73389319 87.67207095 87.55615889 87.60323859\n",
      " 87.54273563 87.58376397 87.61485566 87.62809331 87.70490611 87.77898325\n",
      " 88.07667074 87.99207952 88.29658182 88.33413537 88.45524583 88.59547215\n",
      " 88.24833647 87.82240665 87.83012643 87.57538031 87.43901188 87.69727316\n",
      " 88.0528778  88.15041425 88.24403052 87.89955706 87.82326436 88.06950682\n",
      " 88.29124208 88.22562659 88.14298851 88.09268641 88.47274685 88.94879071\n",
      " 89.54267119 89.79217191 89.94027929 90.09544806 89.91606513 89.74825912\n",
      " 89.58788812 89.47577908 89.63235    89.62466005 89.85236835 90.07690732\n",
      " 90.02372039 90.76778118 90.72168366 90.6624321  90.29385646 90.51504926\n",
      " 90.34264977 90.39548366 89.89712005 89.72749457 89.73741065 89.98530234\n",
      " 90.0787743  90.38895656 90.09432155 90.13413046 89.76663571 90.04407269\n",
      " 89.42232054 88.61023132 88.6714556  88.12723794 87.97570236 88.16389564\n",
      " 88.18469738 87.78546224 88.11919182 88.15001149 88.7509334  88.92593584\n",
      " 88.8871971  88.37240998 87.69341949 86.93048543 86.65503664 86.27239463\n",
      " 86.12761214 86.12761214 86.12761214 86.51964499 86.73082213 87.07026988\n",
      " 86.28334712 86.12761214 86.12761214 86.12761214]\n"
     ]
    }
   ],
   "source": [
    "confidence_metric_beta, pLDDT_beta = beta_calibration(logits_test_temp, labels_test_temp, trussart_pred_logits)\n",
    "print(confidence_metric_beta)\n",
    "print(pLDDT_beta)"
   ]
  },
  {
   "cell_type": "code",
   "execution_count": 33,
   "metadata": {},
   "outputs": [
    {
     "name": "stdout",
     "output_type": "stream",
     "text": [
      "8.724723069496806\n",
      "8.850513113767418\n"
     ]
    }
   ],
   "source": [
    "mse_unscalled, mse_scalled = mse_unscaled_scaled(value, pLLDTs, pLDDT_beta)\n",
    "print(mse_unscalled)\n",
    "print(mse_scalled)"
   ]
  },
  {
   "cell_type": "code",
   "execution_count": 34,
   "metadata": {},
   "outputs": [
    {
     "data": {
      "application/vnd.plotly.v1+json": {
       "config": {
        "plotlyServerURL": "https://plot.ly"
       },
       "data": [
        {
         "line": {
          "color": "darkblue",
          "width": 2
         },
         "marker": {
          "color": [
           86.81059956060199,
           87.29731486769742,
           88.07024150711368,
           88.66156389758542,
           90.02857242060237,
           90.61829364274945,
           91.1290616916267,
           91.34258481608323,
           91.24978898987592,
           91.00063144698561,
           90.49853300781615,
           89.85296212800132,
           89.44804640106851,
           88.72454490240307,
           88.31309121500817,
           88.21048339171102,
           88.73316629725468,
           88.88472349869335,
           89.03689046783713,
           89.46457518727038,
           90.25627172253007,
           90.37342563979837,
           90.82168565715985,
           91.07375680333098,
           91.56926605992383,
           91.80336340496808,
           92.08292488708504,
           91.88396951127335,
           91.91301901864205,
           91.73271924233781,
           91.6561525001954,
           91.67929006508528,
           91.46445503092194,
           91.52706152608448,
           91.44218223743927,
           91.48509137551993,
           91.92136050931072,
           91.82379824083182,
           91.74502781082809,
           91.73204093623373,
           91.70163859781951,
           91.28366113382526,
           91.15127846008545,
           90.64562575491435,
           90.15071738108782,
           89.54801216441412,
           89.23747792620269,
           88.3040599318192,
           88.353699979416,
           88.05061868040502,
           87.16453121545055,
           86.93878547257191,
           86.98960406964034,
           87.54266698253197,
           87.50967626292548,
           87.77587764594502,
           87.45840463200149,
           87.8794733247778,
           87.33871438342612,
           86.99105608918761,
           86.80262617549306,
           86.80262617549306,
           86.80262617549306,
           86.80262617549306,
           86.80262617549306,
           86.80262617549306,
           86.80262617549306,
           86.80262617549306,
           86.80262617549306,
           86.80262617549306,
           86.80262617549306,
           86.80262617549306,
           86.80262617549306,
           86.80262617549306,
           86.80262617549306,
           86.84501788846684,
           87.8512348062286,
           87.6574083843734,
           86.91242101596436,
           86.80262617549306,
           86.80262617549306,
           86.80262617549306,
           86.80262617549306,
           87.32760995543867,
           87.39656649006065,
           87.70278600747223,
           87.77390328853836,
           87.9112981270855,
           87.9412485278799,
           88.00161036193185,
           88.01898557555525,
           88.10291728676386,
           88.08293152327904,
           88.25079624848559,
           88.25437949859362,
           88.27765529879686,
           88.29712839752392,
           88.23646726434345,
           88.19952986867658,
           88.49705984357662,
           88.32490327943286,
           87.90992721648217,
           87.9050288211656,
           87.946929432027,
           87.98039250397231,
           88.08953528000893,
           88.16775871927393,
           88.21544418453414,
           88.22246422556509,
           88.17113405375358,
           88.18949079220558,
           88.13466008832756,
           88.03265358071984,
           88.07395623571527,
           88.02089910345057,
           88.05684069100334,
           88.08419018013957,
           88.09584321709418,
           88.16373984902567,
           88.24457808152737,
           88.56591785248293,
           88.47411384396376,
           88.82241002059709,
           88.87805031997506,
           89.0340745560825,
           89.19400838004776,
           88.85640717120351,
           88.42715238529854,
           88.43304369651925,
           88.1745788699991,
           88.04369541070083,
           88.32132267445012,
           88.66870702307278,
           88.7567062055641,
           88.82890546250655,
           88.44008813025721,
           88.32736532141551,
           88.59692469609583,
           88.85098279037766,
           88.80791756017152,
           88.74213604419403,
           88.69970064000701,
           89.11017410412387,
           89.56057509688982,
           90.08840773932754,
           90.29967825524182,
           90.43717999795354,
           90.56784579130091,
           90.43534362288665,
           90.30001306569102,
           90.16382748254,
           90.05043753623295,
           90.16379384334438,
           90.1481694415238,
           90.33422441442578,
           90.51515161055035,
           90.47063427862555,
           91.05949319769775,
           91.03957606309358,
           91.00352735871867,
           90.72267605537127,
           90.91431667794177,
           90.77663520459784,
           90.81834274627406,
           90.42016899511782,
           90.28310640804014,
           90.29115945047488,
           90.49050645842544,
           90.56439973846136,
           90.80515864327344,
           90.57661338474054,
           90.60782679961267,
           90.31495904479652,
           90.53704696894876,
           90.03010925986564,
           89.3132414727552,
           89.36950830930618,
           88.85649739796281,
           88.7089198273934,
           88.89190184179462,
           88.91194219004318,
           88.52097991836126,
           88.848697192876,
           88.87848721460612,
           89.44208049236295,
           89.59964142404533,
           89.56503347714715,
           89.09104967701205,
           88.42903603108789,
           87.64736111256207,
           87.35892858955776,
           86.95556241835585,
           86.80262617549306,
           86.80262617549306,
           86.80262617549306,
           87.21648075809209,
           87.43848801947752,
           87.79274145900126,
           86.9671507295425,
           86.80262617549306,
           86.80262617549306,
           86.80262617549306
          ],
          "colorscale": [
           [
            0,
            "rgb(150,0,90)"
           ],
           [
            0.125,
            "rgb(0,0,200)"
           ],
           [
            0.25,
            "rgb(0,25,255)"
           ],
           [
            0.375,
            "rgb(0,152,255)"
           ],
           [
            0.5,
            "rgb(44,255,150)"
           ],
           [
            0.625,
            "rgb(151,255,0)"
           ],
           [
            0.75,
            "rgb(255,234,0)"
           ],
           [
            0.875,
            "rgb(255,111,0)"
           ],
           [
            1,
            "rgb(255,0,0)"
           ]
          ],
          "line": {
           "width": 3
          },
          "size": 6
         },
         "opacity": 0.7,
         "scene": "scene",
         "type": "scatter3d",
         "x": [
          -0.18800731987198713,
          -0.13253629001032569,
          -0.03160422797930006,
          0.11218960778754967,
          0.24735584898941862,
          0.3232609820777716,
          0.3662821694870437,
          0.46228054344883895,
          0.3959899560429007,
          0.3598463299627355,
          0.3438050986398444,
          0.258301805998165,
          0.23389434678223428,
          0.20685687060169736,
          0.0428777012032085,
          0.15729959442796443,
          0.2899942169803416,
          0.3355579583354674,
          0.34482312489161837,
          0.3326411455730831,
          0.47911432058651876,
          0.40127125258070234,
          0.3598925561286297,
          0.4159458071780995,
          0.43013248337731785,
          0.6067314228833557,
          0.5151516893602489,
          0.5994041721461981,
          0.6540737589112063,
          0.5980060873792858,
          0.596274317887605,
          0.591961959856167,
          0.5417743036237829,
          0.5826457793148904,
          0.44284533838463486,
          0.4251969144884997,
          0.45678854173458694,
          0.38016865298769226,
          0.28834339066104553,
          0.1944370232255862,
          0.2334259033499225,
          0.015407296957783501,
          -0.0028246316244424268,
          -0.12906803387474294,
          -0.16430647595481934,
          -0.19630512608278947,
          -0.3429918513487796,
          -0.5247492402160776,
          -0.5938913405366776,
          -0.6621283936704744,
          -0.7698324727293226,
          -0.7300355724264234,
          -0.6518387506816425,
          -0.5491698864944553,
          -0.625889262818909,
          -0.6332188362526983,
          -0.7198484536938295,
          -0.6738737347381805,
          -0.7365080538407728,
          -0.744208110482345,
          -0.7269698492453314,
          -0.6408028848748262,
          -0.6303251022451717,
          -0.6964601030497015,
          -0.6241278550454614,
          -0.7522436028055631,
          -0.7329388281572815,
          -0.7213196672427346,
          -0.6512391220143797,
          -0.626794874980605,
          -0.5887079399636933,
          -0.5059555935632108,
          -0.361760043101749,
          -0.25809669333798496,
          -0.18091078723976958,
          -0.16107353995219667,
          -0.15865774334274008,
          -0.27869316533098254,
          -0.4187908512461063,
          -0.5184904698160346,
          -0.43145205276952836,
          -0.45648011232247915,
          -0.38966582849669257,
          -0.2758827106472149,
          -0.3174467776269998,
          -0.17396665551322435,
          -0.24656803593298054,
          -0.07470344886378988,
          -0.039687275259072195,
          0.01762359714650242,
          0.01867787893999889,
          0.08556948364934659,
          0.03774186662082096,
          0.22465700867382293,
          0.2715288021635555,
          0.30153509413459284,
          0.3484974546578345,
          0.4528781301394118,
          0.38299367741948076,
          0.347382481864829,
          0.2586122176092735,
          0.17150584299882063,
          0.08107906505169313,
          0.13966455561617996,
          0.17727001710709386,
          0.3017479194784964,
          0.2791676239990482,
          0.2869950327015314,
          0.20261292887333832,
          0.13726256170512538,
          0.1661996915586091,
          0.06578044345507392,
          -0.06438394598282941,
          0.08499690151406067,
          0.0360535026704093,
          0.11864148016886886,
          0.14098370529674292,
          0.2571790086092386,
          0.38197626809979035,
          0.47129829253231365,
          0.5718622805542982,
          0.5509035670361332,
          0.5685659188652822,
          0.5336344021592553,
          0.4625429559325938,
          0.4292530774381111,
          0.3415859571281995,
          0.2311397357412066,
          0.18883464969339292,
          0.11542052322299326,
          0.08507111873915689,
          0.08112177129572731,
          0.15361435740833113,
          0.17988275889136332,
          0.25714813014705806,
          0.23470702907019061,
          0.2705075634914121,
          0.3563917075756768,
          0.34757055173712237,
          0.27258459118263806,
          0.20050861653859378,
          0.21089646916873828,
          0.21040976398609362,
          0.32268547505716816,
          0.4081865504199571,
          0.41670182101602504,
          0.33332193206257354,
          0.29331892303816975,
          0.17871089355407754,
          0.1148005533646373,
          0.1500815041787069,
          0.20519672977291067,
          0.31596288205948037,
          0.363939644899316,
          0.4485186064589314,
          0.46230024537257314,
          0.5292886316995776,
          0.5946904720490276,
          0.5266396016286479,
          0.45924881158571607,
          0.3776395889143477,
          0.3342322993818012,
          0.20531011578407354,
          0.18783490451883786,
          0.06891554339436794,
          -0.012716794750031608,
          -0.12425762656809242,
          -0.1433808753980093,
          -0.2217801114389449,
          -0.20503121572612418,
          -0.2383053618686742,
          -0.22182236762473187,
          -0.2692663215239405,
          -0.1709172933985552,
          -0.21461318942652183,
          -0.2961797314410867,
          -0.2109909395459936,
          -0.23249232828455155,
          -0.22109727948862823,
          -0.18258779369240072,
          -0.22951196789273898,
          -0.25907799312297014,
          -0.2920719008030545,
          -0.3342098517294125,
          -0.30826246404276614,
          -0.3418872227974993,
          -0.3861408769521922,
          -0.46052053661195563,
          -0.5909461216664951,
          -0.6682382552612119,
          -0.6385757866085038,
          -0.6049747892495423,
          -0.5704328993717599,
          -0.5907400792945741,
          -0.506030263029835,
          -0.4441545363680723,
          -0.40246984695262433,
          -0.38081585264086787,
          -0.44826069827819975,
          -0.435953894518621,
          -0.3773534181032802,
          -0.27854001553376057
         ],
         "y": [
          0.109970005437556,
          0.14003726979769257,
          0.19802410814752788,
          0.2186819080461205,
          0.17678564769085156,
          0.16294061257306167,
          0.06649756845057046,
          -0.04251862995756162,
          -0.10009197976638408,
          -0.17403743006884417,
          -0.1912141792768982,
          -0.15741144043732275,
          -0.17143363883452417,
          -0.1727461315747098,
          -0.2554103874896273,
          -0.174712923521284,
          -0.2717742801997275,
          -0.20418240312873556,
          -0.1960736020398598,
          -0.17074015929280767,
          -0.1863169524446289,
          -0.25762556137660814,
          -0.16033791818231283,
          -0.18992671678037093,
          -0.11753386170032579,
          -0.09038257809456579,
          -0.07707055603748436,
          -0.08201227972264885,
          -0.17739502626435033,
          -0.2734021092248347,
          -0.35946837409821303,
          -0.40349513257037706,
          -0.3218105060820994,
          -0.27829327258655945,
          -0.26434778483389565,
          -0.2544943729996456,
          -0.22834591218567402,
          -0.3502183788724519,
          -0.45721252478575786,
          -0.46141830377527177,
          -0.6299973270695962,
          -0.6547809858007402,
          -0.5597296030353724,
          -0.4908672041824981,
          -0.3809999066223725,
          -0.27737537098385573,
          -0.29462898498692425,
          -0.21004114957239473,
          -0.31615470552325364,
          -0.36691397973259343,
          -0.3330431460632367,
          -0.3270136350764216,
          -0.2867650148973541,
          -0.3284723365533916,
          -0.37119467463544786,
          -0.45776188276651447,
          -0.5117552164580393,
          -0.5761347205267446,
          -0.5948595504516316,
          -0.5718925905324669,
          -0.4954043224186018,
          -0.4951806407251177,
          -0.35149250508280444,
          -0.358538391976574,
          -0.4177289841607107,
          -0.28978342875309926,
          -0.18878303204814317,
          -0.12735921649422233,
          -0.10363657798316707,
          -0.12698792022770533,
          -0.16018393017425905,
          -0.02008371270436095,
          -0.08085206228527685,
          -0.11412238614524217,
          -0.15300421994631064,
          -0.22784806117951345,
          -0.31532094412937295,
          -0.43377567646324366,
          -0.4312770799094655,
          -0.37738555697815596,
          -0.41765645801440193,
          -0.32025967947461365,
          -0.2649332198154611,
          -0.2769629580176526,
          -0.2184577571455956,
          -0.19432293424785316,
          -0.20320966507734947,
          -0.16982954781649054,
          -0.14257375464369992,
          -0.12111548776790618,
          -0.16065200307592917,
          -0.20907054045081724,
          -0.25749262281699253,
          -0.2895558084448063,
          -0.3626258606247246,
          -0.35280571143069545,
          -0.3442656126772842,
          -0.2042218944520997,
          -0.13675661390940202,
          -0.005159884514212966,
          0.01635875387743604,
          -0.03536625130663295,
          -0.09782528852791546,
          -0.14693855478722115,
          -0.18893882458779873,
          -0.28794823303481487,
          -0.33375328214459293,
          -0.4089642532572013,
          -0.39575282664893385,
          -0.3844340484229702,
          -0.40813208740469553,
          -0.35030682548224884,
          -0.2920492375739439,
          -0.24648827994930625,
          -0.24921579049826365,
          -0.21331736416215574,
          -0.2523739083587328,
          -0.20709611397539085,
          -0.20921417394443995,
          -0.2215233240625477,
          -0.2681000388859251,
          -0.24507223652316198,
          -0.13650994609217598,
          -0.13728412298210813,
          -0.03164559875569438,
          0.028230789019766896,
          0.057557294809927356,
          0.06660176944697116,
          0.1009746138644854,
          0.1006232883759213,
          0.09886896512226098,
          0.16268915776120202,
          0.18544689880914536,
          0.1880715581853478,
          0.15148057873193915,
          0.06600732121717645,
          0.007708447623681538,
          0.01848978522677444,
          0.09548806407161198,
          0.13407768295161687,
          0.1690793044087214,
          0.14898705674669455,
          0.2484048997172755,
          0.28200350740609165,
          0.3663309024848336,
          0.41934582207471527,
          0.4953709974156765,
          0.5547638837168526,
          0.5826987852220548,
          0.5825227431223701,
          0.5389017446291432,
          0.48679484987191923,
          0.46215529627669366,
          0.4373789425657322,
          0.43818443559106307,
          0.4885054983776285,
          0.42662916211869056,
          0.42267593051156827,
          0.4258145226718348,
          0.4869371126221542,
          0.518448807099429,
          0.5109998825332579,
          0.5687926172551944,
          0.5789481986853405,
          0.58722273328379,
          0.5965884673342935,
          0.657920488138428,
          0.7209389384785508,
          0.7846145543138018,
          0.8593378734566088,
          0.7984477001749979,
          0.8087339442646587,
          0.7640116641897952,
          0.7685429830992172,
          0.6730137280017847,
          0.5630027838653552,
          0.5309069568509063,
          0.4544761581629002,
          0.4226123826325973,
          0.4255169666883046,
          0.44010728784504,
          0.37947774664323974,
          0.4504820748817934,
          0.4710317741511751,
          0.5623007382217201,
          0.5987114251495538,
          0.6121902173378202,
          0.5583325159668797,
          0.5107940842932973,
          0.4275996923167045,
          0.36149822693236633,
          0.2959015663846511,
          0.20872173357586235,
          0.17749929127098224,
          0.20913208119696725,
          0.28047283324740546,
          0.2915750287646697,
          0.3442756742337462,
          0.27430007968252973,
          0.1898128272786831,
          0.13818849828268046,
          0.09218650275851364
         ],
         "z": [
          0.009061989320552714,
          0.049502567547578175,
          0.0663970566281516,
          0.047362116207251094,
          0.16877988641572628,
          0.21928063834258119,
          0.33458415810735903,
          0.33070560381519615,
          0.38394396244713214,
          0.3816843060394097,
          0.29250079096363857,
          0.2463450047711818,
          0.19938454526671967,
          0.032195935465083654,
          0.05810368217745923,
          -0.06166370414462609,
          -0.15096142845324717,
          -0.09664546772011563,
          -0.05169587108644535,
          0.06340200846525927,
          0.07898113949055059,
          0.22301949871476892,
          0.33714010793145593,
          0.3495598935312719,
          0.4394300283131842,
          0.3603138316013661,
          0.5137921821395262,
          0.38965747592187006,
          0.38395126693813,
          0.3933078775583969,
          0.3947156331716219,
          0.4156070975339124,
          0.3751646661740412,
          0.34715169400531537,
          0.43541746219036054,
          0.4577873989337885,
          0.5472216991901984,
          0.6035666378637733,
          0.5824644304446106,
          0.6530037232530798,
          0.5009663754532494,
          0.531765597522786,
          0.5694844524316436,
          0.5807948284304636,
          0.5593689155997698,
          0.5169100354710217,
          0.5609711685610764,
          0.5784827774006318,
          0.5765838979228343,
          0.5417358337122871,
          0.48736465878126745,
          0.41715470604555654,
          0.3877323215114187,
          0.377396400166033,
          0.4070889682463432,
          0.4068003516266631,
          0.38424318399838314,
          0.38326778580148757,
          0.3220217454031417,
          0.2796151256966656,
          0.188864688831239,
          0.17436281753322289,
          0.2457515543221257,
          0.2910575643216701,
          0.24013899860317955,
          0.2972837507021593,
          0.23373989930361203,
          0.24185759517059413,
          0.1395380170417496,
          0.13823069619764494,
          0.04271553417732888,
          0.08722213656388136,
          -0.06504333918223879,
          -0.06527634130523084,
          -0.0435016476414432,
          -0.006681185418503781,
          0.1204043838070431,
          0.10656388890547147,
          0.08704452418540332,
          0.10394342492585978,
          -0.09943935766905466,
          -0.07996822369513093,
          -0.1806748685313806,
          -0.3588461201015966,
          -0.45523219981010743,
          -0.5376797932782426,
          -0.6617344263124805,
          -0.6550549488918931,
          -0.6674533624682384,
          -0.6971074457144876,
          -0.703987597828142,
          -0.7433796836418531,
          -0.7393128516544372,
          -0.8357314950301032,
          -0.7722040760905007,
          -0.7930338118995927,
          -0.7916596467712956,
          -0.6323536292337558,
          -0.6553809933958269,
          -0.4795201111834248,
          -0.4483977058104278,
          -0.47868027724955187,
          -0.5326020314629679,
          -0.5084035183663185,
          -0.49882913038225285,
          -0.49617441007635454,
          -0.6224471272239207,
          -0.6693198164424606,
          -0.7640758875466132,
          -0.7388686756676025,
          -0.734675357120412,
          -0.7576746361095693,
          -0.7490461358629146,
          -0.6871659159154051,
          -0.6574967801896975,
          -0.6444906166014914,
          -0.6486271980351553,
          -0.5765524726919873,
          -0.5683908635501247,
          -0.5121425219731334,
          -0.5352290292937165,
          -0.5307632325343165,
          -0.48470354426514284,
          -0.41191012240986746,
          -0.30496143589133395,
          -0.23590228630374152,
          -0.2111688730971147,
          -0.22062962717556964,
          -0.2808548564334221,
          -0.29444616093128984,
          -0.2729888032149716,
          -0.29988274832025696,
          -0.3454803303703526,
          -0.38619882535354116,
          -0.43777714232937787,
          -0.5169898475863579,
          -0.6008395428953424,
          -0.5584975785181114,
          -0.5075952354917224,
          -0.42646941759540236,
          -0.39326097913465025,
          -0.32686749983033325,
          -0.24786228384183936,
          -0.1875654837989542,
          -0.12005925702961774,
          -0.09241932800887946,
          -0.025128551576042654,
          -0.01762219323592389,
          -0.022008270787958993,
          -0.016187931722060286,
          -0.09789009875241056,
          -0.1797045847323399,
          -0.24069075657192007,
          -0.28914042568765363,
          -0.23724917308798427,
          -0.22932021987716933,
          -0.17615089841618714,
          -0.043478651307687986,
          0.019645374269049144,
          0.056364177733204984,
          0.05094456558023496,
          0.1593201801882824,
          0.2576983121833853,
          0.28784184473827873,
          0.3210947466225819,
          0.3304733294278342,
          0.3690786933345994,
          0.3859708528865134,
          0.4075595402863598,
          0.33729565072966433,
          0.4039985454534795,
          0.337463891748045,
          0.2787732218002397,
          0.27404501196861997,
          0.19326009205886405,
          0.17674323155112628,
          0.1382814071862203,
          0.06249757695309575,
          0.0491673100883359,
          0.10154809185875961,
          0.20465812339041234,
          0.24402087282297832,
          0.293413128556731,
          0.3536629055302693,
          0.39030318818337084,
          0.49666740346339133,
          0.5270150148749184,
          0.5244220734451105,
          0.5354895799521583,
          0.5391374089710065,
          0.5705841150263135,
          0.4951455360643954,
          0.4100305874256269,
          0.374241719995177,
          0.3082988131119212,
          0.23822863400784505,
          0.2208194588415394,
          0.15302021475465838,
          0.07179278420776306,
          0.005599176600828326,
          -0.007635939773503644,
          -0.039753141606454497
         ]
        }
       ],
       "layout": {
        "height": 1000,
        "scene": {
         "domain": {
          "x": [
           0,
           1
          ],
          "y": [
           0,
           1
          ]
         }
        },
        "template": {
         "data": {
          "bar": [
           {
            "error_x": {
             "color": "#2a3f5f"
            },
            "error_y": {
             "color": "#2a3f5f"
            },
            "marker": {
             "line": {
              "color": "#E5ECF6",
              "width": 0.5
             }
            },
            "type": "bar"
           }
          ],
          "barpolar": [
           {
            "marker": {
             "line": {
              "color": "#E5ECF6",
              "width": 0.5
             }
            },
            "type": "barpolar"
           }
          ],
          "carpet": [
           {
            "aaxis": {
             "endlinecolor": "#2a3f5f",
             "gridcolor": "white",
             "linecolor": "white",
             "minorgridcolor": "white",
             "startlinecolor": "#2a3f5f"
            },
            "baxis": {
             "endlinecolor": "#2a3f5f",
             "gridcolor": "white",
             "linecolor": "white",
             "minorgridcolor": "white",
             "startlinecolor": "#2a3f5f"
            },
            "type": "carpet"
           }
          ],
          "choropleth": [
           {
            "colorbar": {
             "outlinewidth": 0,
             "ticks": ""
            },
            "type": "choropleth"
           }
          ],
          "contour": [
           {
            "colorbar": {
             "outlinewidth": 0,
             "ticks": ""
            },
            "colorscale": [
             [
              0,
              "#0d0887"
             ],
             [
              0.1111111111111111,
              "#46039f"
             ],
             [
              0.2222222222222222,
              "#7201a8"
             ],
             [
              0.3333333333333333,
              "#9c179e"
             ],
             [
              0.4444444444444444,
              "#bd3786"
             ],
             [
              0.5555555555555556,
              "#d8576b"
             ],
             [
              0.6666666666666666,
              "#ed7953"
             ],
             [
              0.7777777777777778,
              "#fb9f3a"
             ],
             [
              0.8888888888888888,
              "#fdca26"
             ],
             [
              1,
              "#f0f921"
             ]
            ],
            "type": "contour"
           }
          ],
          "contourcarpet": [
           {
            "colorbar": {
             "outlinewidth": 0,
             "ticks": ""
            },
            "type": "contourcarpet"
           }
          ],
          "heatmap": [
           {
            "colorbar": {
             "outlinewidth": 0,
             "ticks": ""
            },
            "colorscale": [
             [
              0,
              "#0d0887"
             ],
             [
              0.1111111111111111,
              "#46039f"
             ],
             [
              0.2222222222222222,
              "#7201a8"
             ],
             [
              0.3333333333333333,
              "#9c179e"
             ],
             [
              0.4444444444444444,
              "#bd3786"
             ],
             [
              0.5555555555555556,
              "#d8576b"
             ],
             [
              0.6666666666666666,
              "#ed7953"
             ],
             [
              0.7777777777777778,
              "#fb9f3a"
             ],
             [
              0.8888888888888888,
              "#fdca26"
             ],
             [
              1,
              "#f0f921"
             ]
            ],
            "type": "heatmap"
           }
          ],
          "heatmapgl": [
           {
            "colorbar": {
             "outlinewidth": 0,
             "ticks": ""
            },
            "colorscale": [
             [
              0,
              "#0d0887"
             ],
             [
              0.1111111111111111,
              "#46039f"
             ],
             [
              0.2222222222222222,
              "#7201a8"
             ],
             [
              0.3333333333333333,
              "#9c179e"
             ],
             [
              0.4444444444444444,
              "#bd3786"
             ],
             [
              0.5555555555555556,
              "#d8576b"
             ],
             [
              0.6666666666666666,
              "#ed7953"
             ],
             [
              0.7777777777777778,
              "#fb9f3a"
             ],
             [
              0.8888888888888888,
              "#fdca26"
             ],
             [
              1,
              "#f0f921"
             ]
            ],
            "type": "heatmapgl"
           }
          ],
          "histogram": [
           {
            "marker": {
             "colorbar": {
              "outlinewidth": 0,
              "ticks": ""
             }
            },
            "type": "histogram"
           }
          ],
          "histogram2d": [
           {
            "colorbar": {
             "outlinewidth": 0,
             "ticks": ""
            },
            "colorscale": [
             [
              0,
              "#0d0887"
             ],
             [
              0.1111111111111111,
              "#46039f"
             ],
             [
              0.2222222222222222,
              "#7201a8"
             ],
             [
              0.3333333333333333,
              "#9c179e"
             ],
             [
              0.4444444444444444,
              "#bd3786"
             ],
             [
              0.5555555555555556,
              "#d8576b"
             ],
             [
              0.6666666666666666,
              "#ed7953"
             ],
             [
              0.7777777777777778,
              "#fb9f3a"
             ],
             [
              0.8888888888888888,
              "#fdca26"
             ],
             [
              1,
              "#f0f921"
             ]
            ],
            "type": "histogram2d"
           }
          ],
          "histogram2dcontour": [
           {
            "colorbar": {
             "outlinewidth": 0,
             "ticks": ""
            },
            "colorscale": [
             [
              0,
              "#0d0887"
             ],
             [
              0.1111111111111111,
              "#46039f"
             ],
             [
              0.2222222222222222,
              "#7201a8"
             ],
             [
              0.3333333333333333,
              "#9c179e"
             ],
             [
              0.4444444444444444,
              "#bd3786"
             ],
             [
              0.5555555555555556,
              "#d8576b"
             ],
             [
              0.6666666666666666,
              "#ed7953"
             ],
             [
              0.7777777777777778,
              "#fb9f3a"
             ],
             [
              0.8888888888888888,
              "#fdca26"
             ],
             [
              1,
              "#f0f921"
             ]
            ],
            "type": "histogram2dcontour"
           }
          ],
          "mesh3d": [
           {
            "colorbar": {
             "outlinewidth": 0,
             "ticks": ""
            },
            "type": "mesh3d"
           }
          ],
          "parcoords": [
           {
            "line": {
             "colorbar": {
              "outlinewidth": 0,
              "ticks": ""
             }
            },
            "type": "parcoords"
           }
          ],
          "pie": [
           {
            "automargin": true,
            "type": "pie"
           }
          ],
          "scatter": [
           {
            "marker": {
             "colorbar": {
              "outlinewidth": 0,
              "ticks": ""
             }
            },
            "type": "scatter"
           }
          ],
          "scatter3d": [
           {
            "line": {
             "colorbar": {
              "outlinewidth": 0,
              "ticks": ""
             }
            },
            "marker": {
             "colorbar": {
              "outlinewidth": 0,
              "ticks": ""
             }
            },
            "type": "scatter3d"
           }
          ],
          "scattercarpet": [
           {
            "marker": {
             "colorbar": {
              "outlinewidth": 0,
              "ticks": ""
             }
            },
            "type": "scattercarpet"
           }
          ],
          "scattergeo": [
           {
            "marker": {
             "colorbar": {
              "outlinewidth": 0,
              "ticks": ""
             }
            },
            "type": "scattergeo"
           }
          ],
          "scattergl": [
           {
            "marker": {
             "colorbar": {
              "outlinewidth": 0,
              "ticks": ""
             }
            },
            "type": "scattergl"
           }
          ],
          "scattermapbox": [
           {
            "marker": {
             "colorbar": {
              "outlinewidth": 0,
              "ticks": ""
             }
            },
            "type": "scattermapbox"
           }
          ],
          "scatterpolar": [
           {
            "marker": {
             "colorbar": {
              "outlinewidth": 0,
              "ticks": ""
             }
            },
            "type": "scatterpolar"
           }
          ],
          "scatterpolargl": [
           {
            "marker": {
             "colorbar": {
              "outlinewidth": 0,
              "ticks": ""
             }
            },
            "type": "scatterpolargl"
           }
          ],
          "scatterternary": [
           {
            "marker": {
             "colorbar": {
              "outlinewidth": 0,
              "ticks": ""
             }
            },
            "type": "scatterternary"
           }
          ],
          "surface": [
           {
            "colorbar": {
             "outlinewidth": 0,
             "ticks": ""
            },
            "colorscale": [
             [
              0,
              "#0d0887"
             ],
             [
              0.1111111111111111,
              "#46039f"
             ],
             [
              0.2222222222222222,
              "#7201a8"
             ],
             [
              0.3333333333333333,
              "#9c179e"
             ],
             [
              0.4444444444444444,
              "#bd3786"
             ],
             [
              0.5555555555555556,
              "#d8576b"
             ],
             [
              0.6666666666666666,
              "#ed7953"
             ],
             [
              0.7777777777777778,
              "#fb9f3a"
             ],
             [
              0.8888888888888888,
              "#fdca26"
             ],
             [
              1,
              "#f0f921"
             ]
            ],
            "type": "surface"
           }
          ],
          "table": [
           {
            "cells": {
             "fill": {
              "color": "#EBF0F8"
             },
             "line": {
              "color": "white"
             }
            },
            "header": {
             "fill": {
              "color": "#C8D4E3"
             },
             "line": {
              "color": "white"
             }
            },
            "type": "table"
           }
          ]
         },
         "layout": {
          "annotationdefaults": {
           "arrowcolor": "#2a3f5f",
           "arrowhead": 0,
           "arrowwidth": 1
          },
          "autotypenumbers": "strict",
          "coloraxis": {
           "colorbar": {
            "outlinewidth": 0,
            "ticks": ""
           }
          },
          "colorscale": {
           "diverging": [
            [
             0,
             "#8e0152"
            ],
            [
             0.1,
             "#c51b7d"
            ],
            [
             0.2,
             "#de77ae"
            ],
            [
             0.3,
             "#f1b6da"
            ],
            [
             0.4,
             "#fde0ef"
            ],
            [
             0.5,
             "#f7f7f7"
            ],
            [
             0.6,
             "#e6f5d0"
            ],
            [
             0.7,
             "#b8e186"
            ],
            [
             0.8,
             "#7fbc41"
            ],
            [
             0.9,
             "#4d9221"
            ],
            [
             1,
             "#276419"
            ]
           ],
           "sequential": [
            [
             0,
             "#0d0887"
            ],
            [
             0.1111111111111111,
             "#46039f"
            ],
            [
             0.2222222222222222,
             "#7201a8"
            ],
            [
             0.3333333333333333,
             "#9c179e"
            ],
            [
             0.4444444444444444,
             "#bd3786"
            ],
            [
             0.5555555555555556,
             "#d8576b"
            ],
            [
             0.6666666666666666,
             "#ed7953"
            ],
            [
             0.7777777777777778,
             "#fb9f3a"
            ],
            [
             0.8888888888888888,
             "#fdca26"
            ],
            [
             1,
             "#f0f921"
            ]
           ],
           "sequentialminus": [
            [
             0,
             "#0d0887"
            ],
            [
             0.1111111111111111,
             "#46039f"
            ],
            [
             0.2222222222222222,
             "#7201a8"
            ],
            [
             0.3333333333333333,
             "#9c179e"
            ],
            [
             0.4444444444444444,
             "#bd3786"
            ],
            [
             0.5555555555555556,
             "#d8576b"
            ],
            [
             0.6666666666666666,
             "#ed7953"
            ],
            [
             0.7777777777777778,
             "#fb9f3a"
            ],
            [
             0.8888888888888888,
             "#fdca26"
            ],
            [
             1,
             "#f0f921"
            ]
           ]
          },
          "colorway": [
           "#636efa",
           "#EF553B",
           "#00cc96",
           "#ab63fa",
           "#FFA15A",
           "#19d3f3",
           "#FF6692",
           "#B6E880",
           "#FF97FF",
           "#FECB52"
          ],
          "font": {
           "color": "#2a3f5f"
          },
          "geo": {
           "bgcolor": "white",
           "lakecolor": "white",
           "landcolor": "#E5ECF6",
           "showlakes": true,
           "showland": true,
           "subunitcolor": "white"
          },
          "hoverlabel": {
           "align": "left"
          },
          "hovermode": "closest",
          "mapbox": {
           "style": "light"
          },
          "paper_bgcolor": "white",
          "plot_bgcolor": "#E5ECF6",
          "polar": {
           "angularaxis": {
            "gridcolor": "white",
            "linecolor": "white",
            "ticks": ""
           },
           "bgcolor": "#E5ECF6",
           "radialaxis": {
            "gridcolor": "white",
            "linecolor": "white",
            "ticks": ""
           }
          },
          "scene": {
           "xaxis": {
            "backgroundcolor": "#E5ECF6",
            "gridcolor": "white",
            "gridwidth": 2,
            "linecolor": "white",
            "showbackground": true,
            "ticks": "",
            "zerolinecolor": "white"
           },
           "yaxis": {
            "backgroundcolor": "#E5ECF6",
            "gridcolor": "white",
            "gridwidth": 2,
            "linecolor": "white",
            "showbackground": true,
            "ticks": "",
            "zerolinecolor": "white"
           },
           "zaxis": {
            "backgroundcolor": "#E5ECF6",
            "gridcolor": "white",
            "gridwidth": 2,
            "linecolor": "white",
            "showbackground": true,
            "ticks": "",
            "zerolinecolor": "white"
           }
          },
          "shapedefaults": {
           "line": {
            "color": "#2a3f5f"
           }
          },
          "ternary": {
           "aaxis": {
            "gridcolor": "white",
            "linecolor": "white",
            "ticks": ""
           },
           "baxis": {
            "gridcolor": "white",
            "linecolor": "white",
            "ticks": ""
           },
           "bgcolor": "#E5ECF6",
           "caxis": {
            "gridcolor": "white",
            "linecolor": "white",
            "ticks": ""
           }
          },
          "title": {
           "x": 0.05
          },
          "xaxis": {
           "automargin": true,
           "gridcolor": "white",
           "linecolor": "white",
           "ticks": "",
           "title": {
            "standoff": 15
           },
           "zerolinecolor": "white",
           "zerolinewidth": 2
          },
          "yaxis": {
           "automargin": true,
           "gridcolor": "white",
           "linecolor": "white",
           "ticks": "",
           "title": {
            "standoff": 15
           },
           "zerolinecolor": "white",
           "zerolinewidth": 2
          }
         }
        },
        "width": 1000
       }
      }
     },
     "metadata": {},
     "output_type": "display_data"
    }
   ],
   "source": [
    "color = 'rainbow'\n",
    "plot_pred_conf(trussart_pred_structure_superposed, plddt_scaled, color)"
   ]
  },
  {
   "cell_type": "code",
   "execution_count": 35,
   "metadata": {},
   "outputs": [
    {
     "data": {
      "image/png": "[encoded data removed]",
      "text/plain": [
       "<Figure size 640x480 with 1 Axes>"
      ]
     },
     "metadata": {},
     "output_type": "display_data"
    },
    {
     "name": "stdout",
     "output_type": "stream",
     "text": [
      "mean: 0.06422309253649768\n",
      "median: 0.05371385081679371\n",
      "variance: 0.001814960453165598\n"
     ]
    }
   ],
   "source": [
    "plot_hist_kabsch_distances(test_size, test_true_structures, test_pred_structures, EMBEDDING_SIZE)"
   ]
  },
  {
   "cell_type": "code",
   "execution_count": 36,
   "metadata": {},
   "outputs": [],
   "source": [
    "RESULTS_ROOT = '../../saved_results/synthetic_biological_trussart_testing/linear/'\n",
    "LAMBDA_CONFIGURATION = str(LAMBDA_BIO) + '_' + str(LAMBDA_KABSCH)"
   ]
  },
  {
   "cell_type": "code",
   "execution_count": 37,
   "metadata": {},
   "outputs": [],
   "source": [
    "np.savetxt(RESULTS_ROOT + 'synthetic_biological_trussart_testing_linear_losses_' + LAMBDA_CONFIGURATION + '.txt', losses)\n",
    "\n",
    "np.savetxt(RESULTS_ROOT + 'synthetic_biological_trussart_testing_linear_train_biological_losses_all_epochs_' +\n",
    "               LAMBDA_CONFIGURATION + '.txt', train_biological_losses_all_epochs)\n",
    "np.savetxt(RESULTS_ROOT + 'synthetic_biological_trussart_testing_linear_test_biological_losses_all_epochs_' +\n",
    "               LAMBDA_CONFIGURATION + '.txt', test_biological_losses_all_epochs)\n",
    "\n",
    "np.savetxt(RESULTS_ROOT + 'synthetic_biological_trussart_testing_linear_train_kabsch_losses_all_epochs_' + \n",
    "           LAMBDA_CONFIGURATION + '.txt', train_kabsch_losses_all_epochs)\n",
    "np.savetxt(RESULTS_ROOT + 'synthetic_biological_trussart_testing_linear_test_kabsch_losses_all_epochs_' + \n",
    "           LAMBDA_CONFIGURATION + '.txt', test_kabsch_losses_all_epochs)\n",
    "\n",
    "np.savetxt(RESULTS_ROOT + 'synthetic_biological_trussart_testing_linear_train_distance_losses_all_epochs_' +\n",
    "           LAMBDA_CONFIGURATION + '.txt', train_distance_losses_all_epochs)\n",
    "np.savetxt(RESULTS_ROOT + 'synthetic_biological_trussart_testing_linear_test_distance_losses_all_epochs_' + \n",
    "           LAMBDA_CONFIGURATION + '.txt', test_distance_losses_all_epochs)\n",
    "\n",
    "np.savetxt(RESULTS_ROOT + 'synthetic_biological_trussart_testing_linear_trussart_test_kabsch_losses_all_epochs_' +\n",
    "               LAMBDA_CONFIGURATION + '.txt', trussart_test_kabsch_losses_all_epochs)"
   ]
  },
  {
   "cell_type": "code",
   "execution_count": 38,
   "metadata": {},
   "outputs": [],
   "source": [
    "torch.save(model, \n",
    "           '../../saved_models/synthetic_biological_trussart_testing/linear/synthetic_biological_trussart_uniform_linear_model_' + \n",
    "           LAMBDA_CONFIGURATION + '.pt')"
   ]
  }
 ],
 "metadata": {
  "kernelspec": {
   "display_name": "Python 3.8.9 ('3dChromenv': venv)",
   "language": "python",
   "name": "python3"
  },
  "language_info": {
   "codemirror_mode": {
    "name": "ipython",
    "version": 3
   },
   "file_extension": ".py",
   "mimetype": "text/x-python",
   "name": "python",
   "nbconvert_exporter": "python",
   "pygments_lexer": "ipython3",
   "version": "3.8.9"
  },
  "orig_nbformat": 4,
  "vscode": {
   "interpreter": {
    "hash": "8e29b1289806ba3b1e0a7887101d89831cef42814f60b4617646c178e24bc9ec"
   }
  }
 },
 "nbformat": 4,
 "nbformat_minor": 2
}
